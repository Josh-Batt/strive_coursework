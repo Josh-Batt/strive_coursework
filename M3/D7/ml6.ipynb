{
 "cells": [
  {
   "cell_type": "markdown",
   "metadata": {
    "deletable": false,
    "editable": false,
    "nbgrader": {
     "cell_type": "markdown",
     "checksum": "70252ed6fe63c3715f63b20b1a1fde3a",
     "grade": false,
     "grade_id": "cell-be4bf6599055a68b",
     "locked": true,
     "schema_version": 3,
     "solution": false,
     "task": false
    }
   },
   "source": [
    "# for Preprocessing NLP Data\n",
    "- removing non alphabatic characters\n",
    "- lowering the format\n",
    "- tokeninzation\n",
    "- remove stop words\n",
    "- steming / lemitization\n",
    "- spell correction\n"
   ]
  },
  {
   "cell_type": "code",
   "execution_count": null,
   "metadata": {},
   "outputs": [],
   "source": [
    "from nltk.tokenize import word_tokenize \n",
    "from nltk.corpus import stopwords\n",
    "from nltk.stem import PorterStemmer\n",
    "import nltk\n",
    "stemmer=PorterStemmer()\n",
    "\n",
    "from wordcloud import WordCloud\n",
    "\n",
    "import pandas as pd\n",
    "import matplotlib.pyplot as plt\n",
    "import numpy as np\n",
    "\n",
    "from autocorrect import Speller\n",
    "spell=Speller()\n",
    "from tqdm import tqdm\n",
    "import re\n"
   ]
  },
  {
   "cell_type": "code",
   "execution_count": null,
   "metadata": {
    "deletable": false,
    "nbgrader": {
     "cell_type": "code",
     "checksum": "5c54b62a82f7920b7730aa0abd626d91",
     "grade": false,
     "grade_id": "cell-331962f1b50a615b",
     "locked": false,
     "schema_version": 3,
     "solution": true,
     "task": false
    }
   },
   "outputs": [],
   "source": [
    "# 1 point\n",
    "# load the data from spam.csv\n",
    "data = 0\n",
    "# YOUR CODE HERE\n",
    "raise NotImplementedError()"
   ]
  },
  {
   "cell_type": "code",
   "execution_count": null,
   "metadata": {
    "deletable": false,
    "editable": false,
    "nbgrader": {
     "cell_type": "code",
     "checksum": "c435f947da4e52f4adc2caf6e2444c30",
     "grade": true,
     "grade_id": "cell-c04c4903d286f150",
     "locked": true,
     "points": 1,
     "schema_version": 3,
     "solution": false,
     "task": false
    }
   },
   "outputs": [],
   "source": [
    "assert data.shape == (5572,5)"
   ]
  },
  {
   "cell_type": "code",
   "execution_count": null,
   "metadata": {},
   "outputs": [],
   "source": [
    "data.head()"
   ]
  },
  {
   "cell_type": "code",
   "execution_count": null,
   "metadata": {
    "deletable": false,
    "nbgrader": {
     "cell_type": "code",
     "checksum": "90e1158363a5b12569870073670cabd1",
     "grade": false,
     "grade_id": "cell-f632d08142367603",
     "locked": false,
     "schema_version": 3,
     "solution": true,
     "task": false
    }
   },
   "outputs": [],
   "source": [
    "# 1 point\n",
    "# drop the columns unnamed 2,3,4\n",
    "\n",
    "# YOUR CODE HERE\n",
    "raise NotImplementedError()"
   ]
  },
  {
   "cell_type": "code",
   "execution_count": null,
   "metadata": {
    "deletable": false,
    "editable": false,
    "nbgrader": {
     "cell_type": "code",
     "checksum": "b0fe0684233b3ba85ec269c46183ca66",
     "grade": true,
     "grade_id": "cell-9a447414f829860c",
     "locked": true,
     "points": 1,
     "schema_version": 3,
     "solution": false,
     "task": false
    }
   },
   "outputs": [],
   "source": [
    "assert data.shape == (5572,2)"
   ]
  },
  {
   "cell_type": "code",
   "execution_count": null,
   "metadata": {},
   "outputs": [],
   "source": [
    "data.head()"
   ]
  },
  {
   "cell_type": "code",
   "execution_count": null,
   "metadata": {
    "deletable": false,
    "nbgrader": {
     "cell_type": "code",
     "checksum": "7e85b591290b125a1865198341daafb6",
     "grade": false,
     "grade_id": "cell-cf617156831b7c5d",
     "locked": false,
     "schema_version": 3,
     "solution": true,
     "task": false
    }
   },
   "outputs": [],
   "source": [
    "# 1 POINT\n",
    "# rename the columns to labels and messages\n",
    "# YOUR CODE HERE\n",
    "raise NotImplementedError()"
   ]
  },
  {
   "cell_type": "code",
   "execution_count": null,
   "metadata": {
    "deletable": false,
    "editable": false,
    "nbgrader": {
     "cell_type": "code",
     "checksum": "aa1f50ec145c79bc2399ec5139820adf",
     "grade": true,
     "grade_id": "cell-38fc37d207bd59d8",
     "locked": true,
     "points": 1,
     "schema_version": 3,
     "solution": false,
     "task": false
    }
   },
   "outputs": [],
   "source": [
    "assert data['labels'].shape == (5572,)\n",
    "assert data['messages'].shape == (5572,)"
   ]
  },
  {
   "cell_type": "code",
   "execution_count": null,
   "metadata": {},
   "outputs": [],
   "source": [
    "data.head()"
   ]
  },
  {
   "cell_type": "markdown",
   "metadata": {
    "deletable": false,
    "editable": false,
    "nbgrader": {
     "cell_type": "markdown",
     "checksum": "e125779ec33a234ddb159395521556d8",
     "grade": false,
     "grade_id": "cell-e1eeea107f3ba738",
     "locked": true,
     "schema_version": 3,
     "solution": false,
     "task": false
    }
   },
   "source": [
    "# Lets Visualize the Spam words"
   ]
  },
  {
   "cell_type": "code",
   "execution_count": null,
   "metadata": {},
   "outputs": [],
   "source": [
    "spam_words= ' '.join(list(data[data['labels']=='spam']['messages']))\n",
    "spam_wc= WordCloud(width=500,height=500).generate(spam_words)\n",
    "plt.figure(figsize=(10,8))\n",
    "plt.imshow(spam_wc)\n",
    "plt.show()"
   ]
  },
  {
   "cell_type": "markdown",
   "metadata": {
    "deletable": false,
    "editable": false,
    "nbgrader": {
     "cell_type": "markdown",
     "checksum": "5ce17fdb8209ad943cc32f4c0be55ab9",
     "grade": false,
     "grade_id": "cell-f0757760cce8b6f6",
     "locked": true,
     "schema_version": 3,
     "solution": false,
     "task": false
    }
   },
   "source": [
    "# Lets Visualize the Ham words"
   ]
  },
  {
   "cell_type": "code",
   "execution_count": null,
   "metadata": {},
   "outputs": [],
   "source": [
    "spam_words= ' '.join(list(data[data['labels']=='ham']['messages']))\n",
    "spam_wc= WordCloud(width=500,height=500).generate(spam_words)\n",
    "plt.figure(figsize=(10,8))\n",
    "plt.imshow(spam_wc)\n",
    "plt.show()"
   ]
  },
  {
   "cell_type": "markdown",
   "metadata": {},
   "source": [
    "# Preprocessing the Data"
   ]
  },
  {
   "cell_type": "code",
   "execution_count": null,
   "metadata": {
    "deletable": false,
    "nbgrader": {
     "cell_type": "code",
     "checksum": "d7f5c07da34d00f1bf646bc8a4f7eae1",
     "grade": false,
     "grade_id": "cell-79b3250b45413841",
     "locked": false,
     "schema_version": 3,
     "solution": true,
     "task": false
    }
   },
   "outputs": [],
   "source": [
    "# 2 points \n",
    "# change the labels to 1 or 0 instead of 'spam' and 'ham'\n",
    "# Encoding our Labels\n",
    "\n",
    "# YOUR CODE HERE\n",
    "raise NotImplementedError()"
   ]
  },
  {
   "cell_type": "code",
   "execution_count": null,
   "metadata": {
    "deletable": false,
    "editable": false,
    "nbgrader": {
     "cell_type": "code",
     "checksum": "a93aed32a96dbecf92bf47132d896157",
     "grade": true,
     "grade_id": "cell-d6790d60a9b557e0",
     "locked": true,
     "points": 2,
     "schema_version": 3,
     "solution": false,
     "task": false
    }
   },
   "outputs": [],
   "source": [
    "assert data['labels'][0] == 0\n",
    "assert data['labels'][1] == 0\n",
    "assert data['labels'][2] == 1"
   ]
  },
  {
   "cell_type": "code",
   "execution_count": null,
   "metadata": {},
   "outputs": [],
   "source": [
    "# this part is given to you as a quick glance on the preprocessing in NLP\n",
    "\n",
    "# preprocessing the Messages\n",
    "\n",
    "nltk.download('punkt')\n",
    "nltk.download('stopwords')\n",
    "\n",
    "new_data=[]\n",
    "\n",
    "for i in tqdm(range(data.shape[0])):\n",
    "    lines=data.iloc[i,1]\n",
    "    # removing non alphabatic characters\n",
    "    lines= re.sub('[^A-Za-z]',' ',lines)\n",
    "    # lowering the every word\n",
    "    lines=lines.lower()\n",
    "    \n",
    "    # tokenization\n",
    "    tokenized_lines=word_tokenize(lines)\n",
    "    \n",
    "    # removing stop words ,stemming and spell correction\n",
    "    processed_lines=[]\n",
    "    for i in tokenized_lines:\n",
    "        if i not in set(stopwords.words('english')):\n",
    "            processed_lines.append(spell(stemmer.stem(i)))\n",
    "            \n",
    "    final_lines=' '.join(processed_lines)\n",
    "    new_data.append(final_lines)\n",
    "    \n",
    "            \n",
    "    "
   ]
  },
  {
   "cell_type": "code",
   "execution_count": null,
   "metadata": {},
   "outputs": [],
   "source": [
    "new_data"
   ]
  },
  {
   "cell_type": "code",
   "execution_count": null,
   "metadata": {},
   "outputs": [],
   "source": [
    "len(new_data)"
   ]
  },
  {
   "cell_type": "code",
   "execution_count": null,
   "metadata": {},
   "outputs": [],
   "source": [
    "Y=data['labels']\n",
    "Y"
   ]
  },
  {
   "cell_type": "code",
   "execution_count": null,
   "metadata": {},
   "outputs": [],
   "source": [
    "Y.value_counts()\n"
   ]
  },
  {
   "cell_type": "markdown",
   "metadata": {},
   "source": [
    "# splitting the data into training and testing"
   ]
  },
  {
   "cell_type": "code",
   "execution_count": null,
   "metadata": {
    "deletable": false,
    "nbgrader": {
     "cell_type": "code",
     "checksum": "f9637f662633802e3b85d208ffc00d13",
     "grade": false,
     "grade_id": "cell-50f6c46690e702a1",
     "locked": false,
     "schema_version": 3,
     "solution": true,
     "task": false
    }
   },
   "outputs": [],
   "source": [
    "from sklearn.model_selection import train_test_split\n",
    "\n",
    "#1 points\n",
    "# do the train test split, tested with random_state= = 0\n",
    "# you will need to make sure your data is a numpy array\n",
    "X_train, X_test, Y_train, Y_test = 0,0,0,0\n",
    "# YOUR CODE HERE\n",
    "raise NotImplementedError()"
   ]
  },
  {
   "cell_type": "code",
   "execution_count": null,
   "metadata": {
    "deletable": false,
    "editable": false,
    "nbgrader": {
     "cell_type": "code",
     "checksum": "bc1fec9fc0c8dfcc2ba9b22bb546d4c6",
     "grade": true,
     "grade_id": "cell-76833b6f347ba193",
     "locked": true,
     "points": 1,
     "schema_version": 3,
     "solution": false,
     "task": false
    }
   },
   "outputs": [],
   "source": [
    "\n",
    "assert X_train.shape == (4457,)\n",
    "assert X_test.shape == (1115,)\n",
    "assert Y_train.shape == (4457,)\n",
    "assert Y_test.shape == (1115,)"
   ]
  },
  {
   "cell_type": "markdown",
   "metadata": {},
   "source": [
    "# Vectorization using Bag of Words"
   ]
  },
  {
   "cell_type": "code",
   "execution_count": null,
   "metadata": {
    "deletable": false,
    "nbgrader": {
     "cell_type": "code",
     "checksum": "04d3a86d3a527dd74bb4786fab9fde78",
     "grade": false,
     "grade_id": "cell-111f82315e4a5795",
     "locked": false,
     "schema_version": 3,
     "solution": true,
     "task": false
    }
   },
   "outputs": [],
   "source": [
    "from sklearn.feature_extraction.text import CountVectorizer  #tf_idf\n",
    "# 3 points\n",
    "# use CountVectorizer to vectorize the data\n",
    "\n",
    "# YOUR CODE HERE\n",
    "raise NotImplementedError()"
   ]
  },
  {
   "cell_type": "code",
   "execution_count": null,
   "metadata": {
    "deletable": false,
    "editable": false,
    "nbgrader": {
     "cell_type": "code",
     "checksum": "ce2ac500be04690fc5bd68aef9a256e5",
     "grade": true,
     "grade_id": "cell-fde26c3654f844d5",
     "locked": true,
     "points": 3,
     "schema_version": 3,
     "solution": false,
     "task": false
    }
   },
   "outputs": [],
   "source": [
    "assert len(X_test[0]) == 29\n",
    "assert len(X_train[0]) == 36\n",
    "assert len(X_train[3]) == 21\n",
    "assert len(X_test[3]) == 58"
   ]
  },
  {
   "cell_type": "code",
   "execution_count": null,
   "metadata": {},
   "outputs": [],
   "source": [
    "X_train_vect"
   ]
  },
  {
   "cell_type": "code",
   "execution_count": null,
   "metadata": {},
   "outputs": [],
   "source": [
    "X_test_vect"
   ]
  },
  {
   "cell_type": "markdown",
   "metadata": {
    "deletable": false,
    "editable": false,
    "nbgrader": {
     "cell_type": "markdown",
     "checksum": "ac055e695e7e624bdce967dc9f0beb46",
     "grade": false,
     "grade_id": "cell-13432c66baca4b23",
     "locked": true,
     "schema_version": 3,
     "solution": false,
     "task": false
    }
   },
   "source": [
    "# Lets train our Model - Naive Bayes"
   ]
  },
  {
   "cell_type": "code",
   "execution_count": null,
   "metadata": {
    "deletable": false,
    "nbgrader": {
     "cell_type": "code",
     "checksum": "d608e3090a2ae2904e1c280702ea3d52",
     "grade": false,
     "grade_id": "cell-f348d6e519765361",
     "locked": false,
     "schema_version": 3,
     "solution": true,
     "task": false
    }
   },
   "outputs": [],
   "source": [
    "from sklearn.naive_bayes import GaussianNB\n",
    "# 3 points\n",
    "\n",
    "#train your model\n",
    "\n",
    "# YOUR CODE HERE\n",
    "raise NotImplementedError()"
   ]
  },
  {
   "cell_type": "code",
   "execution_count": null,
   "metadata": {
    "deletable": false,
    "editable": false,
    "nbgrader": {
     "cell_type": "code",
     "checksum": "c79583124a55ca6e70a167863965b104",
     "grade": true,
     "grade_id": "cell-cfaf9972f90a81a1",
     "locked": true,
     "points": 3,
     "schema_version": 3,
     "solution": false,
     "task": false
    }
   },
   "outputs": [],
   "source": [
    "model.classes_\n",
    "assert model.classes_.shape == (2,)\n",
    "assert model.classes_[0] == 0\n",
    "assert model.classes_[1] == 1"
   ]
  },
  {
   "cell_type": "code",
   "execution_count": null,
   "metadata": {
    "deletable": false,
    "nbgrader": {
     "cell_type": "code",
     "checksum": "896113f57208e288ebeeefb63e460546",
     "grade": false,
     "grade_id": "cell-79a39702b247d13d",
     "locked": false,
     "schema_version": 3,
     "solution": true,
     "task": false
    }
   },
   "outputs": [],
   "source": [
    "from sklearn.metrics import accuracy_score, confusion_matrix\n",
    "\n",
    "#7 points\n",
    "\n",
    "# predict and get the accuracy on test as well as the confusion matrix\n",
    "\n",
    "acc = 0\n",
    "\n",
    "conf_matrix = 0\n",
    "# YOUR CODE HERE\n",
    "raise NotImplementedError()"
   ]
  },
  {
   "cell_type": "code",
   "execution_count": null,
   "metadata": {
    "deletable": false,
    "editable": false,
    "nbgrader": {
     "cell_type": "code",
     "checksum": "fdb9e2252fc275528ea30bb6f13d10e6",
     "grade": true,
     "grade_id": "cell-3349b6b934a43864",
     "locked": true,
     "points": 7,
     "schema_version": 3,
     "solution": false,
     "task": false
    }
   },
   "outputs": [],
   "source": [
    "assert Y_pred.shape == (1115,)\n",
    "assert acc >= 80\n",
    "assert conf_matrix[0][0] >= 3*conf_matrix[0][1]\n",
    "assert conf_matrix[1][1] >= 3*conf_matrix[1][0]"
   ]
  }
 ],
 "metadata": {
  "kernelspec": {
   "display_name": "Python 3",
   "language": "python",
   "name": "python3"
  },
  "language_info": {
   "codemirror_mode": {
    "name": "ipython",
    "version": 3
   },
   "file_extension": ".py",
   "mimetype": "text/x-python",
   "name": "python",
   "nbconvert_exporter": "python",
   "pygments_lexer": "ipython3",
   "version": "3.7.10"
  }
 },
 "nbformat": 4,
 "nbformat_minor": 2
}
