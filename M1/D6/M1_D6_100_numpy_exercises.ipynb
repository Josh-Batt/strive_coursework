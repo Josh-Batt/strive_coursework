{
 "cells": [
  {
   "cell_type": "markdown",
   "id": "closing-enterprise",
   "metadata": {},
   "source": [
    "**1. Import the numpy package under the name np**"
   ]
  },
  {
   "cell_type": "code",
   "execution_count": 1,
   "id": "fossil-morning",
   "metadata": {},
   "outputs": [],
   "source": [
    "import numpy as np"
   ]
  },
  {
   "cell_type": "markdown",
   "id": "double-apparel",
   "metadata": {},
   "source": [
    "**2. Print the numpy version and the configuration**"
   ]
  },
  {
   "cell_type": "code",
   "execution_count": 2,
   "id": "antique-traffic",
   "metadata": {},
   "outputs": [
    {
     "name": "stdout",
     "output_type": "stream",
     "text": [
      "1.20.1\n",
      "blas_info:\n",
      "    libraries = ['cblas', 'blas', 'cblas', 'blas', 'cblas', 'blas']\n",
      "    library_dirs = ['C:/Users/joshb/anaconda3/envs/Strive_AI\\\\Library\\\\lib']\n",
      "    include_dirs = ['C:/Users/joshb/anaconda3/envs/Strive_AI\\\\Library\\\\include']\n",
      "    language = f77\n",
      "    define_macros = [('HAVE_CBLAS', None)]\n",
      "blas_opt_info:\n",
      "    define_macros = [('NO_ATLAS_INFO', 1), ('HAVE_CBLAS', None)]\n",
      "    libraries = ['cblas', 'blas', 'cblas', 'blas', 'cblas', 'blas']\n",
      "    library_dirs = ['C:/Users/joshb/anaconda3/envs/Strive_AI\\\\Library\\\\lib']\n",
      "    include_dirs = ['C:/Users/joshb/anaconda3/envs/Strive_AI\\\\Library\\\\include']\n",
      "    language = f77\n",
      "lapack_info:\n",
      "    libraries = ['lapack', 'blas', 'lapack', 'blas']\n",
      "    library_dirs = ['C:/Users/joshb/anaconda3/envs/Strive_AI\\\\Library\\\\lib']\n",
      "    language = f77\n",
      "lapack_opt_info:\n",
      "    libraries = ['lapack', 'blas', 'lapack', 'blas', 'cblas', 'blas', 'cblas', 'blas', 'cblas', 'blas']\n",
      "    library_dirs = ['C:/Users/joshb/anaconda3/envs/Strive_AI\\\\Library\\\\lib']\n",
      "    language = f77\n",
      "    define_macros = [('NO_ATLAS_INFO', 1), ('HAVE_CBLAS', None)]\n",
      "    include_dirs = ['C:/Users/joshb/anaconda3/envs/Strive_AI\\\\Library\\\\include']\n",
      "None\n"
     ]
    }
   ],
   "source": [
    "print(np.__version__)\n",
    "print(np.show_config())"
   ]
  },
  {
   "cell_type": "markdown",
   "id": "combined-syntax",
   "metadata": {},
   "source": [
    "**3. Create a null vector of size 10**"
   ]
  },
  {
   "cell_type": "code",
   "execution_count": 3,
   "id": "waiting-dealing",
   "metadata": {},
   "outputs": [
    {
     "data": {
      "text/plain": [
       "array([0., 0., 0., 0., 0., 0., 0., 0., 0., 0.])"
      ]
     },
     "execution_count": 3,
     "metadata": {},
     "output_type": "execute_result"
    }
   ],
   "source": [
    "arr = np.zeros(10)\n",
    "arr"
   ]
  },
  {
   "cell_type": "markdown",
   "id": "existing-injection",
   "metadata": {},
   "source": [
    "**4. How to find the memory size of any array**"
   ]
  },
  {
   "cell_type": "code",
   "execution_count": 12,
   "id": "neither-target",
   "metadata": {},
   "outputs": [
    {
     "data": {
      "text/plain": [
       "40"
      ]
     },
     "execution_count": 12,
     "metadata": {},
     "output_type": "execute_result"
    }
   ],
   "source": [
    "arr = np.zeros(5)\n",
    "memory = arr.size * arr.itemsize\n",
    "memory"
   ]
  },
  {
   "cell_type": "markdown",
   "id": "supposed-checkout",
   "metadata": {},
   "source": [
    "**5. How to get the documentation of the numpy add function from the command line?**"
   ]
  },
  {
   "cell_type": "code",
   "execution_count": 13,
   "id": "printable-handbook",
   "metadata": {},
   "outputs": [
    {
     "data": {
      "text/plain": [
       "array([[ 2,  4,  6],\n",
       "       [ 8, 10, 12]])"
      ]
     },
     "execution_count": 13,
     "metadata": {},
     "output_type": "execute_result"
    }
   ],
   "source": [
    "### May have understood question wrong, belive this is what the question asked\n",
    "\n",
    "arr_1 = np.array([[1, 2, 3], [4, 5, 6]])\n",
    "arr_2 = np.array([[1, 2, 3], [4, 5, 6]])\n",
    "\n",
    "answer = arr_1 + arr_2\n",
    "answer"
   ]
  },
  {
   "cell_type": "markdown",
   "id": "dynamic-victim",
   "metadata": {},
   "source": [
    "**6. Create a null vector of size 10 but the fifth value which is 1**"
   ]
  },
  {
   "cell_type": "code",
   "execution_count": 15,
   "id": "united-gilbert",
   "metadata": {},
   "outputs": [
    {
     "data": {
      "text/plain": [
       "array([0., 0., 0., 0., 1., 0., 0., 0., 0., 0.])"
      ]
     },
     "execution_count": 15,
     "metadata": {},
     "output_type": "execute_result"
    }
   ],
   "source": [
    "arr = np.zeros(10)\n",
    "arr[4] = 1\n",
    "arr"
   ]
  },
  {
   "cell_type": "markdown",
   "id": "creative-mentor",
   "metadata": {},
   "source": [
    "**7. Create a vector with values ranging from 10 to 49**"
   ]
  },
  {
   "cell_type": "code",
   "execution_count": 19,
   "id": "alpha-flood",
   "metadata": {},
   "outputs": [
    {
     "data": {
      "text/plain": [
       "array([10, 11, 12, 13, 14, 15, 16, 17, 18, 19, 20, 21, 22, 23, 24, 25, 26,\n",
       "       27, 28, 29, 30, 31, 32, 33, 34, 35, 36, 37, 38, 39, 40, 41, 42, 43,\n",
       "       44, 45, 46, 47, 48, 49])"
      ]
     },
     "execution_count": 19,
     "metadata": {},
     "output_type": "execute_result"
    }
   ],
   "source": [
    "arr = np.arange(10, 50)\n",
    "arr"
   ]
  },
  {
   "cell_type": "markdown",
   "id": "reported-settlement",
   "metadata": {},
   "source": [
    "**8. Reverse a vector (first element becomes last)**"
   ]
  },
  {
   "cell_type": "code",
   "execution_count": 23,
   "id": "express-jacob",
   "metadata": {},
   "outputs": [
    {
     "data": {
      "text/plain": [
       "array([9, 2, 3, 4, 5, 6, 7, 8, 1])"
      ]
     },
     "execution_count": 23,
     "metadata": {},
     "output_type": "execute_result"
    }
   ],
   "source": [
    "### From bracket desciption I belive this is whats wanted, could be the case they want a complete reverse order?\n",
    "\n",
    "arr = np.arange(1, 10)\n",
    "arr[[-1, 0]] = arr[[0, -1]]\n",
    "arr"
   ]
  },
  {
   "cell_type": "markdown",
   "id": "stuffed-norman",
   "metadata": {},
   "source": [
    "**9. Create a 3x3 matrix with values ranging from 0 to 8**"
   ]
  },
  {
   "cell_type": "code",
   "execution_count": 24,
   "id": "little-penny",
   "metadata": {},
   "outputs": [
    {
     "data": {
      "text/plain": [
       "matrix([[0, 1, 2],\n",
       "        [3, 4, 5],\n",
       "        [6, 7, 8]])"
      ]
     },
     "execution_count": 24,
     "metadata": {},
     "output_type": "execute_result"
    }
   ],
   "source": [
    "arr = np.matrix([[0, 1 , 2], [3, 4, 5], [6, 7, 8]])\n",
    "arr"
   ]
  },
  {
   "cell_type": "markdown",
   "id": "flexible-albert",
   "metadata": {},
   "source": [
    "**10. Find indices of non-zero elements from [1,2,0,0,4,0]**"
   ]
  },
  {
   "cell_type": "code",
   "execution_count": 27,
   "id": "flush-investing",
   "metadata": {},
   "outputs": [
    {
     "data": {
      "text/plain": [
       "(array([0, 1, 4], dtype=int64),)"
      ]
     },
     "execution_count": 27,
     "metadata": {},
     "output_type": "execute_result"
    }
   ],
   "source": [
    "arr = np.array([1, 2, 0, 0, 4, 0])\n",
    "np.nonzero(arr)"
   ]
  },
  {
   "cell_type": "markdown",
   "id": "adopted-myrtle",
   "metadata": {},
   "source": [
    "**11. Create a 3x3 identity matrix**"
   ]
  },
  {
   "cell_type": "code",
   "execution_count": 28,
   "id": "fabulous-willow",
   "metadata": {},
   "outputs": [
    {
     "data": {
      "text/plain": [
       "array([[1., 0., 0.],\n",
       "       [0., 1., 0.],\n",
       "       [0., 0., 1.]])"
      ]
     },
     "execution_count": 28,
     "metadata": {},
     "output_type": "execute_result"
    }
   ],
   "source": [
    "np.identity(3)"
   ]
  },
  {
   "cell_type": "markdown",
   "id": "romantic-riding",
   "metadata": {},
   "source": [
    "**12. Create a 3x3x3 array with random values**"
   ]
  },
  {
   "cell_type": "code",
   "execution_count": 29,
   "id": "humanitarian-change",
   "metadata": {},
   "outputs": [
    {
     "data": {
      "text/plain": [
       "array([[[0.77255074, 0.76746067, 0.25072767],\n",
       "        [0.58555042, 0.84508528, 0.58343692],\n",
       "        [0.94944482, 0.8490138 , 0.33653484]],\n",
       "\n",
       "       [[0.33029465, 0.87927174, 0.46667162],\n",
       "        [0.58146911, 0.49806635, 0.36113418],\n",
       "        [0.08860803, 0.88102457, 0.12330829]],\n",
       "\n",
       "       [[0.5036147 , 0.69354951, 0.21782251],\n",
       "        [0.06160713, 0.0643988 , 0.1000805 ],\n",
       "        [0.58518376, 0.42265056, 0.64392538]]])"
      ]
     },
     "execution_count": 29,
     "metadata": {},
     "output_type": "execute_result"
    }
   ],
   "source": [
    "### Think 3x3x3 means 3 seperate 3x3 arrays\n",
    "\n",
    "arr = np.random.rand(3 , 3, 3)\n",
    "arr"
   ]
  },
  {
   "cell_type": "markdown",
   "id": "purple-pricing",
   "metadata": {},
   "source": [
    "**13. Create a 10x10 array with random values and find the minimum and maximum values**"
   ]
  },
  {
   "cell_type": "code",
   "execution_count": 30,
   "id": "natural-organ",
   "metadata": {},
   "outputs": [
    {
     "data": {
      "text/plain": [
       "array([[ 1.50829888,  0.71025818, -1.18560863,  0.87826069,  0.01432555,\n",
       "        -0.30629261, -0.89423402,  2.11001352, -2.48150445,  0.54001426],\n",
       "       [ 0.97654609,  0.08306143, -1.10116087, -1.02194525,  1.88594427,\n",
       "         0.07506107, -0.48935445,  1.3894233 , -1.27528495,  0.97587285],\n",
       "       [ 0.47404926,  0.01931964,  0.31354789, -0.06826457, -0.46212089,\n",
       "         1.44314113, -0.86670791, -2.00251037, -0.18374271,  1.00574827],\n",
       "       [ 0.66850721,  1.13702733,  0.24866291, -0.13083156,  0.62902912,\n",
       "        -0.26086427, -0.84185611,  1.16870932, -0.34975373, -0.82478872],\n",
       "       [ 0.53550146,  0.22976803,  0.870866  ,  1.89015899, -1.25694942,\n",
       "        -1.38734892, -1.08353104,  1.03600605,  1.19201069,  1.34036666],\n",
       "       [-2.17576272,  0.56343541,  0.77369714, -0.07143058, -1.10435298,\n",
       "        -0.34199844,  0.06841519, -0.33099792, -0.36071049, -0.09102912],\n",
       "       [-0.33722133,  1.07113605,  0.5428004 ,  1.10711539, -1.52521911,\n",
       "         0.17222086, -1.52190598,  2.85451331,  0.31588009, -0.20566303],\n",
       "       [ 1.27710244, -0.58454366, -1.62395876, -0.02440111,  0.75667348,\n",
       "         0.06589754,  1.57567769,  1.14310981, -0.69040165,  0.72796909],\n",
       "       [ 0.3937269 ,  1.17157936, -0.48253197,  1.7813138 ,  0.96381585,\n",
       "         0.31277932, -1.07697536,  1.18817224, -1.00385636,  0.53653321],\n",
       "       [-0.17274662,  0.25609405,  0.69912737,  0.09660575,  0.4000511 ,\n",
       "         0.91124266,  0.1258536 ,  0.80431162,  1.71970953, -0.6780213 ]])"
      ]
     },
     "execution_count": 30,
     "metadata": {},
     "output_type": "execute_result"
    }
   ],
   "source": [
    "arr = np.random.normal(size=(10, 10))\n",
    "arr"
   ]
  },
  {
   "cell_type": "code",
   "execution_count": 31,
   "id": "marked-scout",
   "metadata": {},
   "outputs": [
    {
     "data": {
      "text/plain": [
       "(-2.4815044545014833, 2.8545133141920873)"
      ]
     },
     "execution_count": 31,
     "metadata": {},
     "output_type": "execute_result"
    }
   ],
   "source": [
    "np.min(arr), np.max(arr)"
   ]
  },
  {
   "cell_type": "markdown",
   "id": "sound-thumb",
   "metadata": {},
   "source": [
    "**14. Create a random vector of size 30 and find the mean value**"
   ]
  },
  {
   "cell_type": "code",
   "execution_count": 35,
   "id": "developmental-physics",
   "metadata": {},
   "outputs": [
    {
     "data": {
      "text/plain": [
       "array([ 0.3420901 , -0.17449704,  0.11673486,  1.24369553,  2.17150927,\n",
       "        1.57498062,  1.23115186,  1.65455254,  0.15764962,  0.63085381,\n",
       "        1.8001015 ,  1.69305888, -0.23069221,  1.79247721, -0.12572021,\n",
       "        0.83833115,  0.83106176, -1.38427531,  1.32761142, -0.26136258,\n",
       "        1.4194838 , -0.15176317,  0.82721452, -0.23567583,  0.47640061,\n",
       "        0.71736692,  1.19101836,  1.13530361,  1.0339734 , -0.70636787])"
      ]
     },
     "execution_count": 35,
     "metadata": {},
     "output_type": "execute_result"
    }
   ],
   "source": [
    "arr = np.random.normal(size=30)\n",
    "arr"
   ]
  },
  {
   "cell_type": "code",
   "execution_count": 36,
   "id": "dressed-aside",
   "metadata": {},
   "outputs": [
    {
     "data": {
      "text/plain": [
       "0.6978755703631214"
      ]
     },
     "execution_count": 36,
     "metadata": {},
     "output_type": "execute_result"
    }
   ],
   "source": [
    "np.mean(arr)"
   ]
  },
  {
   "cell_type": "markdown",
   "id": "waiting-judgment",
   "metadata": {},
   "source": [
    "**15. Create a 2d array with 1 on the border and 0 inside**"
   ]
  },
  {
   "cell_type": "code",
   "execution_count": 37,
   "id": "improved-change",
   "metadata": {},
   "outputs": [
    {
     "data": {
      "text/plain": [
       "array([[1., 1., 1., 1., 1.],\n",
       "       [1., 0., 0., 0., 1.],\n",
       "       [1., 0., 0., 0., 1.],\n",
       "       [1., 0., 0., 0., 1.],\n",
       "       [1., 1., 1., 1., 1.]])"
      ]
     },
     "execution_count": 37,
     "metadata": {},
     "output_type": "execute_result"
    }
   ],
   "source": [
    "two_d = np.ones((5, 5))\n",
    "two_d[1:-1,1:-1] = 0\n",
    "\n",
    "two_d"
   ]
  },
  {
   "cell_type": "markdown",
   "id": "loaded-coach",
   "metadata": {},
   "source": [
    "**16. How to add a border (filled with 0's) around an existing array?**"
   ]
  },
  {
   "cell_type": "code",
   "execution_count": 51,
   "id": "rational-password",
   "metadata": {},
   "outputs": [
    {
     "data": {
      "text/plain": [
       "array([[1., 1., 1., 1., 1., 1.],\n",
       "       [1., 0., 0., 0., 0., 1.],\n",
       "       [1., 0., 0., 0., 0., 1.],\n",
       "       [1., 0., 0., 0., 0., 1.],\n",
       "       [1., 0., 0., 0., 0., 1.],\n",
       "       [1., 1., 1., 1., 1., 1.]])"
      ]
     },
     "execution_count": 51,
     "metadata": {},
     "output_type": "execute_result"
    }
   ],
   "source": [
    "arr = np.zeros((4, 4))\n",
    "arr = np.pad(arr, pad_width = 1, mode = 'constant', constant_values = 1)\n",
    "arr"
   ]
  },
  {
   "cell_type": "markdown",
   "id": "cutting-disorder",
   "metadata": {},
   "source": [
    "**17. What is the result of the following expression?**\n",
    "\n",
    "0 * np.nan\n",
    "\n",
    "np.nan == np.nan\n",
    "\n",
    "np.inf > np.nan\n",
    "\n",
    "np.nan - np.nan\n",
    "\n",
    "np.nan in set([np.nan])\n",
    "\n",
    "0.3 == 3 * 0.1"
   ]
  },
  {
   "cell_type": "code",
   "execution_count": 52,
   "id": "hollow-institute",
   "metadata": {},
   "outputs": [
    {
     "data": {
      "text/plain": [
       "False"
      ]
     },
     "execution_count": 52,
     "metadata": {},
     "output_type": "execute_result"
    }
   ],
   "source": [
    "0 * np.nan\n",
    "\n",
    "np.nan == np.nan\n",
    "\n",
    "np.inf > np.nan\n",
    "\n",
    "np.nan - np.nan\n",
    "\n",
    "np.nan in set([np.nan])\n",
    "\n",
    "0.3 == 3 * 0.1"
   ]
  },
  {
   "cell_type": "markdown",
   "id": "coastal-blood",
   "metadata": {},
   "source": [
    "**18. Create a 5x5 matrix with values 1,2,3,4 just below the diagonal**"
   ]
  },
  {
   "cell_type": "code",
   "execution_count": 54,
   "id": "regional-lindsay",
   "metadata": {},
   "outputs": [
    {
     "data": {
      "text/plain": [
       "array([[0, 0, 0, 0, 0],\n",
       "       [1, 0, 0, 0, 0],\n",
       "       [0, 2, 0, 0, 0],\n",
       "       [0, 0, 3, 0, 0],\n",
       "       [0, 0, 0, 4, 0]])"
      ]
     },
     "execution_count": 54,
     "metadata": {},
     "output_type": "execute_result"
    }
   ],
   "source": [
    "arr = np.diag([1, 2, 3, 4], -1)\n",
    "arr"
   ]
  },
  {
   "cell_type": "markdown",
   "id": "portuguese-element",
   "metadata": {},
   "source": [
    "**19. Create a 8x8 matrix and fill it with a checkerboard pattern**"
   ]
  },
  {
   "cell_type": "code",
   "execution_count": 69,
   "id": "metric-chile",
   "metadata": {},
   "outputs": [
    {
     "ename": "TypeError",
     "evalue": "'function' object is not subscriptable",
     "output_type": "error",
     "traceback": [
      "\u001b[1;31m---------------------------------------------------------------------------\u001b[0m",
      "\u001b[1;31mTypeError\u001b[0m                                 Traceback (most recent call last)",
      "\u001b[1;32m<ipython-input-69-f1621c226ea7>\u001b[0m in \u001b[0;36m<module>\u001b[1;34m\u001b[0m\n\u001b[0;32m      2\u001b[0m \u001b[1;33m\u001b[0m\u001b[0m\n\u001b[0;32m      3\u001b[0m \u001b[0marr\u001b[0m \u001b[1;33m=\u001b[0m \u001b[0mnp\u001b[0m\u001b[1;33m.\u001b[0m\u001b[0mzeros\u001b[0m\u001b[1;33m(\u001b[0m\u001b[1;33m(\u001b[0m\u001b[1;36m8\u001b[0m\u001b[1;33m,\u001b[0m\u001b[1;36m8\u001b[0m\u001b[1;33m)\u001b[0m\u001b[1;33m)\u001b[0m\u001b[1;33m\u001b[0m\u001b[1;33m\u001b[0m\u001b[0m\n\u001b[1;32m----> 4\u001b[1;33m \u001b[0marr\u001b[0m \u001b[1;33m=\u001b[0m \u001b[0mnp\u001b[0m\u001b[1;33m.\u001b[0m\u001b[0mones\u001b[0m\u001b[1;33m[\u001b[0m\u001b[1;36m1\u001b[0m\u001b[1;33m:\u001b[0m\u001b[1;33m:\u001b[0m\u001b[1;36m1\u001b[0m\u001b[1;33m]\u001b[0m\u001b[1;33m\u001b[0m\u001b[1;33m\u001b[0m\u001b[0m\n\u001b[0m",
      "\u001b[1;31mTypeError\u001b[0m: 'function' object is not subscriptable"
     ]
    }
   ],
   "source": [
    "### Not done\n",
    "\n",
    "arr = np.zeros((8,8))\n",
    "arr = np.array[1::1] = np.ones(arr)\n"
   ]
  },
  {
   "cell_type": "markdown",
   "id": "pointed-glory",
   "metadata": {},
   "source": [
    "**20. Consider a (6,7,8) shape array, what is the index (x,y,z) of the 100th element?**"
   ]
  },
  {
   "cell_type": "code",
   "execution_count": 74,
   "id": "completed-tiffany",
   "metadata": {},
   "outputs": [
    {
     "ename": "TypeError",
     "evalue": "only integer scalar arrays can be converted to a scalar index",
     "output_type": "error",
     "traceback": [
      "\u001b[1;31m---------------------------------------------------------------------------\u001b[0m",
      "\u001b[1;31mTypeError\u001b[0m                                 Traceback (most recent call last)",
      "\u001b[1;32m<ipython-input-74-6612b76d098c>\u001b[0m in \u001b[0;36m<module>\u001b[1;34m\u001b[0m\n\u001b[0;32m      1\u001b[0m \u001b[0marr\u001b[0m \u001b[1;33m=\u001b[0m \u001b[0mnp\u001b[0m\u001b[1;33m.\u001b[0m\u001b[0mrandom\u001b[0m\u001b[1;33m.\u001b[0m\u001b[0mrand\u001b[0m\u001b[1;33m(\u001b[0m\u001b[1;36m6\u001b[0m\u001b[1;33m,\u001b[0m \u001b[1;36m7\u001b[0m\u001b[1;33m,\u001b[0m \u001b[1;36m8\u001b[0m\u001b[1;33m)\u001b[0m\u001b[1;33m\u001b[0m\u001b[1;33m\u001b[0m\u001b[0m\n\u001b[1;32m----> 2\u001b[1;33m \u001b[0mnp\u001b[0m\u001b[1;33m.\u001b[0m\u001b[0mindices\u001b[0m\u001b[1;33m(\u001b[0m\u001b[0marr\u001b[0m\u001b[1;33m)\u001b[0m\u001b[1;33m\u001b[0m\u001b[1;33m\u001b[0m\u001b[0m\n\u001b[0m",
      "\u001b[1;32m~\\anaconda3\\envs\\Strive_AI\\lib\\site-packages\\numpy\\core\\numeric.py\u001b[0m in \u001b[0;36mindices\u001b[1;34m(dimensions, dtype, sparse)\u001b[0m\n\u001b[0;32m   1775\u001b[0m         \u001b[0mres\u001b[0m \u001b[1;33m=\u001b[0m \u001b[0mtuple\u001b[0m\u001b[1;33m(\u001b[0m\u001b[1;33m)\u001b[0m\u001b[1;33m\u001b[0m\u001b[1;33m\u001b[0m\u001b[0m\n\u001b[0;32m   1776\u001b[0m     \u001b[1;32melse\u001b[0m\u001b[1;33m:\u001b[0m\u001b[1;33m\u001b[0m\u001b[1;33m\u001b[0m\u001b[0m\n\u001b[1;32m-> 1777\u001b[1;33m         \u001b[0mres\u001b[0m \u001b[1;33m=\u001b[0m \u001b[0mempty\u001b[0m\u001b[1;33m(\u001b[0m\u001b[1;33m(\u001b[0m\u001b[0mN\u001b[0m\u001b[1;33m,\u001b[0m\u001b[1;33m)\u001b[0m\u001b[1;33m+\u001b[0m\u001b[0mdimensions\u001b[0m\u001b[1;33m,\u001b[0m \u001b[0mdtype\u001b[0m\u001b[1;33m=\u001b[0m\u001b[0mdtype\u001b[0m\u001b[1;33m)\u001b[0m\u001b[1;33m\u001b[0m\u001b[1;33m\u001b[0m\u001b[0m\n\u001b[0m\u001b[0;32m   1778\u001b[0m     \u001b[1;32mfor\u001b[0m \u001b[0mi\u001b[0m\u001b[1;33m,\u001b[0m \u001b[0mdim\u001b[0m \u001b[1;32min\u001b[0m \u001b[0menumerate\u001b[0m\u001b[1;33m(\u001b[0m\u001b[0mdimensions\u001b[0m\u001b[1;33m)\u001b[0m\u001b[1;33m:\u001b[0m\u001b[1;33m\u001b[0m\u001b[1;33m\u001b[0m\u001b[0m\n\u001b[0;32m   1779\u001b[0m         idx = arange(dim, dtype=dtype).reshape(\n",
      "\u001b[1;31mTypeError\u001b[0m: only integer scalar arrays can be converted to a scalar index"
     ]
    }
   ],
   "source": [
    "### Not done\n",
    "\n",
    "arr = np.random.rand(6, 7, 8)\n",
    "np.indices(arr)"
   ]
  },
  {
   "cell_type": "markdown",
   "id": "secondary-cholesterol",
   "metadata": {},
   "source": [
    "**21. Create a checkerboard 8x8 matrix using the tile function**"
   ]
  },
  {
   "cell_type": "code",
   "execution_count": null,
   "id": "twelve-casting",
   "metadata": {},
   "outputs": [],
   "source": [
    "### Come back to when 19. Done"
   ]
  },
  {
   "cell_type": "markdown",
   "id": "iraqi-problem",
   "metadata": {},
   "source": [
    "**22. Normalize a 5x5 random matrix**"
   ]
  },
  {
   "cell_type": "code",
   "execution_count": 77,
   "id": "crude-argument",
   "metadata": {},
   "outputs": [
    {
     "data": {
      "text/plain": [
       "array([[0.14187422, 0.22413413, 0.33060203, 0.0924454 , 0.38176451],\n",
       "       [0.04316403, 0.15411212, 0.25636359, 0.14949888, 0.27108602],\n",
       "       [0.04660768, 0.09284883, 0.02658683, 0.12377634, 0.14563258],\n",
       "       [0.32461168, 0.07391381, 0.22439613, 0.09300684, 0.0426736 ],\n",
       "       [0.17854146, 0.07963184, 0.30113844, 0.19839228, 0.30153201]])"
      ]
     },
     "execution_count": 77,
     "metadata": {},
     "output_type": "execute_result"
    }
   ],
   "source": [
    "### Found formula for normalizing numbers, but dont know what it means to normalize a number\n",
    "\n",
    "arr = np.random.rand(5, 5)\n",
    "norm = np.linalg.norm(arr)\n",
    "normal_array = arr/norm\n",
    "normal_array"
   ]
  }
 ],
 "metadata": {
  "kernelspec": {
   "display_name": "Python 3",
   "language": "python",
   "name": "python3"
  },
  "language_info": {
   "codemirror_mode": {
    "name": "ipython",
    "version": 3
   },
   "file_extension": ".py",
   "mimetype": "text/x-python",
   "name": "python",
   "nbconvert_exporter": "python",
   "pygments_lexer": "ipython3",
   "version": "3.8.8"
  }
 },
 "nbformat": 4,
 "nbformat_minor": 5
}
