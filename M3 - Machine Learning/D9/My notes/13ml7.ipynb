{
  "cells": [
    {
      "cell_type": "markdown",
      "source": "***Support Vector Machines***\n    Using SVM with Python to predict whether a breast cancer tumor is malignant or benign. Exercise uses numpy, pandas, and scikitlearn and utilizes train test split, SVM, SVC,  and GridSearch to identify the best parameters for prediction.",
      "metadata": {
        "cell_id": "00000-8adb2288-47b0-48b8-a459-2306bc72ab50",
        "deepnote_cell_type": "markdown"
      }
    },
    {
      "cell_type": "code",
      "metadata": {
        "ExecuteTime": {
          "end_time": "2021-04-29T09:57:42.034999Z",
          "start_time": "2021-04-29T09:57:38.382505Z"
        },
        "cell_id": "00001-cf8c8a0a-ce5c-44ce-8127-6d9866c92a35",
        "deepnote_to_be_reexecuted": false,
        "source_hash": "d2f3a84f",
        "execution_start": 1619701370087,
        "execution_millis": 1391,
        "deepnote_cell_type": "code"
      },
      "source": "import pandas as pd\nimport numpy as np\nimport matplotlib.pyplot as plt\nimport seaborn as sns\n%matplotlib inline\nprint('setup complete')",
      "execution_count": 1,
      "outputs": [
        {
          "name": "stdout",
          "text": "setup complete\n",
          "output_type": "stream"
        }
      ]
    },
    {
      "cell_type": "code",
      "metadata": {
        "cell_id": "00002-7cd3cb9b-745a-467d-87b6-08368c99a969",
        "deepnote_to_be_reexecuted": false,
        "source_hash": "b623e53d",
        "execution_start": 1619701371479,
        "execution_millis": 3,
        "deepnote_cell_type": "code"
      },
      "source": "",
      "execution_count": 1,
      "outputs": []
    },
    {
      "cell_type": "code",
      "metadata": {
        "ExecuteTime": {
          "end_time": "2021-04-29T09:59:50.580012Z",
          "start_time": "2021-04-29T09:59:50.544598Z"
        },
        "deletable": false,
        "nbgrader": {
          "cell_type": "code",
          "checksum": "43d70b49ce7fd38caf186bed99a35a33",
          "grade": false,
          "grade_id": "cell-bbc3dc112799b91f",
          "locked": false,
          "schema_version": 3,
          "solution": true,
          "task": false
        },
        "cell_id": "00003-43288ba5-549d-4f85-a132-359b54152a50",
        "deepnote_to_be_reexecuted": false,
        "source_hash": "ea083506",
        "execution_start": 1619701371492,
        "execution_millis": 672,
        "deepnote_cell_type": "code"
      },
      "source": "# 1 point\n\n# import and load the breast cancer dataset \nfrom sklearn.datasets import load_breast_cancer\n\n# output a variable where the data is loaded straight from sklearn\n\ncancer = 0\n\ncancer = load_breast_cancer()\n",
      "execution_count": 2,
      "outputs": []
    },
    {
      "cell_type": "code",
      "metadata": {
        "ExecuteTime": {
          "end_time": "2021-04-29T09:59:53.664350Z",
          "start_time": "2021-04-29T09:59:53.657004Z"
        },
        "deletable": false,
        "editable": false,
        "nbgrader": {
          "cell_type": "code",
          "checksum": "74d141316e1b1469995c19d59690e31f",
          "grade": true,
          "grade_id": "cell-89604aed63202fe9",
          "locked": true,
          "points": 1,
          "schema_version": 3,
          "solution": false,
          "task": false
        },
        "cell_id": "00004-828de460-2ea4-47a5-a1c4-478f6f81d820",
        "deepnote_to_be_reexecuted": false,
        "source_hash": "a376132b",
        "execution_start": 1619701372175,
        "execution_millis": 2,
        "deepnote_cell_type": "code"
      },
      "source": "assert cancer.data.shape == (569,30)",
      "execution_count": 3,
      "outputs": []
    },
    {
      "cell_type": "code",
      "metadata": {
        "ExecuteTime": {
          "end_time": "2021-04-29T10:00:25.049560Z",
          "start_time": "2021-04-29T10:00:25.045508Z"
        },
        "cell_id": "00005-9cfd37ed-6ff3-4492-94af-1bceb6e30ef7",
        "deepnote_to_be_reexecuted": false,
        "source_hash": "b87788a9",
        "execution_start": 1619701372188,
        "execution_millis": 0,
        "deepnote_cell_type": "code"
      },
      "source": "print(cancer['DESCR'])",
      "execution_count": 4,
      "outputs": [
        {
          "name": "stdout",
          "text": ".. _breast_cancer_dataset:\n\nBreast cancer wisconsin (diagnostic) dataset\n--------------------------------------------\n\n**Data Set Characteristics:**\n\n    :Number of Instances: 569\n\n    :Number of Attributes: 30 numeric, predictive attributes and the class\n\n    :Attribute Information:\n        - radius (mean of distances from center to points on the perimeter)\n        - texture (standard deviation of gray-scale values)\n        - perimeter\n        - area\n        - smoothness (local variation in radius lengths)\n        - compactness (perimeter^2 / area - 1.0)\n        - concavity (severity of concave portions of the contour)\n        - concave points (number of concave portions of the contour)\n        - symmetry\n        - fractal dimension (\"coastline approximation\" - 1)\n\n        The mean, standard error, and \"worst\" or largest (mean of the three\n        worst/largest values) of these features were computed for each image,\n        resulting in 30 features.  For instance, field 0 is Mean Radius, field\n        10 is Radius SE, field 20 is Worst Radius.\n\n        - class:\n                - WDBC-Malignant\n                - WDBC-Benign\n\n    :Summary Statistics:\n\n    ===================================== ====== ======\n                                           Min    Max\n    ===================================== ====== ======\n    radius (mean):                        6.981  28.11\n    texture (mean):                       9.71   39.28\n    perimeter (mean):                     43.79  188.5\n    area (mean):                          143.5  2501.0\n    smoothness (mean):                    0.053  0.163\n    compactness (mean):                   0.019  0.345\n    concavity (mean):                     0.0    0.427\n    concave points (mean):                0.0    0.201\n    symmetry (mean):                      0.106  0.304\n    fractal dimension (mean):             0.05   0.097\n    radius (standard error):              0.112  2.873\n    texture (standard error):             0.36   4.885\n    perimeter (standard error):           0.757  21.98\n    area (standard error):                6.802  542.2\n    smoothness (standard error):          0.002  0.031\n    compactness (standard error):         0.002  0.135\n    concavity (standard error):           0.0    0.396\n    concave points (standard error):      0.0    0.053\n    symmetry (standard error):            0.008  0.079\n    fractal dimension (standard error):   0.001  0.03\n    radius (worst):                       7.93   36.04\n    texture (worst):                      12.02  49.54\n    perimeter (worst):                    50.41  251.2\n    area (worst):                         185.2  4254.0\n    smoothness (worst):                   0.071  0.223\n    compactness (worst):                  0.027  1.058\n    concavity (worst):                    0.0    1.252\n    concave points (worst):               0.0    0.291\n    symmetry (worst):                     0.156  0.664\n    fractal dimension (worst):            0.055  0.208\n    ===================================== ====== ======\n\n    :Missing Attribute Values: None\n\n    :Class Distribution: 212 - Malignant, 357 - Benign\n\n    :Creator:  Dr. William H. Wolberg, W. Nick Street, Olvi L. Mangasarian\n\n    :Donor: Nick Street\n\n    :Date: November, 1995\n\nThis is a copy of UCI ML Breast Cancer Wisconsin (Diagnostic) datasets.\nhttps://goo.gl/U2Uwz2\n\nFeatures are computed from a digitized image of a fine needle\naspirate (FNA) of a breast mass.  They describe\ncharacteristics of the cell nuclei present in the image.\n\nSeparating plane described above was obtained using\nMultisurface Method-Tree (MSM-T) [K. P. Bennett, \"Decision Tree\nConstruction Via Linear Programming.\" Proceedings of the 4th\nMidwest Artificial Intelligence and Cognitive Science Society,\npp. 97-101, 1992], a classification method which uses linear\nprogramming to construct a decision tree.  Relevant features\nwere selected using an exhaustive search in the space of 1-4\nfeatures and 1-3 separating planes.\n\nThe actual linear program used to obtain the separating plane\nin the 3-dimensional space is that described in:\n[K. P. Bennett and O. L. Mangasarian: \"Robust Linear\nProgramming Discrimination of Two Linearly Inseparable Sets\",\nOptimization Methods and Software 1, 1992, 23-34].\n\nThis database is also available through the UW CS ftp server:\n\nftp ftp.cs.wisc.edu\ncd math-prog/cpo-dataset/machine-learn/WDBC/\n\n.. topic:: References\n\n   - W.N. Street, W.H. Wolberg and O.L. Mangasarian. Nuclear feature extraction \n     for breast tumor diagnosis. IS&T/SPIE 1993 International Symposium on \n     Electronic Imaging: Science and Technology, volume 1905, pages 861-870,\n     San Jose, CA, 1993.\n   - O.L. Mangasarian, W.N. Street and W.H. Wolberg. Breast cancer diagnosis and \n     prognosis via linear programming. Operations Research, 43(4), pages 570-577, \n     July-August 1995.\n   - W.H. Wolberg, W.N. Street, and O.L. Mangasarian. Machine learning techniques\n     to diagnose breast cancer from fine-needle aspirates. Cancer Letters 77 (1994) \n     163-171.\n",
          "output_type": "stream"
        }
      ]
    },
    {
      "cell_type": "code",
      "metadata": {
        "ExecuteTime": {
          "end_time": "2021-04-29T10:00:29.471199Z",
          "start_time": "2021-04-29T10:00:29.455698Z"
        },
        "cell_id": "00006-a632dba2-e295-4541-8574-6b0531ad46b0",
        "deepnote_to_be_reexecuted": false,
        "source_hash": "77d5fa3a",
        "execution_start": 1619701372201,
        "deepnote_cell_type": "code"
      },
      "source": "cancer['feature_names']",
      "execution_count": 5,
      "outputs": [
        {
          "output_type": "execute_result",
          "execution_count": 5,
          "data": {
            "text/plain": "array(['mean radius', 'mean texture', 'mean perimeter', 'mean area',\n       'mean smoothness', 'mean compactness', 'mean concavity',\n       'mean concave points', 'mean symmetry', 'mean fractal dimension',\n       'radius error', 'texture error', 'perimeter error', 'area error',\n       'smoothness error', 'compactness error', 'concavity error',\n       'concave points error', 'symmetry error',\n       'fractal dimension error', 'worst radius', 'worst texture',\n       'worst perimeter', 'worst area', 'worst smoothness',\n       'worst compactness', 'worst concavity', 'worst concave points',\n       'worst symmetry', 'worst fractal dimension'], dtype='<U23')"
          },
          "metadata": {}
        }
      ]
    },
    {
      "cell_type": "code",
      "metadata": {
        "ExecuteTime": {
          "end_time": "2021-04-29T10:03:29.643824Z",
          "start_time": "2021-04-29T10:03:29.583066Z"
        },
        "deletable": false,
        "nbgrader": {
          "cell_type": "code",
          "checksum": "abd0743c6351cd80c18ffb35bc88f1e8",
          "grade": false,
          "grade_id": "cell-13eab9c14ca47094",
          "locked": false,
          "schema_version": 3,
          "solution": true,
          "task": false
        },
        "cell_id": "00007-73daa11f-fc80-4727-ac14-e2aa31265297",
        "deepnote_to_be_reexecuted": false,
        "source_hash": "6205e8cf",
        "execution_start": 1619701372259,
        "execution_millis": 138,
        "deepnote_cell_type": "code"
      },
      "source": "# 1 point\n\n#load the data from the dataset into a pd df\n\n#output a dataframe with the data of the dataset and the column names as feature names\n#IT SHOULD NOT INCLUDE THE TARGET \n\ndf_feat = 0\n\ndf_feat = pd.DataFrame(cancer.data, columns = cancer.feature_names)\ndf_feat.head()",
      "execution_count": 6,
      "outputs": [
        {
          "output_type": "execute_result",
          "execution_count": 6,
          "data": {
            "application/vnd.deepnote.dataframe.v2+json": {
              "row_count": 5,
              "column_count": 30,
              "columns": [
                {
                  "name": "mean radius",
                  "dtype": "float64",
                  "stats": {
                    "unique_count": 5,
                    "nan_count": 0,
                    "min": "11.42",
                    "max": "20.57",
                    "histogram": [
                      {
                        "bin_start": 11.42,
                        "bin_end": 12.335,
                        "count": 1
                      },
                      {
                        "bin_start": 12.335,
                        "bin_end": 13.25,
                        "count": 0
                      },
                      {
                        "bin_start": 13.25,
                        "bin_end": 14.165,
                        "count": 0
                      },
                      {
                        "bin_start": 14.165,
                        "bin_end": 15.08,
                        "count": 0
                      },
                      {
                        "bin_start": 15.08,
                        "bin_end": 15.995000000000001,
                        "count": 0
                      },
                      {
                        "bin_start": 15.995000000000001,
                        "bin_end": 16.91,
                        "count": 0
                      },
                      {
                        "bin_start": 16.91,
                        "bin_end": 17.825,
                        "count": 0
                      },
                      {
                        "bin_start": 17.825,
                        "bin_end": 18.740000000000002,
                        "count": 1
                      },
                      {
                        "bin_start": 18.740000000000002,
                        "bin_end": 19.655,
                        "count": 0
                      },
                      {
                        "bin_start": 19.655,
                        "bin_end": 20.57,
                        "count": 3
                      }
                    ]
                  }
                },
                {
                  "name": "mean texture",
                  "dtype": "float64",
                  "stats": {
                    "unique_count": 5,
                    "nan_count": 0,
                    "min": "10.38",
                    "max": "21.25",
                    "histogram": [
                      {
                        "bin_start": 10.38,
                        "bin_end": 11.467,
                        "count": 1
                      },
                      {
                        "bin_start": 11.467,
                        "bin_end": 12.554,
                        "count": 0
                      },
                      {
                        "bin_start": 12.554,
                        "bin_end": 13.641000000000002,
                        "count": 0
                      },
                      {
                        "bin_start": 13.641000000000002,
                        "bin_end": 14.728000000000002,
                        "count": 1
                      },
                      {
                        "bin_start": 14.728000000000002,
                        "bin_end": 15.815000000000001,
                        "count": 0
                      },
                      {
                        "bin_start": 15.815000000000001,
                        "bin_end": 16.902,
                        "count": 0
                      },
                      {
                        "bin_start": 16.902,
                        "bin_end": 17.989,
                        "count": 1
                      },
                      {
                        "bin_start": 17.989,
                        "bin_end": 19.076,
                        "count": 0
                      },
                      {
                        "bin_start": 19.076,
                        "bin_end": 20.163,
                        "count": 0
                      },
                      {
                        "bin_start": 20.163,
                        "bin_end": 21.25,
                        "count": 2
                      }
                    ]
                  }
                },
                {
                  "name": "mean perimeter",
                  "dtype": "float64",
                  "stats": {
                    "unique_count": 5,
                    "nan_count": 0,
                    "min": "77.58",
                    "max": "135.1",
                    "histogram": [
                      {
                        "bin_start": 77.58,
                        "bin_end": 83.332,
                        "count": 1
                      },
                      {
                        "bin_start": 83.332,
                        "bin_end": 89.084,
                        "count": 0
                      },
                      {
                        "bin_start": 89.084,
                        "bin_end": 94.836,
                        "count": 0
                      },
                      {
                        "bin_start": 94.836,
                        "bin_end": 100.588,
                        "count": 0
                      },
                      {
                        "bin_start": 100.588,
                        "bin_end": 106.34,
                        "count": 0
                      },
                      {
                        "bin_start": 106.34,
                        "bin_end": 112.092,
                        "count": 0
                      },
                      {
                        "bin_start": 112.092,
                        "bin_end": 117.844,
                        "count": 0
                      },
                      {
                        "bin_start": 117.844,
                        "bin_end": 123.596,
                        "count": 1
                      },
                      {
                        "bin_start": 123.596,
                        "bin_end": 129.348,
                        "count": 0
                      },
                      {
                        "bin_start": 129.348,
                        "bin_end": 135.1,
                        "count": 3
                      }
                    ]
                  }
                },
                {
                  "name": "mean area",
                  "dtype": "float64",
                  "stats": {
                    "unique_count": 5,
                    "nan_count": 0,
                    "min": "386.1",
                    "max": "1326.0",
                    "histogram": [
                      {
                        "bin_start": 386.1,
                        "bin_end": 480.09000000000003,
                        "count": 1
                      },
                      {
                        "bin_start": 480.09000000000003,
                        "bin_end": 574.08,
                        "count": 0
                      },
                      {
                        "bin_start": 574.08,
                        "bin_end": 668.0699999999999,
                        "count": 0
                      },
                      {
                        "bin_start": 668.0699999999999,
                        "bin_end": 762.06,
                        "count": 0
                      },
                      {
                        "bin_start": 762.06,
                        "bin_end": 856.05,
                        "count": 0
                      },
                      {
                        "bin_start": 856.05,
                        "bin_end": 950.04,
                        "count": 0
                      },
                      {
                        "bin_start": 950.04,
                        "bin_end": 1044.03,
                        "count": 1
                      },
                      {
                        "bin_start": 1044.03,
                        "bin_end": 1138.02,
                        "count": 0
                      },
                      {
                        "bin_start": 1138.02,
                        "bin_end": 1232.01,
                        "count": 1
                      },
                      {
                        "bin_start": 1232.01,
                        "bin_end": 1326,
                        "count": 2
                      }
                    ]
                  }
                },
                {
                  "name": "mean smoothness",
                  "dtype": "float64",
                  "stats": {
                    "unique_count": 5,
                    "nan_count": 0,
                    "min": "0.08474",
                    "max": "0.1425",
                    "histogram": [
                      {
                        "bin_start": 0.08474,
                        "bin_end": 0.090516,
                        "count": 1
                      },
                      {
                        "bin_start": 0.090516,
                        "bin_end": 0.09629199999999999,
                        "count": 0
                      },
                      {
                        "bin_start": 0.09629199999999999,
                        "bin_end": 0.10206799999999999,
                        "count": 1
                      },
                      {
                        "bin_start": 0.10206799999999999,
                        "bin_end": 0.107844,
                        "count": 0
                      },
                      {
                        "bin_start": 0.107844,
                        "bin_end": 0.11362,
                        "count": 1
                      },
                      {
                        "bin_start": 0.11362,
                        "bin_end": 0.11939599999999999,
                        "count": 1
                      },
                      {
                        "bin_start": 0.11939599999999999,
                        "bin_end": 0.125172,
                        "count": 0
                      },
                      {
                        "bin_start": 0.125172,
                        "bin_end": 0.13094799999999998,
                        "count": 0
                      },
                      {
                        "bin_start": 0.13094799999999998,
                        "bin_end": 0.13672399999999998,
                        "count": 0
                      },
                      {
                        "bin_start": 0.13672399999999998,
                        "bin_end": 0.1425,
                        "count": 1
                      }
                    ]
                  }
                },
                {
                  "name": "mean compactness",
                  "dtype": "float64",
                  "stats": {
                    "unique_count": 5,
                    "nan_count": 0,
                    "min": "0.07864",
                    "max": "0.2839",
                    "histogram": [
                      {
                        "bin_start": 0.07864,
                        "bin_end": 0.099166,
                        "count": 1
                      },
                      {
                        "bin_start": 0.099166,
                        "bin_end": 0.11969199999999999,
                        "count": 0
                      },
                      {
                        "bin_start": 0.11969199999999999,
                        "bin_end": 0.140218,
                        "count": 1
                      },
                      {
                        "bin_start": 0.140218,
                        "bin_end": 0.160744,
                        "count": 1
                      },
                      {
                        "bin_start": 0.160744,
                        "bin_end": 0.18127,
                        "count": 0
                      },
                      {
                        "bin_start": 0.18127,
                        "bin_end": 0.20179599999999998,
                        "count": 0
                      },
                      {
                        "bin_start": 0.20179599999999998,
                        "bin_end": 0.22232200000000002,
                        "count": 0
                      },
                      {
                        "bin_start": 0.22232200000000002,
                        "bin_end": 0.242848,
                        "count": 0
                      },
                      {
                        "bin_start": 0.242848,
                        "bin_end": 0.263374,
                        "count": 0
                      },
                      {
                        "bin_start": 0.263374,
                        "bin_end": 0.2839,
                        "count": 2
                      }
                    ]
                  }
                },
                {
                  "name": "mean concavity",
                  "dtype": "float64",
                  "stats": {
                    "unique_count": 5,
                    "nan_count": 0,
                    "min": "0.0869",
                    "max": "0.3001",
                    "histogram": [
                      {
                        "bin_start": 0.0869,
                        "bin_end": 0.10822000000000001,
                        "count": 1
                      },
                      {
                        "bin_start": 0.10822000000000001,
                        "bin_end": 0.12954,
                        "count": 0
                      },
                      {
                        "bin_start": 0.12954,
                        "bin_end": 0.15086,
                        "count": 0
                      },
                      {
                        "bin_start": 0.15086,
                        "bin_end": 0.17218,
                        "count": 0
                      },
                      {
                        "bin_start": 0.17218,
                        "bin_end": 0.1935,
                        "count": 0
                      },
                      {
                        "bin_start": 0.1935,
                        "bin_end": 0.21481999999999998,
                        "count": 2
                      },
                      {
                        "bin_start": 0.21481999999999998,
                        "bin_end": 0.23614,
                        "count": 0
                      },
                      {
                        "bin_start": 0.23614,
                        "bin_end": 0.25746,
                        "count": 1
                      },
                      {
                        "bin_start": 0.25746,
                        "bin_end": 0.27878000000000003,
                        "count": 0
                      },
                      {
                        "bin_start": 0.27878000000000003,
                        "bin_end": 0.3001,
                        "count": 1
                      }
                    ]
                  }
                },
                {
                  "name": "mean concave points",
                  "dtype": "float64",
                  "stats": {
                    "unique_count": 5,
                    "nan_count": 0,
                    "min": "0.07017",
                    "max": "0.1471",
                    "histogram": [
                      {
                        "bin_start": 0.07017,
                        "bin_end": 0.077863,
                        "count": 1
                      },
                      {
                        "bin_start": 0.077863,
                        "bin_end": 0.085556,
                        "count": 0
                      },
                      {
                        "bin_start": 0.085556,
                        "bin_end": 0.093249,
                        "count": 0
                      },
                      {
                        "bin_start": 0.093249,
                        "bin_end": 0.100942,
                        "count": 0
                      },
                      {
                        "bin_start": 0.100942,
                        "bin_end": 0.10863500000000001,
                        "count": 2
                      },
                      {
                        "bin_start": 0.10863500000000001,
                        "bin_end": 0.116328,
                        "count": 0
                      },
                      {
                        "bin_start": 0.116328,
                        "bin_end": 0.124021,
                        "count": 0
                      },
                      {
                        "bin_start": 0.124021,
                        "bin_end": 0.131714,
                        "count": 1
                      },
                      {
                        "bin_start": 0.131714,
                        "bin_end": 0.139407,
                        "count": 0
                      },
                      {
                        "bin_start": 0.139407,
                        "bin_end": 0.1471,
                        "count": 1
                      }
                    ]
                  }
                },
                {
                  "name": "mean symmetry",
                  "dtype": "float64",
                  "stats": {
                    "unique_count": 5,
                    "nan_count": 0,
                    "min": "0.1809",
                    "max": "0.2597",
                    "histogram": [
                      {
                        "bin_start": 0.1809,
                        "bin_end": 0.18878,
                        "count": 2
                      },
                      {
                        "bin_start": 0.18878,
                        "bin_end": 0.19666,
                        "count": 0
                      },
                      {
                        "bin_start": 0.19666,
                        "bin_end": 0.20454,
                        "count": 0
                      },
                      {
                        "bin_start": 0.20454,
                        "bin_end": 0.21242,
                        "count": 1
                      },
                      {
                        "bin_start": 0.21242,
                        "bin_end": 0.2203,
                        "count": 0
                      },
                      {
                        "bin_start": 0.2203,
                        "bin_end": 0.22818,
                        "count": 0
                      },
                      {
                        "bin_start": 0.22818,
                        "bin_end": 0.23606,
                        "count": 0
                      },
                      {
                        "bin_start": 0.23606,
                        "bin_end": 0.24394,
                        "count": 1
                      },
                      {
                        "bin_start": 0.24394,
                        "bin_end": 0.25182,
                        "count": 0
                      },
                      {
                        "bin_start": 0.25182,
                        "bin_end": 0.2597,
                        "count": 1
                      }
                    ]
                  }
                },
                {
                  "name": "mean fractal dimension",
                  "dtype": "float64",
                  "stats": {
                    "unique_count": 5,
                    "nan_count": 0,
                    "min": "0.05667",
                    "max": "0.09744",
                    "histogram": [
                      {
                        "bin_start": 0.05667,
                        "bin_end": 0.060746999999999995,
                        "count": 3
                      },
                      {
                        "bin_start": 0.060746999999999995,
                        "bin_end": 0.06482399999999999,
                        "count": 0
                      },
                      {
                        "bin_start": 0.06482399999999999,
                        "bin_end": 0.06890099999999999,
                        "count": 0
                      },
                      {
                        "bin_start": 0.06890099999999999,
                        "bin_end": 0.072978,
                        "count": 0
                      },
                      {
                        "bin_start": 0.072978,
                        "bin_end": 0.077055,
                        "count": 0
                      },
                      {
                        "bin_start": 0.077055,
                        "bin_end": 0.081132,
                        "count": 1
                      },
                      {
                        "bin_start": 0.081132,
                        "bin_end": 0.085209,
                        "count": 0
                      },
                      {
                        "bin_start": 0.085209,
                        "bin_end": 0.089286,
                        "count": 0
                      },
                      {
                        "bin_start": 0.089286,
                        "bin_end": 0.093363,
                        "count": 0
                      },
                      {
                        "bin_start": 0.093363,
                        "bin_end": 0.09744,
                        "count": 1
                      }
                    ]
                  }
                },
                {
                  "name": "radius error",
                  "dtype": "float64",
                  "stats": {
                    "unique_count": 5,
                    "nan_count": 0,
                    "min": "0.4956",
                    "max": "1.095",
                    "histogram": [
                      {
                        "bin_start": 0.4956,
                        "bin_end": 0.5555399999999999,
                        "count": 2
                      },
                      {
                        "bin_start": 0.5555399999999999,
                        "bin_end": 0.61548,
                        "count": 0
                      },
                      {
                        "bin_start": 0.61548,
                        "bin_end": 0.6754199999999999,
                        "count": 0
                      },
                      {
                        "bin_start": 0.6754199999999999,
                        "bin_end": 0.73536,
                        "count": 0
                      },
                      {
                        "bin_start": 0.73536,
                        "bin_end": 0.7952999999999999,
                        "count": 2
                      },
                      {
                        "bin_start": 0.7952999999999999,
                        "bin_end": 0.85524,
                        "count": 0
                      },
                      {
                        "bin_start": 0.85524,
                        "bin_end": 0.9151799999999999,
                        "count": 0
                      },
                      {
                        "bin_start": 0.9151799999999999,
                        "bin_end": 0.97512,
                        "count": 0
                      },
                      {
                        "bin_start": 0.97512,
                        "bin_end": 1.0350599999999999,
                        "count": 0
                      },
                      {
                        "bin_start": 1.0350599999999999,
                        "bin_end": 1.095,
                        "count": 1
                      }
                    ]
                  }
                },
                {
                  "name": "texture error",
                  "dtype": "float64",
                  "stats": {
                    "unique_count": 5,
                    "nan_count": 0,
                    "min": "0.7339",
                    "max": "1.156",
                    "histogram": [
                      {
                        "bin_start": 0.7339,
                        "bin_end": 0.77611,
                        "count": 1
                      },
                      {
                        "bin_start": 0.77611,
                        "bin_end": 0.8183199999999999,
                        "count": 2
                      },
                      {
                        "bin_start": 0.8183199999999999,
                        "bin_end": 0.86053,
                        "count": 0
                      },
                      {
                        "bin_start": 0.86053,
                        "bin_end": 0.90274,
                        "count": 0
                      },
                      {
                        "bin_start": 0.90274,
                        "bin_end": 0.94495,
                        "count": 1
                      },
                      {
                        "bin_start": 0.94495,
                        "bin_end": 0.9871599999999999,
                        "count": 0
                      },
                      {
                        "bin_start": 0.9871599999999999,
                        "bin_end": 1.02937,
                        "count": 0
                      },
                      {
                        "bin_start": 1.02937,
                        "bin_end": 1.07158,
                        "count": 0
                      },
                      {
                        "bin_start": 1.07158,
                        "bin_end": 1.1137899999999998,
                        "count": 0
                      },
                      {
                        "bin_start": 1.1137899999999998,
                        "bin_end": 1.156,
                        "count": 1
                      }
                    ]
                  }
                },
                {
                  "name": "perimeter error",
                  "dtype": "float64",
                  "stats": {
                    "unique_count": 5,
                    "nan_count": 0,
                    "min": "3.398",
                    "max": "8.589",
                    "histogram": [
                      {
                        "bin_start": 3.398,
                        "bin_end": 3.9171000000000005,
                        "count": 2
                      },
                      {
                        "bin_start": 3.9171000000000005,
                        "bin_end": 4.4362,
                        "count": 0
                      },
                      {
                        "bin_start": 4.4362,
                        "bin_end": 4.9553,
                        "count": 1
                      },
                      {
                        "bin_start": 4.9553,
                        "bin_end": 5.474400000000001,
                        "count": 1
                      },
                      {
                        "bin_start": 5.474400000000001,
                        "bin_end": 5.993500000000001,
                        "count": 0
                      },
                      {
                        "bin_start": 5.993500000000001,
                        "bin_end": 6.512600000000001,
                        "count": 0
                      },
                      {
                        "bin_start": 6.512600000000001,
                        "bin_end": 7.031700000000001,
                        "count": 0
                      },
                      {
                        "bin_start": 7.031700000000001,
                        "bin_end": 7.550800000000001,
                        "count": 0
                      },
                      {
                        "bin_start": 7.550800000000001,
                        "bin_end": 8.0699,
                        "count": 0
                      },
                      {
                        "bin_start": 8.0699,
                        "bin_end": 8.589,
                        "count": 1
                      }
                    ]
                  }
                },
                {
                  "name": "area error",
                  "dtype": "float64",
                  "stats": {
                    "unique_count": 5,
                    "nan_count": 0,
                    "min": "27.23",
                    "max": "153.4",
                    "histogram": [
                      {
                        "bin_start": 27.23,
                        "bin_end": 39.847,
                        "count": 1
                      },
                      {
                        "bin_start": 39.847,
                        "bin_end": 52.464,
                        "count": 0
                      },
                      {
                        "bin_start": 52.464,
                        "bin_end": 65.081,
                        "count": 0
                      },
                      {
                        "bin_start": 65.081,
                        "bin_end": 77.69800000000001,
                        "count": 1
                      },
                      {
                        "bin_start": 77.69800000000001,
                        "bin_end": 90.31500000000001,
                        "count": 0
                      },
                      {
                        "bin_start": 90.31500000000001,
                        "bin_end": 102.932,
                        "count": 2
                      },
                      {
                        "bin_start": 102.932,
                        "bin_end": 115.549,
                        "count": 0
                      },
                      {
                        "bin_start": 115.549,
                        "bin_end": 128.166,
                        "count": 0
                      },
                      {
                        "bin_start": 128.166,
                        "bin_end": 140.78300000000002,
                        "count": 0
                      },
                      {
                        "bin_start": 140.78300000000002,
                        "bin_end": 153.4,
                        "count": 1
                      }
                    ]
                  }
                },
                {
                  "name": "smoothness error",
                  "dtype": "float64",
                  "stats": {
                    "unique_count": 5,
                    "nan_count": 0,
                    "min": "0.005225",
                    "max": "0.01149",
                    "histogram": [
                      {
                        "bin_start": 0.005225,
                        "bin_end": 0.0058515,
                        "count": 1
                      },
                      {
                        "bin_start": 0.0058515,
                        "bin_end": 0.006477999999999999,
                        "count": 2
                      },
                      {
                        "bin_start": 0.006477999999999999,
                        "bin_end": 0.0071045,
                        "count": 0
                      },
                      {
                        "bin_start": 0.0071045,
                        "bin_end": 0.007731,
                        "count": 0
                      },
                      {
                        "bin_start": 0.007731,
                        "bin_end": 0.0083575,
                        "count": 0
                      },
                      {
                        "bin_start": 0.0083575,
                        "bin_end": 0.008984,
                        "count": 0
                      },
                      {
                        "bin_start": 0.008984,
                        "bin_end": 0.009610500000000001,
                        "count": 1
                      },
                      {
                        "bin_start": 0.009610500000000001,
                        "bin_end": 0.010237,
                        "count": 0
                      },
                      {
                        "bin_start": 0.010237,
                        "bin_end": 0.010863500000000002,
                        "count": 0
                      },
                      {
                        "bin_start": 0.010863500000000002,
                        "bin_end": 0.01149,
                        "count": 1
                      }
                    ]
                  }
                },
                {
                  "name": "compactness error",
                  "dtype": "float64",
                  "stats": {
                    "unique_count": 5,
                    "nan_count": 0,
                    "min": "0.01308",
                    "max": "0.07458",
                    "histogram": [
                      {
                        "bin_start": 0.01308,
                        "bin_end": 0.019229999999999997,
                        "count": 1
                      },
                      {
                        "bin_start": 0.019229999999999997,
                        "bin_end": 0.02538,
                        "count": 1
                      },
                      {
                        "bin_start": 0.02538,
                        "bin_end": 0.031529999999999996,
                        "count": 0
                      },
                      {
                        "bin_start": 0.031529999999999996,
                        "bin_end": 0.03768,
                        "count": 0
                      },
                      {
                        "bin_start": 0.03768,
                        "bin_end": 0.043829999999999994,
                        "count": 1
                      },
                      {
                        "bin_start": 0.043829999999999994,
                        "bin_end": 0.04998,
                        "count": 1
                      },
                      {
                        "bin_start": 0.04998,
                        "bin_end": 0.05612999999999999,
                        "count": 0
                      },
                      {
                        "bin_start": 0.05612999999999999,
                        "bin_end": 0.062279999999999995,
                        "count": 0
                      },
                      {
                        "bin_start": 0.062279999999999995,
                        "bin_end": 0.06842999999999999,
                        "count": 0
                      },
                      {
                        "bin_start": 0.06842999999999999,
                        "bin_end": 0.07458,
                        "count": 1
                      }
                    ]
                  }
                },
                {
                  "name": "concavity error",
                  "dtype": "float64",
                  "stats": {
                    "unique_count": 5,
                    "nan_count": 0,
                    "min": "0.0186",
                    "max": "0.05688",
                    "histogram": [
                      {
                        "bin_start": 0.0186,
                        "bin_end": 0.022428,
                        "count": 1
                      },
                      {
                        "bin_start": 0.022428,
                        "bin_end": 0.026255999999999998,
                        "count": 0
                      },
                      {
                        "bin_start": 0.026255999999999998,
                        "bin_end": 0.030084,
                        "count": 0
                      },
                      {
                        "bin_start": 0.030084,
                        "bin_end": 0.033912,
                        "count": 0
                      },
                      {
                        "bin_start": 0.033912,
                        "bin_end": 0.037739999999999996,
                        "count": 0
                      },
                      {
                        "bin_start": 0.037739999999999996,
                        "bin_end": 0.041568,
                        "count": 1
                      },
                      {
                        "bin_start": 0.041568,
                        "bin_end": 0.045396,
                        "count": 0
                      },
                      {
                        "bin_start": 0.045396,
                        "bin_end": 0.049224000000000004,
                        "count": 0
                      },
                      {
                        "bin_start": 0.049224000000000004,
                        "bin_end": 0.053052,
                        "count": 0
                      },
                      {
                        "bin_start": 0.053052,
                        "bin_end": 0.05688,
                        "count": 3
                      }
                    ]
                  }
                },
                {
                  "name": "concave points error",
                  "dtype": "float64",
                  "stats": {
                    "unique_count": 5,
                    "nan_count": 0,
                    "min": "0.0134",
                    "max": "0.02058",
                    "histogram": [
                      {
                        "bin_start": 0.0134,
                        "bin_end": 0.014118,
                        "count": 1
                      },
                      {
                        "bin_start": 0.014118,
                        "bin_end": 0.014836,
                        "count": 0
                      },
                      {
                        "bin_start": 0.014836,
                        "bin_end": 0.015554000000000002,
                        "count": 0
                      },
                      {
                        "bin_start": 0.015554000000000002,
                        "bin_end": 0.016272000000000002,
                        "count": 1
                      },
                      {
                        "bin_start": 0.016272000000000002,
                        "bin_end": 0.01699,
                        "count": 0
                      },
                      {
                        "bin_start": 0.01699,
                        "bin_end": 0.017708,
                        "count": 0
                      },
                      {
                        "bin_start": 0.017708,
                        "bin_end": 0.018426,
                        "count": 0
                      },
                      {
                        "bin_start": 0.018426,
                        "bin_end": 0.019144,
                        "count": 2
                      },
                      {
                        "bin_start": 0.019144,
                        "bin_end": 0.019862,
                        "count": 0
                      },
                      {
                        "bin_start": 0.019862,
                        "bin_end": 0.02058,
                        "count": 1
                      }
                    ]
                  }
                },
                {
                  "name": "symmetry error",
                  "dtype": "float64",
                  "stats": {
                    "unique_count": 5,
                    "nan_count": 0,
                    "min": "0.01389",
                    "max": "0.05963",
                    "histogram": [
                      {
                        "bin_start": 0.01389,
                        "bin_end": 0.018464,
                        "count": 2
                      },
                      {
                        "bin_start": 0.018464,
                        "bin_end": 0.023038,
                        "count": 1
                      },
                      {
                        "bin_start": 0.023038,
                        "bin_end": 0.027611999999999998,
                        "count": 0
                      },
                      {
                        "bin_start": 0.027611999999999998,
                        "bin_end": 0.032186,
                        "count": 1
                      },
                      {
                        "bin_start": 0.032186,
                        "bin_end": 0.03676,
                        "count": 0
                      },
                      {
                        "bin_start": 0.03676,
                        "bin_end": 0.041333999999999996,
                        "count": 0
                      },
                      {
                        "bin_start": 0.041333999999999996,
                        "bin_end": 0.045908,
                        "count": 0
                      },
                      {
                        "bin_start": 0.045908,
                        "bin_end": 0.050482,
                        "count": 0
                      },
                      {
                        "bin_start": 0.050482,
                        "bin_end": 0.055056,
                        "count": 0
                      },
                      {
                        "bin_start": 0.055056,
                        "bin_end": 0.05963,
                        "count": 1
                      }
                    ]
                  }
                },
                {
                  "name": "fractal dimension error",
                  "dtype": "float64",
                  "stats": {
                    "unique_count": 5,
                    "nan_count": 0,
                    "min": "0.003532",
                    "max": "0.009208",
                    "histogram": [
                      {
                        "bin_start": 0.003532,
                        "bin_end": 0.0040996,
                        "count": 1
                      },
                      {
                        "bin_start": 0.0040996,
                        "bin_end": 0.0046672,
                        "count": 1
                      },
                      {
                        "bin_start": 0.0046672,
                        "bin_end": 0.0052347999999999995,
                        "count": 1
                      },
                      {
                        "bin_start": 0.0052347999999999995,
                        "bin_end": 0.005802399999999999,
                        "count": 0
                      },
                      {
                        "bin_start": 0.005802399999999999,
                        "bin_end": 0.006369999999999999,
                        "count": 1
                      },
                      {
                        "bin_start": 0.006369999999999999,
                        "bin_end": 0.0069375999999999995,
                        "count": 0
                      },
                      {
                        "bin_start": 0.0069375999999999995,
                        "bin_end": 0.0075052,
                        "count": 0
                      },
                      {
                        "bin_start": 0.0075052,
                        "bin_end": 0.0080728,
                        "count": 0
                      },
                      {
                        "bin_start": 0.0080728,
                        "bin_end": 0.0086404,
                        "count": 0
                      },
                      {
                        "bin_start": 0.0086404,
                        "bin_end": 0.009208,
                        "count": 1
                      }
                    ]
                  }
                },
                {
                  "name": "worst radius",
                  "dtype": "float64",
                  "stats": {
                    "unique_count": 5,
                    "nan_count": 0,
                    "min": "14.91",
                    "max": "25.38",
                    "histogram": [
                      {
                        "bin_start": 14.91,
                        "bin_end": 15.957,
                        "count": 1
                      },
                      {
                        "bin_start": 15.957,
                        "bin_end": 17.004,
                        "count": 0
                      },
                      {
                        "bin_start": 17.004,
                        "bin_end": 18.051000000000002,
                        "count": 0
                      },
                      {
                        "bin_start": 18.051000000000002,
                        "bin_end": 19.098,
                        "count": 0
                      },
                      {
                        "bin_start": 19.098,
                        "bin_end": 20.145,
                        "count": 0
                      },
                      {
                        "bin_start": 20.145,
                        "bin_end": 21.192,
                        "count": 0
                      },
                      {
                        "bin_start": 21.192,
                        "bin_end": 22.239,
                        "count": 0
                      },
                      {
                        "bin_start": 22.239,
                        "bin_end": 23.286,
                        "count": 1
                      },
                      {
                        "bin_start": 23.286,
                        "bin_end": 24.333,
                        "count": 1
                      },
                      {
                        "bin_start": 24.333,
                        "bin_end": 25.38,
                        "count": 2
                      }
                    ]
                  }
                },
                {
                  "name": "worst texture",
                  "dtype": "float64",
                  "stats": {
                    "unique_count": 5,
                    "nan_count": 0,
                    "min": "16.67",
                    "max": "26.5",
                    "histogram": [
                      {
                        "bin_start": 16.67,
                        "bin_end": 17.653000000000002,
                        "count": 2
                      },
                      {
                        "bin_start": 17.653000000000002,
                        "bin_end": 18.636000000000003,
                        "count": 0
                      },
                      {
                        "bin_start": 18.636000000000003,
                        "bin_end": 19.619,
                        "count": 0
                      },
                      {
                        "bin_start": 19.619,
                        "bin_end": 20.602,
                        "count": 0
                      },
                      {
                        "bin_start": 20.602,
                        "bin_end": 21.585,
                        "count": 0
                      },
                      {
                        "bin_start": 21.585,
                        "bin_end": 22.568,
                        "count": 0
                      },
                      {
                        "bin_start": 22.568,
                        "bin_end": 23.551000000000002,
                        "count": 1
                      },
                      {
                        "bin_start": 23.551000000000002,
                        "bin_end": 24.534,
                        "count": 0
                      },
                      {
                        "bin_start": 24.534,
                        "bin_end": 25.517000000000003,
                        "count": 0
                      },
                      {
                        "bin_start": 25.517000000000003,
                        "bin_end": 26.5,
                        "count": 2
                      }
                    ]
                  }
                },
                {
                  "name": "worst perimeter",
                  "dtype": "float64",
                  "stats": {
                    "unique_count": 5,
                    "nan_count": 0,
                    "min": "98.87",
                    "max": "184.6",
                    "histogram": [
                      {
                        "bin_start": 98.87,
                        "bin_end": 107.443,
                        "count": 1
                      },
                      {
                        "bin_start": 107.443,
                        "bin_end": 116.016,
                        "count": 0
                      },
                      {
                        "bin_start": 116.016,
                        "bin_end": 124.589,
                        "count": 0
                      },
                      {
                        "bin_start": 124.589,
                        "bin_end": 133.162,
                        "count": 0
                      },
                      {
                        "bin_start": 133.162,
                        "bin_end": 141.735,
                        "count": 0
                      },
                      {
                        "bin_start": 141.735,
                        "bin_end": 150.308,
                        "count": 0
                      },
                      {
                        "bin_start": 150.308,
                        "bin_end": 158.881,
                        "count": 3
                      },
                      {
                        "bin_start": 158.881,
                        "bin_end": 167.454,
                        "count": 0
                      },
                      {
                        "bin_start": 167.454,
                        "bin_end": 176.027,
                        "count": 0
                      },
                      {
                        "bin_start": 176.027,
                        "bin_end": 184.6,
                        "count": 1
                      }
                    ]
                  }
                },
                {
                  "name": "worst area",
                  "dtype": "float64",
                  "stats": {
                    "unique_count": 5,
                    "nan_count": 0,
                    "min": "567.7",
                    "max": "2019.0",
                    "histogram": [
                      {
                        "bin_start": 567.7,
                        "bin_end": 712.83,
                        "count": 1
                      },
                      {
                        "bin_start": 712.83,
                        "bin_end": 857.96,
                        "count": 0
                      },
                      {
                        "bin_start": 857.96,
                        "bin_end": 1003.09,
                        "count": 0
                      },
                      {
                        "bin_start": 1003.09,
                        "bin_end": 1148.22,
                        "count": 0
                      },
                      {
                        "bin_start": 1148.22,
                        "bin_end": 1293.35,
                        "count": 0
                      },
                      {
                        "bin_start": 1293.35,
                        "bin_end": 1438.48,
                        "count": 0
                      },
                      {
                        "bin_start": 1438.48,
                        "bin_end": 1583.6100000000001,
                        "count": 1
                      },
                      {
                        "bin_start": 1583.6100000000001,
                        "bin_end": 1728.74,
                        "count": 1
                      },
                      {
                        "bin_start": 1728.74,
                        "bin_end": 1873.8700000000001,
                        "count": 0
                      },
                      {
                        "bin_start": 1873.8700000000001,
                        "bin_end": 2019,
                        "count": 2
                      }
                    ]
                  }
                },
                {
                  "name": "worst smoothness",
                  "dtype": "float64",
                  "stats": {
                    "unique_count": 5,
                    "nan_count": 0,
                    "min": "0.1238",
                    "max": "0.2098",
                    "histogram": [
                      {
                        "bin_start": 0.1238,
                        "bin_end": 0.1324,
                        "count": 1
                      },
                      {
                        "bin_start": 0.1324,
                        "bin_end": 0.141,
                        "count": 1
                      },
                      {
                        "bin_start": 0.141,
                        "bin_end": 0.14959999999999998,
                        "count": 1
                      },
                      {
                        "bin_start": 0.14959999999999998,
                        "bin_end": 0.1582,
                        "count": 0
                      },
                      {
                        "bin_start": 0.1582,
                        "bin_end": 0.1668,
                        "count": 1
                      },
                      {
                        "bin_start": 0.1668,
                        "bin_end": 0.1754,
                        "count": 0
                      },
                      {
                        "bin_start": 0.1754,
                        "bin_end": 0.184,
                        "count": 0
                      },
                      {
                        "bin_start": 0.184,
                        "bin_end": 0.1926,
                        "count": 0
                      },
                      {
                        "bin_start": 0.1926,
                        "bin_end": 0.2012,
                        "count": 0
                      },
                      {
                        "bin_start": 0.2012,
                        "bin_end": 0.2098,
                        "count": 1
                      }
                    ]
                  }
                },
                {
                  "name": "worst compactness",
                  "dtype": "float64",
                  "stats": {
                    "unique_count": 5,
                    "nan_count": 0,
                    "min": "0.1866",
                    "max": "0.8663",
                    "histogram": [
                      {
                        "bin_start": 0.1866,
                        "bin_end": 0.25456999999999996,
                        "count": 2
                      },
                      {
                        "bin_start": 0.25456999999999996,
                        "bin_end": 0.32254,
                        "count": 0
                      },
                      {
                        "bin_start": 0.32254,
                        "bin_end": 0.39051,
                        "count": 0
                      },
                      {
                        "bin_start": 0.39051,
                        "bin_end": 0.45848,
                        "count": 1
                      },
                      {
                        "bin_start": 0.45848,
                        "bin_end": 0.52645,
                        "count": 0
                      },
                      {
                        "bin_start": 0.52645,
                        "bin_end": 0.59442,
                        "count": 0
                      },
                      {
                        "bin_start": 0.59442,
                        "bin_end": 0.66239,
                        "count": 0
                      },
                      {
                        "bin_start": 0.66239,
                        "bin_end": 0.73036,
                        "count": 1
                      },
                      {
                        "bin_start": 0.73036,
                        "bin_end": 0.79833,
                        "count": 0
                      },
                      {
                        "bin_start": 0.79833,
                        "bin_end": 0.8663,
                        "count": 1
                      }
                    ]
                  }
                },
                {
                  "name": "worst concavity",
                  "dtype": "float64",
                  "stats": {
                    "unique_count": 5,
                    "nan_count": 0,
                    "min": "0.2416",
                    "max": "0.7119",
                    "histogram": [
                      {
                        "bin_start": 0.2416,
                        "bin_end": 0.28863,
                        "count": 1
                      },
                      {
                        "bin_start": 0.28863,
                        "bin_end": 0.33566,
                        "count": 0
                      },
                      {
                        "bin_start": 0.33566,
                        "bin_end": 0.38269,
                        "count": 0
                      },
                      {
                        "bin_start": 0.38269,
                        "bin_end": 0.42972,
                        "count": 1
                      },
                      {
                        "bin_start": 0.42972,
                        "bin_end": 0.47675,
                        "count": 1
                      },
                      {
                        "bin_start": 0.47675,
                        "bin_end": 0.52378,
                        "count": 0
                      },
                      {
                        "bin_start": 0.52378,
                        "bin_end": 0.5708099999999999,
                        "count": 0
                      },
                      {
                        "bin_start": 0.5708099999999999,
                        "bin_end": 0.61784,
                        "count": 0
                      },
                      {
                        "bin_start": 0.61784,
                        "bin_end": 0.66487,
                        "count": 0
                      },
                      {
                        "bin_start": 0.66487,
                        "bin_end": 0.7119,
                        "count": 2
                      }
                    ]
                  }
                },
                {
                  "name": "worst concave points",
                  "dtype": "float64",
                  "stats": {
                    "unique_count": 5,
                    "nan_count": 0,
                    "min": "0.1625",
                    "max": "0.2654",
                    "histogram": [
                      {
                        "bin_start": 0.1625,
                        "bin_end": 0.17279,
                        "count": 1
                      },
                      {
                        "bin_start": 0.17279,
                        "bin_end": 0.18308000000000002,
                        "count": 0
                      },
                      {
                        "bin_start": 0.18308000000000002,
                        "bin_end": 0.19337000000000001,
                        "count": 1
                      },
                      {
                        "bin_start": 0.19337000000000001,
                        "bin_end": 0.20366,
                        "count": 0
                      },
                      {
                        "bin_start": 0.20366,
                        "bin_end": 0.21395000000000003,
                        "count": 0
                      },
                      {
                        "bin_start": 0.21395000000000003,
                        "bin_end": 0.22424000000000002,
                        "count": 0
                      },
                      {
                        "bin_start": 0.22424000000000002,
                        "bin_end": 0.23453000000000002,
                        "count": 0
                      },
                      {
                        "bin_start": 0.23453000000000002,
                        "bin_end": 0.24482000000000004,
                        "count": 1
                      },
                      {
                        "bin_start": 0.24482000000000004,
                        "bin_end": 0.25511000000000006,
                        "count": 0
                      },
                      {
                        "bin_start": 0.25511000000000006,
                        "bin_end": 0.2654,
                        "count": 2
                      }
                    ]
                  }
                },
                {
                  "name": "worst symmetry",
                  "dtype": "float64",
                  "stats": {
                    "unique_count": 5,
                    "nan_count": 0,
                    "min": "0.2364",
                    "max": "0.6638",
                    "histogram": [
                      {
                        "bin_start": 0.2364,
                        "bin_end": 0.27914,
                        "count": 2
                      },
                      {
                        "bin_start": 0.27914,
                        "bin_end": 0.32188,
                        "count": 0
                      },
                      {
                        "bin_start": 0.32188,
                        "bin_end": 0.36461999999999994,
                        "count": 1
                      },
                      {
                        "bin_start": 0.36461999999999994,
                        "bin_end": 0.40735999999999994,
                        "count": 0
                      },
                      {
                        "bin_start": 0.40735999999999994,
                        "bin_end": 0.45009999999999994,
                        "count": 0
                      },
                      {
                        "bin_start": 0.45009999999999994,
                        "bin_end": 0.49283999999999994,
                        "count": 1
                      },
                      {
                        "bin_start": 0.49283999999999994,
                        "bin_end": 0.53558,
                        "count": 0
                      },
                      {
                        "bin_start": 0.53558,
                        "bin_end": 0.57832,
                        "count": 0
                      },
                      {
                        "bin_start": 0.57832,
                        "bin_end": 0.62106,
                        "count": 0
                      },
                      {
                        "bin_start": 0.62106,
                        "bin_end": 0.6638,
                        "count": 1
                      }
                    ]
                  }
                },
                {
                  "name": "worst fractal dimension",
                  "dtype": "float64",
                  "stats": {
                    "unique_count": 5,
                    "nan_count": 0,
                    "min": "0.07678",
                    "max": "0.173",
                    "histogram": [
                      {
                        "bin_start": 0.07678,
                        "bin_end": 0.086402,
                        "count": 1
                      },
                      {
                        "bin_start": 0.086402,
                        "bin_end": 0.096024,
                        "count": 2
                      },
                      {
                        "bin_start": 0.096024,
                        "bin_end": 0.10564599999999999,
                        "count": 0
                      },
                      {
                        "bin_start": 0.10564599999999999,
                        "bin_end": 0.115268,
                        "count": 0
                      },
                      {
                        "bin_start": 0.115268,
                        "bin_end": 0.12489,
                        "count": 1
                      },
                      {
                        "bin_start": 0.12489,
                        "bin_end": 0.134512,
                        "count": 0
                      },
                      {
                        "bin_start": 0.134512,
                        "bin_end": 0.14413399999999998,
                        "count": 0
                      },
                      {
                        "bin_start": 0.14413399999999998,
                        "bin_end": 0.153756,
                        "count": 0
                      },
                      {
                        "bin_start": 0.153756,
                        "bin_end": 0.16337799999999997,
                        "count": 0
                      },
                      {
                        "bin_start": 0.16337799999999997,
                        "bin_end": 0.173,
                        "count": 1
                      }
                    ]
                  }
                },
                {
                  "name": "_deepnote_index_column",
                  "dtype": "int64"
                }
              ],
              "rows_top": [
                {
                  "mean radius": 17.99,
                  "mean texture": 10.38,
                  "mean perimeter": 122.8,
                  "mean area": 1001,
                  "mean smoothness": 0.1184,
                  "mean compactness": 0.2776,
                  "mean concavity": 0.3001,
                  "mean concave points": 0.1471,
                  "mean symmetry": 0.2419,
                  "mean fractal dimension": 0.07871,
                  "radius error": 1.095,
                  "texture error": 0.9053,
                  "perimeter error": 8.589,
                  "area error": 153.4,
                  "smoothness error": 0.006399,
                  "compactness error": 0.04904,
                  "concavity error": 0.05373,
                  "concave points error": 0.01587,
                  "symmetry error": 0.03003,
                  "fractal dimension error": 0.006193,
                  "worst radius": 25.38,
                  "worst texture": 17.33,
                  "worst perimeter": 184.6,
                  "worst area": 2019,
                  "worst smoothness": 0.1622,
                  "worst compactness": 0.6656,
                  "worst concavity": 0.7119,
                  "worst concave points": 0.2654,
                  "worst symmetry": 0.4601,
                  "worst fractal dimension": 0.1189,
                  "_deepnote_index_column": 0
                },
                {
                  "mean radius": 20.57,
                  "mean texture": 17.77,
                  "mean perimeter": 132.9,
                  "mean area": 1326,
                  "mean smoothness": 0.08474,
                  "mean compactness": 0.07864,
                  "mean concavity": 0.0869,
                  "mean concave points": 0.07017,
                  "mean symmetry": 0.1812,
                  "mean fractal dimension": 0.05667,
                  "radius error": 0.5435,
                  "texture error": 0.7339,
                  "perimeter error": 3.398,
                  "area error": 74.08,
                  "smoothness error": 0.005225,
                  "compactness error": 0.01308,
                  "concavity error": 0.0186,
                  "concave points error": 0.0134,
                  "symmetry error": 0.01389,
                  "fractal dimension error": 0.003532,
                  "worst radius": 24.99,
                  "worst texture": 23.41,
                  "worst perimeter": 158.8,
                  "worst area": 1956,
                  "worst smoothness": 0.1238,
                  "worst compactness": 0.1866,
                  "worst concavity": 0.2416,
                  "worst concave points": 0.186,
                  "worst symmetry": 0.275,
                  "worst fractal dimension": 0.08902,
                  "_deepnote_index_column": 1
                },
                {
                  "mean radius": 19.69,
                  "mean texture": 21.25,
                  "mean perimeter": 130,
                  "mean area": 1203,
                  "mean smoothness": 0.1096,
                  "mean compactness": 0.1599,
                  "mean concavity": 0.1974,
                  "mean concave points": 0.1279,
                  "mean symmetry": 0.2069,
                  "mean fractal dimension": 0.05999,
                  "radius error": 0.7456,
                  "texture error": 0.7869,
                  "perimeter error": 4.585,
                  "area error": 94.03,
                  "smoothness error": 0.00615,
                  "compactness error": 0.04006,
                  "concavity error": 0.03832,
                  "concave points error": 0.02058,
                  "symmetry error": 0.0225,
                  "fractal dimension error": 0.004571,
                  "worst radius": 23.57,
                  "worst texture": 25.53,
                  "worst perimeter": 152.5,
                  "worst area": 1709,
                  "worst smoothness": 0.1444,
                  "worst compactness": 0.4245,
                  "worst concavity": 0.4504,
                  "worst concave points": 0.243,
                  "worst symmetry": 0.3613,
                  "worst fractal dimension": 0.08758,
                  "_deepnote_index_column": 2
                },
                {
                  "mean radius": 11.42,
                  "mean texture": 20.38,
                  "mean perimeter": 77.58,
                  "mean area": 386.1,
                  "mean smoothness": 0.1425,
                  "mean compactness": 0.2839,
                  "mean concavity": 0.2414,
                  "mean concave points": 0.1052,
                  "mean symmetry": 0.2597,
                  "mean fractal dimension": 0.09744,
                  "radius error": 0.4956,
                  "texture error": 1.156,
                  "perimeter error": 3.445,
                  "area error": 27.23,
                  "smoothness error": 0.00911,
                  "compactness error": 0.07458,
                  "concavity error": 0.05661,
                  "concave points error": 0.01867,
                  "symmetry error": 0.05963,
                  "fractal dimension error": 0.009208,
                  "worst radius": 14.91,
                  "worst texture": 26.5,
                  "worst perimeter": 98.87,
                  "worst area": 567.7,
                  "worst smoothness": 0.2098,
                  "worst compactness": 0.8663,
                  "worst concavity": 0.6869,
                  "worst concave points": 0.2575,
                  "worst symmetry": 0.6638,
                  "worst fractal dimension": 0.173,
                  "_deepnote_index_column": 3
                },
                {
                  "mean radius": 20.29,
                  "mean texture": 14.34,
                  "mean perimeter": 135.1,
                  "mean area": 1297,
                  "mean smoothness": 0.1003,
                  "mean compactness": 0.1328,
                  "mean concavity": 0.198,
                  "mean concave points": 0.1043,
                  "mean symmetry": 0.1809,
                  "mean fractal dimension": 0.05883,
                  "radius error": 0.7572,
                  "texture error": 0.7813,
                  "perimeter error": 5.438,
                  "area error": 94.44,
                  "smoothness error": 0.01149,
                  "compactness error": 0.02461,
                  "concavity error": 0.05688,
                  "concave points error": 0.01885,
                  "symmetry error": 0.01756,
                  "fractal dimension error": 0.005115,
                  "worst radius": 22.54,
                  "worst texture": 16.67,
                  "worst perimeter": 152.2,
                  "worst area": 1575,
                  "worst smoothness": 0.1374,
                  "worst compactness": 0.205,
                  "worst concavity": 0.4,
                  "worst concave points": 0.1625,
                  "worst symmetry": 0.2364,
                  "worst fractal dimension": 0.07678,
                  "_deepnote_index_column": 4
                }
              ],
              "rows_bottom": null
            },
            "text/plain": "   mean radius  mean texture  mean perimeter  mean area  mean smoothness  \\\n0        17.99         10.38          122.80     1001.0          0.11840   \n1        20.57         17.77          132.90     1326.0          0.08474   \n2        19.69         21.25          130.00     1203.0          0.10960   \n3        11.42         20.38           77.58      386.1          0.14250   \n4        20.29         14.34          135.10     1297.0          0.10030   \n\n   mean compactness  mean concavity  mean concave points  mean symmetry  \\\n0           0.27760          0.3001              0.14710         0.2419   \n1           0.07864          0.0869              0.07017         0.1812   \n2           0.15990          0.1974              0.12790         0.2069   \n3           0.28390          0.2414              0.10520         0.2597   \n4           0.13280          0.1980              0.10430         0.1809   \n\n   mean fractal dimension  ...  worst radius  worst texture  worst perimeter  \\\n0                 0.07871  ...         25.38          17.33           184.60   \n1                 0.05667  ...         24.99          23.41           158.80   \n2                 0.05999  ...         23.57          25.53           152.50   \n3                 0.09744  ...         14.91          26.50            98.87   \n4                 0.05883  ...         22.54          16.67           152.20   \n\n   worst area  worst smoothness  worst compactness  worst concavity  \\\n0      2019.0            0.1622             0.6656           0.7119   \n1      1956.0            0.1238             0.1866           0.2416   \n2      1709.0            0.1444             0.4245           0.4504   \n3       567.7            0.2098             0.8663           0.6869   \n4      1575.0            0.1374             0.2050           0.4000   \n\n   worst concave points  worst symmetry  worst fractal dimension  \n0                0.2654          0.4601                  0.11890  \n1                0.1860          0.2750                  0.08902  \n2                0.2430          0.3613                  0.08758  \n3                0.2575          0.6638                  0.17300  \n4                0.1625          0.2364                  0.07678  \n\n[5 rows x 30 columns]",
            "text/html": "<div>\n<style scoped>\n    .dataframe tbody tr th:only-of-type {\n        vertical-align: middle;\n    }\n\n    .dataframe tbody tr th {\n        vertical-align: top;\n    }\n\n    .dataframe thead th {\n        text-align: right;\n    }\n</style>\n<table border=\"1\" class=\"dataframe\">\n  <thead>\n    <tr style=\"text-align: right;\">\n      <th></th>\n      <th>mean radius</th>\n      <th>mean texture</th>\n      <th>mean perimeter</th>\n      <th>mean area</th>\n      <th>mean smoothness</th>\n      <th>mean compactness</th>\n      <th>mean concavity</th>\n      <th>mean concave points</th>\n      <th>mean symmetry</th>\n      <th>mean fractal dimension</th>\n      <th>...</th>\n      <th>worst radius</th>\n      <th>worst texture</th>\n      <th>worst perimeter</th>\n      <th>worst area</th>\n      <th>worst smoothness</th>\n      <th>worst compactness</th>\n      <th>worst concavity</th>\n      <th>worst concave points</th>\n      <th>worst symmetry</th>\n      <th>worst fractal dimension</th>\n    </tr>\n  </thead>\n  <tbody>\n    <tr>\n      <th>0</th>\n      <td>17.99</td>\n      <td>10.38</td>\n      <td>122.80</td>\n      <td>1001.0</td>\n      <td>0.11840</td>\n      <td>0.27760</td>\n      <td>0.3001</td>\n      <td>0.14710</td>\n      <td>0.2419</td>\n      <td>0.07871</td>\n      <td>...</td>\n      <td>25.38</td>\n      <td>17.33</td>\n      <td>184.60</td>\n      <td>2019.0</td>\n      <td>0.1622</td>\n      <td>0.6656</td>\n      <td>0.7119</td>\n      <td>0.2654</td>\n      <td>0.4601</td>\n      <td>0.11890</td>\n    </tr>\n    <tr>\n      <th>1</th>\n      <td>20.57</td>\n      <td>17.77</td>\n      <td>132.90</td>\n      <td>1326.0</td>\n      <td>0.08474</td>\n      <td>0.07864</td>\n      <td>0.0869</td>\n      <td>0.07017</td>\n      <td>0.1812</td>\n      <td>0.05667</td>\n      <td>...</td>\n      <td>24.99</td>\n      <td>23.41</td>\n      <td>158.80</td>\n      <td>1956.0</td>\n      <td>0.1238</td>\n      <td>0.1866</td>\n      <td>0.2416</td>\n      <td>0.1860</td>\n      <td>0.2750</td>\n      <td>0.08902</td>\n    </tr>\n    <tr>\n      <th>2</th>\n      <td>19.69</td>\n      <td>21.25</td>\n      <td>130.00</td>\n      <td>1203.0</td>\n      <td>0.10960</td>\n      <td>0.15990</td>\n      <td>0.1974</td>\n      <td>0.12790</td>\n      <td>0.2069</td>\n      <td>0.05999</td>\n      <td>...</td>\n      <td>23.57</td>\n      <td>25.53</td>\n      <td>152.50</td>\n      <td>1709.0</td>\n      <td>0.1444</td>\n      <td>0.4245</td>\n      <td>0.4504</td>\n      <td>0.2430</td>\n      <td>0.3613</td>\n      <td>0.08758</td>\n    </tr>\n    <tr>\n      <th>3</th>\n      <td>11.42</td>\n      <td>20.38</td>\n      <td>77.58</td>\n      <td>386.1</td>\n      <td>0.14250</td>\n      <td>0.28390</td>\n      <td>0.2414</td>\n      <td>0.10520</td>\n      <td>0.2597</td>\n      <td>0.09744</td>\n      <td>...</td>\n      <td>14.91</td>\n      <td>26.50</td>\n      <td>98.87</td>\n      <td>567.7</td>\n      <td>0.2098</td>\n      <td>0.8663</td>\n      <td>0.6869</td>\n      <td>0.2575</td>\n      <td>0.6638</td>\n      <td>0.17300</td>\n    </tr>\n    <tr>\n      <th>4</th>\n      <td>20.29</td>\n      <td>14.34</td>\n      <td>135.10</td>\n      <td>1297.0</td>\n      <td>0.10030</td>\n      <td>0.13280</td>\n      <td>0.1980</td>\n      <td>0.10430</td>\n      <td>0.1809</td>\n      <td>0.05883</td>\n      <td>...</td>\n      <td>22.54</td>\n      <td>16.67</td>\n      <td>152.20</td>\n      <td>1575.0</td>\n      <td>0.1374</td>\n      <td>0.2050</td>\n      <td>0.4000</td>\n      <td>0.1625</td>\n      <td>0.2364</td>\n      <td>0.07678</td>\n    </tr>\n  </tbody>\n</table>\n<p>5 rows × 30 columns</p>\n</div>"
          },
          "metadata": {}
        }
      ]
    },
    {
      "cell_type": "code",
      "metadata": {
        "ExecuteTime": {
          "end_time": "2021-04-29T10:03:35.788260Z",
          "start_time": "2021-04-29T10:03:35.775103Z"
        },
        "deletable": false,
        "editable": false,
        "nbgrader": {
          "cell_type": "code",
          "checksum": "ba8d30c1430fd36e39f8f32fed6e596e",
          "grade": true,
          "grade_id": "cell-1c2998ddc5440385",
          "locked": true,
          "points": 1,
          "schema_version": 3,
          "solution": false,
          "task": false
        },
        "cell_id": "00008-e6751381-2089-4f6c-b2b3-52edd334d446",
        "deepnote_to_be_reexecuted": false,
        "source_hash": "e41f1dee",
        "execution_start": 1619701372382,
        "execution_millis": 8,
        "deepnote_cell_type": "code"
      },
      "source": "b = True\nfor i in cancer['feature_names']:\n    if df_feat[i].shape != (569,):\n        b = False\n        break\nassert b",
      "execution_count": 7,
      "outputs": []
    },
    {
      "cell_type": "code",
      "metadata": {
        "ExecuteTime": {
          "end_time": "2021-04-29T10:06:53.324611Z",
          "start_time": "2021-04-29T10:06:53.306413Z"
        },
        "deletable": false,
        "nbgrader": {
          "cell_type": "code",
          "checksum": "66a83bf219a03e2efad9225cfdb948b4",
          "grade": false,
          "grade_id": "cell-58bf6e127f5d9c62",
          "locked": false,
          "schema_version": 3,
          "solution": true,
          "task": false
        },
        "cell_id": "00009-db557aa9-f952-4bf3-89ed-58667c1a2e39",
        "deepnote_to_be_reexecuted": false,
        "source_hash": "25c3eab8",
        "execution_start": 1619701372399,
        "execution_millis": 26,
        "deepnote_cell_type": "code"
      },
      "source": "# 1 point\n\n# create a dataframe with all the targets and the column name your be 'Cancer'\n# output a single column dataframe\ndf_target = 0\n# YOUR CODE HERE\n\ndf_target = pd.DataFrame(cancer.target, columns = ['Cancer'])\ndf_target.head()",
      "execution_count": 8,
      "outputs": [
        {
          "output_type": "execute_result",
          "execution_count": 8,
          "data": {
            "application/vnd.deepnote.dataframe.v2+json": {
              "row_count": 5,
              "column_count": 1,
              "columns": [
                {
                  "name": "Cancer",
                  "dtype": "int64",
                  "stats": {
                    "unique_count": 1,
                    "nan_count": 0,
                    "min": "0",
                    "max": "0",
                    "histogram": [
                      {
                        "bin_start": -0.5,
                        "bin_end": -0.4,
                        "count": 0
                      },
                      {
                        "bin_start": -0.4,
                        "bin_end": -0.3,
                        "count": 0
                      },
                      {
                        "bin_start": -0.3,
                        "bin_end": -0.19999999999999996,
                        "count": 0
                      },
                      {
                        "bin_start": -0.19999999999999996,
                        "bin_end": -0.09999999999999998,
                        "count": 0
                      },
                      {
                        "bin_start": -0.09999999999999998,
                        "bin_end": 0,
                        "count": 0
                      },
                      {
                        "bin_start": 0,
                        "bin_end": 0.10000000000000009,
                        "count": 5
                      },
                      {
                        "bin_start": 0.10000000000000009,
                        "bin_end": 0.20000000000000007,
                        "count": 0
                      },
                      {
                        "bin_start": 0.20000000000000007,
                        "bin_end": 0.30000000000000004,
                        "count": 0
                      },
                      {
                        "bin_start": 0.30000000000000004,
                        "bin_end": 0.4,
                        "count": 0
                      },
                      {
                        "bin_start": 0.4,
                        "bin_end": 0.5,
                        "count": 0
                      }
                    ]
                  }
                },
                {
                  "name": "_deepnote_index_column",
                  "dtype": "int64"
                }
              ],
              "rows_top": [
                {
                  "Cancer": 0,
                  "_deepnote_index_column": 0
                },
                {
                  "Cancer": 0,
                  "_deepnote_index_column": 1
                },
                {
                  "Cancer": 0,
                  "_deepnote_index_column": 2
                },
                {
                  "Cancer": 0,
                  "_deepnote_index_column": 3
                },
                {
                  "Cancer": 0,
                  "_deepnote_index_column": 4
                }
              ],
              "rows_bottom": null
            },
            "text/plain": "   Cancer\n0       0\n1       0\n2       0\n3       0\n4       0",
            "text/html": "<div>\n<style scoped>\n    .dataframe tbody tr th:only-of-type {\n        vertical-align: middle;\n    }\n\n    .dataframe tbody tr th {\n        vertical-align: top;\n    }\n\n    .dataframe thead th {\n        text-align: right;\n    }\n</style>\n<table border=\"1\" class=\"dataframe\">\n  <thead>\n    <tr style=\"text-align: right;\">\n      <th></th>\n      <th>Cancer</th>\n    </tr>\n  </thead>\n  <tbody>\n    <tr>\n      <th>0</th>\n      <td>0</td>\n    </tr>\n    <tr>\n      <th>1</th>\n      <td>0</td>\n    </tr>\n    <tr>\n      <th>2</th>\n      <td>0</td>\n    </tr>\n    <tr>\n      <th>3</th>\n      <td>0</td>\n    </tr>\n    <tr>\n      <th>4</th>\n      <td>0</td>\n    </tr>\n  </tbody>\n</table>\n</div>"
          },
          "metadata": {}
        }
      ]
    },
    {
      "cell_type": "code",
      "metadata": {
        "ExecuteTime": {
          "end_time": "2021-04-29T10:06:56.016430Z",
          "start_time": "2021-04-29T10:06:55.998935Z"
        },
        "deletable": false,
        "editable": false,
        "nbgrader": {
          "cell_type": "code",
          "checksum": "17c24d99af48f8b9682fd5786429d444",
          "grade": true,
          "grade_id": "cell-c504ee25e1401818",
          "locked": true,
          "points": 1,
          "schema_version": 3,
          "solution": false,
          "task": false
        },
        "cell_id": "00010-8d2b766e-36cd-4155-9078-e1e4db66f8fb",
        "deepnote_to_be_reexecuted": false,
        "source_hash": "1d612519",
        "execution_start": 1619701372406,
        "execution_millis": 5,
        "deepnote_cell_type": "code"
      },
      "source": "assert df_target['Cancer'].shape == (569,)",
      "execution_count": 9,
      "outputs": []
    },
    {
      "cell_type": "code",
      "metadata": {
        "cell_id": "00011-7b80f15b-09d1-437a-9623-8a2b03b1f4e1",
        "deepnote_to_be_reexecuted": false,
        "source_hash": "b623e53d",
        "execution_start": 1619701372419,
        "deepnote_cell_type": "code"
      },
      "source": "",
      "execution_count": 9,
      "outputs": []
    },
    {
      "cell_type": "code",
      "metadata": {
        "ExecuteTime": {
          "end_time": "2021-04-29T10:27:03.581752Z",
          "start_time": "2021-04-29T10:27:03.560801Z"
        },
        "deletable": false,
        "nbgrader": {
          "cell_type": "code",
          "checksum": "0106e33d2151de4f0a30ea7b4c03d7fb",
          "grade": false,
          "grade_id": "cell-cea569421704556d",
          "locked": false,
          "schema_version": 3,
          "solution": true,
          "task": false
        },
        "cell_id": "00012-40a3ae2a-8f3a-48b6-9e8a-936fa3036213",
        "deepnote_to_be_reexecuted": false,
        "source_hash": "81e565c0",
        "execution_start": 1619701372464,
        "execution_millis": 43,
        "deepnote_cell_type": "code"
      },
      "source": "#1 point\n# get the train test split, tested with random state 0 and test_size 0.2\n# import if needed\n# all the subsets should be numpy arrays\n# TIP carefull with the shape of the Y\n# YOUR CODE HERE\n\nfrom sklearn.model_selection import train_test_split, cross_validate\n\nx_train, x_test, y_train, y_test = train_test_split( df_feat.values, df_target.values, test_size = 0.2, random_state = 0)\n\ny_train, y_test = y_train.flatten(), y_test.flatten()",
      "execution_count": 10,
      "outputs": []
    },
    {
      "cell_type": "code",
      "metadata": {
        "ExecuteTime": {
          "end_time": "2021-04-29T10:27:05.490667Z",
          "start_time": "2021-04-29T10:27:05.478002Z"
        },
        "deletable": false,
        "editable": false,
        "nbgrader": {
          "cell_type": "code",
          "checksum": "fdfbff27aa3ebfceec29cf2e21d05199",
          "grade": true,
          "grade_id": "cell-8557f6d20b5ebd4a",
          "locked": true,
          "points": 1,
          "schema_version": 3,
          "solution": false,
          "task": false
        },
        "cell_id": "00013-9637ea6b-acd5-4439-8c51-41bb06417578",
        "deepnote_to_be_reexecuted": false,
        "source_hash": "7307c439",
        "execution_start": 1619701372508,
        "execution_millis": 0,
        "deepnote_cell_type": "code"
      },
      "source": "assert x_train.shape == (455,30)\nassert x_test.shape == (114,30)\nassert y_train.shape == (455,)\nassert y_test.shape == (114,)",
      "execution_count": 11,
      "outputs": []
    },
    {
      "cell_type": "code",
      "metadata": {
        "ExecuteTime": {
          "end_time": "2021-04-29T11:21:52.215290Z",
          "start_time": "2021-04-29T11:21:52.197307Z"
        },
        "deletable": false,
        "nbgrader": {
          "cell_type": "code",
          "checksum": "ea62971bcbfa5fa154963b73c182afd1",
          "grade": false,
          "grade_id": "cell-d569929ec688ee8f",
          "locked": false,
          "schema_version": 3,
          "solution": true,
          "task": false
        },
        "cell_id": "00014-206f5e29-1142-4cb0-9bf8-1a6063dde396",
        "deepnote_to_be_reexecuted": false,
        "source_hash": "394dd4fd",
        "execution_start": 1619701372508,
        "execution_millis": 142,
        "deepnote_cell_type": "code"
      },
      "source": "# 2 points\n#Train the support vector classifier\n# import if needed\n\nclf = 0\n\nfrom sklearn.svm import SVC\n\nclf = SVC()\nclf.fit(x_train, y_train)\n\nclf.support_vectors_.shape",
      "execution_count": 12,
      "outputs": [
        {
          "output_type": "execute_result",
          "execution_count": 12,
          "data": {
            "text/plain": "(123, 30)"
          },
          "metadata": {}
        }
      ]
    },
    {
      "cell_type": "code",
      "metadata": {
        "ExecuteTime": {
          "end_time": "2021-04-29T10:28:28.721806Z",
          "start_time": "2021-04-29T10:28:28.705447Z"
        },
        "deletable": false,
        "editable": false,
        "nbgrader": {
          "cell_type": "code",
          "checksum": "8f5c6be8a8389b4869599beb3e0979fc",
          "grade": true,
          "grade_id": "cell-741670633ab66a5b",
          "locked": true,
          "points": 2,
          "schema_version": 3,
          "solution": false,
          "task": false
        },
        "cell_id": "00015-4fce8da8-d929-41c4-90bd-6e542a1a60a5",
        "deepnote_to_be_reexecuted": false,
        "source_hash": "e6ec4ca9",
        "execution_start": 1619701372644,
        "execution_millis": 26,
        "deepnote_cell_type": "code"
      },
      "source": "assert clf.support_vectors_.shape == (123,30)",
      "execution_count": 13,
      "outputs": []
    },
    {
      "cell_type": "code",
      "metadata": {
        "ExecuteTime": {
          "end_time": "2021-04-29T10:45:00.152956Z",
          "start_time": "2021-04-29T10:45:00.132036Z"
        },
        "deletable": false,
        "nbgrader": {
          "cell_type": "code",
          "checksum": "4c02a56a8941df35ddf6e1b1e4b04cbb",
          "grade": false,
          "grade_id": "cell-ee4e7bf6bb7b13e9",
          "locked": false,
          "schema_version": 3,
          "solution": true,
          "task": false
        },
        "cell_id": "00016-e8319416-8dae-421c-b386-c05b2a73b2bd",
        "deepnote_to_be_reexecuted": false,
        "source_hash": "7cb02d28",
        "execution_start": 1619701372673,
        "execution_millis": 25,
        "deepnote_cell_type": "code"
      },
      "source": "# 3 points\n# predict the testing data and get the accuracy\n# import if needed\n# output preds is the array with the predictions and acc is a float between 0 and 1\npreds = 0\nacc = 0\n# YOUR CODE HERE\nfrom sklearn.metrics import accuracy_score\n\npreds = clf.predict(x_test)\nacc = accuracy_score(y_test, preds)\nprint(acc)",
      "execution_count": 14,
      "outputs": [
        {
          "name": "stdout",
          "text": "0.9298245614035088\n",
          "output_type": "stream"
        }
      ]
    },
    {
      "cell_type": "code",
      "metadata": {
        "ExecuteTime": {
          "end_time": "2021-04-29T10:45:01.786042Z",
          "start_time": "2021-04-29T10:45:01.777497Z"
        },
        "deletable": false,
        "editable": false,
        "nbgrader": {
          "cell_type": "code",
          "checksum": "0d913ef1f9e2c478a729aec9ec9c99d4",
          "grade": true,
          "grade_id": "cell-a8b6a273210f6822",
          "locked": true,
          "points": 2,
          "schema_version": 3,
          "solution": false,
          "task": false
        },
        "cell_id": "00017-8e484c42-3f7d-4ca9-8e82-592218c8377c",
        "deepnote_to_be_reexecuted": false,
        "source_hash": "b1ff3eba",
        "execution_start": 1619701372687,
        "execution_millis": 3,
        "deepnote_cell_type": "code"
      },
      "source": "assert acc > 0.85\nassert preds.shape == (114,)",
      "execution_count": 15,
      "outputs": []
    },
    {
      "cell_type": "markdown",
      "source": "***Everything is being classified into a single class! Use Grid Search to search for the best parameters! (Scikitlearn GridSearchCV)***\n",
      "metadata": {
        "cell_id": "00018-e8ffb285-ed3b-4863-bd47-800a1f23a800",
        "deepnote_cell_type": "markdown"
      }
    },
    {
      "cell_type": "code",
      "metadata": {
        "ExecuteTime": {
          "end_time": "2021-04-29T10:53:34.238221Z",
          "start_time": "2021-04-29T10:53:04.517370Z"
        },
        "deletable": false,
        "nbgrader": {
          "cell_type": "code",
          "checksum": "7dd11b913a692b6e6624cec433f96ddd",
          "grade": false,
          "grade_id": "cell-43d48d4bf75c556e",
          "locked": false,
          "schema_version": 3,
          "solution": true,
          "task": false
        },
        "cell_id": "00019-6fe6a9de-efc4-40c8-9cf8-69f9dd43481f",
        "deepnote_to_be_reexecuted": false,
        "source_hash": "ccd42241",
        "execution_start": 1619701372698,
        "execution_millis": 56056,
        "deepnote_cell_type": "code"
      },
      "source": "# 2 points\n#Set parameters\n# the parameters should be in a dict format\nparams = {}\nparams = {'kernel':('linear', 'rbf'), 'C':[1, 10]}\n# YOUR CODE HERE\nfrom sklearn.model_selection import GridSearchCV\nsvm = SVC()\nclf = GridSearchCV(svm, params)\nclf.fit(x_train, y_train)\n\npreds = clf.predict(x_test)\nacc = accuracy_score(y_test, preds)\nprint(acc)",
      "execution_count": 16,
      "outputs": [
        {
          "name": "stdout",
          "text": "0.956140350877193\n",
          "output_type": "stream"
        }
      ]
    },
    {
      "cell_type": "code",
      "metadata": {
        "ExecuteTime": {
          "end_time": "2021-04-29T10:52:22.314216Z",
          "start_time": "2021-04-29T10:52:22.301057Z"
        },
        "deletable": false,
        "editable": false,
        "nbgrader": {
          "cell_type": "code",
          "checksum": "b48b4a40a1b6ee6a26ddfb8dae8ddbc2",
          "grade": true,
          "grade_id": "cell-28a594d468d2e212",
          "locked": true,
          "points": 2,
          "schema_version": 3,
          "solution": false,
          "task": false
        },
        "cell_id": "00020-509fe701-f856-4e19-a092-122d59050db1",
        "deepnote_to_be_reexecuted": false,
        "source_hash": "a30230a6",
        "execution_start": 1619701428748,
        "execution_millis": 0,
        "deepnote_cell_type": "code"
      },
      "source": "assert len(params) == 2\nassert len(params['kernel']) == 2",
      "execution_count": 17,
      "outputs": []
    },
    {
      "cell_type": "code",
      "metadata": {
        "ExecuteTime": {
          "end_time": "2021-04-29T10:59:00.617224Z",
          "start_time": "2021-04-29T10:58:31.998108Z"
        },
        "deletable": false,
        "nbgrader": {
          "cell_type": "code",
          "checksum": "b34bcd4223abf7d6e1b5ddf816870fad",
          "grade": false,
          "grade_id": "cell-8ac1a0df91772743",
          "locked": false,
          "schema_version": 3,
          "solution": true,
          "task": false
        },
        "cell_id": "00021-9e827d47-69f4-4a08-ba1a-8171239d75bb",
        "deepnote_to_be_reexecuted": false,
        "source_hash": "e33af136",
        "execution_start": 1619701428748,
        "execution_millis": 55618,
        "deepnote_cell_type": "code"
      },
      "source": "#Fit grid (Note to self: first it runs the same loop with cross-validation to find the best parameter \n#combination. Once it has the best combination, it runs fit again on all data passed to fit \n#(without cross-validation), to built a single new model using the best parameter setting.)\n\n# 4 points\n# add an svm to the grid and train it\n# the SVM should be an untrained one\n# import if needed \nfrom sklearn import svm\n\nsvc = 0\ngrid_clf = 0\n\n# YOUR CODE HERE\nparams = {}\nparams = {'kernel':('linear', 'rbf'), 'C':[1, 10]}\n# YOUR CODE HERE\nfrom sklearn.model_selection import GridSearchCV\n\nsvc = svm.SVC()\ngrid_clf = GridSearchCV(svc, params)\ngrid_clf.fit(x_train, y_train)\n\npreds = grid_clf.predict(x_test)\nacc = accuracy_score(y_test, preds)\nprint(acc)\n\n# grid_clf = GridSearchCV(estimator=svc, \n#                    param_grid=params)",
      "execution_count": 18,
      "outputs": [
        {
          "name": "stdout",
          "text": "0.956140350877193\n",
          "output_type": "stream"
        }
      ]
    },
    {
      "cell_type": "code",
      "metadata": {
        "ExecuteTime": {
          "end_time": "2021-04-29T10:59:03.855435Z",
          "start_time": "2021-04-29T10:59:03.828726Z"
        },
        "deletable": false,
        "editable": false,
        "nbgrader": {
          "cell_type": "code",
          "checksum": "c355b61da5807573939dde9898177432",
          "grade": true,
          "grade_id": "cell-085b7fafdce47092",
          "locked": true,
          "points": 4,
          "schema_version": 3,
          "solution": false,
          "task": false
        },
        "cell_id": "00022-e7fa1adb-af2a-4c16-9093-27c9b8c1cc71",
        "deepnote_to_be_reexecuted": false,
        "source_hash": "a98f5331",
        "execution_start": 1619701484359,
        "execution_millis": 1,
        "deepnote_cell_type": "code"
      },
      "source": "dic = grid_clf.get_params(deep=False)\nassert type(dic['estimator']) == type(svm.SVC()) \nassert dic['pre_dispatch'] == '2*n_jobs'",
      "execution_count": 19,
      "outputs": []
    },
    {
      "cell_type": "code",
      "metadata": {
        "ExecuteTime": {
          "end_time": "2021-04-29T11:02:24.931419Z",
          "start_time": "2021-04-29T11:02:24.917656Z"
        },
        "deletable": false,
        "nbgrader": {
          "cell_type": "code",
          "checksum": "6a0e3bb3286e365f506de53466056669",
          "grade": false,
          "grade_id": "cell-7901a09d1a9092ac",
          "locked": false,
          "schema_version": 3,
          "solution": true,
          "task": false
        },
        "cell_id": "00023-c7c3b170-fa41-431a-b18c-e715190ce8c1",
        "deepnote_to_be_reexecuted": false,
        "source_hash": "62ccf84c",
        "execution_start": 1619701484360,
        "execution_millis": 0,
        "deepnote_cell_type": "code"
      },
      "source": "# 2 point\n#Get in a list the best parameters of the grid\n#output python list with the best parameters sorted\nbest_params = []\n# YOUR CODE HERE\n\nbest_params = sorted(clf.cv_results_.keys())\n",
      "execution_count": 20,
      "outputs": []
    },
    {
      "cell_type": "code",
      "metadata": {
        "ExecuteTime": {
          "end_time": "2021-04-29T11:02:34.252402Z",
          "start_time": "2021-04-29T11:02:34.236387Z"
        },
        "deletable": false,
        "editable": false,
        "nbgrader": {
          "cell_type": "code",
          "checksum": "6b15f373798ee92b146a793df76afc20",
          "grade": true,
          "grade_id": "cell-99bb42084e0ae89b",
          "locked": true,
          "points": 2,
          "schema_version": 3,
          "solution": false,
          "task": false
        },
        "cell_id": "00024-cc7f1897-c974-4f0c-8d43-9c00a408ee05",
        "deepnote_to_be_reexecuted": false,
        "source_hash": "1907d1e0",
        "execution_start": 1619701484361,
        "execution_millis": 43,
        "deepnote_cell_type": "code"
      },
      "source": "assert best_params[0] == 'mean_fit_time'\nassert best_params[1] == 'mean_score_time'\nassert best_params[2] == 'mean_test_score'\nassert best_params[3] == 'param_C'",
      "execution_count": 21,
      "outputs": []
    },
    {
      "cell_type": "code",
      "metadata": {
        "ExecuteTime": {
          "end_time": "2021-04-29T11:02:53.919840Z",
          "start_time": "2021-04-29T11:02:53.903382Z"
        },
        "deletable": false,
        "nbgrader": {
          "cell_type": "code",
          "checksum": "f5f35e8e0e3b90b78340b70c06f0e22c",
          "grade": false,
          "grade_id": "cell-4eb30db85584892f",
          "locked": false,
          "schema_version": 3,
          "solution": true,
          "task": false
        },
        "cell_id": "00025-a6bc6754-44df-4d62-9f46-780c2376c338",
        "deepnote_to_be_reexecuted": false,
        "source_hash": "d9280428",
        "execution_start": 1619701484404,
        "execution_millis": 10,
        "deepnote_cell_type": "code"
      },
      "source": "# 5 points\n# predict the testing set and get the accuracy\n# accuracy as always will be between 0 and 1\npreds = 0\nacc = 0\n# YOUR CODE HERE\npreds = grid_clf.predict(x_test)\nacc = accuracy_score(y_test, preds)\nprint(acc)",
      "execution_count": 22,
      "outputs": [
        {
          "name": "stdout",
          "text": "0.956140350877193\n",
          "output_type": "stream"
        }
      ]
    },
    {
      "cell_type": "code",
      "metadata": {
        "ExecuteTime": {
          "end_time": "2021-04-29T11:02:56.679073Z",
          "start_time": "2021-04-29T11:02:56.659126Z"
        },
        "deletable": false,
        "editable": false,
        "nbgrader": {
          "cell_type": "code",
          "checksum": "9870d53db4a71a0a69320553c7214f90",
          "grade": true,
          "grade_id": "cell-67663369ff5f55b0",
          "locked": true,
          "points": 5,
          "schema_version": 3,
          "solution": false,
          "task": false
        },
        "cell_id": "00026-b4af1479-b46a-486d-b4cc-b447849b1e6a",
        "deepnote_to_be_reexecuted": false,
        "source_hash": "a3d3cb24",
        "execution_start": 1619701484404,
        "execution_millis": 1,
        "deepnote_cell_type": "code"
      },
      "source": "\nassert acc > 0.92\nassert preds[preds.argmax()] == 1\nassert preds.shape == (114,)",
      "execution_count": 23,
      "outputs": []
    },
    {
      "cell_type": "code",
      "metadata": {
        "ExecuteTime": {
          "end_time": "2021-04-29T11:29:24.007370Z",
          "start_time": "2021-04-29T11:29:23.680019Z"
        },
        "deletable": false,
        "nbgrader": {
          "cell_type": "code",
          "checksum": "cf88a2c6b956eb7d60df33fd6b851528",
          "grade": false,
          "grade_id": "cell-b467b5e84dfff2d3",
          "locked": false,
          "schema_version": 3,
          "solution": true,
          "task": false
        },
        "cell_id": "00027-2464a25e-322d-4f88-9707-f07cff4556ed",
        "deepnote_to_be_reexecuted": false,
        "source_hash": "1ad111c2",
        "execution_start": 1619701484448,
        "execution_millis": 382,
        "deepnote_cell_type": "code"
      },
      "source": "# 3 points\n# get the confusion matrix\n#import if needed\nconf_mat = []\n\n# YOUR CODE HERE\n\nfrom sklearn.metrics import plot_confusion_matrix\nfrom sklearn.metrics import confusion_matrix\n\nconf_mat = confusion_matrix(preds, y_test)\n#conf_mat = np.transpose(conf_mat)\n\nplot_confusion_matrix(grid_clf, x_test, y_test)  \nplt.show()",
      "execution_count": 24,
      "outputs": [
        {
          "data": {
            "text/plain": "<Figure size 432x288 with 2 Axes>",
            "image/png": "[encoded data removed]"
          },
          "metadata": {
            "needs_background": "light",
            "image/png": {
              "width": 306,
              "height": 262
            }
          },
          "output_type": "display_data"
        }
      ]
    },
    {
      "cell_type": "code",
      "metadata": {
        "ExecuteTime": {
          "end_time": "2021-04-29T11:29:28.627541Z",
          "start_time": "2021-04-29T11:29:28.609820Z"
        },
        "deletable": false,
        "editable": false,
        "nbgrader": {
          "cell_type": "code",
          "checksum": "6d7ae4ae61f3f14f88e216eb4666e4df",
          "grade": true,
          "grade_id": "cell-fd7017a6eb94325a",
          "locked": true,
          "points": 3,
          "schema_version": 3,
          "solution": false,
          "task": false
        },
        "cell_id": "00028-53360193-83c9-4730-99ca-5b412532c8f3",
        "deepnote_to_be_reexecuted": false,
        "source_hash": "7b5c319",
        "execution_start": 1619701484804,
        "execution_millis": 5,
        "deepnote_cell_type": "code"
      },
      "source": "assert conf_mat.shape == (2,2)\nassert conf_mat[0][1] < 7\nassert conf_mat[1][0] < 3\n",
      "execution_count": 25,
      "outputs": []
    },
    {
      "cell_type": "markdown",
      "source": "# Discussion of results",
      "metadata": {
        "cell_id": "00029-547cd502-52db-44e3-96dd-bc38b57468a0",
        "deepnote_cell_type": "markdown"
      }
    },
    {
      "cell_type": "code",
      "metadata": {
        "cell_id": "00030-45d8e9f1-3002-434f-abae-b4cdcab6ae38",
        "deepnote_to_be_reexecuted": false,
        "source_hash": "101a2d6f",
        "execution_start": 1619701484816,
        "execution_millis": 6,
        "deepnote_cell_type": "code"
      },
      "source": "# The model diagnosed 1 person with no cancer has cancer and\n# 4 people has cancer when they have no cancer",
      "execution_count": 26,
      "outputs": []
    },
    {
      "cell_type": "markdown",
      "source": "<a style='text-decoration:none;line-height:16px;display:flex;color:#5B5B62;padding:10px;justify-content:end;' href='https://deepnote.com?utm_source=created-in-deepnote-cell&projectId=6f417d43-0b0f-4e2e-9431-ba0e67a23980' target=\"_blank\">\n<img alt='Created in deepnote.com' style='display:inline;max-height:16px;margin:0px;margin-right:7.5px;' src='data:image/svg+xml;base64,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' > </img>\nCreated in <span style='font-weight:600;margin-left:4px;'>Deepnote</span></a>",
      "metadata": {
        "tags": [],
        "created_in_deepnote_cell": true,
        "deepnote_cell_type": "markdown"
      }
    }
  ],
  "nbformat": 4,
  "nbformat_minor": 2,
  "metadata": {
    "kernelspec": {
      "display_name": "Python 3",
      "language": "python",
      "name": "python3"
    },
    "language_info": {
      "codemirror_mode": {
        "name": "ipython",
        "version": 3
      },
      "file_extension": ".py",
      "mimetype": "text/x-python",
      "name": "python",
      "nbconvert_exporter": "python",
      "pygments_lexer": "ipython3",
      "version": "3.8.8"
    },
    "deepnote_notebook_id": "2393c263-936a-4bdb-8b08-dbf9c99fc40c",
    "deepnote": {},
    "deepnote_execution_queue": []
  }
}