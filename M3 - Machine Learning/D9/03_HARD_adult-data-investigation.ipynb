{
  "cells": [
    {
      "cell_type": "markdown",
      "source": "## Adult Dataset Part 1: Cleaning and Preparation\n\n#### Objectives:\n1. Preprocess the data and store the cleaned dataset as adult_clean.csv\n2. Load clean dataset and test supervised/unsupervised models\n    - Goal: Determine best model to predict if new entry earns >50k or <50k with supervised learning\n    - Goal: Find insights and patterns in data using unspuervised learning\n3. Apply k-folds cross validation\n    - Goal: Evaluate robustness of results across different models.\n    - Goal: Use and justify different error metrics\n\n\n#### Summary of dataset\n\nDatasource: https://archive.ics.uci.edu/ml/datasets/adult\n\nFeature descrptions copied below from the UCI website:\n\n- age: continuous. \n- workclass: Private, Self-emp-not-inc, Self-emp-inc, Federal-gov, Local-gov, State-gov, Without-pay, Never-worked. \n- fnlwgt: Continuous. A weighting assigned from the sampling process.\n- education: Bachelors, Some-college, 11th, HS-grad, Prof-school, Assoc-acdm, Assoc-voc, 9th, 7th-8th, 12th, Masters, 1st-4th, 10th, Doctorate, 5th-6th, Preschool. \n- education-num: continuous. \n- marital-status: Married-civ-spouse, Divorced, Never-married, Separated, Widowed, Married-spouse-absent, Married-AF-spouse. \n- occupation: Tech-support, Craft-repair, Other-service, Sales, Exec-managerial, Prof-specialty, Handlers-cleaners, Machine-op-inspct, Adm-clerical, Farming-fishing, Transport-moving, Priv-house-serv, Protective-serv, Armed-Forces. \n- relationship: Wife, Own-child, Husband, Not-in-family, Other-relative, Unmarried. \n- race: White, Asian-Pac-Islander, Amer-Indian-Eskimo, Other, Black. \n- sex: Female, Male. \n- capital-gain: continuous.\n- capital-loss: continuous. \n- hours-per-week: continuous. \n- native-country: United-States, Cambodia, England, Puerto-Rico, Canada, Germany, Outlying-US(Guam-USVI-etc), India, Japan, Greece, South, China, Cuba, Iran, Honduras, Philippines, Italy, Poland, Jamaica, Vietnam, Mexico, Portugal, Ireland, France, Dominican-Republic, Laos, Ecuador, Taiwan, Haiti, Columbia, Hungary, Guatemala, Nicaragua, Scotland, Thailand, Yugoslavia, El-Salvador, Trinadad&Tobago, Peru, Hong, Holand-Netherlands.\n- target: >50K, <=50K.",
      "metadata": {
        "cell_id": "00000-7a04314d-1f0e-4631-8c0b-1f3fdaf68585",
        "deepnote_cell_type": "markdown"
      }
    },
    {
      "cell_type": "code",
      "metadata": {
        "cell_id": "00001-85bfddc7-63e5-4c87-9bda-9c88b9e8be32",
        "deepnote_to_be_reexecuted": false,
        "source_hash": "8ca6a091",
        "execution_start": 1619701580019,
        "execution_millis": 0,
        "deepnote_cell_type": "code"
      },
      "source": "import pandas as pd\nimport numpy as np\nimport matplotlib.pyplot as plt",
      "execution_count": 12,
      "outputs": []
    },
    {
      "cell_type": "code",
      "metadata": {
        "cell_id": "00002-c5d294b1-346d-46da-ba63-16488e9d6021",
        "deepnote_to_be_reexecuted": false,
        "source_hash": "fdcd92ee",
        "execution_start": 1619701582311,
        "execution_millis": 5,
        "deepnote_cell_type": "code"
      },
      "source": "#original data does not come with headers. add headers based on the documentation descrption\nheaders = ['age', 'workclass', 'fnlwgt', 'education', 'education-num', 'marital-status', \n           'occupation', 'relationship', 'race', 'sex', 'capital-gain', 'capital-loss', \n           'hours-per-week', 'native-country', 'target']",
      "execution_count": 13,
      "outputs": []
    },
    {
      "cell_type": "code",
      "metadata": {
        "cell_id": "00003-7aa3d03e-9d4e-4caa-bade-ed54e8ec4806",
        "deepnote_to_be_reexecuted": false,
        "source_hash": "bf7cf397",
        "execution_start": 1619701584757,
        "execution_millis": 117,
        "deepnote_cell_type": "code"
      },
      "source": "data = pd.read_csv('./data/adult.data', names = headers)\ndf = data.copy()",
      "execution_count": 14,
      "outputs": []
    },
    {
      "cell_type": "code",
      "metadata": {
        "cell_id": "00004-25914af2-7d9b-4c0d-ab20-005799248310",
        "deepnote_to_be_reexecuted": false,
        "source_hash": "c085b6ba",
        "execution_start": 1619701588483,
        "execution_millis": 74,
        "deepnote_cell_type": "code"
      },
      "source": "df.head()",
      "execution_count": 15,
      "outputs": [
        {
          "output_type": "execute_result",
          "execution_count": 15,
          "data": {
            "application/vnd.deepnote.dataframe.v2+json": {
              "row_count": 5,
              "column_count": 15,
              "columns": [
                {
                  "name": "age",
                  "dtype": "int64",
                  "stats": {
                    "unique_count": 5,
                    "nan_count": 0,
                    "min": "28",
                    "max": "53",
                    "histogram": [
                      {
                        "bin_start": 28,
                        "bin_end": 30.5,
                        "count": 1
                      },
                      {
                        "bin_start": 30.5,
                        "bin_end": 33,
                        "count": 0
                      },
                      {
                        "bin_start": 33,
                        "bin_end": 35.5,
                        "count": 0
                      },
                      {
                        "bin_start": 35.5,
                        "bin_end": 38,
                        "count": 0
                      },
                      {
                        "bin_start": 38,
                        "bin_end": 40.5,
                        "count": 2
                      },
                      {
                        "bin_start": 40.5,
                        "bin_end": 43,
                        "count": 0
                      },
                      {
                        "bin_start": 43,
                        "bin_end": 45.5,
                        "count": 0
                      },
                      {
                        "bin_start": 45.5,
                        "bin_end": 48,
                        "count": 0
                      },
                      {
                        "bin_start": 48,
                        "bin_end": 50.5,
                        "count": 1
                      },
                      {
                        "bin_start": 50.5,
                        "bin_end": 53,
                        "count": 1
                      }
                    ]
                  }
                },
                {
                  "name": "workclass",
                  "dtype": "object",
                  "stats": {
                    "unique_count": 3,
                    "nan_count": 0,
                    "categories": [
                      {
                        "name": " Private",
                        "count": 3
                      },
                      {
                        "name": " State-gov",
                        "count": 1
                      },
                      {
                        "name": " Self-emp-not-inc",
                        "count": 1
                      }
                    ]
                  }
                },
                {
                  "name": "fnlwgt",
                  "dtype": "int64",
                  "stats": {
                    "unique_count": 5,
                    "nan_count": 0,
                    "min": "77516",
                    "max": "338409",
                    "histogram": [
                      {
                        "bin_start": 77516,
                        "bin_end": 103605.3,
                        "count": 2
                      },
                      {
                        "bin_start": 103605.3,
                        "bin_end": 129694.6,
                        "count": 0
                      },
                      {
                        "bin_start": 129694.6,
                        "bin_end": 155783.9,
                        "count": 0
                      },
                      {
                        "bin_start": 155783.9,
                        "bin_end": 181873.2,
                        "count": 0
                      },
                      {
                        "bin_start": 181873.2,
                        "bin_end": 207962.5,
                        "count": 0
                      },
                      {
                        "bin_start": 207962.5,
                        "bin_end": 234051.8,
                        "count": 1
                      },
                      {
                        "bin_start": 234051.8,
                        "bin_end": 260141.1,
                        "count": 1
                      },
                      {
                        "bin_start": 260141.1,
                        "bin_end": 286230.4,
                        "count": 0
                      },
                      {
                        "bin_start": 286230.4,
                        "bin_end": 312319.69999999995,
                        "count": 0
                      },
                      {
                        "bin_start": 312319.69999999995,
                        "bin_end": 338409,
                        "count": 1
                      }
                    ]
                  }
                },
                {
                  "name": "education",
                  "dtype": "object",
                  "stats": {
                    "unique_count": 3,
                    "nan_count": 0,
                    "categories": [
                      {
                        "name": " Bachelors",
                        "count": 3
                      },
                      {
                        "name": " HS-grad",
                        "count": 1
                      },
                      {
                        "name": " 11th",
                        "count": 1
                      }
                    ]
                  }
                },
                {
                  "name": "education-num",
                  "dtype": "int64",
                  "stats": {
                    "unique_count": 3,
                    "nan_count": 0,
                    "min": "7",
                    "max": "13",
                    "histogram": [
                      {
                        "bin_start": 7,
                        "bin_end": 7.6,
                        "count": 1
                      },
                      {
                        "bin_start": 7.6,
                        "bin_end": 8.2,
                        "count": 0
                      },
                      {
                        "bin_start": 8.2,
                        "bin_end": 8.8,
                        "count": 0
                      },
                      {
                        "bin_start": 8.8,
                        "bin_end": 9.4,
                        "count": 1
                      },
                      {
                        "bin_start": 9.4,
                        "bin_end": 10,
                        "count": 0
                      },
                      {
                        "bin_start": 10,
                        "bin_end": 10.6,
                        "count": 0
                      },
                      {
                        "bin_start": 10.6,
                        "bin_end": 11.2,
                        "count": 0
                      },
                      {
                        "bin_start": 11.2,
                        "bin_end": 11.8,
                        "count": 0
                      },
                      {
                        "bin_start": 11.8,
                        "bin_end": 12.399999999999999,
                        "count": 0
                      },
                      {
                        "bin_start": 12.399999999999999,
                        "bin_end": 13,
                        "count": 3
                      }
                    ]
                  }
                },
                {
                  "name": "marital-status",
                  "dtype": "object",
                  "stats": {
                    "unique_count": 3,
                    "nan_count": 0,
                    "categories": [
                      {
                        "name": " Married-civ-spouse",
                        "count": 3
                      },
                      {
                        "name": " Never-married",
                        "count": 1
                      },
                      {
                        "name": " Divorced",
                        "count": 1
                      }
                    ]
                  }
                },
                {
                  "name": "occupation",
                  "dtype": "object",
                  "stats": {
                    "unique_count": 4,
                    "nan_count": 0,
                    "categories": [
                      {
                        "name": " Handlers-cleaners",
                        "count": 2
                      },
                      {
                        "name": " Adm-clerical",
                        "count": 1
                      },
                      {
                        "name": "2 others",
                        "count": 2
                      }
                    ]
                  }
                },
                {
                  "name": "relationship",
                  "dtype": "object",
                  "stats": {
                    "unique_count": 3,
                    "nan_count": 0,
                    "categories": [
                      {
                        "name": " Not-in-family",
                        "count": 2
                      },
                      {
                        "name": " Husband",
                        "count": 2
                      },
                      {
                        "name": " Wife",
                        "count": 1
                      }
                    ]
                  }
                },
                {
                  "name": "race",
                  "dtype": "object",
                  "stats": {
                    "unique_count": 2,
                    "nan_count": 0,
                    "categories": [
                      {
                        "name": " White",
                        "count": 3
                      },
                      {
                        "name": " Black",
                        "count": 2
                      }
                    ]
                  }
                },
                {
                  "name": "sex",
                  "dtype": "object",
                  "stats": {
                    "unique_count": 2,
                    "nan_count": 0,
                    "categories": [
                      {
                        "name": " Male",
                        "count": 4
                      },
                      {
                        "name": " Female",
                        "count": 1
                      }
                    ]
                  }
                },
                {
                  "name": "capital-gain",
                  "dtype": "int64",
                  "stats": {
                    "unique_count": 2,
                    "nan_count": 0,
                    "min": "0",
                    "max": "2174",
                    "histogram": [
                      {
                        "bin_start": 0,
                        "bin_end": 217.4,
                        "count": 4
                      },
                      {
                        "bin_start": 217.4,
                        "bin_end": 434.8,
                        "count": 0
                      },
                      {
                        "bin_start": 434.8,
                        "bin_end": 652.2,
                        "count": 0
                      },
                      {
                        "bin_start": 652.2,
                        "bin_end": 869.6,
                        "count": 0
                      },
                      {
                        "bin_start": 869.6,
                        "bin_end": 1087,
                        "count": 0
                      },
                      {
                        "bin_start": 1087,
                        "bin_end": 1304.4,
                        "count": 0
                      },
                      {
                        "bin_start": 1304.4,
                        "bin_end": 1521.8,
                        "count": 0
                      },
                      {
                        "bin_start": 1521.8,
                        "bin_end": 1739.2,
                        "count": 0
                      },
                      {
                        "bin_start": 1739.2,
                        "bin_end": 1956.6000000000001,
                        "count": 0
                      },
                      {
                        "bin_start": 1956.6000000000001,
                        "bin_end": 2174,
                        "count": 1
                      }
                    ]
                  }
                },
                {
                  "name": "capital-loss",
                  "dtype": "int64",
                  "stats": {
                    "unique_count": 1,
                    "nan_count": 0,
                    "min": "0",
                    "max": "0",
                    "histogram": [
                      {
                        "bin_start": -0.5,
                        "bin_end": -0.4,
                        "count": 0
                      },
                      {
                        "bin_start": -0.4,
                        "bin_end": -0.3,
                        "count": 0
                      },
                      {
                        "bin_start": -0.3,
                        "bin_end": -0.19999999999999996,
                        "count": 0
                      },
                      {
                        "bin_start": -0.19999999999999996,
                        "bin_end": -0.09999999999999998,
                        "count": 0
                      },
                      {
                        "bin_start": -0.09999999999999998,
                        "bin_end": 0,
                        "count": 0
                      },
                      {
                        "bin_start": 0,
                        "bin_end": 0.10000000000000009,
                        "count": 5
                      },
                      {
                        "bin_start": 0.10000000000000009,
                        "bin_end": 0.20000000000000007,
                        "count": 0
                      },
                      {
                        "bin_start": 0.20000000000000007,
                        "bin_end": 0.30000000000000004,
                        "count": 0
                      },
                      {
                        "bin_start": 0.30000000000000004,
                        "bin_end": 0.4,
                        "count": 0
                      },
                      {
                        "bin_start": 0.4,
                        "bin_end": 0.5,
                        "count": 0
                      }
                    ]
                  }
                },
                {
                  "name": "hours-per-week",
                  "dtype": "int64",
                  "stats": {
                    "unique_count": 2,
                    "nan_count": 0,
                    "min": "13",
                    "max": "40",
                    "histogram": [
                      {
                        "bin_start": 13,
                        "bin_end": 15.7,
                        "count": 1
                      },
                      {
                        "bin_start": 15.7,
                        "bin_end": 18.4,
                        "count": 0
                      },
                      {
                        "bin_start": 18.4,
                        "bin_end": 21.1,
                        "count": 0
                      },
                      {
                        "bin_start": 21.1,
                        "bin_end": 23.8,
                        "count": 0
                      },
                      {
                        "bin_start": 23.8,
                        "bin_end": 26.5,
                        "count": 0
                      },
                      {
                        "bin_start": 26.5,
                        "bin_end": 29.200000000000003,
                        "count": 0
                      },
                      {
                        "bin_start": 29.200000000000003,
                        "bin_end": 31.900000000000002,
                        "count": 0
                      },
                      {
                        "bin_start": 31.900000000000002,
                        "bin_end": 34.6,
                        "count": 0
                      },
                      {
                        "bin_start": 34.6,
                        "bin_end": 37.3,
                        "count": 0
                      },
                      {
                        "bin_start": 37.3,
                        "bin_end": 40,
                        "count": 4
                      }
                    ]
                  }
                },
                {
                  "name": "native-country",
                  "dtype": "object",
                  "stats": {
                    "unique_count": 2,
                    "nan_count": 0,
                    "categories": [
                      {
                        "name": " United-States",
                        "count": 4
                      },
                      {
                        "name": " Cuba",
                        "count": 1
                      }
                    ]
                  }
                },
                {
                  "name": "target",
                  "dtype": "object",
                  "stats": {
                    "unique_count": 1,
                    "nan_count": 0,
                    "categories": [
                      {
                        "name": " <=50K",
                        "count": 5
                      }
                    ]
                  }
                },
                {
                  "name": "_deepnote_index_column",
                  "dtype": "int64"
                }
              ],
              "rows_top": [
                {
                  "age": 39,
                  "workclass": " State-gov",
                  "fnlwgt": 77516,
                  "education": " Bachelors",
                  "education-num": 13,
                  "marital-status": " Never-married",
                  "occupation": " Adm-clerical",
                  "relationship": " Not-in-family",
                  "race": " White",
                  "sex": " Male",
                  "capital-gain": 2174,
                  "capital-loss": 0,
                  "hours-per-week": 40,
                  "native-country": " United-States",
                  "target": " <=50K",
                  "_deepnote_index_column": 0
                },
                {
                  "age": 50,
                  "workclass": " Self-emp-not-inc",
                  "fnlwgt": 83311,
                  "education": " Bachelors",
                  "education-num": 13,
                  "marital-status": " Married-civ-spouse",
                  "occupation": " Exec-managerial",
                  "relationship": " Husband",
                  "race": " White",
                  "sex": " Male",
                  "capital-gain": 0,
                  "capital-loss": 0,
                  "hours-per-week": 13,
                  "native-country": " United-States",
                  "target": " <=50K",
                  "_deepnote_index_column": 1
                },
                {
                  "age": 38,
                  "workclass": " Private",
                  "fnlwgt": 215646,
                  "education": " HS-grad",
                  "education-num": 9,
                  "marital-status": " Divorced",
                  "occupation": " Handlers-cleaners",
                  "relationship": " Not-in-family",
                  "race": " White",
                  "sex": " Male",
                  "capital-gain": 0,
                  "capital-loss": 0,
                  "hours-per-week": 40,
                  "native-country": " United-States",
                  "target": " <=50K",
                  "_deepnote_index_column": 2
                },
                {
                  "age": 53,
                  "workclass": " Private",
                  "fnlwgt": 234721,
                  "education": " 11th",
                  "education-num": 7,
                  "marital-status": " Married-civ-spouse",
                  "occupation": " Handlers-cleaners",
                  "relationship": " Husband",
                  "race": " Black",
                  "sex": " Male",
                  "capital-gain": 0,
                  "capital-loss": 0,
                  "hours-per-week": 40,
                  "native-country": " United-States",
                  "target": " <=50K",
                  "_deepnote_index_column": 3
                },
                {
                  "age": 28,
                  "workclass": " Private",
                  "fnlwgt": 338409,
                  "education": " Bachelors",
                  "education-num": 13,
                  "marital-status": " Married-civ-spouse",
                  "occupation": " Prof-specialty",
                  "relationship": " Wife",
                  "race": " Black",
                  "sex": " Female",
                  "capital-gain": 0,
                  "capital-loss": 0,
                  "hours-per-week": 40,
                  "native-country": " Cuba",
                  "target": " <=50K",
                  "_deepnote_index_column": 4
                }
              ],
              "rows_bottom": null
            },
            "text/plain": "   age          workclass  fnlwgt   education  education-num  \\\n0   39          State-gov   77516   Bachelors             13   \n1   50   Self-emp-not-inc   83311   Bachelors             13   \n2   38            Private  215646     HS-grad              9   \n3   53            Private  234721        11th              7   \n4   28            Private  338409   Bachelors             13   \n\n        marital-status          occupation    relationship    race      sex  \\\n0        Never-married        Adm-clerical   Not-in-family   White     Male   \n1   Married-civ-spouse     Exec-managerial         Husband   White     Male   \n2             Divorced   Handlers-cleaners   Not-in-family   White     Male   \n3   Married-civ-spouse   Handlers-cleaners         Husband   Black     Male   \n4   Married-civ-spouse      Prof-specialty            Wife   Black   Female   \n\n   capital-gain  capital-loss  hours-per-week  native-country  target  \n0          2174             0              40   United-States   <=50K  \n1             0             0              13   United-States   <=50K  \n2             0             0              40   United-States   <=50K  \n3             0             0              40   United-States   <=50K  \n4             0             0              40            Cuba   <=50K  ",
            "text/html": "<div>\n<style scoped>\n    .dataframe tbody tr th:only-of-type {\n        vertical-align: middle;\n    }\n\n    .dataframe tbody tr th {\n        vertical-align: top;\n    }\n\n    .dataframe thead th {\n        text-align: right;\n    }\n</style>\n<table border=\"1\" class=\"dataframe\">\n  <thead>\n    <tr style=\"text-align: right;\">\n      <th></th>\n      <th>age</th>\n      <th>workclass</th>\n      <th>fnlwgt</th>\n      <th>education</th>\n      <th>education-num</th>\n      <th>marital-status</th>\n      <th>occupation</th>\n      <th>relationship</th>\n      <th>race</th>\n      <th>sex</th>\n      <th>capital-gain</th>\n      <th>capital-loss</th>\n      <th>hours-per-week</th>\n      <th>native-country</th>\n      <th>target</th>\n    </tr>\n  </thead>\n  <tbody>\n    <tr>\n      <th>0</th>\n      <td>39</td>\n      <td>State-gov</td>\n      <td>77516</td>\n      <td>Bachelors</td>\n      <td>13</td>\n      <td>Never-married</td>\n      <td>Adm-clerical</td>\n      <td>Not-in-family</td>\n      <td>White</td>\n      <td>Male</td>\n      <td>2174</td>\n      <td>0</td>\n      <td>40</td>\n      <td>United-States</td>\n      <td>&lt;=50K</td>\n    </tr>\n    <tr>\n      <th>1</th>\n      <td>50</td>\n      <td>Self-emp-not-inc</td>\n      <td>83311</td>\n      <td>Bachelors</td>\n      <td>13</td>\n      <td>Married-civ-spouse</td>\n      <td>Exec-managerial</td>\n      <td>Husband</td>\n      <td>White</td>\n      <td>Male</td>\n      <td>0</td>\n      <td>0</td>\n      <td>13</td>\n      <td>United-States</td>\n      <td>&lt;=50K</td>\n    </tr>\n    <tr>\n      <th>2</th>\n      <td>38</td>\n      <td>Private</td>\n      <td>215646</td>\n      <td>HS-grad</td>\n      <td>9</td>\n      <td>Divorced</td>\n      <td>Handlers-cleaners</td>\n      <td>Not-in-family</td>\n      <td>White</td>\n      <td>Male</td>\n      <td>0</td>\n      <td>0</td>\n      <td>40</td>\n      <td>United-States</td>\n      <td>&lt;=50K</td>\n    </tr>\n    <tr>\n      <th>3</th>\n      <td>53</td>\n      <td>Private</td>\n      <td>234721</td>\n      <td>11th</td>\n      <td>7</td>\n      <td>Married-civ-spouse</td>\n      <td>Handlers-cleaners</td>\n      <td>Husband</td>\n      <td>Black</td>\n      <td>Male</td>\n      <td>0</td>\n      <td>0</td>\n      <td>40</td>\n      <td>United-States</td>\n      <td>&lt;=50K</td>\n    </tr>\n    <tr>\n      <th>4</th>\n      <td>28</td>\n      <td>Private</td>\n      <td>338409</td>\n      <td>Bachelors</td>\n      <td>13</td>\n      <td>Married-civ-spouse</td>\n      <td>Prof-specialty</td>\n      <td>Wife</td>\n      <td>Black</td>\n      <td>Female</td>\n      <td>0</td>\n      <td>0</td>\n      <td>40</td>\n      <td>Cuba</td>\n      <td>&lt;=50K</td>\n    </tr>\n  </tbody>\n</table>\n</div>"
          },
          "metadata": {}
        }
      ]
    },
    {
      "cell_type": "code",
      "metadata": {
        "cell_id": "00005-9a793860-7182-4356-8b4f-ef8fad63bbfd",
        "deepnote_to_be_reexecuted": false,
        "source_hash": "de1e323c",
        "execution_start": 1619701195123,
        "execution_millis": 56,
        "deepnote_cell_type": "code"
      },
      "source": "df.info()",
      "execution_count": 6,
      "outputs": [
        {
          "name": "stdout",
          "text": "<class 'pandas.core.frame.DataFrame'>\nRangeIndex: 32561 entries, 0 to 32560\nData columns (total 15 columns):\n #   Column          Non-Null Count  Dtype \n---  ------          --------------  ----- \n 0   age             32561 non-null  int64 \n 1   workclass       32561 non-null  object\n 2   fnlwgt          32561 non-null  int64 \n 3   education       32561 non-null  object\n 4   education-num   32561 non-null  int64 \n 5   marital-status  32561 non-null  object\n 6   occupation      32561 non-null  object\n 7   relationship    32561 non-null  object\n 8   race            32561 non-null  object\n 9   sex             32561 non-null  object\n 10  capital-gain    32561 non-null  int64 \n 11  capital-loss    32561 non-null  int64 \n 12  hours-per-week  32561 non-null  int64 \n 13  native-country  32561 non-null  object\n 14  target          32561 non-null  object\ndtypes: int64(6), object(9)\nmemory usage: 3.7+ MB\n",
          "output_type": "stream"
        }
      ]
    },
    {
      "cell_type": "markdown",
      "source": "On first look, it appears there are no missing values. **However the dataset descrption indicates that missing values have been flled with '?'.** Figure out what to do here :)",
      "metadata": {
        "cell_id": "00006-6b35c8d0-90a6-4603-bebe-a234c0352330",
        "deepnote_cell_type": "markdown"
      }
    },
    {
      "cell_type": "code",
      "metadata": {
        "cell_id": "00007-bddddb16-ecd9-49cf-a781-a6c0beb692ab",
        "deepnote_to_be_reexecuted": false,
        "source_hash": "c3c4eade",
        "execution_start": 1619702087298,
        "execution_millis": 137,
        "deepnote_cell_type": "code"
      },
      "source": "#code\n#find the rows which has '?' value\n\ndf[df.eq('?').any(1)] #gives missing columns\n",
      "execution_count": 23,
      "outputs": [
        {
          "output_type": "execute_result",
          "execution_count": 23,
          "data": {
            "application/vnd.deepnote.dataframe.v2+json": {
              "row_count": 0,
              "column_count": 15,
              "columns": [
                {
                  "name": "age",
                  "dtype": "int64",
                  "stats": {
                    "unique_count": 0,
                    "nan_count": 0,
                    "min": null,
                    "max": null,
                    "histogram": [
                      {
                        "bin_start": 0,
                        "bin_end": 0.1,
                        "count": 0
                      },
                      {
                        "bin_start": 0.1,
                        "bin_end": 0.2,
                        "count": 0
                      },
                      {
                        "bin_start": 0.2,
                        "bin_end": 0.30000000000000004,
                        "count": 0
                      },
                      {
                        "bin_start": 0.30000000000000004,
                        "bin_end": 0.4,
                        "count": 0
                      },
                      {
                        "bin_start": 0.4,
                        "bin_end": 0.5,
                        "count": 0
                      },
                      {
                        "bin_start": 0.5,
                        "bin_end": 0.6000000000000001,
                        "count": 0
                      },
                      {
                        "bin_start": 0.6000000000000001,
                        "bin_end": 0.7000000000000001,
                        "count": 0
                      },
                      {
                        "bin_start": 0.7000000000000001,
                        "bin_end": 0.8,
                        "count": 0
                      },
                      {
                        "bin_start": 0.8,
                        "bin_end": 0.9,
                        "count": 0
                      },
                      {
                        "bin_start": 0.9,
                        "bin_end": 1,
                        "count": 0
                      }
                    ]
                  }
                },
                {
                  "name": "workclass",
                  "dtype": "object",
                  "stats": {
                    "unique_count": 0,
                    "nan_count": 0,
                    "categories": []
                  }
                },
                {
                  "name": "fnlwgt",
                  "dtype": "int64",
                  "stats": {
                    "unique_count": 0,
                    "nan_count": 0,
                    "min": null,
                    "max": null,
                    "histogram": [
                      {
                        "bin_start": 0,
                        "bin_end": 0.1,
                        "count": 0
                      },
                      {
                        "bin_start": 0.1,
                        "bin_end": 0.2,
                        "count": 0
                      },
                      {
                        "bin_start": 0.2,
                        "bin_end": 0.30000000000000004,
                        "count": 0
                      },
                      {
                        "bin_start": 0.30000000000000004,
                        "bin_end": 0.4,
                        "count": 0
                      },
                      {
                        "bin_start": 0.4,
                        "bin_end": 0.5,
                        "count": 0
                      },
                      {
                        "bin_start": 0.5,
                        "bin_end": 0.6000000000000001,
                        "count": 0
                      },
                      {
                        "bin_start": 0.6000000000000001,
                        "bin_end": 0.7000000000000001,
                        "count": 0
                      },
                      {
                        "bin_start": 0.7000000000000001,
                        "bin_end": 0.8,
                        "count": 0
                      },
                      {
                        "bin_start": 0.8,
                        "bin_end": 0.9,
                        "count": 0
                      },
                      {
                        "bin_start": 0.9,
                        "bin_end": 1,
                        "count": 0
                      }
                    ]
                  }
                },
                {
                  "name": "education",
                  "dtype": "object",
                  "stats": {
                    "unique_count": 0,
                    "nan_count": 0,
                    "categories": []
                  }
                },
                {
                  "name": "education-num",
                  "dtype": "int64",
                  "stats": {
                    "unique_count": 0,
                    "nan_count": 0,
                    "min": null,
                    "max": null,
                    "histogram": [
                      {
                        "bin_start": 0,
                        "bin_end": 0.1,
                        "count": 0
                      },
                      {
                        "bin_start": 0.1,
                        "bin_end": 0.2,
                        "count": 0
                      },
                      {
                        "bin_start": 0.2,
                        "bin_end": 0.30000000000000004,
                        "count": 0
                      },
                      {
                        "bin_start": 0.30000000000000004,
                        "bin_end": 0.4,
                        "count": 0
                      },
                      {
                        "bin_start": 0.4,
                        "bin_end": 0.5,
                        "count": 0
                      },
                      {
                        "bin_start": 0.5,
                        "bin_end": 0.6000000000000001,
                        "count": 0
                      },
                      {
                        "bin_start": 0.6000000000000001,
                        "bin_end": 0.7000000000000001,
                        "count": 0
                      },
                      {
                        "bin_start": 0.7000000000000001,
                        "bin_end": 0.8,
                        "count": 0
                      },
                      {
                        "bin_start": 0.8,
                        "bin_end": 0.9,
                        "count": 0
                      },
                      {
                        "bin_start": 0.9,
                        "bin_end": 1,
                        "count": 0
                      }
                    ]
                  }
                },
                {
                  "name": "marital-status",
                  "dtype": "object",
                  "stats": {
                    "unique_count": 0,
                    "nan_count": 0,
                    "categories": []
                  }
                },
                {
                  "name": "occupation",
                  "dtype": "object",
                  "stats": {
                    "unique_count": 0,
                    "nan_count": 0,
                    "categories": []
                  }
                },
                {
                  "name": "relationship",
                  "dtype": "object",
                  "stats": {
                    "unique_count": 0,
                    "nan_count": 0,
                    "categories": []
                  }
                },
                {
                  "name": "race",
                  "dtype": "object",
                  "stats": {
                    "unique_count": 0,
                    "nan_count": 0,
                    "categories": []
                  }
                },
                {
                  "name": "sex",
                  "dtype": "object",
                  "stats": {
                    "unique_count": 0,
                    "nan_count": 0,
                    "categories": []
                  }
                },
                {
                  "name": "capital-gain",
                  "dtype": "int64",
                  "stats": {
                    "unique_count": 0,
                    "nan_count": 0,
                    "min": null,
                    "max": null,
                    "histogram": [
                      {
                        "bin_start": 0,
                        "bin_end": 0.1,
                        "count": 0
                      },
                      {
                        "bin_start": 0.1,
                        "bin_end": 0.2,
                        "count": 0
                      },
                      {
                        "bin_start": 0.2,
                        "bin_end": 0.30000000000000004,
                        "count": 0
                      },
                      {
                        "bin_start": 0.30000000000000004,
                        "bin_end": 0.4,
                        "count": 0
                      },
                      {
                        "bin_start": 0.4,
                        "bin_end": 0.5,
                        "count": 0
                      },
                      {
                        "bin_start": 0.5,
                        "bin_end": 0.6000000000000001,
                        "count": 0
                      },
                      {
                        "bin_start": 0.6000000000000001,
                        "bin_end": 0.7000000000000001,
                        "count": 0
                      },
                      {
                        "bin_start": 0.7000000000000001,
                        "bin_end": 0.8,
                        "count": 0
                      },
                      {
                        "bin_start": 0.8,
                        "bin_end": 0.9,
                        "count": 0
                      },
                      {
                        "bin_start": 0.9,
                        "bin_end": 1,
                        "count": 0
                      }
                    ]
                  }
                },
                {
                  "name": "capital-loss",
                  "dtype": "int64",
                  "stats": {
                    "unique_count": 0,
                    "nan_count": 0,
                    "min": null,
                    "max": null,
                    "histogram": [
                      {
                        "bin_start": 0,
                        "bin_end": 0.1,
                        "count": 0
                      },
                      {
                        "bin_start": 0.1,
                        "bin_end": 0.2,
                        "count": 0
                      },
                      {
                        "bin_start": 0.2,
                        "bin_end": 0.30000000000000004,
                        "count": 0
                      },
                      {
                        "bin_start": 0.30000000000000004,
                        "bin_end": 0.4,
                        "count": 0
                      },
                      {
                        "bin_start": 0.4,
                        "bin_end": 0.5,
                        "count": 0
                      },
                      {
                        "bin_start": 0.5,
                        "bin_end": 0.6000000000000001,
                        "count": 0
                      },
                      {
                        "bin_start": 0.6000000000000001,
                        "bin_end": 0.7000000000000001,
                        "count": 0
                      },
                      {
                        "bin_start": 0.7000000000000001,
                        "bin_end": 0.8,
                        "count": 0
                      },
                      {
                        "bin_start": 0.8,
                        "bin_end": 0.9,
                        "count": 0
                      },
                      {
                        "bin_start": 0.9,
                        "bin_end": 1,
                        "count": 0
                      }
                    ]
                  }
                },
                {
                  "name": "hours-per-week",
                  "dtype": "int64",
                  "stats": {
                    "unique_count": 0,
                    "nan_count": 0,
                    "min": null,
                    "max": null,
                    "histogram": [
                      {
                        "bin_start": 0,
                        "bin_end": 0.1,
                        "count": 0
                      },
                      {
                        "bin_start": 0.1,
                        "bin_end": 0.2,
                        "count": 0
                      },
                      {
                        "bin_start": 0.2,
                        "bin_end": 0.30000000000000004,
                        "count": 0
                      },
                      {
                        "bin_start": 0.30000000000000004,
                        "bin_end": 0.4,
                        "count": 0
                      },
                      {
                        "bin_start": 0.4,
                        "bin_end": 0.5,
                        "count": 0
                      },
                      {
                        "bin_start": 0.5,
                        "bin_end": 0.6000000000000001,
                        "count": 0
                      },
                      {
                        "bin_start": 0.6000000000000001,
                        "bin_end": 0.7000000000000001,
                        "count": 0
                      },
                      {
                        "bin_start": 0.7000000000000001,
                        "bin_end": 0.8,
                        "count": 0
                      },
                      {
                        "bin_start": 0.8,
                        "bin_end": 0.9,
                        "count": 0
                      },
                      {
                        "bin_start": 0.9,
                        "bin_end": 1,
                        "count": 0
                      }
                    ]
                  }
                },
                {
                  "name": "native-country",
                  "dtype": "object",
                  "stats": {
                    "unique_count": 0,
                    "nan_count": 0,
                    "categories": []
                  }
                },
                {
                  "name": "target",
                  "dtype": "object",
                  "stats": {
                    "unique_count": 0,
                    "nan_count": 0,
                    "categories": []
                  }
                },
                {
                  "name": "_deepnote_index_column",
                  "dtype": "int64"
                }
              ],
              "rows_top": [],
              "rows_bottom": null
            },
            "text/plain": "Empty DataFrame\nColumns: [age, workclass, fnlwgt, education, education-num, marital-status, occupation, relationship, race, sex, capital-gain, capital-loss, hours-per-week, native-country, target]\nIndex: []",
            "text/html": "<div>\n<style scoped>\n    .dataframe tbody tr th:only-of-type {\n        vertical-align: middle;\n    }\n\n    .dataframe tbody tr th {\n        vertical-align: top;\n    }\n\n    .dataframe thead th {\n        text-align: right;\n    }\n</style>\n<table border=\"1\" class=\"dataframe\">\n  <thead>\n    <tr style=\"text-align: right;\">\n      <th></th>\n      <th>age</th>\n      <th>workclass</th>\n      <th>fnlwgt</th>\n      <th>education</th>\n      <th>education-num</th>\n      <th>marital-status</th>\n      <th>occupation</th>\n      <th>relationship</th>\n      <th>race</th>\n      <th>sex</th>\n      <th>capital-gain</th>\n      <th>capital-loss</th>\n      <th>hours-per-week</th>\n      <th>native-country</th>\n      <th>target</th>\n    </tr>\n  </thead>\n  <tbody>\n  </tbody>\n</table>\n</div>"
          },
          "metadata": {}
        }
      ]
    },
    {
      "cell_type": "markdown",
      "source": "Before deciding **how to deal with the missing values want to know how they influence the data**. For example, if workclass and occupation for example both have missing values (in the same tuple) it would be reasonable to drop the data.",
      "metadata": {
        "cell_id": "00008-461241d2-66e8-457a-8227-572e7a85ab5a",
        "deepnote_cell_type": "markdown"
      }
    },
    {
      "cell_type": "code",
      "metadata": {
        "cell_id": "00009-8a909858-718e-4f2e-b0a9-c924a27f29fe",
        "deepnote_cell_type": "code"
      },
      "source": "#code",
      "execution_count": 143,
      "outputs": [
        {
          "name": "stdout",
          "output_type": "stream",
          "text": "Occupation nans in same row as workclass with a nan: 1836\nNative-country nans in same row as workclass with a nan: 27\n"
        }
      ]
    },
    {
      "cell_type": "markdown",
      "source": "**What % of the dataset do nans represent?** What is the **best approach** for dealing with the nan's?",
      "metadata": {
        "cell_id": "00010-b2443914-1dd2-4156-b20c-c26bfe1acfb2",
        "deepnote_cell_type": "markdown"
      }
    },
    {
      "cell_type": "code",
      "metadata": {
        "cell_id": "00011-25e67d4a-bead-4040-bb7b-d43635dc1700",
        "deepnote_cell_type": "code"
      },
      "source": "#plot the categroical columns to see what we are dealing with\n",
      "execution_count": 77,
      "outputs": [
        {
          "data": {
            "image/png": "[encoded data removed]",
            "text/plain": "<Figure size 1296x1008 with 8 Axes>"
          },
          "metadata": {
            "needs_background": "light",
            "image/png": {
              "width": 1057,
              "height": 944
            }
          },
          "output_type": "display_data"
        }
      ]
    },
    {
      "cell_type": "code",
      "metadata": {
        "cell_id": "00012-85803c7d-7b92-4ee4-92eb-d4c039a33e22",
        "deepnote_cell_type": "code"
      },
      "source": "#plot the numerical columns\n",
      "execution_count": 81,
      "outputs": [
        {
          "data": {
            "image/png": "[encoded data removed]",
            "text/plain": "<Figure size 864x576 with 4 Axes>"
          },
          "metadata": {
            "needs_background": "light",
            "image/png": {
              "width": 728,
              "height": 482
            }
          },
          "output_type": "display_data"
        }
      ]
    },
    {
      "cell_type": "markdown",
      "source": "#### Additional Steps:\n1. Apply statistical tests to determine if dropping values changes the structure of the distribution in the workplace, occupation, and native-country categories i.e. t-test for differnce of modes. \n2. Compare filling the workplace and occupation columns with mode values and applying same statistical tests.",
      "metadata": {
        "cell_id": "00013-bb0810d7-28c6-41c8-8454-8984e14ae549",
        "deepnote_cell_type": "markdown"
      }
    },
    {
      "cell_type": "code",
      "metadata": {
        "cell_id": "00014-82e0d635-1e2d-465d-a30c-b29a7a761982",
        "deepnote_cell_type": "code"
      },
      "source": "#train / test... you know the drill",
      "execution_count": null,
      "outputs": []
    },
    {
      "cell_type": "markdown",
      "source": "# Discussion of results",
      "metadata": {
        "cell_id": "00015-2f769459-ed90-4cb5-a62b-47a900150133",
        "deepnote_cell_type": "markdown"
      }
    },
    {
      "cell_type": "code",
      "metadata": {
        "cell_id": "00016-131b78fa-3f84-4a23-998d-88ca4c00059e",
        "deepnote_cell_type": "code"
      },
      "source": "",
      "execution_count": null,
      "outputs": []
    },
    {
      "cell_type": "markdown",
      "source": "<a style='text-decoration:none;line-height:16px;display:flex;color:#5B5B62;padding:10px;justify-content:end;' href='https://deepnote.com?utm_source=created-in-deepnote-cell&projectId=6f417d43-0b0f-4e2e-9431-ba0e67a23980' target=\"_blank\">\n<img alt='Created in deepnote.com' style='display:inline;max-height:16px;margin:0px;margin-right:7.5px;' src='data:image/svg+xml;base64,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' > </img>\nCreated in <span style='font-weight:600;margin-left:4px;'>Deepnote</span></a>",
      "metadata": {
        "tags": [],
        "created_in_deepnote_cell": true,
        "deepnote_cell_type": "markdown"
      }
    }
  ],
  "nbformat": 4,
  "nbformat_minor": 2,
  "metadata": {
    "kernelspec": {
      "display_name": "Python 3",
      "language": "python",
      "name": "python3"
    },
    "language_info": {
      "codemirror_mode": {
        "name": "ipython",
        "version": 3
      },
      "file_extension": ".py",
      "mimetype": "text/x-python",
      "name": "python",
      "nbconvert_exporter": "python",
      "pygments_lexer": "ipython3",
      "version": "3.8.5"
    },
    "deepnote_notebook_id": "71e639e7-9799-4c2a-b0bb-8072c895dab5",
    "deepnote": {},
    "deepnote_execution_queue": []
  }
}