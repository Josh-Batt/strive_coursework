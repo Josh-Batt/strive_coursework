{
  "cells": [
    {
      "cell_type": "markdown",
      "source": "To do:\n1. Load iris_dataset\n2. Train and test split\n3. ",
      "metadata": {
        "tags": [],
        "cell_id": "00000-cd45248c-b622-4a4f-8f44-ff4f0ed3d83c",
        "deepnote_cell_type": "markdown"
      }
    },
    {
      "cell_type": "code",
      "metadata": {
        "tags": [],
        "cell_id": "00000-7a250cea-92b8-4215-bcb5-0961f51d009d",
        "deepnote_to_be_reexecuted": false,
        "source_hash": "568a506",
        "execution_start": 1619613930019,
        "execution_millis": 95,
        "deepnote_cell_type": "code"
      },
      "source": "import numpy as np\nimport pandas as pd\nimport matplotlib.pyplot as plt\n\nfrom sklearn import tree\nfrom sklearn.datasets import load_iris\nfrom sklearn import datasets\n\nfrom sklearn.tree import DecisionTreeClassifier\nfrom sklearn.model_selection import train_test_split\n\nfrom sklearn.metrics import classification_report, confusion_matrix\nfrom sklearn.metrics import accuracy_score\nimport graphviz \nimport seaborn as sns",
      "execution_count": 26,
      "outputs": []
    },
    {
      "cell_type": "code",
      "metadata": {
        "tags": [],
        "cell_id": "00001-c9ff31f4-9d90-4654-a793-e4ff6c1a9bba",
        "deepnote_to_be_reexecuted": false,
        "source_hash": "ad63cd47",
        "execution_start": 1619611846488,
        "execution_millis": 72,
        "deepnote_cell_type": "code"
      },
      "source": "ds = datasets.load_iris(as_frame= True)\nds.keys()\ndf = pd.DataFrame(data= np.c_[ds['data'], ds['target']],\n                     columns= ds['feature_names'] + ['target'])\ndf['class'] = pd.Categorical.from_codes(ds.target, ds.target_names)\ndf",
      "execution_count": 2,
      "outputs": [
        {
          "output_type": "execute_result",
          "execution_count": 2,
          "data": {
            "application/vnd.deepnote.dataframe.v2+json": {
              "row_count": 150,
              "column_count": 6,
              "columns": [
                {
                  "name": "sepal length (cm)",
                  "dtype": "float64",
                  "stats": {
                    "unique_count": 35,
                    "nan_count": 0,
                    "min": "4.3",
                    "max": "7.9",
                    "histogram": [
                      {
                        "bin_start": 4.3,
                        "bin_end": 4.66,
                        "count": 9
                      },
                      {
                        "bin_start": 4.66,
                        "bin_end": 5.02,
                        "count": 23
                      },
                      {
                        "bin_start": 5.02,
                        "bin_end": 5.38,
                        "count": 14
                      },
                      {
                        "bin_start": 5.38,
                        "bin_end": 5.74,
                        "count": 27
                      },
                      {
                        "bin_start": 5.74,
                        "bin_end": 6.1,
                        "count": 16
                      },
                      {
                        "bin_start": 6.1,
                        "bin_end": 6.46,
                        "count": 26
                      },
                      {
                        "bin_start": 6.46,
                        "bin_end": 6.82,
                        "count": 18
                      },
                      {
                        "bin_start": 6.82,
                        "bin_end": 7.18,
                        "count": 6
                      },
                      {
                        "bin_start": 7.18,
                        "bin_end": 7.54,
                        "count": 5
                      },
                      {
                        "bin_start": 7.54,
                        "bin_end": 7.9,
                        "count": 6
                      }
                    ]
                  }
                },
                {
                  "name": "sepal width (cm)",
                  "dtype": "float64",
                  "stats": {
                    "unique_count": 23,
                    "nan_count": 0,
                    "min": "2.0",
                    "max": "4.4",
                    "histogram": [
                      {
                        "bin_start": 2,
                        "bin_end": 2.24,
                        "count": 4
                      },
                      {
                        "bin_start": 2.24,
                        "bin_end": 2.48,
                        "count": 7
                      },
                      {
                        "bin_start": 2.48,
                        "bin_end": 2.72,
                        "count": 22
                      },
                      {
                        "bin_start": 2.72,
                        "bin_end": 2.96,
                        "count": 24
                      },
                      {
                        "bin_start": 2.96,
                        "bin_end": 3.2,
                        "count": 37
                      },
                      {
                        "bin_start": 3.2,
                        "bin_end": 3.4400000000000004,
                        "count": 31
                      },
                      {
                        "bin_start": 3.4400000000000004,
                        "bin_end": 3.6800000000000006,
                        "count": 10
                      },
                      {
                        "bin_start": 3.6800000000000006,
                        "bin_end": 3.9200000000000004,
                        "count": 11
                      },
                      {
                        "bin_start": 3.9200000000000004,
                        "bin_end": 4.16,
                        "count": 2
                      },
                      {
                        "bin_start": 4.16,
                        "bin_end": 4.4,
                        "count": 2
                      }
                    ]
                  }
                },
                {
                  "name": "petal length (cm)",
                  "dtype": "float64",
                  "stats": {
                    "unique_count": 43,
                    "nan_count": 0,
                    "min": "1.0",
                    "max": "6.9",
                    "histogram": [
                      {
                        "bin_start": 1,
                        "bin_end": 1.59,
                        "count": 37
                      },
                      {
                        "bin_start": 1.59,
                        "bin_end": 2.18,
                        "count": 13
                      },
                      {
                        "bin_start": 2.18,
                        "bin_end": 2.7700000000000005,
                        "count": 0
                      },
                      {
                        "bin_start": 2.7700000000000005,
                        "bin_end": 3.3600000000000003,
                        "count": 3
                      },
                      {
                        "bin_start": 3.3600000000000003,
                        "bin_end": 3.95,
                        "count": 8
                      },
                      {
                        "bin_start": 3.95,
                        "bin_end": 4.540000000000001,
                        "count": 26
                      },
                      {
                        "bin_start": 4.540000000000001,
                        "bin_end": 5.130000000000001,
                        "count": 29
                      },
                      {
                        "bin_start": 5.130000000000001,
                        "bin_end": 5.720000000000001,
                        "count": 18
                      },
                      {
                        "bin_start": 5.720000000000001,
                        "bin_end": 6.3100000000000005,
                        "count": 11
                      },
                      {
                        "bin_start": 6.3100000000000005,
                        "bin_end": 6.9,
                        "count": 5
                      }
                    ]
                  }
                },
                {
                  "name": "petal width (cm)",
                  "dtype": "float64",
                  "stats": {
                    "unique_count": 22,
                    "nan_count": 0,
                    "min": "0.1",
                    "max": "2.5",
                    "histogram": [
                      {
                        "bin_start": 0.1,
                        "bin_end": 0.33999999999999997,
                        "count": 41
                      },
                      {
                        "bin_start": 0.33999999999999997,
                        "bin_end": 0.58,
                        "count": 8
                      },
                      {
                        "bin_start": 0.58,
                        "bin_end": 0.82,
                        "count": 1
                      },
                      {
                        "bin_start": 0.82,
                        "bin_end": 1.06,
                        "count": 7
                      },
                      {
                        "bin_start": 1.06,
                        "bin_end": 1.3,
                        "count": 8
                      },
                      {
                        "bin_start": 1.3,
                        "bin_end": 1.54,
                        "count": 33
                      },
                      {
                        "bin_start": 1.54,
                        "bin_end": 1.78,
                        "count": 6
                      },
                      {
                        "bin_start": 1.78,
                        "bin_end": 2.02,
                        "count": 23
                      },
                      {
                        "bin_start": 2.02,
                        "bin_end": 2.2600000000000002,
                        "count": 9
                      },
                      {
                        "bin_start": 2.2600000000000002,
                        "bin_end": 2.5,
                        "count": 14
                      }
                    ]
                  }
                },
                {
                  "name": "target",
                  "dtype": "float64",
                  "stats": {
                    "unique_count": 3,
                    "nan_count": 0,
                    "min": "0.0",
                    "max": "2.0",
                    "histogram": [
                      {
                        "bin_start": 0,
                        "bin_end": 0.2,
                        "count": 50
                      },
                      {
                        "bin_start": 0.2,
                        "bin_end": 0.4,
                        "count": 0
                      },
                      {
                        "bin_start": 0.4,
                        "bin_end": 0.6000000000000001,
                        "count": 0
                      },
                      {
                        "bin_start": 0.6000000000000001,
                        "bin_end": 0.8,
                        "count": 0
                      },
                      {
                        "bin_start": 0.8,
                        "bin_end": 1,
                        "count": 0
                      },
                      {
                        "bin_start": 1,
                        "bin_end": 1.2000000000000002,
                        "count": 50
                      },
                      {
                        "bin_start": 1.2000000000000002,
                        "bin_end": 1.4000000000000001,
                        "count": 0
                      },
                      {
                        "bin_start": 1.4000000000000001,
                        "bin_end": 1.6,
                        "count": 0
                      },
                      {
                        "bin_start": 1.6,
                        "bin_end": 1.8,
                        "count": 0
                      },
                      {
                        "bin_start": 1.8,
                        "bin_end": 2,
                        "count": 50
                      }
                    ]
                  }
                },
                {
                  "name": "class",
                  "dtype": "category",
                  "stats": {
                    "unique_count": 3,
                    "nan_count": 0,
                    "categories": [
                      {
                        "name": "setosa",
                        "count": 50
                      },
                      {
                        "name": "versicolor",
                        "count": 50
                      },
                      {
                        "name": "virginica",
                        "count": 50
                      }
                    ]
                  }
                },
                {
                  "name": "_deepnote_index_column",
                  "dtype": "int64"
                }
              ],
              "rows_top": [
                {
                  "sepal length (cm)": 5.1,
                  "sepal width (cm)": 3.5,
                  "petal length (cm)": 1.4,
                  "petal width (cm)": 0.2,
                  "target": 0,
                  "class": "setosa",
                  "_deepnote_index_column": 0
                },
                {
                  "sepal length (cm)": 4.9,
                  "sepal width (cm)": 3,
                  "petal length (cm)": 1.4,
                  "petal width (cm)": 0.2,
                  "target": 0,
                  "class": "setosa",
                  "_deepnote_index_column": 1
                },
                {
                  "sepal length (cm)": 4.7,
                  "sepal width (cm)": 3.2,
                  "petal length (cm)": 1.3,
                  "petal width (cm)": 0.2,
                  "target": 0,
                  "class": "setosa",
                  "_deepnote_index_column": 2
                },
                {
                  "sepal length (cm)": 4.6,
                  "sepal width (cm)": 3.1,
                  "petal length (cm)": 1.5,
                  "petal width (cm)": 0.2,
                  "target": 0,
                  "class": "setosa",
                  "_deepnote_index_column": 3
                },
                {
                  "sepal length (cm)": 5,
                  "sepal width (cm)": 3.6,
                  "petal length (cm)": 1.4,
                  "petal width (cm)": 0.2,
                  "target": 0,
                  "class": "setosa",
                  "_deepnote_index_column": 4
                },
                {
                  "sepal length (cm)": 5.4,
                  "sepal width (cm)": 3.9,
                  "petal length (cm)": 1.7,
                  "petal width (cm)": 0.4,
                  "target": 0,
                  "class": "setosa",
                  "_deepnote_index_column": 5
                },
                {
                  "sepal length (cm)": 4.6,
                  "sepal width (cm)": 3.4,
                  "petal length (cm)": 1.4,
                  "petal width (cm)": 0.3,
                  "target": 0,
                  "class": "setosa",
                  "_deepnote_index_column": 6
                },
                {
                  "sepal length (cm)": 5,
                  "sepal width (cm)": 3.4,
                  "petal length (cm)": 1.5,
                  "petal width (cm)": 0.2,
                  "target": 0,
                  "class": "setosa",
                  "_deepnote_index_column": 7
                },
                {
                  "sepal length (cm)": 4.4,
                  "sepal width (cm)": 2.9,
                  "petal length (cm)": 1.4,
                  "petal width (cm)": 0.2,
                  "target": 0,
                  "class": "setosa",
                  "_deepnote_index_column": 8
                },
                {
                  "sepal length (cm)": 4.9,
                  "sepal width (cm)": 3.1,
                  "petal length (cm)": 1.5,
                  "petal width (cm)": 0.1,
                  "target": 0,
                  "class": "setosa",
                  "_deepnote_index_column": 9
                },
                {
                  "sepal length (cm)": 5.4,
                  "sepal width (cm)": 3.7,
                  "petal length (cm)": 1.5,
                  "petal width (cm)": 0.2,
                  "target": 0,
                  "class": "setosa",
                  "_deepnote_index_column": 10
                },
                {
                  "sepal length (cm)": 4.8,
                  "sepal width (cm)": 3.4,
                  "petal length (cm)": 1.6,
                  "petal width (cm)": 0.2,
                  "target": 0,
                  "class": "setosa",
                  "_deepnote_index_column": 11
                },
                {
                  "sepal length (cm)": 4.8,
                  "sepal width (cm)": 3,
                  "petal length (cm)": 1.4,
                  "petal width (cm)": 0.1,
                  "target": 0,
                  "class": "setosa",
                  "_deepnote_index_column": 12
                },
                {
                  "sepal length (cm)": 4.3,
                  "sepal width (cm)": 3,
                  "petal length (cm)": 1.1,
                  "petal width (cm)": 0.1,
                  "target": 0,
                  "class": "setosa",
                  "_deepnote_index_column": 13
                },
                {
                  "sepal length (cm)": 5.8,
                  "sepal width (cm)": 4,
                  "petal length (cm)": 1.2,
                  "petal width (cm)": 0.2,
                  "target": 0,
                  "class": "setosa",
                  "_deepnote_index_column": 14
                },
                {
                  "sepal length (cm)": 5.7,
                  "sepal width (cm)": 4.4,
                  "petal length (cm)": 1.5,
                  "petal width (cm)": 0.4,
                  "target": 0,
                  "class": "setosa",
                  "_deepnote_index_column": 15
                },
                {
                  "sepal length (cm)": 5.4,
                  "sepal width (cm)": 3.9,
                  "petal length (cm)": 1.3,
                  "petal width (cm)": 0.4,
                  "target": 0,
                  "class": "setosa",
                  "_deepnote_index_column": 16
                },
                {
                  "sepal length (cm)": 5.1,
                  "sepal width (cm)": 3.5,
                  "petal length (cm)": 1.4,
                  "petal width (cm)": 0.3,
                  "target": 0,
                  "class": "setosa",
                  "_deepnote_index_column": 17
                },
                {
                  "sepal length (cm)": 5.7,
                  "sepal width (cm)": 3.8,
                  "petal length (cm)": 1.7,
                  "petal width (cm)": 0.3,
                  "target": 0,
                  "class": "setosa",
                  "_deepnote_index_column": 18
                },
                {
                  "sepal length (cm)": 5.1,
                  "sepal width (cm)": 3.8,
                  "petal length (cm)": 1.5,
                  "petal width (cm)": 0.3,
                  "target": 0,
                  "class": "setosa",
                  "_deepnote_index_column": 19
                },
                {
                  "sepal length (cm)": 5.4,
                  "sepal width (cm)": 3.4,
                  "petal length (cm)": 1.7,
                  "petal width (cm)": 0.2,
                  "target": 0,
                  "class": "setosa",
                  "_deepnote_index_column": 20
                },
                {
                  "sepal length (cm)": 5.1,
                  "sepal width (cm)": 3.7,
                  "petal length (cm)": 1.5,
                  "petal width (cm)": 0.4,
                  "target": 0,
                  "class": "setosa",
                  "_deepnote_index_column": 21
                },
                {
                  "sepal length (cm)": 4.6,
                  "sepal width (cm)": 3.6,
                  "petal length (cm)": 1,
                  "petal width (cm)": 0.2,
                  "target": 0,
                  "class": "setosa",
                  "_deepnote_index_column": 22
                },
                {
                  "sepal length (cm)": 5.1,
                  "sepal width (cm)": 3.3,
                  "petal length (cm)": 1.7,
                  "petal width (cm)": 0.5,
                  "target": 0,
                  "class": "setosa",
                  "_deepnote_index_column": 23
                },
                {
                  "sepal length (cm)": 4.8,
                  "sepal width (cm)": 3.4,
                  "petal length (cm)": 1.9,
                  "petal width (cm)": 0.2,
                  "target": 0,
                  "class": "setosa",
                  "_deepnote_index_column": 24
                },
                {
                  "sepal length (cm)": 5,
                  "sepal width (cm)": 3,
                  "petal length (cm)": 1.6,
                  "petal width (cm)": 0.2,
                  "target": 0,
                  "class": "setosa",
                  "_deepnote_index_column": 25
                },
                {
                  "sepal length (cm)": 5,
                  "sepal width (cm)": 3.4,
                  "petal length (cm)": 1.6,
                  "petal width (cm)": 0.4,
                  "target": 0,
                  "class": "setosa",
                  "_deepnote_index_column": 26
                },
                {
                  "sepal length (cm)": 5.2,
                  "sepal width (cm)": 3.5,
                  "petal length (cm)": 1.5,
                  "petal width (cm)": 0.2,
                  "target": 0,
                  "class": "setosa",
                  "_deepnote_index_column": 27
                },
                {
                  "sepal length (cm)": 5.2,
                  "sepal width (cm)": 3.4,
                  "petal length (cm)": 1.4,
                  "petal width (cm)": 0.2,
                  "target": 0,
                  "class": "setosa",
                  "_deepnote_index_column": 28
                },
                {
                  "sepal length (cm)": 4.7,
                  "sepal width (cm)": 3.2,
                  "petal length (cm)": 1.6,
                  "petal width (cm)": 0.2,
                  "target": 0,
                  "class": "setosa",
                  "_deepnote_index_column": 29
                },
                {
                  "sepal length (cm)": 4.8,
                  "sepal width (cm)": 3.1,
                  "petal length (cm)": 1.6,
                  "petal width (cm)": 0.2,
                  "target": 0,
                  "class": "setosa",
                  "_deepnote_index_column": 30
                },
                {
                  "sepal length (cm)": 5.4,
                  "sepal width (cm)": 3.4,
                  "petal length (cm)": 1.5,
                  "petal width (cm)": 0.4,
                  "target": 0,
                  "class": "setosa",
                  "_deepnote_index_column": 31
                },
                {
                  "sepal length (cm)": 5.2,
                  "sepal width (cm)": 4.1,
                  "petal length (cm)": 1.5,
                  "petal width (cm)": 0.1,
                  "target": 0,
                  "class": "setosa",
                  "_deepnote_index_column": 32
                },
                {
                  "sepal length (cm)": 5.5,
                  "sepal width (cm)": 4.2,
                  "petal length (cm)": 1.4,
                  "petal width (cm)": 0.2,
                  "target": 0,
                  "class": "setosa",
                  "_deepnote_index_column": 33
                },
                {
                  "sepal length (cm)": 4.9,
                  "sepal width (cm)": 3.1,
                  "petal length (cm)": 1.5,
                  "petal width (cm)": 0.2,
                  "target": 0,
                  "class": "setosa",
                  "_deepnote_index_column": 34
                },
                {
                  "sepal length (cm)": 5,
                  "sepal width (cm)": 3.2,
                  "petal length (cm)": 1.2,
                  "petal width (cm)": 0.2,
                  "target": 0,
                  "class": "setosa",
                  "_deepnote_index_column": 35
                },
                {
                  "sepal length (cm)": 5.5,
                  "sepal width (cm)": 3.5,
                  "petal length (cm)": 1.3,
                  "petal width (cm)": 0.2,
                  "target": 0,
                  "class": "setosa",
                  "_deepnote_index_column": 36
                },
                {
                  "sepal length (cm)": 4.9,
                  "sepal width (cm)": 3.6,
                  "petal length (cm)": 1.4,
                  "petal width (cm)": 0.1,
                  "target": 0,
                  "class": "setosa",
                  "_deepnote_index_column": 37
                },
                {
                  "sepal length (cm)": 4.4,
                  "sepal width (cm)": 3,
                  "petal length (cm)": 1.3,
                  "petal width (cm)": 0.2,
                  "target": 0,
                  "class": "setosa",
                  "_deepnote_index_column": 38
                },
                {
                  "sepal length (cm)": 5.1,
                  "sepal width (cm)": 3.4,
                  "petal length (cm)": 1.5,
                  "petal width (cm)": 0.2,
                  "target": 0,
                  "class": "setosa",
                  "_deepnote_index_column": 39
                },
                {
                  "sepal length (cm)": 5,
                  "sepal width (cm)": 3.5,
                  "petal length (cm)": 1.3,
                  "petal width (cm)": 0.3,
                  "target": 0,
                  "class": "setosa",
                  "_deepnote_index_column": 40
                },
                {
                  "sepal length (cm)": 4.5,
                  "sepal width (cm)": 2.3,
                  "petal length (cm)": 1.3,
                  "petal width (cm)": 0.3,
                  "target": 0,
                  "class": "setosa",
                  "_deepnote_index_column": 41
                },
                {
                  "sepal length (cm)": 4.4,
                  "sepal width (cm)": 3.2,
                  "petal length (cm)": 1.3,
                  "petal width (cm)": 0.2,
                  "target": 0,
                  "class": "setosa",
                  "_deepnote_index_column": 42
                },
                {
                  "sepal length (cm)": 5,
                  "sepal width (cm)": 3.5,
                  "petal length (cm)": 1.6,
                  "petal width (cm)": 0.6,
                  "target": 0,
                  "class": "setosa",
                  "_deepnote_index_column": 43
                },
                {
                  "sepal length (cm)": 5.1,
                  "sepal width (cm)": 3.8,
                  "petal length (cm)": 1.9,
                  "petal width (cm)": 0.4,
                  "target": 0,
                  "class": "setosa",
                  "_deepnote_index_column": 44
                },
                {
                  "sepal length (cm)": 4.8,
                  "sepal width (cm)": 3,
                  "petal length (cm)": 1.4,
                  "petal width (cm)": 0.3,
                  "target": 0,
                  "class": "setosa",
                  "_deepnote_index_column": 45
                },
                {
                  "sepal length (cm)": 5.1,
                  "sepal width (cm)": 3.8,
                  "petal length (cm)": 1.6,
                  "petal width (cm)": 0.2,
                  "target": 0,
                  "class": "setosa",
                  "_deepnote_index_column": 46
                },
                {
                  "sepal length (cm)": 4.6,
                  "sepal width (cm)": 3.2,
                  "petal length (cm)": 1.4,
                  "petal width (cm)": 0.2,
                  "target": 0,
                  "class": "setosa",
                  "_deepnote_index_column": 47
                },
                {
                  "sepal length (cm)": 5.3,
                  "sepal width (cm)": 3.7,
                  "petal length (cm)": 1.5,
                  "petal width (cm)": 0.2,
                  "target": 0,
                  "class": "setosa",
                  "_deepnote_index_column": 48
                },
                {
                  "sepal length (cm)": 5,
                  "sepal width (cm)": 3.3,
                  "petal length (cm)": 1.4,
                  "petal width (cm)": 0.2,
                  "target": 0,
                  "class": "setosa",
                  "_deepnote_index_column": 49
                },
                {
                  "sepal length (cm)": 7,
                  "sepal width (cm)": 3.2,
                  "petal length (cm)": 4.7,
                  "petal width (cm)": 1.4,
                  "target": 1,
                  "class": "versicolor",
                  "_deepnote_index_column": 50
                },
                {
                  "sepal length (cm)": 6.4,
                  "sepal width (cm)": 3.2,
                  "petal length (cm)": 4.5,
                  "petal width (cm)": 1.5,
                  "target": 1,
                  "class": "versicolor",
                  "_deepnote_index_column": 51
                },
                {
                  "sepal length (cm)": 6.9,
                  "sepal width (cm)": 3.1,
                  "petal length (cm)": 4.9,
                  "petal width (cm)": 1.5,
                  "target": 1,
                  "class": "versicolor",
                  "_deepnote_index_column": 52
                },
                {
                  "sepal length (cm)": 5.5,
                  "sepal width (cm)": 2.3,
                  "petal length (cm)": 4,
                  "petal width (cm)": 1.3,
                  "target": 1,
                  "class": "versicolor",
                  "_deepnote_index_column": 53
                },
                {
                  "sepal length (cm)": 6.5,
                  "sepal width (cm)": 2.8,
                  "petal length (cm)": 4.6,
                  "petal width (cm)": 1.5,
                  "target": 1,
                  "class": "versicolor",
                  "_deepnote_index_column": 54
                },
                {
                  "sepal length (cm)": 5.7,
                  "sepal width (cm)": 2.8,
                  "petal length (cm)": 4.5,
                  "petal width (cm)": 1.3,
                  "target": 1,
                  "class": "versicolor",
                  "_deepnote_index_column": 55
                },
                {
                  "sepal length (cm)": 6.3,
                  "sepal width (cm)": 3.3,
                  "petal length (cm)": 4.7,
                  "petal width (cm)": 1.6,
                  "target": 1,
                  "class": "versicolor",
                  "_deepnote_index_column": 56
                },
                {
                  "sepal length (cm)": 4.9,
                  "sepal width (cm)": 2.4,
                  "petal length (cm)": 3.3,
                  "petal width (cm)": 1,
                  "target": 1,
                  "class": "versicolor",
                  "_deepnote_index_column": 57
                },
                {
                  "sepal length (cm)": 6.6,
                  "sepal width (cm)": 2.9,
                  "petal length (cm)": 4.6,
                  "petal width (cm)": 1.3,
                  "target": 1,
                  "class": "versicolor",
                  "_deepnote_index_column": 58
                },
                {
                  "sepal length (cm)": 5.2,
                  "sepal width (cm)": 2.7,
                  "petal length (cm)": 3.9,
                  "petal width (cm)": 1.4,
                  "target": 1,
                  "class": "versicolor",
                  "_deepnote_index_column": 59
                },
                {
                  "sepal length (cm)": 5,
                  "sepal width (cm)": 2,
                  "petal length (cm)": 3.5,
                  "petal width (cm)": 1,
                  "target": 1,
                  "class": "versicolor",
                  "_deepnote_index_column": 60
                },
                {
                  "sepal length (cm)": 5.9,
                  "sepal width (cm)": 3,
                  "petal length (cm)": 4.2,
                  "petal width (cm)": 1.5,
                  "target": 1,
                  "class": "versicolor",
                  "_deepnote_index_column": 61
                },
                {
                  "sepal length (cm)": 6,
                  "sepal width (cm)": 2.2,
                  "petal length (cm)": 4,
                  "petal width (cm)": 1,
                  "target": 1,
                  "class": "versicolor",
                  "_deepnote_index_column": 62
                },
                {
                  "sepal length (cm)": 6.1,
                  "sepal width (cm)": 2.9,
                  "petal length (cm)": 4.7,
                  "petal width (cm)": 1.4,
                  "target": 1,
                  "class": "versicolor",
                  "_deepnote_index_column": 63
                },
                {
                  "sepal length (cm)": 5.6,
                  "sepal width (cm)": 2.9,
                  "petal length (cm)": 3.6,
                  "petal width (cm)": 1.3,
                  "target": 1,
                  "class": "versicolor",
                  "_deepnote_index_column": 64
                },
                {
                  "sepal length (cm)": 6.7,
                  "sepal width (cm)": 3.1,
                  "petal length (cm)": 4.4,
                  "petal width (cm)": 1.4,
                  "target": 1,
                  "class": "versicolor",
                  "_deepnote_index_column": 65
                },
                {
                  "sepal length (cm)": 5.6,
                  "sepal width (cm)": 3,
                  "petal length (cm)": 4.5,
                  "petal width (cm)": 1.5,
                  "target": 1,
                  "class": "versicolor",
                  "_deepnote_index_column": 66
                },
                {
                  "sepal length (cm)": 5.8,
                  "sepal width (cm)": 2.7,
                  "petal length (cm)": 4.1,
                  "petal width (cm)": 1,
                  "target": 1,
                  "class": "versicolor",
                  "_deepnote_index_column": 67
                },
                {
                  "sepal length (cm)": 6.2,
                  "sepal width (cm)": 2.2,
                  "petal length (cm)": 4.5,
                  "petal width (cm)": 1.5,
                  "target": 1,
                  "class": "versicolor",
                  "_deepnote_index_column": 68
                },
                {
                  "sepal length (cm)": 5.6,
                  "sepal width (cm)": 2.5,
                  "petal length (cm)": 3.9,
                  "petal width (cm)": 1.1,
                  "target": 1,
                  "class": "versicolor",
                  "_deepnote_index_column": 69
                },
                {
                  "sepal length (cm)": 5.9,
                  "sepal width (cm)": 3.2,
                  "petal length (cm)": 4.8,
                  "petal width (cm)": 1.8,
                  "target": 1,
                  "class": "versicolor",
                  "_deepnote_index_column": 70
                },
                {
                  "sepal length (cm)": 6.1,
                  "sepal width (cm)": 2.8,
                  "petal length (cm)": 4,
                  "petal width (cm)": 1.3,
                  "target": 1,
                  "class": "versicolor",
                  "_deepnote_index_column": 71
                },
                {
                  "sepal length (cm)": 6.3,
                  "sepal width (cm)": 2.5,
                  "petal length (cm)": 4.9,
                  "petal width (cm)": 1.5,
                  "target": 1,
                  "class": "versicolor",
                  "_deepnote_index_column": 72
                },
                {
                  "sepal length (cm)": 6.1,
                  "sepal width (cm)": 2.8,
                  "petal length (cm)": 4.7,
                  "petal width (cm)": 1.2,
                  "target": 1,
                  "class": "versicolor",
                  "_deepnote_index_column": 73
                },
                {
                  "sepal length (cm)": 6.4,
                  "sepal width (cm)": 2.9,
                  "petal length (cm)": 4.3,
                  "petal width (cm)": 1.3,
                  "target": 1,
                  "class": "versicolor",
                  "_deepnote_index_column": 74
                },
                {
                  "sepal length (cm)": 6.6,
                  "sepal width (cm)": 3,
                  "petal length (cm)": 4.4,
                  "petal width (cm)": 1.4,
                  "target": 1,
                  "class": "versicolor",
                  "_deepnote_index_column": 75
                },
                {
                  "sepal length (cm)": 6.8,
                  "sepal width (cm)": 2.8,
                  "petal length (cm)": 4.8,
                  "petal width (cm)": 1.4,
                  "target": 1,
                  "class": "versicolor",
                  "_deepnote_index_column": 76
                },
                {
                  "sepal length (cm)": 6.7,
                  "sepal width (cm)": 3,
                  "petal length (cm)": 5,
                  "petal width (cm)": 1.7,
                  "target": 1,
                  "class": "versicolor",
                  "_deepnote_index_column": 77
                },
                {
                  "sepal length (cm)": 6,
                  "sepal width (cm)": 2.9,
                  "petal length (cm)": 4.5,
                  "petal width (cm)": 1.5,
                  "target": 1,
                  "class": "versicolor",
                  "_deepnote_index_column": 78
                },
                {
                  "sepal length (cm)": 5.7,
                  "sepal width (cm)": 2.6,
                  "petal length (cm)": 3.5,
                  "petal width (cm)": 1,
                  "target": 1,
                  "class": "versicolor",
                  "_deepnote_index_column": 79
                },
                {
                  "sepal length (cm)": 5.5,
                  "sepal width (cm)": 2.4,
                  "petal length (cm)": 3.8,
                  "petal width (cm)": 1.1,
                  "target": 1,
                  "class": "versicolor",
                  "_deepnote_index_column": 80
                },
                {
                  "sepal length (cm)": 5.5,
                  "sepal width (cm)": 2.4,
                  "petal length (cm)": 3.7,
                  "petal width (cm)": 1,
                  "target": 1,
                  "class": "versicolor",
                  "_deepnote_index_column": 81
                },
                {
                  "sepal length (cm)": 5.8,
                  "sepal width (cm)": 2.7,
                  "petal length (cm)": 3.9,
                  "petal width (cm)": 1.2,
                  "target": 1,
                  "class": "versicolor",
                  "_deepnote_index_column": 82
                },
                {
                  "sepal length (cm)": 6,
                  "sepal width (cm)": 2.7,
                  "petal length (cm)": 5.1,
                  "petal width (cm)": 1.6,
                  "target": 1,
                  "class": "versicolor",
                  "_deepnote_index_column": 83
                },
                {
                  "sepal length (cm)": 5.4,
                  "sepal width (cm)": 3,
                  "petal length (cm)": 4.5,
                  "petal width (cm)": 1.5,
                  "target": 1,
                  "class": "versicolor",
                  "_deepnote_index_column": 84
                },
                {
                  "sepal length (cm)": 6,
                  "sepal width (cm)": 3.4,
                  "petal length (cm)": 4.5,
                  "petal width (cm)": 1.6,
                  "target": 1,
                  "class": "versicolor",
                  "_deepnote_index_column": 85
                },
                {
                  "sepal length (cm)": 6.7,
                  "sepal width (cm)": 3.1,
                  "petal length (cm)": 4.7,
                  "petal width (cm)": 1.5,
                  "target": 1,
                  "class": "versicolor",
                  "_deepnote_index_column": 86
                },
                {
                  "sepal length (cm)": 6.3,
                  "sepal width (cm)": 2.3,
                  "petal length (cm)": 4.4,
                  "petal width (cm)": 1.3,
                  "target": 1,
                  "class": "versicolor",
                  "_deepnote_index_column": 87
                },
                {
                  "sepal length (cm)": 5.6,
                  "sepal width (cm)": 3,
                  "petal length (cm)": 4.1,
                  "petal width (cm)": 1.3,
                  "target": 1,
                  "class": "versicolor",
                  "_deepnote_index_column": 88
                },
                {
                  "sepal length (cm)": 5.5,
                  "sepal width (cm)": 2.5,
                  "petal length (cm)": 4,
                  "petal width (cm)": 1.3,
                  "target": 1,
                  "class": "versicolor",
                  "_deepnote_index_column": 89
                },
                {
                  "sepal length (cm)": 5.5,
                  "sepal width (cm)": 2.6,
                  "petal length (cm)": 4.4,
                  "petal width (cm)": 1.2,
                  "target": 1,
                  "class": "versicolor",
                  "_deepnote_index_column": 90
                },
                {
                  "sepal length (cm)": 6.1,
                  "sepal width (cm)": 3,
                  "petal length (cm)": 4.6,
                  "petal width (cm)": 1.4,
                  "target": 1,
                  "class": "versicolor",
                  "_deepnote_index_column": 91
                },
                {
                  "sepal length (cm)": 5.8,
                  "sepal width (cm)": 2.6,
                  "petal length (cm)": 4,
                  "petal width (cm)": 1.2,
                  "target": 1,
                  "class": "versicolor",
                  "_deepnote_index_column": 92
                },
                {
                  "sepal length (cm)": 5,
                  "sepal width (cm)": 2.3,
                  "petal length (cm)": 3.3,
                  "petal width (cm)": 1,
                  "target": 1,
                  "class": "versicolor",
                  "_deepnote_index_column": 93
                },
                {
                  "sepal length (cm)": 5.6,
                  "sepal width (cm)": 2.7,
                  "petal length (cm)": 4.2,
                  "petal width (cm)": 1.3,
                  "target": 1,
                  "class": "versicolor",
                  "_deepnote_index_column": 94
                },
                {
                  "sepal length (cm)": 5.7,
                  "sepal width (cm)": 3,
                  "petal length (cm)": 4.2,
                  "petal width (cm)": 1.2,
                  "target": 1,
                  "class": "versicolor",
                  "_deepnote_index_column": 95
                },
                {
                  "sepal length (cm)": 5.7,
                  "sepal width (cm)": 2.9,
                  "petal length (cm)": 4.2,
                  "petal width (cm)": 1.3,
                  "target": 1,
                  "class": "versicolor",
                  "_deepnote_index_column": 96
                },
                {
                  "sepal length (cm)": 6.2,
                  "sepal width (cm)": 2.9,
                  "petal length (cm)": 4.3,
                  "petal width (cm)": 1.3,
                  "target": 1,
                  "class": "versicolor",
                  "_deepnote_index_column": 97
                },
                {
                  "sepal length (cm)": 5.1,
                  "sepal width (cm)": 2.5,
                  "petal length (cm)": 3,
                  "petal width (cm)": 1.1,
                  "target": 1,
                  "class": "versicolor",
                  "_deepnote_index_column": 98
                },
                {
                  "sepal length (cm)": 5.7,
                  "sepal width (cm)": 2.8,
                  "petal length (cm)": 4.1,
                  "petal width (cm)": 1.3,
                  "target": 1,
                  "class": "versicolor",
                  "_deepnote_index_column": 99
                },
                {
                  "sepal length (cm)": 6.3,
                  "sepal width (cm)": 3.3,
                  "petal length (cm)": 6,
                  "petal width (cm)": 2.5,
                  "target": 2,
                  "class": "virginica",
                  "_deepnote_index_column": 100
                },
                {
                  "sepal length (cm)": 5.8,
                  "sepal width (cm)": 2.7,
                  "petal length (cm)": 5.1,
                  "petal width (cm)": 1.9,
                  "target": 2,
                  "class": "virginica",
                  "_deepnote_index_column": 101
                },
                {
                  "sepal length (cm)": 7.1,
                  "sepal width (cm)": 3,
                  "petal length (cm)": 5.9,
                  "petal width (cm)": 2.1,
                  "target": 2,
                  "class": "virginica",
                  "_deepnote_index_column": 102
                },
                {
                  "sepal length (cm)": 6.3,
                  "sepal width (cm)": 2.9,
                  "petal length (cm)": 5.6,
                  "petal width (cm)": 1.8,
                  "target": 2,
                  "class": "virginica",
                  "_deepnote_index_column": 103
                },
                {
                  "sepal length (cm)": 6.5,
                  "sepal width (cm)": 3,
                  "petal length (cm)": 5.8,
                  "petal width (cm)": 2.2,
                  "target": 2,
                  "class": "virginica",
                  "_deepnote_index_column": 104
                },
                {
                  "sepal length (cm)": 7.6,
                  "sepal width (cm)": 3,
                  "petal length (cm)": 6.6,
                  "petal width (cm)": 2.1,
                  "target": 2,
                  "class": "virginica",
                  "_deepnote_index_column": 105
                },
                {
                  "sepal length (cm)": 4.9,
                  "sepal width (cm)": 2.5,
                  "petal length (cm)": 4.5,
                  "petal width (cm)": 1.7,
                  "target": 2,
                  "class": "virginica",
                  "_deepnote_index_column": 106
                },
                {
                  "sepal length (cm)": 7.3,
                  "sepal width (cm)": 2.9,
                  "petal length (cm)": 6.3,
                  "petal width (cm)": 1.8,
                  "target": 2,
                  "class": "virginica",
                  "_deepnote_index_column": 107
                },
                {
                  "sepal length (cm)": 6.7,
                  "sepal width (cm)": 2.5,
                  "petal length (cm)": 5.8,
                  "petal width (cm)": 1.8,
                  "target": 2,
                  "class": "virginica",
                  "_deepnote_index_column": 108
                },
                {
                  "sepal length (cm)": 7.2,
                  "sepal width (cm)": 3.6,
                  "petal length (cm)": 6.1,
                  "petal width (cm)": 2.5,
                  "target": 2,
                  "class": "virginica",
                  "_deepnote_index_column": 109
                },
                {
                  "sepal length (cm)": 6.5,
                  "sepal width (cm)": 3.2,
                  "petal length (cm)": 5.1,
                  "petal width (cm)": 2,
                  "target": 2,
                  "class": "virginica",
                  "_deepnote_index_column": 110
                },
                {
                  "sepal length (cm)": 6.4,
                  "sepal width (cm)": 2.7,
                  "petal length (cm)": 5.3,
                  "petal width (cm)": 1.9,
                  "target": 2,
                  "class": "virginica",
                  "_deepnote_index_column": 111
                },
                {
                  "sepal length (cm)": 6.8,
                  "sepal width (cm)": 3,
                  "petal length (cm)": 5.5,
                  "petal width (cm)": 2.1,
                  "target": 2,
                  "class": "virginica",
                  "_deepnote_index_column": 112
                },
                {
                  "sepal length (cm)": 5.7,
                  "sepal width (cm)": 2.5,
                  "petal length (cm)": 5,
                  "petal width (cm)": 2,
                  "target": 2,
                  "class": "virginica",
                  "_deepnote_index_column": 113
                },
                {
                  "sepal length (cm)": 5.8,
                  "sepal width (cm)": 2.8,
                  "petal length (cm)": 5.1,
                  "petal width (cm)": 2.4,
                  "target": 2,
                  "class": "virginica",
                  "_deepnote_index_column": 114
                },
                {
                  "sepal length (cm)": 6.4,
                  "sepal width (cm)": 3.2,
                  "petal length (cm)": 5.3,
                  "petal width (cm)": 2.3,
                  "target": 2,
                  "class": "virginica",
                  "_deepnote_index_column": 115
                },
                {
                  "sepal length (cm)": 6.5,
                  "sepal width (cm)": 3,
                  "petal length (cm)": 5.5,
                  "petal width (cm)": 1.8,
                  "target": 2,
                  "class": "virginica",
                  "_deepnote_index_column": 116
                },
                {
                  "sepal length (cm)": 7.7,
                  "sepal width (cm)": 3.8,
                  "petal length (cm)": 6.7,
                  "petal width (cm)": 2.2,
                  "target": 2,
                  "class": "virginica",
                  "_deepnote_index_column": 117
                },
                {
                  "sepal length (cm)": 7.7,
                  "sepal width (cm)": 2.6,
                  "petal length (cm)": 6.9,
                  "petal width (cm)": 2.3,
                  "target": 2,
                  "class": "virginica",
                  "_deepnote_index_column": 118
                },
                {
                  "sepal length (cm)": 6,
                  "sepal width (cm)": 2.2,
                  "petal length (cm)": 5,
                  "petal width (cm)": 1.5,
                  "target": 2,
                  "class": "virginica",
                  "_deepnote_index_column": 119
                },
                {
                  "sepal length (cm)": 6.9,
                  "sepal width (cm)": 3.2,
                  "petal length (cm)": 5.7,
                  "petal width (cm)": 2.3,
                  "target": 2,
                  "class": "virginica",
                  "_deepnote_index_column": 120
                },
                {
                  "sepal length (cm)": 5.6,
                  "sepal width (cm)": 2.8,
                  "petal length (cm)": 4.9,
                  "petal width (cm)": 2,
                  "target": 2,
                  "class": "virginica",
                  "_deepnote_index_column": 121
                },
                {
                  "sepal length (cm)": 7.7,
                  "sepal width (cm)": 2.8,
                  "petal length (cm)": 6.7,
                  "petal width (cm)": 2,
                  "target": 2,
                  "class": "virginica",
                  "_deepnote_index_column": 122
                },
                {
                  "sepal length (cm)": 6.3,
                  "sepal width (cm)": 2.7,
                  "petal length (cm)": 4.9,
                  "petal width (cm)": 1.8,
                  "target": 2,
                  "class": "virginica",
                  "_deepnote_index_column": 123
                },
                {
                  "sepal length (cm)": 6.7,
                  "sepal width (cm)": 3.3,
                  "petal length (cm)": 5.7,
                  "petal width (cm)": 2.1,
                  "target": 2,
                  "class": "virginica",
                  "_deepnote_index_column": 124
                },
                {
                  "sepal length (cm)": 7.2,
                  "sepal width (cm)": 3.2,
                  "petal length (cm)": 6,
                  "petal width (cm)": 1.8,
                  "target": 2,
                  "class": "virginica",
                  "_deepnote_index_column": 125
                },
                {
                  "sepal length (cm)": 6.2,
                  "sepal width (cm)": 2.8,
                  "petal length (cm)": 4.8,
                  "petal width (cm)": 1.8,
                  "target": 2,
                  "class": "virginica",
                  "_deepnote_index_column": 126
                },
                {
                  "sepal length (cm)": 6.1,
                  "sepal width (cm)": 3,
                  "petal length (cm)": 4.9,
                  "petal width (cm)": 1.8,
                  "target": 2,
                  "class": "virginica",
                  "_deepnote_index_column": 127
                },
                {
                  "sepal length (cm)": 6.4,
                  "sepal width (cm)": 2.8,
                  "petal length (cm)": 5.6,
                  "petal width (cm)": 2.1,
                  "target": 2,
                  "class": "virginica",
                  "_deepnote_index_column": 128
                },
                {
                  "sepal length (cm)": 7.2,
                  "sepal width (cm)": 3,
                  "petal length (cm)": 5.8,
                  "petal width (cm)": 1.6,
                  "target": 2,
                  "class": "virginica",
                  "_deepnote_index_column": 129
                },
                {
                  "sepal length (cm)": 7.4,
                  "sepal width (cm)": 2.8,
                  "petal length (cm)": 6.1,
                  "petal width (cm)": 1.9,
                  "target": 2,
                  "class": "virginica",
                  "_deepnote_index_column": 130
                },
                {
                  "sepal length (cm)": 7.9,
                  "sepal width (cm)": 3.8,
                  "petal length (cm)": 6.4,
                  "petal width (cm)": 2,
                  "target": 2,
                  "class": "virginica",
                  "_deepnote_index_column": 131
                },
                {
                  "sepal length (cm)": 6.4,
                  "sepal width (cm)": 2.8,
                  "petal length (cm)": 5.6,
                  "petal width (cm)": 2.2,
                  "target": 2,
                  "class": "virginica",
                  "_deepnote_index_column": 132
                },
                {
                  "sepal length (cm)": 6.3,
                  "sepal width (cm)": 2.8,
                  "petal length (cm)": 5.1,
                  "petal width (cm)": 1.5,
                  "target": 2,
                  "class": "virginica",
                  "_deepnote_index_column": 133
                },
                {
                  "sepal length (cm)": 6.1,
                  "sepal width (cm)": 2.6,
                  "petal length (cm)": 5.6,
                  "petal width (cm)": 1.4,
                  "target": 2,
                  "class": "virginica",
                  "_deepnote_index_column": 134
                },
                {
                  "sepal length (cm)": 7.7,
                  "sepal width (cm)": 3,
                  "petal length (cm)": 6.1,
                  "petal width (cm)": 2.3,
                  "target": 2,
                  "class": "virginica",
                  "_deepnote_index_column": 135
                },
                {
                  "sepal length (cm)": 6.3,
                  "sepal width (cm)": 3.4,
                  "petal length (cm)": 5.6,
                  "petal width (cm)": 2.4,
                  "target": 2,
                  "class": "virginica",
                  "_deepnote_index_column": 136
                },
                {
                  "sepal length (cm)": 6.4,
                  "sepal width (cm)": 3.1,
                  "petal length (cm)": 5.5,
                  "petal width (cm)": 1.8,
                  "target": 2,
                  "class": "virginica",
                  "_deepnote_index_column": 137
                },
                {
                  "sepal length (cm)": 6,
                  "sepal width (cm)": 3,
                  "petal length (cm)": 4.8,
                  "petal width (cm)": 1.8,
                  "target": 2,
                  "class": "virginica",
                  "_deepnote_index_column": 138
                },
                {
                  "sepal length (cm)": 6.9,
                  "sepal width (cm)": 3.1,
                  "petal length (cm)": 5.4,
                  "petal width (cm)": 2.1,
                  "target": 2,
                  "class": "virginica",
                  "_deepnote_index_column": 139
                },
                {
                  "sepal length (cm)": 6.7,
                  "sepal width (cm)": 3.1,
                  "petal length (cm)": 5.6,
                  "petal width (cm)": 2.4,
                  "target": 2,
                  "class": "virginica",
                  "_deepnote_index_column": 140
                },
                {
                  "sepal length (cm)": 6.9,
                  "sepal width (cm)": 3.1,
                  "petal length (cm)": 5.1,
                  "petal width (cm)": 2.3,
                  "target": 2,
                  "class": "virginica",
                  "_deepnote_index_column": 141
                },
                {
                  "sepal length (cm)": 5.8,
                  "sepal width (cm)": 2.7,
                  "petal length (cm)": 5.1,
                  "petal width (cm)": 1.9,
                  "target": 2,
                  "class": "virginica",
                  "_deepnote_index_column": 142
                },
                {
                  "sepal length (cm)": 6.8,
                  "sepal width (cm)": 3.2,
                  "petal length (cm)": 5.9,
                  "petal width (cm)": 2.3,
                  "target": 2,
                  "class": "virginica",
                  "_deepnote_index_column": 143
                },
                {
                  "sepal length (cm)": 6.7,
                  "sepal width (cm)": 3.3,
                  "petal length (cm)": 5.7,
                  "petal width (cm)": 2.5,
                  "target": 2,
                  "class": "virginica",
                  "_deepnote_index_column": 144
                },
                {
                  "sepal length (cm)": 6.7,
                  "sepal width (cm)": 3,
                  "petal length (cm)": 5.2,
                  "petal width (cm)": 2.3,
                  "target": 2,
                  "class": "virginica",
                  "_deepnote_index_column": 145
                },
                {
                  "sepal length (cm)": 6.3,
                  "sepal width (cm)": 2.5,
                  "petal length (cm)": 5,
                  "petal width (cm)": 1.9,
                  "target": 2,
                  "class": "virginica",
                  "_deepnote_index_column": 146
                },
                {
                  "sepal length (cm)": 6.5,
                  "sepal width (cm)": 3,
                  "petal length (cm)": 5.2,
                  "petal width (cm)": 2,
                  "target": 2,
                  "class": "virginica",
                  "_deepnote_index_column": 147
                },
                {
                  "sepal length (cm)": 6.2,
                  "sepal width (cm)": 3.4,
                  "petal length (cm)": 5.4,
                  "petal width (cm)": 2.3,
                  "target": 2,
                  "class": "virginica",
                  "_deepnote_index_column": 148
                },
                {
                  "sepal length (cm)": 5.9,
                  "sepal width (cm)": 3,
                  "petal length (cm)": 5.1,
                  "petal width (cm)": 1.8,
                  "target": 2,
                  "class": "virginica",
                  "_deepnote_index_column": 149
                }
              ],
              "rows_bottom": null
            },
            "text/plain": "     sepal length (cm)  sepal width (cm)  petal length (cm)  petal width (cm)  \\\n0                  5.1               3.5                1.4               0.2   \n1                  4.9               3.0                1.4               0.2   \n2                  4.7               3.2                1.3               0.2   \n3                  4.6               3.1                1.5               0.2   \n4                  5.0               3.6                1.4               0.2   \n..                 ...               ...                ...               ...   \n145                6.7               3.0                5.2               2.3   \n146                6.3               2.5                5.0               1.9   \n147                6.5               3.0                5.2               2.0   \n148                6.2               3.4                5.4               2.3   \n149                5.9               3.0                5.1               1.8   \n\n     target      class  \n0       0.0     setosa  \n1       0.0     setosa  \n2       0.0     setosa  \n3       0.0     setosa  \n4       0.0     setosa  \n..      ...        ...  \n145     2.0  virginica  \n146     2.0  virginica  \n147     2.0  virginica  \n148     2.0  virginica  \n149     2.0  virginica  \n\n[150 rows x 6 columns]",
            "text/html": "<div>\n<style scoped>\n    .dataframe tbody tr th:only-of-type {\n        vertical-align: middle;\n    }\n\n    .dataframe tbody tr th {\n        vertical-align: top;\n    }\n\n    .dataframe thead th {\n        text-align: right;\n    }\n</style>\n<table border=\"1\" class=\"dataframe\">\n  <thead>\n    <tr style=\"text-align: right;\">\n      <th></th>\n      <th>sepal length (cm)</th>\n      <th>sepal width (cm)</th>\n      <th>petal length (cm)</th>\n      <th>petal width (cm)</th>\n      <th>target</th>\n      <th>class</th>\n    </tr>\n  </thead>\n  <tbody>\n    <tr>\n      <th>0</th>\n      <td>5.1</td>\n      <td>3.5</td>\n      <td>1.4</td>\n      <td>0.2</td>\n      <td>0.0</td>\n      <td>setosa</td>\n    </tr>\n    <tr>\n      <th>1</th>\n      <td>4.9</td>\n      <td>3.0</td>\n      <td>1.4</td>\n      <td>0.2</td>\n      <td>0.0</td>\n      <td>setosa</td>\n    </tr>\n    <tr>\n      <th>2</th>\n      <td>4.7</td>\n      <td>3.2</td>\n      <td>1.3</td>\n      <td>0.2</td>\n      <td>0.0</td>\n      <td>setosa</td>\n    </tr>\n    <tr>\n      <th>3</th>\n      <td>4.6</td>\n      <td>3.1</td>\n      <td>1.5</td>\n      <td>0.2</td>\n      <td>0.0</td>\n      <td>setosa</td>\n    </tr>\n    <tr>\n      <th>4</th>\n      <td>5.0</td>\n      <td>3.6</td>\n      <td>1.4</td>\n      <td>0.2</td>\n      <td>0.0</td>\n      <td>setosa</td>\n    </tr>\n    <tr>\n      <th>...</th>\n      <td>...</td>\n      <td>...</td>\n      <td>...</td>\n      <td>...</td>\n      <td>...</td>\n      <td>...</td>\n    </tr>\n    <tr>\n      <th>145</th>\n      <td>6.7</td>\n      <td>3.0</td>\n      <td>5.2</td>\n      <td>2.3</td>\n      <td>2.0</td>\n      <td>virginica</td>\n    </tr>\n    <tr>\n      <th>146</th>\n      <td>6.3</td>\n      <td>2.5</td>\n      <td>5.0</td>\n      <td>1.9</td>\n      <td>2.0</td>\n      <td>virginica</td>\n    </tr>\n    <tr>\n      <th>147</th>\n      <td>6.5</td>\n      <td>3.0</td>\n      <td>5.2</td>\n      <td>2.0</td>\n      <td>2.0</td>\n      <td>virginica</td>\n    </tr>\n    <tr>\n      <th>148</th>\n      <td>6.2</td>\n      <td>3.4</td>\n      <td>5.4</td>\n      <td>2.3</td>\n      <td>2.0</td>\n      <td>virginica</td>\n    </tr>\n    <tr>\n      <th>149</th>\n      <td>5.9</td>\n      <td>3.0</td>\n      <td>5.1</td>\n      <td>1.8</td>\n      <td>2.0</td>\n      <td>virginica</td>\n    </tr>\n  </tbody>\n</table>\n<p>150 rows × 6 columns</p>\n</div>"
          },
          "metadata": {}
        }
      ]
    },
    {
      "cell_type": "code",
      "metadata": {
        "tags": [],
        "cell_id": "00002-509896a9-b9f0-4db8-b7f9-b19f7fb64a5a",
        "deepnote_to_be_reexecuted": false,
        "source_hash": "efe86555",
        "execution_start": 1619611846561,
        "execution_millis": 4,
        "deepnote_cell_type": "code"
      },
      "source": "\ny = np.array(df['target'])\nx = np.array(df.drop(columns=['target', 'class']))",
      "execution_count": 3,
      "outputs": []
    },
    {
      "cell_type": "code",
      "metadata": {
        "tags": [],
        "cell_id": "00003-1fa0711a-1c15-4cd5-a02c-6b2f8268a703",
        "deepnote_to_be_reexecuted": false,
        "source_hash": "56416ae",
        "execution_start": 1619611846614,
        "execution_millis": 0,
        "deepnote_cell_type": "code"
      },
      "source": "X_train, X_test, y_train, y_test = train_test_split(x, y, test_size=0.2)",
      "execution_count": 4,
      "outputs": []
    },
    {
      "cell_type": "code",
      "metadata": {
        "tags": [],
        "cell_id": "00005-b46acc6d-bf88-4826-b2e2-307f18a4d4f6",
        "deepnote_to_be_reexecuted": false,
        "source_hash": "9b31f81c",
        "execution_start": 1619611846615,
        "execution_millis": 0,
        "deepnote_cell_type": "code"
      },
      "source": "#dtc = DecisionTreeClassifier()\n#pipe = Pipeline",
      "execution_count": 5,
      "outputs": []
    },
    {
      "cell_type": "code",
      "source": "criterion = ['gini', 'entropy']\n\nfor i in criterion:\n    accuracy= []\n    for j in range(1,10):\n        clf = DecisionTreeClassifier(random_state=0, criterion=i, max_depth=j)\n        clf.fit(X_train, y_train)   # X_train, X_test, y_train, y_test\n        y_pred = clf.predict(X_test)\n        depth = clf.get_depth()\n        accuracy.append(accuracy_score(y_pred, y_test))\n        print(f'Selected criterion is {i}, selected max_depth is: {j}')\n        print('The depth of the decision tree is: ', clf.get_depth())\n        #print(confusion_matrix(y_test, y_hat))\n        print(f'The accuracy of the model with max depth = {depth} is: {accuracy_score(y_pred, y_test)} \\n')\n    sns.lineplot(range(1, 10), accuracy,color='blue')\n    plt.rcParams.update({'figure.figsize':(7,5), 'figure.dpi':100})\n    plt.title('Accuracy')\n    plt.show();\n\n## we could choose depth as 2 using criterion gini, entrophy we get maximum accuracy",
      "metadata": {
        "tags": [],
        "cell_id": "00006-a0965b71-0220-480a-8759-ae5108e9e38b",
        "deepnote_to_be_reexecuted": false,
        "source_hash": "9f70ee78",
        "execution_start": 1619614184969,
        "execution_millis": 381,
        "deepnote_cell_type": "code"
      },
      "outputs": [
        {
          "name": "stdout",
          "text": "Selected criterion is gini, selected max_depth is: 1\nThe depth of the decision tree is:  1\nThe accuracy of the model with max depth = 1 is: 0.6 \n\nSelected criterion is gini, selected max_depth is: 2\nThe depth of the decision tree is:  2\nThe accuracy of the model with max depth = 2 is: 1.0 \n\nSelected criterion is gini, selected max_depth is: 3\nThe depth of the decision tree is:  3\nThe accuracy of the model with max depth = 3 is: 0.9666666666666667 \n\nSelected criterion is gini, selected max_depth is: 4\nThe depth of the decision tree is:  4\nThe accuracy of the model with max depth = 4 is: 0.9666666666666667 \n\nSelected criterion is gini, selected max_depth is: 5\nThe depth of the decision tree is:  5\nThe accuracy of the model with max depth = 5 is: 1.0 \n\nSelected criterion is gini, selected max_depth is: 6\nThe depth of the decision tree is:  5\nThe accuracy of the model with max depth = 5 is: 1.0 \n\nSelected criterion is gini, selected max_depth is: 7\nThe depth of the decision tree is:  5\nThe accuracy of the model with max depth = 5 is: 1.0 \n\nSelected criterion is gini, selected max_depth is: 8\nThe depth of the decision tree is:  5\nThe accuracy of the model with max depth = 5 is: 1.0 \n\nSelected criterion is gini, selected max_depth is: 9\nThe depth of the decision tree is:  5\nThe accuracy of the model with max depth = 5 is: 1.0 \n\n/shared-libs/python3.7/py/lib/python3.7/site-packages/seaborn/_decorators.py:43: FutureWarning: Pass the following variables as keyword args: x, y. From version 0.12, the only valid positional argument will be `data`, and passing other arguments without an explicit keyword will result in an error or misinterpretation.\n  FutureWarning\n",
          "output_type": "stream"
        },
        {
          "data": {
            "text/plain": "<Figure size 700x500 with 1 Axes>",
            "image/png": "[encoded data removed]"
          },
          "metadata": {
            "needs_background": "light",
            "image/png": {
              "width": 602,
              "height": 443
            }
          },
          "output_type": "display_data"
        },
        {
          "name": "stdout",
          "text": "Selected criterion is entropy, selected max_depth is: 1\nThe depth of the decision tree is:  1\nThe accuracy of the model with max depth = 1 is: 0.6 \n\nSelected criterion is entropy, selected max_depth is: 2\nThe depth of the decision tree is:  2\nThe accuracy of the model with max depth = 2 is: 1.0 \n\nSelected criterion is entropy, selected max_depth is: 3\nThe depth of the decision tree is:  3\nThe accuracy of the model with max depth = 3 is: 0.9666666666666667 \n\nSelected criterion is entropy, selected max_depth is: 4\nThe depth of the decision tree is:  4\nThe accuracy of the model with max depth = 4 is: 0.9666666666666667 \n\nSelected criterion is entropy, selected max_depth is: 5\nThe depth of the decision tree is:  5\nThe accuracy of the model with max depth = 5 is: 1.0 \n\nSelected criterion is entropy, selected max_depth is: 6\nThe depth of the decision tree is:  5\nThe accuracy of the model with max depth = 5 is: 1.0 \n\nSelected criterion is entropy, selected max_depth is: 7\nThe depth of the decision tree is:  5\nThe accuracy of the model with max depth = 5 is: 1.0 \n\nSelected criterion is entropy, selected max_depth is: 8\nThe depth of the decision tree is:  5\nThe accuracy of the model with max depth = 5 is: 1.0 \n\nSelected criterion is entropy, selected max_depth is: 9\nThe depth of the decision tree is:  5\nThe accuracy of the model with max depth = 5 is: 1.0 \n\n/shared-libs/python3.7/py/lib/python3.7/site-packages/seaborn/_decorators.py:43: FutureWarning: Pass the following variables as keyword args: x, y. From version 0.12, the only valid positional argument will be `data`, and passing other arguments without an explicit keyword will result in an error or misinterpretation.\n  FutureWarning\n",
          "output_type": "stream"
        },
        {
          "data": {
            "text/plain": "<Figure size 700x500 with 1 Axes>",
            "image/png": "[encoded data removed]"
          },
          "metadata": {
            "needs_background": "light",
            "image/png": {
              "width": 602,
              "height": 443
            }
          },
          "output_type": "display_data"
        }
      ],
      "execution_count": 30
    },
    {
      "cell_type": "code",
      "metadata": {
        "tags": [],
        "cell_id": "00006-bcba69ac-8271-4cee-b8d7-e302bb9f27cf",
        "deepnote_to_be_reexecuted": false,
        "source_hash": "15915733",
        "execution_start": 1619614163771,
        "execution_millis": 501,
        "deepnote_cell_type": "code"
      },
      "source": "X, y = ds.data, ds.target\naccuracy= []\nclf = tree.DecisionTreeClassifier(criterion = 'entropy', max_depth = 2)\nplt.figure()\n#tree.plot_tree(clf,filled=True)\nclf = clf.fit(X, y)\ntree.plot_tree(clf) \n    #plt.savefig('tree.eps',format='eps',bbox_inches = \"tight\")   # save 10 images.. \n    ",
      "execution_count": 29,
      "outputs": [
        {
          "output_type": "execute_result",
          "execution_count": 29,
          "data": {
            "text/plain": "[Text(217.0, 314.5833333333333, 'X[2] <= 2.45\\nentropy = 1.585\\nsamples = 150\\nvalue = [50, 50, 50]'),\n Text(108.5, 188.75, 'entropy = 0.0\\nsamples = 50\\nvalue = [50, 0, 0]'),\n Text(325.5, 188.75, 'X[3] <= 1.75\\nentropy = 1.0\\nsamples = 100\\nvalue = [0, 50, 50]'),\n Text(217.0, 62.916666666666686, 'entropy = 0.445\\nsamples = 54\\nvalue = [0, 49, 5]'),\n Text(434.0, 62.916666666666686, 'entropy = 0.151\\nsamples = 46\\nvalue = [0, 1, 45]')]"
          },
          "metadata": {}
        },
        {
          "data": {
            "text/plain": "<Figure size 700x500 with 1 Axes>",
            "image/png": "[encoded data removed]"
          },
          "metadata": {
            "needs_background": "light",
            "image/png": {
              "width": 562,
              "height": 397
            }
          },
          "output_type": "display_data"
        }
      ]
    },
    {
      "cell_type": "code",
      "source": "ds['target'].shape",
      "metadata": {
        "tags": [],
        "cell_id": "00007-6497fc31-7471-46d4-8735-0a0c55fac26d",
        "deepnote_to_be_reexecuted": false,
        "source_hash": "2a15c731",
        "execution_start": 1619617292645,
        "execution_millis": 6,
        "deepnote_cell_type": "code"
      },
      "outputs": [
        {
          "output_type": "execute_result",
          "execution_count": 36,
          "data": {
            "text/plain": "(150,)"
          },
          "metadata": {}
        }
      ],
      "execution_count": 36
    },
    {
      "cell_type": "code",
      "metadata": {
        "tags": [],
        "cell_id": "00007-a84ae2bf-53b9-4e48-8375-700f2a4c7423",
        "deepnote_to_be_reexecuted": false,
        "source_hash": "a3a82de4",
        "execution_start": 1619613587857,
        "execution_millis": 39,
        "deepnote_cell_type": "code"
      },
      "source": "dot_data = tree.export_graphviz(clf, out_file=None, \n                    feature_names = ds.feature_names,  \n                    class_names = ds.target_names,  \n                    filled=True, rounded=True,  \n                    special_characters=True)  \ngraph = graphviz.Source(dot_data)  \ngraph\n#tree.plot_tree(graph) ",
      "execution_count": 20,
      "outputs": [
        {
          "output_type": "execute_result",
          "execution_count": 20,
          "data": {
            "text/plain": "<graphviz.files.Source at 0x7ff8ebe0da90>",
            "image/svg+xml": "<?xml version=\"1.0\" encoding=\"UTF-8\" standalone=\"no\"?>\n<!DOCTYPE svg PUBLIC \"-//W3C//DTD SVG 1.1//EN\"\n \"http://www.w3.org/Graphics/SVG/1.1/DTD/svg11.dtd\">\n<!-- Generated by graphviz version 2.40.1 (20161225.0304)\n -->\n<!-- Title: Tree Pages: 1 -->\n<svg width=\"995pt\" height=\"671pt\"\n viewBox=\"0.00 0.00 995.00 671.00\" xmlns=\"http://www.w3.org/2000/svg\" xmlns:xlink=\"http://www.w3.org/1999/xlink\">\n<g id=\"graph0\" class=\"graph\" transform=\"scale(1 1) rotate(0) translate(4 667)\">\n<title>Tree</title>\n<polygon fill=\"#ffffff\" stroke=\"transparent\" points=\"-4,4 -4,-667 991,-667 991,4 -4,4\"/>\n<!-- 0 -->\n<g id=\"node1\" class=\"node\">\n<title>0</title>\n<path fill=\"#ffffff\" stroke=\"#000000\" d=\"M593.5,-663C593.5,-663 441.5,-663 441.5,-663 435.5,-663 429.5,-657 429.5,-651 429.5,-651 429.5,-592 429.5,-592 429.5,-586 435.5,-580 441.5,-580 441.5,-580 593.5,-580 593.5,-580 599.5,-580 605.5,-586 605.5,-592 605.5,-592 605.5,-651 605.5,-651 605.5,-657 599.5,-663 593.5,-663\"/>\n<text text-anchor=\"start\" x=\"437.5\" y=\"-647.8\" font-family=\"Helvetica,sans-Serif\" font-size=\"14.00\" fill=\"#000000\">petal width (cm) ≤ 0.8</text>\n<text text-anchor=\"start\" x=\"458.5\" y=\"-632.8\" font-family=\"Helvetica,sans-Serif\" font-size=\"14.00\" fill=\"#000000\">entropy = 1.585</text>\n<text text-anchor=\"start\" x=\"463\" y=\"-617.8\" font-family=\"Helvetica,sans-Serif\" font-size=\"14.00\" fill=\"#000000\">samples = 150</text>\n<text text-anchor=\"start\" x=\"446\" y=\"-602.8\" font-family=\"Helvetica,sans-Serif\" font-size=\"14.00\" fill=\"#000000\">value = [50, 50, 50]</text>\n<text text-anchor=\"start\" x=\"465.5\" y=\"-587.8\" font-family=\"Helvetica,sans-Serif\" font-size=\"14.00\" fill=\"#000000\">class = setosa</text>\n</g>\n<!-- 1 -->\n<g id=\"node2\" class=\"node\">\n<title>1</title>\n<path fill=\"#e58139\" stroke=\"#000000\" d=\"M486,-536.5C486,-536.5 369,-536.5 369,-536.5 363,-536.5 357,-530.5 357,-524.5 357,-524.5 357,-480.5 357,-480.5 357,-474.5 363,-468.5 369,-468.5 369,-468.5 486,-468.5 486,-468.5 492,-468.5 498,-474.5 498,-480.5 498,-480.5 498,-524.5 498,-524.5 498,-530.5 492,-536.5 486,-536.5\"/>\n<text text-anchor=\"start\" x=\"377.5\" y=\"-521.3\" font-family=\"Helvetica,sans-Serif\" font-size=\"14.00\" fill=\"#000000\">entropy = 0.0</text>\n<text text-anchor=\"start\" x=\"377.5\" y=\"-506.3\" font-family=\"Helvetica,sans-Serif\" font-size=\"14.00\" fill=\"#000000\">samples = 50</text>\n<text text-anchor=\"start\" x=\"365\" y=\"-491.3\" font-family=\"Helvetica,sans-Serif\" font-size=\"14.00\" fill=\"#000000\">value = [50, 0, 0]</text>\n<text text-anchor=\"start\" x=\"375.5\" y=\"-476.3\" font-family=\"Helvetica,sans-Serif\" font-size=\"14.00\" fill=\"#000000\">class = setosa</text>\n</g>\n<!-- 0&#45;&gt;1 -->\n<g id=\"edge1\" class=\"edge\">\n<title>0&#45;&gt;1</title>\n<path fill=\"none\" stroke=\"#000000\" d=\"M486.0224,-579.8796C477.4565,-568.5536 468.17,-556.2748 459.5717,-544.9058\"/>\n<polygon fill=\"#000000\" stroke=\"#000000\" points=\"462.2762,-542.6795 453.4525,-536.8149 456.6931,-546.902 462.2762,-542.6795\"/>\n<text text-anchor=\"middle\" x=\"450.0165\" y=\"-557.8777\" font-family=\"Helvetica,sans-Serif\" font-size=\"14.00\" fill=\"#000000\">True</text>\n</g>\n<!-- 2 -->\n<g id=\"node3\" class=\"node\">\n<title>2</title>\n<path fill=\"#ffffff\" stroke=\"#000000\" d=\"M689,-544C689,-544 528,-544 528,-544 522,-544 516,-538 516,-532 516,-532 516,-473 516,-473 516,-467 522,-461 528,-461 528,-461 689,-461 689,-461 695,-461 701,-467 701,-473 701,-473 701,-532 701,-532 701,-538 695,-544 689,-544\"/>\n<text text-anchor=\"start\" x=\"524\" y=\"-528.8\" font-family=\"Helvetica,sans-Serif\" font-size=\"14.00\" fill=\"#000000\">petal width (cm) ≤ 1.75</text>\n<text text-anchor=\"start\" x=\"558.5\" y=\"-513.8\" font-family=\"Helvetica,sans-Serif\" font-size=\"14.00\" fill=\"#000000\">entropy = 1.0</text>\n<text text-anchor=\"start\" x=\"554\" y=\"-498.8\" font-family=\"Helvetica,sans-Serif\" font-size=\"14.00\" fill=\"#000000\">samples = 100</text>\n<text text-anchor=\"start\" x=\"541.5\" y=\"-483.8\" font-family=\"Helvetica,sans-Serif\" font-size=\"14.00\" fill=\"#000000\">value = [0, 50, 50]</text>\n<text text-anchor=\"start\" x=\"545\" y=\"-468.8\" font-family=\"Helvetica,sans-Serif\" font-size=\"14.00\" fill=\"#000000\">class = versicolor</text>\n</g>\n<!-- 0&#45;&gt;2 -->\n<g id=\"edge2\" class=\"edge\">\n<title>0&#45;&gt;2</title>\n<path fill=\"none\" stroke=\"#000000\" d=\"M549.3274,-579.8796C556.1457,-570.9633 563.4156,-561.4565 570.4421,-552.268\"/>\n<polygon fill=\"#000000\" stroke=\"#000000\" points=\"573.2425,-554.3678 576.5368,-544.2981 567.682,-550.1156 573.2425,-554.3678\"/>\n<text text-anchor=\"middle\" x=\"579.8409\" y=\"-565.3788\" font-family=\"Helvetica,sans-Serif\" font-size=\"14.00\" fill=\"#000000\">False</text>\n</g>\n<!-- 3 -->\n<g id=\"node4\" class=\"node\">\n<title>3</title>\n<path fill=\"#4de88e\" stroke=\"#000000\" d=\"M563,-425C563,-425 396,-425 396,-425 390,-425 384,-419 384,-413 384,-413 384,-354 384,-354 384,-348 390,-342 396,-342 396,-342 563,-342 563,-342 569,-342 575,-348 575,-354 575,-354 575,-413 575,-413 575,-419 569,-425 563,-425\"/>\n<text text-anchor=\"start\" x=\"392\" y=\"-409.8\" font-family=\"Helvetica,sans-Serif\" font-size=\"14.00\" fill=\"#000000\">petal length (cm) ≤ 4.95</text>\n<text text-anchor=\"start\" x=\"420.5\" y=\"-394.8\" font-family=\"Helvetica,sans-Serif\" font-size=\"14.00\" fill=\"#000000\">entropy = 0.445</text>\n<text text-anchor=\"start\" x=\"429.5\" y=\"-379.8\" font-family=\"Helvetica,sans-Serif\" font-size=\"14.00\" fill=\"#000000\">samples = 54</text>\n<text text-anchor=\"start\" x=\"417\" y=\"-364.8\" font-family=\"Helvetica,sans-Serif\" font-size=\"14.00\" fill=\"#000000\">value = [0, 49, 5]</text>\n<text text-anchor=\"start\" x=\"416\" y=\"-349.8\" font-family=\"Helvetica,sans-Serif\" font-size=\"14.00\" fill=\"#000000\">class = versicolor</text>\n</g>\n<!-- 2&#45;&gt;3 -->\n<g id=\"edge3\" class=\"edge\">\n<title>2&#45;&gt;3</title>\n<path fill=\"none\" stroke=\"#000000\" d=\"M563.3821,-460.8796C553.326,-451.6031 542.577,-441.6874 532.2446,-432.1559\"/>\n<polygon fill=\"#000000\" stroke=\"#000000\" points=\"534.5339,-429.506 524.8105,-425.2981 529.7876,-434.6511 534.5339,-429.506\"/>\n</g>\n<!-- 12 -->\n<g id=\"node13\" class=\"node\">\n<title>12</title>\n<path fill=\"#843de6\" stroke=\"#000000\" d=\"M822,-425C822,-425 655,-425 655,-425 649,-425 643,-419 643,-413 643,-413 643,-354 643,-354 643,-348 649,-342 655,-342 655,-342 822,-342 822,-342 828,-342 834,-348 834,-354 834,-354 834,-413 834,-413 834,-419 828,-425 822,-425\"/>\n<text text-anchor=\"start\" x=\"651\" y=\"-409.8\" font-family=\"Helvetica,sans-Serif\" font-size=\"14.00\" fill=\"#000000\">petal length (cm) ≤ 4.85</text>\n<text text-anchor=\"start\" x=\"679.5\" y=\"-394.8\" font-family=\"Helvetica,sans-Serif\" font-size=\"14.00\" fill=\"#000000\">entropy = 0.151</text>\n<text text-anchor=\"start\" x=\"688.5\" y=\"-379.8\" font-family=\"Helvetica,sans-Serif\" font-size=\"14.00\" fill=\"#000000\">samples = 46</text>\n<text text-anchor=\"start\" x=\"676\" y=\"-364.8\" font-family=\"Helvetica,sans-Serif\" font-size=\"14.00\" fill=\"#000000\">value = [0, 1, 45]</text>\n<text text-anchor=\"start\" x=\"680\" y=\"-349.8\" font-family=\"Helvetica,sans-Serif\" font-size=\"14.00\" fill=\"#000000\">class = virginica</text>\n</g>\n<!-- 2&#45;&gt;12 -->\n<g id=\"edge12\" class=\"edge\">\n<title>2&#45;&gt;12</title>\n<path fill=\"none\" stroke=\"#000000\" d=\"M653.9677,-460.8796C664.1017,-451.6031 674.934,-441.6874 685.3465,-432.1559\"/>\n<polygon fill=\"#000000\" stroke=\"#000000\" points=\"687.8252,-434.6319 692.8382,-425.2981 683.0987,-429.4685 687.8252,-434.6319\"/>\n</g>\n<!-- 4 -->\n<g id=\"node5\" class=\"node\">\n<title>4</title>\n<path fill=\"#3de684\" stroke=\"#000000\" d=\"M308,-306C308,-306 147,-306 147,-306 141,-306 135,-300 135,-294 135,-294 135,-235 135,-235 135,-229 141,-223 147,-223 147,-223 308,-223 308,-223 314,-223 320,-229 320,-235 320,-235 320,-294 320,-294 320,-300 314,-306 308,-306\"/>\n<text text-anchor=\"start\" x=\"143\" y=\"-290.8\" font-family=\"Helvetica,sans-Serif\" font-size=\"14.00\" fill=\"#000000\">petal width (cm) ≤ 1.65</text>\n<text text-anchor=\"start\" x=\"168.5\" y=\"-275.8\" font-family=\"Helvetica,sans-Serif\" font-size=\"14.00\" fill=\"#000000\">entropy = 0.146</text>\n<text text-anchor=\"start\" x=\"177.5\" y=\"-260.8\" font-family=\"Helvetica,sans-Serif\" font-size=\"14.00\" fill=\"#000000\">samples = 48</text>\n<text text-anchor=\"start\" x=\"165\" y=\"-245.8\" font-family=\"Helvetica,sans-Serif\" font-size=\"14.00\" fill=\"#000000\">value = [0, 47, 1]</text>\n<text text-anchor=\"start\" x=\"164\" y=\"-230.8\" font-family=\"Helvetica,sans-Serif\" font-size=\"14.00\" fill=\"#000000\">class = versicolor</text>\n</g>\n<!-- 3&#45;&gt;4 -->\n<g id=\"edge4\" class=\"edge\">\n<title>3&#45;&gt;4</title>\n<path fill=\"none\" stroke=\"#000000\" d=\"M391.3626,-341.8796C369.8776,-331.7339 346.7733,-320.8235 324.8854,-310.4876\"/>\n<polygon fill=\"#000000\" stroke=\"#000000\" points=\"326.1246,-307.2022 315.5876,-306.0969 323.1356,-313.5319 326.1246,-307.2022\"/>\n</g>\n<!-- 7 -->\n<g id=\"node8\" class=\"node\">\n<title>7</title>\n<path fill=\"#c09cf2\" stroke=\"#000000\" d=\"M560,-306C560,-306 399,-306 399,-306 393,-306 387,-300 387,-294 387,-294 387,-235 387,-235 387,-229 393,-223 399,-223 399,-223 560,-223 560,-223 566,-223 572,-229 572,-235 572,-235 572,-294 572,-294 572,-300 566,-306 560,-306\"/>\n<text text-anchor=\"start\" x=\"395\" y=\"-290.8\" font-family=\"Helvetica,sans-Serif\" font-size=\"14.00\" fill=\"#000000\">petal width (cm) ≤ 1.55</text>\n<text text-anchor=\"start\" x=\"420.5\" y=\"-275.8\" font-family=\"Helvetica,sans-Serif\" font-size=\"14.00\" fill=\"#000000\">entropy = 0.918</text>\n<text text-anchor=\"start\" x=\"434\" y=\"-260.8\" font-family=\"Helvetica,sans-Serif\" font-size=\"14.00\" fill=\"#000000\">samples = 6</text>\n<text text-anchor=\"start\" x=\"421.5\" y=\"-245.8\" font-family=\"Helvetica,sans-Serif\" font-size=\"14.00\" fill=\"#000000\">value = [0, 2, 4]</text>\n<text text-anchor=\"start\" x=\"421\" y=\"-230.8\" font-family=\"Helvetica,sans-Serif\" font-size=\"14.00\" fill=\"#000000\">class = virginica</text>\n</g>\n<!-- 3&#45;&gt;7 -->\n<g id=\"edge7\" class=\"edge\">\n<title>3&#45;&gt;7</title>\n<path fill=\"none\" stroke=\"#000000\" d=\"M479.5,-341.8796C479.5,-333.6838 479.5,-324.9891 479.5,-316.5013\"/>\n<polygon fill=\"#000000\" stroke=\"#000000\" points=\"483.0001,-316.298 479.5,-306.2981 476.0001,-316.2981 483.0001,-316.298\"/>\n</g>\n<!-- 5 -->\n<g id=\"node6\" class=\"node\">\n<title>5</title>\n<path fill=\"#39e581\" stroke=\"#000000\" d=\"M131,-179.5C131,-179.5 12,-179.5 12,-179.5 6,-179.5 0,-173.5 0,-167.5 0,-167.5 0,-123.5 0,-123.5 0,-117.5 6,-111.5 12,-111.5 12,-111.5 131,-111.5 131,-111.5 137,-111.5 143,-117.5 143,-123.5 143,-123.5 143,-167.5 143,-167.5 143,-173.5 137,-179.5 131,-179.5\"/>\n<text text-anchor=\"start\" x=\"21.5\" y=\"-164.3\" font-family=\"Helvetica,sans-Serif\" font-size=\"14.00\" fill=\"#000000\">entropy = 0.0</text>\n<text text-anchor=\"start\" x=\"21.5\" y=\"-149.3\" font-family=\"Helvetica,sans-Serif\" font-size=\"14.00\" fill=\"#000000\">samples = 47</text>\n<text text-anchor=\"start\" x=\"9\" y=\"-134.3\" font-family=\"Helvetica,sans-Serif\" font-size=\"14.00\" fill=\"#000000\">value = [0, 47, 0]</text>\n<text text-anchor=\"start\" x=\"8\" y=\"-119.3\" font-family=\"Helvetica,sans-Serif\" font-size=\"14.00\" fill=\"#000000\">class = versicolor</text>\n</g>\n<!-- 4&#45;&gt;5 -->\n<g id=\"edge5\" class=\"edge\">\n<title>4&#45;&gt;5</title>\n<path fill=\"none\" stroke=\"#000000\" d=\"M172.9388,-222.8796C157.1516,-210.8368 139.9521,-197.7167 124.2759,-185.7586\"/>\n<polygon fill=\"#000000\" stroke=\"#000000\" points=\"126.3063,-182.9053 116.2327,-179.623 122.0608,-188.4709 126.3063,-182.9053\"/>\n</g>\n<!-- 6 -->\n<g id=\"node7\" class=\"node\">\n<title>6</title>\n<path fill=\"#8139e5\" stroke=\"#000000\" d=\"M282,-179.5C282,-179.5 173,-179.5 173,-179.5 167,-179.5 161,-173.5 161,-167.5 161,-167.5 161,-123.5 161,-123.5 161,-117.5 167,-111.5 173,-111.5 173,-111.5 282,-111.5 282,-111.5 288,-111.5 294,-117.5 294,-123.5 294,-123.5 294,-167.5 294,-167.5 294,-173.5 288,-179.5 282,-179.5\"/>\n<text text-anchor=\"start\" x=\"177.5\" y=\"-164.3\" font-family=\"Helvetica,sans-Serif\" font-size=\"14.00\" fill=\"#000000\">entropy = 0.0</text>\n<text text-anchor=\"start\" x=\"182\" y=\"-149.3\" font-family=\"Helvetica,sans-Serif\" font-size=\"14.00\" fill=\"#000000\">samples = 1</text>\n<text text-anchor=\"start\" x=\"169.5\" y=\"-134.3\" font-family=\"Helvetica,sans-Serif\" font-size=\"14.00\" fill=\"#000000\">value = [0, 0, 1]</text>\n<text text-anchor=\"start\" x=\"169\" y=\"-119.3\" font-family=\"Helvetica,sans-Serif\" font-size=\"14.00\" fill=\"#000000\">class = virginica</text>\n</g>\n<!-- 4&#45;&gt;6 -->\n<g id=\"edge6\" class=\"edge\">\n<title>4&#45;&gt;6</title>\n<path fill=\"none\" stroke=\"#000000\" d=\"M227.5,-222.8796C227.5,-212.2134 227.5,-200.7021 227.5,-189.9015\"/>\n<polygon fill=\"#000000\" stroke=\"#000000\" points=\"231.0001,-189.8149 227.5,-179.8149 224.0001,-189.815 231.0001,-189.8149\"/>\n</g>\n<!-- 8 -->\n<g id=\"node9\" class=\"node\">\n<title>8</title>\n<path fill=\"#8139e5\" stroke=\"#000000\" d=\"M433,-179.5C433,-179.5 324,-179.5 324,-179.5 318,-179.5 312,-173.5 312,-167.5 312,-167.5 312,-123.5 312,-123.5 312,-117.5 318,-111.5 324,-111.5 324,-111.5 433,-111.5 433,-111.5 439,-111.5 445,-117.5 445,-123.5 445,-123.5 445,-167.5 445,-167.5 445,-173.5 439,-179.5 433,-179.5\"/>\n<text text-anchor=\"start\" x=\"328.5\" y=\"-164.3\" font-family=\"Helvetica,sans-Serif\" font-size=\"14.00\" fill=\"#000000\">entropy = 0.0</text>\n<text text-anchor=\"start\" x=\"333\" y=\"-149.3\" font-family=\"Helvetica,sans-Serif\" font-size=\"14.00\" fill=\"#000000\">samples = 3</text>\n<text text-anchor=\"start\" x=\"320.5\" y=\"-134.3\" font-family=\"Helvetica,sans-Serif\" font-size=\"14.00\" fill=\"#000000\">value = [0, 0, 3]</text>\n<text text-anchor=\"start\" x=\"320\" y=\"-119.3\" font-family=\"Helvetica,sans-Serif\" font-size=\"14.00\" fill=\"#000000\">class = virginica</text>\n</g>\n<!-- 7&#45;&gt;8 -->\n<g id=\"edge8\" class=\"edge\">\n<title>7&#45;&gt;8</title>\n<path fill=\"none\" stroke=\"#000000\" d=\"M444.1751,-222.8796C434.469,-211.4436 423.9384,-199.0363 414.2107,-187.575\"/>\n<polygon fill=\"#000000\" stroke=\"#000000\" points=\"416.7638,-185.1743 407.6244,-179.8149 411.4269,-189.7039 416.7638,-185.1743\"/>\n</g>\n<!-- 9 -->\n<g id=\"node10\" class=\"node\">\n<title>9</title>\n<path fill=\"#9cf2c0\" stroke=\"#000000\" d=\"M642,-187C642,-187 475,-187 475,-187 469,-187 463,-181 463,-175 463,-175 463,-116 463,-116 463,-110 469,-104 475,-104 475,-104 642,-104 642,-104 648,-104 654,-110 654,-116 654,-116 654,-175 654,-175 654,-181 648,-187 642,-187\"/>\n<text text-anchor=\"start\" x=\"471\" y=\"-171.8\" font-family=\"Helvetica,sans-Serif\" font-size=\"14.00\" fill=\"#000000\">petal length (cm) ≤ 5.45</text>\n<text text-anchor=\"start\" x=\"499.5\" y=\"-156.8\" font-family=\"Helvetica,sans-Serif\" font-size=\"14.00\" fill=\"#000000\">entropy = 0.918</text>\n<text text-anchor=\"start\" x=\"513\" y=\"-141.8\" font-family=\"Helvetica,sans-Serif\" font-size=\"14.00\" fill=\"#000000\">samples = 3</text>\n<text text-anchor=\"start\" x=\"500.5\" y=\"-126.8\" font-family=\"Helvetica,sans-Serif\" font-size=\"14.00\" fill=\"#000000\">value = [0, 2, 1]</text>\n<text text-anchor=\"start\" x=\"495\" y=\"-111.8\" font-family=\"Helvetica,sans-Serif\" font-size=\"14.00\" fill=\"#000000\">class = versicolor</text>\n</g>\n<!-- 7&#45;&gt;9 -->\n<g id=\"edge9\" class=\"edge\">\n<title>7&#45;&gt;9</title>\n<path fill=\"none\" stroke=\"#000000\" d=\"M507.1304,-222.8796C512.93,-214.1434 519.1059,-204.8404 525.0908,-195.8253\"/>\n<polygon fill=\"#000000\" stroke=\"#000000\" points=\"528.1368,-197.5652 530.7517,-187.2981 522.3049,-193.6935 528.1368,-197.5652\"/>\n</g>\n<!-- 10 -->\n<g id=\"node11\" class=\"node\">\n<title>10</title>\n<path fill=\"#39e581\" stroke=\"#000000\" d=\"M540,-68C540,-68 421,-68 421,-68 415,-68 409,-62 409,-56 409,-56 409,-12 409,-12 409,-6 415,0 421,0 421,0 540,0 540,0 546,0 552,-6 552,-12 552,-12 552,-56 552,-56 552,-62 546,-68 540,-68\"/>\n<text text-anchor=\"start\" x=\"430.5\" y=\"-52.8\" font-family=\"Helvetica,sans-Serif\" font-size=\"14.00\" fill=\"#000000\">entropy = 0.0</text>\n<text text-anchor=\"start\" x=\"435\" y=\"-37.8\" font-family=\"Helvetica,sans-Serif\" font-size=\"14.00\" fill=\"#000000\">samples = 2</text>\n<text text-anchor=\"start\" x=\"422.5\" y=\"-22.8\" font-family=\"Helvetica,sans-Serif\" font-size=\"14.00\" fill=\"#000000\">value = [0, 2, 0]</text>\n<text text-anchor=\"start\" x=\"417\" y=\"-7.8\" font-family=\"Helvetica,sans-Serif\" font-size=\"14.00\" fill=\"#000000\">class = versicolor</text>\n</g>\n<!-- 9&#45;&gt;10 -->\n<g id=\"edge10\" class=\"edge\">\n<title>9&#45;&gt;10</title>\n<path fill=\"none\" stroke=\"#000000\" d=\"M529.4557,-103.9815C523.2192,-95.0666 516.6187,-85.6313 510.3522,-76.6734\"/>\n<polygon fill=\"#000000\" stroke=\"#000000\" points=\"513.0693,-74.4515 504.4692,-68.2637 507.3335,-78.464 513.0693,-74.4515\"/>\n</g>\n<!-- 11 -->\n<g id=\"node12\" class=\"node\">\n<title>11</title>\n<path fill=\"#8139e5\" stroke=\"#000000\" d=\"M691,-68C691,-68 582,-68 582,-68 576,-68 570,-62 570,-56 570,-56 570,-12 570,-12 570,-6 576,0 582,0 582,0 691,0 691,0 697,0 703,-6 703,-12 703,-12 703,-56 703,-56 703,-62 697,-68 691,-68\"/>\n<text text-anchor=\"start\" x=\"586.5\" y=\"-52.8\" font-family=\"Helvetica,sans-Serif\" font-size=\"14.00\" fill=\"#000000\">entropy = 0.0</text>\n<text text-anchor=\"start\" x=\"591\" y=\"-37.8\" font-family=\"Helvetica,sans-Serif\" font-size=\"14.00\" fill=\"#000000\">samples = 1</text>\n<text text-anchor=\"start\" x=\"578.5\" y=\"-22.8\" font-family=\"Helvetica,sans-Serif\" font-size=\"14.00\" fill=\"#000000\">value = [0, 0, 1]</text>\n<text text-anchor=\"start\" x=\"578\" y=\"-7.8\" font-family=\"Helvetica,sans-Serif\" font-size=\"14.00\" fill=\"#000000\">class = virginica</text>\n</g>\n<!-- 9&#45;&gt;11 -->\n<g id=\"edge11\" class=\"edge\">\n<title>9&#45;&gt;11</title>\n<path fill=\"none\" stroke=\"#000000\" d=\"M587.5443,-103.9815C593.7808,-95.0666 600.3813,-85.6313 606.6478,-76.6734\"/>\n<polygon fill=\"#000000\" stroke=\"#000000\" points=\"609.6665,-78.464 612.5308,-68.2637 603.9307,-74.4515 609.6665,-78.464\"/>\n</g>\n<!-- 13 -->\n<g id=\"node14\" class=\"node\">\n<title>13</title>\n<path fill=\"#c09cf2\" stroke=\"#000000\" d=\"M816,-306C816,-306 661,-306 661,-306 655,-306 649,-300 649,-294 649,-294 649,-235 649,-235 649,-229 655,-223 661,-223 661,-223 816,-223 816,-223 822,-223 828,-229 828,-235 828,-235 828,-294 828,-294 828,-300 822,-306 816,-306\"/>\n<text text-anchor=\"start\" x=\"657\" y=\"-290.8\" font-family=\"Helvetica,sans-Serif\" font-size=\"14.00\" fill=\"#000000\">sepal width (cm) ≤ 3.1</text>\n<text text-anchor=\"start\" x=\"679.5\" y=\"-275.8\" font-family=\"Helvetica,sans-Serif\" font-size=\"14.00\" fill=\"#000000\">entropy = 0.918</text>\n<text text-anchor=\"start\" x=\"693\" y=\"-260.8\" font-family=\"Helvetica,sans-Serif\" font-size=\"14.00\" fill=\"#000000\">samples = 3</text>\n<text text-anchor=\"start\" x=\"680.5\" y=\"-245.8\" font-family=\"Helvetica,sans-Serif\" font-size=\"14.00\" fill=\"#000000\">value = [0, 1, 2]</text>\n<text text-anchor=\"start\" x=\"680\" y=\"-230.8\" font-family=\"Helvetica,sans-Serif\" font-size=\"14.00\" fill=\"#000000\">class = virginica</text>\n</g>\n<!-- 12&#45;&gt;13 -->\n<g id=\"edge13\" class=\"edge\">\n<title>12&#45;&gt;13</title>\n<path fill=\"none\" stroke=\"#000000\" d=\"M738.5,-341.8796C738.5,-333.6838 738.5,-324.9891 738.5,-316.5013\"/>\n<polygon fill=\"#000000\" stroke=\"#000000\" points=\"742.0001,-316.298 738.5,-306.2981 735.0001,-316.2981 742.0001,-316.298\"/>\n</g>\n<!-- 16 -->\n<g id=\"node17\" class=\"node\">\n<title>16</title>\n<path fill=\"#8139e5\" stroke=\"#000000\" d=\"M975,-298.5C975,-298.5 858,-298.5 858,-298.5 852,-298.5 846,-292.5 846,-286.5 846,-286.5 846,-242.5 846,-242.5 846,-236.5 852,-230.5 858,-230.5 858,-230.5 975,-230.5 975,-230.5 981,-230.5 987,-236.5 987,-242.5 987,-242.5 987,-286.5 987,-286.5 987,-292.5 981,-298.5 975,-298.5\"/>\n<text text-anchor=\"start\" x=\"866.5\" y=\"-283.3\" font-family=\"Helvetica,sans-Serif\" font-size=\"14.00\" fill=\"#000000\">entropy = 0.0</text>\n<text text-anchor=\"start\" x=\"866.5\" y=\"-268.3\" font-family=\"Helvetica,sans-Serif\" font-size=\"14.00\" fill=\"#000000\">samples = 43</text>\n<text text-anchor=\"start\" x=\"854\" y=\"-253.3\" font-family=\"Helvetica,sans-Serif\" font-size=\"14.00\" fill=\"#000000\">value = [0, 0, 43]</text>\n<text text-anchor=\"start\" x=\"858\" y=\"-238.3\" font-family=\"Helvetica,sans-Serif\" font-size=\"14.00\" fill=\"#000000\">class = virginica</text>\n</g>\n<!-- 12&#45;&gt;16 -->\n<g id=\"edge16\" class=\"edge\">\n<title>12&#45;&gt;16</title>\n<path fill=\"none\" stroke=\"#000000\" d=\"M800.7558,-341.8796C818.9346,-329.7263 838.7546,-316.4759 856.7731,-304.4297\"/>\n<polygon fill=\"#000000\" stroke=\"#000000\" points=\"859.0907,-307.0905 865.4588,-298.623 855.2003,-301.2712 859.0907,-307.0905\"/>\n</g>\n<!-- 14 -->\n<g id=\"node15\" class=\"node\">\n<title>14</title>\n<path fill=\"#8139e5\" stroke=\"#000000\" d=\"M793,-179.5C793,-179.5 684,-179.5 684,-179.5 678,-179.5 672,-173.5 672,-167.5 672,-167.5 672,-123.5 672,-123.5 672,-117.5 678,-111.5 684,-111.5 684,-111.5 793,-111.5 793,-111.5 799,-111.5 805,-117.5 805,-123.5 805,-123.5 805,-167.5 805,-167.5 805,-173.5 799,-179.5 793,-179.5\"/>\n<text text-anchor=\"start\" x=\"688.5\" y=\"-164.3\" font-family=\"Helvetica,sans-Serif\" font-size=\"14.00\" fill=\"#000000\">entropy = 0.0</text>\n<text text-anchor=\"start\" x=\"693\" y=\"-149.3\" font-family=\"Helvetica,sans-Serif\" font-size=\"14.00\" fill=\"#000000\">samples = 2</text>\n<text text-anchor=\"start\" x=\"680.5\" y=\"-134.3\" font-family=\"Helvetica,sans-Serif\" font-size=\"14.00\" fill=\"#000000\">value = [0, 0, 2]</text>\n<text text-anchor=\"start\" x=\"680\" y=\"-119.3\" font-family=\"Helvetica,sans-Serif\" font-size=\"14.00\" fill=\"#000000\">class = virginica</text>\n</g>\n<!-- 13&#45;&gt;14 -->\n<g id=\"edge14\" class=\"edge\">\n<title>13&#45;&gt;14</title>\n<path fill=\"none\" stroke=\"#000000\" d=\"M738.5,-222.8796C738.5,-212.2134 738.5,-200.7021 738.5,-189.9015\"/>\n<polygon fill=\"#000000\" stroke=\"#000000\" points=\"742.0001,-189.8149 738.5,-179.8149 735.0001,-189.815 742.0001,-189.8149\"/>\n</g>\n<!-- 15 -->\n<g id=\"node16\" class=\"node\">\n<title>15</title>\n<path fill=\"#39e581\" stroke=\"#000000\" d=\"M954,-179.5C954,-179.5 835,-179.5 835,-179.5 829,-179.5 823,-173.5 823,-167.5 823,-167.5 823,-123.5 823,-123.5 823,-117.5 829,-111.5 835,-111.5 835,-111.5 954,-111.5 954,-111.5 960,-111.5 966,-117.5 966,-123.5 966,-123.5 966,-167.5 966,-167.5 966,-173.5 960,-179.5 954,-179.5\"/>\n<text text-anchor=\"start\" x=\"844.5\" y=\"-164.3\" font-family=\"Helvetica,sans-Serif\" font-size=\"14.00\" fill=\"#000000\">entropy = 0.0</text>\n<text text-anchor=\"start\" x=\"849\" y=\"-149.3\" font-family=\"Helvetica,sans-Serif\" font-size=\"14.00\" fill=\"#000000\">samples = 1</text>\n<text text-anchor=\"start\" x=\"836.5\" y=\"-134.3\" font-family=\"Helvetica,sans-Serif\" font-size=\"14.00\" fill=\"#000000\">value = [0, 1, 0]</text>\n<text text-anchor=\"start\" x=\"831\" y=\"-119.3\" font-family=\"Helvetica,sans-Serif\" font-size=\"14.00\" fill=\"#000000\">class = versicolor</text>\n</g>\n<!-- 13&#45;&gt;15 -->\n<g id=\"edge15\" class=\"edge\">\n<title>13&#45;&gt;15</title>\n<path fill=\"none\" stroke=\"#000000\" d=\"M793.0612,-222.8796C808.8484,-210.8368 826.0479,-197.7167 841.7241,-185.7586\"/>\n<polygon fill=\"#000000\" stroke=\"#000000\" points=\"843.9392,-188.4709 849.7673,-179.623 839.6937,-182.9053 843.9392,-188.4709\"/>\n</g>\n</g>\n</svg>\n"
          },
          "metadata": {}
        }
      ]
    },
    {
      "cell_type": "code",
      "source": "\n",
      "metadata": {
        "tags": [],
        "cell_id": "00008-6f13eb34-4df2-404b-9504-c4f9075d1221",
        "deepnote_cell_type": "code"
      },
      "outputs": [],
      "execution_count": null
    },
    {
      "cell_type": "code",
      "source": "",
      "metadata": {
        "tags": [],
        "cell_id": "00009-fe63650b-7b42-48ac-a547-80a34909bbfc",
        "deepnote_cell_type": "code"
      },
      "outputs": [],
      "execution_count": null
    },
    {
      "cell_type": "markdown",
      "source": "<a style='text-decoration:none;line-height:16px;display:flex;color:#5B5B62;padding:10px;justify-content:end;' href='https://deepnote.com?utm_source=created-in-deepnote-cell&projectId=146f2f95-10e2-4546-b8bb-7deb558f2ad8' target=\"_blank\">\n<img alt='Created in deepnote.com' style='display:inline;max-height:16px;margin:0px;margin-right:7.5px;' src='data:image/svg+xml;base64,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' > </img>\nCreated in <span style='font-weight:600;margin-left:4px;'>Deepnote</span></a>",
      "metadata": {
        "tags": [],
        "created_in_deepnote_cell": true,
        "deepnote_cell_type": "markdown"
      }
    }
  ],
  "nbformat": 4,
  "nbformat_minor": 2,
  "metadata": {
    "orig_nbformat": 2,
    "deepnote": {
      "is_reactive": false
    },
    "deepnote_notebook_id": "edbc015f-2ed0-45b0-8f3f-6fee11340aa9",
    "deepnote_execution_queue": []
  }
}