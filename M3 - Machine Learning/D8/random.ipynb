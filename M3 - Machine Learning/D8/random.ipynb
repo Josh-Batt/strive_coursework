{
  "cells": [
    {
      "cell_type": "code",
      "metadata": {
        "tags": [],
        "cell_id": "00000-e1b726a8-3757-4b3d-b138-8c1b580e78bb",
        "deepnote_to_be_reexecuted": false,
        "source_hash": "568a506",
        "execution_start": 1619614443307,
        "execution_millis": 1928,
        "deepnote_cell_type": "code"
      },
      "source": "import numpy as np\nimport pandas as pd\nimport matplotlib.pyplot as plt\n\nfrom sklearn import tree\nfrom sklearn.datasets import load_iris\nfrom sklearn import datasets\n\nfrom sklearn.tree import DecisionTreeClassifier\nfrom sklearn.model_selection import train_test_split\n\nfrom sklearn.metrics import classification_report, confusion_matrix\nfrom sklearn.metrics import accuracy_score\nimport graphviz \nimport seaborn as sns",
      "execution_count": 1,
      "outputs": []
    },
    {
      "cell_type": "code",
      "source": "ds = datasets.load_iris(as_frame= True)\nds.keys()\ndf = pd.DataFrame(data= np.c_[ds['data'], ds['target']],\n                     columns= ds['feature_names'] + ['target'])\ndf['class'] = pd.Categorical.from_codes(ds.target, ds.target_names)\ndf",
      "metadata": {
        "tags": [],
        "cell_id": "00001-0524bfc4-d019-4fa3-97ee-5321bbe2d76f",
        "deepnote_to_be_reexecuted": false,
        "source_hash": "ad63cd47",
        "execution_start": 1619614458686,
        "execution_millis": 61,
        "deepnote_cell_type": "code"
      },
      "outputs": [
        {
          "output_type": "execute_result",
          "execution_count": 2,
          "data": {
            "application/vnd.deepnote.dataframe.v2+json": {
              "row_count": 150,
              "column_count": 6,
              "columns": [
                {
                  "name": "sepal length (cm)",
                  "dtype": "float64",
                  "stats": {
                    "unique_count": 35,
                    "nan_count": 0,
                    "min": "4.3",
                    "max": "7.9",
                    "histogram": [
                      {
                        "bin_start": 4.3,
                        "bin_end": 4.66,
                        "count": 9
                      },
                      {
                        "bin_start": 4.66,
                        "bin_end": 5.02,
                        "count": 23
                      },
                      {
                        "bin_start": 5.02,
                        "bin_end": 5.38,
                        "count": 14
                      },
                      {
                        "bin_start": 5.38,
                        "bin_end": 5.74,
                        "count": 27
                      },
                      {
                        "bin_start": 5.74,
                        "bin_end": 6.1,
                        "count": 16
                      },
                      {
                        "bin_start": 6.1,
                        "bin_end": 6.46,
                        "count": 26
                      },
                      {
                        "bin_start": 6.46,
                        "bin_end": 6.82,
                        "count": 18
                      },
                      {
                        "bin_start": 6.82,
                        "bin_end": 7.18,
                        "count": 6
                      },
                      {
                        "bin_start": 7.18,
                        "bin_end": 7.54,
                        "count": 5
                      },
                      {
                        "bin_start": 7.54,
                        "bin_end": 7.9,
                        "count": 6
                      }
                    ]
                  }
                },
                {
                  "name": "sepal width (cm)",
                  "dtype": "float64",
                  "stats": {
                    "unique_count": 23,
                    "nan_count": 0,
                    "min": "2.0",
                    "max": "4.4",
                    "histogram": [
                      {
                        "bin_start": 2,
                        "bin_end": 2.24,
                        "count": 4
                      },
                      {
                        "bin_start": 2.24,
                        "bin_end": 2.48,
                        "count": 7
                      },
                      {
                        "bin_start": 2.48,
                        "bin_end": 2.72,
                        "count": 22
                      },
                      {
                        "bin_start": 2.72,
                        "bin_end": 2.96,
                        "count": 24
                      },
                      {
                        "bin_start": 2.96,
                        "bin_end": 3.2,
                        "count": 37
                      },
                      {
                        "bin_start": 3.2,
                        "bin_end": 3.4400000000000004,
                        "count": 31
                      },
                      {
                        "bin_start": 3.4400000000000004,
                        "bin_end": 3.6800000000000006,
                        "count": 10
                      },
                      {
                        "bin_start": 3.6800000000000006,
                        "bin_end": 3.9200000000000004,
                        "count": 11
                      },
                      {
                        "bin_start": 3.9200000000000004,
                        "bin_end": 4.16,
                        "count": 2
                      },
                      {
                        "bin_start": 4.16,
                        "bin_end": 4.4,
                        "count": 2
                      }
                    ]
                  }
                },
                {
                  "name": "petal length (cm)",
                  "dtype": "float64",
                  "stats": {
                    "unique_count": 43,
                    "nan_count": 0,
                    "min": "1.0",
                    "max": "6.9",
                    "histogram": [
                      {
                        "bin_start": 1,
                        "bin_end": 1.59,
                        "count": 37
                      },
                      {
                        "bin_start": 1.59,
                        "bin_end": 2.18,
                        "count": 13
                      },
                      {
                        "bin_start": 2.18,
                        "bin_end": 2.7700000000000005,
                        "count": 0
                      },
                      {
                        "bin_start": 2.7700000000000005,
                        "bin_end": 3.3600000000000003,
                        "count": 3
                      },
                      {
                        "bin_start": 3.3600000000000003,
                        "bin_end": 3.95,
                        "count": 8
                      },
                      {
                        "bin_start": 3.95,
                        "bin_end": 4.540000000000001,
                        "count": 26
                      },
                      {
                        "bin_start": 4.540000000000001,
                        "bin_end": 5.130000000000001,
                        "count": 29
                      },
                      {
                        "bin_start": 5.130000000000001,
                        "bin_end": 5.720000000000001,
                        "count": 18
                      },
                      {
                        "bin_start": 5.720000000000001,
                        "bin_end": 6.3100000000000005,
                        "count": 11
                      },
                      {
                        "bin_start": 6.3100000000000005,
                        "bin_end": 6.9,
                        "count": 5
                      }
                    ]
                  }
                },
                {
                  "name": "petal width (cm)",
                  "dtype": "float64",
                  "stats": {
                    "unique_count": 22,
                    "nan_count": 0,
                    "min": "0.1",
                    "max": "2.5",
                    "histogram": [
                      {
                        "bin_start": 0.1,
                        "bin_end": 0.33999999999999997,
                        "count": 41
                      },
                      {
                        "bin_start": 0.33999999999999997,
                        "bin_end": 0.58,
                        "count": 8
                      },
                      {
                        "bin_start": 0.58,
                        "bin_end": 0.82,
                        "count": 1
                      },
                      {
                        "bin_start": 0.82,
                        "bin_end": 1.06,
                        "count": 7
                      },
                      {
                        "bin_start": 1.06,
                        "bin_end": 1.3,
                        "count": 8
                      },
                      {
                        "bin_start": 1.3,
                        "bin_end": 1.54,
                        "count": 33
                      },
                      {
                        "bin_start": 1.54,
                        "bin_end": 1.78,
                        "count": 6
                      },
                      {
                        "bin_start": 1.78,
                        "bin_end": 2.02,
                        "count": 23
                      },
                      {
                        "bin_start": 2.02,
                        "bin_end": 2.2600000000000002,
                        "count": 9
                      },
                      {
                        "bin_start": 2.2600000000000002,
                        "bin_end": 2.5,
                        "count": 14
                      }
                    ]
                  }
                },
                {
                  "name": "target",
                  "dtype": "float64",
                  "stats": {
                    "unique_count": 3,
                    "nan_count": 0,
                    "min": "0.0",
                    "max": "2.0",
                    "histogram": [
                      {
                        "bin_start": 0,
                        "bin_end": 0.2,
                        "count": 50
                      },
                      {
                        "bin_start": 0.2,
                        "bin_end": 0.4,
                        "count": 0
                      },
                      {
                        "bin_start": 0.4,
                        "bin_end": 0.6000000000000001,
                        "count": 0
                      },
                      {
                        "bin_start": 0.6000000000000001,
                        "bin_end": 0.8,
                        "count": 0
                      },
                      {
                        "bin_start": 0.8,
                        "bin_end": 1,
                        "count": 0
                      },
                      {
                        "bin_start": 1,
                        "bin_end": 1.2000000000000002,
                        "count": 50
                      },
                      {
                        "bin_start": 1.2000000000000002,
                        "bin_end": 1.4000000000000001,
                        "count": 0
                      },
                      {
                        "bin_start": 1.4000000000000001,
                        "bin_end": 1.6,
                        "count": 0
                      },
                      {
                        "bin_start": 1.6,
                        "bin_end": 1.8,
                        "count": 0
                      },
                      {
                        "bin_start": 1.8,
                        "bin_end": 2,
                        "count": 50
                      }
                    ]
                  }
                },
                {
                  "name": "class",
                  "dtype": "category",
                  "stats": {
                    "unique_count": 3,
                    "nan_count": 0,
                    "categories": [
                      {
                        "name": "setosa",
                        "count": 50
                      },
                      {
                        "name": "versicolor",
                        "count": 50
                      },
                      {
                        "name": "virginica",
                        "count": 50
                      }
                    ]
                  }
                },
                {
                  "name": "_deepnote_index_column",
                  "dtype": "int64"
                }
              ],
              "rows_top": [
                {
                  "sepal length (cm)": 5.1,
                  "sepal width (cm)": 3.5,
                  "petal length (cm)": 1.4,
                  "petal width (cm)": 0.2,
                  "target": 0,
                  "class": "setosa",
                  "_deepnote_index_column": 0
                },
                {
                  "sepal length (cm)": 4.9,
                  "sepal width (cm)": 3,
                  "petal length (cm)": 1.4,
                  "petal width (cm)": 0.2,
                  "target": 0,
                  "class": "setosa",
                  "_deepnote_index_column": 1
                },
                {
                  "sepal length (cm)": 4.7,
                  "sepal width (cm)": 3.2,
                  "petal length (cm)": 1.3,
                  "petal width (cm)": 0.2,
                  "target": 0,
                  "class": "setosa",
                  "_deepnote_index_column": 2
                },
                {
                  "sepal length (cm)": 4.6,
                  "sepal width (cm)": 3.1,
                  "petal length (cm)": 1.5,
                  "petal width (cm)": 0.2,
                  "target": 0,
                  "class": "setosa",
                  "_deepnote_index_column": 3
                },
                {
                  "sepal length (cm)": 5,
                  "sepal width (cm)": 3.6,
                  "petal length (cm)": 1.4,
                  "petal width (cm)": 0.2,
                  "target": 0,
                  "class": "setosa",
                  "_deepnote_index_column": 4
                },
                {
                  "sepal length (cm)": 5.4,
                  "sepal width (cm)": 3.9,
                  "petal length (cm)": 1.7,
                  "petal width (cm)": 0.4,
                  "target": 0,
                  "class": "setosa",
                  "_deepnote_index_column": 5
                },
                {
                  "sepal length (cm)": 4.6,
                  "sepal width (cm)": 3.4,
                  "petal length (cm)": 1.4,
                  "petal width (cm)": 0.3,
                  "target": 0,
                  "class": "setosa",
                  "_deepnote_index_column": 6
                },
                {
                  "sepal length (cm)": 5,
                  "sepal width (cm)": 3.4,
                  "petal length (cm)": 1.5,
                  "petal width (cm)": 0.2,
                  "target": 0,
                  "class": "setosa",
                  "_deepnote_index_column": 7
                },
                {
                  "sepal length (cm)": 4.4,
                  "sepal width (cm)": 2.9,
                  "petal length (cm)": 1.4,
                  "petal width (cm)": 0.2,
                  "target": 0,
                  "class": "setosa",
                  "_deepnote_index_column": 8
                },
                {
                  "sepal length (cm)": 4.9,
                  "sepal width (cm)": 3.1,
                  "petal length (cm)": 1.5,
                  "petal width (cm)": 0.1,
                  "target": 0,
                  "class": "setosa",
                  "_deepnote_index_column": 9
                },
                {
                  "sepal length (cm)": 5.4,
                  "sepal width (cm)": 3.7,
                  "petal length (cm)": 1.5,
                  "petal width (cm)": 0.2,
                  "target": 0,
                  "class": "setosa",
                  "_deepnote_index_column": 10
                },
                {
                  "sepal length (cm)": 4.8,
                  "sepal width (cm)": 3.4,
                  "petal length (cm)": 1.6,
                  "petal width (cm)": 0.2,
                  "target": 0,
                  "class": "setosa",
                  "_deepnote_index_column": 11
                },
                {
                  "sepal length (cm)": 4.8,
                  "sepal width (cm)": 3,
                  "petal length (cm)": 1.4,
                  "petal width (cm)": 0.1,
                  "target": 0,
                  "class": "setosa",
                  "_deepnote_index_column": 12
                },
                {
                  "sepal length (cm)": 4.3,
                  "sepal width (cm)": 3,
                  "petal length (cm)": 1.1,
                  "petal width (cm)": 0.1,
                  "target": 0,
                  "class": "setosa",
                  "_deepnote_index_column": 13
                },
                {
                  "sepal length (cm)": 5.8,
                  "sepal width (cm)": 4,
                  "petal length (cm)": 1.2,
                  "petal width (cm)": 0.2,
                  "target": 0,
                  "class": "setosa",
                  "_deepnote_index_column": 14
                },
                {
                  "sepal length (cm)": 5.7,
                  "sepal width (cm)": 4.4,
                  "petal length (cm)": 1.5,
                  "petal width (cm)": 0.4,
                  "target": 0,
                  "class": "setosa",
                  "_deepnote_index_column": 15
                },
                {
                  "sepal length (cm)": 5.4,
                  "sepal width (cm)": 3.9,
                  "petal length (cm)": 1.3,
                  "petal width (cm)": 0.4,
                  "target": 0,
                  "class": "setosa",
                  "_deepnote_index_column": 16
                },
                {
                  "sepal length (cm)": 5.1,
                  "sepal width (cm)": 3.5,
                  "petal length (cm)": 1.4,
                  "petal width (cm)": 0.3,
                  "target": 0,
                  "class": "setosa",
                  "_deepnote_index_column": 17
                },
                {
                  "sepal length (cm)": 5.7,
                  "sepal width (cm)": 3.8,
                  "petal length (cm)": 1.7,
                  "petal width (cm)": 0.3,
                  "target": 0,
                  "class": "setosa",
                  "_deepnote_index_column": 18
                },
                {
                  "sepal length (cm)": 5.1,
                  "sepal width (cm)": 3.8,
                  "petal length (cm)": 1.5,
                  "petal width (cm)": 0.3,
                  "target": 0,
                  "class": "setosa",
                  "_deepnote_index_column": 19
                },
                {
                  "sepal length (cm)": 5.4,
                  "sepal width (cm)": 3.4,
                  "petal length (cm)": 1.7,
                  "petal width (cm)": 0.2,
                  "target": 0,
                  "class": "setosa",
                  "_deepnote_index_column": 20
                },
                {
                  "sepal length (cm)": 5.1,
                  "sepal width (cm)": 3.7,
                  "petal length (cm)": 1.5,
                  "petal width (cm)": 0.4,
                  "target": 0,
                  "class": "setosa",
                  "_deepnote_index_column": 21
                },
                {
                  "sepal length (cm)": 4.6,
                  "sepal width (cm)": 3.6,
                  "petal length (cm)": 1,
                  "petal width (cm)": 0.2,
                  "target": 0,
                  "class": "setosa",
                  "_deepnote_index_column": 22
                },
                {
                  "sepal length (cm)": 5.1,
                  "sepal width (cm)": 3.3,
                  "petal length (cm)": 1.7,
                  "petal width (cm)": 0.5,
                  "target": 0,
                  "class": "setosa",
                  "_deepnote_index_column": 23
                },
                {
                  "sepal length (cm)": 4.8,
                  "sepal width (cm)": 3.4,
                  "petal length (cm)": 1.9,
                  "petal width (cm)": 0.2,
                  "target": 0,
                  "class": "setosa",
                  "_deepnote_index_column": 24
                },
                {
                  "sepal length (cm)": 5,
                  "sepal width (cm)": 3,
                  "petal length (cm)": 1.6,
                  "petal width (cm)": 0.2,
                  "target": 0,
                  "class": "setosa",
                  "_deepnote_index_column": 25
                },
                {
                  "sepal length (cm)": 5,
                  "sepal width (cm)": 3.4,
                  "petal length (cm)": 1.6,
                  "petal width (cm)": 0.4,
                  "target": 0,
                  "class": "setosa",
                  "_deepnote_index_column": 26
                },
                {
                  "sepal length (cm)": 5.2,
                  "sepal width (cm)": 3.5,
                  "petal length (cm)": 1.5,
                  "petal width (cm)": 0.2,
                  "target": 0,
                  "class": "setosa",
                  "_deepnote_index_column": 27
                },
                {
                  "sepal length (cm)": 5.2,
                  "sepal width (cm)": 3.4,
                  "petal length (cm)": 1.4,
                  "petal width (cm)": 0.2,
                  "target": 0,
                  "class": "setosa",
                  "_deepnote_index_column": 28
                },
                {
                  "sepal length (cm)": 4.7,
                  "sepal width (cm)": 3.2,
                  "petal length (cm)": 1.6,
                  "petal width (cm)": 0.2,
                  "target": 0,
                  "class": "setosa",
                  "_deepnote_index_column": 29
                },
                {
                  "sepal length (cm)": 4.8,
                  "sepal width (cm)": 3.1,
                  "petal length (cm)": 1.6,
                  "petal width (cm)": 0.2,
                  "target": 0,
                  "class": "setosa",
                  "_deepnote_index_column": 30
                },
                {
                  "sepal length (cm)": 5.4,
                  "sepal width (cm)": 3.4,
                  "petal length (cm)": 1.5,
                  "petal width (cm)": 0.4,
                  "target": 0,
                  "class": "setosa",
                  "_deepnote_index_column": 31
                },
                {
                  "sepal length (cm)": 5.2,
                  "sepal width (cm)": 4.1,
                  "petal length (cm)": 1.5,
                  "petal width (cm)": 0.1,
                  "target": 0,
                  "class": "setosa",
                  "_deepnote_index_column": 32
                },
                {
                  "sepal length (cm)": 5.5,
                  "sepal width (cm)": 4.2,
                  "petal length (cm)": 1.4,
                  "petal width (cm)": 0.2,
                  "target": 0,
                  "class": "setosa",
                  "_deepnote_index_column": 33
                },
                {
                  "sepal length (cm)": 4.9,
                  "sepal width (cm)": 3.1,
                  "petal length (cm)": 1.5,
                  "petal width (cm)": 0.2,
                  "target": 0,
                  "class": "setosa",
                  "_deepnote_index_column": 34
                },
                {
                  "sepal length (cm)": 5,
                  "sepal width (cm)": 3.2,
                  "petal length (cm)": 1.2,
                  "petal width (cm)": 0.2,
                  "target": 0,
                  "class": "setosa",
                  "_deepnote_index_column": 35
                },
                {
                  "sepal length (cm)": 5.5,
                  "sepal width (cm)": 3.5,
                  "petal length (cm)": 1.3,
                  "petal width (cm)": 0.2,
                  "target": 0,
                  "class": "setosa",
                  "_deepnote_index_column": 36
                },
                {
                  "sepal length (cm)": 4.9,
                  "sepal width (cm)": 3.6,
                  "petal length (cm)": 1.4,
                  "petal width (cm)": 0.1,
                  "target": 0,
                  "class": "setosa",
                  "_deepnote_index_column": 37
                },
                {
                  "sepal length (cm)": 4.4,
                  "sepal width (cm)": 3,
                  "petal length (cm)": 1.3,
                  "petal width (cm)": 0.2,
                  "target": 0,
                  "class": "setosa",
                  "_deepnote_index_column": 38
                },
                {
                  "sepal length (cm)": 5.1,
                  "sepal width (cm)": 3.4,
                  "petal length (cm)": 1.5,
                  "petal width (cm)": 0.2,
                  "target": 0,
                  "class": "setosa",
                  "_deepnote_index_column": 39
                },
                {
                  "sepal length (cm)": 5,
                  "sepal width (cm)": 3.5,
                  "petal length (cm)": 1.3,
                  "petal width (cm)": 0.3,
                  "target": 0,
                  "class": "setosa",
                  "_deepnote_index_column": 40
                },
                {
                  "sepal length (cm)": 4.5,
                  "sepal width (cm)": 2.3,
                  "petal length (cm)": 1.3,
                  "petal width (cm)": 0.3,
                  "target": 0,
                  "class": "setosa",
                  "_deepnote_index_column": 41
                },
                {
                  "sepal length (cm)": 4.4,
                  "sepal width (cm)": 3.2,
                  "petal length (cm)": 1.3,
                  "petal width (cm)": 0.2,
                  "target": 0,
                  "class": "setosa",
                  "_deepnote_index_column": 42
                },
                {
                  "sepal length (cm)": 5,
                  "sepal width (cm)": 3.5,
                  "petal length (cm)": 1.6,
                  "petal width (cm)": 0.6,
                  "target": 0,
                  "class": "setosa",
                  "_deepnote_index_column": 43
                },
                {
                  "sepal length (cm)": 5.1,
                  "sepal width (cm)": 3.8,
                  "petal length (cm)": 1.9,
                  "petal width (cm)": 0.4,
                  "target": 0,
                  "class": "setosa",
                  "_deepnote_index_column": 44
                },
                {
                  "sepal length (cm)": 4.8,
                  "sepal width (cm)": 3,
                  "petal length (cm)": 1.4,
                  "petal width (cm)": 0.3,
                  "target": 0,
                  "class": "setosa",
                  "_deepnote_index_column": 45
                },
                {
                  "sepal length (cm)": 5.1,
                  "sepal width (cm)": 3.8,
                  "petal length (cm)": 1.6,
                  "petal width (cm)": 0.2,
                  "target": 0,
                  "class": "setosa",
                  "_deepnote_index_column": 46
                },
                {
                  "sepal length (cm)": 4.6,
                  "sepal width (cm)": 3.2,
                  "petal length (cm)": 1.4,
                  "petal width (cm)": 0.2,
                  "target": 0,
                  "class": "setosa",
                  "_deepnote_index_column": 47
                },
                {
                  "sepal length (cm)": 5.3,
                  "sepal width (cm)": 3.7,
                  "petal length (cm)": 1.5,
                  "petal width (cm)": 0.2,
                  "target": 0,
                  "class": "setosa",
                  "_deepnote_index_column": 48
                },
                {
                  "sepal length (cm)": 5,
                  "sepal width (cm)": 3.3,
                  "petal length (cm)": 1.4,
                  "petal width (cm)": 0.2,
                  "target": 0,
                  "class": "setosa",
                  "_deepnote_index_column": 49
                },
                {
                  "sepal length (cm)": 7,
                  "sepal width (cm)": 3.2,
                  "petal length (cm)": 4.7,
                  "petal width (cm)": 1.4,
                  "target": 1,
                  "class": "versicolor",
                  "_deepnote_index_column": 50
                },
                {
                  "sepal length (cm)": 6.4,
                  "sepal width (cm)": 3.2,
                  "petal length (cm)": 4.5,
                  "petal width (cm)": 1.5,
                  "target": 1,
                  "class": "versicolor",
                  "_deepnote_index_column": 51
                },
                {
                  "sepal length (cm)": 6.9,
                  "sepal width (cm)": 3.1,
                  "petal length (cm)": 4.9,
                  "petal width (cm)": 1.5,
                  "target": 1,
                  "class": "versicolor",
                  "_deepnote_index_column": 52
                },
                {
                  "sepal length (cm)": 5.5,
                  "sepal width (cm)": 2.3,
                  "petal length (cm)": 4,
                  "petal width (cm)": 1.3,
                  "target": 1,
                  "class": "versicolor",
                  "_deepnote_index_column": 53
                },
                {
                  "sepal length (cm)": 6.5,
                  "sepal width (cm)": 2.8,
                  "petal length (cm)": 4.6,
                  "petal width (cm)": 1.5,
                  "target": 1,
                  "class": "versicolor",
                  "_deepnote_index_column": 54
                },
                {
                  "sepal length (cm)": 5.7,
                  "sepal width (cm)": 2.8,
                  "petal length (cm)": 4.5,
                  "petal width (cm)": 1.3,
                  "target": 1,
                  "class": "versicolor",
                  "_deepnote_index_column": 55
                },
                {
                  "sepal length (cm)": 6.3,
                  "sepal width (cm)": 3.3,
                  "petal length (cm)": 4.7,
                  "petal width (cm)": 1.6,
                  "target": 1,
                  "class": "versicolor",
                  "_deepnote_index_column": 56
                },
                {
                  "sepal length (cm)": 4.9,
                  "sepal width (cm)": 2.4,
                  "petal length (cm)": 3.3,
                  "petal width (cm)": 1,
                  "target": 1,
                  "class": "versicolor",
                  "_deepnote_index_column": 57
                },
                {
                  "sepal length (cm)": 6.6,
                  "sepal width (cm)": 2.9,
                  "petal length (cm)": 4.6,
                  "petal width (cm)": 1.3,
                  "target": 1,
                  "class": "versicolor",
                  "_deepnote_index_column": 58
                },
                {
                  "sepal length (cm)": 5.2,
                  "sepal width (cm)": 2.7,
                  "petal length (cm)": 3.9,
                  "petal width (cm)": 1.4,
                  "target": 1,
                  "class": "versicolor",
                  "_deepnote_index_column": 59
                },
                {
                  "sepal length (cm)": 5,
                  "sepal width (cm)": 2,
                  "petal length (cm)": 3.5,
                  "petal width (cm)": 1,
                  "target": 1,
                  "class": "versicolor",
                  "_deepnote_index_column": 60
                },
                {
                  "sepal length (cm)": 5.9,
                  "sepal width (cm)": 3,
                  "petal length (cm)": 4.2,
                  "petal width (cm)": 1.5,
                  "target": 1,
                  "class": "versicolor",
                  "_deepnote_index_column": 61
                },
                {
                  "sepal length (cm)": 6,
                  "sepal width (cm)": 2.2,
                  "petal length (cm)": 4,
                  "petal width (cm)": 1,
                  "target": 1,
                  "class": "versicolor",
                  "_deepnote_index_column": 62
                },
                {
                  "sepal length (cm)": 6.1,
                  "sepal width (cm)": 2.9,
                  "petal length (cm)": 4.7,
                  "petal width (cm)": 1.4,
                  "target": 1,
                  "class": "versicolor",
                  "_deepnote_index_column": 63
                },
                {
                  "sepal length (cm)": 5.6,
                  "sepal width (cm)": 2.9,
                  "petal length (cm)": 3.6,
                  "petal width (cm)": 1.3,
                  "target": 1,
                  "class": "versicolor",
                  "_deepnote_index_column": 64
                },
                {
                  "sepal length (cm)": 6.7,
                  "sepal width (cm)": 3.1,
                  "petal length (cm)": 4.4,
                  "petal width (cm)": 1.4,
                  "target": 1,
                  "class": "versicolor",
                  "_deepnote_index_column": 65
                },
                {
                  "sepal length (cm)": 5.6,
                  "sepal width (cm)": 3,
                  "petal length (cm)": 4.5,
                  "petal width (cm)": 1.5,
                  "target": 1,
                  "class": "versicolor",
                  "_deepnote_index_column": 66
                },
                {
                  "sepal length (cm)": 5.8,
                  "sepal width (cm)": 2.7,
                  "petal length (cm)": 4.1,
                  "petal width (cm)": 1,
                  "target": 1,
                  "class": "versicolor",
                  "_deepnote_index_column": 67
                },
                {
                  "sepal length (cm)": 6.2,
                  "sepal width (cm)": 2.2,
                  "petal length (cm)": 4.5,
                  "petal width (cm)": 1.5,
                  "target": 1,
                  "class": "versicolor",
                  "_deepnote_index_column": 68
                },
                {
                  "sepal length (cm)": 5.6,
                  "sepal width (cm)": 2.5,
                  "petal length (cm)": 3.9,
                  "petal width (cm)": 1.1,
                  "target": 1,
                  "class": "versicolor",
                  "_deepnote_index_column": 69
                },
                {
                  "sepal length (cm)": 5.9,
                  "sepal width (cm)": 3.2,
                  "petal length (cm)": 4.8,
                  "petal width (cm)": 1.8,
                  "target": 1,
                  "class": "versicolor",
                  "_deepnote_index_column": 70
                },
                {
                  "sepal length (cm)": 6.1,
                  "sepal width (cm)": 2.8,
                  "petal length (cm)": 4,
                  "petal width (cm)": 1.3,
                  "target": 1,
                  "class": "versicolor",
                  "_deepnote_index_column": 71
                },
                {
                  "sepal length (cm)": 6.3,
                  "sepal width (cm)": 2.5,
                  "petal length (cm)": 4.9,
                  "petal width (cm)": 1.5,
                  "target": 1,
                  "class": "versicolor",
                  "_deepnote_index_column": 72
                },
                {
                  "sepal length (cm)": 6.1,
                  "sepal width (cm)": 2.8,
                  "petal length (cm)": 4.7,
                  "petal width (cm)": 1.2,
                  "target": 1,
                  "class": "versicolor",
                  "_deepnote_index_column": 73
                },
                {
                  "sepal length (cm)": 6.4,
                  "sepal width (cm)": 2.9,
                  "petal length (cm)": 4.3,
                  "petal width (cm)": 1.3,
                  "target": 1,
                  "class": "versicolor",
                  "_deepnote_index_column": 74
                },
                {
                  "sepal length (cm)": 6.6,
                  "sepal width (cm)": 3,
                  "petal length (cm)": 4.4,
                  "petal width (cm)": 1.4,
                  "target": 1,
                  "class": "versicolor",
                  "_deepnote_index_column": 75
                },
                {
                  "sepal length (cm)": 6.8,
                  "sepal width (cm)": 2.8,
                  "petal length (cm)": 4.8,
                  "petal width (cm)": 1.4,
                  "target": 1,
                  "class": "versicolor",
                  "_deepnote_index_column": 76
                },
                {
                  "sepal length (cm)": 6.7,
                  "sepal width (cm)": 3,
                  "petal length (cm)": 5,
                  "petal width (cm)": 1.7,
                  "target": 1,
                  "class": "versicolor",
                  "_deepnote_index_column": 77
                },
                {
                  "sepal length (cm)": 6,
                  "sepal width (cm)": 2.9,
                  "petal length (cm)": 4.5,
                  "petal width (cm)": 1.5,
                  "target": 1,
                  "class": "versicolor",
                  "_deepnote_index_column": 78
                },
                {
                  "sepal length (cm)": 5.7,
                  "sepal width (cm)": 2.6,
                  "petal length (cm)": 3.5,
                  "petal width (cm)": 1,
                  "target": 1,
                  "class": "versicolor",
                  "_deepnote_index_column": 79
                },
                {
                  "sepal length (cm)": 5.5,
                  "sepal width (cm)": 2.4,
                  "petal length (cm)": 3.8,
                  "petal width (cm)": 1.1,
                  "target": 1,
                  "class": "versicolor",
                  "_deepnote_index_column": 80
                },
                {
                  "sepal length (cm)": 5.5,
                  "sepal width (cm)": 2.4,
                  "petal length (cm)": 3.7,
                  "petal width (cm)": 1,
                  "target": 1,
                  "class": "versicolor",
                  "_deepnote_index_column": 81
                },
                {
                  "sepal length (cm)": 5.8,
                  "sepal width (cm)": 2.7,
                  "petal length (cm)": 3.9,
                  "petal width (cm)": 1.2,
                  "target": 1,
                  "class": "versicolor",
                  "_deepnote_index_column": 82
                },
                {
                  "sepal length (cm)": 6,
                  "sepal width (cm)": 2.7,
                  "petal length (cm)": 5.1,
                  "petal width (cm)": 1.6,
                  "target": 1,
                  "class": "versicolor",
                  "_deepnote_index_column": 83
                },
                {
                  "sepal length (cm)": 5.4,
                  "sepal width (cm)": 3,
                  "petal length (cm)": 4.5,
                  "petal width (cm)": 1.5,
                  "target": 1,
                  "class": "versicolor",
                  "_deepnote_index_column": 84
                },
                {
                  "sepal length (cm)": 6,
                  "sepal width (cm)": 3.4,
                  "petal length (cm)": 4.5,
                  "petal width (cm)": 1.6,
                  "target": 1,
                  "class": "versicolor",
                  "_deepnote_index_column": 85
                },
                {
                  "sepal length (cm)": 6.7,
                  "sepal width (cm)": 3.1,
                  "petal length (cm)": 4.7,
                  "petal width (cm)": 1.5,
                  "target": 1,
                  "class": "versicolor",
                  "_deepnote_index_column": 86
                },
                {
                  "sepal length (cm)": 6.3,
                  "sepal width (cm)": 2.3,
                  "petal length (cm)": 4.4,
                  "petal width (cm)": 1.3,
                  "target": 1,
                  "class": "versicolor",
                  "_deepnote_index_column": 87
                },
                {
                  "sepal length (cm)": 5.6,
                  "sepal width (cm)": 3,
                  "petal length (cm)": 4.1,
                  "petal width (cm)": 1.3,
                  "target": 1,
                  "class": "versicolor",
                  "_deepnote_index_column": 88
                },
                {
                  "sepal length (cm)": 5.5,
                  "sepal width (cm)": 2.5,
                  "petal length (cm)": 4,
                  "petal width (cm)": 1.3,
                  "target": 1,
                  "class": "versicolor",
                  "_deepnote_index_column": 89
                },
                {
                  "sepal length (cm)": 5.5,
                  "sepal width (cm)": 2.6,
                  "petal length (cm)": 4.4,
                  "petal width (cm)": 1.2,
                  "target": 1,
                  "class": "versicolor",
                  "_deepnote_index_column": 90
                },
                {
                  "sepal length (cm)": 6.1,
                  "sepal width (cm)": 3,
                  "petal length (cm)": 4.6,
                  "petal width (cm)": 1.4,
                  "target": 1,
                  "class": "versicolor",
                  "_deepnote_index_column": 91
                },
                {
                  "sepal length (cm)": 5.8,
                  "sepal width (cm)": 2.6,
                  "petal length (cm)": 4,
                  "petal width (cm)": 1.2,
                  "target": 1,
                  "class": "versicolor",
                  "_deepnote_index_column": 92
                },
                {
                  "sepal length (cm)": 5,
                  "sepal width (cm)": 2.3,
                  "petal length (cm)": 3.3,
                  "petal width (cm)": 1,
                  "target": 1,
                  "class": "versicolor",
                  "_deepnote_index_column": 93
                },
                {
                  "sepal length (cm)": 5.6,
                  "sepal width (cm)": 2.7,
                  "petal length (cm)": 4.2,
                  "petal width (cm)": 1.3,
                  "target": 1,
                  "class": "versicolor",
                  "_deepnote_index_column": 94
                },
                {
                  "sepal length (cm)": 5.7,
                  "sepal width (cm)": 3,
                  "petal length (cm)": 4.2,
                  "petal width (cm)": 1.2,
                  "target": 1,
                  "class": "versicolor",
                  "_deepnote_index_column": 95
                },
                {
                  "sepal length (cm)": 5.7,
                  "sepal width (cm)": 2.9,
                  "petal length (cm)": 4.2,
                  "petal width (cm)": 1.3,
                  "target": 1,
                  "class": "versicolor",
                  "_deepnote_index_column": 96
                },
                {
                  "sepal length (cm)": 6.2,
                  "sepal width (cm)": 2.9,
                  "petal length (cm)": 4.3,
                  "petal width (cm)": 1.3,
                  "target": 1,
                  "class": "versicolor",
                  "_deepnote_index_column": 97
                },
                {
                  "sepal length (cm)": 5.1,
                  "sepal width (cm)": 2.5,
                  "petal length (cm)": 3,
                  "petal width (cm)": 1.1,
                  "target": 1,
                  "class": "versicolor",
                  "_deepnote_index_column": 98
                },
                {
                  "sepal length (cm)": 5.7,
                  "sepal width (cm)": 2.8,
                  "petal length (cm)": 4.1,
                  "petal width (cm)": 1.3,
                  "target": 1,
                  "class": "versicolor",
                  "_deepnote_index_column": 99
                },
                {
                  "sepal length (cm)": 6.3,
                  "sepal width (cm)": 3.3,
                  "petal length (cm)": 6,
                  "petal width (cm)": 2.5,
                  "target": 2,
                  "class": "virginica",
                  "_deepnote_index_column": 100
                },
                {
                  "sepal length (cm)": 5.8,
                  "sepal width (cm)": 2.7,
                  "petal length (cm)": 5.1,
                  "petal width (cm)": 1.9,
                  "target": 2,
                  "class": "virginica",
                  "_deepnote_index_column": 101
                },
                {
                  "sepal length (cm)": 7.1,
                  "sepal width (cm)": 3,
                  "petal length (cm)": 5.9,
                  "petal width (cm)": 2.1,
                  "target": 2,
                  "class": "virginica",
                  "_deepnote_index_column": 102
                },
                {
                  "sepal length (cm)": 6.3,
                  "sepal width (cm)": 2.9,
                  "petal length (cm)": 5.6,
                  "petal width (cm)": 1.8,
                  "target": 2,
                  "class": "virginica",
                  "_deepnote_index_column": 103
                },
                {
                  "sepal length (cm)": 6.5,
                  "sepal width (cm)": 3,
                  "petal length (cm)": 5.8,
                  "petal width (cm)": 2.2,
                  "target": 2,
                  "class": "virginica",
                  "_deepnote_index_column": 104
                },
                {
                  "sepal length (cm)": 7.6,
                  "sepal width (cm)": 3,
                  "petal length (cm)": 6.6,
                  "petal width (cm)": 2.1,
                  "target": 2,
                  "class": "virginica",
                  "_deepnote_index_column": 105
                },
                {
                  "sepal length (cm)": 4.9,
                  "sepal width (cm)": 2.5,
                  "petal length (cm)": 4.5,
                  "petal width (cm)": 1.7,
                  "target": 2,
                  "class": "virginica",
                  "_deepnote_index_column": 106
                },
                {
                  "sepal length (cm)": 7.3,
                  "sepal width (cm)": 2.9,
                  "petal length (cm)": 6.3,
                  "petal width (cm)": 1.8,
                  "target": 2,
                  "class": "virginica",
                  "_deepnote_index_column": 107
                },
                {
                  "sepal length (cm)": 6.7,
                  "sepal width (cm)": 2.5,
                  "petal length (cm)": 5.8,
                  "petal width (cm)": 1.8,
                  "target": 2,
                  "class": "virginica",
                  "_deepnote_index_column": 108
                },
                {
                  "sepal length (cm)": 7.2,
                  "sepal width (cm)": 3.6,
                  "petal length (cm)": 6.1,
                  "petal width (cm)": 2.5,
                  "target": 2,
                  "class": "virginica",
                  "_deepnote_index_column": 109
                },
                {
                  "sepal length (cm)": 6.5,
                  "sepal width (cm)": 3.2,
                  "petal length (cm)": 5.1,
                  "petal width (cm)": 2,
                  "target": 2,
                  "class": "virginica",
                  "_deepnote_index_column": 110
                },
                {
                  "sepal length (cm)": 6.4,
                  "sepal width (cm)": 2.7,
                  "petal length (cm)": 5.3,
                  "petal width (cm)": 1.9,
                  "target": 2,
                  "class": "virginica",
                  "_deepnote_index_column": 111
                },
                {
                  "sepal length (cm)": 6.8,
                  "sepal width (cm)": 3,
                  "petal length (cm)": 5.5,
                  "petal width (cm)": 2.1,
                  "target": 2,
                  "class": "virginica",
                  "_deepnote_index_column": 112
                },
                {
                  "sepal length (cm)": 5.7,
                  "sepal width (cm)": 2.5,
                  "petal length (cm)": 5,
                  "petal width (cm)": 2,
                  "target": 2,
                  "class": "virginica",
                  "_deepnote_index_column": 113
                },
                {
                  "sepal length (cm)": 5.8,
                  "sepal width (cm)": 2.8,
                  "petal length (cm)": 5.1,
                  "petal width (cm)": 2.4,
                  "target": 2,
                  "class": "virginica",
                  "_deepnote_index_column": 114
                },
                {
                  "sepal length (cm)": 6.4,
                  "sepal width (cm)": 3.2,
                  "petal length (cm)": 5.3,
                  "petal width (cm)": 2.3,
                  "target": 2,
                  "class": "virginica",
                  "_deepnote_index_column": 115
                },
                {
                  "sepal length (cm)": 6.5,
                  "sepal width (cm)": 3,
                  "petal length (cm)": 5.5,
                  "petal width (cm)": 1.8,
                  "target": 2,
                  "class": "virginica",
                  "_deepnote_index_column": 116
                },
                {
                  "sepal length (cm)": 7.7,
                  "sepal width (cm)": 3.8,
                  "petal length (cm)": 6.7,
                  "petal width (cm)": 2.2,
                  "target": 2,
                  "class": "virginica",
                  "_deepnote_index_column": 117
                },
                {
                  "sepal length (cm)": 7.7,
                  "sepal width (cm)": 2.6,
                  "petal length (cm)": 6.9,
                  "petal width (cm)": 2.3,
                  "target": 2,
                  "class": "virginica",
                  "_deepnote_index_column": 118
                },
                {
                  "sepal length (cm)": 6,
                  "sepal width (cm)": 2.2,
                  "petal length (cm)": 5,
                  "petal width (cm)": 1.5,
                  "target": 2,
                  "class": "virginica",
                  "_deepnote_index_column": 119
                },
                {
                  "sepal length (cm)": 6.9,
                  "sepal width (cm)": 3.2,
                  "petal length (cm)": 5.7,
                  "petal width (cm)": 2.3,
                  "target": 2,
                  "class": "virginica",
                  "_deepnote_index_column": 120
                },
                {
                  "sepal length (cm)": 5.6,
                  "sepal width (cm)": 2.8,
                  "petal length (cm)": 4.9,
                  "petal width (cm)": 2,
                  "target": 2,
                  "class": "virginica",
                  "_deepnote_index_column": 121
                },
                {
                  "sepal length (cm)": 7.7,
                  "sepal width (cm)": 2.8,
                  "petal length (cm)": 6.7,
                  "petal width (cm)": 2,
                  "target": 2,
                  "class": "virginica",
                  "_deepnote_index_column": 122
                },
                {
                  "sepal length (cm)": 6.3,
                  "sepal width (cm)": 2.7,
                  "petal length (cm)": 4.9,
                  "petal width (cm)": 1.8,
                  "target": 2,
                  "class": "virginica",
                  "_deepnote_index_column": 123
                },
                {
                  "sepal length (cm)": 6.7,
                  "sepal width (cm)": 3.3,
                  "petal length (cm)": 5.7,
                  "petal width (cm)": 2.1,
                  "target": 2,
                  "class": "virginica",
                  "_deepnote_index_column": 124
                },
                {
                  "sepal length (cm)": 7.2,
                  "sepal width (cm)": 3.2,
                  "petal length (cm)": 6,
                  "petal width (cm)": 1.8,
                  "target": 2,
                  "class": "virginica",
                  "_deepnote_index_column": 125
                },
                {
                  "sepal length (cm)": 6.2,
                  "sepal width (cm)": 2.8,
                  "petal length (cm)": 4.8,
                  "petal width (cm)": 1.8,
                  "target": 2,
                  "class": "virginica",
                  "_deepnote_index_column": 126
                },
                {
                  "sepal length (cm)": 6.1,
                  "sepal width (cm)": 3,
                  "petal length (cm)": 4.9,
                  "petal width (cm)": 1.8,
                  "target": 2,
                  "class": "virginica",
                  "_deepnote_index_column": 127
                },
                {
                  "sepal length (cm)": 6.4,
                  "sepal width (cm)": 2.8,
                  "petal length (cm)": 5.6,
                  "petal width (cm)": 2.1,
                  "target": 2,
                  "class": "virginica",
                  "_deepnote_index_column": 128
                },
                {
                  "sepal length (cm)": 7.2,
                  "sepal width (cm)": 3,
                  "petal length (cm)": 5.8,
                  "petal width (cm)": 1.6,
                  "target": 2,
                  "class": "virginica",
                  "_deepnote_index_column": 129
                },
                {
                  "sepal length (cm)": 7.4,
                  "sepal width (cm)": 2.8,
                  "petal length (cm)": 6.1,
                  "petal width (cm)": 1.9,
                  "target": 2,
                  "class": "virginica",
                  "_deepnote_index_column": 130
                },
                {
                  "sepal length (cm)": 7.9,
                  "sepal width (cm)": 3.8,
                  "petal length (cm)": 6.4,
                  "petal width (cm)": 2,
                  "target": 2,
                  "class": "virginica",
                  "_deepnote_index_column": 131
                },
                {
                  "sepal length (cm)": 6.4,
                  "sepal width (cm)": 2.8,
                  "petal length (cm)": 5.6,
                  "petal width (cm)": 2.2,
                  "target": 2,
                  "class": "virginica",
                  "_deepnote_index_column": 132
                },
                {
                  "sepal length (cm)": 6.3,
                  "sepal width (cm)": 2.8,
                  "petal length (cm)": 5.1,
                  "petal width (cm)": 1.5,
                  "target": 2,
                  "class": "virginica",
                  "_deepnote_index_column": 133
                },
                {
                  "sepal length (cm)": 6.1,
                  "sepal width (cm)": 2.6,
                  "petal length (cm)": 5.6,
                  "petal width (cm)": 1.4,
                  "target": 2,
                  "class": "virginica",
                  "_deepnote_index_column": 134
                },
                {
                  "sepal length (cm)": 7.7,
                  "sepal width (cm)": 3,
                  "petal length (cm)": 6.1,
                  "petal width (cm)": 2.3,
                  "target": 2,
                  "class": "virginica",
                  "_deepnote_index_column": 135
                },
                {
                  "sepal length (cm)": 6.3,
                  "sepal width (cm)": 3.4,
                  "petal length (cm)": 5.6,
                  "petal width (cm)": 2.4,
                  "target": 2,
                  "class": "virginica",
                  "_deepnote_index_column": 136
                },
                {
                  "sepal length (cm)": 6.4,
                  "sepal width (cm)": 3.1,
                  "petal length (cm)": 5.5,
                  "petal width (cm)": 1.8,
                  "target": 2,
                  "class": "virginica",
                  "_deepnote_index_column": 137
                },
                {
                  "sepal length (cm)": 6,
                  "sepal width (cm)": 3,
                  "petal length (cm)": 4.8,
                  "petal width (cm)": 1.8,
                  "target": 2,
                  "class": "virginica",
                  "_deepnote_index_column": 138
                },
                {
                  "sepal length (cm)": 6.9,
                  "sepal width (cm)": 3.1,
                  "petal length (cm)": 5.4,
                  "petal width (cm)": 2.1,
                  "target": 2,
                  "class": "virginica",
                  "_deepnote_index_column": 139
                },
                {
                  "sepal length (cm)": 6.7,
                  "sepal width (cm)": 3.1,
                  "petal length (cm)": 5.6,
                  "petal width (cm)": 2.4,
                  "target": 2,
                  "class": "virginica",
                  "_deepnote_index_column": 140
                },
                {
                  "sepal length (cm)": 6.9,
                  "sepal width (cm)": 3.1,
                  "petal length (cm)": 5.1,
                  "petal width (cm)": 2.3,
                  "target": 2,
                  "class": "virginica",
                  "_deepnote_index_column": 141
                },
                {
                  "sepal length (cm)": 5.8,
                  "sepal width (cm)": 2.7,
                  "petal length (cm)": 5.1,
                  "petal width (cm)": 1.9,
                  "target": 2,
                  "class": "virginica",
                  "_deepnote_index_column": 142
                },
                {
                  "sepal length (cm)": 6.8,
                  "sepal width (cm)": 3.2,
                  "petal length (cm)": 5.9,
                  "petal width (cm)": 2.3,
                  "target": 2,
                  "class": "virginica",
                  "_deepnote_index_column": 143
                },
                {
                  "sepal length (cm)": 6.7,
                  "sepal width (cm)": 3.3,
                  "petal length (cm)": 5.7,
                  "petal width (cm)": 2.5,
                  "target": 2,
                  "class": "virginica",
                  "_deepnote_index_column": 144
                },
                {
                  "sepal length (cm)": 6.7,
                  "sepal width (cm)": 3,
                  "petal length (cm)": 5.2,
                  "petal width (cm)": 2.3,
                  "target": 2,
                  "class": "virginica",
                  "_deepnote_index_column": 145
                },
                {
                  "sepal length (cm)": 6.3,
                  "sepal width (cm)": 2.5,
                  "petal length (cm)": 5,
                  "petal width (cm)": 1.9,
                  "target": 2,
                  "class": "virginica",
                  "_deepnote_index_column": 146
                },
                {
                  "sepal length (cm)": 6.5,
                  "sepal width (cm)": 3,
                  "petal length (cm)": 5.2,
                  "petal width (cm)": 2,
                  "target": 2,
                  "class": "virginica",
                  "_deepnote_index_column": 147
                },
                {
                  "sepal length (cm)": 6.2,
                  "sepal width (cm)": 3.4,
                  "petal length (cm)": 5.4,
                  "petal width (cm)": 2.3,
                  "target": 2,
                  "class": "virginica",
                  "_deepnote_index_column": 148
                },
                {
                  "sepal length (cm)": 5.9,
                  "sepal width (cm)": 3,
                  "petal length (cm)": 5.1,
                  "petal width (cm)": 1.8,
                  "target": 2,
                  "class": "virginica",
                  "_deepnote_index_column": 149
                }
              ],
              "rows_bottom": null
            },
            "text/plain": "     sepal length (cm)  sepal width (cm)  petal length (cm)  petal width (cm)  \\\n0                  5.1               3.5                1.4               0.2   \n1                  4.9               3.0                1.4               0.2   \n2                  4.7               3.2                1.3               0.2   \n3                  4.6               3.1                1.5               0.2   \n4                  5.0               3.6                1.4               0.2   \n..                 ...               ...                ...               ...   \n145                6.7               3.0                5.2               2.3   \n146                6.3               2.5                5.0               1.9   \n147                6.5               3.0                5.2               2.0   \n148                6.2               3.4                5.4               2.3   \n149                5.9               3.0                5.1               1.8   \n\n     target      class  \n0       0.0     setosa  \n1       0.0     setosa  \n2       0.0     setosa  \n3       0.0     setosa  \n4       0.0     setosa  \n..      ...        ...  \n145     2.0  virginica  \n146     2.0  virginica  \n147     2.0  virginica  \n148     2.0  virginica  \n149     2.0  virginica  \n\n[150 rows x 6 columns]",
            "text/html": "<div>\n<style scoped>\n    .dataframe tbody tr th:only-of-type {\n        vertical-align: middle;\n    }\n\n    .dataframe tbody tr th {\n        vertical-align: top;\n    }\n\n    .dataframe thead th {\n        text-align: right;\n    }\n</style>\n<table border=\"1\" class=\"dataframe\">\n  <thead>\n    <tr style=\"text-align: right;\">\n      <th></th>\n      <th>sepal length (cm)</th>\n      <th>sepal width (cm)</th>\n      <th>petal length (cm)</th>\n      <th>petal width (cm)</th>\n      <th>target</th>\n      <th>class</th>\n    </tr>\n  </thead>\n  <tbody>\n    <tr>\n      <th>0</th>\n      <td>5.1</td>\n      <td>3.5</td>\n      <td>1.4</td>\n      <td>0.2</td>\n      <td>0.0</td>\n      <td>setosa</td>\n    </tr>\n    <tr>\n      <th>1</th>\n      <td>4.9</td>\n      <td>3.0</td>\n      <td>1.4</td>\n      <td>0.2</td>\n      <td>0.0</td>\n      <td>setosa</td>\n    </tr>\n    <tr>\n      <th>2</th>\n      <td>4.7</td>\n      <td>3.2</td>\n      <td>1.3</td>\n      <td>0.2</td>\n      <td>0.0</td>\n      <td>setosa</td>\n    </tr>\n    <tr>\n      <th>3</th>\n      <td>4.6</td>\n      <td>3.1</td>\n      <td>1.5</td>\n      <td>0.2</td>\n      <td>0.0</td>\n      <td>setosa</td>\n    </tr>\n    <tr>\n      <th>4</th>\n      <td>5.0</td>\n      <td>3.6</td>\n      <td>1.4</td>\n      <td>0.2</td>\n      <td>0.0</td>\n      <td>setosa</td>\n    </tr>\n    <tr>\n      <th>...</th>\n      <td>...</td>\n      <td>...</td>\n      <td>...</td>\n      <td>...</td>\n      <td>...</td>\n      <td>...</td>\n    </tr>\n    <tr>\n      <th>145</th>\n      <td>6.7</td>\n      <td>3.0</td>\n      <td>5.2</td>\n      <td>2.3</td>\n      <td>2.0</td>\n      <td>virginica</td>\n    </tr>\n    <tr>\n      <th>146</th>\n      <td>6.3</td>\n      <td>2.5</td>\n      <td>5.0</td>\n      <td>1.9</td>\n      <td>2.0</td>\n      <td>virginica</td>\n    </tr>\n    <tr>\n      <th>147</th>\n      <td>6.5</td>\n      <td>3.0</td>\n      <td>5.2</td>\n      <td>2.0</td>\n      <td>2.0</td>\n      <td>virginica</td>\n    </tr>\n    <tr>\n      <th>148</th>\n      <td>6.2</td>\n      <td>3.4</td>\n      <td>5.4</td>\n      <td>2.3</td>\n      <td>2.0</td>\n      <td>virginica</td>\n    </tr>\n    <tr>\n      <th>149</th>\n      <td>5.9</td>\n      <td>3.0</td>\n      <td>5.1</td>\n      <td>1.8</td>\n      <td>2.0</td>\n      <td>virginica</td>\n    </tr>\n  </tbody>\n</table>\n<p>150 rows × 6 columns</p>\n</div>"
          },
          "metadata": {}
        }
      ],
      "execution_count": 2
    },
    {
      "cell_type": "code",
      "source": "\ny = np.array(df['target'])\nx = np.array(df.drop(columns=['target', 'class']))",
      "metadata": {
        "tags": [],
        "cell_id": "00002-f53f7de1-61ff-4872-affd-1507241f70ad",
        "deepnote_to_be_reexecuted": false,
        "source_hash": "efe86555",
        "execution_start": 1619614485646,
        "execution_millis": 0,
        "deepnote_cell_type": "code"
      },
      "outputs": [],
      "execution_count": 3
    },
    {
      "cell_type": "code",
      "source": "X_train, X_test, y_train, y_test = train_test_split(x, y, test_size=0.2)",
      "metadata": {
        "tags": [],
        "cell_id": "00003-6f8b77f4-853c-4ad0-980d-e7a42d105acf",
        "deepnote_to_be_reexecuted": false,
        "source_hash": "56416ae",
        "execution_start": 1619614500581,
        "execution_millis": 3,
        "deepnote_cell_type": "code"
      },
      "outputs": [],
      "execution_count": 4
    },
    {
      "cell_type": "markdown",
      "source": "<a style='text-decoration:none;line-height:16px;display:flex;color:#5B5B62;padding:10px;justify-content:end;' href='https://deepnote.com?utm_source=created-in-deepnote-cell&projectId=146f2f95-10e2-4546-b8bb-7deb558f2ad8' target=\"_blank\">\n<img alt='Created in deepnote.com' style='display:inline;max-height:16px;margin:0px;margin-right:7.5px;' src='data:image/svg+xml;base64,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' > </img>\nCreated in <span style='font-weight:600;margin-left:4px;'>Deepnote</span></a>",
      "metadata": {
        "tags": [],
        "created_in_deepnote_cell": true,
        "deepnote_cell_type": "markdown"
      }
    }
  ],
  "nbformat": 4,
  "nbformat_minor": 2,
  "metadata": {
    "orig_nbformat": 2,
    "deepnote": {
      "is_reactive": false
    },
    "deepnote_notebook_id": "47b5161a-db58-43f7-beea-444bbb353180",
    "deepnote_execution_queue": []
  }
}