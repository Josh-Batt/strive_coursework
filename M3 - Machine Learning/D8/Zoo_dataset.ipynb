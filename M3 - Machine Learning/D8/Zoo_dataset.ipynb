{
  "cells": [
    {
      "cell_type": "code",
      "metadata": {
        "tags": [],
        "cell_id": "00000-488e2fb8-9827-450f-b94c-e315129719c0",
        "deepnote_to_be_reexecuted": false,
        "source_hash": "a154720e",
        "execution_start": 1619616580018,
        "execution_millis": 67,
        "deepnote_cell_type": "code"
      },
      "source": "import numpy as np\nimport pandas as pd\nimport matplotlib.pyplot as plt\n\nfrom sklearn import tree\nfrom sklearn.datasets import load_iris\nfrom sklearn import datasets\n\nfrom sklearn.metrics import classification_report, confusion_matrix\nfrom sklearn.metrics import accuracy_score\nimport seaborn as sns\n\nfrom sklearn.tree import DecisionTreeClassifier\nfrom sklearn.model_selection import train_test_split",
      "execution_count": 54,
      "outputs": []
    },
    {
      "cell_type": "code",
      "source": "# ds = datasets(zoo.data)\n# ds.keys()\n# df = pd.DataFrame(data= np.c_[ds['data'], ds['target']],\n#                      columns= ds['feature_names'] + ['target'])\n# df['class'] = pd.Categorical.from_codes(ds.target, ds.target_names)\n# df",
      "metadata": {
        "tags": [],
        "cell_id": "00001-54b952f2-17d9-488c-ab2b-5bb579dc45a9",
        "deepnote_to_be_reexecuted": false,
        "source_hash": "dcbdcaac",
        "execution_start": 1619613613302,
        "execution_millis": 0,
        "deepnote_cell_type": "code"
      },
      "outputs": [],
      "execution_count": 6
    },
    {
      "cell_type": "code",
      "source": "data =  pd.read_csv('zoo.data')#, sep=\",\")\ndf = pd.DataFrame(data)\n#df.keys()",
      "metadata": {
        "tags": [],
        "cell_id": "00002-c5b364a5-67fb-4aa3-820c-d9ef423707fb",
        "deepnote_to_be_reexecuted": false,
        "source_hash": "97031956",
        "execution_start": 1619614912274,
        "execution_millis": 7,
        "deepnote_cell_type": "code"
      },
      "outputs": [],
      "execution_count": 18
    },
    {
      "cell_type": "markdown",
      "source": "Attribute Information:\n\n1. animal name: Unique for each instance\n2. hair: Boolean\n3. feathers: Boolean\n4. eggs: Boolean\n5. milk: Boolean\n6. airborne: Boolean\n7. aquatic: Boolean\n8. predator: Boolean\n9. toothed: Boolean\n10. backbone: Boolean\n11. breathes: Boolean\n12. venomous: Boolean\n13. fins: Boolean\n14. legs: Numeric (set of values: {0,2,4,5,6,8})\n15. tail: Boolean\n16. domestic: Boolean\n17. catsize: Boolean\n18. type: Numeric (integer values in range [1,7])",
      "metadata": {
        "tags": [],
        "cell_id": "00003-920f5cc3-5be6-4be1-80d4-e22922cf8664",
        "deepnote_cell_type": "markdown"
      }
    },
    {
      "cell_type": "code",
      "source": "df_clean = df.rename(columns={ 1 : 'Hair', 0 : 'Feathers', 0.1 : 'Eggs', 1.1 : 'Milk', 0.2 : 'Airborne',\n                    0.3: 'Aquatic', 1.2: 'Predator', 1.3: 'Toothed', 1.4: 'Backbone', 1.5 : 'Breathes', \n                    0.4: 'Venomous', 0.5: 'Fins', 4: 'Legs', 0.6: 'Tail', 0.7: 'Domestic', 1.6: 'Catsize', 1.7:'Type'})\n\ndf_clean",
      "metadata": {
        "tags": [],
        "cell_id": "00003-b8e73339-1584-4c40-8ea4-f23221dbee7d",
        "deepnote_to_be_reexecuted": false,
        "source_hash": "5583686d",
        "execution_start": 1619614917656,
        "execution_millis": 78,
        "deepnote_cell_type": "code"
      },
      "outputs": [
        {
          "output_type": "execute_result",
          "execution_count": 20,
          "data": {
            "application/vnd.deepnote.dataframe.v2+json": {
              "row_count": 100,
              "column_count": 18,
              "columns": [
                {
                  "name": "aardvark",
                  "dtype": "object",
                  "stats": {
                    "unique_count": 99,
                    "nan_count": 0,
                    "categories": [
                      {
                        "name": "frog",
                        "count": 2
                      },
                      {
                        "name": "antelope",
                        "count": 1
                      },
                      {
                        "name": "97 others",
                        "count": 97
                      }
                    ]
                  }
                },
                {
                  "name": "1",
                  "dtype": "int64",
                  "stats": {
                    "unique_count": 2,
                    "nan_count": 0,
                    "min": "0",
                    "max": "1",
                    "histogram": [
                      {
                        "bin_start": 0,
                        "bin_end": 0.1,
                        "count": 58
                      },
                      {
                        "bin_start": 0.1,
                        "bin_end": 0.2,
                        "count": 0
                      },
                      {
                        "bin_start": 0.2,
                        "bin_end": 0.30000000000000004,
                        "count": 0
                      },
                      {
                        "bin_start": 0.30000000000000004,
                        "bin_end": 0.4,
                        "count": 0
                      },
                      {
                        "bin_start": 0.4,
                        "bin_end": 0.5,
                        "count": 0
                      },
                      {
                        "bin_start": 0.5,
                        "bin_end": 0.6000000000000001,
                        "count": 0
                      },
                      {
                        "bin_start": 0.6000000000000001,
                        "bin_end": 0.7000000000000001,
                        "count": 0
                      },
                      {
                        "bin_start": 0.7000000000000001,
                        "bin_end": 0.8,
                        "count": 0
                      },
                      {
                        "bin_start": 0.8,
                        "bin_end": 0.9,
                        "count": 0
                      },
                      {
                        "bin_start": 0.9,
                        "bin_end": 1,
                        "count": 42
                      }
                    ]
                  }
                },
                {
                  "name": "0",
                  "dtype": "int64",
                  "stats": {
                    "unique_count": 2,
                    "nan_count": 0,
                    "min": "0",
                    "max": "1",
                    "histogram": [
                      {
                        "bin_start": 0,
                        "bin_end": 0.1,
                        "count": 80
                      },
                      {
                        "bin_start": 0.1,
                        "bin_end": 0.2,
                        "count": 0
                      },
                      {
                        "bin_start": 0.2,
                        "bin_end": 0.30000000000000004,
                        "count": 0
                      },
                      {
                        "bin_start": 0.30000000000000004,
                        "bin_end": 0.4,
                        "count": 0
                      },
                      {
                        "bin_start": 0.4,
                        "bin_end": 0.5,
                        "count": 0
                      },
                      {
                        "bin_start": 0.5,
                        "bin_end": 0.6000000000000001,
                        "count": 0
                      },
                      {
                        "bin_start": 0.6000000000000001,
                        "bin_end": 0.7000000000000001,
                        "count": 0
                      },
                      {
                        "bin_start": 0.7000000000000001,
                        "bin_end": 0.8,
                        "count": 0
                      },
                      {
                        "bin_start": 0.8,
                        "bin_end": 0.9,
                        "count": 0
                      },
                      {
                        "bin_start": 0.9,
                        "bin_end": 1,
                        "count": 20
                      }
                    ]
                  }
                },
                {
                  "name": "0.1",
                  "dtype": "int64",
                  "stats": {
                    "unique_count": 2,
                    "nan_count": 0,
                    "min": "0",
                    "max": "1",
                    "histogram": [
                      {
                        "bin_start": 0,
                        "bin_end": 0.1,
                        "count": 41
                      },
                      {
                        "bin_start": 0.1,
                        "bin_end": 0.2,
                        "count": 0
                      },
                      {
                        "bin_start": 0.2,
                        "bin_end": 0.30000000000000004,
                        "count": 0
                      },
                      {
                        "bin_start": 0.30000000000000004,
                        "bin_end": 0.4,
                        "count": 0
                      },
                      {
                        "bin_start": 0.4,
                        "bin_end": 0.5,
                        "count": 0
                      },
                      {
                        "bin_start": 0.5,
                        "bin_end": 0.6000000000000001,
                        "count": 0
                      },
                      {
                        "bin_start": 0.6000000000000001,
                        "bin_end": 0.7000000000000001,
                        "count": 0
                      },
                      {
                        "bin_start": 0.7000000000000001,
                        "bin_end": 0.8,
                        "count": 0
                      },
                      {
                        "bin_start": 0.8,
                        "bin_end": 0.9,
                        "count": 0
                      },
                      {
                        "bin_start": 0.9,
                        "bin_end": 1,
                        "count": 59
                      }
                    ]
                  }
                },
                {
                  "name": "1.1",
                  "dtype": "int64",
                  "stats": {
                    "unique_count": 2,
                    "nan_count": 0,
                    "min": "0",
                    "max": "1",
                    "histogram": [
                      {
                        "bin_start": 0,
                        "bin_end": 0.1,
                        "count": 60
                      },
                      {
                        "bin_start": 0.1,
                        "bin_end": 0.2,
                        "count": 0
                      },
                      {
                        "bin_start": 0.2,
                        "bin_end": 0.30000000000000004,
                        "count": 0
                      },
                      {
                        "bin_start": 0.30000000000000004,
                        "bin_end": 0.4,
                        "count": 0
                      },
                      {
                        "bin_start": 0.4,
                        "bin_end": 0.5,
                        "count": 0
                      },
                      {
                        "bin_start": 0.5,
                        "bin_end": 0.6000000000000001,
                        "count": 0
                      },
                      {
                        "bin_start": 0.6000000000000001,
                        "bin_end": 0.7000000000000001,
                        "count": 0
                      },
                      {
                        "bin_start": 0.7000000000000001,
                        "bin_end": 0.8,
                        "count": 0
                      },
                      {
                        "bin_start": 0.8,
                        "bin_end": 0.9,
                        "count": 0
                      },
                      {
                        "bin_start": 0.9,
                        "bin_end": 1,
                        "count": 40
                      }
                    ]
                  }
                },
                {
                  "name": "0.2",
                  "dtype": "int64",
                  "stats": {
                    "unique_count": 2,
                    "nan_count": 0,
                    "min": "0",
                    "max": "1",
                    "histogram": [
                      {
                        "bin_start": 0,
                        "bin_end": 0.1,
                        "count": 76
                      },
                      {
                        "bin_start": 0.1,
                        "bin_end": 0.2,
                        "count": 0
                      },
                      {
                        "bin_start": 0.2,
                        "bin_end": 0.30000000000000004,
                        "count": 0
                      },
                      {
                        "bin_start": 0.30000000000000004,
                        "bin_end": 0.4,
                        "count": 0
                      },
                      {
                        "bin_start": 0.4,
                        "bin_end": 0.5,
                        "count": 0
                      },
                      {
                        "bin_start": 0.5,
                        "bin_end": 0.6000000000000001,
                        "count": 0
                      },
                      {
                        "bin_start": 0.6000000000000001,
                        "bin_end": 0.7000000000000001,
                        "count": 0
                      },
                      {
                        "bin_start": 0.7000000000000001,
                        "bin_end": 0.8,
                        "count": 0
                      },
                      {
                        "bin_start": 0.8,
                        "bin_end": 0.9,
                        "count": 0
                      },
                      {
                        "bin_start": 0.9,
                        "bin_end": 1,
                        "count": 24
                      }
                    ]
                  }
                },
                {
                  "name": "0.3",
                  "dtype": "int64",
                  "stats": {
                    "unique_count": 2,
                    "nan_count": 0,
                    "min": "0",
                    "max": "1",
                    "histogram": [
                      {
                        "bin_start": 0,
                        "bin_end": 0.1,
                        "count": 64
                      },
                      {
                        "bin_start": 0.1,
                        "bin_end": 0.2,
                        "count": 0
                      },
                      {
                        "bin_start": 0.2,
                        "bin_end": 0.30000000000000004,
                        "count": 0
                      },
                      {
                        "bin_start": 0.30000000000000004,
                        "bin_end": 0.4,
                        "count": 0
                      },
                      {
                        "bin_start": 0.4,
                        "bin_end": 0.5,
                        "count": 0
                      },
                      {
                        "bin_start": 0.5,
                        "bin_end": 0.6000000000000001,
                        "count": 0
                      },
                      {
                        "bin_start": 0.6000000000000001,
                        "bin_end": 0.7000000000000001,
                        "count": 0
                      },
                      {
                        "bin_start": 0.7000000000000001,
                        "bin_end": 0.8,
                        "count": 0
                      },
                      {
                        "bin_start": 0.8,
                        "bin_end": 0.9,
                        "count": 0
                      },
                      {
                        "bin_start": 0.9,
                        "bin_end": 1,
                        "count": 36
                      }
                    ]
                  }
                },
                {
                  "name": "1.2",
                  "dtype": "int64",
                  "stats": {
                    "unique_count": 2,
                    "nan_count": 0,
                    "min": "0",
                    "max": "1",
                    "histogram": [
                      {
                        "bin_start": 0,
                        "bin_end": 0.1,
                        "count": 45
                      },
                      {
                        "bin_start": 0.1,
                        "bin_end": 0.2,
                        "count": 0
                      },
                      {
                        "bin_start": 0.2,
                        "bin_end": 0.30000000000000004,
                        "count": 0
                      },
                      {
                        "bin_start": 0.30000000000000004,
                        "bin_end": 0.4,
                        "count": 0
                      },
                      {
                        "bin_start": 0.4,
                        "bin_end": 0.5,
                        "count": 0
                      },
                      {
                        "bin_start": 0.5,
                        "bin_end": 0.6000000000000001,
                        "count": 0
                      },
                      {
                        "bin_start": 0.6000000000000001,
                        "bin_end": 0.7000000000000001,
                        "count": 0
                      },
                      {
                        "bin_start": 0.7000000000000001,
                        "bin_end": 0.8,
                        "count": 0
                      },
                      {
                        "bin_start": 0.8,
                        "bin_end": 0.9,
                        "count": 0
                      },
                      {
                        "bin_start": 0.9,
                        "bin_end": 1,
                        "count": 55
                      }
                    ]
                  }
                },
                {
                  "name": "1.3",
                  "dtype": "int64",
                  "stats": {
                    "unique_count": 2,
                    "nan_count": 0,
                    "min": "0",
                    "max": "1",
                    "histogram": [
                      {
                        "bin_start": 0,
                        "bin_end": 0.1,
                        "count": 40
                      },
                      {
                        "bin_start": 0.1,
                        "bin_end": 0.2,
                        "count": 0
                      },
                      {
                        "bin_start": 0.2,
                        "bin_end": 0.30000000000000004,
                        "count": 0
                      },
                      {
                        "bin_start": 0.30000000000000004,
                        "bin_end": 0.4,
                        "count": 0
                      },
                      {
                        "bin_start": 0.4,
                        "bin_end": 0.5,
                        "count": 0
                      },
                      {
                        "bin_start": 0.5,
                        "bin_end": 0.6000000000000001,
                        "count": 0
                      },
                      {
                        "bin_start": 0.6000000000000001,
                        "bin_end": 0.7000000000000001,
                        "count": 0
                      },
                      {
                        "bin_start": 0.7000000000000001,
                        "bin_end": 0.8,
                        "count": 0
                      },
                      {
                        "bin_start": 0.8,
                        "bin_end": 0.9,
                        "count": 0
                      },
                      {
                        "bin_start": 0.9,
                        "bin_end": 1,
                        "count": 60
                      }
                    ]
                  }
                },
                {
                  "name": "1.4",
                  "dtype": "int64",
                  "stats": {
                    "unique_count": 2,
                    "nan_count": 0,
                    "min": "0",
                    "max": "1",
                    "histogram": [
                      {
                        "bin_start": 0,
                        "bin_end": 0.1,
                        "count": 18
                      },
                      {
                        "bin_start": 0.1,
                        "bin_end": 0.2,
                        "count": 0
                      },
                      {
                        "bin_start": 0.2,
                        "bin_end": 0.30000000000000004,
                        "count": 0
                      },
                      {
                        "bin_start": 0.30000000000000004,
                        "bin_end": 0.4,
                        "count": 0
                      },
                      {
                        "bin_start": 0.4,
                        "bin_end": 0.5,
                        "count": 0
                      },
                      {
                        "bin_start": 0.5,
                        "bin_end": 0.6000000000000001,
                        "count": 0
                      },
                      {
                        "bin_start": 0.6000000000000001,
                        "bin_end": 0.7000000000000001,
                        "count": 0
                      },
                      {
                        "bin_start": 0.7000000000000001,
                        "bin_end": 0.8,
                        "count": 0
                      },
                      {
                        "bin_start": 0.8,
                        "bin_end": 0.9,
                        "count": 0
                      },
                      {
                        "bin_start": 0.9,
                        "bin_end": 1,
                        "count": 82
                      }
                    ]
                  }
                },
                {
                  "name": "1.5",
                  "dtype": "int64",
                  "stats": {
                    "unique_count": 2,
                    "nan_count": 0,
                    "min": "0",
                    "max": "1",
                    "histogram": [
                      {
                        "bin_start": 0,
                        "bin_end": 0.1,
                        "count": 21
                      },
                      {
                        "bin_start": 0.1,
                        "bin_end": 0.2,
                        "count": 0
                      },
                      {
                        "bin_start": 0.2,
                        "bin_end": 0.30000000000000004,
                        "count": 0
                      },
                      {
                        "bin_start": 0.30000000000000004,
                        "bin_end": 0.4,
                        "count": 0
                      },
                      {
                        "bin_start": 0.4,
                        "bin_end": 0.5,
                        "count": 0
                      },
                      {
                        "bin_start": 0.5,
                        "bin_end": 0.6000000000000001,
                        "count": 0
                      },
                      {
                        "bin_start": 0.6000000000000001,
                        "bin_end": 0.7000000000000001,
                        "count": 0
                      },
                      {
                        "bin_start": 0.7000000000000001,
                        "bin_end": 0.8,
                        "count": 0
                      },
                      {
                        "bin_start": 0.8,
                        "bin_end": 0.9,
                        "count": 0
                      },
                      {
                        "bin_start": 0.9,
                        "bin_end": 1,
                        "count": 79
                      }
                    ]
                  }
                },
                {
                  "name": "0.4",
                  "dtype": "int64",
                  "stats": {
                    "unique_count": 2,
                    "nan_count": 0,
                    "min": "0",
                    "max": "1",
                    "histogram": [
                      {
                        "bin_start": 0,
                        "bin_end": 0.1,
                        "count": 92
                      },
                      {
                        "bin_start": 0.1,
                        "bin_end": 0.2,
                        "count": 0
                      },
                      {
                        "bin_start": 0.2,
                        "bin_end": 0.30000000000000004,
                        "count": 0
                      },
                      {
                        "bin_start": 0.30000000000000004,
                        "bin_end": 0.4,
                        "count": 0
                      },
                      {
                        "bin_start": 0.4,
                        "bin_end": 0.5,
                        "count": 0
                      },
                      {
                        "bin_start": 0.5,
                        "bin_end": 0.6000000000000001,
                        "count": 0
                      },
                      {
                        "bin_start": 0.6000000000000001,
                        "bin_end": 0.7000000000000001,
                        "count": 0
                      },
                      {
                        "bin_start": 0.7000000000000001,
                        "bin_end": 0.8,
                        "count": 0
                      },
                      {
                        "bin_start": 0.8,
                        "bin_end": 0.9,
                        "count": 0
                      },
                      {
                        "bin_start": 0.9,
                        "bin_end": 1,
                        "count": 8
                      }
                    ]
                  }
                },
                {
                  "name": "0.5",
                  "dtype": "int64",
                  "stats": {
                    "unique_count": 2,
                    "nan_count": 0,
                    "min": "0",
                    "max": "1",
                    "histogram": [
                      {
                        "bin_start": 0,
                        "bin_end": 0.1,
                        "count": 83
                      },
                      {
                        "bin_start": 0.1,
                        "bin_end": 0.2,
                        "count": 0
                      },
                      {
                        "bin_start": 0.2,
                        "bin_end": 0.30000000000000004,
                        "count": 0
                      },
                      {
                        "bin_start": 0.30000000000000004,
                        "bin_end": 0.4,
                        "count": 0
                      },
                      {
                        "bin_start": 0.4,
                        "bin_end": 0.5,
                        "count": 0
                      },
                      {
                        "bin_start": 0.5,
                        "bin_end": 0.6000000000000001,
                        "count": 0
                      },
                      {
                        "bin_start": 0.6000000000000001,
                        "bin_end": 0.7000000000000001,
                        "count": 0
                      },
                      {
                        "bin_start": 0.7000000000000001,
                        "bin_end": 0.8,
                        "count": 0
                      },
                      {
                        "bin_start": 0.8,
                        "bin_end": 0.9,
                        "count": 0
                      },
                      {
                        "bin_start": 0.9,
                        "bin_end": 1,
                        "count": 17
                      }
                    ]
                  }
                },
                {
                  "name": "4",
                  "dtype": "int64",
                  "stats": {
                    "unique_count": 6,
                    "nan_count": 0,
                    "min": "0",
                    "max": "8",
                    "histogram": [
                      {
                        "bin_start": 0,
                        "bin_end": 0.8,
                        "count": 23
                      },
                      {
                        "bin_start": 0.8,
                        "bin_end": 1.6,
                        "count": 0
                      },
                      {
                        "bin_start": 1.6,
                        "bin_end": 2.4000000000000004,
                        "count": 27
                      },
                      {
                        "bin_start": 2.4000000000000004,
                        "bin_end": 3.2,
                        "count": 0
                      },
                      {
                        "bin_start": 3.2,
                        "bin_end": 4,
                        "count": 0
                      },
                      {
                        "bin_start": 4,
                        "bin_end": 4.800000000000001,
                        "count": 37
                      },
                      {
                        "bin_start": 4.800000000000001,
                        "bin_end": 5.6000000000000005,
                        "count": 1
                      },
                      {
                        "bin_start": 5.6000000000000005,
                        "bin_end": 6.4,
                        "count": 10
                      },
                      {
                        "bin_start": 6.4,
                        "bin_end": 7.2,
                        "count": 0
                      },
                      {
                        "bin_start": 7.2,
                        "bin_end": 8,
                        "count": 2
                      }
                    ]
                  }
                },
                {
                  "name": "0.6",
                  "dtype": "int64",
                  "stats": {
                    "unique_count": 2,
                    "nan_count": 0,
                    "min": "0",
                    "max": "1",
                    "histogram": [
                      {
                        "bin_start": 0,
                        "bin_end": 0.1,
                        "count": 25
                      },
                      {
                        "bin_start": 0.1,
                        "bin_end": 0.2,
                        "count": 0
                      },
                      {
                        "bin_start": 0.2,
                        "bin_end": 0.30000000000000004,
                        "count": 0
                      },
                      {
                        "bin_start": 0.30000000000000004,
                        "bin_end": 0.4,
                        "count": 0
                      },
                      {
                        "bin_start": 0.4,
                        "bin_end": 0.5,
                        "count": 0
                      },
                      {
                        "bin_start": 0.5,
                        "bin_end": 0.6000000000000001,
                        "count": 0
                      },
                      {
                        "bin_start": 0.6000000000000001,
                        "bin_end": 0.7000000000000001,
                        "count": 0
                      },
                      {
                        "bin_start": 0.7000000000000001,
                        "bin_end": 0.8,
                        "count": 0
                      },
                      {
                        "bin_start": 0.8,
                        "bin_end": 0.9,
                        "count": 0
                      },
                      {
                        "bin_start": 0.9,
                        "bin_end": 1,
                        "count": 75
                      }
                    ]
                  }
                },
                {
                  "name": "0.7",
                  "dtype": "int64",
                  "stats": {
                    "unique_count": 2,
                    "nan_count": 0,
                    "min": "0",
                    "max": "1",
                    "histogram": [
                      {
                        "bin_start": 0,
                        "bin_end": 0.1,
                        "count": 87
                      },
                      {
                        "bin_start": 0.1,
                        "bin_end": 0.2,
                        "count": 0
                      },
                      {
                        "bin_start": 0.2,
                        "bin_end": 0.30000000000000004,
                        "count": 0
                      },
                      {
                        "bin_start": 0.30000000000000004,
                        "bin_end": 0.4,
                        "count": 0
                      },
                      {
                        "bin_start": 0.4,
                        "bin_end": 0.5,
                        "count": 0
                      },
                      {
                        "bin_start": 0.5,
                        "bin_end": 0.6000000000000001,
                        "count": 0
                      },
                      {
                        "bin_start": 0.6000000000000001,
                        "bin_end": 0.7000000000000001,
                        "count": 0
                      },
                      {
                        "bin_start": 0.7000000000000001,
                        "bin_end": 0.8,
                        "count": 0
                      },
                      {
                        "bin_start": 0.8,
                        "bin_end": 0.9,
                        "count": 0
                      },
                      {
                        "bin_start": 0.9,
                        "bin_end": 1,
                        "count": 13
                      }
                    ]
                  }
                },
                {
                  "name": "1.6",
                  "dtype": "int64",
                  "stats": {
                    "unique_count": 2,
                    "nan_count": 0,
                    "min": "0",
                    "max": "1",
                    "histogram": [
                      {
                        "bin_start": 0,
                        "bin_end": 0.1,
                        "count": 57
                      },
                      {
                        "bin_start": 0.1,
                        "bin_end": 0.2,
                        "count": 0
                      },
                      {
                        "bin_start": 0.2,
                        "bin_end": 0.30000000000000004,
                        "count": 0
                      },
                      {
                        "bin_start": 0.30000000000000004,
                        "bin_end": 0.4,
                        "count": 0
                      },
                      {
                        "bin_start": 0.4,
                        "bin_end": 0.5,
                        "count": 0
                      },
                      {
                        "bin_start": 0.5,
                        "bin_end": 0.6000000000000001,
                        "count": 0
                      },
                      {
                        "bin_start": 0.6000000000000001,
                        "bin_end": 0.7000000000000001,
                        "count": 0
                      },
                      {
                        "bin_start": 0.7000000000000001,
                        "bin_end": 0.8,
                        "count": 0
                      },
                      {
                        "bin_start": 0.8,
                        "bin_end": 0.9,
                        "count": 0
                      },
                      {
                        "bin_start": 0.9,
                        "bin_end": 1,
                        "count": 43
                      }
                    ]
                  }
                },
                {
                  "name": "1.7",
                  "dtype": "int64",
                  "stats": {
                    "unique_count": 7,
                    "nan_count": 0,
                    "min": "1",
                    "max": "7",
                    "histogram": [
                      {
                        "bin_start": 1,
                        "bin_end": 1.6,
                        "count": 40
                      },
                      {
                        "bin_start": 1.6,
                        "bin_end": 2.2,
                        "count": 20
                      },
                      {
                        "bin_start": 2.2,
                        "bin_end": 2.8,
                        "count": 0
                      },
                      {
                        "bin_start": 2.8,
                        "bin_end": 3.4,
                        "count": 5
                      },
                      {
                        "bin_start": 3.4,
                        "bin_end": 4,
                        "count": 0
                      },
                      {
                        "bin_start": 4,
                        "bin_end": 4.6,
                        "count": 13
                      },
                      {
                        "bin_start": 4.6,
                        "bin_end": 5.2,
                        "count": 4
                      },
                      {
                        "bin_start": 5.2,
                        "bin_end": 5.8,
                        "count": 0
                      },
                      {
                        "bin_start": 5.8,
                        "bin_end": 6.3999999999999995,
                        "count": 8
                      },
                      {
                        "bin_start": 6.3999999999999995,
                        "bin_end": 7,
                        "count": 10
                      }
                    ]
                  }
                },
                {
                  "name": "_deepnote_index_column",
                  "dtype": "int64"
                }
              ],
              "rows_top": [
                {
                  "0": 0,
                  "1": 1,
                  "4": 4,
                  "aardvark": "antelope",
                  "0.1": 0,
                  "1.1": 1,
                  "0.2": 0,
                  "0.3": 0,
                  "1.2": 0,
                  "1.3": 1,
                  "1.4": 1,
                  "1.5": 1,
                  "0.4": 0,
                  "0.5": 0,
                  "0.6": 1,
                  "0.7": 0,
                  "1.6": 1,
                  "1.7": 1,
                  "_deepnote_index_column": 0
                },
                {
                  "0": 0,
                  "1": 0,
                  "4": 0,
                  "aardvark": "bass",
                  "0.1": 1,
                  "1.1": 0,
                  "0.2": 0,
                  "0.3": 1,
                  "1.2": 1,
                  "1.3": 1,
                  "1.4": 1,
                  "1.5": 0,
                  "0.4": 0,
                  "0.5": 1,
                  "0.6": 1,
                  "0.7": 0,
                  "1.6": 0,
                  "1.7": 4,
                  "_deepnote_index_column": 1
                },
                {
                  "0": 0,
                  "1": 1,
                  "4": 4,
                  "aardvark": "bear",
                  "0.1": 0,
                  "1.1": 1,
                  "0.2": 0,
                  "0.3": 0,
                  "1.2": 1,
                  "1.3": 1,
                  "1.4": 1,
                  "1.5": 1,
                  "0.4": 0,
                  "0.5": 0,
                  "0.6": 0,
                  "0.7": 0,
                  "1.6": 1,
                  "1.7": 1,
                  "_deepnote_index_column": 2
                },
                {
                  "0": 0,
                  "1": 1,
                  "4": 4,
                  "aardvark": "boar",
                  "0.1": 0,
                  "1.1": 1,
                  "0.2": 0,
                  "0.3": 0,
                  "1.2": 1,
                  "1.3": 1,
                  "1.4": 1,
                  "1.5": 1,
                  "0.4": 0,
                  "0.5": 0,
                  "0.6": 1,
                  "0.7": 0,
                  "1.6": 1,
                  "1.7": 1,
                  "_deepnote_index_column": 3
                },
                {
                  "0": 0,
                  "1": 1,
                  "4": 4,
                  "aardvark": "buffalo",
                  "0.1": 0,
                  "1.1": 1,
                  "0.2": 0,
                  "0.3": 0,
                  "1.2": 0,
                  "1.3": 1,
                  "1.4": 1,
                  "1.5": 1,
                  "0.4": 0,
                  "0.5": 0,
                  "0.6": 1,
                  "0.7": 0,
                  "1.6": 1,
                  "1.7": 1,
                  "_deepnote_index_column": 4
                },
                {
                  "0": 0,
                  "1": 1,
                  "4": 4,
                  "aardvark": "calf",
                  "0.1": 0,
                  "1.1": 1,
                  "0.2": 0,
                  "0.3": 0,
                  "1.2": 0,
                  "1.3": 1,
                  "1.4": 1,
                  "1.5": 1,
                  "0.4": 0,
                  "0.5": 0,
                  "0.6": 1,
                  "0.7": 1,
                  "1.6": 1,
                  "1.7": 1,
                  "_deepnote_index_column": 5
                },
                {
                  "0": 0,
                  "1": 0,
                  "4": 0,
                  "aardvark": "carp",
                  "0.1": 1,
                  "1.1": 0,
                  "0.2": 0,
                  "0.3": 1,
                  "1.2": 0,
                  "1.3": 1,
                  "1.4": 1,
                  "1.5": 0,
                  "0.4": 0,
                  "0.5": 1,
                  "0.6": 1,
                  "0.7": 1,
                  "1.6": 0,
                  "1.7": 4,
                  "_deepnote_index_column": 6
                },
                {
                  "0": 0,
                  "1": 0,
                  "4": 0,
                  "aardvark": "catfish",
                  "0.1": 1,
                  "1.1": 0,
                  "0.2": 0,
                  "0.3": 1,
                  "1.2": 1,
                  "1.3": 1,
                  "1.4": 1,
                  "1.5": 0,
                  "0.4": 0,
                  "0.5": 1,
                  "0.6": 1,
                  "0.7": 0,
                  "1.6": 0,
                  "1.7": 4,
                  "_deepnote_index_column": 7
                },
                {
                  "0": 0,
                  "1": 1,
                  "4": 4,
                  "aardvark": "cavy",
                  "0.1": 0,
                  "1.1": 1,
                  "0.2": 0,
                  "0.3": 0,
                  "1.2": 0,
                  "1.3": 1,
                  "1.4": 1,
                  "1.5": 1,
                  "0.4": 0,
                  "0.5": 0,
                  "0.6": 0,
                  "0.7": 1,
                  "1.6": 0,
                  "1.7": 1,
                  "_deepnote_index_column": 8
                },
                {
                  "0": 0,
                  "1": 1,
                  "4": 4,
                  "aardvark": "cheetah",
                  "0.1": 0,
                  "1.1": 1,
                  "0.2": 0,
                  "0.3": 0,
                  "1.2": 1,
                  "1.3": 1,
                  "1.4": 1,
                  "1.5": 1,
                  "0.4": 0,
                  "0.5": 0,
                  "0.6": 1,
                  "0.7": 0,
                  "1.6": 1,
                  "1.7": 1,
                  "_deepnote_index_column": 9
                },
                {
                  "0": 1,
                  "1": 0,
                  "4": 2,
                  "aardvark": "chicken",
                  "0.1": 1,
                  "1.1": 0,
                  "0.2": 1,
                  "0.3": 0,
                  "1.2": 0,
                  "1.3": 0,
                  "1.4": 1,
                  "1.5": 1,
                  "0.4": 0,
                  "0.5": 0,
                  "0.6": 1,
                  "0.7": 1,
                  "1.6": 0,
                  "1.7": 2,
                  "_deepnote_index_column": 10
                },
                {
                  "0": 0,
                  "1": 0,
                  "4": 0,
                  "aardvark": "chub",
                  "0.1": 1,
                  "1.1": 0,
                  "0.2": 0,
                  "0.3": 1,
                  "1.2": 1,
                  "1.3": 1,
                  "1.4": 1,
                  "1.5": 0,
                  "0.4": 0,
                  "0.5": 1,
                  "0.6": 1,
                  "0.7": 0,
                  "1.6": 0,
                  "1.7": 4,
                  "_deepnote_index_column": 11
                },
                {
                  "0": 0,
                  "1": 0,
                  "4": 0,
                  "aardvark": "clam",
                  "0.1": 1,
                  "1.1": 0,
                  "0.2": 0,
                  "0.3": 0,
                  "1.2": 1,
                  "1.3": 0,
                  "1.4": 0,
                  "1.5": 0,
                  "0.4": 0,
                  "0.5": 0,
                  "0.6": 0,
                  "0.7": 0,
                  "1.6": 0,
                  "1.7": 7,
                  "_deepnote_index_column": 12
                },
                {
                  "0": 0,
                  "1": 0,
                  "4": 4,
                  "aardvark": "crab",
                  "0.1": 1,
                  "1.1": 0,
                  "0.2": 0,
                  "0.3": 1,
                  "1.2": 1,
                  "1.3": 0,
                  "1.4": 0,
                  "1.5": 0,
                  "0.4": 0,
                  "0.5": 0,
                  "0.6": 0,
                  "0.7": 0,
                  "1.6": 0,
                  "1.7": 7,
                  "_deepnote_index_column": 13
                },
                {
                  "0": 0,
                  "1": 0,
                  "4": 6,
                  "aardvark": "crayfish",
                  "0.1": 1,
                  "1.1": 0,
                  "0.2": 0,
                  "0.3": 1,
                  "1.2": 1,
                  "1.3": 0,
                  "1.4": 0,
                  "1.5": 0,
                  "0.4": 0,
                  "0.5": 0,
                  "0.6": 0,
                  "0.7": 0,
                  "1.6": 0,
                  "1.7": 7,
                  "_deepnote_index_column": 14
                },
                {
                  "0": 1,
                  "1": 0,
                  "4": 2,
                  "aardvark": "crow",
                  "0.1": 1,
                  "1.1": 0,
                  "0.2": 1,
                  "0.3": 0,
                  "1.2": 1,
                  "1.3": 0,
                  "1.4": 1,
                  "1.5": 1,
                  "0.4": 0,
                  "0.5": 0,
                  "0.6": 1,
                  "0.7": 0,
                  "1.6": 0,
                  "1.7": 2,
                  "_deepnote_index_column": 15
                },
                {
                  "0": 0,
                  "1": 1,
                  "4": 4,
                  "aardvark": "deer",
                  "0.1": 0,
                  "1.1": 1,
                  "0.2": 0,
                  "0.3": 0,
                  "1.2": 0,
                  "1.3": 1,
                  "1.4": 1,
                  "1.5": 1,
                  "0.4": 0,
                  "0.5": 0,
                  "0.6": 1,
                  "0.7": 0,
                  "1.6": 1,
                  "1.7": 1,
                  "_deepnote_index_column": 16
                },
                {
                  "0": 0,
                  "1": 0,
                  "4": 0,
                  "aardvark": "dogfish",
                  "0.1": 1,
                  "1.1": 0,
                  "0.2": 0,
                  "0.3": 1,
                  "1.2": 1,
                  "1.3": 1,
                  "1.4": 1,
                  "1.5": 0,
                  "0.4": 0,
                  "0.5": 1,
                  "0.6": 1,
                  "0.7": 0,
                  "1.6": 1,
                  "1.7": 4,
                  "_deepnote_index_column": 17
                },
                {
                  "0": 0,
                  "1": 0,
                  "4": 0,
                  "aardvark": "dolphin",
                  "0.1": 0,
                  "1.1": 1,
                  "0.2": 0,
                  "0.3": 1,
                  "1.2": 1,
                  "1.3": 1,
                  "1.4": 1,
                  "1.5": 1,
                  "0.4": 0,
                  "0.5": 1,
                  "0.6": 1,
                  "0.7": 0,
                  "1.6": 1,
                  "1.7": 1,
                  "_deepnote_index_column": 18
                },
                {
                  "0": 1,
                  "1": 0,
                  "4": 2,
                  "aardvark": "dove",
                  "0.1": 1,
                  "1.1": 0,
                  "0.2": 1,
                  "0.3": 0,
                  "1.2": 0,
                  "1.3": 0,
                  "1.4": 1,
                  "1.5": 1,
                  "0.4": 0,
                  "0.5": 0,
                  "0.6": 1,
                  "0.7": 1,
                  "1.6": 0,
                  "1.7": 2,
                  "_deepnote_index_column": 19
                },
                {
                  "0": 1,
                  "1": 0,
                  "4": 2,
                  "aardvark": "duck",
                  "0.1": 1,
                  "1.1": 0,
                  "0.2": 1,
                  "0.3": 1,
                  "1.2": 0,
                  "1.3": 0,
                  "1.4": 1,
                  "1.5": 1,
                  "0.4": 0,
                  "0.5": 0,
                  "0.6": 1,
                  "0.7": 0,
                  "1.6": 0,
                  "1.7": 2,
                  "_deepnote_index_column": 20
                },
                {
                  "0": 0,
                  "1": 1,
                  "4": 4,
                  "aardvark": "elephant",
                  "0.1": 0,
                  "1.1": 1,
                  "0.2": 0,
                  "0.3": 0,
                  "1.2": 0,
                  "1.3": 1,
                  "1.4": 1,
                  "1.5": 1,
                  "0.4": 0,
                  "0.5": 0,
                  "0.6": 1,
                  "0.7": 0,
                  "1.6": 1,
                  "1.7": 1,
                  "_deepnote_index_column": 21
                },
                {
                  "0": 1,
                  "1": 0,
                  "4": 2,
                  "aardvark": "flamingo",
                  "0.1": 1,
                  "1.1": 0,
                  "0.2": 1,
                  "0.3": 0,
                  "1.2": 0,
                  "1.3": 0,
                  "1.4": 1,
                  "1.5": 1,
                  "0.4": 0,
                  "0.5": 0,
                  "0.6": 1,
                  "0.7": 0,
                  "1.6": 1,
                  "1.7": 2,
                  "_deepnote_index_column": 22
                },
                {
                  "0": 0,
                  "1": 0,
                  "4": 6,
                  "aardvark": "flea",
                  "0.1": 1,
                  "1.1": 0,
                  "0.2": 0,
                  "0.3": 0,
                  "1.2": 0,
                  "1.3": 0,
                  "1.4": 0,
                  "1.5": 1,
                  "0.4": 0,
                  "0.5": 0,
                  "0.6": 0,
                  "0.7": 0,
                  "1.6": 0,
                  "1.7": 6,
                  "_deepnote_index_column": 23
                },
                {
                  "0": 0,
                  "1": 0,
                  "4": 4,
                  "aardvark": "frog",
                  "0.1": 1,
                  "1.1": 0,
                  "0.2": 0,
                  "0.3": 1,
                  "1.2": 1,
                  "1.3": 1,
                  "1.4": 1,
                  "1.5": 1,
                  "0.4": 0,
                  "0.5": 0,
                  "0.6": 0,
                  "0.7": 0,
                  "1.6": 0,
                  "1.7": 5,
                  "_deepnote_index_column": 24
                },
                {
                  "0": 0,
                  "1": 0,
                  "4": 4,
                  "aardvark": "frog",
                  "0.1": 1,
                  "1.1": 0,
                  "0.2": 0,
                  "0.3": 1,
                  "1.2": 1,
                  "1.3": 1,
                  "1.4": 1,
                  "1.5": 1,
                  "0.4": 1,
                  "0.5": 0,
                  "0.6": 0,
                  "0.7": 0,
                  "1.6": 0,
                  "1.7": 5,
                  "_deepnote_index_column": 25
                },
                {
                  "0": 0,
                  "1": 1,
                  "4": 2,
                  "aardvark": "fruitbat",
                  "0.1": 0,
                  "1.1": 1,
                  "0.2": 1,
                  "0.3": 0,
                  "1.2": 0,
                  "1.3": 1,
                  "1.4": 1,
                  "1.5": 1,
                  "0.4": 0,
                  "0.5": 0,
                  "0.6": 1,
                  "0.7": 0,
                  "1.6": 0,
                  "1.7": 1,
                  "_deepnote_index_column": 26
                }
              ],
              "rows_bottom": [
                {
                  "0": 0,
                  "1": 0,
                  "4": 0,
                  "aardvark": "seahorse",
                  "0.1": 1,
                  "1.1": 0,
                  "0.2": 0,
                  "0.3": 1,
                  "1.2": 0,
                  "1.3": 1,
                  "1.4": 1,
                  "1.5": 0,
                  "0.4": 0,
                  "0.5": 1,
                  "0.6": 1,
                  "0.7": 0,
                  "1.6": 0,
                  "1.7": 4,
                  "_deepnote_index_column": 72
                },
                {
                  "0": 0,
                  "1": 1,
                  "4": 0,
                  "aardvark": "seal",
                  "0.1": 0,
                  "1.1": 1,
                  "0.2": 0,
                  "0.3": 1,
                  "1.2": 1,
                  "1.3": 1,
                  "1.4": 1,
                  "1.5": 1,
                  "0.4": 0,
                  "0.5": 1,
                  "0.6": 0,
                  "0.7": 0,
                  "1.6": 1,
                  "1.7": 1,
                  "_deepnote_index_column": 73
                },
                {
                  "0": 0,
                  "1": 1,
                  "4": 2,
                  "aardvark": "sealion",
                  "0.1": 0,
                  "1.1": 1,
                  "0.2": 0,
                  "0.3": 1,
                  "1.2": 1,
                  "1.3": 1,
                  "1.4": 1,
                  "1.5": 1,
                  "0.4": 0,
                  "0.5": 1,
                  "0.6": 1,
                  "0.7": 0,
                  "1.6": 1,
                  "1.7": 1,
                  "_deepnote_index_column": 74
                },
                {
                  "0": 0,
                  "1": 0,
                  "4": 0,
                  "aardvark": "seasnake",
                  "0.1": 0,
                  "1.1": 0,
                  "0.2": 0,
                  "0.3": 1,
                  "1.2": 1,
                  "1.3": 1,
                  "1.4": 1,
                  "1.5": 0,
                  "0.4": 1,
                  "0.5": 0,
                  "0.6": 1,
                  "0.7": 0,
                  "1.6": 0,
                  "1.7": 3,
                  "_deepnote_index_column": 75
                },
                {
                  "0": 0,
                  "1": 0,
                  "4": 0,
                  "aardvark": "seawasp",
                  "0.1": 1,
                  "1.1": 0,
                  "0.2": 0,
                  "0.3": 1,
                  "1.2": 1,
                  "1.3": 0,
                  "1.4": 0,
                  "1.5": 0,
                  "0.4": 1,
                  "0.5": 0,
                  "0.6": 0,
                  "0.7": 0,
                  "1.6": 0,
                  "1.7": 7,
                  "_deepnote_index_column": 76
                },
                {
                  "0": 1,
                  "1": 0,
                  "4": 2,
                  "aardvark": "skimmer",
                  "0.1": 1,
                  "1.1": 0,
                  "0.2": 1,
                  "0.3": 1,
                  "1.2": 1,
                  "1.3": 0,
                  "1.4": 1,
                  "1.5": 1,
                  "0.4": 0,
                  "0.5": 0,
                  "0.6": 1,
                  "0.7": 0,
                  "1.6": 0,
                  "1.7": 2,
                  "_deepnote_index_column": 77
                },
                {
                  "0": 1,
                  "1": 0,
                  "4": 2,
                  "aardvark": "skua",
                  "0.1": 1,
                  "1.1": 0,
                  "0.2": 1,
                  "0.3": 1,
                  "1.2": 1,
                  "1.3": 0,
                  "1.4": 1,
                  "1.5": 1,
                  "0.4": 0,
                  "0.5": 0,
                  "0.6": 1,
                  "0.7": 0,
                  "1.6": 0,
                  "1.7": 2,
                  "_deepnote_index_column": 78
                },
                {
                  "0": 0,
                  "1": 0,
                  "4": 0,
                  "aardvark": "slowworm",
                  "0.1": 1,
                  "1.1": 0,
                  "0.2": 0,
                  "0.3": 0,
                  "1.2": 1,
                  "1.3": 1,
                  "1.4": 1,
                  "1.5": 1,
                  "0.4": 0,
                  "0.5": 0,
                  "0.6": 1,
                  "0.7": 0,
                  "1.6": 0,
                  "1.7": 3,
                  "_deepnote_index_column": 79
                },
                {
                  "0": 0,
                  "1": 0,
                  "4": 0,
                  "aardvark": "slug",
                  "0.1": 1,
                  "1.1": 0,
                  "0.2": 0,
                  "0.3": 0,
                  "1.2": 0,
                  "1.3": 0,
                  "1.4": 0,
                  "1.5": 1,
                  "0.4": 0,
                  "0.5": 0,
                  "0.6": 0,
                  "0.7": 0,
                  "1.6": 0,
                  "1.7": 7,
                  "_deepnote_index_column": 80
                },
                {
                  "0": 0,
                  "1": 0,
                  "4": 0,
                  "aardvark": "sole",
                  "0.1": 1,
                  "1.1": 0,
                  "0.2": 0,
                  "0.3": 1,
                  "1.2": 0,
                  "1.3": 1,
                  "1.4": 1,
                  "1.5": 0,
                  "0.4": 0,
                  "0.5": 1,
                  "0.6": 1,
                  "0.7": 0,
                  "1.6": 0,
                  "1.7": 4,
                  "_deepnote_index_column": 81
                },
                {
                  "0": 1,
                  "1": 0,
                  "4": 2,
                  "aardvark": "sparrow",
                  "0.1": 1,
                  "1.1": 0,
                  "0.2": 1,
                  "0.3": 0,
                  "1.2": 0,
                  "1.3": 0,
                  "1.4": 1,
                  "1.5": 1,
                  "0.4": 0,
                  "0.5": 0,
                  "0.6": 1,
                  "0.7": 0,
                  "1.6": 0,
                  "1.7": 2,
                  "_deepnote_index_column": 82
                },
                {
                  "0": 0,
                  "1": 1,
                  "4": 2,
                  "aardvark": "squirrel",
                  "0.1": 0,
                  "1.1": 1,
                  "0.2": 0,
                  "0.3": 0,
                  "1.2": 0,
                  "1.3": 1,
                  "1.4": 1,
                  "1.5": 1,
                  "0.4": 0,
                  "0.5": 0,
                  "0.6": 1,
                  "0.7": 0,
                  "1.6": 0,
                  "1.7": 1,
                  "_deepnote_index_column": 83
                },
                {
                  "0": 0,
                  "1": 0,
                  "4": 5,
                  "aardvark": "starfish",
                  "0.1": 1,
                  "1.1": 0,
                  "0.2": 0,
                  "0.3": 1,
                  "1.2": 1,
                  "1.3": 0,
                  "1.4": 0,
                  "1.5": 0,
                  "0.4": 0,
                  "0.5": 0,
                  "0.6": 0,
                  "0.7": 0,
                  "1.6": 0,
                  "1.7": 7,
                  "_deepnote_index_column": 84
                },
                {
                  "0": 0,
                  "1": 0,
                  "4": 0,
                  "aardvark": "stingray",
                  "0.1": 1,
                  "1.1": 0,
                  "0.2": 0,
                  "0.3": 1,
                  "1.2": 1,
                  "1.3": 1,
                  "1.4": 1,
                  "1.5": 0,
                  "0.4": 1,
                  "0.5": 1,
                  "0.6": 1,
                  "0.7": 0,
                  "1.6": 1,
                  "1.7": 4,
                  "_deepnote_index_column": 85
                },
                {
                  "0": 1,
                  "1": 0,
                  "4": 2,
                  "aardvark": "swan",
                  "0.1": 1,
                  "1.1": 0,
                  "0.2": 1,
                  "0.3": 1,
                  "1.2": 0,
                  "1.3": 0,
                  "1.4": 1,
                  "1.5": 1,
                  "0.4": 0,
                  "0.5": 0,
                  "0.6": 1,
                  "0.7": 0,
                  "1.6": 1,
                  "1.7": 2,
                  "_deepnote_index_column": 86
                },
                {
                  "0": 0,
                  "1": 0,
                  "4": 6,
                  "aardvark": "termite",
                  "0.1": 1,
                  "1.1": 0,
                  "0.2": 0,
                  "0.3": 0,
                  "1.2": 0,
                  "1.3": 0,
                  "1.4": 0,
                  "1.5": 1,
                  "0.4": 0,
                  "0.5": 0,
                  "0.6": 0,
                  "0.7": 0,
                  "1.6": 0,
                  "1.7": 6,
                  "_deepnote_index_column": 87
                },
                {
                  "0": 0,
                  "1": 0,
                  "4": 4,
                  "aardvark": "toad",
                  "0.1": 1,
                  "1.1": 0,
                  "0.2": 0,
                  "0.3": 1,
                  "1.2": 0,
                  "1.3": 1,
                  "1.4": 1,
                  "1.5": 1,
                  "0.4": 0,
                  "0.5": 0,
                  "0.6": 0,
                  "0.7": 0,
                  "1.6": 0,
                  "1.7": 5,
                  "_deepnote_index_column": 88
                },
                {
                  "0": 0,
                  "1": 0,
                  "4": 4,
                  "aardvark": "tortoise",
                  "0.1": 1,
                  "1.1": 0,
                  "0.2": 0,
                  "0.3": 0,
                  "1.2": 0,
                  "1.3": 0,
                  "1.4": 1,
                  "1.5": 1,
                  "0.4": 0,
                  "0.5": 0,
                  "0.6": 1,
                  "0.7": 0,
                  "1.6": 1,
                  "1.7": 3,
                  "_deepnote_index_column": 89
                },
                {
                  "0": 0,
                  "1": 0,
                  "4": 4,
                  "aardvark": "tuatara",
                  "0.1": 1,
                  "1.1": 0,
                  "0.2": 0,
                  "0.3": 0,
                  "1.2": 1,
                  "1.3": 1,
                  "1.4": 1,
                  "1.5": 1,
                  "0.4": 0,
                  "0.5": 0,
                  "0.6": 1,
                  "0.7": 0,
                  "1.6": 0,
                  "1.7": 3,
                  "_deepnote_index_column": 90
                },
                {
                  "0": 0,
                  "1": 0,
                  "4": 0,
                  "aardvark": "tuna",
                  "0.1": 1,
                  "1.1": 0,
                  "0.2": 0,
                  "0.3": 1,
                  "1.2": 1,
                  "1.3": 1,
                  "1.4": 1,
                  "1.5": 0,
                  "0.4": 0,
                  "0.5": 1,
                  "0.6": 1,
                  "0.7": 0,
                  "1.6": 1,
                  "1.7": 4,
                  "_deepnote_index_column": 91
                },
                {
                  "0": 0,
                  "1": 1,
                  "4": 2,
                  "aardvark": "vampire",
                  "0.1": 0,
                  "1.1": 1,
                  "0.2": 1,
                  "0.3": 0,
                  "1.2": 0,
                  "1.3": 1,
                  "1.4": 1,
                  "1.5": 1,
                  "0.4": 0,
                  "0.5": 0,
                  "0.6": 1,
                  "0.7": 0,
                  "1.6": 0,
                  "1.7": 1,
                  "_deepnote_index_column": 92
                },
                {
                  "0": 0,
                  "1": 1,
                  "4": 4,
                  "aardvark": "vole",
                  "0.1": 0,
                  "1.1": 1,
                  "0.2": 0,
                  "0.3": 0,
                  "1.2": 0,
                  "1.3": 1,
                  "1.4": 1,
                  "1.5": 1,
                  "0.4": 0,
                  "0.5": 0,
                  "0.6": 1,
                  "0.7": 0,
                  "1.6": 0,
                  "1.7": 1,
                  "_deepnote_index_column": 93
                },
                {
                  "0": 1,
                  "1": 0,
                  "4": 2,
                  "aardvark": "vulture",
                  "0.1": 1,
                  "1.1": 0,
                  "0.2": 1,
                  "0.3": 0,
                  "1.2": 1,
                  "1.3": 0,
                  "1.4": 1,
                  "1.5": 1,
                  "0.4": 0,
                  "0.5": 0,
                  "0.6": 1,
                  "0.7": 0,
                  "1.6": 1,
                  "1.7": 2,
                  "_deepnote_index_column": 94
                },
                {
                  "0": 0,
                  "1": 1,
                  "4": 2,
                  "aardvark": "wallaby",
                  "0.1": 0,
                  "1.1": 1,
                  "0.2": 0,
                  "0.3": 0,
                  "1.2": 0,
                  "1.3": 1,
                  "1.4": 1,
                  "1.5": 1,
                  "0.4": 0,
                  "0.5": 0,
                  "0.6": 1,
                  "0.7": 0,
                  "1.6": 1,
                  "1.7": 1,
                  "_deepnote_index_column": 95
                },
                {
                  "0": 0,
                  "1": 1,
                  "4": 6,
                  "aardvark": "wasp",
                  "0.1": 1,
                  "1.1": 0,
                  "0.2": 1,
                  "0.3": 0,
                  "1.2": 0,
                  "1.3": 0,
                  "1.4": 0,
                  "1.5": 1,
                  "0.4": 1,
                  "0.5": 0,
                  "0.6": 0,
                  "0.7": 0,
                  "1.6": 0,
                  "1.7": 6,
                  "_deepnote_index_column": 96
                },
                {
                  "0": 0,
                  "1": 1,
                  "4": 4,
                  "aardvark": "wolf",
                  "0.1": 0,
                  "1.1": 1,
                  "0.2": 0,
                  "0.3": 0,
                  "1.2": 1,
                  "1.3": 1,
                  "1.4": 1,
                  "1.5": 1,
                  "0.4": 0,
                  "0.5": 0,
                  "0.6": 1,
                  "0.7": 0,
                  "1.6": 1,
                  "1.7": 1,
                  "_deepnote_index_column": 97
                },
                {
                  "0": 0,
                  "1": 0,
                  "4": 0,
                  "aardvark": "worm",
                  "0.1": 1,
                  "1.1": 0,
                  "0.2": 0,
                  "0.3": 0,
                  "1.2": 0,
                  "1.3": 0,
                  "1.4": 0,
                  "1.5": 1,
                  "0.4": 0,
                  "0.5": 0,
                  "0.6": 0,
                  "0.7": 0,
                  "1.6": 0,
                  "1.7": 7,
                  "_deepnote_index_column": 98
                },
                {
                  "0": 1,
                  "1": 0,
                  "4": 2,
                  "aardvark": "wren",
                  "0.1": 1,
                  "1.1": 0,
                  "0.2": 1,
                  "0.3": 0,
                  "1.2": 0,
                  "1.3": 0,
                  "1.4": 1,
                  "1.5": 1,
                  "0.4": 0,
                  "0.5": 0,
                  "0.6": 1,
                  "0.7": 0,
                  "1.6": 0,
                  "1.7": 2,
                  "_deepnote_index_column": 99
                }
              ]
            },
            "text/plain": "    aardvark  1  0  0.1  1.1  0.2  0.3  1.2  1.3  1.4  1.5  0.4  0.5  4  0.6  \\\n0   antelope  1  0    0    1    0    0    0    1    1    1    0    0  4    1   \n1       bass  0  0    1    0    0    1    1    1    1    0    0    1  0    1   \n2       bear  1  0    0    1    0    0    1    1    1    1    0    0  4    0   \n3       boar  1  0    0    1    0    0    1    1    1    1    0    0  4    1   \n4    buffalo  1  0    0    1    0    0    0    1    1    1    0    0  4    1   \n..       ... .. ..  ...  ...  ...  ...  ...  ...  ...  ...  ...  ... ..  ...   \n95   wallaby  1  0    0    1    0    0    0    1    1    1    0    0  2    1   \n96      wasp  1  0    1    0    1    0    0    0    0    1    1    0  6    0   \n97      wolf  1  0    0    1    0    0    1    1    1    1    0    0  4    1   \n98      worm  0  0    1    0    0    0    0    0    0    1    0    0  0    0   \n99      wren  0  1    1    0    1    0    0    0    1    1    0    0  2    1   \n\n    0.7  1.6  1.7  \n0     0    1    1  \n1     0    0    4  \n2     0    1    1  \n3     0    1    1  \n4     0    1    1  \n..  ...  ...  ...  \n95    0    1    1  \n96    0    0    6  \n97    0    1    1  \n98    0    0    7  \n99    0    0    2  \n\n[100 rows x 18 columns]",
            "text/html": "<div>\n<style scoped>\n    .dataframe tbody tr th:only-of-type {\n        vertical-align: middle;\n    }\n\n    .dataframe tbody tr th {\n        vertical-align: top;\n    }\n\n    .dataframe thead th {\n        text-align: right;\n    }\n</style>\n<table border=\"1\" class=\"dataframe\">\n  <thead>\n    <tr style=\"text-align: right;\">\n      <th></th>\n      <th>aardvark</th>\n      <th>1</th>\n      <th>0</th>\n      <th>0.1</th>\n      <th>1.1</th>\n      <th>0.2</th>\n      <th>0.3</th>\n      <th>1.2</th>\n      <th>1.3</th>\n      <th>1.4</th>\n      <th>1.5</th>\n      <th>0.4</th>\n      <th>0.5</th>\n      <th>4</th>\n      <th>0.6</th>\n      <th>0.7</th>\n      <th>1.6</th>\n      <th>1.7</th>\n    </tr>\n  </thead>\n  <tbody>\n    <tr>\n      <th>0</th>\n      <td>antelope</td>\n      <td>1</td>\n      <td>0</td>\n      <td>0</td>\n      <td>1</td>\n      <td>0</td>\n      <td>0</td>\n      <td>0</td>\n      <td>1</td>\n      <td>1</td>\n      <td>1</td>\n      <td>0</td>\n      <td>0</td>\n      <td>4</td>\n      <td>1</td>\n      <td>0</td>\n      <td>1</td>\n      <td>1</td>\n    </tr>\n    <tr>\n      <th>1</th>\n      <td>bass</td>\n      <td>0</td>\n      <td>0</td>\n      <td>1</td>\n      <td>0</td>\n      <td>0</td>\n      <td>1</td>\n      <td>1</td>\n      <td>1</td>\n      <td>1</td>\n      <td>0</td>\n      <td>0</td>\n      <td>1</td>\n      <td>0</td>\n      <td>1</td>\n      <td>0</td>\n      <td>0</td>\n      <td>4</td>\n    </tr>\n    <tr>\n      <th>2</th>\n      <td>bear</td>\n      <td>1</td>\n      <td>0</td>\n      <td>0</td>\n      <td>1</td>\n      <td>0</td>\n      <td>0</td>\n      <td>1</td>\n      <td>1</td>\n      <td>1</td>\n      <td>1</td>\n      <td>0</td>\n      <td>0</td>\n      <td>4</td>\n      <td>0</td>\n      <td>0</td>\n      <td>1</td>\n      <td>1</td>\n    </tr>\n    <tr>\n      <th>3</th>\n      <td>boar</td>\n      <td>1</td>\n      <td>0</td>\n      <td>0</td>\n      <td>1</td>\n      <td>0</td>\n      <td>0</td>\n      <td>1</td>\n      <td>1</td>\n      <td>1</td>\n      <td>1</td>\n      <td>0</td>\n      <td>0</td>\n      <td>4</td>\n      <td>1</td>\n      <td>0</td>\n      <td>1</td>\n      <td>1</td>\n    </tr>\n    <tr>\n      <th>4</th>\n      <td>buffalo</td>\n      <td>1</td>\n      <td>0</td>\n      <td>0</td>\n      <td>1</td>\n      <td>0</td>\n      <td>0</td>\n      <td>0</td>\n      <td>1</td>\n      <td>1</td>\n      <td>1</td>\n      <td>0</td>\n      <td>0</td>\n      <td>4</td>\n      <td>1</td>\n      <td>0</td>\n      <td>1</td>\n      <td>1</td>\n    </tr>\n    <tr>\n      <th>...</th>\n      <td>...</td>\n      <td>...</td>\n      <td>...</td>\n      <td>...</td>\n      <td>...</td>\n      <td>...</td>\n      <td>...</td>\n      <td>...</td>\n      <td>...</td>\n      <td>...</td>\n      <td>...</td>\n      <td>...</td>\n      <td>...</td>\n      <td>...</td>\n      <td>...</td>\n      <td>...</td>\n      <td>...</td>\n      <td>...</td>\n    </tr>\n    <tr>\n      <th>95</th>\n      <td>wallaby</td>\n      <td>1</td>\n      <td>0</td>\n      <td>0</td>\n      <td>1</td>\n      <td>0</td>\n      <td>0</td>\n      <td>0</td>\n      <td>1</td>\n      <td>1</td>\n      <td>1</td>\n      <td>0</td>\n      <td>0</td>\n      <td>2</td>\n      <td>1</td>\n      <td>0</td>\n      <td>1</td>\n      <td>1</td>\n    </tr>\n    <tr>\n      <th>96</th>\n      <td>wasp</td>\n      <td>1</td>\n      <td>0</td>\n      <td>1</td>\n      <td>0</td>\n      <td>1</td>\n      <td>0</td>\n      <td>0</td>\n      <td>0</td>\n      <td>0</td>\n      <td>1</td>\n      <td>1</td>\n      <td>0</td>\n      <td>6</td>\n      <td>0</td>\n      <td>0</td>\n      <td>0</td>\n      <td>6</td>\n    </tr>\n    <tr>\n      <th>97</th>\n      <td>wolf</td>\n      <td>1</td>\n      <td>0</td>\n      <td>0</td>\n      <td>1</td>\n      <td>0</td>\n      <td>0</td>\n      <td>1</td>\n      <td>1</td>\n      <td>1</td>\n      <td>1</td>\n      <td>0</td>\n      <td>0</td>\n      <td>4</td>\n      <td>1</td>\n      <td>0</td>\n      <td>1</td>\n      <td>1</td>\n    </tr>\n    <tr>\n      <th>98</th>\n      <td>worm</td>\n      <td>0</td>\n      <td>0</td>\n      <td>1</td>\n      <td>0</td>\n      <td>0</td>\n      <td>0</td>\n      <td>0</td>\n      <td>0</td>\n      <td>0</td>\n      <td>1</td>\n      <td>0</td>\n      <td>0</td>\n      <td>0</td>\n      <td>0</td>\n      <td>0</td>\n      <td>0</td>\n      <td>7</td>\n    </tr>\n    <tr>\n      <th>99</th>\n      <td>wren</td>\n      <td>0</td>\n      <td>1</td>\n      <td>1</td>\n      <td>0</td>\n      <td>1</td>\n      <td>0</td>\n      <td>0</td>\n      <td>0</td>\n      <td>1</td>\n      <td>1</td>\n      <td>0</td>\n      <td>0</td>\n      <td>2</td>\n      <td>1</td>\n      <td>0</td>\n      <td>0</td>\n      <td>2</td>\n    </tr>\n  </tbody>\n</table>\n<p>100 rows × 18 columns</p>\n</div>"
          },
          "metadata": {}
        }
      ],
      "execution_count": 20
    },
    {
      "cell_type": "code",
      "source": "X, y = ds.data, ds.target\n#accuracy= []\nfor i in range(1,10):\n    clf = tree.DecisionTreeClassifier(criterion = 'entropy', max_depth = i)\n    plt.figure()\n    #tree.plot_tree(clf,filled=True)\n    clf = clf.fit(X, y)\n    tree.plot_tree(clf) \n    #plt.savefig('tree.eps',format='eps',bbox_inches = \"tight\") ",
      "metadata": {
        "tags": [],
        "cell_id": "00003-7a99329f-8260-406f-a389-015bf26aebac",
        "deepnote_cell_type": "code"
      },
      "outputs": [],
      "execution_count": null
    },
    {
      "cell_type": "code",
      "source": "header_list = [\"animal_name\",\n               \"hair\",\n               \"feathers\",\n               \"eggs\",\n               \"milk\",\n               \"airborne\",\n               \"aquatic\",\n               \"predator\",\n               \"toothed\",\n               \"breathes\",\n               \"backbone\",\n               \"venomous\",\n               \"fins\",\n               \"legs\",\n               \"tail\",\n               \"domestic\",\n               \"catsize\",\n               \"type\"\n              ]\ndf = pd.read_csv(\"zoo.data\", names=header_list)\n",
      "metadata": {
        "tags": [],
        "cell_id": "00006-a50f7843-6402-460b-91ad-911c19e30903",
        "deepnote_to_be_reexecuted": false,
        "source_hash": "d3693dd7",
        "execution_start": 1619615150098,
        "execution_millis": 0,
        "deepnote_cell_type": "code"
      },
      "outputs": [],
      "execution_count": 21
    },
    {
      "cell_type": "markdown",
      "source": "Class -- Set of animals:\n\n1 -- (41) aardvark, antelope, bear, boar, buffalo, calf, cavy, cheetah, deer, dolphin, elephant, fruitbat, giraffe, girl, goat, gorilla, hamster, hare, leopard, lion, lynx, mink, mole, mongoose, opossum, oryx, platypus, polecat, pony, porpoise, puma, pussycat, raccoon, reindeer, seal, sealion, squirrel, vampire, vole, wallaby,wolf\n\n2 -- (20) chicken, crow, dove, duck, flamingo, gull, hawk, kiwi, lark, ostrich, parakeet, penguin, pheasant, rhea, skimmer, skua, sparrow, swan, vulture, wren\n\n3 -- (5) pitviper, seasnake, slowworm, tortoise, tuatara\n\n4 -- (13) bass, carp, catfish, chub, dogfish, haddock, herring, pike, piranha, seahorse, sole, stingray, tuna\n\n5 -- (4) frog, frog, newt, toad\n\n6 -- (8) flea, gnat, honeybee, housefly, ladybird, moth, termite, wasp\n\n7 -- (10) clam, crab, crayfish, lobster, octopus, scorpion, seawasp, slug, starfish, worm",
      "metadata": {
        "tags": [],
        "cell_id": "00007-ba716d61-ece6-4169-ab7b-d961acf6dd71",
        "deepnote_cell_type": "markdown"
      }
    },
    {
      "cell_type": "code",
      "source": "df.head()\n\n",
      "metadata": {
        "tags": [],
        "cell_id": "00007-1e0a2286-58b5-4028-9f33-09c366ee2faf",
        "deepnote_to_be_reexecuted": false,
        "source_hash": "317dcb68",
        "execution_start": 1619616178181,
        "execution_millis": 42,
        "deepnote_cell_type": "code"
      },
      "outputs": [
        {
          "output_type": "execute_result",
          "execution_count": 35,
          "data": {
            "application/vnd.deepnote.dataframe.v2+json": {
              "row_count": 5,
              "column_count": 18,
              "columns": [
                {
                  "name": "animal_name",
                  "dtype": "object",
                  "stats": {
                    "unique_count": 5,
                    "nan_count": 0,
                    "categories": [
                      {
                        "name": "aardvark",
                        "count": 1
                      },
                      {
                        "name": "antelope",
                        "count": 1
                      },
                      {
                        "name": "3 others",
                        "count": 3
                      }
                    ]
                  }
                },
                {
                  "name": "hair",
                  "dtype": "int64",
                  "stats": {
                    "unique_count": 2,
                    "nan_count": 0,
                    "min": "0",
                    "max": "1",
                    "histogram": [
                      {
                        "bin_start": 0,
                        "bin_end": 0.1,
                        "count": 1
                      },
                      {
                        "bin_start": 0.1,
                        "bin_end": 0.2,
                        "count": 0
                      },
                      {
                        "bin_start": 0.2,
                        "bin_end": 0.30000000000000004,
                        "count": 0
                      },
                      {
                        "bin_start": 0.30000000000000004,
                        "bin_end": 0.4,
                        "count": 0
                      },
                      {
                        "bin_start": 0.4,
                        "bin_end": 0.5,
                        "count": 0
                      },
                      {
                        "bin_start": 0.5,
                        "bin_end": 0.6000000000000001,
                        "count": 0
                      },
                      {
                        "bin_start": 0.6000000000000001,
                        "bin_end": 0.7000000000000001,
                        "count": 0
                      },
                      {
                        "bin_start": 0.7000000000000001,
                        "bin_end": 0.8,
                        "count": 0
                      },
                      {
                        "bin_start": 0.8,
                        "bin_end": 0.9,
                        "count": 0
                      },
                      {
                        "bin_start": 0.9,
                        "bin_end": 1,
                        "count": 4
                      }
                    ]
                  }
                },
                {
                  "name": "feathers",
                  "dtype": "int64",
                  "stats": {
                    "unique_count": 1,
                    "nan_count": 0,
                    "min": "0",
                    "max": "0",
                    "histogram": [
                      {
                        "bin_start": -0.5,
                        "bin_end": -0.4,
                        "count": 0
                      },
                      {
                        "bin_start": -0.4,
                        "bin_end": -0.3,
                        "count": 0
                      },
                      {
                        "bin_start": -0.3,
                        "bin_end": -0.19999999999999996,
                        "count": 0
                      },
                      {
                        "bin_start": -0.19999999999999996,
                        "bin_end": -0.09999999999999998,
                        "count": 0
                      },
                      {
                        "bin_start": -0.09999999999999998,
                        "bin_end": 0,
                        "count": 0
                      },
                      {
                        "bin_start": 0,
                        "bin_end": 0.10000000000000009,
                        "count": 5
                      },
                      {
                        "bin_start": 0.10000000000000009,
                        "bin_end": 0.20000000000000007,
                        "count": 0
                      },
                      {
                        "bin_start": 0.20000000000000007,
                        "bin_end": 0.30000000000000004,
                        "count": 0
                      },
                      {
                        "bin_start": 0.30000000000000004,
                        "bin_end": 0.4,
                        "count": 0
                      },
                      {
                        "bin_start": 0.4,
                        "bin_end": 0.5,
                        "count": 0
                      }
                    ]
                  }
                },
                {
                  "name": "eggs",
                  "dtype": "int64",
                  "stats": {
                    "unique_count": 2,
                    "nan_count": 0,
                    "min": "0",
                    "max": "1",
                    "histogram": [
                      {
                        "bin_start": 0,
                        "bin_end": 0.1,
                        "count": 4
                      },
                      {
                        "bin_start": 0.1,
                        "bin_end": 0.2,
                        "count": 0
                      },
                      {
                        "bin_start": 0.2,
                        "bin_end": 0.30000000000000004,
                        "count": 0
                      },
                      {
                        "bin_start": 0.30000000000000004,
                        "bin_end": 0.4,
                        "count": 0
                      },
                      {
                        "bin_start": 0.4,
                        "bin_end": 0.5,
                        "count": 0
                      },
                      {
                        "bin_start": 0.5,
                        "bin_end": 0.6000000000000001,
                        "count": 0
                      },
                      {
                        "bin_start": 0.6000000000000001,
                        "bin_end": 0.7000000000000001,
                        "count": 0
                      },
                      {
                        "bin_start": 0.7000000000000001,
                        "bin_end": 0.8,
                        "count": 0
                      },
                      {
                        "bin_start": 0.8,
                        "bin_end": 0.9,
                        "count": 0
                      },
                      {
                        "bin_start": 0.9,
                        "bin_end": 1,
                        "count": 1
                      }
                    ]
                  }
                },
                {
                  "name": "milk",
                  "dtype": "int64",
                  "stats": {
                    "unique_count": 2,
                    "nan_count": 0,
                    "min": "0",
                    "max": "1",
                    "histogram": [
                      {
                        "bin_start": 0,
                        "bin_end": 0.1,
                        "count": 1
                      },
                      {
                        "bin_start": 0.1,
                        "bin_end": 0.2,
                        "count": 0
                      },
                      {
                        "bin_start": 0.2,
                        "bin_end": 0.30000000000000004,
                        "count": 0
                      },
                      {
                        "bin_start": 0.30000000000000004,
                        "bin_end": 0.4,
                        "count": 0
                      },
                      {
                        "bin_start": 0.4,
                        "bin_end": 0.5,
                        "count": 0
                      },
                      {
                        "bin_start": 0.5,
                        "bin_end": 0.6000000000000001,
                        "count": 0
                      },
                      {
                        "bin_start": 0.6000000000000001,
                        "bin_end": 0.7000000000000001,
                        "count": 0
                      },
                      {
                        "bin_start": 0.7000000000000001,
                        "bin_end": 0.8,
                        "count": 0
                      },
                      {
                        "bin_start": 0.8,
                        "bin_end": 0.9,
                        "count": 0
                      },
                      {
                        "bin_start": 0.9,
                        "bin_end": 1,
                        "count": 4
                      }
                    ]
                  }
                },
                {
                  "name": "airborne",
                  "dtype": "int64",
                  "stats": {
                    "unique_count": 1,
                    "nan_count": 0,
                    "min": "0",
                    "max": "0",
                    "histogram": [
                      {
                        "bin_start": -0.5,
                        "bin_end": -0.4,
                        "count": 0
                      },
                      {
                        "bin_start": -0.4,
                        "bin_end": -0.3,
                        "count": 0
                      },
                      {
                        "bin_start": -0.3,
                        "bin_end": -0.19999999999999996,
                        "count": 0
                      },
                      {
                        "bin_start": -0.19999999999999996,
                        "bin_end": -0.09999999999999998,
                        "count": 0
                      },
                      {
                        "bin_start": -0.09999999999999998,
                        "bin_end": 0,
                        "count": 0
                      },
                      {
                        "bin_start": 0,
                        "bin_end": 0.10000000000000009,
                        "count": 5
                      },
                      {
                        "bin_start": 0.10000000000000009,
                        "bin_end": 0.20000000000000007,
                        "count": 0
                      },
                      {
                        "bin_start": 0.20000000000000007,
                        "bin_end": 0.30000000000000004,
                        "count": 0
                      },
                      {
                        "bin_start": 0.30000000000000004,
                        "bin_end": 0.4,
                        "count": 0
                      },
                      {
                        "bin_start": 0.4,
                        "bin_end": 0.5,
                        "count": 0
                      }
                    ]
                  }
                },
                {
                  "name": "aquatic",
                  "dtype": "int64",
                  "stats": {
                    "unique_count": 2,
                    "nan_count": 0,
                    "min": "0",
                    "max": "1",
                    "histogram": [
                      {
                        "bin_start": 0,
                        "bin_end": 0.1,
                        "count": 4
                      },
                      {
                        "bin_start": 0.1,
                        "bin_end": 0.2,
                        "count": 0
                      },
                      {
                        "bin_start": 0.2,
                        "bin_end": 0.30000000000000004,
                        "count": 0
                      },
                      {
                        "bin_start": 0.30000000000000004,
                        "bin_end": 0.4,
                        "count": 0
                      },
                      {
                        "bin_start": 0.4,
                        "bin_end": 0.5,
                        "count": 0
                      },
                      {
                        "bin_start": 0.5,
                        "bin_end": 0.6000000000000001,
                        "count": 0
                      },
                      {
                        "bin_start": 0.6000000000000001,
                        "bin_end": 0.7000000000000001,
                        "count": 0
                      },
                      {
                        "bin_start": 0.7000000000000001,
                        "bin_end": 0.8,
                        "count": 0
                      },
                      {
                        "bin_start": 0.8,
                        "bin_end": 0.9,
                        "count": 0
                      },
                      {
                        "bin_start": 0.9,
                        "bin_end": 1,
                        "count": 1
                      }
                    ]
                  }
                },
                {
                  "name": "predator",
                  "dtype": "int64",
                  "stats": {
                    "unique_count": 2,
                    "nan_count": 0,
                    "min": "0",
                    "max": "1",
                    "histogram": [
                      {
                        "bin_start": 0,
                        "bin_end": 0.1,
                        "count": 1
                      },
                      {
                        "bin_start": 0.1,
                        "bin_end": 0.2,
                        "count": 0
                      },
                      {
                        "bin_start": 0.2,
                        "bin_end": 0.30000000000000004,
                        "count": 0
                      },
                      {
                        "bin_start": 0.30000000000000004,
                        "bin_end": 0.4,
                        "count": 0
                      },
                      {
                        "bin_start": 0.4,
                        "bin_end": 0.5,
                        "count": 0
                      },
                      {
                        "bin_start": 0.5,
                        "bin_end": 0.6000000000000001,
                        "count": 0
                      },
                      {
                        "bin_start": 0.6000000000000001,
                        "bin_end": 0.7000000000000001,
                        "count": 0
                      },
                      {
                        "bin_start": 0.7000000000000001,
                        "bin_end": 0.8,
                        "count": 0
                      },
                      {
                        "bin_start": 0.8,
                        "bin_end": 0.9,
                        "count": 0
                      },
                      {
                        "bin_start": 0.9,
                        "bin_end": 1,
                        "count": 4
                      }
                    ]
                  }
                },
                {
                  "name": "toothed",
                  "dtype": "int64",
                  "stats": {
                    "unique_count": 1,
                    "nan_count": 0,
                    "min": "1",
                    "max": "1",
                    "histogram": [
                      {
                        "bin_start": 0.5,
                        "bin_end": 0.6,
                        "count": 0
                      },
                      {
                        "bin_start": 0.6,
                        "bin_end": 0.7,
                        "count": 0
                      },
                      {
                        "bin_start": 0.7,
                        "bin_end": 0.8,
                        "count": 0
                      },
                      {
                        "bin_start": 0.8,
                        "bin_end": 0.9,
                        "count": 0
                      },
                      {
                        "bin_start": 0.9,
                        "bin_end": 1,
                        "count": 0
                      },
                      {
                        "bin_start": 1,
                        "bin_end": 1.1,
                        "count": 5
                      },
                      {
                        "bin_start": 1.1,
                        "bin_end": 1.2000000000000002,
                        "count": 0
                      },
                      {
                        "bin_start": 1.2000000000000002,
                        "bin_end": 1.3,
                        "count": 0
                      },
                      {
                        "bin_start": 1.3,
                        "bin_end": 1.4,
                        "count": 0
                      },
                      {
                        "bin_start": 1.4,
                        "bin_end": 1.5,
                        "count": 0
                      }
                    ]
                  }
                },
                {
                  "name": "breathes",
                  "dtype": "int64",
                  "stats": {
                    "unique_count": 1,
                    "nan_count": 0,
                    "min": "1",
                    "max": "1",
                    "histogram": [
                      {
                        "bin_start": 0.5,
                        "bin_end": 0.6,
                        "count": 0
                      },
                      {
                        "bin_start": 0.6,
                        "bin_end": 0.7,
                        "count": 0
                      },
                      {
                        "bin_start": 0.7,
                        "bin_end": 0.8,
                        "count": 0
                      },
                      {
                        "bin_start": 0.8,
                        "bin_end": 0.9,
                        "count": 0
                      },
                      {
                        "bin_start": 0.9,
                        "bin_end": 1,
                        "count": 0
                      },
                      {
                        "bin_start": 1,
                        "bin_end": 1.1,
                        "count": 5
                      },
                      {
                        "bin_start": 1.1,
                        "bin_end": 1.2000000000000002,
                        "count": 0
                      },
                      {
                        "bin_start": 1.2000000000000002,
                        "bin_end": 1.3,
                        "count": 0
                      },
                      {
                        "bin_start": 1.3,
                        "bin_end": 1.4,
                        "count": 0
                      },
                      {
                        "bin_start": 1.4,
                        "bin_end": 1.5,
                        "count": 0
                      }
                    ]
                  }
                },
                {
                  "name": "backbone",
                  "dtype": "int64",
                  "stats": {
                    "unique_count": 2,
                    "nan_count": 0,
                    "min": "0",
                    "max": "1",
                    "histogram": [
                      {
                        "bin_start": 0,
                        "bin_end": 0.1,
                        "count": 1
                      },
                      {
                        "bin_start": 0.1,
                        "bin_end": 0.2,
                        "count": 0
                      },
                      {
                        "bin_start": 0.2,
                        "bin_end": 0.30000000000000004,
                        "count": 0
                      },
                      {
                        "bin_start": 0.30000000000000004,
                        "bin_end": 0.4,
                        "count": 0
                      },
                      {
                        "bin_start": 0.4,
                        "bin_end": 0.5,
                        "count": 0
                      },
                      {
                        "bin_start": 0.5,
                        "bin_end": 0.6000000000000001,
                        "count": 0
                      },
                      {
                        "bin_start": 0.6000000000000001,
                        "bin_end": 0.7000000000000001,
                        "count": 0
                      },
                      {
                        "bin_start": 0.7000000000000001,
                        "bin_end": 0.8,
                        "count": 0
                      },
                      {
                        "bin_start": 0.8,
                        "bin_end": 0.9,
                        "count": 0
                      },
                      {
                        "bin_start": 0.9,
                        "bin_end": 1,
                        "count": 4
                      }
                    ]
                  }
                },
                {
                  "name": "venomous",
                  "dtype": "int64",
                  "stats": {
                    "unique_count": 1,
                    "nan_count": 0,
                    "min": "0",
                    "max": "0",
                    "histogram": [
                      {
                        "bin_start": -0.5,
                        "bin_end": -0.4,
                        "count": 0
                      },
                      {
                        "bin_start": -0.4,
                        "bin_end": -0.3,
                        "count": 0
                      },
                      {
                        "bin_start": -0.3,
                        "bin_end": -0.19999999999999996,
                        "count": 0
                      },
                      {
                        "bin_start": -0.19999999999999996,
                        "bin_end": -0.09999999999999998,
                        "count": 0
                      },
                      {
                        "bin_start": -0.09999999999999998,
                        "bin_end": 0,
                        "count": 0
                      },
                      {
                        "bin_start": 0,
                        "bin_end": 0.10000000000000009,
                        "count": 5
                      },
                      {
                        "bin_start": 0.10000000000000009,
                        "bin_end": 0.20000000000000007,
                        "count": 0
                      },
                      {
                        "bin_start": 0.20000000000000007,
                        "bin_end": 0.30000000000000004,
                        "count": 0
                      },
                      {
                        "bin_start": 0.30000000000000004,
                        "bin_end": 0.4,
                        "count": 0
                      },
                      {
                        "bin_start": 0.4,
                        "bin_end": 0.5,
                        "count": 0
                      }
                    ]
                  }
                },
                {
                  "name": "fins",
                  "dtype": "int64",
                  "stats": {
                    "unique_count": 2,
                    "nan_count": 0,
                    "min": "0",
                    "max": "1",
                    "histogram": [
                      {
                        "bin_start": 0,
                        "bin_end": 0.1,
                        "count": 4
                      },
                      {
                        "bin_start": 0.1,
                        "bin_end": 0.2,
                        "count": 0
                      },
                      {
                        "bin_start": 0.2,
                        "bin_end": 0.30000000000000004,
                        "count": 0
                      },
                      {
                        "bin_start": 0.30000000000000004,
                        "bin_end": 0.4,
                        "count": 0
                      },
                      {
                        "bin_start": 0.4,
                        "bin_end": 0.5,
                        "count": 0
                      },
                      {
                        "bin_start": 0.5,
                        "bin_end": 0.6000000000000001,
                        "count": 0
                      },
                      {
                        "bin_start": 0.6000000000000001,
                        "bin_end": 0.7000000000000001,
                        "count": 0
                      },
                      {
                        "bin_start": 0.7000000000000001,
                        "bin_end": 0.8,
                        "count": 0
                      },
                      {
                        "bin_start": 0.8,
                        "bin_end": 0.9,
                        "count": 0
                      },
                      {
                        "bin_start": 0.9,
                        "bin_end": 1,
                        "count": 1
                      }
                    ]
                  }
                },
                {
                  "name": "legs",
                  "dtype": "int64",
                  "stats": {
                    "unique_count": 2,
                    "nan_count": 0,
                    "min": "0",
                    "max": "4",
                    "histogram": [
                      {
                        "bin_start": 0,
                        "bin_end": 0.4,
                        "count": 1
                      },
                      {
                        "bin_start": 0.4,
                        "bin_end": 0.8,
                        "count": 0
                      },
                      {
                        "bin_start": 0.8,
                        "bin_end": 1.2000000000000002,
                        "count": 0
                      },
                      {
                        "bin_start": 1.2000000000000002,
                        "bin_end": 1.6,
                        "count": 0
                      },
                      {
                        "bin_start": 1.6,
                        "bin_end": 2,
                        "count": 0
                      },
                      {
                        "bin_start": 2,
                        "bin_end": 2.4000000000000004,
                        "count": 0
                      },
                      {
                        "bin_start": 2.4000000000000004,
                        "bin_end": 2.8000000000000003,
                        "count": 0
                      },
                      {
                        "bin_start": 2.8000000000000003,
                        "bin_end": 3.2,
                        "count": 0
                      },
                      {
                        "bin_start": 3.2,
                        "bin_end": 3.6,
                        "count": 0
                      },
                      {
                        "bin_start": 3.6,
                        "bin_end": 4,
                        "count": 4
                      }
                    ]
                  }
                },
                {
                  "name": "tail",
                  "dtype": "int64",
                  "stats": {
                    "unique_count": 2,
                    "nan_count": 0,
                    "min": "0",
                    "max": "1",
                    "histogram": [
                      {
                        "bin_start": 0,
                        "bin_end": 0.1,
                        "count": 2
                      },
                      {
                        "bin_start": 0.1,
                        "bin_end": 0.2,
                        "count": 0
                      },
                      {
                        "bin_start": 0.2,
                        "bin_end": 0.30000000000000004,
                        "count": 0
                      },
                      {
                        "bin_start": 0.30000000000000004,
                        "bin_end": 0.4,
                        "count": 0
                      },
                      {
                        "bin_start": 0.4,
                        "bin_end": 0.5,
                        "count": 0
                      },
                      {
                        "bin_start": 0.5,
                        "bin_end": 0.6000000000000001,
                        "count": 0
                      },
                      {
                        "bin_start": 0.6000000000000001,
                        "bin_end": 0.7000000000000001,
                        "count": 0
                      },
                      {
                        "bin_start": 0.7000000000000001,
                        "bin_end": 0.8,
                        "count": 0
                      },
                      {
                        "bin_start": 0.8,
                        "bin_end": 0.9,
                        "count": 0
                      },
                      {
                        "bin_start": 0.9,
                        "bin_end": 1,
                        "count": 3
                      }
                    ]
                  }
                },
                {
                  "name": "domestic",
                  "dtype": "int64",
                  "stats": {
                    "unique_count": 1,
                    "nan_count": 0,
                    "min": "0",
                    "max": "0",
                    "histogram": [
                      {
                        "bin_start": -0.5,
                        "bin_end": -0.4,
                        "count": 0
                      },
                      {
                        "bin_start": -0.4,
                        "bin_end": -0.3,
                        "count": 0
                      },
                      {
                        "bin_start": -0.3,
                        "bin_end": -0.19999999999999996,
                        "count": 0
                      },
                      {
                        "bin_start": -0.19999999999999996,
                        "bin_end": -0.09999999999999998,
                        "count": 0
                      },
                      {
                        "bin_start": -0.09999999999999998,
                        "bin_end": 0,
                        "count": 0
                      },
                      {
                        "bin_start": 0,
                        "bin_end": 0.10000000000000009,
                        "count": 5
                      },
                      {
                        "bin_start": 0.10000000000000009,
                        "bin_end": 0.20000000000000007,
                        "count": 0
                      },
                      {
                        "bin_start": 0.20000000000000007,
                        "bin_end": 0.30000000000000004,
                        "count": 0
                      },
                      {
                        "bin_start": 0.30000000000000004,
                        "bin_end": 0.4,
                        "count": 0
                      },
                      {
                        "bin_start": 0.4,
                        "bin_end": 0.5,
                        "count": 0
                      }
                    ]
                  }
                },
                {
                  "name": "catsize",
                  "dtype": "int64",
                  "stats": {
                    "unique_count": 2,
                    "nan_count": 0,
                    "min": "0",
                    "max": "1",
                    "histogram": [
                      {
                        "bin_start": 0,
                        "bin_end": 0.1,
                        "count": 1
                      },
                      {
                        "bin_start": 0.1,
                        "bin_end": 0.2,
                        "count": 0
                      },
                      {
                        "bin_start": 0.2,
                        "bin_end": 0.30000000000000004,
                        "count": 0
                      },
                      {
                        "bin_start": 0.30000000000000004,
                        "bin_end": 0.4,
                        "count": 0
                      },
                      {
                        "bin_start": 0.4,
                        "bin_end": 0.5,
                        "count": 0
                      },
                      {
                        "bin_start": 0.5,
                        "bin_end": 0.6000000000000001,
                        "count": 0
                      },
                      {
                        "bin_start": 0.6000000000000001,
                        "bin_end": 0.7000000000000001,
                        "count": 0
                      },
                      {
                        "bin_start": 0.7000000000000001,
                        "bin_end": 0.8,
                        "count": 0
                      },
                      {
                        "bin_start": 0.8,
                        "bin_end": 0.9,
                        "count": 0
                      },
                      {
                        "bin_start": 0.9,
                        "bin_end": 1,
                        "count": 4
                      }
                    ]
                  }
                },
                {
                  "name": "type",
                  "dtype": "int64",
                  "stats": {
                    "unique_count": 2,
                    "nan_count": 0,
                    "min": "1",
                    "max": "4",
                    "histogram": [
                      {
                        "bin_start": 1,
                        "bin_end": 1.3,
                        "count": 4
                      },
                      {
                        "bin_start": 1.3,
                        "bin_end": 1.6,
                        "count": 0
                      },
                      {
                        "bin_start": 1.6,
                        "bin_end": 1.9,
                        "count": 0
                      },
                      {
                        "bin_start": 1.9,
                        "bin_end": 2.2,
                        "count": 0
                      },
                      {
                        "bin_start": 2.2,
                        "bin_end": 2.5,
                        "count": 0
                      },
                      {
                        "bin_start": 2.5,
                        "bin_end": 2.8,
                        "count": 0
                      },
                      {
                        "bin_start": 2.8,
                        "bin_end": 3.1,
                        "count": 0
                      },
                      {
                        "bin_start": 3.1,
                        "bin_end": 3.4,
                        "count": 0
                      },
                      {
                        "bin_start": 3.4,
                        "bin_end": 3.6999999999999997,
                        "count": 0
                      },
                      {
                        "bin_start": 3.6999999999999997,
                        "bin_end": 4,
                        "count": 1
                      }
                    ]
                  }
                },
                {
                  "name": "_deepnote_index_column",
                  "dtype": "int64"
                }
              ],
              "rows_top": [
                {
                  "animal_name": "aardvark",
                  "hair": 1,
                  "feathers": 0,
                  "eggs": 0,
                  "milk": 1,
                  "airborne": 0,
                  "aquatic": 0,
                  "predator": 1,
                  "toothed": 1,
                  "breathes": 1,
                  "backbone": 1,
                  "venomous": 0,
                  "fins": 0,
                  "legs": 4,
                  "tail": 0,
                  "domestic": 0,
                  "catsize": 1,
                  "type": 1,
                  "_deepnote_index_column": 0
                },
                {
                  "animal_name": "antelope",
                  "hair": 1,
                  "feathers": 0,
                  "eggs": 0,
                  "milk": 1,
                  "airborne": 0,
                  "aquatic": 0,
                  "predator": 0,
                  "toothed": 1,
                  "breathes": 1,
                  "backbone": 1,
                  "venomous": 0,
                  "fins": 0,
                  "legs": 4,
                  "tail": 1,
                  "domestic": 0,
                  "catsize": 1,
                  "type": 1,
                  "_deepnote_index_column": 1
                },
                {
                  "animal_name": "bass",
                  "hair": 0,
                  "feathers": 0,
                  "eggs": 1,
                  "milk": 0,
                  "airborne": 0,
                  "aquatic": 1,
                  "predator": 1,
                  "toothed": 1,
                  "breathes": 1,
                  "backbone": 0,
                  "venomous": 0,
                  "fins": 1,
                  "legs": 0,
                  "tail": 1,
                  "domestic": 0,
                  "catsize": 0,
                  "type": 4,
                  "_deepnote_index_column": 2
                },
                {
                  "animal_name": "bear",
                  "hair": 1,
                  "feathers": 0,
                  "eggs": 0,
                  "milk": 1,
                  "airborne": 0,
                  "aquatic": 0,
                  "predator": 1,
                  "toothed": 1,
                  "breathes": 1,
                  "backbone": 1,
                  "venomous": 0,
                  "fins": 0,
                  "legs": 4,
                  "tail": 0,
                  "domestic": 0,
                  "catsize": 1,
                  "type": 1,
                  "_deepnote_index_column": 3
                },
                {
                  "animal_name": "boar",
                  "hair": 1,
                  "feathers": 0,
                  "eggs": 0,
                  "milk": 1,
                  "airborne": 0,
                  "aquatic": 0,
                  "predator": 1,
                  "toothed": 1,
                  "breathes": 1,
                  "backbone": 1,
                  "venomous": 0,
                  "fins": 0,
                  "legs": 4,
                  "tail": 1,
                  "domestic": 0,
                  "catsize": 1,
                  "type": 1,
                  "_deepnote_index_column": 4
                }
              ],
              "rows_bottom": null
            },
            "text/plain": "  animal_name  hair  feathers  eggs  milk  airborne  aquatic  predator  \\\n0    aardvark     1         0     0     1         0        0         1   \n1    antelope     1         0     0     1         0        0         0   \n2        bass     0         0     1     0         0        1         1   \n3        bear     1         0     0     1         0        0         1   \n4        boar     1         0     0     1         0        0         1   \n\n   toothed  breathes  backbone  venomous  fins  legs  tail  domestic  catsize  \\\n0        1         1         1         0     0     4     0         0        1   \n1        1         1         1         0     0     4     1         0        1   \n2        1         1         0         0     1     0     1         0        0   \n3        1         1         1         0     0     4     0         0        1   \n4        1         1         1         0     0     4     1         0        1   \n\n   type  \n0     1  \n1     1  \n2     4  \n3     1  \n4     1  ",
            "text/html": "<div>\n<style scoped>\n    .dataframe tbody tr th:only-of-type {\n        vertical-align: middle;\n    }\n\n    .dataframe tbody tr th {\n        vertical-align: top;\n    }\n\n    .dataframe thead th {\n        text-align: right;\n    }\n</style>\n<table border=\"1\" class=\"dataframe\">\n  <thead>\n    <tr style=\"text-align: right;\">\n      <th></th>\n      <th>animal_name</th>\n      <th>hair</th>\n      <th>feathers</th>\n      <th>eggs</th>\n      <th>milk</th>\n      <th>airborne</th>\n      <th>aquatic</th>\n      <th>predator</th>\n      <th>toothed</th>\n      <th>breathes</th>\n      <th>backbone</th>\n      <th>venomous</th>\n      <th>fins</th>\n      <th>legs</th>\n      <th>tail</th>\n      <th>domestic</th>\n      <th>catsize</th>\n      <th>type</th>\n    </tr>\n  </thead>\n  <tbody>\n    <tr>\n      <th>0</th>\n      <td>aardvark</td>\n      <td>1</td>\n      <td>0</td>\n      <td>0</td>\n      <td>1</td>\n      <td>0</td>\n      <td>0</td>\n      <td>1</td>\n      <td>1</td>\n      <td>1</td>\n      <td>1</td>\n      <td>0</td>\n      <td>0</td>\n      <td>4</td>\n      <td>0</td>\n      <td>0</td>\n      <td>1</td>\n      <td>1</td>\n    </tr>\n    <tr>\n      <th>1</th>\n      <td>antelope</td>\n      <td>1</td>\n      <td>0</td>\n      <td>0</td>\n      <td>1</td>\n      <td>0</td>\n      <td>0</td>\n      <td>0</td>\n      <td>1</td>\n      <td>1</td>\n      <td>1</td>\n      <td>0</td>\n      <td>0</td>\n      <td>4</td>\n      <td>1</td>\n      <td>0</td>\n      <td>1</td>\n      <td>1</td>\n    </tr>\n    <tr>\n      <th>2</th>\n      <td>bass</td>\n      <td>0</td>\n      <td>0</td>\n      <td>1</td>\n      <td>0</td>\n      <td>0</td>\n      <td>1</td>\n      <td>1</td>\n      <td>1</td>\n      <td>1</td>\n      <td>0</td>\n      <td>0</td>\n      <td>1</td>\n      <td>0</td>\n      <td>1</td>\n      <td>0</td>\n      <td>0</td>\n      <td>4</td>\n    </tr>\n    <tr>\n      <th>3</th>\n      <td>bear</td>\n      <td>1</td>\n      <td>0</td>\n      <td>0</td>\n      <td>1</td>\n      <td>0</td>\n      <td>0</td>\n      <td>1</td>\n      <td>1</td>\n      <td>1</td>\n      <td>1</td>\n      <td>0</td>\n      <td>0</td>\n      <td>4</td>\n      <td>0</td>\n      <td>0</td>\n      <td>1</td>\n      <td>1</td>\n    </tr>\n    <tr>\n      <th>4</th>\n      <td>boar</td>\n      <td>1</td>\n      <td>0</td>\n      <td>0</td>\n      <td>1</td>\n      <td>0</td>\n      <td>0</td>\n      <td>1</td>\n      <td>1</td>\n      <td>1</td>\n      <td>1</td>\n      <td>0</td>\n      <td>0</td>\n      <td>4</td>\n      <td>1</td>\n      <td>0</td>\n      <td>1</td>\n      <td>1</td>\n    </tr>\n  </tbody>\n</table>\n</div>"
          },
          "metadata": {}
        }
      ],
      "execution_count": 35
    },
    {
      "cell_type": "code",
      "source": "y = np.array(df['type'])\nX = np.array(df.drop(columns=['animal_name', 'type']))\n\nX_train, X_test, y_train, y_test = train_test_split(X, y, test_size=0.2)",
      "metadata": {
        "tags": [],
        "cell_id": "00009-4ebf308c-97c3-432f-99ee-2e3236dc5f5f",
        "deepnote_to_be_reexecuted": false,
        "source_hash": "fd005517",
        "execution_start": 1619616563069,
        "execution_millis": 3,
        "deepnote_cell_type": "code"
      },
      "outputs": [],
      "execution_count": 48
    },
    {
      "cell_type": "code",
      "source": "criterion = ['gini', 'entropy']\n\nfor i in criterion:\n    accuracy = []\n    for j in range(1,10):\n        clf = DecisionTreeClassifier(random_state=0, criterion=i, max_depth=j)\n        clf.fit(X_train, y_train)\n        y_pred = clf.predict(X_test)\n        depth = clf.get_depth()\n        accuracy.append(accuracy_score(y_pred, y_test))\n        print(f'Selected criterion is {i}, selected max_depth is: {j}')\n        print('The depth of the decision tree is: ', clf.get_depth())\n        #print(confusion_matrix(y_test, y_hat))\n        print(f'The accuracy of the model with max depth = {depth} is: {accuracy_score(y_pred, y_test)} \\n')\n    sns.lineplot(range(1, 10), accuracy,color='blue')\n    plt.rcParams.update({'figure.figsize':(7,5), 'figure.dpi':100})\n    plt.title(f'accuracy of {i}')\n    plt.show();\n\n\n# from the graph we can conclude that gini is easy to compute and entrophy is more accurate and efficient.\n# entrophy requires less depth to achieve more accuracy.",
      "metadata": {
        "tags": [],
        "cell_id": "00010-89a8c037-c4f8-4d16-8846-2c1b3a4e6527",
        "deepnote_to_be_reexecuted": false,
        "source_hash": "b0eaf01b",
        "execution_start": 1619616696165,
        "execution_millis": 504,
        "deepnote_cell_type": "code"
      },
      "outputs": [
        {
          "name": "stdout",
          "text": "Selected criterion is gini, selected max_depth is: 1\nThe depth of the decision tree is:  1\nThe accuracy of the model with max depth = 1 is: 0.6666666666666666 \n\nSelected criterion is gini, selected max_depth is: 2\nThe depth of the decision tree is:  2\nThe accuracy of the model with max depth = 2 is: 0.7619047619047619 \n\nSelected criterion is gini, selected max_depth is: 3\nThe depth of the decision tree is:  3\nThe accuracy of the model with max depth = 3 is: 0.8571428571428571 \n\nSelected criterion is gini, selected max_depth is: 4\nThe depth of the decision tree is:  4\nThe accuracy of the model with max depth = 4 is: 0.9047619047619048 \n\nSelected criterion is gini, selected max_depth is: 5\nThe depth of the decision tree is:  5\nThe accuracy of the model with max depth = 5 is: 0.9523809523809523 \n\nSelected criterion is gini, selected max_depth is: 6\nThe depth of the decision tree is:  6\nThe accuracy of the model with max depth = 6 is: 0.9523809523809523 \n\nSelected criterion is gini, selected max_depth is: 7\nThe depth of the decision tree is:  7\nThe accuracy of the model with max depth = 7 is: 1.0 \n\nSelected criterion is gini, selected max_depth is: 8\nThe depth of the decision tree is:  7\nThe accuracy of the model with max depth = 7 is: 1.0 \n\nSelected criterion is gini, selected max_depth is: 9\nThe depth of the decision tree is:  7\nThe accuracy of the model with max depth = 7 is: 1.0 \n\n/shared-libs/python3.7/py/lib/python3.7/site-packages/seaborn/_decorators.py:43: FutureWarning: Pass the following variables as keyword args: x, y. From version 0.12, the only valid positional argument will be `data`, and passing other arguments without an explicit keyword will result in an error or misinterpretation.\n  FutureWarning\n",
          "output_type": "stream"
        },
        {
          "data": {
            "text/plain": "<Figure size 700x500 with 1 Axes>",
            "image/png": "[encoded data removed]"
          },
          "metadata": {
            "needs_background": "light",
            "image/png": {
              "width": 602,
              "height": 443
            }
          },
          "output_type": "display_data"
        },
        {
          "name": "stdout",
          "text": "Selected criterion is entropy, selected max_depth is: 1\nThe depth of the decision tree is:  1\nThe accuracy of the model with max depth = 1 is: 0.6666666666666666 \n\nSelected criterion is entropy, selected max_depth is: 2\nThe depth of the decision tree is:  2\nThe accuracy of the model with max depth = 2 is: 0.7619047619047619 \n\nSelected criterion is entropy, selected max_depth is: 3\nThe depth of the decision tree is:  3\nThe accuracy of the model with max depth = 3 is: 0.8571428571428571 \n\nSelected criterion is entropy, selected max_depth is: 4\nThe depth of the decision tree is:  4\nThe accuracy of the model with max depth = 4 is: 0.9523809523809523 \n\nSelected criterion is entropy, selected max_depth is: 5\nThe depth of the decision tree is:  5\nThe accuracy of the model with max depth = 5 is: 0.9523809523809523 \n\nSelected criterion is entropy, selected max_depth is: 6\nThe depth of the decision tree is:  6\nThe accuracy of the model with max depth = 6 is: 1.0 \n\nSelected criterion is entropy, selected max_depth is: 7\nThe depth of the decision tree is:  7\nThe accuracy of the model with max depth = 7 is: 1.0 \n\nSelected criterion is entropy, selected max_depth is: 8\nThe depth of the decision tree is:  7\nThe accuracy of the model with max depth = 7 is: 1.0 \n\nSelected criterion is entropy, selected max_depth is: 9\nThe depth of the decision tree is:  7\nThe accuracy of the model with max depth = 7 is: 1.0 \n\n/shared-libs/python3.7/py/lib/python3.7/site-packages/seaborn/_decorators.py:43: FutureWarning: Pass the following variables as keyword args: x, y. From version 0.12, the only valid positional argument will be `data`, and passing other arguments without an explicit keyword will result in an error or misinterpretation.\n  FutureWarning\n",
          "output_type": "stream"
        },
        {
          "data": {
            "text/plain": "<Figure size 700x500 with 1 Axes>",
            "image/png": "[encoded data removed]"
          },
          "metadata": {
            "needs_background": "light",
            "image/png": {
              "width": 602,
              "height": 443
            }
          },
          "output_type": "display_data"
        }
      ],
      "execution_count": 59
    },
    {
      "cell_type": "code",
      "source": "y = np.array(df['type'])\nX = np.array(df.drop(columns=['animal_name', 'type']))\nX_train, X_test, y_train, y_test = train_test_split(X, y, test_size=0.2)\n\nclf = tree.DecisionTreeClassifier(criterion = 'entropy', max_depth = 6)  \n\nplt.figure()\nclf = clf.fit(X_train, y_train)\ny_pred = clf.predict(X_test)\ntree.plot_tree(clf)   # i hope you are happy joshuva, Keep smiling :)\n# if we plot based on the animal name.. it will be so crowded.. and you could try that one too ",
      "metadata": {
        "tags": [],
        "cell_id": "00011-803ce312-a2fd-48f0-9182-8f3d7ebf3bbd",
        "deepnote_to_be_reexecuted": false,
        "source_hash": "f2c6caaa",
        "execution_start": 1619618245954,
        "execution_millis": 1128,
        "deepnote_cell_type": "code"
      },
      "outputs": [
        {
          "output_type": "execute_result",
          "execution_count": 72,
          "data": {
            "text/plain": "[Text(394.54545454545456, 350.5357142857143, 'X[3] <= 0.5\\nentropy = 2.433\\nsamples = 80\\nvalue = [31, 15, 5, 12, 3, 6, 8]'),\n Text(345.22727272727275, 296.6071428571429, 'X[7] <= 0.5\\nentropy = 2.4\\nsamples = 49\\nvalue = [0, 15, 5, 12, 3, 6, 8]'),\n Text(246.5909090909091, 242.67857142857142, 'X[1] <= 0.5\\nentropy = 1.636\\nsamples = 30\\nvalue = [0, 15, 1, 0, 0, 6, 8]'),\n Text(197.27272727272728, 188.75, 'X[4] <= 0.5\\nentropy = 1.273\\nsamples = 15\\nvalue = [0, 0, 1, 0, 0, 6, 8]'),\n Text(147.95454545454547, 134.82142857142856, 'X[8] <= 0.5\\nentropy = 0.922\\nsamples = 10\\nvalue = [0, 0, 1, 0, 0, 1, 8]'),\n Text(98.63636363636364, 80.89285714285711, 'X[6] <= 0.5\\nentropy = 0.503\\nsamples = 9\\nvalue = [0, 0, 0, 0, 0, 1, 8]'),\n Text(49.31818181818182, 26.964285714285722, 'entropy = 0.918\\nsamples = 3\\nvalue = [0, 0, 0, 0, 0, 1, 2]'),\n Text(147.95454545454547, 26.964285714285722, 'entropy = 0.0\\nsamples = 6\\nvalue = [0, 0, 0, 0, 0, 0, 6]'),\n Text(197.27272727272728, 80.89285714285711, 'entropy = 0.0\\nsamples = 1\\nvalue = [0, 0, 1, 0, 0, 0, 0]'),\n Text(246.5909090909091, 134.82142857142856, 'entropy = 0.0\\nsamples = 5\\nvalue = [0, 0, 0, 0, 0, 5, 0]'),\n Text(295.90909090909093, 188.75, 'entropy = 0.0\\nsamples = 15\\nvalue = [0, 15, 0, 0, 0, 0, 0]'),\n Text(443.8636363636364, 242.67857142857142, 'X[11] <= 0.5\\nentropy = 1.312\\nsamples = 19\\nvalue = [0, 0, 4, 12, 3, 0, 0]'),\n Text(394.54545454545456, 188.75, 'X[5] <= 0.5\\nentropy = 0.985\\nsamples = 7\\nvalue = [0, 0, 4, 0, 3, 0, 0]'),\n Text(345.22727272727275, 134.82142857142856, 'entropy = 0.0\\nsamples = 3\\nvalue = [0, 0, 3, 0, 0, 0, 0]'),\n Text(443.8636363636364, 134.82142857142856, 'X[2] <= 0.5\\nentropy = 0.811\\nsamples = 4\\nvalue = [0, 0, 1, 0, 3, 0, 0]'),\n Text(394.54545454545456, 80.89285714285711, 'entropy = 0.0\\nsamples = 1\\nvalue = [0, 0, 1, 0, 0, 0, 0]'),\n Text(493.1818181818182, 80.89285714285711, 'entropy = 0.0\\nsamples = 3\\nvalue = [0, 0, 0, 0, 3, 0, 0]'),\n Text(493.1818181818182, 188.75, 'entropy = 0.0\\nsamples = 12\\nvalue = [0, 0, 0, 12, 0, 0, 0]'),\n Text(443.8636363636364, 296.6071428571429, 'entropy = 0.0\\nsamples = 31\\nvalue = [31, 0, 0, 0, 0, 0, 0]')]"
          },
          "metadata": {}
        },
        {
          "data": {
            "text/plain": "<Figure size 700x500 with 1 Axes>",
            "image/png": "[encoded data removed]"
          },
          "metadata": {
            "needs_background": "light",
            "image/png": {
              "width": 562,
              "height": 397
            }
          },
          "output_type": "display_data"
        }
      ],
      "execution_count": 72
    },
    {
      "cell_type": "code",
      "source": "X_tree, y_tree = df.hair, df.eggs # it is not the names\n#accuracy= []\nclf = tree.DecisionTreeClassifier()#criterion = 'gini'), max_depth = )\n#plt.figure()\n#tree.plot_tree(clf,filled=True)\nclf = clf.fit(X_tree, y_tree)   #  i could not able to understand what you are trying to fit here. \n# because, here we used to fit the dataframes \n# ok.. in iris  \ntree.plot_tree(clf)\n",
      "metadata": {
        "tags": [],
        "cell_id": "00008-1c642929-3646-4fd3-bab4-4c57d3bbd0d9",
        "deepnote_to_be_reexecuted": false,
        "source_hash": "26e7da47",
        "execution_start": 1619617017009,
        "execution_millis": 80,
        "deepnote_cell_type": "code"
      },
      "outputs": [
        {
          "output_type": "error",
          "ename": "ValueError",
          "evalue": "Expected 2D array, got 1D array instead:\narray=[1. 1. 0. 1. 1. 1. 1. 0. 0. 1. 1. 0. 0. 0. 0. 0. 0. 1. 0. 0. 0. 0. 1. 0.\n 0. 0. 0. 1. 1. 1. 0. 1. 1. 0. 0. 1. 1. 0. 0. 1. 1. 0. 0. 0. 1. 1. 0. 1.\n 1. 1. 1. 1. 0. 0. 1. 1. 0. 0. 0. 0. 0. 0. 0. 1. 1. 1. 0. 1. 1. 1. 1. 0.\n 0. 0. 1. 1. 0. 0. 0. 0. 0. 0. 0. 0. 1. 0. 0. 0. 0. 0. 0. 0. 0. 1. 1. 0.\n 1. 1. 1. 0. 0.].\nReshape your data either using array.reshape(-1, 1) if your data has a single feature or array.reshape(1, -1) if it contains a single sample.",
          "traceback": [
            "\u001b[0;31m---------------------------------------------------------------------------\u001b[0m",
            "\u001b[0;31mValueError\u001b[0m                                Traceback (most recent call last)",
            "\u001b[0;32m<ipython-input-66-6c63c6dfa152>\u001b[0m in \u001b[0;36m<module>\u001b[0;34m\u001b[0m\n\u001b[1;32m      4\u001b[0m \u001b[0;31m#plt.figure()\u001b[0m\u001b[0;34m\u001b[0m\u001b[0;34m\u001b[0m\u001b[0;34m\u001b[0m\u001b[0m\n\u001b[1;32m      5\u001b[0m \u001b[0;31m#tree.plot_tree(clf,filled=True)\u001b[0m\u001b[0;34m\u001b[0m\u001b[0;34m\u001b[0m\u001b[0;34m\u001b[0m\u001b[0m\n\u001b[0;32m----> 6\u001b[0;31m \u001b[0mclf\u001b[0m \u001b[0;34m=\u001b[0m \u001b[0mclf\u001b[0m\u001b[0;34m.\u001b[0m\u001b[0mfit\u001b[0m\u001b[0;34m(\u001b[0m\u001b[0mX_tree\u001b[0m\u001b[0;34m,\u001b[0m \u001b[0my_tree\u001b[0m\u001b[0;34m)\u001b[0m\u001b[0;34m\u001b[0m\u001b[0;34m\u001b[0m\u001b[0m\n\u001b[0m\u001b[1;32m      7\u001b[0m \u001b[0mtree\u001b[0m\u001b[0;34m.\u001b[0m\u001b[0mplot_tree\u001b[0m\u001b[0;34m(\u001b[0m\u001b[0mclf\u001b[0m\u001b[0;34m)\u001b[0m\u001b[0;34m\u001b[0m\u001b[0;34m\u001b[0m\u001b[0m\n",
            "\u001b[0;32m/shared-libs/python3.7/py/lib/python3.7/site-packages/sklearn/tree/_classes.py\u001b[0m in \u001b[0;36mfit\u001b[0;34m(self, X, y, sample_weight, check_input, X_idx_sorted)\u001b[0m\n\u001b[1;32m    900\u001b[0m             \u001b[0msample_weight\u001b[0m\u001b[0;34m=\u001b[0m\u001b[0msample_weight\u001b[0m\u001b[0;34m,\u001b[0m\u001b[0;34m\u001b[0m\u001b[0;34m\u001b[0m\u001b[0m\n\u001b[1;32m    901\u001b[0m             \u001b[0mcheck_input\u001b[0m\u001b[0;34m=\u001b[0m\u001b[0mcheck_input\u001b[0m\u001b[0;34m,\u001b[0m\u001b[0;34m\u001b[0m\u001b[0;34m\u001b[0m\u001b[0m\n\u001b[0;32m--> 902\u001b[0;31m             X_idx_sorted=X_idx_sorted)\n\u001b[0m\u001b[1;32m    903\u001b[0m         \u001b[0;32mreturn\u001b[0m \u001b[0mself\u001b[0m\u001b[0;34m\u001b[0m\u001b[0;34m\u001b[0m\u001b[0m\n\u001b[1;32m    904\u001b[0m \u001b[0;34m\u001b[0m\u001b[0m\n",
            "\u001b[0;32m/shared-libs/python3.7/py/lib/python3.7/site-packages/sklearn/tree/_classes.py\u001b[0m in \u001b[0;36mfit\u001b[0;34m(self, X, y, sample_weight, check_input, X_idx_sorted)\u001b[0m\n\u001b[1;32m    156\u001b[0m             X, y = self._validate_data(X, y,\n\u001b[1;32m    157\u001b[0m                                        validate_separately=(check_X_params,\n\u001b[0;32m--> 158\u001b[0;31m                                                             check_y_params))\n\u001b[0m\u001b[1;32m    159\u001b[0m             \u001b[0;32mif\u001b[0m \u001b[0missparse\u001b[0m\u001b[0;34m(\u001b[0m\u001b[0mX\u001b[0m\u001b[0;34m)\u001b[0m\u001b[0;34m:\u001b[0m\u001b[0;34m\u001b[0m\u001b[0;34m\u001b[0m\u001b[0m\n\u001b[1;32m    160\u001b[0m                 \u001b[0mX\u001b[0m\u001b[0;34m.\u001b[0m\u001b[0msort_indices\u001b[0m\u001b[0;34m(\u001b[0m\u001b[0;34m)\u001b[0m\u001b[0;34m\u001b[0m\u001b[0;34m\u001b[0m\u001b[0m\n",
            "\u001b[0;32m/shared-libs/python3.7/py/lib/python3.7/site-packages/sklearn/base.py\u001b[0m in \u001b[0;36m_validate_data\u001b[0;34m(self, X, y, reset, validate_separately, **check_params)\u001b[0m\n\u001b[1;32m    428\u001b[0m                 \u001b[0;31m# :(\u001b[0m\u001b[0;34m\u001b[0m\u001b[0;34m\u001b[0m\u001b[0;34m\u001b[0m\u001b[0m\n\u001b[1;32m    429\u001b[0m                 \u001b[0mcheck_X_params\u001b[0m\u001b[0;34m,\u001b[0m \u001b[0mcheck_y_params\u001b[0m \u001b[0;34m=\u001b[0m \u001b[0mvalidate_separately\u001b[0m\u001b[0;34m\u001b[0m\u001b[0;34m\u001b[0m\u001b[0m\n\u001b[0;32m--> 430\u001b[0;31m                 \u001b[0mX\u001b[0m \u001b[0;34m=\u001b[0m \u001b[0mcheck_array\u001b[0m\u001b[0;34m(\u001b[0m\u001b[0mX\u001b[0m\u001b[0;34m,\u001b[0m \u001b[0;34m**\u001b[0m\u001b[0mcheck_X_params\u001b[0m\u001b[0;34m)\u001b[0m\u001b[0;34m\u001b[0m\u001b[0;34m\u001b[0m\u001b[0m\n\u001b[0m\u001b[1;32m    431\u001b[0m                 \u001b[0my\u001b[0m \u001b[0;34m=\u001b[0m \u001b[0mcheck_array\u001b[0m\u001b[0;34m(\u001b[0m\u001b[0my\u001b[0m\u001b[0;34m,\u001b[0m \u001b[0;34m**\u001b[0m\u001b[0mcheck_y_params\u001b[0m\u001b[0;34m)\u001b[0m\u001b[0;34m\u001b[0m\u001b[0;34m\u001b[0m\u001b[0m\n\u001b[1;32m    432\u001b[0m             \u001b[0;32melse\u001b[0m\u001b[0;34m:\u001b[0m\u001b[0;34m\u001b[0m\u001b[0;34m\u001b[0m\u001b[0m\n",
            "\u001b[0;32m/shared-libs/python3.7/py/lib/python3.7/site-packages/sklearn/utils/validation.py\u001b[0m in \u001b[0;36minner_f\u001b[0;34m(*args, **kwargs)\u001b[0m\n\u001b[1;32m     61\u001b[0m             \u001b[0mextra_args\u001b[0m \u001b[0;34m=\u001b[0m \u001b[0mlen\u001b[0m\u001b[0;34m(\u001b[0m\u001b[0margs\u001b[0m\u001b[0;34m)\u001b[0m \u001b[0;34m-\u001b[0m \u001b[0mlen\u001b[0m\u001b[0;34m(\u001b[0m\u001b[0mall_args\u001b[0m\u001b[0;34m)\u001b[0m\u001b[0;34m\u001b[0m\u001b[0;34m\u001b[0m\u001b[0m\n\u001b[1;32m     62\u001b[0m             \u001b[0;32mif\u001b[0m \u001b[0mextra_args\u001b[0m \u001b[0;34m<=\u001b[0m \u001b[0;36m0\u001b[0m\u001b[0;34m:\u001b[0m\u001b[0;34m\u001b[0m\u001b[0;34m\u001b[0m\u001b[0m\n\u001b[0;32m---> 63\u001b[0;31m                 \u001b[0;32mreturn\u001b[0m \u001b[0mf\u001b[0m\u001b[0;34m(\u001b[0m\u001b[0;34m*\u001b[0m\u001b[0margs\u001b[0m\u001b[0;34m,\u001b[0m \u001b[0;34m**\u001b[0m\u001b[0mkwargs\u001b[0m\u001b[0;34m)\u001b[0m\u001b[0;34m\u001b[0m\u001b[0;34m\u001b[0m\u001b[0m\n\u001b[0m\u001b[1;32m     64\u001b[0m \u001b[0;34m\u001b[0m\u001b[0m\n\u001b[1;32m     65\u001b[0m             \u001b[0;31m# extra_args > 0\u001b[0m\u001b[0;34m\u001b[0m\u001b[0;34m\u001b[0m\u001b[0;34m\u001b[0m\u001b[0m\n",
            "\u001b[0;32m/shared-libs/python3.7/py/lib/python3.7/site-packages/sklearn/utils/validation.py\u001b[0m in \u001b[0;36mcheck_array\u001b[0;34m(array, accept_sparse, accept_large_sparse, dtype, order, copy, force_all_finite, ensure_2d, allow_nd, ensure_min_samples, ensure_min_features, estimator)\u001b[0m\n\u001b[1;32m    639\u001b[0m                     \u001b[0;34m\"Reshape your data either using array.reshape(-1, 1) if \"\u001b[0m\u001b[0;34m\u001b[0m\u001b[0;34m\u001b[0m\u001b[0m\n\u001b[1;32m    640\u001b[0m                     \u001b[0;34m\"your data has a single feature or array.reshape(1, -1) \"\u001b[0m\u001b[0;34m\u001b[0m\u001b[0;34m\u001b[0m\u001b[0m\n\u001b[0;32m--> 641\u001b[0;31m                     \"if it contains a single sample.\".format(array))\n\u001b[0m\u001b[1;32m    642\u001b[0m \u001b[0;34m\u001b[0m\u001b[0m\n\u001b[1;32m    643\u001b[0m         \u001b[0;31m# make sure we actually converted to numeric:\u001b[0m\u001b[0;34m\u001b[0m\u001b[0;34m\u001b[0m\u001b[0;34m\u001b[0m\u001b[0m\n",
            "\u001b[0;31mValueError\u001b[0m: Expected 2D array, got 1D array instead:\narray=[1. 1. 0. 1. 1. 1. 1. 0. 0. 1. 1. 0. 0. 0. 0. 0. 0. 1. 0. 0. 0. 0. 1. 0.\n 0. 0. 0. 1. 1. 1. 0. 1. 1. 0. 0. 1. 1. 0. 0. 1. 1. 0. 0. 0. 1. 1. 0. 1.\n 1. 1. 1. 1. 0. 0. 1. 1. 0. 0. 0. 0. 0. 0. 0. 1. 1. 1. 0. 1. 1. 1. 1. 0.\n 0. 0. 1. 1. 0. 0. 0. 0. 0. 0. 0. 0. 1. 0. 0. 0. 0. 0. 0. 0. 0. 1. 1. 0.\n 1. 1. 1. 0. 0.].\nReshape your data either using array.reshape(-1, 1) if your data has a single feature or array.reshape(1, -1) if it contains a single sample."
          ]
        }
      ],
      "execution_count": 66
    },
    {
      "cell_type": "code",
      "source": "len(df.hair) == len(df.eggs)",
      "metadata": {
        "tags": [],
        "cell_id": "00013-0a2d9288-1760-4db2-bcce-256bf131953b",
        "deepnote_to_be_reexecuted": false,
        "source_hash": "9f012934",
        "execution_start": 1619617008261,
        "execution_millis": 8,
        "deepnote_cell_type": "code"
      },
      "outputs": [
        {
          "output_type": "execute_result",
          "execution_count": 65,
          "data": {
            "text/plain": "True"
          },
          "metadata": {}
        }
      ],
      "execution_count": 65
    },
    {
      "cell_type": "code",
      "source": "#df['hair'].shape\nX.shape",
      "metadata": {
        "tags": [],
        "cell_id": "00010-7bafa6ae-5aa2-470b-ab4c-24c625427aba",
        "deepnote_to_be_reexecuted": false,
        "source_hash": "c8791615",
        "execution_start": 1619616841605,
        "execution_millis": 16,
        "deepnote_cell_type": "code"
      },
      "outputs": [
        {
          "output_type": "execute_result",
          "execution_count": 62,
          "data": {
            "text/plain": "(101, 16)"
          },
          "metadata": {}
        }
      ],
      "execution_count": 62
    },
    {
      "cell_type": "code",
      "source": "X, y = ds.data, ds.target   # here ds.data is 4 columns right?  okok investigate iris. \n# the problem is ds.data is not dataframe..\n\n# ok what is desire? what you want to see.. for example are trying to predict/classify eggs, based upon \n# hair. Like if the animal has hair. it should lay eggs. things like that are you trying to achieve.\n# This is what i see from your attempt.\n# \naccuracy= []\nclf = tree.DecisionTreeClassifier(criterion = 'entropy', max_depth = 2)\nplt.figure()  \n#tree.plot_tree(clf,filled=True)\nclf = clf.fit(X, y)\ntree.plot_tree(clf) \n    #plt.savefig('tree.eps',format='eps',bbox_inches = \"tight\")   # save 10 images.. ",
      "metadata": {
        "tags": [],
        "cell_id": "00015-fb885433-4096-4e40-a78f-e17514797933",
        "deepnote_to_be_reexecuted": false,
        "source_hash": "cc81b68",
        "execution_start": 1619617228122,
        "execution_millis": 7,
        "deepnote_cell_type": "code"
      },
      "outputs": [
        {
          "output_type": "error",
          "ename": "NameError",
          "evalue": "name 'ds' is not defined",
          "traceback": [
            "\u001b[0;31m---------------------------------------------------------------------------\u001b[0m",
            "\u001b[0;31mNameError\u001b[0m                                 Traceback (most recent call last)",
            "\u001b[0;32m<ipython-input-67-ab8583ee2865>\u001b[0m in \u001b[0;36m<module>\u001b[0;34m\u001b[0m\n\u001b[0;32m----> 1\u001b[0;31m \u001b[0mX\u001b[0m\u001b[0;34m,\u001b[0m \u001b[0my\u001b[0m \u001b[0;34m=\u001b[0m \u001b[0mds\u001b[0m\u001b[0;34m.\u001b[0m\u001b[0mdata\u001b[0m\u001b[0;34m,\u001b[0m \u001b[0mds\u001b[0m\u001b[0;34m.\u001b[0m\u001b[0mtarget\u001b[0m   \u001b[0;31m# here data is 4 columns right?\u001b[0m\u001b[0;34m\u001b[0m\u001b[0;34m\u001b[0m\u001b[0m\n\u001b[0m\u001b[1;32m      2\u001b[0m \u001b[0;34m\u001b[0m\u001b[0m\n\u001b[1;32m      3\u001b[0m \u001b[0maccuracy\u001b[0m\u001b[0;34m=\u001b[0m \u001b[0;34m[\u001b[0m\u001b[0;34m]\u001b[0m\u001b[0;34m\u001b[0m\u001b[0;34m\u001b[0m\u001b[0m\n\u001b[1;32m      4\u001b[0m \u001b[0mclf\u001b[0m \u001b[0;34m=\u001b[0m \u001b[0mtree\u001b[0m\u001b[0;34m.\u001b[0m\u001b[0mDecisionTreeClassifier\u001b[0m\u001b[0;34m(\u001b[0m\u001b[0mcriterion\u001b[0m \u001b[0;34m=\u001b[0m \u001b[0;34m'entropy'\u001b[0m\u001b[0;34m,\u001b[0m \u001b[0mmax_depth\u001b[0m \u001b[0;34m=\u001b[0m \u001b[0;36m2\u001b[0m\u001b[0;34m)\u001b[0m\u001b[0;34m\u001b[0m\u001b[0;34m\u001b[0m\u001b[0m\n\u001b[1;32m      5\u001b[0m \u001b[0mplt\u001b[0m\u001b[0;34m.\u001b[0m\u001b[0mfigure\u001b[0m\u001b[0;34m(\u001b[0m\u001b[0;34m)\u001b[0m\u001b[0;34m\u001b[0m\u001b[0;34m\u001b[0m\u001b[0m\n",
            "\u001b[0;31mNameError\u001b[0m: name 'ds' is not defined"
          ]
        }
      ],
      "execution_count": 67
    },
    {
      "cell_type": "markdown",
      "source": "<a style='text-decoration:none;line-height:16px;display:flex;color:#5B5B62;padding:10px;justify-content:end;' href='https://deepnote.com?utm_source=created-in-deepnote-cell&projectId=146f2f95-10e2-4546-b8bb-7deb558f2ad8' target=\"_blank\">\n<img alt='Created in deepnote.com' style='display:inline;max-height:16px;margin:0px;margin-right:7.5px;' src='data:image/svg+xml;base64,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' > </img>\nCreated in <span style='font-weight:600;margin-left:4px;'>Deepnote</span></a>",
      "metadata": {
        "tags": [],
        "created_in_deepnote_cell": true,
        "deepnote_cell_type": "markdown"
      }
    }
  ],
  "nbformat": 4,
  "nbformat_minor": 2,
  "metadata": {
    "orig_nbformat": 2,
    "deepnote": {
      "is_reactive": false
    },
    "deepnote_notebook_id": "a26aec46-02c3-48f4-a2d3-b25962e2a32b",
    "deepnote_execution_queue": []
  }
}