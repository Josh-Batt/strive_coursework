{
 "cells": [
  {
   "cell_type": "code",
   "execution_count": null,
   "id": "common-daisy",
   "metadata": {},
   "outputs": [],
   "source": [
    "# Install torch and torchvision on your computer\n",
    "# It's convenient to create a virtual env for that"
   ]
  },
  {
   "cell_type": "code",
   "execution_count": 1,
   "id": "romance-document",
   "metadata": {
    "ExecuteTime": {
     "end_time": "2021-05-26T05:44:46.718547Z",
     "start_time": "2021-05-26T05:44:44.015035Z"
    }
   },
   "outputs": [],
   "source": [
    "import torch\n",
    "import torch.nn as nn\n",
    "import numpy as np"
   ]
  },
  {
   "cell_type": "code",
   "execution_count": 38,
   "id": "younger-champagne",
   "metadata": {
    "ExecuteTime": {
     "end_time": "2021-05-26T05:55:09.345568Z",
     "start_time": "2021-05-26T05:55:09.326608Z"
    }
   },
   "outputs": [
    {
     "data": {
      "text/plain": [
       "<torch._C.Generator at 0x7fa6e976bf50>"
      ]
     },
     "execution_count": 38,
     "metadata": {},
     "output_type": "execute_result"
    }
   ],
   "source": [
    "# set the torch manual seed to 42\n"
   ]
  },
  {
   "cell_type": "code",
   "execution_count": 25,
   "id": "informative-hammer",
   "metadata": {
    "ExecuteTime": {
     "end_time": "2021-05-26T05:53:21.990528Z",
     "start_time": "2021-05-26T05:53:21.982001Z"
    }
   },
   "outputs": [
    {
     "data": {
      "text/plain": [
       "tensor([-0.3278,  0.7950,  0.2815,  0.0562,  0.5227])"
      ]
     },
     "execution_count": 25,
     "metadata": {},
     "output_type": "execute_result"
    }
   ],
   "source": [
    "# Create a tensor of shape (5,) and store in the features variable\n",
    "features = 0\n"
   ]
  },
  {
   "cell_type": "code",
   "execution_count": 24,
   "id": "piano-breach",
   "metadata": {
    "ExecuteTime": {
     "end_time": "2021-05-26T05:53:21.843474Z",
     "start_time": "2021-05-26T05:53:21.840266Z"
    }
   },
   "outputs": [],
   "source": [
    "# Generate a tensor called weights with the same shape of features\n",
    "# Hint: search torch.rand_like\n",
    "weights = 0"
   ]
  },
  {
   "cell_type": "code",
   "execution_count": 39,
   "id": "offensive-interpretation",
   "metadata": {
    "ExecuteTime": {
     "end_time": "2021-05-26T06:03:23.249934Z",
     "start_time": "2021-05-26T06:03:23.232413Z"
    }
   },
   "outputs": [],
   "source": [
    "assert weights.shape == features.shape"
   ]
  },
  {
   "cell_type": "code",
   "execution_count": 27,
   "id": "neither-sample",
   "metadata": {
    "ExecuteTime": {
     "end_time": "2021-05-26T05:53:22.262490Z",
     "start_time": "2021-05-26T05:53:22.256392Z"
    }
   },
   "outputs": [
    {
     "data": {
      "text/plain": [
       "tensor([-0.2384, -0.0499,  0.5263, -0.0085,  0.7291])"
      ]
     },
     "execution_count": 27,
     "metadata": {},
     "output_type": "execute_result"
    }
   ],
   "source": [
    "weights"
   ]
  },
  {
   "cell_type": "code",
   "execution_count": 28,
   "id": "collected-measure",
   "metadata": {
    "ExecuteTime": {
     "end_time": "2021-05-26T05:53:22.688098Z",
     "start_time": "2021-05-26T05:53:22.685070Z"
    }
   },
   "outputs": [],
   "source": [
    "bias = torch.randn((1,1))"
   ]
  },
  {
   "cell_type": "code",
   "execution_count": 29,
   "id": "informal-enclosure",
   "metadata": {
    "ExecuteTime": {
     "end_time": "2021-05-26T05:53:22.837840Z",
     "start_time": "2021-05-26T05:53:22.832752Z"
    }
   },
   "outputs": [
    {
     "data": {
      "text/plain": [
       "tensor([[0.1331]])"
      ]
     },
     "execution_count": 29,
     "metadata": {},
     "output_type": "execute_result"
    }
   ],
   "source": [
    "bias"
   ]
  },
  {
   "cell_type": "code",
   "execution_count": 30,
   "id": "cultural-freeze",
   "metadata": {
    "ExecuteTime": {
     "end_time": "2021-05-26T05:53:22.958309Z",
     "start_time": "2021-05-26T05:53:22.953589Z"
    }
   },
   "outputs": [],
   "source": [
    "# Implement the sigmoid function by using torch\n",
    "def sigmoid(x):\n",
    "    pass"
   ]
  },
  {
   "cell_type": "code",
   "execution_count": 40,
   "id": "caroline-assignment",
   "metadata": {
    "ExecuteTime": {
     "end_time": "2021-05-26T06:07:15.298988Z",
     "start_time": "2021-05-26T06:07:15.293636Z"
    }
   },
   "outputs": [],
   "source": [
    "# Use torch.dot function for multiplying weights and features and\n",
    "# add the bias to the result. Store the result into the score variable\n",
    "\n",
    "score = 0\n",
    "\n"
   ]
  },
  {
   "cell_type": "code",
   "execution_count": 42,
   "id": "complicated-radar",
   "metadata": {
    "ExecuteTime": {
     "end_time": "2021-05-26T06:07:54.742774Z",
     "start_time": "2021-05-26T06:07:54.738740Z"
    }
   },
   "outputs": [],
   "source": [
    "assert score.shape == (1,1)"
   ]
  },
  {
   "cell_type": "code",
   "execution_count": 46,
   "id": "saved-martin",
   "metadata": {
    "ExecuteTime": {
     "end_time": "2021-05-26T06:09:09.770708Z",
     "start_time": "2021-05-26T06:09:09.764317Z"
    }
   },
   "outputs": [
    {
     "data": {
      "text/plain": [
       "tensor([[0.6683]])"
      ]
     },
     "execution_count": 46,
     "metadata": {},
     "output_type": "execute_result"
    }
   ],
   "source": [
    "# Use the defined sigmoid function to activate the score.\n",
    "# Store the result in the prob variable\n",
    "\n",
    "prob = 0\n"
   ]
  },
  {
   "cell_type": "code",
   "execution_count": 47,
   "id": "portuguese-nursery",
   "metadata": {
    "ExecuteTime": {
     "end_time": "2021-05-26T06:09:20.343108Z",
     "start_time": "2021-05-26T06:09:20.339958Z"
    }
   },
   "outputs": [],
   "source": [
    "assert prob.shape == (1,1)"
   ]
  },
  {
   "cell_type": "code",
   "execution_count": 50,
   "id": "latter-firewall",
   "metadata": {
    "ExecuteTime": {
     "end_time": "2021-05-26T06:11:19.575519Z",
     "start_time": "2021-05-26T06:11:19.568376Z"
    }
   },
   "outputs": [
    {
     "data": {
      "text/plain": [
       "tensor([[0.4526, 0.4588, 0.0958],\n",
       "        [0.2341, 0.9025, 0.6294],\n",
       "        [0.2628, 0.0757, 0.4130],\n",
       "        [0.2845, 0.6829, 0.8380]], dtype=torch.float64)"
      ]
     },
     "execution_count": 50,
     "metadata": {},
     "output_type": "execute_result"
    }
   ],
   "source": [
    "# Convert the a numpy array into a torch tensor\n",
    "# Store it in the b variable\n",
    "a = np.random.rand(4, 3)\n",
    "a\n",
    "b = 0"
   ]
  },
  {
   "cell_type": "code",
   "execution_count": 53,
   "id": "historical-passenger",
   "metadata": {
    "ExecuteTime": {
     "end_time": "2021-05-26T06:12:33.848173Z",
     "start_time": "2021-05-26T06:12:33.845007Z"
    }
   },
   "outputs": [],
   "source": [
    "assert b.shape == (4,3) "
   ]
  },
  {
   "cell_type": "code",
   "execution_count": 61,
   "id": "medieval-cabin",
   "metadata": {
    "ExecuteTime": {
     "end_time": "2021-05-26T06:15:11.278855Z",
     "start_time": "2021-05-26T06:15:11.274384Z"
    }
   },
   "outputs": [],
   "source": [
    "# Do the opposite now. From the given tensor a convert it a numpy array\n",
    "# Store the result in b\n",
    "a = torch.tensor([1,2])\n",
    "a\n",
    "b = 0"
   ]
  },
  {
   "cell_type": "code",
   "execution_count": 64,
   "id": "solar-conspiracy",
   "metadata": {
    "ExecuteTime": {
     "end_time": "2021-05-26T06:15:23.003363Z",
     "start_time": "2021-05-26T06:15:22.999824Z"
    }
   },
   "outputs": [],
   "source": [
    "assert type(b) == np.ndarray"
   ]
  },
  {
   "cell_type": "code",
   "execution_count": 74,
   "id": "unsigned-defeat",
   "metadata": {
    "ExecuteTime": {
     "end_time": "2021-05-26T06:38:16.934705Z",
     "start_time": "2021-05-26T06:38:16.929106Z"
    }
   },
   "outputs": [],
   "source": [
    "# Reshape the given v tensor in a 10x10 tensor.\n",
    "# Store the result in v_reshaped\n",
    "# You can use various methods: reshape, view, resize... Check all of them\n",
    "\n",
    "v = torch.randn((100,1))\n",
    "v_reshaped = 0\n"
   ]
  },
  {
   "cell_type": "code",
   "execution_count": null,
   "id": "violent-kuwait",
   "metadata": {},
   "outputs": [],
   "source": [
    "# create a tensor with shape (16, 32, 32, 3) containing only ones\n",
    "# Store it in the ones variable\n",
    "ones = 0\n"
   ]
  },
  {
   "cell_type": "code",
   "execution_count": null,
   "id": "otherwise-tourism",
   "metadata": {},
   "outputs": [],
   "source": [
    "assert ones.shape == (16, 32, 32, 3)"
   ]
  },
  {
   "cell_type": "code",
   "execution_count": 3,
   "id": "united-nebraska",
   "metadata": {
    "ExecuteTime": {
     "end_time": "2021-05-26T06:50:29.092598Z",
     "start_time": "2021-05-26T06:50:29.067520Z"
    }
   },
   "outputs": [
    {
     "data": {
      "text/html": [
       "<div>\n",
       "<style scoped>\n",
       "    .dataframe tbody tr th:only-of-type {\n",
       "        vertical-align: middle;\n",
       "    }\n",
       "\n",
       "    .dataframe tbody tr th {\n",
       "        vertical-align: top;\n",
       "    }\n",
       "\n",
       "    .dataframe thead th {\n",
       "        text-align: right;\n",
       "    }\n",
       "</style>\n",
       "<table border=\"1\" class=\"dataframe\">\n",
       "  <thead>\n",
       "    <tr style=\"text-align: right;\">\n",
       "      <th></th>\n",
       "      <th>0</th>\n",
       "      <th>1</th>\n",
       "      <th>2</th>\n",
       "    </tr>\n",
       "  </thead>\n",
       "  <tbody>\n",
       "    <tr>\n",
       "      <th>0</th>\n",
       "      <td>0.78051</td>\n",
       "      <td>-0.063669</td>\n",
       "      <td>1</td>\n",
       "    </tr>\n",
       "    <tr>\n",
       "      <th>1</th>\n",
       "      <td>0.28774</td>\n",
       "      <td>0.291390</td>\n",
       "      <td>1</td>\n",
       "    </tr>\n",
       "    <tr>\n",
       "      <th>2</th>\n",
       "      <td>0.40714</td>\n",
       "      <td>0.178780</td>\n",
       "      <td>1</td>\n",
       "    </tr>\n",
       "    <tr>\n",
       "      <th>3</th>\n",
       "      <td>0.29230</td>\n",
       "      <td>0.421700</td>\n",
       "      <td>1</td>\n",
       "    </tr>\n",
       "    <tr>\n",
       "      <th>4</th>\n",
       "      <td>0.50922</td>\n",
       "      <td>0.352560</td>\n",
       "      <td>1</td>\n",
       "    </tr>\n",
       "    <tr>\n",
       "      <th>...</th>\n",
       "      <td>...</td>\n",
       "      <td>...</td>\n",
       "      <td>...</td>\n",
       "    </tr>\n",
       "    <tr>\n",
       "      <th>95</th>\n",
       "      <td>0.77029</td>\n",
       "      <td>0.701400</td>\n",
       "      <td>0</td>\n",
       "    </tr>\n",
       "    <tr>\n",
       "      <th>96</th>\n",
       "      <td>0.73156</td>\n",
       "      <td>0.717820</td>\n",
       "      <td>0</td>\n",
       "    </tr>\n",
       "    <tr>\n",
       "      <th>97</th>\n",
       "      <td>0.44556</td>\n",
       "      <td>0.579910</td>\n",
       "      <td>0</td>\n",
       "    </tr>\n",
       "    <tr>\n",
       "      <th>98</th>\n",
       "      <td>0.85275</td>\n",
       "      <td>0.859870</td>\n",
       "      <td>0</td>\n",
       "    </tr>\n",
       "    <tr>\n",
       "      <th>99</th>\n",
       "      <td>0.51912</td>\n",
       "      <td>0.623590</td>\n",
       "      <td>0</td>\n",
       "    </tr>\n",
       "  </tbody>\n",
       "</table>\n",
       "<p>100 rows × 3 columns</p>\n",
       "</div>"
      ],
      "text/plain": [
       "          0         1  2\n",
       "0   0.78051 -0.063669  1\n",
       "1   0.28774  0.291390  1\n",
       "2   0.40714  0.178780  1\n",
       "3   0.29230  0.421700  1\n",
       "4   0.50922  0.352560  1\n",
       "..      ...       ... ..\n",
       "95  0.77029  0.701400  0\n",
       "96  0.73156  0.717820  0\n",
       "97  0.44556  0.579910  0\n",
       "98  0.85275  0.859870  0\n",
       "99  0.51912  0.623590  0\n",
       "\n",
       "[100 rows x 3 columns]"
      ]
     },
     "execution_count": 3,
     "metadata": {},
     "output_type": "execute_result"
    }
   ],
   "source": [
    "import pandas as pd\n",
    "import matplotlib.pyplot as plt\n",
    "# load and plot the data using scatterplot with different colors for labels\n",
    "data = pd.read_csv('data.csv', header=None)\n",
    "data"
   ]
  },
  {
   "cell_type": "code",
   "execution_count": 11,
   "id": "increased-schedule",
   "metadata": {
    "ExecuteTime": {
     "end_time": "2021-05-26T06:52:46.863528Z",
     "start_time": "2021-05-26T06:52:46.755851Z"
    }
   },
   "outputs": [
    {
     "data": {
      "image/png": "[encoded data removed]",
      "text/plain": [
       "<Figure size 432x288 with 1 Axes>"
      ]
     },
     "metadata": {
      "needs_background": "light"
     },
     "output_type": "display_data"
    }
   ],
   "source": []
  },
  {
   "cell_type": "code",
   "execution_count": null,
   "id": "circular-surgery",
   "metadata": {},
   "outputs": [],
   "source": []
  }
 ],
 "metadata": {
  "kernelspec": {
   "display_name": "Python 3",
   "language": "python",
   "name": "python3"
  },
  "language_info": {
   "codemirror_mode": {
    "name": "ipython",
    "version": 3
   },
   "file_extension": ".py",
   "mimetype": "text/x-python",
   "name": "python",
   "nbconvert_exporter": "python",
   "pygments_lexer": "ipython3",
   "version": "3.9.1"
  },
  "varInspector": {
   "cols": {
    "lenName": 16,
    "lenType": 16,
    "lenVar": 40
   },
   "kernels_config": {
    "python": {
     "delete_cmd_postfix": "",
     "delete_cmd_prefix": "del ",
     "library": "var_list.py",
     "varRefreshCmd": "print(var_dic_list())"
    },
    "r": {
     "delete_cmd_postfix": ") ",
     "delete_cmd_prefix": "rm(",
     "library": "var_list.r",
     "varRefreshCmd": "cat(var_dic_list()) "
    }
   },
   "types_to_exclude": [
    "module",
    "function",
    "builtin_function_or_method",
    "instance",
    "_Feature"
   ],
   "window_display": false
  }
 },
 "nbformat": 4,
 "nbformat_minor": 5
}
