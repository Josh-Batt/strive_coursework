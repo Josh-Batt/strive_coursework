{
 "cells": [
  {
   "cell_type": "markdown",
   "metadata": {},
   "source": [
    "<div style=\"background:#222222; color:#ffffff; padding:20px\">\n",
    "    <h2 align=\"center\">Deep Learning Fundamentals</h2>\n",
    "    <h2 align=\"center\" style=\"color:#01ff84\">Multiclass Classification: MNIST</h2>\n",
    "<div>"
   ]
  },
  {
   "cell_type": "markdown",
   "metadata": {},
   "source": [
    "## Imports"
   ]
  },
  {
   "cell_type": "code",
   "execution_count": 1,
   "metadata": {
    "ExecuteTime": {
     "end_time": "2021-05-26T22:26:36.081105Z",
     "start_time": "2021-05-26T22:26:35.040138Z"
    }
   },
   "outputs": [],
   "source": [
    "%matplotlib inline\n",
    "%config InlineBackend.figure_format = 'retina'\n",
    "\n",
    "from collections import OrderedDict\n",
    "\n",
    "import numpy as np\n",
    "import matplotlib.pyplot as plt\n",
    "import time\n",
    "\n",
    "import torch\n",
    "from torch import nn\n",
    "from torch import optim\n",
    "import torch.nn.functional as F\n",
    "\n",
    "from torchvision import datasets, transforms"
   ]
  },
  {
   "cell_type": "markdown",
   "metadata": {},
   "source": [
    "## Auxliary plotting function"
   ]
  },
  {
   "cell_type": "code",
   "execution_count": 2,
   "metadata": {
    "ExecuteTime": {
     "end_time": "2021-05-26T22:26:37.473177Z",
     "start_time": "2021-05-26T22:26:37.465910Z"
    }
   },
   "outputs": [],
   "source": [
    "# https://discuss.pytorch.org/t/view-classify-in-module-helper/30279/6\n",
    "\n",
    "def view_classify(img, ps):\n",
    "\n",
    "    ps = ps.data.numpy().squeeze()\n",
    "\n",
    "    fig, (ax1, ax2) = plt.subplots(figsize=(6,9), ncols=2)\n",
    "    ax1.imshow(img.resize_(1, 28, 28).numpy().squeeze())\n",
    "    ax1.axis('off')\n",
    "    ax2.barh(np.arange(10), ps)\n",
    "    ax2.set_aspect(0.1)\n",
    "    ax2.set_yticks(np.arange(10))\n",
    "    ax2.set_yticklabels(np.arange(10))\n",
    "    ax2.set_title('Class Probability')\n",
    "    ax2.set_xlim(0, 1.1)"
   ]
  },
  {
   "cell_type": "markdown",
   "metadata": {},
   "source": [
    "# Load MNIST Dataset\n",
    "First up, we need to get our dataset. This is provided through the `torchvision` package. The code below will download the MNIST dataset, then create training and test datasets for us. Don't worry too much about the details here, you'll learn more about this later."
   ]
  },
  {
   "cell_type": "code",
   "execution_count": 3,
   "metadata": {
    "ExecuteTime": {
     "end_time": "2021-05-26T22:26:38.402766Z",
     "start_time": "2021-05-26T22:26:38.298968Z"
    }
   },
   "outputs": [],
   "source": [
    "# Define a transform to normalize the data (Preprocessing)\n",
    "transform = transforms.Compose([transforms.ToTensor(), transforms.Normalize((0.5), (0.5)) ])\n",
    "\n",
    "# Download and load the training data\n",
    "trainset    = datasets.MNIST('MNIST_data/', download=True, train=True, transform=transform)\n",
    "trainloader = torch.utils.data.DataLoader(trainset, batch_size=16, shuffle=True)\n",
    "\n",
    "# Download and load the test data\n",
    "testset    = datasets.MNIST('MNIST_data/', download=True, train=False, transform=transform)\n",
    "testloader = torch.utils.data.DataLoader(testset, batch_size=16, shuffle=True)"
   ]
  },
  {
   "cell_type": "code",
   "execution_count": 4,
   "metadata": {
    "ExecuteTime": {
     "end_time": "2021-05-26T22:26:38.632988Z",
     "start_time": "2021-05-26T22:26:38.477558Z"
    }
   },
   "outputs": [],
   "source": [
    "dataiter = iter(trainloader)\n",
    "images, labels = dataiter.next()"
   ]
  },
  {
   "cell_type": "markdown",
   "metadata": {},
   "source": [
    "We have the training data loaded into `trainloader` and we make that an iterator with `iter(trainloader)`. We'd use this to loop through the dataset for training, but here I'm just grabbing the first batch so we can check out the data. We can see below that `images` is just a tensor with size (64, 1, 28, 28). So, 64 images per batch, 1 color channel, and 28x28 images."
   ]
  },
  {
   "cell_type": "code",
   "execution_count": 5,
   "metadata": {
    "ExecuteTime": {
     "end_time": "2021-05-26T22:26:39.407000Z",
     "start_time": "2021-05-26T22:26:39.265256Z"
    }
   },
   "outputs": [
    {
     "data": {
      "image/png": "[encoded data removed]",
      "text/plain": [
       "<Figure size 432x288 with 1 Axes>"
      ]
     },
     "metadata": {
      "image/png": {
       "height": 248,
       "width": 251
      },
      "needs_background": "light"
     },
     "output_type": "display_data"
    }
   ],
   "source": [
    "plt.imshow(images[1].numpy().squeeze(), cmap='Greys_r');"
   ]
  },
  {
   "cell_type": "markdown",
   "metadata": {},
   "source": [
    "## Building networks with PyTorch\n",
    "\n",
    "Here I'll use PyTorch to build a simple feedfoward network to classify the MNIST images. That is, the network will receive a digit image as input and predict the digit in the image.\n",
    "\n",
    "<img src=\"assets/mlp_mnist.png\" width=600px>\n",
    "\n",
    "To build a neural network with PyTorch, you use the `torch.nn` module. The network itself is a class inheriting from `torch.nn.Module`. You define each of the operations separately, like `nn.Linear(784, 128)` for a fully connected linear layer with 784 inputs and 128 units.\n",
    "\n",
    "The class needs to include a `forward` method that implements the forward pass through the network. In this method, you pass some input tensor `x` through each of the operations you defined earlier. The `torch.nn` module also has functional equivalents for things like ReLUs in `torch.nn.functional`. This module is usually imported as `F`. Then to use a ReLU activation on some layer (which is just a tensor), you'd do `F.relu(x)`. Below are a few different commonly used activation functions.\n",
    "\n",
    "<img src=\"assets/activation.png\" width=700px>\n",
    "\n",
    "So, for this network, I'll build it with three fully connected layers, then a softmax output for predicting classes. The softmax function is similar to the sigmoid in that it squashes inputs between 0 and 1, but it's also normalized so that all the values sum to one like a proper probability distribution."
   ]
  },
  {
   "cell_type": "code",
   "execution_count": 6,
   "metadata": {
    "ExecuteTime": {
     "end_time": "2021-05-26T22:26:39.961531Z",
     "start_time": "2021-05-26T22:26:39.946776Z"
    }
   },
   "outputs": [
    {
     "data": {
      "text/plain": [
       "Network(\n",
       "  (fc1): Linear(in_features=784, out_features=32, bias=True)\n",
       "  (fc2): Linear(in_features=32, out_features=16, bias=True)\n",
       "  (fc3): Linear(in_features=16, out_features=10, bias=True)\n",
       ")"
      ]
     },
     "execution_count": 6,
     "metadata": {},
     "output_type": "execute_result"
    }
   ],
   "source": [
    "class Network(nn.Module):\n",
    "    \n",
    "    # Defining the layers, 128, 64, 10 units each\n",
    "    def __init__(self):\n",
    "        super().__init__()\n",
    "        self.fc1 = nn.Linear(784, 32)\n",
    "        self.fc2 = nn.Linear(32, 16)\n",
    "        self.fc3 = nn.Linear(16, 10)\n",
    "        \n",
    "    # Forward pass through the network, returns the output logits\n",
    "    def forward(self, x):\n",
    "        x = self.fc1(x)\n",
    "        x = F.relu(x)\n",
    "        x = self.fc2(x)\n",
    "        x = F.relu(x)\n",
    "        x = self.fc3(x)\n",
    "        x = F.softmax(x, dim=1)\n",
    "        return x\n",
    "\n",
    "model = Network()\n",
    "model"
   ]
  },
  {
   "cell_type": "markdown",
   "metadata": {},
   "source": [
    "Why the input features are 784? Because the input images have size 28 pixels x 28 pixels for a total of 784 features. Since a Multilayer perceptron accepts only flatten inputs, we need to flatten a 28x28 grid into a 784 array."
   ]
  },
  {
   "cell_type": "markdown",
   "metadata": {},
   "source": [
    "### Sequential API\n",
    "PyTorch provides a convenient way to build networks like this where a tensor is passed sequentially through operations, `nn.Sequential` ([documentation](https://pytorch.org/docs/master/nn.html#torch.nn.Sequential)). Using this to build the equivalent network:"
   ]
  },
  {
   "cell_type": "code",
   "execution_count": 7,
   "metadata": {
    "ExecuteTime": {
     "end_time": "2021-05-26T22:26:41.213448Z",
     "start_time": "2021-05-26T22:26:41.205216Z"
    }
   },
   "outputs": [
    {
     "name": "stdout",
     "output_type": "stream",
     "text": [
      "Sequential(\n",
      "  (0): Linear(in_features=784, out_features=4, bias=True)\n",
      "  (1): ReLU()\n",
      "  (2): Linear(in_features=4, out_features=4, bias=True)\n",
      "  (3): ReLU()\n",
      "  (4): Linear(in_features=4, out_features=10, bias=True)\n",
      "  (5): Softmax(dim=1)\n",
      ")\n"
     ]
    }
   ],
   "source": [
    "# Hyperparameters for our network\n",
    "input_size   = 784\n",
    "hidden_sizes = [4, 4]\n",
    "output_size   = 10\n",
    "\n",
    "# Build a feed-forward network\n",
    "model = nn.Sequential(nn.Linear(input_size, hidden_sizes[0]),\n",
    "                      nn.ReLU(),\n",
    "                      nn.Linear(hidden_sizes[0], hidden_sizes[1]),\n",
    "                      nn.ReLU(),\n",
    "                      nn.Linear(hidden_sizes[1], output_size),\n",
    "                      nn.Softmax(dim=1))\n",
    "print(model)"
   ]
  },
  {
   "cell_type": "markdown",
   "metadata": {},
   "source": [
    "You can also pass in an `OrderedDict` to name the individual layers and operations. Note that a dictionary keys must be unique, so _each operation must have a different name_."
   ]
  },
  {
   "cell_type": "code",
   "execution_count": 8,
   "metadata": {
    "ExecuteTime": {
     "end_time": "2021-05-26T22:26:42.300216Z",
     "start_time": "2021-05-26T22:26:42.289009Z"
    }
   },
   "outputs": [
    {
     "data": {
      "text/plain": [
       "Sequential(\n",
       "  (fc1): Linear(in_features=784, out_features=4, bias=True)\n",
       "  (relu1): ReLU()\n",
       "  (fc2): Linear(in_features=4, out_features=4, bias=True)\n",
       "  (relu2): ReLU()\n",
       "  (output): Linear(in_features=4, out_features=10, bias=True)\n",
       "  (softmax): Softmax(dim=1)\n",
       ")"
      ]
     },
     "execution_count": 8,
     "metadata": {},
     "output_type": "execute_result"
    }
   ],
   "source": [
    "model = nn.Sequential(OrderedDict([\n",
    "          ('fc1',   nn.Linear(input_size, hidden_sizes[0])),\n",
    "          ('relu1', nn.ReLU()),\n",
    "          ('fc2',   nn.Linear(hidden_sizes[0], hidden_sizes[1])),\n",
    "          ('relu2', nn.ReLU()),\n",
    "          ('output', nn.Linear(hidden_sizes[1], output_size)),\n",
    "          ('softmax', nn.Softmax(dim=1))]))\n",
    "model"
   ]
  },
  {
   "cell_type": "markdown",
   "metadata": {},
   "source": [
    "### Initializing weights and biases\n",
    "\n",
    "The weights and such are automatically initialized for you, but it's possible to customize how they are initialized. The weights and biases are tensors attached to the layer you defined, you can get them with `model.fc1.weight` for instance."
   ]
  },
  {
   "cell_type": "code",
   "execution_count": 9,
   "metadata": {
    "ExecuteTime": {
     "end_time": "2021-05-26T22:26:42.972699Z",
     "start_time": "2021-05-26T22:26:42.963913Z"
    }
   },
   "outputs": [
    {
     "name": "stdout",
     "output_type": "stream",
     "text": [
      "Parameter containing:\n",
      "tensor([[ 0.0262,  0.0176, -0.0099,  ..., -0.0037,  0.0221,  0.0045],\n",
      "        [-0.0230,  0.0194, -0.0289,  ..., -0.0152, -0.0265,  0.0154],\n",
      "        [ 0.0355,  0.0255, -0.0057,  ...,  0.0166,  0.0310, -0.0112],\n",
      "        [-0.0289,  0.0197,  0.0343,  ..., -0.0280, -0.0211, -0.0167]],\n",
      "       requires_grad=True)\n",
      "Parameter containing:\n",
      "tensor([ 0.0157, -0.0046, -0.0035, -0.0007], requires_grad=True)\n"
     ]
    }
   ],
   "source": [
    "print(model.fc1.weight)\n",
    "print(model.fc1.bias)"
   ]
  },
  {
   "cell_type": "markdown",
   "metadata": {},
   "source": [
    "For custom initialization, we want to modify these tensors in place. These are actually autograd *Variables*, so we need to get back the actual tensors with `model.fc1.weight.data`. Once we have the tensors, we can fill them with zeros (for biases) or random normal values."
   ]
  },
  {
   "cell_type": "code",
   "execution_count": 10,
   "metadata": {
    "ExecuteTime": {
     "end_time": "2021-05-26T22:26:43.889729Z",
     "start_time": "2021-05-26T22:26:43.883940Z"
    }
   },
   "outputs": [
    {
     "data": {
      "text/plain": [
       "tensor([0., 0., 0., 0.])"
      ]
     },
     "execution_count": 10,
     "metadata": {},
     "output_type": "execute_result"
    }
   ],
   "source": [
    "# Set biases to all zeros\n",
    "model.fc1.bias.data.fill_(0)"
   ]
  },
  {
   "cell_type": "code",
   "execution_count": 11,
   "metadata": {
    "ExecuteTime": {
     "end_time": "2021-05-26T22:26:44.084097Z",
     "start_time": "2021-05-26T22:26:44.076738Z"
    }
   },
   "outputs": [
    {
     "data": {
      "text/plain": [
       "tensor([[-1.2325e-03, -3.3386e-03, -6.2179e-03,  ..., -6.4598e-03,\n",
       "          4.1995e-03, -5.5070e-03],\n",
       "        [ 6.2392e-03,  6.1301e-03,  1.4362e-02,  ...,  1.7384e-02,\n",
       "          4.1313e-03, -4.7996e-03],\n",
       "        [-7.6203e-04,  1.5786e-02,  3.0122e-02,  ...,  8.6913e-05,\n",
       "         -9.1554e-03,  9.4238e-03],\n",
       "        [-7.0104e-03, -4.4596e-03, -1.5241e-04,  ...,  5.6096e-03,\n",
       "          4.7333e-03,  1.4597e-03]])"
      ]
     },
     "execution_count": 11,
     "metadata": {},
     "output_type": "execute_result"
    }
   ],
   "source": [
    "# sample from random normal with standard dev = 0.01\n",
    "model.fc1.weight.data.normal_(std=0.01)"
   ]
  },
  {
   "cell_type": "markdown",
   "metadata": {},
   "source": [
    "### STEP 1: Forward pass\n",
    "\n",
    "Now that we have a network, let's see what happens when we pass in an image. This is called the forward pass. We're going to convert the image data into a tensor, then pass it through the operations defined by the network architecture."
   ]
  },
  {
   "cell_type": "code",
   "execution_count": 12,
   "metadata": {
    "ExecuteTime": {
     "end_time": "2021-05-26T22:26:44.506324Z",
     "start_time": "2021-05-26T22:26:44.491847Z"
    }
   },
   "outputs": [],
   "source": [
    "# Grab some data \n",
    "dataiter = iter(trainloader)\n",
    "images, labels = dataiter.next()"
   ]
  },
  {
   "cell_type": "code",
   "execution_count": 13,
   "metadata": {
    "ExecuteTime": {
     "end_time": "2021-05-26T22:26:44.596541Z",
     "start_time": "2021-05-26T22:26:44.594169Z"
    }
   },
   "outputs": [
    {
     "data": {
      "text/plain": [
       "torch.Size([16, 1, 28, 28])"
      ]
     },
     "execution_count": 13,
     "metadata": {},
     "output_type": "execute_result"
    }
   ],
   "source": [
    "images.shape"
   ]
  },
  {
   "cell_type": "code",
   "execution_count": 14,
   "metadata": {
    "ExecuteTime": {
     "end_time": "2021-05-26T22:26:44.851894Z",
     "start_time": "2021-05-26T22:26:44.845888Z"
    }
   },
   "outputs": [
    {
     "data": {
      "text/plain": [
       "Sequential(\n",
       "  (fc1): Linear(in_features=784, out_features=4, bias=True)\n",
       "  (relu1): ReLU()\n",
       "  (fc2): Linear(in_features=4, out_features=4, bias=True)\n",
       "  (relu2): ReLU()\n",
       "  (output): Linear(in_features=4, out_features=10, bias=True)\n",
       "  (softmax): Softmax(dim=1)\n",
       ")"
      ]
     },
     "execution_count": 14,
     "metadata": {},
     "output_type": "execute_result"
    }
   ],
   "source": [
    "model"
   ]
  },
  {
   "cell_type": "code",
   "execution_count": 15,
   "metadata": {
    "ExecuteTime": {
     "end_time": "2021-05-26T22:26:46.121246Z",
     "start_time": "2021-05-26T22:26:46.112022Z"
    }
   },
   "outputs": [
    {
     "data": {
      "text/plain": [
       "tensor([[[-1., -1., -1.,  ..., -1., -1., -1.]],\n",
       "\n",
       "        [[-1., -1., -1.,  ..., -1., -1., -1.]],\n",
       "\n",
       "        [[-1., -1., -1.,  ..., -1., -1., -1.]],\n",
       "\n",
       "        ...,\n",
       "\n",
       "        [[-1., -1., -1.,  ..., -1., -1., -1.]],\n",
       "\n",
       "        [[-1., -1., -1.,  ..., -1., -1., -1.]],\n",
       "\n",
       "        [[-1., -1., -1.,  ..., -1., -1., -1.]]])"
      ]
     },
     "execution_count": 15,
     "metadata": {},
     "output_type": "execute_result"
    }
   ],
   "source": [
    "# Resize images into a 1D vector, new shape is (batch size, color channels, image pixels) \n",
    "images.resize_(images.shape[0], 1, 784)\n",
    "# or images.resize_(images.shape[0], 1, 784) to not automatically get batch size"
   ]
  },
  {
   "cell_type": "code",
   "execution_count": 16,
   "metadata": {
    "ExecuteTime": {
     "end_time": "2021-05-26T22:26:46.519895Z",
     "start_time": "2021-05-26T22:26:46.514137Z"
    }
   },
   "outputs": [
    {
     "data": {
      "text/plain": [
       "torch.Size([1, 784])"
      ]
     },
     "execution_count": 16,
     "metadata": {},
     "output_type": "execute_result"
    }
   ],
   "source": [
    "img_idx = 0\n",
    "images[img_idx,:].shape"
   ]
  },
  {
   "cell_type": "code",
   "execution_count": 17,
   "metadata": {
    "ExecuteTime": {
     "end_time": "2021-05-26T22:26:47.945952Z",
     "start_time": "2021-05-26T22:26:47.888846Z"
    }
   },
   "outputs": [],
   "source": [
    "# Forward pass through the network\n",
    "img_idx = 0\n",
    "ps = model(images[img_idx,:])"
   ]
  },
  {
   "cell_type": "code",
   "execution_count": 18,
   "metadata": {
    "ExecuteTime": {
     "end_time": "2021-05-26T22:26:50.561845Z",
     "start_time": "2021-05-26T22:26:50.411449Z"
    }
   },
   "outputs": [
    {
     "data": {
      "image/png": "[encoded data removed]",
      "text/plain": [
       "<Figure size 432x648 with 2 Axes>"
      ]
     },
     "metadata": {
      "image/png": {
       "height": 195,
       "width": 349
      },
      "needs_background": "light"
     },
     "output_type": "display_data"
    }
   ],
   "source": [
    "img = images[img_idx]\n",
    "view_classify(img.view(1, 28, 28), ps)"
   ]
  },
  {
   "cell_type": "markdown",
   "metadata": {},
   "source": [
    "As you can see above, our network has basically no idea what this digit is. It's because we haven't trained it yet, all the weights are random!"
   ]
  },
  {
   "cell_type": "markdown",
   "metadata": {},
   "source": [
    "# Training Neural Networks\n",
    "\n",
    "The network we built isn't so smart, it doesn't know anything about our handwritten digits. Neural networks with non-linear activations work like universal function approximators. There is some function that maps your input to the output. For example, images of handwritten digits to class probabilities. The power of neural networks is that we can train them to approximate this function, and basically any function given enough data and compute time.\n",
    "\n",
    "<img src=\"assets/function_approx.png\" width=500px>\n",
    "\n",
    "At first the network is naive, it doesn't know the function mapping the inputs to the outputs. We train the network by showing it examples of real data, then adjusting the network parameters such that it approximates this function.\n",
    "\n",
    "To find these parameters, we need to know how poorly the network is predicting the real outputs. For this we calculate a **loss function** (also called the cost), a measure of our prediction error. For example, the mean squared loss is often used in regression and binary classification problems\n",
    "\n",
    "$$\n",
    "\\ell = \\frac{1}{2n}\\sum_i^n{\\left(y_i - \\hat{y}_i\\right)^2}\n",
    "$$\n",
    "\n",
    "where $n$ is the number of training examples, $y_i$ are the true labels, and $\\hat{y}_i$ are the predicted labels.\n",
    "\n",
    "By minimizing this loss with respect to the network parameters, we can find configurations where the loss is at a minimum and the network is able to predict the correct labels with high accuracy. We find this minimum using a process called **gradient descent**. The gradient is the slope of the loss function and points in the direction of fastest change. To get to the minimum in the least amount of time, we then want to follow the gradient (downwards). You can think of this like descending a mountain by following the steepest slope to the base.\n",
    "\n",
    "<img src='assets/gradient_descent.png' width=350px>"
   ]
  },
  {
   "cell_type": "markdown",
   "metadata": {},
   "source": [
    "## Backpropagation\n",
    "\n",
    "For single layer networks, gradient descent is simple to implement. However, it's more complicated for deeper, multilayer neural networks like the one we've built. Complicated enough that it took about 30 years before researchers figured out how to train multilayer networks, although it's straightforward once you learn about it. \n",
    "\n",
    "This is done through **backpropagation** which is really just an application of the chain rule from calculus. It's easiest to understand if we convert a two layer network into a graph representation.\n",
    "\n",
    "<img src='assets/w1_backprop_graph.png' width=400px>\n",
    "\n",
    "In the forward pass through the network, our data and operations go from right to left here. To train the weights with gradient descent, we propagate the gradient of the cost backwards through the network. Mathematically, this is really just calculating the gradient of the loss with respect to the weights using the chain rule.\n",
    "\n",
    "$$\n",
    "\\frac{\\partial \\ell}{\\partial w_1} = \\frac{\\partial l_1}{\\partial w_1} \\frac{\\partial s}{\\partial l_1} \\frac{\\partial l_2}{\\partial s} \\frac{\\partial \\ell}{\\partial l_2}\n",
    "$$\n",
    "\n",
    "We update our weights using this gradient with some learning rate $\\alpha$. \n",
    "\n",
    "$$\n",
    "w^\\prime = w - \\alpha \\frac{\\partial \\ell}{\\partial w}\n",
    "$$\n",
    "\n",
    "The learning rate is set such that the weight update steps are small enough that the iterative method settles in a minimum.\n",
    "\n",
    "The first thing we need to do for training is define our loss function. In PyTorch, you'll usually see this as `criterion`. Here we're using softmax output, so we want to use `criterion = nn.CrossEntropyLoss()` as our loss. Later when training, you use `loss = criterion(output, targets)` to calculate the actual loss.\n",
    "\n",
    "We also need to define the optimizer we're using, SGD or Adam, or something along those lines. Here I'll just use SGD with `torch.optim.SGD`, passing in the network parameters and the learning rate."
   ]
  },
  {
   "cell_type": "markdown",
   "metadata": {},
   "source": [
    "## Autograd\n",
    "\n",
    "Torch provides a module, `autograd`, for automatically calculating the gradient of tensors. It does this by keeping track of operations performed on tensors. To make sure PyTorch keeps track of operations on a tensor and calculates the gradients, you need to set `requires_grad` on a tensor. You can do this at creation with the `requires_grad` keyword, or at any time with `x.requires_grad_(True)`.\n",
    "\n",
    "You can turn off gradients for a block of code with the `torch.no_grad()` content:\n",
    "```python\n",
    "x = torch.zeros(1, requires_grad=True)\n",
    ">>> with torch.no_grad():\n",
    "...     y = x * 2\n",
    ">>> y.requires_grad\n",
    "False\n",
    "```\n",
    "\n",
    "Also, you can turn on or off gradients altogether with `torch.set_grad_enabled(True|False)`.\n",
    "\n",
    "The gradients are computed with respect to some variable `z` with `z.backward()`. This does a backward pass through the operations that created `z`."
   ]
  },
  {
   "cell_type": "code",
   "execution_count": 19,
   "metadata": {
    "ExecuteTime": {
     "end_time": "2021-05-26T22:26:52.867509Z",
     "start_time": "2021-05-26T22:26:52.860629Z"
    }
   },
   "outputs": [
    {
     "name": "stdout",
     "output_type": "stream",
     "text": [
      "tensor([[-0.7149, -1.5399],\n",
      "        [-0.6583, -0.0067]], requires_grad=True)\n"
     ]
    }
   ],
   "source": [
    "x = torch.randn(2,2, requires_grad=True)\n",
    "print(x)"
   ]
  },
  {
   "cell_type": "code",
   "execution_count": 20,
   "metadata": {
    "ExecuteTime": {
     "end_time": "2021-05-26T22:26:53.383436Z",
     "start_time": "2021-05-26T22:26:53.375536Z"
    }
   },
   "outputs": [
    {
     "name": "stdout",
     "output_type": "stream",
     "text": [
      "tensor([[5.1110e-01, 2.3714e+00],\n",
      "        [4.3337e-01, 4.5165e-05]], grad_fn=<PowBackward0>)\n"
     ]
    }
   ],
   "source": [
    "y = x**2\n",
    "print(y)"
   ]
  },
  {
   "cell_type": "markdown",
   "metadata": {},
   "source": [
    "Below we can see the operation that created `y`, a power operation `PowBackward0`."
   ]
  },
  {
   "cell_type": "code",
   "execution_count": 21,
   "metadata": {
    "ExecuteTime": {
     "end_time": "2021-05-26T22:26:53.870654Z",
     "start_time": "2021-05-26T22:26:53.867424Z"
    }
   },
   "outputs": [
    {
     "name": "stdout",
     "output_type": "stream",
     "text": [
      "<PowBackward0 object at 0x7fc31278d8b0>\n"
     ]
    }
   ],
   "source": [
    "## grad_fn shows the function that generated this variable\n",
    "print(y.grad_fn)"
   ]
  },
  {
   "cell_type": "markdown",
   "metadata": {},
   "source": [
    "The autgrad module keeps track of these operations and knows how to calculate the gradient for each one. In this way, it's able to calculate the gradients for a chain of operations, with respect to any one tensor. Let's reduce the tensor `y` to a scalar value, the mean."
   ]
  },
  {
   "cell_type": "code",
   "execution_count": 22,
   "metadata": {
    "ExecuteTime": {
     "end_time": "2021-05-26T22:26:54.831912Z",
     "start_time": "2021-05-26T22:26:54.824631Z"
    }
   },
   "outputs": [
    {
     "name": "stdout",
     "output_type": "stream",
     "text": [
      "tensor(0.8290, grad_fn=<MeanBackward0>)\n"
     ]
    }
   ],
   "source": [
    "z = y.mean()\n",
    "print(z)"
   ]
  },
  {
   "cell_type": "markdown",
   "metadata": {},
   "source": [
    "You can check the gradients for `x` and `y` but they are empty currently."
   ]
  },
  {
   "cell_type": "code",
   "execution_count": 23,
   "metadata": {
    "ExecuteTime": {
     "end_time": "2021-05-26T22:26:55.546143Z",
     "start_time": "2021-05-26T22:26:55.541213Z"
    }
   },
   "outputs": [
    {
     "name": "stdout",
     "output_type": "stream",
     "text": [
      "None\n"
     ]
    }
   ],
   "source": [
    "print(x.grad)"
   ]
  },
  {
   "cell_type": "markdown",
   "metadata": {},
   "source": [
    "To calculate the gradients, you need to run the `.backward` method on a Variable, `z` for example. This will calculate the gradient for `z` with respect to `x`\n",
    "\n",
    "$$\n",
    "\\frac{\\partial z}{\\partial x} = \\frac{\\partial}{\\partial x}\\left[\\frac{1}{n}\\sum_i^n x_i^2\\right] = \\frac{x}{2}\n",
    "$$"
   ]
  },
  {
   "cell_type": "code",
   "execution_count": 24,
   "metadata": {
    "ExecuteTime": {
     "end_time": "2021-05-26T22:26:56.607560Z",
     "start_time": "2021-05-26T22:26:56.594993Z"
    }
   },
   "outputs": [
    {
     "name": "stdout",
     "output_type": "stream",
     "text": [
      "tensor([[-0.3575, -0.7700],\n",
      "        [-0.3292, -0.0034]])\n",
      "tensor([[-0.3575, -0.7700],\n",
      "        [-0.3292, -0.0034]], grad_fn=<DivBackward0>)\n"
     ]
    }
   ],
   "source": [
    "z.backward()\n",
    "print(x.grad)\n",
    "print(x/2)"
   ]
  },
  {
   "cell_type": "markdown",
   "metadata": {},
   "source": [
    "These gradients calculations are particularly useful for neural networks. For training we need the gradients of the weights with respect to the cost. With PyTorch, we run data forward through the network to calculate the cost, then, go backwards to calculate the gradients with respect to the cost. Once we have the gradients we can make a gradient descent step. "
   ]
  },
  {
   "cell_type": "markdown",
   "metadata": {},
   "source": [
    "I'll build a network with `nn.Sequential` here. Only difference from the last part is I'm not actually using softmax on the output, but instead just using the raw output from the last layer. This is because the output from softmax is a probability distribution. Often, the output will have values really close to zero or really close to one. Due to [inaccuracies with representing numbers as floating points](https://docs.python.org/3/tutorial/floatingpoint.html), computations with a softmax output can lose accuracy and become unstable. To get around this, we'll use the raw output, called the **logits**, to calculate the loss."
   ]
  },
  {
   "cell_type": "code",
   "execution_count": 25,
   "metadata": {
    "ExecuteTime": {
     "end_time": "2021-05-26T22:26:56.944759Z",
     "start_time": "2021-05-26T22:26:56.936939Z"
    }
   },
   "outputs": [],
   "source": [
    "# Hyperparameters for our network\n",
    "input_size   = 784\n",
    "hidden_sizes = [128, 64]\n",
    "output_size  = 10\n",
    "\n",
    "# Build a feed-forward network\n",
    "model = nn.Sequential(OrderedDict([\n",
    "          ('fc1', nn.Linear(input_size, hidden_sizes[0])),\n",
    "          ('relu1', nn.ReLU()),\n",
    "          ('fc2', nn.Linear(hidden_sizes[0], hidden_sizes[1])),\n",
    "          ('relu2', nn.ReLU()),\n",
    "          ('logits', nn.Linear(hidden_sizes[1], output_size))]))"
   ]
  },
  {
   "cell_type": "markdown",
   "metadata": {},
   "source": [
    "## Training the network!\n",
    "\n",
    "The first thing we need to do for training is define our loss function. In PyTorch, you'll usually see this as `criterion`. Here we're using softmax output, so we want to use `criterion = nn.CrossEntropyLoss()` as our loss. Later when training, you use `loss = criterion(output, targets)` to calculate the actual loss.\n",
    "\n",
    "We also need to define the optimizer we're using, SGD or Adam, or something along those lines. Here I'll just use SGD with `torch.optim.SGD`, passing in the network parameters and the learning rate."
   ]
  },
  {
   "cell_type": "code",
   "execution_count": 26,
   "metadata": {
    "ExecuteTime": {
     "end_time": "2021-05-26T22:26:57.317614Z",
     "start_time": "2021-05-26T22:26:57.313022Z"
    }
   },
   "outputs": [],
   "source": [
    "criterion = nn.CrossEntropyLoss()\n",
    "optimizer = optim.SGD(model.parameters(), lr=0.01)"
   ]
  },
  {
   "cell_type": "markdown",
   "metadata": {},
   "source": [
    "First, let's consider just one learning step before looping through all the data. The general process with PyTorch:\n",
    "\n",
    "* Make a forward pass through the network to get the logits \n",
    "* Use the logits to calculate the loss\n",
    "* Perform a backward pass through the network with `loss.backward()` to calculate the gradients\n",
    "* Take a step with the optimizer to update the weights\n",
    "\n",
    "Below I'll go through one training step and print out the weights and gradients so you can see how it changes."
   ]
  },
  {
   "cell_type": "code",
   "execution_count": 28,
   "metadata": {
    "ExecuteTime": {
     "end_time": "2021-05-26T22:27:07.408433Z",
     "start_time": "2021-05-26T22:27:07.373358Z"
    }
   },
   "outputs": [
    {
     "name": "stdout",
     "output_type": "stream",
     "text": [
      "Initial weights -  Parameter containing:\n",
      "tensor([[-0.0247,  0.0240, -0.0310,  ...,  0.0335,  0.0041, -0.0197],\n",
      "        [ 0.0354,  0.0262,  0.0250,  ...,  0.0226, -0.0073, -0.0172],\n",
      "        [-0.0335, -0.0177,  0.0044,  ..., -0.0115, -0.0143,  0.0139],\n",
      "        ...,\n",
      "        [-0.0105, -0.0050, -0.0110,  ...,  0.0038,  0.0243, -0.0273],\n",
      "        [-0.0278, -0.0118, -0.0340,  ..., -0.0009,  0.0334,  0.0236],\n",
      "        [ 0.0281,  0.0066,  0.0095,  ...,  0.0309, -0.0313, -0.0054]],\n",
      "       requires_grad=True)\n",
      "Gradient - tensor([[ 0.0000,  0.0000,  0.0000,  ...,  0.0000,  0.0000,  0.0000],\n",
      "        [ 0.0037,  0.0037,  0.0037,  ...,  0.0037,  0.0037,  0.0037],\n",
      "        [ 0.0014,  0.0014,  0.0014,  ...,  0.0014,  0.0014,  0.0014],\n",
      "        ...,\n",
      "        [ 0.0074,  0.0074,  0.0074,  ...,  0.0074,  0.0074,  0.0074],\n",
      "        [-0.0031, -0.0031, -0.0031,  ..., -0.0031, -0.0031, -0.0031],\n",
      "        [-0.0045, -0.0045, -0.0045,  ..., -0.0045, -0.0045, -0.0045]])\n"
     ]
    }
   ],
   "source": [
    "print('Initial weights - ', model.fc1.weight)\n",
    "\n",
    "images, labels = next(iter(trainloader))\n",
    "images.resize_(16, 784)\n",
    "\n",
    "# Clear the gradients, do this because gradients are accumulated\n",
    "optimizer.zero_grad()\n",
    "\n",
    "# Forward pass, then backward pass, then update weights\n",
    "output = model.forward(images)\n",
    "loss = criterion(output, labels)\n",
    "loss.backward()\n",
    "print('Gradient -', model.fc1.weight.grad)\n",
    "optimizer.step()"
   ]
  },
  {
   "cell_type": "code",
   "execution_count": 29,
   "metadata": {
    "ExecuteTime": {
     "end_time": "2021-05-26T22:27:07.915247Z",
     "start_time": "2021-05-26T22:27:07.908155Z"
    }
   },
   "outputs": [
    {
     "name": "stdout",
     "output_type": "stream",
     "text": [
      "Updated weights -  Parameter containing:\n",
      "tensor([[-0.0247,  0.0240, -0.0310,  ...,  0.0335,  0.0041, -0.0197],\n",
      "        [ 0.0354,  0.0261,  0.0250,  ...,  0.0226, -0.0074, -0.0172],\n",
      "        [-0.0335, -0.0177,  0.0044,  ..., -0.0115, -0.0143,  0.0139],\n",
      "        ...,\n",
      "        [-0.0105, -0.0051, -0.0110,  ...,  0.0037,  0.0242, -0.0274],\n",
      "        [-0.0278, -0.0118, -0.0339,  ..., -0.0009,  0.0334,  0.0236],\n",
      "        [ 0.0281,  0.0067,  0.0096,  ...,  0.0309, -0.0313, -0.0053]],\n",
      "       requires_grad=True)\n"
     ]
    }
   ],
   "source": [
    "print('Updated weights - ', model.fc1.weight)"
   ]
  },
  {
   "cell_type": "markdown",
   "metadata": {},
   "source": [
    "### Training for real\n",
    "\n",
    "Now we'll put this algorithm into a loop so we can go through all the images. This is fairly straightforward. We'll loop through the mini-batches in our dataset, pass the data through the network to calculate the losses, get the gradients, then run the optimizer."
   ]
  },
  {
   "cell_type": "code",
   "execution_count": 30,
   "metadata": {
    "ExecuteTime": {
     "end_time": "2021-05-26T22:27:08.816179Z",
     "start_time": "2021-05-26T22:27:08.812807Z"
    }
   },
   "outputs": [],
   "source": [
    "optimizer = optim.SGD(model.parameters(), lr=0.003)"
   ]
  },
  {
   "cell_type": "code",
   "execution_count": 31,
   "metadata": {
    "ExecuteTime": {
     "end_time": "2021-05-26T22:27:36.083537Z",
     "start_time": "2021-05-26T22:27:09.280769Z"
    }
   },
   "outputs": [
    {
     "name": "stdout",
     "output_type": "stream",
     "text": [
      "Epoch: 1/3\n",
      "\tIteration: 0\t Loss: 0.0577\n",
      "\tIteration: 40\t Loss: 2.2975\n",
      "\tIteration: 80\t Loss: 2.2792\n",
      "\tIteration: 120\t Loss: 2.2556\n",
      "\tIteration: 160\t Loss: 2.2323\n",
      "\tIteration: 200\t Loss: 2.2072\n",
      "\tIteration: 240\t Loss: 2.1660\n",
      "\tIteration: 280\t Loss: 2.1453\n",
      "\tIteration: 320\t Loss: 2.1233\n",
      "\tIteration: 360\t Loss: 2.0924\n",
      "\tIteration: 400\t Loss: 2.0521\n",
      "\tIteration: 440\t Loss: 1.9813\n",
      "\tIteration: 480\t Loss: 1.9552\n",
      "\tIteration: 520\t Loss: 1.8864\n",
      "\tIteration: 560\t Loss: 1.8257\n",
      "\tIteration: 600\t Loss: 1.7694\n",
      "\tIteration: 640\t Loss: 1.7441\n",
      "\tIteration: 680\t Loss: 1.6225\n",
      "\tIteration: 720\t Loss: 1.5887\n",
      "\tIteration: 760\t Loss: 1.4847\n",
      "\tIteration: 800\t Loss: 1.4167\n",
      "\tIteration: 840\t Loss: 1.3707\n",
      "\tIteration: 880\t Loss: 1.2962\n",
      "\tIteration: 920\t Loss: 1.2247\n",
      "\tIteration: 960\t Loss: 1.1875\n",
      "\tIteration: 1000\t Loss: 1.1800\n",
      "\tIteration: 1040\t Loss: 1.1078\n",
      "\tIteration: 1080\t Loss: 1.0413\n",
      "\tIteration: 1120\t Loss: 1.0186\n",
      "\tIteration: 1160\t Loss: 0.9772\n",
      "\tIteration: 1200\t Loss: 0.9010\n",
      "\tIteration: 1240\t Loss: 0.8790\n",
      "\tIteration: 1280\t Loss: 0.8666\n",
      "\tIteration: 1320\t Loss: 0.8133\n",
      "\tIteration: 1360\t Loss: 0.8197\n",
      "\tIteration: 1400\t Loss: 0.8298\n",
      "\tIteration: 1440\t Loss: 0.7718\n",
      "\tIteration: 1480\t Loss: 0.7429\n",
      "\tIteration: 1520\t Loss: 0.6878\n",
      "\tIteration: 1560\t Loss: 0.6517\n",
      "\tIteration: 1600\t Loss: 0.6795\n",
      "\tIteration: 1640\t Loss: 0.7119\n",
      "\tIteration: 1680\t Loss: 0.6968\n",
      "\tIteration: 1720\t Loss: 0.6645\n",
      "\tIteration: 1760\t Loss: 0.6214\n",
      "\tIteration: 1800\t Loss: 0.6134\n",
      "\tIteration: 1840\t Loss: 0.5614\n",
      "\tIteration: 1880\t Loss: 0.5841\n",
      "\tIteration: 1920\t Loss: 0.6165\n",
      "\tIteration: 1960\t Loss: 0.6065\n",
      "\tIteration: 2000\t Loss: 0.6265\n",
      "\tIteration: 2040\t Loss: 0.5953\n",
      "\tIteration: 2080\t Loss: 0.5785\n",
      "\tIteration: 2120\t Loss: 0.4998\n",
      "\tIteration: 2160\t Loss: 0.5424\n",
      "\tIteration: 2200\t Loss: 0.5206\n",
      "\tIteration: 2240\t Loss: 0.5621\n",
      "\tIteration: 2280\t Loss: 0.5608\n",
      "\tIteration: 2320\t Loss: 0.5104\n",
      "\tIteration: 2360\t Loss: 0.5240\n",
      "\tIteration: 2400\t Loss: 0.5953\n",
      "\tIteration: 2440\t Loss: 0.4835\n",
      "\tIteration: 2480\t Loss: 0.4797\n",
      "\tIteration: 2520\t Loss: 0.4417\n",
      "\tIteration: 2560\t Loss: 0.5208\n",
      "\tIteration: 2600\t Loss: 0.4585\n",
      "\tIteration: 2640\t Loss: 0.5000\n",
      "\tIteration: 2680\t Loss: 0.5108\n",
      "\tIteration: 2720\t Loss: 0.4579\n",
      "\tIteration: 2760\t Loss: 0.4808\n",
      "\tIteration: 2800\t Loss: 0.5232\n",
      "\tIteration: 2840\t Loss: 0.4443\n",
      "\tIteration: 2880\t Loss: 0.4115\n",
      "\tIteration: 2920\t Loss: 0.4389\n",
      "\tIteration: 2960\t Loss: 0.4822\n",
      "\tIteration: 3000\t Loss: 0.4296\n",
      "\tIteration: 3040\t Loss: 0.4200\n",
      "\tIteration: 3080\t Loss: 0.5014\n",
      "\tIteration: 3120\t Loss: 0.4772\n",
      "\tIteration: 3160\t Loss: 0.4407\n",
      "\tIteration: 3200\t Loss: 0.4339\n",
      "\tIteration: 3240\t Loss: 0.4318\n",
      "\tIteration: 3280\t Loss: 0.4680\n",
      "\tIteration: 3320\t Loss: 0.3823\n",
      "\tIteration: 3360\t Loss: 0.4071\n",
      "\tIteration: 3400\t Loss: 0.4091\n",
      "\tIteration: 3440\t Loss: 0.4071\n",
      "\tIteration: 3480\t Loss: 0.4229\n",
      "\tIteration: 3520\t Loss: 0.4570\n",
      "\tIteration: 3560\t Loss: 0.4221\n",
      "\tIteration: 3600\t Loss: 0.4241\n",
      "\tIteration: 3640\t Loss: 0.4015\n",
      "\tIteration: 3680\t Loss: 0.3777\n",
      "\tIteration: 3720\t Loss: 0.3445\n",
      "Epoch: 2/3\n",
      "\tIteration: 0\t Loss: 0.0075\n",
      "\tIteration: 40\t Loss: 0.3839\n",
      "\tIteration: 80\t Loss: 0.3693\n",
      "\tIteration: 120\t Loss: 0.3422\n",
      "\tIteration: 160\t Loss: 0.3933\n",
      "\tIteration: 200\t Loss: 0.3718\n",
      "\tIteration: 240\t Loss: 0.4313\n",
      "\tIteration: 280\t Loss: 0.3985\n",
      "\tIteration: 320\t Loss: 0.4014\n",
      "\tIteration: 360\t Loss: 0.3387\n",
      "\tIteration: 400\t Loss: 0.3779\n",
      "\tIteration: 440\t Loss: 0.4367\n",
      "\tIteration: 480\t Loss: 0.4414\n",
      "\tIteration: 520\t Loss: 0.3799\n",
      "\tIteration: 560\t Loss: 0.3830\n",
      "\tIteration: 600\t Loss: 0.4134\n",
      "\tIteration: 640\t Loss: 0.4262\n",
      "\tIteration: 680\t Loss: 0.3933\n",
      "\tIteration: 720\t Loss: 0.3837\n",
      "\tIteration: 760\t Loss: 0.3486\n",
      "\tIteration: 800\t Loss: 0.4192\n",
      "\tIteration: 840\t Loss: 0.3179\n",
      "\tIteration: 880\t Loss: 0.3322\n",
      "\tIteration: 920\t Loss: 0.3732\n",
      "\tIteration: 960\t Loss: 0.3253\n",
      "\tIteration: 1000\t Loss: 0.3745\n",
      "\tIteration: 1040\t Loss: 0.3330\n",
      "\tIteration: 1080\t Loss: 0.4126\n",
      "\tIteration: 1120\t Loss: 0.3392\n",
      "\tIteration: 1160\t Loss: 0.3894\n",
      "\tIteration: 1200\t Loss: 0.3863\n",
      "\tIteration: 1240\t Loss: 0.3622\n",
      "\tIteration: 1280\t Loss: 0.3932\n",
      "\tIteration: 1320\t Loss: 0.3606\n",
      "\tIteration: 1360\t Loss: 0.3781\n",
      "\tIteration: 1400\t Loss: 0.3520\n",
      "\tIteration: 1440\t Loss: 0.3491\n",
      "\tIteration: 1480\t Loss: 0.3465\n",
      "\tIteration: 1520\t Loss: 0.3240\n",
      "\tIteration: 1560\t Loss: 0.3341\n",
      "\tIteration: 1600\t Loss: 0.3514\n",
      "\tIteration: 1640\t Loss: 0.3576\n",
      "\tIteration: 1680\t Loss: 0.3625\n",
      "\tIteration: 1720\t Loss: 0.3304\n",
      "\tIteration: 1760\t Loss: 0.3244\n",
      "\tIteration: 1800\t Loss: 0.3605\n",
      "\tIteration: 1840\t Loss: 0.3575\n",
      "\tIteration: 1880\t Loss: 0.3195\n",
      "\tIteration: 1920\t Loss: 0.3330\n",
      "\tIteration: 1960\t Loss: 0.3246\n",
      "\tIteration: 2000\t Loss: 0.3316\n",
      "\tIteration: 2040\t Loss: 0.3196\n",
      "\tIteration: 2080\t Loss: 0.3657\n",
      "\tIteration: 2120\t Loss: 0.3443\n",
      "\tIteration: 2160\t Loss: 0.3374\n",
      "\tIteration: 2200\t Loss: 0.3344\n",
      "\tIteration: 2240\t Loss: 0.3183\n",
      "\tIteration: 2280\t Loss: 0.3599\n",
      "\tIteration: 2320\t Loss: 0.3191\n",
      "\tIteration: 2360\t Loss: 0.3359\n",
      "\tIteration: 2400\t Loss: 0.3479\n",
      "\tIteration: 2440\t Loss: 0.3282\n",
      "\tIteration: 2480\t Loss: 0.3243\n",
      "\tIteration: 2520\t Loss: 0.3843\n",
      "\tIteration: 2560\t Loss: 0.3718\n",
      "\tIteration: 2600\t Loss: 0.3132\n",
      "\tIteration: 2640\t Loss: 0.3206\n",
      "\tIteration: 2680\t Loss: 0.4018\n",
      "\tIteration: 2720\t Loss: 0.2950\n",
      "\tIteration: 2760\t Loss: 0.3585\n",
      "\tIteration: 2800\t Loss: 0.3661\n",
      "\tIteration: 2840\t Loss: 0.3607\n",
      "\tIteration: 2880\t Loss: 0.3527\n",
      "\tIteration: 2920\t Loss: 0.2806\n",
      "\tIteration: 2960\t Loss: 0.3620\n",
      "\tIteration: 3000\t Loss: 0.3399\n",
      "\tIteration: 3040\t Loss: 0.2909\n",
      "\tIteration: 3080\t Loss: 0.3430\n",
      "\tIteration: 3120\t Loss: 0.3187\n",
      "\tIteration: 3160\t Loss: 0.3480\n",
      "\tIteration: 3200\t Loss: 0.3272\n",
      "\tIteration: 3240\t Loss: 0.3179\n",
      "\tIteration: 3280\t Loss: 0.3265\n",
      "\tIteration: 3320\t Loss: 0.3287\n",
      "\tIteration: 3360\t Loss: 0.3302\n",
      "\tIteration: 3400\t Loss: 0.3689\n",
      "\tIteration: 3440\t Loss: 0.3364\n",
      "\tIteration: 3480\t Loss: 0.2695\n",
      "\tIteration: 3520\t Loss: 0.3112\n",
      "\tIteration: 3560\t Loss: 0.2812\n",
      "\tIteration: 3600\t Loss: 0.3814\n",
      "\tIteration: 3640\t Loss: 0.3147\n",
      "\tIteration: 3680\t Loss: 0.2717\n",
      "\tIteration: 3720\t Loss: 0.3368\n",
      "Epoch: 3/3\n",
      "\tIteration: 0\t Loss: 0.0062\n",
      "\tIteration: 40\t Loss: 0.2454\n",
      "\tIteration: 80\t Loss: 0.3007\n",
      "\tIteration: 120\t Loss: 0.2953\n",
      "\tIteration: 160\t Loss: 0.3079\n",
      "\tIteration: 200\t Loss: 0.2665\n",
      "\tIteration: 240\t Loss: 0.3175\n",
      "\tIteration: 280\t Loss: 0.3170\n",
      "\tIteration: 320\t Loss: 0.3900\n",
      "\tIteration: 360\t Loss: 0.3030\n",
      "\tIteration: 400\t Loss: 0.3410\n",
      "\tIteration: 440\t Loss: 0.3019\n",
      "\tIteration: 480\t Loss: 0.3009\n",
      "\tIteration: 520\t Loss: 0.3459\n",
      "\tIteration: 560\t Loss: 0.2698\n",
      "\tIteration: 600\t Loss: 0.2085\n",
      "\tIteration: 640\t Loss: 0.2899\n",
      "\tIteration: 680\t Loss: 0.2655\n",
      "\tIteration: 720\t Loss: 0.3405\n",
      "\tIteration: 760\t Loss: 0.2818\n",
      "\tIteration: 800\t Loss: 0.3963\n",
      "\tIteration: 840\t Loss: 0.3229\n",
      "\tIteration: 880\t Loss: 0.2688\n",
      "\tIteration: 920\t Loss: 0.2875\n",
      "\tIteration: 960\t Loss: 0.3100\n",
      "\tIteration: 1000\t Loss: 0.2834\n",
      "\tIteration: 1040\t Loss: 0.3038\n",
      "\tIteration: 1080\t Loss: 0.3586\n",
      "\tIteration: 1120\t Loss: 0.3143\n",
      "\tIteration: 1160\t Loss: 0.2858\n",
      "\tIteration: 1200\t Loss: 0.3217\n",
      "\tIteration: 1240\t Loss: 0.3292\n",
      "\tIteration: 1280\t Loss: 0.3321\n",
      "\tIteration: 1320\t Loss: 0.2505\n",
      "\tIteration: 1360\t Loss: 0.3077\n",
      "\tIteration: 1400\t Loss: 0.2681\n",
      "\tIteration: 1440\t Loss: 0.2861\n",
      "\tIteration: 1480\t Loss: 0.3948\n",
      "\tIteration: 1520\t Loss: 0.2737\n",
      "\tIteration: 1560\t Loss: 0.2688\n",
      "\tIteration: 1600\t Loss: 0.2613\n",
      "\tIteration: 1640\t Loss: 0.3087\n",
      "\tIteration: 1680\t Loss: 0.3012\n",
      "\tIteration: 1720\t Loss: 0.3224\n",
      "\tIteration: 1760\t Loss: 0.3030\n",
      "\tIteration: 1800\t Loss: 0.3223\n",
      "\tIteration: 1840\t Loss: 0.3129\n",
      "\tIteration: 1880\t Loss: 0.3315\n",
      "\tIteration: 1920\t Loss: 0.3191\n",
      "\tIteration: 1960\t Loss: 0.3059\n",
      "\tIteration: 2000\t Loss: 0.3273\n",
      "\tIteration: 2040\t Loss: 0.2896\n",
      "\tIteration: 2080\t Loss: 0.2689\n",
      "\tIteration: 2120\t Loss: 0.2290\n",
      "\tIteration: 2160\t Loss: 0.2808\n",
      "\tIteration: 2200\t Loss: 0.2987\n",
      "\tIteration: 2240\t Loss: 0.2691\n",
      "\tIteration: 2280\t Loss: 0.3018\n",
      "\tIteration: 2320\t Loss: 0.2760\n",
      "\tIteration: 2360\t Loss: 0.2968\n",
      "\tIteration: 2400\t Loss: 0.3203\n",
      "\tIteration: 2440\t Loss: 0.3030\n",
      "\tIteration: 2480\t Loss: 0.2879\n",
      "\tIteration: 2520\t Loss: 0.2541\n",
      "\tIteration: 2560\t Loss: 0.2728\n",
      "\tIteration: 2600\t Loss: 0.3307\n",
      "\tIteration: 2640\t Loss: 0.3637\n",
      "\tIteration: 2680\t Loss: 0.2403\n",
      "\tIteration: 2720\t Loss: 0.2826\n",
      "\tIteration: 2760\t Loss: 0.2860\n",
      "\tIteration: 2800\t Loss: 0.2693\n",
      "\tIteration: 2840\t Loss: 0.3395\n",
      "\tIteration: 2880\t Loss: 0.3057\n",
      "\tIteration: 2920\t Loss: 0.3225\n",
      "\tIteration: 2960\t Loss: 0.2874\n",
      "\tIteration: 3000\t Loss: 0.2389\n",
      "\tIteration: 3040\t Loss: 0.2786\n",
      "\tIteration: 3080\t Loss: 0.2697\n",
      "\tIteration: 3120\t Loss: 0.2875\n",
      "\tIteration: 3160\t Loss: 0.3146\n",
      "\tIteration: 3200\t Loss: 0.2813\n"
     ]
    },
    {
     "name": "stdout",
     "output_type": "stream",
     "text": [
      "\tIteration: 3240\t Loss: 0.2681\n",
      "\tIteration: 3280\t Loss: 0.2929\n",
      "\tIteration: 3320\t Loss: 0.2956\n",
      "\tIteration: 3360\t Loss: 0.3227\n",
      "\tIteration: 3400\t Loss: 0.2747\n",
      "\tIteration: 3440\t Loss: 0.2837\n",
      "\tIteration: 3480\t Loss: 0.3219\n",
      "\tIteration: 3520\t Loss: 0.2908\n",
      "\tIteration: 3560\t Loss: 0.3121\n",
      "\tIteration: 3600\t Loss: 0.2743\n",
      "\tIteration: 3640\t Loss: 0.2899\n",
      "\tIteration: 3680\t Loss: 0.2687\n",
      "\tIteration: 3720\t Loss: 0.2779\n"
     ]
    }
   ],
   "source": [
    "epochs = 3\n",
    "print_every = 40\n",
    "\n",
    "for e in range(epochs):\n",
    "    running_loss = 0\n",
    "    print(f\"Epoch: {e+1}/{epochs}\")\n",
    "\n",
    "    for i, (images, labels) in enumerate(iter(trainloader)):\n",
    "\n",
    "        # Flatten MNIST images into a 784 long vector\n",
    "        images.resize_(images.size()[0], 784)\n",
    "        \n",
    "        optimizer.zero_grad()\n",
    "        \n",
    "        output = model.forward(images)   # 1) Forward pass\n",
    "        loss = criterion(output, labels) # 2) Compute loss\n",
    "        loss.backward()                  # 3) Backward pass\n",
    "        optimizer.step()                 # 4) Update model\n",
    "        \n",
    "        running_loss += loss.item()\n",
    "        \n",
    "        if i % print_every == 0:\n",
    "            print(f\"\\tIteration: {i}\\t Loss: {running_loss/print_every:.4f}\")\n",
    "            running_loss = 0"
   ]
  },
  {
   "cell_type": "markdown",
   "metadata": {},
   "source": [
    "With the network trained, we can check out it's predictions."
   ]
  },
  {
   "cell_type": "code",
   "execution_count": 32,
   "metadata": {
    "ExecuteTime": {
     "end_time": "2021-05-26T22:30:00.206666Z",
     "start_time": "2021-05-26T22:29:59.954325Z"
    }
   },
   "outputs": [
    {
     "data": {
      "image/png": "[encoded data removed]",
      "text/plain": [
       "<Figure size 432x648 with 2 Axes>"
      ]
     },
     "metadata": {
      "image/png": {
       "height": 195,
       "width": 349
      },
      "needs_background": "light"
     },
     "output_type": "display_data"
    }
   ],
   "source": [
    "images, labels = next(iter(trainloader))\n",
    "\n",
    "img = images[0].view(1, 784)\n",
    "# Turn off gradients to speed up this part\n",
    "with torch.no_grad():\n",
    "    logits = model.forward(img)\n",
    "\n",
    "# Output of the network are logits, need to take softmax for probabilities\n",
    "ps = F.softmax(logits, dim=1)\n",
    "view_classify(img.view(1, 28, 28), ps)"
   ]
  },
  {
   "cell_type": "markdown",
   "metadata": {},
   "source": [
    "Now our network is brilliant. It can accurately predict the digits in our images."
   ]
  },
  {
   "cell_type": "markdown",
   "metadata": {},
   "source": [
    "<div style=\"background:#222222; color:#ffffff; padding:20px\">\n",
    "    <h2 align=\"center\" style=\"color:#01ff84\">EMNIST Classification: Exercise</h2>\n",
    "<div>"
   ]
  },
  {
   "cell_type": "markdown",
   "metadata": {},
   "source": [
    "<div style=\"background:#222222; color:#ffffff; padding:20px\">\n",
    "  <h3 style=\"color:#01ff84; margin-top:4px\">Exercise 1:</h3>\n",
    "  <p>Now it's your turn to build a simple network, use any method I've covered so far. In the next notebook, you'll learn how to train a network so it can make good predictions.</p>\n",
    "  <p>Build a network to classify the MNIST images with 3 hidden layers. Use 16 units in the first hidden layer, 32 units in the second layer, and 8 units in the third layer. Each hidden layer should have a ReLU activation function, and use softmax on the output layer.</p>\n",
    "<div>"
   ]
  },
  {
   "cell_type": "code",
   "execution_count": 36,
   "metadata": {},
   "outputs": [],
   "source": [
    "## TODO: Your network here\n",
    "model = "
   ]
  },
  {
   "cell_type": "code",
   "execution_count": 14,
   "metadata": {},
   "outputs": [
    {
     "data": {
      "image/png": "[encoded data removed]",
      "text/plain": [
       "<Figure size 432x648 with 2 Axes>"
      ]
     },
     "metadata": {
      "image/png": {
       "height": 195,
       "width": 349
      },
      "needs_background": "light"
     },
     "output_type": "display_data"
    }
   ],
   "source": [
    "# Run this cell with your model to make sure it works\n",
    "# Forward pass through the network and display output\n",
    "images, labels = next(iter(trainloader))\n",
    "images.resize_(images.shape[0], 1, 784)\n",
    "ps = model.forward(images[0,:])\n",
    "view_classify(images[0].view(1, 28, 28), ps)"
   ]
  },
  {
   "cell_type": "markdown",
   "metadata": {},
   "source": [
    "<div style=\"background:#222222; color:#ffffff; padding:20px\">\n",
    "  <h3 style=\"color:#01ff84; margin-top:4px\">Exercise 2:</h3>\n",
    "  <p>Train your network implementing the Pytorch training loop and <strong style=\"color:#01ff84\">after each epoch, use the model for predicting the test (validation) MNIST data.</strong></p>\n",
    "  <p>Note: If your model does not fit with the final softmax layer, you can remove this layer.</p>\n",
    "  <p>Hint: <a href=\"https://discuss.pytorch.org/t/training-loop-checking-validation-accuracy/78399\">Training loop checking validation accuracy\n",
    "</a></p>\n",
    "  <p>Research about <code>model.train()</code>, <code>model.eval()</code> and <code>with torch.no_grad()</code> in Pytorch.\n",
    "<div>"
   ]
  },
  {
   "cell_type": "code",
   "execution_count": null,
   "metadata": {},
   "outputs": [],
   "source": [
    "## TODO: Your training loop here"
   ]
  },
  {
   "cell_type": "code",
   "execution_count": null,
   "metadata": {},
   "outputs": [],
   "source": [
    "# Run this cell with your model to make sure it works and predicts well for the validation data\n",
    "images, labels = next(iter(testloader))\n",
    "images.resize_(images.shape[0], 1, 784)\n",
    "ps = model.forward(images[0,:])\n",
    "view_classify(images[0].view(1, 28, 28), ps)"
   ]
  },
  {
   "cell_type": "markdown",
   "metadata": {},
   "source": [
    "<div style=\"background:#222222; color:#ffffff; padding:20px\">\n",
    "  <h3 style=\"color:#01ff84; margin-top:4px\">Exercise 3:</h3>\n",
    "  <p>Write the code for adding <strong style=\"color:#01ff84\">Early Stopping with patience = 2</strong> to the training loop from scratch.</p>\n",
    "  <p><strong style=\"color:#01ff84\">Hint:</strong> Monitor the Validation loss every epoch, and if in 2 epochs, the validation loss does not improve, stop the training loop with <code>break</code>.</p>\n",
    "<div>"
   ]
  },
  {
   "cell_type": "code",
   "execution_count": null,
   "metadata": {},
   "outputs": [],
   "source": [
    "## TODO: Your training loop here"
   ]
  },
  {
   "cell_type": "markdown",
   "metadata": {},
   "source": [
    "<div style=\"background:#222222; color:#ffffff; padding:20px\">\n",
    "  <h3 style=\"color:#01ff84; margin-top:4px\">Optional:</h3>\n",
    "  <p>Don't you want to use MNIST? Try EMNIST instead! Maybe using the first 10 letters of the alphabet!</p>\n"
   ]
  },
  {
   "cell_type": "code",
   "execution_count": 33,
   "metadata": {
    "ExecuteTime": {
     "end_time": "2021-05-26T22:35:26.981584Z",
     "start_time": "2021-05-26T22:35:26.954522Z"
    }
   },
   "outputs": [],
   "source": [
    "# we will need a custom visualization function\n",
    "def view_classify_emnist(img, ps):\n",
    "\n",
    "    ps = ps.data.numpy().squeeze()\n",
    "\n",
    "    fig, (ax1, ax2) = plt.subplots(figsize=(6,9), ncols=2)\n",
    "    ax1.imshow(img.resize_(1, 28, 28).numpy().squeeze())\n",
    "    ax1.axis('off')\n",
    "    ax2.barh(list(\"abcdefghij\"), ps)\n",
    "    ax2.set_aspect(0.1)\n",
    "    ax2.set_yticks(np.arange(10))\n",
    "    ax2.set_yticklabels(np.arange(10))\n",
    "    ax2.set_title('Class Probability')\n",
    "    ax2.set_xlim(0, 1.1)"
   ]
  },
  {
   "cell_type": "code",
   "execution_count": 49,
   "metadata": {
    "ExecuteTime": {
     "end_time": "2021-05-26T22:50:57.571260Z",
     "start_time": "2021-05-26T22:50:57.322172Z"
    }
   },
   "outputs": [],
   "source": [
    "# Define a transform to normalize the data (Preprocessing)\n",
    "transform = transforms.Compose([transforms.ToTensor(), transforms.Normalize((0.5), (0.5)) ])\n",
    "def my_collate(batch):\n",
    "    modified_batch = []\n",
    "    for item in batch:\n",
    "        image, label = item\n",
    "        if label < 10: # only the first ten letters\n",
    "            modified_batch.append(item)\n",
    "    return torch.utils.data._utils.collate.default_collate(modified_batch)\n",
    "\n",
    "\n",
    "# Download and load the training data\n",
    "trainset    = datasets.EMNIST('EMNIST_data/', split=\"letters\", download=True, train=True, transform=transform)\n",
    "trainloader = torch.utils.data.DataLoader(trainset, batch_size=16, shuffle=True, collate_fn=my_collate)\n",
    "\n",
    "# Download and load the test data\n",
    "testset    = datasets.EMNIST('EMNIST_data/', split=\"letters\", download=True, train=False, transform=transform)\n",
    "testloader = torch.utils.data.DataLoader(testset, batch_size=16, shuffle=True, collate_fn=my_collate)"
   ]
  },
  {
   "cell_type": "code",
   "execution_count": 51,
   "metadata": {
    "ExecuteTime": {
     "end_time": "2021-05-26T22:51:02.493175Z",
     "start_time": "2021-05-26T22:51:02.464301Z"
    }
   },
   "outputs": [],
   "source": [
    "dataiter = iter(trainloader)\n",
    "images, labels = dataiter.next()"
   ]
  },
  {
   "cell_type": "code",
   "execution_count": 52,
   "metadata": {
    "ExecuteTime": {
     "end_time": "2021-05-26T22:51:03.118421Z",
     "start_time": "2021-05-26T22:51:02.978678Z"
    }
   },
   "outputs": [
    {
     "data": {
      "image/png": "[encoded data removed]",
      "text/plain": [
       "<Figure size 432x288 with 1 Axes>"
      ]
     },
     "metadata": {
      "image/png": {
       "height": 248,
       "width": 251
      },
      "needs_background": "light"
     },
     "output_type": "display_data"
    }
   ],
   "source": [
    "plt.imshow(images[5].numpy().squeeze(), cmap='Greys_r');"
   ]
  },
  {
   "cell_type": "code",
   "execution_count": 53,
   "metadata": {
    "ExecuteTime": {
     "end_time": "2021-05-26T22:51:06.653639Z",
     "start_time": "2021-05-26T22:51:06.647991Z"
    }
   },
   "outputs": [
    {
     "data": {
      "text/plain": [
       "tensor([1, 9, 6, 7, 5, 1, 9, 3])"
      ]
     },
     "execution_count": 53,
     "metadata": {},
     "output_type": "execute_result"
    }
   ],
   "source": [
    "labels"
   ]
  },
  {
   "cell_type": "code",
   "execution_count": null,
   "metadata": {},
   "outputs": [],
   "source": []
  }
 ],
 "metadata": {
  "kernelspec": {
   "display_name": "Python 3",
   "language": "python",
   "name": "python3"
  },
  "language_info": {
   "codemirror_mode": {
    "name": "ipython",
    "version": 3
   },
   "file_extension": ".py",
   "mimetype": "text/x-python",
   "name": "python",
   "nbconvert_exporter": "python",
   "pygments_lexer": "ipython3",
   "version": "3.9.1"
  },
  "varInspector": {
   "cols": {
    "lenName": 16,
    "lenType": 16,
    "lenVar": 40
   },
   "kernels_config": {
    "python": {
     "delete_cmd_postfix": "",
     "delete_cmd_prefix": "del ",
     "library": "var_list.py",
     "varRefreshCmd": "print(var_dic_list())"
    },
    "r": {
     "delete_cmd_postfix": ") ",
     "delete_cmd_prefix": "rm(",
     "library": "var_list.r",
     "varRefreshCmd": "cat(var_dic_list()) "
    }
   },
   "types_to_exclude": [
    "module",
    "function",
    "builtin_function_or_method",
    "instance",
    "_Feature"
   ],
   "window_display": false
  }
 },
 "nbformat": 4,
 "nbformat_minor": 2
}
