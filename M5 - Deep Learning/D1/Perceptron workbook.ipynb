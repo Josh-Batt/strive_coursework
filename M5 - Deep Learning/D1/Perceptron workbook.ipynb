{
 "cells": [
  {
   "cell_type": "markdown",
   "metadata": {},
   "source": [
    "# Perceptron"
   ]
  },
  {
   "cell_type": "code",
   "execution_count": 1,
   "metadata": {},
   "outputs": [],
   "source": [
    "import numpy as np\n",
    "import matplotlib.pyplot as plt"
   ]
  },
  {
   "cell_type": "markdown",
   "metadata": {},
   "source": [
    "As the **neuron** is the most fundamental unit of the brain, the **perceptron** can be considered the most fundamental unit of a deep neural network. Both the neuron and the perceptron, also called *artificial neuron*, take an input, process it, pass it through an activation function that returns the activated output. \n",
    "\n"
   ]
  },
  {
   "cell_type": "markdown",
   "metadata": {},
   "source": [
    "![image](https://miro.medium.com/max/700/1*Fyapb-JRFJ-VtnLYLLXCwg.png)\n",
    "The Perceptron model is like the one showed in the image: first you have several inputs ($x_{1}, x_{2}, ..., x_{n}$). You can think of them like the features of the data you have worked on till now. Do you remember the *wonderful features* of the build week you worked on without knowing what they stand for? Those anonymous columns? Yes, like those.\n",
    "\n",
    "You investigated them trying to see the \"importance\" of each one using the correlation with the target, or the *shap* values. \n",
    "Well, a neuron try to figure out the importance of each input feature by itself. How?\n",
    "\n",
    "Look at those $w_{1}, w_{2},..., w_{n}$: they are the *weigths* that are associated with each input entry. As you can see on the right part of the picture, each $x_{i}$ is multiplied by the corresponding $w_{i}$ and then summed together. Those weights are not there to indicate the \"importance\" of each input feature, but instead the goal is to build a binary classifier, as you can expect from the 0 and 1 in the picture above. \n",
    "\n",
    "Ok, restart. The goal of a perceptron is to build a binary classifier, meaning a classifier that outputs either 0 or 1. In the case of a neuron, it \"spikes\" electricity through the axons, or doesn't. \n",
    "\n",
    "For this reason, the $w_{i}$s are the weights, either positive or negative, such that the weighted sum $\\sum_{i}w_{i}\\cdot x_{i}$ gives either 0 or 1. What does $b$ stand for? As you can expect, it's the bias component that you are used to already.\n",
    "\n",
    "I'll give you another example. Think that you want to decide either to watch a specific movie or not. You could have some \"features\" that you may consider before taking the decision. Let's say they are three:\n",
    "- $x_{1}$ is the feature: isAvengersMovie\n",
    "- $x_{2}$ is the feature: isRomanticMovie\n",
    "- $x_{3}$ is the feature: theMovieWonAnOscar\n",
    "\n",
    "What about the *bias*? Well, maybe a movie freak would watch all the movies he could, a more selective one would watch only Avengers movies. But at the end of the day, the weights and the bias will depend on the data. "
   ]
  },
  {
   "cell_type": "markdown",
   "metadata": {},
   "source": [
    "Ok, now let's assume that I'm that kind of guy who watches all the Avengers movies and hates romantic movies unless they won an Oscar.\n",
    "(It's not my case, I don't watch romantic movies as all... Ok, only when my gf forces me.).\n",
    "\n",
    "I chose binary variables for the sake of the example, but they can be any. \n",
    "\n",
    "Our training set looks like the following:\n",
    "- \"Titanic\", 1\n",
    "- \"Avengers: Endgame\", 1\n",
    "- \"I still believe\", 0\n",
    "- \"Spiderman\", 1\n",
    "\n",
    "Test set:\n",
    "- \"Chocolat\", 1\n",
    "\n",
    "where 1 stands for \"watched\", and 0 for \"not watched\". What we want to predict is if I will watch or not the movie \"Chocolat\".\n",
    "\n",
    "Let's represent the movies with the features above:\n",
    "\n",
    "|       title        | isAvengersMovie | isRomanticMovie | theMovieWonAnOscar | watched |\n",
    "|--------------------|-----------------|-----------------|--------------------|---------|\n",
    "| \"Titanic\"          | 0               | 1               | 1                  | 1       |\n",
    "| \"Avengers: Endgame\"| 1               | 0               | 0                  | 1       |\n",
    "| \"I still believe\"  | 0               | 1               | 0                  | 0       |\n",
    "| \"Spiderman\"        | 1               | 0               | 0                  | 1       |\n",
    "| \"Chocolat\"         | 0               | 1               | 1                  | 1       |\n",
    "\n",
    "Now the Machine Learning Scientist has to set the weights $w_{1}, w_{2}, w_{3}$. How would he start? One way, is to start randomly:"
   ]
  },
  {
   "cell_type": "code",
   "execution_count": 2,
   "metadata": {},
   "outputs": [
    {
     "name": "stdout",
     "output_type": "stream",
     "text": [
      "0.3745401188473625 0.9507143064099162 0.7319939418114051\n"
     ]
    }
   ],
   "source": [
    "np.random.seed(42)\n",
    "w1, w2, w3 = np.random.rand(3)\n",
    "print(w1, w2, w3)"
   ]
  },
  {
   "cell_type": "markdown",
   "metadata": {},
   "source": [
    "I will change the sign and the scale of $w_{2}$ to have a more interesting example:"
   ]
  },
  {
   "cell_type": "code",
   "execution_count": 3,
   "metadata": {},
   "outputs": [],
   "source": [
    "w2 = -2*w2"
   ]
  },
  {
   "cell_type": "markdown",
   "metadata": {},
   "source": [
    "while the vectors of features will be:"
   ]
  },
  {
   "cell_type": "code",
   "execution_count": 4,
   "metadata": {},
   "outputs": [],
   "source": [
    "x1 = np.array([0, 1, 0, 1])\n",
    "x2 = np.array([1, 0, 1, 0])\n",
    "x3 = np.array([1, 0, 0, 0])"
   ]
  },
  {
   "cell_type": "markdown",
   "metadata": {},
   "source": [
    "and the target:"
   ]
  },
  {
   "cell_type": "code",
   "execution_count": 5,
   "metadata": {},
   "outputs": [],
   "source": [
    "y = np.array([1, 1, 0, 1])"
   ]
  },
  {
   "cell_type": "markdown",
   "metadata": {},
   "source": [
    "For the test (the movie \"Chocolat\"):"
   ]
  },
  {
   "cell_type": "code",
   "execution_count": 6,
   "metadata": {},
   "outputs": [],
   "source": [
    "x1_test = 0\n",
    "x2_test = 1\n",
    "x3_test = 1"
   ]
  },
  {
   "cell_type": "markdown",
   "metadata": {},
   "source": [
    "What's missing? The bias $b$!\n"
   ]
  },
  {
   "cell_type": "code",
   "execution_count": 7,
   "metadata": {},
   "outputs": [
    {
     "name": "stdout",
     "output_type": "stream",
     "text": [
      "0.3745401188473625\n"
     ]
    }
   ],
   "source": [
    "np.random.seed(42)\n",
    "b = np.random.rand(1)[0]\n",
    "print(b)"
   ]
  },
  {
   "cell_type": "markdown",
   "metadata": {},
   "source": [
    "Here we go. So let's start from the first sample, the \"Titanic\" movie. We have to compute:\n",
    "\n",
    "$x_{1}\\cdot w_{1} + x_{2}\\cdot w_{2} +  x_{3}\\cdot w_{3} + b$ \n",
    "\n",
    "Approximating $w_{1}, w_{2}, w_{3}, b$ to the third significant figure, and remembering that $x_{1} = 0, x_{2} = 1, x_{3}=1$, we have:\n",
    "$0.374\\cdot 0 - 1.901 \\cdot 1 + 0.732\\cdot 1 + 0.374 = - 0.795$.\n",
    "\n",
    "Now what? The result is neither 0 or 1! This is why we need an *activation function*! An activation function determines whether the neuron should be activated (“fired”) or not, based on whether each neuron's input is relevant for the model's prediction. The most *basic* activation function you can think of is the one that gives you 1 in case of a positive outcome, 0 for 0 or negative one. In mathematical terms, if $g(\\mathbf{x})$ is the activation function given the input vector $\\mathbf{x}=(x_{1},x_{2}, x_{3})$\n",
    "\n",
    "$$ g(\\mathbf{x})=\\begin{cases}\n",
    "          1, & \\text{if}\\ \\mathbf{wx}+\\mathbf{b}>0 \\\\\n",
    "          0, & \\text{otherwise}\n",
    "            \\end{cases}\n",
    "$$\n",
    "\n",
    "I used another notation here, just to make you flexible for different book notations. In some books, to distinguish scalars from vectors (*i.e.* simple numbers like 1, 1.5, -1 from (2, 1, 3.6)) it is used the bold for vectors. I recall you that $\\mathbf{wx}$ is the *dot product* between $\\mathbf{w}$ and $\\mathbf{x}$!\n",
    "\n",
    "Ok cool, what about the output of our algorithm for the \"Titanic\"? Since the output of $0.374\\cdot 0 - 1.901 \\cdot 1 + 0.732\\cdot 1 + 0.374 = - 0.795$ is negative, the activation function $g$ will make it 0.\n",
    "\n",
    "Oh, but this is a wrong prediction! We should adjust our weights!\n"
   ]
  },
  {
   "cell_type": "markdown",
   "metadata": {},
   "source": [
    "To recap:\n",
    "\n",
    "- we randomly initialised the weights $\\mathbf{w}$ and the bias $\\mathbf{b}$\n",
    "- we used them to compute a value\n",
    "- we \"activated\" the value with the activation function $g$\n",
    "- we got the *wrong* prediction :(\n",
    "\n",
    "We learn from mistakes, right?\n",
    "\n",
    "Let me introduce you to the... Perceptron Learning Rule!\n",
    "Since the prediction was 0 instead of 1.\n",
    "What we wished for, was the dot product $\\mathbf{wx}$ to be higher than 0, because in this way the activation function would have returned 1! Since we got a negative value, we need to edit the weights a bit so that we are more likely to get a positive value for classifying this example and get the right score. \n",
    "\n",
    "Is it clear? I'll say it again: we predicted 0 instead of 1. We predicted 0 because $\\mathbf{wx}=-0.795$ and the activation function $g$ states that we say \"0\" if $\\mathbf{wx}$ is negative, so this is the case. If we want a positive outcome from $\\mathbf{wx}$, then we should increase a bit that value. How can we? We decided the old weights just randomly picking them, so can adjust them such that $\\mathbf{wx}$ for the \"Titanic\" example will be higher!\n",
    "\n",
    "Unpacking the dot product $\\mathbf{wx}$ for each component:\n",
    "\n",
    "- $w_{1}\\cdot x_{1}$ \n",
    "- $w_{2}\\cdot x_{2}$\n",
    "- $w_{2}\\cdot x_{3}$\n",
    "\n",
    "Since the $x_{i}$ are \"fixed\", they are given from the dataset, we can increase the $w_{i}$ like:\n",
    "\n",
    "$$w_{i(new)} = w_{i(old)} + (y-\\hat{y})x_{i}$$\n",
    "\n",
    "In this way: if we have no error, it means that $(y-\\hat{y})=0$, so we don't make any update. If we predicted 0 and the label was 1, then we have $1-0=1$ and $w_{i(new)}$ would become $w_{i(old)}+x_{i}$. If we predicted 1 and the label was 0, then $0-1= -1$ and $w_{i(new)}$ would become $w_{i(old)}-x_{i}$.\n",
    "\n",
    "In our example:\n",
    "\n",
    "- $w_{1(new)} = 0.374 + 0 = 0.374$\n",
    "- $w_{2(new)} = -1.901 + 1 = -0.901$\n",
    "- $w_{2(new)} = 0.732 + 1 = 1.732$\n",
    "- $b_{(new)} = 0.374 + 1 = 1.374$\n",
    "\n",
    "If we try the prediction again:\n",
    "\n",
    "$0.374\\cdot 0 - 0.901 \\cdot 1 + 1.732\\cdot 1 + 1.374 = 2.749$.\n",
    "\n",
    "*N.B.* To learn the bias as well, we add another component to the input and we consider it as 1. This i why you see \"+ 1\" in $b_{(new)} = 0.374 + 1 = 1.374$!\n"
   ]
  },
  {
   "cell_type": "code",
   "execution_count": 8,
   "metadata": {},
   "outputs": [],
   "source": [
    "w1 += x1[0]\n",
    "w2 += x2[0]\n",
    "w3 += x3[0]\n",
    "b += 1"
   ]
  },
  {
   "cell_type": "code",
   "execution_count": 9,
   "metadata": {},
   "outputs": [
    {
     "data": {
      "text/plain": [
       "2.2051054478389354"
      ]
     },
     "execution_count": 9,
     "metadata": {},
     "output_type": "execute_result"
    }
   ],
   "source": [
    "w1*x1[0]+w2*x2[0]+w3*x3[0]+b"
   ]
  },
  {
   "cell_type": "markdown",
   "metadata": {},
   "source": [
    "We got a positive score this time. However, there's something more to point out. Learning in this way, will require a very big update of the weights at each iteration! This is why we introduce the:\n",
    "\n",
    "**Learning rate**\n",
    "\n",
    "that is the step size of the update for each iteration! The smaller the learning rate, the higher the number of iterations your algorithm will do, the bigger, the faster, but less accurate. If it is too big, sometimes you could overshoot too much.\n",
    "\n",
    "In this way, the update rule will be:\n",
    "\n",
    "$$w_{i(new)} = w_{i(old)} + \\eta(y-\\hat{y})x_{i}$$\n",
    "\n",
    "where $\\eta$ is the learning rate. "
   ]
  },
  {
   "cell_type": "markdown",
   "metadata": {},
   "source": [
    "What do we do with the rest of the samples? The idea is that we make a prediction for the first sample and update the weights, then with the second and we update the weights and then we restart from the first sample till we have classified correctly all the training set! Then, we are ready to test it on the test set!"
   ]
  },
  {
   "cell_type": "markdown",
   "metadata": {},
   "source": [
    "To recap the algorithm:\n",
    "\n",
    "while not all the samples are correctly classified do:\n",
    "\n",
    "   - pick random $x\\in$ *TrainingSamples*\n",
    "     \n",
    "   - if $\\mathbf{wx}>0$ and the label of $x$ is 0 or viceversa:\n",
    "   \n",
    "       - update weights\n",
    "\n",
    "     "
   ]
  },
  {
   "cell_type": "markdown",
   "metadata": {},
   "source": [
    "Questions that you could have so far:"
   ]
  },
  {
   "cell_type": "markdown",
   "metadata": {},
   "source": [
    "1. What if it takes thousands of iterations to converge?\n",
    "\n",
    "Set a max iteration parameter to stop early. This allows you to avoid overfitting as well."
   ]
  },
  {
   "cell_type": "markdown",
   "metadata": {},
   "source": [
    "2. What if the data are not linearly separable?\n",
    "\n",
    "Good point. Since we used a linear activation function, the algorithm converges only if there are linearly separable data. In the example below the algorithm would not converge 👇"
   ]
  },
  {
   "cell_type": "code",
   "execution_count": 10,
   "metadata": {},
   "outputs": [
    {
     "name": "stderr",
     "output_type": "stream",
     "text": [
      "<ipython-input-10-84d3404282e4>:7: MatplotlibDeprecationWarning: Adding an axes using the same arguments as a previous axes currently reuses the earlier instance.  In a future version, a new instance will always be created and returned.  Meanwhile, this warning can be suppressed, and the future behavior ensured, by passing a unique label to each axes instance.\n",
      "  plt.axes().set_aspect('equal')\n"
     ]
    },
    {
     "data": {
      "image/png": "[encoded data removed]",
      "text/plain": [
       "<Figure size 432x288 with 1 Axes>"
      ]
     },
     "metadata": {
      "needs_background": "light"
     },
     "output_type": "display_data"
    }
   ],
   "source": [
    "from sklearn.datasets import make_circles, make_moons\n",
    "X_circle, y_circle = make_circles(100) # or try make_moons(100)\n",
    "y_circle = y_circle * 2 - 1\n",
    "X_circle*=4  # Make it a bit larger\n",
    "plt.scatter(X_circle[:,0], X_circle[:,1], c=y_circle, edgecolor='none')\n",
    "plt.xlim([-10,10]); plt.ylim([-10,10]); plt.grid()\n",
    "plt.axes().set_aspect('equal')\n"
   ]
  },
  {
   "cell_type": "markdown",
   "metadata": {},
   "source": [
    "3. How can we choose the learning rate?\n",
    "\n",
    "You can try different ones. Common choices are 0.1, 0.01.\n"
   ]
  },
  {
   "cell_type": "markdown",
   "metadata": {},
   "source": [
    "4. Could we see some code? \n",
    "\n",
    "Yes sure.\n",
    "\n",
    "We need:\n",
    "\n",
    "- labeled input data\n",
    "- a learning rate\n",
    "- some weights\n"
   ]
  },
  {
   "cell_type": "code",
   "execution_count": 11,
   "metadata": {},
   "outputs": [],
   "source": [
    "eta = 0.1\n",
    "input_data = [(np.array([0, 1, 1]), 1), (np.array([1, 0, 0]), 1),\n",
    "              (np.array([0, 1, 0]), 0), (np.array([1, 0, 0]), 1), \n",
    "              (np.array([0, 1, 1]), 1)]\n",
    "train = input_data[:-1]\n",
    "test = input_data[-1]\n",
    "weights = np.zeros(3)\n",
    "bias = 0\n",
    "max_iter = 10\n",
    "\n",
    "def perceptron(train, weights, bias, eta, max_iter):\n",
    "    it = 0\n",
    "    while it < max_iter: \n",
    "        new_weights = weights\n",
    "        new_bias = bias\n",
    "        for sample in train:\n",
    "            output = np.dot(weights, sample[0]) + bias \n",
    "            if output <= 0:\n",
    "                output = 0\n",
    "            else:\n",
    "                output = 1\n",
    "            if (sample[1] - output) != 0:\n",
    "                \n",
    "                weights += eta*(sample[1] - output)*sample[0]\n",
    "                bias += eta*(sample[1] - output)\n",
    "        if new_weights.all() == weights.all() and new_bias == bias:\n",
    "            print(f\"Convergence achieved at iteration {it}\")\n",
    "            break\n",
    "        it += 1\n",
    "        \n",
    "    return weights, bias"
   ]
  },
  {
   "cell_type": "code",
   "execution_count": 12,
   "metadata": {},
   "outputs": [
    {
     "name": "stdout",
     "output_type": "stream",
     "text": [
      "Convergence achieved at iteration 2\n"
     ]
    }
   ],
   "source": [
    "weights, bias = perceptron(train, weights, bias, eta, max_iter)"
   ]
  },
  {
   "cell_type": "markdown",
   "metadata": {},
   "source": [
    "Testing it one the test data:"
   ]
  },
  {
   "cell_type": "code",
   "execution_count": 13,
   "metadata": {},
   "outputs": [
    {
     "data": {
      "text/plain": [
       "0.1"
      ]
     },
     "execution_count": 13,
     "metadata": {},
     "output_type": "execute_result"
    }
   ],
   "source": [
    "np.dot(weights, test[0])+bias"
   ]
  },
  {
   "cell_type": "markdown",
   "metadata": {},
   "source": [
    "that is positive, so it will be classified as 1.\n",
    "What about the rest in the training set?"
   ]
  },
  {
   "cell_type": "code",
   "execution_count": 14,
   "metadata": {},
   "outputs": [
    {
     "name": "stdout",
     "output_type": "stream",
     "text": [
      "Titanic predicted: 1 true label: 1\n",
      "Avengers: Endgame predicted: 1 true label: 1\n",
      "I still believe predicted: 0 true label: 0\n",
      "Spiderman predicted: 1 true label: 1\n"
     ]
    }
   ],
   "source": [
    "train_titles = [\"Titanic\", \"Avengers: Endgame\", \"I still believe\", \"Spiderman\"]\n",
    "for i, sample in enumerate(train):\n",
    "    output = np.dot(weights, sample[0]) + bias\n",
    "    print(train_titles[i], \"predicted:\", int(output>0), \"true label:\", sample[1])"
   ]
  },
  {
   "cell_type": "markdown",
   "metadata": {},
   "source": [
    "That is correct for all of them!"
   ]
  },
  {
   "cell_type": "markdown",
   "metadata": {},
   "source": [
    "What about non-linearly separable data? A classical example where the perceptron fails to converge to a solution that correctly classifies all the training data is the XOR problem.\n",
    "\n",
    "You know that the table truth of the XOR is:\n",
    "\n",
    "| A | B | A xor B |\n",
    "|---|---|---|\n",
    "| 0 | 0 | 0 |\n",
    "| 0 | 1 | 1 |\n",
    "| 1 | 0 | 1 |\n",
    "| 1 | 1 | 0 |\n",
    "\n",
    "That is \"XOR is true if and only if ONLY one of the two statements is true\".\n",
    "\n",
    "![image](https://miro.medium.com/max/1400/1*E7YhKsJ2wb-VdeXpg89lvg.png)\n"
   ]
  },
  {
   "cell_type": "markdown",
   "metadata": {},
   "source": [
    "As you can see in the picture, solving the equations for all the cases lead to an impossible solution:\n",
    "\n",
    "- Since $w_{0}$ is negative ($w_{0}<0$) it means that $-w_{0}$ is positive.\n",
    "- the 2nd and the 3rd lines says that both $w2$ and $w1$ are bigger than $-w_{0}$, so they are bigger than a positive number $\\rightarrow$ they are both positive\n",
    "- the sum of two positive number is obviously greater than the individuals (say 5+4 >5 and >4). So, the sum $w_{1}+w_{2}$ must be greater than $w_{1}$ and greater than $w_{2}$, and both should be greater than $-w_{0}$: the last row is a contraddiction with the 2nd and the 3rd!\n",
    "\n",
    "Let' test it with code!"
   ]
  },
  {
   "cell_type": "code",
   "execution_count": 15,
   "metadata": {},
   "outputs": [],
   "source": [
    "xor = [(np.array([0,0]),0), (np.array([0,1]),1), (np.array([1,0]),1), (np.array([1,1]),0)]"
   ]
  },
  {
   "cell_type": "code",
   "execution_count": 16,
   "metadata": {},
   "outputs": [
    {
     "name": "stdout",
     "output_type": "stream",
     "text": [
      "Convergence achieved at iteration 1\n"
     ]
    }
   ],
   "source": [
    "w_xor, b_xor = perceptron(xor, np.random.rand(2), bias=0, eta=0.1, max_iter=1000)"
   ]
  },
  {
   "cell_type": "code",
   "execution_count": 17,
   "metadata": {},
   "outputs": [
    {
     "name": "stdout",
     "output_type": "stream",
     "text": [
      "predicted: 0 true label: 0\n",
      "predicted: 1 true label: 1\n",
      "predicted: 0 true label: 1\n",
      "predicted: 1 true label: 0\n"
     ]
    }
   ],
   "source": [
    "for i, sample in enumerate(xor):\n",
    "    output = np.dot(w_xor, sample[0]) + b_xor\n",
    "    print(\"predicted:\", int(output>0), \"true label:\", sample[1])"
   ]
  },
  {
   "cell_type": "markdown",
   "metadata": {},
   "source": [
    "As you can see, two of them have been misclassified!"
   ]
  },
  {
   "cell_type": "markdown",
   "metadata": {},
   "source": [
    "## Improve the activation function\n",
    "\n",
    "Till now we have used the step function $$ g(\\mathbf{x})=\\begin{cases}\n",
    "          1, & \\text{if}\\ \\mathbf{wx}+\\mathbf{b}>0 \\\\\n",
    "          0, & \\text{otherwise}\n",
    "            \\end{cases}\n",
    "$$\n",
    "as activation function. Can we do better?\n",
    "\n"
   ]
  },
  {
   "cell_type": "code",
   "execution_count": 18,
   "metadata": {},
   "outputs": [
    {
     "data": {
      "text/plain": [
       "[<matplotlib.lines.Line2D at 0x7fe4a0cf7670>]"
      ]
     },
     "execution_count": 18,
     "metadata": {},
     "output_type": "execute_result"
    },
    {
     "data": {
      "image/png": "[encoded data removed]",
      "text/plain": [
       "<Figure size 432x288 with 1 Axes>"
      ]
     },
     "metadata": {
      "needs_background": "light"
     },
     "output_type": "display_data"
    }
   ],
   "source": [
    "plt.step([-1, 0,1], [0, 0,1])"
   ]
  },
  {
   "cell_type": "markdown",
   "metadata": {},
   "source": [
    "As you can see in the picture above, we have a jump at 0. However, you may expect not so big difference between -0.001 and 0.001! As we did for the Logistic Regression, we may use the *sigmoid* or *logistic function* as activation function to have a smoother behaviour:"
   ]
  },
  {
   "cell_type": "markdown",
   "metadata": {},
   "source": [
    "![image](https://miro.medium.com/max/1400/1*QLtPF0YkwYRLVoSeh2w4gw.png)"
   ]
  },
  {
   "cell_type": "markdown",
   "metadata": {},
   "source": [
    "In this way, the output won't be either 0 or 1, but the probability (because we have a continuous number between 0 and 1) of 0 or 1!\n",
    "\n",
    "Let's implement the perceptron again but using the sigmoid this time:"
   ]
  },
  {
   "cell_type": "code",
   "execution_count": 19,
   "metadata": {},
   "outputs": [],
   "source": [
    "def sigmoid(x):\n",
    "    return 1 / (1 + np.exp(-x))\n",
    "\n",
    "def perceptron_with_sigmoid(train, weights, bias, eta, max_iter):\n",
    "    it = 0\n",
    "    while it < max_iter: \n",
    "        new_weights = weights\n",
    "        new_bias = bias\n",
    "        for sample in train:\n",
    "            output = np.dot(weights, sample[0]) + bias \n",
    "            ## I comment the old activation function\n",
    "            # if output <= 0:\n",
    "            #     output = 0\n",
    "            # else:\n",
    "            #     output = 1\n",
    "            ## New activation function\n",
    "            output = sigmoid(output)\n",
    "            if (sample[1] - output) != 0:\n",
    "                \n",
    "                weights += eta*(sample[1] - output)*sample[0]\n",
    "                bias += eta*(sample[1] - output)\n",
    "        if new_weights.all() == weights.all() and new_bias == bias:\n",
    "            print(f\"Convergence achieved at iteration {it}\")\n",
    "            break\n",
    "        it += 1\n",
    "        \n",
    "    return weights, bias\n",
    "\n"
   ]
  },
  {
   "cell_type": "markdown",
   "metadata": {},
   "source": [
    "You will see later why that having such a smooth and differentiable function helps neural network for computing the gradient of the loss function! \n",
    "\n",
    "## Conclusions\n",
    "\n",
    "We have seen the Perceptron algorithm, that is an algorithm to build a binary classifier for linearly separable data. We succesfully tested it on an example movies dataset, and unsuccesfully for the XOR problem, that contains not-linearly separable data. \n",
    "\n",
    "We learned that the Perceptron is for an artificial neural network what a neuron is for a biological one. We defined the sigmoid, a smooth and differentiable activation function that is often used in neural networks (you will meet cooler activation functions by the way!).\n",
    "\n",
    "For questions, feel free to ask! You can comment on Deepnote at this link: https://deepnote.com/project/59d3fdb3-682e-49b5-8cd1-f908f9765253"
   ]
  },
  {
   "cell_type": "code",
   "execution_count": null,
   "metadata": {},
   "outputs": [],
   "source": []
  }
 ],
 "metadata": {
  "kernelspec": {
   "display_name": "Python 3",
   "language": "python",
   "name": "python3"
  },
  "language_info": {
   "codemirror_mode": {
    "name": "ipython",
    "version": 3
   },
   "file_extension": ".py",
   "mimetype": "text/x-python",
   "name": "python",
   "nbconvert_exporter": "python",
   "pygments_lexer": "ipython3",
   "version": "3.8.2"
  }
 },
 "nbformat": 4,
 "nbformat_minor": 4
}
