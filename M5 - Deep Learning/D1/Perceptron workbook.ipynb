{
 "cells": [
  {
   "cell_type": "markdown",
   "source": [
    "# Perceptron"
   ],
   "metadata": {}
  },
  {
   "cell_type": "code",
   "execution_count": 1,
   "source": [
    "import numpy as np\r\n",
    "import matplotlib.pyplot as plt"
   ],
   "outputs": [],
   "metadata": {}
  },
  {
   "cell_type": "markdown",
   "source": [
    "As the **neuron** is the most fundamental unit of the brain, the **perceptron** can be considered the most fundamental unit of a deep neural network. Both the neuron and the perceptron, also called *artificial neuron*, take an input, process it, pass it through an activation function that returns the activated output. \n",
    "\n"
   ],
   "metadata": {}
  },
  {
   "cell_type": "markdown",
   "source": [
    "![image](https://miro.medium.com/max/700/1*Fyapb-JRFJ-VtnLYLLXCwg.png)\n",
    "The Perceptron model is like the one showed in the image: first you have several inputs ($x_{1}, x_{2}, ..., x_{n}$). You can think of them like the features of the data you have worked on till now. Do you remember the *wonderful features* of the build week you worked on without knowing what they stand for? Those anonymous columns? Yes, like those.\n",
    "\n",
    "You investigated them trying to see the \"importance\" of each one using the correlation with the target, or the *shap* values. \n",
    "Well, a neuron try to figure out the importance of each input feature by itself. How?\n",
    "\n",
    "Look at those $w_{1}, w_{2},..., w_{n}$: they are the *weigths* that are associated with each input entry. As you can see on the right part of the picture, each $x_{i}$ is multiplied by the corresponding $w_{i}$ and then summed together. Those weights are not there to indicate the \"importance\" of each input feature, but instead the goal is to build a binary classifier, as you can expect from the 0 and 1 in the picture above. \n",
    "\n",
    "Ok, restart. The goal of a perceptron is to build a binary classifier, meaning a classifier that outputs either 0 or 1. In the case of a neuron, it \"spikes\" electricity through the axons, or doesn't. \n",
    "\n",
    "For this reason, the $w_{i}$s are the weights, either positive or negative, such that the weighted sum $\\sum_{i}w_{i}\\cdot x_{i}$ gives either 0 or 1. What does $b$ stand for? As you can expect, it's the bias component that you are used to already.\n",
    "\n",
    "I'll give you another example. Think that you want to decide either to watch a specific movie or not. You could have some \"features\" that you may consider before taking the decision. Let's say they are three:\n",
    "- $x_{1}$ is the feature: isAvengersMovie\n",
    "- $x_{2}$ is the feature: isRomanticMovie\n",
    "- $x_{3}$ is the feature: theMovieWonAnOscar\n",
    "\n",
    "What about the *bias*? Well, maybe a movie freak would watch all the movies he could, a more selective one would watch only Avengers movies. But at the end of the day, the weights and the bias will depend on the data. "
   ],
   "metadata": {}
  },
  {
   "cell_type": "markdown",
   "source": [
    "Ok, now let's assume that I'm that kind of guy who watches all the Avengers movies and hates romantic movies unless they won an Oscar.\n",
    "(It's not my case, I don't watch romantic movies as all... Ok, only when my gf forces me.).\n",
    "\n",
    "I chose binary variables for the sake of the example, but they can be any. \n",
    "\n",
    "Our training set looks like the following:\n",
    "- \"Titanic\", 1\n",
    "- \"Avengers: Endgame\", 1\n",
    "- \"I still believe\", 0\n",
    "- \"Spiderman\", 1\n",
    "\n",
    "Test set:\n",
    "- \"Chocolat\", 1\n",
    "\n",
    "where 1 stands for \"watched\", and 0 for \"not watched\". What we want to predict is if I will watch or not the movie \"Chocolat\".\n",
    "\n",
    "Let's represent the movies with the features above:\n",
    "\n",
    "|       title        | isAvengersMovie | isRomanticMovie | theMovieWonAnOscar | watched |\n",
    "|--------------------|-----------------|-----------------|--------------------|---------|\n",
    "| \"Titanic\"          | 0               | 1               | 1                  | 1       |\n",
    "| \"Avengers: Endgame\"| 1               | 0               | 0                  | 1       |\n",
    "| \"I still believe\"  | 0               | 1               | 0                  | 0       |\n",
    "| \"Spiderman\"        | 1               | 0               | 0                  | 1       |\n",
    "| \"Chocolat\"         | 0               | 1               | 1                  | 1       |\n",
    "\n",
    "Now the Machine Learning Scientist has to set the weights $w_{1}, w_{2}, w_{3}$. How would he start? One way, is to start randomly:"
   ],
   "metadata": {}
  },
  {
   "cell_type": "code",
   "execution_count": 2,
   "source": [
    "np.random.seed(42)\r\n",
    "w1, w2, w3 = np.random.rand(3)\r\n",
    "print(w1, w2, w3)"
   ],
   "outputs": [
    {
     "output_type": "stream",
     "name": "stdout",
     "text": [
      "0.3745401188473625 0.9507143064099162 0.7319939418114051\n"
     ]
    }
   ],
   "metadata": {}
  },
  {
   "cell_type": "markdown",
   "source": [
    "I will change the sign and the scale of $w_{2}$ to have a more interesting example:"
   ],
   "metadata": {}
  },
  {
   "cell_type": "code",
   "execution_count": 3,
   "source": [
    "w2 = -2*w2"
   ],
   "outputs": [],
   "metadata": {}
  },
  {
   "cell_type": "markdown",
   "source": [
    "while the vectors of features will be:"
   ],
   "metadata": {}
  },
  {
   "cell_type": "code",
   "execution_count": 4,
   "source": [
    "x1 = np.array([0, 1, 0, 1])\r\n",
    "x2 = np.array([1, 0, 1, 0])\r\n",
    "x3 = np.array([1, 0, 0, 0])"
   ],
   "outputs": [],
   "metadata": {}
  },
  {
   "cell_type": "markdown",
   "source": [
    "and the target:"
   ],
   "metadata": {}
  },
  {
   "cell_type": "code",
   "execution_count": 5,
   "source": [
    "y = np.array([1, 1, 0, 1])"
   ],
   "outputs": [],
   "metadata": {}
  },
  {
   "cell_type": "markdown",
   "source": [
    "For the test (the movie \"Chocolat\"):"
   ],
   "metadata": {}
  },
  {
   "cell_type": "code",
   "execution_count": 6,
   "source": [
    "x1_test = 0\r\n",
    "x2_test = 1\r\n",
    "x3_test = 1"
   ],
   "outputs": [],
   "metadata": {}
  },
  {
   "cell_type": "markdown",
   "source": [
    "What's missing? The bias $b$!\n"
   ],
   "metadata": {}
  },
  {
   "cell_type": "code",
   "execution_count": 7,
   "source": [
    "np.random.seed(42)\r\n",
    "b = np.random.rand(1)[0]\r\n",
    "print(b)"
   ],
   "outputs": [
    {
     "output_type": "stream",
     "name": "stdout",
     "text": [
      "0.3745401188473625\n"
     ]
    }
   ],
   "metadata": {}
  },
  {
   "cell_type": "markdown",
   "source": [
    "Here we go. So let's start from the first sample, the \"Titanic\" movie. We have to compute:\n",
    "\n",
    "$x_{1}\\cdot w_{1} + x_{2}\\cdot w_{2} +  x_{3}\\cdot w_{3} + b$ \n",
    "\n",
    "Approximating $w_{1}, w_{2}, w_{3}, b$ to the third significant figure, and remembering that $x_{1} = 0, x_{2} = 1, x_{3}=1$, we have:\n",
    "$0.374\\cdot 0 - 1.901 \\cdot 1 + 0.732\\cdot 1 + 0.374 = - 0.795$.\n",
    "\n",
    "Now what? The result is neither 0 or 1! This is why we need an *activation function*! An activation function determines whether the neuron should be activated (“fired”) or not, based on whether each neuron's input is relevant for the model's prediction. The most *basic* activation function you can think of is the one that gives you 1 in case of a positive outcome, 0 for 0 or negative one. In mathematical terms, if $g(\\mathbf{x})$ is the activation function given the input vector $\\mathbf{x}=(x_{1},x_{2}, x_{3})$\n",
    "\n",
    "$$ g(\\mathbf{x})=\\begin{cases}\n",
    "          1, & \\text{if}\\ \\mathbf{wx}+\\mathbf{b}>0 \\\\\n",
    "          0, & \\text{otherwise}\n",
    "            \\end{cases}\n",
    "$$\n",
    "\n",
    "I used another notation here, just to make you flexible for different book notations. In some books, to distinguish scalars from vectors (*i.e.* simple numbers like 1, 1.5, -1 from (2, 1, 3.6)) it is used the bold for vectors. I recall you that $\\mathbf{wx}$ is the *dot product* between $\\mathbf{w}$ and $\\mathbf{x}$!\n",
    "\n",
    "Ok cool, what about the output of our algorithm for the \"Titanic\"? Since the output of $0.374\\cdot 0 - 1.901 \\cdot 1 + 0.732\\cdot 1 + 0.374 = - 0.795$ is negative, the activation function $g$ will make it 0.\n",
    "\n",
    "Oh, but this is a wrong prediction! We should adjust our weights!\n"
   ],
   "metadata": {}
  },
  {
   "cell_type": "markdown",
   "source": [
    "To recap:\n",
    "\n",
    "- we randomly initialised the weights $\\mathbf{w}$ and the bias $\\mathbf{b}$\n",
    "- we used them to compute a value\n",
    "- we \"activated\" the value with the activation function $g$\n",
    "- we got the *wrong* prediction :(\n",
    "\n",
    "We learn from mistakes, right?\n",
    "\n",
    "Let me introduce you to the... Perceptron Learning Rule!\n",
    "Since the prediction was 0 instead of 1.\n",
    "What we wished for, was the dot product $\\mathbf{wx}$ to be higher than 0, because in this way the activation function would have returned 1! Since we got a negative value, we need to edit the weights a bit so that we are more likely to get a positive value for classifying this example and get the right score. \n",
    "\n",
    "Is it clear? I'll say it again: we predicted 0 instead of 1. We predicted 0 because $\\mathbf{wx}=-0.795$ and the activation function $g$ states that we say \"0\" if $\\mathbf{wx}$ is negative, so this is the case. If we want a positive outcome from $\\mathbf{wx}$, then we should increase a bit that value. How can we? We decided the old weights just randomly picking them, so can adjust them such that $\\mathbf{wx}$ for the \"Titanic\" example will be higher!\n",
    "\n",
    "Unpacking the dot product $\\mathbf{wx}$ for each component:\n",
    "\n",
    "- $w_{1}\\cdot x_{1}$ \n",
    "- $w_{2}\\cdot x_{2}$\n",
    "- $w_{2}\\cdot x_{3}$\n",
    "\n",
    "Since the $x_{i}$ are \"fixed\", they are given from the dataset, we can increase the $w_{i}$ like:\n",
    "\n",
    "$$w_{i(new)} = w_{i(old)} + (y-\\hat{y})x_{i}$$\n",
    "\n",
    "In this way: if we have no error, it means that $(y-\\hat{y})=0$, so we don't make any update. If we predicted 0 and the label was 1, then we have $1-0=1$ and $w_{i(new)}$ would become $w_{i(old)}+x_{i}$. If we predicted 1 and the label was 0, then $0-1= -1$ and $w_{i(new)}$ would become $w_{i(old)}-x_{i}$.\n",
    "\n",
    "In our example:\n",
    "\n",
    "- $w_{1(new)} = 0.374 + 0 = 0.374$\n",
    "- $w_{2(new)} = -1.901 + 1 = -0.901$\n",
    "- $w_{2(new)} = 0.732 + 1 = 1.732$\n",
    "- $b_{(new)} = 0.374 + 1 = 1.374$\n",
    "\n",
    "If we try the prediction again:\n",
    "\n",
    "$0.374\\cdot 0 - 0.901 \\cdot 1 + 1.732\\cdot 1 + 1.374 = 2.749$.\n",
    "\n",
    "*N.B.* To learn the bias as well, we add another component to the input and we consider it as 1. This i why you see \"+ 1\" in $b_{(new)} = 0.374 + 1 = 1.374$!\n"
   ],
   "metadata": {}
  },
  {
   "cell_type": "code",
   "execution_count": 8,
   "source": [
    "w1 += x1[0]\r\n",
    "w2 += x2[0]\r\n",
    "w3 += x3[0]\r\n",
    "b += 1"
   ],
   "outputs": [],
   "metadata": {}
  },
  {
   "cell_type": "code",
   "execution_count": 9,
   "source": [
    "w1*x1[0]+w2*x2[0]+w3*x3[0]+b"
   ],
   "outputs": [
    {
     "output_type": "execute_result",
     "data": {
      "text/plain": [
       "2.2051054478389354"
      ]
     },
     "metadata": {},
     "execution_count": 9
    }
   ],
   "metadata": {}
  },
  {
   "cell_type": "markdown",
   "source": [
    "We got a positive score this time. However, there's something more to point out. Learning in this way, will require a very big update of the weights at each iteration! This is why we introduce the:\n",
    "\n",
    "**Learning rate**\n",
    "\n",
    "that is the step size of the update for each iteration! The smaller the learning rate, the higher the number of iterations your algorithm will do, the bigger, the faster, but less accurate. If it is too big, sometimes you could overshoot too much.\n",
    "\n",
    "In this way, the update rule will be:\n",
    "\n",
    "$$w_{i(new)} = w_{i(old)} + \\eta(y-\\hat{y})x_{i}$$\n",
    "\n",
    "where $\\eta$ is the learning rate. "
   ],
   "metadata": {}
  },
  {
   "cell_type": "markdown",
   "source": [
    "What do we do with the rest of the samples? The idea is that we make a prediction for the first sample and update the weights, then with the second and we update the weights and then we restart from the first sample till we have classified correctly all the training set! Then, we are ready to test it on the test set!"
   ],
   "metadata": {}
  },
  {
   "cell_type": "markdown",
   "source": [
    "To recap the algorithm:\n",
    "\n",
    "while not all the samples are correctly classified do:\n",
    "\n",
    "   - pick random $x\\in$ *TrainingSamples*\n",
    "     \n",
    "   - if $\\mathbf{wx}>0$ and the label of $x$ is 0 or viceversa:\n",
    "   \n",
    "       - update weights\n",
    "\n",
    "     "
   ],
   "metadata": {}
  },
  {
   "cell_type": "markdown",
   "source": [
    "Questions that you could have so far:"
   ],
   "metadata": {}
  },
  {
   "cell_type": "markdown",
   "source": [
    "1. What if it takes thousands of iterations to converge?\n",
    "\n",
    "Set a max iteration parameter to stop early. This allows you to avoid overfitting as well."
   ],
   "metadata": {}
  },
  {
   "cell_type": "markdown",
   "source": [
    "2. What if the data are not linearly separable?\n",
    "\n",
    "Good point. Since we used a linear activation function, the algorithm converges only if there are linearly separable data. In the example below the algorithm would not converge 👇"
   ],
   "metadata": {}
  },
  {
   "cell_type": "code",
   "execution_count": 10,
   "source": [
    "from sklearn.datasets import make_circles, make_moons\r\n",
    "X_circle, y_circle = make_circles(100) # or try make_moons(100)\r\n",
    "y_circle = y_circle * 2 - 1\r\n",
    "X_circle*=4  # Make it a bit larger\r\n",
    "plt.scatter(X_circle[:,0], X_circle[:,1], c=y_circle, edgecolor='none')\r\n",
    "plt.xlim([-10,10]); plt.ylim([-10,10]); plt.grid()\r\n",
    "plt.axes().set_aspect('equal')\r\n"
   ],
   "outputs": [
    {
     "output_type": "display_data",
     "data": {
      "text/plain": [
       "<Figure size 432x288 with 2 Axes>"
      ],
      "image/svg+xml": "<?xml version=\"1.0\" encoding=\"utf-8\" standalone=\"no\"?>\r\n<!DOCTYPE svg PUBLIC \"-//W3C//DTD SVG 1.1//EN\"\r\n  \"http://www.w3.org/Graphics/SVG/1.1/DTD/svg11.dtd\">\r\n<svg height=\"252.317344pt\" version=\"1.1\" viewBox=\"0 0 397.978125 252.317344\" width=\"397.978125pt\" xmlns=\"http://www.w3.org/2000/svg\" xmlns:xlink=\"http://www.w3.org/1999/xlink\">\r\n <metadata>\r\n  <rdf:RDF xmlns:cc=\"http://creativecommons.org/ns#\" xmlns:dc=\"http://purl.org/dc/elements/1.1/\" xmlns:rdf=\"http://www.w3.org/1999/02/22-rdf-syntax-ns#\">\r\n   <cc:Work>\r\n    <dc:type rdf:resource=\"http://purl.org/dc/dcmitype/StillImage\"/>\r\n    <dc:date>2021-08-12T13:28:12.922413</dc:date>\r\n    <dc:format>image/svg+xml</dc:format>\r\n    <dc:creator>\r\n     <cc:Agent>\r\n      <dc:title>Matplotlib v3.4.2, https://matplotlib.org/</dc:title>\r\n     </cc:Agent>\r\n    </dc:creator>\r\n   </cc:Work>\r\n  </rdf:RDF>\r\n </metadata>\r\n <defs>\r\n  <style type=\"text/css\">*{stroke-linecap:butt;stroke-linejoin:round;}</style>\r\n </defs>\r\n <g id=\"figure_1\">\r\n  <g id=\"patch_1\">\r\n   <path d=\"M 0 252.317344 \r\nL 397.978125 252.317344 \r\nL 397.978125 0 \r\nL 0 0 \r\nz\r\n\" style=\"fill:none;\"/>\r\n  </g>\r\n  <g id=\"axes_1\">\r\n   <g id=\"patch_2\">\r\n    <path d=\"M 44.845313 228.439219 \r\nL 379.645313 228.439219 \r\nL 379.645313 10.999219 \r\nL 44.845313 10.999219 \r\nz\r\n\" style=\"fill:#ffffff;\"/>\r\n   </g>\r\n   <g id=\"PathCollection_1\">\r\n    <defs>\r\n     <path d=\"M 0 3 \r\nC 0.795609 3 1.55874 2.683901 2.12132 2.12132 \r\nC 2.683901 1.55874 3 0.795609 3 -0 \r\nC 3 -0.795609 2.683901 -1.55874 2.12132 -2.12132 \r\nC 1.55874 -2.683901 0.795609 -3 0 -3 \r\nC -0.795609 -3 -1.55874 -2.683901 -2.12132 -2.12132 \r\nC -2.683901 -1.55874 -3 -0.795609 -3 0 \r\nC -3 0.795609 -2.683901 1.55874 -2.12132 2.12132 \r\nC -1.55874 2.683901 -0.795609 3 0 3 \r\nz\r\n\" id=\"C0_0_67a05ecffb\"/>\r\n    </defs>\r\n    <g clip-path=\"url(#p5b783fa636)\">\r\n     <use style=\"fill:#fde725;\" x=\"189.437167\" xlink:href=\"#C0_0_67a05ecffb\" y=\"151.198514\"/>\r\n    </g>\r\n    <g clip-path=\"url(#p5b783fa636)\">\r\n     <use style=\"fill:#fde725;\" x=\"255.582735\" xlink:href=\"#C0_0_67a05ecffb\" y=\"99.269935\"/>\r\n    </g>\r\n    <g clip-path=\"url(#p5b783fa636)\">\r\n     <use style=\"fill:#fde725;\" x=\"189.437167\" xlink:href=\"#C0_0_67a05ecffb\" y=\"88.239924\"/>\r\n    </g>\r\n    <g clip-path=\"url(#p5b783fa636)\">\r\n     <use style=\"fill:#fde725;\" x=\"183.542143\" xlink:href=\"#C0_0_67a05ecffb\" y=\"90.344712\"/>\r\n    </g>\r\n    <g clip-path=\"url(#p5b783fa636)\">\r\n     <use style=\"fill:#440154;\" x=\"266.41709\" xlink:href=\"#C0_0_67a05ecffb\" y=\"145.280824\"/>\r\n    </g>\r\n    <g clip-path=\"url(#p5b783fa636)\">\r\n     <use style=\"fill:#440154;\" x=\"224.792365\" xlink:href=\"#C0_0_67a05ecffb\" y=\"162.436927\"/>\r\n    </g>\r\n    <g clip-path=\"url(#p5b783fa636)\">\r\n     <use style=\"fill:#440154;\" x=\"149.987479\" xlink:href=\"#C0_0_67a05ecffb\" y=\"103.710218\"/>\r\n    </g>\r\n    <g clip-path=\"url(#p5b783fa636)\">\r\n     <use style=\"fill:#440154;\" x=\"261.057052\" xlink:href=\"#C0_0_67a05ecffb\" y=\"149.488803\"/>\r\n    </g>\r\n    <g clip-path=\"url(#p5b783fa636)\">\r\n     <use style=\"fill:#440154;\" x=\"232.93709\" xlink:href=\"#C0_0_67a05ecffb\" y=\"78.359673\"/>\r\n    </g>\r\n    <g clip-path=\"url(#p5b783fa636)\">\r\n     <use style=\"fill:#440154;\" x=\"279.205313\" xlink:href=\"#C0_0_67a05ecffb\" y=\"119.719219\"/>\r\n    </g>\r\n    <g clip-path=\"url(#p5b783fa636)\">\r\n     <use style=\"fill:#440154;\" x=\"169.563402\" xlink:href=\"#C0_0_67a05ecffb\" y=\"86.211139\"/>\r\n    </g>\r\n    <g clip-path=\"url(#p5b783fa636)\">\r\n     <use style=\"fill:#440154;\" x=\"158.073535\" xlink:href=\"#C0_0_67a05ecffb\" y=\"145.280824\"/>\r\n    </g>\r\n    <g clip-path=\"url(#p5b783fa636)\">\r\n     <use style=\"fill:#fde725;\" x=\"262.051579\" xlink:href=\"#C0_0_67a05ecffb\" y=\"132.526419\"/>\r\n    </g>\r\n    <g clip-path=\"url(#p5b783fa636)\">\r\n     <use style=\"fill:#440154;\" x=\"176.36635\" xlink:href=\"#C0_0_67a05ecffb\" y=\"156.437352\"/>\r\n    </g>\r\n    <g clip-path=\"url(#p5b783fa636)\">\r\n     <use style=\"fill:#fde725;\" x=\"160.36025\" xlink:href=\"#C0_0_67a05ecffb\" y=\"128.371239\"/>\r\n    </g>\r\n    <g clip-path=\"url(#p5b783fa636)\">\r\n     <use style=\"fill:#440154;\" x=\"270.922808\" xlink:href=\"#C0_0_67a05ecffb\" y=\"98.768715\"/>\r\n    </g>\r\n    <g clip-path=\"url(#p5b783fa636)\">\r\n     <use style=\"fill:#fde725;\" x=\"246.390841\" xlink:href=\"#C0_0_67a05ecffb\" y=\"146.525683\"/>\r\n    </g>\r\n    <g clip-path=\"url(#p5b783fa636)\">\r\n     <use style=\"fill:#fde725;\" x=\"162.439046\" xlink:href=\"#C0_0_67a05ecffb\" y=\"132.526419\"/>\r\n    </g>\r\n    <g clip-path=\"url(#p5b783fa636)\">\r\n     <use style=\"fill:#440154;\" x=\"216.449766\" xlink:href=\"#C0_0_67a05ecffb\" y=\"76.317032\"/>\r\n    </g>\r\n    <g clip-path=\"url(#p5b783fa636)\">\r\n     <use style=\"fill:#440154;\" x=\"163.433573\" xlink:href=\"#C0_0_67a05ecffb\" y=\"149.488803\"/>\r\n    </g>\r\n    <g clip-path=\"url(#p5b783fa636)\">\r\n     <use style=\"fill:#fde725;\" x=\"159.099712\" xlink:href=\"#C0_0_67a05ecffb\" y=\"124.079612\"/>\r\n    </g>\r\n    <g clip-path=\"url(#p5b783fa636)\">\r\n     <use style=\"fill:#fde725;\" x=\"222.282955\" xlink:href=\"#C0_0_67a05ecffb\" y=\"153.893385\"/>\r\n    </g>\r\n    <g clip-path=\"url(#p5b783fa636)\">\r\n     <use style=\"fill:#440154;\" x=\"145.813312\" xlink:href=\"#C0_0_67a05ecffb\" y=\"125.16971\"/>\r\n    </g>\r\n    <g clip-path=\"url(#p5b783fa636)\">\r\n     <use style=\"fill:#440154;\" x=\"248.124275\" xlink:href=\"#C0_0_67a05ecffb\" y=\"156.437352\"/>\r\n    </g>\r\n    <g clip-path=\"url(#p5b783fa636)\">\r\n     <use style=\"fill:#fde725;\" x=\"168.90789\" xlink:href=\"#C0_0_67a05ecffb\" y=\"99.269935\"/>\r\n    </g>\r\n    <g clip-path=\"url(#p5b783fa636)\">\r\n     <use style=\"fill:#440154;\" x=\"191.553535\" xlink:href=\"#C0_0_67a05ecffb\" y=\"78.359673\"/>\r\n    </g>\r\n    <g clip-path=\"url(#p5b783fa636)\">\r\n     <use style=\"fill:#440154;\" x=\"232.93709\" xlink:href=\"#C0_0_67a05ecffb\" y=\"161.078765\"/>\r\n    </g>\r\n    <g clip-path=\"url(#p5b783fa636)\">\r\n     <use style=\"fill:#fde725;\" x=\"162.439046\" xlink:href=\"#C0_0_67a05ecffb\" y=\"106.912018\"/>\r\n    </g>\r\n    <g clip-path=\"url(#p5b783fa636)\">\r\n     <use style=\"fill:#440154;\" x=\"240.755494\" xlink:href=\"#C0_0_67a05ecffb\" y=\"80.3701\"/>\r\n    </g>\r\n    <g clip-path=\"url(#p5b783fa636)\">\r\n     <use style=\"fill:#fde725;\" x=\"259.187309\" xlink:href=\"#C0_0_67a05ecffb\" y=\"136.479622\"/>\r\n    </g>\r\n    <g clip-path=\"url(#p5b783fa636)\">\r\n     <use style=\"fill:#440154;\" x=\"224.792365\" xlink:href=\"#C0_0_67a05ecffb\" y=\"77.001511\"/>\r\n    </g>\r\n    <g clip-path=\"url(#p5b783fa636)\">\r\n     <use style=\"fill:#fde725;\" x=\"235.053458\" xlink:href=\"#C0_0_67a05ecffb\" y=\"151.198514\"/>\r\n    </g>\r\n    <g clip-path=\"url(#p5b783fa636)\">\r\n     <use style=\"fill:#fde725;\" x=\"202.20767\" xlink:href=\"#C0_0_67a05ecffb\" y=\"85.545052\"/>\r\n    </g>\r\n    <g clip-path=\"url(#p5b783fa636)\">\r\n     <use style=\"fill:#440154;\" x=\"149.987479\" xlink:href=\"#C0_0_67a05ecffb\" y=\"135.728219\"/>\r\n    </g>\r\n    <g clip-path=\"url(#p5b783fa636)\">\r\n     <use style=\"fill:#fde725;\" x=\"183.542143\" xlink:href=\"#C0_0_67a05ecffb\" y=\"149.093725\"/>\r\n    </g>\r\n    <g clip-path=\"url(#p5b783fa636)\">\r\n     <use style=\"fill:#440154;\" x=\"266.41709\" xlink:href=\"#C0_0_67a05ecffb\" y=\"94.157614\"/>\r\n    </g>\r\n    <g clip-path=\"url(#p5b783fa636)\">\r\n     <use style=\"fill:#440154;\" x=\"274.503146\" xlink:href=\"#C0_0_67a05ecffb\" y=\"135.728219\"/>\r\n    </g>\r\n    <g clip-path=\"url(#p5b783fa636)\">\r\n     <use style=\"fill:#fde725;\" x=\"262.051579\" xlink:href=\"#C0_0_67a05ecffb\" y=\"106.912018\"/>\r\n    </g>\r\n    <g clip-path=\"url(#p5b783fa636)\">\r\n     <use style=\"fill:#440154;\" x=\"191.553535\" xlink:href=\"#C0_0_67a05ecffb\" y=\"161.078765\"/>\r\n    </g>\r\n    <g clip-path=\"url(#p5b783fa636)\">\r\n     <use style=\"fill:#440154;\" x=\"183.735131\" xlink:href=\"#C0_0_67a05ecffb\" y=\"80.3701\"/>\r\n    </g>\r\n    <g clip-path=\"url(#p5b783fa636)\">\r\n     <use style=\"fill:#fde725;\" x=\"173.195921\" xlink:href=\"#C0_0_67a05ecffb\" y=\"143.534886\"/>\r\n    </g>\r\n    <g clip-path=\"url(#p5b783fa636)\">\r\n     <use style=\"fill:#440154;\" x=\"183.735131\" xlink:href=\"#C0_0_67a05ecffb\" y=\"159.068338\"/>\r\n    </g>\r\n    <g clip-path=\"url(#p5b783fa636)\">\r\n     <use style=\"fill:#440154;\" x=\"254.927223\" xlink:href=\"#C0_0_67a05ecffb\" y=\"86.211139\"/>\r\n    </g>\r\n    <g clip-path=\"url(#p5b783fa636)\">\r\n     <use style=\"fill:#440154;\" x=\"254.927223\" xlink:href=\"#C0_0_67a05ecffb\" y=\"153.227299\"/>\r\n    </g>\r\n    <g clip-path=\"url(#p5b783fa636)\">\r\n     <use style=\"fill:#fde725;\" x=\"160.36025\" xlink:href=\"#C0_0_67a05ecffb\" y=\"111.067198\"/>\r\n    </g>\r\n    <g clip-path=\"url(#p5b783fa636)\">\r\n     <use style=\"fill:#440154;\" x=\"147.388984\" xlink:href=\"#C0_0_67a05ecffb\" y=\"130.534245\"/>\r\n    </g>\r\n    <g clip-path=\"url(#p5b783fa636)\">\r\n     <use style=\"fill:#440154;\" x=\"163.433573\" xlink:href=\"#C0_0_67a05ecffb\" y=\"89.949634\"/>\r\n    </g>\r\n    <g clip-path=\"url(#p5b783fa636)\">\r\n     <use style=\"fill:#fde725;\" x=\"251.294704\" xlink:href=\"#C0_0_67a05ecffb\" y=\"143.534886\"/>\r\n    </g>\r\n    <g clip-path=\"url(#p5b783fa636)\">\r\n     <use style=\"fill:#440154;\" x=\"145.285313\" xlink:href=\"#C0_0_67a05ecffb\" y=\"119.719219\"/>\r\n    </g>\r\n    <g clip-path=\"url(#p5b783fa636)\">\r\n     <use style=\"fill:#fde725;\" x=\"215.608875\" xlink:href=\"#C0_0_67a05ecffb\" y=\"84.99747\"/>\r\n    </g>\r\n    <g clip-path=\"url(#p5b783fa636)\">\r\n     <use style=\"fill:#440154;\" x=\"278.677313\" xlink:href=\"#C0_0_67a05ecffb\" y=\"125.16971\"/>\r\n    </g>\r\n    <g clip-path=\"url(#p5b783fa636)\">\r\n     <use style=\"fill:#440154;\" x=\"208.040859\" xlink:href=\"#C0_0_67a05ecffb\" y=\"76.317032\"/>\r\n    </g>\r\n    <g clip-path=\"url(#p5b783fa636)\">\r\n     <use style=\"fill:#440154;\" x=\"145.813312\" xlink:href=\"#C0_0_67a05ecffb\" y=\"114.268727\"/>\r\n    </g>\r\n    <g clip-path=\"url(#p5b783fa636)\">\r\n     <use style=\"fill:#440154;\" x=\"274.503146\" xlink:href=\"#C0_0_67a05ecffb\" y=\"103.710218\"/>\r\n    </g>\r\n    <g clip-path=\"url(#p5b783fa636)\">\r\n     <use style=\"fill:#440154;\" x=\"176.36635\" xlink:href=\"#C0_0_67a05ecffb\" y=\"83.001086\"/>\r\n    </g>\r\n    <g clip-path=\"url(#p5b783fa636)\">\r\n     <use style=\"fill:#440154;\" x=\"216.449766\" xlink:href=\"#C0_0_67a05ecffb\" y=\"163.121405\"/>\r\n    </g>\r\n    <g clip-path=\"url(#p5b783fa636)\">\r\n     <use style=\"fill:#440154;\" x=\"248.124275\" xlink:href=\"#C0_0_67a05ecffb\" y=\"83.001086\"/>\r\n    </g>\r\n    <g clip-path=\"url(#p5b783fa636)\">\r\n     <use style=\"fill:#fde725;\" x=\"165.303316\" xlink:href=\"#C0_0_67a05ecffb\" y=\"136.479622\"/>\r\n    </g>\r\n    <g clip-path=\"url(#p5b783fa636)\">\r\n     <use style=\"fill:#440154;\" x=\"261.057052\" xlink:href=\"#C0_0_67a05ecffb\" y=\"89.949634\"/>\r\n    </g>\r\n    <g clip-path=\"url(#p5b783fa636)\">\r\n     <use style=\"fill:#fde725;\" x=\"195.69189\" xlink:href=\"#C0_0_67a05ecffb\" y=\"86.631582\"/>\r\n    </g>\r\n    <g clip-path=\"url(#p5b783fa636)\">\r\n     <use style=\"fill:#440154;\" x=\"199.69826\" xlink:href=\"#C0_0_67a05ecffb\" y=\"162.436927\"/>\r\n    </g>\r\n    <g clip-path=\"url(#p5b783fa636)\">\r\n     <use style=\"fill:#fde725;\" x=\"215.608875\" xlink:href=\"#C0_0_67a05ecffb\" y=\"154.440968\"/>\r\n    </g>\r\n    <g clip-path=\"url(#p5b783fa636)\">\r\n     <use style=\"fill:#fde725;\" x=\"251.294704\" xlink:href=\"#C0_0_67a05ecffb\" y=\"95.903551\"/>\r\n    </g>\r\n    <g clip-path=\"url(#p5b783fa636)\">\r\n     <use style=\"fill:#fde725;\" x=\"265.390913\" xlink:href=\"#C0_0_67a05ecffb\" y=\"115.358825\"/>\r\n    </g>\r\n    <g clip-path=\"url(#p5b783fa636)\">\r\n     <use style=\"fill:#fde725;\" x=\"259.187309\" xlink:href=\"#C0_0_67a05ecffb\" y=\"102.958816\"/>\r\n    </g>\r\n    <g clip-path=\"url(#p5b783fa636)\">\r\n     <use style=\"fill:#fde725;\" x=\"265.813313\" xlink:href=\"#C0_0_67a05ecffb\" y=\"119.719219\"/>\r\n    </g>\r\n    <g clip-path=\"url(#p5b783fa636)\">\r\n     <use style=\"fill:#fde725;\" x=\"178.099784\" xlink:href=\"#C0_0_67a05ecffb\" y=\"92.912755\"/>\r\n    </g>\r\n    <g clip-path=\"url(#p5b783fa636)\">\r\n     <use style=\"fill:#440154;\" x=\"270.922808\" xlink:href=\"#C0_0_67a05ecffb\" y=\"140.669723\"/>\r\n    </g>\r\n    <g clip-path=\"url(#p5b783fa636)\">\r\n     <use style=\"fill:#fde725;\" x=\"173.195921\" xlink:href=\"#C0_0_67a05ecffb\" y=\"95.903551\"/>\r\n    </g>\r\n    <g clip-path=\"url(#p5b783fa636)\">\r\n     <use style=\"fill:#fde725;\" x=\"222.282955\" xlink:href=\"#C0_0_67a05ecffb\" y=\"85.545052\"/>\r\n    </g>\r\n    <g clip-path=\"url(#p5b783fa636)\">\r\n     <use style=\"fill:#fde725;\" x=\"264.130375\" xlink:href=\"#C0_0_67a05ecffb\" y=\"128.371239\"/>\r\n    </g>\r\n    <g clip-path=\"url(#p5b783fa636)\">\r\n     <use style=\"fill:#fde725;\" x=\"168.90789\" xlink:href=\"#C0_0_67a05ecffb\" y=\"140.168503\"/>\r\n    </g>\r\n    <g clip-path=\"url(#p5b783fa636)\">\r\n     <use style=\"fill:#440154;\" x=\"240.755494\" xlink:href=\"#C0_0_67a05ecffb\" y=\"159.068338\"/>\r\n    </g>\r\n    <g clip-path=\"url(#p5b783fa636)\">\r\n     <use style=\"fill:#fde725;\" x=\"240.948482\" xlink:href=\"#C0_0_67a05ecffb\" y=\"90.344712\"/>\r\n    </g>\r\n    <g clip-path=\"url(#p5b783fa636)\">\r\n     <use style=\"fill:#440154;\" x=\"277.101641\" xlink:href=\"#C0_0_67a05ecffb\" y=\"130.534245\"/>\r\n    </g>\r\n    <g clip-path=\"url(#p5b783fa636)\">\r\n     <use style=\"fill:#fde725;\" x=\"228.798735\" xlink:href=\"#C0_0_67a05ecffb\" y=\"152.806855\"/>\r\n    </g>\r\n    <g clip-path=\"url(#p5b783fa636)\">\r\n     <use style=\"fill:#fde725;\" x=\"246.390841\" xlink:href=\"#C0_0_67a05ecffb\" y=\"92.912755\"/>\r\n    </g>\r\n    <g clip-path=\"url(#p5b783fa636)\">\r\n     <use style=\"fill:#fde725;\" x=\"158.677313\" xlink:href=\"#C0_0_67a05ecffb\" y=\"119.719219\"/>\r\n    </g>\r\n    <g clip-path=\"url(#p5b783fa636)\">\r\n     <use style=\"fill:#440154;\" x=\"169.563402\" xlink:href=\"#C0_0_67a05ecffb\" y=\"153.227299\"/>\r\n    </g>\r\n    <g clip-path=\"url(#p5b783fa636)\">\r\n     <use style=\"fill:#fde725;\" x=\"255.582735\" xlink:href=\"#C0_0_67a05ecffb\" y=\"140.168503\"/>\r\n    </g>\r\n    <g clip-path=\"url(#p5b783fa636)\">\r\n     <use style=\"fill:#fde725;\" x=\"235.053458\" xlink:href=\"#C0_0_67a05ecffb\" y=\"88.239924\"/>\r\n    </g>\r\n    <g clip-path=\"url(#p5b783fa636)\">\r\n     <use style=\"fill:#fde725;\" x=\"208.88175\" xlink:href=\"#C0_0_67a05ecffb\" y=\"84.99747\"/>\r\n    </g>\r\n    <g clip-path=\"url(#p5b783fa636)\">\r\n     <use style=\"fill:#fde725;\" x=\"195.69189\" xlink:href=\"#C0_0_67a05ecffb\" y=\"152.806855\"/>\r\n    </g>\r\n    <g clip-path=\"url(#p5b783fa636)\">\r\n     <use style=\"fill:#440154;\" x=\"208.040859\" xlink:href=\"#C0_0_67a05ecffb\" y=\"163.121405\"/>\r\n    </g>\r\n    <g clip-path=\"url(#p5b783fa636)\">\r\n     <use style=\"fill:#440154;\" x=\"153.567817\" xlink:href=\"#C0_0_67a05ecffb\" y=\"140.669723\"/>\r\n    </g>\r\n    <g clip-path=\"url(#p5b783fa636)\">\r\n     <use style=\"fill:#440154;\" x=\"278.677313\" xlink:href=\"#C0_0_67a05ecffb\" y=\"114.268727\"/>\r\n    </g>\r\n    <g clip-path=\"url(#p5b783fa636)\">\r\n     <use style=\"fill:#fde725;\" x=\"264.130375\" xlink:href=\"#C0_0_67a05ecffb\" y=\"111.067198\"/>\r\n    </g>\r\n    <g clip-path=\"url(#p5b783fa636)\">\r\n     <use style=\"fill:#440154;\" x=\"153.567817\" xlink:href=\"#C0_0_67a05ecffb\" y=\"98.768715\"/>\r\n    </g>\r\n    <g clip-path=\"url(#p5b783fa636)\">\r\n     <use style=\"fill:#440154;\" x=\"277.101641\" xlink:href=\"#C0_0_67a05ecffb\" y=\"108.904193\"/>\r\n    </g>\r\n    <g clip-path=\"url(#p5b783fa636)\">\r\n     <use style=\"fill:#440154;\" x=\"147.388984\" xlink:href=\"#C0_0_67a05ecffb\" y=\"108.904193\"/>\r\n    </g>\r\n    <g clip-path=\"url(#p5b783fa636)\">\r\n     <use style=\"fill:#fde725;\" x=\"208.88175\" xlink:href=\"#C0_0_67a05ecffb\" y=\"154.440968\"/>\r\n    </g>\r\n    <g clip-path=\"url(#p5b783fa636)\">\r\n     <use style=\"fill:#fde725;\" x=\"265.390913\" xlink:href=\"#C0_0_67a05ecffb\" y=\"124.079612\"/>\r\n    </g>\r\n    <g clip-path=\"url(#p5b783fa636)\">\r\n     <use style=\"fill:#fde725;\" x=\"159.099712\" xlink:href=\"#C0_0_67a05ecffb\" y=\"115.358825\"/>\r\n    </g>\r\n    <g clip-path=\"url(#p5b783fa636)\">\r\n     <use style=\"fill:#fde725;\" x=\"202.20767\" xlink:href=\"#C0_0_67a05ecffb\" y=\"153.893385\"/>\r\n    </g>\r\n    <g clip-path=\"url(#p5b783fa636)\">\r\n     <use style=\"fill:#fde725;\" x=\"178.099784\" xlink:href=\"#C0_0_67a05ecffb\" y=\"146.525683\"/>\r\n    </g>\r\n    <g clip-path=\"url(#p5b783fa636)\">\r\n     <use style=\"fill:#440154;\" x=\"158.073535\" xlink:href=\"#C0_0_67a05ecffb\" y=\"94.157614\"/>\r\n    </g>\r\n    <g clip-path=\"url(#p5b783fa636)\">\r\n     <use style=\"fill:#fde725;\" x=\"228.798735\" xlink:href=\"#C0_0_67a05ecffb\" y=\"86.631582\"/>\r\n    </g>\r\n    <g clip-path=\"url(#p5b783fa636)\">\r\n     <use style=\"fill:#fde725;\" x=\"165.303316\" xlink:href=\"#C0_0_67a05ecffb\" y=\"102.958816\"/>\r\n    </g>\r\n    <g clip-path=\"url(#p5b783fa636)\">\r\n     <use style=\"fill:#440154;\" x=\"199.69826\" xlink:href=\"#C0_0_67a05ecffb\" y=\"77.001511\"/>\r\n    </g>\r\n    <g clip-path=\"url(#p5b783fa636)\">\r\n     <use style=\"fill:#fde725;\" x=\"240.948482\" xlink:href=\"#C0_0_67a05ecffb\" y=\"149.093725\"/>\r\n    </g>\r\n   </g>\r\n   <g id=\"matplotlib.axis_1\">\r\n    <g id=\"xtick_1\">\r\n     <g id=\"line2d_1\">\r\n      <path clip-path=\"url(#p5b783fa636)\" d=\"M 44.845312 228.439219 \r\nL 44.845312 10.999219 \r\n\" style=\"fill:none;stroke:#b0b0b0;stroke-linecap:square;stroke-width:0.8;\"/>\r\n     </g>\r\n     <g id=\"line2d_2\">\r\n      <defs>\r\n       <path d=\"M 0 0 \r\nL 0 3.5 \r\n\" id=\"maa9f7616d6\" style=\"stroke:#000000;stroke-width:0.8;\"/>\r\n      </defs>\r\n      <g>\r\n       <use style=\"stroke:#000000;stroke-width:0.8;\" x=\"44.845312\" xlink:href=\"#maa9f7616d6\" y=\"228.439219\"/>\r\n      </g>\r\n     </g>\r\n     <g id=\"text_1\">\r\n      <!-- −10.0 -->\r\n      <g transform=\"translate(29.522656 243.037656)scale(0.1 -0.1)\">\r\n       <defs>\r\n        <path d=\"M 678 2272 \r\nL 4684 2272 \r\nL 4684 1741 \r\nL 678 1741 \r\nL 678 2272 \r\nz\r\n\" id=\"DejaVuSans-2212\" transform=\"scale(0.015625)\"/>\r\n        <path d=\"M 794 531 \r\nL 1825 531 \r\nL 1825 4091 \r\nL 703 3866 \r\nL 703 4441 \r\nL 1819 4666 \r\nL 2450 4666 \r\nL 2450 531 \r\nL 3481 531 \r\nL 3481 0 \r\nL 794 0 \r\nL 794 531 \r\nz\r\n\" id=\"DejaVuSans-31\" transform=\"scale(0.015625)\"/>\r\n        <path d=\"M 2034 4250 \r\nQ 1547 4250 1301 3770 \r\nQ 1056 3291 1056 2328 \r\nQ 1056 1369 1301 889 \r\nQ 1547 409 2034 409 \r\nQ 2525 409 2770 889 \r\nQ 3016 1369 3016 2328 \r\nQ 3016 3291 2770 3770 \r\nQ 2525 4250 2034 4250 \r\nz\r\nM 2034 4750 \r\nQ 2819 4750 3233 4129 \r\nQ 3647 3509 3647 2328 \r\nQ 3647 1150 3233 529 \r\nQ 2819 -91 2034 -91 \r\nQ 1250 -91 836 529 \r\nQ 422 1150 422 2328 \r\nQ 422 3509 836 4129 \r\nQ 1250 4750 2034 4750 \r\nz\r\n\" id=\"DejaVuSans-30\" transform=\"scale(0.015625)\"/>\r\n        <path d=\"M 684 794 \r\nL 1344 794 \r\nL 1344 0 \r\nL 684 0 \r\nL 684 794 \r\nz\r\n\" id=\"DejaVuSans-2e\" transform=\"scale(0.015625)\"/>\r\n       </defs>\r\n       <use xlink:href=\"#DejaVuSans-2212\"/>\r\n       <use x=\"83.789062\" xlink:href=\"#DejaVuSans-31\"/>\r\n       <use x=\"147.412109\" xlink:href=\"#DejaVuSans-30\"/>\r\n       <use x=\"211.035156\" xlink:href=\"#DejaVuSans-2e\"/>\r\n       <use x=\"242.822266\" xlink:href=\"#DejaVuSans-30\"/>\r\n      </g>\r\n     </g>\r\n    </g>\r\n    <g id=\"xtick_2\">\r\n     <g id=\"line2d_3\">\r\n      <path clip-path=\"url(#p5b783fa636)\" d=\"M 86.695312 228.439219 \r\nL 86.695312 10.999219 \r\n\" style=\"fill:none;stroke:#b0b0b0;stroke-linecap:square;stroke-width:0.8;\"/>\r\n     </g>\r\n     <g id=\"line2d_4\">\r\n      <g>\r\n       <use style=\"stroke:#000000;stroke-width:0.8;\" x=\"86.695312\" xlink:href=\"#maa9f7616d6\" y=\"228.439219\"/>\r\n      </g>\r\n     </g>\r\n     <g id=\"text_2\">\r\n      <!-- −7.5 -->\r\n      <g transform=\"translate(74.553906 243.037656)scale(0.1 -0.1)\">\r\n       <defs>\r\n        <path d=\"M 525 4666 \r\nL 3525 4666 \r\nL 3525 4397 \r\nL 1831 0 \r\nL 1172 0 \r\nL 2766 4134 \r\nL 525 4134 \r\nL 525 4666 \r\nz\r\n\" id=\"DejaVuSans-37\" transform=\"scale(0.015625)\"/>\r\n        <path d=\"M 691 4666 \r\nL 3169 4666 \r\nL 3169 4134 \r\nL 1269 4134 \r\nL 1269 2991 \r\nQ 1406 3038 1543 3061 \r\nQ 1681 3084 1819 3084 \r\nQ 2600 3084 3056 2656 \r\nQ 3513 2228 3513 1497 \r\nQ 3513 744 3044 326 \r\nQ 2575 -91 1722 -91 \r\nQ 1428 -91 1123 -41 \r\nQ 819 9 494 109 \r\nL 494 744 \r\nQ 775 591 1075 516 \r\nQ 1375 441 1709 441 \r\nQ 2250 441 2565 725 \r\nQ 2881 1009 2881 1497 \r\nQ 2881 1984 2565 2268 \r\nQ 2250 2553 1709 2553 \r\nQ 1456 2553 1204 2497 \r\nQ 953 2441 691 2322 \r\nL 691 4666 \r\nz\r\n\" id=\"DejaVuSans-35\" transform=\"scale(0.015625)\"/>\r\n       </defs>\r\n       <use xlink:href=\"#DejaVuSans-2212\"/>\r\n       <use x=\"83.789062\" xlink:href=\"#DejaVuSans-37\"/>\r\n       <use x=\"147.412109\" xlink:href=\"#DejaVuSans-2e\"/>\r\n       <use x=\"179.199219\" xlink:href=\"#DejaVuSans-35\"/>\r\n      </g>\r\n     </g>\r\n    </g>\r\n    <g id=\"xtick_3\">\r\n     <g id=\"line2d_5\">\r\n      <path clip-path=\"url(#p5b783fa636)\" d=\"M 128.545313 228.439219 \r\nL 128.545313 10.999219 \r\n\" style=\"fill:none;stroke:#b0b0b0;stroke-linecap:square;stroke-width:0.8;\"/>\r\n     </g>\r\n     <g id=\"line2d_6\">\r\n      <g>\r\n       <use style=\"stroke:#000000;stroke-width:0.8;\" x=\"128.545313\" xlink:href=\"#maa9f7616d6\" y=\"228.439219\"/>\r\n      </g>\r\n     </g>\r\n     <g id=\"text_3\">\r\n      <!-- −5.0 -->\r\n      <g transform=\"translate(116.403906 243.037656)scale(0.1 -0.1)\">\r\n       <use xlink:href=\"#DejaVuSans-2212\"/>\r\n       <use x=\"83.789062\" xlink:href=\"#DejaVuSans-35\"/>\r\n       <use x=\"147.412109\" xlink:href=\"#DejaVuSans-2e\"/>\r\n       <use x=\"179.199219\" xlink:href=\"#DejaVuSans-30\"/>\r\n      </g>\r\n     </g>\r\n    </g>\r\n    <g id=\"xtick_4\">\r\n     <g id=\"line2d_7\">\r\n      <path clip-path=\"url(#p5b783fa636)\" d=\"M 170.395313 228.439219 \r\nL 170.395313 10.999219 \r\n\" style=\"fill:none;stroke:#b0b0b0;stroke-linecap:square;stroke-width:0.8;\"/>\r\n     </g>\r\n     <g id=\"line2d_8\">\r\n      <g>\r\n       <use style=\"stroke:#000000;stroke-width:0.8;\" x=\"170.395313\" xlink:href=\"#maa9f7616d6\" y=\"228.439219\"/>\r\n      </g>\r\n     </g>\r\n     <g id=\"text_4\">\r\n      <!-- −2.5 -->\r\n      <g transform=\"translate(158.253906 243.037656)scale(0.1 -0.1)\">\r\n       <defs>\r\n        <path d=\"M 1228 531 \r\nL 3431 531 \r\nL 3431 0 \r\nL 469 0 \r\nL 469 531 \r\nQ 828 903 1448 1529 \r\nQ 2069 2156 2228 2338 \r\nQ 2531 2678 2651 2914 \r\nQ 2772 3150 2772 3378 \r\nQ 2772 3750 2511 3984 \r\nQ 2250 4219 1831 4219 \r\nQ 1534 4219 1204 4116 \r\nQ 875 4013 500 3803 \r\nL 500 4441 \r\nQ 881 4594 1212 4672 \r\nQ 1544 4750 1819 4750 \r\nQ 2544 4750 2975 4387 \r\nQ 3406 4025 3406 3419 \r\nQ 3406 3131 3298 2873 \r\nQ 3191 2616 2906 2266 \r\nQ 2828 2175 2409 1742 \r\nQ 1991 1309 1228 531 \r\nz\r\n\" id=\"DejaVuSans-32\" transform=\"scale(0.015625)\"/>\r\n       </defs>\r\n       <use xlink:href=\"#DejaVuSans-2212\"/>\r\n       <use x=\"83.789062\" xlink:href=\"#DejaVuSans-32\"/>\r\n       <use x=\"147.412109\" xlink:href=\"#DejaVuSans-2e\"/>\r\n       <use x=\"179.199219\" xlink:href=\"#DejaVuSans-35\"/>\r\n      </g>\r\n     </g>\r\n    </g>\r\n    <g id=\"xtick_5\">\r\n     <g id=\"line2d_9\">\r\n      <path clip-path=\"url(#p5b783fa636)\" d=\"M 212.245313 228.439219 \r\nL 212.245313 10.999219 \r\n\" style=\"fill:none;stroke:#b0b0b0;stroke-linecap:square;stroke-width:0.8;\"/>\r\n     </g>\r\n     <g id=\"line2d_10\">\r\n      <g>\r\n       <use style=\"stroke:#000000;stroke-width:0.8;\" x=\"212.245313\" xlink:href=\"#maa9f7616d6\" y=\"228.439219\"/>\r\n      </g>\r\n     </g>\r\n     <g id=\"text_5\">\r\n      <!-- 0.0 -->\r\n      <g transform=\"translate(204.29375 243.037656)scale(0.1 -0.1)\">\r\n       <use xlink:href=\"#DejaVuSans-30\"/>\r\n       <use x=\"63.623047\" xlink:href=\"#DejaVuSans-2e\"/>\r\n       <use x=\"95.410156\" xlink:href=\"#DejaVuSans-30\"/>\r\n      </g>\r\n     </g>\r\n    </g>\r\n    <g id=\"xtick_6\">\r\n     <g id=\"line2d_11\">\r\n      <path clip-path=\"url(#p5b783fa636)\" d=\"M 254.095313 228.439219 \r\nL 254.095313 10.999219 \r\n\" style=\"fill:none;stroke:#b0b0b0;stroke-linecap:square;stroke-width:0.8;\"/>\r\n     </g>\r\n     <g id=\"line2d_12\">\r\n      <g>\r\n       <use style=\"stroke:#000000;stroke-width:0.8;\" x=\"254.095313\" xlink:href=\"#maa9f7616d6\" y=\"228.439219\"/>\r\n      </g>\r\n     </g>\r\n     <g id=\"text_6\">\r\n      <!-- 2.5 -->\r\n      <g transform=\"translate(246.14375 243.037656)scale(0.1 -0.1)\">\r\n       <use xlink:href=\"#DejaVuSans-32\"/>\r\n       <use x=\"63.623047\" xlink:href=\"#DejaVuSans-2e\"/>\r\n       <use x=\"95.410156\" xlink:href=\"#DejaVuSans-35\"/>\r\n      </g>\r\n     </g>\r\n    </g>\r\n    <g id=\"xtick_7\">\r\n     <g id=\"line2d_13\">\r\n      <path clip-path=\"url(#p5b783fa636)\" d=\"M 295.945313 228.439219 \r\nL 295.945313 10.999219 \r\n\" style=\"fill:none;stroke:#b0b0b0;stroke-linecap:square;stroke-width:0.8;\"/>\r\n     </g>\r\n     <g id=\"line2d_14\">\r\n      <g>\r\n       <use style=\"stroke:#000000;stroke-width:0.8;\" x=\"295.945313\" xlink:href=\"#maa9f7616d6\" y=\"228.439219\"/>\r\n      </g>\r\n     </g>\r\n     <g id=\"text_7\">\r\n      <!-- 5.0 -->\r\n      <g transform=\"translate(287.99375 243.037656)scale(0.1 -0.1)\">\r\n       <use xlink:href=\"#DejaVuSans-35\"/>\r\n       <use x=\"63.623047\" xlink:href=\"#DejaVuSans-2e\"/>\r\n       <use x=\"95.410156\" xlink:href=\"#DejaVuSans-30\"/>\r\n      </g>\r\n     </g>\r\n    </g>\r\n    <g id=\"xtick_8\">\r\n     <g id=\"line2d_15\">\r\n      <path clip-path=\"url(#p5b783fa636)\" d=\"M 337.795313 228.439219 \r\nL 337.795313 10.999219 \r\n\" style=\"fill:none;stroke:#b0b0b0;stroke-linecap:square;stroke-width:0.8;\"/>\r\n     </g>\r\n     <g id=\"line2d_16\">\r\n      <g>\r\n       <use style=\"stroke:#000000;stroke-width:0.8;\" x=\"337.795313\" xlink:href=\"#maa9f7616d6\" y=\"228.439219\"/>\r\n      </g>\r\n     </g>\r\n     <g id=\"text_8\">\r\n      <!-- 7.5 -->\r\n      <g transform=\"translate(329.84375 243.037656)scale(0.1 -0.1)\">\r\n       <use xlink:href=\"#DejaVuSans-37\"/>\r\n       <use x=\"63.623047\" xlink:href=\"#DejaVuSans-2e\"/>\r\n       <use x=\"95.410156\" xlink:href=\"#DejaVuSans-35\"/>\r\n      </g>\r\n     </g>\r\n    </g>\r\n    <g id=\"xtick_9\">\r\n     <g id=\"line2d_17\">\r\n      <path clip-path=\"url(#p5b783fa636)\" d=\"M 379.645313 228.439219 \r\nL 379.645313 10.999219 \r\n\" style=\"fill:none;stroke:#b0b0b0;stroke-linecap:square;stroke-width:0.8;\"/>\r\n     </g>\r\n     <g id=\"line2d_18\">\r\n      <g>\r\n       <use style=\"stroke:#000000;stroke-width:0.8;\" x=\"379.645313\" xlink:href=\"#maa9f7616d6\" y=\"228.439219\"/>\r\n      </g>\r\n     </g>\r\n     <g id=\"text_9\">\r\n      <!-- 10.0 -->\r\n      <g transform=\"translate(368.5125 243.037656)scale(0.1 -0.1)\">\r\n       <use xlink:href=\"#DejaVuSans-31\"/>\r\n       <use x=\"63.623047\" xlink:href=\"#DejaVuSans-30\"/>\r\n       <use x=\"127.246094\" xlink:href=\"#DejaVuSans-2e\"/>\r\n       <use x=\"159.033203\" xlink:href=\"#DejaVuSans-30\"/>\r\n      </g>\r\n     </g>\r\n    </g>\r\n   </g>\r\n   <g id=\"matplotlib.axis_2\">\r\n    <g id=\"ytick_1\">\r\n     <g id=\"line2d_19\">\r\n      <path clip-path=\"url(#p5b783fa636)\" d=\"M 44.845313 228.439219 \r\nL 379.645313 228.439219 \r\n\" style=\"fill:none;stroke:#b0b0b0;stroke-linecap:square;stroke-width:0.8;\"/>\r\n     </g>\r\n     <g id=\"line2d_20\">\r\n      <defs>\r\n       <path d=\"M 0 0 \r\nL -3.5 0 \r\n\" id=\"mcf3884546a\" style=\"stroke:#000000;stroke-width:0.8;\"/>\r\n      </defs>\r\n      <g>\r\n       <use style=\"stroke:#000000;stroke-width:0.8;\" x=\"44.845313\" xlink:href=\"#mcf3884546a\" y=\"228.439219\"/>\r\n      </g>\r\n     </g>\r\n     <g id=\"text_10\">\r\n      <!-- −10.0 -->\r\n      <g transform=\"translate(7.2 232.238437)scale(0.1 -0.1)\">\r\n       <use xlink:href=\"#DejaVuSans-2212\"/>\r\n       <use x=\"83.789062\" xlink:href=\"#DejaVuSans-31\"/>\r\n       <use x=\"147.412109\" xlink:href=\"#DejaVuSans-30\"/>\r\n       <use x=\"211.035156\" xlink:href=\"#DejaVuSans-2e\"/>\r\n       <use x=\"242.822266\" xlink:href=\"#DejaVuSans-30\"/>\r\n      </g>\r\n     </g>\r\n    </g>\r\n    <g id=\"ytick_2\">\r\n     <g id=\"line2d_21\">\r\n      <path clip-path=\"url(#p5b783fa636)\" d=\"M 44.845313 201.259219 \r\nL 379.645313 201.259219 \r\n\" style=\"fill:none;stroke:#b0b0b0;stroke-linecap:square;stroke-width:0.8;\"/>\r\n     </g>\r\n     <g id=\"line2d_22\">\r\n      <g>\r\n       <use style=\"stroke:#000000;stroke-width:0.8;\" x=\"44.845313\" xlink:href=\"#mcf3884546a\" y=\"201.259219\"/>\r\n      </g>\r\n     </g>\r\n     <g id=\"text_11\">\r\n      <!-- −7.5 -->\r\n      <g transform=\"translate(13.5625 205.058437)scale(0.1 -0.1)\">\r\n       <use xlink:href=\"#DejaVuSans-2212\"/>\r\n       <use x=\"83.789062\" xlink:href=\"#DejaVuSans-37\"/>\r\n       <use x=\"147.412109\" xlink:href=\"#DejaVuSans-2e\"/>\r\n       <use x=\"179.199219\" xlink:href=\"#DejaVuSans-35\"/>\r\n      </g>\r\n     </g>\r\n    </g>\r\n    <g id=\"ytick_3\">\r\n     <g id=\"line2d_23\">\r\n      <path clip-path=\"url(#p5b783fa636)\" d=\"M 44.845313 174.079219 \r\nL 379.645313 174.079219 \r\n\" style=\"fill:none;stroke:#b0b0b0;stroke-linecap:square;stroke-width:0.8;\"/>\r\n     </g>\r\n     <g id=\"line2d_24\">\r\n      <g>\r\n       <use style=\"stroke:#000000;stroke-width:0.8;\" x=\"44.845313\" xlink:href=\"#mcf3884546a\" y=\"174.079219\"/>\r\n      </g>\r\n     </g>\r\n     <g id=\"text_12\">\r\n      <!-- −5.0 -->\r\n      <g transform=\"translate(13.5625 177.878437)scale(0.1 -0.1)\">\r\n       <use xlink:href=\"#DejaVuSans-2212\"/>\r\n       <use x=\"83.789062\" xlink:href=\"#DejaVuSans-35\"/>\r\n       <use x=\"147.412109\" xlink:href=\"#DejaVuSans-2e\"/>\r\n       <use x=\"179.199219\" xlink:href=\"#DejaVuSans-30\"/>\r\n      </g>\r\n     </g>\r\n    </g>\r\n    <g id=\"ytick_4\">\r\n     <g id=\"line2d_25\">\r\n      <path clip-path=\"url(#p5b783fa636)\" d=\"M 44.845313 146.899219 \r\nL 379.645313 146.899219 \r\n\" style=\"fill:none;stroke:#b0b0b0;stroke-linecap:square;stroke-width:0.8;\"/>\r\n     </g>\r\n     <g id=\"line2d_26\">\r\n      <g>\r\n       <use style=\"stroke:#000000;stroke-width:0.8;\" x=\"44.845313\" xlink:href=\"#mcf3884546a\" y=\"146.899219\"/>\r\n      </g>\r\n     </g>\r\n     <g id=\"text_13\">\r\n      <!-- −2.5 -->\r\n      <g transform=\"translate(13.5625 150.698437)scale(0.1 -0.1)\">\r\n       <use xlink:href=\"#DejaVuSans-2212\"/>\r\n       <use x=\"83.789062\" xlink:href=\"#DejaVuSans-32\"/>\r\n       <use x=\"147.412109\" xlink:href=\"#DejaVuSans-2e\"/>\r\n       <use x=\"179.199219\" xlink:href=\"#DejaVuSans-35\"/>\r\n      </g>\r\n     </g>\r\n    </g>\r\n    <g id=\"ytick_5\">\r\n     <g id=\"line2d_27\">\r\n      <path clip-path=\"url(#p5b783fa636)\" d=\"M 44.845313 119.719219 \r\nL 379.645313 119.719219 \r\n\" style=\"fill:none;stroke:#b0b0b0;stroke-linecap:square;stroke-width:0.8;\"/>\r\n     </g>\r\n     <g id=\"line2d_28\">\r\n      <g>\r\n       <use style=\"stroke:#000000;stroke-width:0.8;\" x=\"44.845313\" xlink:href=\"#mcf3884546a\" y=\"119.719219\"/>\r\n      </g>\r\n     </g>\r\n     <g id=\"text_14\">\r\n      <!-- 0.0 -->\r\n      <g transform=\"translate(21.942188 123.518437)scale(0.1 -0.1)\">\r\n       <use xlink:href=\"#DejaVuSans-30\"/>\r\n       <use x=\"63.623047\" xlink:href=\"#DejaVuSans-2e\"/>\r\n       <use x=\"95.410156\" xlink:href=\"#DejaVuSans-30\"/>\r\n      </g>\r\n     </g>\r\n    </g>\r\n    <g id=\"ytick_6\">\r\n     <g id=\"line2d_29\">\r\n      <path clip-path=\"url(#p5b783fa636)\" d=\"M 44.845313 92.539219 \r\nL 379.645313 92.539219 \r\n\" style=\"fill:none;stroke:#b0b0b0;stroke-linecap:square;stroke-width:0.8;\"/>\r\n     </g>\r\n     <g id=\"line2d_30\">\r\n      <g>\r\n       <use style=\"stroke:#000000;stroke-width:0.8;\" x=\"44.845313\" xlink:href=\"#mcf3884546a\" y=\"92.539219\"/>\r\n      </g>\r\n     </g>\r\n     <g id=\"text_15\">\r\n      <!-- 2.5 -->\r\n      <g transform=\"translate(21.942188 96.338437)scale(0.1 -0.1)\">\r\n       <use xlink:href=\"#DejaVuSans-32\"/>\r\n       <use x=\"63.623047\" xlink:href=\"#DejaVuSans-2e\"/>\r\n       <use x=\"95.410156\" xlink:href=\"#DejaVuSans-35\"/>\r\n      </g>\r\n     </g>\r\n    </g>\r\n    <g id=\"ytick_7\">\r\n     <g id=\"line2d_31\">\r\n      <path clip-path=\"url(#p5b783fa636)\" d=\"M 44.845313 65.359219 \r\nL 379.645313 65.359219 \r\n\" style=\"fill:none;stroke:#b0b0b0;stroke-linecap:square;stroke-width:0.8;\"/>\r\n     </g>\r\n     <g id=\"line2d_32\">\r\n      <g>\r\n       <use style=\"stroke:#000000;stroke-width:0.8;\" x=\"44.845313\" xlink:href=\"#mcf3884546a\" y=\"65.359219\"/>\r\n      </g>\r\n     </g>\r\n     <g id=\"text_16\">\r\n      <!-- 5.0 -->\r\n      <g transform=\"translate(21.942188 69.158437)scale(0.1 -0.1)\">\r\n       <use xlink:href=\"#DejaVuSans-35\"/>\r\n       <use x=\"63.623047\" xlink:href=\"#DejaVuSans-2e\"/>\r\n       <use x=\"95.410156\" xlink:href=\"#DejaVuSans-30\"/>\r\n      </g>\r\n     </g>\r\n    </g>\r\n    <g id=\"ytick_8\">\r\n     <g id=\"line2d_33\">\r\n      <path clip-path=\"url(#p5b783fa636)\" d=\"M 44.845313 38.179219 \r\nL 379.645313 38.179219 \r\n\" style=\"fill:none;stroke:#b0b0b0;stroke-linecap:square;stroke-width:0.8;\"/>\r\n     </g>\r\n     <g id=\"line2d_34\">\r\n      <g>\r\n       <use style=\"stroke:#000000;stroke-width:0.8;\" x=\"44.845313\" xlink:href=\"#mcf3884546a\" y=\"38.179219\"/>\r\n      </g>\r\n     </g>\r\n     <g id=\"text_17\">\r\n      <!-- 7.5 -->\r\n      <g transform=\"translate(21.942188 41.978437)scale(0.1 -0.1)\">\r\n       <use xlink:href=\"#DejaVuSans-37\"/>\r\n       <use x=\"63.623047\" xlink:href=\"#DejaVuSans-2e\"/>\r\n       <use x=\"95.410156\" xlink:href=\"#DejaVuSans-35\"/>\r\n      </g>\r\n     </g>\r\n    </g>\r\n    <g id=\"ytick_9\">\r\n     <g id=\"line2d_35\">\r\n      <path clip-path=\"url(#p5b783fa636)\" d=\"M 44.845313 10.999219 \r\nL 379.645313 10.999219 \r\n\" style=\"fill:none;stroke:#b0b0b0;stroke-linecap:square;stroke-width:0.8;\"/>\r\n     </g>\r\n     <g id=\"line2d_36\">\r\n      <g>\r\n       <use style=\"stroke:#000000;stroke-width:0.8;\" x=\"44.845313\" xlink:href=\"#mcf3884546a\" y=\"10.999219\"/>\r\n      </g>\r\n     </g>\r\n     <g id=\"text_18\">\r\n      <!-- 10.0 -->\r\n      <g transform=\"translate(15.579688 14.798437)scale(0.1 -0.1)\">\r\n       <use xlink:href=\"#DejaVuSans-31\"/>\r\n       <use x=\"63.623047\" xlink:href=\"#DejaVuSans-30\"/>\r\n       <use x=\"127.246094\" xlink:href=\"#DejaVuSans-2e\"/>\r\n       <use x=\"159.033203\" xlink:href=\"#DejaVuSans-30\"/>\r\n      </g>\r\n     </g>\r\n    </g>\r\n   </g>\r\n   <g id=\"patch_3\">\r\n    <path d=\"M 44.845313 228.439219 \r\nL 44.845313 10.999219 \r\n\" style=\"fill:none;stroke:#000000;stroke-linecap:square;stroke-linejoin:miter;stroke-width:0.8;\"/>\r\n   </g>\r\n   <g id=\"patch_4\">\r\n    <path d=\"M 379.645313 228.439219 \r\nL 379.645313 10.999219 \r\n\" style=\"fill:none;stroke:#000000;stroke-linecap:square;stroke-linejoin:miter;stroke-width:0.8;\"/>\r\n   </g>\r\n   <g id=\"patch_5\">\r\n    <path d=\"M 44.845312 228.439219 \r\nL 379.645313 228.439219 \r\n\" style=\"fill:none;stroke:#000000;stroke-linecap:square;stroke-linejoin:miter;stroke-width:0.8;\"/>\r\n   </g>\r\n   <g id=\"patch_6\">\r\n    <path d=\"M 44.845312 10.999219 \r\nL 379.645313 10.999219 \r\n\" style=\"fill:none;stroke:#000000;stroke-linecap:square;stroke-linejoin:miter;stroke-width:0.8;\"/>\r\n   </g>\r\n  </g>\r\n  <g id=\"axes_2\">\r\n   <g id=\"patch_7\">\r\n    <path d=\"M 103.525313 228.439219 \r\nL 320.965312 228.439219 \r\nL 320.965312 10.999219 \r\nL 103.525313 10.999219 \r\nz\r\n\" style=\"fill:#ffffff;\"/>\r\n   </g>\r\n   <g id=\"matplotlib.axis_3\">\r\n    <g id=\"xtick_10\">\r\n     <g id=\"line2d_37\">\r\n      <g>\r\n       <use style=\"stroke:#000000;stroke-width:0.8;\" x=\"103.525313\" xlink:href=\"#maa9f7616d6\" y=\"228.439219\"/>\r\n      </g>\r\n     </g>\r\n     <g id=\"text_19\">\r\n      <!-- 0.0 -->\r\n      <g transform=\"translate(95.57375 243.037656)scale(0.1 -0.1)\">\r\n       <use xlink:href=\"#DejaVuSans-30\"/>\r\n       <use x=\"63.623047\" xlink:href=\"#DejaVuSans-2e\"/>\r\n       <use x=\"95.410156\" xlink:href=\"#DejaVuSans-30\"/>\r\n      </g>\r\n     </g>\r\n    </g>\r\n    <g id=\"xtick_11\">\r\n     <g id=\"line2d_38\">\r\n      <g>\r\n       <use style=\"stroke:#000000;stroke-width:0.8;\" x=\"147.013313\" xlink:href=\"#maa9f7616d6\" y=\"228.439219\"/>\r\n      </g>\r\n     </g>\r\n     <g id=\"text_20\">\r\n      <!-- 0.2 -->\r\n      <g transform=\"translate(139.06175 243.037656)scale(0.1 -0.1)\">\r\n       <use xlink:href=\"#DejaVuSans-30\"/>\r\n       <use x=\"63.623047\" xlink:href=\"#DejaVuSans-2e\"/>\r\n       <use x=\"95.410156\" xlink:href=\"#DejaVuSans-32\"/>\r\n      </g>\r\n     </g>\r\n    </g>\r\n    <g id=\"xtick_12\">\r\n     <g id=\"line2d_39\">\r\n      <g>\r\n       <use style=\"stroke:#000000;stroke-width:0.8;\" x=\"190.501313\" xlink:href=\"#maa9f7616d6\" y=\"228.439219\"/>\r\n      </g>\r\n     </g>\r\n     <g id=\"text_21\">\r\n      <!-- 0.4 -->\r\n      <g transform=\"translate(182.54975 243.037656)scale(0.1 -0.1)\">\r\n       <defs>\r\n        <path d=\"M 2419 4116 \r\nL 825 1625 \r\nL 2419 1625 \r\nL 2419 4116 \r\nz\r\nM 2253 4666 \r\nL 3047 4666 \r\nL 3047 1625 \r\nL 3713 1625 \r\nL 3713 1100 \r\nL 3047 1100 \r\nL 3047 0 \r\nL 2419 0 \r\nL 2419 1100 \r\nL 313 1100 \r\nL 313 1709 \r\nL 2253 4666 \r\nz\r\n\" id=\"DejaVuSans-34\" transform=\"scale(0.015625)\"/>\r\n       </defs>\r\n       <use xlink:href=\"#DejaVuSans-30\"/>\r\n       <use x=\"63.623047\" xlink:href=\"#DejaVuSans-2e\"/>\r\n       <use x=\"95.410156\" xlink:href=\"#DejaVuSans-34\"/>\r\n      </g>\r\n     </g>\r\n    </g>\r\n    <g id=\"xtick_13\">\r\n     <g id=\"line2d_40\">\r\n      <g>\r\n       <use style=\"stroke:#000000;stroke-width:0.8;\" x=\"233.989313\" xlink:href=\"#maa9f7616d6\" y=\"228.439219\"/>\r\n      </g>\r\n     </g>\r\n     <g id=\"text_22\">\r\n      <!-- 0.6 -->\r\n      <g transform=\"translate(226.03775 243.037656)scale(0.1 -0.1)\">\r\n       <defs>\r\n        <path d=\"M 2113 2584 \r\nQ 1688 2584 1439 2293 \r\nQ 1191 2003 1191 1497 \r\nQ 1191 994 1439 701 \r\nQ 1688 409 2113 409 \r\nQ 2538 409 2786 701 \r\nQ 3034 994 3034 1497 \r\nQ 3034 2003 2786 2293 \r\nQ 2538 2584 2113 2584 \r\nz\r\nM 3366 4563 \r\nL 3366 3988 \r\nQ 3128 4100 2886 4159 \r\nQ 2644 4219 2406 4219 \r\nQ 1781 4219 1451 3797 \r\nQ 1122 3375 1075 2522 \r\nQ 1259 2794 1537 2939 \r\nQ 1816 3084 2150 3084 \r\nQ 2853 3084 3261 2657 \r\nQ 3669 2231 3669 1497 \r\nQ 3669 778 3244 343 \r\nQ 2819 -91 2113 -91 \r\nQ 1303 -91 875 529 \r\nQ 447 1150 447 2328 \r\nQ 447 3434 972 4092 \r\nQ 1497 4750 2381 4750 \r\nQ 2619 4750 2861 4703 \r\nQ 3103 4656 3366 4563 \r\nz\r\n\" id=\"DejaVuSans-36\" transform=\"scale(0.015625)\"/>\r\n       </defs>\r\n       <use xlink:href=\"#DejaVuSans-30\"/>\r\n       <use x=\"63.623047\" xlink:href=\"#DejaVuSans-2e\"/>\r\n       <use x=\"95.410156\" xlink:href=\"#DejaVuSans-36\"/>\r\n      </g>\r\n     </g>\r\n    </g>\r\n    <g id=\"xtick_14\">\r\n     <g id=\"line2d_41\">\r\n      <g>\r\n       <use style=\"stroke:#000000;stroke-width:0.8;\" x=\"277.477313\" xlink:href=\"#maa9f7616d6\" y=\"228.439219\"/>\r\n      </g>\r\n     </g>\r\n     <g id=\"text_23\">\r\n      <!-- 0.8 -->\r\n      <g transform=\"translate(269.52575 243.037656)scale(0.1 -0.1)\">\r\n       <defs>\r\n        <path d=\"M 2034 2216 \r\nQ 1584 2216 1326 1975 \r\nQ 1069 1734 1069 1313 \r\nQ 1069 891 1326 650 \r\nQ 1584 409 2034 409 \r\nQ 2484 409 2743 651 \r\nQ 3003 894 3003 1313 \r\nQ 3003 1734 2745 1975 \r\nQ 2488 2216 2034 2216 \r\nz\r\nM 1403 2484 \r\nQ 997 2584 770 2862 \r\nQ 544 3141 544 3541 \r\nQ 544 4100 942 4425 \r\nQ 1341 4750 2034 4750 \r\nQ 2731 4750 3128 4425 \r\nQ 3525 4100 3525 3541 \r\nQ 3525 3141 3298 2862 \r\nQ 3072 2584 2669 2484 \r\nQ 3125 2378 3379 2068 \r\nQ 3634 1759 3634 1313 \r\nQ 3634 634 3220 271 \r\nQ 2806 -91 2034 -91 \r\nQ 1263 -91 848 271 \r\nQ 434 634 434 1313 \r\nQ 434 1759 690 2068 \r\nQ 947 2378 1403 2484 \r\nz\r\nM 1172 3481 \r\nQ 1172 3119 1398 2916 \r\nQ 1625 2713 2034 2713 \r\nQ 2441 2713 2670 2916 \r\nQ 2900 3119 2900 3481 \r\nQ 2900 3844 2670 4047 \r\nQ 2441 4250 2034 4250 \r\nQ 1625 4250 1398 4047 \r\nQ 1172 3844 1172 3481 \r\nz\r\n\" id=\"DejaVuSans-38\" transform=\"scale(0.015625)\"/>\r\n       </defs>\r\n       <use xlink:href=\"#DejaVuSans-30\"/>\r\n       <use x=\"63.623047\" xlink:href=\"#DejaVuSans-2e\"/>\r\n       <use x=\"95.410156\" xlink:href=\"#DejaVuSans-38\"/>\r\n      </g>\r\n     </g>\r\n    </g>\r\n    <g id=\"xtick_15\">\r\n     <g id=\"line2d_42\">\r\n      <g>\r\n       <use style=\"stroke:#000000;stroke-width:0.8;\" x=\"320.965312\" xlink:href=\"#maa9f7616d6\" y=\"228.439219\"/>\r\n      </g>\r\n     </g>\r\n     <g id=\"text_24\">\r\n      <!-- 1.0 -->\r\n      <g transform=\"translate(313.01375 243.037656)scale(0.1 -0.1)\">\r\n       <use xlink:href=\"#DejaVuSans-31\"/>\r\n       <use x=\"63.623047\" xlink:href=\"#DejaVuSans-2e\"/>\r\n       <use x=\"95.410156\" xlink:href=\"#DejaVuSans-30\"/>\r\n      </g>\r\n     </g>\r\n    </g>\r\n   </g>\r\n   <g id=\"matplotlib.axis_4\">\r\n    <g id=\"ytick_10\">\r\n     <g id=\"line2d_43\">\r\n      <g>\r\n       <use style=\"stroke:#000000;stroke-width:0.8;\" x=\"103.525313\" xlink:href=\"#mcf3884546a\" y=\"228.439219\"/>\r\n      </g>\r\n     </g>\r\n     <g id=\"text_25\">\r\n      <!-- 0.0 -->\r\n      <g transform=\"translate(80.622188 232.238437)scale(0.1 -0.1)\">\r\n       <use xlink:href=\"#DejaVuSans-30\"/>\r\n       <use x=\"63.623047\" xlink:href=\"#DejaVuSans-2e\"/>\r\n       <use x=\"95.410156\" xlink:href=\"#DejaVuSans-30\"/>\r\n      </g>\r\n     </g>\r\n    </g>\r\n    <g id=\"ytick_11\">\r\n     <g id=\"line2d_44\">\r\n      <g>\r\n       <use style=\"stroke:#000000;stroke-width:0.8;\" x=\"103.525313\" xlink:href=\"#mcf3884546a\" y=\"184.951219\"/>\r\n      </g>\r\n     </g>\r\n     <g id=\"text_26\">\r\n      <!-- 0.2 -->\r\n      <g transform=\"translate(80.622188 188.750437)scale(0.1 -0.1)\">\r\n       <use xlink:href=\"#DejaVuSans-30\"/>\r\n       <use x=\"63.623047\" xlink:href=\"#DejaVuSans-2e\"/>\r\n       <use x=\"95.410156\" xlink:href=\"#DejaVuSans-32\"/>\r\n      </g>\r\n     </g>\r\n    </g>\r\n    <g id=\"ytick_12\">\r\n     <g id=\"line2d_45\">\r\n      <g>\r\n       <use style=\"stroke:#000000;stroke-width:0.8;\" x=\"103.525313\" xlink:href=\"#mcf3884546a\" y=\"141.463219\"/>\r\n      </g>\r\n     </g>\r\n     <g id=\"text_27\">\r\n      <!-- 0.4 -->\r\n      <g transform=\"translate(80.622188 145.262437)scale(0.1 -0.1)\">\r\n       <use xlink:href=\"#DejaVuSans-30\"/>\r\n       <use x=\"63.623047\" xlink:href=\"#DejaVuSans-2e\"/>\r\n       <use x=\"95.410156\" xlink:href=\"#DejaVuSans-34\"/>\r\n      </g>\r\n     </g>\r\n    </g>\r\n    <g id=\"ytick_13\">\r\n     <g id=\"line2d_46\">\r\n      <g>\r\n       <use style=\"stroke:#000000;stroke-width:0.8;\" x=\"103.525313\" xlink:href=\"#mcf3884546a\" y=\"97.975219\"/>\r\n      </g>\r\n     </g>\r\n     <g id=\"text_28\">\r\n      <!-- 0.6 -->\r\n      <g transform=\"translate(80.622188 101.774437)scale(0.1 -0.1)\">\r\n       <use xlink:href=\"#DejaVuSans-30\"/>\r\n       <use x=\"63.623047\" xlink:href=\"#DejaVuSans-2e\"/>\r\n       <use x=\"95.410156\" xlink:href=\"#DejaVuSans-36\"/>\r\n      </g>\r\n     </g>\r\n    </g>\r\n    <g id=\"ytick_14\">\r\n     <g id=\"line2d_47\">\r\n      <g>\r\n       <use style=\"stroke:#000000;stroke-width:0.8;\" x=\"103.525313\" xlink:href=\"#mcf3884546a\" y=\"54.487219\"/>\r\n      </g>\r\n     </g>\r\n     <g id=\"text_29\">\r\n      <!-- 0.8 -->\r\n      <g transform=\"translate(80.622188 58.286437)scale(0.1 -0.1)\">\r\n       <use xlink:href=\"#DejaVuSans-30\"/>\r\n       <use x=\"63.623047\" xlink:href=\"#DejaVuSans-2e\"/>\r\n       <use x=\"95.410156\" xlink:href=\"#DejaVuSans-38\"/>\r\n      </g>\r\n     </g>\r\n    </g>\r\n    <g id=\"ytick_15\">\r\n     <g id=\"line2d_48\">\r\n      <g>\r\n       <use style=\"stroke:#000000;stroke-width:0.8;\" x=\"103.525313\" xlink:href=\"#mcf3884546a\" y=\"10.999219\"/>\r\n      </g>\r\n     </g>\r\n     <g id=\"text_30\">\r\n      <!-- 1.0 -->\r\n      <g transform=\"translate(80.622188 14.798437)scale(0.1 -0.1)\">\r\n       <use xlink:href=\"#DejaVuSans-31\"/>\r\n       <use x=\"63.623047\" xlink:href=\"#DejaVuSans-2e\"/>\r\n       <use x=\"95.410156\" xlink:href=\"#DejaVuSans-30\"/>\r\n      </g>\r\n     </g>\r\n    </g>\r\n   </g>\r\n   <g id=\"patch_8\">\r\n    <path d=\"M 103.525313 228.439219 \r\nL 103.525313 10.999219 \r\n\" style=\"fill:none;stroke:#000000;stroke-linecap:square;stroke-linejoin:miter;stroke-width:0.8;\"/>\r\n   </g>\r\n   <g id=\"patch_9\">\r\n    <path d=\"M 320.965312 228.439219 \r\nL 320.965312 10.999219 \r\n\" style=\"fill:none;stroke:#000000;stroke-linecap:square;stroke-linejoin:miter;stroke-width:0.8;\"/>\r\n   </g>\r\n   <g id=\"patch_10\">\r\n    <path d=\"M 103.525313 228.439219 \r\nL 320.965312 228.439219 \r\n\" style=\"fill:none;stroke:#000000;stroke-linecap:square;stroke-linejoin:miter;stroke-width:0.8;\"/>\r\n   </g>\r\n   <g id=\"patch_11\">\r\n    <path d=\"M 103.525313 10.999219 \r\nL 320.965312 10.999219 \r\n\" style=\"fill:none;stroke:#000000;stroke-linecap:square;stroke-linejoin:miter;stroke-width:0.8;\"/>\r\n   </g>\r\n  </g>\r\n </g>\r\n <defs>\r\n  <clipPath id=\"p5b783fa636\">\r\n   <rect height=\"217.44\" width=\"334.8\" x=\"44.845313\" y=\"10.999219\"/>\r\n  </clipPath>\r\n </defs>\r\n</svg>\r\n",
      "image/png": "[encoded data removed]"
     },
     "metadata": {
      "needs_background": "light"
     }
    }
   ],
   "metadata": {}
  },
  {
   "cell_type": "markdown",
   "source": [
    "3. How can we choose the learning rate?\n",
    "\n",
    "You can try different ones. Common choices are 0.1, 0.01.\n"
   ],
   "metadata": {}
  },
  {
   "cell_type": "markdown",
   "source": [
    "4. Could we see some code? \n",
    "\n",
    "Yes sure.\n",
    "\n",
    "We need:\n",
    "\n",
    "- labeled input data\n",
    "- a learning rate\n",
    "- some weights\n"
   ],
   "metadata": {}
  },
  {
   "cell_type": "code",
   "execution_count": 11,
   "source": [
    "eta = 0.1\r\n",
    "input_data = [(np.array([0, 1, 1]), 1), (np.array([1, 0, 0]), 1),\r\n",
    "              (np.array([0, 1, 0]), 0), (np.array([1, 0, 0]), 1), \r\n",
    "              (np.array([0, 1, 1]), 1)]\r\n",
    "train = input_data[:-1]\r\n",
    "test = input_data[-1]\r\n",
    "weights = np.zeros(3)\r\n",
    "bias = 0\r\n",
    "max_iter = 10\r\n",
    "\r\n",
    "def perceptron(train, weights, bias, eta, max_iter):\r\n",
    "    it = 0\r\n",
    "    while it < max_iter: \r\n",
    "        new_weights = weights\r\n",
    "        new_bias = bias\r\n",
    "        for sample in train:\r\n",
    "            output = np.dot(weights, sample[0]) + bias \r\n",
    "            if output <= 0:\r\n",
    "                output = 0\r\n",
    "            else:\r\n",
    "                output = 1\r\n",
    "            if (sample[1] - output) != 0:\r\n",
    "                \r\n",
    "                weights += eta*(sample[1] - output)*sample[0]\r\n",
    "                bias += eta*(sample[1] - output)\r\n",
    "        if new_weights.all() == weights.all() and new_bias == bias:\r\n",
    "            print(f\"Convergence achieved at iteration {it}\")\r\n",
    "            break\r\n",
    "        it += 1\r\n",
    "        \r\n",
    "    return weights, bias"
   ],
   "outputs": [],
   "metadata": {}
  },
  {
   "cell_type": "code",
   "execution_count": 12,
   "source": [
    "weights, bias = perceptron(train, weights, bias, eta, max_iter)"
   ],
   "outputs": [
    {
     "output_type": "stream",
     "name": "stdout",
     "text": [
      "Convergence achieved at iteration 2\n"
     ]
    }
   ],
   "metadata": {}
  },
  {
   "cell_type": "markdown",
   "source": [
    "Testing it one the test data:"
   ],
   "metadata": {}
  },
  {
   "cell_type": "code",
   "execution_count": 13,
   "source": [
    "np.dot(weights, test[0])+bias"
   ],
   "outputs": [
    {
     "output_type": "execute_result",
     "data": {
      "text/plain": [
       "0.1"
      ]
     },
     "metadata": {},
     "execution_count": 13
    }
   ],
   "metadata": {}
  },
  {
   "cell_type": "markdown",
   "source": [
    "that is positive, so it will be classified as 1.\n",
    "What about the rest in the training set?"
   ],
   "metadata": {}
  },
  {
   "cell_type": "code",
   "execution_count": 14,
   "source": [
    "train_titles = [\"Titanic\", \"Avengers: Endgame\", \"I still believe\", \"Spiderman\"]\r\n",
    "for i, sample in enumerate(train):\r\n",
    "    output = np.dot(weights, sample[0]) + bias\r\n",
    "    print(train_titles[i], \"predicted:\", int(output>0), \"true label:\", sample[1])"
   ],
   "outputs": [
    {
     "output_type": "stream",
     "name": "stdout",
     "text": [
      "Titanic predicted: 1 true label: 1\n",
      "Avengers: Endgame predicted: 1 true label: 1\n",
      "I still believe predicted: 0 true label: 0\n",
      "Spiderman predicted: 1 true label: 1\n"
     ]
    }
   ],
   "metadata": {}
  },
  {
   "cell_type": "markdown",
   "source": [
    "That is correct for all of them!"
   ],
   "metadata": {}
  },
  {
   "cell_type": "markdown",
   "source": [
    "What about non-linearly separable data? A classical example where the perceptron fails to converge to a solution that correctly classifies all the training data is the XOR problem.\n",
    "\n",
    "You know that the table truth of the XOR is:\n",
    "\n",
    "| A | B | A xor B |\n",
    "|---|---|---|\n",
    "| 0 | 0 | 0 |\n",
    "| 0 | 1 | 1 |\n",
    "| 1 | 0 | 1 |\n",
    "| 1 | 1 | 0 |\n",
    "\n",
    "That is \"XOR is true if and only if ONLY one of the two statements is true\".\n",
    "\n",
    "![image](https://miro.medium.com/max/1400/1*E7YhKsJ2wb-VdeXpg89lvg.png)\n"
   ],
   "metadata": {}
  },
  {
   "cell_type": "markdown",
   "source": [
    "As you can see in the picture, solving the equations for all the cases lead to an impossible solution:\n",
    "\n",
    "- Since $w_{0}$ is negative ($w_{0}<0$) it means that $-w_{0}$ is positive.\n",
    "- the 2nd and the 3rd lines says that both $w2$ and $w1$ are bigger than $-w_{0}$, so they are bigger than a positive number $\\rightarrow$ they are both positive\n",
    "- the sum of two positive number is obviously greater than the individuals (say 5+4 >5 and >4). So, the sum $w_{1}+w_{2}$ must be greater than $w_{1}$ and greater than $w_{2}$, and both should be greater than $-w_{0}$: the last row is a contraddiction with the 2nd and the 3rd!\n",
    "\n",
    "Let' test it with code!"
   ],
   "metadata": {}
  },
  {
   "cell_type": "code",
   "execution_count": 15,
   "source": [
    "xor = [(np.array([0,0]),0), (np.array([0,1]),1), (np.array([1,0]),1), (np.array([1,1]),0)]"
   ],
   "outputs": [],
   "metadata": {}
  },
  {
   "cell_type": "code",
   "execution_count": 16,
   "source": [
    "w_xor, b_xor = perceptron(xor, np.random.rand(2), bias=0, eta=0.1, max_iter=1000)"
   ],
   "outputs": [
    {
     "output_type": "stream",
     "name": "stdout",
     "text": [
      "Convergence achieved at iteration 1\n"
     ]
    }
   ],
   "metadata": {}
  },
  {
   "cell_type": "code",
   "execution_count": 17,
   "source": [
    "for i, sample in enumerate(xor):\r\n",
    "    output = np.dot(w_xor, sample[0]) + b_xor\r\n",
    "    print(\"predicted:\", int(output>0), \"true label:\", sample[1])"
   ],
   "outputs": [
    {
     "output_type": "stream",
     "name": "stdout",
     "text": [
      "predicted: 0 true label: 0\n",
      "predicted: 1 true label: 1\n",
      "predicted: 0 true label: 1\n",
      "predicted: 1 true label: 0\n"
     ]
    }
   ],
   "metadata": {}
  },
  {
   "cell_type": "markdown",
   "source": [
    "As you can see, two of them have been misclassified!"
   ],
   "metadata": {}
  },
  {
   "cell_type": "markdown",
   "source": [
    "## Improve the activation function\n",
    "\n",
    "Till now we have used the step function $$ g(\\mathbf{x})=\\begin{cases}\n",
    "          1, & \\text{if}\\ \\mathbf{wx}+\\mathbf{b}>0 \\\\\n",
    "          0, & \\text{otherwise}\n",
    "            \\end{cases}\n",
    "$$\n",
    "as activation function. Can we do better?\n",
    "\n"
   ],
   "metadata": {}
  },
  {
   "cell_type": "code",
   "execution_count": 18,
   "source": [
    "plt.step([-1, 0,1], [0, 0,1])"
   ],
   "outputs": [
    {
     "output_type": "execute_result",
     "data": {
      "text/plain": [
       "[<matplotlib.lines.Line2D at 0x1f99719e5b0>]"
      ]
     },
     "metadata": {},
     "execution_count": 18
    },
    {
     "output_type": "display_data",
     "data": {
      "text/plain": [
       "<Figure size 432x288 with 1 Axes>"
      ],
      "image/svg+xml": "<?xml version=\"1.0\" encoding=\"utf-8\" standalone=\"no\"?>\r\n<!DOCTYPE svg PUBLIC \"-//W3C//DTD SVG 1.1//EN\"\r\n  \"http://www.w3.org/Graphics/SVG/1.1/DTD/svg11.dtd\">\r\n<svg height=\"248.518125pt\" version=\"1.1\" viewBox=\"0 0 372.103125 248.518125\" width=\"372.103125pt\" xmlns=\"http://www.w3.org/2000/svg\" xmlns:xlink=\"http://www.w3.org/1999/xlink\">\r\n <metadata>\r\n  <rdf:RDF xmlns:cc=\"http://creativecommons.org/ns#\" xmlns:dc=\"http://purl.org/dc/elements/1.1/\" xmlns:rdf=\"http://www.w3.org/1999/02/22-rdf-syntax-ns#\">\r\n   <cc:Work>\r\n    <dc:type rdf:resource=\"http://purl.org/dc/dcmitype/StillImage\"/>\r\n    <dc:date>2021-08-12T13:28:13.851818</dc:date>\r\n    <dc:format>image/svg+xml</dc:format>\r\n    <dc:creator>\r\n     <cc:Agent>\r\n      <dc:title>Matplotlib v3.4.2, https://matplotlib.org/</dc:title>\r\n     </cc:Agent>\r\n    </dc:creator>\r\n   </cc:Work>\r\n  </rdf:RDF>\r\n </metadata>\r\n <defs>\r\n  <style type=\"text/css\">*{stroke-linecap:butt;stroke-linejoin:round;}</style>\r\n </defs>\r\n <g id=\"figure_1\">\r\n  <g id=\"patch_1\">\r\n   <path d=\"M 0 248.518125 \r\nL 372.103125 248.518125 \r\nL 372.103125 0 \r\nL 0 0 \r\nz\r\n\" style=\"fill:none;\"/>\r\n  </g>\r\n  <g id=\"axes_1\">\r\n   <g id=\"patch_2\">\r\n    <path d=\"M 30.103125 224.64 \r\nL 364.903125 224.64 \r\nL 364.903125 7.2 \r\nL 30.103125 7.2 \r\nz\r\n\" style=\"fill:#ffffff;\"/>\r\n   </g>\r\n   <g id=\"matplotlib.axis_1\">\r\n    <g id=\"xtick_1\">\r\n     <g id=\"line2d_1\">\r\n      <defs>\r\n       <path d=\"M 0 0 \r\nL 0 3.5 \r\n\" id=\"m01b893a817\" style=\"stroke:#000000;stroke-width:0.8;\"/>\r\n      </defs>\r\n      <g>\r\n       <use style=\"stroke:#000000;stroke-width:0.8;\" x=\"45.321307\" xlink:href=\"#m01b893a817\" y=\"224.64\"/>\r\n      </g>\r\n     </g>\r\n     <g id=\"text_1\">\r\n      <!-- −1.00 -->\r\n      <g transform=\"translate(29.998651 239.238437)scale(0.1 -0.1)\">\r\n       <defs>\r\n        <path d=\"M 678 2272 \r\nL 4684 2272 \r\nL 4684 1741 \r\nL 678 1741 \r\nL 678 2272 \r\nz\r\n\" id=\"DejaVuSans-2212\" transform=\"scale(0.015625)\"/>\r\n        <path d=\"M 794 531 \r\nL 1825 531 \r\nL 1825 4091 \r\nL 703 3866 \r\nL 703 4441 \r\nL 1819 4666 \r\nL 2450 4666 \r\nL 2450 531 \r\nL 3481 531 \r\nL 3481 0 \r\nL 794 0 \r\nL 794 531 \r\nz\r\n\" id=\"DejaVuSans-31\" transform=\"scale(0.015625)\"/>\r\n        <path d=\"M 684 794 \r\nL 1344 794 \r\nL 1344 0 \r\nL 684 0 \r\nL 684 794 \r\nz\r\n\" id=\"DejaVuSans-2e\" transform=\"scale(0.015625)\"/>\r\n        <path d=\"M 2034 4250 \r\nQ 1547 4250 1301 3770 \r\nQ 1056 3291 1056 2328 \r\nQ 1056 1369 1301 889 \r\nQ 1547 409 2034 409 \r\nQ 2525 409 2770 889 \r\nQ 3016 1369 3016 2328 \r\nQ 3016 3291 2770 3770 \r\nQ 2525 4250 2034 4250 \r\nz\r\nM 2034 4750 \r\nQ 2819 4750 3233 4129 \r\nQ 3647 3509 3647 2328 \r\nQ 3647 1150 3233 529 \r\nQ 2819 -91 2034 -91 \r\nQ 1250 -91 836 529 \r\nQ 422 1150 422 2328 \r\nQ 422 3509 836 4129 \r\nQ 1250 4750 2034 4750 \r\nz\r\n\" id=\"DejaVuSans-30\" transform=\"scale(0.015625)\"/>\r\n       </defs>\r\n       <use xlink:href=\"#DejaVuSans-2212\"/>\r\n       <use x=\"83.789062\" xlink:href=\"#DejaVuSans-31\"/>\r\n       <use x=\"147.412109\" xlink:href=\"#DejaVuSans-2e\"/>\r\n       <use x=\"179.199219\" xlink:href=\"#DejaVuSans-30\"/>\r\n       <use x=\"242.822266\" xlink:href=\"#DejaVuSans-30\"/>\r\n      </g>\r\n     </g>\r\n    </g>\r\n    <g id=\"xtick_2\">\r\n     <g id=\"line2d_2\">\r\n      <g>\r\n       <use style=\"stroke:#000000;stroke-width:0.8;\" x=\"83.366761\" xlink:href=\"#m01b893a817\" y=\"224.64\"/>\r\n      </g>\r\n     </g>\r\n     <g id=\"text_2\">\r\n      <!-- −0.75 -->\r\n      <g transform=\"translate(68.044105 239.238437)scale(0.1 -0.1)\">\r\n       <defs>\r\n        <path d=\"M 525 4666 \r\nL 3525 4666 \r\nL 3525 4397 \r\nL 1831 0 \r\nL 1172 0 \r\nL 2766 4134 \r\nL 525 4134 \r\nL 525 4666 \r\nz\r\n\" id=\"DejaVuSans-37\" transform=\"scale(0.015625)\"/>\r\n        <path d=\"M 691 4666 \r\nL 3169 4666 \r\nL 3169 4134 \r\nL 1269 4134 \r\nL 1269 2991 \r\nQ 1406 3038 1543 3061 \r\nQ 1681 3084 1819 3084 \r\nQ 2600 3084 3056 2656 \r\nQ 3513 2228 3513 1497 \r\nQ 3513 744 3044 326 \r\nQ 2575 -91 1722 -91 \r\nQ 1428 -91 1123 -41 \r\nQ 819 9 494 109 \r\nL 494 744 \r\nQ 775 591 1075 516 \r\nQ 1375 441 1709 441 \r\nQ 2250 441 2565 725 \r\nQ 2881 1009 2881 1497 \r\nQ 2881 1984 2565 2268 \r\nQ 2250 2553 1709 2553 \r\nQ 1456 2553 1204 2497 \r\nQ 953 2441 691 2322 \r\nL 691 4666 \r\nz\r\n\" id=\"DejaVuSans-35\" transform=\"scale(0.015625)\"/>\r\n       </defs>\r\n       <use xlink:href=\"#DejaVuSans-2212\"/>\r\n       <use x=\"83.789062\" xlink:href=\"#DejaVuSans-30\"/>\r\n       <use x=\"147.412109\" xlink:href=\"#DejaVuSans-2e\"/>\r\n       <use x=\"179.199219\" xlink:href=\"#DejaVuSans-37\"/>\r\n       <use x=\"242.822266\" xlink:href=\"#DejaVuSans-35\"/>\r\n      </g>\r\n     </g>\r\n    </g>\r\n    <g id=\"xtick_3\">\r\n     <g id=\"line2d_3\">\r\n      <g>\r\n       <use style=\"stroke:#000000;stroke-width:0.8;\" x=\"121.412216\" xlink:href=\"#m01b893a817\" y=\"224.64\"/>\r\n      </g>\r\n     </g>\r\n     <g id=\"text_3\">\r\n      <!-- −0.50 -->\r\n      <g transform=\"translate(106.08956 239.238437)scale(0.1 -0.1)\">\r\n       <use xlink:href=\"#DejaVuSans-2212\"/>\r\n       <use x=\"83.789062\" xlink:href=\"#DejaVuSans-30\"/>\r\n       <use x=\"147.412109\" xlink:href=\"#DejaVuSans-2e\"/>\r\n       <use x=\"179.199219\" xlink:href=\"#DejaVuSans-35\"/>\r\n       <use x=\"242.822266\" xlink:href=\"#DejaVuSans-30\"/>\r\n      </g>\r\n     </g>\r\n    </g>\r\n    <g id=\"xtick_4\">\r\n     <g id=\"line2d_4\">\r\n      <g>\r\n       <use style=\"stroke:#000000;stroke-width:0.8;\" x=\"159.45767\" xlink:href=\"#m01b893a817\" y=\"224.64\"/>\r\n      </g>\r\n     </g>\r\n     <g id=\"text_4\">\r\n      <!-- −0.25 -->\r\n      <g transform=\"translate(144.135014 239.238437)scale(0.1 -0.1)\">\r\n       <defs>\r\n        <path d=\"M 1228 531 \r\nL 3431 531 \r\nL 3431 0 \r\nL 469 0 \r\nL 469 531 \r\nQ 828 903 1448 1529 \r\nQ 2069 2156 2228 2338 \r\nQ 2531 2678 2651 2914 \r\nQ 2772 3150 2772 3378 \r\nQ 2772 3750 2511 3984 \r\nQ 2250 4219 1831 4219 \r\nQ 1534 4219 1204 4116 \r\nQ 875 4013 500 3803 \r\nL 500 4441 \r\nQ 881 4594 1212 4672 \r\nQ 1544 4750 1819 4750 \r\nQ 2544 4750 2975 4387 \r\nQ 3406 4025 3406 3419 \r\nQ 3406 3131 3298 2873 \r\nQ 3191 2616 2906 2266 \r\nQ 2828 2175 2409 1742 \r\nQ 1991 1309 1228 531 \r\nz\r\n\" id=\"DejaVuSans-32\" transform=\"scale(0.015625)\"/>\r\n       </defs>\r\n       <use xlink:href=\"#DejaVuSans-2212\"/>\r\n       <use x=\"83.789062\" xlink:href=\"#DejaVuSans-30\"/>\r\n       <use x=\"147.412109\" xlink:href=\"#DejaVuSans-2e\"/>\r\n       <use x=\"179.199219\" xlink:href=\"#DejaVuSans-32\"/>\r\n       <use x=\"242.822266\" xlink:href=\"#DejaVuSans-35\"/>\r\n      </g>\r\n     </g>\r\n    </g>\r\n    <g id=\"xtick_5\">\r\n     <g id=\"line2d_5\">\r\n      <g>\r\n       <use style=\"stroke:#000000;stroke-width:0.8;\" x=\"197.503125\" xlink:href=\"#m01b893a817\" y=\"224.64\"/>\r\n      </g>\r\n     </g>\r\n     <g id=\"text_5\">\r\n      <!-- 0.00 -->\r\n      <g transform=\"translate(186.370313 239.238437)scale(0.1 -0.1)\">\r\n       <use xlink:href=\"#DejaVuSans-30\"/>\r\n       <use x=\"63.623047\" xlink:href=\"#DejaVuSans-2e\"/>\r\n       <use x=\"95.410156\" xlink:href=\"#DejaVuSans-30\"/>\r\n       <use x=\"159.033203\" xlink:href=\"#DejaVuSans-30\"/>\r\n      </g>\r\n     </g>\r\n    </g>\r\n    <g id=\"xtick_6\">\r\n     <g id=\"line2d_6\">\r\n      <g>\r\n       <use style=\"stroke:#000000;stroke-width:0.8;\" x=\"235.54858\" xlink:href=\"#m01b893a817\" y=\"224.64\"/>\r\n      </g>\r\n     </g>\r\n     <g id=\"text_6\">\r\n      <!-- 0.25 -->\r\n      <g transform=\"translate(224.415767 239.238437)scale(0.1 -0.1)\">\r\n       <use xlink:href=\"#DejaVuSans-30\"/>\r\n       <use x=\"63.623047\" xlink:href=\"#DejaVuSans-2e\"/>\r\n       <use x=\"95.410156\" xlink:href=\"#DejaVuSans-32\"/>\r\n       <use x=\"159.033203\" xlink:href=\"#DejaVuSans-35\"/>\r\n      </g>\r\n     </g>\r\n    </g>\r\n    <g id=\"xtick_7\">\r\n     <g id=\"line2d_7\">\r\n      <g>\r\n       <use style=\"stroke:#000000;stroke-width:0.8;\" x=\"273.594034\" xlink:href=\"#m01b893a817\" y=\"224.64\"/>\r\n      </g>\r\n     </g>\r\n     <g id=\"text_7\">\r\n      <!-- 0.50 -->\r\n      <g transform=\"translate(262.461222 239.238437)scale(0.1 -0.1)\">\r\n       <use xlink:href=\"#DejaVuSans-30\"/>\r\n       <use x=\"63.623047\" xlink:href=\"#DejaVuSans-2e\"/>\r\n       <use x=\"95.410156\" xlink:href=\"#DejaVuSans-35\"/>\r\n       <use x=\"159.033203\" xlink:href=\"#DejaVuSans-30\"/>\r\n      </g>\r\n     </g>\r\n    </g>\r\n    <g id=\"xtick_8\">\r\n     <g id=\"line2d_8\">\r\n      <g>\r\n       <use style=\"stroke:#000000;stroke-width:0.8;\" x=\"311.639489\" xlink:href=\"#m01b893a817\" y=\"224.64\"/>\r\n      </g>\r\n     </g>\r\n     <g id=\"text_8\">\r\n      <!-- 0.75 -->\r\n      <g transform=\"translate(300.506676 239.238437)scale(0.1 -0.1)\">\r\n       <use xlink:href=\"#DejaVuSans-30\"/>\r\n       <use x=\"63.623047\" xlink:href=\"#DejaVuSans-2e\"/>\r\n       <use x=\"95.410156\" xlink:href=\"#DejaVuSans-37\"/>\r\n       <use x=\"159.033203\" xlink:href=\"#DejaVuSans-35\"/>\r\n      </g>\r\n     </g>\r\n    </g>\r\n    <g id=\"xtick_9\">\r\n     <g id=\"line2d_9\">\r\n      <g>\r\n       <use style=\"stroke:#000000;stroke-width:0.8;\" x=\"349.684943\" xlink:href=\"#m01b893a817\" y=\"224.64\"/>\r\n      </g>\r\n     </g>\r\n     <g id=\"text_9\">\r\n      <!-- 1.00 -->\r\n      <g transform=\"translate(338.552131 239.238437)scale(0.1 -0.1)\">\r\n       <use xlink:href=\"#DejaVuSans-31\"/>\r\n       <use x=\"63.623047\" xlink:href=\"#DejaVuSans-2e\"/>\r\n       <use x=\"95.410156\" xlink:href=\"#DejaVuSans-30\"/>\r\n       <use x=\"159.033203\" xlink:href=\"#DejaVuSans-30\"/>\r\n      </g>\r\n     </g>\r\n    </g>\r\n   </g>\r\n   <g id=\"matplotlib.axis_2\">\r\n    <g id=\"ytick_1\">\r\n     <g id=\"line2d_10\">\r\n      <defs>\r\n       <path d=\"M 0 0 \r\nL -3.5 0 \r\n\" id=\"m81bd9a6414\" style=\"stroke:#000000;stroke-width:0.8;\"/>\r\n      </defs>\r\n      <g>\r\n       <use style=\"stroke:#000000;stroke-width:0.8;\" x=\"30.103125\" xlink:href=\"#m81bd9a6414\" y=\"214.756364\"/>\r\n      </g>\r\n     </g>\r\n     <g id=\"text_10\">\r\n      <!-- 0.0 -->\r\n      <g transform=\"translate(7.2 218.555582)scale(0.1 -0.1)\">\r\n       <use xlink:href=\"#DejaVuSans-30\"/>\r\n       <use x=\"63.623047\" xlink:href=\"#DejaVuSans-2e\"/>\r\n       <use x=\"95.410156\" xlink:href=\"#DejaVuSans-30\"/>\r\n      </g>\r\n     </g>\r\n    </g>\r\n    <g id=\"ytick_2\">\r\n     <g id=\"line2d_11\">\r\n      <g>\r\n       <use style=\"stroke:#000000;stroke-width:0.8;\" x=\"30.103125\" xlink:href=\"#m81bd9a6414\" y=\"175.221818\"/>\r\n      </g>\r\n     </g>\r\n     <g id=\"text_11\">\r\n      <!-- 0.2 -->\r\n      <g transform=\"translate(7.2 179.021037)scale(0.1 -0.1)\">\r\n       <use xlink:href=\"#DejaVuSans-30\"/>\r\n       <use x=\"63.623047\" xlink:href=\"#DejaVuSans-2e\"/>\r\n       <use x=\"95.410156\" xlink:href=\"#DejaVuSans-32\"/>\r\n      </g>\r\n     </g>\r\n    </g>\r\n    <g id=\"ytick_3\">\r\n     <g id=\"line2d_12\">\r\n      <g>\r\n       <use style=\"stroke:#000000;stroke-width:0.8;\" x=\"30.103125\" xlink:href=\"#m81bd9a6414\" y=\"135.687273\"/>\r\n      </g>\r\n     </g>\r\n     <g id=\"text_12\">\r\n      <!-- 0.4 -->\r\n      <g transform=\"translate(7.2 139.486491)scale(0.1 -0.1)\">\r\n       <defs>\r\n        <path d=\"M 2419 4116 \r\nL 825 1625 \r\nL 2419 1625 \r\nL 2419 4116 \r\nz\r\nM 2253 4666 \r\nL 3047 4666 \r\nL 3047 1625 \r\nL 3713 1625 \r\nL 3713 1100 \r\nL 3047 1100 \r\nL 3047 0 \r\nL 2419 0 \r\nL 2419 1100 \r\nL 313 1100 \r\nL 313 1709 \r\nL 2253 4666 \r\nz\r\n\" id=\"DejaVuSans-34\" transform=\"scale(0.015625)\"/>\r\n       </defs>\r\n       <use xlink:href=\"#DejaVuSans-30\"/>\r\n       <use x=\"63.623047\" xlink:href=\"#DejaVuSans-2e\"/>\r\n       <use x=\"95.410156\" xlink:href=\"#DejaVuSans-34\"/>\r\n      </g>\r\n     </g>\r\n    </g>\r\n    <g id=\"ytick_4\">\r\n     <g id=\"line2d_13\">\r\n      <g>\r\n       <use style=\"stroke:#000000;stroke-width:0.8;\" x=\"30.103125\" xlink:href=\"#m81bd9a6414\" y=\"96.152727\"/>\r\n      </g>\r\n     </g>\r\n     <g id=\"text_13\">\r\n      <!-- 0.6 -->\r\n      <g transform=\"translate(7.2 99.951946)scale(0.1 -0.1)\">\r\n       <defs>\r\n        <path d=\"M 2113 2584 \r\nQ 1688 2584 1439 2293 \r\nQ 1191 2003 1191 1497 \r\nQ 1191 994 1439 701 \r\nQ 1688 409 2113 409 \r\nQ 2538 409 2786 701 \r\nQ 3034 994 3034 1497 \r\nQ 3034 2003 2786 2293 \r\nQ 2538 2584 2113 2584 \r\nz\r\nM 3366 4563 \r\nL 3366 3988 \r\nQ 3128 4100 2886 4159 \r\nQ 2644 4219 2406 4219 \r\nQ 1781 4219 1451 3797 \r\nQ 1122 3375 1075 2522 \r\nQ 1259 2794 1537 2939 \r\nQ 1816 3084 2150 3084 \r\nQ 2853 3084 3261 2657 \r\nQ 3669 2231 3669 1497 \r\nQ 3669 778 3244 343 \r\nQ 2819 -91 2113 -91 \r\nQ 1303 -91 875 529 \r\nQ 447 1150 447 2328 \r\nQ 447 3434 972 4092 \r\nQ 1497 4750 2381 4750 \r\nQ 2619 4750 2861 4703 \r\nQ 3103 4656 3366 4563 \r\nz\r\n\" id=\"DejaVuSans-36\" transform=\"scale(0.015625)\"/>\r\n       </defs>\r\n       <use xlink:href=\"#DejaVuSans-30\"/>\r\n       <use x=\"63.623047\" xlink:href=\"#DejaVuSans-2e\"/>\r\n       <use x=\"95.410156\" xlink:href=\"#DejaVuSans-36\"/>\r\n      </g>\r\n     </g>\r\n    </g>\r\n    <g id=\"ytick_5\">\r\n     <g id=\"line2d_14\">\r\n      <g>\r\n       <use style=\"stroke:#000000;stroke-width:0.8;\" x=\"30.103125\" xlink:href=\"#m81bd9a6414\" y=\"56.618182\"/>\r\n      </g>\r\n     </g>\r\n     <g id=\"text_14\">\r\n      <!-- 0.8 -->\r\n      <g transform=\"translate(7.2 60.417401)scale(0.1 -0.1)\">\r\n       <defs>\r\n        <path d=\"M 2034 2216 \r\nQ 1584 2216 1326 1975 \r\nQ 1069 1734 1069 1313 \r\nQ 1069 891 1326 650 \r\nQ 1584 409 2034 409 \r\nQ 2484 409 2743 651 \r\nQ 3003 894 3003 1313 \r\nQ 3003 1734 2745 1975 \r\nQ 2488 2216 2034 2216 \r\nz\r\nM 1403 2484 \r\nQ 997 2584 770 2862 \r\nQ 544 3141 544 3541 \r\nQ 544 4100 942 4425 \r\nQ 1341 4750 2034 4750 \r\nQ 2731 4750 3128 4425 \r\nQ 3525 4100 3525 3541 \r\nQ 3525 3141 3298 2862 \r\nQ 3072 2584 2669 2484 \r\nQ 3125 2378 3379 2068 \r\nQ 3634 1759 3634 1313 \r\nQ 3634 634 3220 271 \r\nQ 2806 -91 2034 -91 \r\nQ 1263 -91 848 271 \r\nQ 434 634 434 1313 \r\nQ 434 1759 690 2068 \r\nQ 947 2378 1403 2484 \r\nz\r\nM 1172 3481 \r\nQ 1172 3119 1398 2916 \r\nQ 1625 2713 2034 2713 \r\nQ 2441 2713 2670 2916 \r\nQ 2900 3119 2900 3481 \r\nQ 2900 3844 2670 4047 \r\nQ 2441 4250 2034 4250 \r\nQ 1625 4250 1398 4047 \r\nQ 1172 3844 1172 3481 \r\nz\r\n\" id=\"DejaVuSans-38\" transform=\"scale(0.015625)\"/>\r\n       </defs>\r\n       <use xlink:href=\"#DejaVuSans-30\"/>\r\n       <use x=\"63.623047\" xlink:href=\"#DejaVuSans-2e\"/>\r\n       <use x=\"95.410156\" xlink:href=\"#DejaVuSans-38\"/>\r\n      </g>\r\n     </g>\r\n    </g>\r\n    <g id=\"ytick_6\">\r\n     <g id=\"line2d_15\">\r\n      <g>\r\n       <use style=\"stroke:#000000;stroke-width:0.8;\" x=\"30.103125\" xlink:href=\"#m81bd9a6414\" y=\"17.083636\"/>\r\n      </g>\r\n     </g>\r\n     <g id=\"text_15\">\r\n      <!-- 1.0 -->\r\n      <g transform=\"translate(7.2 20.882855)scale(0.1 -0.1)\">\r\n       <use xlink:href=\"#DejaVuSans-31\"/>\r\n       <use x=\"63.623047\" xlink:href=\"#DejaVuSans-2e\"/>\r\n       <use x=\"95.410156\" xlink:href=\"#DejaVuSans-30\"/>\r\n      </g>\r\n     </g>\r\n    </g>\r\n   </g>\r\n   <g id=\"line2d_16\">\r\n    <path clip-path=\"url(#p5eb3c2094f)\" d=\"M 45.321307 214.756364 \r\nL 45.321307 214.756364 \r\nL 197.503125 214.756364 \r\nL 197.503125 17.083636 \r\nL 349.684943 17.083636 \r\n\" style=\"fill:none;stroke:#1f77b4;stroke-linecap:square;stroke-width:1.5;\"/>\r\n   </g>\r\n   <g id=\"patch_3\">\r\n    <path d=\"M 30.103125 224.64 \r\nL 30.103125 7.2 \r\n\" style=\"fill:none;stroke:#000000;stroke-linecap:square;stroke-linejoin:miter;stroke-width:0.8;\"/>\r\n   </g>\r\n   <g id=\"patch_4\">\r\n    <path d=\"M 364.903125 224.64 \r\nL 364.903125 7.2 \r\n\" style=\"fill:none;stroke:#000000;stroke-linecap:square;stroke-linejoin:miter;stroke-width:0.8;\"/>\r\n   </g>\r\n   <g id=\"patch_5\">\r\n    <path d=\"M 30.103125 224.64 \r\nL 364.903125 224.64 \r\n\" style=\"fill:none;stroke:#000000;stroke-linecap:square;stroke-linejoin:miter;stroke-width:0.8;\"/>\r\n   </g>\r\n   <g id=\"patch_6\">\r\n    <path d=\"M 30.103125 7.2 \r\nL 364.903125 7.2 \r\n\" style=\"fill:none;stroke:#000000;stroke-linecap:square;stroke-linejoin:miter;stroke-width:0.8;\"/>\r\n   </g>\r\n  </g>\r\n </g>\r\n <defs>\r\n  <clipPath id=\"p5eb3c2094f\">\r\n   <rect height=\"217.44\" width=\"334.8\" x=\"30.103125\" y=\"7.2\"/>\r\n  </clipPath>\r\n </defs>\r\n</svg>\r\n",
      "image/png": "[encoded data removed]"
     },
     "metadata": {
      "needs_background": "light"
     }
    }
   ],
   "metadata": {}
  },
  {
   "cell_type": "markdown",
   "source": [
    "As you can see in the picture above, we have a jump at 0. However, you may expect not so big difference between -0.001 and 0.001! As we did for the Logistic Regression, we may use the *sigmoid* or *logistic function* as activation function to have a smoother behaviour:"
   ],
   "metadata": {}
  },
  {
   "cell_type": "markdown",
   "source": [
    "![image](https://miro.medium.com/max/1400/1*QLtPF0YkwYRLVoSeh2w4gw.png)"
   ],
   "metadata": {}
  },
  {
   "cell_type": "markdown",
   "source": [
    "In this way, the output won't be either 0 or 1, but the probability (because we have a continuous number between 0 and 1) of 0 or 1!\n",
    "\n",
    "Let's implement the perceptron again but using the sigmoid this time:"
   ],
   "metadata": {}
  },
  {
   "cell_type": "code",
   "execution_count": 19,
   "source": [
    "def sigmoid(x):\r\n",
    "    return 1 / (1 + np.exp(-x))\r\n",
    "\r\n",
    "def perceptron_with_sigmoid(train, weights, bias, eta, max_iter):\r\n",
    "    it = 0\r\n",
    "    while it < max_iter: \r\n",
    "        new_weights = weights\r\n",
    "        new_bias = bias\r\n",
    "        for sample in train:\r\n",
    "            output = np.dot(weights, sample[0]) + bias \r\n",
    "            ## I comment the old activation function\r\n",
    "            # if output <= 0:\r\n",
    "            #     output = 0\r\n",
    "            # else:\r\n",
    "            #     output = 1\r\n",
    "            ## New activation function\r\n",
    "            output = sigmoid(output)\r\n",
    "            if (sample[1] - output) != 0:\r\n",
    "                \r\n",
    "                weights += eta*(sample[1] - output)*sample[0]\r\n",
    "                bias += eta*(sample[1] - output)\r\n",
    "        if new_weights.all() == weights.all() and new_bias == bias:\r\n",
    "            print(f\"Convergence achieved at iteration {it}\")\r\n",
    "            break\r\n",
    "        it += 1\r\n",
    "        \r\n",
    "    return weights, bias\r\n",
    "\r\n"
   ],
   "outputs": [],
   "metadata": {}
  },
  {
   "cell_type": "markdown",
   "source": [
    "You will see later why that having such a smooth and differentiable function helps neural network for computing the gradient of the loss function! \n",
    "\n",
    "## Conclusions\n",
    "\n",
    "We have seen the Perceptron algorithm, that is an algorithm to build a binary classifier for linearly separable data. We succesfully tested it on an example movies dataset, and unsuccesfully for the XOR problem, that contains not-linearly separable data. \n",
    "\n",
    "We learned that the Perceptron is for an artificial neural network what a neuron is for a biological one. We defined the sigmoid, a smooth and differentiable activation function that is often used in neural networks (you will meet cooler activation functions by the way!).\n",
    "\n",
    "For questions, feel free to ask! You can comment on Deepnote at this link: https://deepnote.com/project/59d3fdb3-682e-49b5-8cd1-f908f9765253"
   ],
   "metadata": {}
  },
  {
   "cell_type": "code",
   "execution_count": null,
   "source": [],
   "outputs": [],
   "metadata": {}
  }
 ],
 "metadata": {
  "kernelspec": {
   "name": "python3",
   "display_name": "Python 3.9.6 64-bit"
  },
  "language_info": {
   "codemirror_mode": {
    "name": "ipython",
    "version": 3
   },
   "file_extension": ".py",
   "mimetype": "text/x-python",
   "name": "python",
   "nbconvert_exporter": "python",
   "pygments_lexer": "ipython3",
   "version": "3.9.6"
  },
  "interpreter": {
   "hash": "71a078725193e5283d70c5b26e23bad30e82fe01585ae509fe6ef2a797b600d7"
  }
 },
 "nbformat": 4,
 "nbformat_minor": 4
}