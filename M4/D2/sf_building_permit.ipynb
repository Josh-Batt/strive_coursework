{
  "cells": [
    {
      "cell_type": "code",
      "source": [
        "import time\n",
        "from IPython.display import clear_output\n",
        "import numpy    as np\n",
        "import pandas   as pd\n",
        "import seaborn  as sb\n",
        "import matplotlib.pyplot as plt\n",
        "import sklearn  as skl\n",
        "\n",
        "from sklearn import pipeline      \n",
        "from sklearn import preprocessing \n",
        "from sklearn import impute\n",
        "from sklearn import compose\n",
        "from sklearn import model_selection \n",
        "from sklearn import metrics         \n",
        "from sklearn import set_config\n",
        "from pandas import read_csv\n",
        "from sklearn.model_selection import train_test_split\n",
        "from sklearn.linear_model import LinearRegression\n",
        "from sklearn.neighbors import LocalOutlierFactor\n",
        "from sklearn.metrics import mean_absolute_error\n",
        "from sklearn.ensemble import IsolationForest\n",
        "\n",
        "from sklearn.impute import SimpleImputer\n",
        "\n",
        "set_config(display='diagram')\n",
        "\n",
        "print(\"Pandas  \", pd.__version__)\n",
        "print(\"Sklearn \", skl.__version__)"
      ],
      "metadata": {
        "tags": [],
        "cell_id": "00000-3f0e615c-8664-4756-8dfd-961ccdd7d7ff",
        "deepnote_to_be_reexecuted": false,
        "source_hash": "f97c9bcc",
        "execution_start": 1620138597601,
        "execution_millis": 5,
        "deepnote_cell_type": "code"
      },
      "outputs": [
        {
          "output_type": "stream",
          "name": "stdout",
          "text": [
            "Pandas   1.2.3\nSklearn  0.24.1\n"
          ]
        }
      ],
      "execution_count": 1
    },
    {
      "cell_type": "code",
      "source": [
        "df = pd.read_csv('Building_Permits.csv')\n",
        "df"
      ],
      "metadata": {
        "tags": [],
        "cell_id": "00001-61501ffd-84be-41dd-bacd-88e41f2dd5e4",
        "deepnote_to_be_reexecuted": false,
        "source_hash": "ae8b12bb",
        "execution_start": 1620138558245,
        "execution_millis": 3058,
        "deepnote_cell_type": "code"
      },
      "outputs": [
        {
          "output_type": "stream",
          "name": "stderr",
          "text": [
            "C:\\Users\\joshb\\AppData\\Roaming\\Python\\Python37\\site-packages\\IPython\\core\\interactiveshell.py:3166: DtypeWarning: Columns (22,32) have mixed types.Specify dtype option on import or set low_memory=False.\n  interactivity=interactivity, compiler=compiler, result=result)\n"
          ]
        },
        {
          "output_type": "execute_result",
          "data": {
            "text/plain": [
              "       Permit Number  Permit Type            Permit Type Definition  \\\n",
              "0       201505065519            4                      sign - erect   \n",
              "1       201604195146            4                      sign - erect   \n",
              "2       201605278609            3  additions alterations or repairs   \n",
              "3       201611072166            8            otc alterations permit   \n",
              "4       201611283529            6                       demolitions   \n",
              "...              ...          ...                               ...   \n",
              "198895       M862628            8            otc alterations permit   \n",
              "198896  201712055595            8            otc alterations permit   \n",
              "198897       M863507            8            otc alterations permit   \n",
              "198898       M863747            8            otc alterations permit   \n",
              "198899       M864287            8            otc alterations permit   \n",
              "\n",
              "       Permit Creation Date Block   Lot  Street Number Street Number Suffix  \\\n",
              "0                05/06/2015  0326   023            140                  NaN   \n",
              "1                04/19/2016  0306   007            440                  NaN   \n",
              "2                05/27/2016  0595   203           1647                  NaN   \n",
              "3                11/07/2016  0156   011           1230                  NaN   \n",
              "4                11/28/2016  0342   001            950                  NaN   \n",
              "...                     ...   ...   ...            ...                  ...   \n",
              "198895           12/05/2017  0113  017A           1228                  NaN   \n",
              "198896           12/05/2017  0271   014            580                  NaN   \n",
              "198897           12/06/2017  4318   019           1568                  NaN   \n",
              "198898           12/06/2017  0298   029            795                  NaN   \n",
              "198899           12/07/2017  0160   006            838                  NaN   \n",
              "\n",
              "       Street Name Street Suffix  ...  Existing Construction Type  \\\n",
              "0            Ellis            St  ...                         3.0   \n",
              "1            Geary            St  ...                         3.0   \n",
              "2          Pacific            Av  ...                         1.0   \n",
              "3          Pacific            Av  ...                         5.0   \n",
              "4           Market            St  ...                         3.0   \n",
              "...            ...           ...  ...                         ...   \n",
              "198895  Montgomery            St  ...                         NaN   \n",
              "198896        Bush            St  ...                         5.0   \n",
              "198897     Indiana            St  ...                         NaN   \n",
              "198898      Sutter            St  ...                         NaN   \n",
              "198899     Pacific            Av  ...                         NaN   \n",
              "\n",
              "       Existing Construction Type Description Proposed Construction Type  \\\n",
              "0                               constr type 3                        NaN   \n",
              "1                               constr type 3                        NaN   \n",
              "2                               constr type 1                        1.0   \n",
              "3                              wood frame (5)                        5.0   \n",
              "4                               constr type 3                        NaN   \n",
              "...                                       ...                        ...   \n",
              "198895                                    NaN                        NaN   \n",
              "198896                         wood frame (5)                        5.0   \n",
              "198897                                    NaN                        NaN   \n",
              "198898                                    NaN                        NaN   \n",
              "198899                                    NaN                        NaN   \n",
              "\n",
              "       Proposed Construction Type Description Site Permit Supervisor District  \\\n",
              "0                                         NaN         NaN                 3.0   \n",
              "1                                         NaN         NaN                 3.0   \n",
              "2                               constr type 1         NaN                 3.0   \n",
              "3                              wood frame (5)         NaN                 3.0   \n",
              "4                                         NaN         NaN                 6.0   \n",
              "...                                       ...         ...                 ...   \n",
              "198895                                    NaN         NaN                 NaN   \n",
              "198896                         wood frame (5)         NaN                 NaN   \n",
              "198897                                    NaN         NaN                 NaN   \n",
              "198898                                    NaN         NaN                 NaN   \n",
              "198899                                    NaN         NaN                 NaN   \n",
              "\n",
              "       Neighborhoods - Analysis Boundaries  Zipcode  \\\n",
              "0                               Tenderloin  94102.0   \n",
              "1                               Tenderloin  94102.0   \n",
              "2                             Russian Hill  94109.0   \n",
              "3                                 Nob Hill  94109.0   \n",
              "4                               Tenderloin  94102.0   \n",
              "...                                    ...      ...   \n",
              "198895                                 NaN      NaN   \n",
              "198896                                 NaN      NaN   \n",
              "198897                                 NaN      NaN   \n",
              "198898                                 NaN      NaN   \n",
              "198899                                 NaN      NaN   \n",
              "\n",
              "                                         Location      Record ID  \n",
              "0       (37.785719256680785, -122.40852313194863)  1380611233945  \n",
              "1        (37.78733980600732, -122.41063199757738)  1420164406718  \n",
              "2         (37.7946573324287, -122.42232562979227)  1424856504716  \n",
              "3        (37.79595867909168, -122.41557405519474)  1443574295566  \n",
              "4        (37.78315261897309, -122.40950883997789)   144548169992  \n",
              "...                                           ...            ...  \n",
              "198895                                        NaN  1489337276729  \n",
              "198896                                        NaN  1489462354993  \n",
              "198897                                        NaN  1489539379952  \n",
              "198898                                        NaN  1489608233656  \n",
              "198899                                        NaN  1489796283803  \n",
              "\n",
              "[198900 rows x 43 columns]"
            ],
            "text/html": "<div>\n<style scoped>\n    .dataframe tbody tr th:only-of-type {\n        vertical-align: middle;\n    }\n\n    .dataframe tbody tr th {\n        vertical-align: top;\n    }\n\n    .dataframe thead th {\n        text-align: right;\n    }\n</style>\n<table border=\"1\" class=\"dataframe\">\n  <thead>\n    <tr style=\"text-align: right;\">\n      <th></th>\n      <th>Permit Number</th>\n      <th>Permit Type</th>\n      <th>Permit Type Definition</th>\n      <th>Permit Creation Date</th>\n      <th>Block</th>\n      <th>Lot</th>\n      <th>Street Number</th>\n      <th>Street Number Suffix</th>\n      <th>Street Name</th>\n      <th>Street Suffix</th>\n      <th>...</th>\n      <th>Existing Construction Type</th>\n      <th>Existing Construction Type Description</th>\n      <th>Proposed Construction Type</th>\n      <th>Proposed Construction Type Description</th>\n      <th>Site Permit</th>\n      <th>Supervisor District</th>\n      <th>Neighborhoods - Analysis Boundaries</th>\n      <th>Zipcode</th>\n      <th>Location</th>\n      <th>Record ID</th>\n    </tr>\n  </thead>\n  <tbody>\n    <tr>\n      <th>0</th>\n      <td>201505065519</td>\n      <td>4</td>\n      <td>sign - erect</td>\n      <td>05/06/2015</td>\n      <td>0326</td>\n      <td>023</td>\n      <td>140</td>\n      <td>NaN</td>\n      <td>Ellis</td>\n      <td>St</td>\n      <td>...</td>\n      <td>3.0</td>\n      <td>constr type 3</td>\n      <td>NaN</td>\n      <td>NaN</td>\n      <td>NaN</td>\n      <td>3.0</td>\n      <td>Tenderloin</td>\n      <td>94102.0</td>\n      <td>(37.785719256680785, -122.40852313194863)</td>\n      <td>1380611233945</td>\n    </tr>\n    <tr>\n      <th>1</th>\n      <td>201604195146</td>\n      <td>4</td>\n      <td>sign - erect</td>\n      <td>04/19/2016</td>\n      <td>0306</td>\n      <td>007</td>\n      <td>440</td>\n      <td>NaN</td>\n      <td>Geary</td>\n      <td>St</td>\n      <td>...</td>\n      <td>3.0</td>\n      <td>constr type 3</td>\n      <td>NaN</td>\n      <td>NaN</td>\n      <td>NaN</td>\n      <td>3.0</td>\n      <td>Tenderloin</td>\n      <td>94102.0</td>\n      <td>(37.78733980600732, -122.41063199757738)</td>\n      <td>1420164406718</td>\n    </tr>\n    <tr>\n      <th>2</th>\n      <td>201605278609</td>\n      <td>3</td>\n      <td>additions alterations or repairs</td>\n      <td>05/27/2016</td>\n      <td>0595</td>\n      <td>203</td>\n      <td>1647</td>\n      <td>NaN</td>\n      <td>Pacific</td>\n      <td>Av</td>\n      <td>...</td>\n      <td>1.0</td>\n      <td>constr type 1</td>\n      <td>1.0</td>\n      <td>constr type 1</td>\n      <td>NaN</td>\n      <td>3.0</td>\n      <td>Russian Hill</td>\n      <td>94109.0</td>\n      <td>(37.7946573324287, -122.42232562979227)</td>\n      <td>1424856504716</td>\n    </tr>\n    <tr>\n      <th>3</th>\n      <td>201611072166</td>\n      <td>8</td>\n      <td>otc alterations permit</td>\n      <td>11/07/2016</td>\n      <td>0156</td>\n      <td>011</td>\n      <td>1230</td>\n      <td>NaN</td>\n      <td>Pacific</td>\n      <td>Av</td>\n      <td>...</td>\n      <td>5.0</td>\n      <td>wood frame (5)</td>\n      <td>5.0</td>\n      <td>wood frame (5)</td>\n      <td>NaN</td>\n      <td>3.0</td>\n      <td>Nob Hill</td>\n      <td>94109.0</td>\n      <td>(37.79595867909168, -122.41557405519474)</td>\n      <td>1443574295566</td>\n    </tr>\n    <tr>\n      <th>4</th>\n      <td>201611283529</td>\n      <td>6</td>\n      <td>demolitions</td>\n      <td>11/28/2016</td>\n      <td>0342</td>\n      <td>001</td>\n      <td>950</td>\n      <td>NaN</td>\n      <td>Market</td>\n      <td>St</td>\n      <td>...</td>\n      <td>3.0</td>\n      <td>constr type 3</td>\n      <td>NaN</td>\n      <td>NaN</td>\n      <td>NaN</td>\n      <td>6.0</td>\n      <td>Tenderloin</td>\n      <td>94102.0</td>\n      <td>(37.78315261897309, -122.40950883997789)</td>\n      <td>144548169992</td>\n    </tr>\n    <tr>\n      <th>...</th>\n      <td>...</td>\n      <td>...</td>\n      <td>...</td>\n      <td>...</td>\n      <td>...</td>\n      <td>...</td>\n      <td>...</td>\n      <td>...</td>\n      <td>...</td>\n      <td>...</td>\n      <td>...</td>\n      <td>...</td>\n      <td>...</td>\n      <td>...</td>\n      <td>...</td>\n      <td>...</td>\n      <td>...</td>\n      <td>...</td>\n      <td>...</td>\n      <td>...</td>\n      <td>...</td>\n    </tr>\n    <tr>\n      <th>198895</th>\n      <td>M862628</td>\n      <td>8</td>\n      <td>otc alterations permit</td>\n      <td>12/05/2017</td>\n      <td>0113</td>\n      <td>017A</td>\n      <td>1228</td>\n      <td>NaN</td>\n      <td>Montgomery</td>\n      <td>St</td>\n      <td>...</td>\n      <td>NaN</td>\n      <td>NaN</td>\n      <td>NaN</td>\n      <td>NaN</td>\n      <td>NaN</td>\n      <td>NaN</td>\n      <td>NaN</td>\n      <td>NaN</td>\n      <td>NaN</td>\n      <td>1489337276729</td>\n    </tr>\n    <tr>\n      <th>198896</th>\n      <td>201712055595</td>\n      <td>8</td>\n      <td>otc alterations permit</td>\n      <td>12/05/2017</td>\n      <td>0271</td>\n      <td>014</td>\n      <td>580</td>\n      <td>NaN</td>\n      <td>Bush</td>\n      <td>St</td>\n      <td>...</td>\n      <td>5.0</td>\n      <td>wood frame (5)</td>\n      <td>5.0</td>\n      <td>wood frame (5)</td>\n      <td>NaN</td>\n      <td>NaN</td>\n      <td>NaN</td>\n      <td>NaN</td>\n      <td>NaN</td>\n      <td>1489462354993</td>\n    </tr>\n    <tr>\n      <th>198897</th>\n      <td>M863507</td>\n      <td>8</td>\n      <td>otc alterations permit</td>\n      <td>12/06/2017</td>\n      <td>4318</td>\n      <td>019</td>\n      <td>1568</td>\n      <td>NaN</td>\n      <td>Indiana</td>\n      <td>St</td>\n      <td>...</td>\n      <td>NaN</td>\n      <td>NaN</td>\n      <td>NaN</td>\n      <td>NaN</td>\n      <td>NaN</td>\n      <td>NaN</td>\n      <td>NaN</td>\n      <td>NaN</td>\n      <td>NaN</td>\n      <td>1489539379952</td>\n    </tr>\n    <tr>\n      <th>198898</th>\n      <td>M863747</td>\n      <td>8</td>\n      <td>otc alterations permit</td>\n      <td>12/06/2017</td>\n      <td>0298</td>\n      <td>029</td>\n      <td>795</td>\n      <td>NaN</td>\n      <td>Sutter</td>\n      <td>St</td>\n      <td>...</td>\n      <td>NaN</td>\n      <td>NaN</td>\n      <td>NaN</td>\n      <td>NaN</td>\n      <td>NaN</td>\n      <td>NaN</td>\n      <td>NaN</td>\n      <td>NaN</td>\n      <td>NaN</td>\n      <td>1489608233656</td>\n    </tr>\n    <tr>\n      <th>198899</th>\n      <td>M864287</td>\n      <td>8</td>\n      <td>otc alterations permit</td>\n      <td>12/07/2017</td>\n      <td>0160</td>\n      <td>006</td>\n      <td>838</td>\n      <td>NaN</td>\n      <td>Pacific</td>\n      <td>Av</td>\n      <td>...</td>\n      <td>NaN</td>\n      <td>NaN</td>\n      <td>NaN</td>\n      <td>NaN</td>\n      <td>NaN</td>\n      <td>NaN</td>\n      <td>NaN</td>\n      <td>NaN</td>\n      <td>NaN</td>\n      <td>1489796283803</td>\n    </tr>\n  </tbody>\n</table>\n<p>198900 rows × 43 columns</p>\n</div>"
          },
          "metadata": {},
          "execution_count": 2
        }
      ],
      "execution_count": 2
    },
    {
      "cell_type": "code",
      "source": [
        "df.isnull().sum() * 100 / len(df)"
      ],
      "metadata": {
        "tags": [],
        "cell_id": "00002-aef60a5f-31ca-4e4f-9fbb-be35d7eeeca1",
        "deepnote_to_be_reexecuted": false,
        "source_hash": "2cdc8878",
        "execution_start": 1620135858973,
        "execution_millis": 398,
        "deepnote_cell_type": "code"
      },
      "outputs": [
        {
          "output_type": "execute_result",
          "data": {
            "text/plain": [
              "Permit Number                              0.000000\n",
              "Permit Type                                0.000000\n",
              "Permit Type Definition                     0.000000\n",
              "Permit Creation Date                       0.000000\n",
              "Block                                      0.000000\n",
              "Lot                                        0.000000\n",
              "Street Number                              0.000000\n",
              "Street Number Suffix                      98.885872\n",
              "Street Name                                0.000000\n",
              "Street Suffix                              1.391654\n",
              "Unit                                      85.178984\n",
              "Unit Suffix                               99.014077\n",
              "Description                                0.145802\n",
              "Current Status                             0.000000\n",
              "Current Status Date                        0.000000\n",
              "Filed Date                                 0.000000\n",
              "Issued Date                                7.511312\n",
              "Completed Date                            51.135747\n",
              "First Construction Document Date           7.514329\n",
              "Structural Notification                   96.519859\n",
              "Number of Existing Stories                21.510307\n",
              "Number of Proposed Stories                21.552539\n",
              "Voluntary Soft-Story Retrofit             99.982403\n",
              "Fire Only Permit                          90.534439\n",
              "Permit Expiration Date                    26.083459\n",
              "Estimated Cost                            19.138260\n",
              "Revised Cost                               3.049774\n",
              "Existing Use                              20.670689\n",
              "Existing Units                            25.911513\n",
              "Proposed Use                              21.336853\n",
              "Proposed Units                            25.596280\n",
              "Plansets                                  18.757667\n",
              "TIDF Compliance                           99.998994\n",
              "Existing Construction Type                21.802916\n",
              "Existing Construction Type Description    21.802916\n",
              "Proposed Construction Type                21.700352\n",
              "Proposed Construction Type Description    21.700352\n",
              "Site Permit                               97.305681\n",
              "Supervisor District                        0.863248\n",
              "Neighborhoods - Analysis Boundaries        0.867270\n",
              "Zipcode                                    0.862745\n",
              "Location                                   0.854701\n",
              "Record ID                                  0.000000\n",
              "dtype: float64"
            ]
          },
          "metadata": {},
          "execution_count": 3
        }
      ],
      "execution_count": 3
    },
    {
      "cell_type": "code",
      "source": [
        "df.isna().sum().sum()"
      ],
      "metadata": {
        "tags": [],
        "cell_id": "00003-dc3682cc-cafc-47ef-93af-9e3c6ef8f3f4",
        "deepnote_to_be_reexecuted": false,
        "source_hash": "45439931",
        "execution_start": 1620135859303,
        "execution_millis": 179,
        "deepnote_cell_type": "code"
      },
      "outputs": [
        {
          "output_type": "execute_result",
          "data": {
            "text/plain": [
              "2245941"
            ]
          },
          "metadata": {},
          "execution_count": 4
        }
      ],
      "execution_count": 4
    },
    {
      "cell_type": "markdown",
      "source": [
        " # Drop\n",
        "\n",
        "- Street Number Suffix\n",
        "- Unit\n",
        "- Unit Suffix\n",
        "- Completed Date\n",
        "- Structural Notification\n",
        "- Voluntary Soft-Story Retrofit\n",
        "- Fire Only Permit\n",
        "- Site Permit\n",
        "- TIDF Compliance\n",
        "- Site Permit\n"
      ],
      "metadata": {
        "tags": [],
        "cell_id": "00003-b85d16df-57ae-4b14-a208-2b395e8d1742",
        "deepnote_cell_type": "markdown"
      }
    },
    {
      "cell_type": "markdown",
      "source": [
        "San Francisco has two numbered series: streets, which run generally east–west, and avenues, which are north–south. The two series do not meet.\n",
        "\n",
        "The numbered streets begin with 1st Street in SoMa and end with 30th Street in Noe Valley. Some of these streets are only nominally east–west, which causes anomalies such as 3rd Street meeting 26th Street in the Dogpatch.\n",
        "\n",
        "The numbered avenues are in the Richmond and Sunset Districts beginning with 2nd Avenue and continuing westward to 48th Avenue, which runs parallel to the Pacific Ocean shore."
      ],
      "metadata": {
        "tags": [],
        "cell_id": "00004-ca983dd5-6df0-40d6-8c63-efd803d8a459",
        "deepnote_cell_type": "markdown"
      }
    },
    {
      "cell_type": "markdown",
      "source": [
        "We donot have any suffix for the street number --> They don't exist and hence we can drop the column"
      ],
      "metadata": {
        "tags": [],
        "cell_id": "00005-93cbeb2e-37dd-4410-8937-3f6d48a0a489",
        "deepnote_cell_type": "markdown"
      }
    },
    {
      "cell_type": "code",
      "source": [
        "df = df.drop(['Street Number Suffix'],axis=1)\n",
        "df = df.drop(['Unit'],axis=1)\n",
        "df = df.drop(['Unit Suffix'],axis=1)\n",
        "df = df.drop(['Completed Date'],axis=1)\n",
        "df = df.drop(['Structural Notification'],axis=1)\n",
        "df = df.drop(['Voluntary Soft-Story Retrofit'],axis=1)\n",
        "df = df.drop(['Fire Only Permit'],axis=1)\n",
        "df = df.drop(['Site Permit'],axis=1)\n",
        "df = df.drop(['TIDF Compliance'],axis=1)\n",
        "df"
      ],
      "metadata": {
        "tags": [],
        "cell_id": "00004-db4ab8d6-ca55-458e-be2e-be5453ec3569",
        "deepnote_to_be_reexecuted": false,
        "source_hash": "98b1039c",
        "execution_start": 1620136026539,
        "execution_millis": 1378,
        "deepnote_cell_type": "code"
      },
      "outputs": [
        {
          "output_type": "execute_result",
          "data": {
            "text/plain": [
              "       Permit Number  Permit Type            Permit Type Definition  \\\n",
              "0       201505065519            4                      sign - erect   \n",
              "1       201604195146            4                      sign - erect   \n",
              "2       201605278609            3  additions alterations or repairs   \n",
              "3       201611072166            8            otc alterations permit   \n",
              "4       201611283529            6                       demolitions   \n",
              "...              ...          ...                               ...   \n",
              "198895       M862628            8            otc alterations permit   \n",
              "198896  201712055595            8            otc alterations permit   \n",
              "198897       M863507            8            otc alterations permit   \n",
              "198898       M863747            8            otc alterations permit   \n",
              "198899       M864287            8            otc alterations permit   \n",
              "\n",
              "       Permit Creation Date Block   Lot  Street Number Street Name  \\\n",
              "0                05/06/2015  0326   023            140       Ellis   \n",
              "1                04/19/2016  0306   007            440       Geary   \n",
              "2                05/27/2016  0595   203           1647     Pacific   \n",
              "3                11/07/2016  0156   011           1230     Pacific   \n",
              "4                11/28/2016  0342   001            950      Market   \n",
              "...                     ...   ...   ...            ...         ...   \n",
              "198895           12/05/2017  0113  017A           1228  Montgomery   \n",
              "198896           12/05/2017  0271   014            580        Bush   \n",
              "198897           12/06/2017  4318   019           1568     Indiana   \n",
              "198898           12/06/2017  0298   029            795      Sutter   \n",
              "198899           12/07/2017  0160   006            838     Pacific   \n",
              "\n",
              "       Street Suffix                                        Description  ...  \\\n",
              "0                 St  ground fl facade: to erect illuminated, electr...  ...   \n",
              "1                 St            remove (e) awning and associated signs.  ...   \n",
              "2                 Av                    installation of separating wall  ...   \n",
              "3                 Av           repair dryrot & stucco at front of bldg.  ...   \n",
              "4                 St  demolish retail/office/commercial 3-story buil...  ...   \n",
              "...              ...                                                ...  ...   \n",
              "198895            St                                       street space  ...   \n",
              "198896            St                fire alarm upgrade ref 201704123852  ...   \n",
              "198897            St                                       street space  ...   \n",
              "198898            St                                street space permit  ...   \n",
              "198899            Av                                street space permit  ...   \n",
              "\n",
              "       Plansets Existing Construction Type  \\\n",
              "0           2.0                        3.0   \n",
              "1           2.0                        3.0   \n",
              "2           2.0                        1.0   \n",
              "3           2.0                        5.0   \n",
              "4           2.0                        3.0   \n",
              "...         ...                        ...   \n",
              "198895      NaN                        NaN   \n",
              "198896      2.0                        5.0   \n",
              "198897      NaN                        NaN   \n",
              "198898      NaN                        NaN   \n",
              "198899      NaN                        NaN   \n",
              "\n",
              "       Existing Construction Type Description Proposed Construction Type  \\\n",
              "0                               constr type 3                        NaN   \n",
              "1                               constr type 3                        NaN   \n",
              "2                               constr type 1                        1.0   \n",
              "3                              wood frame (5)                        5.0   \n",
              "4                               constr type 3                        NaN   \n",
              "...                                       ...                        ...   \n",
              "198895                                    NaN                        NaN   \n",
              "198896                         wood frame (5)                        5.0   \n",
              "198897                                    NaN                        NaN   \n",
              "198898                                    NaN                        NaN   \n",
              "198899                                    NaN                        NaN   \n",
              "\n",
              "       Proposed Construction Type Description  Supervisor District  \\\n",
              "0                                         NaN                  3.0   \n",
              "1                                         NaN                  3.0   \n",
              "2                               constr type 1                  3.0   \n",
              "3                              wood frame (5)                  3.0   \n",
              "4                                         NaN                  6.0   \n",
              "...                                       ...                  ...   \n",
              "198895                                    NaN                  NaN   \n",
              "198896                         wood frame (5)                  NaN   \n",
              "198897                                    NaN                  NaN   \n",
              "198898                                    NaN                  NaN   \n",
              "198899                                    NaN                  NaN   \n",
              "\n",
              "        Neighborhoods - Analysis Boundaries  Zipcode  \\\n",
              "0                                Tenderloin  94102.0   \n",
              "1                                Tenderloin  94102.0   \n",
              "2                              Russian Hill  94109.0   \n",
              "3                                  Nob Hill  94109.0   \n",
              "4                                Tenderloin  94102.0   \n",
              "...                                     ...      ...   \n",
              "198895                                  NaN      NaN   \n",
              "198896                                  NaN      NaN   \n",
              "198897                                  NaN      NaN   \n",
              "198898                                  NaN      NaN   \n",
              "198899                                  NaN      NaN   \n",
              "\n",
              "                                         Location      Record ID  \n",
              "0       (37.785719256680785, -122.40852313194863)  1380611233945  \n",
              "1        (37.78733980600732, -122.41063199757738)  1420164406718  \n",
              "2         (37.7946573324287, -122.42232562979227)  1424856504716  \n",
              "3        (37.79595867909168, -122.41557405519474)  1443574295566  \n",
              "4        (37.78315261897309, -122.40950883997789)   144548169992  \n",
              "...                                           ...            ...  \n",
              "198895                                        NaN  1489337276729  \n",
              "198896                                        NaN  1489462354993  \n",
              "198897                                        NaN  1489539379952  \n",
              "198898                                        NaN  1489608233656  \n",
              "198899                                        NaN  1489796283803  \n",
              "\n",
              "[198900 rows x 34 columns]"
            ],
            "text/html": "<div>\n<style scoped>\n    .dataframe tbody tr th:only-of-type {\n        vertical-align: middle;\n    }\n\n    .dataframe tbody tr th {\n        vertical-align: top;\n    }\n\n    .dataframe thead th {\n        text-align: right;\n    }\n</style>\n<table border=\"1\" class=\"dataframe\">\n  <thead>\n    <tr style=\"text-align: right;\">\n      <th></th>\n      <th>Permit Number</th>\n      <th>Permit Type</th>\n      <th>Permit Type Definition</th>\n      <th>Permit Creation Date</th>\n      <th>Block</th>\n      <th>Lot</th>\n      <th>Street Number</th>\n      <th>Street Name</th>\n      <th>Street Suffix</th>\n      <th>Description</th>\n      <th>...</th>\n      <th>Plansets</th>\n      <th>Existing Construction Type</th>\n      <th>Existing Construction Type Description</th>\n      <th>Proposed Construction Type</th>\n      <th>Proposed Construction Type Description</th>\n      <th>Supervisor District</th>\n      <th>Neighborhoods - Analysis Boundaries</th>\n      <th>Zipcode</th>\n      <th>Location</th>\n      <th>Record ID</th>\n    </tr>\n  </thead>\n  <tbody>\n    <tr>\n      <th>0</th>\n      <td>201505065519</td>\n      <td>4</td>\n      <td>sign - erect</td>\n      <td>05/06/2015</td>\n      <td>0326</td>\n      <td>023</td>\n      <td>140</td>\n      <td>Ellis</td>\n      <td>St</td>\n      <td>ground fl facade: to erect illuminated, electr...</td>\n      <td>...</td>\n      <td>2.0</td>\n      <td>3.0</td>\n      <td>constr type 3</td>\n      <td>NaN</td>\n      <td>NaN</td>\n      <td>3.0</td>\n      <td>Tenderloin</td>\n      <td>94102.0</td>\n      <td>(37.785719256680785, -122.40852313194863)</td>\n      <td>1380611233945</td>\n    </tr>\n    <tr>\n      <th>1</th>\n      <td>201604195146</td>\n      <td>4</td>\n      <td>sign - erect</td>\n      <td>04/19/2016</td>\n      <td>0306</td>\n      <td>007</td>\n      <td>440</td>\n      <td>Geary</td>\n      <td>St</td>\n      <td>remove (e) awning and associated signs.</td>\n      <td>...</td>\n      <td>2.0</td>\n      <td>3.0</td>\n      <td>constr type 3</td>\n      <td>NaN</td>\n      <td>NaN</td>\n      <td>3.0</td>\n      <td>Tenderloin</td>\n      <td>94102.0</td>\n      <td>(37.78733980600732, -122.41063199757738)</td>\n      <td>1420164406718</td>\n    </tr>\n    <tr>\n      <th>2</th>\n      <td>201605278609</td>\n      <td>3</td>\n      <td>additions alterations or repairs</td>\n      <td>05/27/2016</td>\n      <td>0595</td>\n      <td>203</td>\n      <td>1647</td>\n      <td>Pacific</td>\n      <td>Av</td>\n      <td>installation of separating wall</td>\n      <td>...</td>\n      <td>2.0</td>\n      <td>1.0</td>\n      <td>constr type 1</td>\n      <td>1.0</td>\n      <td>constr type 1</td>\n      <td>3.0</td>\n      <td>Russian Hill</td>\n      <td>94109.0</td>\n      <td>(37.7946573324287, -122.42232562979227)</td>\n      <td>1424856504716</td>\n    </tr>\n    <tr>\n      <th>3</th>\n      <td>201611072166</td>\n      <td>8</td>\n      <td>otc alterations permit</td>\n      <td>11/07/2016</td>\n      <td>0156</td>\n      <td>011</td>\n      <td>1230</td>\n      <td>Pacific</td>\n      <td>Av</td>\n      <td>repair dryrot &amp; stucco at front of bldg.</td>\n      <td>...</td>\n      <td>2.0</td>\n      <td>5.0</td>\n      <td>wood frame (5)</td>\n      <td>5.0</td>\n      <td>wood frame (5)</td>\n      <td>3.0</td>\n      <td>Nob Hill</td>\n      <td>94109.0</td>\n      <td>(37.79595867909168, -122.41557405519474)</td>\n      <td>1443574295566</td>\n    </tr>\n    <tr>\n      <th>4</th>\n      <td>201611283529</td>\n      <td>6</td>\n      <td>demolitions</td>\n      <td>11/28/2016</td>\n      <td>0342</td>\n      <td>001</td>\n      <td>950</td>\n      <td>Market</td>\n      <td>St</td>\n      <td>demolish retail/office/commercial 3-story buil...</td>\n      <td>...</td>\n      <td>2.0</td>\n      <td>3.0</td>\n      <td>constr type 3</td>\n      <td>NaN</td>\n      <td>NaN</td>\n      <td>6.0</td>\n      <td>Tenderloin</td>\n      <td>94102.0</td>\n      <td>(37.78315261897309, -122.40950883997789)</td>\n      <td>144548169992</td>\n    </tr>\n    <tr>\n      <th>...</th>\n      <td>...</td>\n      <td>...</td>\n      <td>...</td>\n      <td>...</td>\n      <td>...</td>\n      <td>...</td>\n      <td>...</td>\n      <td>...</td>\n      <td>...</td>\n      <td>...</td>\n      <td>...</td>\n      <td>...</td>\n      <td>...</td>\n      <td>...</td>\n      <td>...</td>\n      <td>...</td>\n      <td>...</td>\n      <td>...</td>\n      <td>...</td>\n      <td>...</td>\n      <td>...</td>\n    </tr>\n    <tr>\n      <th>198895</th>\n      <td>M862628</td>\n      <td>8</td>\n      <td>otc alterations permit</td>\n      <td>12/05/2017</td>\n      <td>0113</td>\n      <td>017A</td>\n      <td>1228</td>\n      <td>Montgomery</td>\n      <td>St</td>\n      <td>street space</td>\n      <td>...</td>\n      <td>NaN</td>\n      <td>NaN</td>\n      <td>NaN</td>\n      <td>NaN</td>\n      <td>NaN</td>\n      <td>NaN</td>\n      <td>NaN</td>\n      <td>NaN</td>\n      <td>NaN</td>\n      <td>1489337276729</td>\n    </tr>\n    <tr>\n      <th>198896</th>\n      <td>201712055595</td>\n      <td>8</td>\n      <td>otc alterations permit</td>\n      <td>12/05/2017</td>\n      <td>0271</td>\n      <td>014</td>\n      <td>580</td>\n      <td>Bush</td>\n      <td>St</td>\n      <td>fire alarm upgrade ref 201704123852</td>\n      <td>...</td>\n      <td>2.0</td>\n      <td>5.0</td>\n      <td>wood frame (5)</td>\n      <td>5.0</td>\n      <td>wood frame (5)</td>\n      <td>NaN</td>\n      <td>NaN</td>\n      <td>NaN</td>\n      <td>NaN</td>\n      <td>1489462354993</td>\n    </tr>\n    <tr>\n      <th>198897</th>\n      <td>M863507</td>\n      <td>8</td>\n      <td>otc alterations permit</td>\n      <td>12/06/2017</td>\n      <td>4318</td>\n      <td>019</td>\n      <td>1568</td>\n      <td>Indiana</td>\n      <td>St</td>\n      <td>street space</td>\n      <td>...</td>\n      <td>NaN</td>\n      <td>NaN</td>\n      <td>NaN</td>\n      <td>NaN</td>\n      <td>NaN</td>\n      <td>NaN</td>\n      <td>NaN</td>\n      <td>NaN</td>\n      <td>NaN</td>\n      <td>1489539379952</td>\n    </tr>\n    <tr>\n      <th>198898</th>\n      <td>M863747</td>\n      <td>8</td>\n      <td>otc alterations permit</td>\n      <td>12/06/2017</td>\n      <td>0298</td>\n      <td>029</td>\n      <td>795</td>\n      <td>Sutter</td>\n      <td>St</td>\n      <td>street space permit</td>\n      <td>...</td>\n      <td>NaN</td>\n      <td>NaN</td>\n      <td>NaN</td>\n      <td>NaN</td>\n      <td>NaN</td>\n      <td>NaN</td>\n      <td>NaN</td>\n      <td>NaN</td>\n      <td>NaN</td>\n      <td>1489608233656</td>\n    </tr>\n    <tr>\n      <th>198899</th>\n      <td>M864287</td>\n      <td>8</td>\n      <td>otc alterations permit</td>\n      <td>12/07/2017</td>\n      <td>0160</td>\n      <td>006</td>\n      <td>838</td>\n      <td>Pacific</td>\n      <td>Av</td>\n      <td>street space permit</td>\n      <td>...</td>\n      <td>NaN</td>\n      <td>NaN</td>\n      <td>NaN</td>\n      <td>NaN</td>\n      <td>NaN</td>\n      <td>NaN</td>\n      <td>NaN</td>\n      <td>NaN</td>\n      <td>NaN</td>\n      <td>1489796283803</td>\n    </tr>\n  </tbody>\n</table>\n<p>198900 rows × 34 columns</p>\n</div>"
          },
          "metadata": {},
          "execution_count": 5
        }
      ],
      "execution_count": 5
    },
    {
      "cell_type": "code",
      "source": [
        "test_df = df.isnull().sum() * 100 / len(df)\n",
        "test_df[test_df.values > 0]"
      ],
      "metadata": {
        "tags": [],
        "cell_id": "00008-16e76aff-524e-42c3-8dc1-9b9f85980367",
        "deepnote_to_be_reexecuted": false,
        "source_hash": "4aad0db2",
        "execution_start": 1620135860645,
        "execution_millis": 35,
        "deepnote_cell_type": "code"
      },
      "outputs": [
        {
          "output_type": "execute_result",
          "data": {
            "text/plain": [
              "Street Suffix                              1.391654\n",
              "Description                                0.145802\n",
              "Issued Date                                7.511312\n",
              "First Construction Document Date           7.514329\n",
              "Number of Existing Stories                21.510307\n",
              "Number of Proposed Stories                21.552539\n",
              "Permit Expiration Date                    26.083459\n",
              "Estimated Cost                            19.138260\n",
              "Revised Cost                               3.049774\n",
              "Existing Use                              20.670689\n",
              "Existing Units                            25.911513\n",
              "Proposed Use                              21.336853\n",
              "Proposed Units                            25.596280\n",
              "Plansets                                  18.757667\n",
              "Existing Construction Type                21.802916\n",
              "Existing Construction Type Description    21.802916\n",
              "Proposed Construction Type                21.700352\n",
              "Proposed Construction Type Description    21.700352\n",
              "Supervisor District                        0.863248\n",
              "Neighborhoods - Analysis Boundaries        0.867270\n",
              "Zipcode                                    0.862745\n",
              "Location                                   0.854701\n",
              "dtype: float64"
            ]
          },
          "metadata": {},
          "execution_count": 10
        }
      ],
      "execution_count": 10
    },
    {
      "cell_type": "code",
      "source": [
        "df['Street Suffix'].value_counts()"
      ],
      "metadata": {
        "tags": [],
        "cell_id": "00010-be624b84-95f1-475c-af18-7c9c4f08a823",
        "deepnote_to_be_reexecuted": false,
        "source_hash": "31691d6c",
        "execution_start": 1620137045865,
        "execution_millis": 15,
        "deepnote_cell_type": "code"
      },
      "outputs": [
        {
          "output_type": "execute_result",
          "execution_count": 54,
          "data": {
            "text/plain": "St    138358\nAv     43219\nBl      3555\nWy      3540\nDr      3267\nTr      1466\nCt       667\nPl       538\nRd       389\nLn       354\nHy       240\nPz       210\nPk       128\nCr        97\nAl        83\nWk         9\nRw         5\nSo         2\nSw         2\nNo         2\nHl         1\nName: Street Suffix, dtype: int64"
          },
          "metadata": {}
        }
      ],
      "execution_count": 54
    },
    {
      "cell_type": "code",
      "source": [
        "df['Street Suffix'].value_counts() / df.shape[0]"
      ],
      "metadata": {
        "tags": [],
        "cell_id": "00006-1045ed3f-0db7-4ce1-ba09-1c01da4b5674",
        "deepnote_to_be_reexecuted": false,
        "source_hash": "73ec4f9b",
        "execution_start": 1620135860680,
        "execution_millis": 92,
        "deepnote_cell_type": "code"
      },
      "outputs": [
        {
          "output_type": "execute_result",
          "execution_count": 8,
          "data": {
            "text/plain": "St    0.695616\nAv    0.217290\nBl    0.017873\nWy    0.017798\nDr    0.016425\nTr    0.007371\nCt    0.003353\nPl    0.002705\nRd    0.001956\nLn    0.001780\nHy    0.001207\nPz    0.001056\nPk    0.000644\nCr    0.000488\nAl    0.000417\nWk    0.000045\nRw    0.000025\nSo    0.000010\nSw    0.000010\nNo    0.000010\nHl    0.000005\nName: Street Suffix, dtype: float64"
          },
          "metadata": {}
        }
      ],
      "execution_count": 8
    },
    {
      "cell_type": "code",
      "source": [
        "df['Street Suffix'].unique()"
      ],
      "metadata": {
        "tags": [],
        "cell_id": "00011-655192d4-3310-43b7-9eac-b6bf6034c4f2",
        "deepnote_to_be_reexecuted": false,
        "source_hash": "887de08",
        "execution_start": 1620135860758,
        "execution_millis": 39,
        "deepnote_cell_type": "code"
      },
      "outputs": [
        {
          "output_type": "execute_result",
          "execution_count": 9,
          "data": {
            "text/plain": "array(['St', 'Av', 'Tr', 'Ct', 'Bl', 'Wy', 'Dr', nan, 'Rd', 'Cr', 'Pl',\n       'Ln', 'Hy', 'Pk', 'Al', 'Pz', 'Wk', 'Rw', 'So', 'Sw', 'No', 'Hl'],\n      dtype=object)"
          },
          "metadata": {}
        }
      ],
      "execution_count": 9
    },
    {
      "cell_type": "code",
      "source": [
        "# test = df['Street Suffix']\n",
        "# # imputer = SimpleImputer(missing_values=float, strategy='most_frequent')\n",
        "# # imputer.fit(test)"
      ],
      "metadata": {
        "tags": [],
        "cell_id": "00014-4b66c950-8b41-4075-8655-c6b7288fb934",
        "deepnote_to_be_reexecuted": false,
        "source_hash": "65384830",
        "execution_start": 1620138861268,
        "execution_millis": 4,
        "deepnote_cell_type": "code"
      },
      "outputs": [],
      "execution_count": 77
    },
    {
      "cell_type": "code",
      "source": [
        "df['Street Suffix'].shape"
      ],
      "metadata": {
        "tags": [],
        "cell_id": "00013-56383d09-3d45-4e3f-b226-3a440c28d2d4",
        "deepnote_to_be_reexecuted": false,
        "source_hash": "36b513f7",
        "execution_start": 1620136232670,
        "execution_millis": 11,
        "deepnote_cell_type": "code"
      },
      "outputs": [
        {
          "output_type": "execute_result",
          "execution_count": 39,
          "data": {
            "text/plain": "(198900,)"
          },
          "metadata": {}
        }
      ],
      "execution_count": 39
    },
    {
      "cell_type": "code",
      "source": [
        "np.array(df['Street Suffix']).shape"
      ],
      "metadata": {
        "tags": [],
        "cell_id": "00014-e5bbed57-667e-4967-9876-85857842319e",
        "deepnote_to_be_reexecuted": false,
        "source_hash": "42edb32e",
        "execution_start": 1620136261515,
        "execution_millis": 11,
        "deepnote_cell_type": "code"
      },
      "outputs": [
        {
          "output_type": "execute_result",
          "execution_count": 43,
          "data": {
            "text/plain": "(198900,)"
          },
          "metadata": {}
        }
      ],
      "execution_count": 43
    },
    {
      "cell_type": "code",
      "source": [
        "# df['Street Suffix'].dtypes\n",
        "df['Street Suffix'].apply(type).value_counts()"
      ],
      "metadata": {
        "tags": [],
        "cell_id": "00014-f0cdb14c-19a5-49ef-b46c-95c0b8630566",
        "deepnote_to_be_reexecuted": false,
        "source_hash": "6b42670d",
        "execution_start": 1620136232954,
        "execution_millis": 88,
        "deepnote_cell_type": "code"
      },
      "outputs": [
        {
          "output_type": "execute_result",
          "execution_count": 42,
          "data": {
            "text/plain": "<class 'str'>      196132\n<class 'float'>      2768\nName: Street Suffix, dtype: int64"
          },
          "metadata": {}
        }
      ],
      "execution_count": 42
    },
    {
      "cell_type": "code",
      "source": [
        "#list comprehension\n",
        "temp_list = ['Street Suffix', 'Permit Type Definition', 'Street Name','Description','Existing Construction Type Description','Proposed Construction Type Description','Neighborhoods - Analysis Boundaries']\n",
        "cat_vars  = [i.lower() for i in temp_list if i=='Street Name']\n",
        "cat_vars"
      ],
      "metadata": {
        "tags": [],
        "cell_id": "00018-9b6a5ece-cfc8-4d96-8eee-3042e431418a",
        "deepnote_to_be_reexecuted": false,
        "source_hash": "19917529",
        "execution_start": 1620138243938,
        "execution_millis": 26,
        "deepnote_cell_type": "code"
      },
      "outputs": [
        {
          "output_type": "execute_result",
          "execution_count": 71,
          "data": {
            "text/plain": "['street name']"
          },
          "metadata": {}
        }
      ],
      "execution_count": 71
    },
    {
      "cell_type": "code",
      "source": [
        "cat_vars  = ['Street Suffix', 'Permit Type Definition', 'Street Name','Description','Existing Construction Type Description\t','Proposed Construction Type Description','Neighborhoods - Analysis Boundaries\t']\n",
        "num_vars  = ['Permit Type', 'Block', 'Street Number', 'Plansets\t', 'Existing Construction Type','Proposed Construction Type','Zipcode','Supervisor District','Record ID']\n",
        "\n",
        "print(\"\\nNumerical features:\\n\", num_vars)\n",
        "print(\"\\nCategorical features:\\n\", cat_vars)"
      ],
      "metadata": {
        "tags": [],
        "cell_id": "00012-c73b2a7c-0645-46f8-b286-9bd877e96cae",
        "deepnote_to_be_reexecuted": false,
        "source_hash": "6e082c0",
        "execution_start": 1620136309502,
        "execution_millis": 14,
        "deepnote_cell_type": "code"
      },
      "outputs": [
        {
          "name": "stdout",
          "text": "\nNumerical features:\n ['Permit Type', 'Block', 'Street Number', 'Plansets\\t', 'Existing Construction Type', 'Proposed Construction Type', 'Zipcode', 'Supervisor District', 'Record ID']\n\nCategorical features:\n ['Street Suffix', 'Permit Type Definition', 'Street Name', 'Description', 'Existing Construction Type Description\\t', 'Proposed Construction Type Description', 'Neighborhoods - Analysis Boundaries\\t']\n",
          "output_type": "stream"
        }
      ],
      "execution_count": 44
    },
    {
      "cell_type": "code",
      "source": [
        "num_4_treeModels = pipeline.Pipeline(steps=[\n",
        "   ('imputer', impute.SimpleImputer(strategy='mean', add_indicator=False)), # mean, median\n",
        "])\n",
        "\n",
        "cat_4_treeModels = pipeline.Pipeline(steps=[\n",
        "   ('imputer', impute.SimpleImputer(strategy='constant', fill_value='missing')),\n",
        "    ('ordinal', preprocessing.OrdinalEncoder(handle_unknown='ignore'))\n",
        "])\n",
        "\n",
        "tree_prepro = compose.ColumnTransformer(transformers=[\n",
        "    ('num', num_4_treeModels, num_vars),\n",
        "    ('cat', cat_4_treeModels, cat_vars),\n",
        "], remainder='drop')\n",
        "\n",
        "tree_prepro"
      ],
      "metadata": {
        "tags": [],
        "cell_id": "00015-e2dbdcf7-6516-40a8-8949-d24ac441f935",
        "deepnote_to_be_reexecuted": false,
        "source_hash": "f8761610",
        "execution_start": 1620137869587,
        "execution_millis": 45,
        "deepnote_cell_type": "code"
      },
      "outputs": [
        {
          "output_type": "execute_result",
          "execution_count": 56,
          "data": {
            "text/plain": "ColumnTransformer(transformers=[('num',\n                                 Pipeline(steps=[('imputer', SimpleImputer())]),\n                                 ['Permit Type', 'Block', 'Street Number',\n                                  'Plansets\\t', 'Existing Construction Type',\n                                  'Proposed Construction Type', 'Zipcode',\n                                  'Supervisor District', 'Record ID']),\n                                ('cat',\n                                 Pipeline(steps=[('imputer',\n                                                  SimpleImputer(fill_value='missing',\n                                                                strategy='constant')),\n                                                 ('ordinal',\n                                                  OrdinalEncoder(handle_unknown='ignore'))]),\n                                 ['Street Suffix', 'Permit Type Definition',\n                                  'Street Name', 'Description',\n                                  'Existing Construction Type Description\\t',\n                                  'Proposed Construction Type Description',\n                                  'Neighborhoods - Analysis Boundaries\\t'])])",
            "text/html": "<style>div.sk-top-container {color: black;background-color: white;}div.sk-toggleable {background-color: white;}label.sk-toggleable__label {cursor: pointer;display: block;width: 100%;margin-bottom: 0;padding: 0.2em 0.3em;box-sizing: border-box;text-align: center;}div.sk-toggleable__content {max-height: 0;max-width: 0;overflow: hidden;text-align: left;background-color: #f0f8ff;}div.sk-toggleable__content pre {margin: 0.2em;color: black;border-radius: 0.25em;background-color: #f0f8ff;}input.sk-toggleable__control:checked~div.sk-toggleable__content {max-height: 200px;max-width: 100%;overflow: auto;}div.sk-estimator input.sk-toggleable__control:checked~label.sk-toggleable__label {background-color: #d4ebff;}div.sk-label input.sk-toggleable__control:checked~label.sk-toggleable__label {background-color: #d4ebff;}input.sk-hidden--visually {border: 0;clip: rect(1px 1px 1px 1px);clip: rect(1px, 1px, 1px, 1px);height: 1px;margin: -1px;overflow: hidden;padding: 0;position: absolute;width: 1px;}div.sk-estimator {font-family: monospace;background-color: #f0f8ff;margin: 0.25em 0.25em;border: 1px dotted black;border-radius: 0.25em;box-sizing: border-box;}div.sk-estimator:hover {background-color: #d4ebff;}div.sk-parallel-item::after {content: \"\";width: 100%;border-bottom: 1px solid gray;flex-grow: 1;}div.sk-label:hover label.sk-toggleable__label {background-color: #d4ebff;}div.sk-serial::before {content: \"\";position: absolute;border-left: 1px solid gray;box-sizing: border-box;top: 2em;bottom: 0;left: 50%;}div.sk-serial {display: flex;flex-direction: column;align-items: center;background-color: white;}div.sk-item {z-index: 1;}div.sk-parallel {display: flex;align-items: stretch;justify-content: center;background-color: white;}div.sk-parallel-item {display: flex;flex-direction: column;position: relative;background-color: white;}div.sk-parallel-item:first-child::after {align-self: flex-end;width: 50%;}div.sk-parallel-item:last-child::after {align-self: flex-start;width: 50%;}div.sk-parallel-item:only-child::after {width: 0;}div.sk-dashed-wrapped {border: 1px dashed gray;margin: 0.2em;box-sizing: border-box;padding-bottom: 0.1em;background-color: white;position: relative;}div.sk-label label {font-family: monospace;font-weight: bold;background-color: white;display: inline-block;line-height: 1.2em;}div.sk-label-container {position: relative;z-index: 2;text-align: center;}div.sk-container {display: inline-block;position: relative;}</style><div class=\"sk-top-container\"><div class=\"sk-container\"><div class=\"sk-item sk-dashed-wrapped\"><div class=\"sk-label-container\"><div class=\"sk-label sk-toggleable\"><input class=\"sk-toggleable__control sk-hidden--visually\" id=\"fe3b744f-d377-4224-b8ba-eb10f336fea9\" type=\"checkbox\" ><label class=\"sk-toggleable__label\" for=\"fe3b744f-d377-4224-b8ba-eb10f336fea9\">ColumnTransformer</label><div class=\"sk-toggleable__content\"><pre>ColumnTransformer(transformers=[('num',\n                                 Pipeline(steps=[('imputer', SimpleImputer())]),\n                                 ['Permit Type', 'Block', 'Street Number',\n                                  'Plansets\\t', 'Existing Construction Type',\n                                  'Proposed Construction Type', 'Zipcode',\n                                  'Supervisor District', 'Record ID']),\n                                ('cat',\n                                 Pipeline(steps=[('imputer',\n                                                  SimpleImputer(fill_value='missing',\n                                                                strategy='constant')),\n                                                 ('ordinal',\n                                                  OrdinalEncoder(handle_unknown='ignore'))]),\n                                 ['Street Suffix', 'Permit Type Definition',\n                                  'Street Name', 'Description',\n                                  'Existing Construction Type Description\\t',\n                                  'Proposed Construction Type Description',\n                                  'Neighborhoods - Analysis Boundaries\\t'])])</pre></div></div></div><div class=\"sk-parallel\"><div class=\"sk-parallel-item\"><div class=\"sk-item\"><div class=\"sk-label-container\"><div class=\"sk-label sk-toggleable\"><input class=\"sk-toggleable__control sk-hidden--visually\" id=\"c0d4c44a-d029-4adc-9131-e0d5a454aaa4\" type=\"checkbox\" ><label class=\"sk-toggleable__label\" for=\"c0d4c44a-d029-4adc-9131-e0d5a454aaa4\">num</label><div class=\"sk-toggleable__content\"><pre>['Permit Type', 'Block', 'Street Number', 'Plansets\\t', 'Existing Construction Type', 'Proposed Construction Type', 'Zipcode', 'Supervisor District', 'Record ID']</pre></div></div></div><div class=\"sk-serial\"><div class=\"sk-item\"><div class=\"sk-serial\"><div class=\"sk-item\"><div class=\"sk-estimator sk-toggleable\"><input class=\"sk-toggleable__control sk-hidden--visually\" id=\"011ef297-c4b6-41e2-a648-873910d14974\" type=\"checkbox\" ><label class=\"sk-toggleable__label\" for=\"011ef297-c4b6-41e2-a648-873910d14974\">SimpleImputer</label><div class=\"sk-toggleable__content\"><pre>SimpleImputer()</pre></div></div></div></div></div></div></div></div><div class=\"sk-parallel-item\"><div class=\"sk-item\"><div class=\"sk-label-container\"><div class=\"sk-label sk-toggleable\"><input class=\"sk-toggleable__control sk-hidden--visually\" id=\"ce9c9324-cdbe-4739-bd68-79546ff33263\" type=\"checkbox\" ><label class=\"sk-toggleable__label\" for=\"ce9c9324-cdbe-4739-bd68-79546ff33263\">cat</label><div class=\"sk-toggleable__content\"><pre>['Street Suffix', 'Permit Type Definition', 'Street Name', 'Description', 'Existing Construction Type Description\\t', 'Proposed Construction Type Description', 'Neighborhoods - Analysis Boundaries\\t']</pre></div></div></div><div class=\"sk-serial\"><div class=\"sk-item\"><div class=\"sk-serial\"><div class=\"sk-item\"><div class=\"sk-estimator sk-toggleable\"><input class=\"sk-toggleable__control sk-hidden--visually\" id=\"35685596-f783-4642-8ac4-4e81f415f684\" type=\"checkbox\" ><label class=\"sk-toggleable__label\" for=\"35685596-f783-4642-8ac4-4e81f415f684\">SimpleImputer</label><div class=\"sk-toggleable__content\"><pre>SimpleImputer(fill_value='missing', strategy='constant')</pre></div></div></div><div class=\"sk-item\"><div class=\"sk-estimator sk-toggleable\"><input class=\"sk-toggleable__control sk-hidden--visually\" id=\"273c687f-09ae-4cff-a99a-1406f07d45b1\" type=\"checkbox\" ><label class=\"sk-toggleable__label\" for=\"273c687f-09ae-4cff-a99a-1406f07d45b1\">OrdinalEncoder</label><div class=\"sk-toggleable__content\"><pre>OrdinalEncoder(handle_unknown='ignore')</pre></div></div></div></div></div></div></div></div></div></div></div></div>"
          },
          "metadata": {}
        }
      ],
      "execution_count": 56
    }
  ],
  "nbformat": 4,
  "nbformat_minor": 2,
  "metadata": {
    "orig_nbformat": 2,
    "deepnote": {
      "is_reactive": false
    },
    "deepnote_notebook_id": "85f32f81-d001-4555-8275-d1a52125745c",
    "deepnote_execution_queue": [],
    "kernelspec": {
      "name": "python379jvsc74a57bd03bdf658a3589a7fec615e49c34fea1ae8d54b9f47d3cbfb2eaab29174ceee87c",
      "display_name": "Python 3.7.9 64-bit"
    },
    "metadata": {
      "interpreter": {
        "hash": "3bdf658a3589a7fec615e49c34fea1ae8d54b9f47d3cbfb2eaab29174ceee87c"
      }
    }
  }
}