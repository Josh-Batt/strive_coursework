{
 "cells": [
  {
   "cell_type": "markdown",
   "metadata": {},
   "source": [
    "<div style=\"background:#222222; color:#ffffff; padding:20px\">\n",
    "    <h2 align=\"center\">Deep Learning Fundamentals</h2>\n",
    "    <h2 align=\"center\" style=\"color:#01ff84\">Multiclass Classification: MNIST</h2>\n",
    "<div>"
   ]
  },
  {
   "cell_type": "markdown",
   "metadata": {},
   "source": [
    "## Imports"
   ]
  },
  {
   "cell_type": "code",
   "execution_count": 1,
   "metadata": {
    "ExecuteTime": {
     "end_time": "2021-05-26T22:26:36.081105Z",
     "start_time": "2021-05-26T22:26:35.040138Z"
    }
   },
   "outputs": [],
   "source": [
    "%matplotlib inline\n",
    "%config InlineBackend.figure_format = 'retina'\n",
    "\n",
    "from collections import OrderedDict\n",
    "\n",
    "import numpy as np\n",
    "import matplotlib.pyplot as plt\n",
    "import time\n",
    "\n",
    "import torch\n",
    "from torch import nn\n",
    "from torch import optim\n",
    "import torch.nn.functional as F\n",
    "\n",
    "from torchvision import datasets, transforms"
   ]
  },
  {
   "cell_type": "markdown",
   "metadata": {},
   "source": [
    "## Auxliary plotting function"
   ]
  },
  {
   "cell_type": "code",
   "execution_count": 2,
   "metadata": {
    "ExecuteTime": {
     "end_time": "2021-05-26T22:26:37.473177Z",
     "start_time": "2021-05-26T22:26:37.465910Z"
    }
   },
   "outputs": [],
   "source": [
    "# https://discuss.pytorch.org/t/view-classify-in-module-helper/30279/6\n",
    "\n",
    "def view_classify(img, ps):\n",
    "    # ps. -> made up name\n",
    "    # .data.numpy -> Turns the data asigned to ps variable into a numpy array\n",
    "    # .squeeze() -> If shape of array is 1 then it squeezes that 1 out. You can specify axis        to squeeze\n",
    "    ps = ps.data.numpy().squeeze()\n",
    "\n",
    "    # fig -> How the plot should look\n",
    "    fig, (ax1, ax2) = plt.subplots(figsize=(6,9), ncols=2)\n",
    "\n",
    "    # Turn axis 1 into a reshaped image of 3 dimentions\n",
    "    ax1.imshow(img.resize_(1, 28, 28).numpy().squeeze())\n",
    "\n",
    "    # Labels axis 1 to off\n",
    "    ax1.axis('off')\n",
    "\n",
    "    # axis 2 is ploted at a bar chart\n",
    "    # (first axis is up to 10, second axis is the ps)\n",
    "    ax2.barh(np.arange(10), ps)\n",
    "\n",
    "    # axis 2 setting aspect ratio of image?\n",
    "    ax2.set_aspect(0.1)\n",
    "\n",
    "    # axis 2 set y axis limit\n",
    "    ax2.set_yticks(np.arange(10))\n",
    "\n",
    "    # axis 2 labels the y axis to the same as the limit\n",
    "    ax2.set_yticklabels(np.arange(10))\n",
    "\n",
    "    # Set axis 2 label\n",
    "    ax2.set_title('Class Probability')\n",
    "\n",
    "    # Axis 2 setting x axis limit??\n",
    "    ax2.set_xlim(0, 1.1)"
   ]
  },
  {
   "cell_type": "markdown",
   "metadata": {},
   "source": [
    "# Load MNIST Dataset\n",
    "First up, we need to get our dataset. This is provided through the `torchvision` package. The code below will download the MNIST dataset, then create training and test datasets for us. Don't worry too much about the details here, you'll learn more about this later."
   ]
  },
  {
   "cell_type": "code",
   "execution_count": 3,
   "metadata": {
    "ExecuteTime": {
     "end_time": "2021-05-26T22:26:38.402766Z",
     "start_time": "2021-05-26T22:26:38.298968Z"
    }
   },
   "outputs": [],
   "source": [
    "# Define a transform to normalize the data (Preprocessing)\n",
    "transform = transforms.Compose([transforms.ToTensor(), transforms.Normalize((0.5), (0.5)) ])\n",
    "\n",
    "# Download and load the training data\n",
    "trainset    = datasets.MNIST('MNIST_data/', download=True, train=True, transform=transform)\n",
    "trainloader = torch.utils.data.DataLoader(trainset, batch_size=16, shuffle=True)\n",
    "\n",
    "# Download and load the test data\n",
    "testset    = datasets.MNIST('MNIST_data/', download=True, train=False, transform=transform)\n",
    "testloader = torch.utils.data.DataLoader(testset, batch_size=16, shuffle=True)"
   ]
  },
  {
   "cell_type": "code",
   "execution_count": 4,
   "metadata": {
    "ExecuteTime": {
     "end_time": "2021-05-26T22:26:38.632988Z",
     "start_time": "2021-05-26T22:26:38.477558Z"
    }
   },
   "outputs": [],
   "source": [
    "dataiter = iter(trainloader)\n",
    "images, labels = dataiter.next()"
   ]
  },
  {
   "cell_type": "markdown",
   "metadata": {},
   "source": [
    "We have the training data loaded into `trainloader` and we make that an iterator with `iter(trainloader)`. We'd use this to loop through the dataset for training, but here I'm just grabbing the first batch so we can check out the data. We can see below that `images` is just a tensor with size (64, 1, 28, 28). So, 64 images per batch, 1 color channel, and 28x28 images."
   ]
  },
  {
   "cell_type": "code",
   "execution_count": 5,
   "metadata": {
    "ExecuteTime": {
     "end_time": "2021-05-26T22:26:39.407000Z",
     "start_time": "2021-05-26T22:26:39.265256Z"
    }
   },
   "outputs": [
    {
     "output_type": "display_data",
     "data": {
      "text/plain": "<Figure size 432x288 with 1 Axes>",
      "image/png": "[encoded data removed]"
     },
     "metadata": {
      "image/png": {
       "width": 251,
       "height": 248
      },
      "needs_background": "light"
     }
    }
   ],
   "source": [
    "# Shows the first image in the array. Squeezes out the 1 dimetionals\n",
    "# cmap -> Color map. Makes the color between 0 (black) and 1 (pure white)\n",
    "plt.imshow(images[1].numpy().squeeze(), cmap='Greys_r');"
   ]
  },
  {
   "cell_type": "markdown",
   "metadata": {},
   "source": [
    "## Building networks with PyTorch\n",
    "\n",
    "Here I'll use PyTorch to build a simple feedfoward network to classify the MNIST images. That is, the network will receive a digit image as input and predict the digit in the image.\n",
    "\n",
    "<img src=\"assets/mlp_mnist.png\" width=600px>\n",
    "\n",
    "To build a neural network with PyTorch, you use the `torch.nn` module. The network itself is a class inheriting from `torch.nn.Module`. You define each of the operations separately, like `nn.Linear(784, 128)` for a fully connected linear layer with 784 inputs and 128 units.\n",
    "\n",
    "The class needs to include a `forward` method that implements the forward pass through the network. In this method, you pass some input tensor `x` through each of the operations you defined earlier. The `torch.nn` module also has functional equivalents for things like ReLUs in `torch.nn.functional`. This module is usually imported as `F`. Then to use a ReLU activation on some layer (which is just a tensor), you'd do `F.relu(x)`. Below are a few different commonly used activation functions.\n",
    "\n",
    "<img src=\"assets/activation.png\" width=700px>\n",
    "\n",
    "So, for this network, I'll build it with three fully connected layers, then a softmax output for predicting classes. The softmax function is similar to the sigmoid in that it squashes inputs between 0 and 1, but it's also normalized so that all the values sum to one like a proper probability distribution."
   ]
  },
  {
   "cell_type": "code",
   "execution_count": 6,
   "metadata": {
    "ExecuteTime": {
     "end_time": "2021-05-26T22:26:39.961531Z",
     "start_time": "2021-05-26T22:26:39.946776Z"
    }
   },
   "outputs": [
    {
     "output_type": "execute_result",
     "data": {
      "text/plain": [
       "Network(\n",
       "  (fc1): Linear(in_features=784, out_features=32, bias=True)\n",
       "  (fc2): Linear(in_features=32, out_features=16, bias=True)\n",
       "  (fc3): Linear(in_features=16, out_features=10, bias=True)\n",
       ")"
      ]
     },
     "metadata": {},
     "execution_count": 6
    }
   ],
   "source": [
    "# nn -> PyTorch nerual network module\n",
    "class Network(nn.Module):\n",
    "    \n",
    "    # Defining the layers, 128, 64, 10 units each\n",
    "    def __init__(self):\n",
    "        super().__init__()\n",
    "        self.fc1 = nn.Linear(784, 32)\n",
    "        self.fc2 = nn.Linear(32, 16)\n",
    "        self.fc3 = nn.Linear(16, 10)\n",
    "        \n",
    "    # Forward pass through the network, returns the output logits\n",
    "    def forward(self, x):\n",
    "        x = self.fc1(x)\n",
    "        x = F.relu(x)\n",
    "        x = self.fc2(x)\n",
    "        x = F.relu(x)\n",
    "        x = self.fc3(x)\n",
    "        x = F.softmax(x, dim=1)\n",
    "        return x\n",
    "\n",
    "model = Network()\n",
    "model"
   ]
  },
  {
   "cell_type": "markdown",
   "metadata": {},
   "source": [
    "Why the input features are 784? Because the input images have size 28 pixels x 28 pixels for a total of 784 features. Since a Multilayer perceptron accepts only flatten inputs, we need to flatten a 28x28 grid into a 784 array."
   ]
  },
  {
   "cell_type": "markdown",
   "metadata": {},
   "source": [
    "### Sequential API\n",
    "PyTorch provides a convenient way to build networks like this where a tensor is passed sequentially through operations, `nn.Sequential` ([documentation](https://pytorch.org/docs/master/nn.html#torch.nn.Sequential)). Using this to build the equivalent network:"
   ]
  },
  {
   "cell_type": "code",
   "execution_count": 7,
   "metadata": {
    "ExecuteTime": {
     "end_time": "2021-05-26T22:26:41.213448Z",
     "start_time": "2021-05-26T22:26:41.205216Z"
    }
   },
   "outputs": [
    {
     "output_type": "stream",
     "name": "stdout",
     "text": [
      "Sequential(\n  (0): Linear(in_features=784, out_features=4, bias=True)\n  (1): ReLU()\n  (2): Linear(in_features=4, out_features=4, bias=True)\n  (3): ReLU()\n  (4): Linear(in_features=4, out_features=10, bias=True)\n  (5): Softmax(dim=1)\n)\n"
     ]
    }
   ],
   "source": [
    "# Hyperparameters for our network\n",
    "# Above line means the specific values we wish to set the parameters to\n",
    "input_size   = 784\n",
    "hidden_sizes = [4, 4]\n",
    "output_size   = 10\n",
    "\n",
    "# Build a feed-forward network\n",
    "# Feed-forward neural network is one that only moves forward, it doesnt check things agaisnt the previous nodes\n",
    "model = nn.Sequential(nn.Linear(input_size, hidden_sizes[0]),\n",
    "                      nn.ReLU(),\n",
    "                      nn.Linear(hidden_sizes[0], hidden_sizes[1]),\n",
    "                      nn.ReLU(),\n",
    "                      nn.Linear(hidden_sizes[1], output_size),\n",
    "                      nn.Softmax(dim=1))\n",
    "print(model)"
   ]
  },
  {
   "cell_type": "markdown",
   "metadata": {},
   "source": [
    "You can also pass in an `OrderedDict` to name the individual layers and operations. Note that a dictionary keys must be unique, so _each operation must have a different name_."
   ]
  },
  {
   "cell_type": "code",
   "execution_count": 8,
   "metadata": {
    "ExecuteTime": {
     "end_time": "2021-05-26T22:26:42.300216Z",
     "start_time": "2021-05-26T22:26:42.289009Z"
    }
   },
   "outputs": [
    {
     "output_type": "execute_result",
     "data": {
      "text/plain": [
       "Sequential(\n",
       "  (fc1): Linear(in_features=784, out_features=4, bias=True)\n",
       "  (relu1): ReLU()\n",
       "  (fc2): Linear(in_features=4, out_features=4, bias=True)\n",
       "  (relu2): ReLU()\n",
       "  (output): Linear(in_features=4, out_features=10, bias=True)\n",
       "  (softmax): Softmax(dim=1)\n",
       ")"
      ]
     },
     "metadata": {},
     "execution_count": 8
    }
   ],
   "source": [
    "# .Sequential -> Creates a sequental containter. Adds the modules in the order their loaded in\n",
    "# (OrderedDict) -> Orders the sequential container\n",
    "model = nn.Sequential(OrderedDict([\n",
    "          ('fc1',   nn.Linear(input_size, hidden_sizes[0])),\n",
    "          ('relu1', nn.ReLU()),\n",
    "          ('fc2',   nn.Linear(hidden_sizes[0], hidden_sizes[1])),\n",
    "          ('relu2', nn.ReLU()),\n",
    "          ('output', nn.Linear(hidden_sizes[1], output_size)),\n",
    "          ('softmax', nn.Softmax(dim=1))]))\n",
    "model"
   ]
  },
  {
   "cell_type": "markdown",
   "metadata": {},
   "source": [
    "### Initializing weights and biases\n",
    "\n",
    "The weights and such are automatically initialized for you, but it's possible to customize how they are initialized. The weights and biases are tensors attached to the layer you defined, you can get them with `model.fc1.weight` for instance."
   ]
  },
  {
   "cell_type": "code",
   "execution_count": 9,
   "metadata": {
    "ExecuteTime": {
     "end_time": "2021-05-26T22:26:42.972699Z",
     "start_time": "2021-05-26T22:26:42.963913Z"
    }
   },
   "outputs": [
    {
     "output_type": "stream",
     "name": "stdout",
     "text": [
      "Parameter containing:\ntensor([[ 0.0274,  0.0161,  0.0241,  ...,  0.0010, -0.0063,  0.0053],\n        [-0.0207,  0.0016,  0.0133,  ..., -0.0165, -0.0316,  0.0202],\n        [ 0.0156, -0.0311,  0.0209,  ...,  0.0042,  0.0019,  0.0022],\n        [ 0.0279, -0.0258,  0.0269,  ..., -0.0202, -0.0080,  0.0221]],\n       requires_grad=True)\nParameter containing:\ntensor([ 0.0308, -0.0149, -0.0131, -0.0038], requires_grad=True)\n"
     ]
    }
   ],
   "source": [
    "# Weights are how much weight each tethor is given, more weight means higher likley-hood thats the right answer\n",
    "print(model.fc1.weight)\n",
    "# Bias is the shift of the model towards the weights\n",
    "# Bias's here are autograd variables(auto filled)\n",
    "print(model.fc1.bias)"
   ]
  },
  {
   "cell_type": "markdown",
   "metadata": {},
   "source": [
    "For custom initialization, we want to modify these tensors in place. These are actually autograd *Variables*, so we need to get back the actual tensors with `model.fc1.weight.data`. Once we have the tensors, we can fill them with zeros (for biases) or random normal values."
   ]
  },
  {
   "cell_type": "code",
   "execution_count": 10,
   "metadata": {
    "ExecuteTime": {
     "end_time": "2021-05-26T22:26:43.889729Z",
     "start_time": "2021-05-26T22:26:43.883940Z"
    }
   },
   "outputs": [
    {
     "output_type": "execute_result",
     "data": {
      "text/plain": [
       "tensor([0., 0., 0., 0.])"
      ]
     },
     "metadata": {},
     "execution_count": 10
    }
   ],
   "source": [
    "# Set biases to all zeros\n",
    "model.fc1.bias.data.fill_(0)"
   ]
  },
  {
   "cell_type": "code",
   "execution_count": 11,
   "metadata": {
    "ExecuteTime": {
     "end_time": "2021-05-26T22:26:44.084097Z",
     "start_time": "2021-05-26T22:26:44.076738Z"
    }
   },
   "outputs": [
    {
     "output_type": "execute_result",
     "data": {
      "text/plain": [
       "tensor([[-0.0005,  0.0157,  0.0136,  ...,  0.0240,  0.0032,  0.0107],\n",
       "        [ 0.0018,  0.0072, -0.0021,  ...,  0.0212,  0.0032,  0.0146],\n",
       "        [ 0.0152, -0.0040, -0.0032,  ...,  0.0077, -0.0030,  0.0082],\n",
       "        [-0.0099,  0.0095, -0.0188,  ...,  0.0016, -0.0148, -0.0202]])"
      ]
     },
     "metadata": {},
     "execution_count": 11
    }
   ],
   "source": [
    "# sample from random normal with standard dev = 0.01\n",
    "model.fc1.weight.data.normal_(std=0.01)"
   ]
  },
  {
   "cell_type": "markdown",
   "metadata": {},
   "source": [
    "### STEP 1: Forward pass\n",
    "\n",
    "Now that we have a network, let's see what happens when we pass in an image. This is called the forward pass. We're going to convert the image data into a tensor, then pass it through the operations defined by the network architecture."
   ]
  },
  {
   "cell_type": "code",
   "execution_count": 12,
   "metadata": {
    "ExecuteTime": {
     "end_time": "2021-05-26T22:26:44.506324Z",
     "start_time": "2021-05-26T22:26:44.491847Z"
    }
   },
   "outputs": [],
   "source": [
    "# Grab some data \n",
    "\n",
    "# iter -> iterates the dataset if its sequnetial\n",
    "dataiter = iter(trainloader)\n",
    "# image and label are assositates to the data in order using .next()\n",
    "images, labels = dataiter.next()"
   ]
  },
  {
   "cell_type": "code",
   "execution_count": 13,
   "metadata": {
    "ExecuteTime": {
     "end_time": "2021-05-26T22:26:44.596541Z",
     "start_time": "2021-05-26T22:26:44.594169Z"
    }
   },
   "outputs": [
    {
     "output_type": "execute_result",
     "data": {
      "text/plain": [
       "torch.Size([16, 1, 28, 28])"
      ]
     },
     "metadata": {},
     "execution_count": 13
    }
   ],
   "source": [
    "images.shape"
   ]
  },
  {
   "cell_type": "code",
   "execution_count": 14,
   "metadata": {
    "ExecuteTime": {
     "end_time": "2021-05-26T22:26:44.851894Z",
     "start_time": "2021-05-26T22:26:44.845888Z"
    }
   },
   "outputs": [
    {
     "output_type": "execute_result",
     "data": {
      "text/plain": [
       "Sequential(\n",
       "  (fc1): Linear(in_features=784, out_features=4, bias=True)\n",
       "  (relu1): ReLU()\n",
       "  (fc2): Linear(in_features=4, out_features=4, bias=True)\n",
       "  (relu2): ReLU()\n",
       "  (output): Linear(in_features=4, out_features=10, bias=True)\n",
       "  (softmax): Softmax(dim=1)\n",
       ")"
      ]
     },
     "metadata": {},
     "execution_count": 14
    }
   ],
   "source": [
    "model"
   ]
  },
  {
   "cell_type": "code",
   "execution_count": 15,
   "metadata": {
    "ExecuteTime": {
     "end_time": "2021-05-26T22:26:46.121246Z",
     "start_time": "2021-05-26T22:26:46.112022Z"
    }
   },
   "outputs": [
    {
     "output_type": "execute_result",
     "data": {
      "text/plain": [
       "tensor([[[-1., -1., -1.,  ..., -1., -1., -1.]],\n",
       "\n",
       "        [[-1., -1., -1.,  ..., -1., -1., -1.]],\n",
       "\n",
       "        [[-1., -1., -1.,  ..., -1., -1., -1.]],\n",
       "\n",
       "        ...,\n",
       "\n",
       "        [[-1., -1., -1.,  ..., -1., -1., -1.]],\n",
       "\n",
       "        [[-1., -1., -1.,  ..., -1., -1., -1.]],\n",
       "\n",
       "        [[-1., -1., -1.,  ..., -1., -1., -1.]]])"
      ]
     },
     "metadata": {},
     "execution_count": 15
    }
   ],
   "source": [
    "# Resize images into a 1D vector, new shape is (batch size, color channels, image pixels) \n",
    "images.resize_(images.shape[0], 1, 784)\n",
    "# or images.resize_(images.shape[0], 1, 784) to not automatically get batch size"
   ]
  },
  {
   "cell_type": "code",
   "execution_count": 16,
   "metadata": {
    "ExecuteTime": {
     "end_time": "2021-05-26T22:26:46.519895Z",
     "start_time": "2021-05-26T22:26:46.514137Z"
    }
   },
   "outputs": [
    {
     "output_type": "execute_result",
     "data": {
      "text/plain": [
       "torch.Size([1, 784])"
      ]
     },
     "metadata": {},
     "execution_count": 16
    }
   ],
   "source": [
    "img_idx = 0\n",
    "images[img_idx,:].shape"
   ]
  },
  {
   "cell_type": "code",
   "execution_count": 17,
   "metadata": {
    "ExecuteTime": {
     "end_time": "2021-05-26T22:26:47.945952Z",
     "start_time": "2021-05-26T22:26:47.888846Z"
    }
   },
   "outputs": [],
   "source": [
    "# Forward pass through the network\n",
    "img_idx = 0\n",
    "ps = model(images[img_idx,:])"
   ]
  },
  {
   "cell_type": "code",
   "execution_count": 18,
   "metadata": {
    "ExecuteTime": {
     "end_time": "2021-05-26T22:26:50.561845Z",
     "start_time": "2021-05-26T22:26:50.411449Z"
    }
   },
   "outputs": [
    {
     "output_type": "display_data",
     "data": {
      "text/plain": "<Figure size 432x648 with 2 Axes>",
      "image/png": "[encoded data removed]"
     },
     "metadata": {
      "image/png": {
       "width": 349,
       "height": 195
      },
      "needs_background": "light"
     }
    }
   ],
   "source": [
    "img = images[img_idx]\n",
    "view_classify(img.view(1, 28, 28), ps)"
   ]
  },
  {
   "cell_type": "markdown",
   "metadata": {},
   "source": [
    "As you can see above, our network has basically no idea what this digit is. It's because we haven't trained it yet, all the weights are random!"
   ]
  },
  {
   "cell_type": "markdown",
   "metadata": {},
   "source": [
    "# Training Neural Networks\n",
    "\n",
    "The network we built isn't so smart, it doesn't know anything about our handwritten digits. Neural networks with non-linear activations work like universal function approximators. There is some function that maps your input to the output. For example, images of handwritten digits to class probabilities. The power of neural networks is that we can train them to approximate this function, and basically any function given enough data and compute time.\n",
    "\n",
    "<img src=\"assets/function_approx.png\" width=500px>\n",
    "\n",
    "At first the network is naive, it doesn't know the function mapping the inputs to the outputs. We train the network by showing it examples of real data, then adjusting the network parameters such that it approximates this function.\n",
    "\n",
    "To find these parameters, we need to know how poorly the network is predicting the real outputs. For this we calculate a **loss function** (also called the cost), a measure of our prediction error. For example, the mean squared loss is often used in regression and binary classification problems\n",
    "\n",
    "$$\n",
    "\\ell = \\frac{1}{2n}\\sum_i^n{\\left(y_i - \\hat{y}_i\\right)^2}\n",
    "$$\n",
    "\n",
    "where $n$ is the number of training examples, $y_i$ are the true labels, and $\\hat{y}_i$ are the predicted labels.\n",
    "\n",
    "By minimizing this loss with respect to the network parameters, we can find configurations where the loss is at a minimum and the network is able to predict the correct labels with high accuracy. We find this minimum using a process called **gradient descent**. The gradient is the slope of the loss function and points in the direction of fastest change. To get to the minimum in the least amount of time, we then want to follow the gradient (downwards). You can think of this like descending a mountain by following the steepest slope to the base.\n",
    "\n",
    "<img src='assets/gradient_descent.png' width=350px>"
   ]
  },
  {
   "cell_type": "markdown",
   "metadata": {},
   "source": [
    "## Backpropagation\n",
    "\n",
    "For single layer networks, gradient descent is simple to implement. However, it's more complicated for deeper, multilayer neural networks like the one we've built. Complicated enough that it took about 30 years before researchers figured out how to train multilayer networks, although it's straightforward once you learn about it. \n",
    "\n",
    "This is done through **backpropagation** which is really just an application of the chain rule from calculus. It's easiest to understand if we convert a two layer network into a graph representation.\n",
    "\n",
    "<img src='assets/w1_backprop_graph.png' width=400px>\n",
    "\n",
    "In the forward pass through the network, our data and operations go from right to left here. To train the weights with gradient descent, we propagate the gradient of the cost backwards through the network. Mathematically, this is really just calculating the gradient of the loss with respect to the weights using the chain rule.\n",
    "\n",
    "$$\n",
    "\\frac{\\partial \\ell}{\\partial w_1} = \\frac{\\partial l_1}{\\partial w_1} \\frac{\\partial s}{\\partial l_1} \\frac{\\partial l_2}{\\partial s} \\frac{\\partial \\ell}{\\partial l_2}\n",
    "$$\n",
    "\n",
    "We update our weights using this gradient with some learning rate $\\alpha$. \n",
    "\n",
    "$$\n",
    "w^\\prime = w - \\alpha \\frac{\\partial \\ell}{\\partial w}\n",
    "$$\n",
    "\n",
    "The learning rate is set such that the weight update steps are small enough that the iterative method settles in a minimum.\n",
    "\n",
    "The first thing we need to do for training is define our loss function. In PyTorch, you'll usually see this as `criterion`. Here we're using softmax output, so we want to use `criterion = nn.CrossEntropyLoss()` as our loss. Later when training, you use `loss = criterion(output, targets)` to calculate the actual loss.\n",
    "\n",
    "We also need to define the optimizer we're using, SGD or Adam, or something along those lines. Here I'll just use SGD with `torch.optim.SGD`, passing in the network parameters and the learning rate."
   ]
  },
  {
   "cell_type": "markdown",
   "metadata": {},
   "source": [
    "## Autograd\n",
    "\n",
    "Torch provides a module, `autograd`, for automatically calculating the gradient of tensors. It does this by keeping track of operations performed on tensors. To make sure PyTorch keeps track of operations on a tensor and calculates the gradients, you need to set `requires_grad` on a tensor. You can do this at creation with the `requires_grad` keyword, or at any time with `x.requires_grad_(True)`.\n",
    "\n",
    "You can turn off gradients for a block of code with the `torch.no_grad()` content:\n",
    "```python\n",
    "x = torch.zeros(1, requires_grad=True)\n",
    ">>> with torch.no_grad():\n",
    "...     y = x * 2\n",
    ">>> y.requires_grad\n",
    "False\n",
    "```\n",
    "\n",
    "Also, you can turn on or off gradients altogether with `torch.set_grad_enabled(True|False)`.\n",
    "\n",
    "The gradients are computed with respect to some variable `z` with `z.backward()`. This does a backward pass through the operations that created `z`."
   ]
  },
  {
   "cell_type": "code",
   "execution_count": 19,
   "metadata": {
    "ExecuteTime": {
     "end_time": "2021-05-26T22:26:52.867509Z",
     "start_time": "2021-05-26T22:26:52.860629Z"
    }
   },
   "outputs": [
    {
     "output_type": "stream",
     "name": "stdout",
     "text": [
      "tensor([[-0.3152, -0.2225],\n        [-0.4654, -1.4098]], requires_grad=True)\n"
     ]
    }
   ],
   "source": [
    "# KEY is requires_grad = True -> Stores gradience of the variable\n",
    "x = torch.randn(2,2, requires_grad=True)\n",
    "print(x)"
   ]
  },
  {
   "cell_type": "code",
   "execution_count": 20,
   "metadata": {
    "ExecuteTime": {
     "end_time": "2021-05-26T22:26:53.383436Z",
     "start_time": "2021-05-26T22:26:53.375536Z"
    }
   },
   "outputs": [
    {
     "output_type": "stream",
     "name": "stdout",
     "text": [
      "tensor([[0.0994, 0.0495],\n        [0.2166, 1.9876]], grad_fn=<PowBackward0>)\n"
     ]
    }
   ],
   "source": [
    "# Why do we square it? to make values positive? -> Just an example. Dosen't matter\n",
    "y = x**2\n",
    "print(y)"
   ]
  },
  {
   "cell_type": "markdown",
   "metadata": {},
   "source": [
    "Below we can see the operation that created `y`, a power operation `PowBackward0`."
   ]
  },
  {
   "cell_type": "code",
   "execution_count": 21,
   "metadata": {
    "ExecuteTime": {
     "end_time": "2021-05-26T22:26:53.870654Z",
     "start_time": "2021-05-26T22:26:53.867424Z"
    }
   },
   "outputs": [
    {
     "output_type": "stream",
     "name": "stdout",
     "text": [
      "<PowBackward0 object at 0x0000015EFE2AD8C8>\n"
     ]
    }
   ],
   "source": [
    "## grad_fn shows the function that generated this variable\n",
    "print(y.grad_fn)"
   ]
  },
  {
   "cell_type": "markdown",
   "metadata": {},
   "source": [
    "The autgrad module keeps track of these operations and knows how to calculate the gradient for each one. In this way, it's able to calculate the gradients for a chain of operations, with respect to any one tensor. Let's reduce the tensor `y` to a scalar value, the mean."
   ]
  },
  {
   "cell_type": "code",
   "execution_count": 22,
   "metadata": {
    "ExecuteTime": {
     "end_time": "2021-05-26T22:26:54.831912Z",
     "start_time": "2021-05-26T22:26:54.824631Z"
    }
   },
   "outputs": [
    {
     "output_type": "stream",
     "name": "stdout",
     "text": [
      "tensor(0.5883, grad_fn=<MeanBackward0>)\n"
     ]
    }
   ],
   "source": [
    "z = y.mean()\n",
    "print(z)"
   ]
  },
  {
   "cell_type": "markdown",
   "metadata": {},
   "source": [
    "You can check the gradients for `x` and `y` but they are empty currently."
   ]
  },
  {
   "cell_type": "code",
   "execution_count": 23,
   "metadata": {
    "ExecuteTime": {
     "end_time": "2021-05-26T22:26:55.546143Z",
     "start_time": "2021-05-26T22:26:55.541213Z"
    }
   },
   "outputs": [
    {
     "output_type": "stream",
     "name": "stdout",
     "text": [
      "None\n"
     ]
    }
   ],
   "source": [
    "# x has no gradient becuase you need to apply the .backward method to it\n",
    "print(x.grad)"
   ]
  },
  {
   "cell_type": "markdown",
   "metadata": {},
   "source": [
    "To calculate the gradients, you need to run the `.backward` method on a Variable, `z` for example. This will calculate the gradient for `z` with respect to `x`\n",
    "\n",
    "$$\n",
    "\\frac{\\partial z}{\\partial x} = \\frac{\\partial}{\\partial x}\\left[\\frac{1}{n}\\sum_i^n x_i^2\\right] = \\frac{x}{2}\n",
    "$$"
   ]
  },
  {
   "cell_type": "code",
   "execution_count": 24,
   "metadata": {
    "ExecuteTime": {
     "end_time": "2021-05-26T22:26:56.607560Z",
     "start_time": "2021-05-26T22:26:56.594993Z"
    }
   },
   "outputs": [
    {
     "output_type": "stream",
     "name": "stdout",
     "text": [
      "tensor([[-0.1576, -0.1112],\n        [-0.2327, -0.7049]])\ntensor([[-0.1576, -0.1112],\n        [-0.2327, -0.7049]], grad_fn=<DivBackward0>)\n"
     ]
    }
   ],
   "source": [
    "z.backward()\n",
    "print(x.grad)\n",
    "print(x/2)"
   ]
  },
  {
   "cell_type": "markdown",
   "metadata": {},
   "source": [
    "These gradients calculations are particularly useful for neural networks. For training we need the gradients of the weights with respect to the cost. With PyTorch, we run data forward through the network to calculate the cost, then, go backwards to calculate the gradients with respect to the cost. Once we have the gradients we can make a gradient descent step. "
   ]
  },
  {
   "cell_type": "markdown",
   "metadata": {},
   "source": [
    "I'll build a network with `nn.Sequential` here. Only difference from the last part is I'm not actually using softmax on the output, but instead just using the raw output from the last layer. This is because the output from softmax is a probability distribution. Often, the output will have values really close to zero or really close to one. Due to [inaccuracies with representing numbers as floating points](https://docs.python.org/3/tutorial/floatingpoint.html), computations with a softmax output can lose accuracy and become unstable. To get around this, we'll use the raw output, called the **logits**, to calculate the loss."
   ]
  },
  {
   "cell_type": "code",
   "execution_count": 25,
   "metadata": {
    "ExecuteTime": {
     "end_time": "2021-05-26T22:26:56.944759Z",
     "start_time": "2021-05-26T22:26:56.936939Z"
    }
   },
   "outputs": [],
   "source": [
    "# Hyperparameters for our network\n",
    "input_size   = 784\n",
    "hidden_sizes = [128, 64]\n",
    "output_size  = 10\n",
    "\n",
    "# Build a feed-forward network\n",
    "model = nn.Sequential(OrderedDict([\n",
    "          ('fc1', nn.Linear(input_size, hidden_sizes[0])),\n",
    "          ('relu1', nn.ReLU()),\n",
    "          ('fc2', nn.Linear(hidden_sizes[0], hidden_sizes[1])),\n",
    "          ('relu2', nn.ReLU()),\n",
    "          ('logits', nn.Linear(hidden_sizes[1], output_size))]))"
   ]
  },
  {
   "cell_type": "markdown",
   "metadata": {},
   "source": [
    "## Training the network!\n",
    "\n",
    "The first thing we need to do for training is define our loss function. In PyTorch, you'll usually see this as `criterion`. Here we're using softmax output, so we want to use `criterion = nn.CrossEntropyLoss()` as our loss. Later when training, you use `loss = criterion(output, targets)` to calculate the actual loss.\n",
    "\n",
    "We also need to define the optimizer we're using, SGD or Adam, or something along those lines. Here I'll just use SGD with `torch.optim.SGD`, passing in the network parameters and the learning rate."
   ]
  },
  {
   "cell_type": "code",
   "execution_count": 26,
   "metadata": {
    "ExecuteTime": {
     "end_time": "2021-05-26T22:26:57.317614Z",
     "start_time": "2021-05-26T22:26:57.313022Z"
    }
   },
   "outputs": [],
   "source": [
    "criterion = nn.CrossEntropyLoss()\n",
    "optimizer = optim.SGD(model.parameters(), lr=0.01)"
   ]
  },
  {
   "cell_type": "markdown",
   "metadata": {},
   "source": [
    "First, let's consider just one learning step before looping through all the data. The general process with PyTorch:\n",
    "\n",
    "* Make a forward pass through the network to get the logits \n",
    "* Use the logits to calculate the loss\n",
    "* Perform a backward pass through the network with `loss.backward()` to calculate the gradients\n",
    "* Take a step with the optimizer to update the weights\n",
    "\n",
    "Below I'll go through one training step and print out the weights and gradients so you can see how it changes."
   ]
  },
  {
   "cell_type": "code",
   "execution_count": 27,
   "metadata": {
    "ExecuteTime": {
     "end_time": "2021-05-26T22:27:07.408433Z",
     "start_time": "2021-05-26T22:27:07.373358Z"
    }
   },
   "outputs": [
    {
     "output_type": "stream",
     "name": "stdout",
     "text": [
      "Initial weights -  Parameter containing:\ntensor([[-0.0021,  0.0075,  0.0351,  ...,  0.0225, -0.0346,  0.0037],\n        [ 0.0034, -0.0340, -0.0104,  ...,  0.0342,  0.0103,  0.0355],\n        [ 0.0076, -0.0091,  0.0301,  ..., -0.0324, -0.0306, -0.0035],\n        ...,\n        [-0.0230,  0.0253, -0.0087,  ..., -0.0035,  0.0245,  0.0151],\n        [ 0.0134,  0.0157, -0.0205,  ...,  0.0333,  0.0111,  0.0249],\n        [ 0.0056, -0.0154, -0.0062,  ...,  0.0170, -0.0173, -0.0086]],\n       requires_grad=True)\nGradient - tensor([[0.0000, 0.0000, 0.0000,  ..., 0.0000, 0.0000, 0.0000],\n        [0.0029, 0.0029, 0.0029,  ..., 0.0029, 0.0029, 0.0029],\n        [0.0009, 0.0009, 0.0009,  ..., 0.0009, 0.0009, 0.0009],\n        ...,\n        [0.0058, 0.0058, 0.0058,  ..., 0.0058, 0.0058, 0.0058],\n        [0.0037, 0.0037, 0.0037,  ..., 0.0037, 0.0037, 0.0037],\n        [0.0048, 0.0048, 0.0048,  ..., 0.0048, 0.0048, 0.0048]])\n"
     ]
    }
   ],
   "source": [
    "print('Initial weights - ', model.fc1.weight)\n",
    "\n",
    "images, labels = next(iter(trainloader))\n",
    "images.resize_(16, 784)\n",
    "\n",
    "# Clear the gradients, do this because gradients are accumulated\n",
    "optimizer.zero_grad()\n",
    "\n",
    "# Forward pass, then backward pass, then update weights\n",
    "output = model.forward(images)\n",
    "loss = criterion(output, labels)\n",
    "loss.backward()\n",
    "print('Gradient -', model.fc1.weight.grad)\n",
    "optimizer.step()"
   ]
  },
  {
   "cell_type": "code",
   "execution_count": 28,
   "metadata": {
    "ExecuteTime": {
     "end_time": "2021-05-26T22:27:07.915247Z",
     "start_time": "2021-05-26T22:27:07.908155Z"
    }
   },
   "outputs": [
    {
     "output_type": "stream",
     "name": "stdout",
     "text": [
      "Updated weights -  Parameter containing:\ntensor([[-0.0021,  0.0075,  0.0351,  ...,  0.0225, -0.0346,  0.0037],\n        [ 0.0034, -0.0340, -0.0105,  ...,  0.0341,  0.0103,  0.0355],\n        [ 0.0076, -0.0091,  0.0301,  ..., -0.0324, -0.0307, -0.0035],\n        ...,\n        [-0.0231,  0.0253, -0.0087,  ..., -0.0036,  0.0245,  0.0151],\n        [ 0.0133,  0.0157, -0.0205,  ...,  0.0333,  0.0110,  0.0249],\n        [ 0.0056, -0.0154, -0.0062,  ...,  0.0169, -0.0173, -0.0087]],\n       requires_grad=True)\n"
     ]
    }
   ],
   "source": [
    "print('Updated weights - ', model.fc1.weight)"
   ]
  },
  {
   "cell_type": "markdown",
   "metadata": {},
   "source": [
    "### Training for real\n",
    "\n",
    "Now we'll put this algorithm into a loop so we can go through all the images. This is fairly straightforward. We'll loop through the mini-batches in our dataset, pass the data through the network to calculate the losses, get the gradients, then run the optimizer."
   ]
  },
  {
   "cell_type": "code",
   "execution_count": 29,
   "metadata": {
    "ExecuteTime": {
     "end_time": "2021-05-26T22:27:08.816179Z",
     "start_time": "2021-05-26T22:27:08.812807Z"
    }
   },
   "outputs": [],
   "source": [
    "optimizer = optim.SGD(model.parameters(), lr=0.003)"
   ]
  },
  {
   "cell_type": "code",
   "execution_count": 30,
   "metadata": {
    "ExecuteTime": {
     "end_time": "2021-05-26T22:27:36.083537Z",
     "start_time": "2021-05-26T22:27:09.280769Z"
    }
   },
   "outputs": [
    {
     "output_type": "stream",
     "name": "stdout",
     "text": [
      "Epoch: 1/3\n",
      "\tIteration: 0\t Loss: 0.0583\n",
      "\tIteration: 40\t Loss: 2.2894\n",
      "\tIteration: 80\t Loss: 2.2737\n",
      "\tIteration: 120\t Loss: 2.2589\n",
      "\tIteration: 160\t Loss: 2.2426\n",
      "\tIteration: 200\t Loss: 2.2156\n",
      "\tIteration: 240\t Loss: 2.1891\n",
      "\tIteration: 280\t Loss: 2.1571\n",
      "\tIteration: 320\t Loss: 2.1280\n",
      "\tIteration: 360\t Loss: 2.0704\n",
      "\tIteration: 400\t Loss: 2.0509\n",
      "\tIteration: 440\t Loss: 2.0171\n",
      "\tIteration: 480\t Loss: 1.9514\n",
      "\tIteration: 520\t Loss: 1.9161\n",
      "\tIteration: 560\t Loss: 1.8674\n",
      "\tIteration: 600\t Loss: 1.8138\n",
      "\tIteration: 640\t Loss: 1.7541\n",
      "\tIteration: 680\t Loss: 1.6656\n",
      "\tIteration: 720\t Loss: 1.6216\n",
      "\tIteration: 760\t Loss: 1.5214\n",
      "\tIteration: 800\t Loss: 1.4867\n",
      "\tIteration: 840\t Loss: 1.4048\n",
      "\tIteration: 880\t Loss: 1.3826\n",
      "\tIteration: 920\t Loss: 1.2538\n",
      "\tIteration: 960\t Loss: 1.2048\n",
      "\tIteration: 1000\t Loss: 1.1993\n",
      "\tIteration: 1040\t Loss: 1.1577\n",
      "\tIteration: 1080\t Loss: 1.0922\n",
      "\tIteration: 1120\t Loss: 1.0561\n",
      "\tIteration: 1160\t Loss: 1.0287\n",
      "\tIteration: 1200\t Loss: 0.9658\n",
      "\tIteration: 1240\t Loss: 0.9156\n",
      "\tIteration: 1280\t Loss: 0.8322\n",
      "\tIteration: 1320\t Loss: 0.8323\n",
      "\tIteration: 1360\t Loss: 0.8040\n",
      "\tIteration: 1400\t Loss: 0.7583\n",
      "\tIteration: 1440\t Loss: 0.7700\n",
      "\tIteration: 1480\t Loss: 0.7248\n",
      "\tIteration: 1520\t Loss: 0.7547\n",
      "\tIteration: 1560\t Loss: 0.7008\n",
      "\tIteration: 1600\t Loss: 0.6966\n",
      "\tIteration: 1640\t Loss: 0.6998\n",
      "\tIteration: 1680\t Loss: 0.6573\n",
      "\tIteration: 1720\t Loss: 0.6820\n",
      "\tIteration: 1760\t Loss: 0.6833\n",
      "\tIteration: 1800\t Loss: 0.6367\n",
      "\tIteration: 1840\t Loss: 0.6083\n",
      "\tIteration: 1880\t Loss: 0.5999\n",
      "\tIteration: 1920\t Loss: 0.6301\n",
      "\tIteration: 1960\t Loss: 0.6081\n",
      "\tIteration: 2000\t Loss: 0.5599\n",
      "\tIteration: 2040\t Loss: 0.5572\n",
      "\tIteration: 2080\t Loss: 0.5961\n",
      "\tIteration: 2120\t Loss: 0.5099\n",
      "\tIteration: 2160\t Loss: 0.5682\n",
      "\tIteration: 2200\t Loss: 0.5183\n",
      "\tIteration: 2240\t Loss: 0.5355\n",
      "\tIteration: 2280\t Loss: 0.5835\n",
      "\tIteration: 2320\t Loss: 0.5244\n",
      "\tIteration: 2360\t Loss: 0.5109\n",
      "\tIteration: 2400\t Loss: 0.5594\n",
      "\tIteration: 2440\t Loss: 0.5143\n",
      "\tIteration: 2480\t Loss: 0.4282\n",
      "\tIteration: 2520\t Loss: 0.4672\n",
      "\tIteration: 2560\t Loss: 0.4950\n",
      "\tIteration: 2600\t Loss: 0.4369\n",
      "\tIteration: 2640\t Loss: 0.5058\n",
      "\tIteration: 2680\t Loss: 0.4958\n",
      "\tIteration: 2720\t Loss: 0.4676\n",
      "\tIteration: 2760\t Loss: 0.4756\n",
      "\tIteration: 2800\t Loss: 0.4630\n",
      "\tIteration: 2840\t Loss: 0.4833\n",
      "\tIteration: 2880\t Loss: 0.4783\n",
      "\tIteration: 2920\t Loss: 0.4724\n",
      "\tIteration: 2960\t Loss: 0.4352\n",
      "\tIteration: 3000\t Loss: 0.4902\n",
      "\tIteration: 3040\t Loss: 0.4404\n",
      "\tIteration: 3080\t Loss: 0.5186\n",
      "\tIteration: 3120\t Loss: 0.4600\n",
      "\tIteration: 3160\t Loss: 0.4868\n",
      "\tIteration: 3200\t Loss: 0.4154\n",
      "\tIteration: 3240\t Loss: 0.4077\n",
      "\tIteration: 3280\t Loss: 0.4390\n",
      "\tIteration: 3320\t Loss: 0.4307\n",
      "\tIteration: 3360\t Loss: 0.4765\n",
      "\tIteration: 3400\t Loss: 0.4206\n",
      "\tIteration: 3440\t Loss: 0.4070\n",
      "\tIteration: 3480\t Loss: 0.4600\n",
      "\tIteration: 3520\t Loss: 0.4229\n",
      "\tIteration: 3560\t Loss: 0.4050\n",
      "\tIteration: 3600\t Loss: 0.4454\n",
      "\tIteration: 3640\t Loss: 0.4814\n",
      "\tIteration: 3680\t Loss: 0.4578\n",
      "\tIteration: 3720\t Loss: 0.3620\n",
      "Epoch: 2/3\n",
      "\tIteration: 0\t Loss: 0.0199\n",
      "\tIteration: 40\t Loss: 0.3901\n",
      "\tIteration: 80\t Loss: 0.3896\n",
      "\tIteration: 120\t Loss: 0.3967\n",
      "\tIteration: 160\t Loss: 0.3859\n",
      "\tIteration: 200\t Loss: 0.4734\n",
      "\tIteration: 240\t Loss: 0.3631\n",
      "\tIteration: 280\t Loss: 0.3769\n",
      "\tIteration: 320\t Loss: 0.3740\n",
      "\tIteration: 360\t Loss: 0.4508\n",
      "\tIteration: 400\t Loss: 0.3816\n",
      "\tIteration: 440\t Loss: 0.3785\n",
      "\tIteration: 480\t Loss: 0.4142\n",
      "\tIteration: 520\t Loss: 0.4016\n",
      "\tIteration: 560\t Loss: 0.4013\n",
      "\tIteration: 600\t Loss: 0.3725\n",
      "\tIteration: 640\t Loss: 0.3217\n",
      "\tIteration: 680\t Loss: 0.3854\n",
      "\tIteration: 720\t Loss: 0.4164\n",
      "\tIteration: 760\t Loss: 0.3937\n",
      "\tIteration: 800\t Loss: 0.4533\n",
      "\tIteration: 840\t Loss: 0.3760\n",
      "\tIteration: 880\t Loss: 0.3316\n",
      "\tIteration: 920\t Loss: 0.3584\n",
      "\tIteration: 960\t Loss: 0.4259\n",
      "\tIteration: 1000\t Loss: 0.4033\n",
      "\tIteration: 1040\t Loss: 0.3370\n",
      "\tIteration: 1080\t Loss: 0.3481\n",
      "\tIteration: 1120\t Loss: 0.3809\n",
      "\tIteration: 1160\t Loss: 0.3493\n",
      "\tIteration: 1200\t Loss: 0.3464\n",
      "\tIteration: 1240\t Loss: 0.3944\n",
      "\tIteration: 1280\t Loss: 0.3463\n",
      "\tIteration: 1320\t Loss: 0.3380\n",
      "\tIteration: 1360\t Loss: 0.4005\n",
      "\tIteration: 1400\t Loss: 0.4093\n",
      "\tIteration: 1440\t Loss: 0.4077\n",
      "\tIteration: 1480\t Loss: 0.3849\n",
      "\tIteration: 1520\t Loss: 0.3344\n",
      "\tIteration: 1560\t Loss: 0.3893\n",
      "\tIteration: 1600\t Loss: 0.3747\n",
      "\tIteration: 1640\t Loss: 0.3977\n",
      "\tIteration: 1680\t Loss: 0.3511\n",
      "\tIteration: 1720\t Loss: 0.4450\n",
      "\tIteration: 1760\t Loss: 0.3301\n",
      "\tIteration: 1800\t Loss: 0.3749\n",
      "\tIteration: 1840\t Loss: 0.3050\n",
      "\tIteration: 1880\t Loss: 0.3583\n",
      "\tIteration: 1920\t Loss: 0.4003\n",
      "\tIteration: 1960\t Loss: 0.3989\n",
      "\tIteration: 2000\t Loss: 0.4142\n",
      "\tIteration: 2040\t Loss: 0.3528\n",
      "\tIteration: 2080\t Loss: 0.3742\n",
      "\tIteration: 2120\t Loss: 0.3140\n",
      "\tIteration: 2160\t Loss: 0.3091\n",
      "\tIteration: 2200\t Loss: 0.3426\n",
      "\tIteration: 2240\t Loss: 0.3294\n",
      "\tIteration: 2280\t Loss: 0.3699\n",
      "\tIteration: 2320\t Loss: 0.3650\n",
      "\tIteration: 2360\t Loss: 0.3277\n",
      "\tIteration: 2400\t Loss: 0.3594\n",
      "\tIteration: 2440\t Loss: 0.3212\n",
      "\tIteration: 2480\t Loss: 0.3697\n",
      "\tIteration: 2520\t Loss: 0.4129\n",
      "\tIteration: 2560\t Loss: 0.3061\n",
      "\tIteration: 2600\t Loss: 0.3620\n",
      "\tIteration: 2640\t Loss: 0.3591\n",
      "\tIteration: 2680\t Loss: 0.3647\n",
      "\tIteration: 2720\t Loss: 0.3070\n",
      "\tIteration: 2760\t Loss: 0.3113\n",
      "\tIteration: 2800\t Loss: 0.3784\n",
      "\tIteration: 2840\t Loss: 0.3030\n",
      "\tIteration: 2880\t Loss: 0.3518\n",
      "\tIteration: 2920\t Loss: 0.3233\n",
      "\tIteration: 2960\t Loss: 0.2926\n",
      "\tIteration: 3000\t Loss: 0.3540\n",
      "\tIteration: 3040\t Loss: 0.3870\n",
      "\tIteration: 3080\t Loss: 0.3150\n",
      "\tIteration: 3120\t Loss: 0.2940\n",
      "\tIteration: 3160\t Loss: 0.3577\n",
      "\tIteration: 3200\t Loss: 0.3083\n",
      "\tIteration: 3240\t Loss: 0.3125\n",
      "\tIteration: 3280\t Loss: 0.3130\n",
      "\tIteration: 3320\t Loss: 0.3747\n",
      "\tIteration: 3360\t Loss: 0.2932\n",
      "\tIteration: 3400\t Loss: 0.3372\n",
      "\tIteration: 3440\t Loss: 0.3370\n",
      "\tIteration: 3480\t Loss: 0.3115\n",
      "\tIteration: 3520\t Loss: 0.3447\n",
      "\tIteration: 3560\t Loss: 0.2956\n",
      "\tIteration: 3600\t Loss: 0.2748\n",
      "\tIteration: 3640\t Loss: 0.3556\n",
      "\tIteration: 3680\t Loss: 0.3470\n",
      "\tIteration: 3720\t Loss: 0.3315\n",
      "Epoch: 3/3\n",
      "\tIteration: 0\t Loss: 0.0335\n",
      "\tIteration: 40\t Loss: 0.3710\n",
      "\tIteration: 80\t Loss: 0.3458\n",
      "\tIteration: 120\t Loss: 0.2777\n",
      "\tIteration: 160\t Loss: 0.3325\n",
      "\tIteration: 200\t Loss: 0.2721\n",
      "\tIteration: 240\t Loss: 0.3811\n",
      "\tIteration: 280\t Loss: 0.3033\n",
      "\tIteration: 320\t Loss: 0.3361\n",
      "\tIteration: 360\t Loss: 0.3495\n",
      "\tIteration: 400\t Loss: 0.3144\n",
      "\tIteration: 440\t Loss: 0.3279\n",
      "\tIteration: 480\t Loss: 0.3433\n",
      "\tIteration: 520\t Loss: 0.3066\n",
      "\tIteration: 560\t Loss: 0.3089\n",
      "\tIteration: 600\t Loss: 0.2882\n",
      "\tIteration: 640\t Loss: 0.3758\n",
      "\tIteration: 680\t Loss: 0.2911\n",
      "\tIteration: 720\t Loss: 0.2750\n",
      "\tIteration: 760\t Loss: 0.3237\n",
      "\tIteration: 800\t Loss: 0.2987\n",
      "\tIteration: 840\t Loss: 0.3045\n",
      "\tIteration: 880\t Loss: 0.2809\n",
      "\tIteration: 920\t Loss: 0.2808\n",
      "\tIteration: 960\t Loss: 0.3271\n",
      "\tIteration: 1000\t Loss: 0.3033\n",
      "\tIteration: 1040\t Loss: 0.3413\n",
      "\tIteration: 1080\t Loss: 0.3613\n",
      "\tIteration: 1120\t Loss: 0.3180\n",
      "\tIteration: 1160\t Loss: 0.2822\n",
      "\tIteration: 1200\t Loss: 0.3121\n",
      "\tIteration: 1240\t Loss: 0.3074\n",
      "\tIteration: 1280\t Loss: 0.3297\n",
      "\tIteration: 1320\t Loss: 0.3311\n",
      "\tIteration: 1360\t Loss: 0.2862\n",
      "\tIteration: 1400\t Loss: 0.2810\n",
      "\tIteration: 1440\t Loss: 0.2587\n",
      "\tIteration: 1480\t Loss: 0.3592\n",
      "\tIteration: 1520\t Loss: 0.2452\n",
      "\tIteration: 1560\t Loss: 0.3150\n",
      "\tIteration: 1600\t Loss: 0.3084\n",
      "\tIteration: 1640\t Loss: 0.3533\n",
      "\tIteration: 1680\t Loss: 0.3698\n",
      "\tIteration: 1720\t Loss: 0.2962\n",
      "\tIteration: 1760\t Loss: 0.3010\n",
      "\tIteration: 1800\t Loss: 0.2610\n",
      "\tIteration: 1840\t Loss: 0.3167\n",
      "\tIteration: 1880\t Loss: 0.2949\n",
      "\tIteration: 1920\t Loss: 0.3703\n",
      "\tIteration: 1960\t Loss: 0.2393\n",
      "\tIteration: 2000\t Loss: 0.3221\n",
      "\tIteration: 2040\t Loss: 0.3577\n",
      "\tIteration: 2080\t Loss: 0.2619\n",
      "\tIteration: 2120\t Loss: 0.3401\n",
      "\tIteration: 2160\t Loss: 0.2963\n",
      "\tIteration: 2200\t Loss: 0.3376\n",
      "\tIteration: 2240\t Loss: 0.2981\n",
      "\tIteration: 2280\t Loss: 0.2878\n",
      "\tIteration: 2320\t Loss: 0.3170\n",
      "\tIteration: 2360\t Loss: 0.3105\n",
      "\tIteration: 2400\t Loss: 0.2849\n",
      "\tIteration: 2440\t Loss: 0.2955\n",
      "\tIteration: 2480\t Loss: 0.3398\n",
      "\tIteration: 2520\t Loss: 0.2625\n",
      "\tIteration: 2560\t Loss: 0.2897\n",
      "\tIteration: 2600\t Loss: 0.2811\n",
      "\tIteration: 2640\t Loss: 0.2970\n",
      "\tIteration: 2680\t Loss: 0.3199\n",
      "\tIteration: 2720\t Loss: 0.3727\n",
      "\tIteration: 2760\t Loss: 0.2594\n",
      "\tIteration: 2800\t Loss: 0.2524\n",
      "\tIteration: 2840\t Loss: 0.2629\n",
      "\tIteration: 2880\t Loss: 0.3227\n",
      "\tIteration: 2920\t Loss: 0.2994\n",
      "\tIteration: 2960\t Loss: 0.3286\n",
      "\tIteration: 3000\t Loss: 0.3282\n",
      "\tIteration: 3040\t Loss: 0.2886\n",
      "\tIteration: 3080\t Loss: 0.2590\n",
      "\tIteration: 3120\t Loss: 0.3257\n",
      "\tIteration: 3160\t Loss: 0.3247\n",
      "\tIteration: 3200\t Loss: 0.2706\n",
      "\tIteration: 3240\t Loss: 0.2759\n",
      "\tIteration: 3280\t Loss: 0.2962\n",
      "\tIteration: 3320\t Loss: 0.2497\n",
      "\tIteration: 3360\t Loss: 0.2943\n",
      "\tIteration: 3400\t Loss: 0.3224\n",
      "\tIteration: 3440\t Loss: 0.2899\n",
      "\tIteration: 3480\t Loss: 0.2679\n",
      "\tIteration: 3520\t Loss: 0.2642\n",
      "\tIteration: 3560\t Loss: 0.2621\n",
      "\tIteration: 3600\t Loss: 0.3356\n",
      "\tIteration: 3640\t Loss: 0.2471\n",
      "\tIteration: 3680\t Loss: 0.2271\n",
      "\tIteration: 3720\t Loss: 0.3276\n"
     ]
    }
   ],
   "source": [
    "epochs = 3\n",
    "print_every = 40\n",
    "\n",
    "for e in range(epochs):\n",
    "    running_loss = 0\n",
    "    print(f\"Epoch: {e+1}/{epochs}\")\n",
    "\n",
    "    for i, (images, labels) in enumerate(iter(trainloader)):\n",
    "\n",
    "        # Flatten MNIST images into a 784 long vector\n",
    "        images.resize_(images.size()[0], 784)\n",
    "        \n",
    "        optimizer.zero_grad()\n",
    "        \n",
    "        output = model.forward(images)   # 1) Forward pass\n",
    "        loss = criterion(output, labels) # 2) Compute loss\n",
    "        loss.backward()                  # 3) Backward pass\n",
    "        optimizer.step()                 # 4) Update model\n",
    "        \n",
    "        running_loss += loss.item()\n",
    "        \n",
    "        if i % print_every == 0:\n",
    "            print(f\"\\tIteration: {i}\\t Loss: {running_loss/print_every:.4f}\")\n",
    "            running_loss = 0"
   ]
  },
  {
   "cell_type": "markdown",
   "metadata": {},
   "source": [
    "With the network trained, we can check out it's predictions."
   ]
  },
  {
   "cell_type": "code",
   "execution_count": 31,
   "metadata": {
    "ExecuteTime": {
     "end_time": "2021-05-26T22:30:00.206666Z",
     "start_time": "2021-05-26T22:29:59.954325Z"
    }
   },
   "outputs": [
    {
     "output_type": "display_data",
     "data": {
      "text/plain": "<Figure size 432x648 with 2 Axes>",
      "image/png": "[encoded data removed]"
     },
     "metadata": {
      "image/png": {
       "width": 349,
       "height": 195
      },
      "needs_background": "light"
     }
    }
   ],
   "source": [
    "images, labels = next(iter(trainloader))\n",
    "\n",
    "img = images[0].view(1, 784)\n",
    "# Turn off gradients to speed up this part\n",
    "with torch.no_grad():\n",
    "    logits = model.forward(img)\n",
    "\n",
    "# Output of the network are logits, need to take softmax for probabilities\n",
    "ps = F.softmax(logits, dim=1)\n",
    "view_classify(img.view(1, 28, 28), ps)"
   ]
  },
  {
   "cell_type": "markdown",
   "metadata": {},
   "source": [
    "Now our network is brilliant. It can accurately predict the digits in our images."
   ]
  },
  {
   "cell_type": "markdown",
   "metadata": {},
   "source": [
    "<div style=\"background:#222222; color:#ffffff; padding:20px\">\n",
    "    <h2 align=\"center\" style=\"color:#01ff84\">EMNIST Classification: Exercise</h2>\n",
    "<div>"
   ]
  },
  {
   "cell_type": "markdown",
   "metadata": {},
   "source": [
    "<div style=\"background:#222222; color:#ffffff; padding:20px\">\n",
    "  <h3 style=\"color:#01ff84; margin-top:4px\">Exercise 1:</h3>\n",
    "  <p>Now it's your turn to build a simple network, use any method I've covered so far. In the next notebook, you'll learn how to train a network so it can make good predictions.</p>\n",
    "  <p>Build a network to classify the MNIST images with 3 hidden layers. Use 16 units in the first hidden layer, 32 units in the second layer, and 8 units in the third layer. Each hidden layer should have a ReLU activation function, and use softmax on the output layer.</p>\n",
    "<div>"
   ]
  },
  {
   "cell_type": "code",
   "execution_count": 32,
   "metadata": {},
   "outputs": [
    {
     "output_type": "execute_result",
     "data": {
      "text/plain": [
       "Sequential(\n",
       "  (fc1): Linear(in_features=784, out_features=16, bias=True)\n",
       "  (relu1): ReLU()\n",
       "  (fc2): Linear(in_features=16, out_features=32, bias=True)\n",
       "  (relu2): ReLU()\n",
       "  (logits): Linear(in_features=32, out_features=10, bias=True)\n",
       "  (softmax): Softmax(dim=1)\n",
       ")"
      ]
     },
     "metadata": {},
     "execution_count": 32
    }
   ],
   "source": [
    "## TODO: Your network here\n",
    "#model = \n",
    "\n",
    "# # Hyperparameters for our network\n",
    "input_size   = 784\n",
    "hidden_sizes = [16, 32, 8]\n",
    "### #hidden_sizes = [128, 64]\n",
    "output_size  = 10\n",
    "\n",
    "# Build a feed-forward network\n",
    "model = nn.Sequential(OrderedDict([\n",
    "          ('fc1', nn.Linear(input_size, hidden_sizes[0])),\n",
    "          ('relu1', nn.ReLU()),\n",
    "          ('fc2', nn.Linear(hidden_sizes[0], hidden_sizes[1])),\n",
    "          ('relu2', nn.ReLU()),\n",
    "          ('logits', nn.Linear(hidden_sizes[1], output_size)),\n",
    "          ('softmax', nn.Softmax(dim=1))]))\n",
    "model\n",
    "\n",
    "#===================================================================\n",
    "\n",
    "# epochs = 3\n",
    "# print_every = 40\n",
    "\n",
    "# for e in range(epochs):\n",
    "#     running_loss = 0\n",
    "#     print(f\"Epoch: {e+1}/{epochs}\")\n",
    "\n",
    "#     for i, (images, labels) in enumerate(iter(trainloader)):\n",
    "\n",
    "#         # Flatten MNIST images into a 784 long vector\n",
    "#         images.resize_(images.size()[0], 784)\n",
    "        \n",
    "#         optimizer.zero_grad()\n",
    "        \n",
    "#         output = model.forward(images)   # 1) Forward pass\n",
    "#         loss = criterion(output, labels) # 2) Compute loss\n",
    "#         loss.backward()                  # 3) Backward pass\n",
    "#         optimizer.step()                 # 4) Update model\n",
    "        \n",
    "#         running_loss += loss.item()\n",
    "        \n",
    "#         if i % print_every == 0:\n",
    "#             print(f\"\\tIteration: {i}\\t Loss: {running_loss/print_every:.4f}\")\n",
    "#             running_loss = 0"
   ]
  },
  {
   "cell_type": "code",
   "execution_count": 33,
   "metadata": {},
   "outputs": [
    {
     "output_type": "display_data",
     "data": {
      "text/plain": "<Figure size 432x648 with 2 Axes>",
      "image/png": "[encoded data removed]"
     },
     "metadata": {
      "image/png": {
       "width": 349,
       "height": 195
      },
      "needs_background": "light"
     }
    }
   ],
   "source": [
    "# Run this cell with your model to make sure it works\n",
    "# Forward pass through the network and display output\n",
    "images, labels = next(iter(trainloader))\n",
    "images.resize_(images.shape[0], 1, 784)\n",
    "ps = model.forward(images[0,:])\n",
    "view_classify(images[0].view(1, 28, 28), ps)"
   ]
  },
  {
   "cell_type": "code",
   "execution_count": 34,
   "metadata": {},
   "outputs": [
    {
     "output_type": "execute_result",
     "data": {
      "text/plain": [
       "tensor([6, 0, 1, 9, 2, 6, 4, 3, 4, 6, 3, 4, 3, 3, 5, 9])"
      ]
     },
     "metadata": {},
     "execution_count": 34
    }
   ],
   "source": [
    "labels"
   ]
  },
  {
   "cell_type": "markdown",
   "metadata": {},
   "source": [
    "<div style=\"background:#222222; color:#ffffff; padding:20px\">\n",
    "  <h3 style=\"color:#01ff84; margin-top:4px\">Exercise 2:</h3>\n",
    "  <p>Train your network implementing the Pytorch training loop and <strong style=\"color:#01ff84\">after each epoch, use the model for predicting the test (validation) MNIST data.</strong></p>\n",
    "  <p>Note: If your model does not fit with the final softmax layer, you can remove this layer.</p>\n",
    "  <p>Hint: <a href=\"https://discuss.pytorch.org/t/training-loop-checking-validation-accuracy/78399\">Training loop checking validation accuracy\n",
    "</a></p>\n",
    "  <p>Research about <code>model.train()</code>, <code>model.eval()</code> and <code>with torch.no_grad()</code> in Pytorch.\n",
    "<div>"
   ]
  },
  {
   "cell_type": "code",
   "execution_count": 35,
   "metadata": {},
   "outputs": [
    {
     "output_type": "stream",
     "name": "stdout",
     "text": [
      "Epoch: 1/3\n",
      "\tIteration: 0\t Loss: 0.0576\n",
      "\tIteration: 40\t Loss: 2.2886\n",
      "\tIteration: 80\t Loss: 2.2139\n",
      "\tIteration: 120\t Loss: 2.1288\n",
      "\tIteration: 160\t Loss: 2.0438\n",
      "\tIteration: 200\t Loss: 1.9838\n",
      "\tIteration: 240\t Loss: 1.9333\n",
      "\tIteration: 280\t Loss: 1.8932\n",
      "\tIteration: 320\t Loss: 1.8924\n",
      "\tIteration: 360\t Loss: 1.8470\n",
      "\tIteration: 400\t Loss: 1.8356\n",
      "\tIteration: 440\t Loss: 1.8302\n",
      "\tIteration: 480\t Loss: 1.8138\n",
      "\tIteration: 520\t Loss: 1.8403\n",
      "\tIteration: 560\t Loss: 1.8629\n",
      "\tIteration: 600\t Loss: 1.7943\n",
      "\tIteration: 640\t Loss: 1.7951\n",
      "\tIteration: 680\t Loss: 1.8110\n",
      "\tIteration: 720\t Loss: 1.7687\n",
      "\tIteration: 760\t Loss: 1.8274\n",
      "\tIteration: 800\t Loss: 1.7755\n",
      "\tIteration: 840\t Loss: 1.7763\n",
      "\tIteration: 880\t Loss: 1.7871\n",
      "\tIteration: 920\t Loss: 1.7587\n",
      "\tIteration: 960\t Loss: 1.7695\n",
      "\tIteration: 1000\t Loss: 1.7777\n",
      "\tIteration: 1040\t Loss: 1.7963\n",
      "\tIteration: 1080\t Loss: 1.7823\n",
      "\tIteration: 1120\t Loss: 1.7615\n",
      "\tIteration: 1160\t Loss: 1.7778\n",
      "\tIteration: 1200\t Loss: 1.7684\n",
      "\tIteration: 1240\t Loss: 1.7334\n",
      "\tIteration: 1280\t Loss: 1.7636\n",
      "\tIteration: 1320\t Loss: 1.7538\n",
      "\tIteration: 1360\t Loss: 1.7663\n",
      "\tIteration: 1400\t Loss: 1.7562\n",
      "\tIteration: 1440\t Loss: 1.7401\n",
      "\tIteration: 1480\t Loss: 1.7648\n",
      "\tIteration: 1520\t Loss: 1.7634\n",
      "\tIteration: 1560\t Loss: 1.7431\n",
      "\tIteration: 1600\t Loss: 1.7660\n",
      "\tIteration: 1640\t Loss: 1.7425\n",
      "\tIteration: 1680\t Loss: 1.7372\n",
      "\tIteration: 1720\t Loss: 1.7309\n",
      "\tIteration: 1760\t Loss: 1.7729\n",
      "\tIteration: 1800\t Loss: 1.7649\n",
      "\tIteration: 1840\t Loss: 1.7264\n",
      "\tIteration: 1880\t Loss: 1.7588\n",
      "\tIteration: 1920\t Loss: 1.7251\n",
      "\tIteration: 1960\t Loss: 1.7535\n",
      "\tIteration: 2000\t Loss: 1.7676\n",
      "\tIteration: 2040\t Loss: 1.7316\n",
      "\tIteration: 2080\t Loss: 1.7642\n",
      "\tIteration: 2120\t Loss: 1.7589\n",
      "\tIteration: 2160\t Loss: 1.7865\n",
      "\tIteration: 2200\t Loss: 1.7511\n",
      "\tIteration: 2240\t Loss: 1.7311\n",
      "\tIteration: 2280\t Loss: 1.7615\n",
      "\tIteration: 2320\t Loss: 1.7581\n",
      "\tIteration: 2360\t Loss: 1.7801\n",
      "\tIteration: 2400\t Loss: 1.7594\n",
      "\tIteration: 2440\t Loss: 1.7673\n",
      "\tIteration: 2480\t Loss: 1.7441\n",
      "\tIteration: 2520\t Loss: 1.7499\n",
      "\tIteration: 2560\t Loss: 1.7377\n",
      "\tIteration: 2600\t Loss: 1.7543\n",
      "\tIteration: 2640\t Loss: 1.7435\n",
      "\tIteration: 2680\t Loss: 1.7222\n",
      "\tIteration: 2720\t Loss: 1.7760\n",
      "\tIteration: 2760\t Loss: 1.7604\n",
      "\tIteration: 2800\t Loss: 1.7208\n",
      "\tIteration: 2840\t Loss: 1.7627\n",
      "\tIteration: 2880\t Loss: 1.7730\n",
      "\tIteration: 2920\t Loss: 1.7405\n",
      "\tIteration: 2960\t Loss: 1.7566\n",
      "\tIteration: 3000\t Loss: 1.7490\n",
      "\tIteration: 3040\t Loss: 1.7397\n",
      "\tIteration: 3080\t Loss: 1.7471\n",
      "\tIteration: 3120\t Loss: 1.7414\n",
      "\tIteration: 3160\t Loss: 1.7719\n",
      "\tIteration: 3200\t Loss: 1.7398\n",
      "\tIteration: 3240\t Loss: 1.7525\n",
      "\tIteration: 3280\t Loss: 1.7182\n",
      "\tIteration: 3320\t Loss: 1.7529\n",
      "\tIteration: 3360\t Loss: 1.7384\n",
      "\tIteration: 3400\t Loss: 1.7393\n",
      "\tIteration: 3440\t Loss: 1.7282\n",
      "\tIteration: 3480\t Loss: 1.7251\n",
      "\tIteration: 3520\t Loss: 1.7469\n",
      "\tIteration: 3560\t Loss: 1.7338\n",
      "\tIteration: 3600\t Loss: 1.7555\n",
      "\tIteration: 3640\t Loss: 1.7427\n",
      "\tIteration: 3680\t Loss: 1.7139\n",
      "\tIteration: 3720\t Loss: 1.7043\n",
      "Epoch: 2/3\n",
      "\tIteration: 0\t Loss: 0.0412\n",
      "\tIteration: 40\t Loss: 1.7038\n",
      "\tIteration: 80\t Loss: 1.7158\n",
      "\tIteration: 120\t Loss: 1.6759\n",
      "\tIteration: 160\t Loss: 1.6656\n",
      "\tIteration: 200\t Loss: 1.6596\n",
      "\tIteration: 240\t Loss: 1.6670\n",
      "\tIteration: 280\t Loss: 1.6970\n",
      "\tIteration: 320\t Loss: 1.6631\n",
      "\tIteration: 360\t Loss: 1.6778\n",
      "\tIteration: 400\t Loss: 1.6535\n",
      "\tIteration: 440\t Loss: 1.6852\n",
      "\tIteration: 480\t Loss: 1.6905\n",
      "\tIteration: 520\t Loss: 1.6692\n",
      "\tIteration: 560\t Loss: 1.6436\n",
      "\tIteration: 600\t Loss: 1.6588\n",
      "\tIteration: 640\t Loss: 1.6664\n",
      "\tIteration: 680\t Loss: 1.6619\n",
      "\tIteration: 720\t Loss: 1.6702\n",
      "\tIteration: 760\t Loss: 1.6451\n",
      "\tIteration: 800\t Loss: 1.6617\n",
      "\tIteration: 840\t Loss: 1.6710\n",
      "\tIteration: 880\t Loss: 1.6480\n",
      "\tIteration: 920\t Loss: 1.6837\n",
      "\tIteration: 960\t Loss: 1.6679\n",
      "\tIteration: 1000\t Loss: 1.6518\n",
      "\tIteration: 1040\t Loss: 1.6720\n",
      "\tIteration: 1080\t Loss: 1.6661\n",
      "\tIteration: 1120\t Loss: 1.6813\n",
      "\tIteration: 1160\t Loss: 1.6539\n",
      "\tIteration: 1200\t Loss: 1.6747\n",
      "\tIteration: 1240\t Loss: 1.6766\n",
      "\tIteration: 1280\t Loss: 1.6613\n",
      "\tIteration: 1320\t Loss: 1.6619\n",
      "\tIteration: 1360\t Loss: 1.6529\n",
      "\tIteration: 1400\t Loss: 1.6722\n",
      "\tIteration: 1440\t Loss: 1.6363\n",
      "\tIteration: 1480\t Loss: 1.6555\n",
      "\tIteration: 1520\t Loss: 1.6554\n",
      "\tIteration: 1560\t Loss: 1.6641\n",
      "\tIteration: 1600\t Loss: 1.6248\n",
      "\tIteration: 1640\t Loss: 1.6706\n",
      "\tIteration: 1680\t Loss: 1.6477\n",
      "\tIteration: 1720\t Loss: 1.6414\n",
      "\tIteration: 1760\t Loss: 1.6577\n",
      "\tIteration: 1800\t Loss: 1.6621\n",
      "\tIteration: 1840\t Loss: 1.6739\n",
      "\tIteration: 1880\t Loss: 1.6454\n",
      "\tIteration: 1920\t Loss: 1.6828\n",
      "\tIteration: 1960\t Loss: 1.6399\n",
      "\tIteration: 2000\t Loss: 1.6486\n",
      "\tIteration: 2040\t Loss: 1.6558\n",
      "\tIteration: 2080\t Loss: 1.6577\n",
      "\tIteration: 2120\t Loss: 1.6384\n",
      "\tIteration: 2160\t Loss: 1.6497\n",
      "\tIteration: 2200\t Loss: 1.6736\n",
      "\tIteration: 2240\t Loss: 1.6616\n",
      "\tIteration: 2280\t Loss: 1.6351\n",
      "\tIteration: 2320\t Loss: 1.6490\n",
      "\tIteration: 2360\t Loss: 1.6601\n",
      "\tIteration: 2400\t Loss: 1.6520\n",
      "\tIteration: 2440\t Loss: 1.6592\n",
      "\tIteration: 2480\t Loss: 1.6412\n",
      "\tIteration: 2520\t Loss: 1.6534\n",
      "\tIteration: 2560\t Loss: 1.6805\n",
      "\tIteration: 2600\t Loss: 1.6791\n",
      "\tIteration: 2640\t Loss: 1.6797\n",
      "\tIteration: 2680\t Loss: 1.6560\n",
      "\tIteration: 2720\t Loss: 1.6600\n",
      "\tIteration: 2760\t Loss: 1.6635\n",
      "\tIteration: 2800\t Loss: 1.6721\n",
      "\tIteration: 2840\t Loss: 1.6723\n",
      "\tIteration: 2880\t Loss: 1.6581\n",
      "\tIteration: 2920\t Loss: 1.6547\n",
      "\tIteration: 2960\t Loss: 1.6642\n",
      "\tIteration: 3000\t Loss: 1.6655\n",
      "\tIteration: 3040\t Loss: 1.6671\n",
      "\tIteration: 3080\t Loss: 1.6675\n",
      "\tIteration: 3120\t Loss: 1.6475\n",
      "\tIteration: 3160\t Loss: 1.6555\n",
      "\tIteration: 3200\t Loss: 1.6704\n",
      "\tIteration: 3240\t Loss: 1.6715\n",
      "\tIteration: 3280\t Loss: 1.6723\n",
      "\tIteration: 3320\t Loss: 1.6427\n",
      "\tIteration: 3360\t Loss: 1.6536\n",
      "\tIteration: 3400\t Loss: 1.6450\n",
      "\tIteration: 3440\t Loss: 1.6297\n",
      "\tIteration: 3480\t Loss: 1.6811\n",
      "\tIteration: 3520\t Loss: 1.6709\n",
      "\tIteration: 3560\t Loss: 1.6555\n",
      "\tIteration: 3600\t Loss: 1.6574\n",
      "\tIteration: 3640\t Loss: 1.6456\n",
      "\tIteration: 3680\t Loss: 1.6482\n",
      "\tIteration: 3720\t Loss: 1.6655\n",
      "Epoch: 3/3\n",
      "\tIteration: 0\t Loss: 0.0382\n",
      "\tIteration: 40\t Loss: 1.6485\n",
      "\tIteration: 80\t Loss: 1.6532\n",
      "\tIteration: 120\t Loss: 1.6464\n",
      "\tIteration: 160\t Loss: 1.6630\n",
      "\tIteration: 200\t Loss: 1.6401\n",
      "\tIteration: 240\t Loss: 1.6419\n",
      "\tIteration: 280\t Loss: 1.6192\n",
      "\tIteration: 320\t Loss: 1.6401\n",
      "\tIteration: 360\t Loss: 1.6403\n",
      "\tIteration: 400\t Loss: 1.6401\n",
      "\tIteration: 440\t Loss: 1.6387\n",
      "\tIteration: 480\t Loss: 1.6497\n",
      "\tIteration: 520\t Loss: 1.6342\n",
      "\tIteration: 560\t Loss: 1.6838\n",
      "\tIteration: 600\t Loss: 1.6432\n",
      "\tIteration: 640\t Loss: 1.6616\n",
      "\tIteration: 680\t Loss: 1.6468\n",
      "\tIteration: 720\t Loss: 1.6541\n",
      "\tIteration: 760\t Loss: 1.6546\n",
      "\tIteration: 800\t Loss: 1.6383\n",
      "\tIteration: 840\t Loss: 1.6472\n",
      "\tIteration: 880\t Loss: 1.6502\n",
      "\tIteration: 920\t Loss: 1.6495\n",
      "\tIteration: 960\t Loss: 1.6488\n",
      "\tIteration: 1000\t Loss: 1.6413\n",
      "\tIteration: 1040\t Loss: 1.6394\n",
      "\tIteration: 1080\t Loss: 1.6140\n",
      "\tIteration: 1120\t Loss: 1.6482\n",
      "\tIteration: 1160\t Loss: 1.6717\n",
      "\tIteration: 1200\t Loss: 1.6493\n",
      "\tIteration: 1240\t Loss: 1.6594\n",
      "\tIteration: 1280\t Loss: 1.6874\n",
      "\tIteration: 1320\t Loss: 1.6621\n",
      "\tIteration: 1360\t Loss: 1.6537\n",
      "\tIteration: 1400\t Loss: 1.6739\n",
      "\tIteration: 1440\t Loss: 1.6662\n",
      "\tIteration: 1480\t Loss: 1.6377\n",
      "\tIteration: 1520\t Loss: 1.6408\n",
      "\tIteration: 1560\t Loss: 1.6662\n",
      "\tIteration: 1600\t Loss: 1.6526\n",
      "\tIteration: 1640\t Loss: 1.6329\n",
      "\tIteration: 1680\t Loss: 1.6604\n",
      "\tIteration: 1720\t Loss: 1.6425\n",
      "\tIteration: 1760\t Loss: 1.6514\n",
      "\tIteration: 1800\t Loss: 1.6800\n",
      "\tIteration: 1840\t Loss: 1.6335\n",
      "\tIteration: 1880\t Loss: 1.6582\n",
      "\tIteration: 1920\t Loss: 1.6520\n",
      "\tIteration: 1960\t Loss: 1.6515\n",
      "\tIteration: 2000\t Loss: 1.6535\n",
      "\tIteration: 2040\t Loss: 1.6468\n",
      "\tIteration: 2080\t Loss: 1.6649\n",
      "\tIteration: 2120\t Loss: 1.6419\n",
      "\tIteration: 2160\t Loss: 1.6565\n",
      "\tIteration: 2200\t Loss: 1.6318\n",
      "\tIteration: 2240\t Loss: 1.6252\n",
      "\tIteration: 2280\t Loss: 1.6284\n",
      "\tIteration: 2320\t Loss: 1.6358\n",
      "\tIteration: 2360\t Loss: 1.6485\n",
      "\tIteration: 2400\t Loss: 1.6440\n",
      "\tIteration: 2440\t Loss: 1.6595\n",
      "\tIteration: 2480\t Loss: 1.6284\n",
      "\tIteration: 2520\t Loss: 1.6528\n",
      "\tIteration: 2560\t Loss: 1.6434\n",
      "\tIteration: 2600\t Loss: 1.6601\n",
      "\tIteration: 2640\t Loss: 1.6823\n",
      "\tIteration: 2680\t Loss: 1.6675\n",
      "\tIteration: 2720\t Loss: 1.6823\n",
      "\tIteration: 2760\t Loss: 1.6239\n",
      "\tIteration: 2800\t Loss: 1.6624\n",
      "\tIteration: 2840\t Loss: 1.6472\n",
      "\tIteration: 2880\t Loss: 1.6416\n",
      "\tIteration: 2920\t Loss: 1.6555\n",
      "\tIteration: 2960\t Loss: 1.6227\n",
      "\tIteration: 3000\t Loss: 1.6346\n",
      "\tIteration: 3040\t Loss: 1.6141\n",
      "\tIteration: 3080\t Loss: 1.6641\n",
      "\tIteration: 3120\t Loss: 1.6703\n",
      "\tIteration: 3160\t Loss: 1.6311\n",
      "\tIteration: 3200\t Loss: 1.6004\n",
      "\tIteration: 3240\t Loss: 1.6231\n",
      "\tIteration: 3280\t Loss: 1.6635\n",
      "\tIteration: 3320\t Loss: 1.6470\n",
      "\tIteration: 3360\t Loss: 1.6147\n",
      "\tIteration: 3400\t Loss: 1.6357\n",
      "\tIteration: 3440\t Loss: 1.6227\n",
      "\tIteration: 3480\t Loss: 1.6585\n",
      "\tIteration: 3520\t Loss: 1.6362\n",
      "\tIteration: 3560\t Loss: 1.6554\n",
      "\tIteration: 3600\t Loss: 1.6320\n",
      "\tIteration: 3640\t Loss: 1.6331\n",
      "\tIteration: 3680\t Loss: 1.6474\n",
      "\tIteration: 3720\t Loss: 1.6719\n"
     ]
    }
   ],
   "source": [
    "## TODO: Your training loop here\n",
    "criterion = nn.CrossEntropyLoss()\n",
    "optimizer = optim.Adam(model.parameters(), lr=0.001)\n",
    "\n",
    "epochs = 3\n",
    "print_every = 40\n",
    "\n",
    "for e in range(epochs):\n",
    "    running_loss = 0\n",
    "    print(f\"Epoch: {e+1}/{epochs}\")\n",
    "\n",
    "    for i, (images, labels) in enumerate(iter(trainloader)):\n",
    "\n",
    "        # Flatten MNIST images into a 784 long vector\n",
    "        images.resize_(images.size()[0], 784)\n",
    "        \n",
    "        optimizer.zero_grad()\n",
    "        \n",
    "        output = model.forward(images)   # 1) Forward pass\n",
    "        loss = criterion(output, labels) # 2) Compute loss\n",
    "        loss.backward()                  # 3) Backward pass\n",
    "        optimizer.step()                 # 4) Update model\n",
    "        \n",
    "        running_loss += loss.item()\n",
    "        \n",
    "        if i % print_every == 0:\n",
    "            print(f\"\\tIteration: {i}\\t Loss: {running_loss/print_every:.4f}\")\n",
    "            running_loss = 0"
   ]
  },
  {
   "cell_type": "code",
   "execution_count": 72,
   "metadata": {},
   "outputs": [
    {
     "output_type": "display_data",
     "data": {
      "text/plain": "<Figure size 432x648 with 2 Axes>",
      "image/png": "[encoded data removed]"
     },
     "metadata": {
      "image/png": {
       "width": 349,
       "height": 195
      },
      "needs_background": "light"
     }
    }
   ],
   "source": [
    "# Run this cell with your model to make sure it works and predicts well for the validation data\n",
    "images, labels = next(iter(testloader))\n",
    "images.resize_(images.shape[0], 1, 784)\n",
    "ps = model.forward(images[0,:])\n",
    "view_classify(images[0].view(1, 28, 28), ps)"
   ]
  },
  {
   "cell_type": "markdown",
   "metadata": {},
   "source": [
    "<div style=\"background:#222222; color:#ffffff; padding:20px\">\n",
    "  <h3 style=\"color:#01ff84; margin-top:4px\">Exercise 3:</h3>\n",
    "  <p>Write the code for adding <strong style=\"color:#01ff84\">Early Stopping with patience = 2</strong> to the training loop from scratch.</p>\n",
    "  <p><strong style=\"color:#01ff84\">Hint:</strong> Monitor the Validation loss every epoch, and if in 2 epochs, the validation loss does not improve, stop the training loop with <code>break</code>.</p>\n",
    "<div>"
   ]
  },
  {
   "cell_type": "code",
   "execution_count": 71,
   "metadata": {},
   "outputs": [
    {
     "output_type": "display_data",
     "data": {
      "text/plain": "<Figure size 432x648 with 2 Axes>",
      "image/png": "[encoded data removed]"
     },
     "metadata": {
      "image/png": {
       "width": 349,
       "height": 195
      },
      "needs_background": "light"
     }
    }
   ],
   "source": [
    "## TODO: Your training loop here\n",
    "## TODO: Your training loop here\n",
    "images, labels = next(iter(trainloader))\n",
    "\n",
    "img = images[0].view(1, 784)\n",
    "# Turn off gradients to speed up this part\n",
    "with torch.no_grad():\n",
    "    logits = model.forward(img)\n",
    "\n",
    "# Output of the network are logits, need to take softmax for probabilities\n",
    "ps = F.softmax(logits, dim=1)\n",
    "view_classify(img.view(1, 28, 28), ps)"
   ]
  },
  {
   "cell_type": "markdown",
   "metadata": {},
   "source": [
    "<div style=\"background:#222222; color:#ffffff; padding:20px\">\n",
    "  <h3 style=\"color:#01ff84; margin-top:4px\">Optional:</h3>\n",
    "  <p>Don't you want to use MNIST? Try EMNIST instead! Maybe using the first 10 letters of the alphabet!</p>\n"
   ]
  },
  {
   "cell_type": "code",
   "execution_count": 38,
   "metadata": {
    "ExecuteTime": {
     "end_time": "2021-05-26T22:35:26.981584Z",
     "start_time": "2021-05-26T22:35:26.954522Z"
    }
   },
   "outputs": [],
   "source": [
    "# we will need a custom visualization function\n",
    "def view_classify_emnist(img, ps):\n",
    "\n",
    "    ps = ps.data.numpy().squeeze()\n",
    "\n",
    "    fig, (ax1, ax2) = plt.subplots(figsize=(6,9), ncols=2)\n",
    "    ax1.imshow(img.resize_(1, 28, 28).numpy().squeeze())\n",
    "    ax1.axis('off')\n",
    "    ax2.barh(list(\"abcdefghij\"), ps)\n",
    "    ax2.set_aspect(0.1)\n",
    "    ax2.set_yticks(np.arange(10))\n",
    "    ax2.set_yticklabels(np.arange(10))\n",
    "    ax2.set_title('Class Probability')\n",
    "    ax2.set_xlim(0, 1.1)"
   ]
  },
  {
   "cell_type": "code",
   "execution_count": 53,
   "metadata": {
    "ExecuteTime": {
     "end_time": "2021-05-26T22:50:57.571260Z",
     "start_time": "2021-05-26T22:50:57.322172Z"
    }
   },
   "outputs": [
    {
     "output_type": "stream",
     "name": "stdout",
     "text": [
      "Downloading and extracting zip archive\n",
      "Using downloaded and verified file: EMNIST_data/EMNIST\\raw\\emnist.zip\n",
      "Extracting EMNIST_data/EMNIST\\raw\\emnist.zip to EMNIST_data/EMNIST\\raw\n"
     ]
    },
    {
     "output_type": "error",
     "ename": "KeyboardInterrupt",
     "evalue": "",
     "traceback": [
      "\u001b[1;31m---------------------------------------------------------------------------\u001b[0m",
      "\u001b[1;31mKeyboardInterrupt\u001b[0m                         Traceback (most recent call last)",
      "\u001b[1;32m<ipython-input-53-e7b8a1cc7ee5>\u001b[0m in \u001b[0;36m<module>\u001b[1;34m\u001b[0m\n\u001b[0;32m     11\u001b[0m \u001b[1;33m\u001b[0m\u001b[0m\n\u001b[0;32m     12\u001b[0m \u001b[1;31m# Download and load the training data\u001b[0m\u001b[1;33m\u001b[0m\u001b[1;33m\u001b[0m\u001b[1;33m\u001b[0m\u001b[0m\n\u001b[1;32m---> 13\u001b[1;33m \u001b[0mtrainset\u001b[0m    \u001b[1;33m=\u001b[0m \u001b[0mdatasets\u001b[0m\u001b[1;33m.\u001b[0m\u001b[0mEMNIST\u001b[0m\u001b[1;33m(\u001b[0m\u001b[1;34m'EMNIST_data/'\u001b[0m\u001b[1;33m,\u001b[0m \u001b[0msplit\u001b[0m\u001b[1;33m=\u001b[0m\u001b[1;34m\"letters\"\u001b[0m\u001b[1;33m,\u001b[0m \u001b[0mdownload\u001b[0m\u001b[1;33m=\u001b[0m\u001b[1;32mTrue\u001b[0m\u001b[1;33m,\u001b[0m \u001b[0mtrain\u001b[0m\u001b[1;33m=\u001b[0m\u001b[1;32mTrue\u001b[0m\u001b[1;33m,\u001b[0m \u001b[0mtransform\u001b[0m\u001b[1;33m=\u001b[0m\u001b[0mtransform\u001b[0m\u001b[1;33m)\u001b[0m\u001b[1;33m\u001b[0m\u001b[1;33m\u001b[0m\u001b[0m\n\u001b[0m\u001b[0;32m     14\u001b[0m \u001b[0mtrainloader\u001b[0m \u001b[1;33m=\u001b[0m \u001b[0mtorch\u001b[0m\u001b[1;33m.\u001b[0m\u001b[0mutils\u001b[0m\u001b[1;33m.\u001b[0m\u001b[0mdata\u001b[0m\u001b[1;33m.\u001b[0m\u001b[0mDataLoader\u001b[0m\u001b[1;33m(\u001b[0m\u001b[0mtrainset\u001b[0m\u001b[1;33m,\u001b[0m \u001b[0mbatch_size\u001b[0m\u001b[1;33m=\u001b[0m\u001b[1;36m16\u001b[0m\u001b[1;33m,\u001b[0m \u001b[0mshuffle\u001b[0m\u001b[1;33m=\u001b[0m\u001b[1;32mTrue\u001b[0m\u001b[1;33m,\u001b[0m \u001b[0mcollate_fn\u001b[0m\u001b[1;33m=\u001b[0m\u001b[0mmy_collate\u001b[0m\u001b[1;33m)\u001b[0m\u001b[1;33m\u001b[0m\u001b[1;33m\u001b[0m\u001b[0m\n\u001b[0;32m     15\u001b[0m \u001b[1;33m\u001b[0m\u001b[0m\n",
      "\u001b[1;32m~\\AppData\\Local\\Programs\\Python\\Python37\\lib\\site-packages\\torchvision\\datasets\\mnist.py\u001b[0m in \u001b[0;36m__init__\u001b[1;34m(self, root, split, **kwargs)\u001b[0m\n\u001b[0;32m    288\u001b[0m         \u001b[0mself\u001b[0m\u001b[1;33m.\u001b[0m\u001b[0mtraining_file\u001b[0m \u001b[1;33m=\u001b[0m \u001b[0mself\u001b[0m\u001b[1;33m.\u001b[0m\u001b[0m_training_file\u001b[0m\u001b[1;33m(\u001b[0m\u001b[0msplit\u001b[0m\u001b[1;33m)\u001b[0m\u001b[1;33m\u001b[0m\u001b[1;33m\u001b[0m\u001b[0m\n\u001b[0;32m    289\u001b[0m         \u001b[0mself\u001b[0m\u001b[1;33m.\u001b[0m\u001b[0mtest_file\u001b[0m \u001b[1;33m=\u001b[0m \u001b[0mself\u001b[0m\u001b[1;33m.\u001b[0m\u001b[0m_test_file\u001b[0m\u001b[1;33m(\u001b[0m\u001b[0msplit\u001b[0m\u001b[1;33m)\u001b[0m\u001b[1;33m\u001b[0m\u001b[1;33m\u001b[0m\u001b[0m\n\u001b[1;32m--> 290\u001b[1;33m         \u001b[0msuper\u001b[0m\u001b[1;33m(\u001b[0m\u001b[0mEMNIST\u001b[0m\u001b[1;33m,\u001b[0m \u001b[0mself\u001b[0m\u001b[1;33m)\u001b[0m\u001b[1;33m.\u001b[0m\u001b[0m__init__\u001b[0m\u001b[1;33m(\u001b[0m\u001b[0mroot\u001b[0m\u001b[1;33m,\u001b[0m \u001b[1;33m**\u001b[0m\u001b[0mkwargs\u001b[0m\u001b[1;33m)\u001b[0m\u001b[1;33m\u001b[0m\u001b[1;33m\u001b[0m\u001b[0m\n\u001b[0m\u001b[0;32m    291\u001b[0m         \u001b[0mself\u001b[0m\u001b[1;33m.\u001b[0m\u001b[0mclasses\u001b[0m \u001b[1;33m=\u001b[0m \u001b[0mself\u001b[0m\u001b[1;33m.\u001b[0m\u001b[0mclasses_split_dict\u001b[0m\u001b[1;33m[\u001b[0m\u001b[0mself\u001b[0m\u001b[1;33m.\u001b[0m\u001b[0msplit\u001b[0m\u001b[1;33m]\u001b[0m\u001b[1;33m\u001b[0m\u001b[1;33m\u001b[0m\u001b[0m\n\u001b[0;32m    292\u001b[0m \u001b[1;33m\u001b[0m\u001b[0m\n",
      "\u001b[1;32m~\\AppData\\Local\\Programs\\Python\\Python37\\lib\\site-packages\\torchvision\\datasets\\mnist.py\u001b[0m in \u001b[0;36m__init__\u001b[1;34m(self, root, train, transform, target_transform, download)\u001b[0m\n\u001b[0;32m     83\u001b[0m \u001b[1;33m\u001b[0m\u001b[0m\n\u001b[0;32m     84\u001b[0m         \u001b[1;32mif\u001b[0m \u001b[0mdownload\u001b[0m\u001b[1;33m:\u001b[0m\u001b[1;33m\u001b[0m\u001b[1;33m\u001b[0m\u001b[0m\n\u001b[1;32m---> 85\u001b[1;33m             \u001b[0mself\u001b[0m\u001b[1;33m.\u001b[0m\u001b[0mdownload\u001b[0m\u001b[1;33m(\u001b[0m\u001b[1;33m)\u001b[0m\u001b[1;33m\u001b[0m\u001b[1;33m\u001b[0m\u001b[0m\n\u001b[0m\u001b[0;32m     86\u001b[0m \u001b[1;33m\u001b[0m\u001b[0m\n\u001b[0;32m     87\u001b[0m         \u001b[1;32mif\u001b[0m \u001b[1;32mnot\u001b[0m \u001b[0mself\u001b[0m\u001b[1;33m.\u001b[0m\u001b[0m_check_exists\u001b[0m\u001b[1;33m(\u001b[0m\u001b[1;33m)\u001b[0m\u001b[1;33m:\u001b[0m\u001b[1;33m\u001b[0m\u001b[1;33m\u001b[0m\u001b[0m\n",
      "\u001b[1;32m~\\AppData\\Local\\Programs\\Python\\Python37\\lib\\site-packages\\torchvision\\datasets\\mnist.py\u001b[0m in \u001b[0;36mdownload\u001b[1;34m(self)\u001b[0m\n\u001b[0;32m    316\u001b[0m         \u001b[1;32mfor\u001b[0m \u001b[0mgzip_file\u001b[0m \u001b[1;32min\u001b[0m \u001b[0mos\u001b[0m\u001b[1;33m.\u001b[0m\u001b[0mlistdir\u001b[0m\u001b[1;33m(\u001b[0m\u001b[0mgzip_folder\u001b[0m\u001b[1;33m)\u001b[0m\u001b[1;33m:\u001b[0m\u001b[1;33m\u001b[0m\u001b[1;33m\u001b[0m\u001b[0m\n\u001b[0;32m    317\u001b[0m             \u001b[1;32mif\u001b[0m \u001b[0mgzip_file\u001b[0m\u001b[1;33m.\u001b[0m\u001b[0mendswith\u001b[0m\u001b[1;33m(\u001b[0m\u001b[1;34m'.gz'\u001b[0m\u001b[1;33m)\u001b[0m\u001b[1;33m:\u001b[0m\u001b[1;33m\u001b[0m\u001b[1;33m\u001b[0m\u001b[0m\n\u001b[1;32m--> 318\u001b[1;33m                 \u001b[0mextract_archive\u001b[0m\u001b[1;33m(\u001b[0m\u001b[0mos\u001b[0m\u001b[1;33m.\u001b[0m\u001b[0mpath\u001b[0m\u001b[1;33m.\u001b[0m\u001b[0mjoin\u001b[0m\u001b[1;33m(\u001b[0m\u001b[0mgzip_folder\u001b[0m\u001b[1;33m,\u001b[0m \u001b[0mgzip_file\u001b[0m\u001b[1;33m)\u001b[0m\u001b[1;33m,\u001b[0m \u001b[0mgzip_folder\u001b[0m\u001b[1;33m)\u001b[0m\u001b[1;33m\u001b[0m\u001b[1;33m\u001b[0m\u001b[0m\n\u001b[0m\u001b[0;32m    319\u001b[0m \u001b[1;33m\u001b[0m\u001b[0m\n\u001b[0;32m    320\u001b[0m         \u001b[1;31m# process and save as torch files\u001b[0m\u001b[1;33m\u001b[0m\u001b[1;33m\u001b[0m\u001b[1;33m\u001b[0m\u001b[0m\n",
      "\u001b[1;32m~\\AppData\\Local\\Programs\\Python\\Python37\\lib\\site-packages\\torchvision\\datasets\\utils.py\u001b[0m in \u001b[0;36mextract_archive\u001b[1;34m(from_path, to_path, remove_finished)\u001b[0m\n\u001b[0;32m    289\u001b[0m         \u001b[0mto_path\u001b[0m \u001b[1;33m=\u001b[0m \u001b[0mos\u001b[0m\u001b[1;33m.\u001b[0m\u001b[0mpath\u001b[0m\u001b[1;33m.\u001b[0m\u001b[0mjoin\u001b[0m\u001b[1;33m(\u001b[0m\u001b[0mto_path\u001b[0m\u001b[1;33m,\u001b[0m \u001b[0mos\u001b[0m\u001b[1;33m.\u001b[0m\u001b[0mpath\u001b[0m\u001b[1;33m.\u001b[0m\u001b[0msplitext\u001b[0m\u001b[1;33m(\u001b[0m\u001b[0mos\u001b[0m\u001b[1;33m.\u001b[0m\u001b[0mpath\u001b[0m\u001b[1;33m.\u001b[0m\u001b[0mbasename\u001b[0m\u001b[1;33m(\u001b[0m\u001b[0mfrom_path\u001b[0m\u001b[1;33m)\u001b[0m\u001b[1;33m)\u001b[0m\u001b[1;33m[\u001b[0m\u001b[1;36m0\u001b[0m\u001b[1;33m]\u001b[0m\u001b[1;33m)\u001b[0m\u001b[1;33m\u001b[0m\u001b[1;33m\u001b[0m\u001b[0m\n\u001b[0;32m    290\u001b[0m         \u001b[1;32mwith\u001b[0m \u001b[0mopen\u001b[0m\u001b[1;33m(\u001b[0m\u001b[0mto_path\u001b[0m\u001b[1;33m,\u001b[0m \u001b[1;34m\"wb\"\u001b[0m\u001b[1;33m)\u001b[0m \u001b[1;32mas\u001b[0m \u001b[0mout_f\u001b[0m\u001b[1;33m,\u001b[0m \u001b[0mgzip\u001b[0m\u001b[1;33m.\u001b[0m\u001b[0mGzipFile\u001b[0m\u001b[1;33m(\u001b[0m\u001b[0mfrom_path\u001b[0m\u001b[1;33m)\u001b[0m \u001b[1;32mas\u001b[0m \u001b[0mzip_f\u001b[0m\u001b[1;33m:\u001b[0m\u001b[1;33m\u001b[0m\u001b[1;33m\u001b[0m\u001b[0m\n\u001b[1;32m--> 291\u001b[1;33m             \u001b[0mout_f\u001b[0m\u001b[1;33m.\u001b[0m\u001b[0mwrite\u001b[0m\u001b[1;33m(\u001b[0m\u001b[0mzip_f\u001b[0m\u001b[1;33m.\u001b[0m\u001b[0mread\u001b[0m\u001b[1;33m(\u001b[0m\u001b[1;33m)\u001b[0m\u001b[1;33m)\u001b[0m\u001b[1;33m\u001b[0m\u001b[1;33m\u001b[0m\u001b[0m\n\u001b[0m\u001b[0;32m    292\u001b[0m     \u001b[1;32melif\u001b[0m \u001b[0m_is_zip\u001b[0m\u001b[1;33m(\u001b[0m\u001b[0mfrom_path\u001b[0m\u001b[1;33m)\u001b[0m\u001b[1;33m:\u001b[0m\u001b[1;33m\u001b[0m\u001b[1;33m\u001b[0m\u001b[0m\n\u001b[0;32m    293\u001b[0m         \u001b[1;32mwith\u001b[0m \u001b[0mzipfile\u001b[0m\u001b[1;33m.\u001b[0m\u001b[0mZipFile\u001b[0m\u001b[1;33m(\u001b[0m\u001b[0mfrom_path\u001b[0m\u001b[1;33m,\u001b[0m \u001b[1;34m'r'\u001b[0m\u001b[1;33m)\u001b[0m \u001b[1;32mas\u001b[0m \u001b[0mz\u001b[0m\u001b[1;33m:\u001b[0m\u001b[1;33m\u001b[0m\u001b[1;33m\u001b[0m\u001b[0m\n",
      "\u001b[1;32m~\\AppData\\Local\\Programs\\Python\\Python37\\lib\\gzip.py\u001b[0m in \u001b[0;36mread\u001b[1;34m(self, size)\u001b[0m\n\u001b[0;32m    285\u001b[0m             \u001b[1;32mimport\u001b[0m \u001b[0merrno\u001b[0m\u001b[1;33m\u001b[0m\u001b[1;33m\u001b[0m\u001b[0m\n\u001b[0;32m    286\u001b[0m             \u001b[1;32mraise\u001b[0m \u001b[0mOSError\u001b[0m\u001b[1;33m(\u001b[0m\u001b[0merrno\u001b[0m\u001b[1;33m.\u001b[0m\u001b[0mEBADF\u001b[0m\u001b[1;33m,\u001b[0m \u001b[1;34m\"read() on write-only GzipFile object\"\u001b[0m\u001b[1;33m)\u001b[0m\u001b[1;33m\u001b[0m\u001b[1;33m\u001b[0m\u001b[0m\n\u001b[1;32m--> 287\u001b[1;33m         \u001b[1;32mreturn\u001b[0m \u001b[0mself\u001b[0m\u001b[1;33m.\u001b[0m\u001b[0m_buffer\u001b[0m\u001b[1;33m.\u001b[0m\u001b[0mread\u001b[0m\u001b[1;33m(\u001b[0m\u001b[0msize\u001b[0m\u001b[1;33m)\u001b[0m\u001b[1;33m\u001b[0m\u001b[1;33m\u001b[0m\u001b[0m\n\u001b[0m\u001b[0;32m    288\u001b[0m \u001b[1;33m\u001b[0m\u001b[0m\n\u001b[0;32m    289\u001b[0m     \u001b[1;32mdef\u001b[0m \u001b[0mread1\u001b[0m\u001b[1;33m(\u001b[0m\u001b[0mself\u001b[0m\u001b[1;33m,\u001b[0m \u001b[0msize\u001b[0m\u001b[1;33m=\u001b[0m\u001b[1;33m-\u001b[0m\u001b[1;36m1\u001b[0m\u001b[1;33m)\u001b[0m\u001b[1;33m:\u001b[0m\u001b[1;33m\u001b[0m\u001b[1;33m\u001b[0m\u001b[0m\n",
      "\u001b[1;32m~\\AppData\\Local\\Programs\\Python\\Python37\\lib\\gzip.py\u001b[0m in \u001b[0;36mread\u001b[1;34m(self, size)\u001b[0m\n\u001b[0;32m    480\u001b[0m             \u001b[0mbuf\u001b[0m \u001b[1;33m=\u001b[0m \u001b[0mself\u001b[0m\u001b[1;33m.\u001b[0m\u001b[0m_fp\u001b[0m\u001b[1;33m.\u001b[0m\u001b[0mread\u001b[0m\u001b[1;33m(\u001b[0m\u001b[0mio\u001b[0m\u001b[1;33m.\u001b[0m\u001b[0mDEFAULT_BUFFER_SIZE\u001b[0m\u001b[1;33m)\u001b[0m\u001b[1;33m\u001b[0m\u001b[1;33m\u001b[0m\u001b[0m\n\u001b[0;32m    481\u001b[0m \u001b[1;33m\u001b[0m\u001b[0m\n\u001b[1;32m--> 482\u001b[1;33m             \u001b[0muncompress\u001b[0m \u001b[1;33m=\u001b[0m \u001b[0mself\u001b[0m\u001b[1;33m.\u001b[0m\u001b[0m_decompressor\u001b[0m\u001b[1;33m.\u001b[0m\u001b[0mdecompress\u001b[0m\u001b[1;33m(\u001b[0m\u001b[0mbuf\u001b[0m\u001b[1;33m,\u001b[0m \u001b[0msize\u001b[0m\u001b[1;33m)\u001b[0m\u001b[1;33m\u001b[0m\u001b[1;33m\u001b[0m\u001b[0m\n\u001b[0m\u001b[0;32m    483\u001b[0m             \u001b[1;32mif\u001b[0m \u001b[0mself\u001b[0m\u001b[1;33m.\u001b[0m\u001b[0m_decompressor\u001b[0m\u001b[1;33m.\u001b[0m\u001b[0munconsumed_tail\u001b[0m \u001b[1;33m!=\u001b[0m \u001b[1;34mb\"\"\u001b[0m\u001b[1;33m:\u001b[0m\u001b[1;33m\u001b[0m\u001b[1;33m\u001b[0m\u001b[0m\n\u001b[0;32m    484\u001b[0m                 \u001b[0mself\u001b[0m\u001b[1;33m.\u001b[0m\u001b[0m_fp\u001b[0m\u001b[1;33m.\u001b[0m\u001b[0mprepend\u001b[0m\u001b[1;33m(\u001b[0m\u001b[0mself\u001b[0m\u001b[1;33m.\u001b[0m\u001b[0m_decompressor\u001b[0m\u001b[1;33m.\u001b[0m\u001b[0munconsumed_tail\u001b[0m\u001b[1;33m)\u001b[0m\u001b[1;33m\u001b[0m\u001b[1;33m\u001b[0m\u001b[0m\n",
      "\u001b[1;31mKeyboardInterrupt\u001b[0m: "
     ]
    }
   ],
   "source": [
    "# Define a transform to normalize the data (Preprocessing)\n",
    "transform = transforms.Compose([transforms.ToTensor(), transforms.Normalize((0.5), (0.5)) ])\n",
    "def my_collate(batch):\n",
    "    modified_batch = []\n",
    "    for item in batch:\n",
    "        image, label = item\n",
    "        if label < 10: # only the first ten letters\n",
    "            modified_batch.append(item)\n",
    "    return torch.utils.data._utils.collate.default_collate(modified_batch)\n",
    "\n",
    "\n",
    "# Download and load the training data\n",
    "trainset    = datasets.EMNIST('EMNIST_data/', split=\"letters\", download=True, train=True, transform=transform)\n",
    "trainloader = torch.utils.data.DataLoader(trainset, batch_size=16, shuffle=True, collate_fn=my_collate)\n",
    "\n",
    "# Download and load the test data\n",
    "testset    = datasets.EMNIST('EMNIST_data/', split=\"letters\", download=True, train=False, transform=transform)\n",
    "testloader = torch.utils.data.DataLoader(testset, batch_size=16, shuffle=True, collate_fn=my_collate)"
   ]
  },
  {
   "cell_type": "code",
   "execution_count": 51,
   "metadata": {
    "ExecuteTime": {
     "end_time": "2021-05-26T22:51:02.493175Z",
     "start_time": "2021-05-26T22:51:02.464301Z"
    }
   },
   "outputs": [],
   "source": [
    "dataiter = iter(trainloader)\n",
    "images, labels = dataiter.next()"
   ]
  },
  {
   "cell_type": "code",
   "execution_count": 52,
   "metadata": {
    "ExecuteTime": {
     "end_time": "2021-05-26T22:51:03.118421Z",
     "start_time": "2021-05-26T22:51:02.978678Z"
    }
   },
   "outputs": [
    {
     "data": {
      "image/png": "[encoded data removed]",
      "text/plain": [
       "<Figure size 432x288 with 1 Axes>"
      ]
     },
     "metadata": {
      "image/png": {
       "height": 248,
       "width": 251
      },
      "needs_background": "light"
     },
     "output_type": "display_data"
    }
   ],
   "source": [
    "plt.imshow(images[5].numpy().squeeze(), cmap='Greys_r');"
   ]
  },
  {
   "cell_type": "code",
   "execution_count": 53,
   "metadata": {
    "ExecuteTime": {
     "end_time": "2021-05-26T22:51:06.653639Z",
     "start_time": "2021-05-26T22:51:06.647991Z"
    }
   },
   "outputs": [
    {
     "data": {
      "text/plain": [
       "tensor([1, 9, 6, 7, 5, 1, 9, 3])"
      ]
     },
     "execution_count": 53,
     "metadata": {},
     "output_type": "execute_result"
    }
   ],
   "source": [
    "labels"
   ]
  },
  {
   "cell_type": "code",
   "execution_count": null,
   "metadata": {},
   "outputs": [],
   "source": []
  }
 ],
 "metadata": {
  "kernelspec": {
   "name": "python379jvsc74a57bd03bdf658a3589a7fec615e49c34fea1ae8d54b9f47d3cbfb2eaab29174ceee87c",
   "display_name": "Python 3.7.9 64-bit"
  },
  "language_info": {
   "codemirror_mode": {
    "name": "ipython",
    "version": 3
   },
   "file_extension": ".py",
   "mimetype": "text/x-python",
   "name": "python",
   "nbconvert_exporter": "python",
   "pygments_lexer": "ipython3",
   "version": "3.7.9"
  },
  "varInspector": {
   "cols": {
    "lenName": 16,
    "lenType": 16,
    "lenVar": 40
   },
   "kernels_config": {
    "python": {
     "delete_cmd_postfix": "",
     "delete_cmd_prefix": "del ",
     "library": "var_list.py",
     "varRefreshCmd": "print(var_dic_list())"
    },
    "r": {
     "delete_cmd_postfix": ") ",
     "delete_cmd_prefix": "rm(",
     "library": "var_list.r",
     "varRefreshCmd": "cat(var_dic_list()) "
    }
   },
   "types_to_exclude": [
    "module",
    "function",
    "builtin_function_or_method",
    "instance",
    "_Feature"
   ],
   "window_display": false
  },
  "metadata": {
   "interpreter": {
    "hash": "3bdf658a3589a7fec615e49c34fea1ae8d54b9f47d3cbfb2eaab29174ceee87c"
   }
  }
 },
 "nbformat": 4,
 "nbformat_minor": 2
}