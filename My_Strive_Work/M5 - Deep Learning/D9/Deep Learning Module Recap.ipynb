{
 "cells": [
  {
   "cell_type": "markdown",
   "source": "## What is Deep Learning?\n\nA field of Machine Learning that is a field of AI. It's called Deep Learning because it exploits architectures with multiple \"hidden layers\", called Neural Networks, giving a certain \"depth\" to the model.\n\n<img src=\"https://t44dz3y7fq02vi4w64ej6i5t-wpengine.netdna-ssl.com/wp-content/uploads/2018/06/deep-learning.png\" alt=\"\" width=\"500\"/>\n\n<!-- ![image](https://t44dz3y7fq02vi4w64ej6i5t-wpengine.netdna-ssl.com/wp-content/uploads/2018/06/deep-learning.png) -->",
   "metadata": {
    "cell_id": "00000-218f7cef-793a-463e-b88e-f751c0221b34",
    "deepnote_cell_type": "markdown"
   }
  },
  {
   "cell_type": "markdown",
   "source": "## What are common components of a Neural Network?\n\n**Activation functions**\n\nExamples of activation functions:\n\n*Sigmoid*: `1/(1+e^(-x))`, output between 0 and 1. Often used for transforming scores into probabilities.\n\n<img src=\"https://upload.wikimedia.org/wikipedia/commons/thumb/8/88/Logistic-curve.svg/1200px-Logistic-curve.svg.png\" alt=\"\" width=\"500\"/>\n\n<!-- ![image](https://upload.wikimedia.org/wikipedia/commons/thumb/8/88/Logistic-curve.svg/1200px-Logistic-curve.svg.png) -->\n\n",
   "metadata": {
    "cell_id": "00001-c8374b52-0d85-46c6-8d7a-4c419fbd8284",
    "deepnote_cell_type": "markdown"
   }
  },
  {
   "cell_type": "markdown",
   "source": "*ReLU*: max(0, x), output: between 0 and +inf, used almost all the times between hidden layers (not the output)\n\n*Tanh**: output between -1 and 1. Good because it's zero centered. Problem: saturate fast as sigmoid. Good in LSTM. \n\n<img src=\"https://www.oreilly.com/library/view/machine-learning-with/9781789346565/assets/c9014c8e-7d06-4a12-9390-4d17f9379eb9.png\" alt=\"\" width=\"500\"/>\n\n<!-- ![image](https://www.oreilly.com/library/view/machine-learning-with/9781789346565/assets/c9014c8e-7d06-4a12-9390-4d17f9379eb9.png) -->\n\nAn activation function define how much an input neuron contribute to the next layer based on conditional threshold.\n\nIt's a function that allows the neural network to approximate non-linear functions. In fact, it is also called non-linearity.",
   "metadata": {
    "cell_id": "00002-fc3c4893-650c-4e87-8f4e-2ed0cc37f863",
    "deepnote_cell_type": "markdown"
   }
  },
  {
   "cell_type": "markdown",
   "source": "**Softmax**\n\nA function that transforms an array of scores (the length of the array is the number of classes you want to predict) into probabilities.\n\nIf our `criterion` (loss function) is `nn.NLLLoss()`, then we can use the `nn.LogSoftmax()` as output. This will compute the logarithm of the probabilities of each class.\n\nIf we are using the nn.LogSoftmax(), and so we have the log probabilities, if we want to see the probability of each class we just compute the `torch.exp(logps)`.\n\n\n**Dropout**\n\nUsed as regularization method to prevent overfitting. It turns off some neurons during training, and turn them on again in the validation part/inference part. It also speed up the training process because you have less computation to do (less weights to multiply).\n\n**Batch Normalization**\n\nInstead of just normalizing the inputs to the network, we normalize the inputs to layers within the network.\n\n>It's called batch normalization because during training, we normalize each layer's inputs by using the mean and variance of the values in the current batch.\n\nIt makes the training faster and more stable through normalization of the layers' inputs by re-centering and re-scaling.\n\nDebates in \"why it works\".\n\nAt the beginning, it makes the gradient to \"explode\", while *skip connections* (that are present in resnet for example) helps.\n\nIn code:\n\n```nn.BatchNorm1d(hidden_dim)```\n\n`hidden_dim` must be the same dimension of the next layer input. So if before it there's a `Linear(input_dim, output_dim)`, we have that `hidden_dim=output_dim`.",
   "metadata": {
    "cell_id": "00003-c80ea083-7f4e-4630-896d-7e2c82edd5ef",
    "deepnote_cell_type": "markdown"
   }
  },
  {
   "cell_type": "code",
   "metadata": {
    "cell_id": "00004-c145b289-b7a0-4638-a7bf-ca148ced4704",
    "deepnote_cell_type": "code"
   },
   "source": "",
   "execution_count": null,
   "outputs": []
  },
  {
   "cell_type": "markdown",
   "source": "\n\n\n**Loss Function**\n\nThe Loss function computes the error of our prediction.\n\n- Mean-Squared Error --> Used in Regression, `nn.MSELoss()`\n- NegativeLogLikelihood Loss --> Classification, in conjuction with `nn.LogSoftmax()`, in Pytorch `nn.NLLLoss()`\n- Cross Entropy Loss --> Classification, in Pytorch there's no need to add a softmax as output of the NN, `nn.CrossEntropyLoss()`.\n\n**Optimizer**\n\nIt's an algorithm used to update the weights of our model in order to reduce the error given by the loss function. Some example of them are:\n\n- Stochastic Gradient Descent, SGD: updates the weights every batch. In Pytorch `optimizer = optim.SGD(model.parameters(), lr=0.01, momentum=0.9`\n\n- Adam Optimizer, it exploits many techniques to be more adaptive and use momentum in the updates.\nIn Pytorch: `optimizer = optim.Adam(model.parameters(), lr=0.0001)`.\n\n... Other that you see on torch.optim Pytorch documentation\n\n**Learning Rate**\n\nAn hyperparameter that we specify in the optimizer that define how much we update the weights at each iteration.\n\nAn alternative definition is how much is the step size in the gradient descent process.\n\n**Some other definitions**:\n\n- *Logits*: the output of an hidden layer before applying the activation function (or a softmax)\n\n- Output probabilities: the probability of each class in the prediction of the NN. For binary classification problems, it's either a vector of two components (one hot encoding style - output of a 2-way softmax) or the output of a sigmoid (so single value). For multiclassification problem, let's say with N classes, it is the output of an N-way softmax.\n\n- Backpropagation: the algorithm that is used by neural networks to automatically compute the gradient of the loss function\n\n",
   "metadata": {
    "ExecuteTime": {
     "end_time": "2021-06-04T07:39:36.961519Z",
     "start_time": "2021-06-04T07:39:36.890682Z"
    },
    "cell_id": "00005-d8012298-a4ad-47fb-b3cf-75d2a8bcaba4",
    "deepnote_cell_type": "markdown"
   }
  },
  {
   "cell_type": "markdown",
   "source": "**How a Neural Network learn**\n\n- A neural network learns from the data, that are the input of the network.\n- It computes a prediction as output (often as a probability, or a continuous value for regression)\n- The model consists of weights that are used to make the prediction\n- In a supervised learning approach, a \"loss function\" is used to compute the error for each prediction\n- To minimize the loss function, the gradient of it with respect to the weights of the model is computed using backpropagation\n- The weights are updated towards the steepest direction of the gradient\n\n",
   "metadata": {
    "cell_id": "00006-434343c2-a178-41dd-8001-6e3d81b006a0",
    "deepnote_cell_type": "markdown"
   }
  },
  {
   "cell_type": "markdown",
   "source": "## What are the main categories of Deep Learning architectures?\n\n### Multilayer Perceptron or Fully Connected layers\n\n![image](https://www.researchgate.net/profile/Michael-Frish/publication/241347660/figure/fig3/AS:298690993508361@1448224890429/The-structure-of-a-multilayer-perceptron-neural-network.png)\n\nThe basic component is the Perceptron, that is a Neuron.\n\n### Convolutional Neural Networks\n\n![image](https://miro.medium.com/max/3288/1*uAeANQIOQPqWZnnuH-VEyw.jpeg)\n\n",
   "metadata": {
    "cell_id": "00007-87ad4aea-c256-47f1-9e5c-0caf9154c2b4",
    "deepnote_cell_type": "markdown"
   }
  },
  {
   "cell_type": "markdown",
   "source": "### When do we use Convolutional Neural Networks?\n\nWith *grid-like* data, like pictures, videos.\n\nMainly when the absolute position of a feature is not relevant for the target prediction. \n\n**Why?** Because the convolution operation on the input makes it *translation invariant*.\n\n**What are other properties of CNNs?**\n\n*Parameter sharing*: the filters (that are learned during convolution) are shared all over the input.\n\n\n**What are the things that a CNN learns?** The filters.\n\n**How is a common CNN architecture defined?** We have Convolutational Layers, then Activations function (often *ReLu*), Pooling layers (no weights learned, often *Max Pooling*) for the \"feature extraction\" part. At the end, we have a \"classifier\", that is usually a MLP or just a fully connected layer with a softmax as output.",
   "metadata": {
    "cell_id": "00008-2d57345d-42d2-4679-8c38-98fc053d1a93",
    "deepnote_cell_type": "markdown"
   }
  },
  {
   "cell_type": "markdown",
   "source": "### Recurrent Neural Networks",
   "metadata": {
    "cell_id": "00009-d7270ce0-3a25-4656-91b4-8e497a9a4ac3",
    "deepnote_cell_type": "markdown"
   }
  },
  {
   "cell_type": "markdown",
   "source": "\nGeneral rules for a good cheat sheet:\n\n- Definition\n- Applications\n- Code in Pytorch",
   "metadata": {
    "cell_id": "00010-f514b83e-067b-46f0-b0a5-727debc7f7ee",
    "deepnote_cell_type": "markdown"
   }
  },
  {
   "cell_type": "code",
   "metadata": {
    "cell_id": "00011-764b9903-c59c-4877-9737-2fe84ae59b1c",
    "deepnote_cell_type": "code"
   },
   "source": "",
   "execution_count": null,
   "outputs": []
  },
  {
   "cell_type": "markdown",
   "source": "<a style='text-decoration:none;line-height:16px;display:flex;color:#5B5B62;padding:10px;justify-content:end;' href='https://deepnote.com?utm_source=created-in-deepnote-cell&projectId=0cdfccc9-bc76-40a7-ab63-af37fc13c95d' target=\"_blank\">\n<img alt='Created in deepnote.com' style='display:inline;max-height:16px;margin:0px;margin-right:7.5px;' src='data:image/svg+xml;base64,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' > </img>\nCreated in <span style='font-weight:600;margin-left:4px;'>Deepnote</span></a>",
   "metadata": {
    "tags": [],
    "created_in_deepnote_cell": true,
    "deepnote_cell_type": "markdown"
   }
  }
 ],
 "nbformat": 4,
 "nbformat_minor": 5,
 "metadata": {
  "kernelspec": {
   "display_name": "Python 3",
   "language": "python",
   "name": "python3"
  },
  "language_info": {
   "codemirror_mode": {
    "name": "ipython",
    "version": 3
   },
   "file_extension": ".py",
   "mimetype": "text/x-python",
   "name": "python",
   "nbconvert_exporter": "python",
   "pygments_lexer": "ipython3",
   "version": "3.9.1"
  },
  "varInspector": {
   "cols": {
    "lenName": 16,
    "lenType": 16,
    "lenVar": 40
   },
   "kernels_config": {
    "python": {
     "delete_cmd_postfix": "",
     "delete_cmd_prefix": "del ",
     "library": "var_list.py",
     "varRefreshCmd": "print(var_dic_list())"
    },
    "r": {
     "delete_cmd_postfix": ") ",
     "delete_cmd_prefix": "rm(",
     "library": "var_list.r",
     "varRefreshCmd": "cat(var_dic_list()) "
    }
   },
   "types_to_exclude": [
    "module",
    "function",
    "builtin_function_or_method",
    "instance",
    "_Feature"
   ],
   "window_display": false
  },
  "deepnote_notebook_id": "2b28d498-5f66-44d4-88bf-6910c2d63692",
  "deepnote": {},
  "deepnote_execution_queue": []
 }
}