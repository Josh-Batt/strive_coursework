{
 "cells": [
  {
   "cell_type": "markdown",
   "id": "acting-alfred",
   "metadata": {},
   "source": [
    "#### Exercise 17: which is the probability of drawing a heart or an ace?"
   ]
  },
  {
   "cell_type": "code",
   "execution_count": 1,
   "id": "differential-likelihood",
   "metadata": {},
   "outputs": [
    {
     "data": {
      "text/plain": [
       "0.04"
      ]
     },
     "execution_count": 1,
     "metadata": {},
     "output_type": "execute_result"
    }
   ],
   "source": [
    "cond = 2\n",
    "poss = 52 - 2\n",
    "\n",
    "prob = cond/poss\n",
    "prob = round(prob,3)\n",
    "prob"
   ]
  }
 ],
 "metadata": {
  "kernelspec": {
   "display_name": "Python 3",
   "language": "python",
   "name": "python3"
  },
  "language_info": {
   "codemirror_mode": {
    "name": "ipython",
    "version": 3
   },
   "file_extension": ".py",
   "mimetype": "text/x-python",
   "name": "python",
   "nbconvert_exporter": "python",
   "pygments_lexer": "ipython3",
   "version": "3.8.8"
  }
 },
 "nbformat": 4,
 "nbformat_minor": 5
}
