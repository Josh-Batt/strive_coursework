{
 "cells": [
  {
   "cell_type": "markdown",
   "metadata": {},
   "source": [
    "###### Content under Creative Commons Attribution license CC-BY 4.0, code under BSD 3-Clause License © 2017 L.A. Barba, N.C. Clementi"
   ]
  },
  {
   "cell_type": "markdown",
   "metadata": {},
   "source": [
    "# Seeing stats in a new light\n",
    "\n",
    "Welcome to the second lesson in \"Take off with stats,\" Module 2 of our series in _Engineering Computations_. In the previous lesson, [Cheers! Stats with Beers](http://go.gwu.edu/engcomp2lesson1), we did some exploratory data analysis with a data set of canned craft beers in the US [1]. We'll continue using that same data set here, but with a new focus on _visualizing statistics_.\n",
    "\n",
    "In her lecture [\"Looking at Data\"](https://youtu.be/QYDuAo9r1xE), Prof. Kristin Sainani says that you should always plot your data. Immediately, several things can come to light: are there outliers in your data? (Outliers are data points that look abnormally far from other values in the sample.) Are there data points that don't make sense? (Errors in data entry can be spotted this way.) And especially, you want to get a _visual_ representation of how data are distributed in your sample.\n",
    "\n",
    "In this lesson, we'll play around with different ways of visualizing data. We have so many ways to play! Have a look at the gallery of [The Data Viz Project](http://datavizproject.com) by _ferdio_ (a data viz agency in Copenhagen). Aren't those gorgeous? Wouldn't you like to be able to make some pretty pics like that? Python can help!\n",
    "\n",
    "Let's begin. We'll import our favorite Python libraries, and set some font parameters for our plots to look nicer. Then we'll load our data set for craft beers and begin!"
   ]
  },
  {
   "cell_type": "code",
   "execution_count": 1,
   "metadata": {},
   "outputs": [],
   "source": [
    "import numpy\n",
    "import pandas\n",
    "from matplotlib import pyplot\n",
    "%matplotlib inline\n",
    "\n",
    "#Import rcParams to set font styles\n",
    "from matplotlib import rcParams\n",
    "\n",
    "#Set font style and size \n",
    "rcParams['font.family'] = 'serif'\n",
    "rcParams['font.size'] = 16"
   ]
  },
  {
   "cell_type": "markdown",
   "metadata": {},
   "source": [
    "## Read the data\n",
    "\n",
    "Like in the previous lesson, we will load the data from a `.csv` file. You may have the file in your working directory if you downloaded it when working through the previous lesson. In that case, you could load it like this:\n",
    "\n",
    "```Python\n",
    "beers = pandas.read_csv(\"beers.csv\")\n",
    "```\n",
    "\n",
    "If you downloaded the full set of lesson files from our public repository, you can find the file in the `/data` folder, and you can load it with the full path:"
   ]
  },
  {
   "cell_type": "code",
   "execution_count": 2,
   "metadata": {},
   "outputs": [],
   "source": [
    "# Load the beers data set using pandas, and assign it to a dataframe\n",
    "beers = pandas.read_csv(\"../data/beers.csv\")"
   ]
  },
  {
   "cell_type": "markdown",
   "metadata": {},
   "source": [
    "##### Note:\n",
    "\n",
    "If you don't have the data file locally, download it by adding a code cell, and executing the following code in it:\n",
    "\n",
    "```Python\n",
    "from urllib.request import urlretrieve\n",
    "URL = 'http://go.gwu.edu/engcomp2data1?accessType=DOWNLOAD'\n",
    "urlretrieve(URL, 'beers.csv')\n",
    "```\n",
    "The data file will be downloaded to your working directory, and you will load it like described above."
   ]
  },
  {
   "cell_type": "markdown",
   "metadata": {},
   "source": [
    "OK. Let's have a look at the first few rows of the `pandas` dataframe we just created from the file, and confirm that it's a dataframe using the `type()` function. We only display the first 10 rows to save some space."
   ]
  },
  {
   "cell_type": "code",
   "execution_count": 3,
   "metadata": {},
   "outputs": [
    {
     "data": {
      "text/plain": [
       "pandas.core.frame.DataFrame"
      ]
     },
     "execution_count": 3,
     "metadata": {},
     "output_type": "execute_result"
    }
   ],
   "source": [
    "type(beers)"
   ]
  },
  {
   "cell_type": "code",
   "execution_count": 4,
   "metadata": {},
   "outputs": [
    {
     "data": {
      "text/html": [
       "<div>\n",
       "<style scoped>\n",
       "    .dataframe tbody tr th:only-of-type {\n",
       "        vertical-align: middle;\n",
       "    }\n",
       "\n",
       "    .dataframe tbody tr th {\n",
       "        vertical-align: top;\n",
       "    }\n",
       "\n",
       "    .dataframe thead th {\n",
       "        text-align: right;\n",
       "    }\n",
       "</style>\n",
       "<table border=\"1\" class=\"dataframe\">\n",
       "  <thead>\n",
       "    <tr style=\"text-align: right;\">\n",
       "      <th></th>\n",
       "      <th>Unnamed: 0</th>\n",
       "      <th>abv</th>\n",
       "      <th>ibu</th>\n",
       "      <th>id</th>\n",
       "      <th>name</th>\n",
       "      <th>style</th>\n",
       "      <th>brewery_id</th>\n",
       "      <th>ounces</th>\n",
       "    </tr>\n",
       "  </thead>\n",
       "  <tbody>\n",
       "    <tr>\n",
       "      <th>0</th>\n",
       "      <td>0</td>\n",
       "      <td>0.050</td>\n",
       "      <td>NaN</td>\n",
       "      <td>1436</td>\n",
       "      <td>Pub Beer</td>\n",
       "      <td>American Pale Lager</td>\n",
       "      <td>408</td>\n",
       "      <td>12.0</td>\n",
       "    </tr>\n",
       "    <tr>\n",
       "      <th>1</th>\n",
       "      <td>1</td>\n",
       "      <td>0.066</td>\n",
       "      <td>NaN</td>\n",
       "      <td>2265</td>\n",
       "      <td>Devil's Cup</td>\n",
       "      <td>American Pale Ale (APA)</td>\n",
       "      <td>177</td>\n",
       "      <td>12.0</td>\n",
       "    </tr>\n",
       "    <tr>\n",
       "      <th>2</th>\n",
       "      <td>2</td>\n",
       "      <td>0.071</td>\n",
       "      <td>NaN</td>\n",
       "      <td>2264</td>\n",
       "      <td>Rise of the Phoenix</td>\n",
       "      <td>American IPA</td>\n",
       "      <td>177</td>\n",
       "      <td>12.0</td>\n",
       "    </tr>\n",
       "    <tr>\n",
       "      <th>3</th>\n",
       "      <td>3</td>\n",
       "      <td>0.090</td>\n",
       "      <td>NaN</td>\n",
       "      <td>2263</td>\n",
       "      <td>Sinister</td>\n",
       "      <td>American Double / Imperial IPA</td>\n",
       "      <td>177</td>\n",
       "      <td>12.0</td>\n",
       "    </tr>\n",
       "    <tr>\n",
       "      <th>4</th>\n",
       "      <td>4</td>\n",
       "      <td>0.075</td>\n",
       "      <td>NaN</td>\n",
       "      <td>2262</td>\n",
       "      <td>Sex and Candy</td>\n",
       "      <td>American IPA</td>\n",
       "      <td>177</td>\n",
       "      <td>12.0</td>\n",
       "    </tr>\n",
       "    <tr>\n",
       "      <th>5</th>\n",
       "      <td>5</td>\n",
       "      <td>0.077</td>\n",
       "      <td>NaN</td>\n",
       "      <td>2261</td>\n",
       "      <td>Black Exodus</td>\n",
       "      <td>Oatmeal Stout</td>\n",
       "      <td>177</td>\n",
       "      <td>12.0</td>\n",
       "    </tr>\n",
       "    <tr>\n",
       "      <th>6</th>\n",
       "      <td>6</td>\n",
       "      <td>0.045</td>\n",
       "      <td>NaN</td>\n",
       "      <td>2260</td>\n",
       "      <td>Lake Street Express</td>\n",
       "      <td>American Pale Ale (APA)</td>\n",
       "      <td>177</td>\n",
       "      <td>12.0</td>\n",
       "    </tr>\n",
       "    <tr>\n",
       "      <th>7</th>\n",
       "      <td>7</td>\n",
       "      <td>0.065</td>\n",
       "      <td>NaN</td>\n",
       "      <td>2259</td>\n",
       "      <td>Foreman</td>\n",
       "      <td>American Porter</td>\n",
       "      <td>177</td>\n",
       "      <td>12.0</td>\n",
       "    </tr>\n",
       "    <tr>\n",
       "      <th>8</th>\n",
       "      <td>8</td>\n",
       "      <td>0.055</td>\n",
       "      <td>NaN</td>\n",
       "      <td>2258</td>\n",
       "      <td>Jade</td>\n",
       "      <td>American Pale Ale (APA)</td>\n",
       "      <td>177</td>\n",
       "      <td>12.0</td>\n",
       "    </tr>\n",
       "    <tr>\n",
       "      <th>9</th>\n",
       "      <td>9</td>\n",
       "      <td>0.086</td>\n",
       "      <td>NaN</td>\n",
       "      <td>2131</td>\n",
       "      <td>Cone Crusher</td>\n",
       "      <td>American Double / Imperial IPA</td>\n",
       "      <td>177</td>\n",
       "      <td>12.0</td>\n",
       "    </tr>\n",
       "  </tbody>\n",
       "</table>\n",
       "</div>"
      ],
      "text/plain": [
       "   Unnamed: 0    abv  ibu    id                 name  \\\n",
       "0           0  0.050  NaN  1436             Pub Beer   \n",
       "1           1  0.066  NaN  2265          Devil's Cup   \n",
       "2           2  0.071  NaN  2264  Rise of the Phoenix   \n",
       "3           3  0.090  NaN  2263             Sinister   \n",
       "4           4  0.075  NaN  2262        Sex and Candy   \n",
       "5           5  0.077  NaN  2261         Black Exodus   \n",
       "6           6  0.045  NaN  2260  Lake Street Express   \n",
       "7           7  0.065  NaN  2259              Foreman   \n",
       "8           8  0.055  NaN  2258                 Jade   \n",
       "9           9  0.086  NaN  2131         Cone Crusher   \n",
       "\n",
       "                            style  brewery_id  ounces  \n",
       "0             American Pale Lager         408    12.0  \n",
       "1         American Pale Ale (APA)         177    12.0  \n",
       "2                    American IPA         177    12.0  \n",
       "3  American Double / Imperial IPA         177    12.0  \n",
       "4                    American IPA         177    12.0  \n",
       "5                   Oatmeal Stout         177    12.0  \n",
       "6         American Pale Ale (APA)         177    12.0  \n",
       "7                 American Porter         177    12.0  \n",
       "8         American Pale Ale (APA)         177    12.0  \n",
       "9  American Double / Imperial IPA         177    12.0  "
      ]
     },
     "execution_count": 4,
     "metadata": {},
     "output_type": "execute_result"
    }
   ],
   "source": [
    "beers[0:10]"
   ]
  },
  {
   "cell_type": "markdown",
   "metadata": {},
   "source": [
    "## Quantitative vs. categorical data\n",
    "\n",
    "As you can see in the nice table that `pandas` printed for the dataframe, we have several features for each beer: the label `abv` corresponds to the acohol-by-volume fraction, label `ibu` refers to the international bitterness unit (IBU), then we have the `name` of the beer and the `style`, the brewery ID number, and the liquid volume of the beer can, in ounces.\n",
    "\n",
    "Alcohol-by-volume is a numeric feature: a volume fraction, with possible values from 0 to 1 (sometimes also given as a percentage). In the first 10 rows of our dataframe, the `ibu` value is missing (all those `NaN`s), but we saw in the previous lesson that `ibu` is also a numeric feature, with values that go from a minimum of 4 to a maximum of 138 (in our data set). IBU is pretty mysterious: how do you measure the bitterness of beer? It turns out that bitterness is measured as parts per million of _isohumulone_, the acid found in hops [2]. Who knew?\n",
    "\n",
    "For these numeric features, we learned that we can get an idea of the _central tendency_ in the data using the **mean value**, and we get ideas of _spread_ of the data with the **standard deviation** (and also with the range, but standard deviation is the most common).\n",
    "\n",
    "Notice that the beer data also has a feature named `style`: it can be \"American IPA\" or \"American Porter\" or a bunch of other styles of beer. If we want to study the beers according to style, we'll have to come up with some new ideas, because you can't take the mean or standard deviation of this feature!\n",
    "\n",
    "**Quantitative data** have meaning through a numeric feature, either on a continuous scale (like a fraction from 0 to 1), or a discrete count. \n",
    "**Categorical data**, in contrast, have meaning through a qualitative feature (like the style of beer). Data in this form can be collected in groups (categories), and then we can count the number of data items in that group. For example, we could ask how many beers (in our set) are of the style \"American IPA,\" or ask how many beers we have in each style.\n"
   ]
  },
  {
   "cell_type": "markdown",
   "metadata": {},
   "source": [
    "## Visualizing quantitative data\n",
    "\n",
    "In the previous lesson, we played around a bit with the `abv` and `ibu` columns of the dataframe `beers`. For each of these columns, we extracted it from the dataframe and saved it into a `pandas` series, then we used the `dropna()` method to get rid of null values. This \"clean\" data was our starting point for some exploratory data analysis, and for plotting the data distributions using **histograms**. Here, we will add a few more ingredients to our recipes for data exploration, and we'll learn about a new type of visualization: the **box plot**.\n",
    "\n",
    "Let's repeat here the process for extracting and cleaning the two series, and getting the values into NumPy arrays:"
   ]
  },
  {
   "cell_type": "code",
   "execution_count": 5,
   "metadata": {},
   "outputs": [],
   "source": [
    "#Repeat cleaning values abv\n",
    "abv_series = beers['abv']\n",
    "abv_clean = abv_series.dropna()\n",
    "abv = abv_clean.values"
   ]
  },
  {
   "cell_type": "code",
   "execution_count": 6,
   "metadata": {},
   "outputs": [],
   "source": [
    "#Repeat cleaning values ibu\n",
    "ibu_series = beers['ibu']\n",
    "ibu_clean = ibu_series.dropna()\n",
    "ibu = ibu_clean.values"
   ]
  },
  {
   "cell_type": "markdown",
   "metadata": {},
   "source": [
    "Let's also repeat a histogram plot for the `abv` variable, but this time choose to plot just 10 bins (you'll see why in a moment)."
   ]
  },
  {
   "cell_type": "code",
   "execution_count": 7,
   "metadata": {},
   "outputs": [
    {
     "data": {
      "image/png": "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\n",
      "text/plain": [
       "<Figure size 432x288 with 1 Axes>"
      ]
     },
     "metadata": {
      "needs_background": "light"
     },
     "output_type": "display_data"
    }
   ],
   "source": [
    "pyplot.figure(figsize=(6,4))\n",
    "pyplot.hist(abv, bins=10, color='#3498db', histtype='bar', edgecolor='white') \n",
    "pyplot.title('Alcohol by Volume (abv) \\n')\n",
    "pyplot.xlabel('abv')\n",
    "pyplot.ylabel('Frequency');"
   ]
  },
  {
   "cell_type": "markdown",
   "metadata": {},
   "source": [
    "You can tell that the most frequent values of `abv` fall in the bin just above 0.05 (5% alcohol), and the bin below. The mean value of our data is 0.06, which happens to be within the top-frequency bin, but data is not always so neat (sometimes, extreme values weigh heavily on the mean). Note also that we have a _right skewed_ distribution, with higher-frequency bins occuring in the lower end of the range than in the higher end.\n",
    "\n",
    "If you played around with the bin sizes in the previous lesson, you might have noticed that with a lot of bins, it becomes harder to visually pick out the patterns in the data. But if you use too few bins, the plot is also unhelpful. What number of bins is just right? Well, it depends on your data, so you'll just have to experiment and use your best judgement."
   ]
  },
  {
   "cell_type": "markdown",
   "metadata": {},
   "source": [
    "Let's learn a new trick. It turns out that `pandas` has built-in methods to make histograms directly from columns of a dataframe! (It uses Matplotlib internally for that.) The syntax is short and sweet:\n",
    "\n",
    "```\n",
    "dataframe.hist(column='label')\n",
    "```\n",
    "\n",
    "And `pandas` plots a pretty nice histogram without help. You can add optional parameters to set these to your liking; see the [documentation](https://pandas.pydata.org/pandas-docs/stable/generated/pandas.DataFrame.hist.html). Check it out, and compare with our previous plot."
   ]
  },
  {
   "cell_type": "code",
   "execution_count": 8,
   "metadata": {},
   "outputs": [
    {
     "data": {
      "image/png": "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\n",
      "text/plain": [
       "<Figure size 432x288 with 1 Axes>"
      ]
     },
     "metadata": {
      "needs_background": "light"
     },
     "output_type": "display_data"
    }
   ],
   "source": [
    "beers.hist(column='abv', edgecolor='white')\n",
    "pyplot.title('Alcohol by Volume (abv) \\n');"
   ]
  },
  {
   "cell_type": "markdown",
   "metadata": {},
   "source": [
    "Which one do you like better? Well, the `pandas` histogram took fewer lines of code to create.  And it doesn't look bad at all. But we do have more fine-grained control with Matplotlib. Which method you choose in a real situation will just depend on the situation and your preference."
   ]
  },
  {
   "cell_type": "markdown",
   "metadata": {},
   "source": [
    "### Exploring quantitative data (continued)\n",
    "\n",
    "In the [previous lesson](http://go.gwu.edu/engcomp2lesson1), you learned how to compute the mean of the data using `numpy.mean()`. How easy is that? But then we wrote our own custom functions to compute variance or standard deviation. It shouldn't surprise you by now that there are also NumPy functions for that!\n",
    "\n",
    "\n",
    "##### Exercise:\n",
    "\n",
    "* Go to the documentation of [`numpy.var()`](https://docs.scipy.org/doc/numpy-1.13.0/reference/generated/numpy.var.html) and analyze if this function is computing the _sample variance_. \n",
    "**Hint**: Check what it says about the \"data degrees of freedom.\"\n",
    "\n",
    "If you did the reading, you might have noticed that, by default, the argument `ddof` in `numpy.var()` is set to zero. If we use the default option, then we are not really calculating the sample variance. Recall from the previous lesson that the **sample variance** is:\n",
    "\n",
    "$$\n",
    "\\begin{equation*}     \n",
    "     \\text{var}_{sample} = \\frac{1}{N-1}\\sum_{i} (x_i - \\bar{x})^2\n",
    "\\end{equation*}\n",
    "$$\n",
    "\n",
    "Therefore, we need to be explicit about the division by $N-1$ when calling `numpy.var()`. How do we do that? We explicitly set `ddof` to `1`.  \n",
    "\n",
    "For example, to compute the sample variance for our `abv` variable, we do:"
   ]
  },
  {
   "cell_type": "code",
   "execution_count": 9,
   "metadata": {},
   "outputs": [
    {
     "name": "stdout",
     "output_type": "stream",
     "text": [
      "0.00018337855205347506\n"
     ]
    }
   ],
   "source": [
    "var_abv = numpy.var(abv, ddof=1)\n",
    "print(var_abv)"
   ]
  },
  {
   "cell_type": "markdown",
   "metadata": {},
   "source": [
    "Now we can compute the standard deviation by taking the square root of `var_abv`:"
   ]
  },
  {
   "cell_type": "code",
   "execution_count": 10,
   "metadata": {},
   "outputs": [
    {
     "name": "stdout",
     "output_type": "stream",
     "text": [
      "0.013541733716680264\n"
     ]
    }
   ],
   "source": [
    "std_abv = numpy.sqrt(var_abv)\n",
    "print(std_abv)"
   ]
  },
  {
   "cell_type": "markdown",
   "metadata": {},
   "source": [
    "You might be wondering if there is a built-in function for the standard deviation in NumPy. Go on and search online and try to find something.\n",
    "\n",
    "**Spoiler alert!**\n",
    "You will. \n",
    "\n",
    "##### Exercise:\n",
    "\n",
    "1. Read the documentation about the NumPy standard deviation function, compute the standard deviation for `abv` using this function, and check that you obtained the same value than if you take the square root of the variance computed with NumPy.\n",
    "\n",
    "2. Compute the variance and standard deviation for the variable `ibu`."
   ]
  },
  {
   "cell_type": "markdown",
   "metadata": {
    "collapsed": true
   },
   "source": [
    "### Median value\n",
    "\n",
    "So far, we've learned to characterize quantitative data using the mean, variance and standard deviation.\n",
    "\n",
    "If you watched Prof. Sainani's lecture [Describing Quantitative Data: Where is the center?](https://youtu.be/tQ5slNYRcC4) (recommended in our previous lesson), you'll recall that she also introduced the **median**: the middle value in the data, the value that separates your data set in half. (If there's an even number of data values, you take the average between the two middle values.)\n",
    "\n",
    "As you may anticipate, NumPy has a built-in function that computes the median, helpfully named [`numpy.median()`](https://docs.scipy.org/doc/numpy-1.13.0/reference/generated/numpy.median.html). \n",
    "\n",
    "##### Exercise:\n",
    "\n",
    "Using NumPy, compute the median for our variables `abv` and `ibu`. Compare the median with the mean, and look at the histogram to locate where the values fall on the x-axis."
   ]
  },
  {
   "cell_type": "code",
   "execution_count": 18,
   "metadata": {},
   "outputs": [
    {
     "data": {
      "text/plain": [
       "<matplotlib.legend.Legend at 0x24388801490>"
      ]
     },
     "execution_count": 18,
     "metadata": {},
     "output_type": "execute_result"
    },
    {
     "data": {
      "image/png": "iVBORw0KGgoAAAANSUhEUgAAAYIAAAD/CAYAAAD8MdEiAAAAOXRFWHRTb2Z0d2FyZQBNYXRwbG90bGliIHZlcnNpb24zLjMuNCwgaHR0cHM6Ly9tYXRwbG90bGliLm9yZy8QVMy6AAAACXBIWXMAAAsTAAALEwEAmpwYAAAfPklEQVR4nO3dfXxU5d3n8c8PCITcgBUCtMozFgQREsnerkosWGPVVlpLKVuhXUWFe8W6bbe1RaS4BdRy+2pVsLBordy69ypadWl1LSpPFre2waY8BVhERaAgaItiwkPCb/84Z9LJMMlMnmYSzvf9es1rMtf5netcV86c+c15usbcHRERia522W6AiIhklxKBiEjEKRGIiEScEoGISMQpEYiIRFyHbDegMfLz833AgAHZboa0dR9tD567Da07ZnsYM7SeGJE2YMOGDYfcvWeyaW0yEQwYMIDS0tJsN0PaulfGBs+Xr6k7ZmwYs6aeGJE2wMzerWuaDg2JiEScEoGISMQpEYiIRJwSgYhIxCkRiIhEnBKBiEjEtcnLR0Wk6Q4fPsyhQ4c4fvx4tpsiTdCxY0fy8/M544wzGl2HEoFIBB09epQDBw7Qp08fOnfujJllu0nSCO5OZWUle/bsoVOnTuTm5jaqHh0aEomggwcP0rNnT/Ly8pQE2jAzIy8vj/z8fA4ePNjoepQI5LR09OjRSC23oY4ePUqXLl2y3QxpJl27dm3Se0+HhuS0lJubm/Kb7upZwfO4krrjVofP49L81txWfvGvqqqKDh20+Z8uOnToQFVVVaPn1x6BSETpkNDpo6nrUolARCTilAhERCJOiUBEpBFmzJhBv379MDPeeeedbDenSZQIREQa4aGHHuInP/nJKeW//e1v6dmzJ++9914WWtU4SgQiIs2oW7du9O/fn06dOmW7KWnT9WMiIs3o0ksvbXO/oJjWHoGZFZnZ/zGzcjPbZGZ/NLOJCTFdzGyRmW03s61mttLMzktSV46ZzTWzbWa22cxeN7MxzdUhEYmeFStWUFBQgJkxe/Zsbr/9dgoLCzn77LNZtGgRAPPnz6eoqIj+/fvz0EMP1Zp/06ZNXHXVVQwcOJBBgwZxzTXXsGPHjloxR44c4cYbb6RHjx4UFhZy880388knn9SK+dWvfsXw4cMxMx577LGa8rKyMiZNmkRBQQEFBQVccMEFLFu2rNa8N910U805h1dffZXx48fz2c9+lvPPP59169Y143/rVCn3CMxsAPAqsAK4xt2rzOxfgOVmNt7dfxOGPg10AwrdvcLM5gJrzKzA3ffGVbkQuAy4xN0PmtlNwMtmdpG7lzVf10SkQTZ8B/5Wlt02nFkAo+9v8Gzjx49n/PjxmBlPPPEEzz//PAsWLGDp0qVMnz6dd999lylTpjBr1iwWL17MjBkzKCkpYciQIezcuZMxY8YwZcoUXnzxRQBuu+02iouL2bJlC/n5+UDwQb1+/Xr+/Oc/069fPzZs2MDEibW+D3PDDTcwbtw4Bg4cWKv8pZdeolOnTpSWltKhQwd27NjBxRdfTNeuXfnqV78KwCOPPMJjjz3GDTfcwJIlS3jqqafo3LkzkydPZsqUKezatavFbgJMZ4/gaoIP+J+5exWAuy8BPgKuAzCzEuBKYLa7V4TzzQXaA3fEKjKzocA04F53PxjW9QiwC5jfHB0SkWgrLCxk1KhRAEyYMAGAt956q6Zs4sSJuDtr164F4K677qKqqop77rkHM8PMmDdvHocPH67Zm9i2bRvLly/n1ltvpV+/fgCMHj2az3/+82m16frrr+fBBx+s+SAfMmQIl19+OQ8//HDS+MmTJ9O5c2cArr32Wt577z127drVmH9HWtJJL7H7lmtiLbiNrR3BBz3ABOAE8PtYjLsfN7P14bQZYfG1gPGPO/djVgH/YmZd3P1IQzshIs2gEd/EW6Nzzjmn5u/u3bufUtajRw8A9u/fD8Arr7zCiBEj6NatW03MGWecQZ8+fVizZg0Ab7zxBu7OBRdcUGtZI0aMSKtN3bp147777uOFF16goqKC9u3bs3v3bnr27Jk0fsiQIaf04cCBA7XKm1M6ieBJ4LvAnWY2GagAZgKdgCVhzEhgn7snDmz+NvAlM+vl7u+HcSeB3UniOgDDgT8ma4SZTSPYm6jJyCIiifLy8mr+jg29kKysuroagEOHDlFZWUlBQUGteo4dO1Yzfk8saXzqU5+qFZPubwBMnTqV1atXs3btWs4991wg2EuIJZr6+tCuXbta7W0JKROBu39kZp8HfgUcAo4Ah4ESd18bhuUDHyeZ/aPwuQfwfhhX4e6JPYqPq6sdS4GlAEVFRW1jZC8RafXy8/MZPnw4q1atqjPmM5/5DAB/+9vfapX//e9/T1l/ZWUlzzzzDLfccktNEmhtUp4jCI/r/xF4F+gO9AJmAc+a2VWpZk+zHRr9SkSyoqSkhK1bt3LixIla5Y8//jgLFy4E4MILL8TMePPNN2vFbNmyJWX9VVVVVFdXnzIwXGwvozVI52TxXOBTwH919wp3P+nuTwLrgGVm1oFgT6FrknljZR+Ez4eAPDNrnyJORCQj7rrrLo4dO8acOXNqhhHfvHkzM2fOpKioCIChQ4fyjW98g1/84hfs3h0c2d6wYQMrVqxIWX/Xrl0pLi5m+fLl7NmzB4DXX3+dV199tYV61AjuXu8DKAe2JSn/KeDAZwnOFRwHOibE/AbYH/f6R+E8AxLiFhKcbO6aqj3uzujRo10klfC9Vudj9azgUW9M+EhVV+zRVmzdujXbTWhW69at81GjRjngvXv39ltuucU3btyYsuy6665zd/ctW7b4l770Je/Tp49fcMEF/rnPfc5feeWVWss4cuSI33jjjd69e3cfOXKkT5o0ye+77z4HfNiwYb548WJ/9NFHfdiwYQ543759ffr06e7uvnv3bv/yl7/svXv39uLiYp86dapfffXVnpOT46NGjfK3337bv//973vfvn1r6nvppZd82bJlPnjwYAd88ODB/sADD9T5P0i1ToFSr+Mz1TzFD2mY2VqgAOjh4eWjYfmTwNcJDhVdAPwOGOfua8LpHYG/Ak+6+4ywbGiYWKa6+2NxdW0G3nX3L9bbmFBRUZG3tTv3JPPS/mGaei5crvlhmjSXmWp7ai3Ky8sZNmxYtpshzSjVOjWzDe5elGxaOoeGFhLcR/CT8LJRzGwc8FXgKXc/5O4rCRLBXDOLne6eRXCF0N2xitx9O8EJ35lmlh/WNRUYHMaLiEiGpXPV0DNmdiXBYZ2tZlZN8AE/C3gwLnQicC9QFsbsAcZ67buKAb4NzAHWm9kJgquNrnDdVSwikhVp3a/s7r8j+MZfX8zH/OPGsfriTgB3hg8REckyDUMtIhJxSgQiIhGnRCAiEnFKBCIiEadEICIScUoEIiIRp0QgIhJxSgQiIhGnRCAiEnFKBCIiEadEICIScUoEIiIRp0QgIm3eihUrKCgowMyYPXs2t99+O4WFhZx99tksWrQIgPnz51NUVET//v156KGHas2/adMmrrrqKgYOHMigQYO45ppr2LFjR62YpUuXcskll1BUVMT555/PF7/4RbZt21Yzfd++fRQUFNClSxfGjh3LsmXLuPTSSznrrLOYOHFiWr9vnC1pjT4qIhHwne9AWVl221BQAPff3+DZxo8fz/jx4zEznnjiCZ5//nkWLFjA0qVLmT59Ou+++y5Tpkxh1qxZLF68mBkzZlBSUsKQIUPYuXMnY8aMYcqUKbz44osA3HbbbRQXF7Nlyxby8/MB+PnPf87999/PF77wBQB+9rOfcfnll1NeXk7Xrl0566yzKCsrY+zYsZSXl/PJJ5+wbt069u/fz3nnnceCBQu4++676+xDNmmPQEROK4WFhYwaNQqACRMmAPDWW2/VlE2cOBF3Z+3atUDwm8VVVVXcc889mBlmxrx58zh8+HDN3gTAc889V5MEAG655Rb27t1bkzziVVdXM336dAA+/elPc9FFF7FmzZoW6W9z0B6BiAQa8U28NTrnnHNq/u7evfspZT169ABg//79ALzyyiuMGDGCbt261cScccYZ9OnTp9aH98mTJ7nuuuvYvHkz7dr94zv0rl27TmnDoEGDaN++fa12lJeXN7FnLUeJQFrM0aNHyc3NzXYzJGLy8vJq/o79bnWysurqagAOHTpEZWUlBQUFteo5duwYVVXBz7Tv3buX4uJiSkpK+MMf/lBTn5lx7NixetsA0K5du5rltUZKBNJicnNzU/6AfEtpKz8iL9mXn5/P8OHDWbVqVZ0xL7zwAh9++CG33377KR/ypwOdIxCRSCspKWHr1q2cOHGiVvnjjz/OwoULAWq+9cd/sYkdWjodKBGISKTdddddHDt2jDlz5tTsSW7evJmZM2dSVFQEBMkiJyeHBx54gOrqatydefPmZbPZzUqJQETavNdee63mGP+SJUuYMWMGmzZtSlk2efJkBg8ezPr169m0aRP9+vVj9OjR3HrrrSxbtoyLLroIgHPPPZfly5dTWlrK4MGDueyyyxg2bFhNPd/61rdqzjOUlpZSWlrKhRdeCMDXvvY1VqxYUXOfwTvvvJPJf01arC0eSy0qKvLS0tJsN0PSkM1zBKmWvXpW8Dxufj0x4fO4Biy3LSgvL6/5IJPTQ6p1amYb3L0o2TTtEYiIRJwSgYhIxCkRiIhEnBKBiEjEKRGIiEScEoFIRLWVK5wktaauSyUCkQjKycmhsrIy282QZlJZWUlOTk6j51ciEImgXr16sXfvXioqKrRn0Ia5OxUVFezdu5devXo1uh4NOicSQbEhl/ft23fKGDvStuTk5NC7d+9aw2g3lBKBSER169atSR8ecvrQoSERkYhTIhARiTglAhGRiEs7EZjZBDNbZ2YbzGyXmZWa2Tfjpncxs0Vmtt3MtprZSjM7L0k9OWY218y2mdlmM3vdzMY0V4dERKRh0koEZvZdYBZwnbuPBoYCO4DPx4U9DRQChe4+HHgDWGNmZydUtxCYBBS7+wjgUeBlMytoSkdERKRxUiYCMxsA3AtMd/c9AO5+Avg+sCiMKQGuBGa7e0U461ygPXBHXF1DgWnAve5+MKzrEWAXUM+o8CIi0lLS2SP4JvB3d/9TfKG773P32K/DTABOAL+Pm34cWB9Oi7kWMP7xex8xq4ArzKxLw5ovIiJNlU4iuBh4JzxH8Fp4bP91M5saFzMS2Bd++Md7G+htZr3i4k4Cu5PEdQCGN7wLIiLSFOncUNYXGEBwKOha4H2Cb/n/y8w+4+7zgXzg4yTzfhQ+9wjnywcq3L26nrikzGwawWEl+vXrl0azRUQkHensEeQC/wT8wN33u/tJd38a+N/AHWaWV8+86f5gbco4d1/q7kXuXtSzZ880qxURkVTSSQSxb/plCeV/BvIIDuccArommTdW9kH4fAjIM7P2KeJERCRD0kkE2+qIrY4r3wicZWYdE2IGAgfc/f3w9cYwvm+SuCqgPJ1Gi4hI80knEfwmfB6ZUD4CqAS2AM8COQQnlgEIk8LFwK/j5nkOcGBsQl3jgJXunuw8g4iItKB0EsFTwJ+AebHLO82sGPgaMN/dP3H3lcDvgLlx5wxmEVwhdHesInffDiwFZppZfljXVGBwGC8iIhmW8qohd682syuBnwJbzOwocAy41d0fjgudSHDjWZmZVQN7gLHuvjehym8Dc4D1ZnaC4BzEFe5e1uTeiIhIg6X1ewTu/iFwc4qYj4EZadR1ArgzfIiISJZp9FERkYhTIhARiTglAhGRiFMiEBGJOCUCEZGIUyIQEYk4JQIRkYhTIhARiTglAhGRiFMiEBGJOCUCEZGIUyIQEYk4JQIRkYhTIhARiTglAhGRiFMiEBGJOCUCEZGIUyIQEYk4JQIRkYhTIhBpRkePHo3UcuX0kNaP14tIenJzczGzjC/X3TO+TDl9aI9ARCTilAhERCJOiUBEJOKUCEREIk6JQEQk4pQIREQiTolARCTilAhERCJOiUBEJOKUCEREIk6JQEQk4pQIREQiTolARCTiGpUIzOw1M3MzG9DM7RERkQxrcCIwswnAmDqmdTGzRWa23cy2mtlKMzsvSVyOmc01s21mttnMXjezpHWKiEjLalAiMLOOwD3Ai3WEPA0UAoXuPhx4A1hjZmcnxC0EJgHF7j4CeBR42cwKGtIeERFpuobuEcwASoE/JU4wsxLgSmC2u1eExXOB9sAdcXFDgWnAve5+EMDdHwF2AfMb2gEREWmatBOBmXUHfkDch3qCCcAJ4PexAnc/DqwPp8VcCxiwOmH+VcAVZtYl3TaJiEjTNWSP4MfAE+7+Th3TRwL7wg//eG8Dvc2sV1zcSWB3krgOwPAGtElERJoord8sNrNzgK8Dw+oJywc+TlL+UfjcA3g/jKtw9+p64pK1YRrBISX69euXTrNFRCQN6e4RLCA4pn+4EctI95e8641z96XuXuTuRT179mxEM0REJJmUicDMioERwOIUoYeArknKY2UfxMXlmVn7FHEiIpIB6RwaKiG48udPZjVf2j8dPr9oZscJTiBvBIrMrGPCeYKBwAF3fz98vRH4BtAXeCchrgoob0Q/RESkkVLuEbj7j919sLsXxB7AknDy1WHZi8CzQA5wcWze8L6Di4Ffx1X5HODA2IRFjQNWunuy8wwiItJCmm2sIXdfCfwOmGtmeWHxLIIrhO6Oi9sOLAVmmlk+gJlNBQaH8SIikkFpXTUUY2ZXE3yo1zo0FO4lAEwE7gXKzKwa2AOMdfe9CVV9G5gDrDezEwRXG13h7mWN6oWIiDRagxJBeAioruElCA/rzEijnhPAneFDRESySMNQi4hEnBKBiEjEKRGIiEScEoGISMQpEYiIRJwSgYhIxCkRiIhEnBKBiEjEKRGIiEScEoGISMQpEYiIRJwSgYhIxCkRiIhEnBKBiEjEKRGIiEScEoGISMQpEYiIRJwSgYhIxCkRiIhEnBKBiEjEKRGIiEScEoGISMQpEYiIRJwSgYhIxCkRiIhEnBKBiEjEKRGIiEScEoGISMQpEYiIRJwSgYhIxCkRiIhEnBKBiEjEKRGIiEScEoGISMQpEYiIRJwSgYhIxKVMBGZWYGYPm9kGM/uLmW01swfNrGdCXBczW2Rm28OYlWZ2XpL6csxsrpltM7PNZva6mY1pzk6JiEj60tkjeBLoDlzq7qOAEuAKYL2ZdY6LexooBArdfTjwBrDGzM5OqG8hMAkodvcRwKPAy2ZW0KSeiIhIo6R7aOiH7v4JgLvvBf4V+CxwNYCZlQBXArPdvSKcZy7QHrgjVomZDQWmAfe6+8GwvkeAXcD8JvdGREQaLJ1EMNLddyaU7QufzwyfJwAngN/HAtz9OLA+nBZzLWDA6oT6VgFXmFmXNNstIiLNJGUiCD/QEw0BHFgXvh4J7EsS+zbQ28x6xcWdBHYniesADK+rHWY2zcxKzaz04MGDqZotIiJpavBVQ2bWHpgK/NLdd4TF+cDHScI/Cp97xMVVuHt1irhTuPtSdy9y96KePXvWFSYiIg3UmMtHZwNVwHfTiLU060w3TkREmlmDEoGZ3QB8HbjK3Y/ETToEdE0yS6zsg7i4vHCvor44ERHJkLQTgZl9E/hvwGXu/n7C5I3AWWbWMaF8IHAgLn5juMy+SeKqgPJ02yMiIs0jrURgZlOAHwKXu/v+sOxLZjYtDHkWyAEujpunY/j613FVPUdwknlswiLGASvdPdl5BhERaUEdUgWY2WTgYYJzA5eb1RzOLwb+CuDuK83sd8BcM/tCeC/BLIIrhO6OzeDu281sKTDTzH7r7ofMbCowGJjSjP0SEZE0pUwEBHcC5xLcRJbov8f9PRG4Fygzs2pgDzA2vAEt3reBOQR3Jp8guNroCncva2DbRUSkGaRMBO7ePZ2KwsM6M9KIOwHcGT5ERCTLNPqoiEjEKRGInAaOHj0ayWVL80jnHIGItHK5ubnEXciRUe6eleVK89EegYhIxCkRiIhEnBKBiEjEKRGIiEScEoGISMQpEYiIRJwSgYhIxCkRiIhEnBKBiEjEKRGIiEScEoGISMQpEYiIRJwSgYg0SbZGH9Wop81Ho4+KSJNka+RTjXrafLRHICIScUoEIiIRp0QgIhJxSgQiIhGnRCAiEnFKBCIiEadEICIScUoEIiIRp0QgIhJxSgQiIhGnRCAiEnFKBCIiEadEICIScUoEIiIRp0QQARq3XUTqo98jiACNFy8i9dEegYhIxCkRiIhEXFYSgZn1MrP/aWbbw8czZtYnG20REYm6jCcCM+sIvAx0BM4DhgOfAKvNrEum2yMiEnXZ2CP4z8BI4IfuXuXu1cAPgUHAf8lCe0REIi0biWACsNvdd8UK3H0/sDWcJiIiGZSNRDASeDtJ+dvA+Rlui4hIg2Xr3pyWWm427iPIBzYkKf8IyDOzzu5emTjRzKYB08KXR8xsewOXeajBLW27WkV/M3jvwin9TWfZ4+anrnhcAxuSoT43qr8tJQPLTvp+zmafW1hLbb/965rQmm4oq3etuvtSYGmjKjYrdfeiRrWqDVJ/T2/q7+ktG/3NxqGhQ0DXJOVdgYpkewMiItJyspEINgIDkpQPBDZltikiIpKNRPAs0N/MBsQKzKw3MAz4dQsts1GHlNow9ff0pv6e3jLeX8v0wGDhDWWlQDkwGTgJ/BIYAxS6+5GMNkhEJOIyvkfg7seBEqCa4N6BcqAbcJmSgIhI5mV8j0BERFoXjT4qIq2GmXUys/vM7KSZjc12e1paa+lvq0wETRmd1MxyzGyumW0zs81m9rqZjakj9jtmttXMNprZm2b2lTriJpvZX8K4zWZ2cxO6l1h3i/bVzM40s++H0940s3IzW5nsf2Jmj5nZTjMrS3j8qK30N4xbE67XxH58K0lsi63bsP6WXr9jzezDJH0tMzM3sxvjYlv7+h0BvAFcTor7ilrDthvW36L9zdj26+6t6kEwKulfgKcJbnhrDywD/h/QJY35lwA7gJ7h65uASqAgIe5HBPc0DA5flwAngKsS4v4TcAz45/D1SILRUqe3hb7G9XNE+Lo9cD/BOZorEup7DBh7GqzbNcCANOprsXWbwfU7FngsybwXhbFntqH1++/AF4DrAa+rra1h281UfzO1/bbIG6KJ/9ybw3/KoLiyT4cd/0GKeYcSXIU0NaF8C/BC3OtPhW+InyTEvQBsiXvdDngP+LeEuIeAD4BObaCvPwLmJcTkAseB3zTXG6m19DcsW0OKRNDS6zaD67c3cFGS+X8JPN5W1m8Y2yF8vp66Pxhbxbabwf5mZPttjYeGmjI66bUEu1irE8pXAVfYP37v4Eogr4644WZ2bvj6n4E+dcR1p+FD0STKRF//FZgTH+DuR4G/AWc2vumNkon+pqul1y1koL/ufsDd/298gJl1BSaR+evRmzSysLtXpbGM1rLtQmb6m5HttzUmgqaMTjqS4FvU7iTzdiD4EZxYXKw8MS5+erpxjdXifXX3ag9+86GGmZ1JMLDVmiT1fjM8HlluZn8ws++ZWXONSZWJdRvzPTP7Y3h8fZ2Z3ZCkvtj8ifXFT2+KTPY33jcIPqBeSzKtta7fhiwjVmfiMuKnt/b1m5ZMbb+tMRHkAx8nKa8ZnTTFvBWJ/7hwXoAecXEkWU5j4xorE31N5ibgfeDnCeUfAweAqwk+aO4AZgFP1lNXQ2Sqv38HdhJ86zsPeBBYbGb3JdRHkvY017qNLSNb6zfZ3kBrXr8NWQZJlpPpbTe2jJbubzLNvv22ptFHU2nKmLPpztvccY3VYn01s/MIjjtOcPcP4qe5+7cTwleZ2b3AAjO7xN3XN6Fd9TarOed1968kFD1jZuOA75rZg+6e+C27udqSrpZcv+cTfBv9t8RpbXT9NvcyWlNbGl5xC22/rXGPoCmjkx4iyMTtk8wLwUmiWFx8eVPjGisTfa1hZv2A3wA3u/uaNNv4Rvj8H9OMr09G+5vgDYL3+3+Iqy9+/obWl45s9Pdm4Nfu/mGabWwt67chy4jVmbgMyNy2G1tGxkZSbsnttzUmgqaMTrqRoE99k8xbRTCcRSyOJMsZmDA93bjGykRfATCzvsBK4HZ3fzaxMjNrb2bdkywndmgi8QOpMVq8v2bW0czOSDJ/Yj9aet3G6kisP7aMZl2/ENycRDB+1/9IMq21r9+GLIMky8n0thurI7H+2DKadSTllt5+W2MiSHt0UjPrbWbxfXiO8DKshDrHASvdPXY87yWgoo64re6+LXz9R2BPHXEfkvxkTUNkoq+EN7i8DNzp7s/Ela+Im68vUOvqk9Do8PnN9LpUr0z092JgeZJlx/rx5/C5pdctZGj9xpkAHKjjJHFrX7/pai3bLmSmv5nZfpt6LW1zPwhu0tgIPEVwDqMd8CsSbtIALiHIdosT5l8CbAfyw9dTqfuGsoOE1wAT3N1X100pR4Gi8PX5wBGa74ayFu0rwSV0O4FngCkJj3fi4gYQfPBMiysbCfwVWEs4LlUb6O9Ygm/MX0wo+4RTrylvsXWbyfdyXPwq4Lt1TGv16zdu+vWkvqEsq9tupvpLhrbfJv8zWuJBcJPMvxPcVbmdILv2TYgZRZDZf5xQngPMC+fbTJAli+tYzncIrvndSPBN8St1xE0OYzaGdU5rah8z1VfgZ+EbJNkj/o3UkeA3oV8N+7k9fAP+FPinNtTfbsD3gPUEd33uDNfxTMIbeDK1bjP8Xh5M8E25ex3T28L6nQSUEVwy62H7yoCLW+O2m4n+kqHtV6OPiohEXGs8RyAiIhmkRCAiEnFKBCIiEadEICIScUoEIiIRp0QgIhJxSgQiIhGnRCAiEnFKBCIiEff/AYvrd84N+kHDAAAAAElFTkSuQmCC\n",
      "text/plain": [
       "<Figure size 432x288 with 1 Axes>"
      ]
     },
     "metadata": {
      "needs_background": "light"
     },
     "output_type": "display_data"
    }
   ],
   "source": [
    "### My code\n",
    "abv_median = numpy.median(abv)\n",
    "abv_mean = numpy.mean(abv)\n",
    "\n",
    "# pyplot.hist(abv_median, label=\"median\")\n",
    "# pyplot.hist(abv_mean, label=\"mean\")\n",
    "# pyplot.title(\"abv median and mean\")\n",
    "# pyplot.legend()\n",
    "\n",
    "\n",
    "pyplot.hist(abv, color=\"black\", edgecolor=\"white\")\n",
    "pyplot.axvline(abv_median, label=\"median\", color=\"orange\")\n",
    "pyplot.axvline(abv_mean, label=\"mean\", color=\"red\")\n",
    "pyplot.legend()\n",
    "\n",
    "# pyplot.hist(ibu_median)\n",
    "# pyplot.hist(ibu_mean)"
   ]
  },
  {
   "cell_type": "code",
   "execution_count": 19,
   "metadata": {},
   "outputs": [
    {
     "data": {
      "text/plain": [
       "<matplotlib.legend.Legend at 0x243889f20d0>"
      ]
     },
     "execution_count": 19,
     "metadata": {},
     "output_type": "execute_result"
    },
    {
     "data": {
      "image/png": "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\n",
      "text/plain": [
       "<Figure size 432x288 with 1 Axes>"
      ]
     },
     "metadata": {
      "needs_background": "light"
     },
     "output_type": "display_data"
    }
   ],
   "source": [
    "### My code\n",
    "ibu_median = numpy.median(ibu)\n",
    "ibu_mean = numpy.mean(ibu)\n",
    "\n",
    "# pyplot.hist(ibu_median, label=\"median\")\n",
    "# pyplot.hist(ibu_mean, label=\"mean\")\n",
    "# pyplot.title(\"ibu median and mean\")\n",
    "\n",
    "pyplot.hist(ibu, color=\"green\", edgecolor=\"white\")\n",
    "pyplot.axvline(ibu_median, label=\"median\", color=\"orange\")\n",
    "pyplot.axvline(ibu_mean, label=\"mean\", color=\"red\")\n",
    "\n",
    "pyplot.legend()"
   ]
  },
  {
   "cell_type": "markdown",
   "metadata": {},
   "source": [
    "### Box plots\n",
    "\n",
    "Another handy way to visualize the distribution of quantitative data is using **box plots**. By \"distribution\" of the data, we mean some idea of the dataset's \"shape\": where is the center, what is the range, what is the variation in the data. \n",
    "Histograms are the most popular type of plots in exploratory data analysis. But check out box plots: they are easy to make with `pyplot`:"
   ]
  },
  {
   "cell_type": "code",
   "execution_count": null,
   "metadata": {},
   "outputs": [],
   "source": [
    "pyplot.boxplot(abv, labels=['Alcohol by volume']);"
   ]
  },
  {
   "cell_type": "code",
   "execution_count": null,
   "metadata": {},
   "outputs": [],
   "source": [
    "pyplot.boxplot(ibu, labels=['International bitterness unit']);"
   ]
  },
  {
   "cell_type": "markdown",
   "metadata": {},
   "source": [
    "What is going on here? Obviously, there is a _box_: it represents 50% of the data in the middle of the data range, with the line across it (here, in orange) indicating the _median_. \n",
    "\n",
    "The bottom of the box is at the 25th _percentile_, while the top of the box is at the 75th percentile. In other words, the bottom 25% of the data falls below the box, and the top 25% of the data falls above the box. "
   ]
  },
  {
   "cell_type": "markdown",
   "metadata": {},
   "source": [
    "_Confused by percentiles?_\n",
    "The Nth percentile is the value below which N% of the observations fall. \n",
    "\n",
    "Recall the bell curve from our previous lesson: we said that 95% of the data falls at a distance $\\pm 2 \\sigma$ from the mean. This implies that 5% of the data (the rest) falls in the (symmetrical) tails, which in turn implies that the 2.5 percentile is at $-2\\sigma$ from the mean, and the 97.5 percentile is at $+2\\sigma$ from the mean.\n",
    "\n",
    "The percentiles 25, 50, and 75 are also named _quartiles_, since they divide the data into quarters. They are named first (Q1), second (Q2 or median) and third quartile (Q3), respectively. \n",
    "\n",
    "Fortunately, NumPy has a function to compute percentiles and we can do it in just one line. Let's use [`numpy.percentile()`](https://docs.scipy.org/doc/numpy-dev/reference/generated/numpy.percentile.html) to compute the `abv` and `ibu`  quartiles. \n",
    "\n",
    "** abv quartiles **"
   ]
  },
  {
   "cell_type": "code",
   "execution_count": null,
   "metadata": {},
   "outputs": [],
   "source": [
    "Q1_abv = numpy.percentile(abv, q=25)\n",
    "Q2_abv = numpy.percentile(abv, q=50)\n",
    "Q3_abv = numpy.percentile(abv, q=75)\n",
    "\n",
    "print('The first quartile for abv is {}'.format(Q1_abv))\n",
    "print('The second quartile for abv is {}'.format(Q2_abv))\n",
    "print('The third quartile for abv is {}'.format(Q3_abv))"
   ]
  },
  {
   "cell_type": "markdown",
   "metadata": {},
   "source": [
    "** ibu quartiles **\n",
    "\n",
    "You can also pass a list of percentiles to `numpy.percentile()` and calculate several of them in one go. For example, to compute the quartiles of `ibu`, we do:"
   ]
  },
  {
   "cell_type": "code",
   "execution_count": null,
   "metadata": {},
   "outputs": [],
   "source": [
    "quartiles_ibu = numpy.percentile(ibu, q=[25, 50, 75])\n",
    "\n",
    "print('The first quartile for ibu is {}'.format(quartiles_ibu[0]))\n",
    "print('The second quartile for ibu is {}'.format(quartiles_ibu[1]))\n",
    "print('The third quartile for ibu is {}'.format(quartiles_ibu[2]))"
   ]
  },
  {
   "cell_type": "markdown",
   "metadata": {},
   "source": [
    "OK, back to box plots. The height of the box—between the 25th and 75th percentile—is called the _interquartile range_ (IQR). Outside the box, you have two vertical lines—the so-called \"whiskers\" of the box plot—which used to be called \"box and whiskers plot\" [3]. \n",
    "\n",
    "The whiskers extend to the upper and lower extremes (short horizontal lines). The extremes follow the following rules: \n",
    "\n",
    "* Top whisker: lower value between the **maximum** and `Q3 + 1.5 x IQR`. \n",
    "* Bottom whisker: higher value between the **minimum** and `Q1 - 1.5 x IQR`\n",
    "\n",
    "Any data values beyond the upper and lower extremes are shown with a marker (here, small circles) and are an indication of outliers in the data.\n"
   ]
  },
  {
   "cell_type": "markdown",
   "metadata": {},
   "source": [
    "##### Exercise:\n",
    "\n",
    "Calculate the end-points of the top and bottom whiskers for both the `abv` and `ibu` variables, and compare the results with the whisker end-points you see in the plot. "
   ]
  },
  {
   "cell_type": "code",
   "execution_count": null,
   "metadata": {},
   "outputs": [],
   "source": [
    "### My code\n",
    "abv_low_end = numpy.percentile(abv, q=[0])\n",
    "ibu_low_end = numpy.percentile(ibu, q=[0])\n",
    "\n",
    "abv_high_end = numpy.percentile(abv, q=[100])\n",
    "ibu_high_end = numpy.percentile(ibu, q=[100])\n",
    "\n",
    "print(\"Abv low end is \", abv_low_end)\n",
    "print(\"Abv high end is \", abv_high_end, \"\\n\")\n",
    "\n",
    "print(\"Ibu low end is \", ibu_low_end)\n",
    "print(\"Ibu high end is \", ibu_high_end)"
   ]
  },
  {
   "cell_type": "markdown",
   "metadata": {},
   "source": [
    "##### A bit of history:\n",
    "\n",
    "\"Box-and-whiskers\" plots were invented by John Tukey over 45 years ago. Tukey was a famous mathematician/statistician who is credited with coining the words _software_ and _bit_ [4]. He was active in the efforts to break the _Enigma_ code durig WWII, and worked at Bell Labs in the first surface-to-air guided missile (\"Nike\"). A classic 1947 work on early design of the electonic computer acknowledged Tukey: he designed the electronic circuit for computing addition. Tukey was also a long-time advisor for the US Census Bureau, and a consultant for the Educational Testing Service (ETS), among many other contributions [5].\n",
    "\n",
    "##### Note:\n",
    "\n",
    "Box plots are also drawn horizontally. Often, several box plots are drawn side-by-side with the purpose of comparing distributions."
   ]
  },
  {
   "cell_type": "markdown",
   "metadata": {},
   "source": [
    "## Visualizing categorical data\n",
    "\n",
    "The typical method of visualizing categorical data is using **bar plots**. These show visually the frequency of appearance of items in each category, or the proportion of data in each category. Suppose we wanted to know how many beers of the same style are in our data set. Remember: the _style_ of the beer is an example of _categorical data_. Let's extract the column with the style information from the `beers` dataframe, assign it to a variable named `style_series`, check the type of this variable, and view the first 10 elements."
   ]
  },
  {
   "cell_type": "code",
   "execution_count": null,
   "metadata": {},
   "outputs": [],
   "source": [
    "style_series = beers['style']"
   ]
  },
  {
   "cell_type": "code",
   "execution_count": null,
   "metadata": {},
   "outputs": [],
   "source": [
    "type(style_series)"
   ]
  },
  {
   "cell_type": "code",
   "execution_count": null,
   "metadata": {},
   "outputs": [],
   "source": [
    "style_series[0:10]"
   ]
  },
  {
   "cell_type": "markdown",
   "metadata": {},
   "source": [
    "Already in the first 10 elements we see that we have two beers of the style \"American IPA,\" two beers of the style \"American Pale Ale (APA),\" but only one beer of the style \"Oatmeal Stout.\" The question is: how many beers of each style are contained in the whole series? "
   ]
  },
  {
   "cell_type": "markdown",
   "metadata": {},
   "source": [
    "Luckily, `pandas` has a built-in function to answer that question: [`series.value_counts()`](https://pandas.pydata.org/pandas-docs/stable/generated/pandas.Series.value_counts.html) (where `series` is the variable name of the `pandas` series you want the counts for). Let's try it on our `style_series`, and save the result in a new variable named `style_counts`."
   ]
  },
  {
   "cell_type": "code",
   "execution_count": null,
   "metadata": {},
   "outputs": [],
   "source": [
    "style_counts = style_series.value_counts()\n",
    "style_counts[0:5]"
   ]
  },
  {
   "cell_type": "code",
   "execution_count": null,
   "metadata": {},
   "outputs": [],
   "source": [
    "type(style_counts)"
   ]
  },
  {
   "cell_type": "code",
   "execution_count": null,
   "metadata": {},
   "outputs": [],
   "source": [
    "len(style_counts)"
   ]
  },
  {
   "cell_type": "markdown",
   "metadata": {},
   "source": [
    "The `len()` function tells us that `style_counts` has 99 elements. That is, there are a total of 99 styles of beer in our data set. Wow, that's a lot!\n",
    "\n",
    "Notice that `value_counts()` returned the counts sorted in decreasing order: the most popular beer in our data set is \"American IPA\" with 424 entries in our data. The next-most popular beer is \"American Pale Ale (APA)\" with a lot fewer entries (245), and the counts decrease sharply after that. Naturally, we'd like to know how much more popular are the top-2 beers from the rest. Bar plot to the rescue! "
   ]
  },
  {
   "cell_type": "markdown",
   "metadata": {},
   "source": [
    "Below, we'll draw a horizontal bar plot directly with `pandas` (which uses Matplotlib internally) using the [`plot.barh()`](https://pandas.pydata.org/pandas-docs/stable/generated/pandas.Series.plot.barh.html) method for series. We'll only show the first 20 beers, because otherwise we'll get a huge plot. This plot gives us a clear visualization of the popularity ranking of beer styles in the US!"
   ]
  },
  {
   "cell_type": "code",
   "execution_count": null,
   "metadata": {},
   "outputs": [],
   "source": [
    "style_counts[0:20].plot.barh(figsize=(10,8), color='#008367', edgecolor='gray');"
   ]
  },
  {
   "cell_type": "markdown",
   "metadata": {},
   "source": [
    "## Visualizing multiple data\n",
    "\n",
    "These visualizations are really addictive! We're now getting ambitious: what if we wanted to show more than one feature, together on the same plot? What if we wanted to get insights about the relationship between two features through a multi-variable plot? \n",
    "\n",
    "For example, don't you want to know if the bitterness of beers is associated with the alcohol-by-volume fraction? We do!"
   ]
  },
  {
   "cell_type": "markdown",
   "metadata": {},
   "source": [
    "### Scatter plots\n",
    "\n",
    "Maybe we can do this: imagine a plot that has the alcohol-by-volume on the absissa, and the IBU value on the ordinate. For each beer, we can place a dot on this plot with its `abv` and `ibu` values as $(x, y)$ coordinates. This is called a **scatter plot**.\n",
    "\n",
    "We run into a bit of a problem, though. The way we handled the beer data above, we extracted the column for `abv` into a series, dropped the null entries, and saved the values into a NumPy array. We then repeated this process for the `ibu` column. Because a lot more `ibu` values are missing, we ended up with two arrays of different length: 2348 entries for the `abv` series, and 1405 entries for the `ibu` series. If we want to make a scatter plot with these two features, we'll need series (or arrays) of the same length.\n",
    "\n",
    "Let's instead clean the whole `beers` dataframe (which will completely remove any row that has a null entry), and _then_ extract the values of the two series into NumPy arrays."
   ]
  },
  {
   "cell_type": "code",
   "execution_count": null,
   "metadata": {},
   "outputs": [],
   "source": [
    "beers_clean = beers.dropna()"
   ]
  },
  {
   "cell_type": "code",
   "execution_count": null,
   "metadata": {},
   "outputs": [],
   "source": [
    "ibu = beers_clean['ibu'].values\n",
    "len(ibu)"
   ]
  },
  {
   "cell_type": "code",
   "execution_count": null,
   "metadata": {},
   "outputs": [],
   "source": [
    "abv = beers_clean['abv'].values\n",
    "len(abv)"
   ]
  },
  {
   "cell_type": "markdown",
   "metadata": {},
   "source": [
    "Notice that both arrays now have 1403 entries—not 1405 (the length of the clean `ibu` data), because two rows that had a non-null `ibu` value _did_ have a null `abv` value and were dropped."
   ]
  },
  {
   "cell_type": "markdown",
   "metadata": {},
   "source": [
    "With the two arrays of the same length, we can now call the [`pyplot.scatter()`](https://matplotlib.org/devdocs/api/_as_gen/matplotlib.pyplot.scatter.html) function."
   ]
  },
  {
   "cell_type": "code",
   "execution_count": null,
   "metadata": {},
   "outputs": [],
   "source": [
    "pyplot.figure(figsize=(8,8))\n",
    "pyplot.scatter(abv, ibu, color='#3498db') \n",
    "pyplot.title('Scatter plot of alcohol-by-volume vs. IBU \\n')\n",
    "pyplot.xlabel('abv')\n",
    "pyplot.ylabel('IBU');"
   ]
  },
  {
   "cell_type": "markdown",
   "metadata": {},
   "source": [
    "Hmm. That's a bit of a mess. Too many dots! But we do make out that the beers with low alcohol-by-volume tend to have low bitterness. For higher alcohol fraction, the beers can be anywhere on the bitterness scale: there's a lot of vertical spread on those dots to the right of the plot. \n",
    "\n",
    "An idea! What if the bitterness has something to do with _style_? Neither of us knows much about beer, so we have no clue. Could we explore this question with visualization? We found a way!"
   ]
  },
  {
   "cell_type": "markdown",
   "metadata": {
    "collapsed": true
   },
   "source": [
    "### Bubble chart\n",
    "\n",
    "What we imagined is that we could group together the beers by style, and then make a new scatter plot where each marker corresponds to a style. The beers within a style, though, have many values of alcohol fraction and bitterness: we have to come up with a \"summary value\" for each style. Well, why not the _mean_… we can calculate the average `abv` and the average `ibu` for all the beers in each style, use that pair as $(x,y)$ coordinate, and put a dot there representing the style. \n",
    "\n",
    "Better yet! We'll make the size of the \"dot\" proportional to the popularity of the style in our data set! This is called a **bubble chart**.\n",
    "\n",
    "How to achieve this idea? We searched online for \"mean of a column with pandas\" and we landed in [`dataframe.mean()`](https://pandas.pydata.org/pandas-docs/stable/generated/pandas.DataFrame.mean.html). This could be helpful… But we don't want the mean of a _whole_ column—we want the mean of the column values grouped by _style_. Searching online again, we landed in [`dataframe.groupby()`](https://pandas.pydata.org/pandas-docs/stable/generated/pandas.DataFrame.groupby.html). This is amazing: `pandas` can group a series for you! \n",
    "\n",
    "Here's what we want to do: group beers by style, then compute the mean of `abv` and `ibu` in the groups. We experimented with `beers_clean.groupby('style').mean()` and were amazed… However, one thing was bothersome: `pandas` computed the mean (by style) of every column, including the `id` and `brewery_id`, which have no business being averaged. So we decided to first drop the columns we don't need, leaving only `abv`, `ibu` and `style`. We can use the [`dataframe.drop()`](https://pandas.pydata.org/pandas-docs/stable/generated/pandas.DataFrame.drop.html) method for that. Check it out!"
   ]
  },
  {
   "cell_type": "code",
   "execution_count": null,
   "metadata": {},
   "outputs": [],
   "source": [
    "beers_styles = beers_clean.drop(['Unnamed: 0','name','brewery_id','ounces','id'], axis=1)"
   ]
  },
  {
   "cell_type": "code",
   "execution_count": null,
   "metadata": {},
   "outputs": [],
   "source": [
    "beers_styles[0:10]"
   ]
  },
  {
   "cell_type": "markdown",
   "metadata": {},
   "source": [
    "We now have a dataframe with only the numeric features `abv` and `ibu`, and the categorical feature `style`. Let's find out how many beers we have of each style—we'd like to use this information to set the size of the style bubbles."
   ]
  },
  {
   "cell_type": "code",
   "execution_count": null,
   "metadata": {},
   "outputs": [],
   "source": [
    "style_counts = beers_styles['style'].value_counts()"
   ]
  },
  {
   "cell_type": "code",
   "execution_count": null,
   "metadata": {},
   "outputs": [],
   "source": [
    "style_counts[0:10]"
   ]
  },
  {
   "cell_type": "code",
   "execution_count": null,
   "metadata": {},
   "outputs": [],
   "source": [
    "type(style_counts)"
   ]
  },
  {
   "cell_type": "code",
   "execution_count": null,
   "metadata": {},
   "outputs": [],
   "source": [
    "len(style_counts)"
   ]
  },
  {
   "cell_type": "markdown",
   "metadata": {},
   "source": [
    "The number of beers in each style appears on each row of `style_counts`, sorted in decreasing order of count. We have 90 different styles, and the most popular style is the \"American IPA,\" with 301 beers…\n",
    "\n",
    "##### Discuss with your neighbor:\n",
    "\n",
    "* What happened? We used to have 99 styles and 424 counts in the \"American IPA\" style. Why is it different now?"
   ]
  },
  {
   "cell_type": "markdown",
   "metadata": {},
   "source": [
    "OK. We want to characterize each style of beer with the _mean values_ of the numeric features, `abv` and `ibu`, within that style. Let's get those means."
   ]
  },
  {
   "cell_type": "code",
   "execution_count": null,
   "metadata": {},
   "outputs": [],
   "source": [
    "style_means = beers_styles.groupby('style').mean()"
   ]
  },
  {
   "cell_type": "code",
   "execution_count": null,
   "metadata": {},
   "outputs": [],
   "source": [
    "style_means[0:10]"
   ]
  },
  {
   "cell_type": "markdown",
   "metadata": {},
   "source": [
    "Looking good! We have the information we need: the average `abv` and `ibu` by style, and the counts by style. The only problem is that `style_counts` is sorted by decreasing count value, while `style_means` is sorted alphabetically by style. Ugh."
   ]
  },
  {
   "cell_type": "markdown",
   "metadata": {},
   "source": [
    "Notice that `style_means` is a dataframe that is now using the style string as a _label_ for each row. Meanwhile, `style_counts` is a `pandas` series, and it also uses the style as label or index to each element.\n",
    "\n",
    "More online searching and we find the [`series.sort_index()`](https://pandas.pydata.org/pandas-docs/stable/generated/pandas.Series.sort_index.html) method. It will sort our style counts in alphabetical order of style, which is what we want."
   ]
  },
  {
   "cell_type": "code",
   "execution_count": null,
   "metadata": {},
   "outputs": [],
   "source": [
    "style_counts = style_counts.sort_index()"
   ]
  },
  {
   "cell_type": "code",
   "execution_count": null,
   "metadata": {},
   "outputs": [],
   "source": [
    "style_counts[0:10]"
   ]
  },
  {
   "cell_type": "markdown",
   "metadata": {},
   "source": [
    "Above, we used Matplotlib to create a scatter plot using two NumPy arrays as the `x` and `y` parameters. Like we saw previously with histograms, `pandas` also has available some plotting methods (calling Matplotlib internally). Scatter plots made easy!\n"
   ]
  },
  {
   "cell_type": "code",
   "execution_count": null,
   "metadata": {},
   "outputs": [],
   "source": [
    "style_means.plot.scatter(figsize=(8,8), \n",
    "                         x='abv', y='ibu', s=style_counts, \n",
    "                         title='Beer ABV vs. IBU mean values by style');"
   ]
  },
  {
   "cell_type": "markdown",
   "metadata": {},
   "source": [
    "That's rad! Perhaps the bubbles are too small. We could multiply the `style_counts` by a factor of 5, or maybe 10? You should experiment. "
   ]
  },
  {
   "cell_type": "markdown",
   "metadata": {},
   "source": [
    "But we are feeling gung-ho about this now, and decided to find a way to make the _color_ of the bubbles also vary with the style counts. Below, we import the [`colormap`](https://matplotlib.org/api/cm_api.html) module of Matplotlib, and we set our colors using the [_viridis_ colormap](https://matplotlib.org/examples/color/colormaps_reference.html) on the values of `style_counts`, then we repeat the plot with these colors on the bubbles and some transparency. _What do you think?_"
   ]
  },
  {
   "cell_type": "code",
   "execution_count": null,
   "metadata": {},
   "outputs": [],
   "source": [
    "from matplotlib import cm\n",
    "colors = cm.viridis(style_counts.values)"
   ]
  },
  {
   "cell_type": "code",
   "execution_count": null,
   "metadata": {},
   "outputs": [],
   "source": [
    "style_means.plot.scatter(figsize=(10,10), \n",
    "                         x='abv', y='ibu', s=style_counts*20, color=colors,\n",
    "                         title='Beer ABV vs. IBU mean values by style\\n',\n",
    "                         alpha=0.3); #alpha sets the transparency"
   ]
  },
  {
   "cell_type": "markdown",
   "metadata": {},
   "source": [
    "It looks like the most popular beers do follow a linear relationship between alcohol fraction and IBU. We learned a lot about beer without having a sip!"
   ]
  },
  {
   "cell_type": "markdown",
   "metadata": {},
   "source": [
    "_Wait... one more thing!_ What if we add a text label next to the bigger bubbles, to identify the style? \n",
    "\n",
    "OK, here we go a bit overboard, but we couldn't help it. We played around a lot to get this version of the plot. It uses `enumerate` to get pairs of indices and values from a list of style names; an `if` statement to select only the large-count styles; and the [`iloc[]`](http://pandas.pydata.org/pandas-docs/version/0.17.0/generated/pandas.DataFrame.iloc.html) slicing method of `pandas` to get a slice based on index position, and extract `abv` and `ibu` values to an $(x,y)$ coordinate for placing the annotation text. _Are we overkeen or what!_ "
   ]
  },
  {
   "cell_type": "code",
   "execution_count": null,
   "metadata": {},
   "outputs": [],
   "source": [
    "ax = style_means.plot.scatter(figsize=(10,10), \n",
    "                               x='abv', y='ibu', s=style_counts*20, color=colors,\n",
    "                               title='Beer ABV vs. IBU mean values by style\\n',\n",
    "                               alpha=0.3);\n",
    "\n",
    "for i, txt in enumerate(list(style_counts.index.values)):\n",
    "    if style_counts.values[i] > 65:\n",
    "        ax.annotate(txt, (style_means.abv.iloc[i],style_means.ibu.iloc[i]), fontsize=12)\n"
   ]
  },
  {
   "cell_type": "markdown",
   "metadata": {},
   "source": [
    "## What we've learned\n",
    "\n",
    "* You should always plot your data.\n",
    "* The concepts of quantitative and categorical data.\n",
    "* Plotting histograms directly on columns of dataframes, using `pandas`.\n",
    "* Computing variance and standard deviation using NumPy built-in functions.\n",
    "* The concept of median, and how to compute it with NumPy.\n",
    "* Making box plots using `pyplot`.\n",
    "* Five statistics of a box plot: the quartiles Q1, Q2 (median) and Q3 (and  interquartile range Q3$-$Q1), upper and lower extremes.\n",
    "* Visualizing categorical data with bar plots.\n",
    "* Visualizing multiple data with scatter plots and bubble charts.\n",
    "* `pandas` is awesome!"
   ]
  },
  {
   "cell_type": "markdown",
   "metadata": {},
   "source": [
    "## References\n",
    "\n",
    "1. [Craft beer datatset](https://github.com/nickhould/craft-beers-dataset) by Jean-Nicholas Hould.\n",
    "2. [What's The Meaning Of IBU?](https://beerconnoisseur.com/articles/whats-meaning-ibu) by Jim Dykstra for The Beer Connoisseur (2015).\n",
    "3. 40 years of boxplots (2011). Hadley Wickham and Lisa Stryjewski, _Am. Statistician_. [PDF available](http://vita.had.co.nz/papers/boxplots.pdf)\n",
    "4. [John Wilder Tukey](https://www.britannica.com/biography/John-Wilder-Tukey), Encyclopædia Britannica.\n",
    "5. John W. Tukey: His life and professional contributions (2002). David R. Brillinger, _Ann. Statistics_. [PDF available](https://www.stat.berkeley.edu/~brill/Papers/life.pdf)"
   ]
  },
  {
   "cell_type": "markdown",
   "metadata": {},
   "source": [
    "### Recommended viewing\n",
    "\n",
    "From [\"Statistics in Medicine,\"](https://lagunita.stanford.edu/courses/Medicine/MedStats-SP/SelfPaced/about), a free course in Stanford Online by Prof. Kristin Sainani, we highly recommend that you watch this lecture:\n",
    "* [Looking at data](https://youtu.be/QYDuAo9r1xE)"
   ]
  },
  {
   "cell_type": "code",
   "execution_count": null,
   "metadata": {},
   "outputs": [],
   "source": [
    "# Execute this cell to load the notebook's style sheet, then ignore it\n",
    "from IPython.core.display import HTML\n",
    "css_file = '../style/custom.css'\n",
    "HTML(open(css_file, \"r\").read())"
   ]
  },
  {
   "cell_type": "code",
   "execution_count": null,
   "metadata": {},
   "outputs": [],
   "source": []
  }
 ],
 "metadata": {
  "kernelspec": {
   "display_name": "Python 3",
   "language": "python",
   "name": "python3"
  },
  "language_info": {
   "codemirror_mode": {
    "name": "ipython",
    "version": 3
   },
   "file_extension": ".py",
   "mimetype": "text/x-python",
   "name": "python",
   "nbconvert_exporter": "python",
   "pygments_lexer": "ipython3",
   "version": "3.8.8"
  },
  "widgets": {
   "state": {},
   "version": "1.1.2"
  }
 },
 "nbformat": 4,
 "nbformat_minor": 2
}
                                                                                                                                                                                                                                                                                                                                                                                                                                                                                                                                                                                                                                                                                                                                                                                                                                                                                                                                                                                                                                                                                                                                                                                                                                                                                                                                                                                                                                                      