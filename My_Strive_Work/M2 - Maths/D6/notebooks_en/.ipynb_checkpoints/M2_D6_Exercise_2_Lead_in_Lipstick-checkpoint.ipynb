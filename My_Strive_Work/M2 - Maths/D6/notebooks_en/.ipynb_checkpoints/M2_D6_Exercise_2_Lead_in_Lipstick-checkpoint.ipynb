{
 "cells": [
  {
   "cell_type": "markdown",
   "metadata": {
    "cell_id": "00000-1ad6cb25-eb1d-442d-b924-ca21ae99d9f3",
    "deepnote_cell_type": "markdown"
   },
   "source": [
    "###### Content under Creative Commons Attribution license CC-BY 4.0, code under BSD 3-Clause License © 2017 L.A. Barba, N.C. Clementi"
   ]
  },
  {
   "cell_type": "markdown",
   "metadata": {
    "cell_id": "00001-f030cf05-20c7-434b-a966-9b53c2d70143",
    "deepnote_cell_type": "markdown"
   },
   "source": [
    "# Lead in Lipstick\n",
    "\n",
    "After completing [Lesson 1](http://go.gwu.edu/engcomp2lesson1) and [Lesson 2](http://go.gwu.edu/engcomp2lesson2) of \"Take off with stats,\" Module 2 of our course in _Engineering Computations_, here we'll work out a full example of what you can do with all that you've learned.\n",
    "\n",
    "This example is based on the lecture by Prof. Kristin Sainani at Stanford, [\"Exploring real data: lead in lipstick,\"](https://youtu.be/nlKIT-_b2jU) of her online course [\"Statistics in Medicine,\"](https://lagunita.stanford.edu/courses/Medicine/MedStats-SP/SelfPaced/about). We followed along her narration, searched online for the sources she cited and the data from the FDA studies, and worked out the descriptive statistics using Python. We hope you'll enjoy it!"
   ]
  },
  {
   "cell_type": "markdown",
   "metadata": {
    "cell_id": "00002-93ae2d0f-6815-461c-b41d-964f65eef532",
    "deepnote_cell_type": "markdown"
   },
   "source": [
    "## In the news\n",
    "\n",
    "In 2007, some alarming reports appeared in the media: a US consumer-rights group had tested 33 brand-name lipsticks, and found that 61% had detectable lead levels of 0.03 to 0.65 parts per million (ppm). A full one-third of the lipsticks tested exceeded the lead level set by the US Food and Drug Administration (FDA) as the limit for candy: 0.1 ppm. Here are some media reports:\n",
    "\n",
    "* Reuters published on Oct. 12, 2007: [Lipsticks contain lead, consumer group says](https://www.reuters.com/article/us-lipstick-lead/lipsticks-contain-lead-consumer-group-says-idUSN1140964520071012)—it quotes a doctor as saying: \"Lead builds up in the body over time and lead-containing lipstick applied several times a day, every day, can add up to significant exposure levels.\"\n",
    "* CTV.ca News published [FDA to examine claim of lead levels in lipstick](http://www.ctvnews.ca/fda-to-examine-claim-of-lead-levels-in-lipstick-1.259946)—it quoted one member of the Campaign for Safe Cosmetics as saying: \"We want the companies to immediately re-formulate their products to get the lead out and ultimately, really we need to change the laws and force these companies to be accountable to women's health.\"\n",
    "* The New York Times was more measured in [The Claim: Some Red Lipstick Brands Contain High Lead Levels](http://www.nytimes.com/2007/11/13/health/13real.html) (Nov. 13, 2007), concluding: \"Studies have found that lead in lipstick is not a cause for concern, but research is continuing.\"\n",
    "\n",
    "The FDA did carry out new studies in 2009 and 2012 to try to determine if lead content was a concern for lipstick users. These new studies generated some new scary headlines!\n",
    "\n",
    "* On the Washington Post: [400 lipsticks found to contain lead, FDA says](https://www.washingtonpost.com/business/economy/400-lipstick-brands-contain-lead-fda-says/2012/02/14/gIQAhOyeDR_story.html?utm_term=.e3622592e0e7)—the FDA is quoted as stating \"We do not consider the lead levels we found in the lipsticks to be a safety concern…\"\n",
    "* In Time Magazine: [What’s in Your Lipstick? FDA Finds Lead in 400 Shades](http://healthland.time.com/2012/02/15/whats-in-your-lipstick-fda-finds-lead-in-400-shades/)—a campaigner is quoted as saying: \"We want to see the FDA recommend a limit based on the lowest level a company can achieve, like candy manufacturers are required.\"\n",
    "\n",
    "Should lipstick users be concerned? Let's fact-check those scary headlines using our stats chops with Python!"
   ]
  },
  {
   "cell_type": "markdown",
   "metadata": {
    "cell_id": "00003-3b7b14c0-90f5-42fd-abf0-7791b5898ecb",
    "deepnote_cell_type": "markdown"
   },
   "source": [
    "## The FDA studies\n",
    "\n",
    "We located a web page of the US Food and Drug Administration, titled [Limiting Lead in Lipstick and Other Cosmetics](https://www.fda.gov/cosmetics/productsingredients/products/ucm137224.htm#reference1), that describes their efforts to assess the safety concerns from lead impurities in cosmetics. The web page includes data tables for the initial study in 2009, with 22 lipsticks, and the expanded study in 2012, with 400 lipsticks. \n",
    "\n",
    "We copied these tables from the web page and created CSV files with the data. If you have a clone of all our lesson files, you already have the data. But if you downloaded this notebook on its own, you may need to get the data separately. See the Note below.\n",
    "\n",
    "Let's begin by loading our Python libraries for data analysis: `numpy`, `pandas` and `pyplot`. We'll also load the `rcParams` module for setting Matplotlib's plotting parameters, and set the font family and size to serif 16 points."
   ]
  },
  {
   "cell_type": "code",
   "execution_count": 9,
   "metadata": {
    "cell_id": "00004-1158afcc-e550-4044-ad8a-f3e978863473",
    "deepnote_cell_type": "code",
    "execution_millis": 390,
    "execution_start": 1608635165836,
    "output_cleared": false,
    "source_hash": "b627f46a"
   },
   "outputs": [],
   "source": [
    "import numpy\n",
    "import pandas\n",
    "from matplotlib import pyplot\n",
    "%matplotlib inline\n",
    "\n",
    "#Import rcParams to set font styles\n",
    "from matplotlib import rcParams\n",
    "\n",
    "#Set font style and size \n",
    "rcParams['font.family'] = 'serif'\n",
    "rcParams['font.size'] = 16"
   ]
  },
  {
   "cell_type": "markdown",
   "metadata": {
    "cell_id": "00005-571cd084-e3fe-474f-b1c9-0c8a8fb5acd6",
    "deepnote_cell_type": "markdown"
   },
   "source": [
    "##### Note:\n",
    "\n",
    "We'll be reading the data from CSV files using `pandas`. If you don't have the data files locally, change the code in the cell below to read the data from the files hosted in our repository:\n",
    "\n",
    "```Python\n",
    "URL = 'http://go.gwu.edu/engcomp2data3a'\n",
    "leadlips2009 = pandas.read_csv(URL)\n",
    "```"
   ]
  },
  {
   "cell_type": "code",
   "execution_count": 10,
   "metadata": {
    "cell_id": "00006-4f60a866-4971-4e43-a925-b2ca397be6d5",
    "deepnote_cell_type": "code",
    "execution_millis": 0,
    "execution_start": 1608635175196,
    "output_cleared": false,
    "source_hash": "1272eb31"
   },
   "outputs": [],
   "source": [
    "# Load the FDA 2009 data set using pandas, and assign it to a dataframe\n",
    "leadlips2009 = pandas.read_csv(\"../data/FDA2009-lipstickdata.csv\")"
   ]
  },
  {
   "cell_type": "markdown",
   "metadata": {
    "cell_id": "00007-e27a727f-8269-4b44-bf30-7a746984cdb6",
    "deepnote_cell_type": "markdown"
   },
   "source": [
    "As always, we take a quick peek at the data, now saved in a `pandas` dataframe named `leadlips2009`, and then we get a view of its distribution by plotting a histograms."
   ]
  },
  {
   "cell_type": "code",
   "execution_count": 11,
   "metadata": {
    "cell_id": "00008-b07839a2-266d-49df-8f3c-63b1bc5de270",
    "deepnote_cell_type": "code",
    "execution_millis": 21,
    "execution_start": 1608635178781,
    "output_cleared": false,
    "source_hash": "559c0b0a"
   },
   "outputs": [
    {
     "data": {
      "text/html": [
       "<div>\n",
       "<style scoped>\n",
       "    .dataframe tbody tr th:only-of-type {\n",
       "        vertical-align: middle;\n",
       "    }\n",
       "\n",
       "    .dataframe tbody tr th {\n",
       "        vertical-align: top;\n",
       "    }\n",
       "\n",
       "    .dataframe thead th {\n",
       "        text-align: right;\n",
       "    }\n",
       "</style>\n",
       "<table border=\"1\" class=\"dataframe\">\n",
       "  <thead>\n",
       "    <tr style=\"text-align: right;\">\n",
       "      <th></th>\n",
       "      <th>count</th>\n",
       "      <th>Sample</th>\n",
       "      <th>Brand</th>\n",
       "      <th>Parent company</th>\n",
       "      <th>Pb ppm</th>\n",
       "    </tr>\n",
       "  </thead>\n",
       "  <tbody>\n",
       "    <tr>\n",
       "      <th>0</th>\n",
       "      <td>1</td>\n",
       "      <td>1a</td>\n",
       "      <td>Cover Girl</td>\n",
       "      <td>Procter &amp; Gamble</td>\n",
       "      <td>3.06</td>\n",
       "    </tr>\n",
       "    <tr>\n",
       "      <th>1</th>\n",
       "      <td>2</td>\n",
       "      <td>1b</td>\n",
       "      <td>Cover Girl</td>\n",
       "      <td>Procter &amp; Gamble</td>\n",
       "      <td>3.05</td>\n",
       "    </tr>\n",
       "    <tr>\n",
       "      <th>2</th>\n",
       "      <td>3</td>\n",
       "      <td>2</td>\n",
       "      <td>Revlon</td>\n",
       "      <td>Revlon</td>\n",
       "      <td>2.38</td>\n",
       "    </tr>\n",
       "    <tr>\n",
       "      <th>3</th>\n",
       "      <td>4</td>\n",
       "      <td>3</td>\n",
       "      <td>Cover Girl</td>\n",
       "      <td>Procter &amp; Gamble</td>\n",
       "      <td>2.24</td>\n",
       "    </tr>\n",
       "    <tr>\n",
       "      <th>4</th>\n",
       "      <td>5</td>\n",
       "      <td>4</td>\n",
       "      <td>Body Shop</td>\n",
       "      <td>L'Oreal</td>\n",
       "      <td>1.79</td>\n",
       "    </tr>\n",
       "  </tbody>\n",
       "</table>\n",
       "</div>"
      ],
      "text/plain": [
       "   count Sample       Brand    Parent company  Pb ppm\n",
       "0      1     1a  Cover Girl  Procter & Gamble    3.06\n",
       "1      2     1b  Cover Girl  Procter & Gamble    3.05\n",
       "2      3      2      Revlon            Revlon    2.38\n",
       "3      4      3  Cover Girl  Procter & Gamble    2.24\n",
       "4      5      4   Body Shop           L'Oreal    1.79"
      ]
     },
     "execution_count": 11,
     "metadata": {},
     "output_type": "execute_result"
    }
   ],
   "source": [
    "leadlips2009[0:5]"
   ]
  },
  {
   "cell_type": "markdown",
   "metadata": {
    "cell_id": "00009-b0412913-73af-48f4-a0b5-b9bc9fcf43de",
    "deepnote_cell_type": "markdown"
   },
   "source": [
    "Let's see a histogram of the data column containing the lead content. It's easy with `pandas`, because we can use the column label as a plot argument."
   ]
  },
  {
   "cell_type": "code",
   "execution_count": 12,
   "metadata": {
    "cell_id": "00010-1c13d4c6-235f-4fb5-8f62-fd78b057639d",
    "deepnote_cell_type": "code"
   },
   "outputs": [
    {
     "data": {
      "image/png": "[encoded data removed]",
      "text/plain": [
       "<Figure size 432x288 with 1 Axes>"
      ]
     },
     "metadata": {
      "needs_background": "light"
     },
     "output_type": "display_data"
    }
   ],
   "source": [
    "leadlips2009.hist(column='Pb ppm', bins=4, edgecolor='white')\n",
    "pyplot.title('Lead levels in lipstick, n=22 (2009) \\n');"
   ]
  },
  {
   "cell_type": "markdown",
   "metadata": {
    "cell_id": "00011-6dfc3f66-ce03-4717-900a-a715e3512552",
    "deepnote_cell_type": "markdown"
   },
   "source": [
    "Above, we used the built-in plotting capability of `pandas`. Just for kicks, let's get the same plot but using `pyplot` directly. To do that, remember that we need the data in a NumPy array, for which we use the `Series.values` method."
   ]
  },
  {
   "cell_type": "code",
   "execution_count": 13,
   "metadata": {
    "cell_id": "00012-dd4bbbdc-3ba0-497b-b955-1d6d56b664a3",
    "deepnote_cell_type": "code",
    "execution_millis": 1,
    "execution_start": 1608635440040,
    "output_cleared": false,
    "source_hash": "a3bc8d2a"
   },
   "outputs": [],
   "source": [
    "lead2009 = leadlips2009['Pb ppm'].values"
   ]
  },
  {
   "cell_type": "code",
   "execution_count": 14,
   "metadata": {
    "cell_id": "00013-d504f387-b50b-49c2-835f-19e03bc96b73",
    "deepnote_cell_type": "code",
    "execution_millis": 77,
    "execution_start": 1608635449008,
    "output_cleared": false,
    "source_hash": "e604c1b0"
   },
   "outputs": [
    {
     "data": {
      "image/png": "[encoded data removed]",
      "text/plain": [
       "<Figure size 432x288 with 1 Axes>"
      ]
     },
     "metadata": {
      "needs_background": "light"
     },
     "output_type": "display_data"
    }
   ],
   "source": [
    "pyplot.figure(figsize=(6,4))\n",
    "pyplot.hist(lead2009, bins=4, color='#3498db', histtype='bar', edgecolor='white') \n",
    "pyplot.title('Lead levels in lipstick, n=22 (2009) \\n')\n",
    "pyplot.xlabel('ppm')\n",
    "pyplot.ylabel('Count');"
   ]
  },
  {
   "cell_type": "markdown",
   "metadata": {
    "cell_id": "00014-f0a7baa3-b69a-4140-9fc1-e3645792fcc6",
    "deepnote_cell_type": "markdown"
   },
   "source": [
    "The histograms look the same, except for style. If you are following along with Sainani's lecture, however, you'll note some differences. We confirm that the data is the same by getting the descriptive statistics shown 4-min into the video:"
   ]
  },
  {
   "cell_type": "code",
   "execution_count": 15,
   "metadata": {
    "cell_id": "00015-9d0f4ea4-1a37-48cf-9c3e-102b9c8e415b",
    "deepnote_cell_type": "code",
    "execution_millis": 1,
    "execution_start": 1608635495140,
    "output_cleared": false,
    "source_hash": "9e86d97"
   },
   "outputs": [
    {
     "name": "stdout",
     "output_type": "stream",
     "text": [
      "The mean value is 1.07\n",
      "The median is 0.73\n",
      "The standard deviation is 0.96\n",
      "The maximum value is 3.06\n"
     ]
    }
   ],
   "source": [
    "print('The mean value is {:.2f}'.format(leadlips2009['Pb ppm'].mean()))\n",
    "print('The median is {:.2f}'.format(leadlips2009['Pb ppm'].median()))\n",
    "print('The standard deviation is {:.2f}'.format(leadlips2009['Pb ppm'].std()))\n",
    "print('The maximum value is {:.2f}'.format(leadlips2009['Pb ppm'].max()))"
   ]
  },
  {
   "cell_type": "markdown",
   "metadata": {
    "cell_id": "00016-e537b87d-7f2f-4141-a1ce-5f6363f05998",
    "deepnote_cell_type": "markdown"
   },
   "source": [
    "All of these match the statistics shown in the video. We do see some slight differences in the percentile values, however. Check them out:"
   ]
  },
  {
   "cell_type": "code",
   "execution_count": 16,
   "metadata": {
    "cell_id": "00017-1d7de365-36cb-483a-803b-5d622f302b5e",
    "deepnote_cell_type": "code",
    "execution_millis": 7,
    "execution_start": 1608635497400,
    "output_cleared": false,
    "scrolled": true,
    "source_hash": "1457104c"
   },
   "outputs": [
    {
     "name": "stdout",
     "output_type": "stream",
     "text": [
      "The 99 percentile is 3.06\n",
      "The 95 percentile is 3.02\n",
      "The 90 percentile is 2.37\n",
      "The 75 percentile is 1.69\n"
     ]
    }
   ],
   "source": [
    "print('The 99 percentile is {:.2f}'.format(leadlips2009['Pb ppm'].quantile(.99)))\n",
    "print('The 95 percentile is {:.2f}'.format(leadlips2009['Pb ppm'].quantile(.95)))\n",
    "print('The 90 percentile is {:.2f}'.format(leadlips2009['Pb ppm'].quantile(.90)))\n",
    "print('The 75 percentile is {:.2f}'.format(leadlips2009['Pb ppm'].quantile(.75)))"
   ]
  },
  {
   "cell_type": "markdown",
   "metadata": {
    "cell_id": "00018-66b4e94b-ab67-410d-8d74-9ca9e0061b68",
    "deepnote_cell_type": "markdown"
   },
   "source": [
    "#####  Challenge question\n",
    "\n",
    "Despite the small difference in some percentile values from those shown on the video, we do think this is the same data that Sainani uses in her example. Look carefully at the histograms: can you explain the differences? (Play around with the plots here as much as you need to explain it.)"
   ]
  },
  {
   "cell_type": "markdown",
   "metadata": {
    "cell_id": "00019-fed4bc34-d35b-43ed-8dd2-f6131b28ef4f",
    "deepnote_cell_type": "markdown"
   },
   "source": [
    "Let's load the data for the extended study in 2012. \n",
    "\n",
    "##### Note:\n",
    "If you don't have the data files locally, change the code in the cell below to read the data from the files hosted in our repository:\n",
    "\n",
    "```Python\n",
    "URL = 'http://go.gwu.edu/engcomp2data3b'\n",
    "leadlips2012 = pandas.read_csv(URL)\n",
    "```"
   ]
  },
  {
   "cell_type": "code",
   "execution_count": 26,
   "metadata": {
    "cell_id": "00020-e56c778a-068b-4296-9e2a-81bb1011cb8e",
    "deepnote_cell_type": "code",
    "execution_millis": 8,
    "execution_start": 1608635503728,
    "output_cleared": false,
    "source_hash": "31f9827"
   },
   "outputs": [],
   "source": [
    "# Load the FDA 2012 data set using pandas, and assign it to a dataframe\n",
    "leadlips2012 = pandas.read_csv(\"../data/FDA2012-lipstickdata.csv\")"
   ]
  },
  {
   "cell_type": "markdown",
   "metadata": {
    "cell_id": "00021-541f43d6-8199-40f8-b696-245bb37033de",
    "deepnote_cell_type": "markdown"
   },
   "source": [
    "Take a quick peek at the first few rows of the dataframe we just created, and then make a histogram of the column containing the lead values (notice that it has a different label than the previous dataframe)."
   ]
  },
  {
   "cell_type": "code",
   "execution_count": 18,
   "metadata": {
    "cell_id": "00022-b1f8bfac-e647-42c6-ae5e-54e56d82f9f2",
    "deepnote_cell_type": "code",
    "execution_millis": 1,
    "execution_start": 1608635505728,
    "output_cleared": false,
    "source_hash": "e89a3de2"
   },
   "outputs": [
    {
     "data": {
      "text/html": [
       "<div>\n",
       "<style scoped>\n",
       "    .dataframe tbody tr th:only-of-type {\n",
       "        vertical-align: middle;\n",
       "    }\n",
       "\n",
       "    .dataframe tbody tr th {\n",
       "        vertical-align: top;\n",
       "    }\n",
       "\n",
       "    .dataframe thead th {\n",
       "        text-align: right;\n",
       "    }\n",
       "</style>\n",
       "<table border=\"1\" class=\"dataframe\">\n",
       "  <thead>\n",
       "    <tr style=\"text-align: right;\">\n",
       "      <th></th>\n",
       "      <th>Sample #</th>\n",
       "      <th>Brand</th>\n",
       "      <th>Parent company</th>\n",
       "      <th>Lead (ppm)</th>\n",
       "    </tr>\n",
       "  </thead>\n",
       "  <tbody>\n",
       "    <tr>\n",
       "      <th>0</th>\n",
       "      <td>1</td>\n",
       "      <td>Maybelline</td>\n",
       "      <td>L'Oreal USA</td>\n",
       "      <td>7.19</td>\n",
       "    </tr>\n",
       "    <tr>\n",
       "      <th>1</th>\n",
       "      <td>2</td>\n",
       "      <td>L'Oreal</td>\n",
       "      <td>L'Oreal USA</td>\n",
       "      <td>7.00</td>\n",
       "    </tr>\n",
       "    <tr>\n",
       "      <th>2</th>\n",
       "      <td>3</td>\n",
       "      <td>NARS</td>\n",
       "      <td>Shiseido</td>\n",
       "      <td>4.93</td>\n",
       "    </tr>\n",
       "    <tr>\n",
       "      <th>3</th>\n",
       "      <td>4</td>\n",
       "      <td>Cover Girl Queen</td>\n",
       "      <td>Procter &amp; Gamble</td>\n",
       "      <td>4.92</td>\n",
       "    </tr>\n",
       "    <tr>\n",
       "      <th>4</th>\n",
       "      <td>5</td>\n",
       "      <td>NARS</td>\n",
       "      <td>Shiseido</td>\n",
       "      <td>4.89</td>\n",
       "    </tr>\n",
       "  </tbody>\n",
       "</table>\n",
       "</div>"
      ],
      "text/plain": [
       "   Sample #             Brand    Parent company  Lead (ppm)\n",
       "0         1        Maybelline       L'Oreal USA        7.19\n",
       "1         2           L'Oreal       L'Oreal USA        7.00\n",
       "2         3              NARS          Shiseido        4.93\n",
       "3         4  Cover Girl Queen  Procter & Gamble        4.92\n",
       "4         5              NARS          Shiseido        4.89"
      ]
     },
     "execution_count": 18,
     "metadata": {},
     "output_type": "execute_result"
    }
   ],
   "source": [
    "leadlips2012[0:5]"
   ]
  },
  {
   "cell_type": "code",
   "execution_count": 19,
   "metadata": {
    "cell_id": "00023-cc49339e-da7a-4d2d-a49c-0f97fd26fad4",
    "deepnote_cell_type": "code",
    "execution_millis": 114,
    "execution_start": 1608635509587,
    "output_cleared": false,
    "source_hash": "5c45b03a"
   },
   "outputs": [
    {
     "data": {
      "image/png": "[encoded data removed]",
      "text/plain": [
       "<Figure size 432x288 with 1 Axes>"
      ]
     },
     "metadata": {
      "needs_background": "light"
     },
     "output_type": "display_data"
    }
   ],
   "source": [
    "leadlips2012.hist(column='Lead (ppm)', bins=10, edgecolor='white')\n",
    "pyplot.title('Lead levels in lipstick, n=400 (2012) \\n');"
   ]
  },
  {
   "cell_type": "markdown",
   "metadata": {
    "cell_id": "00024-2ddae8de-8d19-45ae-be3a-28742ace78b5",
    "deepnote_cell_type": "markdown"
   },
   "source": [
    "Now, let's get the descriptive statistics for this data set, and confirm that they match with those shown in Dr. Sainani's video. "
   ]
  },
  {
   "cell_type": "code",
   "execution_count": 20,
   "metadata": {
    "cell_id": "00025-51c0ad75-6e58-42df-a427-80a04170d362",
    "deepnote_cell_type": "code",
    "execution_millis": 2,
    "execution_start": 1608635527173,
    "output_cleared": false,
    "source_hash": "da1f9b70"
   },
   "outputs": [
    {
     "name": "stdout",
     "output_type": "stream",
     "text": [
      "The mean value is 1.11\n",
      "The median is 0.89\n",
      "The standard deviation is 0.97\n",
      "The maximum value is 7.19\n"
     ]
    }
   ],
   "source": [
    "print('The mean value is {:.2f}'.format(leadlips2012['Lead (ppm)'].mean()))\n",
    "print('The median is {:.2f}'.format(leadlips2012['Lead (ppm)'].median()))\n",
    "print('The standard deviation is {:.2f}'.format(leadlips2012['Lead (ppm)'].std()))\n",
    "print('The maximum value is {:.2f}'.format(leadlips2012['Lead (ppm)'].max()))"
   ]
  },
  {
   "cell_type": "markdown",
   "metadata": {
    "cell_id": "00026-ad562b64-5859-4eea-8460-611430f591ed",
    "deepnote_cell_type": "markdown"
   },
   "source": [
    "The mean value, median, and standard deviation did not change much between the 2009 and 2012 studies, even though the earlier study only tested 22 samples. As Prof. Sainani points out, this goes to show that you can begin to describe a feature even with modest sample sizes.\n",
    "\n",
    "The maximum value in the second study was a lot higher: 7.19 compared to 3.06. The reason for seeing this higher maximum value in the later study is that, for a _right skewed_ distribution like this one, there are infrequent occurrences of a higher concentration of lead. These start to be detected with larger sample sizes.\n",
    "\n",
    "Next, we compute a few percentiles (noticing slight differences with the values shown by Sainani)."
   ]
  },
  {
   "cell_type": "code",
   "execution_count": 21,
   "metadata": {
    "cell_id": "00027-49cdbf05-85b6-4c29-b6ac-6b22f11e51b2",
    "deepnote_cell_type": "code",
    "execution_millis": 1,
    "execution_start": 1608635589840,
    "output_cleared": false,
    "source_hash": "8ac28be7"
   },
   "outputs": [
    {
     "name": "stdout",
     "output_type": "stream",
     "text": [
      "The 99 percentile is 4.89\n",
      "The 95 percentile is 2.74\n",
      "The 90 percentile is 2.22\n",
      "The 75 percentile is 1.49\n"
     ]
    }
   ],
   "source": [
    "print('The 99 percentile is {:.2f}'.format(leadlips2012['Lead (ppm)'].quantile(.99)))\n",
    "print('The 95 percentile is {:.2f}'.format(leadlips2012['Lead (ppm)'].quantile(.95)))\n",
    "print('The 90 percentile is {:.2f}'.format(leadlips2012['Lead (ppm)'].quantile(.90)))\n",
    "print('The 75 percentile is {:.2f}'.format(leadlips2012['Lead (ppm)'].quantile(.75)))"
   ]
  },
  {
   "cell_type": "markdown",
   "metadata": {
    "cell_id": "00028-5b69c99a-a6a3-427b-8a7f-2337051b2e73",
    "deepnote_cell_type": "markdown"
   },
   "source": [
    "In the previous lesson, you learned to make box plots using `pyplot`, which requires extracting the values of the data series of interest into NumPy arrays. It turns out, `pandas` can make box plots directly with a column of the dataframe. "
   ]
  },
  {
   "cell_type": "code",
   "execution_count": 22,
   "metadata": {
    "cell_id": "00029-f896fb06-7c5d-45f1-9697-1bf0c307c46d",
    "deepnote_cell_type": "code",
    "execution_millis": 74,
    "execution_start": 1608635610104,
    "output_cleared": false,
    "source_hash": "6af7063f"
   },
   "outputs": [
    {
     "data": {
      "image/png": "[encoded data removed]",
      "text/plain": [
       "<Figure size 432x576 with 1 Axes>"
      ]
     },
     "metadata": {
      "needs_background": "light"
     },
     "output_type": "display_data"
    }
   ],
   "source": [
    "leadlips2012.boxplot(column='Lead (ppm)', figsize=(6,8))\n",
    "pyplot.title('Lead levels in lipstick, n=400 (2012) \\n');"
   ]
  },
  {
   "cell_type": "markdown",
   "metadata": {
    "cell_id": "00030-0575868a-7275-408e-a5ec-9caf253d3649",
    "deepnote_cell_type": "markdown",
    "tags": []
   },
   "source": [
    "### Questions:\n",
    "### 1. What does the green line in the middle of the box of the boxplot represent?\n",
    "### 2. What are the circles at the top of the boxplot?\n",
    "### 3. What do the \"whiskers\" of the boxplot represent?\n",
    "\n",
    "You can answer in a new markdown cell below."
   ]
  },
  {
   "cell_type": "markdown",
   "metadata": {
    "cell_id": "00030-f6cbb6ad-36e0-49bc-8d66-33ad2a715028",
    "deepnote_cell_type": "markdown"
   },
   "source": [
    "The box plot also indicates a right skewed distribution, and shows a number of outliers on the high end of the range: some lipsticks have an especially high level of lead."
   ]
  },
  {
   "cell_type": "markdown",
   "metadata": {},
   "source": [
    "## My answers:\n",
    "\n",
    "**1.** The median\n",
    "\n",
    "**2.** Anomalies\n",
    "\n",
    "**3.** Range of bottom value to top value"
   ]
  },
  {
   "cell_type": "markdown",
   "metadata": {
    "cell_id": "00031-2fd4db74-7188-4631-b064-3567eaebf62f",
    "deepnote_cell_type": "markdown"
   },
   "source": [
    "## Lead exposure from lipstick\n",
    "\n",
    "A European study of exposure to various cosmetic products [Ref. 2] offers some useful statistics about lipstick use. In figure 6, the paper shows a histogram of lipstick applied by the participants in the study. The distribution is right skewed: most users apply a moderate amount of lipstick daily, but there are a few heavy users in the tail of the distribution. The number of participants was 30,000, and the summary statistics are:\n",
    "\n",
    "* mean value = 24.61 mg/day,\n",
    "* median = 17.11 mg/day,\n",
    "* minimum = 0.13 mg/day,\n",
    "* maximum = 217.53 mg/day\n",
    "* 95th percentile = 72.51 mg/day\n",
    "\n",
    "Prof. Sainani suggests the following exercise: suppose that users ingest half of the lipstick they apply daily—seems like a conservative estimate, given that some lipstick will end up on cups, napkins, and (as Sainani amusingly points out) other people. We'd like to calculate:\n",
    "\n",
    "1. the typical lead exposure from lipstick, using the medians\n",
    "2. the highest daily lead exposure from lipstick, using the maxima\n",
    "\n",
    "From the 2012 FDA study of lead in lipstick: the median is 0.89 ppm (µg/g) and the maximum is 7.19 ppm. From the European study on exposure to cosmetics, the median daily usage of lipstick is 17.11 mg, and the maximum is 217.53. Now… keep your units straight!\n",
    "\n",
    "$ 1 \\mu\\text{g} = 10^{-3} \\text{mg} = 10^{-6} \\text{g}$"
   ]
  },
  {
   "cell_type": "markdown",
   "metadata": {
    "cell_id": "00032-12798d2b-953d-4c75-a3ff-1e0e0583cc0e",
    "deepnote_cell_type": "markdown",
    "tags": []
   },
   "source": [
    "### Questions: What is the typical daily exposure to lead from lipstick in µg/day?\n",
    "Consider that only half of the amount is ingested."
   ]
  },
  {
   "cell_type": "code",
   "execution_count": 31,
   "metadata": {
    "cell_id": "00032-d51c62a5-f7da-4805-90e1-dbc8647b6f6a",
    "deepnote_cell_type": "code",
    "execution_millis": 1,
    "execution_start": 1608636298248,
    "output_cleared": false,
    "source_hash": "b34fd262"
   },
   "outputs": [
    {
     "data": {
      "text/plain": [
       "8.555"
      ]
     },
     "execution_count": 31,
     "metadata": {},
     "output_type": "execute_result"
    }
   ],
   "source": [
    "# print('The typical daily exposure to lead from lipstick is {:.4f} µg/day.'.format( ...your calculations...))\n",
    "# print('Half of this amount is ingested: {:.4f} µg/day.'.format(...your calculation...))\n",
    "\n",
    "### Whats the full amount of daily expose?\n",
    "exposure = 17.11\n",
    "consumed = exposure/2\n",
    "\n",
    "consumed\n",
    "### Half that number"
   ]
  },
  {
   "cell_type": "markdown",
   "metadata": {
    "cell_id": "00034-c183beac-ff73-4c14-8330-08ff14313de6",
    "deepnote_cell_type": "markdown",
    "tags": []
   },
   "source": [
    "### Questions: What is the maximum daily exposure to lead from lipstick in µg/day?\n",
    "Consider that only half of the amount is ingested."
   ]
  },
  {
   "cell_type": "code",
   "execution_count": 32,
   "metadata": {
    "cell_id": "00033-9637f0b7-cc6c-4060-8c49-509561795109",
    "deepnote_cell_type": "code",
    "execution_millis": 1,
    "execution_start": 1608636394401,
    "output_cleared": false,
    "source_hash": "e1267a3c"
   },
   "outputs": [
    {
     "data": {
      "text/plain": [
       "108.765"
      ]
     },
     "execution_count": 32,
     "metadata": {},
     "output_type": "execute_result"
    }
   ],
   "source": [
    "# print('The maximum daily exposure to lead from lipstick is {:.2f} µg/day.'.format(...your calculation...))\n",
    "# print('Half of this amount is ingested: {:.2f} µg/day.'.format(...your calculation...))\n",
    "\n",
    "max_exposure = 217.53\n",
    "max_consumed = max_exposure/2\n",
    "\n",
    "max_consumed"
   ]
  },
  {
   "cell_type": "markdown",
   "metadata": {
    "cell_id": "00034-8b06ccfb-179f-440f-9715-850c9d3302cc",
    "deepnote_cell_type": "markdown"
   },
   "source": [
    "The maximum daily exposure is 100 times larger than the typical exposure, based on the median. Note that this maximum occurs for one user over 30,000 (the size of the study sample), and one lipstick over 400—so it's a chance of one in 12 million!"
   ]
  },
  {
   "cell_type": "markdown",
   "metadata": {
    "cell_id": "00035-42b881a0-4f54-4a08-ad43-33cbc4c4d288",
    "deepnote_cell_type": "markdown"
   },
   "source": [
    "## Is this bad?\n",
    "\n",
    "The US Food and Drug Administration provides a recommended _maximum_ lead level of 0.1 ppm in candy to be consumed by small children [3]. But most food products are well below the maximum. \n",
    "For example, the FDA data on 40 samples of milk chocolate in the years 1991–2002 showed a mean lead level of 0.025 ppm [4]. That's of course much lower than the concentration of lead in lipstick, but the _consumption_ of chocolate is much higher! Forbes reported that the average American eats about 9.5 lbs (4.3 kg) of chocolate each year [6]."
   ]
  },
  {
   "cell_type": "code",
   "execution_count": 25,
   "metadata": {
    "cell_id": "00036-3e58d288-3528-41ec-84f4-579ff8a40055",
    "deepnote_cell_type": "code"
   },
   "outputs": [
    {
     "name": "stdout",
     "output_type": "stream",
     "text": [
      "The average American consumes 11.8 grams of chocolate per day.\n",
      "This amounts to 0.29 µg of lead exposure from chocolate (mean of FDA data).\n"
     ]
    }
   ],
   "source": [
    "print('The average American consumes {:.1f} grams of chocolate per day.'.format(4.3*1000/365))\n",
    "print('This amounts to {:.2f} µg of lead exposure from chocolate (mean of FDA data).'.format(4.3*1000/365*0.025))"
   ]
  },
  {
   "cell_type": "markdown",
   "metadata": {
    "cell_id": "00037-d56ae8fa-cb8c-4279-a4ae-150053252b20",
    "deepnote_cell_type": "markdown"
   },
   "source": [
    "Compared to the median exposure to lead from lipstick of 0.0076 µg per day, the exposure from chocolate is almost 40 times higher!\n",
    "\n",
    "Clearly the consumer group that generated all those headlines was scaremongering. And now you have the tools to fact-check many of those scary health-related \"fake news.\""
   ]
  },
  {
   "cell_type": "markdown",
   "metadata": {
    "cell_id": "00038-401d5138-8d3c-4955-9f65-a08c60f0877a",
    "deepnote_cell_type": "markdown"
   },
   "source": [
    "## References\n",
    "\n",
    "1. [Limiting Lead in Lipstick and Other Cosmetics](https://www.fda.gov/cosmetics/productsingredients/products/ucm137224.htm#reference1), US Food and Drug Administration.\n",
    "2. European consumer exposure to cosmetic products, a framework for conducting population exposure assessments  (2007). Hall, B., et al., _Food and Chemical Toxicology_ **45**(11): 2097-2108. [Available on PubMed.](https://www.ncbi.nlm.nih.gov/pubmed/17683841)\n",
    "3. US FDA Guidance for Industry: [Lead in Candy Likely To Be Consumed Frequently by Small Children: Recommended Maximum Level and Enforcement Policy](https://www.fda.gov/Food/GuidanceRegulation/GuidanceDocumentsRegulatoryInformation/ucm077904.htm) (2005, revised 2006).\n",
    "4. US FDA [Supporting Document for Recommended Maximum Level for Lead in Candy Likely To Be Consumed Frequently by Small Children](https://www.fda.gov/food/foodborneillnesscontaminants/metals/ucm172050.htm#lead) (2006).\n",
    "5. [The World's Biggest Chocolate Consumers](https://www.forbes.com/sites/niallmccarthy/2015/07/22/the-worlds-biggest-chocolate-consumers-infographic/#5399969b4484), Forbes, July 22nd 2015."
   ]
  },
  {
   "cell_type": "markdown",
   "metadata": {
    "cell_id": "00039-902c25a6-a586-4ebb-93fa-1ef604fdfe96",
    "deepnote_cell_type": "markdown"
   },
   "source": [
    "### Recommended viewing\n",
    "\n",
    "This lesson was based on the followign lecture from [\"Statistics in Medicine,\"](https://lagunita.stanford.edu/courses/Medicine/MedStats-SP/SelfPaced/about), a free course in Stanford Online by Prof. Kristin Sainani:\n",
    "* [Exploring real data: lead in lipstick](https://youtu.be/nlKIT-_b2jU)"
   ]
  },
  {
   "cell_type": "code",
   "execution_count": null,
   "metadata": {
    "cell_id": "00040-70d47be1-5b28-4e67-95a0-b1584ca9645b",
    "deepnote_cell_type": "code"
   },
   "outputs": [
    {
     "data": {
      "text/html": [
       "<link href=\"https://fonts.googleapis.com/css?family=Merriweather:300,300i,400,400i,700,700i,900,900i\" rel='stylesheet' >\n",
       "<link href=\"https://fonts.googleapis.com/css?family=Source+Sans+Pro:300,300i,400,400i,700,700i\" rel='stylesheet' >\n",
       "<link href='http://fonts.googleapis.com/css?family=Source+Code+Pro:300,400' rel='stylesheet' >\n",
       "<style>\n",
       "\n",
       "@font-face {\n",
       "    font-family: \"Computer Modern\";\n",
       "    src: url('http://mirrors.ctan.org/fonts/cm-unicode/fonts/otf/cmunss.otf');\n",
       "}\n",
       "\n",
       "\n",
       "#notebook_panel { /* main background */\n",
       "    background: rgb(245,245,245);\n",
       "}\n",
       "\n",
       "div.cell { /* set cell width */\n",
       "    width: 800px;\n",
       "}\n",
       "\n",
       "div #notebook { /* centre the content */\n",
       "    background: #fff; /* white background for content */\n",
       "    width: 1000px;\n",
       "    margin: auto;\n",
       "    padding-left: 0em;\n",
       "}\n",
       "\n",
       "#notebook li { /* More space between bullet points */\n",
       "margin-top:0.5em;\n",
       "}\n",
       "\n",
       "/* draw border around running cells */\n",
       "div.cell.border-box-sizing.code_cell.running { \n",
       "    border: 1px solid #111;\n",
       "}\n",
       "\n",
       "/* Put a solid color box around each cell and its output, visually linking them*/\n",
       "div.cell.code_cell {\n",
       "    background-color: rgb(256,256,256); \n",
       "    border-radius: 0px; \n",
       "    padding: 0.5em;\n",
       "    margin-left:1em;\n",
       "    margin-top: 1em;\n",
       "}\n",
       "\n",
       "\n",
       "div.text_cell_render{\n",
       "    font-family: 'Source Sans Pro', sans-serif;\n",
       "    line-height: 140%;\n",
       "    font-size: 110%;\n",
       "    width:680px;\n",
       "    margin-left:auto;\n",
       "    margin-right:auto;\n",
       "}\n",
       "\n",
       "/* Formatting for header cells */\n",
       ".text_cell_render h1 {\n",
       "    font-family: 'Merriweather', serif;\n",
       "    font-style:regular;\n",
       "    font-weight: bold;    \n",
       "    font-size: 250%;\n",
       "    line-height: 100%;\n",
       "    color: #004065;\n",
       "    margin-bottom: 1em;\n",
       "    margin-top: 0.5em;\n",
       "    display: block;\n",
       "}\t\n",
       ".text_cell_render h2 {\n",
       "    font-family: 'Merriweather', serif;\n",
       "    font-weight: bold; \n",
       "    font-size: 180%;\n",
       "    line-height: 100%;\n",
       "    color: #0096d6;\n",
       "    margin-bottom: 0.5em;\n",
       "    margin-top: 0.5em;\n",
       "    display: block;\n",
       "}\t\n",
       "\n",
       ".text_cell_render h3 {\n",
       "    font-family: 'Merriweather', serif;\n",
       "\tfont-size: 150%;\n",
       "    margin-top:12px;\n",
       "    margin-bottom: 3px;\n",
       "    font-style: regular;\n",
       "    color: #008367;\n",
       "}\n",
       "\n",
       ".text_cell_render h4 {    /*Use this for captions*/\n",
       "    font-family: 'Merriweather', serif;\n",
       "    font-weight: 300; \n",
       "    font-size: 100%;\n",
       "    line-height: 120%;\n",
       "    text-align: center;\n",
       "    margin-top: 1em;\n",
       "    margin-bottom: 2em;\n",
       "    font-style: regular;\n",
       "}\n",
       "\n",
       ".text_cell_render h5 {  /*Use this for small titles*/\n",
       "    font-family: 'Source Sans Pro', sans-serif;\n",
       "    font-weight: regular;\n",
       "    font-size: 130%;\n",
       "    color: #e31937;\n",
       "    font-style: italic;\n",
       "    margin-bottom: .5em;\n",
       "    margin-top: 1em;\n",
       "    display: block;\n",
       "}\n",
       "\n",
       ".text_cell_render h6 { /*use this for copyright note*/\n",
       "    font-family: 'Source Code Pro', sans-serif;\n",
       "    font-weight: 300;\n",
       "    font-size: 9pt;\n",
       "    line-height: 100%;\n",
       "    color: grey;\n",
       "    margin-bottom: 1px;\n",
       "    margin-top: 1px;\n",
       "}\n",
       "\n",
       "    .CodeMirror{\n",
       "            font-family: \"Source Code Pro\";\n",
       "\t\t\tfont-size: 90%;\n",
       "    }\n",
       "/*    .prompt{\n",
       "        display: None;\n",
       "    }*/\n",
       "\t\n",
       "    \n",
       "    .warning{\n",
       "        color: rgb( 240, 20, 20 )\n",
       "        }  \n",
       "</style>\n",
       "<script>\n",
       "    MathJax.Hub.Config({\n",
       "                        TeX: {\n",
       "                           extensions: [\"AMSmath.js\"], \n",
       "                           equationNumbers: { autoNumber: \"AMS\", useLabelIds: true}\n",
       "                           },\n",
       "                tex2jax: {\n",
       "                    inlineMath: [ ['$','$'], [\"\\\\(\",\"\\\\)\"] ],\n",
       "                    displayMath: [ ['$$','$$'], [\"\\\\[\",\"\\\\]\"] ]\n",
       "                },\n",
       "                displayAlign: 'center', // Change this to 'center' to center equations.\n",
       "                \"HTML-CSS\": {\n",
       "                    styles: {'.MathJax_Display': {\"margin\": 4}}\n",
       "                }\n",
       "        });\n",
       "</script>\n"
      ],
      "text/plain": [
       "<IPython.core.display.HTML object>"
      ]
     },
     "execution_count": 18,
     "metadata": {},
     "output_type": "execute_result"
    }
   ],
   "source": [
    "# Execute this cell to load the notebook's style sheet, then ignore it\n",
    "from IPython.core.display import HTML\n",
    "css_file = '../style/custom.css'\n",
    "HTML(open(css_file, \"r\").read())"
   ]
  }
 ],
 "metadata": {
  "deepnote_execution_queue": [],
  "deepnote_notebook_id": "837372c7-7eff-4881-9b33-4bbdc3e4ec25",
  "kernelspec": {
   "display_name": "Python 3",
   "language": "python",
   "name": "python3"
  },
  "language_info": {
   "codemirror_mode": {
    "name": "ipython",
    "version": 3
   },
   "file_extension": ".py",
   "mimetype": "text/x-python",
   "name": "python",
   "nbconvert_exporter": "python",
   "pygments_lexer": "ipython3",
   "version": "3.8.8"
  }
 },
 "nbformat": 4,
 "nbformat_minor": 2
}
