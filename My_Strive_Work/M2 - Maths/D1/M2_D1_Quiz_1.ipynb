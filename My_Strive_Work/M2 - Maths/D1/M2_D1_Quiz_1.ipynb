{
 "cells": [
  {
   "cell_type": "code",
   "execution_count": 2,
   "id": "educated-wrist",
   "metadata": {},
   "outputs": [],
   "source": [
    "import numpy as np"
   ]
  },
  {
   "cell_type": "code",
   "execution_count": 11,
   "id": "veterinary-interference",
   "metadata": {},
   "outputs": [
    {
     "data": {
      "text/plain": [
       "[3, 6, 9]"
      ]
     },
     "execution_count": 11,
     "metadata": {},
     "output_type": "execute_result"
    }
   ],
   "source": [
    "# type a function that given a n_dimensional vector it is able to calculate its magnitude\n",
    "# if you want to try this from python (not jupyter notebook) https://docs.python.org/3/library/argparse.html would be a good addition\n",
    "# if you are doing this from a jupyter notebook only, you can try to promt the user for an input  \n",
    "\n",
    "### Magnitude is how far the arrow goes in the pointed direction\n",
    "\n",
    "a = [1]\n",
    "b = [2]\n",
    "c = [3]\n",
    "\n",
    "def magnitude_3(a,b,c):\n",
    "    x = 3\n",
    "    list_1 = []\n",
    "\n",
    "    # list_1 = [i * 3 for i in a] # Previous attempts\n",
    "    # list_1 = [i * 3 for i in b]\n",
    "    # list_1 = [i * 3 for i in c]\n",
    "\n",
    "    for i in a:\n",
    "        list_1.append(i)\n",
    "    for i in b:\n",
    "        list_1.append(i)\n",
    "    for i in c:\n",
    "        list_1.append(i)\n",
    "    \n",
    "    list_1 = [i*3 for i in list_1]\n",
    "\n",
    "    return list_1\n",
    "\n",
    "\n",
    "# Read the testing inputs, think I have missunderstood magnitude\n",
    "# def magnitude_complete():\n",
    "\n",
    "#     return\n",
    "\n",
    "\n",
    "# magnitude = input(\"Input the number you would like to apply magnitude to: \")\n",
    "magnitude_3(a, b, c)"
   ]
  },
  {
   "cell_type": "code",
   "execution_count": 18,
   "id": "friendly-silly",
   "metadata": {},
   "outputs": [
    {
     "name": "stdout",
     "output_type": "stream",
     "text": [
      "The magnitude of a + b is  [1, 0]\n"
     ]
    }
   ],
   "source": [
    "# Vector x coordinates = 5, 1\n",
    "    # Magnitude = ?\n",
    "    # Direction = Right & Up\n",
    "# Vector y coordinates = -4, -1\n",
    "    # Magnitude = ?\n",
    "    # Direction = Left & Down\n",
    "# Results of x + y\n",
    "    # Magnitude = 1, 0\n",
    "    # Direction = On scaler, one x unit to the right\n",
    "\n",
    "a = [5, 1]\n",
    "b = [-4, -1]\n",
    "\n",
    "def magnitude_vectors(a, b):\n",
    "    c = []\n",
    "    c = [a[i] + b[i] for i in range(len(a))]\n",
    "    return print(\"The magnitude of a + b is \", c)\n",
    "\n",
    "magnitude_vectors(a, b) # Returns added resulting vector. Don't think it provides the magnitude"
   ]
  },
  {
   "cell_type": "code",
   "execution_count": null,
   "id": "overall-wound",
   "metadata": {},
   "outputs": [],
   "source": [
    "def direction_vectors(a, b):\n",
    "    #checks that size is equal\n",
    "    \n",
    "    #returns the magnitude\n",
    "    \n",
    "# or if you want to do it all in one batch:\n",
    "def magdir_vectors(a, b):\n",
    "\n",
    "    ### Clearly dont understand magnitude, thought this would have been coverd in previous cell\n",
    "\n",
    "    #checks that size is equal\n",
    "    \n",
    "    #returns the magnitude and direction in a nicely printed format \n",
    "    #\"The magnitude of a + b is X and the direction is Y\""
   ]
  },
  {
   "cell_type": "code",
   "execution_count": null,
   "id": "electronic-tennessee",
   "metadata": {},
   "outputs": [],
   "source": [
    "'''\n",
    "What is the magnitude of αx⃗?\n",
    "If α>0, will the direction of the resulting vector change?\n",
    "If α<0, will the direction of the resulting vector change?\n",
    "If −1<α<1, will ∥αx⃗∥ increase, decrease or stay the same?\n",
    "'''"
   ]
  },
  {
   "cell_type": "code",
   "execution_count": null,
   "id": "diverse-poultry",
   "metadata": {},
   "outputs": [],
   "source": [
    "### Dont understand the algebra sympbols, come back when more familer\n",
    "\n",
    "def alpha_magnitude(alpha, b):\n",
    "    \n",
    "    #returns the resulting magnitude, if the direction has changed and what has happened to the vector"
   ]
  }
 ],
 "metadata": {
  "kernelspec": {
   "display_name": "Python 3",
   "language": "python",
   "name": "python3"
  },
  "language_info": {
   "codemirror_mode": {
    "name": "ipython",
    "version": 3
   },
   "file_extension": ".py",
   "mimetype": "text/x-python",
   "name": "python",
   "nbconvert_exporter": "python",
   "pygments_lexer": "ipython3",
   "version": "3.8.8"
  }
 },
 "nbformat": 4,
 "nbformat_minor": 5
}
