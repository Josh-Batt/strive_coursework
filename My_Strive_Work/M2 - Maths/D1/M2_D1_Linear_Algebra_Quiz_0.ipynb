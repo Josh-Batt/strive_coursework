{
 "cells": [
  {
   "cell_type": "markdown",
   "id": "endangered-tribute",
   "metadata": {},
   "source": [
    "# Vectors and Matrices"
   ]
  },
  {
   "cell_type": "code",
   "execution_count": 1,
   "id": "personal-engineering",
   "metadata": {},
   "outputs": [],
   "source": [
    "import numpy as np"
   ]
  },
  {
   "cell_type": "markdown",
   "id": "brutal-assets",
   "metadata": {},
   "source": [
    "## Vectors"
   ]
  },
  {
   "cell_type": "markdown",
   "id": "satisfied-contractor",
   "metadata": {},
   "source": [
    "Lists can be used to represent mathematical vectors. In this exercise and several that follow you will write functions to perform standard operations on vectors. Create a file named vectors.py or use the Jupyter notebook provided\n",
    "\n",
    "Write a function add_vectors(u, v) that takes two lists of numbers of the same length, and returns a new list containing the sums of the corresponding elements of each.\n",
    "\n",
    "**Note that the text in \"\"\" \"\"\" is provided for you to accurately verify that your function works :)**"
   ]
  },
  {
   "cell_type": "code",
   "execution_count": 16,
   "id": "adjusted-morris",
   "metadata": {},
   "outputs": [
    {
     "data": {
      "text/plain": [
       "[1, 7]"
      ]
     },
     "execution_count": 16,
     "metadata": {},
     "output_type": "execute_result"
    }
   ],
   "source": [
    "list_a = [1, 2]\n",
    "list_b = [0, 5]\n",
    "\n",
    "def add_vectors(u, v):\n",
    "    l = []\n",
    "    done_list = []\n",
    "  \n",
    "    done_list = [x + y for x, y in zip(u, v)] # add the two looped indexs with each other and add to this list\n",
    "    \n",
    "    return done_list\n",
    "add_vectors(list_a, list_b) \n",
    "\n",
    "#------------------------------------\n",
    "#     for i, j in zip(u, v):\n",
    "#         print(i, j)\n",
    "#         l = u[i] + v[i]\n",
    "#         done_list.append(l)\n",
    "#         l = u[j] + u[j]\n",
    "#         done_list.append(l)\n",
    "#         return done_list"
   ]
  },
  {
   "cell_type": "markdown",
   "id": "early-roman",
   "metadata": {},
   "source": [
    "Write a function scalar_mult(s, v) that takes a number, s, and a list, v and returns the scalar multiple of v by s."
   ]
  },
  {
   "cell_type": "code",
   "execution_count": 27,
   "id": "included-classics",
   "metadata": {},
   "outputs": [
    {
     "data": {
      "text/plain": [
       "[5, 10]"
      ]
     },
     "execution_count": 27,
     "metadata": {},
     "output_type": "execute_result"
    }
   ],
   "source": [
    "scaler = 5\n",
    "list_1 = [1, 2]\n",
    "\n",
    "def scaler_mult(s, v):\n",
    "#     scaled_list = [x * s for x in zip(v)]\n",
    "    scaler_list = []\n",
    "    for i in v:\n",
    "        scaler_list.append(i * s)\n",
    "    return scaler_list\n",
    "    \n",
    "    \n",
    "scaler_mult(scaler, list_1)"
   ]
  },
  {
   "cell_type": "markdown",
   "id": "informed-intensity",
   "metadata": {},
   "source": [
    "Write a function dot_product(u, v) that takes two lists of numbers of the same length, and returns the sum of the products of the corresponding elements of each (the dot_product."
   ]
  },
  {
   "cell_type": "code",
   "execution_count": null,
   "id": "unexpected-poker",
   "metadata": {},
   "outputs": [],
   "source": [
    "### Come back when you understand Dot products\n",
    "def dot_product():\n",
    "    "
   ]
  },
  {
   "cell_type": "markdown",
   "id": "prospective-flight",
   "metadata": {},
   "source": [
    "# Matrices"
   ]
  },
  {
   "cell_type": "markdown",
   "id": "collectible-lotus",
   "metadata": {},
   "source": [
    "Create a new module named matrices.py or use the Jupyter notebook provided and add the following function, which returns a copy of nested lists of numbers such that the lists are not aliases:"
   ]
  },
  {
   "cell_type": "code",
   "execution_count": 65,
   "id": "valuable-thirty",
   "metadata": {},
   "outputs": [
    {
     "data": {
      "text/plain": [
       "[[1, 2], [3, 4]]"
      ]
     },
     "execution_count": 65,
     "metadata": {},
     "output_type": "execute_result"
    }
   ],
   "source": [
    "### Not sure what the list not being aliases ment, did task the way I knew how\n",
    "\n",
    "list1 = ([1, 2], [3, 4])\n",
    "\n",
    "def copy_matrix(matrix):\n",
    "    copy_l = []\n",
    "    for x in matrix:\n",
    "        copy_l.append(x)\n",
    "    return copy_l\n",
    "        \n",
    "copy_matrix(list1)"
   ]
  },
  {
   "cell_type": "code",
   "execution_count": 4,
   "id": "fifteen-height",
   "metadata": {},
   "outputs": [
    {
     "data": {
      "text/plain": [
       "[[3, 2, 5], [1, 4, 7], [0, 0, 0]]"
      ]
     },
     "execution_count": 4,
     "metadata": {},
     "output_type": "execute_result"
    }
   ],
   "source": [
    "list2 = [[3, 2, 5], [1, 4, 7]]\n",
    "\n",
    "def add_row(matrix):\n",
    "    \n",
    "    for x in matrix:\n",
    "        new_row = [0 for y in x]\n",
    "            \n",
    "    \n",
    "    matrix.append(new_row)\n",
    "    \n",
    "    return matrix\n",
    "\n",
    "add_row(list2)\n",
    "\n",
    "#-----------------------------------\n",
    "#     list(matrix)\n",
    "#     new_row = []\n",
    "#     for i in matrix:\n",
    "#         new_row.append(i*0)\n",
    "#     matrix.append(new_row)"
   ]
  },
  {
   "cell_type": "code",
   "execution_count": 17,
   "id": "convinced-married",
   "metadata": {},
   "outputs": [
    {
     "ename": "KeyboardInterrupt",
     "evalue": "",
     "output_type": "error",
     "traceback": [
      "\u001b[1;31m---------------------------------------------------------------------------\u001b[0m",
      "\u001b[1;31mKeyboardInterrupt\u001b[0m                         Traceback (most recent call last)",
      "\u001b[1;32m<ipython-input-17-e71f68af7edd>\u001b[0m in \u001b[0;36m<module>\u001b[1;34m\u001b[0m\n\u001b[0;32m      9\u001b[0m     \u001b[1;32mreturn\u001b[0m \u001b[0mmatrix\u001b[0m\u001b[1;33m\u001b[0m\u001b[1;33m\u001b[0m\u001b[0m\n\u001b[0;32m     10\u001b[0m \u001b[1;33m\u001b[0m\u001b[0m\n\u001b[1;32m---> 11\u001b[1;33m \u001b[0madd_column\u001b[0m\u001b[1;33m(\u001b[0m\u001b[0mlist2\u001b[0m\u001b[1;33m)\u001b[0m\u001b[1;33m\u001b[0m\u001b[1;33m\u001b[0m\u001b[0m\n\u001b[0m",
      "\u001b[1;32m<ipython-input-17-e71f68af7edd>\u001b[0m in \u001b[0;36madd_column\u001b[1;34m(matrix)\u001b[0m\n\u001b[0;32m      6\u001b[0m \u001b[1;33m\u001b[0m\u001b[0m\n\u001b[0;32m      7\u001b[0m     \u001b[1;32mfor\u001b[0m \u001b[0mx\u001b[0m \u001b[1;32min\u001b[0m \u001b[0mmatrix\u001b[0m\u001b[1;33m:\u001b[0m\u001b[1;33m\u001b[0m\u001b[1;33m\u001b[0m\u001b[0m\n\u001b[1;32m----> 8\u001b[1;33m         \u001b[0mmatrix\u001b[0m\u001b[1;33m.\u001b[0m\u001b[0mappend\u001b[0m\u001b[1;33m(\u001b[0m\u001b[1;36m0\u001b[0m\u001b[1;33m)\u001b[0m\u001b[1;33m\u001b[0m\u001b[1;33m\u001b[0m\u001b[0m\n\u001b[0m\u001b[0;32m      9\u001b[0m     \u001b[1;32mreturn\u001b[0m \u001b[0mmatrix\u001b[0m\u001b[1;33m\u001b[0m\u001b[1;33m\u001b[0m\u001b[0m\n\u001b[0;32m     10\u001b[0m \u001b[1;33m\u001b[0m\u001b[0m\n",
      "\u001b[1;31mKeyboardInterrupt\u001b[0m: "
     ]
    }
   ],
   "source": [
    "# Creates infintie loop, FIX\n",
    "\n",
    "list2 = [[3, 2, 5], [1, 4, 7]]\n",
    "\n",
    "def add_column(matrix):\n",
    "    \n",
    "    for x in matrix:\n",
    "        matrix.append(0)\n",
    "    return matrix\n",
    "\n",
    "add_column(list2)"
   ]
  },
  {
   "cell_type": "markdown",
   "id": "confidential-former",
   "metadata": {},
   "source": [
    "Write a function add_matrices(m1, m2) that adds m1 and m2 and returns a new matrix containing their sum. You can assume that m1 and m2 are the same size. You add two matrices by adding their corresponding values."
   ]
  },
  {
   "cell_type": "code",
   "execution_count": 88,
   "id": "located-animal",
   "metadata": {},
   "outputs": [
    {
     "data": {
      "text/plain": [
       "array([[3, 4],\n",
       "       [5, 6]])"
      ]
     },
     "execution_count": 88,
     "metadata": {},
     "output_type": "execute_result"
    }
   ],
   "source": [
    "list_a = [[1, 2], [3, 4]]\n",
    "list_b = [[2, 2], [2, 2]]\n",
    "\n",
    "def add_matrices(m1, m2):\n",
    "#     list_c = [x + y for x, y in zip(m1, m2)]\n",
    "    combo = np.add(m1, m2)\n",
    "    return combo\n",
    "\n",
    "add_matrices(list_a, list_b)"
   ]
  },
  {
   "cell_type": "markdown",
   "id": "welcome-helena",
   "metadata": {},
   "source": [
    "Write a function scalar_mult(s, m) that multiplies a matrix, m, by a scalar, s."
   ]
  },
  {
   "cell_type": "code",
   "execution_count": 89,
   "id": "criminal-facing",
   "metadata": {},
   "outputs": [
    {
     "data": {
      "text/plain": [
       "[[1, 2, 1, 2, 1, 2, 1, 2, 1, 2], [3, 4, 3, 4, 3, 4, 3, 4, 3, 4]]"
      ]
     },
     "execution_count": 89,
     "metadata": {},
     "output_type": "execute_result"
    }
   ],
   "source": [
    "### DOESTN WORK COME BACK AND FIX\n",
    "\n",
    "scaler = 5\n",
    "list_1 = [[1, 2], [3,4]]\n",
    "\n",
    "def scalar_mult(s, m):\n",
    "    \n",
    "    scaler_list = []\n",
    "    \n",
    "    for i in m:\n",
    "        scaler_list.append(i * s)\n",
    "    return scaler_list\n",
    "    \n",
    "    \n",
    "scaler_mult(scaler, list_1)"
   ]
  },
  {
   "cell_type": "markdown",
   "id": "nonprofit-edition",
   "metadata": {},
   "source": [
    "Write functions row_times_column and matrix_mult:"
   ]
  },
  {
   "cell_type": "code",
   "execution_count": null,
   "id": "regional-warehouse",
   "metadata": {},
   "outputs": [],
   "source": [
    "# Dont understand maths of results\n",
    "\n",
    "def row_times_column(m1, row, m2, column):\n",
    "    \n",
    "row_times_column()"
   ]
  },
  {
   "cell_type": "code",
   "execution_count": null,
   "id": "frank-token",
   "metadata": {},
   "outputs": [],
   "source": [
    "# Dont understand maths of results\n",
    "\n",
    "def matrix_mult(m1, m2):"
   ]
  },
  {
   "cell_type": "code",
   "execution_count": 20,
   "id": "dress-spring",
   "metadata": {},
   "outputs": [
    {
     "data": {
      "text/plain": [
       "[[[1, 2, 3]]]"
      ]
     },
     "execution_count": 20,
     "metadata": {},
     "output_type": "execute_result"
    }
   ],
   "source": [
    "# Take list and make each number its own list\n",
    "# Rework the return, perhaps have logic above and not on one line\n",
    "\n",
    "normal_list = [[1, 2, 3]]\n",
    "\n",
    "def transpose(m):\n",
    "    return [[x] for x in m]\n",
    "    \n",
    "    \n",
    "transpose(normal_list)"
   ]
  },
  {
   "cell_type": "code",
   "execution_count": null,
   "id": "found-error",
   "metadata": {},
   "outputs": [],
   "source": []
  }
 ],
 "metadata": {
  "kernelspec": {
   "display_name": "Python 3",
   "language": "python",
   "name": "python3"
  },
  "language_info": {
   "codemirror_mode": {
    "name": "ipython",
    "version": 3
   },
   "file_extension": ".py",
   "mimetype": "text/x-python",
   "name": "python",
   "nbconvert_exporter": "python",
   "pygments_lexer": "ipython3",
   "version": "3.8.8"
  }
 },
 "nbformat": 4,
 "nbformat_minor": 5
}
