{
 "cells": [
  {
   "cell_type": "markdown",
   "metadata": {},
   "source": [
    "# Vectors and Matrices\n",
    "Time to work! Do it with numpy first and then if you have time, manually by hand :)"
   ]
  },
  {
   "cell_type": "markdown",
   "metadata": {},
   "source": [
    "## Vectors"
   ]
  },
  {
   "cell_type": "markdown",
   "metadata": {},
   "source": [
    "Lists can be used to represent mathematical vectors. In this exercise and several that follow you will write functions to perform standard operations on vectors. Create a file named vectors.py or use the Jupyter notebook provided\n",
    "\n",
    "Write a function add_vectors(u, v) that takes two lists of numbers of the same length, and returns a new list containing the sums of the corresponding elements of each.\n",
    "\n",
    "**Note that the text in \"\"\" \"\"\" is provided for you to accurately verify that your function works :)**"
   ]
  },
  {
   "cell_type": "code",
   "execution_count": 1,
   "metadata": {},
   "outputs": [],
   "source": [
    "import numpy as np"
   ]
  },
  {
   "cell_type": "code",
   "execution_count": 2,
   "metadata": {},
   "outputs": [
    {
     "data": {
      "text/plain": [
       "array([2, 6])"
      ]
     },
     "execution_count": 2,
     "metadata": {},
     "output_type": "execute_result"
    }
   ],
   "source": [
    "def add_vectors(u, v):\n",
    "    return np.add(u,v)\n",
    "    \"\"\"\n",
    "      >>> add_vectors([1, 0], [1, 1])\n",
    "      [2, 1]\n",
    "      >>> add_vectors([1, 2], [1, 4])\n",
    "      [2, 6]\n",
    "      >>> add_vectors([1, 2, 1], [1, 4, 3])\n",
    "      [2, 6, 4]\n",
    "      >>> add_vectors([11, 0, -4, 5], [2, -4, 17, 0])\n",
    "      [13, -4, 13, 5]\n",
    "      >>> a = [1, 2, 3]\n",
    "      >>> b = [1, 1, 1]\n",
    "      >>> add_vectors(a, b)\n",
    "      [2, 3, 4]\n",
    "      >>> a\n",
    "      [1, 2, 3]\n",
    "      >>> b\n",
    "      [1, 1, 1]\n",
    "    \"\"\"\n",
    "add_vectors([1, 0], [1, 1])\n",
    "add_vectors([1, 2], [1, 4])"
   ]
  },
  {
   "cell_type": "markdown",
   "metadata": {},
   "source": [
    "Write a function scalar_mult(s, v) that takes a number, s, and a list, v and returns the [scalar multiple](https://en.wikipedia.org/wiki/Scalar_multiplication) of v by s."
   ]
  },
  {
   "cell_type": "code",
   "execution_count": 4,
   "metadata": {},
   "outputs": [
    {
     "data": {
      "text/plain": [
       "[5, 10]"
      ]
     },
     "execution_count": 4,
     "metadata": {},
     "output_type": "execute_result"
    }
   ],
   "source": [
    "#without numpy\n",
    "def scalar_mult(s, v):\n",
    "    m=[]\n",
    "    for x in v:\n",
    "        m.append(s*x)\n",
    "    return m\n",
    "    \"\"\"\n",
    "      >>> scalar_mult(5, [1, 2])\n",
    "      [5, 10]\n",
    "      >>> scalar_mult(3, [1, 0, -1])\n",
    "      [3, 0, -3]\n",
    "      >>> scalar_mult(7, [3, 0, 5, 11, 2])\n",
    "      [21, 0, 35, 77, 14]\n",
    "      >>> a = [1, 2, 3]\n",
    "      >>> scalar_mult(4, a)\n",
    "      [4, 8, 12]\n",
    "      >>> a\n",
    "      [1, 2, 3]\n",
    "    \"\"\"\n",
    "scalar_mult(5, [1, 2])"
   ]
  },
  {
   "cell_type": "code",
   "execution_count": 3,
   "metadata": {},
   "outputs": [
    {
     "data": {
      "text/plain": [
       "array([ 5, 10])"
      ]
     },
     "execution_count": 3,
     "metadata": {},
     "output_type": "execute_result"
    }
   ],
   "source": [
    "#with np\n",
    "def scalar_mult_np(s, v):\n",
    "    return s*np.array(v)\n",
    "scalar_mult_np(5, [1, 2])"
   ]
  },
  {
   "cell_type": "markdown",
   "metadata": {},
   "source": [
    "One thing to consider here is that using a **list directly would not work**:"
   ]
  },
  {
   "cell_type": "code",
   "execution_count": 5,
   "metadata": {},
   "outputs": [
    {
     "data": {
      "text/plain": [
       "[1, 2, 1, 2, 1, 2, 1, 2, 1, 2]"
      ]
     },
     "execution_count": 5,
     "metadata": {},
     "output_type": "execute_result"
    }
   ],
   "source": [
    "[1,2]*5"
   ]
  },
  {
   "cell_type": "markdown",
   "metadata": {},
   "source": [
    "Write a function dot_product(u, v) that takes two lists of numbers of the same length, and returns the sum of the products of the corresponding elements of each (the [dot_product](https://en.wikipedia.org/wiki/Dot_product)."
   ]
  },
  {
   "cell_type": "code",
   "execution_count": 43,
   "metadata": {},
   "outputs": [
    {
     "data": {
      "text/plain": [
       "2"
      ]
     },
     "execution_count": 43,
     "metadata": {},
     "output_type": "execute_result"
    }
   ],
   "source": [
    "# without numpy\n",
    "def dot_product(u, v):\n",
    "    c = [u*v for u,v in zip(u,v)]\n",
    "    return sum(c)\n",
    "    \"\"\"\n",
    "      >>> dot_product([1, 1], [1, 1])\n",
    "      2\n",
    "      >>> dot_product([1, 2], [1, 4])\n",
    "      9\n",
    "      >>> dot_product([1, 2, 1], [1, 4, 3])\n",
    "      12\n",
    "      >>> dot_product([2, 0, -1, 1], [1, 5, 2, 0])\n",
    "      0\n",
    "    \"\"\"\n",
    "dot_product([1, 1], [1, 1])\n",
    "#dot_product([1, 2], [1, 4])\n",
    "#dot_product([1, 2, 1], [1, 4, 3])\n",
    "#dot_product([2, 0, -1, 1], [1, 5, 2, 0])"
   ]
  },
  {
   "cell_type": "code",
   "execution_count": 45,
   "metadata": {},
   "outputs": [
    {
     "data": {
      "text/plain": [
       "2"
      ]
     },
     "execution_count": 45,
     "metadata": {},
     "output_type": "execute_result"
    }
   ],
   "source": [
    "#with np\n",
    "def dot_product_np(a,b):\n",
    "    return np.dot(a,b)\n",
    "dot_product_np([1, 1], [1, 1])"
   ]
  },
  {
   "cell_type": "markdown",
   "metadata": {},
   "source": [
    "## Matrices"
   ]
  },
  {
   "cell_type": "markdown",
   "metadata": {},
   "source": [
    "Create a new module named matrices.py or *use the Jupyter notebook provided* and add the following function, which returns a copy of nested lists of numbers such that the lists are not aliases:"
   ]
  },
  {
   "cell_type": "code",
   "execution_count": 9,
   "metadata": {},
   "outputs": [
    {
     "data": {
      "text/plain": [
       "[[1, 2], [3, 4]]"
      ]
     },
     "execution_count": 9,
     "metadata": {},
     "output_type": "execute_result"
    }
   ],
   "source": [
    "def copy_matrix(matrix):\n",
    "    return matrix.copy()\n",
    "    \"\"\"\n",
    "      >>> copy_matrix([[1, 2], [3, 4]])\n",
    "      [[1, 2], [3, 4]]\n",
    "      >>> copy_matrix([[1, 2, 3], [4, 5, 6]])\n",
    "      [[1, 2, 3], [4, 5, 6]]\n",
    "      >>> copy_matrix([[1, 2], [3, 4], [5, 6], [7, 8]])\n",
    "      [[1, 2], [3, 4], [5, 6], [7, 8]]\n",
    "      >>> m = [[1, 0, 0], [0, 2, 0], [0, 0, 3]]\n",
    "      >>> copyofm = copy_matrix(m)\n",
    "      >>> copyofm\n",
    "      [[1, 0, 0], [0, 2, 0], [0, 0, 3]]\n",
    "      >>> for row_num, row in enumerate(copyofm):\n",
    "      ...     for col_num, col_val in enumerate(row):\n",
    "      ...         copyofm[row_num][col_num] = 42\n",
    "      ...\n",
    "      >>> copyofm\n",
    "      [[42, 42, 42], [42, 42, 42], [42, 42, 42]]\n",
    "      >>> m\n",
    "      [[1, 0, 0], [0, 2, 0], [0, 0, 3]]\n",
    "    \"\"\"\n",
    "copy_matrix([[1, 2], [3, 4]])"
   ]
  },
  {
   "cell_type": "code",
   "execution_count": 46,
   "metadata": {},
   "outputs": [
    {
     "data": {
      "text/plain": [
       "array([[3, 2, 5],\n",
       "       [1, 4, 7],\n",
       "       [0, 0, 0]])"
      ]
     },
     "execution_count": 46,
     "metadata": {},
     "output_type": "execute_result"
    }
   ],
   "source": [
    "#using vstack\n",
    "def add_row(matrix):\n",
    "    m=[]\n",
    "    for x in matrix:\n",
    "        a=len(x)\n",
    "    for i in range(a):\n",
    "        m.append(0)\n",
    "    return np.vstack([matrix,m])\n",
    "    \n",
    "    \"\"\"\n",
    "      >>> m = [[0, 0], [0, 0]]\n",
    "      >>> add_row(m)\n",
    "      [[0, 0], [0, 0], [0, 0]]\n",
    "      >>> n = [[3, 2, 5], [1, 4, 7]]\n",
    "      >>> add_row(n)\n",
    "      [[3, 2, 5], [1, 4, 7], [0, 0, 0]]\n",
    "      >>> n\n",
    "      [[3, 2, 5], [1, 4, 7]]\n",
    "    \"\"\"\n",
    "    \n",
    "n = [[3, 2, 5], [1, 4, 7]]\n",
    "add_row(n)\n"
   ]
  },
  {
   "cell_type": "markdown",
   "metadata": {},
   "source": [
    "one thing to take in consideration is that we don't modify the **original matrix**; \n",
    "if we want to save we should save in **other variable name**"
   ]
  },
  {
   "cell_type": "code",
   "execution_count": 22,
   "metadata": {},
   "outputs": [
    {
     "data": {
      "text/plain": [
       "array([[0, 0],\n",
       "       [0, 0],\n",
       "       [0, 0]])"
      ]
     },
     "execution_count": 22,
     "metadata": {},
     "output_type": "execute_result"
    }
   ],
   "source": [
    "#more fast with directly using vstack if we use the\n",
    "def add_row_np(matrix, row):\n",
    "    return np.vstack([matrix,row])\n",
    "\n",
    "m = [[0, 0], [0, 0]]\n",
    "add_row_np(m, [0, 0])"
   ]
  },
  {
   "cell_type": "code",
   "execution_count": 24,
   "metadata": {},
   "outputs": [
    {
     "data": {
      "text/plain": [
       "array([[3, 2, 5],\n",
       "       [1, 4, 7],\n",
       "       [0, 0, 0]])"
      ]
     },
     "execution_count": 24,
     "metadata": {},
     "output_type": "execute_result"
    }
   ],
   "source": [
    "#it would probably be a good idea to incorporate a dimensionality check\n",
    "n=[[3, 2, 5], [1, 4, 7]]\n",
    "add_row_np(n, [0, 0, 0])"
   ]
  },
  {
   "cell_type": "code",
   "execution_count": 25,
   "metadata": {},
   "outputs": [
    {
     "data": {
      "text/plain": [
       "array([[3, 2, 0],\n",
       "       [5, 1, 0],\n",
       "       [4, 7, 0]])"
      ]
     },
     "execution_count": 25,
     "metadata": {},
     "output_type": "execute_result"
    }
   ],
   "source": [
    "#from scratch\n",
    "def add_column(matrix):\n",
    "    m=[]\n",
    "    a=len(matrix)\n",
    "    for i in range(a):\n",
    "        m.append(0)\n",
    "    return np.column_stack([matrix,m])\n",
    "\n",
    "    \"\"\"\n",
    "      >>> m = [[0, 0], [0, 0]]\n",
    "      >>> add_column(m)\n",
    "      [[0, 0, 0], [0, 0, 0]]\n",
    "      >>> n = [[3, 2], [5, 1], [4, 7]]\n",
    "      >>> add_column(n)\n",
    "      [[3, 2, 0], [5, 1, 0], [4, 7, 0]]\n",
    "      >>> n\n",
    "      [[3, 2], [5, 1], [4, 7]]\n",
    "    \"\"\"\n",
    "\n",
    "n = [[3, 2], [5, 1], [4, 7]]\n",
    "add_column(n)"
   ]
  },
  {
   "cell_type": "code",
   "execution_count": 26,
   "metadata": {},
   "outputs": [
    {
     "data": {
      "text/plain": [
       "array([[3, 2, 0],\n",
       "       [5, 1, 0],\n",
       "       [4, 7, 0]])"
      ]
     },
     "execution_count": 26,
     "metadata": {},
     "output_type": "execute_result"
    }
   ],
   "source": [
    "#using NP\n",
    "def add_column_np(matrix,col):\n",
    "    return np.column_stack([matrix,col])\n",
    "    \"\"\"\n",
    "      >>> m = [[0, 0], [0, 0]]\n",
    "      >>> add_column(m)\n",
    "      [[0, 0, 0], [0, 0, 0]]\n",
    "      >>> n = [[3, 2], [5, 1], [4, 7]]\n",
    "      >>> add_column(n)\n",
    "      [[3, 2, 0], [5, 1, 0], [4, 7, 0]]\n",
    "      >>> n\n",
    "      [[3, 2], [5, 1], [4, 7]]\n",
    "    \"\"\"\n",
    "n = [[3, 2], [5, 1], [4, 7]]\n",
    "add_column_np(n,[0,0,0])"
   ]
  },
  {
   "cell_type": "markdown",
   "metadata": {},
   "source": [
    "Write a function add_matrices(m1, m2) that adds m1 and m2 and returns a new matrix containing their sum. You can assume that m1 and m2 are the same size. You add two matrices by adding their corresponding values."
   ]
  },
  {
   "cell_type": "code",
   "execution_count": 30,
   "metadata": {},
   "outputs": [
    {
     "data": {
      "text/plain": [
       "matrix([[3, 4],\n",
       "        [5, 6]])"
      ]
     },
     "execution_count": 30,
     "metadata": {},
     "output_type": "execute_result"
    }
   ],
   "source": [
    "#working with np arrays\n",
    "#you can also do it with lists but it is hard to keep track of the dimensions\n",
    "#numpy gets easier and easier...\n",
    "def add_matrices(m1, m2):\n",
    "    m3=[]\n",
    "    for x,y in zip(m1,m2):\n",
    "        m3.append(np.add(x,y))\n",
    "#we then transform the array as a matrix (easier)\n",
    "    return np.asmatrix(m3)\n",
    "    \"\"\"\n",
    "      >>> a = [[1, 2], [3, 4]]\n",
    "      >>> b = [[2, 2], [2, 2]]\n",
    "      >>> add_matrices(a, b)\n",
    "      [[3, 4], [5, 6]]\n",
    "      >>> c = [[8, 2], [3, 4], [5, 7]]\n",
    "      >>> d = [[3, 2], [9, 2], [10, 12]]\n",
    "      >>> add_matrices(c, d)\n",
    "      [[11, 4], [12, 6], [15, 19]]\n",
    "      >>> c\n",
    "      [[8, 2], [3, 4], [5, 7]]\n",
    "      >>> d\n",
    "      [[3, 2], [9, 2], [10, 12]]\n",
    "   \"\"\"\n",
    "\n",
    "a = [[1, 2], [3, 4]]\n",
    "b = [[2, 2], [2, 2]]\n",
    "add_matrices(a, b)"
   ]
  },
  {
   "cell_type": "code",
   "execution_count": 32,
   "metadata": {},
   "outputs": [
    {
     "data": {
      "text/plain": [
       "matrix([[3, 4],\n",
       "        [5, 6]])"
      ]
     },
     "execution_count": 32,
     "metadata": {},
     "output_type": "execute_result"
    }
   ],
   "source": [
    "#same approach, with matrixes directly\n",
    "def add_matrices_np(a, b):\n",
    "    a=np.matrix(a)\n",
    "    b=np.matrix(b)\n",
    "    #we could double check it is a matrix and so on\n",
    "    return a+b\n",
    "add_matrices_np(a, b)"
   ]
  },
  {
   "cell_type": "markdown",
   "metadata": {},
   "source": [
    "Write a function scalar_mult(s, m) that multiplies a matrix, m, by a scalar, s."
   ]
  },
  {
   "cell_type": "code",
   "execution_count": 48,
   "metadata": {},
   "outputs": [
    {
     "data": {
      "text/plain": [
       "matrix([[ 3,  6],\n",
       "        [ 9, 12]])"
      ]
     },
     "execution_count": 48,
     "metadata": {},
     "output_type": "execute_result"
    }
   ],
   "source": [
    "# numpy\n",
    "def scalar_mult(s, m):\n",
    "    m=np.matrix(m)\n",
    "    return s*m\n",
    "\n",
    "    \"\"\"\n",
    "      >>> a = [[1, 2], [3, 4]]\n",
    "      >>> scalar_mult(3, a)\n",
    "      [[3, 6], [9, 12]]\n",
    "      >>> b = [[3, 5, 7], [1, 1, 1], [0, 2, 0], [2, 2, 3]]\n",
    "      >>> scalar_mult(10, b)\n",
    "      [[30, 50, 70], [10, 10, 10], [0, 20, 0], [20, 20, 30]]\n",
    "      >>> b\n",
    "      [[3, 5, 7], [1, 1, 1], [0, 2, 0], [2, 2, 3]]\n",
    "    \"\"\"\n",
    "a = [[1, 2], [3, 4]]\n",
    "scalar_mult(3, a)"
   ]
  },
  {
   "cell_type": "code",
   "execution_count": 62,
   "metadata": {},
   "outputs": [
    {
     "data": {
      "text/plain": [
       "matrix([[ 3,  6],\n",
       "        [ 9, 12]])"
      ]
     },
     "execution_count": 62,
     "metadata": {},
     "output_type": "execute_result"
    }
   ],
   "source": [
    "def scalar_mult_flt(s, m):\n",
    "    m = np.matrix(m)\n",
    "    dim = np.shape(m)\n",
    "    v = m.flatten()\n",
    "    nv = v*s\n",
    "    return np.matrix(nv.reshape(dim))\n",
    "    \n",
    "scalar_mult_flt(3, a)\n",
    "# [1, 2, 3, 4]"
   ]
  },
  {
   "cell_type": "code",
   "execution_count": 35,
   "metadata": {},
   "outputs": [],
   "source": [
    "# from scratch: you could do a double nest and multiply, just make sure to turn it into a list of lists afterwards (Matrix)"
   ]
  },
  {
   "cell_type": "markdown",
   "metadata": {},
   "source": [
    "# to explain better\n",
    "Write functions row_times_column and matrix_mult:"
   ]
  },
  {
   "cell_type": "code",
   "execution_count": 42,
   "metadata": {},
   "outputs": [
    {
     "data": {
      "text/plain": [
       "19"
      ]
     },
     "execution_count": 42,
     "metadata": {},
     "output_type": "execute_result"
    }
   ],
   "source": [
    "def row_times_column(m1, row, m2, column):\n",
    "    a=np.matmul(m1, m2)\n",
    "    return  a[row][column]\n",
    "\n",
    "    \"\"\"\n",
    "      >>> row_times_column([[1, 2], [3, 4]], 0, [[5, 6], [7, 8]], 0)\n",
    "      19\n",
    "      >>> row_times_column([[1, 2], [3, 4]], 0, [[5, 6], [7, 8]], 1)\n",
    "      22\n",
    "      >>> row_times_column([[1, 2], [3, 4]], 1, [[5, 6], [7, 8]], 0)\n",
    "      43\n",
    "      >>> row_times_column([[1, 2], [3, 4]], 1, [[5, 6], [7, 8]], 1)\n",
    "      50\n",
    "    \"\"\"\n",
    "row_times_column([[1, 2], [3, 4]], 0, [[5, 6], [7, 8]], 0)"
   ]
  },
  {
   "cell_type": "code",
   "execution_count": 10,
   "metadata": {},
   "outputs": [],
   "source": [
    "def matrix_mult(m1, m2):\n",
    "    a=np.matmul(m1, m2)\n",
    "    return  a\n",
    "\n",
    "   \"\"\"\n",
    "      >>> matrix_mult([[1, 2], [3,  4]], [[5, 6], [7, 8]])\n",
    "      [[19, 22], [43, 50]]\n",
    "      >>> matrix_mult([[1, 2, 3], [4,  5, 6]], [[7, 8], [9, 1], [2, 3]])\n",
    "      [[31, 19], [85, 55]]\n",
    "      >>> matrix_mult([[7, 8], [9, 1], [2, 3]], [[1, 2, 3], [4, 5, 6]])\n",
    "      [[39, 54, 69], [13, 23, 33], [14, 19, 24]]\n",
    "    \"\"\"\n",
    "matrix_mult([[1, 2], [3,  4]], [[5, 6], [7, 8]])"
   ]
  },
  {
   "cell_type": "markdown",
   "metadata": {},
   "source": [
    "Write a function transpose that takes a matrix as an argument and returns is transpose:"
   ]
  },
  {
   "cell_type": "code",
   "execution_count": 40,
   "metadata": {},
   "outputs": [
    {
     "data": {
      "text/plain": [
       "array([[3],\n",
       "       [4],\n",
       "       [6]])"
      ]
     },
     "execution_count": 40,
     "metadata": {},
     "output_type": "execute_result"
    }
   ],
   "source": [
    "def transpose(m):\n",
    "    return np.transpose(m)\n",
    "    \"\"\"\n",
    "     >>> m = [[3, 4, 6]]\n",
    "     >>> transpose(m)\n",
    "     [[3], [4], [6]]\n",
    "     >>> m\n",
    "     [3, 4, 6]\n",
    "     >>> m = [[3, 4, 6], [1, 5, 9]]\n",
    "     >>> transpose(m)\n",
    "     [[3, 1], [4, 5], [6, 9]]\n",
    "    \"\"\"\n",
    "    \n",
    "m = [[3, 4, 6]]\n",
    "transpose(m)"
   ]
  },
  {
   "cell_type": "code",
   "execution_count": 67,
   "metadata": {},
   "outputs": [],
   "source": [
    "def transpose_np(m):\n",
    "    m = np.array(m)\n",
    "    return m.T"
   ]
  },
  {
   "cell_type": "code",
   "execution_count": 68,
   "metadata": {},
   "outputs": [
    {
     "data": {
      "text/plain": [
       "array([[3],\n",
       "       [4],\n",
       "       [6]])"
      ]
     },
     "execution_count": 68,
     "metadata": {},
     "output_type": "execute_result"
    }
   ],
   "source": [
    "m = [[3, 4, 6]]\n",
    "transpose_np(m)"
   ]
  },
  {
   "cell_type": "markdown",
   "metadata": {},
   "source": [
    "# TODO\n",
    "## Give more accurate examples of how this applies to images in the DL space"
   ]
  },
  {
   "cell_type": "code",
   "execution_count": null,
   "metadata": {},
   "outputs": [],
   "source": []
  }
 ],
 "metadata": {
  "kernelspec": {
   "display_name": "Python 3",
   "language": "python",
   "name": "python3"
  },
  "language_info": {
   "codemirror_mode": {
    "name": "ipython",
    "version": 3
   },
   "file_extension": ".py",
   "mimetype": "text/x-python",
   "name": "python",
   "nbconvert_exporter": "python",
   "pygments_lexer": "ipython3",
   "version": "3.8.5"
  }
 },
 "nbformat": 4,
 "nbformat_minor": 2
}
