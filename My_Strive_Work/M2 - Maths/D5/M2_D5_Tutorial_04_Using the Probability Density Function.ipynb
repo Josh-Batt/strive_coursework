{
 "cells": [
  {
   "cell_type": "code",
   "execution_count": 1,
   "metadata": {},
   "outputs": [
    {
     "data": {
      "text/plain": [
       "'1.9.1'"
      ]
     },
     "execution_count": 1,
     "metadata": {},
     "output_type": "execute_result"
    }
   ],
   "source": [
    "%matplotlib inline\n",
    "import numpy as np\n",
    "import matplotlib.pyplot as plt\n",
    "import seaborn as sns\n",
    "from scipy import stats\n",
    "from __future__ import division\n",
    "\n",
    "sns.set_palette(['#00A99D', '#F5CA0C', '#B6129F', '#76620C', '#095C57'])\n",
    "np.version.full_version"
   ]
  },
  {
   "cell_type": "markdown",
   "metadata": {},
   "source": [
    "## Data"
   ]
  },
  {
   "cell_type": "code",
   "execution_count": 2,
   "metadata": {},
   "outputs": [
    {
     "data": {
      "text/plain": [
       "array([ 182.69792418,  198.23020226,  157.56420921,  125.45396097,\n",
       "        195.21382698,  165.43823491,  183.35407068,  205.80912603,\n",
       "        147.99162148,  175.44291567,  186.29464374,  231.45285956])"
      ]
     },
     "execution_count": 2,
     "metadata": {},
     "output_type": "execute_result"
    }
   ],
   "source": [
    "#We use a fictional data set of 10000 averge number of Facebook friends.\n",
    "facebook_mu = 190.0\n",
    "facebook_sigma = 36.0\n",
    "facebook_friends = np.random.normal(facebook_mu, facebook_sigma, 10000)\n",
    "\n",
    "# show first 12 samples\n",
    "facebook_friends[:12]"
   ]
  },
  {
   "cell_type": "markdown",
   "metadata": {},
   "source": [
    "## Using the Probability Density Function\n",
    "The total area under the Probability Density Function (pdf) is always 1.0. Roughly 68% of the values is within 1 standard deviation from the mean. About 95% falls within two standard deviations. We can determine the probability of finding a given value in the distribution by using the pdf. \n",
    "\n",
    "Let's say someone's got 227 Facebook friends. What is the probability of having this or less number of Facebook friends?"
   ]
  },
  {
   "cell_type": "code",
   "execution_count": 3,
   "metadata": {},
   "outputs": [
    {
     "data": {
      "image/png": "iVBORw0KGgoAAAANSUhEUgAAAfQAAAFVCAYAAAAZlh3BAAAABHNCSVQICAgIfAhkiAAAAAlwSFlz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\nbowxxnjAOnRjjDHGA9ahG2OMMR74D6tfYWdp5ykxAAAAAElFTkSuQmCC\n",
      "text/plain": [
       "<matplotlib.figure.Figure at 0x3c12e10>"
      ]
     },
     "metadata": {},
     "output_type": "display_data"
    }
   ],
   "source": [
    "# First take a look at the pdf and especially the green area under\n",
    "# the curve containing the probability of 227 Facebook friends or less.\n",
    "x = 227.0\n",
    "sns.distplot(facebook_friends, label='Facebook friends', kde=False, \n",
    "             fit=stats.norm, color='w')\n",
    "plt.text(x+5, .0003, '$x$='+str(x))\n",
    "\n",
    "x_plot = np.linspace(min(facebook_friends), x, 1000)\n",
    "y_plot = stats.norm.pdf(x_plot, facebook_mu, facebook_sigma)\n",
    "plt.fill_between(x_plot,  y_plot)\n",
    "c=plt.legend()"
   ]
  },
  {
   "cell_type": "code",
   "execution_count": 4,
   "metadata": {},
   "outputs": [
    {
     "data": {
      "text/plain": [
       "1.0277777777777777"
      ]
     },
     "execution_count": 4,
     "metadata": {},
     "output_type": "execute_result"
    }
   ],
   "source": [
    "# To calculate the probability, we need the z score.\n",
    "zscore = (x - facebook_mu) / facebook_sigma\n",
    "zscore"
   ]
  },
  {
   "cell_type": "code",
   "execution_count": 5,
   "metadata": {},
   "outputs": [
    {
     "data": {
      "text/plain": [
       "0.84797281411763326"
      ]
     },
     "execution_count": 5,
     "metadata": {},
     "output_type": "execute_result"
    }
   ],
   "source": [
    "# Calculate the probability by calling stats.norm.cdf\n",
    "# This is a computational z table lookup\n",
    "p = stats.norm.cdf(zscore)\n",
    "p"
   ]
  },
  {
   "cell_type": "markdown",
   "metadata": {},
   "source": [
    "So this means the probability of people having 227 Facebook friends or less is about 85%. Since the area under the curve adds up to 1, we can say that the probability of people having a value more than 227 Facebook friends is $1-p$."
   ]
  },
  {
   "cell_type": "code",
   "execution_count": 6,
   "metadata": {},
   "outputs": [
    {
     "data": {
      "text/plain": [
       "0.15202718588236674"
      ]
     },
     "execution_count": 6,
     "metadata": {},
     "output_type": "execute_result"
    }
   ],
   "source": [
    "# Probability of having a value more than 227\n",
    "1 - p"
   ]
  },
  {
   "cell_type": "markdown",
   "metadata": {},
   "source": [
    "## From probability back to the actual value\n",
    "Let's assume we have a 21% chance of having a certain number of Facebook friends or more. What is the minimum number of Facebook friends we have in this case?"
   ]
  },
  {
   "cell_type": "code",
   "execution_count": 7,
   "metadata": {},
   "outputs": [
    {
     "data": {
      "text/plain": [
       "0.80642124701824036"
      ]
     },
     "execution_count": 7,
     "metadata": {},
     "output_type": "execute_result"
    }
   ],
   "source": [
    "# We use the ppf function (inverse cdf) - from probability to z score\n",
    "p = 1 - .21\n",
    "z = stats.norm.ppf(p)\n",
    "z"
   ]
  },
  {
   "cell_type": "code",
   "execution_count": 8,
   "metadata": {},
   "outputs": [
    {
     "data": {
      "text/plain": [
       "219.03116489265665"
      ]
     },
     "execution_count": 8,
     "metadata": {},
     "output_type": "execute_result"
    }
   ],
   "source": [
    "# From z score to number of Facebook friends\n",
    "x = z * facebook_sigma + facebook_mu\n",
    "x"
   ]
  },
  {
   "cell_type": "code",
   "execution_count": 9,
   "metadata": {},
   "outputs": [
    {
     "data": {
      "image/png": "iVBORw0KGgoAAAANSUhEUgAAAfQAAAFVCAYAAAAZlh3BAAAABHNCSVQICAgIfAhkiAAAAAlwSFlz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\nAd0YY4zxwEcldTQtvN3wCQAAAABJRU5ErkJggg==\n",
      "text/plain": [
       "<matplotlib.figure.Figure at 0x3f45048>"
      ]
     },
     "metadata": {},
     "output_type": "display_data"
    }
   ],
   "source": [
    "# The green area under the curve containing the probability \n",
    "# of (roughly) 206 Facebook friends or more.\n",
    "sns.distplot(facebook_friends, label='Facebook friends', kde=False, \n",
    "             fit=stats.norm, color='w')\n",
    "plt.text(x+5, .0003, '$x$='+str(int(x)))\n",
    "\n",
    "x_plot = np.linspace(x, max(facebook_friends), 1000)\n",
    "y_plot = stats.norm.pdf(x_plot, facebook_mu, facebook_sigma)\n",
    "plt.fill_between(x_plot,  y_plot)\n",
    "c=plt.legend()"
   ]
  },
  {
   "cell_type": "markdown",
   "metadata": {},
   "source": [
    "## Calculate probability in between two values\n",
    "What is the probability of people having between 120 and 170 Facebook friends?"
   ]
  },
  {
   "cell_type": "code",
   "execution_count": 10,
   "metadata": {},
   "outputs": [
    {
     "data": {
      "image/png": "iVBORw0KGgoAAAANSUhEUgAAAfQAAAFVCAYAAAAZlh3BAAAABHNCSVQICAgIfAhkiAAAAAlwSFlz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\n",
      "text/plain": [
       "<matplotlib.figure.Figure at 0x3f453c8>"
      ]
     },
     "metadata": {},
     "output_type": "display_data"
    }
   ],
   "source": [
    "# We want to know the proportion of the green area under the curve.\n",
    "x1 = 120.0\n",
    "x2 = 170.0\n",
    "sns.distplot(facebook_friends, label='Facebook friends', kde=False, \n",
    "             fit=stats.norm, color='w')\n",
    "plt.text(x1+5, .0003, '$x_1$='+str(x1))\n",
    "plt.text(x2+5, .0003, '$x_2$='+str(x2))\n",
    "\n",
    "x_plot = np.linspace(x1, x2, 1000)\n",
    "y_plot = stats.norm.pdf(x_plot, facebook_mu, facebook_sigma)\n",
    "plt.fill_between(x_plot,  y_plot)\n",
    "c=plt.legend()"
   ]
  },
  {
   "cell_type": "code",
   "execution_count": 11,
   "metadata": {},
   "outputs": [
    {
     "data": {
      "text/plain": [
       "-1.9444444444444444"
      ]
     },
     "execution_count": 11,
     "metadata": {},
     "output_type": "execute_result"
    }
   ],
   "source": [
    "# First we need the z score of x1\n",
    "z1 = (x1 - facebook_mu) / facebook_sigma\n",
    "z1"
   ]
  },
  {
   "cell_type": "code",
   "execution_count": 12,
   "metadata": {},
   "outputs": [
    {
     "data": {
      "text/plain": [
       "0.025920939357842999"
      ]
     },
     "execution_count": 12,
     "metadata": {},
     "output_type": "execute_result"
    }
   ],
   "source": [
    "# Then we calculate the probability for value x1 or less\n",
    "p1 = stats.norm.cdf(z1)\n",
    "p1"
   ]
  },
  {
   "cell_type": "code",
   "execution_count": 13,
   "metadata": {},
   "outputs": [
    {
     "data": {
      "text/plain": [
       "-0.5555555555555556"
      ]
     },
     "execution_count": 13,
     "metadata": {},
     "output_type": "execute_result"
    }
   ],
   "source": [
    "# Now we calculate the z score for x2\n",
    "z2 = (x2 - facebook_mu) / facebook_sigma\n",
    "z2"
   ]
  },
  {
   "cell_type": "code",
   "execution_count": 14,
   "metadata": {},
   "outputs": [
    {
     "data": {
      "text/plain": [
       "0.28925736075397196"
      ]
     },
     "execution_count": 14,
     "metadata": {},
     "output_type": "execute_result"
    }
   ],
   "source": [
    "# and agian the probabilty for value x2 or less\n",
    "p2 = stats.norm.cdf(z2)\n",
    "p2"
   ]
  },
  {
   "cell_type": "code",
   "execution_count": 15,
   "metadata": {},
   "outputs": [
    {
     "data": {
      "text/plain": [
       "0.26333642139612895"
      ]
     },
     "execution_count": 15,
     "metadata": {},
     "output_type": "execute_result"
    }
   ],
   "source": [
    "# So the probability of having between x1 and x2 Facebook friends is\n",
    "# the probability having x2 minus the probability having x1\n",
    "p2 - p1"
   ]
  }
 ],
 "metadata": {
  "kernelspec": {
   "display_name": "Python 3",
   "language": "python",
   "name": "python3"
  },
  "language_info": {
   "codemirror_mode": {
    "name": "ipython",
    "version": 3
   },
   "file_extension": ".py",
   "mimetype": "text/x-python",
   "name": "python",
   "nbconvert_exporter": "python",
   "pygments_lexer": "ipython3",
   "version": "3.8.8"
  }
 },
 "nbformat": 4,
 "nbformat_minor": 1
}
                                                                                                                                                                                                                                                                                                                                                                                                                                                