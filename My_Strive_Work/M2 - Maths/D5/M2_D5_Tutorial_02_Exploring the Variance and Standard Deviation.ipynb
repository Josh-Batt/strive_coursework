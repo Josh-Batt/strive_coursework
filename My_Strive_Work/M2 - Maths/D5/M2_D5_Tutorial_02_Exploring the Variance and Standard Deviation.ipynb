{
 "cells": [
  {
   "cell_type": "code",
   "execution_count": 1,
   "metadata": {},
   "outputs": [
    {
     "data": {
      "text/plain": [
       "'0.15.2'"
      ]
     },
     "execution_count": 1,
     "metadata": {},
     "output_type": "execute_result"
    }
   ],
   "source": [
    "%matplotlib inline\n",
    "import matplotlib.pyplot as plt\n",
    "import numpy as np\n",
    "import pandas as pd\n",
    "import math\n",
    "\n",
    "# turn of data table rendering\n",
    "pd.set_option('display.notebook_repr_html', False)\n",
    "plt.style.use('ggplot')\n",
    "pd.__version__"
   ]
  },
  {
   "cell_type": "markdown",
   "metadata": {},
   "source": [
    "## Data\n",
    "The data is a set of ten salaries, as used in the Udacity course 'Intro to Descriptive Statistics' lesson 4 on measures of variability."
   ]
  },
  {
   "cell_type": "code",
   "execution_count": 2,
   "metadata": {},
   "outputs": [
    {
     "data": {
      "text/plain": [
       "   salaries\n",
       "0     33219\n",
       "1     36254\n",
       "2     38801\n",
       "3     46335\n",
       "4     46840\n",
       "5     47596\n",
       "6     55130\n",
       "7     56863\n",
       "8     78070\n",
       "9     88830"
      ]
     },
     "execution_count": 2,
     "metadata": {},
     "output_type": "execute_result"
    }
   ],
   "source": [
    "data = pd.DataFrame({'salaries': \n",
    "                     [33219, 36254, 38801, 46335, 46840, \n",
    "                      47596, 55130, 56863, 78070, 88830]})\n",
    "data"
   ]
  },
  {
   "cell_type": "code",
   "execution_count": 3,
   "metadata": {},
   "outputs": [
    {
     "data": {
      "text/plain": [
       "<matplotlib.axes._subplots.AxesSubplot at 0xd623518>"
      ]
     },
     "execution_count": 3,
     "metadata": {},
     "output_type": "execute_result"
    },
    {
     "data": {
      "image/png": "iVBORw0KGgoAAAANSUhEUgAAAYMAAAD/CAYAAAAT87ocAAAABHNCSVQICAgIfAhkiAAAAAlwSFlz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\nEUHFQEREgP8HzzJEixeHk3UAAAAASUVORK5CYII=\n",
      "text/plain": [
       "<matplotlib.figure.Figure at 0x3b82278>"
      ]
     },
     "metadata": {},
     "output_type": "display_data"
    }
   ],
   "source": [
    "data.plot(kind='bar', color='#00A99D', alpha=.5)"
   ]
  },
  {
   "cell_type": "markdown",
   "metadata": {},
   "source": [
    "## Calculate the Variance\n",
    "The variance of a data set describes the average of the squared differences from the mean. In other words, it is a measure of how far each value in the data set is from the mean. The symbol for the variance of a population is $\\sigma^2$ (sigma squared) and for a sample we use $s^2$. We calculate the variance by summing the squared difference from the mean for each value. For the population, we divide by the number of values $n$ in the data set.\n",
    "\n",
    "$$population\\ variance:\\ \\sigma^2=\\frac{1}{n}\\sum_{i=0}^n(x_i-\\mu)^2$$\n",
    "\n",
    "For the sample we divide the summed up values by the degrees of freedom $n-1$ (also called Bessel's correction). We use $\\bar{x}$ (x bar) to symbolize our sample mean.\n",
    "\n",
    "$$sample\\ variance:\\ s^2=\\frac{1}{n-1}\\sum_{i=0}^n(x_i-\\bar{x})^2$$"
   ]
  },
  {
   "cell_type": "code",
   "execution_count": 4,
   "metadata": {},
   "outputs": [
    {
     "data": {
      "text/plain": [
       "291622740.36000001"
      ]
     },
     "execution_count": 4,
     "metadata": {},
     "output_type": "execute_result"
    }
   ],
   "source": [
    "# To calculate the population variance\n",
    "n = len(data.salaries)\n",
    "\n",
    "# first calculate the mean\n",
    "mean = data.salaries.mean()\n",
    "\n",
    "# Sum up the squared differences from the mean\n",
    "squared_deviations = 0\n",
    "for v in data.salaries:\n",
    "    squared_deviations += (v - mean) ** 2\n",
    "\n",
    "population_variance = squared_deviations / n\n",
    "population_variance"
   ]
  },
  {
   "cell_type": "code",
   "execution_count": 5,
   "metadata": {},
   "outputs": [
    {
     "data": {
      "text/plain": [
       "324025267.06666672"
      ]
     },
     "execution_count": 5,
     "metadata": {},
     "output_type": "execute_result"
    }
   ],
   "source": [
    "# To calculate the variance if we only have a sample\n",
    "# First calculate the degrees of freedom (apply Bessel's correction)\n",
    "dof = n - 1\n",
    "sample_variance = squared_deviations / dof\n",
    "sample_variance"
   ]
  },
  {
   "cell_type": "code",
   "execution_count": 6,
   "metadata": {},
   "outputs": [
    {
     "data": {
      "text/plain": [
       "(291622740.35999984, 324025267.06666648)"
      ]
     },
     "execution_count": 6,
     "metadata": {},
     "output_type": "execute_result"
    }
   ],
   "source": [
    "# Of course we can use pandas to let NumPy do the job for us\n",
    "# The ddof parameter stands for Delta Degrees of Freedom\n",
    "population_variance = data.salaries.var(ddof=0)\n",
    "sample_variance = data.salaries.var() # ddof=1 by default in pandas\n",
    "\n",
    "population_variance, sample_variance"
   ]
  },
  {
   "cell_type": "code",
   "execution_count": 7,
   "metadata": {},
   "outputs": [
    {
     "data": {
      "text/plain": [
       "(291622740.35999984, 324025267.06666648)"
      ]
     },
     "execution_count": 7,
     "metadata": {},
     "output_type": "execute_result"
    }
   ],
   "source": [
    "# Or call the NumPy var function ourselves\n",
    "population_variance = np.var(data.salaries) # ddof=0 by default in NumPy\n",
    "sample_variance = np.var(data.salaries, ddof=1)\n",
    "\n",
    "population_variance, sample_variance"
   ]
  },
  {
   "cell_type": "markdown",
   "metadata": {},
   "source": [
    "## Calculate the Standard Deviation\n",
    "The standard deviation is a widely used normalized measure of spread of a data set. Unlike the variance, the standard deviation is using the same scale as our values; dollars in this case. In a normal distribution, about 95% of the values are within two standard deviations of the mean. We use the Greek letter sigma $\\sigma$ to symbolize the population standard deviation. \n",
    "\n",
    "$$population\\ standard\\ deviation:\\ \\sigma=\\sqrt{\\frac{1}{n}\\sum_{i=0}^n(x_i-\\mu)^2}\\ \\ =\\ \\ \\sqrt{\\sigma^2}$$\n",
    "\n",
    "We use the lowercase letter $s$ if we indicate the sample standard deviation.\n",
    "\n",
    "$$sample\\ standard\\ deviation:\\ s=\\sqrt{\\frac{1}{n-1}\\sum_{i=0}^n(x_i-\\bar{x})^2}\\ \\ =\\ \\ \\sqrt{s^2}$$"
   ]
  },
  {
   "cell_type": "code",
   "execution_count": 8,
   "metadata": {},
   "outputs": [
    {
     "data": {
      "text/plain": [
       "17076.965197598784"
      ]
     },
     "execution_count": 8,
     "metadata": {},
     "output_type": "execute_result"
    }
   ],
   "source": [
    "# To calculate the population standard deviation\n",
    "# we first need to calculate the population variance again\n",
    "n = len(data.salaries)\n",
    "\n",
    "# first calculate the mean\n",
    "mean = data.salaries.mean()\n",
    "\n",
    "# Sum up the squared differences from the mean\n",
    "squared_deviations = 0\n",
    "for v in data.salaries:\n",
    "    squared_deviations += (v - mean) ** 2\n",
    "\n",
    "population_variance = squared_deviations / n\n",
    "\n",
    "# Square the variance\n",
    "population_standard_deviation = math.sqrt(population_variance)\n",
    "population_standard_deviation"
   ]
  },
  {
   "cell_type": "code",
   "execution_count": 9,
   "metadata": {},
   "outputs": [
    {
     "data": {
      "text/plain": [
       "18000.70184927984"
      ]
     },
     "execution_count": 9,
     "metadata": {},
     "output_type": "execute_result"
    }
   ],
   "source": [
    "# To calculate the sample standard deviation\n",
    "# First calculate the degrees of freedom (apply Bessel's correction)\n",
    "dof = n - 1\n",
    "sample_variance = squared_deviations / dof\n",
    "\n",
    "# Square the variance\n",
    "sample_standard_deviation = math.sqrt(sample_variance)\n",
    "sample_standard_deviation"
   ]
  },
  {
   "cell_type": "code",
   "execution_count": 10,
   "metadata": {},
   "outputs": [
    {
     "data": {
      "text/plain": [
       "(17076.965197598776, 18000.701849279834)"
      ]
     },
     "execution_count": 10,
     "metadata": {},
     "output_type": "execute_result"
    }
   ],
   "source": [
    "# Now let's use pandas to let NumPy do the job for us\n",
    "population_standard_deviation = data.salaries.std(ddof=0)\n",
    "sample_standard_deviation = data.salaries.std()\n",
    "\n",
    "population_standard_deviation, sample_standard_deviation"
   ]
  },
  {
   "cell_type": "code",
   "execution_count": 11,
   "metadata": {},
   "outputs": [
    {
     "data": {
      "text/plain": [
       "(17076.965197598776, 18000.701849279834)"
      ]
     },
     "execution_count": 11,
     "metadata": {},
     "output_type": "execute_result"
    }
   ],
   "source": [
    "# Or call the NumPy std function ourselves\n",
    "population_standard_deviation = np.std(data.salaries)\n",
    "sample_standard_deviation = np.std(data.salaries, ddof=1)\n",
    "\n",
    "population_standard_deviation, sample_standard_deviation"
   ]
  }
 ],
 "metadata": {
  "kernelspec": {
   "display_name": "Python 3",
   "language": "python",
   "name": "python3"
  },
  "language_info": {
   "codemirror_mode": {
    "name": "ipython",
    "version": 3
   },
   "file_extension": ".py",
   "mimetype": "text/x-python",
   "name": "python",
   "nbconvert_exporter": "python",
   "pygments_lexer": "ipython3",
   "version": "3.8.8"
  }
 },
 "nbformat": 4,
 "nbformat_minor": 1
}
                                                                                                                                                                                                                                                                                                                                                                                 