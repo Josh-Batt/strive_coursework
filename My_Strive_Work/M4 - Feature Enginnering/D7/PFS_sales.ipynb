{
 "cells": [
  {
   "cell_type": "markdown",
   "source": "<h1 align=\"center\">Time Series</h1>\n<h3 align=\"center\">Dataset: <a href=\"https://www.kaggle.com/c/competitive-data-science-predict-future-sales\">Competitive data science: Predict future sales</a></h3>",
   "metadata": {
    "cell_id": "00000-79cfacef-e756-4ce2-b1ae-c45d3fbb0496",
    "deepnote_cell_type": "markdown"
   }
  },
  {
   "cell_type": "code",
   "metadata": {
    "cell_id": "00001-a8a2232f-bb37-4f05-a147-614223208b42",
    "deepnote_to_be_reexecuted": false,
    "source_hash": "9bd38c36",
    "execution_start": 1620735182169,
    "execution_millis": 20,
    "deepnote_cell_type": "code"
   },
   "source": "import numpy   as np\nimport pandas  as pd\nimport seaborn as sb\nimport matplotlib.pyplot as plt\nfrom matplotlib_venn import venn2, venn3\n# %matplotlib inline\n#%matplotlib notebook\n\nfrom sklearn.preprocessing import LabelEncoder\nfrom sklearn.metrics       import mean_squared_error\nimport lightgbm as lgb\n\nimport gc\nimport time\n\nfrom ipywidgets import interact",
   "execution_count": 28,
   "outputs": []
  },
  {
   "cell_type": "code",
   "metadata": {
    "cell_id": "00002-898b85f0-6476-42df-8bf8-8a723e19a879",
    "deepnote_to_be_reexecuted": false,
    "source_hash": "22c57ec0",
    "execution_start": 1620734465296,
    "execution_millis": 689,
    "deepnote_cell_type": "code"
   },
   "source": "!ls ../Datasets/Tabular/predict-future-sales",
   "execution_count": 3,
   "outputs": [
    {
     "name": "stdout",
     "text": "categories.csv\tsales_train.csv        shops.csv\r\nitems.csv\tsample_submission.csv  test.csv\r\n",
     "output_type": "stream"
    }
   ]
  },
  {
   "cell_type": "markdown",
   "source": "## Daily sales between January 2013 until Octuber 2015.",
   "metadata": {
    "cell_id": "00003-fc87c919-c042-4f9d-ba97-e092b0b282e2",
    "deepnote_cell_type": "markdown"
   }
  },
  {
   "cell_type": "code",
   "metadata": {
    "cell_id": "00004-d9794fe6-6343-452d-8bb8-bcdd16a70ee6",
    "deepnote_to_be_reexecuted": false,
    "source_hash": "e3a77be4",
    "execution_start": 1620734471940,
    "execution_millis": 1683,
    "deepnote_cell_type": "code"
   },
   "source": "path = \"../Datasets/Tabular/predict-future-sales/\"\n\nt = time.time()\ndf_train = pd.read_csv(path+\"sales_train.csv\") # Daily sales  Jan 2013 -> Oct 2015\ndf_shops = pd.read_csv(path+\"shops.csv\")       # Shops    (60)\ndf_items = pd.read_csv(path+\"items.csv\")       # Products  (22170)\ndf_cats  = pd.read_csv(path+\"items.csv\") # Product categories (84)\ndf_test  = pd.read_csv(path+\"test.csv\", index_col=\"ID\") # predict November 2015\ndf_sub   = pd.read_csv(path+\"sample_submission.csv\", index_col=\"ID\")\nprint(round(time.time() - t,2), \"secs\")",
   "execution_count": 4,
   "outputs": [
    {
     "name": "stdout",
     "text": "1.68 secs\n",
     "output_type": "stream"
    }
   ]
  },
  {
   "cell_type": "code",
   "metadata": {
    "cell_id": "00005-37ccf342-f9bb-45e8-9473-590c81cca3fa",
    "deepnote_to_be_reexecuted": false,
    "source_hash": "fe6e2556",
    "execution_start": 1620734478774,
    "execution_millis": 25,
    "deepnote_cell_type": "code"
   },
   "source": "df_sub.item_cnt_month = 99\ndf_sub.head()",
   "execution_count": 5,
   "outputs": [
    {
     "output_type": "execute_result",
     "execution_count": 5,
     "data": {
      "application/vnd.deepnote.dataframe.v2+json": {
       "row_count": 5,
       "column_count": 1,
       "columns": [
        {
         "name": "item_cnt_month",
         "dtype": "int64",
         "stats": {
          "unique_count": 1,
          "nan_count": 0,
          "min": "99",
          "max": "99",
          "histogram": [
           {
            "bin_start": 98.5,
            "bin_end": 98.6,
            "count": 0
           },
           {
            "bin_start": 98.6,
            "bin_end": 98.7,
            "count": 0
           },
           {
            "bin_start": 98.7,
            "bin_end": 98.8,
            "count": 0
           },
           {
            "bin_start": 98.8,
            "bin_end": 98.9,
            "count": 0
           },
           {
            "bin_start": 98.9,
            "bin_end": 99,
            "count": 0
           },
           {
            "bin_start": 99,
            "bin_end": 99.1,
            "count": 5
           },
           {
            "bin_start": 99.1,
            "bin_end": 99.2,
            "count": 0
           },
           {
            "bin_start": 99.2,
            "bin_end": 99.3,
            "count": 0
           },
           {
            "bin_start": 99.3,
            "bin_end": 99.4,
            "count": 0
           },
           {
            "bin_start": 99.4,
            "bin_end": 99.5,
            "count": 0
           }
          ]
         }
        },
        {
         "name": "_deepnote_index_column",
         "dtype": "int64"
        }
       ],
       "rows_top": [
        {
         "item_cnt_month": 99,
         "_deepnote_index_column": 0
        },
        {
         "item_cnt_month": 99,
         "_deepnote_index_column": 1
        },
        {
         "item_cnt_month": 99,
         "_deepnote_index_column": 2
        },
        {
         "item_cnt_month": 99,
         "_deepnote_index_column": 3
        },
        {
         "item_cnt_month": 99,
         "_deepnote_index_column": 4
        }
       ],
       "rows_bottom": null
      },
      "text/plain": "    item_cnt_month\nID                \n0               99\n1               99\n2               99\n3               99\n4               99",
      "text/html": "<div>\n<style scoped>\n    .dataframe tbody tr th:only-of-type {\n        vertical-align: middle;\n    }\n\n    .dataframe tbody tr th {\n        vertical-align: top;\n    }\n\n    .dataframe thead th {\n        text-align: right;\n    }\n</style>\n<table border=\"1\" class=\"dataframe\">\n  <thead>\n    <tr style=\"text-align: right;\">\n      <th></th>\n      <th>item_cnt_month</th>\n    </tr>\n    <tr>\n      <th>ID</th>\n      <th></th>\n    </tr>\n  </thead>\n  <tbody>\n    <tr>\n      <th>0</th>\n      <td>99</td>\n    </tr>\n    <tr>\n      <th>1</th>\n      <td>99</td>\n    </tr>\n    <tr>\n      <th>2</th>\n      <td>99</td>\n    </tr>\n    <tr>\n      <th>3</th>\n      <td>99</td>\n    </tr>\n    <tr>\n      <th>4</th>\n      <td>99</td>\n    </tr>\n  </tbody>\n</table>\n</div>"
     },
     "metadata": {}
    }
   ]
  },
  {
   "cell_type": "code",
   "metadata": {
    "cell_id": "00006-45111b04-60cd-45d9-a202-9c976f1636d0",
    "deepnote_to_be_reexecuted": false,
    "source_hash": "7bea05f3",
    "execution_start": 1620734483562,
    "execution_millis": 5,
    "deepnote_cell_type": "code"
   },
   "source": "df_train.head(2)",
   "execution_count": 6,
   "outputs": [
    {
     "output_type": "execute_result",
     "execution_count": 6,
     "data": {
      "application/vnd.deepnote.dataframe.v2+json": {
       "row_count": 2,
       "column_count": 6,
       "columns": [
        {
         "name": "date",
         "dtype": "object",
         "stats": {
          "unique_count": 2,
          "nan_count": 0,
          "categories": [
           {
            "name": "02.01.2013",
            "count": 1
           },
           {
            "name": "03.01.2013",
            "count": 1
           }
          ]
         }
        },
        {
         "name": "date_block_num",
         "dtype": "int64",
         "stats": {
          "unique_count": 1,
          "nan_count": 0,
          "min": "0",
          "max": "0",
          "histogram": [
           {
            "bin_start": -0.5,
            "bin_end": -0.4,
            "count": 0
           },
           {
            "bin_start": -0.4,
            "bin_end": -0.3,
            "count": 0
           },
           {
            "bin_start": -0.3,
            "bin_end": -0.19999999999999996,
            "count": 0
           },
           {
            "bin_start": -0.19999999999999996,
            "bin_end": -0.09999999999999998,
            "count": 0
           },
           {
            "bin_start": -0.09999999999999998,
            "bin_end": 0,
            "count": 0
           },
           {
            "bin_start": 0,
            "bin_end": 0.10000000000000009,
            "count": 2
           },
           {
            "bin_start": 0.10000000000000009,
            "bin_end": 0.20000000000000007,
            "count": 0
           },
           {
            "bin_start": 0.20000000000000007,
            "bin_end": 0.30000000000000004,
            "count": 0
           },
           {
            "bin_start": 0.30000000000000004,
            "bin_end": 0.4,
            "count": 0
           },
           {
            "bin_start": 0.4,
            "bin_end": 0.5,
            "count": 0
           }
          ]
         }
        },
        {
         "name": "shop_id",
         "dtype": "int64",
         "stats": {
          "unique_count": 2,
          "nan_count": 0,
          "min": "25",
          "max": "59",
          "histogram": [
           {
            "bin_start": 25,
            "bin_end": 28.4,
            "count": 1
           },
           {
            "bin_start": 28.4,
            "bin_end": 31.8,
            "count": 0
           },
           {
            "bin_start": 31.8,
            "bin_end": 35.2,
            "count": 0
           },
           {
            "bin_start": 35.2,
            "bin_end": 38.6,
            "count": 0
           },
           {
            "bin_start": 38.6,
            "bin_end": 42,
            "count": 0
           },
           {
            "bin_start": 42,
            "bin_end": 45.4,
            "count": 0
           },
           {
            "bin_start": 45.4,
            "bin_end": 48.8,
            "count": 0
           },
           {
            "bin_start": 48.8,
            "bin_end": 52.2,
            "count": 0
           },
           {
            "bin_start": 52.2,
            "bin_end": 55.599999999999994,
            "count": 0
           },
           {
            "bin_start": 55.599999999999994,
            "bin_end": 59,
            "count": 1
           }
          ]
         }
        },
        {
         "name": "item_id",
         "dtype": "int64",
         "stats": {
          "unique_count": 2,
          "nan_count": 0,
          "min": "2552",
          "max": "22154",
          "histogram": [
           {
            "bin_start": 2552,
            "bin_end": 4512.2,
            "count": 1
           },
           {
            "bin_start": 4512.2,
            "bin_end": 6472.4,
            "count": 0
           },
           {
            "bin_start": 6472.4,
            "bin_end": 8432.6,
            "count": 0
           },
           {
            "bin_start": 8432.6,
            "bin_end": 10392.8,
            "count": 0
           },
           {
            "bin_start": 10392.8,
            "bin_end": 12353,
            "count": 0
           },
           {
            "bin_start": 12353,
            "bin_end": 14313.2,
            "count": 0
           },
           {
            "bin_start": 14313.2,
            "bin_end": 16273.4,
            "count": 0
           },
           {
            "bin_start": 16273.4,
            "bin_end": 18233.6,
            "count": 0
           },
           {
            "bin_start": 18233.6,
            "bin_end": 20193.8,
            "count": 0
           },
           {
            "bin_start": 20193.8,
            "bin_end": 22154,
            "count": 1
           }
          ]
         }
        },
        {
         "name": "item_price",
         "dtype": "float64",
         "stats": {
          "unique_count": 2,
          "nan_count": 0,
          "min": "899.0",
          "max": "999.0",
          "histogram": [
           {
            "bin_start": 899,
            "bin_end": 909,
            "count": 1
           },
           {
            "bin_start": 909,
            "bin_end": 919,
            "count": 0
           },
           {
            "bin_start": 919,
            "bin_end": 929,
            "count": 0
           },
           {
            "bin_start": 929,
            "bin_end": 939,
            "count": 0
           },
           {
            "bin_start": 939,
            "bin_end": 949,
            "count": 0
           },
           {
            "bin_start": 949,
            "bin_end": 959,
            "count": 0
           },
           {
            "bin_start": 959,
            "bin_end": 969,
            "count": 0
           },
           {
            "bin_start": 969,
            "bin_end": 979,
            "count": 0
           },
           {
            "bin_start": 979,
            "bin_end": 989,
            "count": 0
           },
           {
            "bin_start": 989,
            "bin_end": 999,
            "count": 1
           }
          ]
         }
        },
        {
         "name": "item_cnt_day",
         "dtype": "float64",
         "stats": {
          "unique_count": 1,
          "nan_count": 0,
          "min": "1.0",
          "max": "1.0",
          "histogram": [
           {
            "bin_start": 0.5,
            "bin_end": 0.6,
            "count": 0
           },
           {
            "bin_start": 0.6,
            "bin_end": 0.7,
            "count": 0
           },
           {
            "bin_start": 0.7,
            "bin_end": 0.8,
            "count": 0
           },
           {
            "bin_start": 0.8,
            "bin_end": 0.9,
            "count": 0
           },
           {
            "bin_start": 0.9,
            "bin_end": 1,
            "count": 0
           },
           {
            "bin_start": 1,
            "bin_end": 1.1,
            "count": 2
           },
           {
            "bin_start": 1.1,
            "bin_end": 1.2000000000000002,
            "count": 0
           },
           {
            "bin_start": 1.2000000000000002,
            "bin_end": 1.3,
            "count": 0
           },
           {
            "bin_start": 1.3,
            "bin_end": 1.4,
            "count": 0
           },
           {
            "bin_start": 1.4,
            "bin_end": 1.5,
            "count": 0
           }
          ]
         }
        },
        {
         "name": "_deepnote_index_column",
         "dtype": "int64"
        }
       ],
       "rows_top": [
        {
         "date": "02.01.2013",
         "date_block_num": 0,
         "shop_id": 59,
         "item_id": 22154,
         "item_price": 999,
         "item_cnt_day": 1,
         "_deepnote_index_column": 0
        },
        {
         "date": "03.01.2013",
         "date_block_num": 0,
         "shop_id": 25,
         "item_id": 2552,
         "item_price": 899,
         "item_cnt_day": 1,
         "_deepnote_index_column": 1
        }
       ],
       "rows_bottom": null
      },
      "text/plain": "         date  date_block_num  shop_id  item_id  item_price  item_cnt_day\n0  02.01.2013               0       59    22154       999.0           1.0\n1  03.01.2013               0       25     2552       899.0           1.0",
      "text/html": "<div>\n<style scoped>\n    .dataframe tbody tr th:only-of-type {\n        vertical-align: middle;\n    }\n\n    .dataframe tbody tr th {\n        vertical-align: top;\n    }\n\n    .dataframe thead th {\n        text-align: right;\n    }\n</style>\n<table border=\"1\" class=\"dataframe\">\n  <thead>\n    <tr style=\"text-align: right;\">\n      <th></th>\n      <th>date</th>\n      <th>date_block_num</th>\n      <th>shop_id</th>\n      <th>item_id</th>\n      <th>item_price</th>\n      <th>item_cnt_day</th>\n    </tr>\n  </thead>\n  <tbody>\n    <tr>\n      <th>0</th>\n      <td>02.01.2013</td>\n      <td>0</td>\n      <td>59</td>\n      <td>22154</td>\n      <td>999.0</td>\n      <td>1.0</td>\n    </tr>\n    <tr>\n      <th>1</th>\n      <td>03.01.2013</td>\n      <td>0</td>\n      <td>25</td>\n      <td>2552</td>\n      <td>899.0</td>\n      <td>1.0</td>\n    </tr>\n  </tbody>\n</table>\n</div>"
     },
     "metadata": {}
    }
   ]
  },
  {
   "cell_type": "code",
   "metadata": {
    "cell_id": "00007-c86f3990-57ce-4ff4-9731-58d001d1ccd9",
    "deepnote_to_be_reexecuted": false,
    "source_hash": "6ee12954",
    "execution_start": 1620734487527,
    "execution_millis": 27,
    "deepnote_cell_type": "code"
   },
   "source": "df_train.tail(2)",
   "execution_count": 7,
   "outputs": [
    {
     "output_type": "execute_result",
     "execution_count": 7,
     "data": {
      "application/vnd.deepnote.dataframe.v2+json": {
       "row_count": 2,
       "column_count": 6,
       "columns": [
        {
         "name": "date",
         "dtype": "object",
         "stats": {
          "unique_count": 2,
          "nan_count": 0,
          "categories": [
           {
            "name": "22.10.2015",
            "count": 1
           },
           {
            "name": "03.10.2015",
            "count": 1
           }
          ]
         }
        },
        {
         "name": "date_block_num",
         "dtype": "int64",
         "stats": {
          "unique_count": 1,
          "nan_count": 0,
          "min": "33",
          "max": "33",
          "histogram": [
           {
            "bin_start": 32.5,
            "bin_end": 32.6,
            "count": 0
           },
           {
            "bin_start": 32.6,
            "bin_end": 32.7,
            "count": 0
           },
           {
            "bin_start": 32.7,
            "bin_end": 32.8,
            "count": 0
           },
           {
            "bin_start": 32.8,
            "bin_end": 32.9,
            "count": 0
           },
           {
            "bin_start": 32.9,
            "bin_end": 33,
            "count": 0
           },
           {
            "bin_start": 33,
            "bin_end": 33.1,
            "count": 2
           },
           {
            "bin_start": 33.1,
            "bin_end": 33.2,
            "count": 0
           },
           {
            "bin_start": 33.2,
            "bin_end": 33.3,
            "count": 0
           },
           {
            "bin_start": 33.3,
            "bin_end": 33.4,
            "count": 0
           },
           {
            "bin_start": 33.4,
            "bin_end": 33.5,
            "count": 0
           }
          ]
         }
        },
        {
         "name": "shop_id",
         "dtype": "int64",
         "stats": {
          "unique_count": 1,
          "nan_count": 0,
          "min": "25",
          "max": "25",
          "histogram": [
           {
            "bin_start": 24.5,
            "bin_end": 24.6,
            "count": 0
           },
           {
            "bin_start": 24.6,
            "bin_end": 24.7,
            "count": 0
           },
           {
            "bin_start": 24.7,
            "bin_end": 24.8,
            "count": 0
           },
           {
            "bin_start": 24.8,
            "bin_end": 24.9,
            "count": 0
           },
           {
            "bin_start": 24.9,
            "bin_end": 25,
            "count": 0
           },
           {
            "bin_start": 25,
            "bin_end": 25.1,
            "count": 2
           },
           {
            "bin_start": 25.1,
            "bin_end": 25.2,
            "count": 0
           },
           {
            "bin_start": 25.2,
            "bin_end": 25.3,
            "count": 0
           },
           {
            "bin_start": 25.3,
            "bin_end": 25.4,
            "count": 0
           },
           {
            "bin_start": 25.4,
            "bin_end": 25.5,
            "count": 0
           }
          ]
         }
        },
        {
         "name": "item_id",
         "dtype": "int64",
         "stats": {
          "unique_count": 2,
          "nan_count": 0,
          "min": "7440",
          "max": "7460",
          "histogram": [
           {
            "bin_start": 7440,
            "bin_end": 7442,
            "count": 1
           },
           {
            "bin_start": 7442,
            "bin_end": 7444,
            "count": 0
           },
           {
            "bin_start": 7444,
            "bin_end": 7446,
            "count": 0
           },
           {
            "bin_start": 7446,
            "bin_end": 7448,
            "count": 0
           },
           {
            "bin_start": 7448,
            "bin_end": 7450,
            "count": 0
           },
           {
            "bin_start": 7450,
            "bin_end": 7452,
            "count": 0
           },
           {
            "bin_start": 7452,
            "bin_end": 7454,
            "count": 0
           },
           {
            "bin_start": 7454,
            "bin_end": 7456,
            "count": 0
           },
           {
            "bin_start": 7456,
            "bin_end": 7458,
            "count": 0
           },
           {
            "bin_start": 7458,
            "bin_end": 7460,
            "count": 1
           }
          ]
         }
        },
        {
         "name": "item_price",
         "dtype": "float64",
         "stats": {
          "unique_count": 1,
          "nan_count": 0,
          "min": "299.0",
          "max": "299.0",
          "histogram": [
           {
            "bin_start": 298.5,
            "bin_end": 298.6,
            "count": 0
           },
           {
            "bin_start": 298.6,
            "bin_end": 298.7,
            "count": 0
           },
           {
            "bin_start": 298.7,
            "bin_end": 298.8,
            "count": 0
           },
           {
            "bin_start": 298.8,
            "bin_end": 298.9,
            "count": 0
           },
           {
            "bin_start": 298.9,
            "bin_end": 299,
            "count": 0
           },
           {
            "bin_start": 299,
            "bin_end": 299.1,
            "count": 2
           },
           {
            "bin_start": 299.1,
            "bin_end": 299.2,
            "count": 0
           },
           {
            "bin_start": 299.2,
            "bin_end": 299.3,
            "count": 0
           },
           {
            "bin_start": 299.3,
            "bin_end": 299.4,
            "count": 0
           },
           {
            "bin_start": 299.4,
            "bin_end": 299.5,
            "count": 0
           }
          ]
         }
        },
        {
         "name": "item_cnt_day",
         "dtype": "float64",
         "stats": {
          "unique_count": 1,
          "nan_count": 0,
          "min": "1.0",
          "max": "1.0",
          "histogram": [
           {
            "bin_start": 0.5,
            "bin_end": 0.6,
            "count": 0
           },
           {
            "bin_start": 0.6,
            "bin_end": 0.7,
            "count": 0
           },
           {
            "bin_start": 0.7,
            "bin_end": 0.8,
            "count": 0
           },
           {
            "bin_start": 0.8,
            "bin_end": 0.9,
            "count": 0
           },
           {
            "bin_start": 0.9,
            "bin_end": 1,
            "count": 0
           },
           {
            "bin_start": 1,
            "bin_end": 1.1,
            "count": 2
           },
           {
            "bin_start": 1.1,
            "bin_end": 1.2000000000000002,
            "count": 0
           },
           {
            "bin_start": 1.2000000000000002,
            "bin_end": 1.3,
            "count": 0
           },
           {
            "bin_start": 1.3,
            "bin_end": 1.4,
            "count": 0
           },
           {
            "bin_start": 1.4,
            "bin_end": 1.5,
            "count": 0
           }
          ]
         }
        },
        {
         "name": "_deepnote_index_column",
         "dtype": "int64"
        }
       ],
       "rows_top": [
        {
         "date": "22.10.2015",
         "date_block_num": 33,
         "shop_id": 25,
         "item_id": 7440,
         "item_price": 299,
         "item_cnt_day": 1,
         "_deepnote_index_column": 2935847
        },
        {
         "date": "03.10.2015",
         "date_block_num": 33,
         "shop_id": 25,
         "item_id": 7460,
         "item_price": 299,
         "item_cnt_day": 1,
         "_deepnote_index_column": 2935848
        }
       ],
       "rows_bottom": null
      },
      "text/plain": "               date  date_block_num  shop_id  item_id  item_price  \\\n2935847  22.10.2015              33       25     7440       299.0   \n2935848  03.10.2015              33       25     7460       299.0   \n\n         item_cnt_day  \n2935847           1.0  \n2935848           1.0  ",
      "text/html": "<div>\n<style scoped>\n    .dataframe tbody tr th:only-of-type {\n        vertical-align: middle;\n    }\n\n    .dataframe tbody tr th {\n        vertical-align: top;\n    }\n\n    .dataframe thead th {\n        text-align: right;\n    }\n</style>\n<table border=\"1\" class=\"dataframe\">\n  <thead>\n    <tr style=\"text-align: right;\">\n      <th></th>\n      <th>date</th>\n      <th>date_block_num</th>\n      <th>shop_id</th>\n      <th>item_id</th>\n      <th>item_price</th>\n      <th>item_cnt_day</th>\n    </tr>\n  </thead>\n  <tbody>\n    <tr>\n      <th>2935847</th>\n      <td>22.10.2015</td>\n      <td>33</td>\n      <td>25</td>\n      <td>7440</td>\n      <td>299.0</td>\n      <td>1.0</td>\n    </tr>\n    <tr>\n      <th>2935848</th>\n      <td>03.10.2015</td>\n      <td>33</td>\n      <td>25</td>\n      <td>7460</td>\n      <td>299.0</td>\n      <td>1.0</td>\n    </tr>\n  </tbody>\n</table>\n</div>"
     },
     "metadata": {}
    }
   ]
  },
  {
   "cell_type": "markdown",
   "source": "# Objetive: sales of November 2015",
   "metadata": {
    "cell_id": "00008-5f829704-66df-4475-90f3-ed5fc42fe17d",
    "deepnote_cell_type": "markdown"
   }
  },
  {
   "cell_type": "code",
   "metadata": {
    "cell_id": "00009-e44b021a-0d71-4902-bdd4-a94b768e8a53",
    "deepnote_to_be_reexecuted": false,
    "source_hash": "f6325a18",
    "execution_start": 1620734495695,
    "execution_millis": 17,
    "deepnote_cell_type": "code"
   },
   "source": "df_test.head()",
   "execution_count": 8,
   "outputs": [
    {
     "output_type": "execute_result",
     "execution_count": 8,
     "data": {
      "application/vnd.deepnote.dataframe.v2+json": {
       "row_count": 5,
       "column_count": 2,
       "columns": [
        {
         "name": "shop_id",
         "dtype": "int64",
         "stats": {
          "unique_count": 1,
          "nan_count": 0,
          "min": "5",
          "max": "5",
          "histogram": [
           {
            "bin_start": 4.5,
            "bin_end": 4.6,
            "count": 0
           },
           {
            "bin_start": 4.6,
            "bin_end": 4.7,
            "count": 0
           },
           {
            "bin_start": 4.7,
            "bin_end": 4.8,
            "count": 0
           },
           {
            "bin_start": 4.8,
            "bin_end": 4.9,
            "count": 0
           },
           {
            "bin_start": 4.9,
            "bin_end": 5,
            "count": 0
           },
           {
            "bin_start": 5,
            "bin_end": 5.1,
            "count": 5
           },
           {
            "bin_start": 5.1,
            "bin_end": 5.2,
            "count": 0
           },
           {
            "bin_start": 5.2,
            "bin_end": 5.3,
            "count": 0
           },
           {
            "bin_start": 5.3,
            "bin_end": 5.4,
            "count": 0
           },
           {
            "bin_start": 5.4,
            "bin_end": 5.5,
            "count": 0
           }
          ]
         }
        },
        {
         "name": "item_id",
         "dtype": "int64",
         "stats": {
          "unique_count": 5,
          "nan_count": 0,
          "min": "5037",
          "max": "5320",
          "histogram": [
           {
            "bin_start": 5037,
            "bin_end": 5065.3,
            "count": 1
           },
           {
            "bin_start": 5065.3,
            "bin_end": 5093.6,
            "count": 0
           },
           {
            "bin_start": 5093.6,
            "bin_end": 5121.9,
            "count": 0
           },
           {
            "bin_start": 5121.9,
            "bin_end": 5150.2,
            "count": 0
           },
           {
            "bin_start": 5150.2,
            "bin_end": 5178.5,
            "count": 0
           },
           {
            "bin_start": 5178.5,
            "bin_end": 5206.8,
            "count": 0
           },
           {
            "bin_start": 5206.8,
            "bin_end": 5235.1,
            "count": 2
           },
           {
            "bin_start": 5235.1,
            "bin_end": 5263.4,
            "count": 0
           },
           {
            "bin_start": 5263.4,
            "bin_end": 5291.7,
            "count": 1
           },
           {
            "bin_start": 5291.7,
            "bin_end": 5320,
            "count": 1
           }
          ]
         }
        },
        {
         "name": "_deepnote_index_column",
         "dtype": "int64"
        }
       ],
       "rows_top": [
        {
         "shop_id": 5,
         "item_id": 5037,
         "_deepnote_index_column": 0
        },
        {
         "shop_id": 5,
         "item_id": 5320,
         "_deepnote_index_column": 1
        },
        {
         "shop_id": 5,
         "item_id": 5233,
         "_deepnote_index_column": 2
        },
        {
         "shop_id": 5,
         "item_id": 5232,
         "_deepnote_index_column": 3
        },
        {
         "shop_id": 5,
         "item_id": 5268,
         "_deepnote_index_column": 4
        }
       ],
       "rows_bottom": null
      },
      "text/plain": "    shop_id  item_id\nID                  \n0         5     5037\n1         5     5320\n2         5     5233\n3         5     5232\n4         5     5268",
      "text/html": "<div>\n<style scoped>\n    .dataframe tbody tr th:only-of-type {\n        vertical-align: middle;\n    }\n\n    .dataframe tbody tr th {\n        vertical-align: top;\n    }\n\n    .dataframe thead th {\n        text-align: right;\n    }\n</style>\n<table border=\"1\" class=\"dataframe\">\n  <thead>\n    <tr style=\"text-align: right;\">\n      <th></th>\n      <th>shop_id</th>\n      <th>item_id</th>\n    </tr>\n    <tr>\n      <th>ID</th>\n      <th></th>\n      <th></th>\n    </tr>\n  </thead>\n  <tbody>\n    <tr>\n      <th>0</th>\n      <td>5</td>\n      <td>5037</td>\n    </tr>\n    <tr>\n      <th>1</th>\n      <td>5</td>\n      <td>5320</td>\n    </tr>\n    <tr>\n      <th>2</th>\n      <td>5</td>\n      <td>5233</td>\n    </tr>\n    <tr>\n      <th>3</th>\n      <td>5</td>\n      <td>5232</td>\n    </tr>\n    <tr>\n      <th>4</th>\n      <td>5</td>\n      <td>5268</td>\n    </tr>\n  </tbody>\n</table>\n</div>"
     },
     "metadata": {}
    }
   ]
  },
  {
   "cell_type": "markdown",
   "source": "# EDA",
   "metadata": {
    "cell_id": "00010-640d7fc3-705a-43c1-aeac-ac3b23da3480",
    "deepnote_cell_type": "markdown"
   }
  },
  {
   "cell_type": "markdown",
   "source": "### Outlier: Sales with a lot of quatities",
   "metadata": {
    "cell_id": "00011-39ec85df-1053-4ebf-b4e2-06dcf0848050",
    "deepnote_cell_type": "markdown"
   }
  },
  {
   "cell_type": "code",
   "metadata": {
    "cell_id": "00012-7d575a01-e7f0-4f8f-81dc-df62a8c139bb",
    "deepnote_to_be_reexecuted": false,
    "source_hash": "66ad24a1",
    "execution_start": 1620734501487,
    "execution_millis": 809,
    "deepnote_cell_type": "code"
   },
   "source": "plt.figure(figsize=(16,1))\nsb.boxplot(x=df_train.item_cnt_day);",
   "execution_count": 9,
   "outputs": [
    {
     "data": {
      "text/plain": "<Figure size 1152x72 with 1 Axes>",
      "image/png": "[encoded data removed]"
     },
     "metadata": {
      "needs_background": "light",
      "image/png": {
       "width": 910,
       "height": 100
      }
     },
     "output_type": "display_data"
    }
   ]
  },
  {
   "cell_type": "markdown",
   "source": "### Outlier: Sales with a expensive items",
   "metadata": {
    "cell_id": "00013-cec2fc54-e935-4107-9ba3-7816d874a48e",
    "deepnote_cell_type": "markdown"
   }
  },
  {
   "cell_type": "code",
   "metadata": {
    "cell_id": "00014-3da28ec1-3ab5-47f9-a557-ead24d44a777",
    "deepnote_to_be_reexecuted": false,
    "source_hash": "c3e20faf",
    "execution_start": 1620734507899,
    "execution_millis": 670,
    "deepnote_cell_type": "code"
   },
   "source": "plt.figure(figsize=(16,1))\nsb.boxplot(x=df_train.item_price);",
   "execution_count": 10,
   "outputs": [
    {
     "data": {
      "text/plain": "<Figure size 1152x72 with 1 Axes>",
      "image/png": "[encoded data removed]"
     },
     "metadata": {
      "needs_background": "light",
      "image/png": {
       "width": 910,
       "height": 100
      }
     },
     "output_type": "display_data"
    }
   ]
  },
  {
   "cell_type": "markdown",
   "source": "### Negative prices -> Refunds",
   "metadata": {
    "cell_id": "00015-e75474d4-8e64-4931-af74-57e318e39c04",
    "deepnote_cell_type": "markdown"
   }
  },
  {
   "cell_type": "code",
   "metadata": {
    "cell_id": "00016-a8184cab-6cd1-472c-9857-ca5dfc71d48e",
    "deepnote_to_be_reexecuted": false,
    "source_hash": "483e30f9",
    "execution_start": 1620734514370,
    "execution_millis": 6,
    "deepnote_cell_type": "code"
   },
   "source": "df_train.loc[df_train.item_price<0]",
   "execution_count": 11,
   "outputs": [
    {
     "output_type": "execute_result",
     "execution_count": 11,
     "data": {
      "application/vnd.deepnote.dataframe.v2+json": {
       "row_count": 1,
       "column_count": 6,
       "columns": [
        {
         "name": "date",
         "dtype": "object",
         "stats": {
          "unique_count": 1,
          "nan_count": 0,
          "categories": [
           {
            "name": "15.05.2013",
            "count": 1
           }
          ]
         }
        },
        {
         "name": "date_block_num",
         "dtype": "int64",
         "stats": {
          "unique_count": 1,
          "nan_count": 0,
          "min": "4",
          "max": "4",
          "histogram": [
           {
            "bin_start": 3.5,
            "bin_end": 3.6,
            "count": 0
           },
           {
            "bin_start": 3.6,
            "bin_end": 3.7,
            "count": 0
           },
           {
            "bin_start": 3.7,
            "bin_end": 3.8,
            "count": 0
           },
           {
            "bin_start": 3.8,
            "bin_end": 3.9,
            "count": 0
           },
           {
            "bin_start": 3.9,
            "bin_end": 4,
            "count": 0
           },
           {
            "bin_start": 4,
            "bin_end": 4.1,
            "count": 1
           },
           {
            "bin_start": 4.1,
            "bin_end": 4.2,
            "count": 0
           },
           {
            "bin_start": 4.2,
            "bin_end": 4.3,
            "count": 0
           },
           {
            "bin_start": 4.3,
            "bin_end": 4.4,
            "count": 0
           },
           {
            "bin_start": 4.4,
            "bin_end": 4.5,
            "count": 0
           }
          ]
         }
        },
        {
         "name": "shop_id",
         "dtype": "int64",
         "stats": {
          "unique_count": 1,
          "nan_count": 0,
          "min": "32",
          "max": "32",
          "histogram": [
           {
            "bin_start": 31.5,
            "bin_end": 31.6,
            "count": 0
           },
           {
            "bin_start": 31.6,
            "bin_end": 31.7,
            "count": 0
           },
           {
            "bin_start": 31.7,
            "bin_end": 31.8,
            "count": 0
           },
           {
            "bin_start": 31.8,
            "bin_end": 31.9,
            "count": 0
           },
           {
            "bin_start": 31.9,
            "bin_end": 32,
            "count": 0
           },
           {
            "bin_start": 32,
            "bin_end": 32.1,
            "count": 1
           },
           {
            "bin_start": 32.1,
            "bin_end": 32.2,
            "count": 0
           },
           {
            "bin_start": 32.2,
            "bin_end": 32.3,
            "count": 0
           },
           {
            "bin_start": 32.3,
            "bin_end": 32.4,
            "count": 0
           },
           {
            "bin_start": 32.4,
            "bin_end": 32.5,
            "count": 0
           }
          ]
         }
        },
        {
         "name": "item_id",
         "dtype": "int64",
         "stats": {
          "unique_count": 1,
          "nan_count": 0,
          "min": "2973",
          "max": "2973",
          "histogram": [
           {
            "bin_start": 2972.5,
            "bin_end": 2972.6,
            "count": 0
           },
           {
            "bin_start": 2972.6,
            "bin_end": 2972.7,
            "count": 0
           },
           {
            "bin_start": 2972.7,
            "bin_end": 2972.8,
            "count": 0
           },
           {
            "bin_start": 2972.8,
            "bin_end": 2972.9,
            "count": 0
           },
           {
            "bin_start": 2972.9,
            "bin_end": 2973,
            "count": 0
           },
           {
            "bin_start": 2973,
            "bin_end": 2973.1,
            "count": 1
           },
           {
            "bin_start": 2973.1,
            "bin_end": 2973.2,
            "count": 0
           },
           {
            "bin_start": 2973.2,
            "bin_end": 2973.3,
            "count": 0
           },
           {
            "bin_start": 2973.3,
            "bin_end": 2973.4,
            "count": 0
           },
           {
            "bin_start": 2973.4,
            "bin_end": 2973.5,
            "count": 0
           }
          ]
         }
        },
        {
         "name": "item_price",
         "dtype": "float64",
         "stats": {
          "unique_count": 1,
          "nan_count": 0,
          "min": "-1.0",
          "max": "-1.0",
          "histogram": [
           {
            "bin_start": -1.5,
            "bin_end": -1.4,
            "count": 0
           },
           {
            "bin_start": -1.4,
            "bin_end": -1.3,
            "count": 0
           },
           {
            "bin_start": -1.3,
            "bin_end": -1.2,
            "count": 0
           },
           {
            "bin_start": -1.2,
            "bin_end": -1.1,
            "count": 0
           },
           {
            "bin_start": -1.1,
            "bin_end": -1,
            "count": 0
           },
           {
            "bin_start": -1,
            "bin_end": -0.8999999999999999,
            "count": 1
           },
           {
            "bin_start": -0.8999999999999999,
            "bin_end": -0.7999999999999999,
            "count": 0
           },
           {
            "bin_start": -0.7999999999999999,
            "bin_end": -0.7,
            "count": 0
           },
           {
            "bin_start": -0.7,
            "bin_end": -0.6,
            "count": 0
           },
           {
            "bin_start": -0.6,
            "bin_end": -0.5,
            "count": 0
           }
          ]
         }
        },
        {
         "name": "item_cnt_day",
         "dtype": "float64",
         "stats": {
          "unique_count": 1,
          "nan_count": 0,
          "min": "1.0",
          "max": "1.0",
          "histogram": [
           {
            "bin_start": 0.5,
            "bin_end": 0.6,
            "count": 0
           },
           {
            "bin_start": 0.6,
            "bin_end": 0.7,
            "count": 0
           },
           {
            "bin_start": 0.7,
            "bin_end": 0.8,
            "count": 0
           },
           {
            "bin_start": 0.8,
            "bin_end": 0.9,
            "count": 0
           },
           {
            "bin_start": 0.9,
            "bin_end": 1,
            "count": 0
           },
           {
            "bin_start": 1,
            "bin_end": 1.1,
            "count": 1
           },
           {
            "bin_start": 1.1,
            "bin_end": 1.2000000000000002,
            "count": 0
           },
           {
            "bin_start": 1.2000000000000002,
            "bin_end": 1.3,
            "count": 0
           },
           {
            "bin_start": 1.3,
            "bin_end": 1.4,
            "count": 0
           },
           {
            "bin_start": 1.4,
            "bin_end": 1.5,
            "count": 0
           }
          ]
         }
        },
        {
         "name": "_deepnote_index_column",
         "dtype": "int64"
        }
       ],
       "rows_top": [
        {
         "date": "15.05.2013",
         "date_block_num": 4,
         "shop_id": 32,
         "item_id": 2973,
         "item_price": -1,
         "item_cnt_day": 1,
         "_deepnote_index_column": 484683
        }
       ],
       "rows_bottom": null
      },
      "text/plain": "              date  date_block_num  shop_id  item_id  item_price  item_cnt_day\n484683  15.05.2013               4       32     2973        -1.0           1.0",
      "text/html": "<div>\n<style scoped>\n    .dataframe tbody tr th:only-of-type {\n        vertical-align: middle;\n    }\n\n    .dataframe tbody tr th {\n        vertical-align: top;\n    }\n\n    .dataframe thead th {\n        text-align: right;\n    }\n</style>\n<table border=\"1\" class=\"dataframe\">\n  <thead>\n    <tr style=\"text-align: right;\">\n      <th></th>\n      <th>date</th>\n      <th>date_block_num</th>\n      <th>shop_id</th>\n      <th>item_id</th>\n      <th>item_price</th>\n      <th>item_cnt_day</th>\n    </tr>\n  </thead>\n  <tbody>\n    <tr>\n      <th>484683</th>\n      <td>15.05.2013</td>\n      <td>4</td>\n      <td>32</td>\n      <td>2973</td>\n      <td>-1.0</td>\n      <td>1.0</td>\n    </tr>\n  </tbody>\n</table>\n</div>"
     },
     "metadata": {}
    }
   ]
  },
  {
   "cell_type": "code",
   "metadata": {
    "tags": [],
    "cell_id": "00018-9a5d0b80-cd5e-41aa-a5d4-e8cfc7e3e4c4",
    "deepnote_to_be_reexecuted": false,
    "source_hash": "849ce5a8",
    "execution_start": 1620734525512,
    "execution_millis": 520,
    "deepnote_cell_type": "code"
   },
   "source": "df_train.describe()",
   "execution_count": 12,
   "outputs": [
    {
     "output_type": "execute_result",
     "execution_count": 12,
     "data": {
      "application/vnd.deepnote.dataframe.v2+json": {
       "row_count": 8,
       "column_count": 5,
       "columns": [
        {
         "name": "date_block_num",
         "dtype": "float64",
         "stats": {
          "unique_count": 8,
          "nan_count": 0,
          "min": "0.0",
          "max": "2935849.0",
          "histogram": [
           {
            "bin_start": 0,
            "bin_end": 293584.9,
            "count": 7
           },
           {
            "bin_start": 293584.9,
            "bin_end": 587169.8,
            "count": 0
           },
           {
            "bin_start": 587169.8,
            "bin_end": 880754.7000000001,
            "count": 0
           },
           {
            "bin_start": 880754.7000000001,
            "bin_end": 1174339.6,
            "count": 0
           },
           {
            "bin_start": 1174339.6,
            "bin_end": 1467924.5,
            "count": 0
           },
           {
            "bin_start": 1467924.5,
            "bin_end": 1761509.4000000001,
            "count": 0
           },
           {
            "bin_start": 1761509.4000000001,
            "bin_end": 2055094.3000000003,
            "count": 0
           },
           {
            "bin_start": 2055094.3000000003,
            "bin_end": 2348679.2,
            "count": 0
           },
           {
            "bin_start": 2348679.2,
            "bin_end": 2642264.1,
            "count": 0
           },
           {
            "bin_start": 2642264.1,
            "bin_end": 2935849,
            "count": 1
           }
          ]
         }
        },
        {
         "name": "shop_id",
         "dtype": "float64",
         "stats": {
          "unique_count": 8,
          "nan_count": 0,
          "min": "0.0",
          "max": "2935849.0",
          "histogram": [
           {
            "bin_start": 0,
            "bin_end": 293584.9,
            "count": 7
           },
           {
            "bin_start": 293584.9,
            "bin_end": 587169.8,
            "count": 0
           },
           {
            "bin_start": 587169.8,
            "bin_end": 880754.7000000001,
            "count": 0
           },
           {
            "bin_start": 880754.7000000001,
            "bin_end": 1174339.6,
            "count": 0
           },
           {
            "bin_start": 1174339.6,
            "bin_end": 1467924.5,
            "count": 0
           },
           {
            "bin_start": 1467924.5,
            "bin_end": 1761509.4000000001,
            "count": 0
           },
           {
            "bin_start": 1761509.4000000001,
            "bin_end": 2055094.3000000003,
            "count": 0
           },
           {
            "bin_start": 2055094.3000000003,
            "bin_end": 2348679.2,
            "count": 0
           },
           {
            "bin_start": 2348679.2,
            "bin_end": 2642264.1,
            "count": 0
           },
           {
            "bin_start": 2642264.1,
            "bin_end": 2935849,
            "count": 1
           }
          ]
         }
        },
        {
         "name": "item_id",
         "dtype": "float64",
         "stats": {
          "unique_count": 8,
          "nan_count": 0,
          "min": "0.0",
          "max": "2935849.0",
          "histogram": [
           {
            "bin_start": 0,
            "bin_end": 293584.9,
            "count": 7
           },
           {
            "bin_start": 293584.9,
            "bin_end": 587169.8,
            "count": 0
           },
           {
            "bin_start": 587169.8,
            "bin_end": 880754.7000000001,
            "count": 0
           },
           {
            "bin_start": 880754.7000000001,
            "bin_end": 1174339.6,
            "count": 0
           },
           {
            "bin_start": 1174339.6,
            "bin_end": 1467924.5,
            "count": 0
           },
           {
            "bin_start": 1467924.5,
            "bin_end": 1761509.4000000001,
            "count": 0
           },
           {
            "bin_start": 1761509.4000000001,
            "bin_end": 2055094.3000000003,
            "count": 0
           },
           {
            "bin_start": 2055094.3000000003,
            "bin_end": 2348679.2,
            "count": 0
           },
           {
            "bin_start": 2348679.2,
            "bin_end": 2642264.1,
            "count": 0
           },
           {
            "bin_start": 2642264.1,
            "bin_end": 2935849,
            "count": 1
           }
          ]
         }
        },
        {
         "name": "item_price",
         "dtype": "float64",
         "stats": {
          "unique_count": 8,
          "nan_count": 0,
          "min": "-1.0",
          "max": "2935849.0",
          "histogram": [
           {
            "bin_start": -1,
            "bin_end": 293584,
            "count": 6
           },
           {
            "bin_start": 293584,
            "bin_end": 587169,
            "count": 1
           },
           {
            "bin_start": 587169,
            "bin_end": 880754,
            "count": 0
           },
           {
            "bin_start": 880754,
            "bin_end": 1174339,
            "count": 0
           },
           {
            "bin_start": 1174339,
            "bin_end": 1467924,
            "count": 0
           },
           {
            "bin_start": 1467924,
            "bin_end": 1761509,
            "count": 0
           },
           {
            "bin_start": 1761509,
            "bin_end": 2055094,
            "count": 0
           },
           {
            "bin_start": 2055094,
            "bin_end": 2348679,
            "count": 0
           },
           {
            "bin_start": 2348679,
            "bin_end": 2642264,
            "count": 0
           },
           {
            "bin_start": 2642264,
            "bin_end": 2935849,
            "count": 1
           }
          ]
         }
        },
        {
         "name": "item_cnt_day",
         "dtype": "float64",
         "stats": {
          "unique_count": 6,
          "nan_count": 0,
          "min": "-22.0",
          "max": "2935849.0",
          "histogram": [
           {
            "bin_start": -22,
            "bin_end": 293565.1,
            "count": 7
           },
           {
            "bin_start": 293565.1,
            "bin_end": 587152.2,
            "count": 0
           },
           {
            "bin_start": 587152.2,
            "bin_end": 880739.2999999999,
            "count": 0
           },
           {
            "bin_start": 880739.2999999999,
            "bin_end": 1174326.4,
            "count": 0
           },
           {
            "bin_start": 1174326.4,
            "bin_end": 1467913.5,
            "count": 0
           },
           {
            "bin_start": 1467913.5,
            "bin_end": 1761500.5999999999,
            "count": 0
           },
           {
            "bin_start": 1761500.5999999999,
            "bin_end": 2055087.6999999997,
            "count": 0
           },
           {
            "bin_start": 2055087.6999999997,
            "bin_end": 2348674.8,
            "count": 0
           },
           {
            "bin_start": 2348674.8,
            "bin_end": 2642261.9,
            "count": 0
           },
           {
            "bin_start": 2642261.9,
            "bin_end": 2935849,
            "count": 1
           }
          ]
         }
        },
        {
         "name": "_deepnote_index_column",
         "dtype": "object"
        }
       ],
       "rows_top": [
        {
         "date_block_num": 2935849,
         "shop_id": 2935849,
         "item_id": 2935849,
         "item_price": 2935849,
         "item_cnt_day": 2935849,
         "_deepnote_index_column": "count"
        },
        {
         "date_block_num": 14.56991146343017,
         "shop_id": 33.001728290521754,
         "item_id": 10197.227056977385,
         "item_price": 890.8532326980126,
         "item_cnt_day": 1.242640885140891,
         "_deepnote_index_column": "mean"
        },
        {
         "date_block_num": 9.42298770875573,
         "shop_id": 16.226973048333605,
         "item_id": 6324.297353891169,
         "item_price": 1729.7996307126623,
         "item_cnt_day": 2.618834430895425,
         "_deepnote_index_column": "std"
        },
        {
         "date_block_num": 0,
         "shop_id": 0,
         "item_id": 0,
         "item_price": -1,
         "item_cnt_day": -22,
         "_deepnote_index_column": "min"
        },
        {
         "date_block_num": 7,
         "shop_id": 22,
         "item_id": 4476,
         "item_price": 249,
         "item_cnt_day": 1,
         "_deepnote_index_column": "25%"
        },
        {
         "date_block_num": 14,
         "shop_id": 31,
         "item_id": 9343,
         "item_price": 399,
         "item_cnt_day": 1,
         "_deepnote_index_column": "50%"
        },
        {
         "date_block_num": 23,
         "shop_id": 47,
         "item_id": 15684,
         "item_price": 999,
         "item_cnt_day": 1,
         "_deepnote_index_column": "75%"
        },
        {
         "date_block_num": 33,
         "shop_id": 59,
         "item_id": 22169,
         "item_price": 307980,
         "item_cnt_day": 2169,
         "_deepnote_index_column": "max"
        }
       ],
       "rows_bottom": null
      },
      "text/plain": "       date_block_num       shop_id       item_id    item_price  item_cnt_day\ncount    2.935849e+06  2.935849e+06  2.935849e+06  2.935849e+06  2.935849e+06\nmean     1.456991e+01  3.300173e+01  1.019723e+04  8.908532e+02  1.242641e+00\nstd      9.422988e+00  1.622697e+01  6.324297e+03  1.729800e+03  2.618834e+00\nmin      0.000000e+00  0.000000e+00  0.000000e+00 -1.000000e+00 -2.200000e+01\n25%      7.000000e+00  2.200000e+01  4.476000e+03  2.490000e+02  1.000000e+00\n50%      1.400000e+01  3.100000e+01  9.343000e+03  3.990000e+02  1.000000e+00\n75%      2.300000e+01  4.700000e+01  1.568400e+04  9.990000e+02  1.000000e+00\nmax      3.300000e+01  5.900000e+01  2.216900e+04  3.079800e+05  2.169000e+03",
      "text/html": "<div>\n<style scoped>\n    .dataframe tbody tr th:only-of-type {\n        vertical-align: middle;\n    }\n\n    .dataframe tbody tr th {\n        vertical-align: top;\n    }\n\n    .dataframe thead th {\n        text-align: right;\n    }\n</style>\n<table border=\"1\" class=\"dataframe\">\n  <thead>\n    <tr style=\"text-align: right;\">\n      <th></th>\n      <th>date_block_num</th>\n      <th>shop_id</th>\n      <th>item_id</th>\n      <th>item_price</th>\n      <th>item_cnt_day</th>\n    </tr>\n  </thead>\n  <tbody>\n    <tr>\n      <th>count</th>\n      <td>2.935849e+06</td>\n      <td>2.935849e+06</td>\n      <td>2.935849e+06</td>\n      <td>2.935849e+06</td>\n      <td>2.935849e+06</td>\n    </tr>\n    <tr>\n      <th>mean</th>\n      <td>1.456991e+01</td>\n      <td>3.300173e+01</td>\n      <td>1.019723e+04</td>\n      <td>8.908532e+02</td>\n      <td>1.242641e+00</td>\n    </tr>\n    <tr>\n      <th>std</th>\n      <td>9.422988e+00</td>\n      <td>1.622697e+01</td>\n      <td>6.324297e+03</td>\n      <td>1.729800e+03</td>\n      <td>2.618834e+00</td>\n    </tr>\n    <tr>\n      <th>min</th>\n      <td>0.000000e+00</td>\n      <td>0.000000e+00</td>\n      <td>0.000000e+00</td>\n      <td>-1.000000e+00</td>\n      <td>-2.200000e+01</td>\n    </tr>\n    <tr>\n      <th>25%</th>\n      <td>7.000000e+00</td>\n      <td>2.200000e+01</td>\n      <td>4.476000e+03</td>\n      <td>2.490000e+02</td>\n      <td>1.000000e+00</td>\n    </tr>\n    <tr>\n      <th>50%</th>\n      <td>1.400000e+01</td>\n      <td>3.100000e+01</td>\n      <td>9.343000e+03</td>\n      <td>3.990000e+02</td>\n      <td>1.000000e+00</td>\n    </tr>\n    <tr>\n      <th>75%</th>\n      <td>2.300000e+01</td>\n      <td>4.700000e+01</td>\n      <td>1.568400e+04</td>\n      <td>9.990000e+02</td>\n      <td>1.000000e+00</td>\n    </tr>\n    <tr>\n      <th>max</th>\n      <td>3.300000e+01</td>\n      <td>5.900000e+01</td>\n      <td>2.216900e+04</td>\n      <td>3.079800e+05</td>\n      <td>2.169000e+03</td>\n    </tr>\n  </tbody>\n</table>\n</div>"
     },
     "metadata": {}
    }
   ]
  },
  {
   "cell_type": "code",
   "metadata": {
    "tags": [],
    "cell_id": "00019-5472e79a-7e91-4ed8-8658-2f88c06ff3c1",
    "deepnote_to_be_reexecuted": false,
    "source_hash": "b5b34205",
    "execution_start": 1620734532630,
    "execution_millis": 206,
    "deepnote_cell_type": "code"
   },
   "source": "df_train['item_cnt_day'].sort_values(ascending=False)",
   "execution_count": 13,
   "outputs": [
    {
     "output_type": "execute_result",
     "execution_count": 13,
     "data": {
      "text/plain": "2909818    2169.0\n2326930    1000.0\n2864235     669.0\n2851091     637.0\n2608040     624.0\n            ...  \n59156        -6.0\n940092       -6.0\n2048519      -9.0\n1835454     -16.0\n1057907     -22.0\nName: item_cnt_day, Length: 2935849, dtype: float64"
     },
     "metadata": {}
    }
   ]
  },
  {
   "cell_type": "code",
   "metadata": {
    "tags": [],
    "cell_id": "00020-f5f85d53-402e-4cde-99fb-e6acca48912d",
    "deepnote_to_be_reexecuted": false,
    "source_hash": "d228fb43",
    "execution_start": 1620734537649,
    "execution_millis": 532,
    "deepnote_cell_type": "code"
   },
   "source": "df_train.corr()[\"item_price\"].abs().sort_values().plot.barh();",
   "execution_count": 14,
   "outputs": [
    {
     "data": {
      "text/plain": "<Figure size 432x288 with 1 Axes>",
      "image/png": "[encoded data removed]"
     },
     "metadata": {
      "needs_background": "light",
      "image/png": {
       "width": 437,
       "height": 248
      }
     },
     "output_type": "display_data"
    }
   ]
  },
  {
   "cell_type": "code",
   "metadata": {
    "tags": [],
    "cell_id": "00021-8b6206ff-607a-40a9-a5ee-225b821be5be",
    "deepnote_to_be_reexecuted": false,
    "source_hash": "b222b480",
    "execution_start": 1620734543928,
    "execution_millis": 621,
    "deepnote_cell_type": "code"
   },
   "source": "df_train.groupby(\"item_id\").agg({\"shop_id\": \"nunique\"}).reset_index().plot.scatter(\"item_id\", \"shop_id\", figsize=(10, 6), s=10);\n",
   "execution_count": 15,
   "outputs": [
    {
     "data": {
      "text/plain": "<Figure size 720x432 with 1 Axes>",
      "image/png": "[encoded data removed]"
     },
     "metadata": {
      "needs_background": "light",
      "image/png": {
       "width": 606,
       "height": 372
      }
     },
     "output_type": "display_data"
    }
   ]
  },
  {
   "cell_type": "code",
   "metadata": {
    "tags": [],
    "cell_id": "00022-e0d18c93-2c8d-4279-85a7-b2a11d44a8b1",
    "deepnote_to_be_reexecuted": false,
    "source_hash": "4267dc13",
    "execution_start": 1620734586055,
    "execution_millis": 362,
    "deepnote_cell_type": "code"
   },
   "source": "df_train.groupby([\"date_block_num\"]).size().plot.bar()",
   "execution_count": 18,
   "outputs": [
    {
     "output_type": "execute_result",
     "execution_count": 18,
     "data": {
      "text/plain": "<AxesSubplot:xlabel='date_block_num'>"
     },
     "metadata": {}
    },
    {
     "data": {
      "text/plain": "<Figure size 432x288 with 1 Axes>",
      "image/png": "[encoded data removed]"
     },
     "metadata": {
      "needs_background": "light",
      "image/png": {
       "width": 394,
       "height": 266
      }
     },
     "output_type": "display_data"
    }
   ]
  },
  {
   "cell_type": "code",
   "metadata": {
    "tags": [],
    "cell_id": "00022-ad6eeca9-55cf-4709-b97e-558a0a25928c",
    "deepnote_to_be_reexecuted": false,
    "source_hash": "a1203aaa",
    "execution_start": 1620734699431,
    "execution_millis": 211,
    "deepnote_cell_type": "code"
   },
   "source": "sales_by_month = df_train.groupby('date_block_num').size()\n\nax = sb.lineplot(data=sales_by_month, marker='.', markersize=12)\n_ = ax.set(xlabel = \"Date block\", ylabel = \"item sales\", title = \"Total sales (clients) per month\")",
   "execution_count": 19,
   "outputs": [
    {
     "data": {
      "text/plain": "<Figure size 432x288 with 1 Axes>",
      "image/png": "[encoded data removed]"
     },
     "metadata": {
      "needs_background": "light",
      "image/png": {
       "width": 407,
       "height": 278
      }
     },
     "output_type": "display_data"
    }
   ]
  },
  {
   "cell_type": "code",
   "metadata": {
    "tags": [],
    "cell_id": "00022-dca19d71-de93-4a42-ac54-5d92754f89c8",
    "deepnote_to_be_reexecuted": false,
    "source_hash": "b128a163",
    "execution_start": 1620734835113,
    "execution_millis": 1624,
    "deepnote_cell_type": "code"
   },
   "source": "#### PLot the trend chart for the item count - Jan2013 to October 2015\nfig = df_train.groupby(['date_block_num' , 'shop_id'])['item_cnt_day'].sum().unstack().plot(\n    figsize=(14, 8), linewidth=2)\n\nfig.set_title('item_cnt_day in time')\nfig.set_ylabel('item_cnt_day')\nplt.xticks(np.arange(0, 35, 1))\nplt.show()",
   "execution_count": 22,
   "outputs": [
    {
     "data": {
      "text/plain": "<Figure size 1008x576 with 1 Axes>",
      "image/png": "[encoded data removed]"
     },
     "metadata": {
      "needs_background": "light",
      "image/png": {
       "width": 849,
       "height": 954
      }
     },
     "output_type": "display_data"
    }
   ]
  },
  {
   "cell_type": "code",
   "source": "# negative prices => REFUNDS\ndf_train.loc[df_train.item_price<0]",
   "metadata": {
    "tags": [],
    "cell_id": "00024-56d5c8dd-9b2e-4935-b308-768df7e131cf",
    "deepnote_to_be_reexecuted": false,
    "source_hash": "5cc9f69",
    "execution_start": 1620734956325,
    "execution_millis": 45,
    "deepnote_cell_type": "code"
   },
   "outputs": [
    {
     "output_type": "execute_result",
     "execution_count": 24,
     "data": {
      "application/vnd.deepnote.dataframe.v2+json": {
       "row_count": 1,
       "column_count": 6,
       "columns": [
        {
         "name": "date",
         "dtype": "object",
         "stats": {
          "unique_count": 1,
          "nan_count": 0,
          "categories": [
           {
            "name": "15.05.2013",
            "count": 1
           }
          ]
         }
        },
        {
         "name": "date_block_num",
         "dtype": "int64",
         "stats": {
          "unique_count": 1,
          "nan_count": 0,
          "min": "4",
          "max": "4",
          "histogram": [
           {
            "bin_start": 3.5,
            "bin_end": 3.6,
            "count": 0
           },
           {
            "bin_start": 3.6,
            "bin_end": 3.7,
            "count": 0
           },
           {
            "bin_start": 3.7,
            "bin_end": 3.8,
            "count": 0
           },
           {
            "bin_start": 3.8,
            "bin_end": 3.9,
            "count": 0
           },
           {
            "bin_start": 3.9,
            "bin_end": 4,
            "count": 0
           },
           {
            "bin_start": 4,
            "bin_end": 4.1,
            "count": 1
           },
           {
            "bin_start": 4.1,
            "bin_end": 4.2,
            "count": 0
           },
           {
            "bin_start": 4.2,
            "bin_end": 4.3,
            "count": 0
           },
           {
            "bin_start": 4.3,
            "bin_end": 4.4,
            "count": 0
           },
           {
            "bin_start": 4.4,
            "bin_end": 4.5,
            "count": 0
           }
          ]
         }
        },
        {
         "name": "shop_id",
         "dtype": "int64",
         "stats": {
          "unique_count": 1,
          "nan_count": 0,
          "min": "32",
          "max": "32",
          "histogram": [
           {
            "bin_start": 31.5,
            "bin_end": 31.6,
            "count": 0
           },
           {
            "bin_start": 31.6,
            "bin_end": 31.7,
            "count": 0
           },
           {
            "bin_start": 31.7,
            "bin_end": 31.8,
            "count": 0
           },
           {
            "bin_start": 31.8,
            "bin_end": 31.9,
            "count": 0
           },
           {
            "bin_start": 31.9,
            "bin_end": 32,
            "count": 0
           },
           {
            "bin_start": 32,
            "bin_end": 32.1,
            "count": 1
           },
           {
            "bin_start": 32.1,
            "bin_end": 32.2,
            "count": 0
           },
           {
            "bin_start": 32.2,
            "bin_end": 32.3,
            "count": 0
           },
           {
            "bin_start": 32.3,
            "bin_end": 32.4,
            "count": 0
           },
           {
            "bin_start": 32.4,
            "bin_end": 32.5,
            "count": 0
           }
          ]
         }
        },
        {
         "name": "item_id",
         "dtype": "int64",
         "stats": {
          "unique_count": 1,
          "nan_count": 0,
          "min": "2973",
          "max": "2973",
          "histogram": [
           {
            "bin_start": 2972.5,
            "bin_end": 2972.6,
            "count": 0
           },
           {
            "bin_start": 2972.6,
            "bin_end": 2972.7,
            "count": 0
           },
           {
            "bin_start": 2972.7,
            "bin_end": 2972.8,
            "count": 0
           },
           {
            "bin_start": 2972.8,
            "bin_end": 2972.9,
            "count": 0
           },
           {
            "bin_start": 2972.9,
            "bin_end": 2973,
            "count": 0
           },
           {
            "bin_start": 2973,
            "bin_end": 2973.1,
            "count": 1
           },
           {
            "bin_start": 2973.1,
            "bin_end": 2973.2,
            "count": 0
           },
           {
            "bin_start": 2973.2,
            "bin_end": 2973.3,
            "count": 0
           },
           {
            "bin_start": 2973.3,
            "bin_end": 2973.4,
            "count": 0
           },
           {
            "bin_start": 2973.4,
            "bin_end": 2973.5,
            "count": 0
           }
          ]
         }
        },
        {
         "name": "item_price",
         "dtype": "float64",
         "stats": {
          "unique_count": 1,
          "nan_count": 0,
          "min": "-1.0",
          "max": "-1.0",
          "histogram": [
           {
            "bin_start": -1.5,
            "bin_end": -1.4,
            "count": 0
           },
           {
            "bin_start": -1.4,
            "bin_end": -1.3,
            "count": 0
           },
           {
            "bin_start": -1.3,
            "bin_end": -1.2,
            "count": 0
           },
           {
            "bin_start": -1.2,
            "bin_end": -1.1,
            "count": 0
           },
           {
            "bin_start": -1.1,
            "bin_end": -1,
            "count": 0
           },
           {
            "bin_start": -1,
            "bin_end": -0.8999999999999999,
            "count": 1
           },
           {
            "bin_start": -0.8999999999999999,
            "bin_end": -0.7999999999999999,
            "count": 0
           },
           {
            "bin_start": -0.7999999999999999,
            "bin_end": -0.7,
            "count": 0
           },
           {
            "bin_start": -0.7,
            "bin_end": -0.6,
            "count": 0
           },
           {
            "bin_start": -0.6,
            "bin_end": -0.5,
            "count": 0
           }
          ]
         }
        },
        {
         "name": "item_cnt_day",
         "dtype": "float64",
         "stats": {
          "unique_count": 1,
          "nan_count": 0,
          "min": "1.0",
          "max": "1.0",
          "histogram": [
           {
            "bin_start": 0.5,
            "bin_end": 0.6,
            "count": 0
           },
           {
            "bin_start": 0.6,
            "bin_end": 0.7,
            "count": 0
           },
           {
            "bin_start": 0.7,
            "bin_end": 0.8,
            "count": 0
           },
           {
            "bin_start": 0.8,
            "bin_end": 0.9,
            "count": 0
           },
           {
            "bin_start": 0.9,
            "bin_end": 1,
            "count": 0
           },
           {
            "bin_start": 1,
            "bin_end": 1.1,
            "count": 1
           },
           {
            "bin_start": 1.1,
            "bin_end": 1.2000000000000002,
            "count": 0
           },
           {
            "bin_start": 1.2000000000000002,
            "bin_end": 1.3,
            "count": 0
           },
           {
            "bin_start": 1.3,
            "bin_end": 1.4,
            "count": 0
           },
           {
            "bin_start": 1.4,
            "bin_end": 1.5,
            "count": 0
           }
          ]
         }
        },
        {
         "name": "_deepnote_index_column",
         "dtype": "int64"
        }
       ],
       "rows_top": [
        {
         "date": "15.05.2013",
         "date_block_num": 4,
         "shop_id": 32,
         "item_id": 2973,
         "item_price": -1,
         "item_cnt_day": 1,
         "_deepnote_index_column": 484683
        }
       ],
       "rows_bottom": null
      },
      "text/plain": "              date  date_block_num  shop_id  item_id  item_price  item_cnt_day\n484683  15.05.2013               4       32     2973        -1.0           1.0",
      "text/html": "<div>\n<style scoped>\n    .dataframe tbody tr th:only-of-type {\n        vertical-align: middle;\n    }\n\n    .dataframe tbody tr th {\n        vertical-align: top;\n    }\n\n    .dataframe thead th {\n        text-align: right;\n    }\n</style>\n<table border=\"1\" class=\"dataframe\">\n  <thead>\n    <tr style=\"text-align: right;\">\n      <th></th>\n      <th>date</th>\n      <th>date_block_num</th>\n      <th>shop_id</th>\n      <th>item_id</th>\n      <th>item_price</th>\n      <th>item_cnt_day</th>\n    </tr>\n  </thead>\n  <tbody>\n    <tr>\n      <th>484683</th>\n      <td>15.05.2013</td>\n      <td>4</td>\n      <td>32</td>\n      <td>2973</td>\n      <td>-1.0</td>\n      <td>1.0</td>\n    </tr>\n  </tbody>\n</table>\n</div>"
     },
     "metadata": {}
    }
   ],
   "execution_count": 24
  },
  {
   "cell_type": "code",
   "source": "df_train_1 = df_train[df_train.item_cnt_day < 0]\ndf_train_1.head()",
   "metadata": {
    "tags": [],
    "cell_id": "00025-613430f7-6450-48fd-b872-a74077242591",
    "deepnote_to_be_reexecuted": false,
    "source_hash": "6c19f013",
    "execution_start": 1620736976010,
    "execution_millis": 33,
    "deepnote_cell_type": "code"
   },
   "outputs": [
    {
     "output_type": "execute_result",
     "execution_count": 56,
     "data": {
      "application/vnd.deepnote.dataframe.v2+json": {
       "row_count": 5,
       "column_count": 6,
       "columns": [
        {
         "name": "date",
         "dtype": "object",
         "stats": {
          "unique_count": 5,
          "nan_count": 0,
          "categories": [
           {
            "name": "05.01.2013",
            "count": 1
           },
           {
            "name": "23.01.2013",
            "count": 1
           },
           {
            "name": "3 others",
            "count": 3
           }
          ]
         }
        },
        {
         "name": "date_block_num",
         "dtype": "int64",
         "stats": {
          "unique_count": 1,
          "nan_count": 0,
          "min": "0",
          "max": "0",
          "histogram": [
           {
            "bin_start": -0.5,
            "bin_end": -0.4,
            "count": 0
           },
           {
            "bin_start": -0.4,
            "bin_end": -0.3,
            "count": 0
           },
           {
            "bin_start": -0.3,
            "bin_end": -0.19999999999999996,
            "count": 0
           },
           {
            "bin_start": -0.19999999999999996,
            "bin_end": -0.09999999999999998,
            "count": 0
           },
           {
            "bin_start": -0.09999999999999998,
            "bin_end": 0,
            "count": 0
           },
           {
            "bin_start": 0,
            "bin_end": 0.10000000000000009,
            "count": 5
           },
           {
            "bin_start": 0.10000000000000009,
            "bin_end": 0.20000000000000007,
            "count": 0
           },
           {
            "bin_start": 0.20000000000000007,
            "bin_end": 0.30000000000000004,
            "count": 0
           },
           {
            "bin_start": 0.30000000000000004,
            "bin_end": 0.4,
            "count": 0
           },
           {
            "bin_start": 0.4,
            "bin_end": 0.5,
            "count": 0
           }
          ]
         }
        },
        {
         "name": "shop_id",
         "dtype": "int64",
         "stats": {
          "unique_count": 1,
          "nan_count": 0,
          "min": "25",
          "max": "25",
          "histogram": [
           {
            "bin_start": 24.5,
            "bin_end": 24.6,
            "count": 0
           },
           {
            "bin_start": 24.6,
            "bin_end": 24.7,
            "count": 0
           },
           {
            "bin_start": 24.7,
            "bin_end": 24.8,
            "count": 0
           },
           {
            "bin_start": 24.8,
            "bin_end": 24.9,
            "count": 0
           },
           {
            "bin_start": 24.9,
            "bin_end": 25,
            "count": 0
           },
           {
            "bin_start": 25,
            "bin_end": 25.1,
            "count": 5
           },
           {
            "bin_start": 25.1,
            "bin_end": 25.2,
            "count": 0
           },
           {
            "bin_start": 25.2,
            "bin_end": 25.3,
            "count": 0
           },
           {
            "bin_start": 25.3,
            "bin_end": 25.4,
            "count": 0
           },
           {
            "bin_start": 25.4,
            "bin_end": 25.5,
            "count": 0
           }
          ]
         }
        },
        {
         "name": "item_id",
         "dtype": "int64",
         "stats": {
          "unique_count": 5,
          "nan_count": 0,
          "min": "2199",
          "max": "5034",
          "histogram": [
           {
            "bin_start": 2199,
            "bin_end": 2482.5,
            "count": 3
           },
           {
            "bin_start": 2482.5,
            "bin_end": 2766,
            "count": 1
           },
           {
            "bin_start": 2766,
            "bin_end": 3049.5,
            "count": 0
           },
           {
            "bin_start": 3049.5,
            "bin_end": 3333,
            "count": 0
           },
           {
            "bin_start": 3333,
            "bin_end": 3616.5,
            "count": 0
           },
           {
            "bin_start": 3616.5,
            "bin_end": 3900,
            "count": 0
           },
           {
            "bin_start": 3900,
            "bin_end": 4183.5,
            "count": 0
           },
           {
            "bin_start": 4183.5,
            "bin_end": 4467,
            "count": 0
           },
           {
            "bin_start": 4467,
            "bin_end": 4750.5,
            "count": 0
           },
           {
            "bin_start": 4750.5,
            "bin_end": 5034,
            "count": 1
           }
          ]
         }
        },
        {
         "name": "item_price",
         "dtype": "float64",
         "stats": {
          "unique_count": 5,
          "nan_count": 0,
          "min": "599.0",
          "max": "1989.0",
          "histogram": [
           {
            "bin_start": 599,
            "bin_end": 738,
            "count": 1
           },
           {
            "bin_start": 738,
            "bin_end": 877,
            "count": 0
           },
           {
            "bin_start": 877,
            "bin_end": 1016,
            "count": 2
           },
           {
            "bin_start": 1016,
            "bin_end": 1155,
            "count": 0
           },
           {
            "bin_start": 1155,
            "bin_end": 1294,
            "count": 0
           },
           {
            "bin_start": 1294,
            "bin_end": 1433,
            "count": 0
           },
           {
            "bin_start": 1433,
            "bin_end": 1572,
            "count": 1
           },
           {
            "bin_start": 1572,
            "bin_end": 1711,
            "count": 0
           },
           {
            "bin_start": 1711,
            "bin_end": 1850,
            "count": 0
           },
           {
            "bin_start": 1850,
            "bin_end": 1989,
            "count": 1
           }
          ]
         }
        },
        {
         "name": "item_cnt_day",
         "dtype": "float64",
         "stats": {
          "unique_count": 1,
          "nan_count": 0,
          "min": "-1.0",
          "max": "-1.0",
          "histogram": [
           {
            "bin_start": -1.5,
            "bin_end": -1.4,
            "count": 0
           },
           {
            "bin_start": -1.4,
            "bin_end": -1.3,
            "count": 0
           },
           {
            "bin_start": -1.3,
            "bin_end": -1.2,
            "count": 0
           },
           {
            "bin_start": -1.2,
            "bin_end": -1.1,
            "count": 0
           },
           {
            "bin_start": -1.1,
            "bin_end": -1,
            "count": 0
           },
           {
            "bin_start": -1,
            "bin_end": -0.8999999999999999,
            "count": 5
           },
           {
            "bin_start": -0.8999999999999999,
            "bin_end": -0.7999999999999999,
            "count": 0
           },
           {
            "bin_start": -0.7999999999999999,
            "bin_end": -0.7,
            "count": 0
           },
           {
            "bin_start": -0.7,
            "bin_end": -0.6,
            "count": 0
           },
           {
            "bin_start": -0.6,
            "bin_end": -0.5,
            "count": 0
           }
          ]
         }
        },
        {
         "name": "_deepnote_index_column",
         "dtype": "int64"
        }
       ],
       "rows_top": [
        {
         "date": "05.01.2013",
         "date_block_num": 0,
         "shop_id": 25,
         "item_id": 2552,
         "item_price": 899,
         "item_cnt_day": -1,
         "_deepnote_index_column": 2
        },
        {
         "date": "23.01.2013",
         "date_block_num": 0,
         "shop_id": 25,
         "item_id": 2321,
         "item_price": 999,
         "item_cnt_day": -1,
         "_deepnote_index_column": 148
        },
        {
         "date": "07.01.2013",
         "date_block_num": 0,
         "shop_id": 25,
         "item_id": 2199,
         "item_price": 1449,
         "item_cnt_day": -1,
         "_deepnote_index_column": 175
        },
        {
         "date": "02.01.2013",
         "date_block_num": 0,
         "shop_id": 25,
         "item_id": 2330,
         "item_price": 599,
         "item_cnt_day": -1,
         "_deepnote_index_column": 807
        },
        {
         "date": "13.01.2013",
         "date_block_num": 0,
         "shop_id": 25,
         "item_id": 5034,
         "item_price": 1989,
         "item_cnt_day": -1,
         "_deepnote_index_column": 1041
        }
       ],
       "rows_bottom": null
      },
      "text/plain": "            date  date_block_num  shop_id  item_id  item_price  item_cnt_day\n2     05.01.2013               0       25     2552       899.0          -1.0\n148   23.01.2013               0       25     2321       999.0          -1.0\n175   07.01.2013               0       25     2199      1449.0          -1.0\n807   02.01.2013               0       25     2330       599.0          -1.0\n1041  13.01.2013               0       25     5034      1989.0          -1.0",
      "text/html": "<div>\n<style scoped>\n    .dataframe tbody tr th:only-of-type {\n        vertical-align: middle;\n    }\n\n    .dataframe tbody tr th {\n        vertical-align: top;\n    }\n\n    .dataframe thead th {\n        text-align: right;\n    }\n</style>\n<table border=\"1\" class=\"dataframe\">\n  <thead>\n    <tr style=\"text-align: right;\">\n      <th></th>\n      <th>date</th>\n      <th>date_block_num</th>\n      <th>shop_id</th>\n      <th>item_id</th>\n      <th>item_price</th>\n      <th>item_cnt_day</th>\n    </tr>\n  </thead>\n  <tbody>\n    <tr>\n      <th>2</th>\n      <td>05.01.2013</td>\n      <td>0</td>\n      <td>25</td>\n      <td>2552</td>\n      <td>899.0</td>\n      <td>-1.0</td>\n    </tr>\n    <tr>\n      <th>148</th>\n      <td>23.01.2013</td>\n      <td>0</td>\n      <td>25</td>\n      <td>2321</td>\n      <td>999.0</td>\n      <td>-1.0</td>\n    </tr>\n    <tr>\n      <th>175</th>\n      <td>07.01.2013</td>\n      <td>0</td>\n      <td>25</td>\n      <td>2199</td>\n      <td>1449.0</td>\n      <td>-1.0</td>\n    </tr>\n    <tr>\n      <th>807</th>\n      <td>02.01.2013</td>\n      <td>0</td>\n      <td>25</td>\n      <td>2330</td>\n      <td>599.0</td>\n      <td>-1.0</td>\n    </tr>\n    <tr>\n      <th>1041</th>\n      <td>13.01.2013</td>\n      <td>0</td>\n      <td>25</td>\n      <td>5034</td>\n      <td>1989.0</td>\n      <td>-1.0</td>\n    </tr>\n  </tbody>\n</table>\n</div>"
     },
     "metadata": {}
    }
   ],
   "execution_count": 56
  },
  {
   "cell_type": "code",
   "source": "full = df_train.shape[0]\nref = df_train_1.shape[0]\npercentage_refunds = round(ref / full, 5)\nprint(\"% of refunds:\", percentage_refunds * 100, '%')",
   "metadata": {
    "tags": [],
    "cell_id": "00025-d40895a2-0c03-4041-a5ab-02942cb29926",
    "deepnote_to_be_reexecuted": false,
    "source_hash": "59e38306",
    "execution_start": 1620737607366,
    "execution_millis": 1,
    "deepnote_cell_type": "code"
   },
   "outputs": [
    {
     "name": "stdout",
     "text": "% of refunds: 0.251 %\n",
     "output_type": "stream"
    }
   ],
   "execution_count": 75
  },
  {
   "cell_type": "code",
   "source": "# venn2(subsets = (30, 10, 5), set_labels = ('Group A', 'Group B'), set_colors=('purple', 'skyblue'), alpha = 0.7)\n\nvenn2([set((df_train.shop_id.astype(str) + df_train.item_id.astype(str)).unique()),\n       set((df_test.shop_id.astype(str)  + df_test.item_id.astype(str)).unique())],\n      set_labels = ('Train', 'Test'), set_colors=('darkcyan', 'goldenrod'), alpha = 0.7)\nplt.show()",
   "metadata": {
    "tags": [],
    "cell_id": "00024-6648964e-951a-4108-9a13-c85fa5bd8840",
    "deepnote_to_be_reexecuted": false,
    "source_hash": "258f84e",
    "execution_start": 1620735908557,
    "execution_millis": 5195,
    "deepnote_cell_type": "code"
   },
   "outputs": [
    {
     "data": {
      "text/plain": "<Figure size 432x288 with 1 Axes>",
      "image/png": "[encoded data removed]"
     },
     "metadata": {
      "image/png": {
       "width": 284,
       "height": 234
      }
     },
     "output_type": "display_data"
    }
   ],
   "execution_count": 41
  },
  {
   "cell_type": "code",
   "source": "venn2([set(df_train.item_id.unique()), set(df_test.item_id.unique())],\n      set_labels = ('Train items', 'Test items'), set_colors=('darkcyan', 'goldenrod'), alpha = 0.7)\nplt.show()",
   "metadata": {
    "tags": [],
    "cell_id": "00024-162d946e-2697-42ba-acfb-5191ea4b4a25",
    "deepnote_to_be_reexecuted": false,
    "source_hash": "f2858de2",
    "execution_start": 1620736529714,
    "execution_millis": 172,
    "deepnote_cell_type": "code"
   },
   "outputs": [
    {
     "data": {
      "text/plain": "<Figure size 432x288 with 1 Axes>",
      "image/png": "[encoded data removed]"
     },
     "metadata": {
      "image/png": {
       "width": 241,
       "height": 235
      }
     },
     "output_type": "display_data"
    }
   ],
   "execution_count": 49
  },
  {
   "cell_type": "markdown",
   "source": "## October x November",
   "metadata": {
    "tags": [],
    "cell_id": "00028-8ab48ea8-e63a-4f73-9481-4db19a9ae430",
    "deepnote_cell_type": "markdown"
   }
  },
  {
   "cell_type": "code",
   "source": "sep_2015 = df_train[df_train.date_block_num==32]\noct_2015 = df_train[df_train.date_block_num==33]\n\noct15_item_shop = oct_2015.groupby([\"shop_id\", \"item_id\"])[\"item_cnt_day\"].sum().reset_index()\n",
   "metadata": {
    "tags": [],
    "cell_id": "00029-c56a6f31-4695-4f65-b2e7-94300183cf8f",
    "deepnote_to_be_reexecuted": false,
    "source_hash": "8086959c",
    "execution_start": 1620736475005,
    "execution_millis": 55,
    "deepnote_cell_type": "code"
   },
   "outputs": [],
   "execution_count": 46
  },
  {
   "cell_type": "code",
   "source": "venn2([set(oct_2015.item_id.unique()),\n       set(df_test.item_id.unique())],\n      set_labels = ('Items oct', 'Items nov'), set_colors=('darkcyan', 'goldenrod'), alpha = 0.7)\nplt.show()",
   "metadata": {
    "tags": [],
    "cell_id": "00029-5f9d3f94-bff7-437c-9f05-9d81eb312ea5",
    "deepnote_to_be_reexecuted": false,
    "source_hash": "1fd30d7e",
    "execution_start": 1620736535202,
    "execution_millis": 129,
    "deepnote_cell_type": "code"
   },
   "outputs": [
    {
     "data": {
      "text/plain": "<Figure size 432x288 with 1 Axes>",
      "image/png": "[encoded data removed]"
     },
     "metadata": {
      "image/png": {
       "width": 263,
       "height": 236
      }
     },
     "output_type": "display_data"
    }
   ],
   "execution_count": 50
  },
  {
   "cell_type": "code",
   "source": "venn3([set(sep_2015.item_id.unique()),\n       set(oct_2015.item_id.unique()),\n       set(df_test.item_id.unique())],\n      set_labels = ('Items sep', 'Items oct', 'Items nov'), set_colors=('darkcyan', 'goldenrod', 'orchid'), alpha = 0.7)\nplt.show()",
   "metadata": {
    "tags": [],
    "cell_id": "00030-72f2a832-2200-4a18-916d-76b479e35a1a",
    "deepnote_to_be_reexecuted": false,
    "source_hash": "529f99fd",
    "execution_start": 1620736659290,
    "execution_millis": 130,
    "deepnote_cell_type": "code"
   },
   "outputs": [
    {
     "data": {
      "text/plain": "<Figure size 432x288 with 1 Axes>",
      "image/png": "[encoded data removed]"
     },
     "metadata": {
      "image/png": {
       "width": 235,
       "height": 236
      }
     },
     "output_type": "display_data"
    }
   ],
   "execution_count": 54
  },
  {
   "cell_type": "markdown",
   "source": "---\n\n## Get only sales of october 2015 ",
   "metadata": {
    "cell_id": "00017-f7f5b0d7-6773-4ffd-86ea-33388d00815d",
    "deepnote_cell_type": "markdown"
   }
  },
  {
   "cell_type": "code",
   "metadata": {
    "cell_id": "00018-f77bf831-9069-4697-adbe-e19b1c1e1951",
    "deepnote_to_be_reexecuted": false,
    "source_hash": "464d6320",
    "execution_start": 1620730622365,
    "execution_millis": 61,
    "deepnote_cell_type": "code"
   },
   "source": "oct2015 = df_train[df_train.date_block_num==33]\noct2015",
   "execution_count": null,
   "outputs": [
    {
     "output_type": "execute_result",
     "execution_count": 20,
     "data": {
      "application/vnd.deepnote.dataframe.v2+json": {
       "row_count": 53514,
       "column_count": 6,
       "columns": [
        {
         "name": "date",
         "dtype": "object",
         "stats": {
          "unique_count": 31,
          "nan_count": 0,
          "categories": [
           {
            "name": "03.10.2015",
            "count": 2871
           },
           {
            "name": "31.10.2015",
            "count": 2579
           },
           {
            "name": "29 others",
            "count": 48064
           }
          ]
         }
        },
        {
         "name": "date_block_num",
         "dtype": "int64"
        },
        {
         "name": "shop_id",
         "dtype": "int64"
        },
        {
         "name": "item_id",
         "dtype": "int64"
        },
        {
         "name": "item_price",
         "dtype": "float64"
        },
        {
         "name": "item_cnt_day",
         "dtype": "float64"
        },
        {
         "name": "_deepnote_index_column",
         "dtype": "int64"
        }
       ],
       "rows_top": [
        {
         "date": "23.10.2015",
         "date_block_num": 33,
         "shop_id": 45,
         "item_id": 13315,
         "item_price": 649,
         "item_cnt_day": 1,
         "_deepnote_index_column": 2882335
        },
        {
         "date": "05.10.2015",
         "date_block_num": 33,
         "shop_id": 45,
         "item_id": 13880,
         "item_price": 229,
         "item_cnt_day": 1,
         "_deepnote_index_column": 2882336
        },
        {
         "date": "02.10.2015",
         "date_block_num": 33,
         "shop_id": 45,
         "item_id": 13881,
         "item_price": 659,
         "item_cnt_day": 1,
         "_deepnote_index_column": 2882337
        },
        {
         "date": "12.10.2015",
         "date_block_num": 33,
         "shop_id": 45,
         "item_id": 13881,
         "item_price": 659,
         "item_cnt_day": 1,
         "_deepnote_index_column": 2882338
        },
        {
         "date": "04.10.2015",
         "date_block_num": 33,
         "shop_id": 45,
         "item_id": 13923,
         "item_price": 169,
         "item_cnt_day": 1,
         "_deepnote_index_column": 2882339
        },
        {
         "date": "31.10.2015",
         "date_block_num": 33,
         "shop_id": 45,
         "item_id": 14227,
         "item_price": 99,
         "item_cnt_day": 1,
         "_deepnote_index_column": 2882340
        },
        {
         "date": "12.10.2015",
         "date_block_num": 33,
         "shop_id": 45,
         "item_id": 14931,
         "item_price": 799,
         "item_cnt_day": 1,
         "_deepnote_index_column": 2882341
        },
        {
         "date": "05.10.2015",
         "date_block_num": 33,
         "shop_id": 45,
         "item_id": 14101,
         "item_price": 449,
         "item_cnt_day": 1,
         "_deepnote_index_column": 2882342
        },
        {
         "date": "20.10.2015",
         "date_block_num": 33,
         "shop_id": 45,
         "item_id": 14957,
         "item_price": 299,
         "item_cnt_day": 1,
         "_deepnote_index_column": 2882343
        },
        {
         "date": "05.10.2015",
         "date_block_num": 33,
         "shop_id": 45,
         "item_id": 14102,
         "item_price": 749,
         "item_cnt_day": 1,
         "_deepnote_index_column": 2882344
        },
        {
         "date": "16.10.2015",
         "date_block_num": 33,
         "shop_id": 45,
         "item_id": 14957,
         "item_price": 299,
         "item_cnt_day": 1,
         "_deepnote_index_column": 2882345
        },
        {
         "date": "30.10.2015",
         "date_block_num": 33,
         "shop_id": 45,
         "item_id": 14127,
         "item_price": 649,
         "item_cnt_day": 1,
         "_deepnote_index_column": 2882346
        },
        {
         "date": "02.10.2015",
         "date_block_num": 33,
         "shop_id": 45,
         "item_id": 14931,
         "item_price": 799,
         "item_cnt_day": 1,
         "_deepnote_index_column": 2882347
        },
        {
         "date": "09.10.2015",
         "date_block_num": 33,
         "shop_id": 45,
         "item_id": 14931,
         "item_price": 799,
         "item_cnt_day": 1,
         "_deepnote_index_column": 2882348
        },
        {
         "date": "24.10.2015",
         "date_block_num": 33,
         "shop_id": 45,
         "item_id": 14956,
         "item_price": 299,
         "item_cnt_day": 1,
         "_deepnote_index_column": 2882349
        },
        {
         "date": "17.10.2015",
         "date_block_num": 33,
         "shop_id": 45,
         "item_id": 14228,
         "item_price": 99,
         "item_cnt_day": 1,
         "_deepnote_index_column": 2882350
        },
        {
         "date": "02.10.2015",
         "date_block_num": 33,
         "shop_id": 45,
         "item_id": 13827,
         "item_price": 169,
         "item_cnt_day": 1,
         "_deepnote_index_column": 2882351
        },
        {
         "date": "24.10.2015",
         "date_block_num": 33,
         "shop_id": 45,
         "item_id": 12809,
         "item_price": 99,
         "item_cnt_day": 1,
         "_deepnote_index_column": 2882352
        },
        {
         "date": "14.10.2015",
         "date_block_num": 33,
         "shop_id": 45,
         "item_id": 12981,
         "item_price": 349,
         "item_cnt_day": 1,
         "_deepnote_index_column": 2882353
        },
        {
         "date": "23.10.2015",
         "date_block_num": 33,
         "shop_id": 45,
         "item_id": 12730,
         "item_price": 1490,
         "item_cnt_day": 1,
         "_deepnote_index_column": 2882354
        },
        {
         "date": "05.10.2015",
         "date_block_num": 33,
         "shop_id": 45,
         "item_id": 13340,
         "item_price": 359,
         "item_cnt_day": 1,
         "_deepnote_index_column": 2882355
        },
        {
         "date": "21.10.2015",
         "date_block_num": 33,
         "shop_id": 45,
         "item_id": 13406,
         "item_price": 22399,
         "item_cnt_day": 1,
         "_deepnote_index_column": 2882356
        },
        {
         "date": "05.10.2015",
         "date_block_num": 33,
         "shop_id": 45,
         "item_id": 13339,
         "item_price": 359,
         "item_cnt_day": 1,
         "_deepnote_index_column": 2882357
        },
        {
         "date": "24.10.2015",
         "date_block_num": 33,
         "shop_id": 45,
         "item_id": 13464,
         "item_price": 1699,
         "item_cnt_day": 1,
         "_deepnote_index_column": 2882358
        },
        {
         "date": "23.10.2015",
         "date_block_num": 33,
         "shop_id": 45,
         "item_id": 13334,
         "item_price": 359,
         "item_cnt_day": 1,
         "_deepnote_index_column": 2882359
        },
        {
         "date": "20.10.2015",
         "date_block_num": 33,
         "shop_id": 45,
         "item_id": 14958,
         "item_price": 299,
         "item_cnt_day": 1,
         "_deepnote_index_column": 2882360
        },
        {
         "date": "21.10.2015",
         "date_block_num": 33,
         "shop_id": 45,
         "item_id": 13334,
         "item_price": 359,
         "item_cnt_day": 1,
         "_deepnote_index_column": 2882361
        },
        {
         "date": "10.10.2015",
         "date_block_num": 33,
         "shop_id": 45,
         "item_id": 13331,
         "item_price": 399,
         "item_cnt_day": 1,
         "_deepnote_index_column": 2882362
        },
        {
         "date": "02.10.2015",
         "date_block_num": 33,
         "shop_id": 45,
         "item_id": 13505,
         "item_price": 1099,
         "item_cnt_day": 1,
         "_deepnote_index_column": 2882363
        },
        {
         "date": "18.10.2015",
         "date_block_num": 33,
         "shop_id": 45,
         "item_id": 13824,
         "item_price": 169,
         "item_cnt_day": 1,
         "_deepnote_index_column": 2882364
        },
        {
         "date": "05.10.2015",
         "date_block_num": 33,
         "shop_id": 45,
         "item_id": 13505,
         "item_price": 1099,
         "item_cnt_day": 1,
         "_deepnote_index_column": 2882365
        },
        {
         "date": "18.10.2015",
         "date_block_num": 33,
         "shop_id": 45,
         "item_id": 13505,
         "item_price": 1099,
         "item_cnt_day": 1,
         "_deepnote_index_column": 2882366
        },
        {
         "date": "03.10.2015",
         "date_block_num": 33,
         "shop_id": 45,
         "item_id": 13409,
         "item_price": 1999,
         "item_cnt_day": 1,
         "_deepnote_index_column": 2882367
        },
        {
         "date": "02.10.2015",
         "date_block_num": 33,
         "shop_id": 45,
         "item_id": 13411,
         "item_price": 3490,
         "item_cnt_day": 1,
         "_deepnote_index_column": 2882368
        },
        {
         "date": "24.10.2015",
         "date_block_num": 33,
         "shop_id": 45,
         "item_id": 13422,
         "item_price": 8198,
         "item_cnt_day": 1,
         "_deepnote_index_column": 2882369
        },
        {
         "date": "15.10.2015",
         "date_block_num": 33,
         "shop_id": 45,
         "item_id": 13440,
         "item_price": 25392,
         "item_cnt_day": 1,
         "_deepnote_index_column": 2882370
        },
        {
         "date": "20.10.2015",
         "date_block_num": 33,
         "shop_id": 45,
         "item_id": 12851,
         "item_price": 299,
         "item_cnt_day": 1,
         "_deepnote_index_column": 2882371
        },
        {
         "date": "09.10.2015",
         "date_block_num": 33,
         "shop_id": 45,
         "item_id": 12871,
         "item_price": 299,
         "item_cnt_day": 1,
         "_deepnote_index_column": 2882372
        },
        {
         "date": "16.10.2015",
         "date_block_num": 33,
         "shop_id": 45,
         "item_id": 12881,
         "item_price": 399,
         "item_cnt_day": 1,
         "_deepnote_index_column": 2882373
        },
        {
         "date": "24.10.2015",
         "date_block_num": 33,
         "shop_id": 45,
         "item_id": 13634,
         "item_price": 999,
         "item_cnt_day": 1,
         "_deepnote_index_column": 2882374
        },
        {
         "date": "08.10.2015",
         "date_block_num": 33,
         "shop_id": 45,
         "item_id": 13716,
         "item_price": 229,
         "item_cnt_day": 1,
         "_deepnote_index_column": 2882375
        },
        {
         "date": "11.10.2015",
         "date_block_num": 33,
         "shop_id": 45,
         "item_id": 13505,
         "item_price": 1099,
         "item_cnt_day": 1,
         "_deepnote_index_column": 2882376
        },
        {
         "date": "23.10.2015",
         "date_block_num": 33,
         "shop_id": 45,
         "item_id": 14958,
         "item_price": 299,
         "item_cnt_day": 1,
         "_deepnote_index_column": 2882377
        },
        {
         "date": "23.10.2015",
         "date_block_num": 33,
         "shop_id": 45,
         "item_id": 15239,
         "item_price": 499,
         "item_cnt_day": 1,
         "_deepnote_index_column": 2882378
        },
        {
         "date": "08.10.2015",
         "date_block_num": 33,
         "shop_id": 45,
         "item_id": 14500,
         "item_price": 199,
         "item_cnt_day": 1,
         "_deepnote_index_column": 2882379
        },
        {
         "date": "03.10.2015",
         "date_block_num": 33,
         "shop_id": 45,
         "item_id": 15257,
         "item_price": 399,
         "item_cnt_day": 1,
         "_deepnote_index_column": 2882380
        },
        {
         "date": "12.10.2015",
         "date_block_num": 33,
         "shop_id": 45,
         "item_id": 15257,
         "item_price": 399,
         "item_cnt_day": 1,
         "_deepnote_index_column": 2882381
        },
        {
         "date": "16.10.2015",
         "date_block_num": 33,
         "shop_id": 45,
         "item_id": 15262,
         "item_price": 599,
         "item_cnt_day": 1,
         "_deepnote_index_column": 2882382
        },
        {
         "date": "14.10.2015",
         "date_block_num": 33,
         "shop_id": 45,
         "item_id": 15278,
         "item_price": 1099,
         "item_cnt_day": 1,
         "_deepnote_index_column": 2882383
        },
        {
         "date": "16.10.2015",
         "date_block_num": 33,
         "shop_id": 45,
         "item_id": 15279,
         "item_price": 1099,
         "item_cnt_day": 1,
         "_deepnote_index_column": 2882384
        },
        {
         "date": "04.10.2015",
         "date_block_num": 33,
         "shop_id": 45,
         "item_id": 15281,
         "item_price": 1099,
         "item_cnt_day": 1,
         "_deepnote_index_column": 2882385
        },
        {
         "date": "04.10.2015",
         "date_block_num": 33,
         "shop_id": 45,
         "item_id": 15287,
         "item_price": 1099,
         "item_cnt_day": 1,
         "_deepnote_index_column": 2882386
        },
        {
         "date": "23.10.2015",
         "date_block_num": 33,
         "shop_id": 45,
         "item_id": 15287,
         "item_price": 1099,
         "item_cnt_day": 1,
         "_deepnote_index_column": 2882387
        },
        {
         "date": "16.10.2015",
         "date_block_num": 33,
         "shop_id": 45,
         "item_id": 15294,
         "item_price": 1099,
         "item_cnt_day": 1,
         "_deepnote_index_column": 2882388
        },
        {
         "date": "10.10.2015",
         "date_block_num": 33,
         "shop_id": 45,
         "item_id": 15302,
         "item_price": 889,
         "item_cnt_day": 1,
         "_deepnote_index_column": 2882389
        },
        {
         "date": "10.10.2015",
         "date_block_num": 33,
         "shop_id": 45,
         "item_id": 15303,
         "item_price": 959,
         "item_cnt_day": 1,
         "_deepnote_index_column": 2882390
        },
        {
         "date": "16.10.2015",
         "date_block_num": 33,
         "shop_id": 45,
         "item_id": 15348,
         "item_price": 1669,
         "item_cnt_day": 1,
         "_deepnote_index_column": 2882391
        },
        {
         "date": "11.10.2015",
         "date_block_num": 33,
         "shop_id": 45,
         "item_id": 13302,
         "item_price": 559,
         "item_cnt_day": 1,
         "_deepnote_index_column": 2882392
        },
        {
         "date": "09.10.2015",
         "date_block_num": 33,
         "shop_id": 45,
         "item_id": 16059,
         "item_price": 499,
         "item_cnt_day": 1,
         "_deepnote_index_column": 2882393
        },
        {
         "date": "12.10.2015",
         "date_block_num": 33,
         "shop_id": 45,
         "item_id": 15395,
         "item_price": 699,
         "item_cnt_day": 1,
         "_deepnote_index_column": 2882394
        },
        {
         "date": "16.10.2015",
         "date_block_num": 33,
         "shop_id": 45,
         "item_id": 15397,
         "item_price": 1569,
         "item_cnt_day": 1,
         "_deepnote_index_column": 2882395
        },
        {
         "date": "01.10.2015",
         "date_block_num": 33,
         "shop_id": 45,
         "item_id": 15410,
         "item_price": 1139,
         "item_cnt_day": 1,
         "_deepnote_index_column": 2882396
        },
        {
         "date": "11.10.2015",
         "date_block_num": 33,
         "shop_id": 45,
         "item_id": 16076,
         "item_price": 999,
         "item_cnt_day": 1,
         "_deepnote_index_column": 2882397
        },
        {
         "date": "01.10.2015",
         "date_block_num": 33,
         "shop_id": 45,
         "item_id": 16069,
         "item_price": 799,
         "item_cnt_day": 1,
         "_deepnote_index_column": 2882398
        },
        {
         "date": "02.10.2015",
         "date_block_num": 33,
         "shop_id": 45,
         "item_id": 16009,
         "item_price": 1499,
         "item_cnt_day": 1,
         "_deepnote_index_column": 2882399
        },
        {
         "date": "18.10.2015",
         "date_block_num": 33,
         "shop_id": 45,
         "item_id": 16003,
         "item_price": 1499,
         "item_cnt_day": 1,
         "_deepnote_index_column": 2882400
        },
        {
         "date": "27.10.2015",
         "date_block_num": 33,
         "shop_id": 45,
         "item_id": 15256,
         "item_price": 399,
         "item_cnt_day": 1,
         "_deepnote_index_column": 2882401
        },
        {
         "date": "24.10.2015",
         "date_block_num": 33,
         "shop_id": 45,
         "item_id": 14479,
         "item_price": 399,
         "item_cnt_day": 1,
         "_deepnote_index_column": 2882402
        },
        {
         "date": "17.10.2015",
         "date_block_num": 33,
         "shop_id": 45,
         "item_id": 15256,
         "item_price": 399,
         "item_cnt_day": 1,
         "_deepnote_index_column": 2882403
        },
        {
         "date": "03.10.2015",
         "date_block_num": 33,
         "shop_id": 45,
         "item_id": 15256,
         "item_price": 399,
         "item_cnt_day": 1,
         "_deepnote_index_column": 2882404
        },
        {
         "date": "03.10.2015",
         "date_block_num": 33,
         "shop_id": 45,
         "item_id": 14552,
         "item_price": 99,
         "item_cnt_day": 1,
         "_deepnote_index_column": 2882405
        },
        {
         "date": "08.10.2015",
         "date_block_num": 33,
         "shop_id": 45,
         "item_id": 15040,
         "item_price": 599,
         "item_cnt_day": 1,
         "_deepnote_index_column": 2882406
        },
        {
         "date": "03.10.2015",
         "date_block_num": 33,
         "shop_id": 45,
         "item_id": 15045,
         "item_price": 699,
         "item_cnt_day": 1,
         "_deepnote_index_column": 2882407
        },
        {
         "date": "02.10.2015",
         "date_block_num": 33,
         "shop_id": 45,
         "item_id": 15047,
         "item_price": 1499,
         "item_cnt_day": 1,
         "_deepnote_index_column": 2882408
        },
        {
         "date": "02.10.2015",
         "date_block_num": 33,
         "shop_id": 45,
         "item_id": 15049,
         "item_price": 1499,
         "item_cnt_day": 1,
         "_deepnote_index_column": 2882409
        },
        {
         "date": "29.10.2015",
         "date_block_num": 33,
         "shop_id": 45,
         "item_id": 15066,
         "item_price": 799,
         "item_cnt_day": 1,
         "_deepnote_index_column": 2882410
        },
        {
         "date": "07.10.2015",
         "date_block_num": 33,
         "shop_id": 45,
         "item_id": 15067,
         "item_price": 5499,
         "item_cnt_day": 1,
         "_deepnote_index_column": 2882411
        },
        {
         "date": "02.10.2015",
         "date_block_num": 33,
         "shop_id": 45,
         "item_id": 15069,
         "item_price": 2499,
         "item_cnt_day": 2,
         "_deepnote_index_column": 2882412
        },
        {
         "date": "03.10.2015",
         "date_block_num": 33,
         "shop_id": 45,
         "item_id": 15069,
         "item_price": 2499,
         "item_cnt_day": 1,
         "_deepnote_index_column": 2882413
        },
        {
         "date": "22.10.2015",
         "date_block_num": 33,
         "shop_id": 45,
         "item_id": 15069,
         "item_price": 2499,
         "item_cnt_day": 1,
         "_deepnote_index_column": 2882414
        },
        {
         "date": "11.10.2015",
         "date_block_num": 33,
         "shop_id": 45,
         "item_id": 14736,
         "item_price": 399,
         "item_cnt_day": 1,
         "_deepnote_index_column": 2882415
        },
        {
         "date": "02.10.2015",
         "date_block_num": 33,
         "shop_id": 45,
         "item_id": 14801,
         "item_price": 449,
         "item_cnt_day": 1,
         "_deepnote_index_column": 2882416
        },
        {
         "date": "08.10.2015",
         "date_block_num": 33,
         "shop_id": 45,
         "item_id": 14802,
         "item_price": 1499,
         "item_cnt_day": 1,
         "_deepnote_index_column": 2882417
        }
       ],
       "rows_bottom": [
        {
         "date": "07.10.2015",
         "date_block_num": 33,
         "shop_id": 25,
         "item_id": 7223,
         "item_price": 3999,
         "item_cnt_day": 35,
         "_deepnote_index_column": 2935766
        },
        {
         "date": "10.10.2015",
         "date_block_num": 33,
         "shop_id": 25,
         "item_id": 7220,
         "item_price": 1299,
         "item_cnt_day": 1,
         "_deepnote_index_column": 2935767
        },
        {
         "date": "08.10.2015",
         "date_block_num": 33,
         "shop_id": 25,
         "item_id": 7220,
         "item_price": 1299,
         "item_cnt_day": 1,
         "_deepnote_index_column": 2935768
        },
        {
         "date": "31.10.2015",
         "date_block_num": 33,
         "shop_id": 25,
         "item_id": 7215,
         "item_price": 1199,
         "item_cnt_day": 1,
         "_deepnote_index_column": 2935769
        },
        {
         "date": "12.10.2015",
         "date_block_num": 33,
         "shop_id": 25,
         "item_id": 7071,
         "item_price": 999,
         "item_cnt_day": 2,
         "_deepnote_index_column": 2935770
        },
        {
         "date": "18.10.2015",
         "date_block_num": 33,
         "shop_id": 25,
         "item_id": 7071,
         "item_price": 999,
         "item_cnt_day": 1,
         "_deepnote_index_column": 2935771
        },
        {
         "date": "10.10.2015",
         "date_block_num": 33,
         "shop_id": 25,
         "item_id": 7793,
         "item_price": 1799,
         "item_cnt_day": 1,
         "_deepnote_index_column": 2935772
        },
        {
         "date": "03.10.2015",
         "date_block_num": 33,
         "shop_id": 25,
         "item_id": 7018,
         "item_price": 999,
         "item_cnt_day": 1,
         "_deepnote_index_column": 2935773
        },
        {
         "date": "24.10.2015",
         "date_block_num": 33,
         "shop_id": 25,
         "item_id": 7003,
         "item_price": 299,
         "item_cnt_day": 1,
         "_deepnote_index_column": 2935774
        },
        {
         "date": "04.10.2015",
         "date_block_num": 33,
         "shop_id": 25,
         "item_id": 7075,
         "item_price": 1499,
         "item_cnt_day": 1,
         "_deepnote_index_column": 2935775
        },
        {
         "date": "05.10.2015",
         "date_block_num": 33,
         "shop_id": 25,
         "item_id": 7075,
         "item_price": 1499,
         "item_cnt_day": 1,
         "_deepnote_index_column": 2935776
        },
        {
         "date": "16.10.2015",
         "date_block_num": 33,
         "shop_id": 25,
         "item_id": 7075,
         "item_price": 1499,
         "item_cnt_day": 1,
         "_deepnote_index_column": 2935777
        },
        {
         "date": "23.10.2015",
         "date_block_num": 33,
         "shop_id": 25,
         "item_id": 7075,
         "item_price": 1499,
         "item_cnt_day": 1,
         "_deepnote_index_column": 2935778
        },
        {
         "date": "07.10.2015",
         "date_block_num": 33,
         "shop_id": 25,
         "item_id": 7087,
         "item_price": 999,
         "item_cnt_day": -1,
         "_deepnote_index_column": 2935779
        },
        {
         "date": "31.10.2015",
         "date_block_num": 33,
         "shop_id": 25,
         "item_id": 7087,
         "item_price": 699,
         "item_cnt_day": 1,
         "_deepnote_index_column": 2935780
        },
        {
         "date": "29.10.2015",
         "date_block_num": 33,
         "shop_id": 25,
         "item_id": 7224,
         "item_price": 4499,
         "item_cnt_day": 1,
         "_deepnote_index_column": 2935781
        },
        {
         "date": "30.10.2015",
         "date_block_num": 33,
         "shop_id": 25,
         "item_id": 7134,
         "item_price": 3599,
         "item_cnt_day": 1,
         "_deepnote_index_column": 2935782
        },
        {
         "date": "09.10.2015",
         "date_block_num": 33,
         "shop_id": 25,
         "item_id": 7172,
         "item_price": 1499,
         "item_cnt_day": 1,
         "_deepnote_index_column": 2935783
        },
        {
         "date": "21.10.2015",
         "date_block_num": 33,
         "shop_id": 25,
         "item_id": 7172,
         "item_price": 1499,
         "item_cnt_day": 1,
         "_deepnote_index_column": 2935784
        },
        {
         "date": "30.10.2015",
         "date_block_num": 33,
         "shop_id": 25,
         "item_id": 7172,
         "item_price": 1499,
         "item_cnt_day": 1,
         "_deepnote_index_column": 2935785
        },
        {
         "date": "31.10.2015",
         "date_block_num": 33,
         "shop_id": 25,
         "item_id": 7172,
         "item_price": 1499,
         "item_cnt_day": 1,
         "_deepnote_index_column": 2935786
        },
        {
         "date": "02.10.2015",
         "date_block_num": 33,
         "shop_id": 25,
         "item_id": 7202,
         "item_price": 199,
         "item_cnt_day": 1,
         "_deepnote_index_column": 2935787
        },
        {
         "date": "04.10.2015",
         "date_block_num": 33,
         "shop_id": 25,
         "item_id": 7202,
         "item_price": 199,
         "item_cnt_day": 1,
         "_deepnote_index_column": 2935788
        },
        {
         "date": "06.10.2015",
         "date_block_num": 33,
         "shop_id": 25,
         "item_id": 7202,
         "item_price": 199,
         "item_cnt_day": 1,
         "_deepnote_index_column": 2935789
        },
        {
         "date": "10.10.2015",
         "date_block_num": 33,
         "shop_id": 25,
         "item_id": 7202,
         "item_price": 199,
         "item_cnt_day": 1,
         "_deepnote_index_column": 2935790
        },
        {
         "date": "31.10.2015",
         "date_block_num": 33,
         "shop_id": 25,
         "item_id": 7202,
         "item_price": 199,
         "item_cnt_day": 1,
         "_deepnote_index_column": 2935791
        },
        {
         "date": "18.10.2015",
         "date_block_num": 33,
         "shop_id": 25,
         "item_id": 7206,
         "item_price": 199,
         "item_cnt_day": 1,
         "_deepnote_index_column": 2935792
        },
        {
         "date": "17.10.2015",
         "date_block_num": 33,
         "shop_id": 25,
         "item_id": 7215,
         "item_price": 1199,
         "item_cnt_day": 1,
         "_deepnote_index_column": 2935793
        },
        {
         "date": "03.10.2015",
         "date_block_num": 33,
         "shop_id": 25,
         "item_id": 7172,
         "item_price": 1499,
         "item_cnt_day": 1,
         "_deepnote_index_column": 2935794
        },
        {
         "date": "26.10.2015",
         "date_block_num": 33,
         "shop_id": 25,
         "item_id": 7230,
         "item_price": 699,
         "item_cnt_day": 1,
         "_deepnote_index_column": 2935795
        },
        {
         "date": "10.10.2015",
         "date_block_num": 33,
         "shop_id": 25,
         "item_id": 7087,
         "item_price": 999,
         "item_cnt_day": 1,
         "_deepnote_index_column": 2935796
        },
        {
         "date": "01.10.2015",
         "date_block_num": 33,
         "shop_id": 25,
         "item_id": 7233,
         "item_price": 599,
         "item_cnt_day": 1,
         "_deepnote_index_column": 2935797
        },
        {
         "date": "26.10.2015",
         "date_block_num": 33,
         "shop_id": 25,
         "item_id": 7499,
         "item_price": 399,
         "item_cnt_day": 1,
         "_deepnote_index_column": 2935798
        },
        {
         "date": "13.10.2015",
         "date_block_num": 33,
         "shop_id": 25,
         "item_id": 7524,
         "item_price": 299,
         "item_cnt_day": 1,
         "_deepnote_index_column": 2935799
        },
        {
         "date": "08.10.2015",
         "date_block_num": 33,
         "shop_id": 25,
         "item_id": 7529,
         "item_price": 249,
         "item_cnt_day": 1,
         "_deepnote_index_column": 2935800
        },
        {
         "date": "29.10.2015",
         "date_block_num": 33,
         "shop_id": 25,
         "item_id": 7531,
         "item_price": 199,
         "item_cnt_day": 1,
         "_deepnote_index_column": 2935801
        },
        {
         "date": "19.10.2015",
         "date_block_num": 33,
         "shop_id": 25,
         "item_id": 7583,
         "item_price": 2150,
         "item_cnt_day": 1,
         "_deepnote_index_column": 2935802
        },
        {
         "date": "22.10.2015",
         "date_block_num": 33,
         "shop_id": 25,
         "item_id": 7590,
         "item_price": 1625,
         "item_cnt_day": 1,
         "_deepnote_index_column": 2935803
        },
        {
         "date": "29.10.2015",
         "date_block_num": 33,
         "shop_id": 25,
         "item_id": 7610,
         "item_price": 2890,
         "item_cnt_day": 1,
         "_deepnote_index_column": 2935804
        },
        {
         "date": "19.10.2015",
         "date_block_num": 33,
         "shop_id": 25,
         "item_id": 7612,
         "item_price": 250,
         "item_cnt_day": 1,
         "_deepnote_index_column": 2935805
        },
        {
         "date": "11.10.2015",
         "date_block_num": 33,
         "shop_id": 25,
         "item_id": 7615,
         "item_price": 250,
         "item_cnt_day": 1,
         "_deepnote_index_column": 2935806
        },
        {
         "date": "11.10.2015",
         "date_block_num": 33,
         "shop_id": 25,
         "item_id": 7624,
         "item_price": 250,
         "item_cnt_day": 1,
         "_deepnote_index_column": 2935807
        },
        {
         "date": "19.10.2015",
         "date_block_num": 33,
         "shop_id": 25,
         "item_id": 7627,
         "item_price": 349,
         "item_cnt_day": 1,
         "_deepnote_index_column": 2935808
        },
        {
         "date": "26.10.2015",
         "date_block_num": 33,
         "shop_id": 25,
         "item_id": 7493,
         "item_price": 349,
         "item_cnt_day": 1,
         "_deepnote_index_column": 2935809
        },
        {
         "date": "16.10.2015",
         "date_block_num": 33,
         "shop_id": 25,
         "item_id": 7628,
         "item_price": 250,
         "item_cnt_day": 1,
         "_deepnote_index_column": 2935810
        },
        {
         "date": "22.10.2015",
         "date_block_num": 33,
         "shop_id": 25,
         "item_id": 7635,
         "item_price": 2100,
         "item_cnt_day": 1,
         "_deepnote_index_column": 2935811
        },
        {
         "date": "30.10.2015",
         "date_block_num": 33,
         "shop_id": 25,
         "item_id": 7638,
         "item_price": 1890,
         "item_cnt_day": 1,
         "_deepnote_index_column": 2935812
        },
        {
         "date": "01.10.2015",
         "date_block_num": 33,
         "shop_id": 25,
         "item_id": 7640,
         "item_price": 4040,
         "item_cnt_day": 1,
         "_deepnote_index_column": 2935813
        },
        {
         "date": "05.10.2015",
         "date_block_num": 33,
         "shop_id": 25,
         "item_id": 7780,
         "item_price": 248,
         "item_cnt_day": 1,
         "_deepnote_index_column": 2935814
        },
        {
         "date": "24.10.2015",
         "date_block_num": 33,
         "shop_id": 25,
         "item_id": 7231,
         "item_price": 999,
         "item_cnt_day": 1,
         "_deepnote_index_column": 2935815
        },
        {
         "date": "19.10.2015",
         "date_block_num": 33,
         "shop_id": 25,
         "item_id": 7780,
         "item_price": 248,
         "item_cnt_day": 1,
         "_deepnote_index_column": 2935816
        },
        {
         "date": "23.10.2015",
         "date_block_num": 33,
         "shop_id": 25,
         "item_id": 7780,
         "item_price": 248,
         "item_cnt_day": 2,
         "_deepnote_index_column": 2935817
        },
        {
         "date": "31.10.2015",
         "date_block_num": 33,
         "shop_id": 25,
         "item_id": 7780,
         "item_price": 198,
         "item_cnt_day": 1,
         "_deepnote_index_column": 2935818
        },
        {
         "date": "16.10.2015",
         "date_block_num": 33,
         "shop_id": 25,
         "item_id": 7789,
         "item_price": 1799,
         "item_cnt_day": 1,
         "_deepnote_index_column": 2935819
        },
        {
         "date": "22.10.2015",
         "date_block_num": 33,
         "shop_id": 25,
         "item_id": 7790,
         "item_price": 799,
         "item_cnt_day": 1,
         "_deepnote_index_column": 2935820
        },
        {
         "date": "22.10.2015",
         "date_block_num": 33,
         "shop_id": 25,
         "item_id": 7791,
         "item_price": 899.5,
         "item_cnt_day": 1,
         "_deepnote_index_column": 2935821
        },
        {
         "date": "17.10.2015",
         "date_block_num": 33,
         "shop_id": 25,
         "item_id": 7632,
         "item_price": 2310,
         "item_cnt_day": 1,
         "_deepnote_index_column": 2935822
        },
        {
         "date": "26.10.2015",
         "date_block_num": 33,
         "shop_id": 25,
         "item_id": 7487,
         "item_price": 299,
         "item_cnt_day": 1,
         "_deepnote_index_column": 2935823
        },
        {
         "date": "14.10.2015",
         "date_block_num": 33,
         "shop_id": 25,
         "item_id": 7029,
         "item_price": 999,
         "item_cnt_day": 1,
         "_deepnote_index_column": 2935824
        },
        {
         "date": "23.10.2015",
         "date_block_num": 33,
         "shop_id": 25,
         "item_id": 7460,
         "item_price": 299,
         "item_cnt_day": 1,
         "_deepnote_index_column": 2935825
        },
        {
         "date": "04.10.2015",
         "date_block_num": 33,
         "shop_id": 25,
         "item_id": 7233,
         "item_price": 599,
         "item_cnt_day": 1,
         "_deepnote_index_column": 2935826
        },
        {
         "date": "18.10.2015",
         "date_block_num": 33,
         "shop_id": 25,
         "item_id": 7308,
         "item_price": 349,
         "item_cnt_day": 1,
         "_deepnote_index_column": 2935827
        },
        {
         "date": "21.10.2015",
         "date_block_num": 33,
         "shop_id": 25,
         "item_id": 7233,
         "item_price": 479,
         "item_cnt_day": 1,
         "_deepnote_index_column": 2935828
        },
        {
         "date": "03.10.2015",
         "date_block_num": 33,
         "shop_id": 25,
         "item_id": 7233,
         "item_price": 599,
         "item_cnt_day": 1,
         "_deepnote_index_column": 2935829
        },
        {
         "date": "11.10.2015",
         "date_block_num": 33,
         "shop_id": 25,
         "item_id": 7286,
         "item_price": 299,
         "item_cnt_day": 1,
         "_deepnote_index_column": 2935830
        },
        {
         "date": "22.10.2015",
         "date_block_num": 33,
         "shop_id": 25,
         "item_id": 7187,
         "item_price": 299,
         "item_cnt_day": 1,
         "_deepnote_index_column": 2935831
        },
        {
         "date": "26.10.2015",
         "date_block_num": 33,
         "shop_id": 25,
         "item_id": 7484,
         "item_price": 299,
         "item_cnt_day": 1,
         "_deepnote_index_column": 2935832
        },
        {
         "date": "22.10.2015",
         "date_block_num": 33,
         "shop_id": 25,
         "item_id": 7308,
         "item_price": 349,
         "item_cnt_day": 1,
         "_deepnote_index_column": 2935833
        },
        {
         "date": "29.10.2015",
         "date_block_num": 33,
         "shop_id": 25,
         "item_id": 7235,
         "item_price": 298,
         "item_cnt_day": 1,
         "_deepnote_index_column": 2935834
        },
        {
         "date": "18.10.2015",
         "date_block_num": 33,
         "shop_id": 25,
         "item_id": 7327,
         "item_price": 349,
         "item_cnt_day": 1,
         "_deepnote_index_column": 2935835
        },
        {
         "date": "22.10.2015",
         "date_block_num": 33,
         "shop_id": 25,
         "item_id": 7327,
         "item_price": 349,
         "item_cnt_day": 1,
         "_deepnote_index_column": 2935836
        },
        {
         "date": "24.10.2015",
         "date_block_num": 33,
         "shop_id": 25,
         "item_id": 7328,
         "item_price": 249,
         "item_cnt_day": 1,
         "_deepnote_index_column": 2935837
        },
        {
         "date": "17.10.2015",
         "date_block_num": 33,
         "shop_id": 25,
         "item_id": 7338,
         "item_price": 349,
         "item_cnt_day": 1,
         "_deepnote_index_column": 2935838
        },
        {
         "date": "24.10.2015",
         "date_block_num": 33,
         "shop_id": 25,
         "item_id": 7315,
         "item_price": 399,
         "item_cnt_day": 1,
         "_deepnote_index_column": 2935839
        },
        {
         "date": "31.10.2015",
         "date_block_num": 33,
         "shop_id": 25,
         "item_id": 7409,
         "item_price": 299,
         "item_cnt_day": 1,
         "_deepnote_index_column": 2935840
        },
        {
         "date": "11.10.2015",
         "date_block_num": 33,
         "shop_id": 25,
         "item_id": 7393,
         "item_price": 349,
         "item_cnt_day": 1,
         "_deepnote_index_column": 2935841
        },
        {
         "date": "10.10.2015",
         "date_block_num": 33,
         "shop_id": 25,
         "item_id": 7384,
         "item_price": 749,
         "item_cnt_day": 1,
         "_deepnote_index_column": 2935842
        },
        {
         "date": "09.10.2015",
         "date_block_num": 33,
         "shop_id": 25,
         "item_id": 7409,
         "item_price": 299,
         "item_cnt_day": 1,
         "_deepnote_index_column": 2935843
        },
        {
         "date": "10.10.2015",
         "date_block_num": 33,
         "shop_id": 25,
         "item_id": 7409,
         "item_price": 299,
         "item_cnt_day": 1,
         "_deepnote_index_column": 2935844
        },
        {
         "date": "09.10.2015",
         "date_block_num": 33,
         "shop_id": 25,
         "item_id": 7460,
         "item_price": 299,
         "item_cnt_day": 1,
         "_deepnote_index_column": 2935845
        },
        {
         "date": "14.10.2015",
         "date_block_num": 33,
         "shop_id": 25,
         "item_id": 7459,
         "item_price": 349,
         "item_cnt_day": 1,
         "_deepnote_index_column": 2935846
        },
        {
         "date": "22.10.2015",
         "date_block_num": 33,
         "shop_id": 25,
         "item_id": 7440,
         "item_price": 299,
         "item_cnt_day": 1,
         "_deepnote_index_column": 2935847
        },
        {
         "date": "03.10.2015",
         "date_block_num": 33,
         "shop_id": 25,
         "item_id": 7460,
         "item_price": 299,
         "item_cnt_day": 1,
         "_deepnote_index_column": 2935848
        }
       ]
      },
      "text/plain": "               date  date_block_num  shop_id  item_id  item_price  \\\n2882335  23.10.2015              33       45    13315       649.0   \n2882336  05.10.2015              33       45    13880       229.0   \n2882337  02.10.2015              33       45    13881       659.0   \n2882338  12.10.2015              33       45    13881       659.0   \n2882339  04.10.2015              33       45    13923       169.0   \n...             ...             ...      ...      ...         ...   \n2935844  10.10.2015              33       25     7409       299.0   \n2935845  09.10.2015              33       25     7460       299.0   \n2935846  14.10.2015              33       25     7459       349.0   \n2935847  22.10.2015              33       25     7440       299.0   \n2935848  03.10.2015              33       25     7460       299.0   \n\n         item_cnt_day  \n2882335           1.0  \n2882336           1.0  \n2882337           1.0  \n2882338           1.0  \n2882339           1.0  \n...               ...  \n2935844           1.0  \n2935845           1.0  \n2935846           1.0  \n2935847           1.0  \n2935848           1.0  \n\n[53514 rows x 6 columns]",
      "text/html": "<div>\n<style scoped>\n    .dataframe tbody tr th:only-of-type {\n        vertical-align: middle;\n    }\n\n    .dataframe tbody tr th {\n        vertical-align: top;\n    }\n\n    .dataframe thead th {\n        text-align: right;\n    }\n</style>\n<table border=\"1\" class=\"dataframe\">\n  <thead>\n    <tr style=\"text-align: right;\">\n      <th></th>\n      <th>date</th>\n      <th>date_block_num</th>\n      <th>shop_id</th>\n      <th>item_id</th>\n      <th>item_price</th>\n      <th>item_cnt_day</th>\n    </tr>\n  </thead>\n  <tbody>\n    <tr>\n      <th>2882335</th>\n      <td>23.10.2015</td>\n      <td>33</td>\n      <td>45</td>\n      <td>13315</td>\n      <td>649.0</td>\n      <td>1.0</td>\n    </tr>\n    <tr>\n      <th>2882336</th>\n      <td>05.10.2015</td>\n      <td>33</td>\n      <td>45</td>\n      <td>13880</td>\n      <td>229.0</td>\n      <td>1.0</td>\n    </tr>\n    <tr>\n      <th>2882337</th>\n      <td>02.10.2015</td>\n      <td>33</td>\n      <td>45</td>\n      <td>13881</td>\n      <td>659.0</td>\n      <td>1.0</td>\n    </tr>\n    <tr>\n      <th>2882338</th>\n      <td>12.10.2015</td>\n      <td>33</td>\n      <td>45</td>\n      <td>13881</td>\n      <td>659.0</td>\n      <td>1.0</td>\n    </tr>\n    <tr>\n      <th>2882339</th>\n      <td>04.10.2015</td>\n      <td>33</td>\n      <td>45</td>\n      <td>13923</td>\n      <td>169.0</td>\n      <td>1.0</td>\n    </tr>\n    <tr>\n      <th>...</th>\n      <td>...</td>\n      <td>...</td>\n      <td>...</td>\n      <td>...</td>\n      <td>...</td>\n      <td>...</td>\n    </tr>\n    <tr>\n      <th>2935844</th>\n      <td>10.10.2015</td>\n      <td>33</td>\n      <td>25</td>\n      <td>7409</td>\n      <td>299.0</td>\n      <td>1.0</td>\n    </tr>\n    <tr>\n      <th>2935845</th>\n      <td>09.10.2015</td>\n      <td>33</td>\n      <td>25</td>\n      <td>7460</td>\n      <td>299.0</td>\n      <td>1.0</td>\n    </tr>\n    <tr>\n      <th>2935846</th>\n      <td>14.10.2015</td>\n      <td>33</td>\n      <td>25</td>\n      <td>7459</td>\n      <td>349.0</td>\n      <td>1.0</td>\n    </tr>\n    <tr>\n      <th>2935847</th>\n      <td>22.10.2015</td>\n      <td>33</td>\n      <td>25</td>\n      <td>7440</td>\n      <td>299.0</td>\n      <td>1.0</td>\n    </tr>\n    <tr>\n      <th>2935848</th>\n      <td>03.10.2015</td>\n      <td>33</td>\n      <td>25</td>\n      <td>7460</td>\n      <td>299.0</td>\n      <td>1.0</td>\n    </tr>\n  </tbody>\n</table>\n<p>53514 rows × 6 columns</p>\n</div>"
     },
     "metadata": {}
    }
   ]
  },
  {
   "cell_type": "code",
   "metadata": {
    "cell_id": "00019-e85d5da7-c3f9-48d7-8854-d904355f6430",
    "deepnote_to_be_reexecuted": false,
    "source_hash": "329c3494",
    "execution_start": 1620730627931,
    "execution_millis": 7,
    "deepnote_cell_type": "code"
   },
   "source": "oct2015.shop_id.nunique() # There are 44 of 60 shops on this month",
   "execution_count": null,
   "outputs": [
    {
     "output_type": "execute_result",
     "execution_count": 21,
     "data": {
      "text/plain": "44"
     },
     "metadata": {}
    }
   ]
  },
  {
   "cell_type": "code",
   "metadata": {
    "cell_id": "00020-f339477c-54de-405c-a645-d609c9a9a288",
    "deepnote_to_be_reexecuted": false,
    "source_hash": "87934548",
    "execution_start": 1620730630059,
    "execution_millis": 7,
    "deepnote_cell_type": "code"
   },
   "source": "oct2015.item_id.nunique() # There ar 5413 of 22170 items on this month",
   "execution_count": null,
   "outputs": [
    {
     "output_type": "execute_result",
     "execution_count": 22,
     "data": {
      "text/plain": "5413"
     },
     "metadata": {}
    }
   ]
  },
  {
   "cell_type": "code",
   "metadata": {
    "cell_id": "00021-24291be1-b020-499a-96ca-1b38cb7a95ca",
    "deepnote_to_be_reexecuted": false,
    "source_hash": "d158a43c",
    "execution_start": 1620730652594,
    "execution_millis": 272,
    "deepnote_cell_type": "code"
   },
   "source": "oct2015.groupby([\"shop_id\", \"item_id\"])[[\"item_cnt_day\"]].agg([\"min\", \"max\", \"mean\", \"count\", \"sum\"])",
   "execution_count": null,
   "outputs": [
    {
     "output_type": "execute_result",
     "execution_count": 23,
     "data": {
      "application/vnd.deepnote.dataframe.v2+json": {
       "row_count": 31531,
       "column_count": 5,
       "columns": [
        {
         "name": [
          "item_cnt_day",
          "min"
         ],
         "dtype": "float64",
         "stats": {
          "unique_count": 18,
          "nan_count": 0,
          "min": "-1.0",
          "max": "500.0",
          "histogram": [
           {
            "bin_start": -1,
            "bin_end": 49.1,
            "count": 31530
           },
           {
            "bin_start": 49.1,
            "bin_end": 99.2,
            "count": 0
           },
           {
            "bin_start": 99.2,
            "bin_end": 149.3,
            "count": 0
           },
           {
            "bin_start": 149.3,
            "bin_end": 199.4,
            "count": 0
           },
           {
            "bin_start": 199.4,
            "bin_end": 249.5,
            "count": 0
           },
           {
            "bin_start": 249.5,
            "bin_end": 299.6,
            "count": 0
           },
           {
            "bin_start": 299.6,
            "bin_end": 349.7,
            "count": 0
           },
           {
            "bin_start": 349.7,
            "bin_end": 399.8,
            "count": 0
           },
           {
            "bin_start": 399.8,
            "bin_end": 449.90000000000003,
            "count": 0
           },
           {
            "bin_start": 449.90000000000003,
            "bin_end": 500,
            "count": 1
           }
          ]
         }
        },
        {
         "name": [
          "item_cnt_day",
          "max"
         ],
         "dtype": "float64",
         "stats": {
          "unique_count": 51,
          "nan_count": 0,
          "min": "-1.0",
          "max": "2169.0",
          "histogram": [
           {
            "bin_start": -1,
            "bin_end": 216,
            "count": 31529
           },
           {
            "bin_start": 216,
            "bin_end": 433,
            "count": 0
           },
           {
            "bin_start": 433,
            "bin_end": 650,
            "count": 1
           },
           {
            "bin_start": 650,
            "bin_end": 867,
            "count": 0
           },
           {
            "bin_start": 867,
            "bin_end": 1084,
            "count": 0
           },
           {
            "bin_start": 1084,
            "bin_end": 1301,
            "count": 0
           },
           {
            "bin_start": 1301,
            "bin_end": 1518,
            "count": 0
           },
           {
            "bin_start": 1518,
            "bin_end": 1735,
            "count": 0
           },
           {
            "bin_start": 1735,
            "bin_end": 1952,
            "count": 0
           },
           {
            "bin_start": 1952,
            "bin_end": 2169,
            "count": 1
           }
          ]
         }
        },
        {
         "name": [
          "item_cnt_day",
          "mean"
         ],
         "dtype": "float64",
         "stats": {
          "unique_count": 250,
          "nan_count": 0,
          "min": "-1.0",
          "max": "500.0",
          "histogram": [
           {
            "bin_start": -1,
            "bin_end": 49.1,
            "count": 31529
           },
           {
            "bin_start": 49.1,
            "bin_end": 99.2,
            "count": 0
           },
           {
            "bin_start": 99.2,
            "bin_end": 149.3,
            "count": 1
           },
           {
            "bin_start": 149.3,
            "bin_end": 199.4,
            "count": 0
           },
           {
            "bin_start": 199.4,
            "bin_end": 249.5,
            "count": 0
           },
           {
            "bin_start": 249.5,
            "bin_end": 299.6,
            "count": 0
           },
           {
            "bin_start": 299.6,
            "bin_end": 349.7,
            "count": 0
           },
           {
            "bin_start": 349.7,
            "bin_end": 399.8,
            "count": 0
           },
           {
            "bin_start": 399.8,
            "bin_end": 449.90000000000003,
            "count": 0
           },
           {
            "bin_start": 449.90000000000003,
            "bin_end": 500,
            "count": 1
           }
          ]
         }
        },
        {
         "name": [
          "item_cnt_day",
          "count"
         ],
         "dtype": "int64"
        },
        {
         "name": [
          "item_cnt_day",
          "sum"
         ],
         "dtype": "float64"
        },
        {
         "name": "_deepnote_index_column",
         "dtype": "object"
        }
       ],
       "rows_top": [
        {
         "('item_cnt_day', 'min')": 1,
         "('item_cnt_day', 'max')": 1,
         "('item_cnt_day', 'mean')": 1,
         "('item_cnt_day', 'count')": 1,
         "('item_cnt_day', 'sum')": 1,
         "_deepnote_index_column": "(2, 31)"
        },
        {
         "('item_cnt_day', 'min')": 1,
         "('item_cnt_day', 'max')": 1,
         "('item_cnt_day', 'mean')": 1,
         "('item_cnt_day', 'count')": 3,
         "('item_cnt_day', 'sum')": 3,
         "_deepnote_index_column": "(2, 486)"
        },
        {
         "('item_cnt_day', 'min')": 1,
         "('item_cnt_day', 'max')": 1,
         "('item_cnt_day', 'mean')": 1,
         "('item_cnt_day', 'count')": 1,
         "('item_cnt_day', 'sum')": 1,
         "_deepnote_index_column": "(2, 787)"
        },
        {
         "('item_cnt_day', 'min')": 1,
         "('item_cnt_day', 'max')": 1,
         "('item_cnt_day', 'mean')": 1,
         "('item_cnt_day', 'count')": 1,
         "('item_cnt_day', 'sum')": 1,
         "_deepnote_index_column": "(2, 794)"
        },
        {
         "('item_cnt_day', 'min')": 1,
         "('item_cnt_day', 'max')": 1,
         "('item_cnt_day', 'mean')": 1,
         "('item_cnt_day', 'count')": 1,
         "('item_cnt_day', 'sum')": 1,
         "_deepnote_index_column": "(2, 968)"
        },
        {
         "('item_cnt_day', 'min')": 1,
         "('item_cnt_day', 'max')": 1,
         "('item_cnt_day', 'mean')": 1,
         "('item_cnt_day', 'count')": 1,
         "('item_cnt_day', 'sum')": 1,
         "_deepnote_index_column": "(2, 988)"
        },
        {
         "('item_cnt_day', 'min')": 1,
         "('item_cnt_day', 'max')": 1,
         "('item_cnt_day', 'mean')": 1,
         "('item_cnt_day', 'count')": 1,
         "('item_cnt_day', 'sum')": 1,
         "_deepnote_index_column": "(2, 1075)"
        },
        {
         "('item_cnt_day', 'min')": 1,
         "('item_cnt_day', 'max')": 1,
         "('item_cnt_day', 'mean')": 1,
         "('item_cnt_day', 'count')": 1,
         "('item_cnt_day', 'sum')": 1,
         "_deepnote_index_column": "(2, 1121)"
        },
        {
         "('item_cnt_day', 'min')": 1,
         "('item_cnt_day', 'max')": 1,
         "('item_cnt_day', 'mean')": 1,
         "('item_cnt_day', 'count')": 1,
         "('item_cnt_day', 'sum')": 1,
         "_deepnote_index_column": "(2, 1377)"
        },
        {
         "('item_cnt_day', 'min')": 1,
         "('item_cnt_day', 'max')": 1,
         "('item_cnt_day', 'mean')": 1,
         "('item_cnt_day', 'count')": 1,
         "('item_cnt_day', 'sum')": 1,
         "_deepnote_index_column": "(2, 1387)"
        },
        {
         "('item_cnt_day', 'min')": 1,
         "('item_cnt_day', 'max')": 1,
         "('item_cnt_day', 'mean')": 1,
         "('item_cnt_day', 'count')": 1,
         "('item_cnt_day', 'sum')": 1,
         "_deepnote_index_column": "(2, 1389)"
        },
        {
         "('item_cnt_day', 'min')": 1,
         "('item_cnt_day', 'max')": 1,
         "('item_cnt_day', 'mean')": 1,
         "('item_cnt_day', 'count')": 2,
         "('item_cnt_day', 'sum')": 2,
         "_deepnote_index_column": "(2, 1466)"
        },
        {
         "('item_cnt_day', 'min')": 1,
         "('item_cnt_day', 'max')": 1,
         "('item_cnt_day', 'mean')": 1,
         "('item_cnt_day', 'count')": 1,
         "('item_cnt_day', 'sum')": 1,
         "_deepnote_index_column": "(2, 1486)"
        },
        {
         "('item_cnt_day', 'min')": 1,
         "('item_cnt_day', 'max')": 1,
         "('item_cnt_day', 'mean')": 1,
         "('item_cnt_day', 'count')": 1,
         "('item_cnt_day', 'sum')": 1,
         "_deepnote_index_column": "(2, 1523)"
        },
        {
         "('item_cnt_day', 'min')": 1,
         "('item_cnt_day', 'max')": 1,
         "('item_cnt_day', 'mean')": 1,
         "('item_cnt_day', 'count')": 1,
         "('item_cnt_day', 'sum')": 1,
         "_deepnote_index_column": "(2, 1534)"
        },
        {
         "('item_cnt_day', 'min')": 1,
         "('item_cnt_day', 'max')": 1,
         "('item_cnt_day', 'mean')": 1,
         "('item_cnt_day', 'count')": 1,
         "('item_cnt_day', 'sum')": 1,
         "_deepnote_index_column": "(2, 1535)"
        },
        {
         "('item_cnt_day', 'min')": 1,
         "('item_cnt_day', 'max')": 1,
         "('item_cnt_day', 'mean')": 1,
         "('item_cnt_day', 'count')": 2,
         "('item_cnt_day', 'sum')": 2,
         "_deepnote_index_column": "(2, 1540)"
        },
        {
         "('item_cnt_day', 'min')": 1,
         "('item_cnt_day', 'max')": 1,
         "('item_cnt_day', 'mean')": 1,
         "('item_cnt_day', 'count')": 1,
         "('item_cnt_day', 'sum')": 1,
         "_deepnote_index_column": "(2, 1556)"
        },
        {
         "('item_cnt_day', 'min')": 1,
         "('item_cnt_day', 'max')": 1,
         "('item_cnt_day', 'mean')": 1,
         "('item_cnt_day', 'count')": 1,
         "('item_cnt_day', 'sum')": 1,
         "_deepnote_index_column": "(2, 1560)"
        },
        {
         "('item_cnt_day', 'min')": 1,
         "('item_cnt_day', 'max')": 1,
         "('item_cnt_day', 'mean')": 1,
         "('item_cnt_day', 'count')": 1,
         "('item_cnt_day', 'sum')": 1,
         "_deepnote_index_column": "(2, 1563)"
        },
        {
         "('item_cnt_day', 'min')": 1,
         "('item_cnt_day', 'max')": 1,
         "('item_cnt_day', 'mean')": 1,
         "('item_cnt_day', 'count')": 1,
         "('item_cnt_day', 'sum')": 1,
         "_deepnote_index_column": "(2, 1569)"
        },
        {
         "('item_cnt_day', 'min')": 1,
         "('item_cnt_day', 'max')": 1,
         "('item_cnt_day', 'mean')": 1,
         "('item_cnt_day', 'count')": 1,
         "('item_cnt_day', 'sum')": 1,
         "_deepnote_index_column": "(2, 1571)"
        },
        {
         "('item_cnt_day', 'min')": 2,
         "('item_cnt_day', 'max')": 2,
         "('item_cnt_day', 'mean')": 2,
         "('item_cnt_day', 'count')": 2,
         "('item_cnt_day', 'sum')": 4,
         "_deepnote_index_column": "(2, 1578)"
        },
        {
         "('item_cnt_day', 'min')": 1,
         "('item_cnt_day', 'max')": 1,
         "('item_cnt_day', 'mean')": 1,
         "('item_cnt_day', 'count')": 1,
         "('item_cnt_day', 'sum')": 1,
         "_deepnote_index_column": "(2, 1579)"
        },
        {
         "('item_cnt_day', 'min')": 1,
         "('item_cnt_day', 'max')": 3,
         "('item_cnt_day', 'mean')": 1.8,
         "('item_cnt_day', 'count')": 5,
         "('item_cnt_day', 'sum')": 9,
         "_deepnote_index_column": "(2, 1583)"
        },
        {
         "('item_cnt_day', 'min')": 1,
         "('item_cnt_day', 'max')": 1,
         "('item_cnt_day', 'mean')": 1,
         "('item_cnt_day', 'count')": 1,
         "('item_cnt_day', 'sum')": 1,
         "_deepnote_index_column": "(2, 1586)"
        },
        {
         "('item_cnt_day', 'min')": 1,
         "('item_cnt_day', 'max')": 1,
         "('item_cnt_day', 'mean')": 1,
         "('item_cnt_day', 'count')": 1,
         "('item_cnt_day', 'sum')": 1,
         "_deepnote_index_column": "(2, 1813)"
        },
        {
         "('item_cnt_day', 'min')": 1,
         "('item_cnt_day', 'max')": 1,
         "('item_cnt_day', 'mean')": 1,
         "('item_cnt_day', 'count')": 2,
         "('item_cnt_day', 'sum')": 2,
         "_deepnote_index_column": "(2, 1847)"
        },
        {
         "('item_cnt_day', 'min')": 1,
         "('item_cnt_day', 'max')": 1,
         "('item_cnt_day', 'mean')": 1,
         "('item_cnt_day', 'count')": 1,
         "('item_cnt_day', 'sum')": 1,
         "_deepnote_index_column": "(2, 1857)"
        },
        {
         "('item_cnt_day', 'min')": 1,
         "('item_cnt_day', 'max')": 1,
         "('item_cnt_day', 'mean')": 1,
         "('item_cnt_day', 'count')": 1,
         "('item_cnt_day', 'sum')": 1,
         "_deepnote_index_column": "(2, 1876)"
        },
        {
         "('item_cnt_day', 'min')": 1,
         "('item_cnt_day', 'max')": 1,
         "('item_cnt_day', 'mean')": 1,
         "('item_cnt_day', 'count')": 4,
         "('item_cnt_day', 'sum')": 4,
         "_deepnote_index_column": "(2, 1914)"
        },
        {
         "('item_cnt_day', 'min')": 1,
         "('item_cnt_day', 'max')": 1,
         "('item_cnt_day', 'mean')": 1,
         "('item_cnt_day', 'count')": 3,
         "('item_cnt_day', 'sum')": 3,
         "_deepnote_index_column": "(2, 1971)"
        },
        {
         "('item_cnt_day', 'min')": 1,
         "('item_cnt_day', 'max')": 1,
         "('item_cnt_day', 'mean')": 1,
         "('item_cnt_day', 'count')": 1,
         "('item_cnt_day', 'sum')": 1,
         "_deepnote_index_column": "(2, 1988)"
        },
        {
         "('item_cnt_day', 'min')": 1,
         "('item_cnt_day', 'max')": 1,
         "('item_cnt_day', 'mean')": 1,
         "('item_cnt_day', 'count')": 1,
         "('item_cnt_day', 'sum')": 1,
         "_deepnote_index_column": "(2, 2040)"
        },
        {
         "('item_cnt_day', 'min')": 2,
         "('item_cnt_day', 'max')": 2,
         "('item_cnt_day', 'mean')": 2,
         "('item_cnt_day', 'count')": 1,
         "('item_cnt_day', 'sum')": 2,
         "_deepnote_index_column": "(2, 2047)"
        },
        {
         "('item_cnt_day', 'min')": 1,
         "('item_cnt_day', 'max')": 1,
         "('item_cnt_day', 'mean')": 1,
         "('item_cnt_day', 'count')": 2,
         "('item_cnt_day', 'sum')": 2,
         "_deepnote_index_column": "(2, 2252)"
        },
        {
         "('item_cnt_day', 'min')": 1,
         "('item_cnt_day', 'max')": 3,
         "('item_cnt_day', 'mean')": 2,
         "('item_cnt_day', 'count')": 2,
         "('item_cnt_day', 'sum')": 4,
         "_deepnote_index_column": "(2, 2269)"
        },
        {
         "('item_cnt_day', 'min')": 1,
         "('item_cnt_day', 'max')": 1,
         "('item_cnt_day', 'mean')": 1,
         "('item_cnt_day', 'count')": 3,
         "('item_cnt_day', 'sum')": 3,
         "_deepnote_index_column": "(2, 2283)"
        },
        {
         "('item_cnt_day', 'min')": 1,
         "('item_cnt_day', 'max')": 1,
         "('item_cnt_day', 'mean')": 1,
         "('item_cnt_day', 'count')": 1,
         "('item_cnt_day', 'sum')": 1,
         "_deepnote_index_column": "(2, 2285)"
        },
        {
         "('item_cnt_day', 'min')": 1,
         "('item_cnt_day', 'max')": 1,
         "('item_cnt_day', 'mean')": 1,
         "('item_cnt_day', 'count')": 2,
         "('item_cnt_day', 'sum')": 2,
         "_deepnote_index_column": "(2, 2286)"
        },
        {
         "('item_cnt_day', 'min')": 1,
         "('item_cnt_day', 'max')": 1,
         "('item_cnt_day', 'mean')": 1,
         "('item_cnt_day', 'count')": 1,
         "('item_cnt_day', 'sum')": 1,
         "_deepnote_index_column": "(2, 2288)"
        },
        {
         "('item_cnt_day', 'min')": 1,
         "('item_cnt_day', 'max')": 1,
         "('item_cnt_day', 'mean')": 1,
         "('item_cnt_day', 'count')": 1,
         "('item_cnt_day', 'sum')": 1,
         "_deepnote_index_column": "(2, 2293)"
        },
        {
         "('item_cnt_day', 'min')": 1,
         "('item_cnt_day', 'max')": 1,
         "('item_cnt_day', 'mean')": 1,
         "('item_cnt_day', 'count')": 1,
         "('item_cnt_day', 'sum')": 1,
         "_deepnote_index_column": "(2, 2354)"
        },
        {
         "('item_cnt_day', 'min')": 1,
         "('item_cnt_day', 'max')": 1,
         "('item_cnt_day', 'mean')": 1,
         "('item_cnt_day', 'count')": 1,
         "('item_cnt_day', 'sum')": 1,
         "_deepnote_index_column": "(2, 2369)"
        },
        {
         "('item_cnt_day', 'min')": 1,
         "('item_cnt_day', 'max')": 1,
         "('item_cnt_day', 'mean')": 1,
         "('item_cnt_day', 'count')": 2,
         "('item_cnt_day', 'sum')": 2,
         "_deepnote_index_column": "(2, 2422)"
        },
        {
         "('item_cnt_day', 'min')": 1,
         "('item_cnt_day', 'max')": 2,
         "('item_cnt_day', 'mean')": 1.25,
         "('item_cnt_day', 'count')": 4,
         "('item_cnt_day', 'sum')": 5,
         "_deepnote_index_column": "(2, 2423)"
        },
        {
         "('item_cnt_day', 'min')": 1,
         "('item_cnt_day', 'max')": 1,
         "('item_cnt_day', 'mean')": 1,
         "('item_cnt_day', 'count')": 2,
         "('item_cnt_day', 'sum')": 2,
         "_deepnote_index_column": "(2, 2431)"
        },
        {
         "('item_cnt_day', 'min')": 1,
         "('item_cnt_day', 'max')": 1,
         "('item_cnt_day', 'mean')": 1,
         "('item_cnt_day', 'count')": 1,
         "('item_cnt_day', 'sum')": 1,
         "_deepnote_index_column": "(2, 2445)"
        },
        {
         "('item_cnt_day', 'min')": 1,
         "('item_cnt_day', 'max')": 1,
         "('item_cnt_day', 'mean')": 1,
         "('item_cnt_day', 'count')": 1,
         "('item_cnt_day', 'sum')": 1,
         "_deepnote_index_column": "(2, 2703)"
        },
        {
         "('item_cnt_day', 'min')": 1,
         "('item_cnt_day', 'max')": 1,
         "('item_cnt_day', 'mean')": 1,
         "('item_cnt_day', 'count')": 1,
         "('item_cnt_day', 'sum')": 1,
         "_deepnote_index_column": "(2, 2766)"
        },
        {
         "('item_cnt_day', 'min')": 1,
         "('item_cnt_day', 'max')": 1,
         "('item_cnt_day', 'mean')": 1,
         "('item_cnt_day', 'count')": 3,
         "('item_cnt_day', 'sum')": 3,
         "_deepnote_index_column": "(2, 2788)"
        },
        {
         "('item_cnt_day', 'min')": 1,
         "('item_cnt_day', 'max')": 1,
         "('item_cnt_day', 'mean')": 1,
         "('item_cnt_day', 'count')": 1,
         "('item_cnt_day', 'sum')": 1,
         "_deepnote_index_column": "(2, 2791)"
        },
        {
         "('item_cnt_day', 'min')": 1,
         "('item_cnt_day', 'max')": 1,
         "('item_cnt_day', 'mean')": 1,
         "('item_cnt_day', 'count')": 1,
         "('item_cnt_day', 'sum')": 1,
         "_deepnote_index_column": "(2, 2799)"
        },
        {
         "('item_cnt_day', 'min')": 1,
         "('item_cnt_day', 'max')": 1,
         "('item_cnt_day', 'mean')": 1,
         "('item_cnt_day', 'count')": 1,
         "('item_cnt_day', 'sum')": 1,
         "_deepnote_index_column": "(2, 2808)"
        },
        {
         "('item_cnt_day', 'min')": 1,
         "('item_cnt_day', 'max')": 1,
         "('item_cnt_day', 'mean')": 1,
         "('item_cnt_day', 'count')": 2,
         "('item_cnt_day', 'sum')": 2,
         "_deepnote_index_column": "(2, 2813)"
        },
        {
         "('item_cnt_day', 'min')": 1,
         "('item_cnt_day', 'max')": 1,
         "('item_cnt_day', 'mean')": 1,
         "('item_cnt_day', 'count')": 2,
         "('item_cnt_day', 'sum')": 2,
         "_deepnote_index_column": "(2, 2852)"
        },
        {
         "('item_cnt_day', 'min')": 1,
         "('item_cnt_day', 'max')": 1,
         "('item_cnt_day', 'mean')": 1,
         "('item_cnt_day', 'count')": 2,
         "('item_cnt_day', 'sum')": 2,
         "_deepnote_index_column": "(2, 2859)"
        },
        {
         "('item_cnt_day', 'min')": 1,
         "('item_cnt_day', 'max')": 1,
         "('item_cnt_day', 'mean')": 1,
         "('item_cnt_day', 'count')": 2,
         "('item_cnt_day', 'sum')": 2,
         "_deepnote_index_column": "(2, 2861)"
        },
        {
         "('item_cnt_day', 'min')": 1,
         "('item_cnt_day', 'max')": 1,
         "('item_cnt_day', 'mean')": 1,
         "('item_cnt_day', 'count')": 1,
         "('item_cnt_day', 'sum')": 1,
         "_deepnote_index_column": "(2, 2868)"
        },
        {
         "('item_cnt_day', 'min')": 1,
         "('item_cnt_day', 'max')": 1,
         "('item_cnt_day', 'mean')": 1,
         "('item_cnt_day', 'count')": 1,
         "('item_cnt_day', 'sum')": 1,
         "_deepnote_index_column": "(2, 2871)"
        },
        {
         "('item_cnt_day', 'min')": 1,
         "('item_cnt_day', 'max')": 1,
         "('item_cnt_day', 'mean')": 1,
         "('item_cnt_day', 'count')": 1,
         "('item_cnt_day', 'sum')": 1,
         "_deepnote_index_column": "(2, 2873)"
        },
        {
         "('item_cnt_day', 'min')": 1,
         "('item_cnt_day', 'max')": 1,
         "('item_cnt_day', 'mean')": 1,
         "('item_cnt_day', 'count')": 1,
         "('item_cnt_day', 'sum')": 1,
         "_deepnote_index_column": "(2, 2875)"
        },
        {
         "('item_cnt_day', 'min')": 1,
         "('item_cnt_day', 'max')": 1,
         "('item_cnt_day', 'mean')": 1,
         "('item_cnt_day', 'count')": 2,
         "('item_cnt_day', 'sum')": 2,
         "_deepnote_index_column": "(2, 2876)"
        },
        {
         "('item_cnt_day', 'min')": 1,
         "('item_cnt_day', 'max')": 1,
         "('item_cnt_day', 'mean')": 1,
         "('item_cnt_day', 'count')": 1,
         "('item_cnt_day', 'sum')": 1,
         "_deepnote_index_column": "(2, 2885)"
        },
        {
         "('item_cnt_day', 'min')": 1,
         "('item_cnt_day', 'max')": 1,
         "('item_cnt_day', 'mean')": 1,
         "('item_cnt_day', 'count')": 2,
         "('item_cnt_day', 'sum')": 2,
         "_deepnote_index_column": "(2, 2918)"
        },
        {
         "('item_cnt_day', 'min')": 1,
         "('item_cnt_day', 'max')": 1,
         "('item_cnt_day', 'mean')": 1,
         "('item_cnt_day', 'count')": 2,
         "('item_cnt_day', 'sum')": 2,
         "_deepnote_index_column": "(2, 2919)"
        },
        {
         "('item_cnt_day', 'min')": 1,
         "('item_cnt_day', 'max')": 1,
         "('item_cnt_day', 'mean')": 1,
         "('item_cnt_day', 'count')": 1,
         "('item_cnt_day', 'sum')": 1,
         "_deepnote_index_column": "(2, 2921)"
        },
        {
         "('item_cnt_day', 'min')": 1,
         "('item_cnt_day', 'max')": 1,
         "('item_cnt_day', 'mean')": 1,
         "('item_cnt_day', 'count')": 1,
         "('item_cnt_day', 'sum')": 1,
         "_deepnote_index_column": "(2, 2936)"
        },
        {
         "('item_cnt_day', 'min')": 1,
         "('item_cnt_day', 'max')": 1,
         "('item_cnt_day', 'mean')": 1,
         "('item_cnt_day', 'count')": 1,
         "('item_cnt_day', 'sum')": 1,
         "_deepnote_index_column": "(2, 2954)"
        },
        {
         "('item_cnt_day', 'min')": 1,
         "('item_cnt_day', 'max')": 1,
         "('item_cnt_day', 'mean')": 1,
         "('item_cnt_day', 'count')": 1,
         "('item_cnt_day', 'sum')": 1,
         "_deepnote_index_column": "(2, 2955)"
        },
        {
         "('item_cnt_day', 'min')": 1,
         "('item_cnt_day', 'max')": 1,
         "('item_cnt_day', 'mean')": 1,
         "('item_cnt_day', 'count')": 1,
         "('item_cnt_day', 'sum')": 1,
         "_deepnote_index_column": "(2, 2958)"
        },
        {
         "('item_cnt_day', 'min')": 1,
         "('item_cnt_day', 'max')": 1,
         "('item_cnt_day', 'mean')": 1,
         "('item_cnt_day', 'count')": 1,
         "('item_cnt_day', 'sum')": 1,
         "_deepnote_index_column": "(2, 2959)"
        },
        {
         "('item_cnt_day', 'min')": 1,
         "('item_cnt_day', 'max')": 1,
         "('item_cnt_day', 'mean')": 1,
         "('item_cnt_day', 'count')": 1,
         "('item_cnt_day', 'sum')": 1,
         "_deepnote_index_column": "(2, 2975)"
        },
        {
         "('item_cnt_day', 'min')": 1,
         "('item_cnt_day', 'max')": 1,
         "('item_cnt_day', 'mean')": 1,
         "('item_cnt_day', 'count')": 1,
         "('item_cnt_day', 'sum')": 1,
         "_deepnote_index_column": "(2, 3034)"
        },
        {
         "('item_cnt_day', 'min')": 1,
         "('item_cnt_day', 'max')": 1,
         "('item_cnt_day', 'mean')": 1,
         "('item_cnt_day', 'count')": 1,
         "('item_cnt_day', 'sum')": 1,
         "_deepnote_index_column": "(2, 3077)"
        },
        {
         "('item_cnt_day', 'min')": 1,
         "('item_cnt_day', 'max')": 1,
         "('item_cnt_day', 'mean')": 1,
         "('item_cnt_day', 'count')": 1,
         "('item_cnt_day', 'sum')": 1,
         "_deepnote_index_column": "(2, 3216)"
        },
        {
         "('item_cnt_day', 'min')": 1,
         "('item_cnt_day', 'max')": 1,
         "('item_cnt_day', 'mean')": 1,
         "('item_cnt_day', 'count')": 2,
         "('item_cnt_day', 'sum')": 2,
         "_deepnote_index_column": "(2, 3243)"
        },
        {
         "('item_cnt_day', 'min')": 1,
         "('item_cnt_day', 'max')": 2,
         "('item_cnt_day', 'mean')": 1.3333333333333333,
         "('item_cnt_day', 'count')": 3,
         "('item_cnt_day', 'sum')": 4,
         "_deepnote_index_column": "(2, 3341)"
        },
        {
         "('item_cnt_day', 'min')": 1,
         "('item_cnt_day', 'max')": 1,
         "('item_cnt_day', 'mean')": 1,
         "('item_cnt_day', 'count')": 2,
         "('item_cnt_day', 'sum')": 2,
         "_deepnote_index_column": "(2, 3343)"
        },
        {
         "('item_cnt_day', 'min')": 1,
         "('item_cnt_day', 'max')": 2,
         "('item_cnt_day', 'mean')": 1.1428571428571428,
         "('item_cnt_day', 'count')": 7,
         "('item_cnt_day', 'sum')": 8,
         "_deepnote_index_column": "(2, 3350)"
        },
        {
         "('item_cnt_day', 'min')": 1,
         "('item_cnt_day', 'max')": 2,
         "('item_cnt_day', 'mean')": 1.3333333333333333,
         "('item_cnt_day', 'count')": 3,
         "('item_cnt_day', 'sum')": 4,
         "_deepnote_index_column": "(2, 3351)"
        },
        {
         "('item_cnt_day', 'min')": 1,
         "('item_cnt_day', 'max')": 1,
         "('item_cnt_day', 'mean')": 1,
         "('item_cnt_day', 'count')": 6,
         "('item_cnt_day', 'sum')": 6,
         "_deepnote_index_column": "(2, 3352)"
        },
        {
         "('item_cnt_day', 'min')": 1,
         "('item_cnt_day', 'max')": 1,
         "('item_cnt_day', 'mean')": 1,
         "('item_cnt_day', 'count')": 3,
         "('item_cnt_day', 'sum')": 3,
         "_deepnote_index_column": "(2, 3353)"
        },
        {
         "('item_cnt_day', 'min')": 1,
         "('item_cnt_day', 'max')": 1,
         "('item_cnt_day', 'mean')": 1,
         "('item_cnt_day', 'count')": 1,
         "('item_cnt_day', 'sum')": 1,
         "_deepnote_index_column": "(2, 3365)"
        },
        {
         "('item_cnt_day', 'min')": 1,
         "('item_cnt_day', 'max')": 1,
         "('item_cnt_day', 'mean')": 1,
         "('item_cnt_day', 'count')": 1,
         "('item_cnt_day', 'sum')": 1,
         "_deepnote_index_column": "(2, 3423)"
        },
        {
         "('item_cnt_day', 'min')": 1,
         "('item_cnt_day', 'max')": 1,
         "('item_cnt_day', 'mean')": 1,
         "('item_cnt_day', 'count')": 2,
         "('item_cnt_day', 'sum')": 2,
         "_deepnote_index_column": "(2, 3442)"
        },
        {
         "('item_cnt_day', 'min')": 1,
         "('item_cnt_day', 'max')": 1,
         "('item_cnt_day', 'mean')": 1,
         "('item_cnt_day', 'count')": 2,
         "('item_cnt_day', 'sum')": 2,
         "_deepnote_index_column": "(2, 3443)"
        },
        {
         "('item_cnt_day', 'min')": 1,
         "('item_cnt_day', 'max')": 2,
         "('item_cnt_day', 'mean')": 1.5,
         "('item_cnt_day', 'count')": 2,
         "('item_cnt_day', 'sum')": 3,
         "_deepnote_index_column": "(2, 3444)"
        },
        {
         "('item_cnt_day', 'min')": 1,
         "('item_cnt_day', 'max')": 1,
         "('item_cnt_day', 'mean')": 1,
         "('item_cnt_day', 'count')": 2,
         "('item_cnt_day', 'sum')": 2,
         "_deepnote_index_column": "(2, 3445)"
        },
        {
         "('item_cnt_day', 'min')": 1,
         "('item_cnt_day', 'max')": 1,
         "('item_cnt_day', 'mean')": 1,
         "('item_cnt_day', 'count')": 1,
         "('item_cnt_day', 'sum')": 1,
         "_deepnote_index_column": "(2, 3464)"
        },
        {
         "('item_cnt_day', 'min')": 1,
         "('item_cnt_day', 'max')": 1,
         "('item_cnt_day', 'mean')": 1,
         "('item_cnt_day', 'count')": 1,
         "('item_cnt_day', 'sum')": 1,
         "_deepnote_index_column": "(2, 3479)"
        },
        {
         "('item_cnt_day', 'min')": 1,
         "('item_cnt_day', 'max')": 1,
         "('item_cnt_day', 'mean')": 1,
         "('item_cnt_day', 'count')": 2,
         "('item_cnt_day', 'sum')": 2,
         "_deepnote_index_column": "(2, 3480)"
        },
        {
         "('item_cnt_day', 'min')": 1,
         "('item_cnt_day', 'max')": 1,
         "('item_cnt_day', 'mean')": 1,
         "('item_cnt_day', 'count')": 1,
         "('item_cnt_day', 'sum')": 1,
         "_deepnote_index_column": "(2, 3543)"
        },
        {
         "('item_cnt_day', 'min')": 1,
         "('item_cnt_day', 'max')": 1,
         "('item_cnt_day', 'mean')": 1,
         "('item_cnt_day', 'count')": 1,
         "('item_cnt_day', 'sum')": 1,
         "_deepnote_index_column": "(2, 3599)"
        },
        {
         "('item_cnt_day', 'min')": 1,
         "('item_cnt_day', 'max')": 1,
         "('item_cnt_day', 'mean')": 1,
         "('item_cnt_day', 'count')": 1,
         "('item_cnt_day', 'sum')": 1,
         "_deepnote_index_column": "(2, 3676)"
        },
        {
         "('item_cnt_day', 'min')": 1,
         "('item_cnt_day', 'max')": 1,
         "('item_cnt_day', 'mean')": 1,
         "('item_cnt_day', 'count')": 1,
         "('item_cnt_day', 'sum')": 1,
         "_deepnote_index_column": "(2, 3688)"
        },
        {
         "('item_cnt_day', 'min')": 1,
         "('item_cnt_day', 'max')": 1,
         "('item_cnt_day', 'mean')": 1,
         "('item_cnt_day', 'count')": 1,
         "('item_cnt_day', 'sum')": 1,
         "_deepnote_index_column": "(2, 3692)"
        },
        {
         "('item_cnt_day', 'min')": 1,
         "('item_cnt_day', 'max')": 1,
         "('item_cnt_day', 'mean')": 1,
         "('item_cnt_day', 'count')": 2,
         "('item_cnt_day', 'sum')": 2,
         "_deepnote_index_column": "(2, 3708)"
        },
        {
         "('item_cnt_day', 'min')": 1,
         "('item_cnt_day', 'max')": 2,
         "('item_cnt_day', 'mean')": 1.3333333333333333,
         "('item_cnt_day', 'count')": 3,
         "('item_cnt_day', 'sum')": 4,
         "_deepnote_index_column": "(2, 3731)"
        },
        {
         "('item_cnt_day', 'min')": 1,
         "('item_cnt_day', 'max')": 1,
         "('item_cnt_day', 'mean')": 1,
         "('item_cnt_day', 'count')": 1,
         "('item_cnt_day', 'sum')": 1,
         "_deepnote_index_column": "(2, 3732)"
        }
       ],
       "rows_bottom": [
        {
         "('item_cnt_day', 'min')": 1,
         "('item_cnt_day', 'max')": 1,
         "('item_cnt_day', 'mean')": 1,
         "('item_cnt_day', 'count')": 1,
         "('item_cnt_day', 'sum')": 1,
         "_deepnote_index_column": "(59, 15854)"
        },
        {
         "('item_cnt_day', 'min')": 1,
         "('item_cnt_day', 'max')": 1,
         "('item_cnt_day', 'mean')": 1,
         "('item_cnt_day', 'count')": 1,
         "('item_cnt_day', 'sum')": 1,
         "_deepnote_index_column": "(59, 15866)"
        },
        {
         "('item_cnt_day', 'min')": 1,
         "('item_cnt_day', 'max')": 1,
         "('item_cnt_day', 'mean')": 1,
         "('item_cnt_day', 'count')": 1,
         "('item_cnt_day', 'sum')": 1,
         "_deepnote_index_column": "(59, 16003)"
        },
        {
         "('item_cnt_day', 'min')": 1,
         "('item_cnt_day', 'max')": 1,
         "('item_cnt_day', 'mean')": 1,
         "('item_cnt_day', 'count')": 1,
         "('item_cnt_day', 'sum')": 1,
         "_deepnote_index_column": "(59, 16059)"
        },
        {
         "('item_cnt_day', 'min')": 1,
         "('item_cnt_day', 'max')": 1,
         "('item_cnt_day', 'mean')": 1,
         "('item_cnt_day', 'count')": 1,
         "('item_cnt_day', 'sum')": 1,
         "_deepnote_index_column": "(59, 16071)"
        },
        {
         "('item_cnt_day', 'min')": 1,
         "('item_cnt_day', 'max')": 1,
         "('item_cnt_day', 'mean')": 1,
         "('item_cnt_day', 'count')": 1,
         "('item_cnt_day', 'sum')": 1,
         "_deepnote_index_column": "(59, 16135)"
        },
        {
         "('item_cnt_day', 'min')": 1,
         "('item_cnt_day', 'max')": 1,
         "('item_cnt_day', 'mean')": 1,
         "('item_cnt_day', 'count')": 1,
         "('item_cnt_day', 'sum')": 1,
         "_deepnote_index_column": "(59, 16147)"
        },
        {
         "('item_cnt_day', 'min')": 1,
         "('item_cnt_day', 'max')": 1,
         "('item_cnt_day', 'mean')": 1,
         "('item_cnt_day', 'count')": 1,
         "('item_cnt_day', 'sum')": 1,
         "_deepnote_index_column": "(59, 16155)"
        },
        {
         "('item_cnt_day', 'min')": 1,
         "('item_cnt_day', 'max')": 1,
         "('item_cnt_day', 'mean')": 1,
         "('item_cnt_day', 'count')": 1,
         "('item_cnt_day', 'sum')": 1,
         "_deepnote_index_column": "(59, 16156)"
        },
        {
         "('item_cnt_day', 'min')": 1,
         "('item_cnt_day', 'max')": 1,
         "('item_cnt_day', 'mean')": 1,
         "('item_cnt_day', 'count')": 1,
         "('item_cnt_day', 'sum')": 1,
         "_deepnote_index_column": "(59, 16195)"
        },
        {
         "('item_cnt_day', 'min')": 1,
         "('item_cnt_day', 'max')": 1,
         "('item_cnt_day', 'mean')": 1,
         "('item_cnt_day', 'count')": 1,
         "('item_cnt_day', 'sum')": 1,
         "_deepnote_index_column": "(59, 16287)"
        },
        {
         "('item_cnt_day', 'min')": 1,
         "('item_cnt_day', 'max')": 1,
         "('item_cnt_day', 'mean')": 1,
         "('item_cnt_day', 'count')": 1,
         "('item_cnt_day', 'sum')": 1,
         "_deepnote_index_column": "(59, 16450)"
        },
        {
         "('item_cnt_day', 'min')": 1,
         "('item_cnt_day', 'max')": 1,
         "('item_cnt_day', 'mean')": 1,
         "('item_cnt_day', 'count')": 1,
         "('item_cnt_day', 'sum')": 1,
         "_deepnote_index_column": "(59, 16503)"
        },
        {
         "('item_cnt_day', 'min')": 1,
         "('item_cnt_day', 'max')": 1,
         "('item_cnt_day', 'mean')": 1,
         "('item_cnt_day', 'count')": 1,
         "('item_cnt_day', 'sum')": 1,
         "_deepnote_index_column": "(59, 16569)"
        },
        {
         "('item_cnt_day', 'min')": 1,
         "('item_cnt_day', 'max')": 1,
         "('item_cnt_day', 'mean')": 1,
         "('item_cnt_day', 'count')": 1,
         "('item_cnt_day', 'sum')": 1,
         "_deepnote_index_column": "(59, 16639)"
        },
        {
         "('item_cnt_day', 'min')": 1,
         "('item_cnt_day', 'max')": 1,
         "('item_cnt_day', 'mean')": 1,
         "('item_cnt_day', 'count')": 1,
         "('item_cnt_day', 'sum')": 1,
         "_deepnote_index_column": "(59, 16788)"
        },
        {
         "('item_cnt_day', 'min')": 1,
         "('item_cnt_day', 'max')": 1,
         "('item_cnt_day', 'mean')": 1,
         "('item_cnt_day', 'count')": 1,
         "('item_cnt_day', 'sum')": 1,
         "_deepnote_index_column": "(59, 16790)"
        },
        {
         "('item_cnt_day', 'min')": 1,
         "('item_cnt_day', 'max')": 1,
         "('item_cnt_day', 'mean')": 1,
         "('item_cnt_day', 'count')": 1,
         "('item_cnt_day', 'sum')": 1,
         "_deepnote_index_column": "(59, 16825)"
        },
        {
         "('item_cnt_day', 'min')": 1,
         "('item_cnt_day', 'max')": 1,
         "('item_cnt_day', 'mean')": 1,
         "('item_cnt_day', 'count')": 1,
         "('item_cnt_day', 'sum')": 1,
         "_deepnote_index_column": "(59, 16843)"
        },
        {
         "('item_cnt_day', 'min')": 1,
         "('item_cnt_day', 'max')": 1,
         "('item_cnt_day', 'mean')": 1,
         "('item_cnt_day', 'count')": 1,
         "('item_cnt_day', 'sum')": 1,
         "_deepnote_index_column": "(59, 16889)"
        },
        {
         "('item_cnt_day', 'min')": 1,
         "('item_cnt_day', 'max')": 1,
         "('item_cnt_day', 'mean')": 1,
         "('item_cnt_day', 'count')": 1,
         "('item_cnt_day', 'sum')": 1,
         "_deepnote_index_column": "(59, 16898)"
        },
        {
         "('item_cnt_day', 'min')": 1,
         "('item_cnt_day', 'max')": 1,
         "('item_cnt_day', 'mean')": 1,
         "('item_cnt_day', 'count')": 1,
         "('item_cnt_day', 'sum')": 1,
         "_deepnote_index_column": "(59, 16923)"
        },
        {
         "('item_cnt_day', 'min')": 1,
         "('item_cnt_day', 'max')": 1,
         "('item_cnt_day', 'mean')": 1,
         "('item_cnt_day', 'count')": 1,
         "('item_cnt_day', 'sum')": 1,
         "_deepnote_index_column": "(59, 17027)"
        },
        {
         "('item_cnt_day', 'min')": 1,
         "('item_cnt_day', 'max')": 2,
         "('item_cnt_day', 'mean')": 1.5,
         "('item_cnt_day', 'count')": 2,
         "('item_cnt_day', 'sum')": 3,
         "_deepnote_index_column": "(59, 17031)"
        },
        {
         "('item_cnt_day', 'min')": 1,
         "('item_cnt_day', 'max')": 1,
         "('item_cnt_day', 'mean')": 1,
         "('item_cnt_day', 'count')": 1,
         "('item_cnt_day', 'sum')": 1,
         "_deepnote_index_column": "(59, 17032)"
        },
        {
         "('item_cnt_day', 'min')": 1,
         "('item_cnt_day', 'max')": 1,
         "('item_cnt_day', 'mean')": 1,
         "('item_cnt_day', 'count')": 1,
         "('item_cnt_day', 'sum')": 1,
         "_deepnote_index_column": "(59, 17110)"
        },
        {
         "('item_cnt_day', 'min')": 1,
         "('item_cnt_day', 'max')": 1,
         "('item_cnt_day', 'mean')": 1,
         "('item_cnt_day', 'count')": 1,
         "('item_cnt_day', 'sum')": 1,
         "_deepnote_index_column": "(59, 17168)"
        },
        {
         "('item_cnt_day', 'min')": 1,
         "('item_cnt_day', 'max')": 1,
         "('item_cnt_day', 'mean')": 1,
         "('item_cnt_day', 'count')": 1,
         "('item_cnt_day', 'sum')": 1,
         "_deepnote_index_column": "(59, 17229)"
        },
        {
         "('item_cnt_day', 'min')": 1,
         "('item_cnt_day', 'max')": 1,
         "('item_cnt_day', 'mean')": 1,
         "('item_cnt_day', 'count')": 1,
         "('item_cnt_day', 'sum')": 1,
         "_deepnote_index_column": "(59, 17261)"
        },
        {
         "('item_cnt_day', 'min')": 1,
         "('item_cnt_day', 'max')": 1,
         "('item_cnt_day', 'mean')": 1,
         "('item_cnt_day', 'count')": 1,
         "('item_cnt_day', 'sum')": 1,
         "_deepnote_index_column": "(59, 17270)"
        },
        {
         "('item_cnt_day', 'min')": 1,
         "('item_cnt_day', 'max')": 1,
         "('item_cnt_day', 'mean')": 1,
         "('item_cnt_day', 'count')": 1,
         "('item_cnt_day', 'sum')": 1,
         "_deepnote_index_column": "(59, 17279)"
        },
        {
         "('item_cnt_day', 'min')": 1,
         "('item_cnt_day', 'max')": 1,
         "('item_cnt_day', 'mean')": 1,
         "('item_cnt_day', 'count')": 1,
         "('item_cnt_day', 'sum')": 1,
         "_deepnote_index_column": "(59, 17306)"
        },
        {
         "('item_cnt_day', 'min')": 1,
         "('item_cnt_day', 'max')": 1,
         "('item_cnt_day', 'mean')": 1,
         "('item_cnt_day', 'count')": 1,
         "('item_cnt_day', 'sum')": 1,
         "_deepnote_index_column": "(59, 17376)"
        },
        {
         "('item_cnt_day', 'min')": 1,
         "('item_cnt_day', 'max')": 1,
         "('item_cnt_day', 'mean')": 1,
         "('item_cnt_day', 'count')": 1,
         "('item_cnt_day', 'sum')": 1,
         "_deepnote_index_column": "(59, 17409)"
        },
        {
         "('item_cnt_day', 'min')": 1,
         "('item_cnt_day', 'max')": 1,
         "('item_cnt_day', 'mean')": 1,
         "('item_cnt_day', 'count')": 1,
         "('item_cnt_day', 'sum')": 1,
         "_deepnote_index_column": "(59, 17458)"
        },
        {
         "('item_cnt_day', 'min')": 1,
         "('item_cnt_day', 'max')": 1,
         "('item_cnt_day', 'mean')": 1,
         "('item_cnt_day', 'count')": 1,
         "('item_cnt_day', 'sum')": 1,
         "_deepnote_index_column": "(59, 17660)"
        },
        {
         "('item_cnt_day', 'min')": 1,
         "('item_cnt_day', 'max')": 2,
         "('item_cnt_day', 'mean')": 1.3,
         "('item_cnt_day', 'count')": 10,
         "('item_cnt_day', 'sum')": 13,
         "_deepnote_index_column": "(59, 17717)"
        },
        {
         "('item_cnt_day', 'min')": 1,
         "('item_cnt_day', 'max')": 1,
         "('item_cnt_day', 'mean')": 1,
         "('item_cnt_day', 'count')": 1,
         "('item_cnt_day', 'sum')": 1,
         "_deepnote_index_column": "(59, 17748)"
        },
        {
         "('item_cnt_day', 'min')": 1,
         "('item_cnt_day', 'max')": 1,
         "('item_cnt_day', 'mean')": 1,
         "('item_cnt_day', 'count')": 1,
         "('item_cnt_day', 'sum')": 1,
         "_deepnote_index_column": "(59, 17755)"
        },
        {
         "('item_cnt_day', 'min')": 1,
         "('item_cnt_day', 'max')": 1,
         "('item_cnt_day', 'mean')": 1,
         "('item_cnt_day', 'count')": 2,
         "('item_cnt_day', 'sum')": 2,
         "_deepnote_index_column": "(59, 17772)"
        },
        {
         "('item_cnt_day', 'min')": 1,
         "('item_cnt_day', 'max')": 1,
         "('item_cnt_day', 'mean')": 1,
         "('item_cnt_day', 'count')": 1,
         "('item_cnt_day', 'sum')": 1,
         "_deepnote_index_column": "(59, 17773)"
        },
        {
         "('item_cnt_day', 'min')": 1,
         "('item_cnt_day', 'max')": 1,
         "('item_cnt_day', 'mean')": 1,
         "('item_cnt_day', 'count')": 1,
         "('item_cnt_day', 'sum')": 1,
         "_deepnote_index_column": "(59, 17774)"
        },
        {
         "('item_cnt_day', 'min')": 1,
         "('item_cnt_day', 'max')": 2,
         "('item_cnt_day', 'mean')": 1.2,
         "('item_cnt_day', 'count')": 5,
         "('item_cnt_day', 'sum')": 6,
         "_deepnote_index_column": "(59, 17775)"
        },
        {
         "('item_cnt_day', 'min')": 1,
         "('item_cnt_day', 'max')": 1,
         "('item_cnt_day', 'mean')": 1,
         "('item_cnt_day', 'count')": 1,
         "('item_cnt_day', 'sum')": 1,
         "_deepnote_index_column": "(59, 17811)"
        },
        {
         "('item_cnt_day', 'min')": 1,
         "('item_cnt_day', 'max')": 1,
         "('item_cnt_day', 'mean')": 1,
         "('item_cnt_day', 'count')": 1,
         "('item_cnt_day', 'sum')": 1,
         "_deepnote_index_column": "(59, 18115)"
        },
        {
         "('item_cnt_day', 'min')": 1,
         "('item_cnt_day', 'max')": 1,
         "('item_cnt_day', 'mean')": 1,
         "('item_cnt_day', 'count')": 1,
         "('item_cnt_day', 'sum')": 1,
         "_deepnote_index_column": "(59, 18255)"
        },
        {
         "('item_cnt_day', 'min')": 1,
         "('item_cnt_day', 'max')": 1,
         "('item_cnt_day', 'mean')": 1,
         "('item_cnt_day', 'count')": 1,
         "('item_cnt_day', 'sum')": 1,
         "_deepnote_index_column": "(59, 18275)"
        },
        {
         "('item_cnt_day', 'min')": 1,
         "('item_cnt_day', 'max')": 1,
         "('item_cnt_day', 'mean')": 1,
         "('item_cnt_day', 'count')": 1,
         "('item_cnt_day', 'sum')": 1,
         "_deepnote_index_column": "(59, 18438)"
        },
        {
         "('item_cnt_day', 'min')": 1,
         "('item_cnt_day', 'max')": 1,
         "('item_cnt_day', 'mean')": 1,
         "('item_cnt_day', 'count')": 1,
         "('item_cnt_day', 'sum')": 1,
         "_deepnote_index_column": "(59, 18441)"
        },
        {
         "('item_cnt_day', 'min')": 1,
         "('item_cnt_day', 'max')": 1,
         "('item_cnt_day', 'mean')": 1,
         "('item_cnt_day', 'count')": 1,
         "('item_cnt_day', 'sum')": 1,
         "_deepnote_index_column": "(59, 18479)"
        },
        {
         "('item_cnt_day', 'min')": 1,
         "('item_cnt_day', 'max')": 1,
         "('item_cnt_day', 'mean')": 1,
         "('item_cnt_day', 'count')": 1,
         "('item_cnt_day', 'sum')": 1,
         "_deepnote_index_column": "(59, 18511)"
        },
        {
         "('item_cnt_day', 'min')": 1,
         "('item_cnt_day', 'max')": 1,
         "('item_cnt_day', 'mean')": 1,
         "('item_cnt_day', 'count')": 2,
         "('item_cnt_day', 'sum')": 2,
         "_deepnote_index_column": "(59, 18595)"
        },
        {
         "('item_cnt_day', 'min')": 1,
         "('item_cnt_day', 'max')": 1,
         "('item_cnt_day', 'mean')": 1,
         "('item_cnt_day', 'count')": 1,
         "('item_cnt_day', 'sum')": 1,
         "_deepnote_index_column": "(59, 18924)"
        },
        {
         "('item_cnt_day', 'min')": 1,
         "('item_cnt_day', 'max')": 1,
         "('item_cnt_day', 'mean')": 1,
         "('item_cnt_day', 'count')": 1,
         "('item_cnt_day', 'sum')": 1,
         "_deepnote_index_column": "(59, 19001)"
        },
        {
         "('item_cnt_day', 'min')": 1,
         "('item_cnt_day', 'max')": 1,
         "('item_cnt_day', 'mean')": 1,
         "('item_cnt_day', 'count')": 1,
         "('item_cnt_day', 'sum')": 1,
         "_deepnote_index_column": "(59, 19046)"
        },
        {
         "('item_cnt_day', 'min')": 1,
         "('item_cnt_day', 'max')": 1,
         "('item_cnt_day', 'mean')": 1,
         "('item_cnt_day', 'count')": 1,
         "('item_cnt_day', 'sum')": 1,
         "_deepnote_index_column": "(59, 19093)"
        },
        {
         "('item_cnt_day', 'min')": 1,
         "('item_cnt_day', 'max')": 1,
         "('item_cnt_day', 'mean')": 1,
         "('item_cnt_day', 'count')": 1,
         "('item_cnt_day', 'sum')": 1,
         "_deepnote_index_column": "(59, 19144)"
        },
        {
         "('item_cnt_day', 'min')": 1,
         "('item_cnt_day', 'max')": 1,
         "('item_cnt_day', 'mean')": 1,
         "('item_cnt_day', 'count')": 1,
         "('item_cnt_day', 'sum')": 1,
         "_deepnote_index_column": "(59, 19289)"
        },
        {
         "('item_cnt_day', 'min')": 1,
         "('item_cnt_day', 'max')": 1,
         "('item_cnt_day', 'mean')": 1,
         "('item_cnt_day', 'count')": 1,
         "('item_cnt_day', 'sum')": 1,
         "_deepnote_index_column": "(59, 19291)"
        },
        {
         "('item_cnt_day', 'min')": 1,
         "('item_cnt_day', 'max')": 1,
         "('item_cnt_day', 'mean')": 1,
         "('item_cnt_day', 'count')": 1,
         "('item_cnt_day', 'sum')": 1,
         "_deepnote_index_column": "(59, 19345)"
        },
        {
         "('item_cnt_day', 'min')": 1,
         "('item_cnt_day', 'max')": 1,
         "('item_cnt_day', 'mean')": 1,
         "('item_cnt_day', 'count')": 1,
         "('item_cnt_day', 'sum')": 1,
         "_deepnote_index_column": "(59, 19406)"
        },
        {
         "('item_cnt_day', 'min')": 1,
         "('item_cnt_day', 'max')": 1,
         "('item_cnt_day', 'mean')": 1,
         "('item_cnt_day', 'count')": 1,
         "('item_cnt_day', 'sum')": 1,
         "_deepnote_index_column": "(59, 19438)"
        },
        {
         "('item_cnt_day', 'min')": 1,
         "('item_cnt_day', 'max')": 1,
         "('item_cnt_day', 'mean')": 1,
         "('item_cnt_day', 'count')": 1,
         "('item_cnt_day', 'sum')": 1,
         "_deepnote_index_column": "(59, 19576)"
        },
        {
         "('item_cnt_day', 'min')": 1,
         "('item_cnt_day', 'max')": 1,
         "('item_cnt_day', 'mean')": 1,
         "('item_cnt_day', 'count')": 1,
         "('item_cnt_day', 'sum')": 1,
         "_deepnote_index_column": "(59, 19588)"
        },
        {
         "('item_cnt_day', 'min')": 1,
         "('item_cnt_day', 'max')": 1,
         "('item_cnt_day', 'mean')": 1,
         "('item_cnt_day', 'count')": 2,
         "('item_cnt_day', 'sum')": 2,
         "_deepnote_index_column": "(59, 19650)"
        },
        {
         "('item_cnt_day', 'min')": 1,
         "('item_cnt_day', 'max')": 3,
         "('item_cnt_day', 'mean')": 2,
         "('item_cnt_day', 'count')": 2,
         "('item_cnt_day', 'sum')": 4,
         "_deepnote_index_column": "(59, 19655)"
        },
        {
         "('item_cnt_day', 'min')": 1,
         "('item_cnt_day', 'max')": 1,
         "('item_cnt_day', 'mean')": 1,
         "('item_cnt_day', 'count')": 1,
         "('item_cnt_day', 'sum')": 1,
         "_deepnote_index_column": "(59, 19659)"
        },
        {
         "('item_cnt_day', 'min')": 1,
         "('item_cnt_day', 'max')": 1,
         "('item_cnt_day', 'mean')": 1,
         "('item_cnt_day', 'count')": 1,
         "('item_cnt_day', 'sum')": 1,
         "_deepnote_index_column": "(59, 19672)"
        },
        {
         "('item_cnt_day', 'min')": 1,
         "('item_cnt_day', 'max')": 1,
         "('item_cnt_day', 'mean')": 1,
         "('item_cnt_day', 'count')": 1,
         "('item_cnt_day', 'sum')": 1,
         "_deepnote_index_column": "(59, 19688)"
        },
        {
         "('item_cnt_day', 'min')": 1,
         "('item_cnt_day', 'max')": 1,
         "('item_cnt_day', 'mean')": 1,
         "('item_cnt_day', 'count')": 1,
         "('item_cnt_day', 'sum')": 1,
         "_deepnote_index_column": "(59, 19797)"
        },
        {
         "('item_cnt_day', 'min')": 1,
         "('item_cnt_day', 'max')": 1,
         "('item_cnt_day', 'mean')": 1,
         "('item_cnt_day', 'count')": 1,
         "('item_cnt_day', 'sum')": 1,
         "_deepnote_index_column": "(59, 19894)"
        },
        {
         "('item_cnt_day', 'min')": 1,
         "('item_cnt_day', 'max')": 1,
         "('item_cnt_day', 'mean')": 1,
         "('item_cnt_day', 'count')": 1,
         "('item_cnt_day', 'sum')": 1,
         "_deepnote_index_column": "(59, 19985)"
        },
        {
         "('item_cnt_day', 'min')": 1,
         "('item_cnt_day', 'max')": 1,
         "('item_cnt_day', 'mean')": 1,
         "('item_cnt_day', 'count')": 1,
         "('item_cnt_day', 'sum')": 1,
         "_deepnote_index_column": "(59, 20303)"
        },
        {
         "('item_cnt_day', 'min')": 1,
         "('item_cnt_day', 'max')": 1,
         "('item_cnt_day', 'mean')": 1,
         "('item_cnt_day', 'count')": 1,
         "('item_cnt_day', 'sum')": 1,
         "_deepnote_index_column": "(59, 20305)"
        },
        {
         "('item_cnt_day', 'min')": 1,
         "('item_cnt_day', 'max')": 1,
         "('item_cnt_day', 'mean')": 1,
         "('item_cnt_day', 'count')": 1,
         "('item_cnt_day', 'sum')": 1,
         "_deepnote_index_column": "(59, 20335)"
        },
        {
         "('item_cnt_day', 'min')": 1,
         "('item_cnt_day', 'max')": 1,
         "('item_cnt_day', 'mean')": 1,
         "('item_cnt_day', 'count')": 1,
         "('item_cnt_day', 'sum')": 1,
         "_deepnote_index_column": "(59, 20355)"
        },
        {
         "('item_cnt_day', 'min')": 1,
         "('item_cnt_day', 'max')": 1,
         "('item_cnt_day', 'mean')": 1,
         "('item_cnt_day', 'count')": 1,
         "('item_cnt_day', 'sum')": 1,
         "_deepnote_index_column": "(59, 20392)"
        },
        {
         "('item_cnt_day', 'min')": 1,
         "('item_cnt_day', 'max')": 1,
         "('item_cnt_day', 'mean')": 1,
         "('item_cnt_day', 'count')": 2,
         "('item_cnt_day', 'sum')": 2,
         "_deepnote_index_column": "(59, 20604)"
        },
        {
         "('item_cnt_day', 'min')": 1,
         "('item_cnt_day', 'max')": 1,
         "('item_cnt_day', 'mean')": 1,
         "('item_cnt_day', 'count')": 1,
         "('item_cnt_day', 'sum')": 1,
         "_deepnote_index_column": "(59, 20614)"
        },
        {
         "('item_cnt_day', 'min')": 1,
         "('item_cnt_day', 'max')": 1,
         "('item_cnt_day', 'mean')": 1,
         "('item_cnt_day', 'count')": 1,
         "('item_cnt_day', 'sum')": 1,
         "_deepnote_index_column": "(59, 20629)"
        },
        {
         "('item_cnt_day', 'min')": 1,
         "('item_cnt_day', 'max')": 1,
         "('item_cnt_day', 'mean')": 1,
         "('item_cnt_day', 'count')": 1,
         "('item_cnt_day', 'sum')": 1,
         "_deepnote_index_column": "(59, 20730)"
        },
        {
         "('item_cnt_day', 'min')": 1,
         "('item_cnt_day', 'max')": 1,
         "('item_cnt_day', 'mean')": 1,
         "('item_cnt_day', 'count')": 1,
         "('item_cnt_day', 'sum')": 1,
         "_deepnote_index_column": "(59, 20751)"
        },
        {
         "('item_cnt_day', 'min')": 1,
         "('item_cnt_day', 'max')": 1,
         "('item_cnt_day', 'mean')": 1,
         "('item_cnt_day', 'count')": 4,
         "('item_cnt_day', 'sum')": 4,
         "_deepnote_index_column": "(59, 20866)"
        },
        {
         "('item_cnt_day', 'min')": 1,
         "('item_cnt_day', 'max')": 2,
         "('item_cnt_day', 'mean')": 1.2666666666666666,
         "('item_cnt_day', 'count')": 15,
         "('item_cnt_day', 'sum')": 19,
         "_deepnote_index_column": "(59, 20949)"
        },
        {
         "('item_cnt_day', 'min')": 1,
         "('item_cnt_day', 'max')": 1,
         "('item_cnt_day', 'mean')": 1,
         "('item_cnt_day', 'count')": 1,
         "('item_cnt_day', 'sum')": 1,
         "_deepnote_index_column": "(59, 21361)"
        },
        {
         "('item_cnt_day', 'min')": 1,
         "('item_cnt_day', 'max')": 1,
         "('item_cnt_day', 'mean')": 1,
         "('item_cnt_day', 'count')": 1,
         "('item_cnt_day', 'sum')": 1,
         "_deepnote_index_column": "(59, 21364)"
        },
        {
         "('item_cnt_day', 'min')": 1,
         "('item_cnt_day', 'max')": 1,
         "('item_cnt_day', 'mean')": 1,
         "('item_cnt_day', 'count')": 2,
         "('item_cnt_day', 'sum')": 2,
         "_deepnote_index_column": "(59, 21369)"
        },
        {
         "('item_cnt_day', 'min')": 1,
         "('item_cnt_day', 'max')": 1,
         "('item_cnt_day', 'mean')": 1,
         "('item_cnt_day', 'count')": 1,
         "('item_cnt_day', 'sum')": 1,
         "_deepnote_index_column": "(59, 21377)"
        },
        {
         "('item_cnt_day', 'min')": 1,
         "('item_cnt_day', 'max')": 1,
         "('item_cnt_day', 'mean')": 1,
         "('item_cnt_day', 'count')": 1,
         "('item_cnt_day', 'sum')": 1,
         "_deepnote_index_column": "(59, 21386)"
        },
        {
         "('item_cnt_day', 'min')": -1,
         "('item_cnt_day', 'max')": 1,
         "('item_cnt_day', 'mean')": 0.3333333333333333,
         "('item_cnt_day', 'count')": 3,
         "('item_cnt_day', 'sum')": 1,
         "_deepnote_index_column": "(59, 21404)"
        },
        {
         "('item_cnt_day', 'min')": 1,
         "('item_cnt_day', 'max')": 1,
         "('item_cnt_day', 'mean')": 1,
         "('item_cnt_day', 'count')": 1,
         "('item_cnt_day', 'sum')": 1,
         "_deepnote_index_column": "(59, 21427)"
        },
        {
         "('item_cnt_day', 'min')": 1,
         "('item_cnt_day', 'max')": 1,
         "('item_cnt_day', 'mean')": 1,
         "('item_cnt_day', 'count')": 2,
         "('item_cnt_day', 'sum')": 2,
         "_deepnote_index_column": "(59, 21449)"
        },
        {
         "('item_cnt_day', 'min')": 1,
         "('item_cnt_day', 'max')": 1,
         "('item_cnt_day', 'mean')": 1,
         "('item_cnt_day', 'count')": 1,
         "('item_cnt_day', 'sum')": 1,
         "_deepnote_index_column": "(59, 21672)"
        },
        {
         "('item_cnt_day', 'min')": 1,
         "('item_cnt_day', 'max')": 1,
         "('item_cnt_day', 'mean')": 1,
         "('item_cnt_day', 'count')": 1,
         "('item_cnt_day', 'sum')": 1,
         "_deepnote_index_column": "(59, 21811)"
        },
        {
         "('item_cnt_day', 'min')": 1,
         "('item_cnt_day', 'max')": 1,
         "('item_cnt_day', 'mean')": 1,
         "('item_cnt_day', 'count')": 1,
         "('item_cnt_day', 'sum')": 1,
         "_deepnote_index_column": "(59, 21812)"
        },
        {
         "('item_cnt_day', 'min')": 1,
         "('item_cnt_day', 'max')": 3,
         "('item_cnt_day', 'mean')": 2,
         "('item_cnt_day', 'count')": 3,
         "('item_cnt_day', 'sum')": 6,
         "_deepnote_index_column": "(59, 22087)"
        },
        {
         "('item_cnt_day', 'min')": 1,
         "('item_cnt_day', 'max')": 1,
         "('item_cnt_day', 'mean')": 1,
         "('item_cnt_day', 'count')": 2,
         "('item_cnt_day', 'sum')": 2,
         "_deepnote_index_column": "(59, 22088)"
        },
        {
         "('item_cnt_day', 'min')": 1,
         "('item_cnt_day', 'max')": 1,
         "('item_cnt_day', 'mean')": 1,
         "('item_cnt_day', 'count')": 1,
         "('item_cnt_day', 'sum')": 1,
         "_deepnote_index_column": "(59, 22091)"
        },
        {
         "('item_cnt_day', 'min')": 1,
         "('item_cnt_day', 'max')": 1,
         "('item_cnt_day', 'mean')": 1,
         "('item_cnt_day', 'count')": 1,
         "('item_cnt_day', 'sum')": 1,
         "_deepnote_index_column": "(59, 22100)"
        },
        {
         "('item_cnt_day', 'min')": 1,
         "('item_cnt_day', 'max')": 1,
         "('item_cnt_day', 'mean')": 1,
         "('item_cnt_day', 'count')": 1,
         "('item_cnt_day', 'sum')": 1,
         "_deepnote_index_column": "(59, 22102)"
        }
       ]
      },
      "text/plain": "                item_cnt_day                     \n                         min  max mean count  sum\nshop_id item_id                                  \n2       31               1.0  1.0  1.0     1  1.0\n        486              1.0  1.0  1.0     3  3.0\n        787              1.0  1.0  1.0     1  1.0\n        794              1.0  1.0  1.0     1  1.0\n        968              1.0  1.0  1.0     1  1.0\n...                      ...  ...  ...   ...  ...\n59      22087            1.0  3.0  2.0     3  6.0\n        22088            1.0  1.0  1.0     2  2.0\n        22091            1.0  1.0  1.0     1  1.0\n        22100            1.0  1.0  1.0     1  1.0\n        22102            1.0  1.0  1.0     1  1.0\n\n[31531 rows x 5 columns]",
      "text/html": "<div>\n<style scoped>\n    .dataframe tbody tr th:only-of-type {\n        vertical-align: middle;\n    }\n\n    .dataframe tbody tr th {\n        vertical-align: top;\n    }\n\n    .dataframe thead tr th {\n        text-align: left;\n    }\n\n    .dataframe thead tr:last-of-type th {\n        text-align: right;\n    }\n</style>\n<table border=\"1\" class=\"dataframe\">\n  <thead>\n    <tr>\n      <th></th>\n      <th></th>\n      <th colspan=\"5\" halign=\"left\">item_cnt_day</th>\n    </tr>\n    <tr>\n      <th></th>\n      <th></th>\n      <th>min</th>\n      <th>max</th>\n      <th>mean</th>\n      <th>count</th>\n      <th>sum</th>\n    </tr>\n    <tr>\n      <th>shop_id</th>\n      <th>item_id</th>\n      <th></th>\n      <th></th>\n      <th></th>\n      <th></th>\n      <th></th>\n    </tr>\n  </thead>\n  <tbody>\n    <tr>\n      <th rowspan=\"5\" valign=\"top\">2</th>\n      <th>31</th>\n      <td>1.0</td>\n      <td>1.0</td>\n      <td>1.0</td>\n      <td>1</td>\n      <td>1.0</td>\n    </tr>\n    <tr>\n      <th>486</th>\n      <td>1.0</td>\n      <td>1.0</td>\n      <td>1.0</td>\n      <td>3</td>\n      <td>3.0</td>\n    </tr>\n    <tr>\n      <th>787</th>\n      <td>1.0</td>\n      <td>1.0</td>\n      <td>1.0</td>\n      <td>1</td>\n      <td>1.0</td>\n    </tr>\n    <tr>\n      <th>794</th>\n      <td>1.0</td>\n      <td>1.0</td>\n      <td>1.0</td>\n      <td>1</td>\n      <td>1.0</td>\n    </tr>\n    <tr>\n      <th>968</th>\n      <td>1.0</td>\n      <td>1.0</td>\n      <td>1.0</td>\n      <td>1</td>\n      <td>1.0</td>\n    </tr>\n    <tr>\n      <th>...</th>\n      <th>...</th>\n      <td>...</td>\n      <td>...</td>\n      <td>...</td>\n      <td>...</td>\n      <td>...</td>\n    </tr>\n    <tr>\n      <th rowspan=\"5\" valign=\"top\">59</th>\n      <th>22087</th>\n      <td>1.0</td>\n      <td>3.0</td>\n      <td>2.0</td>\n      <td>3</td>\n      <td>6.0</td>\n    </tr>\n    <tr>\n      <th>22088</th>\n      <td>1.0</td>\n      <td>1.0</td>\n      <td>1.0</td>\n      <td>2</td>\n      <td>2.0</td>\n    </tr>\n    <tr>\n      <th>22091</th>\n      <td>1.0</td>\n      <td>1.0</td>\n      <td>1.0</td>\n      <td>1</td>\n      <td>1.0</td>\n    </tr>\n    <tr>\n      <th>22100</th>\n      <td>1.0</td>\n      <td>1.0</td>\n      <td>1.0</td>\n      <td>1</td>\n      <td>1.0</td>\n    </tr>\n    <tr>\n      <th>22102</th>\n      <td>1.0</td>\n      <td>1.0</td>\n      <td>1.0</td>\n      <td>1</td>\n      <td>1.0</td>\n    </tr>\n  </tbody>\n</table>\n<p>31531 rows × 5 columns</p>\n</div>"
     },
     "metadata": {}
    }
   ]
  },
  {
   "cell_type": "code",
   "metadata": {
    "cell_id": "00022-66e8e4bd-c4da-4924-a94e-305754cd969f",
    "deepnote_to_be_reexecuted": false,
    "source_hash": "ad8b111f",
    "execution_start": 1620730706083,
    "execution_millis": 18,
    "deepnote_cell_type": "code"
   },
   "source": "oct2015_agg = oct2015.groupby([\"shop_id\", \"item_id\"])[\"item_cnt_day\"].sum().reset_index()\noct2015_agg",
   "execution_count": null,
   "outputs": [
    {
     "output_type": "execute_result",
     "execution_count": 28,
     "data": {
      "application/vnd.deepnote.dataframe.v2+json": {
       "row_count": 31531,
       "column_count": 3,
       "columns": [
        {
         "name": "shop_id",
         "dtype": "int64",
         "stats": {
          "unique_count": 44,
          "nan_count": 0,
          "min": "2",
          "max": "59",
          "histogram": [
           {
            "bin_start": 2,
            "bin_end": 7.7,
            "count": 3520
           },
           {
            "bin_start": 7.7,
            "bin_end": 13.4,
            "count": 1328
           },
           {
            "bin_start": 13.4,
            "bin_end": 19.1,
            "count": 3327
           },
           {
            "bin_start": 19.1,
            "bin_end": 24.8,
            "count": 2647
           },
           {
            "bin_start": 24.8,
            "bin_end": 30.5,
            "count": 4288
           },
           {
            "bin_start": 30.5,
            "bin_end": 36.2,
            "count": 3546
           },
           {
            "bin_start": 36.2,
            "bin_end": 41.9,
            "count": 2007
           },
           {
            "bin_start": 41.9,
            "bin_end": 47.6,
            "count": 4119
           },
           {
            "bin_start": 47.6,
            "bin_end": 53.300000000000004,
            "count": 2957
           },
           {
            "bin_start": 53.300000000000004,
            "bin_end": 59,
            "count": 3792
           }
          ]
         }
        },
        {
         "name": "item_id",
         "dtype": "int64",
         "stats": {
          "unique_count": 5413,
          "nan_count": 0,
          "min": "30",
          "max": "22167",
          "histogram": [
           {
            "bin_start": 30,
            "bin_end": 2243.7,
            "count": 2302
           },
           {
            "bin_start": 2243.7,
            "bin_end": 4457.4,
            "count": 4271
           },
           {
            "bin_start": 4457.4,
            "bin_end": 6671.099999999999,
            "count": 3535
           },
           {
            "bin_start": 6671.099999999999,
            "bin_end": 8884.8,
            "count": 2991
           },
           {
            "bin_start": 8884.8,
            "bin_end": 11098.5,
            "count": 2743
           },
           {
            "bin_start": 11098.5,
            "bin_end": 13312.199999999999,
            "count": 3429
           },
           {
            "bin_start": 13312.199999999999,
            "bin_end": 15525.899999999998,
            "count": 4126
           },
           {
            "bin_start": 15525.899999999998,
            "bin_end": 17739.6,
            "count": 2817
           },
           {
            "bin_start": 17739.6,
            "bin_end": 19953.3,
            "count": 2374
           },
           {
            "bin_start": 19953.3,
            "bin_end": 22167,
            "count": 2943
           }
          ]
         }
        },
        {
         "name": "item_cnt_day",
         "dtype": "float64",
         "stats": {
          "unique_count": 96,
          "nan_count": 0,
          "min": "-1.0",
          "max": "2253.0",
          "histogram": [
           {
            "bin_start": -1,
            "bin_end": 224.4,
            "count": 31525
           },
           {
            "bin_start": 224.4,
            "bin_end": 449.8,
            "count": 3
           },
           {
            "bin_start": 449.8,
            "bin_end": 675.2,
            "count": 2
           },
           {
            "bin_start": 675.2,
            "bin_end": 900.6,
            "count": 0
           },
           {
            "bin_start": 900.6,
            "bin_end": 1126,
            "count": 0
           },
           {
            "bin_start": 1126,
            "bin_end": 1351.4,
            "count": 0
           },
           {
            "bin_start": 1351.4,
            "bin_end": 1576.8,
            "count": 0
           },
           {
            "bin_start": 1576.8,
            "bin_end": 1802.2,
            "count": 0
           },
           {
            "bin_start": 1802.2,
            "bin_end": 2027.6000000000001,
            "count": 0
           },
           {
            "bin_start": 2027.6000000000001,
            "bin_end": 2253,
            "count": 1
           }
          ]
         }
        },
        {
         "name": "_deepnote_index_column",
         "dtype": "int64"
        }
       ],
       "rows_top": [
        {
         "shop_id": 2,
         "item_id": 31,
         "item_cnt_day": 1,
         "_deepnote_index_column": 0
        },
        {
         "shop_id": 2,
         "item_id": 486,
         "item_cnt_day": 3,
         "_deepnote_index_column": 1
        },
        {
         "shop_id": 2,
         "item_id": 787,
         "item_cnt_day": 1,
         "_deepnote_index_column": 2
        },
        {
         "shop_id": 2,
         "item_id": 794,
         "item_cnt_day": 1,
         "_deepnote_index_column": 3
        },
        {
         "shop_id": 2,
         "item_id": 968,
         "item_cnt_day": 1,
         "_deepnote_index_column": 4
        },
        {
         "shop_id": 2,
         "item_id": 988,
         "item_cnt_day": 1,
         "_deepnote_index_column": 5
        },
        {
         "shop_id": 2,
         "item_id": 1075,
         "item_cnt_day": 1,
         "_deepnote_index_column": 6
        },
        {
         "shop_id": 2,
         "item_id": 1121,
         "item_cnt_day": 1,
         "_deepnote_index_column": 7
        },
        {
         "shop_id": 2,
         "item_id": 1377,
         "item_cnt_day": 1,
         "_deepnote_index_column": 8
        },
        {
         "shop_id": 2,
         "item_id": 1387,
         "item_cnt_day": 1,
         "_deepnote_index_column": 9
        },
        {
         "shop_id": 2,
         "item_id": 1389,
         "item_cnt_day": 1,
         "_deepnote_index_column": 10
        },
        {
         "shop_id": 2,
         "item_id": 1466,
         "item_cnt_day": 2,
         "_deepnote_index_column": 11
        },
        {
         "shop_id": 2,
         "item_id": 1486,
         "item_cnt_day": 1,
         "_deepnote_index_column": 12
        },
        {
         "shop_id": 2,
         "item_id": 1523,
         "item_cnt_day": 1,
         "_deepnote_index_column": 13
        },
        {
         "shop_id": 2,
         "item_id": 1534,
         "item_cnt_day": 1,
         "_deepnote_index_column": 14
        },
        {
         "shop_id": 2,
         "item_id": 1535,
         "item_cnt_day": 1,
         "_deepnote_index_column": 15
        },
        {
         "shop_id": 2,
         "item_id": 1540,
         "item_cnt_day": 2,
         "_deepnote_index_column": 16
        },
        {
         "shop_id": 2,
         "item_id": 1556,
         "item_cnt_day": 1,
         "_deepnote_index_column": 17
        },
        {
         "shop_id": 2,
         "item_id": 1560,
         "item_cnt_day": 1,
         "_deepnote_index_column": 18
        },
        {
         "shop_id": 2,
         "item_id": 1563,
         "item_cnt_day": 1,
         "_deepnote_index_column": 19
        },
        {
         "shop_id": 2,
         "item_id": 1569,
         "item_cnt_day": 1,
         "_deepnote_index_column": 20
        },
        {
         "shop_id": 2,
         "item_id": 1571,
         "item_cnt_day": 1,
         "_deepnote_index_column": 21
        },
        {
         "shop_id": 2,
         "item_id": 1578,
         "item_cnt_day": 4,
         "_deepnote_index_column": 22
        },
        {
         "shop_id": 2,
         "item_id": 1579,
         "item_cnt_day": 1,
         "_deepnote_index_column": 23
        },
        {
         "shop_id": 2,
         "item_id": 1583,
         "item_cnt_day": 9,
         "_deepnote_index_column": 24
        },
        {
         "shop_id": 2,
         "item_id": 1586,
         "item_cnt_day": 1,
         "_deepnote_index_column": 25
        },
        {
         "shop_id": 2,
         "item_id": 1813,
         "item_cnt_day": 1,
         "_deepnote_index_column": 26
        },
        {
         "shop_id": 2,
         "item_id": 1847,
         "item_cnt_day": 2,
         "_deepnote_index_column": 27
        },
        {
         "shop_id": 2,
         "item_id": 1857,
         "item_cnt_day": 1,
         "_deepnote_index_column": 28
        },
        {
         "shop_id": 2,
         "item_id": 1876,
         "item_cnt_day": 1,
         "_deepnote_index_column": 29
        },
        {
         "shop_id": 2,
         "item_id": 1914,
         "item_cnt_day": 4,
         "_deepnote_index_column": 30
        },
        {
         "shop_id": 2,
         "item_id": 1971,
         "item_cnt_day": 3,
         "_deepnote_index_column": 31
        },
        {
         "shop_id": 2,
         "item_id": 1988,
         "item_cnt_day": 1,
         "_deepnote_index_column": 32
        },
        {
         "shop_id": 2,
         "item_id": 2040,
         "item_cnt_day": 1,
         "_deepnote_index_column": 33
        },
        {
         "shop_id": 2,
         "item_id": 2047,
         "item_cnt_day": 2,
         "_deepnote_index_column": 34
        },
        {
         "shop_id": 2,
         "item_id": 2252,
         "item_cnt_day": 2,
         "_deepnote_index_column": 35
        },
        {
         "shop_id": 2,
         "item_id": 2269,
         "item_cnt_day": 4,
         "_deepnote_index_column": 36
        },
        {
         "shop_id": 2,
         "item_id": 2283,
         "item_cnt_day": 3,
         "_deepnote_index_column": 37
        },
        {
         "shop_id": 2,
         "item_id": 2285,
         "item_cnt_day": 1,
         "_deepnote_index_column": 38
        },
        {
         "shop_id": 2,
         "item_id": 2286,
         "item_cnt_day": 2,
         "_deepnote_index_column": 39
        },
        {
         "shop_id": 2,
         "item_id": 2288,
         "item_cnt_day": 1,
         "_deepnote_index_column": 40
        },
        {
         "shop_id": 2,
         "item_id": 2293,
         "item_cnt_day": 1,
         "_deepnote_index_column": 41
        },
        {
         "shop_id": 2,
         "item_id": 2354,
         "item_cnt_day": 1,
         "_deepnote_index_column": 42
        },
        {
         "shop_id": 2,
         "item_id": 2369,
         "item_cnt_day": 1,
         "_deepnote_index_column": 43
        },
        {
         "shop_id": 2,
         "item_id": 2422,
         "item_cnt_day": 2,
         "_deepnote_index_column": 44
        },
        {
         "shop_id": 2,
         "item_id": 2423,
         "item_cnt_day": 5,
         "_deepnote_index_column": 45
        },
        {
         "shop_id": 2,
         "item_id": 2431,
         "item_cnt_day": 2,
         "_deepnote_index_column": 46
        },
        {
         "shop_id": 2,
         "item_id": 2445,
         "item_cnt_day": 1,
         "_deepnote_index_column": 47
        },
        {
         "shop_id": 2,
         "item_id": 2703,
         "item_cnt_day": 1,
         "_deepnote_index_column": 48
        },
        {
         "shop_id": 2,
         "item_id": 2766,
         "item_cnt_day": 1,
         "_deepnote_index_column": 49
        },
        {
         "shop_id": 2,
         "item_id": 2788,
         "item_cnt_day": 3,
         "_deepnote_index_column": 50
        },
        {
         "shop_id": 2,
         "item_id": 2791,
         "item_cnt_day": 1,
         "_deepnote_index_column": 51
        },
        {
         "shop_id": 2,
         "item_id": 2799,
         "item_cnt_day": 1,
         "_deepnote_index_column": 52
        },
        {
         "shop_id": 2,
         "item_id": 2808,
         "item_cnt_day": 1,
         "_deepnote_index_column": 53
        },
        {
         "shop_id": 2,
         "item_id": 2813,
         "item_cnt_day": 2,
         "_deepnote_index_column": 54
        },
        {
         "shop_id": 2,
         "item_id": 2852,
         "item_cnt_day": 2,
         "_deepnote_index_column": 55
        },
        {
         "shop_id": 2,
         "item_id": 2859,
         "item_cnt_day": 2,
         "_deepnote_index_column": 56
        },
        {
         "shop_id": 2,
         "item_id": 2861,
         "item_cnt_day": 2,
         "_deepnote_index_column": 57
        },
        {
         "shop_id": 2,
         "item_id": 2868,
         "item_cnt_day": 1,
         "_deepnote_index_column": 58
        },
        {
         "shop_id": 2,
         "item_id": 2871,
         "item_cnt_day": 1,
         "_deepnote_index_column": 59
        },
        {
         "shop_id": 2,
         "item_id": 2873,
         "item_cnt_day": 1,
         "_deepnote_index_column": 60
        },
        {
         "shop_id": 2,
         "item_id": 2875,
         "item_cnt_day": 1,
         "_deepnote_index_column": 61
        },
        {
         "shop_id": 2,
         "item_id": 2876,
         "item_cnt_day": 2,
         "_deepnote_index_column": 62
        },
        {
         "shop_id": 2,
         "item_id": 2885,
         "item_cnt_day": 1,
         "_deepnote_index_column": 63
        },
        {
         "shop_id": 2,
         "item_id": 2918,
         "item_cnt_day": 2,
         "_deepnote_index_column": 64
        },
        {
         "shop_id": 2,
         "item_id": 2919,
         "item_cnt_day": 2,
         "_deepnote_index_column": 65
        },
        {
         "shop_id": 2,
         "item_id": 2921,
         "item_cnt_day": 1,
         "_deepnote_index_column": 66
        },
        {
         "shop_id": 2,
         "item_id": 2936,
         "item_cnt_day": 1,
         "_deepnote_index_column": 67
        },
        {
         "shop_id": 2,
         "item_id": 2954,
         "item_cnt_day": 1,
         "_deepnote_index_column": 68
        },
        {
         "shop_id": 2,
         "item_id": 2955,
         "item_cnt_day": 1,
         "_deepnote_index_column": 69
        },
        {
         "shop_id": 2,
         "item_id": 2958,
         "item_cnt_day": 1,
         "_deepnote_index_column": 70
        },
        {
         "shop_id": 2,
         "item_id": 2959,
         "item_cnt_day": 1,
         "_deepnote_index_column": 71
        },
        {
         "shop_id": 2,
         "item_id": 2975,
         "item_cnt_day": 1,
         "_deepnote_index_column": 72
        },
        {
         "shop_id": 2,
         "item_id": 3034,
         "item_cnt_day": 1,
         "_deepnote_index_column": 73
        },
        {
         "shop_id": 2,
         "item_id": 3077,
         "item_cnt_day": 1,
         "_deepnote_index_column": 74
        },
        {
         "shop_id": 2,
         "item_id": 3216,
         "item_cnt_day": 1,
         "_deepnote_index_column": 75
        },
        {
         "shop_id": 2,
         "item_id": 3243,
         "item_cnt_day": 2,
         "_deepnote_index_column": 76
        },
        {
         "shop_id": 2,
         "item_id": 3341,
         "item_cnt_day": 4,
         "_deepnote_index_column": 77
        },
        {
         "shop_id": 2,
         "item_id": 3343,
         "item_cnt_day": 2,
         "_deepnote_index_column": 78
        },
        {
         "shop_id": 2,
         "item_id": 3350,
         "item_cnt_day": 8,
         "_deepnote_index_column": 79
        },
        {
         "shop_id": 2,
         "item_id": 3351,
         "item_cnt_day": 4,
         "_deepnote_index_column": 80
        },
        {
         "shop_id": 2,
         "item_id": 3352,
         "item_cnt_day": 6,
         "_deepnote_index_column": 81
        },
        {
         "shop_id": 2,
         "item_id": 3353,
         "item_cnt_day": 3,
         "_deepnote_index_column": 82
        },
        {
         "shop_id": 2,
         "item_id": 3365,
         "item_cnt_day": 1,
         "_deepnote_index_column": 83
        },
        {
         "shop_id": 2,
         "item_id": 3423,
         "item_cnt_day": 1,
         "_deepnote_index_column": 84
        },
        {
         "shop_id": 2,
         "item_id": 3442,
         "item_cnt_day": 2,
         "_deepnote_index_column": 85
        },
        {
         "shop_id": 2,
         "item_id": 3443,
         "item_cnt_day": 2,
         "_deepnote_index_column": 86
        },
        {
         "shop_id": 2,
         "item_id": 3444,
         "item_cnt_day": 3,
         "_deepnote_index_column": 87
        },
        {
         "shop_id": 2,
         "item_id": 3445,
         "item_cnt_day": 2,
         "_deepnote_index_column": 88
        },
        {
         "shop_id": 2,
         "item_id": 3464,
         "item_cnt_day": 1,
         "_deepnote_index_column": 89
        },
        {
         "shop_id": 2,
         "item_id": 3479,
         "item_cnt_day": 1,
         "_deepnote_index_column": 90
        },
        {
         "shop_id": 2,
         "item_id": 3480,
         "item_cnt_day": 2,
         "_deepnote_index_column": 91
        },
        {
         "shop_id": 2,
         "item_id": 3543,
         "item_cnt_day": 1,
         "_deepnote_index_column": 92
        },
        {
         "shop_id": 2,
         "item_id": 3599,
         "item_cnt_day": 1,
         "_deepnote_index_column": 93
        },
        {
         "shop_id": 2,
         "item_id": 3676,
         "item_cnt_day": 1,
         "_deepnote_index_column": 94
        },
        {
         "shop_id": 2,
         "item_id": 3688,
         "item_cnt_day": 1,
         "_deepnote_index_column": 95
        },
        {
         "shop_id": 2,
         "item_id": 3692,
         "item_cnt_day": 1,
         "_deepnote_index_column": 96
        },
        {
         "shop_id": 2,
         "item_id": 3708,
         "item_cnt_day": 2,
         "_deepnote_index_column": 97
        },
        {
         "shop_id": 2,
         "item_id": 3731,
         "item_cnt_day": 4,
         "_deepnote_index_column": 98
        },
        {
         "shop_id": 2,
         "item_id": 3732,
         "item_cnt_day": 1,
         "_deepnote_index_column": 99
        },
        {
         "shop_id": 2,
         "item_id": 3734,
         "item_cnt_day": 1,
         "_deepnote_index_column": 100
        },
        {
         "shop_id": 2,
         "item_id": 3756,
         "item_cnt_day": 2,
         "_deepnote_index_column": 101
        },
        {
         "shop_id": 2,
         "item_id": 3835,
         "item_cnt_day": 1,
         "_deepnote_index_column": 102
        },
        {
         "shop_id": 2,
         "item_id": 3837,
         "item_cnt_day": 1,
         "_deepnote_index_column": 103
        },
        {
         "shop_id": 2,
         "item_id": 3838,
         "item_cnt_day": 2,
         "_deepnote_index_column": 104
        },
        {
         "shop_id": 2,
         "item_id": 3851,
         "item_cnt_day": 1,
         "_deepnote_index_column": 105
        },
        {
         "shop_id": 2,
         "item_id": 3871,
         "item_cnt_day": 1,
         "_deepnote_index_column": 106
        },
        {
         "shop_id": 2,
         "item_id": 3943,
         "item_cnt_day": 1,
         "_deepnote_index_column": 107
        },
        {
         "shop_id": 2,
         "item_id": 4045,
         "item_cnt_day": 1,
         "_deepnote_index_column": 108
        },
        {
         "shop_id": 2,
         "item_id": 4051,
         "item_cnt_day": 1,
         "_deepnote_index_column": 109
        },
        {
         "shop_id": 2,
         "item_id": 4056,
         "item_cnt_day": 1,
         "_deepnote_index_column": 110
        },
        {
         "shop_id": 2,
         "item_id": 4085,
         "item_cnt_day": 1,
         "_deepnote_index_column": 111
        },
        {
         "shop_id": 2,
         "item_id": 4242,
         "item_cnt_day": 1,
         "_deepnote_index_column": 112
        },
        {
         "shop_id": 2,
         "item_id": 4244,
         "item_cnt_day": 1,
         "_deepnote_index_column": 113
        },
        {
         "shop_id": 2,
         "item_id": 4248,
         "item_cnt_day": 1,
         "_deepnote_index_column": 114
        },
        {
         "shop_id": 2,
         "item_id": 4249,
         "item_cnt_day": 2,
         "_deepnote_index_column": 115
        },
        {
         "shop_id": 2,
         "item_id": 4336,
         "item_cnt_day": 1,
         "_deepnote_index_column": 116
        },
        {
         "shop_id": 2,
         "item_id": 4349,
         "item_cnt_day": 1,
         "_deepnote_index_column": 117
        },
        {
         "shop_id": 2,
         "item_id": 4351,
         "item_cnt_day": 3,
         "_deepnote_index_column": 118
        },
        {
         "shop_id": 2,
         "item_id": 4359,
         "item_cnt_day": 1,
         "_deepnote_index_column": 119
        },
        {
         "shop_id": 2,
         "item_id": 4360,
         "item_cnt_day": 1,
         "_deepnote_index_column": 120
        },
        {
         "shop_id": 2,
         "item_id": 4367,
         "item_cnt_day": 2,
         "_deepnote_index_column": 121
        },
        {
         "shop_id": 2,
         "item_id": 4385,
         "item_cnt_day": 1,
         "_deepnote_index_column": 122
        },
        {
         "shop_id": 2,
         "item_id": 4387,
         "item_cnt_day": 5,
         "_deepnote_index_column": 123
        },
        {
         "shop_id": 2,
         "item_id": 4388,
         "item_cnt_day": 1,
         "_deepnote_index_column": 124
        },
        {
         "shop_id": 2,
         "item_id": 4391,
         "item_cnt_day": 1,
         "_deepnote_index_column": 125
        },
        {
         "shop_id": 2,
         "item_id": 4478,
         "item_cnt_day": 1,
         "_deepnote_index_column": 126
        },
        {
         "shop_id": 2,
         "item_id": 4479,
         "item_cnt_day": 3,
         "_deepnote_index_column": 127
        },
        {
         "shop_id": 2,
         "item_id": 4493,
         "item_cnt_day": 1,
         "_deepnote_index_column": 128
        },
        {
         "shop_id": 2,
         "item_id": 4719,
         "item_cnt_day": 4,
         "_deepnote_index_column": 129
        },
        {
         "shop_id": 2,
         "item_id": 4721,
         "item_cnt_day": 1,
         "_deepnote_index_column": 130
        },
        {
         "shop_id": 2,
         "item_id": 4806,
         "item_cnt_day": 2,
         "_deepnote_index_column": 131
        },
        {
         "shop_id": 2,
         "item_id": 4838,
         "item_cnt_day": 2,
         "_deepnote_index_column": 132
        },
        {
         "shop_id": 2,
         "item_id": 4840,
         "item_cnt_day": 3,
         "_deepnote_index_column": 133
        },
        {
         "shop_id": 2,
         "item_id": 4841,
         "item_cnt_day": 1,
         "_deepnote_index_column": 134
        },
        {
         "shop_id": 2,
         "item_id": 4843,
         "item_cnt_day": 2,
         "_deepnote_index_column": 135
        },
        {
         "shop_id": 2,
         "item_id": 4869,
         "item_cnt_day": 1,
         "_deepnote_index_column": 136
        },
        {
         "shop_id": 2,
         "item_id": 4870,
         "item_cnt_day": 3,
         "_deepnote_index_column": 137
        },
        {
         "shop_id": 2,
         "item_id": 4871,
         "item_cnt_day": 1,
         "_deepnote_index_column": 138
        },
        {
         "shop_id": 2,
         "item_id": 4872,
         "item_cnt_day": 1,
         "_deepnote_index_column": 139
        },
        {
         "shop_id": 2,
         "item_id": 4892,
         "item_cnt_day": 2,
         "_deepnote_index_column": 140
        },
        {
         "shop_id": 2,
         "item_id": 4998,
         "item_cnt_day": 1,
         "_deepnote_index_column": 141
        },
        {
         "shop_id": 2,
         "item_id": 5003,
         "item_cnt_day": 2,
         "_deepnote_index_column": 142
        },
        {
         "shop_id": 2,
         "item_id": 5206,
         "item_cnt_day": 1,
         "_deepnote_index_column": 143
        },
        {
         "shop_id": 2,
         "item_id": 5232,
         "item_cnt_day": 2,
         "_deepnote_index_column": 144
        },
        {
         "shop_id": 2,
         "item_id": 5233,
         "item_cnt_day": 2,
         "_deepnote_index_column": 145
        },
        {
         "shop_id": 2,
         "item_id": 5380,
         "item_cnt_day": 1,
         "_deepnote_index_column": 146
        },
        {
         "shop_id": 2,
         "item_id": 5656,
         "item_cnt_day": 1,
         "_deepnote_index_column": 147
        },
        {
         "shop_id": 2,
         "item_id": 5659,
         "item_cnt_day": 1,
         "_deepnote_index_column": 148
        },
        {
         "shop_id": 2,
         "item_id": 5661,
         "item_cnt_day": 1,
         "_deepnote_index_column": 149
        },
        {
         "shop_id": 2,
         "item_id": 5664,
         "item_cnt_day": 1,
         "_deepnote_index_column": 150
        },
        {
         "shop_id": 2,
         "item_id": 5671,
         "item_cnt_day": 1,
         "_deepnote_index_column": 151
        },
        {
         "shop_id": 2,
         "item_id": 5672,
         "item_cnt_day": 2,
         "_deepnote_index_column": 152
        },
        {
         "shop_id": 2,
         "item_id": 5675,
         "item_cnt_day": 6,
         "_deepnote_index_column": 153
        },
        {
         "shop_id": 2,
         "item_id": 5811,
         "item_cnt_day": 1,
         "_deepnote_index_column": 154
        },
        {
         "shop_id": 2,
         "item_id": 5820,
         "item_cnt_day": 1,
         "_deepnote_index_column": 155
        },
        {
         "shop_id": 2,
         "item_id": 5821,
         "item_cnt_day": 1,
         "_deepnote_index_column": 156
        },
        {
         "shop_id": 2,
         "item_id": 5822,
         "item_cnt_day": 2,
         "_deepnote_index_column": 157
        },
        {
         "shop_id": 2,
         "item_id": 5823,
         "item_cnt_day": 1,
         "_deepnote_index_column": 158
        },
        {
         "shop_id": 2,
         "item_id": 5830,
         "item_cnt_day": 1,
         "_deepnote_index_column": 159
        },
        {
         "shop_id": 2,
         "item_id": 5837,
         "item_cnt_day": 1,
         "_deepnote_index_column": 160
        },
        {
         "shop_id": 2,
         "item_id": 5839,
         "item_cnt_day": 1,
         "_deepnote_index_column": 161
        },
        {
         "shop_id": 2,
         "item_id": 5842,
         "item_cnt_day": 1,
         "_deepnote_index_column": 162
        },
        {
         "shop_id": 2,
         "item_id": 5906,
         "item_cnt_day": 1,
         "_deepnote_index_column": 163
        },
        {
         "shop_id": 2,
         "item_id": 5907,
         "item_cnt_day": 1,
         "_deepnote_index_column": 164
        },
        {
         "shop_id": 2,
         "item_id": 5912,
         "item_cnt_day": 1,
         "_deepnote_index_column": 165
        }
       ],
       "rows_bottom": [
        {
         "shop_id": 59,
         "item_id": 13637,
         "item_cnt_day": 1,
         "_deepnote_index_column": 31364
        },
        {
         "shop_id": 59,
         "item_id": 13678,
         "item_cnt_day": 1,
         "_deepnote_index_column": 31365
        },
        {
         "shop_id": 59,
         "item_id": 13696,
         "item_cnt_day": 1,
         "_deepnote_index_column": 31366
        },
        {
         "shop_id": 59,
         "item_id": 13697,
         "item_cnt_day": 2,
         "_deepnote_index_column": 31367
        },
        {
         "shop_id": 59,
         "item_id": 13699,
         "item_cnt_day": 1,
         "_deepnote_index_column": 31368
        },
        {
         "shop_id": 59,
         "item_id": 13708,
         "item_cnt_day": 1,
         "_deepnote_index_column": 31369
        },
        {
         "shop_id": 59,
         "item_id": 13712,
         "item_cnt_day": 1,
         "_deepnote_index_column": 31370
        },
        {
         "shop_id": 59,
         "item_id": 13716,
         "item_cnt_day": 1,
         "_deepnote_index_column": 31371
        },
        {
         "shop_id": 59,
         "item_id": 13717,
         "item_cnt_day": 2,
         "_deepnote_index_column": 31372
        },
        {
         "shop_id": 59,
         "item_id": 13718,
         "item_cnt_day": 1,
         "_deepnote_index_column": 31373
        },
        {
         "shop_id": 59,
         "item_id": 13741,
         "item_cnt_day": 2,
         "_deepnote_index_column": 31374
        },
        {
         "shop_id": 59,
         "item_id": 13818,
         "item_cnt_day": 1,
         "_deepnote_index_column": 31375
        },
        {
         "shop_id": 59,
         "item_id": 13822,
         "item_cnt_day": 1,
         "_deepnote_index_column": 31376
        },
        {
         "shop_id": 59,
         "item_id": 13860,
         "item_cnt_day": 1,
         "_deepnote_index_column": 31377
        },
        {
         "shop_id": 59,
         "item_id": 13869,
         "item_cnt_day": 3,
         "_deepnote_index_column": 31378
        },
        {
         "shop_id": 59,
         "item_id": 13880,
         "item_cnt_day": 2,
         "_deepnote_index_column": 31379
        },
        {
         "shop_id": 59,
         "item_id": 13881,
         "item_cnt_day": 1,
         "_deepnote_index_column": 31380
        },
        {
         "shop_id": 59,
         "item_id": 14020,
         "item_cnt_day": 1,
         "_deepnote_index_column": 31381
        },
        {
         "shop_id": 59,
         "item_id": 14126,
         "item_cnt_day": 1,
         "_deepnote_index_column": 31382
        },
        {
         "shop_id": 59,
         "item_id": 14227,
         "item_cnt_day": 4,
         "_deepnote_index_column": 31383
        },
        {
         "shop_id": 59,
         "item_id": 14228,
         "item_cnt_day": 3,
         "_deepnote_index_column": 31384
        },
        {
         "shop_id": 59,
         "item_id": 14229,
         "item_cnt_day": 3,
         "_deepnote_index_column": 31385
        },
        {
         "shop_id": 59,
         "item_id": 14286,
         "item_cnt_day": 1,
         "_deepnote_index_column": 31386
        },
        {
         "shop_id": 59,
         "item_id": 14308,
         "item_cnt_day": 1,
         "_deepnote_index_column": 31387
        },
        {
         "shop_id": 59,
         "item_id": 14437,
         "item_cnt_day": 1,
         "_deepnote_index_column": 31388
        },
        {
         "shop_id": 59,
         "item_id": 14458,
         "item_cnt_day": 2,
         "_deepnote_index_column": 31389
        },
        {
         "shop_id": 59,
         "item_id": 14525,
         "item_cnt_day": 2,
         "_deepnote_index_column": 31390
        },
        {
         "shop_id": 59,
         "item_id": 14550,
         "item_cnt_day": 1,
         "_deepnote_index_column": 31391
        },
        {
         "shop_id": 59,
         "item_id": 14663,
         "item_cnt_day": 1,
         "_deepnote_index_column": 31392
        },
        {
         "shop_id": 59,
         "item_id": 14712,
         "item_cnt_day": 1,
         "_deepnote_index_column": 31393
        },
        {
         "shop_id": 59,
         "item_id": 14801,
         "item_cnt_day": 3,
         "_deepnote_index_column": 31394
        },
        {
         "shop_id": 59,
         "item_id": 14802,
         "item_cnt_day": 1,
         "_deepnote_index_column": 31395
        },
        {
         "shop_id": 59,
         "item_id": 14803,
         "item_cnt_day": 1,
         "_deepnote_index_column": 31396
        },
        {
         "shop_id": 59,
         "item_id": 14840,
         "item_cnt_day": 3,
         "_deepnote_index_column": 31397
        },
        {
         "shop_id": 59,
         "item_id": 15040,
         "item_cnt_day": 1,
         "_deepnote_index_column": 31398
        },
        {
         "shop_id": 59,
         "item_id": 15045,
         "item_cnt_day": 1,
         "_deepnote_index_column": 31399
        },
        {
         "shop_id": 59,
         "item_id": 15047,
         "item_cnt_day": 1,
         "_deepnote_index_column": 31400
        },
        {
         "shop_id": 59,
         "item_id": 15049,
         "item_cnt_day": 1,
         "_deepnote_index_column": 31401
        },
        {
         "shop_id": 59,
         "item_id": 15050,
         "item_cnt_day": 1,
         "_deepnote_index_column": 31402
        },
        {
         "shop_id": 59,
         "item_id": 15067,
         "item_cnt_day": 2,
         "_deepnote_index_column": 31403
        },
        {
         "shop_id": 59,
         "item_id": 15069,
         "item_cnt_day": 3,
         "_deepnote_index_column": 31404
        },
        {
         "shop_id": 59,
         "item_id": 15213,
         "item_cnt_day": 1,
         "_deepnote_index_column": 31405
        },
        {
         "shop_id": 59,
         "item_id": 15238,
         "item_cnt_day": 5,
         "_deepnote_index_column": 31406
        },
        {
         "shop_id": 59,
         "item_id": 15240,
         "item_cnt_day": 3,
         "_deepnote_index_column": 31407
        },
        {
         "shop_id": 59,
         "item_id": 15255,
         "item_cnt_day": 1,
         "_deepnote_index_column": 31408
        },
        {
         "shop_id": 59,
         "item_id": 15256,
         "item_cnt_day": 2,
         "_deepnote_index_column": 31409
        },
        {
         "shop_id": 59,
         "item_id": 15257,
         "item_cnt_day": 2,
         "_deepnote_index_column": 31410
        },
        {
         "shop_id": 59,
         "item_id": 15261,
         "item_cnt_day": 2,
         "_deepnote_index_column": 31411
        },
        {
         "shop_id": 59,
         "item_id": 15262,
         "item_cnt_day": 1,
         "_deepnote_index_column": 31412
        },
        {
         "shop_id": 59,
         "item_id": 15265,
         "item_cnt_day": 2,
         "_deepnote_index_column": 31413
        },
        {
         "shop_id": 59,
         "item_id": 15270,
         "item_cnt_day": 1,
         "_deepnote_index_column": 31414
        },
        {
         "shop_id": 59,
         "item_id": 15278,
         "item_cnt_day": 1,
         "_deepnote_index_column": 31415
        },
        {
         "shop_id": 59,
         "item_id": 15284,
         "item_cnt_day": 1,
         "_deepnote_index_column": 31416
        },
        {
         "shop_id": 59,
         "item_id": 15285,
         "item_cnt_day": 1,
         "_deepnote_index_column": 31417
        },
        {
         "shop_id": 59,
         "item_id": 15290,
         "item_cnt_day": 1,
         "_deepnote_index_column": 31418
        },
        {
         "shop_id": 59,
         "item_id": 15411,
         "item_cnt_day": 1,
         "_deepnote_index_column": 31419
        },
        {
         "shop_id": 59,
         "item_id": 15444,
         "item_cnt_day": 1,
         "_deepnote_index_column": 31420
        },
        {
         "shop_id": 59,
         "item_id": 15481,
         "item_cnt_day": 1,
         "_deepnote_index_column": 31421
        },
        {
         "shop_id": 59,
         "item_id": 15491,
         "item_cnt_day": 1,
         "_deepnote_index_column": 31422
        },
        {
         "shop_id": 59,
         "item_id": 15492,
         "item_cnt_day": 1,
         "_deepnote_index_column": 31423
        },
        {
         "shop_id": 59,
         "item_id": 15497,
         "item_cnt_day": 1,
         "_deepnote_index_column": 31424
        },
        {
         "shop_id": 59,
         "item_id": 15546,
         "item_cnt_day": 1,
         "_deepnote_index_column": 31425
        },
        {
         "shop_id": 59,
         "item_id": 15552,
         "item_cnt_day": 2,
         "_deepnote_index_column": 31426
        },
        {
         "shop_id": 59,
         "item_id": 15706,
         "item_cnt_day": 1,
         "_deepnote_index_column": 31427
        },
        {
         "shop_id": 59,
         "item_id": 15757,
         "item_cnt_day": 1,
         "_deepnote_index_column": 31428
        },
        {
         "shop_id": 59,
         "item_id": 15787,
         "item_cnt_day": 1,
         "_deepnote_index_column": 31429
        },
        {
         "shop_id": 59,
         "item_id": 15812,
         "item_cnt_day": 1,
         "_deepnote_index_column": 31430
        },
        {
         "shop_id": 59,
         "item_id": 15854,
         "item_cnt_day": 1,
         "_deepnote_index_column": 31431
        },
        {
         "shop_id": 59,
         "item_id": 15866,
         "item_cnt_day": 1,
         "_deepnote_index_column": 31432
        },
        {
         "shop_id": 59,
         "item_id": 16003,
         "item_cnt_day": 1,
         "_deepnote_index_column": 31433
        },
        {
         "shop_id": 59,
         "item_id": 16059,
         "item_cnt_day": 1,
         "_deepnote_index_column": 31434
        },
        {
         "shop_id": 59,
         "item_id": 16071,
         "item_cnt_day": 1,
         "_deepnote_index_column": 31435
        },
        {
         "shop_id": 59,
         "item_id": 16135,
         "item_cnt_day": 1,
         "_deepnote_index_column": 31436
        },
        {
         "shop_id": 59,
         "item_id": 16147,
         "item_cnt_day": 1,
         "_deepnote_index_column": 31437
        },
        {
         "shop_id": 59,
         "item_id": 16155,
         "item_cnt_day": 1,
         "_deepnote_index_column": 31438
        },
        {
         "shop_id": 59,
         "item_id": 16156,
         "item_cnt_day": 1,
         "_deepnote_index_column": 31439
        },
        {
         "shop_id": 59,
         "item_id": 16195,
         "item_cnt_day": 1,
         "_deepnote_index_column": 31440
        },
        {
         "shop_id": 59,
         "item_id": 16287,
         "item_cnt_day": 1,
         "_deepnote_index_column": 31441
        },
        {
         "shop_id": 59,
         "item_id": 16450,
         "item_cnt_day": 1,
         "_deepnote_index_column": 31442
        },
        {
         "shop_id": 59,
         "item_id": 16503,
         "item_cnt_day": 1,
         "_deepnote_index_column": 31443
        },
        {
         "shop_id": 59,
         "item_id": 16569,
         "item_cnt_day": 1,
         "_deepnote_index_column": 31444
        },
        {
         "shop_id": 59,
         "item_id": 16639,
         "item_cnt_day": 1,
         "_deepnote_index_column": 31445
        },
        {
         "shop_id": 59,
         "item_id": 16788,
         "item_cnt_day": 1,
         "_deepnote_index_column": 31446
        },
        {
         "shop_id": 59,
         "item_id": 16790,
         "item_cnt_day": 1,
         "_deepnote_index_column": 31447
        },
        {
         "shop_id": 59,
         "item_id": 16825,
         "item_cnt_day": 1,
         "_deepnote_index_column": 31448
        },
        {
         "shop_id": 59,
         "item_id": 16843,
         "item_cnt_day": 1,
         "_deepnote_index_column": 31449
        },
        {
         "shop_id": 59,
         "item_id": 16889,
         "item_cnt_day": 1,
         "_deepnote_index_column": 31450
        },
        {
         "shop_id": 59,
         "item_id": 16898,
         "item_cnt_day": 1,
         "_deepnote_index_column": 31451
        },
        {
         "shop_id": 59,
         "item_id": 16923,
         "item_cnt_day": 1,
         "_deepnote_index_column": 31452
        },
        {
         "shop_id": 59,
         "item_id": 17027,
         "item_cnt_day": 1,
         "_deepnote_index_column": 31453
        },
        {
         "shop_id": 59,
         "item_id": 17031,
         "item_cnt_day": 3,
         "_deepnote_index_column": 31454
        },
        {
         "shop_id": 59,
         "item_id": 17032,
         "item_cnt_day": 1,
         "_deepnote_index_column": 31455
        },
        {
         "shop_id": 59,
         "item_id": 17110,
         "item_cnt_day": 1,
         "_deepnote_index_column": 31456
        },
        {
         "shop_id": 59,
         "item_id": 17168,
         "item_cnt_day": 1,
         "_deepnote_index_column": 31457
        },
        {
         "shop_id": 59,
         "item_id": 17229,
         "item_cnt_day": 1,
         "_deepnote_index_column": 31458
        },
        {
         "shop_id": 59,
         "item_id": 17261,
         "item_cnt_day": 1,
         "_deepnote_index_column": 31459
        },
        {
         "shop_id": 59,
         "item_id": 17270,
         "item_cnt_day": 1,
         "_deepnote_index_column": 31460
        },
        {
         "shop_id": 59,
         "item_id": 17279,
         "item_cnt_day": 1,
         "_deepnote_index_column": 31461
        },
        {
         "shop_id": 59,
         "item_id": 17306,
         "item_cnt_day": 1,
         "_deepnote_index_column": 31462
        },
        {
         "shop_id": 59,
         "item_id": 17376,
         "item_cnt_day": 1,
         "_deepnote_index_column": 31463
        },
        {
         "shop_id": 59,
         "item_id": 17409,
         "item_cnt_day": 1,
         "_deepnote_index_column": 31464
        },
        {
         "shop_id": 59,
         "item_id": 17458,
         "item_cnt_day": 1,
         "_deepnote_index_column": 31465
        },
        {
         "shop_id": 59,
         "item_id": 17660,
         "item_cnt_day": 1,
         "_deepnote_index_column": 31466
        },
        {
         "shop_id": 59,
         "item_id": 17717,
         "item_cnt_day": 13,
         "_deepnote_index_column": 31467
        },
        {
         "shop_id": 59,
         "item_id": 17748,
         "item_cnt_day": 1,
         "_deepnote_index_column": 31468
        },
        {
         "shop_id": 59,
         "item_id": 17755,
         "item_cnt_day": 1,
         "_deepnote_index_column": 31469
        },
        {
         "shop_id": 59,
         "item_id": 17772,
         "item_cnt_day": 2,
         "_deepnote_index_column": 31470
        },
        {
         "shop_id": 59,
         "item_id": 17773,
         "item_cnt_day": 1,
         "_deepnote_index_column": 31471
        },
        {
         "shop_id": 59,
         "item_id": 17774,
         "item_cnt_day": 1,
         "_deepnote_index_column": 31472
        },
        {
         "shop_id": 59,
         "item_id": 17775,
         "item_cnt_day": 6,
         "_deepnote_index_column": 31473
        },
        {
         "shop_id": 59,
         "item_id": 17811,
         "item_cnt_day": 1,
         "_deepnote_index_column": 31474
        },
        {
         "shop_id": 59,
         "item_id": 18115,
         "item_cnt_day": 1,
         "_deepnote_index_column": 31475
        },
        {
         "shop_id": 59,
         "item_id": 18255,
         "item_cnt_day": 1,
         "_deepnote_index_column": 31476
        },
        {
         "shop_id": 59,
         "item_id": 18275,
         "item_cnt_day": 1,
         "_deepnote_index_column": 31477
        },
        {
         "shop_id": 59,
         "item_id": 18438,
         "item_cnt_day": 1,
         "_deepnote_index_column": 31478
        },
        {
         "shop_id": 59,
         "item_id": 18441,
         "item_cnt_day": 1,
         "_deepnote_index_column": 31479
        },
        {
         "shop_id": 59,
         "item_id": 18479,
         "item_cnt_day": 1,
         "_deepnote_index_column": 31480
        },
        {
         "shop_id": 59,
         "item_id": 18511,
         "item_cnt_day": 1,
         "_deepnote_index_column": 31481
        },
        {
         "shop_id": 59,
         "item_id": 18595,
         "item_cnt_day": 2,
         "_deepnote_index_column": 31482
        },
        {
         "shop_id": 59,
         "item_id": 18924,
         "item_cnt_day": 1,
         "_deepnote_index_column": 31483
        },
        {
         "shop_id": 59,
         "item_id": 19001,
         "item_cnt_day": 1,
         "_deepnote_index_column": 31484
        },
        {
         "shop_id": 59,
         "item_id": 19046,
         "item_cnt_day": 1,
         "_deepnote_index_column": 31485
        },
        {
         "shop_id": 59,
         "item_id": 19093,
         "item_cnt_day": 1,
         "_deepnote_index_column": 31486
        },
        {
         "shop_id": 59,
         "item_id": 19144,
         "item_cnt_day": 1,
         "_deepnote_index_column": 31487
        },
        {
         "shop_id": 59,
         "item_id": 19289,
         "item_cnt_day": 1,
         "_deepnote_index_column": 31488
        },
        {
         "shop_id": 59,
         "item_id": 19291,
         "item_cnt_day": 1,
         "_deepnote_index_column": 31489
        },
        {
         "shop_id": 59,
         "item_id": 19345,
         "item_cnt_day": 1,
         "_deepnote_index_column": 31490
        },
        {
         "shop_id": 59,
         "item_id": 19406,
         "item_cnt_day": 1,
         "_deepnote_index_column": 31491
        },
        {
         "shop_id": 59,
         "item_id": 19438,
         "item_cnt_day": 1,
         "_deepnote_index_column": 31492
        },
        {
         "shop_id": 59,
         "item_id": 19576,
         "item_cnt_day": 1,
         "_deepnote_index_column": 31493
        },
        {
         "shop_id": 59,
         "item_id": 19588,
         "item_cnt_day": 1,
         "_deepnote_index_column": 31494
        },
        {
         "shop_id": 59,
         "item_id": 19650,
         "item_cnt_day": 2,
         "_deepnote_index_column": 31495
        },
        {
         "shop_id": 59,
         "item_id": 19655,
         "item_cnt_day": 4,
         "_deepnote_index_column": 31496
        },
        {
         "shop_id": 59,
         "item_id": 19659,
         "item_cnt_day": 1,
         "_deepnote_index_column": 31497
        },
        {
         "shop_id": 59,
         "item_id": 19672,
         "item_cnt_day": 1,
         "_deepnote_index_column": 31498
        },
        {
         "shop_id": 59,
         "item_id": 19688,
         "item_cnt_day": 1,
         "_deepnote_index_column": 31499
        },
        {
         "shop_id": 59,
         "item_id": 19797,
         "item_cnt_day": 1,
         "_deepnote_index_column": 31500
        },
        {
         "shop_id": 59,
         "item_id": 19894,
         "item_cnt_day": 1,
         "_deepnote_index_column": 31501
        },
        {
         "shop_id": 59,
         "item_id": 19985,
         "item_cnt_day": 1,
         "_deepnote_index_column": 31502
        },
        {
         "shop_id": 59,
         "item_id": 20303,
         "item_cnt_day": 1,
         "_deepnote_index_column": 31503
        },
        {
         "shop_id": 59,
         "item_id": 20305,
         "item_cnt_day": 1,
         "_deepnote_index_column": 31504
        },
        {
         "shop_id": 59,
         "item_id": 20335,
         "item_cnt_day": 1,
         "_deepnote_index_column": 31505
        },
        {
         "shop_id": 59,
         "item_id": 20355,
         "item_cnt_day": 1,
         "_deepnote_index_column": 31506
        },
        {
         "shop_id": 59,
         "item_id": 20392,
         "item_cnt_day": 1,
         "_deepnote_index_column": 31507
        },
        {
         "shop_id": 59,
         "item_id": 20604,
         "item_cnt_day": 2,
         "_deepnote_index_column": 31508
        },
        {
         "shop_id": 59,
         "item_id": 20614,
         "item_cnt_day": 1,
         "_deepnote_index_column": 31509
        },
        {
         "shop_id": 59,
         "item_id": 20629,
         "item_cnt_day": 1,
         "_deepnote_index_column": 31510
        },
        {
         "shop_id": 59,
         "item_id": 20730,
         "item_cnt_day": 1,
         "_deepnote_index_column": 31511
        },
        {
         "shop_id": 59,
         "item_id": 20751,
         "item_cnt_day": 1,
         "_deepnote_index_column": 31512
        },
        {
         "shop_id": 59,
         "item_id": 20866,
         "item_cnt_day": 4,
         "_deepnote_index_column": 31513
        },
        {
         "shop_id": 59,
         "item_id": 20949,
         "item_cnt_day": 19,
         "_deepnote_index_column": 31514
        },
        {
         "shop_id": 59,
         "item_id": 21361,
         "item_cnt_day": 1,
         "_deepnote_index_column": 31515
        },
        {
         "shop_id": 59,
         "item_id": 21364,
         "item_cnt_day": 1,
         "_deepnote_index_column": 31516
        },
        {
         "shop_id": 59,
         "item_id": 21369,
         "item_cnt_day": 2,
         "_deepnote_index_column": 31517
        },
        {
         "shop_id": 59,
         "item_id": 21377,
         "item_cnt_day": 1,
         "_deepnote_index_column": 31518
        },
        {
         "shop_id": 59,
         "item_id": 21386,
         "item_cnt_day": 1,
         "_deepnote_index_column": 31519
        },
        {
         "shop_id": 59,
         "item_id": 21404,
         "item_cnt_day": 1,
         "_deepnote_index_column": 31520
        },
        {
         "shop_id": 59,
         "item_id": 21427,
         "item_cnt_day": 1,
         "_deepnote_index_column": 31521
        },
        {
         "shop_id": 59,
         "item_id": 21449,
         "item_cnt_day": 2,
         "_deepnote_index_column": 31522
        },
        {
         "shop_id": 59,
         "item_id": 21672,
         "item_cnt_day": 1,
         "_deepnote_index_column": 31523
        },
        {
         "shop_id": 59,
         "item_id": 21811,
         "item_cnt_day": 1,
         "_deepnote_index_column": 31524
        },
        {
         "shop_id": 59,
         "item_id": 21812,
         "item_cnt_day": 1,
         "_deepnote_index_column": 31525
        },
        {
         "shop_id": 59,
         "item_id": 22087,
         "item_cnt_day": 6,
         "_deepnote_index_column": 31526
        },
        {
         "shop_id": 59,
         "item_id": 22088,
         "item_cnt_day": 2,
         "_deepnote_index_column": 31527
        },
        {
         "shop_id": 59,
         "item_id": 22091,
         "item_cnt_day": 1,
         "_deepnote_index_column": 31528
        },
        {
         "shop_id": 59,
         "item_id": 22100,
         "item_cnt_day": 1,
         "_deepnote_index_column": 31529
        },
        {
         "shop_id": 59,
         "item_id": 22102,
         "item_cnt_day": 1,
         "_deepnote_index_column": 31530
        }
       ]
      },
      "text/plain": "       shop_id  item_id  item_cnt_day\n0            2       31           1.0\n1            2      486           3.0\n2            2      787           1.0\n3            2      794           1.0\n4            2      968           1.0\n...        ...      ...           ...\n31526       59    22087           6.0\n31527       59    22088           2.0\n31528       59    22091           1.0\n31529       59    22100           1.0\n31530       59    22102           1.0\n\n[31531 rows x 3 columns]",
      "text/html": "<div>\n<style scoped>\n    .dataframe tbody tr th:only-of-type {\n        vertical-align: middle;\n    }\n\n    .dataframe tbody tr th {\n        vertical-align: top;\n    }\n\n    .dataframe thead th {\n        text-align: right;\n    }\n</style>\n<table border=\"1\" class=\"dataframe\">\n  <thead>\n    <tr style=\"text-align: right;\">\n      <th></th>\n      <th>shop_id</th>\n      <th>item_id</th>\n      <th>item_cnt_day</th>\n    </tr>\n  </thead>\n  <tbody>\n    <tr>\n      <th>0</th>\n      <td>2</td>\n      <td>31</td>\n      <td>1.0</td>\n    </tr>\n    <tr>\n      <th>1</th>\n      <td>2</td>\n      <td>486</td>\n      <td>3.0</td>\n    </tr>\n    <tr>\n      <th>2</th>\n      <td>2</td>\n      <td>787</td>\n      <td>1.0</td>\n    </tr>\n    <tr>\n      <th>3</th>\n      <td>2</td>\n      <td>794</td>\n      <td>1.0</td>\n    </tr>\n    <tr>\n      <th>4</th>\n      <td>2</td>\n      <td>968</td>\n      <td>1.0</td>\n    </tr>\n    <tr>\n      <th>...</th>\n      <td>...</td>\n      <td>...</td>\n      <td>...</td>\n    </tr>\n    <tr>\n      <th>31526</th>\n      <td>59</td>\n      <td>22087</td>\n      <td>6.0</td>\n    </tr>\n    <tr>\n      <th>31527</th>\n      <td>59</td>\n      <td>22088</td>\n      <td>2.0</td>\n    </tr>\n    <tr>\n      <th>31528</th>\n      <td>59</td>\n      <td>22091</td>\n      <td>1.0</td>\n    </tr>\n    <tr>\n      <th>31529</th>\n      <td>59</td>\n      <td>22100</td>\n      <td>1.0</td>\n    </tr>\n    <tr>\n      <th>31530</th>\n      <td>59</td>\n      <td>22102</td>\n      <td>1.0</td>\n    </tr>\n  </tbody>\n</table>\n<p>31531 rows × 3 columns</p>\n</div>"
     },
     "metadata": {}
    }
   ]
  },
  {
   "cell_type": "code",
   "metadata": {
    "cell_id": "00023-f576533e-9229-4e70-8b82-ea97e044e2bd",
    "deepnote_to_be_reexecuted": false,
    "source_hash": "e9dc025f",
    "execution_start": 1620730659638,
    "execution_millis": 28,
    "deepnote_cell_type": "code"
   },
   "source": "df_test",
   "execution_count": null,
   "outputs": [
    {
     "output_type": "execute_result",
     "execution_count": 24,
     "data": {
      "application/vnd.deepnote.dataframe.v2+json": {
       "row_count": 214200,
       "column_count": 2,
       "columns": [
        {
         "name": "shop_id",
         "dtype": "int64"
        },
        {
         "name": "item_id",
         "dtype": "int64"
        },
        {
         "name": "_deepnote_index_column",
         "dtype": "int64"
        }
       ],
       "rows_top": [
        {
         "shop_id": 5,
         "item_id": 5037,
         "_deepnote_index_column": 0
        },
        {
         "shop_id": 5,
         "item_id": 5320,
         "_deepnote_index_column": 1
        },
        {
         "shop_id": 5,
         "item_id": 5233,
         "_deepnote_index_column": 2
        },
        {
         "shop_id": 5,
         "item_id": 5232,
         "_deepnote_index_column": 3
        },
        {
         "shop_id": 5,
         "item_id": 5268,
         "_deepnote_index_column": 4
        },
        {
         "shop_id": 5,
         "item_id": 5039,
         "_deepnote_index_column": 5
        },
        {
         "shop_id": 5,
         "item_id": 5041,
         "_deepnote_index_column": 6
        },
        {
         "shop_id": 5,
         "item_id": 5046,
         "_deepnote_index_column": 7
        },
        {
         "shop_id": 5,
         "item_id": 5319,
         "_deepnote_index_column": 8
        },
        {
         "shop_id": 5,
         "item_id": 5003,
         "_deepnote_index_column": 9
        },
        {
         "shop_id": 5,
         "item_id": 4806,
         "_deepnote_index_column": 10
        },
        {
         "shop_id": 5,
         "item_id": 4843,
         "_deepnote_index_column": 11
        },
        {
         "shop_id": 5,
         "item_id": 4607,
         "_deepnote_index_column": 12
        },
        {
         "shop_id": 5,
         "item_id": 4869,
         "_deepnote_index_column": 13
        },
        {
         "shop_id": 5,
         "item_id": 4870,
         "_deepnote_index_column": 14
        },
        {
         "shop_id": 5,
         "item_id": 4872,
         "_deepnote_index_column": 15
        },
        {
         "shop_id": 5,
         "item_id": 4874,
         "_deepnote_index_column": 16
        },
        {
         "shop_id": 5,
         "item_id": 4678,
         "_deepnote_index_column": 17
        },
        {
         "shop_id": 5,
         "item_id": 4892,
         "_deepnote_index_column": 18
        },
        {
         "shop_id": 5,
         "item_id": 4964,
         "_deepnote_index_column": 19
        },
        {
         "shop_id": 5,
         "item_id": 4717,
         "_deepnote_index_column": 20
        },
        {
         "shop_id": 5,
         "item_id": 5002,
         "_deepnote_index_column": 21
        },
        {
         "shop_id": 5,
         "item_id": 5823,
         "_deepnote_index_column": 22
        },
        {
         "shop_id": 5,
         "item_id": 5814,
         "_deepnote_index_column": 23
        },
        {
         "shop_id": 5,
         "item_id": 5900,
         "_deepnote_index_column": 24
        },
        {
         "shop_id": 5,
         "item_id": 5907,
         "_deepnote_index_column": 25
        },
        {
         "shop_id": 5,
         "item_id": 5908,
         "_deepnote_index_column": 26
        },
        {
         "shop_id": 5,
         "item_id": 5643,
         "_deepnote_index_column": 27
        },
        {
         "shop_id": 5,
         "item_id": 5657,
         "_deepnote_index_column": 28
        },
        {
         "shop_id": 5,
         "item_id": 5675,
         "_deepnote_index_column": 29
        },
        {
         "shop_id": 5,
         "item_id": 5666,
         "_deepnote_index_column": 30
        },
        {
         "shop_id": 5,
         "item_id": 5668,
         "_deepnote_index_column": 31
        },
        {
         "shop_id": 5,
         "item_id": 5669,
         "_deepnote_index_column": 32
        },
        {
         "shop_id": 5,
         "item_id": 5672,
         "_deepnote_index_column": 33
        },
        {
         "shop_id": 5,
         "item_id": 5653,
         "_deepnote_index_column": 34
        },
        {
         "shop_id": 5,
         "item_id": 5678,
         "_deepnote_index_column": 35
        },
        {
         "shop_id": 5,
         "item_id": 5674,
         "_deepnote_index_column": 36
        },
        {
         "shop_id": 5,
         "item_id": 5671,
         "_deepnote_index_column": 37
        },
        {
         "shop_id": 5,
         "item_id": 5845,
         "_deepnote_index_column": 38
        },
        {
         "shop_id": 5,
         "item_id": 5841,
         "_deepnote_index_column": 39
        },
        {
         "shop_id": 5,
         "item_id": 5840,
         "_deepnote_index_column": 40
        },
        {
         "shop_id": 5,
         "item_id": 5820,
         "_deepnote_index_column": 41
        },
        {
         "shop_id": 5,
         "item_id": 5821,
         "_deepnote_index_column": 42
        },
        {
         "shop_id": 5,
         "item_id": 5822,
         "_deepnote_index_column": 43
        },
        {
         "shop_id": 5,
         "item_id": 5824,
         "_deepnote_index_column": 44
        },
        {
         "shop_id": 5,
         "item_id": 5826,
         "_deepnote_index_column": 45
        },
        {
         "shop_id": 5,
         "item_id": 5827,
         "_deepnote_index_column": 46
        },
        {
         "shop_id": 5,
         "item_id": 5828,
         "_deepnote_index_column": 47
        },
        {
         "shop_id": 5,
         "item_id": 5829,
         "_deepnote_index_column": 48
        },
        {
         "shop_id": 5,
         "item_id": 5837,
         "_deepnote_index_column": 49
        },
        {
         "shop_id": 5,
         "item_id": 5838,
         "_deepnote_index_column": 50
        },
        {
         "shop_id": 5,
         "item_id": 5839,
         "_deepnote_index_column": 51
        },
        {
         "shop_id": 5,
         "item_id": 5459,
         "_deepnote_index_column": 52
        },
        {
         "shop_id": 5,
         "item_id": 5830,
         "_deepnote_index_column": 53
        },
        {
         "shop_id": 5,
         "item_id": 3731,
         "_deepnote_index_column": 54
        },
        {
         "shop_id": 5,
         "item_id": 4719,
         "_deepnote_index_column": 55
        },
        {
         "shop_id": 5,
         "item_id": 3341,
         "_deepnote_index_column": 56
        },
        {
         "shop_id": 5,
         "item_id": 3343,
         "_deepnote_index_column": 57
        },
        {
         "shop_id": 5,
         "item_id": 3350,
         "_deepnote_index_column": 58
        },
        {
         "shop_id": 5,
         "item_id": 3351,
         "_deepnote_index_column": 59
        },
        {
         "shop_id": 5,
         "item_id": 3352,
         "_deepnote_index_column": 60
        },
        {
         "shop_id": 5,
         "item_id": 3364,
         "_deepnote_index_column": 61
        },
        {
         "shop_id": 5,
         "item_id": 3365,
         "_deepnote_index_column": 62
        },
        {
         "shop_id": 5,
         "item_id": 3537,
         "_deepnote_index_column": 63
        },
        {
         "shop_id": 5,
         "item_id": 3538,
         "_deepnote_index_column": 64
        },
        {
         "shop_id": 5,
         "item_id": 3571,
         "_deepnote_index_column": 65
        },
        {
         "shop_id": 5,
         "item_id": 3676,
         "_deepnote_index_column": 66
        },
        {
         "shop_id": 5,
         "item_id": 3677,
         "_deepnote_index_column": 67
        },
        {
         "shop_id": 5,
         "item_id": 3678,
         "_deepnote_index_column": 68
        },
        {
         "shop_id": 5,
         "item_id": 3686,
         "_deepnote_index_column": 69
        },
        {
         "shop_id": 5,
         "item_id": 3604,
         "_deepnote_index_column": 70
        },
        {
         "shop_id": 5,
         "item_id": 3353,
         "_deepnote_index_column": 71
        },
        {
         "shop_id": 5,
         "item_id": 3334,
         "_deepnote_index_column": 72
        },
        {
         "shop_id": 5,
         "item_id": 3331,
         "_deepnote_index_column": 73
        },
        {
         "shop_id": 5,
         "item_id": 3407,
         "_deepnote_index_column": 74
        },
        {
         "shop_id": 5,
         "item_id": 3408,
         "_deepnote_index_column": 75
        },
        {
         "shop_id": 5,
         "item_id": 5962,
         "_deepnote_index_column": 76
        },
        {
         "shop_id": 5,
         "item_id": 3405,
         "_deepnote_index_column": 77
        },
        {
         "shop_id": 5,
         "item_id": 3423,
         "_deepnote_index_column": 78
        },
        {
         "shop_id": 5,
         "item_id": 3442,
         "_deepnote_index_column": 79
        },
        {
         "shop_id": 5,
         "item_id": 3443,
         "_deepnote_index_column": 80
        },
        {
         "shop_id": 5,
         "item_id": 3444,
         "_deepnote_index_column": 81
        },
        {
         "shop_id": 5,
         "item_id": 3445,
         "_deepnote_index_column": 82
        },
        {
         "shop_id": 5,
         "item_id": 3464,
         "_deepnote_index_column": 83
        },
        {
         "shop_id": 5,
         "item_id": 4244,
         "_deepnote_index_column": 84
        },
        {
         "shop_id": 5,
         "item_id": 4248,
         "_deepnote_index_column": 85
        },
        {
         "shop_id": 5,
         "item_id": 4249,
         "_deepnote_index_column": 86
        },
        {
         "shop_id": 5,
         "item_id": 4107,
         "_deepnote_index_column": 87
        },
        {
         "shop_id": 5,
         "item_id": 4351,
         "_deepnote_index_column": 88
        },
        {
         "shop_id": 5,
         "item_id": 4357,
         "_deepnote_index_column": 89
        },
        {
         "shop_id": 5,
         "item_id": 4365,
         "_deepnote_index_column": 90
        },
        {
         "shop_id": 5,
         "item_id": 4367,
         "_deepnote_index_column": 91
        },
        {
         "shop_id": 5,
         "item_id": 4385,
         "_deepnote_index_column": 92
        },
        {
         "shop_id": 5,
         "item_id": 4389,
         "_deepnote_index_column": 93
        },
        {
         "shop_id": 5,
         "item_id": 4479,
         "_deepnote_index_column": 94
        },
        {
         "shop_id": 5,
         "item_id": 4442,
         "_deepnote_index_column": 95
        },
        {
         "shop_id": 5,
         "item_id": 4363,
         "_deepnote_index_column": 96
        },
        {
         "shop_id": 5,
         "item_id": 4240,
         "_deepnote_index_column": 97
        },
        {
         "shop_id": 5,
         "item_id": 4233,
         "_deepnote_index_column": 98
        },
        {
         "shop_id": 5,
         "item_id": 3732,
         "_deepnote_index_column": 99
        },
        {
         "shop_id": 5,
         "item_id": 3733,
         "_deepnote_index_column": 100
        },
        {
         "shop_id": 5,
         "item_id": 3756,
         "_deepnote_index_column": 101
        },
        {
         "shop_id": 5,
         "item_id": 3835,
         "_deepnote_index_column": 102
        },
        {
         "shop_id": 5,
         "item_id": 3837,
         "_deepnote_index_column": 103
        },
        {
         "shop_id": 5,
         "item_id": 3840,
         "_deepnote_index_column": 104
        },
        {
         "shop_id": 5,
         "item_id": 3831,
         "_deepnote_index_column": 105
        },
        {
         "shop_id": 5,
         "item_id": 3898,
         "_deepnote_index_column": 106
        },
        {
         "shop_id": 5,
         "item_id": 3928,
         "_deepnote_index_column": 107
        },
        {
         "shop_id": 5,
         "item_id": 3967,
         "_deepnote_index_column": 108
        },
        {
         "shop_id": 5,
         "item_id": 3984,
         "_deepnote_index_column": 109
        },
        {
         "shop_id": 5,
         "item_id": 4052,
         "_deepnote_index_column": 110
        },
        {
         "shop_id": 5,
         "item_id": 4053,
         "_deepnote_index_column": 111
        },
        {
         "shop_id": 5,
         "item_id": 4054,
         "_deepnote_index_column": 112
        },
        {
         "shop_id": 5,
         "item_id": 4055,
         "_deepnote_index_column": 113
        },
        {
         "shop_id": 5,
         "item_id": 4228,
         "_deepnote_index_column": 114
        },
        {
         "shop_id": 5,
         "item_id": 6062,
         "_deepnote_index_column": 115
        },
        {
         "shop_id": 5,
         "item_id": 8327,
         "_deepnote_index_column": 116
        },
        {
         "shop_id": 5,
         "item_id": 6002,
         "_deepnote_index_column": 117
        },
        {
         "shop_id": 5,
         "item_id": 9355,
         "_deepnote_index_column": 118
        },
        {
         "shop_id": 5,
         "item_id": 9414,
         "_deepnote_index_column": 119
        },
        {
         "shop_id": 5,
         "item_id": 9395,
         "_deepnote_index_column": 120
        },
        {
         "shop_id": 5,
         "item_id": 9397,
         "_deepnote_index_column": 121
        },
        {
         "shop_id": 5,
         "item_id": 9398,
         "_deepnote_index_column": 122
        },
        {
         "shop_id": 5,
         "item_id": 9405,
         "_deepnote_index_column": 123
        },
        {
         "shop_id": 5,
         "item_id": 9407,
         "_deepnote_index_column": 124
        },
        {
         "shop_id": 5,
         "item_id": 9409,
         "_deepnote_index_column": 125
        },
        {
         "shop_id": 5,
         "item_id": 9391,
         "_deepnote_index_column": 126
        },
        {
         "shop_id": 5,
         "item_id": 9035,
         "_deepnote_index_column": 127
        },
        {
         "shop_id": 5,
         "item_id": 9039,
         "_deepnote_index_column": 128
        },
        {
         "shop_id": 5,
         "item_id": 9165,
         "_deepnote_index_column": 129
        },
        {
         "shop_id": 5,
         "item_id": 9469,
         "_deepnote_index_column": 130
        },
        {
         "shop_id": 5,
         "item_id": 9496,
         "_deepnote_index_column": 131
        },
        {
         "shop_id": 5,
         "item_id": 10200,
         "_deepnote_index_column": 132
        },
        {
         "shop_id": 5,
         "item_id": 10201,
         "_deepnote_index_column": 133
        },
        {
         "shop_id": 5,
         "item_id": 9412,
         "_deepnote_index_column": 134
        },
        {
         "shop_id": 5,
         "item_id": 8546,
         "_deepnote_index_column": 135
        },
        {
         "shop_id": 5,
         "item_id": 8547,
         "_deepnote_index_column": 136
        },
        {
         "shop_id": 5,
         "item_id": 8548,
         "_deepnote_index_column": 137
        },
        {
         "shop_id": 5,
         "item_id": 8550,
         "_deepnote_index_column": 138
        },
        {
         "shop_id": 5,
         "item_id": 8551,
         "_deepnote_index_column": 139
        },
        {
         "shop_id": 5,
         "item_id": 8653,
         "_deepnote_index_column": 140
        },
        {
         "shop_id": 5,
         "item_id": 8658,
         "_deepnote_index_column": 141
        },
        {
         "shop_id": 5,
         "item_id": 8690,
         "_deepnote_index_column": 142
        },
        {
         "shop_id": 5,
         "item_id": 8692,
         "_deepnote_index_column": 143
        },
        {
         "shop_id": 5,
         "item_id": 8822,
         "_deepnote_index_column": 144
        },
        {
         "shop_id": 5,
         "item_id": 8823,
         "_deepnote_index_column": 145
        },
        {
         "shop_id": 5,
         "item_id": 8824,
         "_deepnote_index_column": 146
        },
        {
         "shop_id": 5,
         "item_id": 8874,
         "_deepnote_index_column": 147
        },
        {
         "shop_id": 5,
         "item_id": 8890,
         "_deepnote_index_column": 148
        },
        {
         "shop_id": 5,
         "item_id": 9277,
         "_deepnote_index_column": 149
        },
        {
         "shop_id": 5,
         "item_id": 9001,
         "_deepnote_index_column": 150
        },
        {
         "shop_id": 5,
         "item_id": 8699,
         "_deepnote_index_column": 151
        },
        {
         "shop_id": 5,
         "item_id": 10202,
         "_deepnote_index_column": 152
        },
        {
         "shop_id": 5,
         "item_id": 10339,
         "_deepnote_index_column": 153
        },
        {
         "shop_id": 5,
         "item_id": 10352,
         "_deepnote_index_column": 154
        },
        {
         "shop_id": 5,
         "item_id": 10379,
         "_deepnote_index_column": 155
        },
        {
         "shop_id": 5,
         "item_id": 10382,
         "_deepnote_index_column": 156
        },
        {
         "shop_id": 5,
         "item_id": 10385,
         "_deepnote_index_column": 157
        },
        {
         "shop_id": 5,
         "item_id": 10424,
         "_deepnote_index_column": 158
        },
        {
         "shop_id": 5,
         "item_id": 10429,
         "_deepnote_index_column": 159
        },
        {
         "shop_id": 5,
         "item_id": 10447,
         "_deepnote_index_column": 160
        },
        {
         "shop_id": 5,
         "item_id": 10330,
         "_deepnote_index_column": 161
        },
        {
         "shop_id": 5,
         "item_id": 10449,
         "_deepnote_index_column": 162
        },
        {
         "shop_id": 5,
         "item_id": 10659,
         "_deepnote_index_column": 163
        },
        {
         "shop_id": 5,
         "item_id": 10476,
         "_deepnote_index_column": 164
        },
        {
         "shop_id": 5,
         "item_id": 10908,
         "_deepnote_index_column": 165
        },
        {
         "shop_id": 5,
         "item_id": 10515,
         "_deepnote_index_column": 166
        },
        {
         "shop_id": 5,
         "item_id": 10907,
         "_deepnote_index_column": 167
        },
        {
         "shop_id": 5,
         "item_id": 10779,
         "_deepnote_index_column": 168
        },
        {
         "shop_id": 5,
         "item_id": 10904,
         "_deepnote_index_column": 169
        },
        {
         "shop_id": 5,
         "item_id": 10327,
         "_deepnote_index_column": 170
        },
        {
         "shop_id": 5,
         "item_id": 10298,
         "_deepnote_index_column": 171
        },
        {
         "shop_id": 5,
         "item_id": 10149,
         "_deepnote_index_column": 172
        },
        {
         "shop_id": 5,
         "item_id": 10207,
         "_deepnote_index_column": 173
        },
        {
         "shop_id": 5,
         "item_id": 10209,
         "_deepnote_index_column": 174
        },
        {
         "shop_id": 5,
         "item_id": 10210,
         "_deepnote_index_column": 175
        },
        {
         "shop_id": 5,
         "item_id": 10216,
         "_deepnote_index_column": 176
        },
        {
         "shop_id": 5,
         "item_id": 9767,
         "_deepnote_index_column": 177
        },
        {
         "shop_id": 5,
         "item_id": 9863,
         "_deepnote_index_column": 178
        },
        {
         "shop_id": 5,
         "item_id": 9870,
         "_deepnote_index_column": 179
        },
        {
         "shop_id": 5,
         "item_id": 9927,
         "_deepnote_index_column": 180
        },
        {
         "shop_id": 5,
         "item_id": 9964,
         "_deepnote_index_column": 181
        },
        {
         "shop_id": 5,
         "item_id": 9974,
         "_deepnote_index_column": 182
        },
        {
         "shop_id": 5,
         "item_id": 9986,
         "_deepnote_index_column": 183
        },
        {
         "shop_id": 5,
         "item_id": 10064,
         "_deepnote_index_column": 184
        },
        {
         "shop_id": 5,
         "item_id": 10074,
         "_deepnote_index_column": 185
        },
        {
         "shop_id": 5,
         "item_id": 10131,
         "_deepnote_index_column": 186
        },
        {
         "shop_id": 5,
         "item_id": 8366,
         "_deepnote_index_column": 187
        },
        {
         "shop_id": 5,
         "item_id": 8355,
         "_deepnote_index_column": 188
        },
        {
         "shop_id": 5,
         "item_id": 8354,
         "_deepnote_index_column": 189
        },
        {
         "shop_id": 5,
         "item_id": 6506,
         "_deepnote_index_column": 190
        },
        {
         "shop_id": 5,
         "item_id": 6507,
         "_deepnote_index_column": 191
        },
        {
         "shop_id": 5,
         "item_id": 6301,
         "_deepnote_index_column": 192
        },
        {
         "shop_id": 5,
         "item_id": 6615,
         "_deepnote_index_column": 193
        },
        {
         "shop_id": 5,
         "item_id": 6618,
         "_deepnote_index_column": 194
        },
        {
         "shop_id": 5,
         "item_id": 6619,
         "_deepnote_index_column": 195
        },
        {
         "shop_id": 5,
         "item_id": 6676,
         "_deepnote_index_column": 196
        },
        {
         "shop_id": 5,
         "item_id": 6503,
         "_deepnote_index_column": 197
        },
        {
         "shop_id": 5,
         "item_id": 6710,
         "_deepnote_index_column": 198
        },
        {
         "shop_id": 5,
         "item_id": 6729,
         "_deepnote_index_column": 199
        },
        {
         "shop_id": 5,
         "item_id": 6731,
         "_deepnote_index_column": 200
        },
        {
         "shop_id": 5,
         "item_id": 6732,
         "_deepnote_index_column": 201
        },
        {
         "shop_id": 5,
         "item_id": 6083,
         "_deepnote_index_column": 202
        },
        {
         "shop_id": 5,
         "item_id": 6085,
         "_deepnote_index_column": 203
        },
        {
         "shop_id": 5,
         "item_id": 6088,
         "_deepnote_index_column": 204
        },
        {
         "shop_id": 5,
         "item_id": 6152,
         "_deepnote_index_column": 205
        },
        {
         "shop_id": 5,
         "item_id": 6153,
         "_deepnote_index_column": 206
        },
        {
         "shop_id": 5,
         "item_id": 6163,
         "_deepnote_index_column": 207
        },
        {
         "shop_id": 5,
         "item_id": 6185,
         "_deepnote_index_column": 208
        },
        {
         "shop_id": 5,
         "item_id": 6393,
         "_deepnote_index_column": 209
        },
        {
         "shop_id": 5,
         "item_id": 6396,
         "_deepnote_index_column": 210
        },
        {
         "shop_id": 5,
         "item_id": 6226,
         "_deepnote_index_column": 211
        },
        {
         "shop_id": 5,
         "item_id": 6236,
         "_deepnote_index_column": 212
        },
        {
         "shop_id": 5,
         "item_id": 6257,
         "_deepnote_index_column": 213
        },
        {
         "shop_id": 5,
         "item_id": 6426,
         "_deepnote_index_column": 214
        },
        {
         "shop_id": 5,
         "item_id": 6472,
         "_deepnote_index_column": 215
        },
        {
         "shop_id": 5,
         "item_id": 6476,
         "_deepnote_index_column": 216
        },
        {
         "shop_id": 5,
         "item_id": 6496,
         "_deepnote_index_column": 217
        },
        {
         "shop_id": 5,
         "item_id": 6497,
         "_deepnote_index_column": 218
        },
        {
         "shop_id": 5,
         "item_id": 6738,
         "_deepnote_index_column": 219
        },
        {
         "shop_id": 5,
         "item_id": 6064,
         "_deepnote_index_column": 220
        },
        {
         "shop_id": 5,
         "item_id": 6742,
         "_deepnote_index_column": 221
        },
        {
         "shop_id": 5,
         "item_id": 7782,
         "_deepnote_index_column": 222
        },
        {
         "shop_id": 5,
         "item_id": 7789,
         "_deepnote_index_column": 223
        },
        {
         "shop_id": 5,
         "item_id": 7791,
         "_deepnote_index_column": 224
        },
        {
         "shop_id": 5,
         "item_id": 7792,
         "_deepnote_index_column": 225
        },
        {
         "shop_id": 5,
         "item_id": 7836,
         "_deepnote_index_column": 226
        },
        {
         "shop_id": 5,
         "item_id": 7846,
         "_deepnote_index_column": 227
        },
        {
         "shop_id": 5,
         "item_id": 7853,
         "_deepnote_index_column": 228
        },
        {
         "shop_id": 5,
         "item_id": 7462,
         "_deepnote_index_column": 229
        },
        {
         "shop_id": 5,
         "item_id": 7862,
         "_deepnote_index_column": 230
        },
        {
         "shop_id": 5,
         "item_id": 7895,
         "_deepnote_index_column": 231
        },
        {
         "shop_id": 5,
         "item_id": 7948,
         "_deepnote_index_column": 232
        },
        {
         "shop_id": 5,
         "item_id": 7917,
         "_deepnote_index_column": 233
        },
        {
         "shop_id": 5,
         "item_id": 7930,
         "_deepnote_index_column": 234
        },
        {
         "shop_id": 5,
         "item_id": 7931,
         "_deepnote_index_column": 235
        },
        {
         "shop_id": 5,
         "item_id": 7933,
         "_deepnote_index_column": 236
        },
        {
         "shop_id": 5,
         "item_id": 8452,
         "_deepnote_index_column": 237
        },
        {
         "shop_id": 5,
         "item_id": 8456,
         "_deepnote_index_column": 238
        },
        {
         "shop_id": 5,
         "item_id": 7863,
         "_deepnote_index_column": 239
        },
        {
         "shop_id": 5,
         "item_id": 7328,
         "_deepnote_index_column": 240
        },
        {
         "shop_id": 5,
         "item_id": 7187,
         "_deepnote_index_column": 241
        },
        {
         "shop_id": 5,
         "item_id": 7235,
         "_deepnote_index_column": 242
        },
        {
         "shop_id": 5,
         "item_id": 6743,
         "_deepnote_index_column": 243
        },
        {
         "shop_id": 5,
         "item_id": 6335,
         "_deepnote_index_column": 244
        },
        {
         "shop_id": 5,
         "item_id": 6351,
         "_deepnote_index_column": 245
        },
        {
         "shop_id": 5,
         "item_id": 6926,
         "_deepnote_index_column": 246
        },
        {
         "shop_id": 5,
         "item_id": 6928,
         "_deepnote_index_column": 247
        },
        {
         "shop_id": 5,
         "item_id": 7003,
         "_deepnote_index_column": 248
        },
        {
         "shop_id": 5,
         "item_id": 7007,
         "_deepnote_index_column": 249
        }
       ],
       "rows_bottom": [
        {
         "shop_id": 45,
         "item_id": 6835,
         "_deepnote_index_column": 213950
        },
        {
         "shop_id": 45,
         "item_id": 2810,
         "_deepnote_index_column": 213951
        },
        {
         "shop_id": 45,
         "item_id": 20958,
         "_deepnote_index_column": 213952
        },
        {
         "shop_id": 45,
         "item_id": 20416,
         "_deepnote_index_column": 213953
        },
        {
         "shop_id": 45,
         "item_id": 15424,
         "_deepnote_index_column": 213954
        },
        {
         "shop_id": 45,
         "item_id": 15451,
         "_deepnote_index_column": 213955
        },
        {
         "shop_id": 45,
         "item_id": 15477,
         "_deepnote_index_column": 213956
        },
        {
         "shop_id": 45,
         "item_id": 15455,
         "_deepnote_index_column": 213957
        },
        {
         "shop_id": 45,
         "item_id": 15321,
         "_deepnote_index_column": 213958
        },
        {
         "shop_id": 45,
         "item_id": 15344,
         "_deepnote_index_column": 213959
        },
        {
         "shop_id": 45,
         "item_id": 15405,
         "_deepnote_index_column": 213960
        },
        {
         "shop_id": 45,
         "item_id": 16123,
         "_deepnote_index_column": 213961
        },
        {
         "shop_id": 45,
         "item_id": 16106,
         "_deepnote_index_column": 213962
        },
        {
         "shop_id": 45,
         "item_id": 15523,
         "_deepnote_index_column": 213963
        },
        {
         "shop_id": 45,
         "item_id": 15924,
         "_deepnote_index_column": 213964
        },
        {
         "shop_id": 45,
         "item_id": 15299,
         "_deepnote_index_column": 213965
        },
        {
         "shop_id": 45,
         "item_id": 14705,
         "_deepnote_index_column": 213966
        },
        {
         "shop_id": 45,
         "item_id": 15214,
         "_deepnote_index_column": 213967
        },
        {
         "shop_id": 45,
         "item_id": 15125,
         "_deepnote_index_column": 213968
        },
        {
         "shop_id": 45,
         "item_id": 15232,
         "_deepnote_index_column": 213969
        },
        {
         "shop_id": 45,
         "item_id": 17756,
         "_deepnote_index_column": 213970
        },
        {
         "shop_id": 45,
         "item_id": 17371,
         "_deepnote_index_column": 213971
        },
        {
         "shop_id": 45,
         "item_id": 17448,
         "_deepnote_index_column": 213972
        },
        {
         "shop_id": 45,
         "item_id": 17392,
         "_deepnote_index_column": 213973
        },
        {
         "shop_id": 45,
         "item_id": 17988,
         "_deepnote_index_column": 213974
        },
        {
         "shop_id": 45,
         "item_id": 18546,
         "_deepnote_index_column": 213975
        },
        {
         "shop_id": 45,
         "item_id": 18530,
         "_deepnote_index_column": 213976
        },
        {
         "shop_id": 45,
         "item_id": 19313,
         "_deepnote_index_column": 213977
        },
        {
         "shop_id": 45,
         "item_id": 18498,
         "_deepnote_index_column": 213978
        },
        {
         "shop_id": 45,
         "item_id": 18411,
         "_deepnote_index_column": 213979
        },
        {
         "shop_id": 45,
         "item_id": 18500,
         "_deepnote_index_column": 213980
        },
        {
         "shop_id": 45,
         "item_id": 18573,
         "_deepnote_index_column": 213981
        },
        {
         "shop_id": 45,
         "item_id": 18675,
         "_deepnote_index_column": 213982
        },
        {
         "shop_id": 45,
         "item_id": 18671,
         "_deepnote_index_column": 213983
        },
        {
         "shop_id": 45,
         "item_id": 18100,
         "_deepnote_index_column": 213984
        },
        {
         "shop_id": 45,
         "item_id": 18278,
         "_deepnote_index_column": 213985
        },
        {
         "shop_id": 45,
         "item_id": 18274,
         "_deepnote_index_column": 213986
        },
        {
         "shop_id": 45,
         "item_id": 18205,
         "_deepnote_index_column": 213987
        },
        {
         "shop_id": 45,
         "item_id": 16351,
         "_deepnote_index_column": 213988
        },
        {
         "shop_id": 45,
         "item_id": 16556,
         "_deepnote_index_column": 213989
        },
        {
         "shop_id": 45,
         "item_id": 16231,
         "_deepnote_index_column": 213990
        },
        {
         "shop_id": 45,
         "item_id": 15595,
         "_deepnote_index_column": 213991
        },
        {
         "shop_id": 45,
         "item_id": 16822,
         "_deepnote_index_column": 213992
        },
        {
         "shop_id": 45,
         "item_id": 17638,
         "_deepnote_index_column": 213993
        },
        {
         "shop_id": 45,
         "item_id": 17625,
         "_deepnote_index_column": 213994
        },
        {
         "shop_id": 45,
         "item_id": 16129,
         "_deepnote_index_column": 213995
        },
        {
         "shop_id": 45,
         "item_id": 16699,
         "_deepnote_index_column": 213996
        },
        {
         "shop_id": 45,
         "item_id": 16595,
         "_deepnote_index_column": 213997
        },
        {
         "shop_id": 45,
         "item_id": 16880,
         "_deepnote_index_column": 213998
        },
        {
         "shop_id": 45,
         "item_id": 17010,
         "_deepnote_index_column": 213999
        },
        {
         "shop_id": 45,
         "item_id": 17015,
         "_deepnote_index_column": 214000
        },
        {
         "shop_id": 45,
         "item_id": 13229,
         "_deepnote_index_column": 214001
        },
        {
         "shop_id": 45,
         "item_id": 12574,
         "_deepnote_index_column": 214002
        },
        {
         "shop_id": 45,
         "item_id": 13168,
         "_deepnote_index_column": 214003
        },
        {
         "shop_id": 45,
         "item_id": 13202,
         "_deepnote_index_column": 214004
        },
        {
         "shop_id": 45,
         "item_id": 12664,
         "_deepnote_index_column": 214005
        },
        {
         "shop_id": 45,
         "item_id": 13276,
         "_deepnote_index_column": 214006
        },
        {
         "shop_id": 45,
         "item_id": 11926,
         "_deepnote_index_column": 214007
        },
        {
         "shop_id": 45,
         "item_id": 11970,
         "_deepnote_index_column": 214008
        },
        {
         "shop_id": 45,
         "item_id": 12514,
         "_deepnote_index_column": 214009
        },
        {
         "shop_id": 45,
         "item_id": 13133,
         "_deepnote_index_column": 214010
        },
        {
         "shop_id": 45,
         "item_id": 13124,
         "_deepnote_index_column": 214011
        },
        {
         "shop_id": 45,
         "item_id": 11984,
         "_deepnote_index_column": 214012
        },
        {
         "shop_id": 45,
         "item_id": 13086,
         "_deepnote_index_column": 214013
        },
        {
         "shop_id": 45,
         "item_id": 12363,
         "_deepnote_index_column": 214014
        },
        {
         "shop_id": 45,
         "item_id": 13325,
         "_deepnote_index_column": 214015
        },
        {
         "shop_id": 45,
         "item_id": 13326,
         "_deepnote_index_column": 214016
        },
        {
         "shop_id": 45,
         "item_id": 14246,
         "_deepnote_index_column": 214017
        },
        {
         "shop_id": 45,
         "item_id": 14135,
         "_deepnote_index_column": 214018
        },
        {
         "shop_id": 45,
         "item_id": 14163,
         "_deepnote_index_column": 214019
        },
        {
         "shop_id": 45,
         "item_id": 14222,
         "_deepnote_index_column": 214020
        },
        {
         "shop_id": 45,
         "item_id": 14193,
         "_deepnote_index_column": 214021
        },
        {
         "shop_id": 45,
         "item_id": 14501,
         "_deepnote_index_column": 214022
        },
        {
         "shop_id": 45,
         "item_id": 14370,
         "_deepnote_index_column": 214023
        },
        {
         "shop_id": 45,
         "item_id": 14310,
         "_deepnote_index_column": 214024
        },
        {
         "shop_id": 45,
         "item_id": 14409,
         "_deepnote_index_column": 214025
        },
        {
         "shop_id": 45,
         "item_id": 12781,
         "_deepnote_index_column": 214026
        },
        {
         "shop_id": 45,
         "item_id": 13520,
         "_deepnote_index_column": 214027
        },
        {
         "shop_id": 45,
         "item_id": 13705,
         "_deepnote_index_column": 214028
        },
        {
         "shop_id": 45,
         "item_id": 13048,
         "_deepnote_index_column": 214029
        },
        {
         "shop_id": 45,
         "item_id": 13812,
         "_deepnote_index_column": 214030
        },
        {
         "shop_id": 45,
         "item_id": 13663,
         "_deepnote_index_column": 214031
        },
        {
         "shop_id": 45,
         "item_id": 13573,
         "_deepnote_index_column": 214032
        },
        {
         "shop_id": 45,
         "item_id": 2839,
         "_deepnote_index_column": 214033
        },
        {
         "shop_id": 45,
         "item_id": 10546,
         "_deepnote_index_column": 214034
        },
        {
         "shop_id": 45,
         "item_id": 8071,
         "_deepnote_index_column": 214035
        },
        {
         "shop_id": 45,
         "item_id": 11179,
         "_deepnote_index_column": 214036
        },
        {
         "shop_id": 45,
         "item_id": 17468,
         "_deepnote_index_column": 214037
        },
        {
         "shop_id": 45,
         "item_id": 16025,
         "_deepnote_index_column": 214038
        },
        {
         "shop_id": 45,
         "item_id": 5912,
         "_deepnote_index_column": 214039
        },
        {
         "shop_id": 45,
         "item_id": 5010,
         "_deepnote_index_column": 214040
        },
        {
         "shop_id": 45,
         "item_id": 6488,
         "_deepnote_index_column": 214041
        },
        {
         "shop_id": 45,
         "item_id": 20677,
         "_deepnote_index_column": 214042
        },
        {
         "shop_id": 45,
         "item_id": 20344,
         "_deepnote_index_column": 214043
        },
        {
         "shop_id": 45,
         "item_id": 20411,
         "_deepnote_index_column": 214044
        },
        {
         "shop_id": 45,
         "item_id": 20408,
         "_deepnote_index_column": 214045
        },
        {
         "shop_id": 45,
         "item_id": 20316,
         "_deepnote_index_column": 214046
        },
        {
         "shop_id": 45,
         "item_id": 20999,
         "_deepnote_index_column": 214047
        },
        {
         "shop_id": 45,
         "item_id": 21254,
         "_deepnote_index_column": 214048
        },
        {
         "shop_id": 45,
         "item_id": 21243,
         "_deepnote_index_column": 214049
        },
        {
         "shop_id": 45,
         "item_id": 21210,
         "_deepnote_index_column": 214050
        },
        {
         "shop_id": 45,
         "item_id": 21208,
         "_deepnote_index_column": 214051
        },
        {
         "shop_id": 45,
         "item_id": 21195,
         "_deepnote_index_column": 214052
        },
        {
         "shop_id": 45,
         "item_id": 21123,
         "_deepnote_index_column": 214053
        },
        {
         "shop_id": 45,
         "item_id": 20998,
         "_deepnote_index_column": 214054
        },
        {
         "shop_id": 45,
         "item_id": 21046,
         "_deepnote_index_column": 214055
        },
        {
         "shop_id": 45,
         "item_id": 21045,
         "_deepnote_index_column": 214056
        },
        {
         "shop_id": 45,
         "item_id": 21007,
         "_deepnote_index_column": 214057
        },
        {
         "shop_id": 45,
         "item_id": 20921,
         "_deepnote_index_column": 214058
        },
        {
         "shop_id": 45,
         "item_id": 20919,
         "_deepnote_index_column": 214059
        },
        {
         "shop_id": 45,
         "item_id": 20916,
         "_deepnote_index_column": 214060
        },
        {
         "shop_id": 45,
         "item_id": 20863,
         "_deepnote_index_column": 214061
        },
        {
         "shop_id": 45,
         "item_id": 20764,
         "_deepnote_index_column": 214062
        },
        {
         "shop_id": 45,
         "item_id": 20747,
         "_deepnote_index_column": 214063
        },
        {
         "shop_id": 45,
         "item_id": 19098,
         "_deepnote_index_column": 214064
        },
        {
         "shop_id": 45,
         "item_id": 19460,
         "_deepnote_index_column": 214065
        },
        {
         "shop_id": 45,
         "item_id": 19979,
         "_deepnote_index_column": 214066
        },
        {
         "shop_id": 45,
         "item_id": 19973,
         "_deepnote_index_column": 214067
        },
        {
         "shop_id": 45,
         "item_id": 6184,
         "_deepnote_index_column": 214068
        },
        {
         "shop_id": 45,
         "item_id": 3985,
         "_deepnote_index_column": 214069
        },
        {
         "shop_id": 45,
         "item_id": 21664,
         "_deepnote_index_column": 214070
        },
        {
         "shop_id": 45,
         "item_id": 21592,
         "_deepnote_index_column": 214071
        },
        {
         "shop_id": 45,
         "item_id": 21733,
         "_deepnote_index_column": 214072
        },
        {
         "shop_id": 45,
         "item_id": 21714,
         "_deepnote_index_column": 214073
        },
        {
         "shop_id": 45,
         "item_id": 21975,
         "_deepnote_index_column": 214074
        },
        {
         "shop_id": 45,
         "item_id": 21974,
         "_deepnote_index_column": 214075
        },
        {
         "shop_id": 45,
         "item_id": 21953,
         "_deepnote_index_column": 214076
        },
        {
         "shop_id": 45,
         "item_id": 21948,
         "_deepnote_index_column": 214077
        },
        {
         "shop_id": 45,
         "item_id": 2129,
         "_deepnote_index_column": 214078
        },
        {
         "shop_id": 45,
         "item_id": 3272,
         "_deepnote_index_column": 214079
        },
        {
         "shop_id": 45,
         "item_id": 3232,
         "_deepnote_index_column": 214080
        },
        {
         "shop_id": 45,
         "item_id": 2637,
         "_deepnote_index_column": 214081
        },
        {
         "shop_id": 45,
         "item_id": 2664,
         "_deepnote_index_column": 214082
        },
        {
         "shop_id": 45,
         "item_id": 454,
         "_deepnote_index_column": 214083
        },
        {
         "shop_id": 45,
         "item_id": 430,
         "_deepnote_index_column": 214084
        },
        {
         "shop_id": 45,
         "item_id": 302,
         "_deepnote_index_column": 214085
        },
        {
         "shop_id": 45,
         "item_id": 173,
         "_deepnote_index_column": 214086
        },
        {
         "shop_id": 45,
         "item_id": 154,
         "_deepnote_index_column": 214087
        },
        {
         "shop_id": 45,
         "item_id": 5831,
         "_deepnote_index_column": 214088
        },
        {
         "shop_id": 45,
         "item_id": 5057,
         "_deepnote_index_column": 214089
        },
        {
         "shop_id": 45,
         "item_id": 3547,
         "_deepnote_index_column": 214090
        },
        {
         "shop_id": 45,
         "item_id": 3989,
         "_deepnote_index_column": 214091
        },
        {
         "shop_id": 45,
         "item_id": 3932,
         "_deepnote_index_column": 214092
        },
        {
         "shop_id": 45,
         "item_id": 9596,
         "_deepnote_index_column": 214093
        },
        {
         "shop_id": 45,
         "item_id": 9162,
         "_deepnote_index_column": 214094
        },
        {
         "shop_id": 45,
         "item_id": 10436,
         "_deepnote_index_column": 214095
        },
        {
         "shop_id": 45,
         "item_id": 8138,
         "_deepnote_index_column": 214096
        },
        {
         "shop_id": 45,
         "item_id": 12216,
         "_deepnote_index_column": 214097
        },
        {
         "shop_id": 45,
         "item_id": 5621,
         "_deepnote_index_column": 214098
        },
        {
         "shop_id": 45,
         "item_id": 5601,
         "_deepnote_index_column": 214099
        },
        {
         "shop_id": 45,
         "item_id": 18707,
         "_deepnote_index_column": 214100
        },
        {
         "shop_id": 45,
         "item_id": 17482,
         "_deepnote_index_column": 214101
        },
        {
         "shop_id": 45,
         "item_id": 14972,
         "_deepnote_index_column": 214102
        },
        {
         "shop_id": 45,
         "item_id": 15472,
         "_deepnote_index_column": 214103
        },
        {
         "shop_id": 45,
         "item_id": 16034,
         "_deepnote_index_column": 214104
        },
        {
         "shop_id": 45,
         "item_id": 13543,
         "_deepnote_index_column": 214105
        },
        {
         "shop_id": 45,
         "item_id": 13403,
         "_deepnote_index_column": 214106
        },
        {
         "shop_id": 45,
         "item_id": 11758,
         "_deepnote_index_column": 214107
        },
        {
         "shop_id": 45,
         "item_id": 11181,
         "_deepnote_index_column": 214108
        },
        {
         "shop_id": 45,
         "item_id": 11236,
         "_deepnote_index_column": 214109
        },
        {
         "shop_id": 45,
         "item_id": 11674,
         "_deepnote_index_column": 214110
        },
        {
         "shop_id": 45,
         "item_id": 11454,
         "_deepnote_index_column": 214111
        },
        {
         "shop_id": 45,
         "item_id": 12569,
         "_deepnote_index_column": 214112
        },
        {
         "shop_id": 45,
         "item_id": 12063,
         "_deepnote_index_column": 214113
        },
        {
         "shop_id": 45,
         "item_id": 12065,
         "_deepnote_index_column": 214114
        },
        {
         "shop_id": 45,
         "item_id": 13079,
         "_deepnote_index_column": 214115
        },
        {
         "shop_id": 45,
         "item_id": 15545,
         "_deepnote_index_column": 214116
        },
        {
         "shop_id": 45,
         "item_id": 14794,
         "_deepnote_index_column": 214117
        },
        {
         "shop_id": 45,
         "item_id": 15702,
         "_deepnote_index_column": 214118
        },
        {
         "shop_id": 45,
         "item_id": 16679,
         "_deepnote_index_column": 214119
        },
        {
         "shop_id": 45,
         "item_id": 16057,
         "_deepnote_index_column": 214120
        },
        {
         "shop_id": 45,
         "item_id": 14140,
         "_deepnote_index_column": 214121
        },
        {
         "shop_id": 45,
         "item_id": 14026,
         "_deepnote_index_column": 214122
        },
        {
         "shop_id": 45,
         "item_id": 13976,
         "_deepnote_index_column": 214123
        },
        {
         "shop_id": 45,
         "item_id": 13674,
         "_deepnote_index_column": 214124
        },
        {
         "shop_id": 45,
         "item_id": 13659,
         "_deepnote_index_column": 214125
        },
        {
         "shop_id": 45,
         "item_id": 13609,
         "_deepnote_index_column": 214126
        },
        {
         "shop_id": 45,
         "item_id": 13605,
         "_deepnote_index_column": 214127
        },
        {
         "shop_id": 45,
         "item_id": 12979,
         "_deepnote_index_column": 214128
        },
        {
         "shop_id": 45,
         "item_id": 14504,
         "_deepnote_index_column": 214129
        },
        {
         "shop_id": 45,
         "item_id": 15033,
         "_deepnote_index_column": 214130
        },
        {
         "shop_id": 45,
         "item_id": 8508,
         "_deepnote_index_column": 214131
        },
        {
         "shop_id": 45,
         "item_id": 10297,
         "_deepnote_index_column": 214132
        },
        {
         "shop_id": 45,
         "item_id": 10423,
         "_deepnote_index_column": 214133
        },
        {
         "shop_id": 45,
         "item_id": 10578,
         "_deepnote_index_column": 214134
        },
        {
         "shop_id": 45,
         "item_id": 9783,
         "_deepnote_index_column": 214135
        },
        {
         "shop_id": 45,
         "item_id": 10823,
         "_deepnote_index_column": 214136
        },
        {
         "shop_id": 45,
         "item_id": 10541,
         "_deepnote_index_column": 214137
        },
        {
         "shop_id": 45,
         "item_id": 10516,
         "_deepnote_index_column": 214138
        },
        {
         "shop_id": 45,
         "item_id": 10977,
         "_deepnote_index_column": 214139
        },
        {
         "shop_id": 45,
         "item_id": 10508,
         "_deepnote_index_column": 214140
        },
        {
         "shop_id": 45,
         "item_id": 10697,
         "_deepnote_index_column": 214141
        },
        {
         "shop_id": 45,
         "item_id": 8799,
         "_deepnote_index_column": 214142
        },
        {
         "shop_id": 45,
         "item_id": 8798,
         "_deepnote_index_column": 214143
        },
        {
         "shop_id": 45,
         "item_id": 8797,
         "_deepnote_index_column": 214144
        },
        {
         "shop_id": 45,
         "item_id": 8796,
         "_deepnote_index_column": 214145
        },
        {
         "shop_id": 45,
         "item_id": 9205,
         "_deepnote_index_column": 214146
        },
        {
         "shop_id": 45,
         "item_id": 9012,
         "_deepnote_index_column": 214147
        },
        {
         "shop_id": 45,
         "item_id": 9377,
         "_deepnote_index_column": 214148
        },
        {
         "shop_id": 45,
         "item_id": 9419,
         "_deepnote_index_column": 214149
        },
        {
         "shop_id": 45,
         "item_id": 7572,
         "_deepnote_index_column": 214150
        },
        {
         "shop_id": 45,
         "item_id": 7925,
         "_deepnote_index_column": 214151
        },
        {
         "shop_id": 45,
         "item_id": 6117,
         "_deepnote_index_column": 214152
        },
        {
         "shop_id": 45,
         "item_id": 6108,
         "_deepnote_index_column": 214153
        },
        {
         "shop_id": 45,
         "item_id": 9030,
         "_deepnote_index_column": 214154
        },
        {
         "shop_id": 45,
         "item_id": 21425,
         "_deepnote_index_column": 214155
        },
        {
         "shop_id": 45,
         "item_id": 3316,
         "_deepnote_index_column": 214156
        },
        {
         "shop_id": 45,
         "item_id": 19024,
         "_deepnote_index_column": 214157
        },
        {
         "shop_id": 45,
         "item_id": 6156,
         "_deepnote_index_column": 214158
        },
        {
         "shop_id": 45,
         "item_id": 7972,
         "_deepnote_index_column": 214159
        },
        {
         "shop_id": 45,
         "item_id": 6882,
         "_deepnote_index_column": 214160
        },
        {
         "shop_id": 45,
         "item_id": 1867,
         "_deepnote_index_column": 214161
        },
        {
         "shop_id": 45,
         "item_id": 20367,
         "_deepnote_index_column": 214162
        },
        {
         "shop_id": 45,
         "item_id": 18883,
         "_deepnote_index_column": 214163
        },
        {
         "shop_id": 45,
         "item_id": 18666,
         "_deepnote_index_column": 214164
        },
        {
         "shop_id": 45,
         "item_id": 18589,
         "_deepnote_index_column": 214165
        },
        {
         "shop_id": 45,
         "item_id": 1041,
         "_deepnote_index_column": 214166
        },
        {
         "shop_id": 45,
         "item_id": 11467,
         "_deepnote_index_column": 214167
        },
        {
         "shop_id": 45,
         "item_id": 12491,
         "_deepnote_index_column": 214168
        },
        {
         "shop_id": 45,
         "item_id": 13515,
         "_deepnote_index_column": 214169
        },
        {
         "shop_id": 45,
         "item_id": 14543,
         "_deepnote_index_column": 214170
        },
        {
         "shop_id": 45,
         "item_id": 19253,
         "_deepnote_index_column": 214171
        },
        {
         "shop_id": 45,
         "item_id": 17957,
         "_deepnote_index_column": 214172
        },
        {
         "shop_id": 45,
         "item_id": 12470,
         "_deepnote_index_column": 214173
        },
        {
         "shop_id": 45,
         "item_id": 7543,
         "_deepnote_index_column": 214174
        },
        {
         "shop_id": 45,
         "item_id": 6661,
         "_deepnote_index_column": 214175
        },
        {
         "shop_id": 45,
         "item_id": 11137,
         "_deepnote_index_column": 214176
        },
        {
         "shop_id": 45,
         "item_id": 11489,
         "_deepnote_index_column": 214177
        },
        {
         "shop_id": 45,
         "item_id": 9782,
         "_deepnote_index_column": 214178
        },
        {
         "shop_id": 45,
         "item_id": 2972,
         "_deepnote_index_column": 214179
        },
        {
         "shop_id": 45,
         "item_id": 19889,
         "_deepnote_index_column": 214180
        },
        {
         "shop_id": 45,
         "item_id": 20650,
         "_deepnote_index_column": 214181
        },
        {
         "shop_id": 45,
         "item_id": 5665,
         "_deepnote_index_column": 214182
        },
        {
         "shop_id": 45,
         "item_id": 9978,
         "_deepnote_index_column": 214183
        },
        {
         "shop_id": 45,
         "item_id": 10767,
         "_deepnote_index_column": 214184
        },
        {
         "shop_id": 45,
         "item_id": 14443,
         "_deepnote_index_column": 214185
        },
        {
         "shop_id": 45,
         "item_id": 14341,
         "_deepnote_index_column": 214186
        },
        {
         "shop_id": 45,
         "item_id": 5401,
         "_deepnote_index_column": 214187
        },
        {
         "shop_id": 45,
         "item_id": 9500,
         "_deepnote_index_column": 214188
        },
        {
         "shop_id": 45,
         "item_id": 16007,
         "_deepnote_index_column": 214189
        },
        {
         "shop_id": 45,
         "item_id": 3280,
         "_deepnote_index_column": 214190
        },
        {
         "shop_id": 45,
         "item_id": 4393,
         "_deepnote_index_column": 214191
        },
        {
         "shop_id": 45,
         "item_id": 4352,
         "_deepnote_index_column": 214192
        },
        {
         "shop_id": 45,
         "item_id": 18049,
         "_deepnote_index_column": 214193
        },
        {
         "shop_id": 45,
         "item_id": 18027,
         "_deepnote_index_column": 214194
        },
        {
         "shop_id": 45,
         "item_id": 18454,
         "_deepnote_index_column": 214195
        },
        {
         "shop_id": 45,
         "item_id": 16188,
         "_deepnote_index_column": 214196
        },
        {
         "shop_id": 45,
         "item_id": 15757,
         "_deepnote_index_column": 214197
        },
        {
         "shop_id": 45,
         "item_id": 19648,
         "_deepnote_index_column": 214198
        },
        {
         "shop_id": 45,
         "item_id": 969,
         "_deepnote_index_column": 214199
        }
       ]
      },
      "text/plain": "        shop_id  item_id\nID                      \n0             5     5037\n1             5     5320\n2             5     5233\n3             5     5232\n4             5     5268\n...         ...      ...\n214195       45    18454\n214196       45    16188\n214197       45    15757\n214198       45    19648\n214199       45      969\n\n[214200 rows x 2 columns]",
      "text/html": "<div>\n<style scoped>\n    .dataframe tbody tr th:only-of-type {\n        vertical-align: middle;\n    }\n\n    .dataframe tbody tr th {\n        vertical-align: top;\n    }\n\n    .dataframe thead th {\n        text-align: right;\n    }\n</style>\n<table border=\"1\" class=\"dataframe\">\n  <thead>\n    <tr style=\"text-align: right;\">\n      <th></th>\n      <th>shop_id</th>\n      <th>item_id</th>\n    </tr>\n    <tr>\n      <th>ID</th>\n      <th></th>\n      <th></th>\n    </tr>\n  </thead>\n  <tbody>\n    <tr>\n      <th>0</th>\n      <td>5</td>\n      <td>5037</td>\n    </tr>\n    <tr>\n      <th>1</th>\n      <td>5</td>\n      <td>5320</td>\n    </tr>\n    <tr>\n      <th>2</th>\n      <td>5</td>\n      <td>5233</td>\n    </tr>\n    <tr>\n      <th>3</th>\n      <td>5</td>\n      <td>5232</td>\n    </tr>\n    <tr>\n      <th>4</th>\n      <td>5</td>\n      <td>5268</td>\n    </tr>\n    <tr>\n      <th>...</th>\n      <td>...</td>\n      <td>...</td>\n    </tr>\n    <tr>\n      <th>214195</th>\n      <td>45</td>\n      <td>18454</td>\n    </tr>\n    <tr>\n      <th>214196</th>\n      <td>45</td>\n      <td>16188</td>\n    </tr>\n    <tr>\n      <th>214197</th>\n      <td>45</td>\n      <td>15757</td>\n    </tr>\n    <tr>\n      <th>214198</th>\n      <td>45</td>\n      <td>19648</td>\n    </tr>\n    <tr>\n      <th>214199</th>\n      <td>45</td>\n      <td>969</td>\n    </tr>\n  </tbody>\n</table>\n<p>214200 rows × 2 columns</p>\n</div>"
     },
     "metadata": {}
    }
   ]
  },
  {
   "cell_type": "code",
   "metadata": {
    "cell_id": "00024-a4ae6a63-25b0-49cd-bcc1-c82fbcaa0886",
    "deepnote_to_be_reexecuted": false,
    "source_hash": "3bafc696",
    "execution_start": 1620730666579,
    "execution_millis": 5,
    "deepnote_cell_type": "code"
   },
   "source": "df_sub.head()",
   "execution_count": null,
   "outputs": [
    {
     "output_type": "execute_result",
     "execution_count": 25,
     "data": {
      "application/vnd.deepnote.dataframe.v2+json": {
       "row_count": 5,
       "column_count": 1,
       "columns": [
        {
         "name": "item_cnt_month",
         "dtype": "int64",
         "stats": {
          "unique_count": 1,
          "nan_count": 0,
          "min": "99",
          "max": "99",
          "histogram": [
           {
            "bin_start": 98.5,
            "bin_end": 98.6,
            "count": 0
           },
           {
            "bin_start": 98.6,
            "bin_end": 98.7,
            "count": 0
           },
           {
            "bin_start": 98.7,
            "bin_end": 98.8,
            "count": 0
           },
           {
            "bin_start": 98.8,
            "bin_end": 98.9,
            "count": 0
           },
           {
            "bin_start": 98.9,
            "bin_end": 99,
            "count": 0
           },
           {
            "bin_start": 99,
            "bin_end": 99.1,
            "count": 5
           },
           {
            "bin_start": 99.1,
            "bin_end": 99.2,
            "count": 0
           },
           {
            "bin_start": 99.2,
            "bin_end": 99.3,
            "count": 0
           },
           {
            "bin_start": 99.3,
            "bin_end": 99.4,
            "count": 0
           },
           {
            "bin_start": 99.4,
            "bin_end": 99.5,
            "count": 0
           }
          ]
         }
        },
        {
         "name": "_deepnote_index_column",
         "dtype": "int64"
        }
       ],
       "rows_top": [
        {
         "item_cnt_month": 99,
         "_deepnote_index_column": 0
        },
        {
         "item_cnt_month": 99,
         "_deepnote_index_column": 1
        },
        {
         "item_cnt_month": 99,
         "_deepnote_index_column": 2
        },
        {
         "item_cnt_month": 99,
         "_deepnote_index_column": 3
        },
        {
         "item_cnt_month": 99,
         "_deepnote_index_column": 4
        }
       ],
       "rows_bottom": null
      },
      "text/plain": "    item_cnt_month\nID                \n0               99\n1               99\n2               99\n3               99\n4               99",
      "text/html": "<div>\n<style scoped>\n    .dataframe tbody tr th:only-of-type {\n        vertical-align: middle;\n    }\n\n    .dataframe tbody tr th {\n        vertical-align: top;\n    }\n\n    .dataframe thead th {\n        text-align: right;\n    }\n</style>\n<table border=\"1\" class=\"dataframe\">\n  <thead>\n    <tr style=\"text-align: right;\">\n      <th></th>\n      <th>item_cnt_month</th>\n    </tr>\n    <tr>\n      <th>ID</th>\n      <th></th>\n    </tr>\n  </thead>\n  <tbody>\n    <tr>\n      <th>0</th>\n      <td>99</td>\n    </tr>\n    <tr>\n      <th>1</th>\n      <td>99</td>\n    </tr>\n    <tr>\n      <th>2</th>\n      <td>99</td>\n    </tr>\n    <tr>\n      <th>3</th>\n      <td>99</td>\n    </tr>\n    <tr>\n      <th>4</th>\n      <td>99</td>\n    </tr>\n  </tbody>\n</table>\n</div>"
     },
     "metadata": {}
    }
   ]
  },
  {
   "cell_type": "code",
   "metadata": {
    "cell_id": "00025-76de73c9-1db2-4947-b16e-4b75fdc418b5",
    "deepnote_to_be_reexecuted": false,
    "source_hash": "477b3c17",
    "execution_start": 1620730711376,
    "execution_millis": 63,
    "deepnote_cell_type": "code"
   },
   "source": "results = pd.merge(left = df_test,         # Left table for the join\n                   right = oct2015_agg, # Right table for the join\n                   on=[\"shop_id\", \"item_id\"], # Common keys\n                   how='left')          # Type of join\n\nresults.head()",
   "execution_count": null,
   "outputs": [
    {
     "output_type": "execute_result",
     "execution_count": 29,
     "data": {
      "application/vnd.deepnote.dataframe.v2+json": {
       "row_count": 5,
       "column_count": 3,
       "columns": [
        {
         "name": "shop_id",
         "dtype": "int64",
         "stats": {
          "unique_count": 1,
          "nan_count": 0,
          "min": "5",
          "max": "5",
          "histogram": [
           {
            "bin_start": 4.5,
            "bin_end": 4.6,
            "count": 0
           },
           {
            "bin_start": 4.6,
            "bin_end": 4.7,
            "count": 0
           },
           {
            "bin_start": 4.7,
            "bin_end": 4.8,
            "count": 0
           },
           {
            "bin_start": 4.8,
            "bin_end": 4.9,
            "count": 0
           },
           {
            "bin_start": 4.9,
            "bin_end": 5,
            "count": 0
           },
           {
            "bin_start": 5,
            "bin_end": 5.1,
            "count": 5
           },
           {
            "bin_start": 5.1,
            "bin_end": 5.2,
            "count": 0
           },
           {
            "bin_start": 5.2,
            "bin_end": 5.3,
            "count": 0
           },
           {
            "bin_start": 5.3,
            "bin_end": 5.4,
            "count": 0
           },
           {
            "bin_start": 5.4,
            "bin_end": 5.5,
            "count": 0
           }
          ]
         }
        },
        {
         "name": "item_id",
         "dtype": "int64",
         "stats": {
          "unique_count": 5,
          "nan_count": 0,
          "min": "5037",
          "max": "5320",
          "histogram": [
           {
            "bin_start": 5037,
            "bin_end": 5065.3,
            "count": 1
           },
           {
            "bin_start": 5065.3,
            "bin_end": 5093.6,
            "count": 0
           },
           {
            "bin_start": 5093.6,
            "bin_end": 5121.9,
            "count": 0
           },
           {
            "bin_start": 5121.9,
            "bin_end": 5150.2,
            "count": 0
           },
           {
            "bin_start": 5150.2,
            "bin_end": 5178.5,
            "count": 0
           },
           {
            "bin_start": 5178.5,
            "bin_end": 5206.8,
            "count": 0
           },
           {
            "bin_start": 5206.8,
            "bin_end": 5235.1,
            "count": 2
           },
           {
            "bin_start": 5235.1,
            "bin_end": 5263.4,
            "count": 0
           },
           {
            "bin_start": 5263.4,
            "bin_end": 5291.7,
            "count": 1
           },
           {
            "bin_start": 5291.7,
            "bin_end": 5320,
            "count": 1
           }
          ]
         }
        },
        {
         "name": "item_cnt_day",
         "dtype": "float64",
         "stats": {
          "unique_count": 1,
          "nan_count": 4,
          "min": "1.0",
          "max": "1.0",
          "histogram": [
           {
            "bin_start": 0.5,
            "bin_end": 0.6,
            "count": 0
           },
           {
            "bin_start": 0.6,
            "bin_end": 0.7,
            "count": 0
           },
           {
            "bin_start": 0.7,
            "bin_end": 0.8,
            "count": 0
           },
           {
            "bin_start": 0.8,
            "bin_end": 0.9,
            "count": 0
           },
           {
            "bin_start": 0.9,
            "bin_end": 1,
            "count": 0
           },
           {
            "bin_start": 1,
            "bin_end": 1.1,
            "count": 1
           },
           {
            "bin_start": 1.1,
            "bin_end": 1.2000000000000002,
            "count": 0
           },
           {
            "bin_start": 1.2000000000000002,
            "bin_end": 1.3,
            "count": 0
           },
           {
            "bin_start": 1.3,
            "bin_end": 1.4,
            "count": 0
           },
           {
            "bin_start": 1.4,
            "bin_end": 1.5,
            "count": 0
           }
          ]
         }
        },
        {
         "name": "_deepnote_index_column",
         "dtype": "int64"
        }
       ],
       "rows_top": [
        {
         "shop_id": 5,
         "item_id": 5037,
         "item_cnt_day": "nan",
         "_deepnote_index_column": 0
        },
        {
         "shop_id": 5,
         "item_id": 5320,
         "item_cnt_day": "nan",
         "_deepnote_index_column": 1
        },
        {
         "shop_id": 5,
         "item_id": 5233,
         "item_cnt_day": "1.0",
         "_deepnote_index_column": 2
        },
        {
         "shop_id": 5,
         "item_id": 5232,
         "item_cnt_day": "nan",
         "_deepnote_index_column": 3
        },
        {
         "shop_id": 5,
         "item_id": 5268,
         "item_cnt_day": "nan",
         "_deepnote_index_column": 4
        }
       ],
       "rows_bottom": null
      },
      "text/plain": "   shop_id  item_id  item_cnt_day\n0        5     5037           NaN\n1        5     5320           NaN\n2        5     5233           1.0\n3        5     5232           NaN\n4        5     5268           NaN",
      "text/html": "<div>\n<style scoped>\n    .dataframe tbody tr th:only-of-type {\n        vertical-align: middle;\n    }\n\n    .dataframe tbody tr th {\n        vertical-align: top;\n    }\n\n    .dataframe thead th {\n        text-align: right;\n    }\n</style>\n<table border=\"1\" class=\"dataframe\">\n  <thead>\n    <tr style=\"text-align: right;\">\n      <th></th>\n      <th>shop_id</th>\n      <th>item_id</th>\n      <th>item_cnt_day</th>\n    </tr>\n  </thead>\n  <tbody>\n    <tr>\n      <th>0</th>\n      <td>5</td>\n      <td>5037</td>\n      <td>NaN</td>\n    </tr>\n    <tr>\n      <th>1</th>\n      <td>5</td>\n      <td>5320</td>\n      <td>NaN</td>\n    </tr>\n    <tr>\n      <th>2</th>\n      <td>5</td>\n      <td>5233</td>\n      <td>1.0</td>\n    </tr>\n    <tr>\n      <th>3</th>\n      <td>5</td>\n      <td>5232</td>\n      <td>NaN</td>\n    </tr>\n    <tr>\n      <th>4</th>\n      <td>5</td>\n      <td>5268</td>\n      <td>NaN</td>\n    </tr>\n  </tbody>\n</table>\n</div>"
     },
     "metadata": {}
    }
   ]
  },
  {
   "cell_type": "code",
   "metadata": {
    "cell_id": "00026-c5ef65be-50b2-4fce-afb4-c3a0f012e694",
    "deepnote_to_be_reexecuted": false,
    "source_hash": "a9b8cebe",
    "execution_start": 1620730734242,
    "execution_millis": 5,
    "deepnote_cell_type": "code"
   },
   "source": "print(\"% of missings:\", results.item_cnt_day.isna().sum() / len(results) * 100)",
   "execution_count": null,
   "outputs": [
    {
     "name": "stdout",
     "text": "% of missings: 86.61064425770309\n",
     "output_type": "stream"
    }
   ]
  },
  {
   "cell_type": "markdown",
   "source": "### Fill missings with ceros",
   "metadata": {
    "cell_id": "00027-5cdf98f5-ba6c-43b7-a46d-956e006d0081",
    "deepnote_cell_type": "markdown"
   }
  },
  {
   "cell_type": "code",
   "metadata": {
    "cell_id": "00028-175f49da-76c3-4d21-b0d2-d3f68edd675d",
    "deepnote_to_be_reexecuted": false,
    "source_hash": "b3f94f52",
    "execution_start": 1620730801870,
    "execution_millis": 6,
    "deepnote_cell_type": "code"
   },
   "source": "results.item_cnt_day = results.item_cnt_day.fillna(0)\nresults.head()",
   "execution_count": null,
   "outputs": [
    {
     "output_type": "execute_result",
     "execution_count": 31,
     "data": {
      "application/vnd.deepnote.dataframe.v2+json": {
       "row_count": 5,
       "column_count": 3,
       "columns": [
        {
         "name": "shop_id",
         "dtype": "int64",
         "stats": {
          "unique_count": 1,
          "nan_count": 0,
          "min": "5",
          "max": "5",
          "histogram": [
           {
            "bin_start": 4.5,
            "bin_end": 4.6,
            "count": 0
           },
           {
            "bin_start": 4.6,
            "bin_end": 4.7,
            "count": 0
           },
           {
            "bin_start": 4.7,
            "bin_end": 4.8,
            "count": 0
           },
           {
            "bin_start": 4.8,
            "bin_end": 4.9,
            "count": 0
           },
           {
            "bin_start": 4.9,
            "bin_end": 5,
            "count": 0
           },
           {
            "bin_start": 5,
            "bin_end": 5.1,
            "count": 5
           },
           {
            "bin_start": 5.1,
            "bin_end": 5.2,
            "count": 0
           },
           {
            "bin_start": 5.2,
            "bin_end": 5.3,
            "count": 0
           },
           {
            "bin_start": 5.3,
            "bin_end": 5.4,
            "count": 0
           },
           {
            "bin_start": 5.4,
            "bin_end": 5.5,
            "count": 0
           }
          ]
         }
        },
        {
         "name": "item_id",
         "dtype": "int64",
         "stats": {
          "unique_count": 5,
          "nan_count": 0,
          "min": "5037",
          "max": "5320",
          "histogram": [
           {
            "bin_start": 5037,
            "bin_end": 5065.3,
            "count": 1
           },
           {
            "bin_start": 5065.3,
            "bin_end": 5093.6,
            "count": 0
           },
           {
            "bin_start": 5093.6,
            "bin_end": 5121.9,
            "count": 0
           },
           {
            "bin_start": 5121.9,
            "bin_end": 5150.2,
            "count": 0
           },
           {
            "bin_start": 5150.2,
            "bin_end": 5178.5,
            "count": 0
           },
           {
            "bin_start": 5178.5,
            "bin_end": 5206.8,
            "count": 0
           },
           {
            "bin_start": 5206.8,
            "bin_end": 5235.1,
            "count": 2
           },
           {
            "bin_start": 5235.1,
            "bin_end": 5263.4,
            "count": 0
           },
           {
            "bin_start": 5263.4,
            "bin_end": 5291.7,
            "count": 1
           },
           {
            "bin_start": 5291.7,
            "bin_end": 5320,
            "count": 1
           }
          ]
         }
        },
        {
         "name": "item_cnt_day",
         "dtype": "float64",
         "stats": {
          "unique_count": 2,
          "nan_count": 0,
          "min": "0.0",
          "max": "1.0",
          "histogram": [
           {
            "bin_start": 0,
            "bin_end": 0.1,
            "count": 4
           },
           {
            "bin_start": 0.1,
            "bin_end": 0.2,
            "count": 0
           },
           {
            "bin_start": 0.2,
            "bin_end": 0.30000000000000004,
            "count": 0
           },
           {
            "bin_start": 0.30000000000000004,
            "bin_end": 0.4,
            "count": 0
           },
           {
            "bin_start": 0.4,
            "bin_end": 0.5,
            "count": 0
           },
           {
            "bin_start": 0.5,
            "bin_end": 0.6000000000000001,
            "count": 0
           },
           {
            "bin_start": 0.6000000000000001,
            "bin_end": 0.7000000000000001,
            "count": 0
           },
           {
            "bin_start": 0.7000000000000001,
            "bin_end": 0.8,
            "count": 0
           },
           {
            "bin_start": 0.8,
            "bin_end": 0.9,
            "count": 0
           },
           {
            "bin_start": 0.9,
            "bin_end": 1,
            "count": 1
           }
          ]
         }
        },
        {
         "name": "_deepnote_index_column",
         "dtype": "int64"
        }
       ],
       "rows_top": [
        {
         "shop_id": 5,
         "item_id": 5037,
         "item_cnt_day": 0,
         "_deepnote_index_column": 0
        },
        {
         "shop_id": 5,
         "item_id": 5320,
         "item_cnt_day": 0,
         "_deepnote_index_column": 1
        },
        {
         "shop_id": 5,
         "item_id": 5233,
         "item_cnt_day": 1,
         "_deepnote_index_column": 2
        },
        {
         "shop_id": 5,
         "item_id": 5232,
         "item_cnt_day": 0,
         "_deepnote_index_column": 3
        },
        {
         "shop_id": 5,
         "item_id": 5268,
         "item_cnt_day": 0,
         "_deepnote_index_column": 4
        }
       ],
       "rows_bottom": null
      },
      "text/plain": "   shop_id  item_id  item_cnt_day\n0        5     5037           0.0\n1        5     5320           0.0\n2        5     5233           1.0\n3        5     5232           0.0\n4        5     5268           0.0",
      "text/html": "<div>\n<style scoped>\n    .dataframe tbody tr th:only-of-type {\n        vertical-align: middle;\n    }\n\n    .dataframe tbody tr th {\n        vertical-align: top;\n    }\n\n    .dataframe thead th {\n        text-align: right;\n    }\n</style>\n<table border=\"1\" class=\"dataframe\">\n  <thead>\n    <tr style=\"text-align: right;\">\n      <th></th>\n      <th>shop_id</th>\n      <th>item_id</th>\n      <th>item_cnt_day</th>\n    </tr>\n  </thead>\n  <tbody>\n    <tr>\n      <th>0</th>\n      <td>5</td>\n      <td>5037</td>\n      <td>0.0</td>\n    </tr>\n    <tr>\n      <th>1</th>\n      <td>5</td>\n      <td>5320</td>\n      <td>0.0</td>\n    </tr>\n    <tr>\n      <th>2</th>\n      <td>5</td>\n      <td>5233</td>\n      <td>1.0</td>\n    </tr>\n    <tr>\n      <th>3</th>\n      <td>5</td>\n      <td>5232</td>\n      <td>0.0</td>\n    </tr>\n    <tr>\n      <th>4</th>\n      <td>5</td>\n      <td>5268</td>\n      <td>0.0</td>\n    </tr>\n  </tbody>\n</table>\n</div>"
     },
     "metadata": {}
    }
   ]
  },
  {
   "cell_type": "markdown",
   "source": "### Clipping (limit) mins and max values",
   "metadata": {
    "cell_id": "00029-651c7326-b4dc-4018-93d1-56bd0816c2ee",
    "deepnote_cell_type": "markdown"
   }
  },
  {
   "cell_type": "code",
   "metadata": {
    "cell_id": "00030-67703aa1-71de-4bd4-ad81-32563dcbc0f5",
    "deepnote_to_be_reexecuted": false,
    "source_hash": "72be1d25",
    "execution_start": 1620730807268,
    "execution_millis": 31,
    "deepnote_cell_type": "code"
   },
   "source": "results.item_cnt_day = results.item_cnt_day.clip(lower=0, upper=20)\nresults.head()",
   "execution_count": null,
   "outputs": [
    {
     "output_type": "execute_result",
     "execution_count": 32,
     "data": {
      "application/vnd.deepnote.dataframe.v2+json": {
       "row_count": 5,
       "column_count": 3,
       "columns": [
        {
         "name": "shop_id",
         "dtype": "int64",
         "stats": {
          "unique_count": 1,
          "nan_count": 0,
          "min": "5",
          "max": "5",
          "histogram": [
           {
            "bin_start": 4.5,
            "bin_end": 4.6,
            "count": 0
           },
           {
            "bin_start": 4.6,
            "bin_end": 4.7,
            "count": 0
           },
           {
            "bin_start": 4.7,
            "bin_end": 4.8,
            "count": 0
           },
           {
            "bin_start": 4.8,
            "bin_end": 4.9,
            "count": 0
           },
           {
            "bin_start": 4.9,
            "bin_end": 5,
            "count": 0
           },
           {
            "bin_start": 5,
            "bin_end": 5.1,
            "count": 5
           },
           {
            "bin_start": 5.1,
            "bin_end": 5.2,
            "count": 0
           },
           {
            "bin_start": 5.2,
            "bin_end": 5.3,
            "count": 0
           },
           {
            "bin_start": 5.3,
            "bin_end": 5.4,
            "count": 0
           },
           {
            "bin_start": 5.4,
            "bin_end": 5.5,
            "count": 0
           }
          ]
         }
        },
        {
         "name": "item_id",
         "dtype": "int64",
         "stats": {
          "unique_count": 5,
          "nan_count": 0,
          "min": "5037",
          "max": "5320",
          "histogram": [
           {
            "bin_start": 5037,
            "bin_end": 5065.3,
            "count": 1
           },
           {
            "bin_start": 5065.3,
            "bin_end": 5093.6,
            "count": 0
           },
           {
            "bin_start": 5093.6,
            "bin_end": 5121.9,
            "count": 0
           },
           {
            "bin_start": 5121.9,
            "bin_end": 5150.2,
            "count": 0
           },
           {
            "bin_start": 5150.2,
            "bin_end": 5178.5,
            "count": 0
           },
           {
            "bin_start": 5178.5,
            "bin_end": 5206.8,
            "count": 0
           },
           {
            "bin_start": 5206.8,
            "bin_end": 5235.1,
            "count": 2
           },
           {
            "bin_start": 5235.1,
            "bin_end": 5263.4,
            "count": 0
           },
           {
            "bin_start": 5263.4,
            "bin_end": 5291.7,
            "count": 1
           },
           {
            "bin_start": 5291.7,
            "bin_end": 5320,
            "count": 1
           }
          ]
         }
        },
        {
         "name": "item_cnt_day",
         "dtype": "float64",
         "stats": {
          "unique_count": 2,
          "nan_count": 0,
          "min": "0.0",
          "max": "1.0",
          "histogram": [
           {
            "bin_start": 0,
            "bin_end": 0.1,
            "count": 4
           },
           {
            "bin_start": 0.1,
            "bin_end": 0.2,
            "count": 0
           },
           {
            "bin_start": 0.2,
            "bin_end": 0.30000000000000004,
            "count": 0
           },
           {
            "bin_start": 0.30000000000000004,
            "bin_end": 0.4,
            "count": 0
           },
           {
            "bin_start": 0.4,
            "bin_end": 0.5,
            "count": 0
           },
           {
            "bin_start": 0.5,
            "bin_end": 0.6000000000000001,
            "count": 0
           },
           {
            "bin_start": 0.6000000000000001,
            "bin_end": 0.7000000000000001,
            "count": 0
           },
           {
            "bin_start": 0.7000000000000001,
            "bin_end": 0.8,
            "count": 0
           },
           {
            "bin_start": 0.8,
            "bin_end": 0.9,
            "count": 0
           },
           {
            "bin_start": 0.9,
            "bin_end": 1,
            "count": 1
           }
          ]
         }
        },
        {
         "name": "_deepnote_index_column",
         "dtype": "int64"
        }
       ],
       "rows_top": [
        {
         "shop_id": 5,
         "item_id": 5037,
         "item_cnt_day": 0,
         "_deepnote_index_column": 0
        },
        {
         "shop_id": 5,
         "item_id": 5320,
         "item_cnt_day": 0,
         "_deepnote_index_column": 1
        },
        {
         "shop_id": 5,
         "item_id": 5233,
         "item_cnt_day": 1,
         "_deepnote_index_column": 2
        },
        {
         "shop_id": 5,
         "item_id": 5232,
         "item_cnt_day": 0,
         "_deepnote_index_column": 3
        },
        {
         "shop_id": 5,
         "item_id": 5268,
         "item_cnt_day": 0,
         "_deepnote_index_column": 4
        }
       ],
       "rows_bottom": null
      },
      "text/plain": "   shop_id  item_id  item_cnt_day\n0        5     5037           0.0\n1        5     5320           0.0\n2        5     5233           1.0\n3        5     5232           0.0\n4        5     5268           0.0",
      "text/html": "<div>\n<style scoped>\n    .dataframe tbody tr th:only-of-type {\n        vertical-align: middle;\n    }\n\n    .dataframe tbody tr th {\n        vertical-align: top;\n    }\n\n    .dataframe thead th {\n        text-align: right;\n    }\n</style>\n<table border=\"1\" class=\"dataframe\">\n  <thead>\n    <tr style=\"text-align: right;\">\n      <th></th>\n      <th>shop_id</th>\n      <th>item_id</th>\n      <th>item_cnt_day</th>\n    </tr>\n  </thead>\n  <tbody>\n    <tr>\n      <th>0</th>\n      <td>5</td>\n      <td>5037</td>\n      <td>0.0</td>\n    </tr>\n    <tr>\n      <th>1</th>\n      <td>5</td>\n      <td>5320</td>\n      <td>0.0</td>\n    </tr>\n    <tr>\n      <th>2</th>\n      <td>5</td>\n      <td>5233</td>\n      <td>1.0</td>\n    </tr>\n    <tr>\n      <th>3</th>\n      <td>5</td>\n      <td>5232</td>\n      <td>0.0</td>\n    </tr>\n    <tr>\n      <th>4</th>\n      <td>5</td>\n      <td>5268</td>\n      <td>0.0</td>\n    </tr>\n  </tbody>\n</table>\n</div>"
     },
     "metadata": {}
    }
   ]
  },
  {
   "cell_type": "code",
   "metadata": {
    "cell_id": "00031-4cbeade0-16fd-4bdb-ac14-49933552dbfc",
    "deepnote_to_be_reexecuted": false,
    "source_hash": "4bd7915c",
    "execution_start": 1620730817023,
    "execution_millis": 71,
    "deepnote_cell_type": "code"
   },
   "source": "df_sub[\"item_cnt_month\"] = results[\"item_cnt_day\"]\ndf_sub.head()",
   "execution_count": null,
   "outputs": [
    {
     "output_type": "execute_result",
     "execution_count": 33,
     "data": {
      "application/vnd.deepnote.dataframe.v2+json": {
       "row_count": 5,
       "column_count": 1,
       "columns": [
        {
         "name": "item_cnt_month",
         "dtype": "float64",
         "stats": {
          "unique_count": 2,
          "nan_count": 0,
          "min": "0.0",
          "max": "1.0",
          "histogram": [
           {
            "bin_start": 0,
            "bin_end": 0.1,
            "count": 4
           },
           {
            "bin_start": 0.1,
            "bin_end": 0.2,
            "count": 0
           },
           {
            "bin_start": 0.2,
            "bin_end": 0.30000000000000004,
            "count": 0
           },
           {
            "bin_start": 0.30000000000000004,
            "bin_end": 0.4,
            "count": 0
           },
           {
            "bin_start": 0.4,
            "bin_end": 0.5,
            "count": 0
           },
           {
            "bin_start": 0.5,
            "bin_end": 0.6000000000000001,
            "count": 0
           },
           {
            "bin_start": 0.6000000000000001,
            "bin_end": 0.7000000000000001,
            "count": 0
           },
           {
            "bin_start": 0.7000000000000001,
            "bin_end": 0.8,
            "count": 0
           },
           {
            "bin_start": 0.8,
            "bin_end": 0.9,
            "count": 0
           },
           {
            "bin_start": 0.9,
            "bin_end": 1,
            "count": 1
           }
          ]
         }
        },
        {
         "name": "_deepnote_index_column",
         "dtype": "int64"
        }
       ],
       "rows_top": [
        {
         "item_cnt_month": 0,
         "_deepnote_index_column": 0
        },
        {
         "item_cnt_month": 0,
         "_deepnote_index_column": 1
        },
        {
         "item_cnt_month": 1,
         "_deepnote_index_column": 2
        },
        {
         "item_cnt_month": 0,
         "_deepnote_index_column": 3
        },
        {
         "item_cnt_month": 0,
         "_deepnote_index_column": 4
        }
       ],
       "rows_bottom": null
      },
      "text/plain": "    item_cnt_month\nID                \n0              0.0\n1              0.0\n2              1.0\n3              0.0\n4              0.0",
      "text/html": "<div>\n<style scoped>\n    .dataframe tbody tr th:only-of-type {\n        vertical-align: middle;\n    }\n\n    .dataframe tbody tr th {\n        vertical-align: top;\n    }\n\n    .dataframe thead th {\n        text-align: right;\n    }\n</style>\n<table border=\"1\" class=\"dataframe\">\n  <thead>\n    <tr style=\"text-align: right;\">\n      <th></th>\n      <th>item_cnt_month</th>\n    </tr>\n    <tr>\n      <th>ID</th>\n      <th></th>\n    </tr>\n  </thead>\n  <tbody>\n    <tr>\n      <th>0</th>\n      <td>0.0</td>\n    </tr>\n    <tr>\n      <th>1</th>\n      <td>0.0</td>\n    </tr>\n    <tr>\n      <th>2</th>\n      <td>1.0</td>\n    </tr>\n    <tr>\n      <th>3</th>\n      <td>0.0</td>\n    </tr>\n    <tr>\n      <th>4</th>\n      <td>0.0</td>\n    </tr>\n  </tbody>\n</table>\n</div>"
     },
     "metadata": {}
    }
   ]
  },
  {
   "cell_type": "code",
   "metadata": {
    "cell_id": "00032-4674f2c0-40eb-4c3b-81d7-f89f284ba1e4",
    "deepnote_to_be_reexecuted": false,
    "source_hash": "552a0dba",
    "execution_start": 1620730820049,
    "execution_millis": 398,
    "deepnote_cell_type": "code"
   },
   "source": "# df_sub.to_csv(\"oct2015_new.csv\")",
   "execution_count": null,
   "outputs": []
  },
  {
   "cell_type": "code",
   "metadata": {
    "cell_id": "00033-092e17b0-2c3c-4890-80c0-8bcd39b37ae0",
    "deepnote_cell_type": "code"
   },
   "source": "# !head oct2015_new.csv",
   "execution_count": null,
   "outputs": [
    {
     "name": "stdout",
     "output_type": "stream",
     "text": "ID,item_cnt_month\r\n0,0.0\r\n1,0.0\r\n2,1.0\r\n3,0.0\r\n4,0.0\r\n5,1.0\r\n6,2.0\r\n7,0.0\r\n8,0.0\r\n"
    }
   ]
  },
  {
   "cell_type": "markdown",
   "source": "<a style='text-decoration:none;line-height:16px;display:flex;color:#5B5B62;padding:10px;justify-content:end;' href='https://deepnote.com?utm_source=created-in-deepnote-cell&projectId=32ebab46-e526-42a3-8966-92f4ff6ef571' target=\"_blank\">\n<img alt='Created in deepnote.com' style='display:inline;max-height:16px;margin:0px;margin-right:7.5px;' src='data:image/svg+xml;base64,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' > </img>\nCreated in <span style='font-weight:600;margin-left:4px;'>Deepnote</span></a>",
   "metadata": {
    "tags": [],
    "created_in_deepnote_cell": true,
    "deepnote_cell_type": "markdown"
   }
  }
 ],
 "nbformat": 4,
 "nbformat_minor": 2,
 "metadata": {
  "kernelspec": {
   "display_name": "Python 3",
   "language": "python",
   "name": "python3"
  },
  "language_info": {
   "codemirror_mode": {
    "name": "ipython",
    "version": 3
   },
   "file_extension": ".py",
   "mimetype": "text/x-python",
   "name": "python",
   "nbconvert_exporter": "python",
   "pygments_lexer": "ipython3",
   "version": "3.9.1"
  },
  "deepnote_notebook_id": "5187ec50-7d52-410b-9eb2-b11c02affc33",
  "deepnote": {},
  "deepnote_execution_queue": []
 }
}