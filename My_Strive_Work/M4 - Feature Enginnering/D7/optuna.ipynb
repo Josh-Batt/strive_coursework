{
 "cells": [
  {
   "cell_type": "code",
   "metadata": {
    "tags": [],
    "cell_id": "00000-020409f9-931a-4b42-ba7a-ea14e864ca71",
    "deepnote_to_be_reexecuted": false,
    "source_hash": "7b3f4d39",
    "execution_start": 1620739423890,
    "execution_millis": 0,
    "deepnote_cell_type": "code"
   },
   "source": "import time\nfrom IPython.display import clear_output\nimport numpy    as np\nimport pandas   as pd\nimport seaborn  as sb\nimport matplotlib.pyplot as plt\nimport sklearn  as skl\n\nfrom sklearn import pipeline      # Pipeline\nfrom sklearn import preprocessing # OrdinalEncoder, LabelEncoder\nfrom sklearn import impute\nfrom sklearn import compose\nfrom sklearn import model_selection # train_test_split\nfrom sklearn import metrics         # accuracy_score, balanced_accuracy_score, plot_confusion_matrix\nfrom sklearn import set_config\nfrom pandas import read_csv\nfrom sklearn.model_selection import train_test_split\nfrom sklearn.linear_model import LinearRegression\nfrom sklearn.neighbors import LocalOutlierFactor\nfrom sklearn.metrics import mean_absolute_error\nfrom sklearn.ensemble import IsolationForest\n\nfrom sklearn.impute import SimpleImputer\n\nset_config(display='diagram') # Useful for display the pipeline\n\nprint(\"Pandas  \", pd.__version__)\nprint(\"Sklearn \", skl.__version__) # Try to use 0.24",
   "execution_count": 3,
   "outputs": [
    {
     "name": "stdout",
     "text": "Pandas   1.2.4\nSklearn  0.24.2\n",
     "output_type": "stream"
    }
   ]
  },
  {
   "cell_type": "code",
   "metadata": {
    "tags": [],
    "cell_id": "00000-93ee5d80-82ba-4b85-ad9a-ec44bc82c2e6",
    "deepnote_to_be_reexecuted": false,
    "source_hash": "7d721690",
    "execution_start": 1620739427711,
    "execution_millis": 636,
    "deepnote_cell_type": "code"
   },
   "source": "# conda install -c conda-forge optuna\n\nimport optuna\noptuna.__version__",
   "execution_count": 4,
   "outputs": [
    {
     "output_type": "execute_result",
     "execution_count": 4,
     "data": {
      "text/plain": "'2.7.0'"
     },
     "metadata": {}
    }
   ]
  },
  {
   "cell_type": "code",
   "metadata": {
    "tags": [],
    "cell_id": "00001-2a87fd81-5e9b-4160-bc92-69f59be728cb",
    "deepnote_to_be_reexecuted": false,
    "source_hash": "2e2fef54",
    "execution_start": 1620719123410,
    "execution_millis": 8,
    "deepnote_cell_type": "code"
   },
   "source": "optuna.samplers.GridSampler\noptuna.samplers.RandomSampler\noptuna.samplers.TPESampler(multivariate=False)\noptuna.samplers.TPESampler(multivariate=True)\noptuna.samplers.CmaEsSampler\noptuna.samplers.NSGAIISampler\noptuna.samplers.MOTPESampler",
   "execution_count": null,
   "outputs": [
    {
     "output_type": "execute_result",
     "execution_count": 6,
     "data": {
      "text/plain": "optuna.samplers._tpe.multi_objective_sampler.MOTPESampler"
     },
     "metadata": {}
    }
   ]
  },
  {
   "cell_type": "code",
   "metadata": {
    "tags": [],
    "cell_id": "00001-89f09293-cdaf-4faf-b30e-81afd07a6970",
    "deepnote_to_be_reexecuted": false,
    "source_hash": "1f460e3e",
    "execution_start": 1620719108105,
    "execution_millis": 7,
    "deepnote_cell_type": "code"
   },
   "source": "optuna.distributions.UniformDistribution\noptuna.distributions.LogUniformDistribution\noptuna.distributions.DiscreteUniformDistribution\noptuna.distributions.IntUniformDistribution\noptuna.distributions.IntLogUniformDistribution\noptuna.distributions.CategoricalDistribution\n",
   "execution_count": null,
   "outputs": [
    {
     "output_type": "execute_result",
     "execution_count": 4,
     "data": {
      "text/plain": "optuna.distributions.CategoricalDistribution"
     },
     "metadata": {}
    }
   ]
  },
  {
   "cell_type": "code",
   "metadata": {
    "tags": [],
    "cell_id": "00002-d71a02cd-18bf-4d66-a30c-f59742c67f12",
    "deepnote_to_be_reexecuted": false,
    "source_hash": "a6aaf1b",
    "execution_start": 1620739418929,
    "execution_millis": 734,
    "deepnote_cell_type": "code"
   },
   "source": "study = optuna.create_study()\nprint(f\"Sampler is {study.sampler.__class__.__name__}\")",
   "execution_count": 2,
   "outputs": [
    {
     "output_type": "error",
     "ename": "NameError",
     "evalue": "name 'optuna' is not defined",
     "traceback": [
      "\u001b[0;31m---------------------------------------------------------------------------\u001b[0m",
      "\u001b[0;31mNameError\u001b[0m                                 Traceback (most recent call last)",
      "\u001b[0;32m<ipython-input-2-cc84720bec03>\u001b[0m in \u001b[0;36m<module>\u001b[0;34m\u001b[0m\n\u001b[0;32m----> 1\u001b[0;31m \u001b[0mstudy\u001b[0m \u001b[0;34m=\u001b[0m \u001b[0moptuna\u001b[0m\u001b[0;34m.\u001b[0m\u001b[0mcreate_study\u001b[0m\u001b[0;34m(\u001b[0m\u001b[0;34m)\u001b[0m\u001b[0;34m\u001b[0m\u001b[0;34m\u001b[0m\u001b[0m\n\u001b[0m\u001b[1;32m      2\u001b[0m \u001b[0mprint\u001b[0m\u001b[0;34m(\u001b[0m\u001b[0;34mf\"Sampler is {study.sampler.__class__.__name__}\"\u001b[0m\u001b[0;34m)\u001b[0m\u001b[0;34m\u001b[0m\u001b[0;34m\u001b[0m\u001b[0m\n",
      "\u001b[0;31mNameError\u001b[0m: name 'optuna' is not defined"
     ]
    }
   ]
  },
  {
   "cell_type": "code",
   "metadata": {
    "tags": [],
    "cell_id": "00003-e7f5fae3-0beb-44ba-98c2-8d29f0540692",
    "deepnote_to_be_reexecuted": false,
    "source_hash": "97e6d66",
    "execution_start": 1620719144197,
    "execution_millis": 19,
    "deepnote_cell_type": "code"
   },
   "source": "study = optuna.create_study(sampler=optuna.samplers.RandomSampler())\nprint(f\"Sampler is {study.sampler.__class__.__name__}\")\n\nstudy = optuna.create_study(sampler=optuna.samplers.CmaEsSampler())\nprint(f\"Sampler is {study.sampler.__class__.__name__}\")",
   "execution_count": null,
   "outputs": [
    {
     "name": "stderr",
     "text": "\u001b[32m[I 2021-05-11 07:45:44,199]\u001b[0m A new study created in memory with name: no-name-57215bf7-c5a7-479d-a1a9-d972dc496864\u001b[0m\n\u001b[32m[I 2021-05-11 07:45:44,203]\u001b[0m A new study created in memory with name: no-name-e4552776-6537-407b-9b85-44c6ca09d88f\u001b[0m\nSampler is RandomSampler\nSampler is CmaEsSampler\n",
     "output_type": "stream"
    }
   ]
  },
  {
   "cell_type": "code",
   "metadata": {
    "tags": [],
    "cell_id": "00005-ba15a577-2e7b-49fb-aff4-4763f1c7a327",
    "deepnote_cell_type": "code"
   },
   "source": "",
   "execution_count": null,
   "outputs": []
  },
  {
   "cell_type": "code",
   "metadata": {
    "tags": [],
    "cell_id": "00006-c65cf61f-3623-46bf-9aad-657a6d446c6d",
    "deepnote_cell_type": "code"
   },
   "source": "# from sklearn.model_selection import train_test_split\n\n# x_train, x_test, y_train, y_test = train_test_split(x, y, test_size=0.33, random_state=42)",
   "execution_count": null,
   "outputs": []
  },
  {
   "cell_type": "code",
   "metadata": {
    "tags": [],
    "cell_id": "00008-03128b52-7d9d-4cd5-8604-1e5dc0746a86",
    "deepnote_cell_type": "code"
   },
   "source": "# prepro",
   "execution_count": null,
   "outputs": []
  },
  {
   "cell_type": "code",
   "metadata": {
    "tags": [],
    "cell_id": "00009-59685ae5-c551-4f57-8a6b-5adbb2f7177e",
    "deepnote_cell_type": "code"
   },
   "source": "from sklearn.metrics import mean_squared_error\nfrom sklearn.model_selection",
   "execution_count": null,
   "outputs": []
  },
  {
   "cell_type": "code",
   "metadata": {
    "tags": [],
    "cell_id": "00009-21df2d50-8547-415e-a2a5-5e591571fdff",
    "deepnote_cell_type": "code"
   },
   "source": "def objective(trial):\n\n    c = trial.suggest_loguniform('svc_c', 1e-10, 1e10)\n    kernerl = trial.suggest_categorical('kernel', ['linear', 'poly', 'rbf', 'sigmoid'])\n    epsilon = trial.suggest_iniform('epsilon', 0, 1.0)\n\n    ####\n    print(\"TRAIL with\", c, kernel, epsilon)\n\n\n    model = linear_model.LinearRegression()\n    pipe = pipeline.Pipeline(steps=[('prepro', prepro), ('model', model)])\n    validation_rmse = mean_squared_error(y_test, pred)\n\n    ####\n\n    oof_preds = cross_val_predict(pipe, x, y, cv=5)\n    validation_rmse = mean_squared_error(y, oof_preds)\n\n\n    return validation_rmse\n\n",
   "execution_count": null,
   "outputs": []
  },
  {
   "cell_type": "code",
   "metadata": {
    "tags": [],
    "cell_id": "00009-8d99b9c8-d6cc-4231-89c8-4a0649538acf",
    "deepnote_cell_type": "code"
   },
   "source": "",
   "execution_count": null,
   "outputs": []
  },
  {
   "cell_type": "code",
   "metadata": {
    "tags": [],
    "cell_id": "00009-a2dfefac-d8b9-4288-82f7-0f554b754135",
    "deepnote_cell_type": "code"
   },
   "source": "",
   "execution_count": null,
   "outputs": []
  },
  {
   "cell_type": "code",
   "metadata": {
    "tags": [],
    "cell_id": "00009-40a6e342-1176-47f3-a165-3b12900aeab0",
    "deepnote_cell_type": "code"
   },
   "source": "# study.best_params",
   "execution_count": null,
   "outputs": []
  },
  {
   "cell_type": "code",
   "metadata": {
    "tags": [],
    "cell_id": "00009-fa38c69b-723b-4333-9c6d-e7b6d52d5a88",
    "deepnote_cell_type": "code"
   },
   "source": "",
   "execution_count": null,
   "outputs": []
  },
  {
   "cell_type": "code",
   "metadata": {
    "tags": [],
    "cell_id": "00012-1393cf5a-408f-4067-8044-ff039fc2d6fb",
    "deepnote_cell_type": "code"
   },
   "source": "",
   "execution_count": null,
   "outputs": []
  },
  {
   "cell_type": "markdown",
   "source": "<a style='text-decoration:none;line-height:16px;display:flex;color:#5B5B62;padding:10px;justify-content:end;' href='https://deepnote.com?utm_source=created-in-deepnote-cell&projectId=32ebab46-e526-42a3-8966-92f4ff6ef571' target=\"_blank\">\n<img alt='Created in deepnote.com' style='display:inline;max-height:16px;margin:0px;margin-right:7.5px;' src='data:image/svg+xml;base64,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' > </img>\nCreated in <span style='font-weight:600;margin-left:4px;'>Deepnote</span></a>",
   "metadata": {
    "tags": [],
    "created_in_deepnote_cell": true,
    "deepnote_cell_type": "markdown"
   }
  }
 ],
 "nbformat": 4,
 "nbformat_minor": 2,
 "metadata": {
  "orig_nbformat": 2,
  "deepnote": {
   "is_reactive": false
  },
  "deepnote_notebook_id": "55200f6b-1e1c-4a43-b26b-5e6b270a7980",
  "deepnote_execution_queue": []
 }
}