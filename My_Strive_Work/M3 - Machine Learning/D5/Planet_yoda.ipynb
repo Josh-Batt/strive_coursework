{
  "cells": [
    {
      "cell_type": "code",
      "metadata": {
        "tags": [],
        "cell_id": "00000-840e9264-a499-4d0f-9439-b71c5ec2bd93",
        "deepnote_to_be_reexecuted": false,
        "source_hash": "3a282d92",
        "execution_millis": 21,
        "execution_start": 1619188669878,
        "deepnote_cell_type": "code"
      },
      "source": "import pandas as pd\nimport numpy as np\n\nfrom sklearn.datasets import load_iris\nfrom sklearn.model_selection import train_test_split\nfrom scipy.cluster.hierarchy import linkage, dendrogram\nfrom sklearn.decomposition import PCA\nfrom sklearn.cluster import KMeans\n\nimport matplotlib.pyplot as plt\nimport seaborn as sns\nprint('Setup complete')",
      "execution_count": 136,
      "outputs": [
        {
          "name": "stdout",
          "text": "Setup complete\n",
          "output_type": "stream"
        }
      ]
    },
    {
      "cell_type": "code",
      "metadata": {
        "tags": [],
        "cell_id": "00002-1e48e077-bd94-4022-920f-35a161d77402",
        "deepnote_to_be_reexecuted": false,
        "source_hash": "6d3f01d6",
        "execution_millis": 37,
        "output_cleared": false,
        "execution_start": 1619192640538,
        "deepnote_cell_type": "code"
      },
      "source": "planet_df = pd.read_csv(\"planet.csv\")\nplanet_df.head()",
      "execution_count": 157,
      "outputs": [
        {
          "output_type": "execute_result",
          "execution_count": 157,
          "data": {
            "application/vnd.deepnote.dataframe.v2+json": {
              "row_count": 5,
              "column_count": 5,
              "columns": [
                {
                  "name": "X",
                  "dtype": "float64",
                  "stats": {
                    "unique_count": 5,
                    "nan_count": 0,
                    "min": "-10.577705871350958",
                    "max": "4.680549005991116",
                    "histogram": [
                      {
                        "bin_start": -10.577705871350958,
                        "bin_end": -9.05188038361675,
                        "count": 1
                      },
                      {
                        "bin_start": -9.05188038361675,
                        "bin_end": -7.526054895882543,
                        "count": 2
                      },
                      {
                        "bin_start": -7.526054895882543,
                        "bin_end": -6.000229408148336,
                        "count": 1
                      },
                      {
                        "bin_start": -6.000229408148336,
                        "bin_end": -4.474403920414128,
                        "count": 0
                      },
                      {
                        "bin_start": -4.474403920414128,
                        "bin_end": -2.94857843267992,
                        "count": 0
                      },
                      {
                        "bin_start": -2.94857843267992,
                        "bin_end": -1.4227529449457137,
                        "count": 0
                      },
                      {
                        "bin_start": -1.4227529449457137,
                        "bin_end": 0.1030725427884942,
                        "count": 0
                      },
                      {
                        "bin_start": 0.1030725427884942,
                        "bin_end": 1.628898030522702,
                        "count": 0
                      },
                      {
                        "bin_start": 1.628898030522702,
                        "bin_end": 3.15472351825691,
                        "count": 0
                      },
                      {
                        "bin_start": 3.15472351825691,
                        "bin_end": 4.680549005991116,
                        "count": 1
                      }
                    ]
                  }
                },
                {
                  "name": "Y",
                  "dtype": "float64",
                  "stats": {
                    "unique_count": 5,
                    "nan_count": 0,
                    "min": "-8.821567115864449",
                    "max": "7.121961798829664",
                    "histogram": [
                      {
                        "bin_start": -8.821567115864449,
                        "bin_end": -7.227214224395038,
                        "count": 1
                      },
                      {
                        "bin_start": -7.227214224395038,
                        "bin_end": -5.632861332925626,
                        "count": 0
                      },
                      {
                        "bin_start": -5.632861332925626,
                        "bin_end": -4.038508441456214,
                        "count": 0
                      },
                      {
                        "bin_start": -4.038508441456214,
                        "bin_end": -2.444155549986803,
                        "count": 0
                      },
                      {
                        "bin_start": -2.444155549986803,
                        "bin_end": -0.8498026585173921,
                        "count": 0
                      },
                      {
                        "bin_start": -0.8498026585173921,
                        "bin_end": 0.7445502329520206,
                        "count": 1
                      },
                      {
                        "bin_start": 0.7445502329520206,
                        "bin_end": 2.3389031244214316,
                        "count": 1
                      },
                      {
                        "bin_start": 2.3389031244214316,
                        "bin_end": 3.9332560158908425,
                        "count": 0
                      },
                      {
                        "bin_start": 3.9332560158908425,
                        "bin_end": 5.5276089073602535,
                        "count": 1
                      },
                      {
                        "bin_start": 5.5276089073602535,
                        "bin_end": 7.121961798829664,
                        "count": 1
                      }
                    ]
                  }
                },
                {
                  "name": "Z",
                  "dtype": "float64",
                  "stats": {
                    "unique_count": 5,
                    "nan_count": 0,
                    "min": "-5.58860803212353",
                    "max": "8.955228964509592",
                    "histogram": [
                      {
                        "bin_start": -5.58860803212353,
                        "bin_end": -4.134224332460218,
                        "count": 1
                      },
                      {
                        "bin_start": -4.134224332460218,
                        "bin_end": -2.679840632796906,
                        "count": 0
                      },
                      {
                        "bin_start": -2.679840632796906,
                        "bin_end": -1.2254569331335938,
                        "count": 0
                      },
                      {
                        "bin_start": -1.2254569331335938,
                        "bin_end": 0.22892676652971833,
                        "count": 1
                      },
                      {
                        "bin_start": 0.22892676652971833,
                        "bin_end": 1.6833104661930305,
                        "count": 1
                      },
                      {
                        "bin_start": 1.6833104661930305,
                        "bin_end": 3.1376941658563426,
                        "count": 0
                      },
                      {
                        "bin_start": 3.1376941658563426,
                        "bin_end": 4.592077865519655,
                        "count": 0
                      },
                      {
                        "bin_start": 4.592077865519655,
                        "bin_end": 6.046461565182967,
                        "count": 1
                      },
                      {
                        "bin_start": 6.046461565182967,
                        "bin_end": 7.500845264846279,
                        "count": 0
                      },
                      {
                        "bin_start": 7.500845264846279,
                        "bin_end": 8.955228964509592,
                        "count": 1
                      }
                    ]
                  }
                },
                {
                  "name": "Temp",
                  "dtype": "float64",
                  "stats": {
                    "unique_count": 5,
                    "nan_count": 0,
                    "min": "-8.438928909338676",
                    "max": "8.154624394805673",
                    "histogram": [
                      {
                        "bin_start": -8.438928909338676,
                        "bin_end": -6.779573578924241,
                        "count": 3
                      },
                      {
                        "bin_start": -6.779573578924241,
                        "bin_end": -5.120218248509806,
                        "count": 1
                      },
                      {
                        "bin_start": -5.120218248509806,
                        "bin_end": -3.460862918095371,
                        "count": 0
                      },
                      {
                        "bin_start": -3.460862918095371,
                        "bin_end": -1.8015075876809359,
                        "count": 0
                      },
                      {
                        "bin_start": -1.8015075876809359,
                        "bin_end": -0.14215225726650083,
                        "count": 0
                      },
                      {
                        "bin_start": -0.14215225726650083,
                        "bin_end": 1.5172030731479342,
                        "count": 0
                      },
                      {
                        "bin_start": 1.5172030731479342,
                        "bin_end": 3.1765584035623693,
                        "count": 0
                      },
                      {
                        "bin_start": 3.1765584035623693,
                        "bin_end": 4.835913733976804,
                        "count": 0
                      },
                      {
                        "bin_start": 4.835913733976804,
                        "bin_end": 6.495269064391239,
                        "count": 0
                      },
                      {
                        "bin_start": 6.495269064391239,
                        "bin_end": 8.154624394805673,
                        "count": 1
                      }
                    ]
                  }
                },
                {
                  "name": "climate",
                  "dtype": "float64",
                  "stats": {
                    "unique_count": 5,
                    "nan_count": 0,
                    "min": "-9.494052696968932",
                    "max": "9.046185289270852",
                    "histogram": [
                      {
                        "bin_start": -9.494052696968932,
                        "bin_end": -7.640028898344954,
                        "count": 2
                      },
                      {
                        "bin_start": -7.640028898344954,
                        "bin_end": -5.786005099720976,
                        "count": 0
                      },
                      {
                        "bin_start": -5.786005099720976,
                        "bin_end": -3.9319813010969966,
                        "count": 0
                      },
                      {
                        "bin_start": -3.9319813010969966,
                        "bin_end": -2.0779575024730184,
                        "count": 1
                      },
                      {
                        "bin_start": -2.0779575024730184,
                        "bin_end": -0.2239337038490401,
                        "count": 0
                      },
                      {
                        "bin_start": -0.2239337038490401,
                        "bin_end": 1.630090094774939,
                        "count": 0
                      },
                      {
                        "bin_start": 1.630090094774939,
                        "bin_end": 3.4841138933989164,
                        "count": 0
                      },
                      {
                        "bin_start": 3.4841138933989164,
                        "bin_end": 5.338137692022896,
                        "count": 0
                      },
                      {
                        "bin_start": 5.338137692022896,
                        "bin_end": 7.192161490646875,
                        "count": 0
                      },
                      {
                        "bin_start": 7.192161490646875,
                        "bin_end": 9.046185289270852,
                        "count": 2
                      }
                    ]
                  }
                },
                {
                  "name": "_deepnote_index_column",
                  "dtype": "int64"
                }
              ],
              "rows_top": [
                {
                  "X": -10.577705871350958,
                  "Y": 2.279241597144936,
                  "Z": -0.8654523500053504,
                  "Temp": -8.438928909338676,
                  "climate": -9.494052696968932,
                  "_deepnote_index_column": 0
                },
                {
                  "X": -7.427127452604408,
                  "Y": 0.1764099706254495,
                  "Z": -5.58860803212353,
                  "Temp": -5.443328686210434,
                  "climate": -3.629749115998497,
                  "_deepnote_index_column": 1
                },
                {
                  "X": -7.590299755682365,
                  "Y": 7.121961798829664,
                  "Z": 8.955228964509592,
                  "Temp": -7.675402057892525,
                  "climate": 8.909423224617354,
                  "_deepnote_index_column": 2
                },
                {
                  "X": -8.8506996220433,
                  "Y": 4.544746579473163,
                  "Z": 0.6165608983563643,
                  "Temp": -7.1596178397326335,
                  "climate": -8.560697876271805,
                  "_deepnote_index_column": 3
                },
                {
                  "X": 4.680549005991116,
                  "Y": -8.821567115864449,
                  "Z": 5.156382195430829,
                  "Temp": 8.154624394805673,
                  "climate": 9.046185289270852,
                  "_deepnote_index_column": 4
                }
              ],
              "rows_bottom": null
            },
            "text/plain": "           X         Y         Z      Temp   climate\n0 -10.577706  2.279242 -0.865452 -8.438929 -9.494053\n1  -7.427127  0.176410 -5.588608 -5.443329 -3.629749\n2  -7.590300  7.121962  8.955229 -7.675402  8.909423\n3  -8.850700  4.544747  0.616561 -7.159618 -8.560698\n4   4.680549 -8.821567  5.156382  8.154624  9.046185",
            "text/html": "<div>\n<style scoped>\n    .dataframe tbody tr th:only-of-type {\n        vertical-align: middle;\n    }\n\n    .dataframe tbody tr th {\n        vertical-align: top;\n    }\n\n    .dataframe thead th {\n        text-align: right;\n    }\n</style>\n<table border=\"1\" class=\"dataframe\">\n  <thead>\n    <tr style=\"text-align: right;\">\n      <th></th>\n      <th>X</th>\n      <th>Y</th>\n      <th>Z</th>\n      <th>Temp</th>\n      <th>climate</th>\n    </tr>\n  </thead>\n  <tbody>\n    <tr>\n      <th>0</th>\n      <td>-10.577706</td>\n      <td>2.279242</td>\n      <td>-0.865452</td>\n      <td>-8.438929</td>\n      <td>-9.494053</td>\n    </tr>\n    <tr>\n      <th>1</th>\n      <td>-7.427127</td>\n      <td>0.176410</td>\n      <td>-5.588608</td>\n      <td>-5.443329</td>\n      <td>-3.629749</td>\n    </tr>\n    <tr>\n      <th>2</th>\n      <td>-7.590300</td>\n      <td>7.121962</td>\n      <td>8.955229</td>\n      <td>-7.675402</td>\n      <td>8.909423</td>\n    </tr>\n    <tr>\n      <th>3</th>\n      <td>-8.850700</td>\n      <td>4.544747</td>\n      <td>0.616561</td>\n      <td>-7.159618</td>\n      <td>-8.560698</td>\n    </tr>\n    <tr>\n      <th>4</th>\n      <td>4.680549</td>\n      <td>-8.821567</td>\n      <td>5.156382</td>\n      <td>8.154624</td>\n      <td>9.046185</td>\n    </tr>\n  </tbody>\n</table>\n</div>"
          },
          "metadata": {}
        }
      ]
    },
    {
      "cell_type": "code",
      "metadata": {
        "tags": [],
        "cell_id": "00002-7f854acc-83bf-40b2-b1d1-1ce04289f691",
        "deepnote_to_be_reexecuted": false,
        "source_hash": "c3e052a7",
        "execution_millis": 0,
        "execution_start": 1619192643728,
        "deepnote_cell_type": "code"
      },
      "source": "pca = PCA()",
      "execution_count": 158,
      "outputs": []
    },
    {
      "cell_type": "code",
      "metadata": {
        "tags": [],
        "cell_id": "00003-5b66f44d-e7ce-46f6-873a-ca8d3b647d34",
        "deepnote_to_be_reexecuted": false,
        "source_hash": "ce808e7b",
        "execution_millis": 0,
        "execution_start": 1619188627386,
        "output_cleared": true,
        "deepnote_cell_type": "code"
      },
      "source": "trans_planet = pca.fit_transform(planet_df)\n\ntrans_planet",
      "execution_count": 133,
      "outputs": []
    },
    {
      "cell_type": "code",
      "metadata": {
        "tags": [],
        "cell_id": "00005-b66de98e-01a8-4f6c-aeb9-cf3430e4ca67",
        "deepnote_to_be_reexecuted": false,
        "source_hash": "d843c058",
        "execution_millis": 216,
        "execution_start": 1619191215380,
        "deepnote_cell_type": "code"
      },
      "source": "plt.scatter(trans_planet[:,0], trans_planet[:,1])\n\nmean_X = np.mean(trans_planet[:,0])\nmean_Y = np.mean(trans_planet[:,1])\n# plt.scatter(mean_X, mean_Y)\n# print(mean_Y)",
      "execution_count": 156,
      "outputs": [
        {
          "data": {
            "text/plain": "<Figure size 432x288 with 1 Axes>",
            "image/png": "[encoded data removed]"
          },
          "metadata": {
            "needs_background": "light"
          },
          "output_type": "display_data"
        }
      ]
    },
    {
      "cell_type": "code",
      "metadata": {
        "tags": [],
        "cell_id": "00006-7ad91c7c-a115-4da5-8b65-bdc0d310bfc7",
        "deepnote_to_be_reexecuted": false,
        "source_hash": "2a255be7",
        "execution_millis": 18,
        "execution_start": 1619188633575,
        "deepnote_cell_type": "code"
      },
      "source": "# x and y are the PCAs of the data\n\nx = trans_planet[:,0]\ny = trans_planet[:,1]\n\n# euclidean formula\n\ndist = []\n\nfor point in range(x.shape[0]):\n    dist.append(np.sqrt((x[point]-mean_X)**2 + (y[point] - mean_Y)**2))\n\n# Taking miniumum distance (the euclidean)\n\nmin1 = min(dist)\nfind = np.where(dist == min1)\n\n# Baby Yoda's coordinates\n\nyoda_x_y = x_y[find]\nyoda_x = x[find]\nyoda_y = y[find]\n\nprint(\"The x coordinate of baby yoda is: \", yoda_x)\nprint(\"The y coordinate of baby yoda is: \", yoda_y)",
      "execution_count": 135,
      "outputs": [
        {
          "name": "stdout",
          "text": "The x coordinate of baby yoda is:  [-0.14618599]\nThe y coordinate of baby yoda is:  [-0.0314799]\n",
          "output_type": "stream"
        }
      ]
    },
    {
      "cell_type": "code",
      "metadata": {
        "tags": [],
        "cell_id": "00006-baad52d6-8015-455b-8658-7fcabc3fd83a",
        "deepnote_to_be_reexecuted": false,
        "source_hash": "44d69a",
        "execution_millis": 393,
        "execution_start": 1619190234197,
        "deepnote_cell_type": "code"
      },
      "source": "plt.figure(figsize=(10,10))\nplt.scatter(trans_planet[:,0], trans_planet[:,1])\nplt.scatter(mean_X, mean_Y,c='green')\nplt.scatter(yoda_x,yoda_y,c='red')\nplt.annotate(\"Strong the force here is\", (yoda_x,yoda_y))\n",
      "execution_count": 155,
      "outputs": [
        {
          "output_type": "execute_result",
          "execution_count": 155,
          "data": {
            "text/plain": "Text([-0.14618599], [-0.0314799], 'Strong the force here is')"
          },
          "metadata": {}
        },
        {
          "data": {
            "text/plain": "<Figure size 720x720 with 1 Axes>",
            "image/png": "[encoded data removed]"
          },
          "metadata": {
            "needs_background": "light"
          },
          "output_type": "display_data"
        }
      ]
    },
    {
      "cell_type": "markdown",
      "source": "<a style='text-decoration:none;line-height:16px;display:flex;color:#5B5B62;padding:10px;justify-content:end;' href='https://deepnote.com?utm_source=created-in-deepnote-cell&projectId=0b8e8386-8331-4023-aaf0-3dc609c90ca2' target=\"_blank\">\n<img alt='Created in deepnote.com' style='display:inline;max-height:16px;margin:0px;margin-right:7.5px;' src='data:image/svg+xml;base64,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' > </img>\nCreated in <span style='font-weight:600;margin-left:4px;'>Deepnote</span></a>",
      "metadata": {
        "tags": [],
        "created_in_deepnote_cell": true,
        "deepnote_cell_type": "markdown"
      }
    }
  ],
  "nbformat": 4,
  "nbformat_minor": 2,
  "metadata": {
    "orig_nbformat": 2,
    "deepnote": {
      "is_reactive": false
    },
    "deepnote_notebook_id": "44e11518-d5b7-418a-b708-41be07f1221a",
    "deepnote_execution_queue": []
  }
}