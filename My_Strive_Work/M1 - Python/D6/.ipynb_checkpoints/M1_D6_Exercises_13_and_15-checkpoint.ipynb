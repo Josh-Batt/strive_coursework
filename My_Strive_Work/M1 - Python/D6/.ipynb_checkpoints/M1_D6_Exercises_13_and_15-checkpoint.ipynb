{
 "cells": [
  {
   "cell_type": "code",
   "execution_count": 9,
   "id": "composite-passage",
   "metadata": {},
   "outputs": [],
   "source": [
    "import numpy as np\n",
    "import random"
   ]
  },
  {
   "cell_type": "markdown",
   "id": "radical-equipment",
   "metadata": {},
   "source": [
    "**13. Create a 10x10 array with random values and find the minimum and maximum values**"
   ]
  },
  {
   "cell_type": "code",
   "execution_count": 15,
   "id": "recognized-minister",
   "metadata": {},
   "outputs": [],
   "source": [
    "arr = np.random.normal(size=(10, 10))"
   ]
  },
  {
   "cell_type": "code",
   "execution_count": 16,
   "id": "eight-movement",
   "metadata": {},
   "outputs": [
    {
     "data": {
      "text/plain": [
       "array([[-0.81549089,  1.17506501, -2.49202754,  1.05247673,  0.84188727,\n",
       "         0.08818733,  1.64207739, -1.39772683, -0.59746793, -0.51586987],\n",
       "       [ 1.26462704, -1.96091559, -0.48996152, -0.90632682, -1.16064786,\n",
       "         0.41375515, -0.07931155, -0.42079259, -0.23742358, -1.44400036],\n",
       "       [ 0.28471693, -0.4205719 , -1.86635297,  0.14091815, -0.07181029,\n",
       "        -0.72124669, -1.42251468,  1.02181152, -0.86488538, -0.28248612],\n",
       "       [ 0.44079579,  1.58599253, -1.16152038,  0.73936724,  1.46421132,\n",
       "         1.74261518,  0.01984553, -0.10656355,  0.35230511,  1.21808691],\n",
       "       [-0.90411052,  0.11388274, -0.77161383, -0.66237868,  0.61054757,\n",
       "        -1.88256528, -0.63505714,  1.07404693, -0.17996979,  0.12371491],\n",
       "       [-1.49800818, -0.02077096, -0.07289499, -0.55272015, -1.77768851,\n",
       "        -0.3002884 , -0.15533206,  0.1695697 ,  2.740592  , -1.1038287 ],\n",
       "       [-1.36915318,  1.80537007,  0.98344648, -0.8945114 , -1.21479131,\n",
       "         0.08879762,  1.42281087, -1.38479736, -0.82880751,  0.17840229],\n",
       "       [-0.05563533,  0.17568593, -2.14552034,  0.76326138,  0.66361794,\n",
       "        -0.9262292 , -1.00791587,  0.4198583 ,  0.93812518, -1.85645781],\n",
       "       [-0.22910568, -0.28794699, -0.09172327, -1.43975267,  0.216491  ,\n",
       "         0.24712388,  0.06195973,  1.24366184,  0.13659531,  0.00329878],\n",
       "       [-0.44726342, -2.77995712, -0.24465895,  1.07001243, -1.67126266,\n",
       "         0.06957608,  0.63898439, -0.07810855, -0.29252562,  1.46222491]])"
      ]
     },
     "execution_count": 16,
     "metadata": {},
     "output_type": "execute_result"
    }
   ],
   "source": [
    "arr"
   ]
  },
  {
   "cell_type": "code",
   "execution_count": 19,
   "id": "dominant-writing",
   "metadata": {},
   "outputs": [
    {
     "data": {
      "text/plain": [
       "(-2.7799571203241267, 2.7405920015561365)"
      ]
     },
     "execution_count": 19,
     "metadata": {},
     "output_type": "execute_result"
    }
   ],
   "source": [
    "np.min(arr), np.max(arr)"
   ]
  },
  {
   "cell_type": "markdown",
   "id": "healthy-sport",
   "metadata": {},
   "source": [
    "**15. Create a 2d array with 1 on the border and 0 inside**"
   ]
  },
  {
   "cell_type": "code",
   "execution_count": 40,
   "id": "durable-primary",
   "metadata": {},
   "outputs": [
    {
     "data": {
      "text/plain": [
       "array([[1., 1., 1., 1., 1.],\n",
       "       [1., 0., 0., 0., 1.],\n",
       "       [1., 0., 0., 0., 1.],\n",
       "       [1., 0., 0., 0., 1.],\n",
       "       [1., 1., 1., 1., 1.]])"
      ]
     },
     "execution_count": 40,
     "metadata": {},
     "output_type": "execute_result"
    }
   ],
   "source": [
    "two_d = np.ones((5, 5))\n",
    "two_d[1:-1,1:-1] = 0\n",
    "\n",
    "two_d"
   ]
  }
 ],
 "metadata": {
  "kernelspec": {
   "display_name": "Python 3",
   "language": "python",
   "name": "python3"
  },
  "language_info": {
   "codemirror_mode": {
    "name": "ipython",
    "version": 3
   },
   "file_extension": ".py",
   "mimetype": "text/x-python",
   "name": "python",
   "nbconvert_exporter": "python",
   "pygments_lexer": "ipython3",
   "version": "3.8.8"
  }
 },
 "nbformat": 4,
 "nbformat_minor": 5
}
