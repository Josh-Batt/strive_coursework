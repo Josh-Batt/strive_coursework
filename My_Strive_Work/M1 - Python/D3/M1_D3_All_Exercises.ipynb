{
 "cells": [
  {
   "cell_type": "markdown",
   "metadata": {
    "cell_id": "00000-619bad62-0169-41a3-823c-fe26ad59670b",
    "deepnote_cell_type": "markdown",
    "tags": []
   },
   "source": [
    "## Exercise 5.7\n"
   ]
  },
  {
   "cell_type": "markdown",
   "metadata": {
    "cell_id": "00001-402683f2-479a-47b6-9337-5607b98c0b0f",
    "deepnote_cell_type": "markdown",
    "tags": []
   },
   "source": [
    "Exercise 5.7 (DONE)"
   ]
  },
  {
   "cell_type": "code",
   "execution_count": 39,
   "metadata": {
    "cell_id": "00001-2ca362f6-d8b4-48fc-80c4-73652ca14320",
    "deepnote_cell_type": "code",
    "deepnote_to_be_reexecuted": false,
    "execution_millis": 9,
    "execution_start": 1616183255255,
    "source_hash": "9b0fbc37",
    "tags": []
   },
   "outputs": [
    {
     "name": "stdout",
     "output_type": "stream",
     "text": [
      "1 = 0 **2 +  1 **2\n",
      "1 = 1 **2 +  0 **2\n",
      "2 = 1 **2 +  1 **2\n",
      "4 = 0 **2 +  2 **2\n",
      "4 = 2 **2 +  0 **2\n",
      "5 = 1 **2 +  2 **2\n",
      "5 = 2 **2 +  1 **2\n",
      "8 = 2 **2 +  2 **2\n",
      "9 = 0 **2 +  3 **2\n",
      "9 = 3 **2 +  0 **2\n"
     ]
    }
   ],
   "source": [
    "#We struggled to understand the logic even with the solution present, but we now understand\n",
    "#All that matters is the final number (z)\n",
    "#you create a clear range that the whole program runs on, so all variables are working in the same range (including z)\n",
    "#the only relevant output is when numbers in the given range squared and added = z\n",
    "#we cleaned up the int to str on line 12 by using commas instead of type conversions and +\n",
    "def sum_squares(a,b):\n",
    "    for z in range(a,b):\n",
    "        for x in range(b):\n",
    "            for y in range(b):\n",
    "                if x**2 + y**2 == z:\n",
    "                    print(z,\"=\",x,\"**2 + \",y,\"**2\")\n",
    "\n",
    "    \"\"\"\n",
    "    2 = 1**2 + 1**2  the numbers 0^2= 0, 1^2=1, 2^2=4, 3^2= 9  \n",
    "    4 = 0**2 + 2**2\n",
    "    4 = 2**2 + 0**2\n",
    "    5 = 1**2 + 2**2\n",
    "    5 = 2**2 + 1**2\n",
    "    8 = 2**2 + 2**2\n",
    "    9 = 0**2 + 3**2\n",
    "    9 = 3**2 + 0**2\n",
    "    \"\"\"\n",
    "    return\n",
    "\n",
    "sum_squares(1,10)\n"
   ]
  },
  {
   "cell_type": "code",
   "execution_count": null,
   "metadata": {
    "cell_id": "00000-701d7d2c-5268-47f0-8c77-2cf222ce1dc0",
    "deepnote_cell_type": "code",
    "deepnote_to_be_reexecuted": false,
    "execution_millis": 23,
    "execution_start": 1616050890478,
    "source_hash": "2687e761",
    "tags": []
   },
   "outputs": [],
   "source": [
    "##Exercise 5.6 (Done)"
   ]
  },
  {
   "cell_type": "code",
   "execution_count": 3,
   "metadata": {
    "cell_id": "00000-2c1cfdf5-2f02-433d-a2f6-ad6b7ade9d0a",
    "deepnote_cell_type": "code",
    "deepnote_to_be_reexecuted": false,
    "execution_millis": 6,
    "execution_start": 1616175736319,
    "source_hash": "4c6294",
    "tags": []
   },
   "outputs": [
    {
     "data": {
      "text/plain": [
       "[2, 3, 5, 7]"
      ]
     },
     "execution_count": 3,
     "metadata": {},
     "output_type": "execute_result"
    }
   ],
   "source": [
    "def prime_numbers(n):\n",
    "    numbers = set(range(n, 1, -1))\n",
    "    primes = []\n",
    "    while numbers:\n",
    "        p = numbers.pop()\n",
    "        primes.append(p)\n",
    "        numbers.difference_update(set(range(p*2, n+1, p)))\n",
    "    return primes\n",
    "\n",
    "prime_numbers(10)"
   ]
  },
  {
   "cell_type": "markdown",
   "metadata": {
    "cell_id": "00000-b71a3a7b-3ec7-44c1-9307-67bb2925fc79",
    "deepnote_cell_type": "markdown",
    "tags": []
   },
   "source": [
    "Exercise 5.2 (DONE)"
   ]
  },
  {
   "cell_type": "code",
   "execution_count": null,
   "metadata": {
    "cell_id": "00000-0d942a0c-b9d9-4dc8-b482-5a424315163f",
    "deepnote_cell_type": "code",
    "deepnote_to_be_reexecuted": false,
    "execution_millis": 46,
    "execution_start": 1616050890563,
    "source_hash": "8a9c4a12",
    "tags": []
   },
   "outputs": [
    {
     "name": "stdout",
     "output_type": "stream",
     "text": [
      "Largest number: 100\n",
      "Largest number: 2\n",
      "List of numbers divisable by 3:\n",
      "6\n",
      "12\n",
      "15\n",
      "99\n"
     ]
    },
    {
     "data": {
      "text/plain": [
       "[2, 4, 6, 12, 15, 99, 100]"
      ]
     },
     "execution_count": 3,
     "metadata": {},
     "output_type": "execute_result"
    }
   ],
   "source": [
    "a = [2, 4, 6, 12, 15, 99, 100]\n",
    "def largest(a):\n",
    "    print(\"Largest number: \" + str(max(a)))\n",
    "    return max(a)\n",
    "\n",
    "def smallest(a):\n",
    "    print(\"Largest number: \" + str(min(a)))\n",
    "    return min(a)\n",
    "\n",
    "def div_by_3(a):\n",
    "    print(\"List of numbers divisable by 3:\")\n",
    "    for numbers in a:\n",
    "        if numbers%3 == 0:\n",
    "            print(numbers)\n",
    "        else:\n",
    "            pass\n",
    "    return (numbers)\n",
    "\n",
    "def main():\n",
    "    largest(a)\n",
    "    smallest(a)\n",
    "    div_by_3(a)\n",
    "    \n",
    "    return (a)\n",
    "\n",
    "main()"
   ]
  },
  {
   "cell_type": "code",
   "execution_count": null,
   "metadata": {
    "cell_id": "00000-378b6be2-8e19-40c0-bd49-ebdbc43707ce",
    "deepnote_cell_type": "code",
    "deepnote_to_be_reexecuted": false,
    "execution_millis": 1,
    "execution_start": 1616050890652,
    "source_hash": "ec978b27",
    "tags": []
   },
   "outputs": [],
   "source": [
    "##Exercise 1.1(done)"
   ]
  },
  {
   "cell_type": "code",
   "execution_count": null,
   "metadata": {
    "cell_id": "00000-51fa8618-3a85-411d-8f80-160efb0de98f",
    "deepnote_cell_type": "code",
    "deepnote_to_be_reexecuted": false,
    "execution_millis": 4,
    "execution_start": 1616050890653,
    "source_hash": "cef069ae",
    "tags": []
   },
   "outputs": [
    {
     "name": "stdout",
     "output_type": "stream",
     "text": [
      "total wholesale costs for 60 copies 945.4499999999999\n"
     ]
    }
   ],
   "source": [
    "Total_books = 60\n",
    "price_per_book = 24.95\n",
    "total_cost = price_per_book * 60\n",
    "\n",
    "discount = total_cost * 0.4\n",
    "\n",
    "Shipping_cost = 3 + (Total_books - 1) * 0.75\n",
    "\n",
    "cost_of_60_books = total_cost-discount+Shipping_cost\n",
    "print(\"total wholesale costs for 60 copies\", cost_of_60_books)"
   ]
  },
  {
   "cell_type": "code",
   "execution_count": null,
   "metadata": {
    "cell_id": "00001-fe4e3660-7199-46fd-8f8a-ec7a580a50fb",
    "deepnote_cell_type": "code",
    "deepnote_to_be_reexecuted": false,
    "execution_millis": 40,
    "execution_start": 1616050890654,
    "source_hash": "8eb1be9",
    "tags": []
   },
   "outputs": [],
   "source": [
    "## Exercise 1.3 (done)"
   ]
  },
  {
   "cell_type": "code",
   "execution_count": null,
   "metadata": {
    "cell_id": "00003-9d3b9486-84d0-4d5c-a1ef-5074562f49cc",
    "deepnote_cell_type": "code",
    "deepnote_to_be_reexecuted": false,
    "execution_millis": 7,
    "execution_start": 1616050890694,
    "source_hash": "d1a0db00",
    "tags": []
   },
   "outputs": [
    {
     "name": "stdout",
     "output_type": "stream",
     "text": [
      "The alarm goes off around 21\n"
     ]
    }
   ],
   "source": [
    "current_time = 14.00\n",
    "alarm_after = 535\n",
    "alarm_time = (14+535) % 24\n",
    "print(\"The alarm goes off around\", alarm_time)\n"
   ]
  },
  {
   "cell_type": "code",
   "execution_count": null,
   "metadata": {
    "cell_id": "00004-4cf973fc-8bff-4c20-b8a4-29a93d5b18f2",
    "deepnote_cell_type": "code",
    "deepnote_to_be_reexecuted": false,
    "execution_millis": 6,
    "execution_start": 1616050890695,
    "source_hash": "528f5826",
    "tags": []
   },
   "outputs": [],
   "source": [
    "##Exercise 5.8 (DONE)"
   ]
  },
  {
   "cell_type": "code",
   "execution_count": null,
   "metadata": {
    "cell_id": "00005-afa32f66-d91c-456c-80c5-60e42da4d4fd",
    "deepnote_cell_type": "code",
    "deepnote_to_be_reexecuted": false,
    "execution_millis": 27,
    "execution_start": 1616050890703,
    "source_hash": "15136e7b",
    "tags": []
   },
   "outputs": [
    {
     "data": {
      "text/plain": [
       "(2, 1, 7, 8)"
      ]
     },
     "execution_count": 9,
     "metadata": {},
     "output_type": "execute_result"
    }
   ],
   "source": [
    "def nested_nest():\n",
    "    for a in range(1,10):\n",
    "        for b in range(1,10):\n",
    "            for c in range(1,10):\n",
    "                for d in range(1,10):\n",
    "                    if 4*((a*1000) + (b*100) + (c*10) + d) == (d*1000) + (c*100) + (b*10) + a:\n",
    "                        return a, b, c, d\n",
    "nested_nest()"
   ]
  },
  {
   "cell_type": "markdown",
   "metadata": {
    "cell_id": "00001-4383665f-a4c6-4ccc-a4e7-2bc92e48a7c5",
    "deepnote_cell_type": "markdown",
    "tags": []
   },
   "source": [
    "Exercise 1.2 (DONE)"
   ]
  },
  {
   "cell_type": "code",
   "execution_count": null,
   "metadata": {
    "cell_id": "00002-f694b7dd-1a03-40a8-a262-8c105613a60b",
    "deepnote_cell_type": "code",
    "deepnote_to_be_reexecuted": false,
    "execution_millis": 2,
    "execution_start": 1616050890747,
    "source_hash": "c5793811",
    "tags": []
   },
   "outputs": [],
   "source": [
    "#2/0"
   ]
  },
  {
   "cell_type": "markdown",
   "metadata": {
    "cell_id": "00003-0cafca3a-e4c5-43be-be16-576a9b574d2e",
    "deepnote_cell_type": "markdown",
    "tags": []
   },
   "source": [
    "Exercise 5.1 (DONE)"
   ]
  },
  {
   "cell_type": "code",
   "execution_count": null,
   "metadata": {
    "cell_id": "00004-f704e4de-c6b9-4479-abb4-9202b81ef7d1",
    "deepnote_cell_type": "code",
    "deepnote_to_be_reexecuted": false,
    "execution_millis": 0,
    "execution_start": 1616050890808,
    "source_hash": "252aa1e8",
    "tags": []
   },
   "outputs": [
    {
     "name": "stdout",
     "output_type": "stream",
     "text": [
      "20\n",
      "19\n",
      "18\n",
      "17\n",
      "16\n",
      "15\n",
      "14\n",
      "13\n",
      "12\n",
      "11\n",
      "10\n",
      "9\n",
      "8\n",
      "7\n",
      "6\n",
      "5\n",
      "4\n",
      "3\n",
      "2\n",
      "1\n",
      "Blast off!\n"
     ]
    }
   ],
   "source": [
    "def countdown():\n",
    "\n",
    "    number = 20\n",
    "\n",
    "    while number != 0:\n",
    "        print(number)\n",
    "        number -= 1\n",
    "\n",
    "    if number == 0:\n",
    "        print(\"Blast off!\")\n",
    "    return\n",
    "countdown()"
   ]
  },
  {
   "cell_type": "markdown",
   "metadata": {
    "cell_id": "00005-3b3d3c3e-40dd-4492-a980-57ac9b2b865e",
    "deepnote_cell_type": "markdown",
    "tags": []
   },
   "source": [
    "Exercise 5.4 (DONE)"
   ]
  },
  {
   "cell_type": "code",
   "execution_count": null,
   "metadata": {
    "cell_id": "00006-8a76a102-3e91-452e-9bc8-89c5c3bf0d2a",
    "deepnote_cell_type": "code",
    "deepnote_to_be_reexecuted": false,
    "execution_millis": 1,
    "execution_start": 1616050890809,
    "source_hash": "bb87c536",
    "tags": []
   },
   "outputs": [
    {
     "name": "stdout",
     "output_type": "stream",
     "text": [
      "10 bottles of beer on the wall, 10 bottles of beer. Take one down, pass it around, 9 bottles of beer in the wall\n",
      "9 bottles of beer on the wall, 9 bottles of beer. Take one down, pass it around, 8 bottles of beer in the wall\n",
      "8 bottles of beer on the wall, 8 bottles of beer. Take one down, pass it around, 7 bottles of beer in the wall\n",
      "7 bottles of beer on the wall, 7 bottles of beer. Take one down, pass it around, 6 bottles of beer in the wall\n",
      "6 bottles of beer on the wall, 6 bottles of beer. Take one down, pass it around, 5 bottles of beer in the wall\n",
      "5 bottles of beer on the wall, 5 bottles of beer. Take one down, pass it around, 4 bottles of beer in the wall\n",
      "4 bottles of beer on the wall, 4 bottles of beer. Take one down, pass it around, 3 bottles of beer in the wall\n",
      "3 bottles of beer on the wall, 3 bottles of beer. Take one down, pass it around, 2 bottles of beer in the wall\n",
      "2 bottles of beer on the wall, 2 bottles of beer. Take one down, pass it around, 1 bottle of beer in the wall\n",
      "1 bottle of beer on the wall, 1 bottle of beer. Take one down, pass it around, 0 bottles of beer in the wall\n"
     ]
    }
   ],
   "source": [
    "def beersong():\n",
    "    number = 10\n",
    "\n",
    "    while number != 2:\n",
    "        print(str(number) + \" bottles of beer on the wall, \" + str(number) + \" bottles of beer. Take one down, pass it around, \", end='')\n",
    "        number -= 1\n",
    "        print(str(number) + \" bottles of beer in the wall\")\n",
    "\n",
    "    if number == 2:\n",
    "        print(str(number) + \" bottles of beer on the wall, \" + str(number) + \" bottles of beer. Take one down, pass it around, \", end='')\n",
    "        number -= 1\n",
    "        print(str(number) + \" bottle of beer in the wall\")\n",
    "\n",
    "    if number == 1:\n",
    "        print(str(number) + \" bottle of beer on the wall, \" + str(number) + \" bottle of beer. Take one down, pass it around, \", end='')\n",
    "        number -= 1\n",
    "        print(str(number) + \" bottles of beer in the wall\")\n",
    "    return\n",
    "\n",
    "beersong()"
   ]
  },
  {
   "cell_type": "markdown",
   "metadata": {
    "cell_id": "00010-d0345562-6406-4495-b5d2-731384851d28",
    "deepnote_cell_type": "markdown",
    "tags": []
   },
   "source": [
    "Exercise 5.5 (DONE)"
   ]
  },
  {
   "cell_type": "code",
   "execution_count": 11,
   "metadata": {
    "cell_id": "00011-0ef032e7-04a8-4f6a-a627-0d9471b87bc8",
    "deepnote_cell_type": "code",
    "deepnote_to_be_reexecuted": false,
    "execution_millis": 32,
    "execution_start": 1616176817490,
    "output_cleared": false,
    "source_hash": "6f64a5fb",
    "tags": []
   },
   "outputs": [
    {
     "name": "stdout",
     "output_type": "stream",
     "text": [
      "0\n",
      "1\n",
      "1\n",
      "2\n",
      "3\n",
      "5\n",
      "8\n",
      "13\n",
      "21\n"
     ]
    }
   ],
   "source": [
    "#Needs to be capped at 22\n",
    "def fibonacci():\n",
    "\n",
    "    count = 0\n",
    "\n",
    "    num_a = 0\n",
    "    num_b = 1\n",
    "    num_c = 0\n",
    "\n",
    "    while count <= 8:\n",
    "        print(num_a)\n",
    "        num_c = num_a + num_b\n",
    "        num_a = num_b\n",
    "        num_b = num_c\n",
    "        count += 1\n",
    "    return\n",
    "fibonacci()"
   ]
  },
  {
   "cell_type": "markdown",
   "metadata": {
    "cell_id": "00019-ac2f8299-6830-48fc-bd2a-7317b8f7dbf4",
    "deepnote_cell_type": "markdown",
    "tags": []
   },
   "source": [
    "Exercise 4.1 (DONE)"
   ]
  },
  {
   "cell_type": "code",
   "execution_count": 34,
   "metadata": {
    "cell_id": "00019-21a69406-3ef8-446e-94d3-b868e155c4d2",
    "deepnote_cell_type": "code",
    "deepnote_to_be_reexecuted": false,
    "execution_millis": 5,
    "execution_start": 1616179467967,
    "source_hash": "9de0fb86",
    "tags": []
   },
   "outputs": [
    {
     "name": "stdout",
     "output_type": "stream",
     "text": [
      "h\n",
      "e\n",
      "l\n",
      "l\n",
      "o\n",
      "dict_values([1, 1, 2, 1])\n"
     ]
    }
   ],
   "source": [
    "def alphabet_check(word):\n",
    "\n",
    "    alphabet = {}\n",
    "    clean_word = word.lower()\n",
    "\n",
    "    for letter in clean_word:\n",
    "        print(letter)\n",
    "        if letter in alphabet.keys():\n",
    "            alphabet[letter] += 1\n",
    "            if alphabet[letter] == 1:\n",
    "                pass\n",
    "        else:\n",
    "            alphabet[letter] = 1\n",
    "\n",
    "    print(alphabet.values())\n",
    "    return\n",
    "\n",
    "alphabet_check(\"Hello\")"
   ]
  },
  {
   "cell_type": "markdown",
   "metadata": {
    "created_in_deepnote_cell": true,
    "deepnote_cell_type": "markdown",
    "tags": []
   },
   "source": [
    "<a style='text-decoration:none;line-height:16px;display:flex;color:#5B5B62;padding:10px;justify-content:end;' href='https://deepnote.com?utm_source=created-in-deepnote-cell&projectId=5022c4e1-ba88-4dac-8e40-e61be9e414f8' target=\"_blank\">\n",
    "<img style='display:inline;max-height:16px;margin:0px;margin-right:7.5px;' src='data:image/svg+xml;base64,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' > </img>\n",
    "Created in <span style='font-weight:600;margin-left:4px;'>Deepnote</span></a>"
   ]
  }
 ],
 "metadata": {
  "deepnote": {},
  "deepnote_execution_queue": [],
  "deepnote_notebook_id": "5718605d-2aa8-4f14-856f-1ce688736248",
  "kernelspec": {
   "display_name": "Python 3",
   "language": "python",
   "name": "python3"
  },
  "language_info": {
   "codemirror_mode": {
    "name": "ipython",
    "version": 3
   },
   "file_extension": ".py",
   "mimetype": "text/x-python",
   "name": "python",
   "nbconvert_exporter": "python",
   "pygments_lexer": "ipython3",
   "version": "3.8.8"
  }
 },
 "nbformat": 4,
 "nbformat_minor": 2
}
