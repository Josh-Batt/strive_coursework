{
 "cells": [
  {
   "cell_type": "code",
   "execution_count": 1,
   "id": "inclusive-alfred",
   "metadata": {},
   "outputs": [
    {
     "name": "stdout",
     "output_type": "stream",
     "text": [
      "Largest number: 100\n",
      "Largest number: 2\n",
      "List of numbers divisable by 3:\n",
      "6\n",
      "12\n",
      "15\n",
      "99\n"
     ]
    },
    {
     "data": {
      "text/plain": [
       "[2, 4, 6, 12, 15, 99, 100]"
      ]
     },
     "execution_count": 1,
     "metadata": {},
     "output_type": "execute_result"
    }
   ],
   "source": [
    "a = [2, 4, 6, 12, 15, 99, 100]\n",
    "def largest(a):\n",
    "    print(\"Largest number: \" + str(max(a)))\n",
    "    return max(a)\n",
    "\n",
    "def smallest(a):\n",
    "    print(\"Largest number: \" + str(min(a)))\n",
    "    return min(a)\n",
    "\n",
    "def div_by_3(a):\n",
    "    print(\"List of numbers divisable by 3:\")\n",
    "    for numbers in a:\n",
    "        if numbers%3 == 0:\n",
    "            print(numbers)\n",
    "        else:\n",
    "            pass\n",
    "    return (numbers)\n",
    "\n",
    "def main():\n",
    "    largest(a)\n",
    "    smallest(a)\n",
    "    div_by_3(a)\n",
    "    \n",
    "    return (a)\n",
    "\n",
    "main()"
   ]
  },
  {
   "cell_type": "code",
   "execution_count": null,
   "id": "protected-enterprise",
   "metadata": {},
   "outputs": [],
   "source": []
  }
 ],
 "metadata": {
  "kernelspec": {
   "display_name": "Python 3",
   "language": "python",
   "name": "python3"
  },
  "language_info": {
   "codemirror_mode": {
    "name": "ipython",
    "version": 3
   },
   "file_extension": ".py",
   "mimetype": "text/x-python",
   "name": "python",
   "nbconvert_exporter": "python",
   "pygments_lexer": "ipython3",
   "version": "3.8.8"
  }
 },
 "nbformat": 4,
 "nbformat_minor": 5
}
