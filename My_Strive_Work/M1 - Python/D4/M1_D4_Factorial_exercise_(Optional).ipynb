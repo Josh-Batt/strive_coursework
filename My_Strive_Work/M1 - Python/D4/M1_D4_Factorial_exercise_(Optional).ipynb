{
 "cells": [
  {
   "cell_type": "code",
   "execution_count": 11,
   "id": "sacred-journey",
   "metadata": {},
   "outputs": [
    {
     "name": "stdout",
     "output_type": "stream",
     "text": [
      "[45, 3, 0, 0, 1]\n"
     ]
    }
   ],
   "source": [
    "def change_convert():\n",
    "    \n",
    "    change_lvl = ['dollars', 'quarters', 'dimes', 'nickles', 'pennies']\n",
    "    \n",
    "    cents = 4576\n",
    "    \n",
    "    change_lvl[0] = cents // 100\n",
    "    cents = cents % 100\n",
    "    \n",
    "    change_lvl[1] = cents // 25\n",
    "    cents = cents % 25\n",
    "    \n",
    "    change_lvl[2] = cents // 10\n",
    "    cents = cents % 10\n",
    "    \n",
    "    change_lvl[3] = cents // 5\n",
    "    cents = cents % 5\n",
    "    \n",
    "    change_lvl[4] = cents // 1\n",
    "    \n",
    "    print(change_lvl)\n",
    "    \n",
    "    return\n",
    "change_convert()"
   ]
  }
 ],
 "metadata": {
  "kernelspec": {
   "display_name": "Python 3",
   "language": "python",
   "name": "python3"
  },
  "language_info": {
   "codemirror_mode": {
    "name": "ipython",
    "version": 3
   },
   "file_extension": ".py",
   "mimetype": "text/x-python",
   "name": "python",
   "nbconvert_exporter": "python",
   "pygments_lexer": "ipython3",
   "version": "3.8.8"
  }
 },
 "nbformat": 4,
 "nbformat_minor": 5
}
