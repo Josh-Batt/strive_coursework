{
 "cells": [
  {
   "cell_type": "code",
   "execution_count": 1,
   "id": "tamil-knight",
   "metadata": {
    "ExecuteTime": {
     "end_time": "2021-05-26T12:27:39.273838Z",
     "start_time": "2021-05-26T12:27:38.729599Z"
    }
   },
   "outputs": [],
   "source": [
    "import matplotlib.pyplot as plt\n",
    "import numpy as np\n",
    "import pandas as pd\n"
   ]
  },
  {
   "cell_type": "code",
   "execution_count": 2,
   "id": "social-hygiene",
   "metadata": {
    "ExecuteTime": {
     "end_time": "2021-05-26T12:27:59.434011Z",
     "start_time": "2021-05-26T12:27:59.412650Z"
    }
   },
   "outputs": [],
   "source": [
    "data = pd.read_csv(\"data.csv\", header=None)"
   ]
  },
  {
   "cell_type": "code",
   "execution_count": 3,
   "id": "hawaiian-response",
   "metadata": {
    "ExecuteTime": {
     "end_time": "2021-05-26T12:28:01.281235Z",
     "start_time": "2021-05-26T12:28:01.255495Z"
    }
   },
   "outputs": [
    {
     "data": {
      "text/html": [
       "<div>\n",
       "<style scoped>\n",
       "    .dataframe tbody tr th:only-of-type {\n",
       "        vertical-align: middle;\n",
       "    }\n",
       "\n",
       "    .dataframe tbody tr th {\n",
       "        vertical-align: top;\n",
       "    }\n",
       "\n",
       "    .dataframe thead th {\n",
       "        text-align: right;\n",
       "    }\n",
       "</style>\n",
       "<table border=\"1\" class=\"dataframe\">\n",
       "  <thead>\n",
       "    <tr style=\"text-align: right;\">\n",
       "      <th></th>\n",
       "      <th>0</th>\n",
       "      <th>1</th>\n",
       "      <th>2</th>\n",
       "    </tr>\n",
       "  </thead>\n",
       "  <tbody>\n",
       "    <tr>\n",
       "      <th>0</th>\n",
       "      <td>0.78051</td>\n",
       "      <td>-0.063669</td>\n",
       "      <td>1</td>\n",
       "    </tr>\n",
       "    <tr>\n",
       "      <th>1</th>\n",
       "      <td>0.28774</td>\n",
       "      <td>0.291390</td>\n",
       "      <td>1</td>\n",
       "    </tr>\n",
       "    <tr>\n",
       "      <th>2</th>\n",
       "      <td>0.40714</td>\n",
       "      <td>0.178780</td>\n",
       "      <td>1</td>\n",
       "    </tr>\n",
       "    <tr>\n",
       "      <th>3</th>\n",
       "      <td>0.29230</td>\n",
       "      <td>0.421700</td>\n",
       "      <td>1</td>\n",
       "    </tr>\n",
       "    <tr>\n",
       "      <th>4</th>\n",
       "      <td>0.50922</td>\n",
       "      <td>0.352560</td>\n",
       "      <td>1</td>\n",
       "    </tr>\n",
       "    <tr>\n",
       "      <th>...</th>\n",
       "      <td>...</td>\n",
       "      <td>...</td>\n",
       "      <td>...</td>\n",
       "    </tr>\n",
       "    <tr>\n",
       "      <th>95</th>\n",
       "      <td>0.77029</td>\n",
       "      <td>0.701400</td>\n",
       "      <td>0</td>\n",
       "    </tr>\n",
       "    <tr>\n",
       "      <th>96</th>\n",
       "      <td>0.73156</td>\n",
       "      <td>0.717820</td>\n",
       "      <td>0</td>\n",
       "    </tr>\n",
       "    <tr>\n",
       "      <th>97</th>\n",
       "      <td>0.44556</td>\n",
       "      <td>0.579910</td>\n",
       "      <td>0</td>\n",
       "    </tr>\n",
       "    <tr>\n",
       "      <th>98</th>\n",
       "      <td>0.85275</td>\n",
       "      <td>0.859870</td>\n",
       "      <td>0</td>\n",
       "    </tr>\n",
       "    <tr>\n",
       "      <th>99</th>\n",
       "      <td>0.51912</td>\n",
       "      <td>0.623590</td>\n",
       "      <td>0</td>\n",
       "    </tr>\n",
       "  </tbody>\n",
       "</table>\n",
       "<p>100 rows × 3 columns</p>\n",
       "</div>"
      ],
      "text/plain": [
       "          0         1  2\n",
       "0   0.78051 -0.063669  1\n",
       "1   0.28774  0.291390  1\n",
       "2   0.40714  0.178780  1\n",
       "3   0.29230  0.421700  1\n",
       "4   0.50922  0.352560  1\n",
       "..      ...       ... ..\n",
       "95  0.77029  0.701400  0\n",
       "96  0.73156  0.717820  0\n",
       "97  0.44556  0.579910  0\n",
       "98  0.85275  0.859870  0\n",
       "99  0.51912  0.623590  0\n",
       "\n",
       "[100 rows x 3 columns]"
      ]
     },
     "execution_count": 3,
     "metadata": {},
     "output_type": "execute_result"
    }
   ],
   "source": [
    "data"
   ]
  },
  {
   "cell_type": "code",
   "execution_count": 4,
   "id": "desirable-hartford",
   "metadata": {
    "ExecuteTime": {
     "end_time": "2021-05-26T12:28:29.194826Z",
     "start_time": "2021-05-26T12:28:29.182937Z"
    }
   },
   "outputs": [],
   "source": [
    "X = np.array(data[[0,1]])"
   ]
  },
  {
   "cell_type": "code",
   "execution_count": 5,
   "id": "improving-genome",
   "metadata": {
    "ExecuteTime": {
     "end_time": "2021-05-26T12:28:37.038894Z",
     "start_time": "2021-05-26T12:28:37.034486Z"
    }
   },
   "outputs": [],
   "source": [
    "y = np.array(data[2])"
   ]
  },
  {
   "cell_type": "code",
   "execution_count": 6,
   "id": "continued-reaction",
   "metadata": {
    "ExecuteTime": {
     "end_time": "2021-05-26T12:29:25.233059Z",
     "start_time": "2021-05-26T12:29:25.091342Z"
    }
   },
   "outputs": [
    {
     "data": {
      "text/plain": [
       "<matplotlib.collections.PathCollection at 0x7f998a556a60>"
      ]
     },
     "execution_count": 6,
     "metadata": {},
     "output_type": "execute_result"
    },
    {
     "data": {
      "image/png": "[encoded data removed]",
      "text/plain": [
       "<Figure size 432x288 with 1 Axes>"
      ]
     },
     "metadata": {
      "needs_background": "light"
     },
     "output_type": "display_data"
    }
   ],
   "source": [
    "plt.scatter(X[:,0], X[:,1], c=y)"
   ]
  },
  {
   "cell_type": "code",
   "execution_count": 7,
   "id": "signal-target",
   "metadata": {
    "ExecuteTime": {
     "end_time": "2021-05-26T12:29:57.439340Z",
     "start_time": "2021-05-26T12:29:57.433683Z"
    }
   },
   "outputs": [],
   "source": [
    "def sigmoid(x):\n",
    "    return 1/(1+np.exp(-x))"
   ]
  },
  {
   "cell_type": "code",
   "execution_count": null,
   "id": "internal-permit",
   "metadata": {},
   "outputs": [],
   "source": [
    "Wx + b"
   ]
  },
  {
   "cell_type": "code",
   "execution_count": 22,
   "id": "whole-breathing",
   "metadata": {
    "ExecuteTime": {
     "end_time": "2021-05-26T12:47:33.831293Z",
     "start_time": "2021-05-26T12:47:33.826935Z"
    }
   },
   "outputs": [],
   "source": [
    "# Probability and score\n",
    "def output_formula(features, weights, bias):\n",
    "    return sigmoid(np.dot(features,weights)+bias)"
   ]
  },
  {
   "cell_type": "code",
   "execution_count": 23,
   "id": "established-regression",
   "metadata": {
    "ExecuteTime": {
     "end_time": "2021-05-26T12:47:35.083096Z",
     "start_time": "2021-05-26T12:47:35.077873Z"
    }
   },
   "outputs": [],
   "source": [
    "# Cross entropy formula\n",
    "def error_formula(y, output):\n",
    "    return -y*np.log(output) - (1-y)*np.log(1-output)"
   ]
  },
  {
   "cell_type": "markdown",
   "id": "north-macedonia",
   "metadata": {},
   "source": [
    "Loss Function: is the general name for the error functions.\n",
    "In this binary classification problem, and many others, we use Cross Entropy as Loss function. \n",
    "\n",
    "In general, a loss is something that you want to minimize."
   ]
  },
  {
   "cell_type": "code",
   "execution_count": 39,
   "id": "ongoing-aruba",
   "metadata": {
    "ExecuteTime": {
     "end_time": "2021-05-26T12:56:24.477227Z",
     "start_time": "2021-05-26T12:56:24.472084Z"
    }
   },
   "outputs": [],
   "source": [
    "def update_weights(x, y, weights, bias, learning_rate):\n",
    "    output = output_formula(x, weights, bias)\n",
    "    d_error = y - output\n",
    "    weights = weights + learning_rate*d_error*x\n",
    "    bias = bias + learning_rate*d_error\n",
    "    return weights, bias"
   ]
  },
  {
   "cell_type": "code",
   "execution_count": 25,
   "id": "tired-sociology",
   "metadata": {
    "ExecuteTime": {
     "end_time": "2021-05-26T12:47:38.686007Z",
     "start_time": "2021-05-26T12:47:38.680320Z"
    }
   },
   "outputs": [
    {
     "data": {
      "text/plain": [
       "(100, 2)"
      ]
     },
     "execution_count": 25,
     "metadata": {},
     "output_type": "execute_result"
    }
   ],
   "source": [
    "X.shape\n"
   ]
  },
  {
   "cell_type": "code",
   "execution_count": 26,
   "id": "collective-somerset",
   "metadata": {
    "ExecuteTime": {
     "end_time": "2021-05-26T12:47:38.828909Z",
     "start_time": "2021-05-26T12:47:38.823420Z"
    }
   },
   "outputs": [],
   "source": [
    "weights = np.random.normal(size=X.shape[1])\n",
    "bias = 0\n",
    "out = output_formula(X, weights, bias)\n",
    "loss = error_formula(y, out)"
   ]
  },
  {
   "cell_type": "code",
   "execution_count": 31,
   "id": "toxic-stereo",
   "metadata": {
    "ExecuteTime": {
     "end_time": "2021-05-26T12:53:25.918805Z",
     "start_time": "2021-05-26T12:53:25.910656Z"
    }
   },
   "outputs": [
    {
     "data": {
      "text/plain": [
       "0.01"
      ]
     },
     "execution_count": 31,
     "metadata": {},
     "output_type": "execute_result"
    }
   ],
   "source": [
    "np.mean(out > 0.5)"
   ]
  },
  {
   "cell_type": "code",
   "execution_count": 47,
   "id": "primary-sheffield",
   "metadata": {
    "ExecuteTime": {
     "end_time": "2021-05-26T13:04:01.659693Z",
     "start_time": "2021-05-26T13:04:01.650617Z"
    },
    "scrolled": true
   },
   "outputs": [
    {
     "data": {
      "text/plain": [
       "array([0.37918084, 0.45945094, 0.43923947, 0.46071537, 0.42613862,\n",
       "       0.45821286, 0.4620115 , 0.43617919, 0.45410858, 0.46712043,\n",
       "       0.50075881, 0.48566914, 0.46637264, 0.43461168, 0.43741575,\n",
       "       0.43725538, 0.4261614 , 0.45549344, 0.44479132, 0.45448982,\n",
       "       0.44256764, 0.45915925, 0.42962064, 0.48910739, 0.39762983,\n",
       "       0.46404493, 0.48509158, 0.47850909, 0.44892384, 0.42083981,\n",
       "       0.47508781, 0.43775526, 0.47506756, 0.43318803, 0.46541621,\n",
       "       0.47036294, 0.40323805, 0.44747099, 0.42130672, 0.42849747,\n",
       "       0.44798815, 0.42488823, 0.45161353, 0.44350358, 0.48495428,\n",
       "       0.47941833, 0.43565506, 0.46338297, 0.460034  , 0.44284054,\n",
       "       0.42904242, 0.43995287, 0.3790771 , 0.41923169, 0.40174082,\n",
       "       0.35896809, 0.39939817, 0.40740803, 0.38743444, 0.40108269,\n",
       "       0.43134075, 0.38944369, 0.40410218, 0.40805274, 0.3862897 ,\n",
       "       0.40201635, 0.41710682, 0.43166275, 0.3856523 , 0.38862533,\n",
       "       0.40488318, 0.40217736, 0.41095515, 0.40786711, 0.40853807,\n",
       "       0.37319092, 0.37821102, 0.41579248, 0.38669496, 0.41929106,\n",
       "       0.42285084, 0.40867883, 0.40145483, 0.41767242, 0.43563354,\n",
       "       0.3880316 , 0.41369172, 0.40760002, 0.39146579, 0.40562949,\n",
       "       0.4090157 , 0.39657911, 0.39161734, 0.42149937, 0.39820535,\n",
       "       0.39175088, 0.3977893 , 0.43933508, 0.38178696, 0.4286658 ])"
      ]
     },
     "execution_count": 47,
     "metadata": {},
     "output_type": "execute_result"
    }
   ],
   "source": [
    "out"
   ]
  },
  {
   "cell_type": "code",
   "execution_count": 35,
   "id": "cooperative-bowling",
   "metadata": {
    "ExecuteTime": {
     "end_time": "2021-05-26T12:54:53.430746Z",
     "start_time": "2021-05-26T12:54:53.424221Z"
    }
   },
   "outputs": [
    {
     "data": {
      "text/plain": [
       "0.51"
      ]
     },
     "execution_count": 35,
     "metadata": {},
     "output_type": "execute_result"
    }
   ],
   "source": [
    "np.mean((out > 0.5) == y)"
   ]
  },
  {
   "cell_type": "code",
   "execution_count": 45,
   "id": "naked-praise",
   "metadata": {
    "ExecuteTime": {
     "end_time": "2021-05-26T13:02:08.940306Z",
     "start_time": "2021-05-26T13:02:07.303047Z"
    }
   },
   "outputs": [],
   "source": [
    "from sklearn.model_selection import train_test_split\n",
    "\n",
    "X_train, X_test, y_train, y_test = train_test_split(X, y, test_size=0.3, random_state=42)"
   ]
  },
  {
   "cell_type": "code",
   "execution_count": 60,
   "id": "center-transsexual",
   "metadata": {
    "ExecuteTime": {
     "end_time": "2021-05-26T13:07:53.790248Z",
     "start_time": "2021-05-26T13:07:53.776343Z"
    }
   },
   "outputs": [],
   "source": [
    "import time\n",
    "np.random.seed(42)\n",
    "\n",
    "epochs = 1000\n",
    "learning_rate = 0.01\n",
    "\n",
    "def train(train_features, train_targets, test_features, test_targets, epochs, learning_rate):\n",
    "    weights = np.random.normal(size=train_features.shape[1])\n",
    "    bias = 0\n",
    "    errors = []\n",
    "    test_errors = []\n",
    "    for epoch in range(epochs):\n",
    "        for x, y in zip(train_features, train_targets):\n",
    "            output = output_formula(x, weights, bias)\n",
    "            weights, bias = update_weights(x, y, weights, bias, learning_rate)\n",
    "        # at the end of one epoch\n",
    "        out = output_formula(train_features, weights, bias)\n",
    "        loss = np.mean(error_formula(train_targets, out))\n",
    "        errors.append(loss)\n",
    "        out_test = output_formula(test_features, weights, bias)\n",
    "        loss_test = np.mean(error_formula(test_targets, out_test))\n",
    "        test_errors.append(loss_test)\n",
    "        \n",
    "        if epoch % 10 == 0:\n",
    "            print(\"Epoch:\", epoch)\n",
    "            print(\"Train loss\", loss)\n",
    "            predictions = out > 0.5\n",
    "            accuracy = np.mean(predictions == train_targets)\n",
    "            print(\"Train Accuracy\", accuracy)\n",
    "            print(\"Test loss\", loss_test)\n",
    "            predictions = out_test > 0.5\n",
    "            accuracy = np.mean(predictions == test_targets)\n",
    "            print(\"Test Accuracy\", accuracy)\n",
    "        plt.plot(errors)\n",
    "        plt.plot(test_errors)\n",
    "        \n",
    "        \n",
    "        \n",
    "        \n",
    "        "
   ]
  },
  {
   "cell_type": "code",
   "execution_count": 61,
   "id": "adult-little",
   "metadata": {
    "ExecuteTime": {
     "end_time": "2021-05-26T13:07:57.101600Z",
     "start_time": "2021-05-26T13:07:54.426838Z"
    }
   },
   "outputs": [
    {
     "name": "stdout",
     "output_type": "stream",
     "text": [
      "Epoch: 0\n",
      "Train loss 0.7117483654726598\n",
      "Train Accuracy 0.3\n",
      "Test loss 0.7023157933365239\n",
      "Test Accuracy 0.3333333333333333\n",
      "Epoch: 10\n",
      "Train loss 0.6445552413143899\n",
      "Train Accuracy 0.5428571428571428\n",
      "Test loss 0.6430783262870947\n",
      "Test Accuracy 0.5333333333333333\n",
      "Epoch: 20\n",
      "Train loss 0.6026193327619113\n",
      "Train Accuracy 0.6571428571428571\n",
      "Test loss 0.5857879311488109\n",
      "Test Accuracy 0.7\n",
      "Epoch: 30\n",
      "Train loss 0.5661689745803781\n",
      "Train Accuracy 0.7285714285714285\n",
      "Test loss 0.5355808924857777\n",
      "Test Accuracy 0.7666666666666667\n",
      "Epoch: 40\n",
      "Train loss 0.5344890307069268\n",
      "Train Accuracy 0.8\n",
      "Test loss 0.4926844780546055\n",
      "Test Accuracy 0.8333333333333334\n",
      "Epoch: 50\n",
      "Train loss 0.5068603906363077\n",
      "Train Accuracy 0.8571428571428571\n",
      "Test loss 0.455948311998732\n",
      "Test Accuracy 0.9\n",
      "Epoch: 60\n",
      "Train loss 0.48265857397336703\n",
      "Train Accuracy 0.9\n",
      "Test loss 0.4243171330894691\n",
      "Test Accuracy 0.9333333333333333\n",
      "Epoch: 70\n",
      "Train loss 0.46135690060216106\n",
      "Train Accuracy 0.9285714285714286\n",
      "Test loss 0.39691477758871613\n",
      "Test Accuracy 0.9333333333333333\n",
      "Epoch: 80\n",
      "Train loss 0.442515196531258\n",
      "Train Accuracy 0.9285714285714286\n",
      "Test loss 0.37302541573640485\n",
      "Test Accuracy 0.9333333333333333\n",
      "Epoch: 90\n",
      "Train loss 0.4257670695557669\n",
      "Train Accuracy 0.9142857142857143\n",
      "Test loss 0.35206717105932206\n",
      "Test Accuracy 0.9333333333333333\n",
      "Epoch: 100\n",
      "Train loss 0.41080789353249025\n",
      "Train Accuracy 0.9142857142857143\n",
      "Test loss 0.3335674732940522\n",
      "Test Accuracy 0.9333333333333333\n",
      "Epoch: 110\n",
      "Train loss 0.3973841839837826\n",
      "Train Accuracy 0.9142857142857143\n",
      "Test loss 0.31714187451164033\n",
      "Test Accuracy 0.9666666666666667\n",
      "Epoch: 120\n",
      "Train loss 0.3852845436150023\n",
      "Train Accuracy 0.9142857142857143\n",
      "Test loss 0.3024765539488301\n",
      "Test Accuracy 0.9666666666666667\n",
      "Epoch: 130\n",
      "Train loss 0.3743321160539242\n",
      "Train Accuracy 0.9142857142857143\n",
      "Test loss 0.2893141921096142\n",
      "Test Accuracy 0.9666666666666667\n",
      "Epoch: 140\n",
      "Train loss 0.3643783811983866\n",
      "Train Accuracy 0.9142857142857143\n",
      "Test loss 0.277442709226858\n",
      "Test Accuracy 0.9666666666666667\n",
      "Epoch: 150\n",
      "Train loss 0.35529809363578274\n",
      "Train Accuracy 0.9142857142857143\n",
      "Test loss 0.2666863450472745\n",
      "Test Accuracy 0.9666666666666667\n",
      "Epoch: 160\n",
      "Train loss 0.34698517026085535\n",
      "Train Accuracy 0.9142857142857143\n",
      "Test loss 0.2568986099089495\n",
      "Test Accuracy 0.9666666666666667\n",
      "Epoch: 170\n",
      "Train loss 0.3393493538952913\n",
      "Train Accuracy 0.9142857142857143\n",
      "Test loss 0.2479567126411146\n",
      "Test Accuracy 0.9666666666666667\n",
      "Epoch: 180\n",
      "Train loss 0.33231350545674926\n",
      "Train Accuracy 0.9142857142857143\n",
      "Test loss 0.23975714637223355\n",
      "Test Accuracy 0.9666666666666667\n",
      "Epoch: 190\n",
      "Train loss 0.32581140264523234\n",
      "Train Accuracy 0.9142857142857143\n",
      "Test loss 0.23221217985904488\n",
      "Test Accuracy 0.9666666666666667\n",
      "Epoch: 200\n",
      "Train loss 0.31978594587260567\n",
      "Train Accuracy 0.9142857142857143\n",
      "Test loss 0.22524705699185726\n",
      "Test Accuracy 0.9666666666666667\n",
      "Epoch: 210\n",
      "Train loss 0.314187691507921\n",
      "Train Accuracy 0.9142857142857143\n",
      "Test loss 0.2187977511398799\n",
      "Test Accuracy 0.9666666666666667\n",
      "Epoch: 220\n",
      "Train loss 0.3089736484699634\n",
      "Train Accuracy 0.9142857142857143\n",
      "Test loss 0.2128091555022259\n",
      "Test Accuracy 0.9666666666666667\n",
      "Epoch: 230\n",
      "Train loss 0.3041062871234488\n",
      "Train Accuracy 0.9285714285714286\n",
      "Test loss 0.20723361737859358\n",
      "Test Accuracy 0.9666666666666667\n",
      "Epoch: 240\n",
      "Train loss 0.2995527197867848\n",
      "Train Accuracy 0.9285714285714286\n",
      "Test loss 0.202029744889166\n",
      "Test Accuracy 0.9666666666666667\n",
      "Epoch: 250\n",
      "Train loss 0.2952840203950128\n",
      "Train Accuracy 0.9285714285714286\n",
      "Test loss 0.19716143052314683\n",
      "Test Accuracy 0.9666666666666667\n",
      "Epoch: 260\n",
      "Train loss 0.2912746573907142\n",
      "Train Accuracy 0.9285714285714286\n",
      "Test loss 0.19259704807935546\n",
      "Test Accuracy 0.9666666666666667\n",
      "Epoch: 270\n",
      "Train loss 0.28750201908450973\n",
      "Train Accuracy 0.9285714285714286\n",
      "Test loss 0.18830878894160694\n",
      "Test Accuracy 0.9666666666666667\n",
      "Epoch: 280\n",
      "Train loss 0.2839460148189873\n",
      "Train Accuracy 0.9285714285714286\n",
      "Test loss 0.18427211086984513\n",
      "Test Accuracy 0.9666666666666667\n",
      "Epoch: 290\n",
      "Train loss 0.2805887385133838\n",
      "Train Accuracy 0.9285714285714286\n",
      "Test loss 0.18046527809208052\n",
      "Test Accuracy 0.9666666666666667\n",
      "Epoch: 300\n",
      "Train loss 0.2774141837419979\n",
      "Train Accuracy 0.9285714285714286\n",
      "Test loss 0.1768689758372813\n",
      "Test Accuracy 0.9666666666666667\n",
      "Epoch: 310\n",
      "Train loss 0.2744080015496608\n",
      "Train Accuracy 0.9285714285714286\n",
      "Test loss 0.17346598584765582\n",
      "Test Accuracy 0.9666666666666667\n",
      "Epoch: 320\n",
      "Train loss 0.27155729384440136\n",
      "Train Accuracy 0.9285714285714286\n",
      "Test loss 0.17024091207191577\n",
      "Test Accuracy 0.9666666666666667\n",
      "Epoch: 330\n",
      "Train loss 0.2688504365181967\n",
      "Train Accuracy 0.9285714285714286\n",
      "Test loss 0.16717994783727866\n",
      "Test Accuracy 0.9666666666666667\n",
      "Epoch: 340\n",
      "Train loss 0.2662769274998053\n",
      "Train Accuracy 0.9285714285714286\n",
      "Test loss 0.1642706774553452\n",
      "Test Accuracy 0.9666666666666667\n",
      "Epoch: 350\n",
      "Train loss 0.2638272557927163\n",
      "Train Accuracy 0.9285714285714286\n",
      "Test loss 0.16150190653324545\n",
      "Test Accuracy 0.9666666666666667\n",
      "Epoch: 360\n",
      "Train loss 0.26149278823811084\n",
      "Train Accuracy 0.9285714285714286\n",
      "Test loss 0.15886351631146461\n",
      "Test Accuracy 0.9666666666666667\n",
      "Epoch: 370\n",
      "Train loss 0.25926567130041056\n",
      "Train Accuracy 0.9285714285714286\n",
      "Test loss 0.15634633819112323\n",
      "Test Accuracy 0.9666666666666667\n",
      "Epoch: 380\n",
      "Train loss 0.25713874562734007\n",
      "Train Accuracy 0.9285714285714286\n",
      "Test loss 0.15394204529049765\n",
      "Test Accuracy 0.9666666666666667\n",
      "Epoch: 390\n",
      "Train loss 0.25510547150793594\n",
      "Train Accuracy 0.9285714285714286\n",
      "Test loss 0.15164305841774448\n",
      "Test Accuracy 0.9666666666666667\n",
      "Epoch: 400\n",
      "Train loss 0.25315986365674065\n",
      "Train Accuracy 0.9285714285714286\n",
      "Test loss 0.14944246429076957\n",
      "Test Accuracy 0.9666666666666667\n",
      "Epoch: 410\n",
      "Train loss 0.2512964340033772\n",
      "Train Accuracy 0.9285714285714286\n",
      "Test loss 0.14733394419699\n",
      "Test Accuracy 0.9666666666666667\n",
      "Epoch: 420\n",
      "Train loss 0.24951014137400798\n",
      "Train Accuracy 0.9285714285714286\n",
      "Test loss 0.1453117115816357\n",
      "Test Accuracy 0.9666666666666667\n",
      "Epoch: 430\n",
      "Train loss 0.247796347123012\n",
      "Train Accuracy 0.9285714285714286\n",
      "Test loss 0.14337045729626624\n",
      "Test Accuracy 0.9666666666666667\n",
      "Epoch: 440\n",
      "Train loss 0.2461507759161002\n",
      "Train Accuracy 0.9285714285714286\n",
      "Test loss 0.14150530143945414\n",
      "Test Accuracy 0.9666666666666667\n",
      "Epoch: 450\n",
      "Train loss 0.2445694809852786\n",
      "Train Accuracy 0.9285714285714286\n",
      "Test loss 0.13971175088726542\n",
      "Test Accuracy 0.9666666666666667\n",
      "Epoch: 460\n",
      "Train loss 0.2430488132758121\n",
      "Train Accuracy 0.9285714285714286\n",
      "Test loss 0.13798566174870816\n",
      "Test Accuracy 0.9666666666666667\n",
      "Epoch: 470\n",
      "Train loss 0.24158539398905013\n",
      "Train Accuracy 0.9285714285714286\n",
      "Test loss 0.13632320609585927\n",
      "Test Accuracy 0.9666666666666667\n",
      "Epoch: 480\n",
      "Train loss 0.24017609009545765\n",
      "Train Accuracy 0.9285714285714286\n",
      "Test loss 0.13472084241415452\n",
      "Test Accuracy 0.9666666666666667\n",
      "Epoch: 490\n",
      "Train loss 0.23881799245168048\n",
      "Train Accuracy 0.9285714285714286\n",
      "Test loss 0.13317528929854833\n",
      "Test Accuracy 0.9666666666666667\n",
      "Epoch: 500\n",
      "Train loss 0.2375083962058529\n",
      "Train Accuracy 0.9285714285714286\n",
      "Test loss 0.13168350198880407\n",
      "Test Accuracy 0.9666666666666667\n",
      "Epoch: 510\n",
      "Train loss 0.23624478321811404\n",
      "Train Accuracy 0.9285714285714286\n",
      "Test loss 0.13024265139408192\n",
      "Test Accuracy 0.9666666666666667\n",
      "Epoch: 520\n",
      "Train loss 0.2350248062596986\n",
      "Train Accuracy 0.9285714285714286\n",
      "Test loss 0.1288501053052074\n",
      "Test Accuracy 0.9666666666666667\n",
      "Epoch: 530\n",
      "Train loss 0.23384627478503583\n",
      "Train Accuracy 0.9285714285714286\n",
      "Test loss 0.12750341153385344\n",
      "Test Accuracy 0.9666666666666667\n",
      "Epoch: 540\n",
      "Train loss 0.23270714209786328\n",
      "Train Accuracy 0.9285714285714286\n",
      "Test loss 0.12620028275267042\n",
      "Test Accuracy 0.9666666666666667\n",
      "Epoch: 550\n",
      "Train loss 0.23160549375515746\n",
      "Train Accuracy 0.9285714285714286\n",
      "Test loss 0.12493858284005697\n",
      "Test Accuracy 0.9666666666666667\n",
      "Epoch: 560\n",
      "Train loss 0.23053953707228705\n",
      "Train Accuracy 0.9285714285714286\n",
      "Test loss 0.12371631455864457\n",
      "Test Accuracy 0.9666666666666667\n",
      "Epoch: 570\n",
      "Train loss 0.22950759160967438\n",
      "Train Accuracy 0.9285714285714286\n",
      "Test loss 0.1225316084183313\n",
      "Test Accuracy 0.9666666666666667\n",
      "Epoch: 580\n",
      "Train loss 0.22850808053584323\n",
      "Train Accuracy 0.9285714285714286\n",
      "Test loss 0.12138271259340981\n",
      "Test Accuracy 0.9666666666666667\n",
      "Epoch: 590\n",
      "Train loss 0.22753952277435469\n",
      "Train Accuracy 0.9285714285714286\n",
      "Test loss 0.12026798377943354\n",
      "Test Accuracy 0.9666666666666667\n",
      "Epoch: 600\n",
      "Train loss 0.2266005258530825\n",
      "Train Accuracy 0.9285714285714286\n",
      "Test loss 0.1191858788894089\n",
      "Test Accuracy 0.9666666666666667\n"
     ]
    },
    {
     "name": "stdout",
     "output_type": "stream",
     "text": [
      "Epoch: 610\n",
      "Train loss 0.2256897793838075\n",
      "Train Accuracy 0.9142857142857143\n",
      "Test loss 0.11813494750092375\n",
      "Test Accuracy 0.9666666666666667\n",
      "Epoch: 620\n",
      "Train loss 0.22480604910839425\n",
      "Train Accuracy 0.9142857142857143\n",
      "Test loss 0.11711382497630021\n",
      "Test Accuracy 0.9666666666666667\n",
      "Epoch: 630\n",
      "Train loss 0.2239481714550585\n",
      "Train Accuracy 0.9142857142857143\n",
      "Test loss 0.11612122618690979\n",
      "Test Accuracy 0.9666666666666667\n",
      "Epoch: 640\n",
      "Train loss 0.22311504855456035\n",
      "Train Accuracy 0.9142857142857143\n",
      "Test loss 0.11515593978074469\n",
      "Test Accuracy 0.9666666666666667\n",
      "Epoch: 650\n",
      "Train loss 0.2223056436717026\n",
      "Train Accuracy 0.9142857142857143\n",
      "Test loss 0.11421682293920571\n",
      "Test Accuracy 0.9666666666666667\n",
      "Epoch: 660\n",
      "Train loss 0.22151897701238302\n",
      "Train Accuracy 0.9142857142857143\n",
      "Test loss 0.11330279657513981\n",
      "Test Accuracy 0.9666666666666667\n",
      "Epoch: 670\n",
      "Train loss 0.2207541218707285\n",
      "Train Accuracy 0.9142857142857143\n",
      "Test loss 0.11241284092943835\n",
      "Test Accuracy 0.9666666666666667\n",
      "Epoch: 680\n",
      "Train loss 0.22001020108460656\n",
      "Train Accuracy 0.9142857142857143\n",
      "Test loss 0.11154599152815635\n",
      "Test Accuracy 0.9666666666666667\n",
      "Epoch: 690\n",
      "Train loss 0.21928638377114004\n",
      "Train Accuracy 0.9142857142857143\n",
      "Test loss 0.11070133546619515\n",
      "Test Accuracy 0.9666666666666667\n",
      "Epoch: 700\n",
      "Train loss 0.21858188231678555\n",
      "Train Accuracy 0.9142857142857143\n",
      "Test loss 0.10987800798721255\n",
      "Test Accuracy 0.9666666666666667\n",
      "Epoch: 710\n",
      "Train loss 0.21789594959914424\n",
      "Train Accuracy 0.9142857142857143\n",
      "Test loss 0.1090751893325666\n",
      "Test Accuracy 0.9666666666666667\n",
      "Epoch: 720\n",
      "Train loss 0.21722787641997426\n",
      "Train Accuracy 0.9142857142857143\n",
      "Test loss 0.10829210183494374\n",
      "Test Accuracy 0.9666666666666667\n",
      "Epoch: 730\n",
      "Train loss 0.21657698913092857\n",
      "Train Accuracy 0.9142857142857143\n",
      "Test loss 0.10752800723478022\n",
      "Test Accuracy 0.9666666666666667\n",
      "Epoch: 740\n",
      "Train loss 0.21594264743536126\n",
      "Train Accuracy 0.9142857142857143\n",
      "Test loss 0.10678220419980905\n",
      "Test Accuracy 0.9666666666666667\n",
      "Epoch: 750\n",
      "Train loss 0.21532424235116704\n",
      "Train Accuracy 0.9142857142857143\n",
      "Test loss 0.10605402603001875\n",
      "Test Accuracy 0.9666666666666667\n",
      "Epoch: 760\n",
      "Train loss 0.21472119432107106\n",
      "Train Accuracy 0.9142857142857143\n",
      "Test loss 0.10534283853204446\n",
      "Test Accuracy 0.9666666666666667\n",
      "Epoch: 770\n",
      "Train loss 0.21413295145807232\n",
      "Train Accuracy 0.9142857142857143\n",
      "Test loss 0.10464803804858355\n",
      "Test Accuracy 0.9666666666666667\n",
      "Epoch: 780\n",
      "Train loss 0.21355898791490474\n",
      "Train Accuracy 0.9142857142857143\n",
      "Test loss 0.10396904962978354\n",
      "Test Accuracy 0.9666666666666667\n",
      "Epoch: 790\n",
      "Train loss 0.2129988023674146\n",
      "Train Accuracy 0.9142857142857143\n",
      "Test loss 0.10330532533481945\n",
      "Test Accuracy 0.9666666666666667\n",
      "Epoch: 800\n",
      "Train loss 0.21245191660268054\n",
      "Train Accuracy 0.9142857142857143\n",
      "Test loss 0.10265634265295856\n",
      "Test Accuracy 0.9666666666666667\n",
      "Epoch: 810\n",
      "Train loss 0.21191787420353667\n",
      "Train Accuracy 0.9142857142857143\n",
      "Test loss 0.10202160303441987\n",
      "Test Accuracy 0.9666666666666667\n",
      "Epoch: 820\n",
      "Train loss 0.21139623932191073\n",
      "Train Accuracy 0.9142857142857143\n",
      "Test loss 0.10140063052220795\n",
      "Test Accuracy 0.9666666666666667\n",
      "Epoch: 830\n",
      "Train loss 0.21088659553405953\n",
      "Train Accuracy 0.9142857142857143\n",
      "Test loss 0.10079297047692162\n",
      "Test Accuracy 0.9666666666666667\n",
      "Epoch: 840\n",
      "Train loss 0.21038854477139765\n",
      "Train Accuracy 0.9142857142857143\n",
      "Test loss 0.1001981883872303\n",
      "Test Accuracy 0.9666666666666667\n",
      "Epoch: 850\n",
      "Train loss 0.20990170632115873\n",
      "Train Accuracy 0.9142857142857143\n",
      "Test loss 0.09961586875938012\n",
      "Test Accuracy 0.9666666666666667\n",
      "Epoch: 860\n",
      "Train loss 0.20942571589162923\n",
      "Train Accuracy 0.9142857142857143\n",
      "Test loss 0.09904561407966117\n",
      "Test Accuracy 0.9666666666666667\n",
      "Epoch: 870\n",
      "Train loss 0.2089602247371377\n",
      "Train Accuracy 0.9142857142857143\n",
      "Test loss 0.09848704384429977\n",
      "Test Accuracy 0.9666666666666667\n",
      "Epoch: 880\n",
      "Train loss 0.20850489883839163\n",
      "Train Accuracy 0.9142857142857143\n",
      "Test loss 0.09793979365170649\n",
      "Test Accuracy 0.9666666666666667\n",
      "Epoch: 890\n",
      "Train loss 0.20805941813412268\n",
      "Train Accuracy 0.9142857142857143\n",
      "Test loss 0.0974035143524605\n",
      "Test Accuracy 0.9666666666666667\n",
      "Epoch: 900\n",
      "Train loss 0.20762347580032894\n",
      "Train Accuracy 0.9142857142857143\n",
      "Test loss 0.0968778712527673\n",
      "Test Accuracy 0.9666666666666667\n",
      "Epoch: 910\n",
      "Train loss 0.20719677757371358\n",
      "Train Accuracy 0.9142857142857143\n",
      "Test loss 0.09636254336751802\n",
      "Test Accuracy 0.9666666666666667\n",
      "Epoch: 920\n",
      "Train loss 0.20677904111618778\n",
      "Train Accuracy 0.9142857142857143\n",
      "Test loss 0.09585722271936632\n",
      "Test Accuracy 0.9666666666666667\n",
      "Epoch: 930\n",
      "Train loss 0.2063699954175617\n",
      "Train Accuracy 0.9142857142857143\n",
      "Test loss 0.09536161368054942\n",
      "Test Accuracy 0.9666666666666667\n",
      "Epoch: 940\n",
      "Train loss 0.20596938023376934\n",
      "Train Accuracy 0.9142857142857143\n",
      "Test loss 0.0948754323544316\n",
      "Test Accuracy 0.9666666666666667\n",
      "Epoch: 950\n",
      "Train loss 0.20557694555819223\n",
      "Train Accuracy 0.9142857142857143\n",
      "Test loss 0.09439840599401646\n",
      "Test Accuracy 0.9666666666666667\n",
      "Epoch: 960\n",
      "Train loss 0.2051924511238199\n",
      "Train Accuracy 0.9142857142857143\n",
      "Test loss 0.09393027245483247\n",
      "Test Accuracy 0.9666666666666667\n",
      "Epoch: 970\n",
      "Train loss 0.20481566593417685\n",
      "Train Accuracy 0.9142857142857143\n",
      "Test loss 0.09347077967988279\n",
      "Test Accuracy 0.9666666666666667\n",
      "Epoch: 980\n",
      "Train loss 0.20444636782109138\n",
      "Train Accuracy 0.9142857142857143\n",
      "Test loss 0.09301968521445457\n",
      "Test Accuracy 0.9666666666666667\n",
      "Epoch: 990\n",
      "Train loss 0.2040843430275323\n",
      "Train Accuracy 0.9142857142857143\n",
      "Test loss 0.09257675574879788\n",
      "Test Accuracy 0.9666666666666667\n"
     ]
    },
    {
     "data": {
      "image/png": "[encoded data removed]",
      "text/plain": [
       "<Figure size 432x288 with 1 Axes>"
      ]
     },
     "metadata": {
      "needs_background": "light"
     },
     "output_type": "display_data"
    }
   ],
   "source": [
    "train(X_train, y_train, X_test, y_test, epochs, learning_rate)"
   ]
  },
  {
   "cell_type": "code",
   "execution_count": 15,
   "id": "sticky-today",
   "metadata": {
    "ExecuteTime": {
     "end_time": "2021-05-26T12:39:19.286937Z",
     "start_time": "2021-05-26T12:39:19.252166Z"
    }
   },
   "outputs": [
    {
     "data": {
      "text/plain": [
       "[(array([ 0.78051 , -0.063669]), 1),\n",
       " (array([0.28774, 0.29139]), 1),\n",
       " (array([0.40714, 0.17878]), 1),\n",
       " (array([0.2923, 0.4217]), 1),\n",
       " (array([0.50922, 0.35256]), 1),\n",
       " (array([0.27785, 0.10802]), 1),\n",
       " (array([0.27527, 0.33223]), 1),\n",
       " (array([0.43999, 0.31245]), 1),\n",
       " (array([0.33557, 0.42984]), 1),\n",
       " (array([0.23448, 0.24986]), 1),\n",
       " (array([0.0084492, 0.13658  ]), 1),\n",
       " (array([0.12419, 0.33595]), 1),\n",
       " (array([0.25644, 0.42624]), 1),\n",
       " (array([0.4591 , 0.40426]), 1),\n",
       " (array([0.44547, 0.45117]), 1),\n",
       " (array([0.42218, 0.20118]), 1),\n",
       " (array([0.49563, 0.21445]), 1),\n",
       " (array([0.30848, 0.24306]), 1),\n",
       " (array([0.39707, 0.44438]), 1),\n",
       " (array([0.32945, 0.39217]), 1),\n",
       " (array([0.40739, 0.40271]), 1),\n",
       " (array([0.3106 , 0.50702]), 1),\n",
       " (array([0.49638, 0.45384]), 1),\n",
       " (array([0.10073, 0.32053]), 1),\n",
       " (array([0.69907, 0.37307]), 1),\n",
       " (array([0.29767, 0.69648]), 1),\n",
       " (array([0.15099, 0.57341]), 1),\n",
       " (array([0.16427, 0.27759]), 1),\n",
       " (array([0.33259 , 0.055964]), 1),\n",
       " (array([0.53741, 0.28637]), 1),\n",
       " (array([0.19503, 0.36879]), 1),\n",
       " (array([0.40278 , 0.035148]), 1),\n",
       " (array([0.21296, 0.55169]), 1),\n",
       " (array([0.48447, 0.56991]), 1),\n",
       " (array([0.25476, 0.34596]), 1),\n",
       " (array([0.21726, 0.28641]), 1),\n",
       " (array([0.67078, 0.46538]), 1),\n",
       " (array([0.3815, 0.4622]), 1),\n",
       " (array([0.53838, 0.32774]), 1),\n",
       " (array([0.4849 , 0.26071]), 1),\n",
       " (array([0.37095, 0.38809]), 1),\n",
       " (array([0.54527, 0.63911]), 1),\n",
       " (array([0.32149, 0.12007]), 1),\n",
       " (array([0.42216, 0.61666]), 1),\n",
       " (array([0.10194 , 0.060408]), 1),\n",
       " (array([0.15254, 0.2168 ]), 1),\n",
       " (array([0.45558, 0.43769]), 1),\n",
       " (array([0.28488, 0.52142]), 1),\n",
       " (array([0.27633, 0.21264]), 1),\n",
       " (array([0.39748, 0.31902]), 1),\n",
       " (array([0.5533, 1.    ]), 0),\n",
       " (array([0.44274, 0.59205]), 0),\n",
       " (array([0.85176, 0.6612 ]), 0),\n",
       " (array([0.60436, 0.86605]), 0),\n",
       " (array([0.68243, 0.48301]), 0),\n",
       " (array([1.     , 0.76815]), 0),\n",
       " (array([0.72989, 0.8107 ]), 0),\n",
       " (array([0.67377, 0.77975]), 0),\n",
       " (array([0.78761, 0.58177]), 0),\n",
       " (array([0.71442, 0.7668 ]), 0),\n",
       " (array([0.49379, 0.54226]), 0),\n",
       " (array([0.78974, 0.74233]), 0),\n",
       " (array([0.67905, 0.60921]), 0),\n",
       " (array([0.6642 , 0.72519]), 0),\n",
       " (array([0.79396, 0.56789]), 0),\n",
       " (array([0.70758, 0.76022]), 0),\n",
       " (array([0.59421, 0.61857]), 0),\n",
       " (array([0.49364, 0.56224]), 0),\n",
       " (array([0.77707, 0.35025]), 0),\n",
       " (array([0.79785, 0.76921]), 0),\n",
       " (array([0.70876, 0.96764]), 0),\n",
       " (array([0.69176, 0.60865]), 0),\n",
       " (array([0.66408, 0.92075]), 0),\n",
       " (array([0.65973, 0.66666]), 0),\n",
       " (array([0.64574, 0.56845]), 0),\n",
       " (array([0.89639, 0.7085 ]), 0),\n",
       " (array([0.85476, 0.63167]), 0),\n",
       " (array([0.62091, 0.80424]), 0),\n",
       " (array([0.79057, 0.56108]), 0),\n",
       " (array([0.58935, 0.71582]), 0),\n",
       " (array([0.56846, 0.7406 ]), 0),\n",
       " (array([0.65912, 0.71548]), 0),\n",
       " (array([0.70938, 0.74041]), 0),\n",
       " (array([0.59154, 0.62927]), 0),\n",
       " (array([0.45829, 0.4641 ]), 0),\n",
       " (array([0.79982, 0.74847]), 0),\n",
       " (array([0.60974, 0.54757]), 0),\n",
       " (array([0.68127, 0.86985]), 0),\n",
       " (array([0.76694, 0.64736]), 0),\n",
       " (array([0.69048, 0.83058]), 0),\n",
       " (array([0.68122, 0.96541]), 0),\n",
       " (array([0.73229, 0.64245]), 0),\n",
       " (array([0.76145, 0.60138]), 0),\n",
       " (array([0.58985, 0.86955]), 0),\n",
       " (array([0.73145, 0.74516]), 0),\n",
       " (array([0.77029, 0.7014 ]), 0),\n",
       " (array([0.73156, 0.71782]), 0),\n",
       " (array([0.44556, 0.57991]), 0),\n",
       " (array([0.85275, 0.85987]), 0),\n",
       " (array([0.51912, 0.62359]), 0)]"
      ]
     },
     "execution_count": 15,
     "metadata": {},
     "output_type": "execute_result"
    }
   ],
   "source": [
    "w1x1+w2x2"
   ]
  },
  {
   "cell_type": "code",
   "execution_count": null,
   "id": "offshore-better",
   "metadata": {},
   "outputs": [],
   "source": []
  }
 ],
 "metadata": {
  "kernelspec": {
   "display_name": "Python 3",
   "language": "python",
   "name": "python3"
  },
  "language_info": {
   "codemirror_mode": {
    "name": "ipython",
    "version": 3
   },
   "file_extension": ".py",
   "mimetype": "text/x-python",
   "name": "python",
   "nbconvert_exporter": "python",
   "pygments_lexer": "ipython3",
   "version": "3.9.1"
  },
  "varInspector": {
   "cols": {
    "lenName": 16,
    "lenType": 16,
    "lenVar": 40
   },
   "kernels_config": {
    "python": {
     "delete_cmd_postfix": "",
     "delete_cmd_prefix": "del ",
     "library": "var_list.py",
     "varRefreshCmd": "print(var_dic_list())"
    },
    "r": {
     "delete_cmd_postfix": ") ",
     "delete_cmd_prefix": "rm(",
     "library": "var_list.r",
     "varRefreshCmd": "cat(var_dic_list()) "
    }
   },
   "types_to_exclude": [
    "module",
    "function",
    "builtin_function_or_method",
    "instance",
    "_Feature"
   ],
   "window_display": false
  }
 },
 "nbformat": 4,
 "nbformat_minor": 5
}
