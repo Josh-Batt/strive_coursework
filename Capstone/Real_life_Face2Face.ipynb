{
 "cells": [
  {
   "cell_type": "markdown",
   "source": [
    "# Imports"
   ],
   "metadata": {}
  },
  {
   "cell_type": "code",
   "execution_count": null,
   "source": [
    "import pandas as pd\r\n",
    "import numpy as np\r\n",
    "import cv2\r\n",
    "import matplotlib.pyplot as plt\r\n",
    "#%matplotlib.inline\r\n",
    "from deepface import DeepFace\r\n",
    "\r\n",
    "import os\r\n",
    "import collections"
   ],
   "outputs": [],
   "metadata": {}
  },
  {
   "cell_type": "markdown",
   "source": [
    "# Verify"
   ],
   "metadata": {}
  },
  {
   "cell_type": "code",
   "execution_count": null,
   "source": [
    "def verify(img1_path, img2_path):\r\n",
    "    match = None\r\n",
    "\r\n",
    "    img1 = cv2.imread(img1_path)\r\n",
    "    img2 = cv2.imread(img2_path)\r\n",
    "\r\n",
    "    plt.imshow(img1[:, :, ::-1 ]) # SHOWS IMAGES\r\n",
    "    plt.show()\r\n",
    "    plt.imshow(img2[:, :, ::-1 ])\r\n",
    "    plt.show()\r\n",
    "\r\n",
    "    result = DeepFace.verify(img1_path, img2_path, model_name='Facenet512', distance_metric='euclidean_l2', enforce_detection=False)\r\n",
    "    list_result = list(result.items())\r\n",
    "    print('Result:\\t', list_result) #RESULTS\r\n",
    "\r\n",
    "    if list_result[1][1] > 1.15: # CHANGE HOW SIMILAR THE PHOTOS NEED TO BE\r\n",
    "        print('You DONT look alike!')\r\n",
    "    else:\r\n",
    "        match = True\r\n",
    "        print('Match = ' + str(match) + '! You DO look alike')\r\n",
    "  \r\n",
    "    return match\r\n",
    "\r\n",
    "#verify('Profiles/User_1_profile_JOSH/request_pics/user1_pic1_request_1.jpg', 'Profiles/User_2_profile_LEYLA/profile_pics/user2_pic1_pp_2.jpg')"
   ],
   "outputs": [],
   "metadata": {}
  },
  {
   "cell_type": "markdown",
   "source": [
    "# Base"
   ],
   "metadata": {}
  },
  {
   "cell_type": "code",
   "execution_count": null,
   "source": [
    "def full_match(request_paths, profile_paths, matched_indexs):\r\n",
    "    empty_list = []\r\n",
    "    match = None\r\n",
    "\r\n",
    "    r = matched_indexs[0]\r\n",
    "    p = matched_indexs[1]\r\n",
    "\r\n",
    "    for i in request_paths: #FOR EACH ITEM IN REQUEST PATHS\r\n",
    "        request_pics = []\r\n",
    "        for dirpath, subdirs, files in os.walk(request_paths[p]): #INDEX WITH R, +1 TO R EVERY CYCLE\r\n",
    "            for x in files:\r\n",
    "                request_pics.append(os.path.join(dirpath, x)) #HOLDS FIRST USERS REQUESTS, THEN STRAIGHT TO NEXT FOR LOOP\r\n",
    "        for j in request_pics:\r\n",
    "            profile_pics = []\r\n",
    "            for dirpath, subdirs, files in os.walk(profile_paths[r]):\r\n",
    "                for x in files:\r\n",
    "                    profile_pics.append(os.path.join(dirpath, x))\r\n",
    "\r\n",
    "    for r_pics in request_pics:\r\n",
    "        for p_pics in profile_pics:\r\n",
    "            result = verify(r_pics, p_pics)\r\n",
    "            if result == True:\r\n",
    "                match = True\r\n",
    "        \r\n",
    "    if match == True:\r\n",
    "        print('Its a MATCH!')\r\n",
    "    if match != True :\r\n",
    "        print('No Match!')\r\n"
   ],
   "outputs": [],
   "metadata": {}
  },
  {
   "cell_type": "code",
   "execution_count": null,
   "source": [
    "def matching_algo():\r\n",
    "    half = None\r\n",
    "    directory = 'Profiles/'\r\n",
    "    \r\n",
    "    r = 0\r\n",
    "    p = 0\r\n",
    "\r\n",
    "    request_paths = []\r\n",
    "    profile_paths = []\r\n",
    "\r\n",
    "    matched_indexs = []\r\n",
    "\r\n",
    "    for dirpath, subdirs, files in os.walk(directory):\r\n",
    "        for x in subdirs:\r\n",
    "            if x == 'request_pics': # CHANGE FILE NAME\r\n",
    "                request_paths.append(os.path.join(dirpath, x))\r\n",
    "            if x == 'profile_pics':\r\n",
    "                profile_paths.append(os.path.join(dirpath, x))\r\n",
    "\r\n",
    "    for i in request_paths: #FOR EACH ITEM IN REQUEST PATHS\r\n",
    "        request_pics = []\r\n",
    "        for dirpath, subdirs, files in os.walk(request_paths[r]): #INDEX WITH R, +1 TO R EVERY CYCLE\r\n",
    "            for x in files:\r\n",
    "                request_pics.append(os.path.join(dirpath, x)) #HOLDS FIRST USERS REQUESTS, THEN STRAIGHT TO NEXT FOR LOOP\r\n",
    "        for j in request_pics:\r\n",
    "            profile_pics = []\r\n",
    "            for dirpath, subdirs, files in os.walk(profile_paths[p]):\r\n",
    "                for x in files:\r\n",
    "                    profile_pics.append(os.path.join(dirpath, x))\r\n",
    "                    \r\n",
    "            for r_pics in request_pics:\r\n",
    "                for p_pics in profile_pics:\r\n",
    "                    result = verify(r_pics, p_pics)\r\n",
    "                    if result == True:\r\n",
    "                        half = True\r\n",
    "\r\n",
    "            if half == True:\r\n",
    "                print('Half Match!')\r\n",
    "                matched_indexs.append(r)\r\n",
    "                matched_indexs.append(p)\r\n",
    "                full_match(request_pics, profile_pics, matched_indexs)\r\n",
    "                \r\n",
    "                #matched_indexs = []\r\n",
    "            else:\r\n",
    "                print('No Half-Match')\r\n",
    "\r\n",
    "            p -= 1\r\n",
    "        p = 0 #WORKS\r\n",
    "        r += 1 #LOOPING THROUGH\r\n",
    "    return #request_paths, profile_paths#, matched_indexs\r\n",
    "\r\n",
    "matching_algo()"
   ],
   "outputs": [],
   "metadata": {}
  },
  {
   "cell_type": "markdown",
   "source": [
    "# TEST BREAKDOWN"
   ],
   "metadata": {}
  },
  {
   "cell_type": "markdown",
   "source": [
    "# Request & Profile Path Lists"
   ],
   "metadata": {}
  },
  {
   "cell_type": "code",
   "execution_count": null,
   "source": [
    "# def paths(directory):\r\n",
    "#     request_paths = []\r\n",
    "#     profile_paths = []\r\n",
    "\r\n",
    "#     for dirpath, subdirs, files in os.walk(directory):\r\n",
    "#         for x in subdirs:\r\n",
    "#             if x == 'request_pics': # CHANGE FILE NAME\r\n",
    "#                 request_paths.append(os.path.join(dirpath, x))\r\n",
    "#             if x == 'profile_pics':\r\n",
    "#                 profile_paths.append(os.path.join(dirpath, x))\r\n",
    "#     return request_paths, profile_paths\r\n",
    "\r\n",
    "# paths(directory)"
   ],
   "outputs": [],
   "metadata": {}
  },
  {
   "cell_type": "markdown",
   "source": [
    "# Compare Algorthim"
   ],
   "metadata": {}
  },
  {
   "cell_type": "code",
   "execution_count": null,
   "source": [
    "# def compare_algo(directory):\r\n",
    "#     half = None\r\n",
    "#     #directory = 'Profiles/'\r\n",
    "    \r\n",
    "#     r = 0\r\n",
    "#     p = -1\r\n",
    "\r\n",
    "#     request_paths = []\r\n",
    "#     profile_paths = []\r\n",
    "\r\n",
    "#     for i in request_paths: #FOR EACH ITEM IN REQUEST PATHS\r\n",
    "#         request_pics = []\r\n",
    "#         for dirpath, subdirs, files in os.walk(request_paths[r]): #INDEX WITH R, +1 TO R EVERY CYCLE\r\n",
    "#             for x in files:\r\n",
    "#                 request_pics.append(os.path.join(dirpath, x)) #HOLDS FIRST USERS REQUESTS, THEN STRAIGHT TO NEXT FOR LOOP\r\n",
    "#         for j in request_pics:\r\n",
    "#             profile_pics = []\r\n",
    "#             for dirpath, subdirs, files in os.walk(profile_paths[p]):\r\n",
    "#                 for x in files:\r\n",
    "#                     profile_pics.append(os.path.join(dirpath, x))\r\n",
    "                    \r\n",
    "#             for r_pics in request_pics:\r\n",
    "#                 for p_pics in profile_pics:\r\n",
    "#                     result = verify(r_pics, p_pics)\r\n",
    "#                     if result == True:\r\n",
    "#                         half = True\r\n",
    "#             if half == True:\r\n",
    "#                 print('Half Match!')\r\n",
    "#                 full_match(r_pics, p_pics)\r\n",
    "#             else:\r\n",
    "#                 print('No Half-Match')\r\n",
    "\r\n",
    "#             p -= 1\r\n",
    "#         r += 1\r\n",
    "#     return\r\n",
    "            "
   ],
   "outputs": [],
   "metadata": {}
  },
  {
   "cell_type": "markdown",
   "source": [
    "# Compare Match"
   ],
   "metadata": {}
  }
 ],
 "metadata": {
  "orig_nbformat": 4,
  "language_info": {
   "name": "python",
   "version": "3.9.6",
   "mimetype": "text/x-python",
   "codemirror_mode": {
    "name": "ipython",
    "version": 3
   },
   "pygments_lexer": "ipython3",
   "nbconvert_exporter": "python",
   "file_extension": ".py"
  },
  "kernelspec": {
   "name": "python3",
   "display_name": "Python 3.9.6 64-bit"
  },
  "interpreter": {
   "hash": "71a078725193e5283d70c5b26e23bad30e82fe01585ae509fe6ef2a797b600d7"
  }
 },
 "nbformat": 4,
 "nbformat_minor": 2
}