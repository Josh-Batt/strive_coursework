{
 "metadata": {
  "language_info": {
   "codemirror_mode": {
    "name": "ipython",
    "version": 3
   },
   "file_extension": ".py",
   "mimetype": "text/x-python",
   "name": "python",
   "nbconvert_exporter": "python",
   "pygments_lexer": "ipython3",
   "version": "3.7.9"
  },
  "orig_nbformat": 4,
  "kernelspec": {
   "name": "python3",
   "display_name": "Python 3.7.9 64-bit"
  },
  "interpreter": {
   "hash": "3bdf658a3589a7fec615e49c34fea1ae8d54b9f47d3cbfb2eaab29174ceee87c"
  }
 },
 "nbformat": 4,
 "nbformat_minor": 2,
 "cells": [
  {
   "cell_type": "code",
   "execution_count": 44,
   "metadata": {},
   "outputs": [],
   "source": [
    "import cv2\n",
    "import matplotlib.pyplot as plt\n",
    "%matplotlib inline\n",
    "\n",
    "from PIL import ImageFont, ImageDraw, Image\n",
    "import numpy as np"
   ]
  },
  {
   "cell_type": "code",
   "execution_count": 76,
   "metadata": {},
   "outputs": [],
   "source": [
    "def meme(path, text):\n",
    "    img = cv2.imread(path, 3)\n",
    "    rgb_img = cv2.cvtColor(img, cv2.COLOR_BGR2RGB)\n",
    "    clone = img.copy()\n",
    "    \n",
    "    font = cv2.FONT_HERSHEY_SIMPLEX\n",
    "    textsize = cv2.getTextSize(text, font, 1, 2)[0]\n",
    "    textX = (img.shape[1] - textsize[0]) // 2\n",
    "    textY = (img.shape[0] + textsize[1]) // 2\n",
    "    fontScale = 1\n",
    "    color = (255, 255, 255)\n",
    "    thickness = 2\n",
    "    cv2.putText(clone, text, (textX, textY), font, \n",
    "                    fontScale, color, thickness, cv2.LINE_AA)\n",
    "\n",
    "    cv2.imshow('Meme', clone)\n",
    "    cv2.waitKey(0)\n",
    "    cv2.destroyAllWindows()\n",
    "\n",
    "meme('cropped dog.jpg', 'Hello')"
   ]
  },
  {
   "cell_type": "code",
   "execution_count": 75,
   "metadata": {},
   "outputs": [],
   "source": [
    "def meme_v2(path, text):\n",
    "    img = cv2.imread(path, 3)\n",
    "    #rgb_img = cv2.cvtColor(img, cv2.COLOR_BGR2RGB)\n",
    "    clone = img.copy()\n",
    "    pil_img = Image.fromarray(clone)\n",
    "\n",
    "    draw = ImageDraw.Draw(pil_img)\n",
    "    impact_font = ImageFont.truetype('impact/impact.ttf', 32)\n",
    "    draw.text((40, 80), text,(255,255,255),\n",
    "            font=impact_font)\n",
    "\n",
    "    result = np.array(pil_img)\n",
    "\n",
    "    cv2.imshow('Meme', result)\n",
    "    cv2.waitKey(0)\n",
    "    cv2.destroyAllWindows()\n",
    "\n",
    "meme_v2('cropped dog.jpg', 'Hello Sir')"
   ]
  },
  {
   "cell_type": "code",
   "execution_count": null,
   "metadata": {},
   "outputs": [],
   "source": []
  }
 ]
}