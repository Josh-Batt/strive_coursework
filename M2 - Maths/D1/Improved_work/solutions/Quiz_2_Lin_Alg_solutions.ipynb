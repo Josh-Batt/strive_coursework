{
 "cells": [
  {
   "cell_type": "markdown",
   "metadata": {},
   "source": [
    "## Linear Algebra Quiz #2\n",
    "\n",
    "![title](./img/2_1.jpeg)\n",
    "\n",
    "We strongly suggest working with numpy :)"
   ]
  },
  {
   "cell_type": "code",
   "execution_count": 1,
   "metadata": {},
   "outputs": [],
   "source": [
    "#Do your imports here\n",
    "import numpy as np"
   ]
  },
  {
   "cell_type": "markdown",
   "metadata": {},
   "source": [
    "![title](./img/2_2.png)\n",
    "- Which vectors below define a plane spanned by a linear combination?"
   ]
  },
  {
   "cell_type": "code",
   "execution_count": 2,
   "metadata": {},
   "outputs": [],
   "source": [
    "# helper: https://numpy.org/doc/stable/reference/generated/numpy.linalg.eig.html"
   ]
  },
  {
   "cell_type": "markdown",
   "metadata": {},
   "source": [
    "![plane](https://1.bp.blogspot.com/-shTAWwa3vcs/XBkjnZAgmsI/AAAAAAABEH0/8C2VPX8Y_tAv6Ra-N084mbfjIcxahQbmACLcBGAs/s1600/Diagram1.png)"
   ]
  },
  {
   "cell_type": "markdown",
   "metadata": {},
   "source": [
    "![3 independent vectors](https://upload.wikimedia.org/wikipedia/commons/8/8a/3D_coordinates_system_and_planes.png)"
   ]
  },
  {
   "cell_type": "code",
   "execution_count": 5,
   "metadata": {},
   "outputs": [],
   "source": [
    "def plane(a,b,c):\n",
    "    #returns false if the vectors do define a plane and returns which are those vectors if true\n",
    "    \n",
    "    matrix = np.stack((a,b,c))\n",
    "    \n",
    "    lambdas, V = np.linalg.eig(matrix.T)\n",
    "    \n",
    "    e = 0.000000001\n",
    "    \n",
    "    plane_test = abs(lambdas) > e \n",
    "    \n",
    "    if plane_test.sum() >= 2:\n",
    "        \n",
    "        print('Vectors form a plane!')\n",
    "        \n",
    "        vectors = matrix[plane_test]\n",
    "        return vectors\n",
    "    else:\n",
    "        print('Vectors are all linearly dependent. No plane exists.')"
   ]
  },
  {
   "cell_type": "code",
   "execution_count": 6,
   "metadata": {},
   "outputs": [
    {
     "name": "stdout",
     "output_type": "stream",
     "text": [
      "Vectors form a plane!\n"
     ]
    },
    {
     "data": {
      "text/plain": [
       "array([[1, 2, 3],\n",
       "       [2, 2, 2]])"
      ]
     },
     "execution_count": 6,
     "metadata": {},
     "output_type": "execute_result"
    }
   ],
   "source": [
    "a = np.array([1,2,3])\n",
    "b = np.array([2,2,2])\n",
    "c = np.array([8,8,8])\n",
    "\n",
    "plane(a,b,c)"
   ]
  },
  {
   "cell_type": "code",
   "execution_count": 13,
   "metadata": {},
   "outputs": [],
   "source": [
    "# Harder exercise\n",
    "\n",
    "def complete_plane(*args):\n",
    "#returns the first set of vectors to complete a plane, false otherwise\n",
    "    \n",
    "    np_arrays = []\n",
    "    \n",
    "    for arg in args:\n",
    "        np_arrays.append(arg)\n",
    "    \n",
    "    matrix = np.stack(np_arrays)\n",
    "    \n",
    "    rows = matrix.shape[0]\n",
    "    columns = matrix.shape[1]\n",
    "    \n",
    "    if rows == columns:\n",
    "        \n",
    "        lambdas, V = np.linalg.eig(matrix.T)\n",
    "    \n",
    "        e = 0.000000001\n",
    "        plane_test = abs(lambdas) > e\n",
    " \n",
    "        if plane_test.sum() >= 2:\n",
    "            print('True')\n",
    "            \n",
    "            index = np.argwhere(plane_test == True)\n",
    "            \n",
    "            vectors = matrix[index]\n",
    "        else:\n",
    "            print('False')\n",
    "        \n",
    "        \n",
    "        \n",
    "        \n",
    "    elif rows != columns:\n",
    "        \n",
    "        U, eigvals , d = np.linalg.svd(matrix.T)\n",
    "    \n",
    "        e = 0.000000001\n",
    "        plane_test = abs(eigvals) > e\n",
    " \n",
    "        if plane_test.sum() >= 2:\n",
    "            print('True')\n",
    "            \n",
    "            index = np.argwhere(plane_test == True)\n",
    "\n",
    "            vectors = matrix[index][:2]\n",
    "            \n",
    "            return vectors\n",
    "            \n",
    "        else:\n",
    "            print('False')\n",
    "    \n",
    "    \n",
    "    \n",
    "\n",
    "\n"
   ]
  },
  {
   "cell_type": "code",
   "execution_count": 14,
   "metadata": {},
   "outputs": [
    {
     "name": "stdout",
     "output_type": "stream",
     "text": [
      "True\n"
     ]
    },
    {
     "data": {
      "text/plain": [
       "array([[[1, 2, 3]],\n",
       "\n",
       "       [[3, 2, 1]]])"
      ]
     },
     "execution_count": 14,
     "metadata": {},
     "output_type": "execute_result"
    }
   ],
   "source": [
    "a = np.array([1,2,3])\n",
    "b = np.array([2,4,6])\n",
    "c = np.array([3,2,1])\n",
    "d = np.array([6,4,2])\n",
    "e = np.array([1,5,8])\n",
    "\n",
    "complete_plane(a,c,d,e)"
   ]
  },
  {
   "cell_type": "markdown",
   "metadata": {},
   "source": [
    "![title](./img/2_3.png)\n",
    "- What is the solution for a and b?"
   ]
  },
  {
   "cell_type": "code",
   "execution_count": 15,
   "metadata": {},
   "outputs": [],
   "source": [
    "# do you need a function for this? What is the most efficient way to solve it?\n",
    "\n",
    "#solutions are linearly dependent. therefore infinite solutions"
   ]
  },
  {
   "cell_type": "markdown",
   "metadata": {},
   "source": [
    "![title](./img/2_4.png)\n",
    "- What is the solution for a and b?"
   ]
  },
  {
   "cell_type": "code",
   "execution_count": 16,
   "metadata": {},
   "outputs": [],
   "source": [
    "# Idem. Do you need a function for this? What is the most efficient way to solve it?\n",
    "\n",
    "#In this case, by visual inspection, it is impossible to get a value of a and b that fullfulls both conditions.\n",
    "#they are two paralel planes and there is no line or point in which they intersect"
   ]
  },
  {
   "cell_type": "code",
   "execution_count": null,
   "metadata": {},
   "outputs": [],
   "source": []
  }
 ],
 "metadata": {
  "kernelspec": {
   "display_name": "Python 3",
   "language": "python",
   "name": "python3"
  },
  "language_info": {
   "codemirror_mode": {
    "name": "ipython",
    "version": 3
   },
   "file_extension": ".py",
   "mimetype": "text/x-python",
   "name": "python",
   "nbconvert_exporter": "python",
   "pygments_lexer": "ipython3",
   "version": "3.8.5"
  }
 },
 "nbformat": 4,
 "nbformat_minor": 2
}
