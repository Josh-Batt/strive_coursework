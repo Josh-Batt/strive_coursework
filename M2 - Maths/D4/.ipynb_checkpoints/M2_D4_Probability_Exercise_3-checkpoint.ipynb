{
 "cells": [
  {
   "cell_type": "markdown",
   "id": "aerial-slope",
   "metadata": {},
   "source": [
    "#### Exercise 3: which is the probability of picking up a green ball if you are using the red box?"
   ]
  },
  {
   "cell_type": "code",
   "execution_count": 1,
   "id": "backed-transportation",
   "metadata": {},
   "outputs": [
    {
     "data": {
      "text/plain": [
       "0.25"
      ]
     },
     "execution_count": 1,
     "metadata": {},
     "output_type": "execute_result"
    }
   ],
   "source": [
    "condition = 2\n",
    "possible = 8\n",
    "\n",
    "probability = 2/8\n",
    "probability"
   ]
  }
 ],
 "metadata": {
  "kernelspec": {
   "display_name": "Python 3",
   "language": "python",
   "name": "python3"
  },
  "language_info": {
   "codemirror_mode": {
    "name": "ipython",
    "version": 3
   },
   "file_extension": ".py",
   "mimetype": "text/x-python",
   "name": "python",
   "nbconvert_exporter": "python",
   "pygments_lexer": "ipython3",
   "version": "3.8.8"
  }
 },
 "nbformat": 4,
 "nbformat_minor": 5
}
