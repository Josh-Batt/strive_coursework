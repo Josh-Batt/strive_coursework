{
 "cells": [
  {
   "cell_type": "code",
   "execution_count": 2,
   "id": "latin-director",
   "metadata": {},
   "outputs": [],
   "source": [
    "import numpy as np"
   ]
  },
  {
   "cell_type": "markdown",
   "id": "varied-warren",
   "metadata": {},
   "source": [
    "**72. How to swap two rows of an array?**"
   ]
  },
  {
   "cell_type": "code",
   "execution_count": 21,
   "id": "economic-cartridge",
   "metadata": {},
   "outputs": [
    {
     "data": {
      "text/plain": [
       "array([[1, 2, 3],\n",
       "       [4, 5, 6],\n",
       "       [7, 8, 9]])"
      ]
     },
     "execution_count": 21,
     "metadata": {},
     "output_type": "execute_result"
    }
   ],
   "source": [
    "arr = np.array([[1, 2, 3], [4, 5, 6], [7, 8 ,9]])\n",
    "arr"
   ]
  },
  {
   "cell_type": "code",
   "execution_count": 22,
   "id": "sixth-malpractice",
   "metadata": {},
   "outputs": [
    {
     "data": {
      "text/plain": [
       "array([[4, 5, 6],\n",
       "       [1, 2, 3],\n",
       "       [7, 8, 9]])"
      ]
     },
     "execution_count": 22,
     "metadata": {},
     "output_type": "execute_result"
    }
   ],
   "source": [
    "arr[[0, 1]] = arr[[1, 0]]\n",
    "arr"
   ]
  },
  {
   "cell_type": "markdown",
   "id": "thrown-canon",
   "metadata": {},
   "source": [
    "**75. How to compute averages using a sliding window over an array?**"
   ]
  },
  {
   "cell_type": "markdown",
   "id": "accessible-detector",
   "metadata": {},
   "source": [
    "**My solution:**"
   ]
  },
  {
   "cell_type": "code",
   "execution_count": 55,
   "id": "surface-collectible",
   "metadata": {},
   "outputs": [
    {
     "data": {
      "text/plain": [
       "3.5"
      ]
     },
     "execution_count": 55,
     "metadata": {},
     "output_type": "execute_result"
    }
   ],
   "source": [
    "### Wasn't 100% on concept of sliding window, don't know if this is correct. The average of a given array is calculated.\n",
    "arr = np.array([[1, 2, 3], [4, 5 ,6]])\n",
    "arr\n",
    "sum_arr = np.cumsum(arr, dtype = float)\n",
    "average = sum_arr[-1] / len(sum_arr) \n",
    "average"
   ]
  },
  {
   "cell_type": "markdown",
   "id": "surface-twenty",
   "metadata": {},
   "source": [
    "**Previous attempt:**"
   ]
  },
  {
   "cell_type": "code",
   "execution_count": 54,
   "id": "latin-adult",
   "metadata": {},
   "outputs": [],
   "source": [
    "### Found this online when looking for sliding windows, helped me understand .cumsum and the logic for my solution\n",
    "\n",
    "# def moving_average(a, n=3) :\n",
    "#     ret = np.cumsum(a, dtype=float)\n",
    "#     ret[n:] = ret[n:] - ret[:-n]\n",
    "#     return ret[n - 1:] / n\n",
    "\n",
    "# a = np.arange(20)\n",
    "# moving_average(a)"
   ]
  },
  {
   "cell_type": "code",
   "execution_count": null,
   "id": "official-diamond",
   "metadata": {},
   "outputs": [],
   "source": []
  }
 ],
 "metadata": {
  "kernelspec": {
   "display_name": "Python 3",
   "language": "python",
   "name": "python3"
  },
  "language_info": {
   "codemirror_mode": {
    "name": "ipython",
    "version": 3
   },
   "file_extension": ".py",
   "mimetype": "text/x-python",
   "name": "python",
   "nbconvert_exporter": "python",
   "pygments_lexer": "ipython3",
   "version": "3.8.8"
  }
 },
 "nbformat": 4,
 "nbformat_minor": 5
}
