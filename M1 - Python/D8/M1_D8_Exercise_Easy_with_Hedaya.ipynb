{
 "cells": [
  {
   "cell_type": "code",
   "execution_count": 1,
   "metadata": {
    "cell_id": "00000-d54a8390-b779-4e66-a209-35c4d3a583a4",
    "deepnote_cell_type": "code",
    "deepnote_to_be_reexecuted": false,
    "execution_millis": 68,
    "execution_start": 1616594044526,
    "source_hash": "1299f7c5",
    "tags": []
   },
   "outputs": [],
   "source": [
    "import requests\n",
    "from bs4 import BeautifulSoup\n",
    "\n",
    "import pandas as pd\n",
    "import numpy as np"
   ]
  },
  {
   "cell_type": "code",
   "execution_count": 2,
   "metadata": {
    "cell_id": "00001-3f9e0f78-649b-4f3f-b5a9-a88ad10352c5",
    "deepnote_cell_type": "code",
    "deepnote_to_be_reexecuted": false,
    "execution_millis": 230,
    "execution_start": 1616599193011,
    "output_cleared": false,
    "source_hash": "6d2ad486",
    "tags": []
   },
   "outputs": [
    {
     "name": "stderr",
     "output_type": "stream",
     "text": [
      "C:\\Users\\joshb\\anaconda3\\envs\\Strive_AI\\lib\\site-packages\\numpy\\core\\_asarray.py:102: VisibleDeprecationWarning: Creating an ndarray from ragged nested sequences (which is a list-or-tuple of lists-or-tuples-or ndarrays with different lengths or shapes) is deprecated. If you meant to do this, you must specify 'dtype=object' when creating the ndarray.\n",
      "  return array(a, dtype, copy=False, order=order)\n"
     ]
    }
   ],
   "source": [
    "### All comments are previous attempts at solving this, thought best to leave in as some yeild results\n",
    "\n",
    "page = requests.get(\"https://forecast.weather.gov/MapClick.php?lat=37.777120000000025&lon=-122.41963999999996\")\n",
    "soup = BeautifulSoup(page.content, \"html.parser\")\n",
    "list(soup.children)\n",
    "html = list(soup.children)[2] # Cleaning up WHOLE list, gives you the main content of page info\n",
    "list(html.children) # Navigate main children of site, layers of children\n",
    "body = list(html.children)[3]\n",
    "# container = list(body.children)[1]\n",
    "# content = list(container.children)[2]\n",
    "#content\n",
    "\n",
    "#body # Base to work from\n",
    "#print(body.prettify())\n",
    "#tables = body.find_all('div' , id = re.compile(\"detailed-forecast\")\n",
    "#tables\n",
    "\n",
    "table1 = body.find(id=\"detailed-forecast-body\")\n",
    "clean_table = table1.prettify\n",
    "table2 = body.find(id = \"seven-day-forecast-container\")\n",
    "table2\n",
    "rows = list()\n",
    "for tr in table1:\n",
    "    td = table1.find_all('b')\n",
    "    row = [i.text for i in td]\n",
    "    rows.append(row)\n",
    "\n",
    "rows\n",
    "\n",
    "dates = np.arange('2021-03-24', '2021-03-31', dtype='datetime64[D]')\n",
    "#df['date_col'] = df['date_col'].apply(pd.datetools.normalize_date) # USE after turned into data frame\n",
    "dates = dates[0]\n",
    "dates\n",
    "\n",
    "### Trying to turn into DataFrame\n",
    "\n",
    "fixed = np.reshape(table2, (6,3))\n",
    "\n",
    "df = pd.DataFrame(fixed)\n",
    "\n",
    "#df.drop()\n",
    "\n",
    "#a = np.array(['one', 'two'])\n",
    "#b = np.array(['a', 'b'])\n",
    "#cols = pd.MultiIndex.from_product([a, b])\n",
    "\n",
    "#pd.DataFrame(fixed.T(2, -1), columns=cols)\n",
    "\n",
    "## KEEP----------------------------\n",
    "# inside_brackets = False\n",
    "# good_list = []\n",
    "# bad_list = []\n",
    "\n",
    "# for word in table1:\n",
    "#     if word == \"<\":\n",
    "#         inside_brackets == True\n",
    "#     if word == \">\":\n",
    "#         inside_brackets == False\n",
    "#         if inside_brackets == False:\n",
    "#             good_list = word\n",
    "# good_list-\n",
    "##-------------------------------\n",
    "#type()\n",
    "\n",
    "#My_string = table1.string.extract()\n",
    "# New_text = table1.a\n",
    "# New_text\n",
    "# clean_table = \" \".join(table1)\n",
    "# clean_table\n",
    "\n",
    "# #df = pd.DataFrame(table1)\n",
    "\n",
    "# df.to_csv(\"SevenDays.CSV\")\n",
    "# df = pd.read_csv(\"SevenDays.CSV\")\n",
    "# print(df)\n"
   ]
  },
  {
   "cell_type": "code",
   "execution_count": 3,
   "metadata": {
    "cell_id": "00002-1fa1f744-6fba-436a-9f9b-1c653e69b115",
    "deepnote_cell_type": "code",
    "deepnote_to_be_reexecuted": false,
    "execution_millis": 0,
    "execution_start": 1616598315846,
    "source_hash": "974ab448",
    "tags": []
   },
   "outputs": [],
   "source": [
    "# table2\n",
    "# df = pd.DataFrame(table2)\n",
    "# df"
   ]
  },
  {
   "cell_type": "code",
   "execution_count": 4,
   "metadata": {
    "cell_id": "00003-cbe14473-6765-40ff-b585-1424a084ee68",
    "deepnote_cell_type": "code",
    "deepnote_to_be_reexecuted": false,
    "execution_millis": 12,
    "execution_start": 1616599849146,
    "source_hash": "93f44490",
    "tags": []
   },
   "outputs": [
    {
     "data": {
      "text/plain": [
       "<div class=\"panel-body\" id=\"detailed-forecast-body\">\n",
       "<div class=\"row row-odd row-forecast\"><div class=\"col-sm-2 forecast-label\"><b>This Afternoon</b></div><div class=\"col-sm-10 forecast-text\">Mostly sunny, with a high near 66. North wind 5 to 13 mph becoming west. </div></div><div class=\"row row-even row-forecast\"><div class=\"col-sm-2 forecast-label\"><b>Tonight</b></div><div class=\"col-sm-10 forecast-text\">Partly cloudy, with a low around 48. West wind 10 to 17 mph, with gusts as high as 23 mph. </div></div><div class=\"row row-odd row-forecast\"><div class=\"col-sm-2 forecast-label\"><b>Thursday</b></div><div class=\"col-sm-10 forecast-text\">Sunny, with a high near 61. West wind 7 to 17 mph, with gusts as high as 23 mph. </div></div><div class=\"row row-even row-forecast\"><div class=\"col-sm-2 forecast-label\"><b>Thursday Night</b></div><div class=\"col-sm-10 forecast-text\">Clear, with a low around 46. Northwest wind 5 to 14 mph, with gusts as high as 18 mph. </div></div><div class=\"row row-odd row-forecast\"><div class=\"col-sm-2 forecast-label\"><b>Friday</b></div><div class=\"col-sm-10 forecast-text\">Sunny, with a high near 69. North wind 8 to 10 mph. </div></div><div class=\"row row-even row-forecast\"><div class=\"col-sm-2 forecast-label\"><b>Friday Night</b></div><div class=\"col-sm-10 forecast-text\">Clear, with a low around 47.</div></div><div class=\"row row-odd row-forecast\"><div class=\"col-sm-2 forecast-label\"><b>Saturday</b></div><div class=\"col-sm-10 forecast-text\">Sunny, with a high near 74.</div></div><div class=\"row row-even row-forecast\"><div class=\"col-sm-2 forecast-label\"><b>Saturday Night</b></div><div class=\"col-sm-10 forecast-text\">Clear, with a low around 49.</div></div><div class=\"row row-odd row-forecast\"><div class=\"col-sm-2 forecast-label\"><b>Sunday</b></div><div class=\"col-sm-10 forecast-text\">Sunny, with a high near 69.</div></div><div class=\"row row-even row-forecast\"><div class=\"col-sm-2 forecast-label\"><b>Sunday Night</b></div><div class=\"col-sm-10 forecast-text\">Mostly clear, with a low around 49.</div></div><div class=\"row row-odd row-forecast\"><div class=\"col-sm-2 forecast-label\"><b>Monday</b></div><div class=\"col-sm-10 forecast-text\">Sunny, with a high near 66.</div></div><div class=\"row row-even row-forecast\"><div class=\"col-sm-2 forecast-label\"><b>Monday Night</b></div><div class=\"col-sm-10 forecast-text\">Clear, with a low around 48.</div></div><div class=\"row row-odd row-forecast\"><div class=\"col-sm-2 forecast-label\"><b>Tuesday</b></div><div class=\"col-sm-10 forecast-text\">Sunny, with a high near 69.</div></div> </div>"
      ]
     },
     "execution_count": 4,
     "metadata": {},
     "output_type": "execute_result"
    }
   ],
   "source": [
    "table1\n"
   ]
  },
  {
   "cell_type": "code",
   "execution_count": 5,
   "metadata": {
    "cell_id": "00004-0340d881-24b2-4804-8522-4185d4fb4264",
    "deepnote_cell_type": "code",
    "tags": []
   },
   "outputs": [],
   "source": [
    "### Played around with this function found online to help clean text\n",
    "\n",
    "def getAdditionalDetails(url):\n",
    "    try:\n",
    "        country_page = getHTMLContent('https://en.wikipedia.org' + url)\n",
    "        table = country_page.find('table', {'class': 'infobox geography vcard'})\n",
    "        additional_details = []\n",
    "        read_content = False\n",
    "        for tr in table.find_all('tr'):\n",
    "            if (tr.get('class') == ['mergedtoprow'] and not read_content):\n",
    "                link = tr.find('a')\n",
    "                if (link and (link.get_text().strip() == 'Area' or\n",
    "                   (link.get_text().strip() == 'GDP' and tr.find('span').get_text().strip() == '(nominal)'))):\n",
    "                    read_content = True\n",
    "                if (link and (link.get_text().strip() == 'Population')):\n",
    "                    read_content = False\n",
    "            elif ((tr.get('class') == ['mergedrow'] or tr.get('class') == ['mergedbottomrow']) and read_content):\n",
    "                additional_details.append(tr.find('td').get_text().strip('\\n')) \n",
    "                if (tr.find('div').get_text().strip() != '•\\xa0Total area' and\n",
    "                   tr.find('div').get_text().strip() != '•\\xa0Total'):\n",
    "                    read_content = False\n",
    "        return additional_details\n",
    "    except Exception as error:\n",
    "        print('Error occured: {}'.format(error))\n",
    "        return []"
   ]
  },
  {
   "cell_type": "code",
   "execution_count": 6,
   "metadata": {
    "cell_id": "00005-86539d65-9aef-425f-bb67-f8dd3278d3db",
    "deepnote_cell_type": "code",
    "deepnote_to_be_reexecuted": false,
    "execution_millis": 6,
    "execution_start": 1616600996469,
    "source_hash": "bfdb9c59",
    "tags": []
   },
   "outputs": [
    {
     "data": {
      "text/plain": [
       "[]"
      ]
     },
     "execution_count": 6,
     "metadata": {},
     "output_type": "execute_result"
    }
   ],
   "source": [
    "WeatherDteails = list()\n",
    "weekDay = list()\n",
    "for tr in table1.find_all('row row-even row-forecastv'):\n",
    "    if (tr.get(\"class\")) == ['col-sm-2 forecast-label']:\n",
    "        link = tr.find('b')\n",
    "        weekDay.append(link)\n",
    "    elif (tr.get(\"class\")) == ['col-sm-10 forecast-text']:\n",
    "        text = tr.set_text()\n",
    "        WeatherDteails.append(text)\n",
    "weekDay"
   ]
  },
  {
   "cell_type": "code",
   "execution_count": 7,
   "metadata": {
    "cell_id": "00006-6f719e47-8782-4698-89fa-f2e93117e782",
    "deepnote_cell_type": "code",
    "deepnote_to_be_reexecuted": false,
    "execution_millis": 7,
    "execution_start": 1616600002792,
    "source_hash": "f6391b98",
    "tags": []
   },
   "outputs": [
    {
     "data": {
      "text/plain": [
       "'\\nThis AfternoonMostly sunny, with a high near 66. North wind 5 to 13 mph becoming west. TonightPartly cloudy, with a low around 48. West wind 10 to 17 mph, with gusts as high as 23 mph. ThursdaySunny, with a high near 61. West wind 7 to 17 mph, with gusts as high as 23 mph. Thursday NightClear, with a low around 46. Northwest wind 5 to 14 mph, with gusts as high as 18 mph. FridaySunny, with a high near 69. North wind 8 to 10 mph. Friday NightClear, with a low around 47.SaturdaySunny, with a high near 74.Saturday NightClear, with a low around 49.SundaySunny, with a high near 69.Sunday NightMostly clear, with a low around 49.MondaySunny, with a high near 66.Monday NightClear, with a low around 48.TuesdaySunny, with a high near 69. '"
      ]
     },
     "execution_count": 7,
     "metadata": {},
     "output_type": "execute_result"
    }
   ],
   "source": [
    "our_text = table1.get_text()\n",
    "our_text"
   ]
  },
  {
   "cell_type": "markdown",
   "metadata": {
    "created_in_deepnote_cell": true,
    "deepnote_cell_type": "markdown",
    "tags": []
   },
   "source": [
    "<a style='text-decoration:none;line-height:16px;display:flex;color:#5B5B62;padding:10px;justify-content:end;' href='https://deepnote.com?utm_source=created-in-deepnote-cell&projectId=d74ae634-fdbb-4e40-be67-dcf1f724860a' target=\"_blank\">\n",
    "<img style='display:inline;max-height:16px;margin:0px;margin-right:7.5px;' src='data:image/svg+xml;base64,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' > </img>\n",
    "Created in <span style='font-weight:600;margin-left:4px;'>Deepnote</span></a>"
   ]
  }
 ],
 "metadata": {
  "deepnote": {},
  "deepnote_execution_queue": [],
  "deepnote_notebook_id": "d11d4e08-c854-4985-beff-e2f81ffd7e20",
  "kernelspec": {
   "display_name": "Python 3",
   "language": "python",
   "name": "python3"
  },
  "language_info": {
   "codemirror_mode": {
    "name": "ipython",
    "version": 3
   },
   "file_extension": ".py",
   "mimetype": "text/x-python",
   "name": "python",
   "nbconvert_exporter": "python",
   "pygments_lexer": "ipython3",
   "version": "3.8.8"
  }
 },
 "nbformat": 4,
 "nbformat_minor": 2
}
