{
 "cells": [
  {
   "cell_type": "code",
   "execution_count": 1,
   "id": "linear-seating",
   "metadata": {},
   "outputs": [
    {
     "data": {
      "text/plain": [
       "(2, 1, 7, 8)"
      ]
     },
     "execution_count": 1,
     "metadata": {},
     "output_type": "execute_result"
    }
   ],
   "source": [
    "def nested_nest():\n",
    "    for a in range(1,10):\n",
    "        for b in range(1,10):\n",
    "            for c in range(1,10):\n",
    "                for d in range(1,10):\n",
    "                    if 4*((a*1000) + (b*100) + (c*10) + d) == (d*1000) + (c*100) + (b*10) + a:\n",
    "                        return a, b, c, d\n",
    "nested_nest()"
   ]
  },
  {
   "cell_type": "code",
   "execution_count": null,
   "id": "harmful-seminar",
   "metadata": {},
   "outputs": [],
   "source": []
  }
 ],
 "metadata": {
  "kernelspec": {
   "display_name": "Python 3",
   "language": "python",
   "name": "python3"
  },
  "language_info": {
   "codemirror_mode": {
    "name": "ipython",
    "version": 3
   },
   "file_extension": ".py",
   "mimetype": "text/x-python",
   "name": "python",
   "nbconvert_exporter": "python",
   "pygments_lexer": "ipython3",
   "version": "3.8.8"
  }
 },
 "nbformat": 4,
 "nbformat_minor": 5
}
