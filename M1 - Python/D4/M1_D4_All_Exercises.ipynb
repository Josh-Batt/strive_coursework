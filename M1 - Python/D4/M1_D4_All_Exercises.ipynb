{
 "cells": [
  {
   "cell_type": "markdown",
   "id": "seeing-rouge",
   "metadata": {},
   "source": [
    "# PART 6"
   ]
  },
  {
   "cell_type": "markdown",
   "id": "buried-closing",
   "metadata": {},
   "source": [
    "**Exercise 6.1:** The text string in the next cell contains several words which are enclosed by square brackets ([ and ]). Scan the string and print out all words which are between square brackets. For example, if the text string would be \"[a]n example[ string]\", you are expected to print out \"a string\".\n",
    "\n",
    "Text that needs to be in square brackets:\n",
    "\n",
    "Never gonna give you up\n",
    "Never gonna let you down\n",
    "Never gonna run around and desert you"
   ]
  },
  {
   "cell_type": "markdown",
   "id": "interstate-strand",
   "metadata": {},
   "source": [
    "**My solution:**"
   ]
  },
  {
   "cell_type": "code",
   "execution_count": null,
   "id": "textile-gamma",
   "metadata": {},
   "outputs": [],
   "source": [
    "text = '''[Never] would the man look for the duck at the lake. \n",
    "He was [gonna] have to [give] the duck some space, perhaps [you] could look him [up].\n",
    "[Never] said the man! He was [gonna] have to [let] the people know that [you] were going [down].\n",
    "[Never] said the people! They weren't [gonna] let him [run] things here. They went [around] before seeing\n",
    "food [and] ended up eating [desert]. Without [you].\n",
    "'''\n",
    "### Had to be inspired by the soultion in the end. Use of inside_bracket was much easier\n",
    "# Learned about the importance of using the right iteration of IF, \n",
    "# ELIF or ELSE (1st attempted tried all IFs)\n",
    "\n",
    "output_text = \"\"\n",
    "inside_bracket = False\n",
    "\n",
    "for word in text:\n",
    "    if word == \"[\":\n",
    "        inside_bracket = True\n",
    "    elif word == \"]\":\n",
    "        inside_bracket = False\n",
    "        output_text += \" \"\n",
    "    else:\n",
    "        if inside_bracket:\n",
    "            output_text += word\n",
    "            \n",
    "new_line = False # doesnt work           \n",
    "    \n",
    "for sentence in output_text:\n",
    "    if sentence in output_text == output_text.upper:\n",
    "        new_line = True\n",
    "        if new_line == True:\n",
    "            output_text += \"\\n\"\n",
    "    else:\n",
    "        new_line = False\n",
    "        \n",
    "print(output_text)"
   ]
  },
  {
   "cell_type": "markdown",
   "id": "arranged-mobile",
   "metadata": {},
   "source": [
    "**Previous attempts:**"
   ]
  },
  {
   "cell_type": "code",
   "execution_count": null,
   "id": "occasional-python",
   "metadata": {},
   "outputs": [],
   "source": [
    "### DOESNT WORK, when it does work it prints horrible spaced out words\n",
    "# list_text = []\n",
    "\n",
    "# clean_text = text.strip().replace(\".\", \"\")\n",
    "\n",
    "# for word in clean_text.split():\n",
    "#     if word.startswith(\"[\"):\n",
    "#         list_text.append(word)\n",
    "#     if word[0].upper:\n",
    "#         list_text.append(\"\\n\")      \n",
    "#------------------------------------------------------------------------------\n",
    "### WORKS but rough: Played with .join to turn lists back to strings\n",
    "# spacer = \" \"        \n",
    "# real_text = spacer.join(list_text)\n",
    "# real_text = real_text.replace(\"[\", \"\").replace(\"]\", \"\").replace(\".\", \"\")\n",
    "# print(real_text, spacer)\n",
    "# PRINT = [Never] [gonna] [give] [you] [up]. [Never] [gonna] [let] [you] [down]. \n",
    "# [Never] [gonna] [run] [around] [and] [desert]. [you]."
   ]
  },
  {
   "cell_type": "markdown",
   "id": "arabic-skill",
   "metadata": {},
   "source": [
    "**Exercise 6.2:** Print a line of all the capital letters \"A\" to \"Z\". Below it, print a line of the letters that are 13 positions in the alphabet away from the letters that are above them. E.g., below the \"A\" you print an \"N\", below the \"B\" you print an \"O\", etcetera. You have to consider the alphabet to be circular, i.e., after the \"Z\", it loops back to the \"A\" again."
   ]
  },
  {
   "cell_type": "markdown",
   "id": "surgical-authorization",
   "metadata": {},
   "source": [
    "**My Solution: Not working**"
   ]
  },
  {
   "cell_type": "code",
   "execution_count": null,
   "id": "imperial-compound",
   "metadata": {},
   "outputs": [],
   "source": [
    "### After looking at the solution I was still puzzled on how to solve this.\n",
    "# Learnt:\n",
    "# Learned about enumerate after seeing the soultion, the ability to\n",
    "# see the the index and set it on a FOR loop.\n",
    "\n",
    "# My Thinking:\n",
    "# Wanted to pull the 12th index from string and add it to shifted string\n",
    "# FOR loop through until len of order string was == to len of crazy string\n",
    "# Wasn't able to figure this out in time.\n",
    "\n",
    "order_letters = \"ABCDEFGHIJKLMNOPQRSTUVWXYZ\"\n",
    "\n",
    "\n",
    "\n",
    "def shifting():\n",
    "    crazy_letters = []\n",
    "    while len(crazy_letters) != len(order_letters):\n",
    "        for i, letter in enumerate(order_letters):\n",
    "            if i == 12:\n",
    "                str(crazy_letters) += i\n",
    "    print(crazy_letters)\n",
    "    return\n",
    "shifting()\n",
    "\n",
    "\n"
   ]
  },
  {
   "cell_type": "markdown",
   "id": "automatic-effort",
   "metadata": {},
   "source": [
    "**Solution breakdown:**"
   ]
  },
  {
   "cell_type": "code",
   "execution_count": null,
   "id": "biblical-candy",
   "metadata": {},
   "outputs": [],
   "source": [
    "letters = \"ABCDEFGHIJKLMNOPQRSTUVWXYZ\"\n",
    "\n",
    "def shifter(msg,key): # not sure how the program knows msg = letters\n",
    "    print(f\"Initial alphabet:\\t{msg}\") # learned \\t means tab space\n",
    "    print(f\"Shifting positions:\\t{key}\")\n",
    "    new_msg = []\n",
    "    for i, char in enumerate(msg): # enumerate to give both key and value\n",
    "        new_pos = (i + key) % len(msg) # i is index of msg = letters. key is shift amount. Shift % letter length?\n",
    "        new_msg.append(msg[new_pos]) # append new_pos holder to new_msg list\n",
    "    print(f\"Shifted alphabet:\\t{''.join(new_msg)}\") # .join turns list back to string\n",
    "    \n",
    "shifter(letters, 13)"
   ]
  },
  {
   "cell_type": "markdown",
   "id": "indonesian-seating",
   "metadata": {},
   "source": [
    "**Previous attempts:**"
   ]
  },
  {
   "cell_type": "code",
   "execution_count": null,
   "id": "internal-steal",
   "metadata": {},
   "outputs": [],
   "source": [
    "### Previous Attempt\n",
    "# crazy_letters = \"\"\n",
    "# order_letters = \"ABCDEFGHIJKLMNOPQRSTUVWXYZ\"\n",
    "\n",
    "# while len(crazy_letters) != len(order_letters)\n",
    "    # for letter in order_letters:\n",
    "    #     crazy_letters = crazy_letters + order_letters[12]\n",
    "# print(crazy_letters)"
   ]
  },
  {
   "cell_type": "markdown",
   "id": "independent-brisbane",
   "metadata": {},
   "source": [
    "**Learning/Testing:**"
   ]
  },
  {
   "cell_type": "code",
   "execution_count": null,
   "id": "reverse-pencil",
   "metadata": {},
   "outputs": [],
   "source": [
    "### Learning enumerate\n",
    "# grocery = ['bread', 'milk', 'butter']\n",
    "# enumerateGrocery = enumerate(grocery)\n",
    "\n",
    "# for i, items in enumerate(grocery):\n",
    "#     print(i, items)"
   ]
  },
  {
   "cell_type": "markdown",
   "id": "micro-montana",
   "metadata": {},
   "source": [
    "**Exercise 6.3:** In the text below, count how often the word \"wood\" occurs (using program code, of course). Capitals and lower case letters may both be used, and you have to consider that the word \"wood\" should be a separate word, and not part of another word. Hint: If you did the exercises from this chapter, you already developed a function that \"cleans\" a text. Combining that function with the split() function more or less solves the problem for you."
   ]
  },
  {
   "cell_type": "markdown",
   "id": "recent-portal",
   "metadata": {},
   "source": [
    "**My solution:**"
   ]
  },
  {
   "cell_type": "code",
   "execution_count": null,
   "id": "devoted-thought",
   "metadata": {},
   "outputs": [],
   "source": [
    "def wood_counter():\n",
    "    text = \"\"\"How much wood would a woodchuck chuck\n",
    "If a woodchuck could chuck wood?\n",
    "He would chuck, he would, as much as he could,\n",
    "And chuck as much as a woodchuck would\n",
    "If a Mr. Smith could chuck wood\\n\\r\\t.\"\"\"\n",
    "    \n",
    "    clean_text = text.strip().replace(\"?\", \"\").replace(\".\", \"\").replace(\",\", \"\").replace(\"\\n\", \" \").replace(\"\\r\", \"\").replace(\"\\t\", \"\").lower()\n",
    "    text_list = list(clean_text.split(\" \"))\n",
    "    \n",
    "    counter = 0\n",
    "    \n",
    "    for word in text_list:\n",
    "        if word == \"wood\":\n",
    "            counter += 1\n",
    "    \n",
    "    #Exercise answer\n",
    "    print(counter)\n",
    "    \n",
    "    return\n",
    "wood_counter()"
   ]
  },
  {
   "cell_type": "markdown",
   "id": "overhead-albania",
   "metadata": {},
   "source": [
    "# PART 7"
   ]
  },
  {
   "cell_type": "markdown",
   "id": "amended-inventory",
   "metadata": {},
   "source": [
    "**Exercise 11.1**\n",
    "Write a program that reads the contents of the file \"blakepoems.txt\", splits it into words (where everything that is not a letter is considered a word boundary), and case-insensitively builds a dictionary that stores for every word how often it occurs in the text. Then print all the words with their quantities in alphabetical order."
   ]
  },
  {
   "cell_type": "markdown",
   "id": "promotional-bruce",
   "metadata": {},
   "source": [
    "**My solution:**"
   ]
  },
  {
   "cell_type": "code",
   "execution_count": null,
   "id": "occupational-silver",
   "metadata": {},
   "outputs": [],
   "source": [
    "blake_file = open(\"E:\\\\My_Docs\\\\Strive_School\\\\Strive_School_Environment\\\\blakepoems.txt\", \"r\")\n",
    "blake_text = blake_file.read()\n",
    "blake_text = blake_text.lower().replace(\".\", \" \").replace(\",\", \" \").replace(\"\\\"\", \" \").replace(\"\\n\", \" \")\\\n",
    ".replace(\"-\", \" \").replace(\"[\", \" \").replace(\"]\", \" \").replace(\";\", \" \").replace(\":\", \" \").replace(\"!\", \" \")\n",
    "clean_text = blake_text.split(\" \")\n",
    "text_dict = {}\n",
    "count = 0\n",
    "for word in clean_text:\n",
    "    if word in text_dict.keys():\n",
    "        text_dict[word] += 1\n",
    "    else:\n",
    "        text_dict[word] = 1\n",
    "print(text_dict)"
   ]
  },
  {
   "cell_type": "markdown",
   "id": "statutory-istanbul",
   "metadata": {},
   "source": [
    "**Solution breakdown:**"
   ]
  },
  {
   "cell_type": "code",
   "execution_count": null,
   "id": "descending-mechanics",
   "metadata": {},
   "outputs": [],
   "source": [
    "def readfile(file): # should have broken up my cell into smaller functions\n",
    "    with open(\"E:\\\\My_Docs\\\\Strive_School\\\\Strive_School_Environment\\\\blakepoems.txt\", \"r\") as text_file:\n",
    "        contents = text_file.read()\n",
    "    return contents # made var = text file as string\n",
    "\n",
    "def clean_all_file(contents):\n",
    "    text = contents.replace(\"\\n\", \" \")\n",
    "    alpha_txt =''.join(e for e in text if e.isalnum() or e == \" \") # .join but nothing declared to turn into string?\n",
    "    # dont understand for loop structure: e for e in text if e.isalnum() or e == \" \".isalnum used to only get relevant data\n",
    "    \n",
    "    clean_list = alpha_txt.lower().strip().split()\n",
    "    return clean_list\n",
    "\n",
    "def build_dict(l): \n",
    "    d = dict() \n",
    "    for word in clean_list: # doesnt call clean_list function. Unless l is ment to be clean_list?\n",
    "        if word in d: \n",
    "            d[word] = d[word] + 1 # adding to word count\n",
    "        else: \n",
    "            d[word] = 1 # leave as 1\n",
    "    return d\n",
    "\n",
    "def main():\n",
    "    c = readfile(\"./text-files/blakepoems.txt\") # dont understand new var readfile?\n",
    "    l = clean_all_file(c) # l(list?) using clean_file function (c?)\n",
    "    d = build_dict(l) # build dictionary from list?\n",
    "    print(sorted(d.items())[0:100]) # sorted to give alphabetical, 0:100 to keep list from being too long\n",
    "\n",
    "if __name__ == \"__main__\": # dont understand this yet\n",
    "    main()"
   ]
  },
  {
   "cell_type": "markdown",
   "id": "known-papua",
   "metadata": {},
   "source": [
    "**Exercise 11.2**\n",
    "Do the same thing as you did for the previous exercise, but now process the text line by line. This is something that you would have to do if you had to process a very long text (as it is the case)."
   ]
  },
  {
   "cell_type": "markdown",
   "id": "incomplete-neighbor",
   "metadata": {},
   "source": [
    "**My solution:**"
   ]
  },
  {
   "cell_type": "code",
   "execution_count": null,
   "id": "judicial-recovery",
   "metadata": {},
   "outputs": [],
   "source": [
    "### Original attempt\n",
    "# Works but doesnt do exactly whats asked\n",
    "\n",
    "blake_file = open(\"E:\\\\My_Docs\\\\Strive_School\\\\Strive_School_Environment\\\\blakepoems.txt\", \"r\")\n",
    "blake_text = blake_file.read()\n",
    "blake_text = blake_text.lower().replace(\".\", \" \").replace(\",\", \" \").replace(\"\\\"\", \" \").replace(\"\\n\", \" \")\\\n",
    ".replace(\"-\", \" \").replace(\"[\", \" \").replace(\"]\", \" \").replace(\";\", \" \").replace(\":\", \" \").replace(\"!\", \" \")\n",
    "clean_text = blake_text.split(\" \")\n",
    "text_dict = {}\n",
    "count = 0\n",
    "for word in clean_text:\n",
    "    if word in text_dict.keys():\n",
    "        text_dict[word] += 1\n",
    "    else:\n",
    "        text_dict[word] = 1\n",
    "for lines in text_dict.items():\n",
    "    print(lines)"
   ]
  },
  {
   "cell_type": "markdown",
   "id": "novel-census",
   "metadata": {},
   "source": [
    "**Previous attempts:**"
   ]
  },
  {
   "cell_type": "code",
   "execution_count": null,
   "id": "substantial-expert",
   "metadata": {},
   "outputs": [],
   "source": [
    "### Attempt to do 11.2 properly - Based on solution\n",
    "# Learned about .isalnum() = Boolean check if all charaters are nums or letters\n",
    "# Don't understand the for loop structure = x for x in y for z in a\n",
    "\n",
    "# Trouble w Functions and arguments. Returned arguments to be used in other functions, once argument delared need to\n",
    "# run a new argument everytime its called. Not sure how to work around this problem\n",
    "\n",
    "def open_file():\n",
    "    with open(\"E:\\\\My_Docs\\\\Strive_School\\\\Strive_School_Environment\\\\blakepoems.txt\", \"r\") as file:\n",
    "        contents = file.readlines()\n",
    "    return contents\n",
    "\n",
    "def clean_file(contents): # if remove contents then clean_file doesnt understand what contents is\n",
    "    text = contents.replace(\"\\n\", \" \")\n",
    "    clean_txt = \"\"\n",
    "    for word in text:\n",
    "        if word.isalnum:\n",
    "            clean_txt += word\n",
    "        else:\n",
    "            pass\n",
    "    return clean_txt\n",
    "\n",
    "def build_dict():\n",
    "    word_dict = {}\n",
    "    for word in clean_txt:\n",
    "        if word in word_dict.keys():\n",
    "            word_dict[word] += 1\n",
    "        else:\n",
    "            word_dict[word] = 1\n",
    "    return word_dict\n",
    "\n",
    "def main():\n",
    "    open_file()\n",
    "    clean_file() # wants argument for 'contents'. Only have contents so it can be used in the function!\n",
    "    build_dict()\n",
    "    print(sorted(word_dict.items))\n",
    "    return\n",
    "\n",
    "main()"
   ]
  },
  {
   "cell_type": "markdown",
   "id": "vital-emergency",
   "metadata": {},
   "source": [
    "# ADDITIONAL EXERCISES"
   ]
  },
  {
   "cell_type": "markdown",
   "id": "regular-madison",
   "metadata": {},
   "source": [
    "**Exercise 2.2 (optional):** Write code that classifies a given amount of money (which you store in a variable amount), specified in cents, as greater monetary units. Your code lists the monetary equivalent in dollars (100 ct), quarters (25 ct), dimes (10 ct), nickels (5 ct), and pennies (1 ct). Your program should report the maximum number of dollars that fit in the amount, then the maximum number of quarters that fit in the remainder after you subtract the dollars, then the maximum number of dimes that fit in the remainder after you subtract the dollars and quarters, and so on for nickels and pennies. The result is that you express the amount as the minimum number of coins needed."
   ]
  },
  {
   "cell_type": "markdown",
   "id": "atmospheric-familiar",
   "metadata": {},
   "source": [
    "**My solution:**"
   ]
  },
  {
   "cell_type": "code",
   "execution_count": null,
   "id": "amateur-location",
   "metadata": {},
   "outputs": [],
   "source": [
    "def change_convert():\n",
    "    \n",
    "    change_lvl = ['dollars', 'quarters', 'dimes', 'nickles', 'pennies']\n",
    "    \n",
    "    cents = 4576\n",
    "    \n",
    "    change_lvl[0] = cents // 100\n",
    "    cents = cents % 100\n",
    "    \n",
    "    change_lvl[1] = cents // 25\n",
    "    cents = cents % 25\n",
    "    \n",
    "    change_lvl[2] = cents // 10\n",
    "    cents = cents % 10\n",
    "    \n",
    "    change_lvl[3] = cents // 5\n",
    "    cents = cents % 5\n",
    "    \n",
    "    change_lvl[4] = cents // 1\n",
    "    \n",
    "    print(change_lvl)\n",
    "    \n",
    "    return\n",
    "change_convert()"
   ]
  },
  {
   "cell_type": "markdown",
   "id": "standard-silicon",
   "metadata": {},
   "source": [
    "**Exercise (optional):** The factorial of a positive integer is that integer, multiplied by all positive integers that are lower (excluding zero). You write the factorial as the number with an exclamation mark after it. E.g., the factorial of 5 is 5! = 5 * 4 * 3 * 2 * 1 = 120. Write a function that calculates the factorial of its (integer) parameter. Test your function for different parameter values, but do not use very large numbers as factorials grow exponentially. Hint: to do this with a while loop, you need at least one more variable."
   ]
  },
  {
   "cell_type": "markdown",
   "id": "expected-weekend",
   "metadata": {},
   "source": [
    "**My solution:**"
   ]
  },
  {
   "cell_type": "code",
   "execution_count": null,
   "id": "selective-christian",
   "metadata": {
    "scrolled": true
   },
   "outputs": [],
   "source": [
    "def factorial(num): \n",
    "    facto = 1\n",
    "    while num != 0:\n",
    "        facto *= num\n",
    "        num -= 1\n",
    "    return facto\n",
    "factorial(5)"
   ]
  },
  {
   "cell_type": "markdown",
   "id": "synthetic-silly",
   "metadata": {},
   "source": [
    "**Exercise 5.1** (optional): Write a function that prints a multiplication table for digits 1 to 10. A multiplication table for the numbers 1 to num = 3 looks as follows:\n",
    "\n",
    ". |  1  2  3\n",
    "\\------------\n",
    "1 |  1  2  3\n",
    "2 |  2  4  6\n",
    "3 |  3  6  9\n",
    "\n",
    "So the labels on the rows are multiplied by the labels on the columns, and the result is shown in the cell that is on that row/column combination."
   ]
  },
  {
   "cell_type": "markdown",
   "id": "capable-luxury",
   "metadata": {},
   "source": [
    "**My solution:**"
   ]
  },
  {
   "cell_type": "code",
   "execution_count": null,
   "id": "federal-singapore",
   "metadata": {},
   "outputs": [],
   "source": [
    "def print_multiplication_table(n):\n",
    "    \n",
    "    line1 = \". | \"\n",
    "\n",
    "    for rw in range(1, n+1):\n",
    "        rows = str(rw) + \" \"\n",
    "        line1 += str(rows)\n",
    "    print(line1)\n",
    "    line2 = (\"---\" *n) # took from solution, string can be mulitplied by int, but not added to it\n",
    "    print(line2)\n",
    "\n",
    "    for clm in range(1, n+1):\n",
    "        col_line = str(clm) + \" | \"\n",
    "        for calc in range(1, n+1): # from soltion, first time w For loop within For loop\n",
    "            col_line += str(clm*calc) + \" \" # from solution, had to turn into string\n",
    "        print(col_line)\n",
    "    \n",
    "    return\n",
    "\n",
    "print_multiplication_table(3)"
   ]
  },
  {
   "cell_type": "markdown",
   "id": "hairy-coordination",
   "metadata": {},
   "source": [
    "**Exercise 5.2 (optional):** If you did the previous exercise with a while loop, then do it again with a for loop. If you did it with a for loop, then do it again with a while loop. If you did not use a loop at all, you should be ashamed of yourself."
   ]
  },
  {
   "cell_type": "markdown",
   "id": "prepared-meter",
   "metadata": {},
   "source": [
    "**My solution: Not working**"
   ]
  },
  {
   "cell_type": "code",
   "execution_count": null,
   "id": "automated-republic",
   "metadata": {},
   "outputs": [],
   "source": [
    "def print_multiplication_table(n):\n",
    "    \n",
    "    line1 = \". | \"\n",
    "    row_count = 0\n",
    "    \n",
    "    while row_count < n:\n",
    "        row_count += 1\n",
    "        line1 += str(row_count) + \" \"\n",
    "    print(line1)\n",
    "    \n",
    "    line2 = \"---\" *n\n",
    "    print(line2)\n",
    "    \n",
    "    clm_line = \" | \"\n",
    "    clm_count = 0\n",
    "    calc_count = 0\n",
    "\n",
    "    while clm_count < n:\n",
    "        clm_count += 1\n",
    "        clm_line = str(clm_count) + \" | \"\n",
    "        calc = 0 # learned from google you have to put the variable of inner while loop in outer loop\n",
    "        print(clm_line)\n",
    "        \n",
    "        while calc_count < n:\n",
    "            calc_count += 1\n",
    "            calc = n * calc_count\n",
    "            clm_line += str(calc)\n",
    "            #print(clm_line)\n",
    "        #clm_count += 1 : Moved to after inner loop like solution, leads to 0 being printed first\n",
    "    \n",
    "    return\n",
    "\n",
    "print_multiplication_table(5)"
   ]
  },
  {
   "cell_type": "markdown",
   "id": "severe-century",
   "metadata": {},
   "source": [
    "**Solution breakdown:**"
   ]
  },
  {
   "cell_type": "code",
   "execution_count": null,
   "id": "herbal-darkness",
   "metadata": {},
   "outputs": [],
   "source": [
    "def print_multiplication_table(n):\n",
    "    \n",
    "    line1 = str(\".    | \")\n",
    "    x = 1\n",
    "    while x <= n:\n",
    "        line1 += str(x) + \"\\t\" #\\t for tab space\n",
    "        x += 1\n",
    "    \n",
    "    print (line1)\n",
    "    print (\"---------\"*n)\n",
    "    \n",
    "    i = 1 # Should have named my own variable simply. Tried descriptive names but made it more confusing\n",
    "    while i <= n:\n",
    "        line = str(i) + \"    | \" \n",
    "        j = 1\n",
    "        while j <= n:# Understood concept, struggled to implement into my own solution\n",
    "            line += str(i * j) + \"\\t\"\n",
    "            j += 1\n",
    "        i += 1 \n",
    "        print (line)\n",
    "\n",
    "print_multiplication_table(5)"
   ]
  },
  {
   "cell_type": "markdown",
   "id": "metallic-closer",
   "metadata": {},
   "source": [
    "**Exercise 6.5 (optional):** Typical autocorrect functions are the following:\n",
    "\n",
    "1. If a word starts with two capitals, followed by a lower-case letter, the second capital is made lower case;\n",
    "2. If a sentence contains a word that is immediately followed by the same word, the second occurrence is removed;\n",
    "3. If a sentence starts with a lower-case letter, that letter is turned into a capital;\n",
    "4. If a word consists entirely of capitals, except for the first letter which is lower case, then the case of the letters in the word is reversed; and\n",
    "5. If the sentence contains the name of a day (in English) which does not start with a capital, the first letter is turned into a capital.\n",
    "\n",
    "Write a program that takes a sentence and makes these auto-corrections."
   ]
  },
  {
   "cell_type": "markdown",
   "id": "played-remove",
   "metadata": {},
   "source": [
    "**My solution: No time**"
   ]
  },
  {
   "cell_type": "markdown",
   "id": "removable-knock",
   "metadata": {},
   "source": [
    "**Solution breakdown:**"
   ]
  },
  {
   "cell_type": "code",
   "execution_count": null,
   "id": "incorporated-mining",
   "metadata": {},
   "outputs": [],
   "source": [
    "sentence = \"as it turned out our chance meeting with REverend aRTHUR BElling was \\\n",
    "was to change our whole way of life, and every sunday we'd hurry along to St lOONY up the Cream BUn and Jam.\"\n",
    "\n",
    "def main(text): # Argument text is passed in to main when called\n",
    "    \n",
    "    # Everything gets applied to text within main. Run argument text through each one\n",
    "    text = doublewords(text) # Upperlower runs in this, reason its not called\n",
    "    text = capital_s(text)\n",
    "    text = days(text)\n",
    "    return text # Return text after string is cleaned\n",
    "\n",
    "def upperlower(w): # w is argument here, but w is actualy text under main function\n",
    "    if w[0].isupper() and w[1].isupper():\n",
    "        return w.lower().capitalize() # Understand .lower but dont understand why to use .capitalize?\n",
    "        # Learned you can return on IF statment\n",
    "        \n",
    "    return w # Return text case sensative cleaned\n",
    "\n",
    "def doublewords(text):\n",
    "    prev_w = \"\" # Placeholder string?\n",
    "    n_l = []\n",
    "    l = text.lower().split() # General cleaning of text\n",
    "    \n",
    "    for w in l: # For every word inside of cleaned text\n",
    "        w = upperlower(w) # Cleaning text of case issues\n",
    "        \n",
    "        if w != prev_w: # Don't fully understand\n",
    "            n_l.append(w) # Append word to list if not there already\n",
    "        prev_w = w # Placeholder to store doubles\n",
    "        \n",
    "    return \" \".join(n_l) # .join list to create string\n",
    "\n",
    "def capital_s(s):\n",
    "    return s.capitalize() # Function soley to capitalize any text run through it\n",
    "\n",
    "def days(s): # Argument s same as text due to main calling it?\n",
    "    days = [\"monday\", \"tuesday\", \"wednesday\", \"thursday\", \"friday\", \"saturday\", \"sunday\"]\n",
    "    nl = []\n",
    "    for word in s.split(): # Turns text string into list\n",
    "        if word in days:\n",
    "            nl.append(word.capitalize()) # Takes a word from list, if it maches days then makes it captial. Then adds to\n",
    "            # seperate list\n",
    "        else:\n",
    "            nl.append(word) # If its not a day of the week, it doesnt get the capiatlized treatment\n",
    "    return \" \".join(nl) # Turn list back to string w \" \" spacer\n",
    "    \n",
    "if __name__ == \"__main__\": # Don't understand how this works. If you comment it out the program still runs the same?\n",
    "    main(sentence)\n",
    "\n",
    "main(sentence)"
   ]
  },
  {
   "cell_type": "markdown",
   "id": "straight-employer",
   "metadata": {},
   "source": [
    "**Exercise 11.3 (Optional)**\n",
    "In this directory you find a file blakepoems.txt. Write a program that processes the contents of this file, line by line. It creates an output file in the current working directory called blkpms.txt, which has the same contents as blakepoems.txt, except that all the vowels are removed (case-insensitively). At the end, display how many characters you read, and how many characters you wrote. If you want to check the contents of blkpms.txt, you can either open it in a text editor, or display the first 10 lines or so at the end of your program."
   ]
  },
  {
   "cell_type": "markdown",
   "id": "japanese-circumstances",
   "metadata": {},
   "source": [
    "**My solution: No time**"
   ]
  },
  {
   "cell_type": "markdown",
   "id": "immune-guitar",
   "metadata": {},
   "source": [
    "**Solution breakdown:**"
   ]
  },
  {
   "cell_type": "code",
   "execution_count": null,
   "id": "previous-candidate",
   "metadata": {},
   "outputs": [],
   "source": [
    "import re \n",
    "fp = open(\"E:\\\\My_Docs\\\\Strive_School\\\\Strive_School_Environment\\\\blakepoems.txt\", \"r\")\n",
    "\n",
    "def readThelines(f):\n",
    "    while True:\n",
    "        buffer = f.readline() # Turn file from string to list          \n",
    "        if buffer == \"\": # Getting rid of all dead space?\n",
    "            break\n",
    "        processLine(buffer)\n",
    "\n",
    "def processLine(l):\n",
    "    line = re.sub('a|e|i|o|u|A|E|I|O|U', '', l) # .sub from re libary, after reading documentation still unsure what does.\n",
    "    # need to read/play with\n",
    "    createFile(line) # Convayor belt of functions, leads to create file\n",
    "    \n",
    "def createFile(li):\n",
    "    new = open(\"blkpms.txt\", \"a+\") # Appending to end of new file\n",
    "    new.writelines(li) # .writelines allows you to append (a) or overwrite (w) file\n",
    "    \n",
    "def characterCount(x):\n",
    "    y = open(\"blkpms.txt\", \"r\") # Opens new txt to get character count\n",
    "    xd = x.read()\n",
    "    yd = y.read()\n",
    "    charCountOrginal = len(xd)\n",
    "    charCountNew = len(yd)\n",
    "    print(\"Read Characters {}, written characters {}\".format(charCountOrginal, charCountNew)) # Learned about .format\n",
    "    # allows you to attach vars to {} placeholders in a string\n",
    "\n",
    "readThelines(fp) # Turns orignal text file from string to list\n",
    "characterCount(fp) # Run old txt file through to get comparison count"
   ]
  },
  {
   "cell_type": "code",
   "execution_count": null,
   "id": "hourly-heading",
   "metadata": {},
   "outputs": [],
   "source": [
    "def anti_vowel(text):\n",
    "    for i in \"aeiouAEIOU\":\n",
    "        text = text.replace(i,\"\") # Replace vowels with empty string\n",
    "    return text\n",
    "\n",
    "def main():\n",
    "    with open(\"E:\\My_Docs\\Strive_School\\Strive_School_Environment\\Anaconda_Jupyter_Files\\M1\\D4\") as text_file:\n",
    "        file = open('E:\\My_Docs\\Strive_School\\Strive_School_Environment\\Anaconda_Jupyter_Files\\M1\\D4', 'w+')\n",
    "        # Recive error dont have permission to open file. Could be due to being in GitHub folder?\n",
    "        # If the case how will someone who copys repo open without it?\n",
    "        \n",
    "        print(\"Begin.....\")\n",
    "        counter = 0\n",
    "        for line in text_file:\n",
    "            cln = anti_vowel(line) # Var that stores removed vowels from lines data\n",
    "            file.write(cln) # Re-writing file to clean of vowels\n",
    "            if counter % 100 == 0: # Check there are no more lines left to read\n",
    "                print(f\"Writting line {counter}.......\",)\n",
    "            counter +=1\n",
    "                \n",
    "        print(\"Finished!\")    \n",
    "        \n",
    "        file.close()\n",
    "\n",
    "if __name__ == \"__main__\":\n",
    "    main()"
   ]
  }
 ],
 "metadata": {
  "kernelspec": {
   "display_name": "Python 3",
   "language": "python",
   "name": "python3"
  },
  "language_info": {
   "codemirror_mode": {
    "name": "ipython",
    "version": 3
   },
   "file_extension": ".py",
   "mimetype": "text/x-python",
   "name": "python",
   "nbconvert_exporter": "python",
   "pygments_lexer": "ipython3",
   "version": "3.8.8"
  }
 },
 "nbformat": 4,
 "nbformat_minor": 5
}
