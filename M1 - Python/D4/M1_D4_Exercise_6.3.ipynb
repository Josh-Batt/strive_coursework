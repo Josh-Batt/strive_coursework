{
 "cells": [
  {
   "cell_type": "code",
   "execution_count": 37,
   "id": "regulated-restaurant",
   "metadata": {},
   "outputs": [
    {
     "name": "stdout",
     "output_type": "stream",
     "text": [
      "3\n",
      "['how', 'much', 'wood', 'would', 'a', 'woodchuck', 'chuck', 'if', 'a', 'woodchuck', 'could', 'chuck', 'wood', 'he', 'would', 'chuck', 'he', 'would', 'as', 'much', 'as', 'he', 'could', 'and', 'chuck', 'as', 'much', 'as', 'a', 'woodchuck', 'would', 'if', 'a', 'mr', 'smith', 'could', 'chuck', 'wood', '']\n"
     ]
    }
   ],
   "source": [
    "def wood_counter():\n",
    "    text = \"\"\"How much wood would a woodchuck chuck\n",
    "If a woodchuck could chuck wood?\n",
    "He would chuck, he would, as much as he could,\n",
    "And chuck as much as a woodchuck would\n",
    "If a Mr. Smith could chuck wood\\n\\r\\t.\"\"\"\n",
    "    \n",
    "    clean_text = text.strip().replace(\"?\", \"\").replace(\".\", \"\").replace(\",\", \"\").replace(\"\\n\", \" \").replace(\"\\r\", \"\").replace(\"\\t\", \"\").lower()\n",
    "    text_list = list(clean_text.split(\" \"))\n",
    "    \n",
    "    counter = 0\n",
    "    \n",
    "    for word in text_list:\n",
    "        if word == \"wood\":\n",
    "            counter += 1\n",
    "    \n",
    "    #Exercise answer\n",
    "    print(counter)\n",
    "    \n",
    "    #(ADDON)The resulting list that wood is being counted in - incase you don't belive the count :)\n",
    "    print(text_list)\n",
    "    \n",
    "    return\n",
    "wood_counter()"
   ]
  },
  {
   "cell_type": "code",
   "execution_count": null,
   "id": "dirty-manchester",
   "metadata": {},
   "outputs": [],
   "source": []
  }
 ],
 "metadata": {
  "kernelspec": {
   "display_name": "Python 3",
   "language": "python",
   "name": "python3"
  },
  "language_info": {
   "codemirror_mode": {
    "name": "ipython",
    "version": 3
   },
   "file_extension": ".py",
   "mimetype": "text/x-python",
   "name": "python",
   "nbconvert_exporter": "python",
   "pygments_lexer": "ipython3",
   "version": "3.8.8"
  }
 },
 "nbformat": 4,
 "nbformat_minor": 5
}
