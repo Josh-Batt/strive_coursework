{
 "cells": [
  {
   "cell_type": "code",
   "metadata": {
    "tags": [],
    "cell_id": "00000-7d0edd52-6460-473e-96ac-5753a79b9b4c",
    "deepnote_to_be_reexecuted": false,
    "source_hash": "6c08f50",
    "execution_start": 1620396056963,
    "execution_millis": 6,
    "deepnote_cell_type": "code"
   },
   "source": "import pandas as pd\nimport numpy as np\nimport matplotlib.pyplot as plt\n#import seaborn as sb\nimport sklearn as skl\nimport time\nimport statistics\nfrom IPython.display import display, clear_output\n\nimport sklearn\nfrom sklearn import pipeline      # Pipeline\nfrom sklearn import preprocessing # OrdinalEncoder, LabelEncoder\nfrom sklearn import impute\nfrom sklearn import compose\nfrom sklearn import model_selection # train_test_split\nfrom sklearn.model_selection import train_test_split\nfrom sklearn import metrics         # accuracy_score, balanced_accuracy_score, plot_confusion_matrix\nfrom sklearn import set_config\n\nset_config(display='diagram') # Useful for display the pipeline\n\nprint(\"Pandas  \", pd.__version__)\nprint(\"Sklearn \", skl.__version__) # Try to use 0.24",
   "execution_count": 11,
   "outputs": [
    {
     "name": "stdout",
     "text": "Pandas   1.2.4\nSklearn  0.24.2\n",
     "output_type": "stream"
    }
   ]
  },
  {
   "cell_type": "code",
   "source": "df = pd.read_csv('heart.csv')\ndf",
   "metadata": {
    "tags": [],
    "cell_id": "00001-965bf5df-d73a-49b8-97ea-a6331cafedc1",
    "deepnote_to_be_reexecuted": false,
    "source_hash": "f87ce0d",
    "execution_start": 1620390566330,
    "execution_millis": 69,
    "deepnote_cell_type": "code"
   },
   "outputs": [
    {
     "output_type": "execute_result",
     "execution_count": 3,
     "data": {
      "application/vnd.deepnote.dataframe.v2+json": {
       "row_count": 303,
       "column_count": 14,
       "columns": [
        {
         "name": "age",
         "dtype": "int64",
         "stats": {
          "unique_count": 41,
          "nan_count": 0,
          "min": "29",
          "max": "77",
          "histogram": [
           {
            "bin_start": 29,
            "bin_end": 33.8,
            "count": 1
           },
           {
            "bin_start": 33.8,
            "bin_end": 38.6,
            "count": 11
           },
           {
            "bin_start": 38.6,
            "bin_end": 43.4,
            "count": 33
           },
           {
            "bin_start": 43.4,
            "bin_end": 48.2,
            "count": 38
           },
           {
            "bin_start": 48.2,
            "bin_end": 53,
            "count": 37
           },
           {
            "bin_start": 53,
            "bin_end": 57.8,
            "count": 60
           },
           {
            "bin_start": 57.8,
            "bin_end": 62.6,
            "count": 63
           },
           {
            "bin_start": 62.6,
            "bin_end": 67.4,
            "count": 43
           },
           {
            "bin_start": 67.4,
            "bin_end": 72.19999999999999,
            "count": 14
           },
           {
            "bin_start": 72.19999999999999,
            "bin_end": 77,
            "count": 3
           }
          ]
         }
        },
        {
         "name": "sex",
         "dtype": "int64",
         "stats": {
          "unique_count": 2,
          "nan_count": 0,
          "min": "0",
          "max": "1",
          "histogram": [
           {
            "bin_start": 0,
            "bin_end": 0.1,
            "count": 96
           },
           {
            "bin_start": 0.1,
            "bin_end": 0.2,
            "count": 0
           },
           {
            "bin_start": 0.2,
            "bin_end": 0.30000000000000004,
            "count": 0
           },
           {
            "bin_start": 0.30000000000000004,
            "bin_end": 0.4,
            "count": 0
           },
           {
            "bin_start": 0.4,
            "bin_end": 0.5,
            "count": 0
           },
           {
            "bin_start": 0.5,
            "bin_end": 0.6000000000000001,
            "count": 0
           },
           {
            "bin_start": 0.6000000000000001,
            "bin_end": 0.7000000000000001,
            "count": 0
           },
           {
            "bin_start": 0.7000000000000001,
            "bin_end": 0.8,
            "count": 0
           },
           {
            "bin_start": 0.8,
            "bin_end": 0.9,
            "count": 0
           },
           {
            "bin_start": 0.9,
            "bin_end": 1,
            "count": 207
           }
          ]
         }
        },
        {
         "name": "cp",
         "dtype": "int64",
         "stats": {
          "unique_count": 4,
          "nan_count": 0,
          "min": "0",
          "max": "3",
          "histogram": [
           {
            "bin_start": 0,
            "bin_end": 0.3,
            "count": 143
           },
           {
            "bin_start": 0.3,
            "bin_end": 0.6,
            "count": 0
           },
           {
            "bin_start": 0.6,
            "bin_end": 0.8999999999999999,
            "count": 0
           },
           {
            "bin_start": 0.8999999999999999,
            "bin_end": 1.2,
            "count": 50
           },
           {
            "bin_start": 1.2,
            "bin_end": 1.5,
            "count": 0
           },
           {
            "bin_start": 1.5,
            "bin_end": 1.7999999999999998,
            "count": 0
           },
           {
            "bin_start": 1.7999999999999998,
            "bin_end": 2.1,
            "count": 87
           },
           {
            "bin_start": 2.1,
            "bin_end": 2.4,
            "count": 0
           },
           {
            "bin_start": 2.4,
            "bin_end": 2.6999999999999997,
            "count": 0
           },
           {
            "bin_start": 2.6999999999999997,
            "bin_end": 3,
            "count": 23
           }
          ]
         }
        },
        {
         "name": "trestbps",
         "dtype": "int64",
         "stats": {
          "unique_count": 49,
          "nan_count": 0,
          "min": "94",
          "max": "200",
          "histogram": [
           {
            "bin_start": 94,
            "bin_end": 104.6,
            "count": 10
           },
           {
            "bin_start": 104.6,
            "bin_end": 115.2,
            "count": 42
           },
           {
            "bin_start": 115.2,
            "bin_end": 125.8,
            "count": 67
           },
           {
            "bin_start": 125.8,
            "bin_end": 136.4,
            "count": 74
           },
           {
            "bin_start": 136.4,
            "bin_end": 147,
            "count": 57
           },
           {
            "bin_start": 147,
            "bin_end": 157.6,
            "count": 27
           },
           {
            "bin_start": 157.6,
            "bin_end": 168.2,
            "count": 13
           },
           {
            "bin_start": 168.2,
            "bin_end": 178.8,
            "count": 8
           },
           {
            "bin_start": 178.8,
            "bin_end": 189.39999999999998,
            "count": 3
           },
           {
            "bin_start": 189.39999999999998,
            "bin_end": 200,
            "count": 2
           }
          ]
         }
        },
        {
         "name": "chol",
         "dtype": "int64",
         "stats": {
          "unique_count": 152,
          "nan_count": 0,
          "min": "126",
          "max": "564",
          "histogram": [
           {
            "bin_start": 126,
            "bin_end": 169.8,
            "count": 12
           },
           {
            "bin_start": 169.8,
            "bin_end": 213.6,
            "count": 73
           },
           {
            "bin_start": 213.6,
            "bin_end": 257.4,
            "count": 106
           },
           {
            "bin_start": 257.4,
            "bin_end": 301.2,
            "count": 69
           },
           {
            "bin_start": 301.2,
            "bin_end": 345,
            "count": 35
           },
           {
            "bin_start": 345,
            "bin_end": 388.79999999999995,
            "count": 3
           },
           {
            "bin_start": 388.79999999999995,
            "bin_end": 432.59999999999997,
            "count": 4
           },
           {
            "bin_start": 432.59999999999997,
            "bin_end": 476.4,
            "count": 0
           },
           {
            "bin_start": 476.4,
            "bin_end": 520.2,
            "count": 0
           },
           {
            "bin_start": 520.2,
            "bin_end": 564,
            "count": 1
           }
          ]
         }
        },
        {
         "name": "fbs",
         "dtype": "int64",
         "stats": {
          "unique_count": 2,
          "nan_count": 0,
          "min": "0",
          "max": "1",
          "histogram": [
           {
            "bin_start": 0,
            "bin_end": 0.1,
            "count": 258
           },
           {
            "bin_start": 0.1,
            "bin_end": 0.2,
            "count": 0
           },
           {
            "bin_start": 0.2,
            "bin_end": 0.30000000000000004,
            "count": 0
           },
           {
            "bin_start": 0.30000000000000004,
            "bin_end": 0.4,
            "count": 0
           },
           {
            "bin_start": 0.4,
            "bin_end": 0.5,
            "count": 0
           },
           {
            "bin_start": 0.5,
            "bin_end": 0.6000000000000001,
            "count": 0
           },
           {
            "bin_start": 0.6000000000000001,
            "bin_end": 0.7000000000000001,
            "count": 0
           },
           {
            "bin_start": 0.7000000000000001,
            "bin_end": 0.8,
            "count": 0
           },
           {
            "bin_start": 0.8,
            "bin_end": 0.9,
            "count": 0
           },
           {
            "bin_start": 0.9,
            "bin_end": 1,
            "count": 45
           }
          ]
         }
        },
        {
         "name": "restecg",
         "dtype": "int64",
         "stats": {
          "unique_count": 3,
          "nan_count": 0,
          "min": "0",
          "max": "2",
          "histogram": [
           {
            "bin_start": 0,
            "bin_end": 0.2,
            "count": 147
           },
           {
            "bin_start": 0.2,
            "bin_end": 0.4,
            "count": 0
           },
           {
            "bin_start": 0.4,
            "bin_end": 0.6000000000000001,
            "count": 0
           },
           {
            "bin_start": 0.6000000000000001,
            "bin_end": 0.8,
            "count": 0
           },
           {
            "bin_start": 0.8,
            "bin_end": 1,
            "count": 0
           },
           {
            "bin_start": 1,
            "bin_end": 1.2000000000000002,
            "count": 152
           },
           {
            "bin_start": 1.2000000000000002,
            "bin_end": 1.4000000000000001,
            "count": 0
           },
           {
            "bin_start": 1.4000000000000001,
            "bin_end": 1.6,
            "count": 0
           },
           {
            "bin_start": 1.6,
            "bin_end": 1.8,
            "count": 0
           },
           {
            "bin_start": 1.8,
            "bin_end": 2,
            "count": 4
           }
          ]
         }
        },
        {
         "name": "thalach",
         "dtype": "int64",
         "stats": {
          "unique_count": 91,
          "nan_count": 0,
          "min": "71",
          "max": "202",
          "histogram": [
           {
            "bin_start": 71,
            "bin_end": 84.1,
            "count": 1
           },
           {
            "bin_start": 84.1,
            "bin_end": 97.2,
            "count": 6
           },
           {
            "bin_start": 97.2,
            "bin_end": 110.3,
            "count": 11
           },
           {
            "bin_start": 110.3,
            "bin_end": 123.4,
            "count": 26
           },
           {
            "bin_start": 123.4,
            "bin_end": 136.5,
            "count": 35
           },
           {
            "bin_start": 136.5,
            "bin_end": 149.6,
            "count": 53
           },
           {
            "bin_start": 149.6,
            "bin_end": 162.7,
            "count": 77
           },
           {
            "bin_start": 162.7,
            "bin_end": 175.8,
            "count": 63
           },
           {
            "bin_start": 175.8,
            "bin_end": 188.89999999999998,
            "count": 26
           },
           {
            "bin_start": 188.89999999999998,
            "bin_end": 202,
            "count": 5
           }
          ]
         }
        },
        {
         "name": "exang",
         "dtype": "int64",
         "stats": {
          "unique_count": 2,
          "nan_count": 0,
          "min": "0",
          "max": "1",
          "histogram": [
           {
            "bin_start": 0,
            "bin_end": 0.1,
            "count": 204
           },
           {
            "bin_start": 0.1,
            "bin_end": 0.2,
            "count": 0
           },
           {
            "bin_start": 0.2,
            "bin_end": 0.30000000000000004,
            "count": 0
           },
           {
            "bin_start": 0.30000000000000004,
            "bin_end": 0.4,
            "count": 0
           },
           {
            "bin_start": 0.4,
            "bin_end": 0.5,
            "count": 0
           },
           {
            "bin_start": 0.5,
            "bin_end": 0.6000000000000001,
            "count": 0
           },
           {
            "bin_start": 0.6000000000000001,
            "bin_end": 0.7000000000000001,
            "count": 0
           },
           {
            "bin_start": 0.7000000000000001,
            "bin_end": 0.8,
            "count": 0
           },
           {
            "bin_start": 0.8,
            "bin_end": 0.9,
            "count": 0
           },
           {
            "bin_start": 0.9,
            "bin_end": 1,
            "count": 99
           }
          ]
         }
        },
        {
         "name": "oldpeak",
         "dtype": "float64",
         "stats": {
          "unique_count": 40,
          "nan_count": 0,
          "min": "0.0",
          "max": "6.2",
          "histogram": [
           {
            "bin_start": 0,
            "bin_end": 0.62,
            "count": 149
           },
           {
            "bin_start": 0.62,
            "bin_end": 1.24,
            "count": 50
           },
           {
            "bin_start": 1.24,
            "bin_end": 1.8599999999999999,
            "count": 40
           },
           {
            "bin_start": 1.8599999999999999,
            "bin_end": 2.48,
            "count": 24
           },
           {
            "bin_start": 2.48,
            "bin_end": 3.1,
            "count": 20
           },
           {
            "bin_start": 3.1,
            "bin_end": 3.7199999999999998,
            "count": 11
           },
           {
            "bin_start": 3.7199999999999998,
            "bin_end": 4.34,
            "count": 6
           },
           {
            "bin_start": 4.34,
            "bin_end": 4.96,
            "count": 1
           },
           {
            "bin_start": 4.96,
            "bin_end": 5.58,
            "count": 0
           },
           {
            "bin_start": 5.58,
            "bin_end": 6.2,
            "count": 2
           }
          ]
         }
        },
        {
         "name": "slope",
         "dtype": "int64",
         "stats": {
          "unique_count": 3,
          "nan_count": 0,
          "min": "0",
          "max": "2",
          "histogram": [
           {
            "bin_start": 0,
            "bin_end": 0.2,
            "count": 21
           },
           {
            "bin_start": 0.2,
            "bin_end": 0.4,
            "count": 0
           },
           {
            "bin_start": 0.4,
            "bin_end": 0.6000000000000001,
            "count": 0
           },
           {
            "bin_start": 0.6000000000000001,
            "bin_end": 0.8,
            "count": 0
           },
           {
            "bin_start": 0.8,
            "bin_end": 1,
            "count": 0
           },
           {
            "bin_start": 1,
            "bin_end": 1.2000000000000002,
            "count": 140
           },
           {
            "bin_start": 1.2000000000000002,
            "bin_end": 1.4000000000000001,
            "count": 0
           },
           {
            "bin_start": 1.4000000000000001,
            "bin_end": 1.6,
            "count": 0
           },
           {
            "bin_start": 1.6,
            "bin_end": 1.8,
            "count": 0
           },
           {
            "bin_start": 1.8,
            "bin_end": 2,
            "count": 142
           }
          ]
         }
        },
        {
         "name": "ca",
         "dtype": "int64",
         "stats": {
          "unique_count": 5,
          "nan_count": 0,
          "min": "0",
          "max": "4",
          "histogram": [
           {
            "bin_start": 0,
            "bin_end": 0.4,
            "count": 175
           },
           {
            "bin_start": 0.4,
            "bin_end": 0.8,
            "count": 0
           },
           {
            "bin_start": 0.8,
            "bin_end": 1.2000000000000002,
            "count": 65
           },
           {
            "bin_start": 1.2000000000000002,
            "bin_end": 1.6,
            "count": 0
           },
           {
            "bin_start": 1.6,
            "bin_end": 2,
            "count": 0
           },
           {
            "bin_start": 2,
            "bin_end": 2.4000000000000004,
            "count": 38
           },
           {
            "bin_start": 2.4000000000000004,
            "bin_end": 2.8000000000000003,
            "count": 0
           },
           {
            "bin_start": 2.8000000000000003,
            "bin_end": 3.2,
            "count": 20
           },
           {
            "bin_start": 3.2,
            "bin_end": 3.6,
            "count": 0
           },
           {
            "bin_start": 3.6,
            "bin_end": 4,
            "count": 5
           }
          ]
         }
        },
        {
         "name": "thal",
         "dtype": "int64",
         "stats": {
          "unique_count": 4,
          "nan_count": 0,
          "min": "0",
          "max": "3",
          "histogram": [
           {
            "bin_start": 0,
            "bin_end": 0.3,
            "count": 2
           },
           {
            "bin_start": 0.3,
            "bin_end": 0.6,
            "count": 0
           },
           {
            "bin_start": 0.6,
            "bin_end": 0.8999999999999999,
            "count": 0
           },
           {
            "bin_start": 0.8999999999999999,
            "bin_end": 1.2,
            "count": 18
           },
           {
            "bin_start": 1.2,
            "bin_end": 1.5,
            "count": 0
           },
           {
            "bin_start": 1.5,
            "bin_end": 1.7999999999999998,
            "count": 0
           },
           {
            "bin_start": 1.7999999999999998,
            "bin_end": 2.1,
            "count": 166
           },
           {
            "bin_start": 2.1,
            "bin_end": 2.4,
            "count": 0
           },
           {
            "bin_start": 2.4,
            "bin_end": 2.6999999999999997,
            "count": 0
           },
           {
            "bin_start": 2.6999999999999997,
            "bin_end": 3,
            "count": 117
           }
          ]
         }
        },
        {
         "name": "target",
         "dtype": "int64",
         "stats": {
          "unique_count": 2,
          "nan_count": 0,
          "min": "0",
          "max": "1",
          "histogram": [
           {
            "bin_start": 0,
            "bin_end": 0.1,
            "count": 138
           },
           {
            "bin_start": 0.1,
            "bin_end": 0.2,
            "count": 0
           },
           {
            "bin_start": 0.2,
            "bin_end": 0.30000000000000004,
            "count": 0
           },
           {
            "bin_start": 0.30000000000000004,
            "bin_end": 0.4,
            "count": 0
           },
           {
            "bin_start": 0.4,
            "bin_end": 0.5,
            "count": 0
           },
           {
            "bin_start": 0.5,
            "bin_end": 0.6000000000000001,
            "count": 0
           },
           {
            "bin_start": 0.6000000000000001,
            "bin_end": 0.7000000000000001,
            "count": 0
           },
           {
            "bin_start": 0.7000000000000001,
            "bin_end": 0.8,
            "count": 0
           },
           {
            "bin_start": 0.8,
            "bin_end": 0.9,
            "count": 0
           },
           {
            "bin_start": 0.9,
            "bin_end": 1,
            "count": 165
           }
          ]
         }
        },
        {
         "name": "_deepnote_index_column",
         "dtype": "int64"
        }
       ],
       "rows_top": [
        {
         "age": 63,
         "sex": 1,
         "cp": 3,
         "trestbps": 145,
         "chol": 233,
         "fbs": 1,
         "restecg": 0,
         "thalach": 150,
         "exang": 0,
         "oldpeak": 2.3,
         "slope": 0,
         "ca": 0,
         "thal": 1,
         "target": 1,
         "_deepnote_index_column": 0
        },
        {
         "age": 37,
         "sex": 1,
         "cp": 2,
         "trestbps": 130,
         "chol": 250,
         "fbs": 0,
         "restecg": 1,
         "thalach": 187,
         "exang": 0,
         "oldpeak": 3.5,
         "slope": 0,
         "ca": 0,
         "thal": 2,
         "target": 1,
         "_deepnote_index_column": 1
        },
        {
         "age": 41,
         "sex": 0,
         "cp": 1,
         "trestbps": 130,
         "chol": 204,
         "fbs": 0,
         "restecg": 0,
         "thalach": 172,
         "exang": 0,
         "oldpeak": 1.4,
         "slope": 2,
         "ca": 0,
         "thal": 2,
         "target": 1,
         "_deepnote_index_column": 2
        },
        {
         "age": 56,
         "sex": 1,
         "cp": 1,
         "trestbps": 120,
         "chol": 236,
         "fbs": 0,
         "restecg": 1,
         "thalach": 178,
         "exang": 0,
         "oldpeak": 0.8,
         "slope": 2,
         "ca": 0,
         "thal": 2,
         "target": 1,
         "_deepnote_index_column": 3
        },
        {
         "age": 57,
         "sex": 0,
         "cp": 0,
         "trestbps": 120,
         "chol": 354,
         "fbs": 0,
         "restecg": 1,
         "thalach": 163,
         "exang": 1,
         "oldpeak": 0.6,
         "slope": 2,
         "ca": 0,
         "thal": 2,
         "target": 1,
         "_deepnote_index_column": 4
        },
        {
         "age": 57,
         "sex": 1,
         "cp": 0,
         "trestbps": 140,
         "chol": 192,
         "fbs": 0,
         "restecg": 1,
         "thalach": 148,
         "exang": 0,
         "oldpeak": 0.4,
         "slope": 1,
         "ca": 0,
         "thal": 1,
         "target": 1,
         "_deepnote_index_column": 5
        },
        {
         "age": 56,
         "sex": 0,
         "cp": 1,
         "trestbps": 140,
         "chol": 294,
         "fbs": 0,
         "restecg": 0,
         "thalach": 153,
         "exang": 0,
         "oldpeak": 1.3,
         "slope": 1,
         "ca": 0,
         "thal": 2,
         "target": 1,
         "_deepnote_index_column": 6
        },
        {
         "age": 44,
         "sex": 1,
         "cp": 1,
         "trestbps": 120,
         "chol": 263,
         "fbs": 0,
         "restecg": 1,
         "thalach": 173,
         "exang": 0,
         "oldpeak": 0,
         "slope": 2,
         "ca": 0,
         "thal": 3,
         "target": 1,
         "_deepnote_index_column": 7
        },
        {
         "age": 52,
         "sex": 1,
         "cp": 2,
         "trestbps": 172,
         "chol": 199,
         "fbs": 1,
         "restecg": 1,
         "thalach": 162,
         "exang": 0,
         "oldpeak": 0.5,
         "slope": 2,
         "ca": 0,
         "thal": 3,
         "target": 1,
         "_deepnote_index_column": 8
        },
        {
         "age": 57,
         "sex": 1,
         "cp": 2,
         "trestbps": 150,
         "chol": 168,
         "fbs": 0,
         "restecg": 1,
         "thalach": 174,
         "exang": 0,
         "oldpeak": 1.6,
         "slope": 2,
         "ca": 0,
         "thal": 2,
         "target": 1,
         "_deepnote_index_column": 9
        },
        {
         "age": 54,
         "sex": 1,
         "cp": 0,
         "trestbps": 140,
         "chol": 239,
         "fbs": 0,
         "restecg": 1,
         "thalach": 160,
         "exang": 0,
         "oldpeak": 1.2,
         "slope": 2,
         "ca": 0,
         "thal": 2,
         "target": 1,
         "_deepnote_index_column": 10
        },
        {
         "age": 48,
         "sex": 0,
         "cp": 2,
         "trestbps": 130,
         "chol": 275,
         "fbs": 0,
         "restecg": 1,
         "thalach": 139,
         "exang": 0,
         "oldpeak": 0.2,
         "slope": 2,
         "ca": 0,
         "thal": 2,
         "target": 1,
         "_deepnote_index_column": 11
        },
        {
         "age": 49,
         "sex": 1,
         "cp": 1,
         "trestbps": 130,
         "chol": 266,
         "fbs": 0,
         "restecg": 1,
         "thalach": 171,
         "exang": 0,
         "oldpeak": 0.6,
         "slope": 2,
         "ca": 0,
         "thal": 2,
         "target": 1,
         "_deepnote_index_column": 12
        },
        {
         "age": 64,
         "sex": 1,
         "cp": 3,
         "trestbps": 110,
         "chol": 211,
         "fbs": 0,
         "restecg": 0,
         "thalach": 144,
         "exang": 1,
         "oldpeak": 1.8,
         "slope": 1,
         "ca": 0,
         "thal": 2,
         "target": 1,
         "_deepnote_index_column": 13
        },
        {
         "age": 58,
         "sex": 0,
         "cp": 3,
         "trestbps": 150,
         "chol": 283,
         "fbs": 1,
         "restecg": 0,
         "thalach": 162,
         "exang": 0,
         "oldpeak": 1,
         "slope": 2,
         "ca": 0,
         "thal": 2,
         "target": 1,
         "_deepnote_index_column": 14
        },
        {
         "age": 50,
         "sex": 0,
         "cp": 2,
         "trestbps": 120,
         "chol": 219,
         "fbs": 0,
         "restecg": 1,
         "thalach": 158,
         "exang": 0,
         "oldpeak": 1.6,
         "slope": 1,
         "ca": 0,
         "thal": 2,
         "target": 1,
         "_deepnote_index_column": 15
        },
        {
         "age": 58,
         "sex": 0,
         "cp": 2,
         "trestbps": 120,
         "chol": 340,
         "fbs": 0,
         "restecg": 1,
         "thalach": 172,
         "exang": 0,
         "oldpeak": 0,
         "slope": 2,
         "ca": 0,
         "thal": 2,
         "target": 1,
         "_deepnote_index_column": 16
        },
        {
         "age": 66,
         "sex": 0,
         "cp": 3,
         "trestbps": 150,
         "chol": 226,
         "fbs": 0,
         "restecg": 1,
         "thalach": 114,
         "exang": 0,
         "oldpeak": 2.6,
         "slope": 0,
         "ca": 0,
         "thal": 2,
         "target": 1,
         "_deepnote_index_column": 17
        },
        {
         "age": 43,
         "sex": 1,
         "cp": 0,
         "trestbps": 150,
         "chol": 247,
         "fbs": 0,
         "restecg": 1,
         "thalach": 171,
         "exang": 0,
         "oldpeak": 1.5,
         "slope": 2,
         "ca": 0,
         "thal": 2,
         "target": 1,
         "_deepnote_index_column": 18
        },
        {
         "age": 69,
         "sex": 0,
         "cp": 3,
         "trestbps": 140,
         "chol": 239,
         "fbs": 0,
         "restecg": 1,
         "thalach": 151,
         "exang": 0,
         "oldpeak": 1.8,
         "slope": 2,
         "ca": 2,
         "thal": 2,
         "target": 1,
         "_deepnote_index_column": 19
        },
        {
         "age": 59,
         "sex": 1,
         "cp": 0,
         "trestbps": 135,
         "chol": 234,
         "fbs": 0,
         "restecg": 1,
         "thalach": 161,
         "exang": 0,
         "oldpeak": 0.5,
         "slope": 1,
         "ca": 0,
         "thal": 3,
         "target": 1,
         "_deepnote_index_column": 20
        },
        {
         "age": 44,
         "sex": 1,
         "cp": 2,
         "trestbps": 130,
         "chol": 233,
         "fbs": 0,
         "restecg": 1,
         "thalach": 179,
         "exang": 1,
         "oldpeak": 0.4,
         "slope": 2,
         "ca": 0,
         "thal": 2,
         "target": 1,
         "_deepnote_index_column": 21
        },
        {
         "age": 42,
         "sex": 1,
         "cp": 0,
         "trestbps": 140,
         "chol": 226,
         "fbs": 0,
         "restecg": 1,
         "thalach": 178,
         "exang": 0,
         "oldpeak": 0,
         "slope": 2,
         "ca": 0,
         "thal": 2,
         "target": 1,
         "_deepnote_index_column": 22
        },
        {
         "age": 61,
         "sex": 1,
         "cp": 2,
         "trestbps": 150,
         "chol": 243,
         "fbs": 1,
         "restecg": 1,
         "thalach": 137,
         "exang": 1,
         "oldpeak": 1,
         "slope": 1,
         "ca": 0,
         "thal": 2,
         "target": 1,
         "_deepnote_index_column": 23
        },
        {
         "age": 40,
         "sex": 1,
         "cp": 3,
         "trestbps": 140,
         "chol": 199,
         "fbs": 0,
         "restecg": 1,
         "thalach": 178,
         "exang": 1,
         "oldpeak": 1.4,
         "slope": 2,
         "ca": 0,
         "thal": 3,
         "target": 1,
         "_deepnote_index_column": 24
        },
        {
         "age": 71,
         "sex": 0,
         "cp": 1,
         "trestbps": 160,
         "chol": 302,
         "fbs": 0,
         "restecg": 1,
         "thalach": 162,
         "exang": 0,
         "oldpeak": 0.4,
         "slope": 2,
         "ca": 2,
         "thal": 2,
         "target": 1,
         "_deepnote_index_column": 25
        },
        {
         "age": 59,
         "sex": 1,
         "cp": 2,
         "trestbps": 150,
         "chol": 212,
         "fbs": 1,
         "restecg": 1,
         "thalach": 157,
         "exang": 0,
         "oldpeak": 1.6,
         "slope": 2,
         "ca": 0,
         "thal": 2,
         "target": 1,
         "_deepnote_index_column": 26
        },
        {
         "age": 51,
         "sex": 1,
         "cp": 2,
         "trestbps": 110,
         "chol": 175,
         "fbs": 0,
         "restecg": 1,
         "thalach": 123,
         "exang": 0,
         "oldpeak": 0.6,
         "slope": 2,
         "ca": 0,
         "thal": 2,
         "target": 1,
         "_deepnote_index_column": 27
        },
        {
         "age": 65,
         "sex": 0,
         "cp": 2,
         "trestbps": 140,
         "chol": 417,
         "fbs": 1,
         "restecg": 0,
         "thalach": 157,
         "exang": 0,
         "oldpeak": 0.8,
         "slope": 2,
         "ca": 1,
         "thal": 2,
         "target": 1,
         "_deepnote_index_column": 28
        },
        {
         "age": 53,
         "sex": 1,
         "cp": 2,
         "trestbps": 130,
         "chol": 197,
         "fbs": 1,
         "restecg": 0,
         "thalach": 152,
         "exang": 0,
         "oldpeak": 1.2,
         "slope": 0,
         "ca": 0,
         "thal": 2,
         "target": 1,
         "_deepnote_index_column": 29
        },
        {
         "age": 41,
         "sex": 0,
         "cp": 1,
         "trestbps": 105,
         "chol": 198,
         "fbs": 0,
         "restecg": 1,
         "thalach": 168,
         "exang": 0,
         "oldpeak": 0,
         "slope": 2,
         "ca": 1,
         "thal": 2,
         "target": 1,
         "_deepnote_index_column": 30
        },
        {
         "age": 65,
         "sex": 1,
         "cp": 0,
         "trestbps": 120,
         "chol": 177,
         "fbs": 0,
         "restecg": 1,
         "thalach": 140,
         "exang": 0,
         "oldpeak": 0.4,
         "slope": 2,
         "ca": 0,
         "thal": 3,
         "target": 1,
         "_deepnote_index_column": 31
        },
        {
         "age": 44,
         "sex": 1,
         "cp": 1,
         "trestbps": 130,
         "chol": 219,
         "fbs": 0,
         "restecg": 0,
         "thalach": 188,
         "exang": 0,
         "oldpeak": 0,
         "slope": 2,
         "ca": 0,
         "thal": 2,
         "target": 1,
         "_deepnote_index_column": 32
        },
        {
         "age": 54,
         "sex": 1,
         "cp": 2,
         "trestbps": 125,
         "chol": 273,
         "fbs": 0,
         "restecg": 0,
         "thalach": 152,
         "exang": 0,
         "oldpeak": 0.5,
         "slope": 0,
         "ca": 1,
         "thal": 2,
         "target": 1,
         "_deepnote_index_column": 33
        },
        {
         "age": 51,
         "sex": 1,
         "cp": 3,
         "trestbps": 125,
         "chol": 213,
         "fbs": 0,
         "restecg": 0,
         "thalach": 125,
         "exang": 1,
         "oldpeak": 1.4,
         "slope": 2,
         "ca": 1,
         "thal": 2,
         "target": 1,
         "_deepnote_index_column": 34
        }
       ],
       "rows_bottom": [
        {
         "age": 49,
         "sex": 1,
         "cp": 2,
         "trestbps": 118,
         "chol": 149,
         "fbs": 0,
         "restecg": 0,
         "thalach": 126,
         "exang": 0,
         "oldpeak": 0.8,
         "slope": 2,
         "ca": 3,
         "thal": 2,
         "target": 0,
         "_deepnote_index_column": 267
        },
        {
         "age": 54,
         "sex": 1,
         "cp": 0,
         "trestbps": 122,
         "chol": 286,
         "fbs": 0,
         "restecg": 0,
         "thalach": 116,
         "exang": 1,
         "oldpeak": 3.2,
         "slope": 1,
         "ca": 2,
         "thal": 2,
         "target": 0,
         "_deepnote_index_column": 268
        },
        {
         "age": 56,
         "sex": 1,
         "cp": 0,
         "trestbps": 130,
         "chol": 283,
         "fbs": 1,
         "restecg": 0,
         "thalach": 103,
         "exang": 1,
         "oldpeak": 1.6,
         "slope": 0,
         "ca": 0,
         "thal": 3,
         "target": 0,
         "_deepnote_index_column": 269
        },
        {
         "age": 46,
         "sex": 1,
         "cp": 0,
         "trestbps": 120,
         "chol": 249,
         "fbs": 0,
         "restecg": 0,
         "thalach": 144,
         "exang": 0,
         "oldpeak": 0.8,
         "slope": 2,
         "ca": 0,
         "thal": 3,
         "target": 0,
         "_deepnote_index_column": 270
        },
        {
         "age": 61,
         "sex": 1,
         "cp": 3,
         "trestbps": 134,
         "chol": 234,
         "fbs": 0,
         "restecg": 1,
         "thalach": 145,
         "exang": 0,
         "oldpeak": 2.6,
         "slope": 1,
         "ca": 2,
         "thal": 2,
         "target": 0,
         "_deepnote_index_column": 271
        },
        {
         "age": 67,
         "sex": 1,
         "cp": 0,
         "trestbps": 120,
         "chol": 237,
         "fbs": 0,
         "restecg": 1,
         "thalach": 71,
         "exang": 0,
         "oldpeak": 1,
         "slope": 1,
         "ca": 0,
         "thal": 2,
         "target": 0,
         "_deepnote_index_column": 272
        },
        {
         "age": 58,
         "sex": 1,
         "cp": 0,
         "trestbps": 100,
         "chol": 234,
         "fbs": 0,
         "restecg": 1,
         "thalach": 156,
         "exang": 0,
         "oldpeak": 0.1,
         "slope": 2,
         "ca": 1,
         "thal": 3,
         "target": 0,
         "_deepnote_index_column": 273
        },
        {
         "age": 47,
         "sex": 1,
         "cp": 0,
         "trestbps": 110,
         "chol": 275,
         "fbs": 0,
         "restecg": 0,
         "thalach": 118,
         "exang": 1,
         "oldpeak": 1,
         "slope": 1,
         "ca": 1,
         "thal": 2,
         "target": 0,
         "_deepnote_index_column": 274
        },
        {
         "age": 52,
         "sex": 1,
         "cp": 0,
         "trestbps": 125,
         "chol": 212,
         "fbs": 0,
         "restecg": 1,
         "thalach": 168,
         "exang": 0,
         "oldpeak": 1,
         "slope": 2,
         "ca": 2,
         "thal": 3,
         "target": 0,
         "_deepnote_index_column": 275
        },
        {
         "age": 58,
         "sex": 1,
         "cp": 0,
         "trestbps": 146,
         "chol": 218,
         "fbs": 0,
         "restecg": 1,
         "thalach": 105,
         "exang": 0,
         "oldpeak": 2,
         "slope": 1,
         "ca": 1,
         "thal": 3,
         "target": 0,
         "_deepnote_index_column": 276
        },
        {
         "age": 57,
         "sex": 1,
         "cp": 1,
         "trestbps": 124,
         "chol": 261,
         "fbs": 0,
         "restecg": 1,
         "thalach": 141,
         "exang": 0,
         "oldpeak": 0.3,
         "slope": 2,
         "ca": 0,
         "thal": 3,
         "target": 0,
         "_deepnote_index_column": 277
        },
        {
         "age": 58,
         "sex": 0,
         "cp": 1,
         "trestbps": 136,
         "chol": 319,
         "fbs": 1,
         "restecg": 0,
         "thalach": 152,
         "exang": 0,
         "oldpeak": 0,
         "slope": 2,
         "ca": 2,
         "thal": 2,
         "target": 0,
         "_deepnote_index_column": 278
        },
        {
         "age": 61,
         "sex": 1,
         "cp": 0,
         "trestbps": 138,
         "chol": 166,
         "fbs": 0,
         "restecg": 0,
         "thalach": 125,
         "exang": 1,
         "oldpeak": 3.6,
         "slope": 1,
         "ca": 1,
         "thal": 2,
         "target": 0,
         "_deepnote_index_column": 279
        },
        {
         "age": 42,
         "sex": 1,
         "cp": 0,
         "trestbps": 136,
         "chol": 315,
         "fbs": 0,
         "restecg": 1,
         "thalach": 125,
         "exang": 1,
         "oldpeak": 1.8,
         "slope": 1,
         "ca": 0,
         "thal": 1,
         "target": 0,
         "_deepnote_index_column": 280
        },
        {
         "age": 52,
         "sex": 1,
         "cp": 0,
         "trestbps": 128,
         "chol": 204,
         "fbs": 1,
         "restecg": 1,
         "thalach": 156,
         "exang": 1,
         "oldpeak": 1,
         "slope": 1,
         "ca": 0,
         "thal": 0,
         "target": 0,
         "_deepnote_index_column": 281
        },
        {
         "age": 59,
         "sex": 1,
         "cp": 2,
         "trestbps": 126,
         "chol": 218,
         "fbs": 1,
         "restecg": 1,
         "thalach": 134,
         "exang": 0,
         "oldpeak": 2.2,
         "slope": 1,
         "ca": 1,
         "thal": 1,
         "target": 0,
         "_deepnote_index_column": 282
        },
        {
         "age": 40,
         "sex": 1,
         "cp": 0,
         "trestbps": 152,
         "chol": 223,
         "fbs": 0,
         "restecg": 1,
         "thalach": 181,
         "exang": 0,
         "oldpeak": 0,
         "slope": 2,
         "ca": 0,
         "thal": 3,
         "target": 0,
         "_deepnote_index_column": 283
        },
        {
         "age": 61,
         "sex": 1,
         "cp": 0,
         "trestbps": 140,
         "chol": 207,
         "fbs": 0,
         "restecg": 0,
         "thalach": 138,
         "exang": 1,
         "oldpeak": 1.9,
         "slope": 2,
         "ca": 1,
         "thal": 3,
         "target": 0,
         "_deepnote_index_column": 284
        },
        {
         "age": 46,
         "sex": 1,
         "cp": 0,
         "trestbps": 140,
         "chol": 311,
         "fbs": 0,
         "restecg": 1,
         "thalach": 120,
         "exang": 1,
         "oldpeak": 1.8,
         "slope": 1,
         "ca": 2,
         "thal": 3,
         "target": 0,
         "_deepnote_index_column": 285
        },
        {
         "age": 59,
         "sex": 1,
         "cp": 3,
         "trestbps": 134,
         "chol": 204,
         "fbs": 0,
         "restecg": 1,
         "thalach": 162,
         "exang": 0,
         "oldpeak": 0.8,
         "slope": 2,
         "ca": 2,
         "thal": 2,
         "target": 0,
         "_deepnote_index_column": 286
        },
        {
         "age": 57,
         "sex": 1,
         "cp": 1,
         "trestbps": 154,
         "chol": 232,
         "fbs": 0,
         "restecg": 0,
         "thalach": 164,
         "exang": 0,
         "oldpeak": 0,
         "slope": 2,
         "ca": 1,
         "thal": 2,
         "target": 0,
         "_deepnote_index_column": 287
        },
        {
         "age": 57,
         "sex": 1,
         "cp": 0,
         "trestbps": 110,
         "chol": 335,
         "fbs": 0,
         "restecg": 1,
         "thalach": 143,
         "exang": 1,
         "oldpeak": 3,
         "slope": 1,
         "ca": 1,
         "thal": 3,
         "target": 0,
         "_deepnote_index_column": 288
        },
        {
         "age": 55,
         "sex": 0,
         "cp": 0,
         "trestbps": 128,
         "chol": 205,
         "fbs": 0,
         "restecg": 2,
         "thalach": 130,
         "exang": 1,
         "oldpeak": 2,
         "slope": 1,
         "ca": 1,
         "thal": 3,
         "target": 0,
         "_deepnote_index_column": 289
        },
        {
         "age": 61,
         "sex": 1,
         "cp": 0,
         "trestbps": 148,
         "chol": 203,
         "fbs": 0,
         "restecg": 1,
         "thalach": 161,
         "exang": 0,
         "oldpeak": 0,
         "slope": 2,
         "ca": 1,
         "thal": 3,
         "target": 0,
         "_deepnote_index_column": 290
        },
        {
         "age": 58,
         "sex": 1,
         "cp": 0,
         "trestbps": 114,
         "chol": 318,
         "fbs": 0,
         "restecg": 2,
         "thalach": 140,
         "exang": 0,
         "oldpeak": 4.4,
         "slope": 0,
         "ca": 3,
         "thal": 1,
         "target": 0,
         "_deepnote_index_column": 291
        },
        {
         "age": 58,
         "sex": 0,
         "cp": 0,
         "trestbps": 170,
         "chol": 225,
         "fbs": 1,
         "restecg": 0,
         "thalach": 146,
         "exang": 1,
         "oldpeak": 2.8,
         "slope": 1,
         "ca": 2,
         "thal": 1,
         "target": 0,
         "_deepnote_index_column": 292
        },
        {
         "age": 67,
         "sex": 1,
         "cp": 2,
         "trestbps": 152,
         "chol": 212,
         "fbs": 0,
         "restecg": 0,
         "thalach": 150,
         "exang": 0,
         "oldpeak": 0.8,
         "slope": 1,
         "ca": 0,
         "thal": 3,
         "target": 0,
         "_deepnote_index_column": 293
        },
        {
         "age": 44,
         "sex": 1,
         "cp": 0,
         "trestbps": 120,
         "chol": 169,
         "fbs": 0,
         "restecg": 1,
         "thalach": 144,
         "exang": 1,
         "oldpeak": 2.8,
         "slope": 0,
         "ca": 0,
         "thal": 1,
         "target": 0,
         "_deepnote_index_column": 294
        },
        {
         "age": 63,
         "sex": 1,
         "cp": 0,
         "trestbps": 140,
         "chol": 187,
         "fbs": 0,
         "restecg": 0,
         "thalach": 144,
         "exang": 1,
         "oldpeak": 4,
         "slope": 2,
         "ca": 2,
         "thal": 3,
         "target": 0,
         "_deepnote_index_column": 295
        },
        {
         "age": 63,
         "sex": 0,
         "cp": 0,
         "trestbps": 124,
         "chol": 197,
         "fbs": 0,
         "restecg": 1,
         "thalach": 136,
         "exang": 1,
         "oldpeak": 0,
         "slope": 1,
         "ca": 0,
         "thal": 2,
         "target": 0,
         "_deepnote_index_column": 296
        },
        {
         "age": 59,
         "sex": 1,
         "cp": 0,
         "trestbps": 164,
         "chol": 176,
         "fbs": 1,
         "restecg": 0,
         "thalach": 90,
         "exang": 0,
         "oldpeak": 1,
         "slope": 1,
         "ca": 2,
         "thal": 1,
         "target": 0,
         "_deepnote_index_column": 297
        },
        {
         "age": 57,
         "sex": 0,
         "cp": 0,
         "trestbps": 140,
         "chol": 241,
         "fbs": 0,
         "restecg": 1,
         "thalach": 123,
         "exang": 1,
         "oldpeak": 0.2,
         "slope": 1,
         "ca": 0,
         "thal": 3,
         "target": 0,
         "_deepnote_index_column": 298
        },
        {
         "age": 45,
         "sex": 1,
         "cp": 3,
         "trestbps": 110,
         "chol": 264,
         "fbs": 0,
         "restecg": 1,
         "thalach": 132,
         "exang": 0,
         "oldpeak": 1.2,
         "slope": 1,
         "ca": 0,
         "thal": 3,
         "target": 0,
         "_deepnote_index_column": 299
        },
        {
         "age": 68,
         "sex": 1,
         "cp": 0,
         "trestbps": 144,
         "chol": 193,
         "fbs": 1,
         "restecg": 1,
         "thalach": 141,
         "exang": 0,
         "oldpeak": 3.4,
         "slope": 1,
         "ca": 2,
         "thal": 3,
         "target": 0,
         "_deepnote_index_column": 300
        },
        {
         "age": 57,
         "sex": 1,
         "cp": 0,
         "trestbps": 130,
         "chol": 131,
         "fbs": 0,
         "restecg": 1,
         "thalach": 115,
         "exang": 1,
         "oldpeak": 1.2,
         "slope": 1,
         "ca": 1,
         "thal": 3,
         "target": 0,
         "_deepnote_index_column": 301
        },
        {
         "age": 57,
         "sex": 0,
         "cp": 1,
         "trestbps": 130,
         "chol": 236,
         "fbs": 0,
         "restecg": 0,
         "thalach": 174,
         "exang": 0,
         "oldpeak": 0,
         "slope": 1,
         "ca": 1,
         "thal": 2,
         "target": 0,
         "_deepnote_index_column": 302
        }
       ]
      },
      "text/plain": "     age  sex  cp  trestbps  chol  fbs  restecg  thalach  exang  oldpeak  \\\n0     63    1   3       145   233    1        0      150      0      2.3   \n1     37    1   2       130   250    0        1      187      0      3.5   \n2     41    0   1       130   204    0        0      172      0      1.4   \n3     56    1   1       120   236    0        1      178      0      0.8   \n4     57    0   0       120   354    0        1      163      1      0.6   \n..   ...  ...  ..       ...   ...  ...      ...      ...    ...      ...   \n298   57    0   0       140   241    0        1      123      1      0.2   \n299   45    1   3       110   264    0        1      132      0      1.2   \n300   68    1   0       144   193    1        1      141      0      3.4   \n301   57    1   0       130   131    0        1      115      1      1.2   \n302   57    0   1       130   236    0        0      174      0      0.0   \n\n     slope  ca  thal  target  \n0        0   0     1       1  \n1        0   0     2       1  \n2        2   0     2       1  \n3        2   0     2       1  \n4        2   0     2       1  \n..     ...  ..   ...     ...  \n298      1   0     3       0  \n299      1   0     3       0  \n300      1   2     3       0  \n301      1   1     3       0  \n302      1   1     2       0  \n\n[303 rows x 14 columns]",
      "text/html": "<div>\n<style scoped>\n    .dataframe tbody tr th:only-of-type {\n        vertical-align: middle;\n    }\n\n    .dataframe tbody tr th {\n        vertical-align: top;\n    }\n\n    .dataframe thead th {\n        text-align: right;\n    }\n</style>\n<table border=\"1\" class=\"dataframe\">\n  <thead>\n    <tr style=\"text-align: right;\">\n      <th></th>\n      <th>age</th>\n      <th>sex</th>\n      <th>cp</th>\n      <th>trestbps</th>\n      <th>chol</th>\n      <th>fbs</th>\n      <th>restecg</th>\n      <th>thalach</th>\n      <th>exang</th>\n      <th>oldpeak</th>\n      <th>slope</th>\n      <th>ca</th>\n      <th>thal</th>\n      <th>target</th>\n    </tr>\n  </thead>\n  <tbody>\n    <tr>\n      <th>0</th>\n      <td>63</td>\n      <td>1</td>\n      <td>3</td>\n      <td>145</td>\n      <td>233</td>\n      <td>1</td>\n      <td>0</td>\n      <td>150</td>\n      <td>0</td>\n      <td>2.3</td>\n      <td>0</td>\n      <td>0</td>\n      <td>1</td>\n      <td>1</td>\n    </tr>\n    <tr>\n      <th>1</th>\n      <td>37</td>\n      <td>1</td>\n      <td>2</td>\n      <td>130</td>\n      <td>250</td>\n      <td>0</td>\n      <td>1</td>\n      <td>187</td>\n      <td>0</td>\n      <td>3.5</td>\n      <td>0</td>\n      <td>0</td>\n      <td>2</td>\n      <td>1</td>\n    </tr>\n    <tr>\n      <th>2</th>\n      <td>41</td>\n      <td>0</td>\n      <td>1</td>\n      <td>130</td>\n      <td>204</td>\n      <td>0</td>\n      <td>0</td>\n      <td>172</td>\n      <td>0</td>\n      <td>1.4</td>\n      <td>2</td>\n      <td>0</td>\n      <td>2</td>\n      <td>1</td>\n    </tr>\n    <tr>\n      <th>3</th>\n      <td>56</td>\n      <td>1</td>\n      <td>1</td>\n      <td>120</td>\n      <td>236</td>\n      <td>0</td>\n      <td>1</td>\n      <td>178</td>\n      <td>0</td>\n      <td>0.8</td>\n      <td>2</td>\n      <td>0</td>\n      <td>2</td>\n      <td>1</td>\n    </tr>\n    <tr>\n      <th>4</th>\n      <td>57</td>\n      <td>0</td>\n      <td>0</td>\n      <td>120</td>\n      <td>354</td>\n      <td>0</td>\n      <td>1</td>\n      <td>163</td>\n      <td>1</td>\n      <td>0.6</td>\n      <td>2</td>\n      <td>0</td>\n      <td>2</td>\n      <td>1</td>\n    </tr>\n    <tr>\n      <th>...</th>\n      <td>...</td>\n      <td>...</td>\n      <td>...</td>\n      <td>...</td>\n      <td>...</td>\n      <td>...</td>\n      <td>...</td>\n      <td>...</td>\n      <td>...</td>\n      <td>...</td>\n      <td>...</td>\n      <td>...</td>\n      <td>...</td>\n      <td>...</td>\n    </tr>\n    <tr>\n      <th>298</th>\n      <td>57</td>\n      <td>0</td>\n      <td>0</td>\n      <td>140</td>\n      <td>241</td>\n      <td>0</td>\n      <td>1</td>\n      <td>123</td>\n      <td>1</td>\n      <td>0.2</td>\n      <td>1</td>\n      <td>0</td>\n      <td>3</td>\n      <td>0</td>\n    </tr>\n    <tr>\n      <th>299</th>\n      <td>45</td>\n      <td>1</td>\n      <td>3</td>\n      <td>110</td>\n      <td>264</td>\n      <td>0</td>\n      <td>1</td>\n      <td>132</td>\n      <td>0</td>\n      <td>1.2</td>\n      <td>1</td>\n      <td>0</td>\n      <td>3</td>\n      <td>0</td>\n    </tr>\n    <tr>\n      <th>300</th>\n      <td>68</td>\n      <td>1</td>\n      <td>0</td>\n      <td>144</td>\n      <td>193</td>\n      <td>1</td>\n      <td>1</td>\n      <td>141</td>\n      <td>0</td>\n      <td>3.4</td>\n      <td>1</td>\n      <td>2</td>\n      <td>3</td>\n      <td>0</td>\n    </tr>\n    <tr>\n      <th>301</th>\n      <td>57</td>\n      <td>1</td>\n      <td>0</td>\n      <td>130</td>\n      <td>131</td>\n      <td>0</td>\n      <td>1</td>\n      <td>115</td>\n      <td>1</td>\n      <td>1.2</td>\n      <td>1</td>\n      <td>1</td>\n      <td>3</td>\n      <td>0</td>\n    </tr>\n    <tr>\n      <th>302</th>\n      <td>57</td>\n      <td>0</td>\n      <td>1</td>\n      <td>130</td>\n      <td>236</td>\n      <td>0</td>\n      <td>0</td>\n      <td>174</td>\n      <td>0</td>\n      <td>0.0</td>\n      <td>1</td>\n      <td>1</td>\n      <td>2</td>\n      <td>0</td>\n    </tr>\n  </tbody>\n</table>\n<p>303 rows × 14 columns</p>\n</div>"
     },
     "metadata": {}
    }
   ],
   "execution_count": 3
  },
  {
   "cell_type": "code",
   "source": "#  Split into Test and Training Data\nX_train, X_test, y_train, y_test = train_test_split(\n        df.drop('target', 1), \n        df['target'], \n        test_size = 0.3, \n        random_state=10\n        )",
   "metadata": {
    "tags": [],
    "cell_id": "00002-5d67ac67-8229-4e50-9645-791dad021a30",
    "deepnote_to_be_reexecuted": false,
    "source_hash": "ecb0238e",
    "execution_start": 1620378173498,
    "execution_millis": 1,
    "deepnote_cell_type": "code"
   },
   "outputs": [],
   "execution_count": null
  },
  {
   "cell_type": "markdown",
   "source": "# Columns\n\n- age - age in years\n\n- sex - sex (1 = male; 0 = female)\n\n- cp - chest pain type (1 = typical angina; 2 = atypical angina; 3 = non-anginal pain; 4 = asymptomatic)\n\n- trestbps - resting blood pressure (in mm Hg on admission to the hospital)\n\n- chol - serum cholestoral in mg/dl\n\n- fbs - fasting blood sugar > 120 mg/dl (1 = true; 0 = false)\n\n- restecg - resting electrocardiographic results (0 = normal; 1 = having ST-T; 2 = hypertrophy)\n\n- thalach - maximum heart rate achieved\n\n- exang - exercise induced angina (1 = yes; 0 = no)\n\n- oldpeak - ST depression induced by exercise relative to rest\n\n- slope - the slope of the peak exercise ST segment (1 = upsloping; 2 = flat; 3 = downsloping)\n\n- ca - number of major vessels (0-3) colored by flourosopy\n\n- thal - 3 = normal; 6 = fixed defect; 7 = reversable defect\n\n- num (target) - the predicted attribute - diagnosis of heart disease (angiographic disease status) (Value 0 = < 50% diameter narrowing; Value 1 = > 50% diameter narrowing)",
   "metadata": {
    "tags": [],
    "cell_id": "00002-f65bc8c3-96ba-4dbe-ad6f-3a177c58a174",
    "deepnote_cell_type": "markdown"
   }
  },
  {
   "cell_type": "markdown",
   "source": "# Key data points\n\n- cp - Look into angina types\n- trestbps - Over certain limit (can be told from restecg with hypertrophy?)\n- chol - Over certain limit\n- fbs - 1(true)\n- restecg - 1 or 2. ST-T is 1, this is most important\n- thalach - Over certain limit\n- exang - 1 means they had symptoms from exercise, 0 means it wasnt exercise induced. We look for 0\n- oldpeak - What ST?\n- slope - What is ST?\n- ca - What is flourosopy?\n- thal - 7 (maybe 6 aswell?)\n- target - 1 means high chance of heart attack",
   "metadata": {
    "tags": [],
    "cell_id": "00003-194e6500-c683-4e0d-82b5-50732e8593fb",
    "deepnote_cell_type": "markdown"
   }
  },
  {
   "cell_type": "code",
   "source": "df['target'].value_counts().plot(kind='bar', title='Count (target)');",
   "metadata": {
    "tags": [],
    "cell_id": "00003-feaf3d3f-c69c-4e01-951d-c98e715edde0",
    "deepnote_to_be_reexecuted": false,
    "source_hash": "68452315",
    "execution_start": 1620373723955,
    "execution_millis": 204,
    "deepnote_cell_type": "code"
   },
   "outputs": [
    {
     "data": {
      "text/plain": "<Figure size 432x288 with 1 Axes>",
      "image/png": "[encoded data removed]"
     },
     "metadata": {
      "needs_background": "light",
      "image/png": {
       "width": 375,
       "height": 261
      }
     },
     "output_type": "display_data"
    }
   ],
   "execution_count": null
  },
  {
   "cell_type": "code",
   "source": "#Check Missing\ndf.isnull().sum()",
   "metadata": {
    "tags": [],
    "cell_id": "00005-2e911e9a-f0db-4196-8806-769d253682ed",
    "deepnote_to_be_reexecuted": false,
    "source_hash": "4c2e42af",
    "execution_start": 1620377315076,
    "execution_millis": 13,
    "deepnote_cell_type": "code"
   },
   "outputs": [
    {
     "output_type": "execute_result",
     "execution_count": 12,
     "data": {
      "text/plain": "age         0\nsex         0\ncp          0\ntrestbps    0\nchol        0\nfbs         0\nrestecg     0\nthalach     0\nslope       0\nca          0\nthal        0\ntarget      0\nexang       0\noldpeak     0\ndtype: int64"
     },
     "metadata": {}
    }
   ],
   "execution_count": null
  },
  {
   "cell_type": "code",
   "source": "# Correlation heatmap\n\nplt.figure(figsize=(16, 6))\n\nheatmap = sns.heatmap(df.corr(), vmin=-1, vmax=1, annot=True)\nheatmap",
   "metadata": {
    "tags": [],
    "cell_id": "00008-cea8feb3-05e2-4fd6-8f49-462a35c6eb9e",
    "deepnote_to_be_reexecuted": false,
    "source_hash": "282bbe9f",
    "execution_start": 1620377907091,
    "execution_millis": 1718,
    "deepnote_cell_type": "code"
   },
   "outputs": [
    {
     "output_type": "execute_result",
     "execution_count": 17,
     "data": {
      "text/plain": "<AxesSubplot:>"
     },
     "metadata": {}
    },
    {
     "data": {
      "text/plain": "<Figure size 1152x432 with 2 Axes>",
      "image/png": "[encoded data removed]"
     },
     "metadata": {
      "image/png": {
       "width": 887,
       "height": 364
      }
     },
     "output_type": "display_data"
    }
   ],
   "execution_count": null
  },
  {
   "cell_type": "code",
   "source": "sns.violinplot(df['target'], df['thalach'])\n\n'''\nRESULT\n155+ indicated high chance of heart attack\n130 - 150 shows high survival\n'''",
   "metadata": {
    "tags": [],
    "cell_id": "00008-9b94a46b-7627-4ec7-8228-8716cd861a43",
    "deepnote_to_be_reexecuted": false,
    "source_hash": "1f1acb80",
    "execution_start": 1620380185664,
    "execution_millis": 177,
    "deepnote_cell_type": "code"
   },
   "outputs": [
    {
     "name": "stderr",
     "text": "/shared-libs/python3.7/py/lib/python3.7/site-packages/seaborn/_decorators.py:43: FutureWarning: Pass the following variables as keyword args: x, y. From version 0.12, the only valid positional argument will be `data`, and passing other arguments without an explicit keyword will result in an error or misinterpretation.\n  FutureWarning\n",
     "output_type": "stream"
    },
    {
     "output_type": "execute_result",
     "execution_count": 33,
     "data": {
      "text/plain": "<AxesSubplot:xlabel='target', ylabel='thalach'>"
     },
     "metadata": {}
    },
    {
     "data": {
      "text/plain": "<Figure size 432x288 with 1 Axes>",
      "image/png": "[encoded data removed]"
     },
     "metadata": {
      "image/png": {
       "width": 396,
       "height": 268
      }
     },
     "output_type": "display_data"
    }
   ],
   "execution_count": null
  },
  {
   "cell_type": "code",
   "source": "sns.violinplot(df['target'], df['cp'])\n\n'''\nRESULT\n0 = Survive\n1 = Heart attack\n2 = Highest chance of heart attack\n3 = Heart attack\n'''",
   "metadata": {
    "tags": [],
    "cell_id": "00009-2b0d12a9-506f-4ccc-9636-46153d1fb2cf",
    "deepnote_to_be_reexecuted": false,
    "source_hash": "bc4620c1",
    "execution_start": 1620380276191,
    "execution_millis": 111,
    "deepnote_cell_type": "code"
   },
   "outputs": [
    {
     "name": "stderr",
     "text": "/shared-libs/python3.7/py/lib/python3.7/site-packages/seaborn/_decorators.py:43: FutureWarning: Pass the following variables as keyword args: x, y. From version 0.12, the only valid positional argument will be `data`, and passing other arguments without an explicit keyword will result in an error or misinterpretation.\n  FutureWarning\n",
     "output_type": "stream"
    },
    {
     "output_type": "execute_result",
     "execution_count": 34,
     "data": {
      "text/plain": "<AxesSubplot:xlabel='target', ylabel='cp'>"
     },
     "metadata": {}
    },
    {
     "data": {
      "text/plain": "<Figure size 432x288 with 1 Axes>",
      "image/png": "[encoded data removed]"
     },
     "metadata": {
      "image/png": {
       "width": 382,
       "height": 268
      }
     },
     "output_type": "display_data"
    }
   ],
   "execution_count": null
  },
  {
   "cell_type": "code",
   "source": "sns.violinplot(df['target'], df['slope'])\n\n'''\nRESULT\n0 = Rare\n1 = High chance of survival\n2 = High chance of heart attack\n'''",
   "metadata": {
    "tags": [],
    "cell_id": "00010-c5f64d17-036f-4964-b8f7-b7460624a8f6",
    "deepnote_to_be_reexecuted": false,
    "source_hash": "1b20ac9f",
    "execution_start": 1620380523360,
    "execution_millis": 167,
    "deepnote_cell_type": "code"
   },
   "outputs": [
    {
     "name": "stderr",
     "text": "/shared-libs/python3.7/py/lib/python3.7/site-packages/seaborn/_decorators.py:43: FutureWarning: Pass the following variables as keyword args: x, y. From version 0.12, the only valid positional argument will be `data`, and passing other arguments without an explicit keyword will result in an error or misinterpretation.\n  FutureWarning\n",
     "output_type": "stream"
    },
    {
     "output_type": "execute_result",
     "execution_count": 35,
     "data": {
      "text/plain": "<AxesSubplot:xlabel='target', ylabel='slope'>"
     },
     "metadata": {}
    },
    {
     "data": {
      "text/plain": "<Figure size 432x288 with 1 Axes>",
      "image/png": "[encoded data removed]"
     },
     "metadata": {
      "image/png": {
       "width": 402,
       "height": 268
      }
     },
     "output_type": "display_data"
    }
   ],
   "execution_count": null
  },
  {
   "cell_type": "code",
   "source": "plt.bar(df['target'], df['cp'])",
   "metadata": {
    "tags": [],
    "cell_id": "00008-ad6cd410-7cda-4ab1-ad42-f4e10f6793b2",
    "deepnote_to_be_reexecuted": false,
    "source_hash": "d58141d2",
    "execution_start": 1620379050448,
    "execution_millis": 650,
    "deepnote_cell_type": "code"
   },
   "outputs": [
    {
     "output_type": "execute_result",
     "execution_count": 31,
     "data": {
      "text/plain": "<BarContainer object of 303 artists>"
     },
     "metadata": {}
    },
    {
     "data": {
      "text/plain": "<Figure size 432x288 with 1 Axes>",
      "image/png": "[encoded data removed]"
     },
     "metadata": {
      "image/png": {
       "width": 376,
       "height": 251
      }
     },
     "output_type": "display_data"
    }
   ],
   "execution_count": null
  },
  {
   "cell_type": "code",
   "source": "# Make new column of data\ncols = df.columns.tolist()\ncols=cols[:8]+cols[-2:]+cols[8:-2]\ndf = df[cols]\ndf",
   "metadata": {
    "tags": [],
    "cell_id": "00004-eb86cc39-e5d0-4326-9e8b-de00580dcfc0",
    "deepnote_to_be_reexecuted": false,
    "source_hash": "aa95cd77",
    "execution_start": 1620378384217,
    "execution_millis": 67,
    "deepnote_cell_type": "code"
   },
   "outputs": [
    {
     "output_type": "execute_result",
     "execution_count": 21,
     "data": {
      "application/vnd.deepnote.dataframe.v2+json": {
       "row_count": 303,
       "column_count": 14,
       "columns": [
        {
         "name": "age",
         "dtype": "int64",
         "stats": {
          "unique_count": 41,
          "nan_count": 0,
          "min": "29",
          "max": "77",
          "histogram": [
           {
            "bin_start": 29,
            "bin_end": 33.8,
            "count": 1
           },
           {
            "bin_start": 33.8,
            "bin_end": 38.6,
            "count": 11
           },
           {
            "bin_start": 38.6,
            "bin_end": 43.4,
            "count": 33
           },
           {
            "bin_start": 43.4,
            "bin_end": 48.2,
            "count": 38
           },
           {
            "bin_start": 48.2,
            "bin_end": 53,
            "count": 37
           },
           {
            "bin_start": 53,
            "bin_end": 57.8,
            "count": 60
           },
           {
            "bin_start": 57.8,
            "bin_end": 62.6,
            "count": 63
           },
           {
            "bin_start": 62.6,
            "bin_end": 67.4,
            "count": 43
           },
           {
            "bin_start": 67.4,
            "bin_end": 72.19999999999999,
            "count": 14
           },
           {
            "bin_start": 72.19999999999999,
            "bin_end": 77,
            "count": 3
           }
          ]
         }
        },
        {
         "name": "sex",
         "dtype": "int64",
         "stats": {
          "unique_count": 2,
          "nan_count": 0,
          "min": "0",
          "max": "1",
          "histogram": [
           {
            "bin_start": 0,
            "bin_end": 0.1,
            "count": 96
           },
           {
            "bin_start": 0.1,
            "bin_end": 0.2,
            "count": 0
           },
           {
            "bin_start": 0.2,
            "bin_end": 0.30000000000000004,
            "count": 0
           },
           {
            "bin_start": 0.30000000000000004,
            "bin_end": 0.4,
            "count": 0
           },
           {
            "bin_start": 0.4,
            "bin_end": 0.5,
            "count": 0
           },
           {
            "bin_start": 0.5,
            "bin_end": 0.6000000000000001,
            "count": 0
           },
           {
            "bin_start": 0.6000000000000001,
            "bin_end": 0.7000000000000001,
            "count": 0
           },
           {
            "bin_start": 0.7000000000000001,
            "bin_end": 0.8,
            "count": 0
           },
           {
            "bin_start": 0.8,
            "bin_end": 0.9,
            "count": 0
           },
           {
            "bin_start": 0.9,
            "bin_end": 1,
            "count": 207
           }
          ]
         }
        },
        {
         "name": "cp",
         "dtype": "int64",
         "stats": {
          "unique_count": 4,
          "nan_count": 0,
          "min": "0",
          "max": "3",
          "histogram": [
           {
            "bin_start": 0,
            "bin_end": 0.3,
            "count": 143
           },
           {
            "bin_start": 0.3,
            "bin_end": 0.6,
            "count": 0
           },
           {
            "bin_start": 0.6,
            "bin_end": 0.8999999999999999,
            "count": 0
           },
           {
            "bin_start": 0.8999999999999999,
            "bin_end": 1.2,
            "count": 50
           },
           {
            "bin_start": 1.2,
            "bin_end": 1.5,
            "count": 0
           },
           {
            "bin_start": 1.5,
            "bin_end": 1.7999999999999998,
            "count": 0
           },
           {
            "bin_start": 1.7999999999999998,
            "bin_end": 2.1,
            "count": 87
           },
           {
            "bin_start": 2.1,
            "bin_end": 2.4,
            "count": 0
           },
           {
            "bin_start": 2.4,
            "bin_end": 2.6999999999999997,
            "count": 0
           },
           {
            "bin_start": 2.6999999999999997,
            "bin_end": 3,
            "count": 23
           }
          ]
         }
        },
        {
         "name": "trestbps",
         "dtype": "int64",
         "stats": {
          "unique_count": 49,
          "nan_count": 0,
          "min": "94",
          "max": "200",
          "histogram": [
           {
            "bin_start": 94,
            "bin_end": 104.6,
            "count": 10
           },
           {
            "bin_start": 104.6,
            "bin_end": 115.2,
            "count": 42
           },
           {
            "bin_start": 115.2,
            "bin_end": 125.8,
            "count": 67
           },
           {
            "bin_start": 125.8,
            "bin_end": 136.4,
            "count": 74
           },
           {
            "bin_start": 136.4,
            "bin_end": 147,
            "count": 57
           },
           {
            "bin_start": 147,
            "bin_end": 157.6,
            "count": 27
           },
           {
            "bin_start": 157.6,
            "bin_end": 168.2,
            "count": 13
           },
           {
            "bin_start": 168.2,
            "bin_end": 178.8,
            "count": 8
           },
           {
            "bin_start": 178.8,
            "bin_end": 189.39999999999998,
            "count": 3
           },
           {
            "bin_start": 189.39999999999998,
            "bin_end": 200,
            "count": 2
           }
          ]
         }
        },
        {
         "name": "chol",
         "dtype": "int64",
         "stats": {
          "unique_count": 152,
          "nan_count": 0,
          "min": "126",
          "max": "564",
          "histogram": [
           {
            "bin_start": 126,
            "bin_end": 169.8,
            "count": 12
           },
           {
            "bin_start": 169.8,
            "bin_end": 213.6,
            "count": 73
           },
           {
            "bin_start": 213.6,
            "bin_end": 257.4,
            "count": 106
           },
           {
            "bin_start": 257.4,
            "bin_end": 301.2,
            "count": 69
           },
           {
            "bin_start": 301.2,
            "bin_end": 345,
            "count": 35
           },
           {
            "bin_start": 345,
            "bin_end": 388.79999999999995,
            "count": 3
           },
           {
            "bin_start": 388.79999999999995,
            "bin_end": 432.59999999999997,
            "count": 4
           },
           {
            "bin_start": 432.59999999999997,
            "bin_end": 476.4,
            "count": 0
           },
           {
            "bin_start": 476.4,
            "bin_end": 520.2,
            "count": 0
           },
           {
            "bin_start": 520.2,
            "bin_end": 564,
            "count": 1
           }
          ]
         }
        },
        {
         "name": "fbs",
         "dtype": "int64",
         "stats": {
          "unique_count": 2,
          "nan_count": 0,
          "min": "0",
          "max": "1",
          "histogram": [
           {
            "bin_start": 0,
            "bin_end": 0.1,
            "count": 258
           },
           {
            "bin_start": 0.1,
            "bin_end": 0.2,
            "count": 0
           },
           {
            "bin_start": 0.2,
            "bin_end": 0.30000000000000004,
            "count": 0
           },
           {
            "bin_start": 0.30000000000000004,
            "bin_end": 0.4,
            "count": 0
           },
           {
            "bin_start": 0.4,
            "bin_end": 0.5,
            "count": 0
           },
           {
            "bin_start": 0.5,
            "bin_end": 0.6000000000000001,
            "count": 0
           },
           {
            "bin_start": 0.6000000000000001,
            "bin_end": 0.7000000000000001,
            "count": 0
           },
           {
            "bin_start": 0.7000000000000001,
            "bin_end": 0.8,
            "count": 0
           },
           {
            "bin_start": 0.8,
            "bin_end": 0.9,
            "count": 0
           },
           {
            "bin_start": 0.9,
            "bin_end": 1,
            "count": 45
           }
          ]
         }
        },
        {
         "name": "restecg",
         "dtype": "int64",
         "stats": {
          "unique_count": 3,
          "nan_count": 0,
          "min": "0",
          "max": "2",
          "histogram": [
           {
            "bin_start": 0,
            "bin_end": 0.2,
            "count": 147
           },
           {
            "bin_start": 0.2,
            "bin_end": 0.4,
            "count": 0
           },
           {
            "bin_start": 0.4,
            "bin_end": 0.6000000000000001,
            "count": 0
           },
           {
            "bin_start": 0.6000000000000001,
            "bin_end": 0.8,
            "count": 0
           },
           {
            "bin_start": 0.8,
            "bin_end": 1,
            "count": 0
           },
           {
            "bin_start": 1,
            "bin_end": 1.2000000000000002,
            "count": 152
           },
           {
            "bin_start": 1.2000000000000002,
            "bin_end": 1.4000000000000001,
            "count": 0
           },
           {
            "bin_start": 1.4000000000000001,
            "bin_end": 1.6,
            "count": 0
           },
           {
            "bin_start": 1.6,
            "bin_end": 1.8,
            "count": 0
           },
           {
            "bin_start": 1.8,
            "bin_end": 2,
            "count": 4
           }
          ]
         }
        },
        {
         "name": "thalach",
         "dtype": "int64",
         "stats": {
          "unique_count": 91,
          "nan_count": 0,
          "min": "71",
          "max": "202",
          "histogram": [
           {
            "bin_start": 71,
            "bin_end": 84.1,
            "count": 1
           },
           {
            "bin_start": 84.1,
            "bin_end": 97.2,
            "count": 6
           },
           {
            "bin_start": 97.2,
            "bin_end": 110.3,
            "count": 11
           },
           {
            "bin_start": 110.3,
            "bin_end": 123.4,
            "count": 26
           },
           {
            "bin_start": 123.4,
            "bin_end": 136.5,
            "count": 35
           },
           {
            "bin_start": 136.5,
            "bin_end": 149.6,
            "count": 53
           },
           {
            "bin_start": 149.6,
            "bin_end": 162.7,
            "count": 77
           },
           {
            "bin_start": 162.7,
            "bin_end": 175.8,
            "count": 63
           },
           {
            "bin_start": 175.8,
            "bin_end": 188.89999999999998,
            "count": 26
           },
           {
            "bin_start": 188.89999999999998,
            "bin_end": 202,
            "count": 5
           }
          ]
         }
        },
        {
         "name": "thal",
         "dtype": "int64",
         "stats": {
          "unique_count": 4,
          "nan_count": 0,
          "min": "0",
          "max": "3",
          "histogram": [
           {
            "bin_start": 0,
            "bin_end": 0.3,
            "count": 2
           },
           {
            "bin_start": 0.3,
            "bin_end": 0.6,
            "count": 0
           },
           {
            "bin_start": 0.6,
            "bin_end": 0.8999999999999999,
            "count": 0
           },
           {
            "bin_start": 0.8999999999999999,
            "bin_end": 1.2,
            "count": 18
           },
           {
            "bin_start": 1.2,
            "bin_end": 1.5,
            "count": 0
           },
           {
            "bin_start": 1.5,
            "bin_end": 1.7999999999999998,
            "count": 0
           },
           {
            "bin_start": 1.7999999999999998,
            "bin_end": 2.1,
            "count": 166
           },
           {
            "bin_start": 2.1,
            "bin_end": 2.4,
            "count": 0
           },
           {
            "bin_start": 2.4,
            "bin_end": 2.6999999999999997,
            "count": 0
           },
           {
            "bin_start": 2.6999999999999997,
            "bin_end": 3,
            "count": 117
           }
          ]
         }
        },
        {
         "name": "target",
         "dtype": "int64",
         "stats": {
          "unique_count": 2,
          "nan_count": 0,
          "min": "0",
          "max": "1",
          "histogram": [
           {
            "bin_start": 0,
            "bin_end": 0.1,
            "count": 138
           },
           {
            "bin_start": 0.1,
            "bin_end": 0.2,
            "count": 0
           },
           {
            "bin_start": 0.2,
            "bin_end": 0.30000000000000004,
            "count": 0
           },
           {
            "bin_start": 0.30000000000000004,
            "bin_end": 0.4,
            "count": 0
           },
           {
            "bin_start": 0.4,
            "bin_end": 0.5,
            "count": 0
           },
           {
            "bin_start": 0.5,
            "bin_end": 0.6000000000000001,
            "count": 0
           },
           {
            "bin_start": 0.6000000000000001,
            "bin_end": 0.7000000000000001,
            "count": 0
           },
           {
            "bin_start": 0.7000000000000001,
            "bin_end": 0.8,
            "count": 0
           },
           {
            "bin_start": 0.8,
            "bin_end": 0.9,
            "count": 0
           },
           {
            "bin_start": 0.9,
            "bin_end": 1,
            "count": 165
           }
          ]
         }
        },
        {
         "name": "exang",
         "dtype": "int64",
         "stats": {
          "unique_count": 2,
          "nan_count": 0,
          "min": "0",
          "max": "1",
          "histogram": [
           {
            "bin_start": 0,
            "bin_end": 0.1,
            "count": 204
           },
           {
            "bin_start": 0.1,
            "bin_end": 0.2,
            "count": 0
           },
           {
            "bin_start": 0.2,
            "bin_end": 0.30000000000000004,
            "count": 0
           },
           {
            "bin_start": 0.30000000000000004,
            "bin_end": 0.4,
            "count": 0
           },
           {
            "bin_start": 0.4,
            "bin_end": 0.5,
            "count": 0
           },
           {
            "bin_start": 0.5,
            "bin_end": 0.6000000000000001,
            "count": 0
           },
           {
            "bin_start": 0.6000000000000001,
            "bin_end": 0.7000000000000001,
            "count": 0
           },
           {
            "bin_start": 0.7000000000000001,
            "bin_end": 0.8,
            "count": 0
           },
           {
            "bin_start": 0.8,
            "bin_end": 0.9,
            "count": 0
           },
           {
            "bin_start": 0.9,
            "bin_end": 1,
            "count": 99
           }
          ]
         }
        },
        {
         "name": "oldpeak",
         "dtype": "float64",
         "stats": {
          "unique_count": 40,
          "nan_count": 0,
          "min": "0.0",
          "max": "6.2",
          "histogram": [
           {
            "bin_start": 0,
            "bin_end": 0.62,
            "count": 149
           },
           {
            "bin_start": 0.62,
            "bin_end": 1.24,
            "count": 50
           },
           {
            "bin_start": 1.24,
            "bin_end": 1.8599999999999999,
            "count": 40
           },
           {
            "bin_start": 1.8599999999999999,
            "bin_end": 2.48,
            "count": 24
           },
           {
            "bin_start": 2.48,
            "bin_end": 3.1,
            "count": 20
           },
           {
            "bin_start": 3.1,
            "bin_end": 3.7199999999999998,
            "count": 11
           },
           {
            "bin_start": 3.7199999999999998,
            "bin_end": 4.34,
            "count": 6
           },
           {
            "bin_start": 4.34,
            "bin_end": 4.96,
            "count": 1
           },
           {
            "bin_start": 4.96,
            "bin_end": 5.58,
            "count": 0
           },
           {
            "bin_start": 5.58,
            "bin_end": 6.2,
            "count": 2
           }
          ]
         }
        },
        {
         "name": "slope",
         "dtype": "int64",
         "stats": {
          "unique_count": 3,
          "nan_count": 0,
          "min": "0",
          "max": "2",
          "histogram": [
           {
            "bin_start": 0,
            "bin_end": 0.2,
            "count": 21
           },
           {
            "bin_start": 0.2,
            "bin_end": 0.4,
            "count": 0
           },
           {
            "bin_start": 0.4,
            "bin_end": 0.6000000000000001,
            "count": 0
           },
           {
            "bin_start": 0.6000000000000001,
            "bin_end": 0.8,
            "count": 0
           },
           {
            "bin_start": 0.8,
            "bin_end": 1,
            "count": 0
           },
           {
            "bin_start": 1,
            "bin_end": 1.2000000000000002,
            "count": 140
           },
           {
            "bin_start": 1.2000000000000002,
            "bin_end": 1.4000000000000001,
            "count": 0
           },
           {
            "bin_start": 1.4000000000000001,
            "bin_end": 1.6,
            "count": 0
           },
           {
            "bin_start": 1.6,
            "bin_end": 1.8,
            "count": 0
           },
           {
            "bin_start": 1.8,
            "bin_end": 2,
            "count": 142
           }
          ]
         }
        },
        {
         "name": "ca",
         "dtype": "int64",
         "stats": {
          "unique_count": 5,
          "nan_count": 0,
          "min": "0",
          "max": "4",
          "histogram": [
           {
            "bin_start": 0,
            "bin_end": 0.4,
            "count": 175
           },
           {
            "bin_start": 0.4,
            "bin_end": 0.8,
            "count": 0
           },
           {
            "bin_start": 0.8,
            "bin_end": 1.2000000000000002,
            "count": 65
           },
           {
            "bin_start": 1.2000000000000002,
            "bin_end": 1.6,
            "count": 0
           },
           {
            "bin_start": 1.6,
            "bin_end": 2,
            "count": 0
           },
           {
            "bin_start": 2,
            "bin_end": 2.4000000000000004,
            "count": 38
           },
           {
            "bin_start": 2.4000000000000004,
            "bin_end": 2.8000000000000003,
            "count": 0
           },
           {
            "bin_start": 2.8000000000000003,
            "bin_end": 3.2,
            "count": 20
           },
           {
            "bin_start": 3.2,
            "bin_end": 3.6,
            "count": 0
           },
           {
            "bin_start": 3.6,
            "bin_end": 4,
            "count": 5
           }
          ]
         }
        },
        {
         "name": "_deepnote_index_column",
         "dtype": "int64"
        }
       ],
       "rows_top": [
        {
         "age": 63,
         "sex": 1,
         "cp": 3,
         "trestbps": 145,
         "chol": 233,
         "fbs": 1,
         "restecg": 0,
         "thalach": 150,
         "thal": 1,
         "target": 1,
         "exang": 0,
         "oldpeak": 2.3,
         "slope": 0,
         "ca": 0,
         "_deepnote_index_column": 0
        },
        {
         "age": 37,
         "sex": 1,
         "cp": 2,
         "trestbps": 130,
         "chol": 250,
         "fbs": 0,
         "restecg": 1,
         "thalach": 187,
         "thal": 2,
         "target": 1,
         "exang": 0,
         "oldpeak": 3.5,
         "slope": 0,
         "ca": 0,
         "_deepnote_index_column": 1
        },
        {
         "age": 41,
         "sex": 0,
         "cp": 1,
         "trestbps": 130,
         "chol": 204,
         "fbs": 0,
         "restecg": 0,
         "thalach": 172,
         "thal": 2,
         "target": 1,
         "exang": 0,
         "oldpeak": 1.4,
         "slope": 2,
         "ca": 0,
         "_deepnote_index_column": 2
        },
        {
         "age": 56,
         "sex": 1,
         "cp": 1,
         "trestbps": 120,
         "chol": 236,
         "fbs": 0,
         "restecg": 1,
         "thalach": 178,
         "thal": 2,
         "target": 1,
         "exang": 0,
         "oldpeak": 0.8,
         "slope": 2,
         "ca": 0,
         "_deepnote_index_column": 3
        },
        {
         "age": 57,
         "sex": 0,
         "cp": 0,
         "trestbps": 120,
         "chol": 354,
         "fbs": 0,
         "restecg": 1,
         "thalach": 163,
         "thal": 2,
         "target": 1,
         "exang": 1,
         "oldpeak": 0.6,
         "slope": 2,
         "ca": 0,
         "_deepnote_index_column": 4
        },
        {
         "age": 57,
         "sex": 1,
         "cp": 0,
         "trestbps": 140,
         "chol": 192,
         "fbs": 0,
         "restecg": 1,
         "thalach": 148,
         "thal": 1,
         "target": 1,
         "exang": 0,
         "oldpeak": 0.4,
         "slope": 1,
         "ca": 0,
         "_deepnote_index_column": 5
        },
        {
         "age": 56,
         "sex": 0,
         "cp": 1,
         "trestbps": 140,
         "chol": 294,
         "fbs": 0,
         "restecg": 0,
         "thalach": 153,
         "thal": 2,
         "target": 1,
         "exang": 0,
         "oldpeak": 1.3,
         "slope": 1,
         "ca": 0,
         "_deepnote_index_column": 6
        },
        {
         "age": 44,
         "sex": 1,
         "cp": 1,
         "trestbps": 120,
         "chol": 263,
         "fbs": 0,
         "restecg": 1,
         "thalach": 173,
         "thal": 3,
         "target": 1,
         "exang": 0,
         "oldpeak": 0,
         "slope": 2,
         "ca": 0,
         "_deepnote_index_column": 7
        },
        {
         "age": 52,
         "sex": 1,
         "cp": 2,
         "trestbps": 172,
         "chol": 199,
         "fbs": 1,
         "restecg": 1,
         "thalach": 162,
         "thal": 3,
         "target": 1,
         "exang": 0,
         "oldpeak": 0.5,
         "slope": 2,
         "ca": 0,
         "_deepnote_index_column": 8
        },
        {
         "age": 57,
         "sex": 1,
         "cp": 2,
         "trestbps": 150,
         "chol": 168,
         "fbs": 0,
         "restecg": 1,
         "thalach": 174,
         "thal": 2,
         "target": 1,
         "exang": 0,
         "oldpeak": 1.6,
         "slope": 2,
         "ca": 0,
         "_deepnote_index_column": 9
        },
        {
         "age": 54,
         "sex": 1,
         "cp": 0,
         "trestbps": 140,
         "chol": 239,
         "fbs": 0,
         "restecg": 1,
         "thalach": 160,
         "thal": 2,
         "target": 1,
         "exang": 0,
         "oldpeak": 1.2,
         "slope": 2,
         "ca": 0,
         "_deepnote_index_column": 10
        },
        {
         "age": 48,
         "sex": 0,
         "cp": 2,
         "trestbps": 130,
         "chol": 275,
         "fbs": 0,
         "restecg": 1,
         "thalach": 139,
         "thal": 2,
         "target": 1,
         "exang": 0,
         "oldpeak": 0.2,
         "slope": 2,
         "ca": 0,
         "_deepnote_index_column": 11
        },
        {
         "age": 49,
         "sex": 1,
         "cp": 1,
         "trestbps": 130,
         "chol": 266,
         "fbs": 0,
         "restecg": 1,
         "thalach": 171,
         "thal": 2,
         "target": 1,
         "exang": 0,
         "oldpeak": 0.6,
         "slope": 2,
         "ca": 0,
         "_deepnote_index_column": 12
        },
        {
         "age": 64,
         "sex": 1,
         "cp": 3,
         "trestbps": 110,
         "chol": 211,
         "fbs": 0,
         "restecg": 0,
         "thalach": 144,
         "thal": 2,
         "target": 1,
         "exang": 1,
         "oldpeak": 1.8,
         "slope": 1,
         "ca": 0,
         "_deepnote_index_column": 13
        },
        {
         "age": 58,
         "sex": 0,
         "cp": 3,
         "trestbps": 150,
         "chol": 283,
         "fbs": 1,
         "restecg": 0,
         "thalach": 162,
         "thal": 2,
         "target": 1,
         "exang": 0,
         "oldpeak": 1,
         "slope": 2,
         "ca": 0,
         "_deepnote_index_column": 14
        },
        {
         "age": 50,
         "sex": 0,
         "cp": 2,
         "trestbps": 120,
         "chol": 219,
         "fbs": 0,
         "restecg": 1,
         "thalach": 158,
         "thal": 2,
         "target": 1,
         "exang": 0,
         "oldpeak": 1.6,
         "slope": 1,
         "ca": 0,
         "_deepnote_index_column": 15
        },
        {
         "age": 58,
         "sex": 0,
         "cp": 2,
         "trestbps": 120,
         "chol": 340,
         "fbs": 0,
         "restecg": 1,
         "thalach": 172,
         "thal": 2,
         "target": 1,
         "exang": 0,
         "oldpeak": 0,
         "slope": 2,
         "ca": 0,
         "_deepnote_index_column": 16
        },
        {
         "age": 66,
         "sex": 0,
         "cp": 3,
         "trestbps": 150,
         "chol": 226,
         "fbs": 0,
         "restecg": 1,
         "thalach": 114,
         "thal": 2,
         "target": 1,
         "exang": 0,
         "oldpeak": 2.6,
         "slope": 0,
         "ca": 0,
         "_deepnote_index_column": 17
        },
        {
         "age": 43,
         "sex": 1,
         "cp": 0,
         "trestbps": 150,
         "chol": 247,
         "fbs": 0,
         "restecg": 1,
         "thalach": 171,
         "thal": 2,
         "target": 1,
         "exang": 0,
         "oldpeak": 1.5,
         "slope": 2,
         "ca": 0,
         "_deepnote_index_column": 18
        },
        {
         "age": 69,
         "sex": 0,
         "cp": 3,
         "trestbps": 140,
         "chol": 239,
         "fbs": 0,
         "restecg": 1,
         "thalach": 151,
         "thal": 2,
         "target": 1,
         "exang": 0,
         "oldpeak": 1.8,
         "slope": 2,
         "ca": 2,
         "_deepnote_index_column": 19
        },
        {
         "age": 59,
         "sex": 1,
         "cp": 0,
         "trestbps": 135,
         "chol": 234,
         "fbs": 0,
         "restecg": 1,
         "thalach": 161,
         "thal": 3,
         "target": 1,
         "exang": 0,
         "oldpeak": 0.5,
         "slope": 1,
         "ca": 0,
         "_deepnote_index_column": 20
        },
        {
         "age": 44,
         "sex": 1,
         "cp": 2,
         "trestbps": 130,
         "chol": 233,
         "fbs": 0,
         "restecg": 1,
         "thalach": 179,
         "thal": 2,
         "target": 1,
         "exang": 1,
         "oldpeak": 0.4,
         "slope": 2,
         "ca": 0,
         "_deepnote_index_column": 21
        },
        {
         "age": 42,
         "sex": 1,
         "cp": 0,
         "trestbps": 140,
         "chol": 226,
         "fbs": 0,
         "restecg": 1,
         "thalach": 178,
         "thal": 2,
         "target": 1,
         "exang": 0,
         "oldpeak": 0,
         "slope": 2,
         "ca": 0,
         "_deepnote_index_column": 22
        },
        {
         "age": 61,
         "sex": 1,
         "cp": 2,
         "trestbps": 150,
         "chol": 243,
         "fbs": 1,
         "restecg": 1,
         "thalach": 137,
         "thal": 2,
         "target": 1,
         "exang": 1,
         "oldpeak": 1,
         "slope": 1,
         "ca": 0,
         "_deepnote_index_column": 23
        },
        {
         "age": 40,
         "sex": 1,
         "cp": 3,
         "trestbps": 140,
         "chol": 199,
         "fbs": 0,
         "restecg": 1,
         "thalach": 178,
         "thal": 3,
         "target": 1,
         "exang": 1,
         "oldpeak": 1.4,
         "slope": 2,
         "ca": 0,
         "_deepnote_index_column": 24
        },
        {
         "age": 71,
         "sex": 0,
         "cp": 1,
         "trestbps": 160,
         "chol": 302,
         "fbs": 0,
         "restecg": 1,
         "thalach": 162,
         "thal": 2,
         "target": 1,
         "exang": 0,
         "oldpeak": 0.4,
         "slope": 2,
         "ca": 2,
         "_deepnote_index_column": 25
        },
        {
         "age": 59,
         "sex": 1,
         "cp": 2,
         "trestbps": 150,
         "chol": 212,
         "fbs": 1,
         "restecg": 1,
         "thalach": 157,
         "thal": 2,
         "target": 1,
         "exang": 0,
         "oldpeak": 1.6,
         "slope": 2,
         "ca": 0,
         "_deepnote_index_column": 26
        },
        {
         "age": 51,
         "sex": 1,
         "cp": 2,
         "trestbps": 110,
         "chol": 175,
         "fbs": 0,
         "restecg": 1,
         "thalach": 123,
         "thal": 2,
         "target": 1,
         "exang": 0,
         "oldpeak": 0.6,
         "slope": 2,
         "ca": 0,
         "_deepnote_index_column": 27
        },
        {
         "age": 65,
         "sex": 0,
         "cp": 2,
         "trestbps": 140,
         "chol": 417,
         "fbs": 1,
         "restecg": 0,
         "thalach": 157,
         "thal": 2,
         "target": 1,
         "exang": 0,
         "oldpeak": 0.8,
         "slope": 2,
         "ca": 1,
         "_deepnote_index_column": 28
        },
        {
         "age": 53,
         "sex": 1,
         "cp": 2,
         "trestbps": 130,
         "chol": 197,
         "fbs": 1,
         "restecg": 0,
         "thalach": 152,
         "thal": 2,
         "target": 1,
         "exang": 0,
         "oldpeak": 1.2,
         "slope": 0,
         "ca": 0,
         "_deepnote_index_column": 29
        },
        {
         "age": 41,
         "sex": 0,
         "cp": 1,
         "trestbps": 105,
         "chol": 198,
         "fbs": 0,
         "restecg": 1,
         "thalach": 168,
         "thal": 2,
         "target": 1,
         "exang": 0,
         "oldpeak": 0,
         "slope": 2,
         "ca": 1,
         "_deepnote_index_column": 30
        },
        {
         "age": 65,
         "sex": 1,
         "cp": 0,
         "trestbps": 120,
         "chol": 177,
         "fbs": 0,
         "restecg": 1,
         "thalach": 140,
         "thal": 3,
         "target": 1,
         "exang": 0,
         "oldpeak": 0.4,
         "slope": 2,
         "ca": 0,
         "_deepnote_index_column": 31
        },
        {
         "age": 44,
         "sex": 1,
         "cp": 1,
         "trestbps": 130,
         "chol": 219,
         "fbs": 0,
         "restecg": 0,
         "thalach": 188,
         "thal": 2,
         "target": 1,
         "exang": 0,
         "oldpeak": 0,
         "slope": 2,
         "ca": 0,
         "_deepnote_index_column": 32
        },
        {
         "age": 54,
         "sex": 1,
         "cp": 2,
         "trestbps": 125,
         "chol": 273,
         "fbs": 0,
         "restecg": 0,
         "thalach": 152,
         "thal": 2,
         "target": 1,
         "exang": 0,
         "oldpeak": 0.5,
         "slope": 0,
         "ca": 1,
         "_deepnote_index_column": 33
        },
        {
         "age": 51,
         "sex": 1,
         "cp": 3,
         "trestbps": 125,
         "chol": 213,
         "fbs": 0,
         "restecg": 0,
         "thalach": 125,
         "thal": 2,
         "target": 1,
         "exang": 1,
         "oldpeak": 1.4,
         "slope": 2,
         "ca": 1,
         "_deepnote_index_column": 34
        }
       ],
       "rows_bottom": [
        {
         "age": 49,
         "sex": 1,
         "cp": 2,
         "trestbps": 118,
         "chol": 149,
         "fbs": 0,
         "restecg": 0,
         "thalach": 126,
         "thal": 2,
         "target": 0,
         "exang": 0,
         "oldpeak": 0.8,
         "slope": 2,
         "ca": 3,
         "_deepnote_index_column": 267
        },
        {
         "age": 54,
         "sex": 1,
         "cp": 0,
         "trestbps": 122,
         "chol": 286,
         "fbs": 0,
         "restecg": 0,
         "thalach": 116,
         "thal": 2,
         "target": 0,
         "exang": 1,
         "oldpeak": 3.2,
         "slope": 1,
         "ca": 2,
         "_deepnote_index_column": 268
        },
        {
         "age": 56,
         "sex": 1,
         "cp": 0,
         "trestbps": 130,
         "chol": 283,
         "fbs": 1,
         "restecg": 0,
         "thalach": 103,
         "thal": 3,
         "target": 0,
         "exang": 1,
         "oldpeak": 1.6,
         "slope": 0,
         "ca": 0,
         "_deepnote_index_column": 269
        },
        {
         "age": 46,
         "sex": 1,
         "cp": 0,
         "trestbps": 120,
         "chol": 249,
         "fbs": 0,
         "restecg": 0,
         "thalach": 144,
         "thal": 3,
         "target": 0,
         "exang": 0,
         "oldpeak": 0.8,
         "slope": 2,
         "ca": 0,
         "_deepnote_index_column": 270
        },
        {
         "age": 61,
         "sex": 1,
         "cp": 3,
         "trestbps": 134,
         "chol": 234,
         "fbs": 0,
         "restecg": 1,
         "thalach": 145,
         "thal": 2,
         "target": 0,
         "exang": 0,
         "oldpeak": 2.6,
         "slope": 1,
         "ca": 2,
         "_deepnote_index_column": 271
        },
        {
         "age": 67,
         "sex": 1,
         "cp": 0,
         "trestbps": 120,
         "chol": 237,
         "fbs": 0,
         "restecg": 1,
         "thalach": 71,
         "thal": 2,
         "target": 0,
         "exang": 0,
         "oldpeak": 1,
         "slope": 1,
         "ca": 0,
         "_deepnote_index_column": 272
        },
        {
         "age": 58,
         "sex": 1,
         "cp": 0,
         "trestbps": 100,
         "chol": 234,
         "fbs": 0,
         "restecg": 1,
         "thalach": 156,
         "thal": 3,
         "target": 0,
         "exang": 0,
         "oldpeak": 0.1,
         "slope": 2,
         "ca": 1,
         "_deepnote_index_column": 273
        },
        {
         "age": 47,
         "sex": 1,
         "cp": 0,
         "trestbps": 110,
         "chol": 275,
         "fbs": 0,
         "restecg": 0,
         "thalach": 118,
         "thal": 2,
         "target": 0,
         "exang": 1,
         "oldpeak": 1,
         "slope": 1,
         "ca": 1,
         "_deepnote_index_column": 274
        },
        {
         "age": 52,
         "sex": 1,
         "cp": 0,
         "trestbps": 125,
         "chol": 212,
         "fbs": 0,
         "restecg": 1,
         "thalach": 168,
         "thal": 3,
         "target": 0,
         "exang": 0,
         "oldpeak": 1,
         "slope": 2,
         "ca": 2,
         "_deepnote_index_column": 275
        },
        {
         "age": 58,
         "sex": 1,
         "cp": 0,
         "trestbps": 146,
         "chol": 218,
         "fbs": 0,
         "restecg": 1,
         "thalach": 105,
         "thal": 3,
         "target": 0,
         "exang": 0,
         "oldpeak": 2,
         "slope": 1,
         "ca": 1,
         "_deepnote_index_column": 276
        },
        {
         "age": 57,
         "sex": 1,
         "cp": 1,
         "trestbps": 124,
         "chol": 261,
         "fbs": 0,
         "restecg": 1,
         "thalach": 141,
         "thal": 3,
         "target": 0,
         "exang": 0,
         "oldpeak": 0.3,
         "slope": 2,
         "ca": 0,
         "_deepnote_index_column": 277
        },
        {
         "age": 58,
         "sex": 0,
         "cp": 1,
         "trestbps": 136,
         "chol": 319,
         "fbs": 1,
         "restecg": 0,
         "thalach": 152,
         "thal": 2,
         "target": 0,
         "exang": 0,
         "oldpeak": 0,
         "slope": 2,
         "ca": 2,
         "_deepnote_index_column": 278
        },
        {
         "age": 61,
         "sex": 1,
         "cp": 0,
         "trestbps": 138,
         "chol": 166,
         "fbs": 0,
         "restecg": 0,
         "thalach": 125,
         "thal": 2,
         "target": 0,
         "exang": 1,
         "oldpeak": 3.6,
         "slope": 1,
         "ca": 1,
         "_deepnote_index_column": 279
        },
        {
         "age": 42,
         "sex": 1,
         "cp": 0,
         "trestbps": 136,
         "chol": 315,
         "fbs": 0,
         "restecg": 1,
         "thalach": 125,
         "thal": 1,
         "target": 0,
         "exang": 1,
         "oldpeak": 1.8,
         "slope": 1,
         "ca": 0,
         "_deepnote_index_column": 280
        },
        {
         "age": 52,
         "sex": 1,
         "cp": 0,
         "trestbps": 128,
         "chol": 204,
         "fbs": 1,
         "restecg": 1,
         "thalach": 156,
         "thal": 0,
         "target": 0,
         "exang": 1,
         "oldpeak": 1,
         "slope": 1,
         "ca": 0,
         "_deepnote_index_column": 281
        },
        {
         "age": 59,
         "sex": 1,
         "cp": 2,
         "trestbps": 126,
         "chol": 218,
         "fbs": 1,
         "restecg": 1,
         "thalach": 134,
         "thal": 1,
         "target": 0,
         "exang": 0,
         "oldpeak": 2.2,
         "slope": 1,
         "ca": 1,
         "_deepnote_index_column": 282
        },
        {
         "age": 40,
         "sex": 1,
         "cp": 0,
         "trestbps": 152,
         "chol": 223,
         "fbs": 0,
         "restecg": 1,
         "thalach": 181,
         "thal": 3,
         "target": 0,
         "exang": 0,
         "oldpeak": 0,
         "slope": 2,
         "ca": 0,
         "_deepnote_index_column": 283
        },
        {
         "age": 61,
         "sex": 1,
         "cp": 0,
         "trestbps": 140,
         "chol": 207,
         "fbs": 0,
         "restecg": 0,
         "thalach": 138,
         "thal": 3,
         "target": 0,
         "exang": 1,
         "oldpeak": 1.9,
         "slope": 2,
         "ca": 1,
         "_deepnote_index_column": 284
        },
        {
         "age": 46,
         "sex": 1,
         "cp": 0,
         "trestbps": 140,
         "chol": 311,
         "fbs": 0,
         "restecg": 1,
         "thalach": 120,
         "thal": 3,
         "target": 0,
         "exang": 1,
         "oldpeak": 1.8,
         "slope": 1,
         "ca": 2,
         "_deepnote_index_column": 285
        },
        {
         "age": 59,
         "sex": 1,
         "cp": 3,
         "trestbps": 134,
         "chol": 204,
         "fbs": 0,
         "restecg": 1,
         "thalach": 162,
         "thal": 2,
         "target": 0,
         "exang": 0,
         "oldpeak": 0.8,
         "slope": 2,
         "ca": 2,
         "_deepnote_index_column": 286
        },
        {
         "age": 57,
         "sex": 1,
         "cp": 1,
         "trestbps": 154,
         "chol": 232,
         "fbs": 0,
         "restecg": 0,
         "thalach": 164,
         "thal": 2,
         "target": 0,
         "exang": 0,
         "oldpeak": 0,
         "slope": 2,
         "ca": 1,
         "_deepnote_index_column": 287
        },
        {
         "age": 57,
         "sex": 1,
         "cp": 0,
         "trestbps": 110,
         "chol": 335,
         "fbs": 0,
         "restecg": 1,
         "thalach": 143,
         "thal": 3,
         "target": 0,
         "exang": 1,
         "oldpeak": 3,
         "slope": 1,
         "ca": 1,
         "_deepnote_index_column": 288
        },
        {
         "age": 55,
         "sex": 0,
         "cp": 0,
         "trestbps": 128,
         "chol": 205,
         "fbs": 0,
         "restecg": 2,
         "thalach": 130,
         "thal": 3,
         "target": 0,
         "exang": 1,
         "oldpeak": 2,
         "slope": 1,
         "ca": 1,
         "_deepnote_index_column": 289
        },
        {
         "age": 61,
         "sex": 1,
         "cp": 0,
         "trestbps": 148,
         "chol": 203,
         "fbs": 0,
         "restecg": 1,
         "thalach": 161,
         "thal": 3,
         "target": 0,
         "exang": 0,
         "oldpeak": 0,
         "slope": 2,
         "ca": 1,
         "_deepnote_index_column": 290
        },
        {
         "age": 58,
         "sex": 1,
         "cp": 0,
         "trestbps": 114,
         "chol": 318,
         "fbs": 0,
         "restecg": 2,
         "thalach": 140,
         "thal": 1,
         "target": 0,
         "exang": 0,
         "oldpeak": 4.4,
         "slope": 0,
         "ca": 3,
         "_deepnote_index_column": 291
        },
        {
         "age": 58,
         "sex": 0,
         "cp": 0,
         "trestbps": 170,
         "chol": 225,
         "fbs": 1,
         "restecg": 0,
         "thalach": 146,
         "thal": 1,
         "target": 0,
         "exang": 1,
         "oldpeak": 2.8,
         "slope": 1,
         "ca": 2,
         "_deepnote_index_column": 292
        },
        {
         "age": 67,
         "sex": 1,
         "cp": 2,
         "trestbps": 152,
         "chol": 212,
         "fbs": 0,
         "restecg": 0,
         "thalach": 150,
         "thal": 3,
         "target": 0,
         "exang": 0,
         "oldpeak": 0.8,
         "slope": 1,
         "ca": 0,
         "_deepnote_index_column": 293
        },
        {
         "age": 44,
         "sex": 1,
         "cp": 0,
         "trestbps": 120,
         "chol": 169,
         "fbs": 0,
         "restecg": 1,
         "thalach": 144,
         "thal": 1,
         "target": 0,
         "exang": 1,
         "oldpeak": 2.8,
         "slope": 0,
         "ca": 0,
         "_deepnote_index_column": 294
        },
        {
         "age": 63,
         "sex": 1,
         "cp": 0,
         "trestbps": 140,
         "chol": 187,
         "fbs": 0,
         "restecg": 0,
         "thalach": 144,
         "thal": 3,
         "target": 0,
         "exang": 1,
         "oldpeak": 4,
         "slope": 2,
         "ca": 2,
         "_deepnote_index_column": 295
        },
        {
         "age": 63,
         "sex": 0,
         "cp": 0,
         "trestbps": 124,
         "chol": 197,
         "fbs": 0,
         "restecg": 1,
         "thalach": 136,
         "thal": 2,
         "target": 0,
         "exang": 1,
         "oldpeak": 0,
         "slope": 1,
         "ca": 0,
         "_deepnote_index_column": 296
        },
        {
         "age": 59,
         "sex": 1,
         "cp": 0,
         "trestbps": 164,
         "chol": 176,
         "fbs": 1,
         "restecg": 0,
         "thalach": 90,
         "thal": 1,
         "target": 0,
         "exang": 0,
         "oldpeak": 1,
         "slope": 1,
         "ca": 2,
         "_deepnote_index_column": 297
        },
        {
         "age": 57,
         "sex": 0,
         "cp": 0,
         "trestbps": 140,
         "chol": 241,
         "fbs": 0,
         "restecg": 1,
         "thalach": 123,
         "thal": 3,
         "target": 0,
         "exang": 1,
         "oldpeak": 0.2,
         "slope": 1,
         "ca": 0,
         "_deepnote_index_column": 298
        },
        {
         "age": 45,
         "sex": 1,
         "cp": 3,
         "trestbps": 110,
         "chol": 264,
         "fbs": 0,
         "restecg": 1,
         "thalach": 132,
         "thal": 3,
         "target": 0,
         "exang": 0,
         "oldpeak": 1.2,
         "slope": 1,
         "ca": 0,
         "_deepnote_index_column": 299
        },
        {
         "age": 68,
         "sex": 1,
         "cp": 0,
         "trestbps": 144,
         "chol": 193,
         "fbs": 1,
         "restecg": 1,
         "thalach": 141,
         "thal": 3,
         "target": 0,
         "exang": 0,
         "oldpeak": 3.4,
         "slope": 1,
         "ca": 2,
         "_deepnote_index_column": 300
        },
        {
         "age": 57,
         "sex": 1,
         "cp": 0,
         "trestbps": 130,
         "chol": 131,
         "fbs": 0,
         "restecg": 1,
         "thalach": 115,
         "thal": 3,
         "target": 0,
         "exang": 1,
         "oldpeak": 1.2,
         "slope": 1,
         "ca": 1,
         "_deepnote_index_column": 301
        },
        {
         "age": 57,
         "sex": 0,
         "cp": 1,
         "trestbps": 130,
         "chol": 236,
         "fbs": 0,
         "restecg": 0,
         "thalach": 174,
         "thal": 2,
         "target": 0,
         "exang": 0,
         "oldpeak": 0,
         "slope": 1,
         "ca": 1,
         "_deepnote_index_column": 302
        }
       ]
      },
      "text/plain": "     age  sex  cp  trestbps  chol  fbs  restecg  thalach  thal  target  exang  \\\n0     63    1   3       145   233    1        0      150     1       1      0   \n1     37    1   2       130   250    0        1      187     2       1      0   \n2     41    0   1       130   204    0        0      172     2       1      0   \n3     56    1   1       120   236    0        1      178     2       1      0   \n4     57    0   0       120   354    0        1      163     2       1      1   \n..   ...  ...  ..       ...   ...  ...      ...      ...   ...     ...    ...   \n298   57    0   0       140   241    0        1      123     3       0      1   \n299   45    1   3       110   264    0        1      132     3       0      0   \n300   68    1   0       144   193    1        1      141     3       0      0   \n301   57    1   0       130   131    0        1      115     3       0      1   \n302   57    0   1       130   236    0        0      174     2       0      0   \n\n     oldpeak  slope  ca  \n0        2.3      0   0  \n1        3.5      0   0  \n2        1.4      2   0  \n3        0.8      2   0  \n4        0.6      2   0  \n..       ...    ...  ..  \n298      0.2      1   0  \n299      1.2      1   0  \n300      3.4      1   2  \n301      1.2      1   1  \n302      0.0      1   1  \n\n[303 rows x 14 columns]",
      "text/html": "<div>\n<style scoped>\n    .dataframe tbody tr th:only-of-type {\n        vertical-align: middle;\n    }\n\n    .dataframe tbody tr th {\n        vertical-align: top;\n    }\n\n    .dataframe thead th {\n        text-align: right;\n    }\n</style>\n<table border=\"1\" class=\"dataframe\">\n  <thead>\n    <tr style=\"text-align: right;\">\n      <th></th>\n      <th>age</th>\n      <th>sex</th>\n      <th>cp</th>\n      <th>trestbps</th>\n      <th>chol</th>\n      <th>fbs</th>\n      <th>restecg</th>\n      <th>thalach</th>\n      <th>thal</th>\n      <th>target</th>\n      <th>exang</th>\n      <th>oldpeak</th>\n      <th>slope</th>\n      <th>ca</th>\n    </tr>\n  </thead>\n  <tbody>\n    <tr>\n      <th>0</th>\n      <td>63</td>\n      <td>1</td>\n      <td>3</td>\n      <td>145</td>\n      <td>233</td>\n      <td>1</td>\n      <td>0</td>\n      <td>150</td>\n      <td>1</td>\n      <td>1</td>\n      <td>0</td>\n      <td>2.3</td>\n      <td>0</td>\n      <td>0</td>\n    </tr>\n    <tr>\n      <th>1</th>\n      <td>37</td>\n      <td>1</td>\n      <td>2</td>\n      <td>130</td>\n      <td>250</td>\n      <td>0</td>\n      <td>1</td>\n      <td>187</td>\n      <td>2</td>\n      <td>1</td>\n      <td>0</td>\n      <td>3.5</td>\n      <td>0</td>\n      <td>0</td>\n    </tr>\n    <tr>\n      <th>2</th>\n      <td>41</td>\n      <td>0</td>\n      <td>1</td>\n      <td>130</td>\n      <td>204</td>\n      <td>0</td>\n      <td>0</td>\n      <td>172</td>\n      <td>2</td>\n      <td>1</td>\n      <td>0</td>\n      <td>1.4</td>\n      <td>2</td>\n      <td>0</td>\n    </tr>\n    <tr>\n      <th>3</th>\n      <td>56</td>\n      <td>1</td>\n      <td>1</td>\n      <td>120</td>\n      <td>236</td>\n      <td>0</td>\n      <td>1</td>\n      <td>178</td>\n      <td>2</td>\n      <td>1</td>\n      <td>0</td>\n      <td>0.8</td>\n      <td>2</td>\n      <td>0</td>\n    </tr>\n    <tr>\n      <th>4</th>\n      <td>57</td>\n      <td>0</td>\n      <td>0</td>\n      <td>120</td>\n      <td>354</td>\n      <td>0</td>\n      <td>1</td>\n      <td>163</td>\n      <td>2</td>\n      <td>1</td>\n      <td>1</td>\n      <td>0.6</td>\n      <td>2</td>\n      <td>0</td>\n    </tr>\n    <tr>\n      <th>...</th>\n      <td>...</td>\n      <td>...</td>\n      <td>...</td>\n      <td>...</td>\n      <td>...</td>\n      <td>...</td>\n      <td>...</td>\n      <td>...</td>\n      <td>...</td>\n      <td>...</td>\n      <td>...</td>\n      <td>...</td>\n      <td>...</td>\n      <td>...</td>\n    </tr>\n    <tr>\n      <th>298</th>\n      <td>57</td>\n      <td>0</td>\n      <td>0</td>\n      <td>140</td>\n      <td>241</td>\n      <td>0</td>\n      <td>1</td>\n      <td>123</td>\n      <td>3</td>\n      <td>0</td>\n      <td>1</td>\n      <td>0.2</td>\n      <td>1</td>\n      <td>0</td>\n    </tr>\n    <tr>\n      <th>299</th>\n      <td>45</td>\n      <td>1</td>\n      <td>3</td>\n      <td>110</td>\n      <td>264</td>\n      <td>0</td>\n      <td>1</td>\n      <td>132</td>\n      <td>3</td>\n      <td>0</td>\n      <td>0</td>\n      <td>1.2</td>\n      <td>1</td>\n      <td>0</td>\n    </tr>\n    <tr>\n      <th>300</th>\n      <td>68</td>\n      <td>1</td>\n      <td>0</td>\n      <td>144</td>\n      <td>193</td>\n      <td>1</td>\n      <td>1</td>\n      <td>141</td>\n      <td>3</td>\n      <td>0</td>\n      <td>0</td>\n      <td>3.4</td>\n      <td>1</td>\n      <td>2</td>\n    </tr>\n    <tr>\n      <th>301</th>\n      <td>57</td>\n      <td>1</td>\n      <td>0</td>\n      <td>130</td>\n      <td>131</td>\n      <td>0</td>\n      <td>1</td>\n      <td>115</td>\n      <td>3</td>\n      <td>0</td>\n      <td>1</td>\n      <td>1.2</td>\n      <td>1</td>\n      <td>1</td>\n    </tr>\n    <tr>\n      <th>302</th>\n      <td>57</td>\n      <td>0</td>\n      <td>1</td>\n      <td>130</td>\n      <td>236</td>\n      <td>0</td>\n      <td>0</td>\n      <td>174</td>\n      <td>2</td>\n      <td>0</td>\n      <td>0</td>\n      <td>0.0</td>\n      <td>1</td>\n      <td>1</td>\n    </tr>\n  </tbody>\n</table>\n<p>303 rows × 14 columns</p>\n</div>"
     },
     "metadata": {}
    }
   ],
   "execution_count": null
  },
  {
   "cell_type": "code",
   "source": "#FE using stat\nX_train['sum'] = X_train.sum(numeric_only = True, axis=1)  # numeric_only= None is default\nX_test['sum'] = X_test.sum(numeric_only = True,axis=1)\nX_test['sum']",
   "metadata": {
    "tags": [],
    "cell_id": "00008-f29f6ebc-e5dc-49f7-9d2c-6dbabd438fd5",
    "deepnote_to_be_reexecuted": false,
    "source_hash": "7f85c934",
    "execution_start": 1620379031834,
    "execution_millis": 12,
    "deepnote_cell_type": "code"
   },
   "outputs": [
    {
     "output_type": "execute_result",
     "execution_count": 30,
     "data": {
      "text/plain": "246    3031.6\n183    2302.0\n229    2559.2\n126    2048.4\n184    2314.4\n        ...  \n69     2252.0\n21     2381.6\n210    2289.6\n78     2308.0\n174    2153.6\nName: sum, Length: 91, dtype: float64"
     },
     "metadata": {}
    }
   ],
   "execution_count": null
  },
  {
   "cell_type": "code",
   "source": "# added = np.array([])\n# for col in df.columns:\n#     added = np.append(added, np.random.randint(df[col].min(), df[col].max(), size=df.shape[0] // 2))\n# added.shape\n\nadded = np.random.randint(df['age'].min(), df['age'].max(), size=df.shape[0] // 2)\nadded",
   "metadata": {
    "tags": [],
    "cell_id": "00009-a63b90af-29a9-4be0-9640-17d8a2f0e594",
    "deepnote_to_be_reexecuted": false,
    "source_hash": "d8c3ab11",
    "execution_start": 1620390689119,
    "execution_millis": 9,
    "deepnote_cell_type": "code"
   },
   "outputs": [
    {
     "output_type": "execute_result",
     "execution_count": 10,
     "data": {
      "text/plain": "array([40, 50, 68, 63, 52, 29, 38, 33, 68, 61, 37, 61, 70, 65, 35, 60, 61,\n       58, 53, 38, 40, 49, 73, 39, 70, 29, 73, 33, 37, 49, 37, 39, 75, 47,\n       68, 61, 67, 29, 40, 54, 64, 58, 71, 54, 32, 33, 51, 54, 61, 58, 62,\n       45, 69, 75, 51, 69, 43, 43, 60, 38, 40, 74, 71, 57, 66, 29, 41, 35,\n       39, 34, 75, 42, 67, 44, 70, 68, 52, 57, 44, 41, 38, 61, 58, 30, 70,\n       33, 52, 48, 39, 53, 63, 58, 34, 53, 63, 46, 38, 46, 29, 65, 47, 62,\n       53, 46, 53, 30, 52, 61, 68, 34, 55, 64, 52, 29, 35, 44, 32, 48, 61,\n       36, 34, 66, 57, 71, 67, 52, 57, 34, 71, 44, 43, 42, 36, 62, 61, 54,\n       39, 47, 59, 51, 46, 30, 54, 67, 51, 30, 65, 38, 34, 60, 50])"
     },
     "metadata": {}
    }
   ],
   "execution_count": 10
  },
  {
   "cell_type": "code",
   "source": "",
   "metadata": {
    "tags": [],
    "cell_id": "00010-ba922abe-a69f-4337-9084-5a5d67f12309",
    "deepnote_cell_type": "code"
   },
   "outputs": [],
   "execution_count": null
  },
  {
   "cell_type": "code",
   "source": "",
   "metadata": {
    "tags": [],
    "cell_id": "00011-298a054a-cc45-49e8-9fe8-f1a0c53555e0",
    "deepnote_cell_type": "code"
   },
   "outputs": [],
   "execution_count": null
  },
  {
   "cell_type": "code",
   "source": "",
   "metadata": {
    "tags": [],
    "cell_id": "00012-3ecd2486-88da-400c-a6f3-e1287cbc7d53",
    "deepnote_cell_type": "code"
   },
   "outputs": [],
   "execution_count": null
  },
  {
   "cell_type": "code",
   "source": "",
   "metadata": {
    "tags": [],
    "cell_id": "00013-81dad8bb-4313-490f-8f66-42b15f4eb02f",
    "deepnote_cell_type": "code"
   },
   "outputs": [],
   "execution_count": null
  },
  {
   "cell_type": "code",
   "source": "",
   "metadata": {
    "tags": [],
    "cell_id": "00011-832210e9-48a4-4df0-8881-085ad1d83423",
    "deepnote_cell_type": "code"
   },
   "outputs": [],
   "execution_count": null
  },
  {
   "cell_type": "markdown",
   "source": "<a style='text-decoration:none;line-height:16px;display:flex;color:#5B5B62;padding:10px;justify-content:end;' href='https://deepnote.com?utm_source=created-in-deepnote-cell&projectId=cd775439-f3d2-4e6d-9916-a56701a1b233' target=\"_blank\">\n<img alt='Created in deepnote.com' style='display:inline;max-height:16px;margin:0px;margin-right:7.5px;' src='data:image/svg+xml;base64,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' > </img>\nCreated in <span style='font-weight:600;margin-left:4px;'>Deepnote</span></a>",
   "metadata": {
    "tags": [],
    "created_in_deepnote_cell": true,
    "deepnote_cell_type": "markdown"
   }
  }
 ],
 "nbformat": 4,
 "nbformat_minor": 2,
 "metadata": {
  "orig_nbformat": 2,
  "deepnote": {
   "is_reactive": false
  },
  "deepnote_notebook_id": "f4aa7246-d291-4c77-96ea-9b4faf940b81",
  "deepnote_execution_queue": []
 }
}