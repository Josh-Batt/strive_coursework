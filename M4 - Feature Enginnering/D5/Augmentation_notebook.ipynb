{
 "cells": [
  {
   "cell_type": "code",
   "metadata": {
    "tags": [],
    "deepnote_to_be_reexecuted": false,
    "source_hash": "5985710d",
    "execution_start": 1620390873908,
    "execution_millis": 1411,
    "is_code_hidden": false,
    "cell_id": "00000-1124a9c6-ac5c-4517-bf83-fed702f8775e",
    "deepnote_cell_type": "code"
   },
   "source": "import time\nfrom IPython.display import clear_output\nimport numpy    as np\nimport pandas   as pd\nimport matplotlib.pyplot as plt\nimport seaborn as sns\nimport plotly.express as px\nimport sklearn\nfrom sklearn import pipeline  ,ensemble \nfrom sklearn.pipeline import Pipeline \nfrom sklearn import impute\nfrom sklearn import compose\nfrom sklearn.model_selection import train_test_split\nfrom sklearn.metrics import accuracy_score, balanced_accuracy_score, plot_confusion_matrix,roc_auc_score\nfrom sklearn import set_config\nimport warnings\nwarnings.filterwarnings('ignore')\nfrom sklearn.preprocessing import Normalizer,PowerTransformer,QuantileTransformer, RobustScaler,StandardScaler,LabelEncoder, OneHotEncoder,OrdinalEncoder\nfrom sklearn.tree          import DecisionTreeClassifier\nfrom sklearn.linear_model  import LogisticRegression    \nfrom sklearn.experimental  import enable_hist_gradient_boosting # Necesary for HistGradientBoostingClassifier\n\n#!pip install xgboost\nfrom xgboost               import XGBClassifier\n#!pip install lightgbm\nfrom lightgbm              import LGBMClassifier\n#!pip install catboost\nfrom catboost              import CatBoostClassifier\n\nfrom sklearn.neighbors import KNeighborsClassifier\nset_config(display='diagram') # Useful for display the pipeline\nprint(\"Pandas  \", pd.__version__)\nprint(\"Sklearn \", sklearn.__version__) # Try to use 0.24",
   "execution_count": 1,
   "outputs": [
    {
     "name": "stdout",
     "text": "Pandas   1.2.4\nSklearn  0.24.2\n",
     "output_type": "stream"
    }
   ]
  },
  {
   "cell_type": "code",
   "metadata": {
    "tags": [],
    "deepnote_to_be_reexecuted": false,
    "source_hash": "4e262d88",
    "execution_start": 1620390875321,
    "execution_millis": 67,
    "cell_id": "00001-dd461ace-9385-4ec7-a732-43eead66ebcb",
    "deepnote_cell_type": "code"
   },
   "source": "df = pd.read_csv('heart.csv')\ndf_train=df.iloc[:250,:]\ndf_test=df.iloc[250:,:].drop('target',axis=1)\ndf",
   "execution_count": 2,
   "outputs": [
    {
     "output_type": "execute_result",
     "execution_count": 2,
     "data": {
      "application/vnd.deepnote.dataframe.v2+json": {
       "row_count": 303,
       "column_count": 14,
       "columns": [
        {
         "name": "age",
         "dtype": "int64",
         "stats": {
          "unique_count": 41,
          "nan_count": 0,
          "min": "29",
          "max": "77",
          "histogram": [
           {
            "bin_start": 29,
            "bin_end": 33.8,
            "count": 1
           },
           {
            "bin_start": 33.8,
            "bin_end": 38.6,
            "count": 11
           },
           {
            "bin_start": 38.6,
            "bin_end": 43.4,
            "count": 33
           },
           {
            "bin_start": 43.4,
            "bin_end": 48.2,
            "count": 38
           },
           {
            "bin_start": 48.2,
            "bin_end": 53,
            "count": 37
           },
           {
            "bin_start": 53,
            "bin_end": 57.8,
            "count": 60
           },
           {
            "bin_start": 57.8,
            "bin_end": 62.6,
            "count": 63
           },
           {
            "bin_start": 62.6,
            "bin_end": 67.4,
            "count": 43
           },
           {
            "bin_start": 67.4,
            "bin_end": 72.19999999999999,
            "count": 14
           },
           {
            "bin_start": 72.19999999999999,
            "bin_end": 77,
            "count": 3
           }
          ]
         }
        },
        {
         "name": "sex",
         "dtype": "int64",
         "stats": {
          "unique_count": 2,
          "nan_count": 0,
          "min": "0",
          "max": "1",
          "histogram": [
           {
            "bin_start": 0,
            "bin_end": 0.1,
            "count": 96
           },
           {
            "bin_start": 0.1,
            "bin_end": 0.2,
            "count": 0
           },
           {
            "bin_start": 0.2,
            "bin_end": 0.30000000000000004,
            "count": 0
           },
           {
            "bin_start": 0.30000000000000004,
            "bin_end": 0.4,
            "count": 0
           },
           {
            "bin_start": 0.4,
            "bin_end": 0.5,
            "count": 0
           },
           {
            "bin_start": 0.5,
            "bin_end": 0.6000000000000001,
            "count": 0
           },
           {
            "bin_start": 0.6000000000000001,
            "bin_end": 0.7000000000000001,
            "count": 0
           },
           {
            "bin_start": 0.7000000000000001,
            "bin_end": 0.8,
            "count": 0
           },
           {
            "bin_start": 0.8,
            "bin_end": 0.9,
            "count": 0
           },
           {
            "bin_start": 0.9,
            "bin_end": 1,
            "count": 207
           }
          ]
         }
        },
        {
         "name": "cp",
         "dtype": "int64",
         "stats": {
          "unique_count": 4,
          "nan_count": 0,
          "min": "0",
          "max": "3",
          "histogram": [
           {
            "bin_start": 0,
            "bin_end": 0.3,
            "count": 143
           },
           {
            "bin_start": 0.3,
            "bin_end": 0.6,
            "count": 0
           },
           {
            "bin_start": 0.6,
            "bin_end": 0.8999999999999999,
            "count": 0
           },
           {
            "bin_start": 0.8999999999999999,
            "bin_end": 1.2,
            "count": 50
           },
           {
            "bin_start": 1.2,
            "bin_end": 1.5,
            "count": 0
           },
           {
            "bin_start": 1.5,
            "bin_end": 1.7999999999999998,
            "count": 0
           },
           {
            "bin_start": 1.7999999999999998,
            "bin_end": 2.1,
            "count": 87
           },
           {
            "bin_start": 2.1,
            "bin_end": 2.4,
            "count": 0
           },
           {
            "bin_start": 2.4,
            "bin_end": 2.6999999999999997,
            "count": 0
           },
           {
            "bin_start": 2.6999999999999997,
            "bin_end": 3,
            "count": 23
           }
          ]
         }
        },
        {
         "name": "trestbps",
         "dtype": "int64",
         "stats": {
          "unique_count": 49,
          "nan_count": 0,
          "min": "94",
          "max": "200",
          "histogram": [
           {
            "bin_start": 94,
            "bin_end": 104.6,
            "count": 10
           },
           {
            "bin_start": 104.6,
            "bin_end": 115.2,
            "count": 42
           },
           {
            "bin_start": 115.2,
            "bin_end": 125.8,
            "count": 67
           },
           {
            "bin_start": 125.8,
            "bin_end": 136.4,
            "count": 74
           },
           {
            "bin_start": 136.4,
            "bin_end": 147,
            "count": 57
           },
           {
            "bin_start": 147,
            "bin_end": 157.6,
            "count": 27
           },
           {
            "bin_start": 157.6,
            "bin_end": 168.2,
            "count": 13
           },
           {
            "bin_start": 168.2,
            "bin_end": 178.8,
            "count": 8
           },
           {
            "bin_start": 178.8,
            "bin_end": 189.39999999999998,
            "count": 3
           },
           {
            "bin_start": 189.39999999999998,
            "bin_end": 200,
            "count": 2
           }
          ]
         }
        },
        {
         "name": "chol",
         "dtype": "int64",
         "stats": {
          "unique_count": 152,
          "nan_count": 0,
          "min": "126",
          "max": "564",
          "histogram": [
           {
            "bin_start": 126,
            "bin_end": 169.8,
            "count": 12
           },
           {
            "bin_start": 169.8,
            "bin_end": 213.6,
            "count": 73
           },
           {
            "bin_start": 213.6,
            "bin_end": 257.4,
            "count": 106
           },
           {
            "bin_start": 257.4,
            "bin_end": 301.2,
            "count": 69
           },
           {
            "bin_start": 301.2,
            "bin_end": 345,
            "count": 35
           },
           {
            "bin_start": 345,
            "bin_end": 388.79999999999995,
            "count": 3
           },
           {
            "bin_start": 388.79999999999995,
            "bin_end": 432.59999999999997,
            "count": 4
           },
           {
            "bin_start": 432.59999999999997,
            "bin_end": 476.4,
            "count": 0
           },
           {
            "bin_start": 476.4,
            "bin_end": 520.2,
            "count": 0
           },
           {
            "bin_start": 520.2,
            "bin_end": 564,
            "count": 1
           }
          ]
         }
        },
        {
         "name": "fbs",
         "dtype": "int64",
         "stats": {
          "unique_count": 2,
          "nan_count": 0,
          "min": "0",
          "max": "1",
          "histogram": [
           {
            "bin_start": 0,
            "bin_end": 0.1,
            "count": 258
           },
           {
            "bin_start": 0.1,
            "bin_end": 0.2,
            "count": 0
           },
           {
            "bin_start": 0.2,
            "bin_end": 0.30000000000000004,
            "count": 0
           },
           {
            "bin_start": 0.30000000000000004,
            "bin_end": 0.4,
            "count": 0
           },
           {
            "bin_start": 0.4,
            "bin_end": 0.5,
            "count": 0
           },
           {
            "bin_start": 0.5,
            "bin_end": 0.6000000000000001,
            "count": 0
           },
           {
            "bin_start": 0.6000000000000001,
            "bin_end": 0.7000000000000001,
            "count": 0
           },
           {
            "bin_start": 0.7000000000000001,
            "bin_end": 0.8,
            "count": 0
           },
           {
            "bin_start": 0.8,
            "bin_end": 0.9,
            "count": 0
           },
           {
            "bin_start": 0.9,
            "bin_end": 1,
            "count": 45
           }
          ]
         }
        },
        {
         "name": "restecg",
         "dtype": "int64",
         "stats": {
          "unique_count": 3,
          "nan_count": 0,
          "min": "0",
          "max": "2",
          "histogram": [
           {
            "bin_start": 0,
            "bin_end": 0.2,
            "count": 147
           },
           {
            "bin_start": 0.2,
            "bin_end": 0.4,
            "count": 0
           },
           {
            "bin_start": 0.4,
            "bin_end": 0.6000000000000001,
            "count": 0
           },
           {
            "bin_start": 0.6000000000000001,
            "bin_end": 0.8,
            "count": 0
           },
           {
            "bin_start": 0.8,
            "bin_end": 1,
            "count": 0
           },
           {
            "bin_start": 1,
            "bin_end": 1.2000000000000002,
            "count": 152
           },
           {
            "bin_start": 1.2000000000000002,
            "bin_end": 1.4000000000000001,
            "count": 0
           },
           {
            "bin_start": 1.4000000000000001,
            "bin_end": 1.6,
            "count": 0
           },
           {
            "bin_start": 1.6,
            "bin_end": 1.8,
            "count": 0
           },
           {
            "bin_start": 1.8,
            "bin_end": 2,
            "count": 4
           }
          ]
         }
        },
        {
         "name": "thalach",
         "dtype": "int64",
         "stats": {
          "unique_count": 91,
          "nan_count": 0,
          "min": "71",
          "max": "202",
          "histogram": [
           {
            "bin_start": 71,
            "bin_end": 84.1,
            "count": 1
           },
           {
            "bin_start": 84.1,
            "bin_end": 97.2,
            "count": 6
           },
           {
            "bin_start": 97.2,
            "bin_end": 110.3,
            "count": 11
           },
           {
            "bin_start": 110.3,
            "bin_end": 123.4,
            "count": 26
           },
           {
            "bin_start": 123.4,
            "bin_end": 136.5,
            "count": 35
           },
           {
            "bin_start": 136.5,
            "bin_end": 149.6,
            "count": 53
           },
           {
            "bin_start": 149.6,
            "bin_end": 162.7,
            "count": 77
           },
           {
            "bin_start": 162.7,
            "bin_end": 175.8,
            "count": 63
           },
           {
            "bin_start": 175.8,
            "bin_end": 188.89999999999998,
            "count": 26
           },
           {
            "bin_start": 188.89999999999998,
            "bin_end": 202,
            "count": 5
           }
          ]
         }
        },
        {
         "name": "exang",
         "dtype": "int64",
         "stats": {
          "unique_count": 2,
          "nan_count": 0,
          "min": "0",
          "max": "1",
          "histogram": [
           {
            "bin_start": 0,
            "bin_end": 0.1,
            "count": 204
           },
           {
            "bin_start": 0.1,
            "bin_end": 0.2,
            "count": 0
           },
           {
            "bin_start": 0.2,
            "bin_end": 0.30000000000000004,
            "count": 0
           },
           {
            "bin_start": 0.30000000000000004,
            "bin_end": 0.4,
            "count": 0
           },
           {
            "bin_start": 0.4,
            "bin_end": 0.5,
            "count": 0
           },
           {
            "bin_start": 0.5,
            "bin_end": 0.6000000000000001,
            "count": 0
           },
           {
            "bin_start": 0.6000000000000001,
            "bin_end": 0.7000000000000001,
            "count": 0
           },
           {
            "bin_start": 0.7000000000000001,
            "bin_end": 0.8,
            "count": 0
           },
           {
            "bin_start": 0.8,
            "bin_end": 0.9,
            "count": 0
           },
           {
            "bin_start": 0.9,
            "bin_end": 1,
            "count": 99
           }
          ]
         }
        },
        {
         "name": "oldpeak",
         "dtype": "float64",
         "stats": {
          "unique_count": 40,
          "nan_count": 0,
          "min": "0.0",
          "max": "6.2",
          "histogram": [
           {
            "bin_start": 0,
            "bin_end": 0.62,
            "count": 149
           },
           {
            "bin_start": 0.62,
            "bin_end": 1.24,
            "count": 50
           },
           {
            "bin_start": 1.24,
            "bin_end": 1.8599999999999999,
            "count": 40
           },
           {
            "bin_start": 1.8599999999999999,
            "bin_end": 2.48,
            "count": 24
           },
           {
            "bin_start": 2.48,
            "bin_end": 3.1,
            "count": 20
           },
           {
            "bin_start": 3.1,
            "bin_end": 3.7199999999999998,
            "count": 11
           },
           {
            "bin_start": 3.7199999999999998,
            "bin_end": 4.34,
            "count": 6
           },
           {
            "bin_start": 4.34,
            "bin_end": 4.96,
            "count": 1
           },
           {
            "bin_start": 4.96,
            "bin_end": 5.58,
            "count": 0
           },
           {
            "bin_start": 5.58,
            "bin_end": 6.2,
            "count": 2
           }
          ]
         }
        },
        {
         "name": "slope",
         "dtype": "int64",
         "stats": {
          "unique_count": 3,
          "nan_count": 0,
          "min": "0",
          "max": "2",
          "histogram": [
           {
            "bin_start": 0,
            "bin_end": 0.2,
            "count": 21
           },
           {
            "bin_start": 0.2,
            "bin_end": 0.4,
            "count": 0
           },
           {
            "bin_start": 0.4,
            "bin_end": 0.6000000000000001,
            "count": 0
           },
           {
            "bin_start": 0.6000000000000001,
            "bin_end": 0.8,
            "count": 0
           },
           {
            "bin_start": 0.8,
            "bin_end": 1,
            "count": 0
           },
           {
            "bin_start": 1,
            "bin_end": 1.2000000000000002,
            "count": 140
           },
           {
            "bin_start": 1.2000000000000002,
            "bin_end": 1.4000000000000001,
            "count": 0
           },
           {
            "bin_start": 1.4000000000000001,
            "bin_end": 1.6,
            "count": 0
           },
           {
            "bin_start": 1.6,
            "bin_end": 1.8,
            "count": 0
           },
           {
            "bin_start": 1.8,
            "bin_end": 2,
            "count": 142
           }
          ]
         }
        },
        {
         "name": "ca",
         "dtype": "int64",
         "stats": {
          "unique_count": 5,
          "nan_count": 0,
          "min": "0",
          "max": "4",
          "histogram": [
           {
            "bin_start": 0,
            "bin_end": 0.4,
            "count": 175
           },
           {
            "bin_start": 0.4,
            "bin_end": 0.8,
            "count": 0
           },
           {
            "bin_start": 0.8,
            "bin_end": 1.2000000000000002,
            "count": 65
           },
           {
            "bin_start": 1.2000000000000002,
            "bin_end": 1.6,
            "count": 0
           },
           {
            "bin_start": 1.6,
            "bin_end": 2,
            "count": 0
           },
           {
            "bin_start": 2,
            "bin_end": 2.4000000000000004,
            "count": 38
           },
           {
            "bin_start": 2.4000000000000004,
            "bin_end": 2.8000000000000003,
            "count": 0
           },
           {
            "bin_start": 2.8000000000000003,
            "bin_end": 3.2,
            "count": 20
           },
           {
            "bin_start": 3.2,
            "bin_end": 3.6,
            "count": 0
           },
           {
            "bin_start": 3.6,
            "bin_end": 4,
            "count": 5
           }
          ]
         }
        },
        {
         "name": "thal",
         "dtype": "int64",
         "stats": {
          "unique_count": 4,
          "nan_count": 0,
          "min": "0",
          "max": "3",
          "histogram": [
           {
            "bin_start": 0,
            "bin_end": 0.3,
            "count": 2
           },
           {
            "bin_start": 0.3,
            "bin_end": 0.6,
            "count": 0
           },
           {
            "bin_start": 0.6,
            "bin_end": 0.8999999999999999,
            "count": 0
           },
           {
            "bin_start": 0.8999999999999999,
            "bin_end": 1.2,
            "count": 18
           },
           {
            "bin_start": 1.2,
            "bin_end": 1.5,
            "count": 0
           },
           {
            "bin_start": 1.5,
            "bin_end": 1.7999999999999998,
            "count": 0
           },
           {
            "bin_start": 1.7999999999999998,
            "bin_end": 2.1,
            "count": 166
           },
           {
            "bin_start": 2.1,
            "bin_end": 2.4,
            "count": 0
           },
           {
            "bin_start": 2.4,
            "bin_end": 2.6999999999999997,
            "count": 0
           },
           {
            "bin_start": 2.6999999999999997,
            "bin_end": 3,
            "count": 117
           }
          ]
         }
        },
        {
         "name": "target",
         "dtype": "int64",
         "stats": {
          "unique_count": 2,
          "nan_count": 0,
          "min": "0",
          "max": "1",
          "histogram": [
           {
            "bin_start": 0,
            "bin_end": 0.1,
            "count": 138
           },
           {
            "bin_start": 0.1,
            "bin_end": 0.2,
            "count": 0
           },
           {
            "bin_start": 0.2,
            "bin_end": 0.30000000000000004,
            "count": 0
           },
           {
            "bin_start": 0.30000000000000004,
            "bin_end": 0.4,
            "count": 0
           },
           {
            "bin_start": 0.4,
            "bin_end": 0.5,
            "count": 0
           },
           {
            "bin_start": 0.5,
            "bin_end": 0.6000000000000001,
            "count": 0
           },
           {
            "bin_start": 0.6000000000000001,
            "bin_end": 0.7000000000000001,
            "count": 0
           },
           {
            "bin_start": 0.7000000000000001,
            "bin_end": 0.8,
            "count": 0
           },
           {
            "bin_start": 0.8,
            "bin_end": 0.9,
            "count": 0
           },
           {
            "bin_start": 0.9,
            "bin_end": 1,
            "count": 165
           }
          ]
         }
        },
        {
         "name": "_deepnote_index_column",
         "dtype": "int64"
        }
       ],
       "rows_top": [
        {
         "age": 63,
         "sex": 1,
         "cp": 3,
         "trestbps": 145,
         "chol": 233,
         "fbs": 1,
         "restecg": 0,
         "thalach": 150,
         "exang": 0,
         "oldpeak": 2.3,
         "slope": 0,
         "ca": 0,
         "thal": 1,
         "target": 1,
         "_deepnote_index_column": 0
        },
        {
         "age": 37,
         "sex": 1,
         "cp": 2,
         "trestbps": 130,
         "chol": 250,
         "fbs": 0,
         "restecg": 1,
         "thalach": 187,
         "exang": 0,
         "oldpeak": 3.5,
         "slope": 0,
         "ca": 0,
         "thal": 2,
         "target": 1,
         "_deepnote_index_column": 1
        },
        {
         "age": 41,
         "sex": 0,
         "cp": 1,
         "trestbps": 130,
         "chol": 204,
         "fbs": 0,
         "restecg": 0,
         "thalach": 172,
         "exang": 0,
         "oldpeak": 1.4,
         "slope": 2,
         "ca": 0,
         "thal": 2,
         "target": 1,
         "_deepnote_index_column": 2
        },
        {
         "age": 56,
         "sex": 1,
         "cp": 1,
         "trestbps": 120,
         "chol": 236,
         "fbs": 0,
         "restecg": 1,
         "thalach": 178,
         "exang": 0,
         "oldpeak": 0.8,
         "slope": 2,
         "ca": 0,
         "thal": 2,
         "target": 1,
         "_deepnote_index_column": 3
        },
        {
         "age": 57,
         "sex": 0,
         "cp": 0,
         "trestbps": 120,
         "chol": 354,
         "fbs": 0,
         "restecg": 1,
         "thalach": 163,
         "exang": 1,
         "oldpeak": 0.6,
         "slope": 2,
         "ca": 0,
         "thal": 2,
         "target": 1,
         "_deepnote_index_column": 4
        },
        {
         "age": 57,
         "sex": 1,
         "cp": 0,
         "trestbps": 140,
         "chol": 192,
         "fbs": 0,
         "restecg": 1,
         "thalach": 148,
         "exang": 0,
         "oldpeak": 0.4,
         "slope": 1,
         "ca": 0,
         "thal": 1,
         "target": 1,
         "_deepnote_index_column": 5
        },
        {
         "age": 56,
         "sex": 0,
         "cp": 1,
         "trestbps": 140,
         "chol": 294,
         "fbs": 0,
         "restecg": 0,
         "thalach": 153,
         "exang": 0,
         "oldpeak": 1.3,
         "slope": 1,
         "ca": 0,
         "thal": 2,
         "target": 1,
         "_deepnote_index_column": 6
        },
        {
         "age": 44,
         "sex": 1,
         "cp": 1,
         "trestbps": 120,
         "chol": 263,
         "fbs": 0,
         "restecg": 1,
         "thalach": 173,
         "exang": 0,
         "oldpeak": 0,
         "slope": 2,
         "ca": 0,
         "thal": 3,
         "target": 1,
         "_deepnote_index_column": 7
        },
        {
         "age": 52,
         "sex": 1,
         "cp": 2,
         "trestbps": 172,
         "chol": 199,
         "fbs": 1,
         "restecg": 1,
         "thalach": 162,
         "exang": 0,
         "oldpeak": 0.5,
         "slope": 2,
         "ca": 0,
         "thal": 3,
         "target": 1,
         "_deepnote_index_column": 8
        },
        {
         "age": 57,
         "sex": 1,
         "cp": 2,
         "trestbps": 150,
         "chol": 168,
         "fbs": 0,
         "restecg": 1,
         "thalach": 174,
         "exang": 0,
         "oldpeak": 1.6,
         "slope": 2,
         "ca": 0,
         "thal": 2,
         "target": 1,
         "_deepnote_index_column": 9
        },
        {
         "age": 54,
         "sex": 1,
         "cp": 0,
         "trestbps": 140,
         "chol": 239,
         "fbs": 0,
         "restecg": 1,
         "thalach": 160,
         "exang": 0,
         "oldpeak": 1.2,
         "slope": 2,
         "ca": 0,
         "thal": 2,
         "target": 1,
         "_deepnote_index_column": 10
        },
        {
         "age": 48,
         "sex": 0,
         "cp": 2,
         "trestbps": 130,
         "chol": 275,
         "fbs": 0,
         "restecg": 1,
         "thalach": 139,
         "exang": 0,
         "oldpeak": 0.2,
         "slope": 2,
         "ca": 0,
         "thal": 2,
         "target": 1,
         "_deepnote_index_column": 11
        },
        {
         "age": 49,
         "sex": 1,
         "cp": 1,
         "trestbps": 130,
         "chol": 266,
         "fbs": 0,
         "restecg": 1,
         "thalach": 171,
         "exang": 0,
         "oldpeak": 0.6,
         "slope": 2,
         "ca": 0,
         "thal": 2,
         "target": 1,
         "_deepnote_index_column": 12
        },
        {
         "age": 64,
         "sex": 1,
         "cp": 3,
         "trestbps": 110,
         "chol": 211,
         "fbs": 0,
         "restecg": 0,
         "thalach": 144,
         "exang": 1,
         "oldpeak": 1.8,
         "slope": 1,
         "ca": 0,
         "thal": 2,
         "target": 1,
         "_deepnote_index_column": 13
        },
        {
         "age": 58,
         "sex": 0,
         "cp": 3,
         "trestbps": 150,
         "chol": 283,
         "fbs": 1,
         "restecg": 0,
         "thalach": 162,
         "exang": 0,
         "oldpeak": 1,
         "slope": 2,
         "ca": 0,
         "thal": 2,
         "target": 1,
         "_deepnote_index_column": 14
        },
        {
         "age": 50,
         "sex": 0,
         "cp": 2,
         "trestbps": 120,
         "chol": 219,
         "fbs": 0,
         "restecg": 1,
         "thalach": 158,
         "exang": 0,
         "oldpeak": 1.6,
         "slope": 1,
         "ca": 0,
         "thal": 2,
         "target": 1,
         "_deepnote_index_column": 15
        },
        {
         "age": 58,
         "sex": 0,
         "cp": 2,
         "trestbps": 120,
         "chol": 340,
         "fbs": 0,
         "restecg": 1,
         "thalach": 172,
         "exang": 0,
         "oldpeak": 0,
         "slope": 2,
         "ca": 0,
         "thal": 2,
         "target": 1,
         "_deepnote_index_column": 16
        },
        {
         "age": 66,
         "sex": 0,
         "cp": 3,
         "trestbps": 150,
         "chol": 226,
         "fbs": 0,
         "restecg": 1,
         "thalach": 114,
         "exang": 0,
         "oldpeak": 2.6,
         "slope": 0,
         "ca": 0,
         "thal": 2,
         "target": 1,
         "_deepnote_index_column": 17
        },
        {
         "age": 43,
         "sex": 1,
         "cp": 0,
         "trestbps": 150,
         "chol": 247,
         "fbs": 0,
         "restecg": 1,
         "thalach": 171,
         "exang": 0,
         "oldpeak": 1.5,
         "slope": 2,
         "ca": 0,
         "thal": 2,
         "target": 1,
         "_deepnote_index_column": 18
        },
        {
         "age": 69,
         "sex": 0,
         "cp": 3,
         "trestbps": 140,
         "chol": 239,
         "fbs": 0,
         "restecg": 1,
         "thalach": 151,
         "exang": 0,
         "oldpeak": 1.8,
         "slope": 2,
         "ca": 2,
         "thal": 2,
         "target": 1,
         "_deepnote_index_column": 19
        },
        {
         "age": 59,
         "sex": 1,
         "cp": 0,
         "trestbps": 135,
         "chol": 234,
         "fbs": 0,
         "restecg": 1,
         "thalach": 161,
         "exang": 0,
         "oldpeak": 0.5,
         "slope": 1,
         "ca": 0,
         "thal": 3,
         "target": 1,
         "_deepnote_index_column": 20
        },
        {
         "age": 44,
         "sex": 1,
         "cp": 2,
         "trestbps": 130,
         "chol": 233,
         "fbs": 0,
         "restecg": 1,
         "thalach": 179,
         "exang": 1,
         "oldpeak": 0.4,
         "slope": 2,
         "ca": 0,
         "thal": 2,
         "target": 1,
         "_deepnote_index_column": 21
        },
        {
         "age": 42,
         "sex": 1,
         "cp": 0,
         "trestbps": 140,
         "chol": 226,
         "fbs": 0,
         "restecg": 1,
         "thalach": 178,
         "exang": 0,
         "oldpeak": 0,
         "slope": 2,
         "ca": 0,
         "thal": 2,
         "target": 1,
         "_deepnote_index_column": 22
        },
        {
         "age": 61,
         "sex": 1,
         "cp": 2,
         "trestbps": 150,
         "chol": 243,
         "fbs": 1,
         "restecg": 1,
         "thalach": 137,
         "exang": 1,
         "oldpeak": 1,
         "slope": 1,
         "ca": 0,
         "thal": 2,
         "target": 1,
         "_deepnote_index_column": 23
        },
        {
         "age": 40,
         "sex": 1,
         "cp": 3,
         "trestbps": 140,
         "chol": 199,
         "fbs": 0,
         "restecg": 1,
         "thalach": 178,
         "exang": 1,
         "oldpeak": 1.4,
         "slope": 2,
         "ca": 0,
         "thal": 3,
         "target": 1,
         "_deepnote_index_column": 24
        },
        {
         "age": 71,
         "sex": 0,
         "cp": 1,
         "trestbps": 160,
         "chol": 302,
         "fbs": 0,
         "restecg": 1,
         "thalach": 162,
         "exang": 0,
         "oldpeak": 0.4,
         "slope": 2,
         "ca": 2,
         "thal": 2,
         "target": 1,
         "_deepnote_index_column": 25
        },
        {
         "age": 59,
         "sex": 1,
         "cp": 2,
         "trestbps": 150,
         "chol": 212,
         "fbs": 1,
         "restecg": 1,
         "thalach": 157,
         "exang": 0,
         "oldpeak": 1.6,
         "slope": 2,
         "ca": 0,
         "thal": 2,
         "target": 1,
         "_deepnote_index_column": 26
        },
        {
         "age": 51,
         "sex": 1,
         "cp": 2,
         "trestbps": 110,
         "chol": 175,
         "fbs": 0,
         "restecg": 1,
         "thalach": 123,
         "exang": 0,
         "oldpeak": 0.6,
         "slope": 2,
         "ca": 0,
         "thal": 2,
         "target": 1,
         "_deepnote_index_column": 27
        },
        {
         "age": 65,
         "sex": 0,
         "cp": 2,
         "trestbps": 140,
         "chol": 417,
         "fbs": 1,
         "restecg": 0,
         "thalach": 157,
         "exang": 0,
         "oldpeak": 0.8,
         "slope": 2,
         "ca": 1,
         "thal": 2,
         "target": 1,
         "_deepnote_index_column": 28
        },
        {
         "age": 53,
         "sex": 1,
         "cp": 2,
         "trestbps": 130,
         "chol": 197,
         "fbs": 1,
         "restecg": 0,
         "thalach": 152,
         "exang": 0,
         "oldpeak": 1.2,
         "slope": 0,
         "ca": 0,
         "thal": 2,
         "target": 1,
         "_deepnote_index_column": 29
        },
        {
         "age": 41,
         "sex": 0,
         "cp": 1,
         "trestbps": 105,
         "chol": 198,
         "fbs": 0,
         "restecg": 1,
         "thalach": 168,
         "exang": 0,
         "oldpeak": 0,
         "slope": 2,
         "ca": 1,
         "thal": 2,
         "target": 1,
         "_deepnote_index_column": 30
        },
        {
         "age": 65,
         "sex": 1,
         "cp": 0,
         "trestbps": 120,
         "chol": 177,
         "fbs": 0,
         "restecg": 1,
         "thalach": 140,
         "exang": 0,
         "oldpeak": 0.4,
         "slope": 2,
         "ca": 0,
         "thal": 3,
         "target": 1,
         "_deepnote_index_column": 31
        },
        {
         "age": 44,
         "sex": 1,
         "cp": 1,
         "trestbps": 130,
         "chol": 219,
         "fbs": 0,
         "restecg": 0,
         "thalach": 188,
         "exang": 0,
         "oldpeak": 0,
         "slope": 2,
         "ca": 0,
         "thal": 2,
         "target": 1,
         "_deepnote_index_column": 32
        },
        {
         "age": 54,
         "sex": 1,
         "cp": 2,
         "trestbps": 125,
         "chol": 273,
         "fbs": 0,
         "restecg": 0,
         "thalach": 152,
         "exang": 0,
         "oldpeak": 0.5,
         "slope": 0,
         "ca": 1,
         "thal": 2,
         "target": 1,
         "_deepnote_index_column": 33
        },
        {
         "age": 51,
         "sex": 1,
         "cp": 3,
         "trestbps": 125,
         "chol": 213,
         "fbs": 0,
         "restecg": 0,
         "thalach": 125,
         "exang": 1,
         "oldpeak": 1.4,
         "slope": 2,
         "ca": 1,
         "thal": 2,
         "target": 1,
         "_deepnote_index_column": 34
        }
       ],
       "rows_bottom": [
        {
         "age": 49,
         "sex": 1,
         "cp": 2,
         "trestbps": 118,
         "chol": 149,
         "fbs": 0,
         "restecg": 0,
         "thalach": 126,
         "exang": 0,
         "oldpeak": 0.8,
         "slope": 2,
         "ca": 3,
         "thal": 2,
         "target": 0,
         "_deepnote_index_column": 267
        },
        {
         "age": 54,
         "sex": 1,
         "cp": 0,
         "trestbps": 122,
         "chol": 286,
         "fbs": 0,
         "restecg": 0,
         "thalach": 116,
         "exang": 1,
         "oldpeak": 3.2,
         "slope": 1,
         "ca": 2,
         "thal": 2,
         "target": 0,
         "_deepnote_index_column": 268
        },
        {
         "age": 56,
         "sex": 1,
         "cp": 0,
         "trestbps": 130,
         "chol": 283,
         "fbs": 1,
         "restecg": 0,
         "thalach": 103,
         "exang": 1,
         "oldpeak": 1.6,
         "slope": 0,
         "ca": 0,
         "thal": 3,
         "target": 0,
         "_deepnote_index_column": 269
        },
        {
         "age": 46,
         "sex": 1,
         "cp": 0,
         "trestbps": 120,
         "chol": 249,
         "fbs": 0,
         "restecg": 0,
         "thalach": 144,
         "exang": 0,
         "oldpeak": 0.8,
         "slope": 2,
         "ca": 0,
         "thal": 3,
         "target": 0,
         "_deepnote_index_column": 270
        },
        {
         "age": 61,
         "sex": 1,
         "cp": 3,
         "trestbps": 134,
         "chol": 234,
         "fbs": 0,
         "restecg": 1,
         "thalach": 145,
         "exang": 0,
         "oldpeak": 2.6,
         "slope": 1,
         "ca": 2,
         "thal": 2,
         "target": 0,
         "_deepnote_index_column": 271
        },
        {
         "age": 67,
         "sex": 1,
         "cp": 0,
         "trestbps": 120,
         "chol": 237,
         "fbs": 0,
         "restecg": 1,
         "thalach": 71,
         "exang": 0,
         "oldpeak": 1,
         "slope": 1,
         "ca": 0,
         "thal": 2,
         "target": 0,
         "_deepnote_index_column": 272
        },
        {
         "age": 58,
         "sex": 1,
         "cp": 0,
         "trestbps": 100,
         "chol": 234,
         "fbs": 0,
         "restecg": 1,
         "thalach": 156,
         "exang": 0,
         "oldpeak": 0.1,
         "slope": 2,
         "ca": 1,
         "thal": 3,
         "target": 0,
         "_deepnote_index_column": 273
        },
        {
         "age": 47,
         "sex": 1,
         "cp": 0,
         "trestbps": 110,
         "chol": 275,
         "fbs": 0,
         "restecg": 0,
         "thalach": 118,
         "exang": 1,
         "oldpeak": 1,
         "slope": 1,
         "ca": 1,
         "thal": 2,
         "target": 0,
         "_deepnote_index_column": 274
        },
        {
         "age": 52,
         "sex": 1,
         "cp": 0,
         "trestbps": 125,
         "chol": 212,
         "fbs": 0,
         "restecg": 1,
         "thalach": 168,
         "exang": 0,
         "oldpeak": 1,
         "slope": 2,
         "ca": 2,
         "thal": 3,
         "target": 0,
         "_deepnote_index_column": 275
        },
        {
         "age": 58,
         "sex": 1,
         "cp": 0,
         "trestbps": 146,
         "chol": 218,
         "fbs": 0,
         "restecg": 1,
         "thalach": 105,
         "exang": 0,
         "oldpeak": 2,
         "slope": 1,
         "ca": 1,
         "thal": 3,
         "target": 0,
         "_deepnote_index_column": 276
        },
        {
         "age": 57,
         "sex": 1,
         "cp": 1,
         "trestbps": 124,
         "chol": 261,
         "fbs": 0,
         "restecg": 1,
         "thalach": 141,
         "exang": 0,
         "oldpeak": 0.3,
         "slope": 2,
         "ca": 0,
         "thal": 3,
         "target": 0,
         "_deepnote_index_column": 277
        },
        {
         "age": 58,
         "sex": 0,
         "cp": 1,
         "trestbps": 136,
         "chol": 319,
         "fbs": 1,
         "restecg": 0,
         "thalach": 152,
         "exang": 0,
         "oldpeak": 0,
         "slope": 2,
         "ca": 2,
         "thal": 2,
         "target": 0,
         "_deepnote_index_column": 278
        },
        {
         "age": 61,
         "sex": 1,
         "cp": 0,
         "trestbps": 138,
         "chol": 166,
         "fbs": 0,
         "restecg": 0,
         "thalach": 125,
         "exang": 1,
         "oldpeak": 3.6,
         "slope": 1,
         "ca": 1,
         "thal": 2,
         "target": 0,
         "_deepnote_index_column": 279
        },
        {
         "age": 42,
         "sex": 1,
         "cp": 0,
         "trestbps": 136,
         "chol": 315,
         "fbs": 0,
         "restecg": 1,
         "thalach": 125,
         "exang": 1,
         "oldpeak": 1.8,
         "slope": 1,
         "ca": 0,
         "thal": 1,
         "target": 0,
         "_deepnote_index_column": 280
        },
        {
         "age": 52,
         "sex": 1,
         "cp": 0,
         "trestbps": 128,
         "chol": 204,
         "fbs": 1,
         "restecg": 1,
         "thalach": 156,
         "exang": 1,
         "oldpeak": 1,
         "slope": 1,
         "ca": 0,
         "thal": 0,
         "target": 0,
         "_deepnote_index_column": 281
        },
        {
         "age": 59,
         "sex": 1,
         "cp": 2,
         "trestbps": 126,
         "chol": 218,
         "fbs": 1,
         "restecg": 1,
         "thalach": 134,
         "exang": 0,
         "oldpeak": 2.2,
         "slope": 1,
         "ca": 1,
         "thal": 1,
         "target": 0,
         "_deepnote_index_column": 282
        },
        {
         "age": 40,
         "sex": 1,
         "cp": 0,
         "trestbps": 152,
         "chol": 223,
         "fbs": 0,
         "restecg": 1,
         "thalach": 181,
         "exang": 0,
         "oldpeak": 0,
         "slope": 2,
         "ca": 0,
         "thal": 3,
         "target": 0,
         "_deepnote_index_column": 283
        },
        {
         "age": 61,
         "sex": 1,
         "cp": 0,
         "trestbps": 140,
         "chol": 207,
         "fbs": 0,
         "restecg": 0,
         "thalach": 138,
         "exang": 1,
         "oldpeak": 1.9,
         "slope": 2,
         "ca": 1,
         "thal": 3,
         "target": 0,
         "_deepnote_index_column": 284
        },
        {
         "age": 46,
         "sex": 1,
         "cp": 0,
         "trestbps": 140,
         "chol": 311,
         "fbs": 0,
         "restecg": 1,
         "thalach": 120,
         "exang": 1,
         "oldpeak": 1.8,
         "slope": 1,
         "ca": 2,
         "thal": 3,
         "target": 0,
         "_deepnote_index_column": 285
        },
        {
         "age": 59,
         "sex": 1,
         "cp": 3,
         "trestbps": 134,
         "chol": 204,
         "fbs": 0,
         "restecg": 1,
         "thalach": 162,
         "exang": 0,
         "oldpeak": 0.8,
         "slope": 2,
         "ca": 2,
         "thal": 2,
         "target": 0,
         "_deepnote_index_column": 286
        },
        {
         "age": 57,
         "sex": 1,
         "cp": 1,
         "trestbps": 154,
         "chol": 232,
         "fbs": 0,
         "restecg": 0,
         "thalach": 164,
         "exang": 0,
         "oldpeak": 0,
         "slope": 2,
         "ca": 1,
         "thal": 2,
         "target": 0,
         "_deepnote_index_column": 287
        },
        {
         "age": 57,
         "sex": 1,
         "cp": 0,
         "trestbps": 110,
         "chol": 335,
         "fbs": 0,
         "restecg": 1,
         "thalach": 143,
         "exang": 1,
         "oldpeak": 3,
         "slope": 1,
         "ca": 1,
         "thal": 3,
         "target": 0,
         "_deepnote_index_column": 288
        },
        {
         "age": 55,
         "sex": 0,
         "cp": 0,
         "trestbps": 128,
         "chol": 205,
         "fbs": 0,
         "restecg": 2,
         "thalach": 130,
         "exang": 1,
         "oldpeak": 2,
         "slope": 1,
         "ca": 1,
         "thal": 3,
         "target": 0,
         "_deepnote_index_column": 289
        },
        {
         "age": 61,
         "sex": 1,
         "cp": 0,
         "trestbps": 148,
         "chol": 203,
         "fbs": 0,
         "restecg": 1,
         "thalach": 161,
         "exang": 0,
         "oldpeak": 0,
         "slope": 2,
         "ca": 1,
         "thal": 3,
         "target": 0,
         "_deepnote_index_column": 290
        },
        {
         "age": 58,
         "sex": 1,
         "cp": 0,
         "trestbps": 114,
         "chol": 318,
         "fbs": 0,
         "restecg": 2,
         "thalach": 140,
         "exang": 0,
         "oldpeak": 4.4,
         "slope": 0,
         "ca": 3,
         "thal": 1,
         "target": 0,
         "_deepnote_index_column": 291
        },
        {
         "age": 58,
         "sex": 0,
         "cp": 0,
         "trestbps": 170,
         "chol": 225,
         "fbs": 1,
         "restecg": 0,
         "thalach": 146,
         "exang": 1,
         "oldpeak": 2.8,
         "slope": 1,
         "ca": 2,
         "thal": 1,
         "target": 0,
         "_deepnote_index_column": 292
        },
        {
         "age": 67,
         "sex": 1,
         "cp": 2,
         "trestbps": 152,
         "chol": 212,
         "fbs": 0,
         "restecg": 0,
         "thalach": 150,
         "exang": 0,
         "oldpeak": 0.8,
         "slope": 1,
         "ca": 0,
         "thal": 3,
         "target": 0,
         "_deepnote_index_column": 293
        },
        {
         "age": 44,
         "sex": 1,
         "cp": 0,
         "trestbps": 120,
         "chol": 169,
         "fbs": 0,
         "restecg": 1,
         "thalach": 144,
         "exang": 1,
         "oldpeak": 2.8,
         "slope": 0,
         "ca": 0,
         "thal": 1,
         "target": 0,
         "_deepnote_index_column": 294
        },
        {
         "age": 63,
         "sex": 1,
         "cp": 0,
         "trestbps": 140,
         "chol": 187,
         "fbs": 0,
         "restecg": 0,
         "thalach": 144,
         "exang": 1,
         "oldpeak": 4,
         "slope": 2,
         "ca": 2,
         "thal": 3,
         "target": 0,
         "_deepnote_index_column": 295
        },
        {
         "age": 63,
         "sex": 0,
         "cp": 0,
         "trestbps": 124,
         "chol": 197,
         "fbs": 0,
         "restecg": 1,
         "thalach": 136,
         "exang": 1,
         "oldpeak": 0,
         "slope": 1,
         "ca": 0,
         "thal": 2,
         "target": 0,
         "_deepnote_index_column": 296
        },
        {
         "age": 59,
         "sex": 1,
         "cp": 0,
         "trestbps": 164,
         "chol": 176,
         "fbs": 1,
         "restecg": 0,
         "thalach": 90,
         "exang": 0,
         "oldpeak": 1,
         "slope": 1,
         "ca": 2,
         "thal": 1,
         "target": 0,
         "_deepnote_index_column": 297
        },
        {
         "age": 57,
         "sex": 0,
         "cp": 0,
         "trestbps": 140,
         "chol": 241,
         "fbs": 0,
         "restecg": 1,
         "thalach": 123,
         "exang": 1,
         "oldpeak": 0.2,
         "slope": 1,
         "ca": 0,
         "thal": 3,
         "target": 0,
         "_deepnote_index_column": 298
        },
        {
         "age": 45,
         "sex": 1,
         "cp": 3,
         "trestbps": 110,
         "chol": 264,
         "fbs": 0,
         "restecg": 1,
         "thalach": 132,
         "exang": 0,
         "oldpeak": 1.2,
         "slope": 1,
         "ca": 0,
         "thal": 3,
         "target": 0,
         "_deepnote_index_column": 299
        },
        {
         "age": 68,
         "sex": 1,
         "cp": 0,
         "trestbps": 144,
         "chol": 193,
         "fbs": 1,
         "restecg": 1,
         "thalach": 141,
         "exang": 0,
         "oldpeak": 3.4,
         "slope": 1,
         "ca": 2,
         "thal": 3,
         "target": 0,
         "_deepnote_index_column": 300
        },
        {
         "age": 57,
         "sex": 1,
         "cp": 0,
         "trestbps": 130,
         "chol": 131,
         "fbs": 0,
         "restecg": 1,
         "thalach": 115,
         "exang": 1,
         "oldpeak": 1.2,
         "slope": 1,
         "ca": 1,
         "thal": 3,
         "target": 0,
         "_deepnote_index_column": 301
        },
        {
         "age": 57,
         "sex": 0,
         "cp": 1,
         "trestbps": 130,
         "chol": 236,
         "fbs": 0,
         "restecg": 0,
         "thalach": 174,
         "exang": 0,
         "oldpeak": 0,
         "slope": 1,
         "ca": 1,
         "thal": 2,
         "target": 0,
         "_deepnote_index_column": 302
        }
       ]
      },
      "text/plain": "     age  sex  cp  trestbps  chol  fbs  restecg  thalach  exang  oldpeak  \\\n0     63    1   3       145   233    1        0      150      0      2.3   \n1     37    1   2       130   250    0        1      187      0      3.5   \n2     41    0   1       130   204    0        0      172      0      1.4   \n3     56    1   1       120   236    0        1      178      0      0.8   \n4     57    0   0       120   354    0        1      163      1      0.6   \n..   ...  ...  ..       ...   ...  ...      ...      ...    ...      ...   \n298   57    0   0       140   241    0        1      123      1      0.2   \n299   45    1   3       110   264    0        1      132      0      1.2   \n300   68    1   0       144   193    1        1      141      0      3.4   \n301   57    1   0       130   131    0        1      115      1      1.2   \n302   57    0   1       130   236    0        0      174      0      0.0   \n\n     slope  ca  thal  target  \n0        0   0     1       1  \n1        0   0     2       1  \n2        2   0     2       1  \n3        2   0     2       1  \n4        2   0     2       1  \n..     ...  ..   ...     ...  \n298      1   0     3       0  \n299      1   0     3       0  \n300      1   2     3       0  \n301      1   1     3       0  \n302      1   1     2       0  \n\n[303 rows x 14 columns]",
      "text/html": "<div>\n<style scoped>\n    .dataframe tbody tr th:only-of-type {\n        vertical-align: middle;\n    }\n\n    .dataframe tbody tr th {\n        vertical-align: top;\n    }\n\n    .dataframe thead th {\n        text-align: right;\n    }\n</style>\n<table border=\"1\" class=\"dataframe\">\n  <thead>\n    <tr style=\"text-align: right;\">\n      <th></th>\n      <th>age</th>\n      <th>sex</th>\n      <th>cp</th>\n      <th>trestbps</th>\n      <th>chol</th>\n      <th>fbs</th>\n      <th>restecg</th>\n      <th>thalach</th>\n      <th>exang</th>\n      <th>oldpeak</th>\n      <th>slope</th>\n      <th>ca</th>\n      <th>thal</th>\n      <th>target</th>\n    </tr>\n  </thead>\n  <tbody>\n    <tr>\n      <th>0</th>\n      <td>63</td>\n      <td>1</td>\n      <td>3</td>\n      <td>145</td>\n      <td>233</td>\n      <td>1</td>\n      <td>0</td>\n      <td>150</td>\n      <td>0</td>\n      <td>2.3</td>\n      <td>0</td>\n      <td>0</td>\n      <td>1</td>\n      <td>1</td>\n    </tr>\n    <tr>\n      <th>1</th>\n      <td>37</td>\n      <td>1</td>\n      <td>2</td>\n      <td>130</td>\n      <td>250</td>\n      <td>0</td>\n      <td>1</td>\n      <td>187</td>\n      <td>0</td>\n      <td>3.5</td>\n      <td>0</td>\n      <td>0</td>\n      <td>2</td>\n      <td>1</td>\n    </tr>\n    <tr>\n      <th>2</th>\n      <td>41</td>\n      <td>0</td>\n      <td>1</td>\n      <td>130</td>\n      <td>204</td>\n      <td>0</td>\n      <td>0</td>\n      <td>172</td>\n      <td>0</td>\n      <td>1.4</td>\n      <td>2</td>\n      <td>0</td>\n      <td>2</td>\n      <td>1</td>\n    </tr>\n    <tr>\n      <th>3</th>\n      <td>56</td>\n      <td>1</td>\n      <td>1</td>\n      <td>120</td>\n      <td>236</td>\n      <td>0</td>\n      <td>1</td>\n      <td>178</td>\n      <td>0</td>\n      <td>0.8</td>\n      <td>2</td>\n      <td>0</td>\n      <td>2</td>\n      <td>1</td>\n    </tr>\n    <tr>\n      <th>4</th>\n      <td>57</td>\n      <td>0</td>\n      <td>0</td>\n      <td>120</td>\n      <td>354</td>\n      <td>0</td>\n      <td>1</td>\n      <td>163</td>\n      <td>1</td>\n      <td>0.6</td>\n      <td>2</td>\n      <td>0</td>\n      <td>2</td>\n      <td>1</td>\n    </tr>\n    <tr>\n      <th>...</th>\n      <td>...</td>\n      <td>...</td>\n      <td>...</td>\n      <td>...</td>\n      <td>...</td>\n      <td>...</td>\n      <td>...</td>\n      <td>...</td>\n      <td>...</td>\n      <td>...</td>\n      <td>...</td>\n      <td>...</td>\n      <td>...</td>\n      <td>...</td>\n    </tr>\n    <tr>\n      <th>298</th>\n      <td>57</td>\n      <td>0</td>\n      <td>0</td>\n      <td>140</td>\n      <td>241</td>\n      <td>0</td>\n      <td>1</td>\n      <td>123</td>\n      <td>1</td>\n      <td>0.2</td>\n      <td>1</td>\n      <td>0</td>\n      <td>3</td>\n      <td>0</td>\n    </tr>\n    <tr>\n      <th>299</th>\n      <td>45</td>\n      <td>1</td>\n      <td>3</td>\n      <td>110</td>\n      <td>264</td>\n      <td>0</td>\n      <td>1</td>\n      <td>132</td>\n      <td>0</td>\n      <td>1.2</td>\n      <td>1</td>\n      <td>0</td>\n      <td>3</td>\n      <td>0</td>\n    </tr>\n    <tr>\n      <th>300</th>\n      <td>68</td>\n      <td>1</td>\n      <td>0</td>\n      <td>144</td>\n      <td>193</td>\n      <td>1</td>\n      <td>1</td>\n      <td>141</td>\n      <td>0</td>\n      <td>3.4</td>\n      <td>1</td>\n      <td>2</td>\n      <td>3</td>\n      <td>0</td>\n    </tr>\n    <tr>\n      <th>301</th>\n      <td>57</td>\n      <td>1</td>\n      <td>0</td>\n      <td>130</td>\n      <td>131</td>\n      <td>0</td>\n      <td>1</td>\n      <td>115</td>\n      <td>1</td>\n      <td>1.2</td>\n      <td>1</td>\n      <td>1</td>\n      <td>3</td>\n      <td>0</td>\n    </tr>\n    <tr>\n      <th>302</th>\n      <td>57</td>\n      <td>0</td>\n      <td>1</td>\n      <td>130</td>\n      <td>236</td>\n      <td>0</td>\n      <td>0</td>\n      <td>174</td>\n      <td>0</td>\n      <td>0.0</td>\n      <td>1</td>\n      <td>1</td>\n      <td>2</td>\n      <td>0</td>\n    </tr>\n  </tbody>\n</table>\n<p>303 rows × 14 columns</p>\n</div>"
     },
     "metadata": {}
    }
   ]
  },
  {
   "cell_type": "code",
   "metadata": {
    "tags": [],
    "deepnote_to_be_reexecuted": false,
    "source_hash": "cec051cc",
    "execution_start": 1620390875385,
    "execution_millis": 167,
    "cell_id": "00002-d5ce53a1-93ff-4fa4-aa8c-526330f08706",
    "deepnote_cell_type": "code"
   },
   "source": "df_train['target'].value_counts().plot(kind='bar', title='Count (target)');",
   "execution_count": 3,
   "outputs": [
    {
     "data": {
      "text/plain": "<Figure size 432x288 with 1 Axes>",
      "image/png": "[encoded data removed]"
     },
     "metadata": {
      "needs_background": "light",
      "image/png": {
       "width": 375,
       "height": 261
      }
     },
     "output_type": "display_data"
    }
   ]
  },
  {
   "cell_type": "code",
   "metadata": {
    "tags": [],
    "deepnote_to_be_reexecuted": false,
    "source_hash": "2c1aad2b",
    "execution_start": 1620390875560,
    "execution_millis": 39,
    "cell_id": "00003-cfaa55b2-477a-46de-bee4-f9ed7c464def",
    "deepnote_cell_type": "code"
   },
   "source": "print(f\"Train data Describe \\n{df_train.describe()}\\n\")",
   "execution_count": 4,
   "outputs": [
    {
     "name": "stdout",
     "text": "Train data Describe \n              age         sex          cp    trestbps        chol         fbs  \\\ncount  250.000000  250.000000  250.000000  250.000000  250.000000  250.000000   \nmean    54.080000    0.660000    1.072000  131.392000  247.524000    0.140000   \nstd      9.381773    0.474659    1.015352   17.399116   52.623096    0.347683   \nmin     29.000000    0.000000    0.000000   94.000000  126.000000    0.000000   \n25%     47.000000    0.000000    0.000000  120.000000  211.250000    0.000000   \n50%     54.500000    1.000000    1.000000  130.000000  243.000000    0.000000   \n75%     61.000000    1.000000    2.000000  140.000000  274.000000    0.000000   \nmax     77.000000    1.000000    3.000000  200.000000  564.000000    1.000000   \n\n         restecg     thalach       exang     oldpeak       slope          ca  \\\ncount  250.00000  250.000000  250.000000  250.000000  250.000000  250.000000   \nmean     0.50400  152.472000    0.276000    0.944800    1.436000    0.628000   \nstd      0.50894   21.852766    0.447914    1.108054    0.625676    0.986666   \nmin      0.00000   88.000000    0.000000    0.000000    0.000000    0.000000   \n25%      0.00000  140.250000    0.000000    0.000000    1.000000    0.000000   \n50%      0.50000  156.000000    0.000000    0.600000    2.000000    0.000000   \n75%      1.00000  169.000000    1.000000    1.500000    2.000000    1.000000   \nmax      2.00000  202.000000    1.000000    6.200000    2.000000    4.000000   \n\n             thal      target  \ncount  250.000000  250.000000  \nmean     2.308000    0.660000  \nstd      0.578337    0.474659  \nmin      0.000000    0.000000  \n25%      2.000000    0.000000  \n50%      2.000000    1.000000  \n75%      3.000000    1.000000  \nmax      3.000000    1.000000  \n\n",
     "output_type": "stream"
    }
   ]
  },
  {
   "cell_type": "code",
   "metadata": {
    "tags": [],
    "deepnote_to_be_reexecuted": false,
    "source_hash": "4bddbb8d",
    "execution_start": 1620390875648,
    "execution_millis": 1455,
    "cell_id": "00004-bdeb30af-e4bd-4fe3-a7cd-4147a3ee83d8",
    "deepnote_cell_type": "code"
   },
   "source": "columns = ['age', 'sex', 'cp', 'trestbps', 'chol', 'fbs', 'restecg', 'thalach',\n       'exang', 'oldpeak', 'slope', 'ca', 'thal',]\n\nplt.figure(figsize=(16, 14))\nsns.set(font_scale= 1.2)\nsns.set_style('ticks')\n\nfor i, feature in enumerate(columns):\n    plt.subplot(4, 4, i+1)\n    sns.violinplot(x=\"target\",y=feature,data=df_train)\n    \nsns.despine()",
   "execution_count": 5,
   "outputs": [
    {
     "data": {
      "text/plain": "<Figure size 1152x1008 with 13 Axes>",
      "image/png": "[encoded data removed]"
     },
     "metadata": {
      "needs_background": "light",
      "image/png": {
       "width": 966,
       "height": 815
      }
     },
     "output_type": "display_data"
    }
   ]
  },
  {
   "cell_type": "code",
   "metadata": {
    "tags": [],
    "deepnote_to_be_reexecuted": false,
    "source_hash": "b7ad2608",
    "execution_start": 1620390877094,
    "execution_millis": 1,
    "cell_id": "00005-6248f095-54c4-4df7-bc77-cd748fd17f65",
    "deepnote_cell_type": "code"
   },
   "source": "df_train['chol*age']=df_train['chol']*df_train['age']\ndf_train['trestbps*cp']=df_train['trestbps']*df_train['cp']\ndf_train['trestbps*age']=df_train['trestbps']*df_train['age']",
   "execution_count": 6,
   "outputs": []
  },
  {
   "cell_type": "code",
   "metadata": {
    "tags": [],
    "deepnote_to_be_reexecuted": false,
    "source_hash": "e8af8061",
    "execution_start": 1620390877099,
    "execution_millis": 882,
    "cell_id": "00006-8963af2f-e9c2-42c6-b322-d048046c8e0c",
    "deepnote_cell_type": "code"
   },
   "source": "columns = ['age', 'cp', 'trestbps', 'chol', 'chol*age','trestbps*cp','trestbps*age']\n\nplt.figure(figsize=(16, 14))\nsns.set(font_scale= 1.2)\nsns.set_style('ticks')\n\nfor i, feature in enumerate(columns):\n    plt.subplot(4, 4, i+1)\n    sns.violinplot(x=\"target\",y=feature,data=df_train)\n    \nsns.despine()",
   "execution_count": 7,
   "outputs": [
    {
     "data": {
      "text/plain": "<Figure size 1152x1008 with 7 Axes>",
      "image/png": "[encoded data removed]"
     },
     "metadata": {
      "image/png": {
       "width": 976,
       "height": 418
      }
     },
     "output_type": "display_data"
    }
   ]
  },
  {
   "cell_type": "code",
   "metadata": {
    "tags": [],
    "deepnote_to_be_reexecuted": false,
    "source_hash": "e173e190",
    "execution_start": 1620390877995,
    "execution_millis": 213,
    "cell_id": "00007-4e938637-ab8d-4052-9459-62c7041c1a1c",
    "deepnote_cell_type": "code"
   },
   "source": "sns.catplot(x='sex', kind='count', data=df_train)\nplt.show()\nplt.close()",
   "execution_count": 8,
   "outputs": [
    {
     "data": {
      "text/plain": "<Figure size 360x360 with 1 Axes>",
      "image/png": "[encoded data removed]"
     },
     "metadata": {
      "image/png": {
       "width": 361,
       "height": 361
      }
     },
     "output_type": "display_data"
    }
   ]
  },
  {
   "cell_type": "code",
   "metadata": {
    "tags": [],
    "deepnote_to_be_reexecuted": false,
    "source_hash": "65af3fda",
    "execution_start": 1620390878216,
    "execution_millis": 2319,
    "cell_id": "00008-4b9969ef-8e4c-4b34-9811-89ee0383c5e5",
    "deepnote_cell_type": "code"
   },
   "source": "plt.figure(figsize=(16, 10))\n\nheatmap = sns.heatmap(df_train.corr(), vmin=-1, vmax=1, annot=True)\nheatmap",
   "execution_count": 9,
   "outputs": [
    {
     "output_type": "execute_result",
     "execution_count": 9,
     "data": {
      "text/plain": "<AxesSubplot:>"
     },
     "metadata": {}
    },
    {
     "data": {
      "text/plain": "<Figure size 1152x720 with 2 Axes>",
      "image/png": "[encoded data removed]"
     },
     "metadata": {
      "image/png": {
       "width": 946,
       "height": 658
      }
     },
     "output_type": "display_data"
    }
   ]
  },
  {
   "cell_type": "code",
   "metadata": {
    "tags": [],
    "deepnote_to_be_reexecuted": false,
    "source_hash": "d274c6eb",
    "execution_start": 1620390880537,
    "execution_millis": 235725,
    "cell_id": "00009-94635edd-dce7-4b51-8fb9-ce903237b22d",
    "deepnote_cell_type": "code"
   },
   "source": "num_vars=['age',  'trestbps', 'chol', 'thalach','oldpeak', 'chol*age', 'trestbps*cp', 'trestbps*age']\ncat_vars=[ 'sex', 'cp', 'fbs', 'restecg','exang',  'slope', 'ca', 'thal' ]",
   "execution_count": 10,
   "outputs": []
  },
  {
   "cell_type": "code",
   "metadata": {
    "tags": [],
    "deepnote_to_be_reexecuted": false,
    "source_hash": "3a86f638",
    "execution_start": 1620390880538,
    "execution_millis": 235720,
    "cell_id": "00010-db658baa-a5f5-4d83-878a-e1375a827723",
    "deepnote_cell_type": "code"
   },
   "source": "df['sex'].unique().sum()",
   "execution_count": 11,
   "outputs": [
    {
     "output_type": "execute_result",
     "execution_count": 11,
     "data": {
      "text/plain": "1"
     },
     "metadata": {}
    }
   ]
  },
  {
   "cell_type": "markdown",
   "source": "# Pipeline  for preprocess",
   "metadata": {
    "tags": [],
    "cell_id": "00011-02dd61bf-5002-4c85-b78b-ea148a9a9992",
    "deepnote_cell_type": "text-cell-h1"
   }
  },
  {
   "cell_type": "code",
   "metadata": {
    "tags": [],
    "deepnote_to_be_reexecuted": false,
    "source_hash": "49ec859b",
    "execution_start": 1620390880584,
    "execution_millis": 38,
    "output_cleared": false,
    "cell_id": "00012-da4c8586-4c7f-4b8e-ac40-21d0d9e7deca",
    "deepnote_cell_type": "code"
   },
   "source": "from   category_encoders import target_encoder # import BinaryEncoder .target_encoder.TargetEncoder\n\nnum_4_Models = pipeline.Pipeline(steps=[\n    ('scalar',StandardScaler()),\n    ('Normalizer',Normalizer(norm='max'))\n])\ncat_4_Models = pipeline.Pipeline(steps=[\n  ('onehot', target_encoder.TargetEncoder( ))\n])\n\npreprocessor = compose.ColumnTransformer(transformers=[\n    ('num', num_4_Models, num_vars),\n    ('cat', cat_4_Models, cat_vars),\n], remainder='drop') # Drop other vars not specified in num_vars or cat_vars\npreprocessor",
   "execution_count": 12,
   "outputs": [
    {
     "output_type": "execute_result",
     "execution_count": 12,
     "data": {
      "text/plain": "ColumnTransformer(transformers=[('num',\n                                 Pipeline(steps=[('scalar', StandardScaler()),\n                                                 ('Normalizer',\n                                                  Normalizer(norm='max'))]),\n                                 ['age', 'trestbps', 'chol', 'thalach',\n                                  'oldpeak', 'chol*age', 'trestbps*cp',\n                                  'trestbps*age']),\n                                ('cat',\n                                 Pipeline(steps=[('onehot', TargetEncoder())]),\n                                 ['sex', 'cp', 'fbs', 'restecg', 'exang',\n                                  'slope', 'ca', 'thal'])])",
      "text/html": "<style>#sk-7508f2ed-2665-4b30-96d5-3f038a621d06 {color: black;background-color: white;}#sk-7508f2ed-2665-4b30-96d5-3f038a621d06 pre{padding: 0;}#sk-7508f2ed-2665-4b30-96d5-3f038a621d06 div.sk-toggleable {background-color: white;}#sk-7508f2ed-2665-4b30-96d5-3f038a621d06 label.sk-toggleable__label {cursor: pointer;display: block;width: 100%;margin-bottom: 0;padding: 0.2em 0.3em;box-sizing: border-box;text-align: center;}#sk-7508f2ed-2665-4b30-96d5-3f038a621d06 div.sk-toggleable__content {max-height: 0;max-width: 0;overflow: hidden;text-align: left;background-color: #f0f8ff;}#sk-7508f2ed-2665-4b30-96d5-3f038a621d06 div.sk-toggleable__content pre {margin: 0.2em;color: black;border-radius: 0.25em;background-color: #f0f8ff;}#sk-7508f2ed-2665-4b30-96d5-3f038a621d06 input.sk-toggleable__control:checked~div.sk-toggleable__content {max-height: 200px;max-width: 100%;overflow: auto;}#sk-7508f2ed-2665-4b30-96d5-3f038a621d06 div.sk-estimator input.sk-toggleable__control:checked~label.sk-toggleable__label {background-color: #d4ebff;}#sk-7508f2ed-2665-4b30-96d5-3f038a621d06 div.sk-label input.sk-toggleable__control:checked~label.sk-toggleable__label {background-color: #d4ebff;}#sk-7508f2ed-2665-4b30-96d5-3f038a621d06 input.sk-hidden--visually {border: 0;clip: rect(1px 1px 1px 1px);clip: rect(1px, 1px, 1px, 1px);height: 1px;margin: -1px;overflow: hidden;padding: 0;position: absolute;width: 1px;}#sk-7508f2ed-2665-4b30-96d5-3f038a621d06 div.sk-estimator {font-family: monospace;background-color: #f0f8ff;margin: 0.25em 0.25em;border: 1px dotted black;border-radius: 0.25em;box-sizing: border-box;}#sk-7508f2ed-2665-4b30-96d5-3f038a621d06 div.sk-estimator:hover {background-color: #d4ebff;}#sk-7508f2ed-2665-4b30-96d5-3f038a621d06 div.sk-parallel-item::after {content: \"\";width: 100%;border-bottom: 1px solid gray;flex-grow: 1;}#sk-7508f2ed-2665-4b30-96d5-3f038a621d06 div.sk-label:hover label.sk-toggleable__label {background-color: #d4ebff;}#sk-7508f2ed-2665-4b30-96d5-3f038a621d06 div.sk-serial::before {content: \"\";position: absolute;border-left: 1px solid gray;box-sizing: border-box;top: 2em;bottom: 0;left: 50%;}#sk-7508f2ed-2665-4b30-96d5-3f038a621d06 div.sk-serial {display: flex;flex-direction: column;align-items: center;background-color: white;}#sk-7508f2ed-2665-4b30-96d5-3f038a621d06 div.sk-item {z-index: 1;}#sk-7508f2ed-2665-4b30-96d5-3f038a621d06 div.sk-parallel {display: flex;align-items: stretch;justify-content: center;background-color: white;}#sk-7508f2ed-2665-4b30-96d5-3f038a621d06 div.sk-parallel-item {display: flex;flex-direction: column;position: relative;background-color: white;}#sk-7508f2ed-2665-4b30-96d5-3f038a621d06 div.sk-parallel-item:first-child::after {align-self: flex-end;width: 50%;}#sk-7508f2ed-2665-4b30-96d5-3f038a621d06 div.sk-parallel-item:last-child::after {align-self: flex-start;width: 50%;}#sk-7508f2ed-2665-4b30-96d5-3f038a621d06 div.sk-parallel-item:only-child::after {width: 0;}#sk-7508f2ed-2665-4b30-96d5-3f038a621d06 div.sk-dashed-wrapped {border: 1px dashed gray;margin: 0.2em;box-sizing: border-box;padding-bottom: 0.1em;background-color: white;position: relative;}#sk-7508f2ed-2665-4b30-96d5-3f038a621d06 div.sk-label label {font-family: monospace;font-weight: bold;background-color: white;display: inline-block;line-height: 1.2em;}#sk-7508f2ed-2665-4b30-96d5-3f038a621d06 div.sk-label-container {position: relative;z-index: 2;text-align: center;}#sk-7508f2ed-2665-4b30-96d5-3f038a621d06 div.sk-container {display: inline-block;position: relative;}</style><div id=\"sk-7508f2ed-2665-4b30-96d5-3f038a621d06\" class\"sk-top-container\"><div class=\"sk-container\"><div class=\"sk-item sk-dashed-wrapped\"><div class=\"sk-label-container\"><div class=\"sk-label sk-toggleable\"><input class=\"sk-toggleable__control sk-hidden--visually\" id=\"2f32261d-9316-415c-acad-823dfd6f3c67\" type=\"checkbox\" ><label class=\"sk-toggleable__label\" for=\"2f32261d-9316-415c-acad-823dfd6f3c67\">ColumnTransformer</label><div class=\"sk-toggleable__content\"><pre>ColumnTransformer(transformers=[('num',\n                                 Pipeline(steps=[('scalar', StandardScaler()),\n                                                 ('Normalizer',\n                                                  Normalizer(norm='max'))]),\n                                 ['age', 'trestbps', 'chol', 'thalach',\n                                  'oldpeak', 'chol*age', 'trestbps*cp',\n                                  'trestbps*age']),\n                                ('cat',\n                                 Pipeline(steps=[('onehot', TargetEncoder())]),\n                                 ['sex', 'cp', 'fbs', 'restecg', 'exang',\n                                  'slope', 'ca', 'thal'])])</pre></div></div></div><div class=\"sk-parallel\"><div class=\"sk-parallel-item\"><div class=\"sk-item\"><div class=\"sk-label-container\"><div class=\"sk-label sk-toggleable\"><input class=\"sk-toggleable__control sk-hidden--visually\" id=\"11b15919-9d57-4a53-9547-6d0060a99e0c\" type=\"checkbox\" ><label class=\"sk-toggleable__label\" for=\"11b15919-9d57-4a53-9547-6d0060a99e0c\">num</label><div class=\"sk-toggleable__content\"><pre>['age', 'trestbps', 'chol', 'thalach', 'oldpeak', 'chol*age', 'trestbps*cp', 'trestbps*age']</pre></div></div></div><div class=\"sk-serial\"><div class=\"sk-item\"><div class=\"sk-serial\"><div class=\"sk-item\"><div class=\"sk-estimator sk-toggleable\"><input class=\"sk-toggleable__control sk-hidden--visually\" id=\"7f0c6304-85e5-4254-a26b-6bd2ac852cf6\" type=\"checkbox\" ><label class=\"sk-toggleable__label\" for=\"7f0c6304-85e5-4254-a26b-6bd2ac852cf6\">StandardScaler</label><div class=\"sk-toggleable__content\"><pre>StandardScaler()</pre></div></div></div><div class=\"sk-item\"><div class=\"sk-estimator sk-toggleable\"><input class=\"sk-toggleable__control sk-hidden--visually\" id=\"739afa2f-df1f-4cc0-9c91-375e5cda2ff2\" type=\"checkbox\" ><label class=\"sk-toggleable__label\" for=\"739afa2f-df1f-4cc0-9c91-375e5cda2ff2\">Normalizer</label><div class=\"sk-toggleable__content\"><pre>Normalizer(norm='max')</pre></div></div></div></div></div></div></div></div><div class=\"sk-parallel-item\"><div class=\"sk-item\"><div class=\"sk-label-container\"><div class=\"sk-label sk-toggleable\"><input class=\"sk-toggleable__control sk-hidden--visually\" id=\"6fa0ec61-b9ff-4120-a916-b0f50aebca6e\" type=\"checkbox\" ><label class=\"sk-toggleable__label\" for=\"6fa0ec61-b9ff-4120-a916-b0f50aebca6e\">cat</label><div class=\"sk-toggleable__content\"><pre>['sex', 'cp', 'fbs', 'restecg', 'exang', 'slope', 'ca', 'thal']</pre></div></div></div><div class=\"sk-serial\"><div class=\"sk-item\"><div class=\"sk-serial\"><div class=\"sk-item\"><div class=\"sk-estimator sk-toggleable\"><input class=\"sk-toggleable__control sk-hidden--visually\" id=\"12b43c7c-3bd4-49a3-88a1-3a613545805d\" type=\"checkbox\" ><label class=\"sk-toggleable__label\" for=\"12b43c7c-3bd4-49a3-88a1-3a613545805d\">TargetEncoder</label><div class=\"sk-toggleable__content\"><pre>TargetEncoder()</pre></div></div></div></div></div></div></div></div></div></div></div></div>"
     },
     "metadata": {}
    }
   ]
  },
  {
   "cell_type": "markdown",
   "source": "# Models",
   "metadata": {
    "tags": [],
    "cell_id": "00013-e8817ed6-cab3-402f-b189-72c065ce7fa2",
    "deepnote_cell_type": "text-cell-h1"
   }
  },
  {
   "cell_type": "code",
   "metadata": {
    "tags": [],
    "deepnote_to_be_reexecuted": false,
    "source_hash": "cc3a0034",
    "execution_start": 1620390880658,
    "execution_millis": 23,
    "output_cleared": false,
    "cell_id": "00014-1e9c664b-5197-430e-8ef4-23aa3daac07e",
    "deepnote_cell_type": "code"
   },
   "source": "from sklearn.svm import SVC,LinearSVC\nfrom sklearn.linear_model import SGDClassifier\nclassifier_models = {\n'SVC':SVC(),\n'SGDClassifier':SGDClassifier(),\n'LinearSVC':LinearSVC(),\n'KNeighborsClassifier':KNeighborsClassifier(20),\n'LogisticRegression':LogisticRegression(),\n\"RandomForestClassifier\":ensemble.RandomForestClassifier(),\n\"GradientBoostingClassifier\":ensemble.GradientBoostingClassifier(),\n}\n# make pipline with  preprocessing \nclassifier_models = {name: pipeline.make_pipeline(preprocessor, model) for name, model in classifier_models.items()}\nclassifier_models[\"GradientBoostingClassifier\"]",
   "execution_count": 13,
   "outputs": [
    {
     "output_type": "execute_result",
     "execution_count": 13,
     "data": {
      "text/plain": "Pipeline(steps=[('columntransformer',\n                 ColumnTransformer(transformers=[('num',\n                                                  Pipeline(steps=[('scalar',\n                                                                   StandardScaler()),\n                                                                  ('Normalizer',\n                                                                   Normalizer(norm='max'))]),\n                                                  ['age', 'trestbps', 'chol',\n                                                   'thalach', 'oldpeak',\n                                                   'chol*age', 'trestbps*cp',\n                                                   'trestbps*age']),\n                                                 ('cat',\n                                                  Pipeline(steps=[('onehot',\n                                                                   TargetEncoder())]),\n                                                  ['sex', 'cp', 'fbs',\n                                                   'restecg', 'exang', 'slope',\n                                                   'ca', 'thal'])])),\n                ('gradientboostingclassifier', GradientBoostingClassifier())])",
      "text/html": "<style>#sk-4003c5d9-939d-488a-aa54-e7050a4cc04e {color: black;background-color: white;}#sk-4003c5d9-939d-488a-aa54-e7050a4cc04e pre{padding: 0;}#sk-4003c5d9-939d-488a-aa54-e7050a4cc04e div.sk-toggleable {background-color: white;}#sk-4003c5d9-939d-488a-aa54-e7050a4cc04e label.sk-toggleable__label {cursor: pointer;display: block;width: 100%;margin-bottom: 0;padding: 0.2em 0.3em;box-sizing: border-box;text-align: center;}#sk-4003c5d9-939d-488a-aa54-e7050a4cc04e div.sk-toggleable__content {max-height: 0;max-width: 0;overflow: hidden;text-align: left;background-color: #f0f8ff;}#sk-4003c5d9-939d-488a-aa54-e7050a4cc04e div.sk-toggleable__content pre {margin: 0.2em;color: black;border-radius: 0.25em;background-color: #f0f8ff;}#sk-4003c5d9-939d-488a-aa54-e7050a4cc04e input.sk-toggleable__control:checked~div.sk-toggleable__content {max-height: 200px;max-width: 100%;overflow: auto;}#sk-4003c5d9-939d-488a-aa54-e7050a4cc04e div.sk-estimator input.sk-toggleable__control:checked~label.sk-toggleable__label {background-color: #d4ebff;}#sk-4003c5d9-939d-488a-aa54-e7050a4cc04e div.sk-label input.sk-toggleable__control:checked~label.sk-toggleable__label {background-color: #d4ebff;}#sk-4003c5d9-939d-488a-aa54-e7050a4cc04e input.sk-hidden--visually {border: 0;clip: rect(1px 1px 1px 1px);clip: rect(1px, 1px, 1px, 1px);height: 1px;margin: -1px;overflow: hidden;padding: 0;position: absolute;width: 1px;}#sk-4003c5d9-939d-488a-aa54-e7050a4cc04e div.sk-estimator {font-family: monospace;background-color: #f0f8ff;margin: 0.25em 0.25em;border: 1px dotted black;border-radius: 0.25em;box-sizing: border-box;}#sk-4003c5d9-939d-488a-aa54-e7050a4cc04e div.sk-estimator:hover {background-color: #d4ebff;}#sk-4003c5d9-939d-488a-aa54-e7050a4cc04e div.sk-parallel-item::after {content: \"\";width: 100%;border-bottom: 1px solid gray;flex-grow: 1;}#sk-4003c5d9-939d-488a-aa54-e7050a4cc04e div.sk-label:hover label.sk-toggleable__label {background-color: #d4ebff;}#sk-4003c5d9-939d-488a-aa54-e7050a4cc04e div.sk-serial::before {content: \"\";position: absolute;border-left: 1px solid gray;box-sizing: border-box;top: 2em;bottom: 0;left: 50%;}#sk-4003c5d9-939d-488a-aa54-e7050a4cc04e div.sk-serial {display: flex;flex-direction: column;align-items: center;background-color: white;}#sk-4003c5d9-939d-488a-aa54-e7050a4cc04e div.sk-item {z-index: 1;}#sk-4003c5d9-939d-488a-aa54-e7050a4cc04e div.sk-parallel {display: flex;align-items: stretch;justify-content: center;background-color: white;}#sk-4003c5d9-939d-488a-aa54-e7050a4cc04e div.sk-parallel-item {display: flex;flex-direction: column;position: relative;background-color: white;}#sk-4003c5d9-939d-488a-aa54-e7050a4cc04e div.sk-parallel-item:first-child::after {align-self: flex-end;width: 50%;}#sk-4003c5d9-939d-488a-aa54-e7050a4cc04e div.sk-parallel-item:last-child::after {align-self: flex-start;width: 50%;}#sk-4003c5d9-939d-488a-aa54-e7050a4cc04e div.sk-parallel-item:only-child::after {width: 0;}#sk-4003c5d9-939d-488a-aa54-e7050a4cc04e div.sk-dashed-wrapped {border: 1px dashed gray;margin: 0.2em;box-sizing: border-box;padding-bottom: 0.1em;background-color: white;position: relative;}#sk-4003c5d9-939d-488a-aa54-e7050a4cc04e div.sk-label label {font-family: monospace;font-weight: bold;background-color: white;display: inline-block;line-height: 1.2em;}#sk-4003c5d9-939d-488a-aa54-e7050a4cc04e div.sk-label-container {position: relative;z-index: 2;text-align: center;}#sk-4003c5d9-939d-488a-aa54-e7050a4cc04e div.sk-container {display: inline-block;position: relative;}</style><div id=\"sk-4003c5d9-939d-488a-aa54-e7050a4cc04e\" class\"sk-top-container\"><div class=\"sk-container\"><div class=\"sk-item sk-dashed-wrapped\"><div class=\"sk-label-container\"><div class=\"sk-label sk-toggleable\"><input class=\"sk-toggleable__control sk-hidden--visually\" id=\"dcd97591-d9c1-41d7-8043-1655a25adeb2\" type=\"checkbox\" ><label class=\"sk-toggleable__label\" for=\"dcd97591-d9c1-41d7-8043-1655a25adeb2\">Pipeline</label><div class=\"sk-toggleable__content\"><pre>Pipeline(steps=[('columntransformer',\n                 ColumnTransformer(transformers=[('num',\n                                                  Pipeline(steps=[('scalar',\n                                                                   StandardScaler()),\n                                                                  ('Normalizer',\n                                                                   Normalizer(norm='max'))]),\n                                                  ['age', 'trestbps', 'chol',\n                                                   'thalach', 'oldpeak',\n                                                   'chol*age', 'trestbps*cp',\n                                                   'trestbps*age']),\n                                                 ('cat',\n                                                  Pipeline(steps=[('onehot',\n                                                                   TargetEncoder())]),\n                                                  ['sex', 'cp', 'fbs',\n                                                   'restecg', 'exang', 'slope',\n                                                   'ca', 'thal'])])),\n                ('gradientboostingclassifier', GradientBoostingClassifier())])</pre></div></div></div><div class=\"sk-serial\"><div class=\"sk-item sk-dashed-wrapped\"><div class=\"sk-label-container\"><div class=\"sk-label sk-toggleable\"><input class=\"sk-toggleable__control sk-hidden--visually\" id=\"8dcb9c0c-5f81-4344-9ae2-a85fe1d15e7b\" type=\"checkbox\" ><label class=\"sk-toggleable__label\" for=\"8dcb9c0c-5f81-4344-9ae2-a85fe1d15e7b\">columntransformer: ColumnTransformer</label><div class=\"sk-toggleable__content\"><pre>ColumnTransformer(transformers=[('num',\n                                 Pipeline(steps=[('scalar', StandardScaler()),\n                                                 ('Normalizer',\n                                                  Normalizer(norm='max'))]),\n                                 ['age', 'trestbps', 'chol', 'thalach',\n                                  'oldpeak', 'chol*age', 'trestbps*cp',\n                                  'trestbps*age']),\n                                ('cat',\n                                 Pipeline(steps=[('onehot', TargetEncoder())]),\n                                 ['sex', 'cp', 'fbs', 'restecg', 'exang',\n                                  'slope', 'ca', 'thal'])])</pre></div></div></div><div class=\"sk-parallel\"><div class=\"sk-parallel-item\"><div class=\"sk-item\"><div class=\"sk-label-container\"><div class=\"sk-label sk-toggleable\"><input class=\"sk-toggleable__control sk-hidden--visually\" id=\"39475a36-ff8a-4d69-9448-d87c56fadda4\" type=\"checkbox\" ><label class=\"sk-toggleable__label\" for=\"39475a36-ff8a-4d69-9448-d87c56fadda4\">num</label><div class=\"sk-toggleable__content\"><pre>['age', 'trestbps', 'chol', 'thalach', 'oldpeak', 'chol*age', 'trestbps*cp', 'trestbps*age']</pre></div></div></div><div class=\"sk-serial\"><div class=\"sk-item\"><div class=\"sk-serial\"><div class=\"sk-item\"><div class=\"sk-estimator sk-toggleable\"><input class=\"sk-toggleable__control sk-hidden--visually\" id=\"d77dc58e-aaf5-47ef-8b1d-c3b2d36a37a7\" type=\"checkbox\" ><label class=\"sk-toggleable__label\" for=\"d77dc58e-aaf5-47ef-8b1d-c3b2d36a37a7\">StandardScaler</label><div class=\"sk-toggleable__content\"><pre>StandardScaler()</pre></div></div></div><div class=\"sk-item\"><div class=\"sk-estimator sk-toggleable\"><input class=\"sk-toggleable__control sk-hidden--visually\" id=\"2ad1a144-336b-4716-adbb-353227371043\" type=\"checkbox\" ><label class=\"sk-toggleable__label\" for=\"2ad1a144-336b-4716-adbb-353227371043\">Normalizer</label><div class=\"sk-toggleable__content\"><pre>Normalizer(norm='max')</pre></div></div></div></div></div></div></div></div><div class=\"sk-parallel-item\"><div class=\"sk-item\"><div class=\"sk-label-container\"><div class=\"sk-label sk-toggleable\"><input class=\"sk-toggleable__control sk-hidden--visually\" id=\"a358a0f3-765b-4cf8-ba8f-35b0ac8ef155\" type=\"checkbox\" ><label class=\"sk-toggleable__label\" for=\"a358a0f3-765b-4cf8-ba8f-35b0ac8ef155\">cat</label><div class=\"sk-toggleable__content\"><pre>['sex', 'cp', 'fbs', 'restecg', 'exang', 'slope', 'ca', 'thal']</pre></div></div></div><div class=\"sk-serial\"><div class=\"sk-item\"><div class=\"sk-serial\"><div class=\"sk-item\"><div class=\"sk-estimator sk-toggleable\"><input class=\"sk-toggleable__control sk-hidden--visually\" id=\"2bd5f56d-8c16-463f-9824-4cd6066d68e7\" type=\"checkbox\" ><label class=\"sk-toggleable__label\" for=\"2bd5f56d-8c16-463f-9824-4cd6066d68e7\">TargetEncoder</label><div class=\"sk-toggleable__content\"><pre>TargetEncoder()</pre></div></div></div></div></div></div></div></div></div></div><div class=\"sk-item\"><div class=\"sk-estimator sk-toggleable\"><input class=\"sk-toggleable__control sk-hidden--visually\" id=\"399ab94f-3fa5-409f-ba61-b9ebf5fafad2\" type=\"checkbox\" ><label class=\"sk-toggleable__label\" for=\"399ab94f-3fa5-409f-ba61-b9ebf5fafad2\">GradientBoostingClassifier</label><div class=\"sk-toggleable__content\"><pre>GradientBoostingClassifier()</pre></div></div></div></div></div></div></div>"
     },
     "metadata": {}
    }
   ]
  },
  {
   "cell_type": "code",
   "metadata": {
    "tags": [],
    "deepnote_to_be_reexecuted": false,
    "source_hash": "7a020fee",
    "execution_start": 1620390880674,
    "execution_millis": 439,
    "output_cleared": false,
    "cell_id": "00015-f5819487-d1f4-483b-a8c4-1f4033afdaa4",
    "deepnote_cell_type": "code"
   },
   "source": "\nx=df_train.drop('target',axis=1)\ny=df_train['target']\n# x=data.drop('target',axis=1)\n# y=data['target']\nx_train, x_val, y_train, y_val = train_test_split(x, y,test_size=0.2,stratify = y,random_state=10 )\nresults = pd.DataFrame({'Model': [], 'Accuracy': [], 'Bal Acc.': [],'Time': []})\nfor model_name, model in classifier_models.items():\n    start_time = time.time()\n    model.fit(x_train, y_train)\n    total_time = time.time() - start_time\n    valid_pred = model.predict(x_val)\n    results = results.append({\"Model\":    model_name,\n                              \"Accuracy\": accuracy_score(y_val, valid_pred)*100,\n                              \"Bal Acc.\": balanced_accuracy_score(y_val, valid_pred)*100,\n                    \n                              \"Time\":     total_time},\n                              ignore_index=True)\nresults_ord = results.sort_values(by=['Accuracy'], ascending=False, ignore_index=True)\nresults_ord.index += 1 \nresults_ord.style.bar(subset=['Accuracy', 'Bal Acc.'], vmin=0, vmax=100, color='#5fba7d')",
   "execution_count": 14,
   "outputs": [
    {
     "output_type": "execute_result",
     "execution_count": 14,
     "data": {
      "text/plain": "<pandas.io.formats.style.Styler at 0x7f1f58590dd0>",
      "text/html": "<style  type=\"text/css\" >\n#T_85ea9_row0_col1{\n            width:  10em;\n             height:  80%;\n            background:  linear-gradient(90deg,#5fba7d 92.0%, transparent 92.0%);\n        }#T_85ea9_row0_col2{\n            width:  10em;\n             height:  80%;\n            background:  linear-gradient(90deg,#5fba7d 91.1%, transparent 91.1%);\n        }#T_85ea9_row1_col1,#T_85ea9_row2_col1{\n            width:  10em;\n             height:  80%;\n            background:  linear-gradient(90deg,#5fba7d 88.0%, transparent 88.0%);\n        }#T_85ea9_row1_col2,#T_85ea9_row2_col2{\n            width:  10em;\n             height:  80%;\n            background:  linear-gradient(90deg,#5fba7d 88.1%, transparent 88.1%);\n        }#T_85ea9_row3_col1{\n            width:  10em;\n             height:  80%;\n            background:  linear-gradient(90deg,#5fba7d 86.0%, transparent 86.0%);\n        }#T_85ea9_row3_col2{\n            width:  10em;\n             height:  80%;\n            background:  linear-gradient(90deg,#5fba7d 82.3%, transparent 82.3%);\n        }#T_85ea9_row4_col1,#T_85ea9_row5_col1{\n            width:  10em;\n             height:  80%;\n            background:  linear-gradient(90deg,#5fba7d 84.0%, transparent 84.0%);\n        }#T_85ea9_row4_col2{\n            width:  10em;\n             height:  80%;\n            background:  linear-gradient(90deg,#5fba7d 86.5%, transparent 86.5%);\n        }#T_85ea9_row5_col2{\n            width:  10em;\n             height:  80%;\n            background:  linear-gradient(90deg,#5fba7d 83.6%, transparent 83.6%);\n        }#T_85ea9_row6_col1{\n            width:  10em;\n             height:  80%;\n            background:  linear-gradient(90deg,#5fba7d 80.0%, transparent 80.0%);\n        }#T_85ea9_row6_col2{\n            width:  10em;\n             height:  80%;\n            background:  linear-gradient(90deg,#5fba7d 74.9%, transparent 74.9%);\n        }</style><table id=\"T_85ea9_\" ><thead>    <tr>        <th class=\"blank level0\" ></th>        <th class=\"col_heading level0 col0\" >Model</th>        <th class=\"col_heading level0 col1\" >Accuracy</th>        <th class=\"col_heading level0 col2\" >Bal Acc.</th>        <th class=\"col_heading level0 col3\" >Time</th>    </tr></thead><tbody>\n                <tr>\n                        <th id=\"T_85ea9_level0_row0\" class=\"row_heading level0 row0\" >1</th>\n                        <td id=\"T_85ea9_row0_col0\" class=\"data row0 col0\" >SVC</td>\n                        <td id=\"T_85ea9_row0_col1\" class=\"data row0 col1\" >92.000000</td>\n                        <td id=\"T_85ea9_row0_col2\" class=\"data row0 col2\" >91.087344</td>\n                        <td id=\"T_85ea9_row0_col3\" class=\"data row0 col3\" >0.010714</td>\n            </tr>\n            <tr>\n                        <th id=\"T_85ea9_level0_row1\" class=\"row_heading level0 row1\" >2</th>\n                        <td id=\"T_85ea9_row1_col0\" class=\"data row1 col0\" >LinearSVC</td>\n                        <td id=\"T_85ea9_row1_col1\" class=\"data row1 col1\" >88.000000</td>\n                        <td id=\"T_85ea9_row1_col2\" class=\"data row1 col2\" >88.057041</td>\n                        <td id=\"T_85ea9_row1_col3\" class=\"data row1 col3\" >0.010805</td>\n            </tr>\n            <tr>\n                        <th id=\"T_85ea9_level0_row2\" class=\"row_heading level0 row2\" >3</th>\n                        <td id=\"T_85ea9_row2_col0\" class=\"data row2 col0\" >LogisticRegression</td>\n                        <td id=\"T_85ea9_row2_col1\" class=\"data row2 col1\" >88.000000</td>\n                        <td id=\"T_85ea9_row2_col2\" class=\"data row2 col2\" >88.057041</td>\n                        <td id=\"T_85ea9_row2_col3\" class=\"data row2 col3\" >0.013944</td>\n            </tr>\n            <tr>\n                        <th id=\"T_85ea9_level0_row3\" class=\"row_heading level0 row3\" >4</th>\n                        <td id=\"T_85ea9_row3_col0\" class=\"data row3 col0\" >KNeighborsClassifier</td>\n                        <td id=\"T_85ea9_row3_col1\" class=\"data row3 col1\" >86.000000</td>\n                        <td id=\"T_85ea9_row3_col2\" class=\"data row3 col2\" >82.263815</td>\n                        <td id=\"T_85ea9_row3_col3\" class=\"data row3 col3\" >0.006965</td>\n            </tr>\n            <tr>\n                        <th id=\"T_85ea9_level0_row4\" class=\"row_heading level0 row4\" >5</th>\n                        <td id=\"T_85ea9_row4_col0\" class=\"data row4 col0\" >RandomForestClassifier</td>\n                        <td id=\"T_85ea9_row4_col1\" class=\"data row4 col1\" >84.000000</td>\n                        <td id=\"T_85ea9_row4_col2\" class=\"data row4 col2\" >86.452763</td>\n                        <td id=\"T_85ea9_row4_col3\" class=\"data row4 col3\" >0.145802</td>\n            </tr>\n            <tr>\n                        <th id=\"T_85ea9_level0_row5\" class=\"row_heading level0 row5\" >6</th>\n                        <td id=\"T_85ea9_row5_col0\" class=\"data row5 col0\" >GradientBoostingClassifier</td>\n                        <td id=\"T_85ea9_row5_col1\" class=\"data row5 col1\" >84.000000</td>\n                        <td id=\"T_85ea9_row5_col2\" class=\"data row5 col2\" >83.600713</td>\n                        <td id=\"T_85ea9_row5_col3\" class=\"data row5 col3\" >0.101668</td>\n            </tr>\n            <tr>\n                        <th id=\"T_85ea9_level0_row6\" class=\"row_heading level0 row6\" >7</th>\n                        <td id=\"T_85ea9_row6_col0\" class=\"data row6 col0\" >SGDClassifier</td>\n                        <td id=\"T_85ea9_row6_col1\" class=\"data row6 col1\" >80.000000</td>\n                        <td id=\"T_85ea9_row6_col2\" class=\"data row6 col2\" >74.866310</td>\n                        <td id=\"T_85ea9_row6_col3\" class=\"data row6 col3\" >0.007935</td>\n            </tr>\n    </tbody></table>"
     },
     "metadata": {}
    }
   ]
  },
  {
   "cell_type": "code",
   "metadata": {
    "tags": [],
    "deepnote_to_be_reexecuted": false,
    "source_hash": "18f710ac",
    "execution_start": 1620390881117,
    "execution_millis": 33,
    "cell_id": "00016-4649d67d-ee18-4b8b-8fc5-544214c3bc78",
    "deepnote_cell_type": "code"
   },
   "source": "from sklearn.metrics import classification_report,confusion_matrix\n#with the best  paramaters\nclassifier=SVC()\ntuning_model=Pipeline(steps=[('preprocessor', preprocessor),('classifier',classifier )])\ntuning_model.fit(x_train,y_train)\npred=tuning_model.predict(x_val)\nprint(\"model score: %.3f\" % tuning_model.score(x_val, y_val))\nprint(classification_report(y_val, pred))\nprint()\nprint(confusion_matrix(y_val, pred))",
   "execution_count": 15,
   "outputs": [
    {
     "name": "stdout",
     "text": "model score: 0.920\n              precision    recall  f1-score   support\n\n           0       0.88      0.88      0.88        17\n           1       0.94      0.94      0.94        33\n\n    accuracy                           0.92        50\n   macro avg       0.91      0.91      0.91        50\nweighted avg       0.92      0.92      0.92        50\n\n\n[[15  2]\n [ 2 31]]\n",
     "output_type": "stream"
    }
   ]
  },
  {
   "cell_type": "code",
   "metadata": {
    "tags": [],
    "deepnote_to_be_reexecuted": false,
    "source_hash": "5b31b8fd",
    "execution_start": 1620390881146,
    "execution_millis": 201,
    "cell_id": "00017-734d0eeb-c838-4905-a5e6-12e0eb1cb8d6",
    "deepnote_cell_type": "code"
   },
   "source": "model = LogisticRegression()\nmodel.fit(X_train, Y_train)\n# save the model to disk\nfilename = 'finalized_model.sav'\npickle.dump(model, open(filename, 'wb'))",
   "execution_count": 16,
   "outputs": [
    {
     "output_type": "error",
     "ename": "NameError",
     "evalue": "name 'X_train' is not defined",
     "traceback": [
      "\u001b[0;31m---------------------------------------------------------------------------\u001b[0m",
      "\u001b[0;31mNameError\u001b[0m                                 Traceback (most recent call last)",
      "\u001b[0;32m<ipython-input-16-7630b05027db>\u001b[0m in \u001b[0;36m<module>\u001b[0;34m\u001b[0m\n\u001b[1;32m      1\u001b[0m \u001b[0mmodel\u001b[0m \u001b[0;34m=\u001b[0m \u001b[0mLogisticRegression\u001b[0m\u001b[0;34m(\u001b[0m\u001b[0;34m)\u001b[0m\u001b[0;34m\u001b[0m\u001b[0;34m\u001b[0m\u001b[0m\n\u001b[0;32m----> 2\u001b[0;31m \u001b[0mmodel\u001b[0m\u001b[0;34m.\u001b[0m\u001b[0mfit\u001b[0m\u001b[0;34m(\u001b[0m\u001b[0mX_train\u001b[0m\u001b[0;34m,\u001b[0m \u001b[0mY_train\u001b[0m\u001b[0;34m)\u001b[0m\u001b[0;34m\u001b[0m\u001b[0;34m\u001b[0m\u001b[0m\n\u001b[0m\u001b[1;32m      3\u001b[0m \u001b[0;31m# save the model to disk\u001b[0m\u001b[0;34m\u001b[0m\u001b[0;34m\u001b[0m\u001b[0;34m\u001b[0m\u001b[0m\n\u001b[1;32m      4\u001b[0m \u001b[0mfilename\u001b[0m \u001b[0;34m=\u001b[0m \u001b[0;34m'finalized_model.sav'\u001b[0m\u001b[0;34m\u001b[0m\u001b[0;34m\u001b[0m\u001b[0m\n\u001b[1;32m      5\u001b[0m \u001b[0mpickle\u001b[0m\u001b[0;34m.\u001b[0m\u001b[0mdump\u001b[0m\u001b[0;34m(\u001b[0m\u001b[0mmodel\u001b[0m\u001b[0;34m,\u001b[0m \u001b[0mopen\u001b[0m\u001b[0;34m(\u001b[0m\u001b[0mfilename\u001b[0m\u001b[0;34m,\u001b[0m \u001b[0;34m'wb'\u001b[0m\u001b[0;34m)\u001b[0m\u001b[0;34m)\u001b[0m\u001b[0;34m\u001b[0m\u001b[0;34m\u001b[0m\u001b[0m\n",
      "\u001b[0;31mNameError\u001b[0m: name 'X_train' is not defined"
     ]
    }
   ]
  },
  {
   "cell_type": "code",
   "metadata": {
    "tags": [],
    "deepnote_to_be_reexecuted": true,
    "source_hash": "3d7e412a",
    "cell_id": "00018-06752314-0264-47bb-bae3-16bf7c8bdcf7",
    "deepnote_cell_type": "code"
   },
   "source": "import pickle as pkl\npkl.dump(model,open(\"model.p\",\"wb\"))",
   "execution_count": null,
   "outputs": []
  },
  {
   "cell_type": "code",
   "metadata": {
    "tags": [],
    "deepnote_to_be_reexecuted": false,
    "source_hash": "a06f8b6f",
    "execution_start": 1620391276050,
    "execution_millis": 54,
    "cell_id": "00019-3846b052-be0f-45aa-a95b-ada25c207786",
    "deepnote_cell_type": "code"
   },
   "source": "# Augmenting\n\nimport statistics\n  \n# Creating a sample of data\nsample = [2.74, 1.23, 2.63, 2.22, 3, 1.98]\n  \n# Prints variance of the sample set\n  \n# Function will automatically calculate\n# it's mean and set it as xbar\nprint(\"Variance of sample set is % s\" \n      %(statistics.variance(sample)))\n\ndf",
   "execution_count": 37,
   "outputs": [
    {
     "name": "stdout",
     "text": "Variance of sample set is 0.40924\n",
     "output_type": "stream"
    },
    {
     "output_type": "execute_result",
     "execution_count": 37,
     "data": {
      "application/vnd.deepnote.dataframe.v2+json": {
       "row_count": 303,
       "column_count": 14,
       "columns": [
        {
         "name": "age",
         "dtype": "int64",
         "stats": {
          "unique_count": 41,
          "nan_count": 0,
          "min": "29",
          "max": "77",
          "histogram": [
           {
            "bin_start": 29,
            "bin_end": 33.8,
            "count": 1
           },
           {
            "bin_start": 33.8,
            "bin_end": 38.6,
            "count": 11
           },
           {
            "bin_start": 38.6,
            "bin_end": 43.4,
            "count": 33
           },
           {
            "bin_start": 43.4,
            "bin_end": 48.2,
            "count": 38
           },
           {
            "bin_start": 48.2,
            "bin_end": 53,
            "count": 37
           },
           {
            "bin_start": 53,
            "bin_end": 57.8,
            "count": 60
           },
           {
            "bin_start": 57.8,
            "bin_end": 62.6,
            "count": 63
           },
           {
            "bin_start": 62.6,
            "bin_end": 67.4,
            "count": 43
           },
           {
            "bin_start": 67.4,
            "bin_end": 72.19999999999999,
            "count": 14
           },
           {
            "bin_start": 72.19999999999999,
            "bin_end": 77,
            "count": 3
           }
          ]
         }
        },
        {
         "name": "sex",
         "dtype": "int64",
         "stats": {
          "unique_count": 2,
          "nan_count": 0,
          "min": "0",
          "max": "1",
          "histogram": [
           {
            "bin_start": 0,
            "bin_end": 0.1,
            "count": 96
           },
           {
            "bin_start": 0.1,
            "bin_end": 0.2,
            "count": 0
           },
           {
            "bin_start": 0.2,
            "bin_end": 0.30000000000000004,
            "count": 0
           },
           {
            "bin_start": 0.30000000000000004,
            "bin_end": 0.4,
            "count": 0
           },
           {
            "bin_start": 0.4,
            "bin_end": 0.5,
            "count": 0
           },
           {
            "bin_start": 0.5,
            "bin_end": 0.6000000000000001,
            "count": 0
           },
           {
            "bin_start": 0.6000000000000001,
            "bin_end": 0.7000000000000001,
            "count": 0
           },
           {
            "bin_start": 0.7000000000000001,
            "bin_end": 0.8,
            "count": 0
           },
           {
            "bin_start": 0.8,
            "bin_end": 0.9,
            "count": 0
           },
           {
            "bin_start": 0.9,
            "bin_end": 1,
            "count": 207
           }
          ]
         }
        },
        {
         "name": "cp",
         "dtype": "int64",
         "stats": {
          "unique_count": 4,
          "nan_count": 0,
          "min": "0",
          "max": "3",
          "histogram": [
           {
            "bin_start": 0,
            "bin_end": 0.3,
            "count": 143
           },
           {
            "bin_start": 0.3,
            "bin_end": 0.6,
            "count": 0
           },
           {
            "bin_start": 0.6,
            "bin_end": 0.8999999999999999,
            "count": 0
           },
           {
            "bin_start": 0.8999999999999999,
            "bin_end": 1.2,
            "count": 50
           },
           {
            "bin_start": 1.2,
            "bin_end": 1.5,
            "count": 0
           },
           {
            "bin_start": 1.5,
            "bin_end": 1.7999999999999998,
            "count": 0
           },
           {
            "bin_start": 1.7999999999999998,
            "bin_end": 2.1,
            "count": 87
           },
           {
            "bin_start": 2.1,
            "bin_end": 2.4,
            "count": 0
           },
           {
            "bin_start": 2.4,
            "bin_end": 2.6999999999999997,
            "count": 0
           },
           {
            "bin_start": 2.6999999999999997,
            "bin_end": 3,
            "count": 23
           }
          ]
         }
        },
        {
         "name": "trestbps",
         "dtype": "int64",
         "stats": {
          "unique_count": 49,
          "nan_count": 0,
          "min": "94",
          "max": "200",
          "histogram": [
           {
            "bin_start": 94,
            "bin_end": 104.6,
            "count": 10
           },
           {
            "bin_start": 104.6,
            "bin_end": 115.2,
            "count": 42
           },
           {
            "bin_start": 115.2,
            "bin_end": 125.8,
            "count": 67
           },
           {
            "bin_start": 125.8,
            "bin_end": 136.4,
            "count": 74
           },
           {
            "bin_start": 136.4,
            "bin_end": 147,
            "count": 57
           },
           {
            "bin_start": 147,
            "bin_end": 157.6,
            "count": 27
           },
           {
            "bin_start": 157.6,
            "bin_end": 168.2,
            "count": 13
           },
           {
            "bin_start": 168.2,
            "bin_end": 178.8,
            "count": 8
           },
           {
            "bin_start": 178.8,
            "bin_end": 189.39999999999998,
            "count": 3
           },
           {
            "bin_start": 189.39999999999998,
            "bin_end": 200,
            "count": 2
           }
          ]
         }
        },
        {
         "name": "chol",
         "dtype": "int64",
         "stats": {
          "unique_count": 152,
          "nan_count": 0,
          "min": "126",
          "max": "564",
          "histogram": [
           {
            "bin_start": 126,
            "bin_end": 169.8,
            "count": 12
           },
           {
            "bin_start": 169.8,
            "bin_end": 213.6,
            "count": 73
           },
           {
            "bin_start": 213.6,
            "bin_end": 257.4,
            "count": 106
           },
           {
            "bin_start": 257.4,
            "bin_end": 301.2,
            "count": 69
           },
           {
            "bin_start": 301.2,
            "bin_end": 345,
            "count": 35
           },
           {
            "bin_start": 345,
            "bin_end": 388.79999999999995,
            "count": 3
           },
           {
            "bin_start": 388.79999999999995,
            "bin_end": 432.59999999999997,
            "count": 4
           },
           {
            "bin_start": 432.59999999999997,
            "bin_end": 476.4,
            "count": 0
           },
           {
            "bin_start": 476.4,
            "bin_end": 520.2,
            "count": 0
           },
           {
            "bin_start": 520.2,
            "bin_end": 564,
            "count": 1
           }
          ]
         }
        },
        {
         "name": "fbs",
         "dtype": "int64",
         "stats": {
          "unique_count": 2,
          "nan_count": 0,
          "min": "0",
          "max": "1",
          "histogram": [
           {
            "bin_start": 0,
            "bin_end": 0.1,
            "count": 258
           },
           {
            "bin_start": 0.1,
            "bin_end": 0.2,
            "count": 0
           },
           {
            "bin_start": 0.2,
            "bin_end": 0.30000000000000004,
            "count": 0
           },
           {
            "bin_start": 0.30000000000000004,
            "bin_end": 0.4,
            "count": 0
           },
           {
            "bin_start": 0.4,
            "bin_end": 0.5,
            "count": 0
           },
           {
            "bin_start": 0.5,
            "bin_end": 0.6000000000000001,
            "count": 0
           },
           {
            "bin_start": 0.6000000000000001,
            "bin_end": 0.7000000000000001,
            "count": 0
           },
           {
            "bin_start": 0.7000000000000001,
            "bin_end": 0.8,
            "count": 0
           },
           {
            "bin_start": 0.8,
            "bin_end": 0.9,
            "count": 0
           },
           {
            "bin_start": 0.9,
            "bin_end": 1,
            "count": 45
           }
          ]
         }
        },
        {
         "name": "restecg",
         "dtype": "int64",
         "stats": {
          "unique_count": 3,
          "nan_count": 0,
          "min": "0",
          "max": "2",
          "histogram": [
           {
            "bin_start": 0,
            "bin_end": 0.2,
            "count": 147
           },
           {
            "bin_start": 0.2,
            "bin_end": 0.4,
            "count": 0
           },
           {
            "bin_start": 0.4,
            "bin_end": 0.6000000000000001,
            "count": 0
           },
           {
            "bin_start": 0.6000000000000001,
            "bin_end": 0.8,
            "count": 0
           },
           {
            "bin_start": 0.8,
            "bin_end": 1,
            "count": 0
           },
           {
            "bin_start": 1,
            "bin_end": 1.2000000000000002,
            "count": 152
           },
           {
            "bin_start": 1.2000000000000002,
            "bin_end": 1.4000000000000001,
            "count": 0
           },
           {
            "bin_start": 1.4000000000000001,
            "bin_end": 1.6,
            "count": 0
           },
           {
            "bin_start": 1.6,
            "bin_end": 1.8,
            "count": 0
           },
           {
            "bin_start": 1.8,
            "bin_end": 2,
            "count": 4
           }
          ]
         }
        },
        {
         "name": "thalach",
         "dtype": "int64",
         "stats": {
          "unique_count": 91,
          "nan_count": 0,
          "min": "71",
          "max": "202",
          "histogram": [
           {
            "bin_start": 71,
            "bin_end": 84.1,
            "count": 1
           },
           {
            "bin_start": 84.1,
            "bin_end": 97.2,
            "count": 6
           },
           {
            "bin_start": 97.2,
            "bin_end": 110.3,
            "count": 11
           },
           {
            "bin_start": 110.3,
            "bin_end": 123.4,
            "count": 26
           },
           {
            "bin_start": 123.4,
            "bin_end": 136.5,
            "count": 35
           },
           {
            "bin_start": 136.5,
            "bin_end": 149.6,
            "count": 53
           },
           {
            "bin_start": 149.6,
            "bin_end": 162.7,
            "count": 77
           },
           {
            "bin_start": 162.7,
            "bin_end": 175.8,
            "count": 63
           },
           {
            "bin_start": 175.8,
            "bin_end": 188.89999999999998,
            "count": 26
           },
           {
            "bin_start": 188.89999999999998,
            "bin_end": 202,
            "count": 5
           }
          ]
         }
        },
        {
         "name": "exang",
         "dtype": "int64",
         "stats": {
          "unique_count": 2,
          "nan_count": 0,
          "min": "0",
          "max": "1",
          "histogram": [
           {
            "bin_start": 0,
            "bin_end": 0.1,
            "count": 204
           },
           {
            "bin_start": 0.1,
            "bin_end": 0.2,
            "count": 0
           },
           {
            "bin_start": 0.2,
            "bin_end": 0.30000000000000004,
            "count": 0
           },
           {
            "bin_start": 0.30000000000000004,
            "bin_end": 0.4,
            "count": 0
           },
           {
            "bin_start": 0.4,
            "bin_end": 0.5,
            "count": 0
           },
           {
            "bin_start": 0.5,
            "bin_end": 0.6000000000000001,
            "count": 0
           },
           {
            "bin_start": 0.6000000000000001,
            "bin_end": 0.7000000000000001,
            "count": 0
           },
           {
            "bin_start": 0.7000000000000001,
            "bin_end": 0.8,
            "count": 0
           },
           {
            "bin_start": 0.8,
            "bin_end": 0.9,
            "count": 0
           },
           {
            "bin_start": 0.9,
            "bin_end": 1,
            "count": 99
           }
          ]
         }
        },
        {
         "name": "oldpeak",
         "dtype": "float64",
         "stats": {
          "unique_count": 40,
          "nan_count": 0,
          "min": "0.0",
          "max": "6.2",
          "histogram": [
           {
            "bin_start": 0,
            "bin_end": 0.62,
            "count": 149
           },
           {
            "bin_start": 0.62,
            "bin_end": 1.24,
            "count": 50
           },
           {
            "bin_start": 1.24,
            "bin_end": 1.8599999999999999,
            "count": 40
           },
           {
            "bin_start": 1.8599999999999999,
            "bin_end": 2.48,
            "count": 24
           },
           {
            "bin_start": 2.48,
            "bin_end": 3.1,
            "count": 20
           },
           {
            "bin_start": 3.1,
            "bin_end": 3.7199999999999998,
            "count": 11
           },
           {
            "bin_start": 3.7199999999999998,
            "bin_end": 4.34,
            "count": 6
           },
           {
            "bin_start": 4.34,
            "bin_end": 4.96,
            "count": 1
           },
           {
            "bin_start": 4.96,
            "bin_end": 5.58,
            "count": 0
           },
           {
            "bin_start": 5.58,
            "bin_end": 6.2,
            "count": 2
           }
          ]
         }
        },
        {
         "name": "slope",
         "dtype": "int64",
         "stats": {
          "unique_count": 3,
          "nan_count": 0,
          "min": "0",
          "max": "2",
          "histogram": [
           {
            "bin_start": 0,
            "bin_end": 0.2,
            "count": 21
           },
           {
            "bin_start": 0.2,
            "bin_end": 0.4,
            "count": 0
           },
           {
            "bin_start": 0.4,
            "bin_end": 0.6000000000000001,
            "count": 0
           },
           {
            "bin_start": 0.6000000000000001,
            "bin_end": 0.8,
            "count": 0
           },
           {
            "bin_start": 0.8,
            "bin_end": 1,
            "count": 0
           },
           {
            "bin_start": 1,
            "bin_end": 1.2000000000000002,
            "count": 140
           },
           {
            "bin_start": 1.2000000000000002,
            "bin_end": 1.4000000000000001,
            "count": 0
           },
           {
            "bin_start": 1.4000000000000001,
            "bin_end": 1.6,
            "count": 0
           },
           {
            "bin_start": 1.6,
            "bin_end": 1.8,
            "count": 0
           },
           {
            "bin_start": 1.8,
            "bin_end": 2,
            "count": 142
           }
          ]
         }
        },
        {
         "name": "ca",
         "dtype": "int64",
         "stats": {
          "unique_count": 5,
          "nan_count": 0,
          "min": "0",
          "max": "4",
          "histogram": [
           {
            "bin_start": 0,
            "bin_end": 0.4,
            "count": 175
           },
           {
            "bin_start": 0.4,
            "bin_end": 0.8,
            "count": 0
           },
           {
            "bin_start": 0.8,
            "bin_end": 1.2000000000000002,
            "count": 65
           },
           {
            "bin_start": 1.2000000000000002,
            "bin_end": 1.6,
            "count": 0
           },
           {
            "bin_start": 1.6,
            "bin_end": 2,
            "count": 0
           },
           {
            "bin_start": 2,
            "bin_end": 2.4000000000000004,
            "count": 38
           },
           {
            "bin_start": 2.4000000000000004,
            "bin_end": 2.8000000000000003,
            "count": 0
           },
           {
            "bin_start": 2.8000000000000003,
            "bin_end": 3.2,
            "count": 20
           },
           {
            "bin_start": 3.2,
            "bin_end": 3.6,
            "count": 0
           },
           {
            "bin_start": 3.6,
            "bin_end": 4,
            "count": 5
           }
          ]
         }
        },
        {
         "name": "thal",
         "dtype": "int64",
         "stats": {
          "unique_count": 4,
          "nan_count": 0,
          "min": "0",
          "max": "3",
          "histogram": [
           {
            "bin_start": 0,
            "bin_end": 0.3,
            "count": 2
           },
           {
            "bin_start": 0.3,
            "bin_end": 0.6,
            "count": 0
           },
           {
            "bin_start": 0.6,
            "bin_end": 0.8999999999999999,
            "count": 0
           },
           {
            "bin_start": 0.8999999999999999,
            "bin_end": 1.2,
            "count": 18
           },
           {
            "bin_start": 1.2,
            "bin_end": 1.5,
            "count": 0
           },
           {
            "bin_start": 1.5,
            "bin_end": 1.7999999999999998,
            "count": 0
           },
           {
            "bin_start": 1.7999999999999998,
            "bin_end": 2.1,
            "count": 166
           },
           {
            "bin_start": 2.1,
            "bin_end": 2.4,
            "count": 0
           },
           {
            "bin_start": 2.4,
            "bin_end": 2.6999999999999997,
            "count": 0
           },
           {
            "bin_start": 2.6999999999999997,
            "bin_end": 3,
            "count": 117
           }
          ]
         }
        },
        {
         "name": "target",
         "dtype": "int64",
         "stats": {
          "unique_count": 2,
          "nan_count": 0,
          "min": "0",
          "max": "1",
          "histogram": [
           {
            "bin_start": 0,
            "bin_end": 0.1,
            "count": 138
           },
           {
            "bin_start": 0.1,
            "bin_end": 0.2,
            "count": 0
           },
           {
            "bin_start": 0.2,
            "bin_end": 0.30000000000000004,
            "count": 0
           },
           {
            "bin_start": 0.30000000000000004,
            "bin_end": 0.4,
            "count": 0
           },
           {
            "bin_start": 0.4,
            "bin_end": 0.5,
            "count": 0
           },
           {
            "bin_start": 0.5,
            "bin_end": 0.6000000000000001,
            "count": 0
           },
           {
            "bin_start": 0.6000000000000001,
            "bin_end": 0.7000000000000001,
            "count": 0
           },
           {
            "bin_start": 0.7000000000000001,
            "bin_end": 0.8,
            "count": 0
           },
           {
            "bin_start": 0.8,
            "bin_end": 0.9,
            "count": 0
           },
           {
            "bin_start": 0.9,
            "bin_end": 1,
            "count": 165
           }
          ]
         }
        },
        {
         "name": "_deepnote_index_column",
         "dtype": "int64"
        }
       ],
       "rows_top": [
        {
         "age": 63,
         "sex": 1,
         "cp": 3,
         "trestbps": 145,
         "chol": 233,
         "fbs": 1,
         "restecg": 0,
         "thalach": 150,
         "exang": 0,
         "oldpeak": 2.3,
         "slope": 0,
         "ca": 0,
         "thal": 1,
         "target": 1,
         "_deepnote_index_column": 0
        },
        {
         "age": 37,
         "sex": 1,
         "cp": 2,
         "trestbps": 130,
         "chol": 250,
         "fbs": 0,
         "restecg": 1,
         "thalach": 187,
         "exang": 0,
         "oldpeak": 3.5,
         "slope": 0,
         "ca": 0,
         "thal": 2,
         "target": 1,
         "_deepnote_index_column": 1
        },
        {
         "age": 41,
         "sex": 0,
         "cp": 1,
         "trestbps": 130,
         "chol": 204,
         "fbs": 0,
         "restecg": 0,
         "thalach": 172,
         "exang": 0,
         "oldpeak": 1.4,
         "slope": 2,
         "ca": 0,
         "thal": 2,
         "target": 1,
         "_deepnote_index_column": 2
        },
        {
         "age": 56,
         "sex": 1,
         "cp": 1,
         "trestbps": 120,
         "chol": 236,
         "fbs": 0,
         "restecg": 1,
         "thalach": 178,
         "exang": 0,
         "oldpeak": 0.8,
         "slope": 2,
         "ca": 0,
         "thal": 2,
         "target": 1,
         "_deepnote_index_column": 3
        },
        {
         "age": 57,
         "sex": 0,
         "cp": 0,
         "trestbps": 120,
         "chol": 354,
         "fbs": 0,
         "restecg": 1,
         "thalach": 163,
         "exang": 1,
         "oldpeak": 0.6,
         "slope": 2,
         "ca": 0,
         "thal": 2,
         "target": 1,
         "_deepnote_index_column": 4
        },
        {
         "age": 57,
         "sex": 1,
         "cp": 0,
         "trestbps": 140,
         "chol": 192,
         "fbs": 0,
         "restecg": 1,
         "thalach": 148,
         "exang": 0,
         "oldpeak": 0.4,
         "slope": 1,
         "ca": 0,
         "thal": 1,
         "target": 1,
         "_deepnote_index_column": 5
        },
        {
         "age": 56,
         "sex": 0,
         "cp": 1,
         "trestbps": 140,
         "chol": 294,
         "fbs": 0,
         "restecg": 0,
         "thalach": 153,
         "exang": 0,
         "oldpeak": 1.3,
         "slope": 1,
         "ca": 0,
         "thal": 2,
         "target": 1,
         "_deepnote_index_column": 6
        },
        {
         "age": 44,
         "sex": 1,
         "cp": 1,
         "trestbps": 120,
         "chol": 263,
         "fbs": 0,
         "restecg": 1,
         "thalach": 173,
         "exang": 0,
         "oldpeak": 0,
         "slope": 2,
         "ca": 0,
         "thal": 3,
         "target": 1,
         "_deepnote_index_column": 7
        },
        {
         "age": 52,
         "sex": 1,
         "cp": 2,
         "trestbps": 172,
         "chol": 199,
         "fbs": 1,
         "restecg": 1,
         "thalach": 162,
         "exang": 0,
         "oldpeak": 0.5,
         "slope": 2,
         "ca": 0,
         "thal": 3,
         "target": 1,
         "_deepnote_index_column": 8
        },
        {
         "age": 57,
         "sex": 1,
         "cp": 2,
         "trestbps": 150,
         "chol": 168,
         "fbs": 0,
         "restecg": 1,
         "thalach": 174,
         "exang": 0,
         "oldpeak": 1.6,
         "slope": 2,
         "ca": 0,
         "thal": 2,
         "target": 1,
         "_deepnote_index_column": 9
        },
        {
         "age": 54,
         "sex": 1,
         "cp": 0,
         "trestbps": 140,
         "chol": 239,
         "fbs": 0,
         "restecg": 1,
         "thalach": 160,
         "exang": 0,
         "oldpeak": 1.2,
         "slope": 2,
         "ca": 0,
         "thal": 2,
         "target": 1,
         "_deepnote_index_column": 10
        },
        {
         "age": 48,
         "sex": 0,
         "cp": 2,
         "trestbps": 130,
         "chol": 275,
         "fbs": 0,
         "restecg": 1,
         "thalach": 139,
         "exang": 0,
         "oldpeak": 0.2,
         "slope": 2,
         "ca": 0,
         "thal": 2,
         "target": 1,
         "_deepnote_index_column": 11
        },
        {
         "age": 49,
         "sex": 1,
         "cp": 1,
         "trestbps": 130,
         "chol": 266,
         "fbs": 0,
         "restecg": 1,
         "thalach": 171,
         "exang": 0,
         "oldpeak": 0.6,
         "slope": 2,
         "ca": 0,
         "thal": 2,
         "target": 1,
         "_deepnote_index_column": 12
        },
        {
         "age": 64,
         "sex": 1,
         "cp": 3,
         "trestbps": 110,
         "chol": 211,
         "fbs": 0,
         "restecg": 0,
         "thalach": 144,
         "exang": 1,
         "oldpeak": 1.8,
         "slope": 1,
         "ca": 0,
         "thal": 2,
         "target": 1,
         "_deepnote_index_column": 13
        },
        {
         "age": 58,
         "sex": 0,
         "cp": 3,
         "trestbps": 150,
         "chol": 283,
         "fbs": 1,
         "restecg": 0,
         "thalach": 162,
         "exang": 0,
         "oldpeak": 1,
         "slope": 2,
         "ca": 0,
         "thal": 2,
         "target": 1,
         "_deepnote_index_column": 14
        },
        {
         "age": 50,
         "sex": 0,
         "cp": 2,
         "trestbps": 120,
         "chol": 219,
         "fbs": 0,
         "restecg": 1,
         "thalach": 158,
         "exang": 0,
         "oldpeak": 1.6,
         "slope": 1,
         "ca": 0,
         "thal": 2,
         "target": 1,
         "_deepnote_index_column": 15
        },
        {
         "age": 58,
         "sex": 0,
         "cp": 2,
         "trestbps": 120,
         "chol": 340,
         "fbs": 0,
         "restecg": 1,
         "thalach": 172,
         "exang": 0,
         "oldpeak": 0,
         "slope": 2,
         "ca": 0,
         "thal": 2,
         "target": 1,
         "_deepnote_index_column": 16
        },
        {
         "age": 66,
         "sex": 0,
         "cp": 3,
         "trestbps": 150,
         "chol": 226,
         "fbs": 0,
         "restecg": 1,
         "thalach": 114,
         "exang": 0,
         "oldpeak": 2.6,
         "slope": 0,
         "ca": 0,
         "thal": 2,
         "target": 1,
         "_deepnote_index_column": 17
        },
        {
         "age": 43,
         "sex": 1,
         "cp": 0,
         "trestbps": 150,
         "chol": 247,
         "fbs": 0,
         "restecg": 1,
         "thalach": 171,
         "exang": 0,
         "oldpeak": 1.5,
         "slope": 2,
         "ca": 0,
         "thal": 2,
         "target": 1,
         "_deepnote_index_column": 18
        },
        {
         "age": 69,
         "sex": 0,
         "cp": 3,
         "trestbps": 140,
         "chol": 239,
         "fbs": 0,
         "restecg": 1,
         "thalach": 151,
         "exang": 0,
         "oldpeak": 1.8,
         "slope": 2,
         "ca": 2,
         "thal": 2,
         "target": 1,
         "_deepnote_index_column": 19
        },
        {
         "age": 59,
         "sex": 1,
         "cp": 0,
         "trestbps": 135,
         "chol": 234,
         "fbs": 0,
         "restecg": 1,
         "thalach": 161,
         "exang": 0,
         "oldpeak": 0.5,
         "slope": 1,
         "ca": 0,
         "thal": 3,
         "target": 1,
         "_deepnote_index_column": 20
        },
        {
         "age": 44,
         "sex": 1,
         "cp": 2,
         "trestbps": 130,
         "chol": 233,
         "fbs": 0,
         "restecg": 1,
         "thalach": 179,
         "exang": 1,
         "oldpeak": 0.4,
         "slope": 2,
         "ca": 0,
         "thal": 2,
         "target": 1,
         "_deepnote_index_column": 21
        },
        {
         "age": 42,
         "sex": 1,
         "cp": 0,
         "trestbps": 140,
         "chol": 226,
         "fbs": 0,
         "restecg": 1,
         "thalach": 178,
         "exang": 0,
         "oldpeak": 0,
         "slope": 2,
         "ca": 0,
         "thal": 2,
         "target": 1,
         "_deepnote_index_column": 22
        },
        {
         "age": 61,
         "sex": 1,
         "cp": 2,
         "trestbps": 150,
         "chol": 243,
         "fbs": 1,
         "restecg": 1,
         "thalach": 137,
         "exang": 1,
         "oldpeak": 1,
         "slope": 1,
         "ca": 0,
         "thal": 2,
         "target": 1,
         "_deepnote_index_column": 23
        },
        {
         "age": 40,
         "sex": 1,
         "cp": 3,
         "trestbps": 140,
         "chol": 199,
         "fbs": 0,
         "restecg": 1,
         "thalach": 178,
         "exang": 1,
         "oldpeak": 1.4,
         "slope": 2,
         "ca": 0,
         "thal": 3,
         "target": 1,
         "_deepnote_index_column": 24
        },
        {
         "age": 71,
         "sex": 0,
         "cp": 1,
         "trestbps": 160,
         "chol": 302,
         "fbs": 0,
         "restecg": 1,
         "thalach": 162,
         "exang": 0,
         "oldpeak": 0.4,
         "slope": 2,
         "ca": 2,
         "thal": 2,
         "target": 1,
         "_deepnote_index_column": 25
        },
        {
         "age": 59,
         "sex": 1,
         "cp": 2,
         "trestbps": 150,
         "chol": 212,
         "fbs": 1,
         "restecg": 1,
         "thalach": 157,
         "exang": 0,
         "oldpeak": 1.6,
         "slope": 2,
         "ca": 0,
         "thal": 2,
         "target": 1,
         "_deepnote_index_column": 26
        },
        {
         "age": 51,
         "sex": 1,
         "cp": 2,
         "trestbps": 110,
         "chol": 175,
         "fbs": 0,
         "restecg": 1,
         "thalach": 123,
         "exang": 0,
         "oldpeak": 0.6,
         "slope": 2,
         "ca": 0,
         "thal": 2,
         "target": 1,
         "_deepnote_index_column": 27
        },
        {
         "age": 65,
         "sex": 0,
         "cp": 2,
         "trestbps": 140,
         "chol": 417,
         "fbs": 1,
         "restecg": 0,
         "thalach": 157,
         "exang": 0,
         "oldpeak": 0.8,
         "slope": 2,
         "ca": 1,
         "thal": 2,
         "target": 1,
         "_deepnote_index_column": 28
        },
        {
         "age": 53,
         "sex": 1,
         "cp": 2,
         "trestbps": 130,
         "chol": 197,
         "fbs": 1,
         "restecg": 0,
         "thalach": 152,
         "exang": 0,
         "oldpeak": 1.2,
         "slope": 0,
         "ca": 0,
         "thal": 2,
         "target": 1,
         "_deepnote_index_column": 29
        },
        {
         "age": 41,
         "sex": 0,
         "cp": 1,
         "trestbps": 105,
         "chol": 198,
         "fbs": 0,
         "restecg": 1,
         "thalach": 168,
         "exang": 0,
         "oldpeak": 0,
         "slope": 2,
         "ca": 1,
         "thal": 2,
         "target": 1,
         "_deepnote_index_column": 30
        },
        {
         "age": 65,
         "sex": 1,
         "cp": 0,
         "trestbps": 120,
         "chol": 177,
         "fbs": 0,
         "restecg": 1,
         "thalach": 140,
         "exang": 0,
         "oldpeak": 0.4,
         "slope": 2,
         "ca": 0,
         "thal": 3,
         "target": 1,
         "_deepnote_index_column": 31
        },
        {
         "age": 44,
         "sex": 1,
         "cp": 1,
         "trestbps": 130,
         "chol": 219,
         "fbs": 0,
         "restecg": 0,
         "thalach": 188,
         "exang": 0,
         "oldpeak": 0,
         "slope": 2,
         "ca": 0,
         "thal": 2,
         "target": 1,
         "_deepnote_index_column": 32
        },
        {
         "age": 54,
         "sex": 1,
         "cp": 2,
         "trestbps": 125,
         "chol": 273,
         "fbs": 0,
         "restecg": 0,
         "thalach": 152,
         "exang": 0,
         "oldpeak": 0.5,
         "slope": 0,
         "ca": 1,
         "thal": 2,
         "target": 1,
         "_deepnote_index_column": 33
        },
        {
         "age": 51,
         "sex": 1,
         "cp": 3,
         "trestbps": 125,
         "chol": 213,
         "fbs": 0,
         "restecg": 0,
         "thalach": 125,
         "exang": 1,
         "oldpeak": 1.4,
         "slope": 2,
         "ca": 1,
         "thal": 2,
         "target": 1,
         "_deepnote_index_column": 34
        }
       ],
       "rows_bottom": [
        {
         "age": 49,
         "sex": 1,
         "cp": 2,
         "trestbps": 118,
         "chol": 149,
         "fbs": 0,
         "restecg": 0,
         "thalach": 126,
         "exang": 0,
         "oldpeak": 0.8,
         "slope": 2,
         "ca": 3,
         "thal": 2,
         "target": 0,
         "_deepnote_index_column": 267
        },
        {
         "age": 54,
         "sex": 1,
         "cp": 0,
         "trestbps": 122,
         "chol": 286,
         "fbs": 0,
         "restecg": 0,
         "thalach": 116,
         "exang": 1,
         "oldpeak": 3.2,
         "slope": 1,
         "ca": 2,
         "thal": 2,
         "target": 0,
         "_deepnote_index_column": 268
        },
        {
         "age": 56,
         "sex": 1,
         "cp": 0,
         "trestbps": 130,
         "chol": 283,
         "fbs": 1,
         "restecg": 0,
         "thalach": 103,
         "exang": 1,
         "oldpeak": 1.6,
         "slope": 0,
         "ca": 0,
         "thal": 3,
         "target": 0,
         "_deepnote_index_column": 269
        },
        {
         "age": 46,
         "sex": 1,
         "cp": 0,
         "trestbps": 120,
         "chol": 249,
         "fbs": 0,
         "restecg": 0,
         "thalach": 144,
         "exang": 0,
         "oldpeak": 0.8,
         "slope": 2,
         "ca": 0,
         "thal": 3,
         "target": 0,
         "_deepnote_index_column": 270
        },
        {
         "age": 61,
         "sex": 1,
         "cp": 3,
         "trestbps": 134,
         "chol": 234,
         "fbs": 0,
         "restecg": 1,
         "thalach": 145,
         "exang": 0,
         "oldpeak": 2.6,
         "slope": 1,
         "ca": 2,
         "thal": 2,
         "target": 0,
         "_deepnote_index_column": 271
        },
        {
         "age": 67,
         "sex": 1,
         "cp": 0,
         "trestbps": 120,
         "chol": 237,
         "fbs": 0,
         "restecg": 1,
         "thalach": 71,
         "exang": 0,
         "oldpeak": 1,
         "slope": 1,
         "ca": 0,
         "thal": 2,
         "target": 0,
         "_deepnote_index_column": 272
        },
        {
         "age": 58,
         "sex": 1,
         "cp": 0,
         "trestbps": 100,
         "chol": 234,
         "fbs": 0,
         "restecg": 1,
         "thalach": 156,
         "exang": 0,
         "oldpeak": 0.1,
         "slope": 2,
         "ca": 1,
         "thal": 3,
         "target": 0,
         "_deepnote_index_column": 273
        },
        {
         "age": 47,
         "sex": 1,
         "cp": 0,
         "trestbps": 110,
         "chol": 275,
         "fbs": 0,
         "restecg": 0,
         "thalach": 118,
         "exang": 1,
         "oldpeak": 1,
         "slope": 1,
         "ca": 1,
         "thal": 2,
         "target": 0,
         "_deepnote_index_column": 274
        },
        {
         "age": 52,
         "sex": 1,
         "cp": 0,
         "trestbps": 125,
         "chol": 212,
         "fbs": 0,
         "restecg": 1,
         "thalach": 168,
         "exang": 0,
         "oldpeak": 1,
         "slope": 2,
         "ca": 2,
         "thal": 3,
         "target": 0,
         "_deepnote_index_column": 275
        },
        {
         "age": 58,
         "sex": 1,
         "cp": 0,
         "trestbps": 146,
         "chol": 218,
         "fbs": 0,
         "restecg": 1,
         "thalach": 105,
         "exang": 0,
         "oldpeak": 2,
         "slope": 1,
         "ca": 1,
         "thal": 3,
         "target": 0,
         "_deepnote_index_column": 276
        },
        {
         "age": 57,
         "sex": 1,
         "cp": 1,
         "trestbps": 124,
         "chol": 261,
         "fbs": 0,
         "restecg": 1,
         "thalach": 141,
         "exang": 0,
         "oldpeak": 0.3,
         "slope": 2,
         "ca": 0,
         "thal": 3,
         "target": 0,
         "_deepnote_index_column": 277
        },
        {
         "age": 58,
         "sex": 0,
         "cp": 1,
         "trestbps": 136,
         "chol": 319,
         "fbs": 1,
         "restecg": 0,
         "thalach": 152,
         "exang": 0,
         "oldpeak": 0,
         "slope": 2,
         "ca": 2,
         "thal": 2,
         "target": 0,
         "_deepnote_index_column": 278
        },
        {
         "age": 61,
         "sex": 1,
         "cp": 0,
         "trestbps": 138,
         "chol": 166,
         "fbs": 0,
         "restecg": 0,
         "thalach": 125,
         "exang": 1,
         "oldpeak": 3.6,
         "slope": 1,
         "ca": 1,
         "thal": 2,
         "target": 0,
         "_deepnote_index_column": 279
        },
        {
         "age": 42,
         "sex": 1,
         "cp": 0,
         "trestbps": 136,
         "chol": 315,
         "fbs": 0,
         "restecg": 1,
         "thalach": 125,
         "exang": 1,
         "oldpeak": 1.8,
         "slope": 1,
         "ca": 0,
         "thal": 1,
         "target": 0,
         "_deepnote_index_column": 280
        },
        {
         "age": 52,
         "sex": 1,
         "cp": 0,
         "trestbps": 128,
         "chol": 204,
         "fbs": 1,
         "restecg": 1,
         "thalach": 156,
         "exang": 1,
         "oldpeak": 1,
         "slope": 1,
         "ca": 0,
         "thal": 0,
         "target": 0,
         "_deepnote_index_column": 281
        },
        {
         "age": 59,
         "sex": 1,
         "cp": 2,
         "trestbps": 126,
         "chol": 218,
         "fbs": 1,
         "restecg": 1,
         "thalach": 134,
         "exang": 0,
         "oldpeak": 2.2,
         "slope": 1,
         "ca": 1,
         "thal": 1,
         "target": 0,
         "_deepnote_index_column": 282
        },
        {
         "age": 40,
         "sex": 1,
         "cp": 0,
         "trestbps": 152,
         "chol": 223,
         "fbs": 0,
         "restecg": 1,
         "thalach": 181,
         "exang": 0,
         "oldpeak": 0,
         "slope": 2,
         "ca": 0,
         "thal": 3,
         "target": 0,
         "_deepnote_index_column": 283
        },
        {
         "age": 61,
         "sex": 1,
         "cp": 0,
         "trestbps": 140,
         "chol": 207,
         "fbs": 0,
         "restecg": 0,
         "thalach": 138,
         "exang": 1,
         "oldpeak": 1.9,
         "slope": 2,
         "ca": 1,
         "thal": 3,
         "target": 0,
         "_deepnote_index_column": 284
        },
        {
         "age": 46,
         "sex": 1,
         "cp": 0,
         "trestbps": 140,
         "chol": 311,
         "fbs": 0,
         "restecg": 1,
         "thalach": 120,
         "exang": 1,
         "oldpeak": 1.8,
         "slope": 1,
         "ca": 2,
         "thal": 3,
         "target": 0,
         "_deepnote_index_column": 285
        },
        {
         "age": 59,
         "sex": 1,
         "cp": 3,
         "trestbps": 134,
         "chol": 204,
         "fbs": 0,
         "restecg": 1,
         "thalach": 162,
         "exang": 0,
         "oldpeak": 0.8,
         "slope": 2,
         "ca": 2,
         "thal": 2,
         "target": 0,
         "_deepnote_index_column": 286
        },
        {
         "age": 57,
         "sex": 1,
         "cp": 1,
         "trestbps": 154,
         "chol": 232,
         "fbs": 0,
         "restecg": 0,
         "thalach": 164,
         "exang": 0,
         "oldpeak": 0,
         "slope": 2,
         "ca": 1,
         "thal": 2,
         "target": 0,
         "_deepnote_index_column": 287
        },
        {
         "age": 57,
         "sex": 1,
         "cp": 0,
         "trestbps": 110,
         "chol": 335,
         "fbs": 0,
         "restecg": 1,
         "thalach": 143,
         "exang": 1,
         "oldpeak": 3,
         "slope": 1,
         "ca": 1,
         "thal": 3,
         "target": 0,
         "_deepnote_index_column": 288
        },
        {
         "age": 55,
         "sex": 0,
         "cp": 0,
         "trestbps": 128,
         "chol": 205,
         "fbs": 0,
         "restecg": 2,
         "thalach": 130,
         "exang": 1,
         "oldpeak": 2,
         "slope": 1,
         "ca": 1,
         "thal": 3,
         "target": 0,
         "_deepnote_index_column": 289
        },
        {
         "age": 61,
         "sex": 1,
         "cp": 0,
         "trestbps": 148,
         "chol": 203,
         "fbs": 0,
         "restecg": 1,
         "thalach": 161,
         "exang": 0,
         "oldpeak": 0,
         "slope": 2,
         "ca": 1,
         "thal": 3,
         "target": 0,
         "_deepnote_index_column": 290
        },
        {
         "age": 58,
         "sex": 1,
         "cp": 0,
         "trestbps": 114,
         "chol": 318,
         "fbs": 0,
         "restecg": 2,
         "thalach": 140,
         "exang": 0,
         "oldpeak": 4.4,
         "slope": 0,
         "ca": 3,
         "thal": 1,
         "target": 0,
         "_deepnote_index_column": 291
        },
        {
         "age": 58,
         "sex": 0,
         "cp": 0,
         "trestbps": 170,
         "chol": 225,
         "fbs": 1,
         "restecg": 0,
         "thalach": 146,
         "exang": 1,
         "oldpeak": 2.8,
         "slope": 1,
         "ca": 2,
         "thal": 1,
         "target": 0,
         "_deepnote_index_column": 292
        },
        {
         "age": 67,
         "sex": 1,
         "cp": 2,
         "trestbps": 152,
         "chol": 212,
         "fbs": 0,
         "restecg": 0,
         "thalach": 150,
         "exang": 0,
         "oldpeak": 0.8,
         "slope": 1,
         "ca": 0,
         "thal": 3,
         "target": 0,
         "_deepnote_index_column": 293
        },
        {
         "age": 44,
         "sex": 1,
         "cp": 0,
         "trestbps": 120,
         "chol": 169,
         "fbs": 0,
         "restecg": 1,
         "thalach": 144,
         "exang": 1,
         "oldpeak": 2.8,
         "slope": 0,
         "ca": 0,
         "thal": 1,
         "target": 0,
         "_deepnote_index_column": 294
        },
        {
         "age": 63,
         "sex": 1,
         "cp": 0,
         "trestbps": 140,
         "chol": 187,
         "fbs": 0,
         "restecg": 0,
         "thalach": 144,
         "exang": 1,
         "oldpeak": 4,
         "slope": 2,
         "ca": 2,
         "thal": 3,
         "target": 0,
         "_deepnote_index_column": 295
        },
        {
         "age": 63,
         "sex": 0,
         "cp": 0,
         "trestbps": 124,
         "chol": 197,
         "fbs": 0,
         "restecg": 1,
         "thalach": 136,
         "exang": 1,
         "oldpeak": 0,
         "slope": 1,
         "ca": 0,
         "thal": 2,
         "target": 0,
         "_deepnote_index_column": 296
        },
        {
         "age": 59,
         "sex": 1,
         "cp": 0,
         "trestbps": 164,
         "chol": 176,
         "fbs": 1,
         "restecg": 0,
         "thalach": 90,
         "exang": 0,
         "oldpeak": 1,
         "slope": 1,
         "ca": 2,
         "thal": 1,
         "target": 0,
         "_deepnote_index_column": 297
        },
        {
         "age": 57,
         "sex": 0,
         "cp": 0,
         "trestbps": 140,
         "chol": 241,
         "fbs": 0,
         "restecg": 1,
         "thalach": 123,
         "exang": 1,
         "oldpeak": 0.2,
         "slope": 1,
         "ca": 0,
         "thal": 3,
         "target": 0,
         "_deepnote_index_column": 298
        },
        {
         "age": 45,
         "sex": 1,
         "cp": 3,
         "trestbps": 110,
         "chol": 264,
         "fbs": 0,
         "restecg": 1,
         "thalach": 132,
         "exang": 0,
         "oldpeak": 1.2,
         "slope": 1,
         "ca": 0,
         "thal": 3,
         "target": 0,
         "_deepnote_index_column": 299
        },
        {
         "age": 68,
         "sex": 1,
         "cp": 0,
         "trestbps": 144,
         "chol": 193,
         "fbs": 1,
         "restecg": 1,
         "thalach": 141,
         "exang": 0,
         "oldpeak": 3.4,
         "slope": 1,
         "ca": 2,
         "thal": 3,
         "target": 0,
         "_deepnote_index_column": 300
        },
        {
         "age": 57,
         "sex": 1,
         "cp": 0,
         "trestbps": 130,
         "chol": 131,
         "fbs": 0,
         "restecg": 1,
         "thalach": 115,
         "exang": 1,
         "oldpeak": 1.2,
         "slope": 1,
         "ca": 1,
         "thal": 3,
         "target": 0,
         "_deepnote_index_column": 301
        },
        {
         "age": 57,
         "sex": 0,
         "cp": 1,
         "trestbps": 130,
         "chol": 236,
         "fbs": 0,
         "restecg": 0,
         "thalach": 174,
         "exang": 0,
         "oldpeak": 0,
         "slope": 1,
         "ca": 1,
         "thal": 2,
         "target": 0,
         "_deepnote_index_column": 302
        }
       ]
      },
      "text/plain": "     age  sex  cp  trestbps  chol  fbs  restecg  thalach  exang  oldpeak  \\\n0     63    1   3       145   233    1        0      150      0      2.3   \n1     37    1   2       130   250    0        1      187      0      3.5   \n2     41    0   1       130   204    0        0      172      0      1.4   \n3     56    1   1       120   236    0        1      178      0      0.8   \n4     57    0   0       120   354    0        1      163      1      0.6   \n..   ...  ...  ..       ...   ...  ...      ...      ...    ...      ...   \n298   57    0   0       140   241    0        1      123      1      0.2   \n299   45    1   3       110   264    0        1      132      0      1.2   \n300   68    1   0       144   193    1        1      141      0      3.4   \n301   57    1   0       130   131    0        1      115      1      1.2   \n302   57    0   1       130   236    0        0      174      0      0.0   \n\n     slope  ca  thal  target  \n0        0   0     1       1  \n1        0   0     2       1  \n2        2   0     2       1  \n3        2   0     2       1  \n4        2   0     2       1  \n..     ...  ..   ...     ...  \n298      1   0     3       0  \n299      1   0     3       0  \n300      1   2     3       0  \n301      1   1     3       0  \n302      1   1     2       0  \n\n[303 rows x 14 columns]",
      "text/html": "<div>\n<style scoped>\n    .dataframe tbody tr th:only-of-type {\n        vertical-align: middle;\n    }\n\n    .dataframe tbody tr th {\n        vertical-align: top;\n    }\n\n    .dataframe thead th {\n        text-align: right;\n    }\n</style>\n<table border=\"1\" class=\"dataframe\">\n  <thead>\n    <tr style=\"text-align: right;\">\n      <th></th>\n      <th>age</th>\n      <th>sex</th>\n      <th>cp</th>\n      <th>trestbps</th>\n      <th>chol</th>\n      <th>fbs</th>\n      <th>restecg</th>\n      <th>thalach</th>\n      <th>exang</th>\n      <th>oldpeak</th>\n      <th>slope</th>\n      <th>ca</th>\n      <th>thal</th>\n      <th>target</th>\n    </tr>\n  </thead>\n  <tbody>\n    <tr>\n      <th>0</th>\n      <td>63</td>\n      <td>1</td>\n      <td>3</td>\n      <td>145</td>\n      <td>233</td>\n      <td>1</td>\n      <td>0</td>\n      <td>150</td>\n      <td>0</td>\n      <td>2.3</td>\n      <td>0</td>\n      <td>0</td>\n      <td>1</td>\n      <td>1</td>\n    </tr>\n    <tr>\n      <th>1</th>\n      <td>37</td>\n      <td>1</td>\n      <td>2</td>\n      <td>130</td>\n      <td>250</td>\n      <td>0</td>\n      <td>1</td>\n      <td>187</td>\n      <td>0</td>\n      <td>3.5</td>\n      <td>0</td>\n      <td>0</td>\n      <td>2</td>\n      <td>1</td>\n    </tr>\n    <tr>\n      <th>2</th>\n      <td>41</td>\n      <td>0</td>\n      <td>1</td>\n      <td>130</td>\n      <td>204</td>\n      <td>0</td>\n      <td>0</td>\n      <td>172</td>\n      <td>0</td>\n      <td>1.4</td>\n      <td>2</td>\n      <td>0</td>\n      <td>2</td>\n      <td>1</td>\n    </tr>\n    <tr>\n      <th>3</th>\n      <td>56</td>\n      <td>1</td>\n      <td>1</td>\n      <td>120</td>\n      <td>236</td>\n      <td>0</td>\n      <td>1</td>\n      <td>178</td>\n      <td>0</td>\n      <td>0.8</td>\n      <td>2</td>\n      <td>0</td>\n      <td>2</td>\n      <td>1</td>\n    </tr>\n    <tr>\n      <th>4</th>\n      <td>57</td>\n      <td>0</td>\n      <td>0</td>\n      <td>120</td>\n      <td>354</td>\n      <td>0</td>\n      <td>1</td>\n      <td>163</td>\n      <td>1</td>\n      <td>0.6</td>\n      <td>2</td>\n      <td>0</td>\n      <td>2</td>\n      <td>1</td>\n    </tr>\n    <tr>\n      <th>...</th>\n      <td>...</td>\n      <td>...</td>\n      <td>...</td>\n      <td>...</td>\n      <td>...</td>\n      <td>...</td>\n      <td>...</td>\n      <td>...</td>\n      <td>...</td>\n      <td>...</td>\n      <td>...</td>\n      <td>...</td>\n      <td>...</td>\n      <td>...</td>\n    </tr>\n    <tr>\n      <th>298</th>\n      <td>57</td>\n      <td>0</td>\n      <td>0</td>\n      <td>140</td>\n      <td>241</td>\n      <td>0</td>\n      <td>1</td>\n      <td>123</td>\n      <td>1</td>\n      <td>0.2</td>\n      <td>1</td>\n      <td>0</td>\n      <td>3</td>\n      <td>0</td>\n    </tr>\n    <tr>\n      <th>299</th>\n      <td>45</td>\n      <td>1</td>\n      <td>3</td>\n      <td>110</td>\n      <td>264</td>\n      <td>0</td>\n      <td>1</td>\n      <td>132</td>\n      <td>0</td>\n      <td>1.2</td>\n      <td>1</td>\n      <td>0</td>\n      <td>3</td>\n      <td>0</td>\n    </tr>\n    <tr>\n      <th>300</th>\n      <td>68</td>\n      <td>1</td>\n      <td>0</td>\n      <td>144</td>\n      <td>193</td>\n      <td>1</td>\n      <td>1</td>\n      <td>141</td>\n      <td>0</td>\n      <td>3.4</td>\n      <td>1</td>\n      <td>2</td>\n      <td>3</td>\n      <td>0</td>\n    </tr>\n    <tr>\n      <th>301</th>\n      <td>57</td>\n      <td>1</td>\n      <td>0</td>\n      <td>130</td>\n      <td>131</td>\n      <td>0</td>\n      <td>1</td>\n      <td>115</td>\n      <td>1</td>\n      <td>1.2</td>\n      <td>1</td>\n      <td>1</td>\n      <td>3</td>\n      <td>0</td>\n    </tr>\n    <tr>\n      <th>302</th>\n      <td>57</td>\n      <td>0</td>\n      <td>1</td>\n      <td>130</td>\n      <td>236</td>\n      <td>0</td>\n      <td>0</td>\n      <td>174</td>\n      <td>0</td>\n      <td>0.0</td>\n      <td>1</td>\n      <td>1</td>\n      <td>2</td>\n      <td>0</td>\n    </tr>\n  </tbody>\n</table>\n<p>303 rows × 14 columns</p>\n</div>"
     },
     "metadata": {}
    }
   ]
  },
  {
   "cell_type": "markdown",
   "source": "# Testing Data Augmentation Manually",
   "metadata": {
    "tags": [],
    "cell_id": "00020-3722e2e5-da13-4dca-a8ff-eafc94b3f3fe",
    "deepnote_cell_type": "markdown"
   }
  },
  {
   "cell_type": "code",
   "metadata": {
    "tags": [],
    "cell_id": "00021-9983536a-f609-4a7e-8ef2-5667f13b64a3",
    "deepnote_to_be_reexecuted": false,
    "source_hash": "a23e4336",
    "execution_start": 1620393129397,
    "execution_millis": 73,
    "deepnote_cell_type": "code"
   },
   "source": "added_age = np.random.randint(df['age'].min(), df['age'].max()+1, size=df.shape[0] // 2)\nadded_sex = np.random.randint(df['sex'].min(), df['sex'].max()+1, size=df.shape[0] // 2)\nadded_cp = np.random.randint(df['cp'].min(), df['cp'].max()+1, size=df.shape[0] // 2)\nadded_trestbps = np.random.randint(df['trestbps'].min(), df['trestbps'].max()+1, size=df.shape[0] // 2)\nadded_chol = np.random.randint(df['chol'].min(), df['chol'].max()+1, size=df.shape[0] // 2)\nadded_fbs = np.random.randint(df['fbs'].min(), df['fbs'].max()+1, size=df.shape[0] // 2)\nadded_restecg = np.random.randint(df['restecg'].min(), df['restecg'].max()+1, size=df.shape[0] // 2)\n\nadded_thalach = np.random.randint(df['thalach'].min(), df['thalach'].max()+1, size=df.shape[0] // 2)\nadded_exang = np.random.randint(df['exang'].min(), df['exang'].max()+1, size=df.shape[0] // 2)\nadded_oldpeak = np.random.randint(df['oldpeak'].min(), df['oldpeak'].max()+1, size=df.shape[0] // 2)\nadded_slope = np.random.randint(df['slope'].min(), df['slope'].max()+1, size=df.shape[0] // 2)\nadded_ca = np.random.randint(df['ca'].min(), df['ca'].max()+1, size=df.shape[0] // 2)\nadded_thal = np.random.randint(df['thal'].min(), df['thal'].max()+1, size=df.shape[0] // 2)\nadded_target = np.random.randint(df['target'].min(), df['target'].max()+1, size=df.shape[0] // 2)\n\nadded_sex",
   "execution_count": 70,
   "outputs": [
    {
     "output_type": "execute_result",
     "execution_count": 70,
     "data": {
      "text/plain": "array([0, 1, 0, 1, 0, 1, 1, 0, 1, 0, 0, 0, 1, 0, 0, 1, 0, 0, 1, 1, 1, 1,\n       1, 0, 0, 1, 1, 1, 1, 1, 0, 1, 0, 0, 0, 1, 0, 1, 0, 1, 0, 1, 1, 0,\n       1, 1, 1, 0, 1, 0, 0, 0, 0, 0, 0, 0, 1, 1, 0, 0, 1, 0, 1, 1, 0, 0,\n       0, 1, 0, 1, 0, 1, 1, 0, 1, 1, 0, 1, 0, 0, 0, 1, 0, 0, 1, 1, 1, 0,\n       1, 0, 1, 0, 1, 1, 1, 0, 1, 0, 0, 1, 1, 1, 1, 1, 1, 1, 1, 0, 0, 1,\n       0, 1, 0, 0, 1, 0, 1, 0, 0, 1, 0, 1, 0, 1, 1, 0, 1, 0, 1, 1, 1, 0,\n       1, 0, 1, 1, 0, 1, 1, 0, 1, 0, 1, 0, 1, 1, 1, 1, 1, 0, 0])"
     },
     "metadata": {}
    }
   ]
  },
  {
   "cell_type": "code",
   "metadata": {
    "tags": [],
    "cell_id": "00022-4598471d-101f-4ddb-b7f1-3b5842416bf2",
    "deepnote_to_be_reexecuted": false,
    "source_hash": "1040ee83",
    "execution_start": 1620393686551,
    "execution_millis": 50,
    "deepnote_cell_type": "code"
   },
   "source": "df_augmented = pd.DataFrame(added_age)\ndf_augmented['age'] = added_age\ndf_augmented['sex'] = added_sex\ndf_augmented['cp'] = added_cp\ndf_augmented['trestbps'] = added_trestbps\ndf_augmented['chol'] = added_chol\ndf_augmented['fbs'] = added_fbs\ndf_augmented['restecg'] = added_restecg\n\ndf_augmented['thalach'] = added_thalach\ndf_augmented['exang'] = added_exang\ndf_augmented['oldpeak'] = added_oldpeak\ndf_augmented['slope'] = added_slope\ndf_augmented['ca'] = added_ca\ndf_augmented['thal'] = added_thal\ndf_augmented['target'] = added_target\n\ndf_augmented = df_augmented.drop(columns=[0])\n\ndf_augmented\n",
   "execution_count": 83,
   "outputs": [
    {
     "output_type": "execute_result",
     "execution_count": 83,
     "data": {
      "application/vnd.deepnote.dataframe.v2+json": {
       "row_count": 151,
       "column_count": 14,
       "columns": [
        {
         "name": "age",
         "dtype": "int64",
         "stats": {
          "unique_count": 47,
          "nan_count": 0,
          "min": "29",
          "max": "77",
          "histogram": [
           {
            "bin_start": 29,
            "bin_end": 33.8,
            "count": 13
           },
           {
            "bin_start": 33.8,
            "bin_end": 38.6,
            "count": 13
           },
           {
            "bin_start": 38.6,
            "bin_end": 43.4,
            "count": 13
           },
           {
            "bin_start": 43.4,
            "bin_end": 48.2,
            "count": 11
           },
           {
            "bin_start": 48.2,
            "bin_end": 53,
            "count": 20
           },
           {
            "bin_start": 53,
            "bin_end": 57.8,
            "count": 7
           },
           {
            "bin_start": 57.8,
            "bin_end": 62.6,
            "count": 22
           },
           {
            "bin_start": 62.6,
            "bin_end": 67.4,
            "count": 21
           },
           {
            "bin_start": 67.4,
            "bin_end": 72.19999999999999,
            "count": 17
           },
           {
            "bin_start": 72.19999999999999,
            "bin_end": 77,
            "count": 14
           }
          ]
         }
        },
        {
         "name": "sex",
         "dtype": "int64",
         "stats": {
          "unique_count": 2,
          "nan_count": 0,
          "min": "0",
          "max": "1",
          "histogram": [
           {
            "bin_start": 0,
            "bin_end": 0.1,
            "count": 70
           },
           {
            "bin_start": 0.1,
            "bin_end": 0.2,
            "count": 0
           },
           {
            "bin_start": 0.2,
            "bin_end": 0.30000000000000004,
            "count": 0
           },
           {
            "bin_start": 0.30000000000000004,
            "bin_end": 0.4,
            "count": 0
           },
           {
            "bin_start": 0.4,
            "bin_end": 0.5,
            "count": 0
           },
           {
            "bin_start": 0.5,
            "bin_end": 0.6000000000000001,
            "count": 0
           },
           {
            "bin_start": 0.6000000000000001,
            "bin_end": 0.7000000000000001,
            "count": 0
           },
           {
            "bin_start": 0.7000000000000001,
            "bin_end": 0.8,
            "count": 0
           },
           {
            "bin_start": 0.8,
            "bin_end": 0.9,
            "count": 0
           },
           {
            "bin_start": 0.9,
            "bin_end": 1,
            "count": 81
           }
          ]
         }
        },
        {
         "name": "cp",
         "dtype": "int64",
         "stats": {
          "unique_count": 4,
          "nan_count": 0,
          "min": "0",
          "max": "3",
          "histogram": [
           {
            "bin_start": 0,
            "bin_end": 0.3,
            "count": 42
           },
           {
            "bin_start": 0.3,
            "bin_end": 0.6,
            "count": 0
           },
           {
            "bin_start": 0.6,
            "bin_end": 0.8999999999999999,
            "count": 0
           },
           {
            "bin_start": 0.8999999999999999,
            "bin_end": 1.2,
            "count": 33
           },
           {
            "bin_start": 1.2,
            "bin_end": 1.5,
            "count": 0
           },
           {
            "bin_start": 1.5,
            "bin_end": 1.7999999999999998,
            "count": 0
           },
           {
            "bin_start": 1.7999999999999998,
            "bin_end": 2.1,
            "count": 34
           },
           {
            "bin_start": 2.1,
            "bin_end": 2.4,
            "count": 0
           },
           {
            "bin_start": 2.4,
            "bin_end": 2.6999999999999997,
            "count": 0
           },
           {
            "bin_start": 2.6999999999999997,
            "bin_end": 3,
            "count": 42
           }
          ]
         }
        },
        {
         "name": "trestbps",
         "dtype": "int64",
         "stats": {
          "unique_count": 82,
          "nan_count": 0,
          "min": "94",
          "max": "200",
          "histogram": [
           {
            "bin_start": 94,
            "bin_end": 104.6,
            "count": 12
           },
           {
            "bin_start": 104.6,
            "bin_end": 115.2,
            "count": 17
           },
           {
            "bin_start": 115.2,
            "bin_end": 125.8,
            "count": 15
           },
           {
            "bin_start": 125.8,
            "bin_end": 136.4,
            "count": 15
           },
           {
            "bin_start": 136.4,
            "bin_end": 147,
            "count": 15
           },
           {
            "bin_start": 147,
            "bin_end": 157.6,
            "count": 14
           },
           {
            "bin_start": 157.6,
            "bin_end": 168.2,
            "count": 18
           },
           {
            "bin_start": 168.2,
            "bin_end": 178.8,
            "count": 20
           },
           {
            "bin_start": 178.8,
            "bin_end": 189.39999999999998,
            "count": 14
           },
           {
            "bin_start": 189.39999999999998,
            "bin_end": 200,
            "count": 11
           }
          ]
         }
        },
        {
         "name": "chol",
         "dtype": "int64",
         "stats": {
          "unique_count": 126,
          "nan_count": 0,
          "min": "126",
          "max": "564",
          "histogram": [
           {
            "bin_start": 126,
            "bin_end": 169.8,
            "count": 15
           },
           {
            "bin_start": 169.8,
            "bin_end": 213.6,
            "count": 17
           },
           {
            "bin_start": 213.6,
            "bin_end": 257.4,
            "count": 17
           },
           {
            "bin_start": 257.4,
            "bin_end": 301.2,
            "count": 15
           },
           {
            "bin_start": 301.2,
            "bin_end": 345,
            "count": 10
           },
           {
            "bin_start": 345,
            "bin_end": 388.79999999999995,
            "count": 19
           },
           {
            "bin_start": 388.79999999999995,
            "bin_end": 432.59999999999997,
            "count": 16
           },
           {
            "bin_start": 432.59999999999997,
            "bin_end": 476.4,
            "count": 18
           },
           {
            "bin_start": 476.4,
            "bin_end": 520.2,
            "count": 12
           },
           {
            "bin_start": 520.2,
            "bin_end": 564,
            "count": 12
           }
          ]
         }
        },
        {
         "name": "fbs",
         "dtype": "int64",
         "stats": {
          "unique_count": 2,
          "nan_count": 0,
          "min": "0",
          "max": "1",
          "histogram": [
           {
            "bin_start": 0,
            "bin_end": 0.1,
            "count": 79
           },
           {
            "bin_start": 0.1,
            "bin_end": 0.2,
            "count": 0
           },
           {
            "bin_start": 0.2,
            "bin_end": 0.30000000000000004,
            "count": 0
           },
           {
            "bin_start": 0.30000000000000004,
            "bin_end": 0.4,
            "count": 0
           },
           {
            "bin_start": 0.4,
            "bin_end": 0.5,
            "count": 0
           },
           {
            "bin_start": 0.5,
            "bin_end": 0.6000000000000001,
            "count": 0
           },
           {
            "bin_start": 0.6000000000000001,
            "bin_end": 0.7000000000000001,
            "count": 0
           },
           {
            "bin_start": 0.7000000000000001,
            "bin_end": 0.8,
            "count": 0
           },
           {
            "bin_start": 0.8,
            "bin_end": 0.9,
            "count": 0
           },
           {
            "bin_start": 0.9,
            "bin_end": 1,
            "count": 72
           }
          ]
         }
        },
        {
         "name": "restecg",
         "dtype": "int64",
         "stats": {
          "unique_count": 3,
          "nan_count": 0,
          "min": "0",
          "max": "2",
          "histogram": [
           {
            "bin_start": 0,
            "bin_end": 0.2,
            "count": 58
           },
           {
            "bin_start": 0.2,
            "bin_end": 0.4,
            "count": 0
           },
           {
            "bin_start": 0.4,
            "bin_end": 0.6000000000000001,
            "count": 0
           },
           {
            "bin_start": 0.6000000000000001,
            "bin_end": 0.8,
            "count": 0
           },
           {
            "bin_start": 0.8,
            "bin_end": 1,
            "count": 0
           },
           {
            "bin_start": 1,
            "bin_end": 1.2000000000000002,
            "count": 48
           },
           {
            "bin_start": 1.2000000000000002,
            "bin_end": 1.4000000000000001,
            "count": 0
           },
           {
            "bin_start": 1.4000000000000001,
            "bin_end": 1.6,
            "count": 0
           },
           {
            "bin_start": 1.6,
            "bin_end": 1.8,
            "count": 0
           },
           {
            "bin_start": 1.8,
            "bin_end": 2,
            "count": 45
           }
          ]
         }
        },
        {
         "name": "thalach",
         "dtype": "int64",
         "stats": {
          "unique_count": 85,
          "nan_count": 0,
          "min": "71",
          "max": "202",
          "histogram": [
           {
            "bin_start": 71,
            "bin_end": 84.1,
            "count": 19
           },
           {
            "bin_start": 84.1,
            "bin_end": 97.2,
            "count": 20
           },
           {
            "bin_start": 97.2,
            "bin_end": 110.3,
            "count": 13
           },
           {
            "bin_start": 110.3,
            "bin_end": 123.4,
            "count": 8
           },
           {
            "bin_start": 123.4,
            "bin_end": 136.5,
            "count": 15
           },
           {
            "bin_start": 136.5,
            "bin_end": 149.6,
            "count": 14
           },
           {
            "bin_start": 149.6,
            "bin_end": 162.7,
            "count": 18
           },
           {
            "bin_start": 162.7,
            "bin_end": 175.8,
            "count": 12
           },
           {
            "bin_start": 175.8,
            "bin_end": 188.89999999999998,
            "count": 17
           },
           {
            "bin_start": 188.89999999999998,
            "bin_end": 202,
            "count": 15
           }
          ]
         }
        },
        {
         "name": "exang",
         "dtype": "int64",
         "stats": {
          "unique_count": 2,
          "nan_count": 0,
          "min": "0",
          "max": "1",
          "histogram": [
           {
            "bin_start": 0,
            "bin_end": 0.1,
            "count": 77
           },
           {
            "bin_start": 0.1,
            "bin_end": 0.2,
            "count": 0
           },
           {
            "bin_start": 0.2,
            "bin_end": 0.30000000000000004,
            "count": 0
           },
           {
            "bin_start": 0.30000000000000004,
            "bin_end": 0.4,
            "count": 0
           },
           {
            "bin_start": 0.4,
            "bin_end": 0.5,
            "count": 0
           },
           {
            "bin_start": 0.5,
            "bin_end": 0.6000000000000001,
            "count": 0
           },
           {
            "bin_start": 0.6000000000000001,
            "bin_end": 0.7000000000000001,
            "count": 0
           },
           {
            "bin_start": 0.7000000000000001,
            "bin_end": 0.8,
            "count": 0
           },
           {
            "bin_start": 0.8,
            "bin_end": 0.9,
            "count": 0
           },
           {
            "bin_start": 0.9,
            "bin_end": 1,
            "count": 74
           }
          ]
         }
        },
        {
         "name": "oldpeak",
         "dtype": "int64",
         "stats": {
          "unique_count": 7,
          "nan_count": 0,
          "min": "0",
          "max": "6",
          "histogram": [
           {
            "bin_start": 0,
            "bin_end": 0.6,
            "count": 19
           },
           {
            "bin_start": 0.6,
            "bin_end": 1.2,
            "count": 26
           },
           {
            "bin_start": 1.2,
            "bin_end": 1.7999999999999998,
            "count": 0
           },
           {
            "bin_start": 1.7999999999999998,
            "bin_end": 2.4,
            "count": 16
           },
           {
            "bin_start": 2.4,
            "bin_end": 3,
            "count": 0
           },
           {
            "bin_start": 3,
            "bin_end": 3.5999999999999996,
            "count": 23
           },
           {
            "bin_start": 3.5999999999999996,
            "bin_end": 4.2,
            "count": 18
           },
           {
            "bin_start": 4.2,
            "bin_end": 4.8,
            "count": 0
           },
           {
            "bin_start": 4.8,
            "bin_end": 5.3999999999999995,
            "count": 23
           },
           {
            "bin_start": 5.3999999999999995,
            "bin_end": 6,
            "count": 26
           }
          ]
         }
        },
        {
         "name": "slope",
         "dtype": "int64",
         "stats": {
          "unique_count": 3,
          "nan_count": 0,
          "min": "0",
          "max": "2",
          "histogram": [
           {
            "bin_start": 0,
            "bin_end": 0.2,
            "count": 47
           },
           {
            "bin_start": 0.2,
            "bin_end": 0.4,
            "count": 0
           },
           {
            "bin_start": 0.4,
            "bin_end": 0.6000000000000001,
            "count": 0
           },
           {
            "bin_start": 0.6000000000000001,
            "bin_end": 0.8,
            "count": 0
           },
           {
            "bin_start": 0.8,
            "bin_end": 1,
            "count": 0
           },
           {
            "bin_start": 1,
            "bin_end": 1.2000000000000002,
            "count": 51
           },
           {
            "bin_start": 1.2000000000000002,
            "bin_end": 1.4000000000000001,
            "count": 0
           },
           {
            "bin_start": 1.4000000000000001,
            "bin_end": 1.6,
            "count": 0
           },
           {
            "bin_start": 1.6,
            "bin_end": 1.8,
            "count": 0
           },
           {
            "bin_start": 1.8,
            "bin_end": 2,
            "count": 53
           }
          ]
         }
        },
        {
         "name": "ca",
         "dtype": "int64",
         "stats": {
          "unique_count": 5,
          "nan_count": 0,
          "min": "0",
          "max": "4",
          "histogram": [
           {
            "bin_start": 0,
            "bin_end": 0.4,
            "count": 37
           },
           {
            "bin_start": 0.4,
            "bin_end": 0.8,
            "count": 0
           },
           {
            "bin_start": 0.8,
            "bin_end": 1.2000000000000002,
            "count": 27
           },
           {
            "bin_start": 1.2000000000000002,
            "bin_end": 1.6,
            "count": 0
           },
           {
            "bin_start": 1.6,
            "bin_end": 2,
            "count": 0
           },
           {
            "bin_start": 2,
            "bin_end": 2.4000000000000004,
            "count": 28
           },
           {
            "bin_start": 2.4000000000000004,
            "bin_end": 2.8000000000000003,
            "count": 0
           },
           {
            "bin_start": 2.8000000000000003,
            "bin_end": 3.2,
            "count": 29
           },
           {
            "bin_start": 3.2,
            "bin_end": 3.6,
            "count": 0
           },
           {
            "bin_start": 3.6,
            "bin_end": 4,
            "count": 30
           }
          ]
         }
        },
        {
         "name": "thal",
         "dtype": "int64",
         "stats": {
          "unique_count": 4,
          "nan_count": 0,
          "min": "0",
          "max": "3",
          "histogram": [
           {
            "bin_start": 0,
            "bin_end": 0.3,
            "count": 44
           },
           {
            "bin_start": 0.3,
            "bin_end": 0.6,
            "count": 0
           },
           {
            "bin_start": 0.6,
            "bin_end": 0.8999999999999999,
            "count": 0
           },
           {
            "bin_start": 0.8999999999999999,
            "bin_end": 1.2,
            "count": 30
           },
           {
            "bin_start": 1.2,
            "bin_end": 1.5,
            "count": 0
           },
           {
            "bin_start": 1.5,
            "bin_end": 1.7999999999999998,
            "count": 0
           },
           {
            "bin_start": 1.7999999999999998,
            "bin_end": 2.1,
            "count": 40
           },
           {
            "bin_start": 2.1,
            "bin_end": 2.4,
            "count": 0
           },
           {
            "bin_start": 2.4,
            "bin_end": 2.6999999999999997,
            "count": 0
           },
           {
            "bin_start": 2.6999999999999997,
            "bin_end": 3,
            "count": 37
           }
          ]
         }
        },
        {
         "name": "target",
         "dtype": "int64",
         "stats": {
          "unique_count": 2,
          "nan_count": 0,
          "min": "0",
          "max": "1",
          "histogram": [
           {
            "bin_start": 0,
            "bin_end": 0.1,
            "count": 76
           },
           {
            "bin_start": 0.1,
            "bin_end": 0.2,
            "count": 0
           },
           {
            "bin_start": 0.2,
            "bin_end": 0.30000000000000004,
            "count": 0
           },
           {
            "bin_start": 0.30000000000000004,
            "bin_end": 0.4,
            "count": 0
           },
           {
            "bin_start": 0.4,
            "bin_end": 0.5,
            "count": 0
           },
           {
            "bin_start": 0.5,
            "bin_end": 0.6000000000000001,
            "count": 0
           },
           {
            "bin_start": 0.6000000000000001,
            "bin_end": 0.7000000000000001,
            "count": 0
           },
           {
            "bin_start": 0.7000000000000001,
            "bin_end": 0.8,
            "count": 0
           },
           {
            "bin_start": 0.8,
            "bin_end": 0.9,
            "count": 0
           },
           {
            "bin_start": 0.9,
            "bin_end": 1,
            "count": 75
           }
          ]
         }
        },
        {
         "name": "_deepnote_index_column",
         "dtype": "int64"
        }
       ],
       "rows_top": [
        {
         "age": 52,
         "sex": 0,
         "cp": 1,
         "trestbps": 165,
         "chol": 166,
         "fbs": 1,
         "restecg": 0,
         "thalach": 178,
         "exang": 1,
         "oldpeak": 5,
         "slope": 2,
         "ca": 1,
         "thal": 0,
         "target": 0,
         "_deepnote_index_column": 0
        },
        {
         "age": 61,
         "sex": 1,
         "cp": 1,
         "trestbps": 200,
         "chol": 155,
         "fbs": 0,
         "restecg": 2,
         "thalach": 94,
         "exang": 1,
         "oldpeak": 4,
         "slope": 1,
         "ca": 0,
         "thal": 1,
         "target": 0,
         "_deepnote_index_column": 1
        },
        {
         "age": 63,
         "sex": 0,
         "cp": 0,
         "trestbps": 157,
         "chol": 419,
         "fbs": 1,
         "restecg": 0,
         "thalach": 158,
         "exang": 1,
         "oldpeak": 0,
         "slope": 1,
         "ca": 4,
         "thal": 2,
         "target": 0,
         "_deepnote_index_column": 2
        },
        {
         "age": 58,
         "sex": 1,
         "cp": 0,
         "trestbps": 117,
         "chol": 400,
         "fbs": 0,
         "restecg": 2,
         "thalach": 166,
         "exang": 1,
         "oldpeak": 4,
         "slope": 0,
         "ca": 2,
         "thal": 3,
         "target": 1,
         "_deepnote_index_column": 3
        },
        {
         "age": 68,
         "sex": 0,
         "cp": 0,
         "trestbps": 159,
         "chol": 447,
         "fbs": 0,
         "restecg": 1,
         "thalach": 153,
         "exang": 0,
         "oldpeak": 6,
         "slope": 2,
         "ca": 1,
         "thal": 3,
         "target": 0,
         "_deepnote_index_column": 4
        },
        {
         "age": 70,
         "sex": 1,
         "cp": 2,
         "trestbps": 197,
         "chol": 447,
         "fbs": 0,
         "restecg": 0,
         "thalach": 145,
         "exang": 0,
         "oldpeak": 3,
         "slope": 0,
         "ca": 1,
         "thal": 2,
         "target": 1,
         "_deepnote_index_column": 5
        },
        {
         "age": 29,
         "sex": 1,
         "cp": 3,
         "trestbps": 142,
         "chol": 538,
         "fbs": 0,
         "restecg": 0,
         "thalach": 86,
         "exang": 1,
         "oldpeak": 1,
         "slope": 1,
         "ca": 3,
         "thal": 2,
         "target": 0,
         "_deepnote_index_column": 6
        },
        {
         "age": 40,
         "sex": 0,
         "cp": 3,
         "trestbps": 159,
         "chol": 148,
         "fbs": 0,
         "restecg": 0,
         "thalach": 143,
         "exang": 1,
         "oldpeak": 1,
         "slope": 0,
         "ca": 3,
         "thal": 0,
         "target": 1,
         "_deepnote_index_column": 7
        },
        {
         "age": 41,
         "sex": 1,
         "cp": 3,
         "trestbps": 97,
         "chol": 319,
         "fbs": 1,
         "restecg": 1,
         "thalach": 75,
         "exang": 0,
         "oldpeak": 6,
         "slope": 2,
         "ca": 0,
         "thal": 2,
         "target": 0,
         "_deepnote_index_column": 8
        },
        {
         "age": 62,
         "sex": 0,
         "cp": 2,
         "trestbps": 161,
         "chol": 213,
         "fbs": 1,
         "restecg": 1,
         "thalach": 75,
         "exang": 0,
         "oldpeak": 5,
         "slope": 2,
         "ca": 0,
         "thal": 0,
         "target": 0,
         "_deepnote_index_column": 9
        },
        {
         "age": 54,
         "sex": 0,
         "cp": 3,
         "trestbps": 185,
         "chol": 228,
         "fbs": 1,
         "restecg": 2,
         "thalach": 96,
         "exang": 1,
         "oldpeak": 6,
         "slope": 0,
         "ca": 2,
         "thal": 3,
         "target": 0,
         "_deepnote_index_column": 10
        },
        {
         "age": 52,
         "sex": 0,
         "cp": 1,
         "trestbps": 163,
         "chol": 330,
         "fbs": 0,
         "restecg": 2,
         "thalach": 188,
         "exang": 1,
         "oldpeak": 3,
         "slope": 1,
         "ca": 2,
         "thal": 1,
         "target": 1,
         "_deepnote_index_column": 11
        },
        {
         "age": 44,
         "sex": 1,
         "cp": 0,
         "trestbps": 142,
         "chol": 305,
         "fbs": 0,
         "restecg": 0,
         "thalach": 185,
         "exang": 0,
         "oldpeak": 2,
         "slope": 2,
         "ca": 0,
         "thal": 0,
         "target": 0,
         "_deepnote_index_column": 12
        },
        {
         "age": 63,
         "sex": 0,
         "cp": 3,
         "trestbps": 124,
         "chol": 362,
         "fbs": 1,
         "restecg": 2,
         "thalach": 134,
         "exang": 1,
         "oldpeak": 0,
         "slope": 2,
         "ca": 1,
         "thal": 1,
         "target": 1,
         "_deepnote_index_column": 13
        },
        {
         "age": 59,
         "sex": 0,
         "cp": 1,
         "trestbps": 113,
         "chol": 228,
         "fbs": 0,
         "restecg": 0,
         "thalach": 156,
         "exang": 0,
         "oldpeak": 1,
         "slope": 2,
         "ca": 1,
         "thal": 0,
         "target": 1,
         "_deepnote_index_column": 14
        },
        {
         "age": 35,
         "sex": 1,
         "cp": 0,
         "trestbps": 119,
         "chol": 400,
         "fbs": 1,
         "restecg": 1,
         "thalach": 146,
         "exang": 0,
         "oldpeak": 6,
         "slope": 2,
         "ca": 4,
         "thal": 0,
         "target": 1,
         "_deepnote_index_column": 15
        },
        {
         "age": 46,
         "sex": 0,
         "cp": 1,
         "trestbps": 128,
         "chol": 545,
         "fbs": 0,
         "restecg": 0,
         "thalach": 90,
         "exang": 1,
         "oldpeak": 3,
         "slope": 0,
         "ca": 4,
         "thal": 3,
         "target": 0,
         "_deepnote_index_column": 16
        },
        {
         "age": 39,
         "sex": 0,
         "cp": 3,
         "trestbps": 134,
         "chol": 260,
         "fbs": 1,
         "restecg": 2,
         "thalach": 164,
         "exang": 0,
         "oldpeak": 5,
         "slope": 1,
         "ca": 3,
         "thal": 2,
         "target": 1,
         "_deepnote_index_column": 17
        },
        {
         "age": 66,
         "sex": 1,
         "cp": 2,
         "trestbps": 121,
         "chol": 298,
         "fbs": 0,
         "restecg": 1,
         "thalach": 200,
         "exang": 0,
         "oldpeak": 5,
         "slope": 2,
         "ca": 2,
         "thal": 2,
         "target": 1,
         "_deepnote_index_column": 18
        },
        {
         "age": 61,
         "sex": 1,
         "cp": 3,
         "trestbps": 120,
         "chol": 554,
         "fbs": 1,
         "restecg": 0,
         "thalach": 141,
         "exang": 1,
         "oldpeak": 6,
         "slope": 2,
         "ca": 1,
         "thal": 0,
         "target": 0,
         "_deepnote_index_column": 19
        },
        {
         "age": 76,
         "sex": 1,
         "cp": 0,
         "trestbps": 169,
         "chol": 222,
         "fbs": 0,
         "restecg": 2,
         "thalach": 158,
         "exang": 1,
         "oldpeak": 6,
         "slope": 1,
         "ca": 4,
         "thal": 0,
         "target": 0,
         "_deepnote_index_column": 20
        },
        {
         "age": 49,
         "sex": 1,
         "cp": 3,
         "trestbps": 181,
         "chol": 436,
         "fbs": 1,
         "restecg": 0,
         "thalach": 84,
         "exang": 0,
         "oldpeak": 0,
         "slope": 2,
         "ca": 1,
         "thal": 2,
         "target": 1,
         "_deepnote_index_column": 21
        },
        {
         "age": 64,
         "sex": 1,
         "cp": 0,
         "trestbps": 94,
         "chol": 362,
         "fbs": 0,
         "restecg": 2,
         "thalach": 168,
         "exang": 0,
         "oldpeak": 3,
         "slope": 2,
         "ca": 4,
         "thal": 2,
         "target": 0,
         "_deepnote_index_column": 22
        },
        {
         "age": 35,
         "sex": 0,
         "cp": 1,
         "trestbps": 120,
         "chol": 279,
         "fbs": 0,
         "restecg": 1,
         "thalach": 175,
         "exang": 0,
         "oldpeak": 1,
         "slope": 1,
         "ca": 0,
         "thal": 3,
         "target": 1,
         "_deepnote_index_column": 23
        },
        {
         "age": 62,
         "sex": 0,
         "cp": 3,
         "trestbps": 113,
         "chol": 491,
         "fbs": 0,
         "restecg": 1,
         "thalach": 112,
         "exang": 0,
         "oldpeak": 2,
         "slope": 1,
         "ca": 2,
         "thal": 2,
         "target": 1,
         "_deepnote_index_column": 24
        },
        {
         "age": 34,
         "sex": 1,
         "cp": 2,
         "trestbps": 147,
         "chol": 497,
         "fbs": 1,
         "restecg": 2,
         "thalach": 103,
         "exang": 1,
         "oldpeak": 4,
         "slope": 2,
         "ca": 3,
         "thal": 0,
         "target": 1,
         "_deepnote_index_column": 25
        },
        {
         "age": 72,
         "sex": 1,
         "cp": 1,
         "trestbps": 180,
         "chol": 270,
         "fbs": 1,
         "restecg": 0,
         "thalach": 160,
         "exang": 1,
         "oldpeak": 4,
         "slope": 2,
         "ca": 2,
         "thal": 2,
         "target": 0,
         "_deepnote_index_column": 26
        },
        {
         "age": 30,
         "sex": 1,
         "cp": 3,
         "trestbps": 174,
         "chol": 178,
         "fbs": 1,
         "restecg": 0,
         "thalach": 144,
         "exang": 0,
         "oldpeak": 3,
         "slope": 0,
         "ca": 0,
         "thal": 2,
         "target": 0,
         "_deepnote_index_column": 27
        },
        {
         "age": 32,
         "sex": 1,
         "cp": 3,
         "trestbps": 137,
         "chol": 475,
         "fbs": 1,
         "restecg": 0,
         "thalach": 159,
         "exang": 1,
         "oldpeak": 0,
         "slope": 0,
         "ca": 3,
         "thal": 1,
         "target": 1,
         "_deepnote_index_column": 28
        },
        {
         "age": 32,
         "sex": 1,
         "cp": 2,
         "trestbps": 160,
         "chol": 453,
         "fbs": 0,
         "restecg": 2,
         "thalach": 75,
         "exang": 0,
         "oldpeak": 0,
         "slope": 0,
         "ca": 2,
         "thal": 0,
         "target": 1,
         "_deepnote_index_column": 29
        },
        {
         "age": 61,
         "sex": 0,
         "cp": 3,
         "trestbps": 136,
         "chol": 171,
         "fbs": 1,
         "restecg": 1,
         "thalach": 74,
         "exang": 0,
         "oldpeak": 5,
         "slope": 2,
         "ca": 0,
         "thal": 0,
         "target": 0,
         "_deepnote_index_column": 30
        },
        {
         "age": 60,
         "sex": 1,
         "cp": 2,
         "trestbps": 157,
         "chol": 228,
         "fbs": 1,
         "restecg": 1,
         "thalach": 191,
         "exang": 1,
         "oldpeak": 4,
         "slope": 0,
         "ca": 4,
         "thal": 2,
         "target": 1,
         "_deepnote_index_column": 31
        },
        {
         "age": 58,
         "sex": 0,
         "cp": 1,
         "trestbps": 191,
         "chol": 500,
         "fbs": 1,
         "restecg": 0,
         "thalach": 95,
         "exang": 0,
         "oldpeak": 3,
         "slope": 1,
         "ca": 0,
         "thal": 0,
         "target": 1,
         "_deepnote_index_column": 32
        },
        {
         "age": 45,
         "sex": 0,
         "cp": 0,
         "trestbps": 137,
         "chol": 534,
         "fbs": 0,
         "restecg": 0,
         "thalach": 161,
         "exang": 1,
         "oldpeak": 6,
         "slope": 2,
         "ca": 3,
         "thal": 0,
         "target": 1,
         "_deepnote_index_column": 33
        },
        {
         "age": 42,
         "sex": 0,
         "cp": 1,
         "trestbps": 184,
         "chol": 161,
         "fbs": 1,
         "restecg": 0,
         "thalach": 71,
         "exang": 1,
         "oldpeak": 3,
         "slope": 1,
         "ca": 0,
         "thal": 3,
         "target": 0,
         "_deepnote_index_column": 34
        }
       ],
       "rows_bottom": [
        {
         "age": 42,
         "sex": 0,
         "cp": 0,
         "trestbps": 177,
         "chol": 564,
         "fbs": 0,
         "restecg": 0,
         "thalach": 151,
         "exang": 0,
         "oldpeak": 6,
         "slope": 1,
         "ca": 4,
         "thal": 1,
         "target": 1,
         "_deepnote_index_column": 115
        },
        {
         "age": 32,
         "sex": 1,
         "cp": 3,
         "trestbps": 136,
         "chol": 374,
         "fbs": 1,
         "restecg": 0,
         "thalach": 171,
         "exang": 1,
         "oldpeak": 0,
         "slope": 1,
         "ca": 2,
         "thal": 1,
         "target": 1,
         "_deepnote_index_column": 116
        },
        {
         "age": 51,
         "sex": 0,
         "cp": 0,
         "trestbps": 114,
         "chol": 270,
         "fbs": 0,
         "restecg": 2,
         "thalach": 153,
         "exang": 0,
         "oldpeak": 5,
         "slope": 0,
         "ca": 3,
         "thal": 3,
         "target": 1,
         "_deepnote_index_column": 117
        },
        {
         "age": 73,
         "sex": 0,
         "cp": 2,
         "trestbps": 109,
         "chol": 513,
         "fbs": 1,
         "restecg": 0,
         "thalach": 88,
         "exang": 0,
         "oldpeak": 0,
         "slope": 2,
         "ca": 4,
         "thal": 0,
         "target": 0,
         "_deepnote_index_column": 118
        },
        {
         "age": 36,
         "sex": 1,
         "cp": 0,
         "trestbps": 170,
         "chol": 306,
         "fbs": 1,
         "restecg": 2,
         "thalach": 90,
         "exang": 1,
         "oldpeak": 1,
         "slope": 0,
         "ca": 4,
         "thal": 3,
         "target": 1,
         "_deepnote_index_column": 119
        },
        {
         "age": 62,
         "sex": 0,
         "cp": 2,
         "trestbps": 138,
         "chol": 142,
         "fbs": 0,
         "restecg": 0,
         "thalach": 96,
         "exang": 0,
         "oldpeak": 1,
         "slope": 0,
         "ca": 0,
         "thal": 2,
         "target": 0,
         "_deepnote_index_column": 120
        },
        {
         "age": 61,
         "sex": 1,
         "cp": 1,
         "trestbps": 108,
         "chol": 377,
         "fbs": 0,
         "restecg": 2,
         "thalach": 75,
         "exang": 0,
         "oldpeak": 2,
         "slope": 0,
         "ca": 1,
         "thal": 0,
         "target": 1,
         "_deepnote_index_column": 121
        },
        {
         "age": 51,
         "sex": 0,
         "cp": 2,
         "trestbps": 182,
         "chol": 242,
         "fbs": 0,
         "restecg": 2,
         "thalach": 132,
         "exang": 1,
         "oldpeak": 0,
         "slope": 2,
         "ca": 1,
         "thal": 0,
         "target": 0,
         "_deepnote_index_column": 122
        },
        {
         "age": 73,
         "sex": 1,
         "cp": 2,
         "trestbps": 103,
         "chol": 373,
         "fbs": 0,
         "restecg": 2,
         "thalach": 76,
         "exang": 1,
         "oldpeak": 3,
         "slope": 2,
         "ca": 2,
         "thal": 3,
         "target": 1,
         "_deepnote_index_column": 123
        },
        {
         "age": 66,
         "sex": 1,
         "cp": 1,
         "trestbps": 179,
         "chol": 349,
         "fbs": 1,
         "restecg": 1,
         "thalach": 164,
         "exang": 1,
         "oldpeak": 4,
         "slope": 0,
         "ca": 1,
         "thal": 0,
         "target": 0,
         "_deepnote_index_column": 124
        },
        {
         "age": 65,
         "sex": 0,
         "cp": 1,
         "trestbps": 109,
         "chol": 360,
         "fbs": 0,
         "restecg": 1,
         "thalach": 190,
         "exang": 0,
         "oldpeak": 5,
         "slope": 1,
         "ca": 2,
         "thal": 0,
         "target": 0,
         "_deepnote_index_column": 125
        },
        {
         "age": 76,
         "sex": 1,
         "cp": 0,
         "trestbps": 161,
         "chol": 329,
         "fbs": 0,
         "restecg": 2,
         "thalach": 139,
         "exang": 1,
         "oldpeak": 6,
         "slope": 1,
         "ca": 0,
         "thal": 2,
         "target": 1,
         "_deepnote_index_column": 126
        },
        {
         "age": 54,
         "sex": 0,
         "cp": 3,
         "trestbps": 121,
         "chol": 168,
         "fbs": 1,
         "restecg": 2,
         "thalach": 144,
         "exang": 1,
         "oldpeak": 1,
         "slope": 1,
         "ca": 0,
         "thal": 3,
         "target": 0,
         "_deepnote_index_column": 127
        },
        {
         "age": 63,
         "sex": 1,
         "cp": 2,
         "trestbps": 174,
         "chol": 218,
         "fbs": 0,
         "restecg": 0,
         "thalach": 199,
         "exang": 1,
         "oldpeak": 2,
         "slope": 2,
         "ca": 3,
         "thal": 0,
         "target": 1,
         "_deepnote_index_column": 128
        },
        {
         "age": 46,
         "sex": 1,
         "cp": 0,
         "trestbps": 193,
         "chol": 416,
         "fbs": 0,
         "restecg": 1,
         "thalach": 120,
         "exang": 1,
         "oldpeak": 2,
         "slope": 2,
         "ca": 0,
         "thal": 3,
         "target": 1,
         "_deepnote_index_column": 129
        },
        {
         "age": 75,
         "sex": 1,
         "cp": 0,
         "trestbps": 175,
         "chol": 380,
         "fbs": 0,
         "restecg": 2,
         "thalach": 171,
         "exang": 0,
         "oldpeak": 0,
         "slope": 0,
         "ca": 3,
         "thal": 1,
         "target": 1,
         "_deepnote_index_column": 130
        },
        {
         "age": 36,
         "sex": 0,
         "cp": 0,
         "trestbps": 126,
         "chol": 440,
         "fbs": 0,
         "restecg": 0,
         "thalach": 118,
         "exang": 1,
         "oldpeak": 1,
         "slope": 1,
         "ca": 1,
         "thal": 2,
         "target": 0,
         "_deepnote_index_column": 131
        },
        {
         "age": 36,
         "sex": 1,
         "cp": 0,
         "trestbps": 148,
         "chol": 421,
         "fbs": 0,
         "restecg": 0,
         "thalach": 130,
         "exang": 0,
         "oldpeak": 6,
         "slope": 2,
         "ca": 2,
         "thal": 1,
         "target": 1,
         "_deepnote_index_column": 132
        },
        {
         "age": 66,
         "sex": 0,
         "cp": 0,
         "trestbps": 156,
         "chol": 219,
         "fbs": 0,
         "restecg": 1,
         "thalach": 176,
         "exang": 0,
         "oldpeak": 6,
         "slope": 2,
         "ca": 1,
         "thal": 2,
         "target": 0,
         "_deepnote_index_column": 133
        },
        {
         "age": 42,
         "sex": 1,
         "cp": 2,
         "trestbps": 179,
         "chol": 258,
         "fbs": 0,
         "restecg": 1,
         "thalach": 105,
         "exang": 1,
         "oldpeak": 5,
         "slope": 1,
         "ca": 0,
         "thal": 0,
         "target": 1,
         "_deepnote_index_column": 134
        },
        {
         "age": 45,
         "sex": 1,
         "cp": 2,
         "trestbps": 107,
         "chol": 557,
         "fbs": 0,
         "restecg": 1,
         "thalach": 191,
         "exang": 1,
         "oldpeak": 3,
         "slope": 1,
         "ca": 3,
         "thal": 3,
         "target": 0,
         "_deepnote_index_column": 135
        },
        {
         "age": 66,
         "sex": 0,
         "cp": 3,
         "trestbps": 153,
         "chol": 204,
         "fbs": 1,
         "restecg": 0,
         "thalach": 75,
         "exang": 1,
         "oldpeak": 2,
         "slope": 0,
         "ca": 0,
         "thal": 0,
         "target": 0,
         "_deepnote_index_column": 136
        },
        {
         "age": 58,
         "sex": 1,
         "cp": 3,
         "trestbps": 160,
         "chol": 450,
         "fbs": 1,
         "restecg": 1,
         "thalach": 85,
         "exang": 0,
         "oldpeak": 1,
         "slope": 0,
         "ca": 4,
         "thal": 3,
         "target": 1,
         "_deepnote_index_column": 137
        },
        {
         "age": 51,
         "sex": 1,
         "cp": 1,
         "trestbps": 179,
         "chol": 401,
         "fbs": 0,
         "restecg": 1,
         "thalach": 131,
         "exang": 1,
         "oldpeak": 2,
         "slope": 2,
         "ca": 3,
         "thal": 0,
         "target": 1,
         "_deepnote_index_column": 138
        },
        {
         "age": 60,
         "sex": 0,
         "cp": 1,
         "trestbps": 110,
         "chol": 470,
         "fbs": 0,
         "restecg": 0,
         "thalach": 130,
         "exang": 0,
         "oldpeak": 2,
         "slope": 1,
         "ca": 3,
         "thal": 2,
         "target": 1,
         "_deepnote_index_column": 139
        },
        {
         "age": 70,
         "sex": 1,
         "cp": 0,
         "trestbps": 170,
         "chol": 427,
         "fbs": 1,
         "restecg": 1,
         "thalach": 166,
         "exang": 1,
         "oldpeak": 6,
         "slope": 2,
         "ca": 2,
         "thal": 0,
         "target": 1,
         "_deepnote_index_column": 140
        },
        {
         "age": 51,
         "sex": 0,
         "cp": 2,
         "trestbps": 120,
         "chol": 226,
         "fbs": 0,
         "restecg": 1,
         "thalach": 98,
         "exang": 1,
         "oldpeak": 6,
         "slope": 1,
         "ca": 3,
         "thal": 2,
         "target": 0,
         "_deepnote_index_column": 141
        },
        {
         "age": 63,
         "sex": 1,
         "cp": 3,
         "trestbps": 113,
         "chol": 177,
         "fbs": 1,
         "restecg": 1,
         "thalach": 161,
         "exang": 0,
         "oldpeak": 6,
         "slope": 1,
         "ca": 4,
         "thal": 1,
         "target": 1,
         "_deepnote_index_column": 142
        },
        {
         "age": 64,
         "sex": 0,
         "cp": 2,
         "trestbps": 96,
         "chol": 356,
         "fbs": 0,
         "restecg": 1,
         "thalach": 128,
         "exang": 0,
         "oldpeak": 1,
         "slope": 0,
         "ca": 1,
         "thal": 2,
         "target": 1,
         "_deepnote_index_column": 143
        },
        {
         "age": 43,
         "sex": 1,
         "cp": 2,
         "trestbps": 94,
         "chol": 518,
         "fbs": 0,
         "restecg": 0,
         "thalach": 115,
         "exang": 1,
         "oldpeak": 5,
         "slope": 0,
         "ca": 4,
         "thal": 2,
         "target": 0,
         "_deepnote_index_column": 144
        },
        {
         "age": 64,
         "sex": 1,
         "cp": 0,
         "trestbps": 166,
         "chol": 171,
         "fbs": 0,
         "restecg": 1,
         "thalach": 134,
         "exang": 0,
         "oldpeak": 4,
         "slope": 1,
         "ca": 0,
         "thal": 3,
         "target": 0,
         "_deepnote_index_column": 145
        },
        {
         "age": 29,
         "sex": 1,
         "cp": 3,
         "trestbps": 146,
         "chol": 364,
         "fbs": 1,
         "restecg": 0,
         "thalach": 197,
         "exang": 0,
         "oldpeak": 3,
         "slope": 1,
         "ca": 3,
         "thal": 0,
         "target": 0,
         "_deepnote_index_column": 146
        },
        {
         "age": 30,
         "sex": 1,
         "cp": 1,
         "trestbps": 160,
         "chol": 496,
         "fbs": 1,
         "restecg": 0,
         "thalach": 183,
         "exang": 1,
         "oldpeak": 3,
         "slope": 2,
         "ca": 2,
         "thal": 3,
         "target": 1,
         "_deepnote_index_column": 147
        },
        {
         "age": 53,
         "sex": 1,
         "cp": 0,
         "trestbps": 139,
         "chol": 447,
         "fbs": 1,
         "restecg": 1,
         "thalach": 146,
         "exang": 0,
         "oldpeak": 4,
         "slope": 2,
         "ca": 0,
         "thal": 0,
         "target": 1,
         "_deepnote_index_column": 148
        },
        {
         "age": 49,
         "sex": 0,
         "cp": 0,
         "trestbps": 148,
         "chol": 311,
         "fbs": 1,
         "restecg": 2,
         "thalach": 89,
         "exang": 0,
         "oldpeak": 6,
         "slope": 2,
         "ca": 0,
         "thal": 0,
         "target": 1,
         "_deepnote_index_column": 149
        },
        {
         "age": 38,
         "sex": 0,
         "cp": 1,
         "trestbps": 153,
         "chol": 564,
         "fbs": 0,
         "restecg": 1,
         "thalach": 81,
         "exang": 0,
         "oldpeak": 6,
         "slope": 1,
         "ca": 4,
         "thal": 1,
         "target": 1,
         "_deepnote_index_column": 150
        }
       ]
      },
      "text/plain": "     age  sex  cp  trestbps  chol  fbs  restecg  thalach  exang  oldpeak  \\\n0     52    0   1       165   166    1        0      178      1        5   \n1     61    1   1       200   155    0        2       94      1        4   \n2     63    0   0       157   419    1        0      158      1        0   \n3     58    1   0       117   400    0        2      166      1        4   \n4     68    0   0       159   447    0        1      153      0        6   \n..   ...  ...  ..       ...   ...  ...      ...      ...    ...      ...   \n146   29    1   3       146   364    1        0      197      0        3   \n147   30    1   1       160   496    1        0      183      1        3   \n148   53    1   0       139   447    1        1      146      0        4   \n149   49    0   0       148   311    1        2       89      0        6   \n150   38    0   1       153   564    0        1       81      0        6   \n\n     slope  ca  thal  target  \n0        2   1     0       0  \n1        1   0     1       0  \n2        1   4     2       0  \n3        0   2     3       1  \n4        2   1     3       0  \n..     ...  ..   ...     ...  \n146      1   3     0       0  \n147      2   2     3       1  \n148      2   0     0       1  \n149      2   0     0       1  \n150      1   4     1       1  \n\n[151 rows x 14 columns]",
      "text/html": "<div>\n<style scoped>\n    .dataframe tbody tr th:only-of-type {\n        vertical-align: middle;\n    }\n\n    .dataframe tbody tr th {\n        vertical-align: top;\n    }\n\n    .dataframe thead th {\n        text-align: right;\n    }\n</style>\n<table border=\"1\" class=\"dataframe\">\n  <thead>\n    <tr style=\"text-align: right;\">\n      <th></th>\n      <th>age</th>\n      <th>sex</th>\n      <th>cp</th>\n      <th>trestbps</th>\n      <th>chol</th>\n      <th>fbs</th>\n      <th>restecg</th>\n      <th>thalach</th>\n      <th>exang</th>\n      <th>oldpeak</th>\n      <th>slope</th>\n      <th>ca</th>\n      <th>thal</th>\n      <th>target</th>\n    </tr>\n  </thead>\n  <tbody>\n    <tr>\n      <th>0</th>\n      <td>52</td>\n      <td>0</td>\n      <td>1</td>\n      <td>165</td>\n      <td>166</td>\n      <td>1</td>\n      <td>0</td>\n      <td>178</td>\n      <td>1</td>\n      <td>5</td>\n      <td>2</td>\n      <td>1</td>\n      <td>0</td>\n      <td>0</td>\n    </tr>\n    <tr>\n      <th>1</th>\n      <td>61</td>\n      <td>1</td>\n      <td>1</td>\n      <td>200</td>\n      <td>155</td>\n      <td>0</td>\n      <td>2</td>\n      <td>94</td>\n      <td>1</td>\n      <td>4</td>\n      <td>1</td>\n      <td>0</td>\n      <td>1</td>\n      <td>0</td>\n    </tr>\n    <tr>\n      <th>2</th>\n      <td>63</td>\n      <td>0</td>\n      <td>0</td>\n      <td>157</td>\n      <td>419</td>\n      <td>1</td>\n      <td>0</td>\n      <td>158</td>\n      <td>1</td>\n      <td>0</td>\n      <td>1</td>\n      <td>4</td>\n      <td>2</td>\n      <td>0</td>\n    </tr>\n    <tr>\n      <th>3</th>\n      <td>58</td>\n      <td>1</td>\n      <td>0</td>\n      <td>117</td>\n      <td>400</td>\n      <td>0</td>\n      <td>2</td>\n      <td>166</td>\n      <td>1</td>\n      <td>4</td>\n      <td>0</td>\n      <td>2</td>\n      <td>3</td>\n      <td>1</td>\n    </tr>\n    <tr>\n      <th>4</th>\n      <td>68</td>\n      <td>0</td>\n      <td>0</td>\n      <td>159</td>\n      <td>447</td>\n      <td>0</td>\n      <td>1</td>\n      <td>153</td>\n      <td>0</td>\n      <td>6</td>\n      <td>2</td>\n      <td>1</td>\n      <td>3</td>\n      <td>0</td>\n    </tr>\n    <tr>\n      <th>...</th>\n      <td>...</td>\n      <td>...</td>\n      <td>...</td>\n      <td>...</td>\n      <td>...</td>\n      <td>...</td>\n      <td>...</td>\n      <td>...</td>\n      <td>...</td>\n      <td>...</td>\n      <td>...</td>\n      <td>...</td>\n      <td>...</td>\n      <td>...</td>\n    </tr>\n    <tr>\n      <th>146</th>\n      <td>29</td>\n      <td>1</td>\n      <td>3</td>\n      <td>146</td>\n      <td>364</td>\n      <td>1</td>\n      <td>0</td>\n      <td>197</td>\n      <td>0</td>\n      <td>3</td>\n      <td>1</td>\n      <td>3</td>\n      <td>0</td>\n      <td>0</td>\n    </tr>\n    <tr>\n      <th>147</th>\n      <td>30</td>\n      <td>1</td>\n      <td>1</td>\n      <td>160</td>\n      <td>496</td>\n      <td>1</td>\n      <td>0</td>\n      <td>183</td>\n      <td>1</td>\n      <td>3</td>\n      <td>2</td>\n      <td>2</td>\n      <td>3</td>\n      <td>1</td>\n    </tr>\n    <tr>\n      <th>148</th>\n      <td>53</td>\n      <td>1</td>\n      <td>0</td>\n      <td>139</td>\n      <td>447</td>\n      <td>1</td>\n      <td>1</td>\n      <td>146</td>\n      <td>0</td>\n      <td>4</td>\n      <td>2</td>\n      <td>0</td>\n      <td>0</td>\n      <td>1</td>\n    </tr>\n    <tr>\n      <th>149</th>\n      <td>49</td>\n      <td>0</td>\n      <td>0</td>\n      <td>148</td>\n      <td>311</td>\n      <td>1</td>\n      <td>2</td>\n      <td>89</td>\n      <td>0</td>\n      <td>6</td>\n      <td>2</td>\n      <td>0</td>\n      <td>0</td>\n      <td>1</td>\n    </tr>\n    <tr>\n      <th>150</th>\n      <td>38</td>\n      <td>0</td>\n      <td>1</td>\n      <td>153</td>\n      <td>564</td>\n      <td>0</td>\n      <td>1</td>\n      <td>81</td>\n      <td>0</td>\n      <td>6</td>\n      <td>1</td>\n      <td>4</td>\n      <td>1</td>\n      <td>1</td>\n    </tr>\n  </tbody>\n</table>\n<p>151 rows × 14 columns</p>\n</div>"
     },
     "metadata": {}
    }
   ]
  },
  {
   "cell_type": "code",
   "metadata": {
    "tags": [],
    "cell_id": "00023-e61c6d74-1c4e-4001-aa02-b9d5a2ce46bb",
    "deepnote_to_be_reexecuted": false,
    "source_hash": "7e65376f",
    "execution_start": 1620393718239,
    "execution_millis": 36,
    "deepnote_cell_type": "code"
   },
   "source": "df_concat = pd.concat([df, df_augmented])\ndf_concat\n# df_concat.isna().sum()",
   "execution_count": 86,
   "outputs": [
    {
     "output_type": "execute_result",
     "execution_count": 86,
     "data": {
      "application/vnd.deepnote.dataframe.v2+json": {
       "row_count": 454,
       "column_count": 14,
       "columns": [
        {
         "name": "age",
         "dtype": "int64",
         "stats": {
          "unique_count": 48,
          "nan_count": 0,
          "min": "29",
          "max": "77",
          "histogram": [
           {
            "bin_start": 29,
            "bin_end": 33.8,
            "count": 14
           },
           {
            "bin_start": 33.8,
            "bin_end": 38.6,
            "count": 24
           },
           {
            "bin_start": 38.6,
            "bin_end": 43.4,
            "count": 46
           },
           {
            "bin_start": 43.4,
            "bin_end": 48.2,
            "count": 49
           },
           {
            "bin_start": 48.2,
            "bin_end": 53,
            "count": 57
           },
           {
            "bin_start": 53,
            "bin_end": 57.8,
            "count": 67
           },
           {
            "bin_start": 57.8,
            "bin_end": 62.6,
            "count": 85
           },
           {
            "bin_start": 62.6,
            "bin_end": 67.4,
            "count": 64
           },
           {
            "bin_start": 67.4,
            "bin_end": 72.19999999999999,
            "count": 31
           },
           {
            "bin_start": 72.19999999999999,
            "bin_end": 77,
            "count": 17
           }
          ]
         }
        },
        {
         "name": "sex",
         "dtype": "int64",
         "stats": {
          "unique_count": 2,
          "nan_count": 0,
          "min": "0",
          "max": "1",
          "histogram": [
           {
            "bin_start": 0,
            "bin_end": 0.1,
            "count": 166
           },
           {
            "bin_start": 0.1,
            "bin_end": 0.2,
            "count": 0
           },
           {
            "bin_start": 0.2,
            "bin_end": 0.30000000000000004,
            "count": 0
           },
           {
            "bin_start": 0.30000000000000004,
            "bin_end": 0.4,
            "count": 0
           },
           {
            "bin_start": 0.4,
            "bin_end": 0.5,
            "count": 0
           },
           {
            "bin_start": 0.5,
            "bin_end": 0.6000000000000001,
            "count": 0
           },
           {
            "bin_start": 0.6000000000000001,
            "bin_end": 0.7000000000000001,
            "count": 0
           },
           {
            "bin_start": 0.7000000000000001,
            "bin_end": 0.8,
            "count": 0
           },
           {
            "bin_start": 0.8,
            "bin_end": 0.9,
            "count": 0
           },
           {
            "bin_start": 0.9,
            "bin_end": 1,
            "count": 288
           }
          ]
         }
        },
        {
         "name": "cp",
         "dtype": "int64",
         "stats": {
          "unique_count": 4,
          "nan_count": 0,
          "min": "0",
          "max": "3",
          "histogram": [
           {
            "bin_start": 0,
            "bin_end": 0.3,
            "count": 185
           },
           {
            "bin_start": 0.3,
            "bin_end": 0.6,
            "count": 0
           },
           {
            "bin_start": 0.6,
            "bin_end": 0.8999999999999999,
            "count": 0
           },
           {
            "bin_start": 0.8999999999999999,
            "bin_end": 1.2,
            "count": 83
           },
           {
            "bin_start": 1.2,
            "bin_end": 1.5,
            "count": 0
           },
           {
            "bin_start": 1.5,
            "bin_end": 1.7999999999999998,
            "count": 0
           },
           {
            "bin_start": 1.7999999999999998,
            "bin_end": 2.1,
            "count": 121
           },
           {
            "bin_start": 2.1,
            "bin_end": 2.4,
            "count": 0
           },
           {
            "bin_start": 2.4,
            "bin_end": 2.6999999999999997,
            "count": 0
           },
           {
            "bin_start": 2.6999999999999997,
            "bin_end": 3,
            "count": 65
           }
          ]
         }
        },
        {
         "name": "trestbps",
         "dtype": "int64",
         "stats": {
          "unique_count": 94,
          "nan_count": 0,
          "min": "94",
          "max": "200",
          "histogram": [
           {
            "bin_start": 94,
            "bin_end": 104.6,
            "count": 22
           },
           {
            "bin_start": 104.6,
            "bin_end": 115.2,
            "count": 59
           },
           {
            "bin_start": 115.2,
            "bin_end": 125.8,
            "count": 82
           },
           {
            "bin_start": 125.8,
            "bin_end": 136.4,
            "count": 89
           },
           {
            "bin_start": 136.4,
            "bin_end": 147,
            "count": 72
           },
           {
            "bin_start": 147,
            "bin_end": 157.6,
            "count": 41
           },
           {
            "bin_start": 157.6,
            "bin_end": 168.2,
            "count": 31
           },
           {
            "bin_start": 168.2,
            "bin_end": 178.8,
            "count": 28
           },
           {
            "bin_start": 178.8,
            "bin_end": 189.39999999999998,
            "count": 17
           },
           {
            "bin_start": 189.39999999999998,
            "bin_end": 200,
            "count": 13
           }
          ]
         }
        },
        {
         "name": "chol",
         "dtype": "int64",
         "stats": {
          "unique_count": 237,
          "nan_count": 0,
          "min": "126",
          "max": "564",
          "histogram": [
           {
            "bin_start": 126,
            "bin_end": 169.8,
            "count": 27
           },
           {
            "bin_start": 169.8,
            "bin_end": 213.6,
            "count": 90
           },
           {
            "bin_start": 213.6,
            "bin_end": 257.4,
            "count": 123
           },
           {
            "bin_start": 257.4,
            "bin_end": 301.2,
            "count": 84
           },
           {
            "bin_start": 301.2,
            "bin_end": 345,
            "count": 45
           },
           {
            "bin_start": 345,
            "bin_end": 388.79999999999995,
            "count": 22
           },
           {
            "bin_start": 388.79999999999995,
            "bin_end": 432.59999999999997,
            "count": 20
           },
           {
            "bin_start": 432.59999999999997,
            "bin_end": 476.4,
            "count": 18
           },
           {
            "bin_start": 476.4,
            "bin_end": 520.2,
            "count": 12
           },
           {
            "bin_start": 520.2,
            "bin_end": 564,
            "count": 13
           }
          ]
         }
        },
        {
         "name": "fbs",
         "dtype": "int64",
         "stats": {
          "unique_count": 2,
          "nan_count": 0,
          "min": "0",
          "max": "1",
          "histogram": [
           {
            "bin_start": 0,
            "bin_end": 0.1,
            "count": 337
           },
           {
            "bin_start": 0.1,
            "bin_end": 0.2,
            "count": 0
           },
           {
            "bin_start": 0.2,
            "bin_end": 0.30000000000000004,
            "count": 0
           },
           {
            "bin_start": 0.30000000000000004,
            "bin_end": 0.4,
            "count": 0
           },
           {
            "bin_start": 0.4,
            "bin_end": 0.5,
            "count": 0
           },
           {
            "bin_start": 0.5,
            "bin_end": 0.6000000000000001,
            "count": 0
           },
           {
            "bin_start": 0.6000000000000001,
            "bin_end": 0.7000000000000001,
            "count": 0
           },
           {
            "bin_start": 0.7000000000000001,
            "bin_end": 0.8,
            "count": 0
           },
           {
            "bin_start": 0.8,
            "bin_end": 0.9,
            "count": 0
           },
           {
            "bin_start": 0.9,
            "bin_end": 1,
            "count": 117
           }
          ]
         }
        },
        {
         "name": "restecg",
         "dtype": "int64",
         "stats": {
          "unique_count": 3,
          "nan_count": 0,
          "min": "0",
          "max": "2",
          "histogram": [
           {
            "bin_start": 0,
            "bin_end": 0.2,
            "count": 205
           },
           {
            "bin_start": 0.2,
            "bin_end": 0.4,
            "count": 0
           },
           {
            "bin_start": 0.4,
            "bin_end": 0.6000000000000001,
            "count": 0
           },
           {
            "bin_start": 0.6000000000000001,
            "bin_end": 0.8,
            "count": 0
           },
           {
            "bin_start": 0.8,
            "bin_end": 1,
            "count": 0
           },
           {
            "bin_start": 1,
            "bin_end": 1.2000000000000002,
            "count": 200
           },
           {
            "bin_start": 1.2000000000000002,
            "bin_end": 1.4000000000000001,
            "count": 0
           },
           {
            "bin_start": 1.4000000000000001,
            "bin_end": 1.6,
            "count": 0
           },
           {
            "bin_start": 1.6,
            "bin_end": 1.8,
            "count": 0
           },
           {
            "bin_start": 1.8,
            "bin_end": 2,
            "count": 49
           }
          ]
         }
        },
        {
         "name": "thalach",
         "dtype": "int64",
         "stats": {
          "unique_count": 120,
          "nan_count": 0,
          "min": "71",
          "max": "202",
          "histogram": [
           {
            "bin_start": 71,
            "bin_end": 84.1,
            "count": 20
           },
           {
            "bin_start": 84.1,
            "bin_end": 97.2,
            "count": 26
           },
           {
            "bin_start": 97.2,
            "bin_end": 110.3,
            "count": 24
           },
           {
            "bin_start": 110.3,
            "bin_end": 123.4,
            "count": 34
           },
           {
            "bin_start": 123.4,
            "bin_end": 136.5,
            "count": 50
           },
           {
            "bin_start": 136.5,
            "bin_end": 149.6,
            "count": 67
           },
           {
            "bin_start": 149.6,
            "bin_end": 162.7,
            "count": 95
           },
           {
            "bin_start": 162.7,
            "bin_end": 175.8,
            "count": 75
           },
           {
            "bin_start": 175.8,
            "bin_end": 188.89999999999998,
            "count": 43
           },
           {
            "bin_start": 188.89999999999998,
            "bin_end": 202,
            "count": 20
           }
          ]
         }
        },
        {
         "name": "exang",
         "dtype": "int64",
         "stats": {
          "unique_count": 2,
          "nan_count": 0,
          "min": "0",
          "max": "1",
          "histogram": [
           {
            "bin_start": 0,
            "bin_end": 0.1,
            "count": 281
           },
           {
            "bin_start": 0.1,
            "bin_end": 0.2,
            "count": 0
           },
           {
            "bin_start": 0.2,
            "bin_end": 0.30000000000000004,
            "count": 0
           },
           {
            "bin_start": 0.30000000000000004,
            "bin_end": 0.4,
            "count": 0
           },
           {
            "bin_start": 0.4,
            "bin_end": 0.5,
            "count": 0
           },
           {
            "bin_start": 0.5,
            "bin_end": 0.6000000000000001,
            "count": 0
           },
           {
            "bin_start": 0.6000000000000001,
            "bin_end": 0.7000000000000001,
            "count": 0
           },
           {
            "bin_start": 0.7000000000000001,
            "bin_end": 0.8,
            "count": 0
           },
           {
            "bin_start": 0.8,
            "bin_end": 0.9,
            "count": 0
           },
           {
            "bin_start": 0.9,
            "bin_end": 1,
            "count": 173
           }
          ]
         }
        },
        {
         "name": "oldpeak",
         "dtype": "float64",
         "stats": {
          "unique_count": 42,
          "nan_count": 0,
          "min": "0.0",
          "max": "6.2",
          "histogram": [
           {
            "bin_start": 0,
            "bin_end": 0.62,
            "count": 168
           },
           {
            "bin_start": 0.62,
            "bin_end": 1.24,
            "count": 76
           },
           {
            "bin_start": 1.24,
            "bin_end": 1.8599999999999999,
            "count": 40
           },
           {
            "bin_start": 1.8599999999999999,
            "bin_end": 2.48,
            "count": 40
           },
           {
            "bin_start": 2.48,
            "bin_end": 3.1,
            "count": 43
           },
           {
            "bin_start": 3.1,
            "bin_end": 3.7199999999999998,
            "count": 11
           },
           {
            "bin_start": 3.7199999999999998,
            "bin_end": 4.34,
            "count": 24
           },
           {
            "bin_start": 4.34,
            "bin_end": 4.96,
            "count": 1
           },
           {
            "bin_start": 4.96,
            "bin_end": 5.58,
            "count": 23
           },
           {
            "bin_start": 5.58,
            "bin_end": 6.2,
            "count": 28
           }
          ]
         }
        },
        {
         "name": "slope",
         "dtype": "int64",
         "stats": {
          "unique_count": 3,
          "nan_count": 0,
          "min": "0",
          "max": "2",
          "histogram": [
           {
            "bin_start": 0,
            "bin_end": 0.2,
            "count": 68
           },
           {
            "bin_start": 0.2,
            "bin_end": 0.4,
            "count": 0
           },
           {
            "bin_start": 0.4,
            "bin_end": 0.6000000000000001,
            "count": 0
           },
           {
            "bin_start": 0.6000000000000001,
            "bin_end": 0.8,
            "count": 0
           },
           {
            "bin_start": 0.8,
            "bin_end": 1,
            "count": 0
           },
           {
            "bin_start": 1,
            "bin_end": 1.2000000000000002,
            "count": 191
           },
           {
            "bin_start": 1.2000000000000002,
            "bin_end": 1.4000000000000001,
            "count": 0
           },
           {
            "bin_start": 1.4000000000000001,
            "bin_end": 1.6,
            "count": 0
           },
           {
            "bin_start": 1.6,
            "bin_end": 1.8,
            "count": 0
           },
           {
            "bin_start": 1.8,
            "bin_end": 2,
            "count": 195
           }
          ]
         }
        },
        {
         "name": "ca",
         "dtype": "int64",
         "stats": {
          "unique_count": 5,
          "nan_count": 0,
          "min": "0",
          "max": "4",
          "histogram": [
           {
            "bin_start": 0,
            "bin_end": 0.4,
            "count": 212
           },
           {
            "bin_start": 0.4,
            "bin_end": 0.8,
            "count": 0
           },
           {
            "bin_start": 0.8,
            "bin_end": 1.2000000000000002,
            "count": 92
           },
           {
            "bin_start": 1.2000000000000002,
            "bin_end": 1.6,
            "count": 0
           },
           {
            "bin_start": 1.6,
            "bin_end": 2,
            "count": 0
           },
           {
            "bin_start": 2,
            "bin_end": 2.4000000000000004,
            "count": 66
           },
           {
            "bin_start": 2.4000000000000004,
            "bin_end": 2.8000000000000003,
            "count": 0
           },
           {
            "bin_start": 2.8000000000000003,
            "bin_end": 3.2,
            "count": 49
           },
           {
            "bin_start": 3.2,
            "bin_end": 3.6,
            "count": 0
           },
           {
            "bin_start": 3.6,
            "bin_end": 4,
            "count": 35
           }
          ]
         }
        },
        {
         "name": "thal",
         "dtype": "int64",
         "stats": {
          "unique_count": 4,
          "nan_count": 0,
          "min": "0",
          "max": "3",
          "histogram": [
           {
            "bin_start": 0,
            "bin_end": 0.3,
            "count": 46
           },
           {
            "bin_start": 0.3,
            "bin_end": 0.6,
            "count": 0
           },
           {
            "bin_start": 0.6,
            "bin_end": 0.8999999999999999,
            "count": 0
           },
           {
            "bin_start": 0.8999999999999999,
            "bin_end": 1.2,
            "count": 48
           },
           {
            "bin_start": 1.2,
            "bin_end": 1.5,
            "count": 0
           },
           {
            "bin_start": 1.5,
            "bin_end": 1.7999999999999998,
            "count": 0
           },
           {
            "bin_start": 1.7999999999999998,
            "bin_end": 2.1,
            "count": 206
           },
           {
            "bin_start": 2.1,
            "bin_end": 2.4,
            "count": 0
           },
           {
            "bin_start": 2.4,
            "bin_end": 2.6999999999999997,
            "count": 0
           },
           {
            "bin_start": 2.6999999999999997,
            "bin_end": 3,
            "count": 154
           }
          ]
         }
        },
        {
         "name": "target",
         "dtype": "int64",
         "stats": {
          "unique_count": 2,
          "nan_count": 0,
          "min": "0",
          "max": "1",
          "histogram": [
           {
            "bin_start": 0,
            "bin_end": 0.1,
            "count": 214
           },
           {
            "bin_start": 0.1,
            "bin_end": 0.2,
            "count": 0
           },
           {
            "bin_start": 0.2,
            "bin_end": 0.30000000000000004,
            "count": 0
           },
           {
            "bin_start": 0.30000000000000004,
            "bin_end": 0.4,
            "count": 0
           },
           {
            "bin_start": 0.4,
            "bin_end": 0.5,
            "count": 0
           },
           {
            "bin_start": 0.5,
            "bin_end": 0.6000000000000001,
            "count": 0
           },
           {
            "bin_start": 0.6000000000000001,
            "bin_end": 0.7000000000000001,
            "count": 0
           },
           {
            "bin_start": 0.7000000000000001,
            "bin_end": 0.8,
            "count": 0
           },
           {
            "bin_start": 0.8,
            "bin_end": 0.9,
            "count": 0
           },
           {
            "bin_start": 0.9,
            "bin_end": 1,
            "count": 240
           }
          ]
         }
        },
        {
         "name": "_deepnote_index_column",
         "dtype": "int64"
        }
       ],
       "rows_top": [
        {
         "age": 63,
         "sex": 1,
         "cp": 3,
         "trestbps": 145,
         "chol": 233,
         "fbs": 1,
         "restecg": 0,
         "thalach": 150,
         "exang": 0,
         "oldpeak": 2.3,
         "slope": 0,
         "ca": 0,
         "thal": 1,
         "target": 1,
         "_deepnote_index_column": 0
        },
        {
         "age": 37,
         "sex": 1,
         "cp": 2,
         "trestbps": 130,
         "chol": 250,
         "fbs": 0,
         "restecg": 1,
         "thalach": 187,
         "exang": 0,
         "oldpeak": 3.5,
         "slope": 0,
         "ca": 0,
         "thal": 2,
         "target": 1,
         "_deepnote_index_column": 1
        },
        {
         "age": 41,
         "sex": 0,
         "cp": 1,
         "trestbps": 130,
         "chol": 204,
         "fbs": 0,
         "restecg": 0,
         "thalach": 172,
         "exang": 0,
         "oldpeak": 1.4,
         "slope": 2,
         "ca": 0,
         "thal": 2,
         "target": 1,
         "_deepnote_index_column": 2
        },
        {
         "age": 56,
         "sex": 1,
         "cp": 1,
         "trestbps": 120,
         "chol": 236,
         "fbs": 0,
         "restecg": 1,
         "thalach": 178,
         "exang": 0,
         "oldpeak": 0.8,
         "slope": 2,
         "ca": 0,
         "thal": 2,
         "target": 1,
         "_deepnote_index_column": 3
        },
        {
         "age": 57,
         "sex": 0,
         "cp": 0,
         "trestbps": 120,
         "chol": 354,
         "fbs": 0,
         "restecg": 1,
         "thalach": 163,
         "exang": 1,
         "oldpeak": 0.6,
         "slope": 2,
         "ca": 0,
         "thal": 2,
         "target": 1,
         "_deepnote_index_column": 4
        },
        {
         "age": 57,
         "sex": 1,
         "cp": 0,
         "trestbps": 140,
         "chol": 192,
         "fbs": 0,
         "restecg": 1,
         "thalach": 148,
         "exang": 0,
         "oldpeak": 0.4,
         "slope": 1,
         "ca": 0,
         "thal": 1,
         "target": 1,
         "_deepnote_index_column": 5
        },
        {
         "age": 56,
         "sex": 0,
         "cp": 1,
         "trestbps": 140,
         "chol": 294,
         "fbs": 0,
         "restecg": 0,
         "thalach": 153,
         "exang": 0,
         "oldpeak": 1.3,
         "slope": 1,
         "ca": 0,
         "thal": 2,
         "target": 1,
         "_deepnote_index_column": 6
        },
        {
         "age": 44,
         "sex": 1,
         "cp": 1,
         "trestbps": 120,
         "chol": 263,
         "fbs": 0,
         "restecg": 1,
         "thalach": 173,
         "exang": 0,
         "oldpeak": 0,
         "slope": 2,
         "ca": 0,
         "thal": 3,
         "target": 1,
         "_deepnote_index_column": 7
        },
        {
         "age": 52,
         "sex": 1,
         "cp": 2,
         "trestbps": 172,
         "chol": 199,
         "fbs": 1,
         "restecg": 1,
         "thalach": 162,
         "exang": 0,
         "oldpeak": 0.5,
         "slope": 2,
         "ca": 0,
         "thal": 3,
         "target": 1,
         "_deepnote_index_column": 8
        },
        {
         "age": 57,
         "sex": 1,
         "cp": 2,
         "trestbps": 150,
         "chol": 168,
         "fbs": 0,
         "restecg": 1,
         "thalach": 174,
         "exang": 0,
         "oldpeak": 1.6,
         "slope": 2,
         "ca": 0,
         "thal": 2,
         "target": 1,
         "_deepnote_index_column": 9
        },
        {
         "age": 54,
         "sex": 1,
         "cp": 0,
         "trestbps": 140,
         "chol": 239,
         "fbs": 0,
         "restecg": 1,
         "thalach": 160,
         "exang": 0,
         "oldpeak": 1.2,
         "slope": 2,
         "ca": 0,
         "thal": 2,
         "target": 1,
         "_deepnote_index_column": 10
        },
        {
         "age": 48,
         "sex": 0,
         "cp": 2,
         "trestbps": 130,
         "chol": 275,
         "fbs": 0,
         "restecg": 1,
         "thalach": 139,
         "exang": 0,
         "oldpeak": 0.2,
         "slope": 2,
         "ca": 0,
         "thal": 2,
         "target": 1,
         "_deepnote_index_column": 11
        },
        {
         "age": 49,
         "sex": 1,
         "cp": 1,
         "trestbps": 130,
         "chol": 266,
         "fbs": 0,
         "restecg": 1,
         "thalach": 171,
         "exang": 0,
         "oldpeak": 0.6,
         "slope": 2,
         "ca": 0,
         "thal": 2,
         "target": 1,
         "_deepnote_index_column": 12
        },
        {
         "age": 64,
         "sex": 1,
         "cp": 3,
         "trestbps": 110,
         "chol": 211,
         "fbs": 0,
         "restecg": 0,
         "thalach": 144,
         "exang": 1,
         "oldpeak": 1.8,
         "slope": 1,
         "ca": 0,
         "thal": 2,
         "target": 1,
         "_deepnote_index_column": 13
        },
        {
         "age": 58,
         "sex": 0,
         "cp": 3,
         "trestbps": 150,
         "chol": 283,
         "fbs": 1,
         "restecg": 0,
         "thalach": 162,
         "exang": 0,
         "oldpeak": 1,
         "slope": 2,
         "ca": 0,
         "thal": 2,
         "target": 1,
         "_deepnote_index_column": 14
        },
        {
         "age": 50,
         "sex": 0,
         "cp": 2,
         "trestbps": 120,
         "chol": 219,
         "fbs": 0,
         "restecg": 1,
         "thalach": 158,
         "exang": 0,
         "oldpeak": 1.6,
         "slope": 1,
         "ca": 0,
         "thal": 2,
         "target": 1,
         "_deepnote_index_column": 15
        },
        {
         "age": 58,
         "sex": 0,
         "cp": 2,
         "trestbps": 120,
         "chol": 340,
         "fbs": 0,
         "restecg": 1,
         "thalach": 172,
         "exang": 0,
         "oldpeak": 0,
         "slope": 2,
         "ca": 0,
         "thal": 2,
         "target": 1,
         "_deepnote_index_column": 16
        },
        {
         "age": 66,
         "sex": 0,
         "cp": 3,
         "trestbps": 150,
         "chol": 226,
         "fbs": 0,
         "restecg": 1,
         "thalach": 114,
         "exang": 0,
         "oldpeak": 2.6,
         "slope": 0,
         "ca": 0,
         "thal": 2,
         "target": 1,
         "_deepnote_index_column": 17
        },
        {
         "age": 43,
         "sex": 1,
         "cp": 0,
         "trestbps": 150,
         "chol": 247,
         "fbs": 0,
         "restecg": 1,
         "thalach": 171,
         "exang": 0,
         "oldpeak": 1.5,
         "slope": 2,
         "ca": 0,
         "thal": 2,
         "target": 1,
         "_deepnote_index_column": 18
        },
        {
         "age": 69,
         "sex": 0,
         "cp": 3,
         "trestbps": 140,
         "chol": 239,
         "fbs": 0,
         "restecg": 1,
         "thalach": 151,
         "exang": 0,
         "oldpeak": 1.8,
         "slope": 2,
         "ca": 2,
         "thal": 2,
         "target": 1,
         "_deepnote_index_column": 19
        },
        {
         "age": 59,
         "sex": 1,
         "cp": 0,
         "trestbps": 135,
         "chol": 234,
         "fbs": 0,
         "restecg": 1,
         "thalach": 161,
         "exang": 0,
         "oldpeak": 0.5,
         "slope": 1,
         "ca": 0,
         "thal": 3,
         "target": 1,
         "_deepnote_index_column": 20
        },
        {
         "age": 44,
         "sex": 1,
         "cp": 2,
         "trestbps": 130,
         "chol": 233,
         "fbs": 0,
         "restecg": 1,
         "thalach": 179,
         "exang": 1,
         "oldpeak": 0.4,
         "slope": 2,
         "ca": 0,
         "thal": 2,
         "target": 1,
         "_deepnote_index_column": 21
        },
        {
         "age": 42,
         "sex": 1,
         "cp": 0,
         "trestbps": 140,
         "chol": 226,
         "fbs": 0,
         "restecg": 1,
         "thalach": 178,
         "exang": 0,
         "oldpeak": 0,
         "slope": 2,
         "ca": 0,
         "thal": 2,
         "target": 1,
         "_deepnote_index_column": 22
        },
        {
         "age": 61,
         "sex": 1,
         "cp": 2,
         "trestbps": 150,
         "chol": 243,
         "fbs": 1,
         "restecg": 1,
         "thalach": 137,
         "exang": 1,
         "oldpeak": 1,
         "slope": 1,
         "ca": 0,
         "thal": 2,
         "target": 1,
         "_deepnote_index_column": 23
        },
        {
         "age": 40,
         "sex": 1,
         "cp": 3,
         "trestbps": 140,
         "chol": 199,
         "fbs": 0,
         "restecg": 1,
         "thalach": 178,
         "exang": 1,
         "oldpeak": 1.4,
         "slope": 2,
         "ca": 0,
         "thal": 3,
         "target": 1,
         "_deepnote_index_column": 24
        },
        {
         "age": 71,
         "sex": 0,
         "cp": 1,
         "trestbps": 160,
         "chol": 302,
         "fbs": 0,
         "restecg": 1,
         "thalach": 162,
         "exang": 0,
         "oldpeak": 0.4,
         "slope": 2,
         "ca": 2,
         "thal": 2,
         "target": 1,
         "_deepnote_index_column": 25
        },
        {
         "age": 59,
         "sex": 1,
         "cp": 2,
         "trestbps": 150,
         "chol": 212,
         "fbs": 1,
         "restecg": 1,
         "thalach": 157,
         "exang": 0,
         "oldpeak": 1.6,
         "slope": 2,
         "ca": 0,
         "thal": 2,
         "target": 1,
         "_deepnote_index_column": 26
        },
        {
         "age": 51,
         "sex": 1,
         "cp": 2,
         "trestbps": 110,
         "chol": 175,
         "fbs": 0,
         "restecg": 1,
         "thalach": 123,
         "exang": 0,
         "oldpeak": 0.6,
         "slope": 2,
         "ca": 0,
         "thal": 2,
         "target": 1,
         "_deepnote_index_column": 27
        },
        {
         "age": 65,
         "sex": 0,
         "cp": 2,
         "trestbps": 140,
         "chol": 417,
         "fbs": 1,
         "restecg": 0,
         "thalach": 157,
         "exang": 0,
         "oldpeak": 0.8,
         "slope": 2,
         "ca": 1,
         "thal": 2,
         "target": 1,
         "_deepnote_index_column": 28
        },
        {
         "age": 53,
         "sex": 1,
         "cp": 2,
         "trestbps": 130,
         "chol": 197,
         "fbs": 1,
         "restecg": 0,
         "thalach": 152,
         "exang": 0,
         "oldpeak": 1.2,
         "slope": 0,
         "ca": 0,
         "thal": 2,
         "target": 1,
         "_deepnote_index_column": 29
        },
        {
         "age": 41,
         "sex": 0,
         "cp": 1,
         "trestbps": 105,
         "chol": 198,
         "fbs": 0,
         "restecg": 1,
         "thalach": 168,
         "exang": 0,
         "oldpeak": 0,
         "slope": 2,
         "ca": 1,
         "thal": 2,
         "target": 1,
         "_deepnote_index_column": 30
        },
        {
         "age": 65,
         "sex": 1,
         "cp": 0,
         "trestbps": 120,
         "chol": 177,
         "fbs": 0,
         "restecg": 1,
         "thalach": 140,
         "exang": 0,
         "oldpeak": 0.4,
         "slope": 2,
         "ca": 0,
         "thal": 3,
         "target": 1,
         "_deepnote_index_column": 31
        },
        {
         "age": 44,
         "sex": 1,
         "cp": 1,
         "trestbps": 130,
         "chol": 219,
         "fbs": 0,
         "restecg": 0,
         "thalach": 188,
         "exang": 0,
         "oldpeak": 0,
         "slope": 2,
         "ca": 0,
         "thal": 2,
         "target": 1,
         "_deepnote_index_column": 32
        },
        {
         "age": 54,
         "sex": 1,
         "cp": 2,
         "trestbps": 125,
         "chol": 273,
         "fbs": 0,
         "restecg": 0,
         "thalach": 152,
         "exang": 0,
         "oldpeak": 0.5,
         "slope": 0,
         "ca": 1,
         "thal": 2,
         "target": 1,
         "_deepnote_index_column": 33
        },
        {
         "age": 51,
         "sex": 1,
         "cp": 3,
         "trestbps": 125,
         "chol": 213,
         "fbs": 0,
         "restecg": 0,
         "thalach": 125,
         "exang": 1,
         "oldpeak": 1.4,
         "slope": 2,
         "ca": 1,
         "thal": 2,
         "target": 1,
         "_deepnote_index_column": 34
        }
       ],
       "rows_bottom": [
        {
         "age": 42,
         "sex": 0,
         "cp": 0,
         "trestbps": 177,
         "chol": 564,
         "fbs": 0,
         "restecg": 0,
         "thalach": 151,
         "exang": 0,
         "oldpeak": 6,
         "slope": 1,
         "ca": 4,
         "thal": 1,
         "target": 1,
         "_deepnote_index_column": 115
        },
        {
         "age": 32,
         "sex": 1,
         "cp": 3,
         "trestbps": 136,
         "chol": 374,
         "fbs": 1,
         "restecg": 0,
         "thalach": 171,
         "exang": 1,
         "oldpeak": 0,
         "slope": 1,
         "ca": 2,
         "thal": 1,
         "target": 1,
         "_deepnote_index_column": 116
        },
        {
         "age": 51,
         "sex": 0,
         "cp": 0,
         "trestbps": 114,
         "chol": 270,
         "fbs": 0,
         "restecg": 2,
         "thalach": 153,
         "exang": 0,
         "oldpeak": 5,
         "slope": 0,
         "ca": 3,
         "thal": 3,
         "target": 1,
         "_deepnote_index_column": 117
        },
        {
         "age": 73,
         "sex": 0,
         "cp": 2,
         "trestbps": 109,
         "chol": 513,
         "fbs": 1,
         "restecg": 0,
         "thalach": 88,
         "exang": 0,
         "oldpeak": 0,
         "slope": 2,
         "ca": 4,
         "thal": 0,
         "target": 0,
         "_deepnote_index_column": 118
        },
        {
         "age": 36,
         "sex": 1,
         "cp": 0,
         "trestbps": 170,
         "chol": 306,
         "fbs": 1,
         "restecg": 2,
         "thalach": 90,
         "exang": 1,
         "oldpeak": 1,
         "slope": 0,
         "ca": 4,
         "thal": 3,
         "target": 1,
         "_deepnote_index_column": 119
        },
        {
         "age": 62,
         "sex": 0,
         "cp": 2,
         "trestbps": 138,
         "chol": 142,
         "fbs": 0,
         "restecg": 0,
         "thalach": 96,
         "exang": 0,
         "oldpeak": 1,
         "slope": 0,
         "ca": 0,
         "thal": 2,
         "target": 0,
         "_deepnote_index_column": 120
        },
        {
         "age": 61,
         "sex": 1,
         "cp": 1,
         "trestbps": 108,
         "chol": 377,
         "fbs": 0,
         "restecg": 2,
         "thalach": 75,
         "exang": 0,
         "oldpeak": 2,
         "slope": 0,
         "ca": 1,
         "thal": 0,
         "target": 1,
         "_deepnote_index_column": 121
        },
        {
         "age": 51,
         "sex": 0,
         "cp": 2,
         "trestbps": 182,
         "chol": 242,
         "fbs": 0,
         "restecg": 2,
         "thalach": 132,
         "exang": 1,
         "oldpeak": 0,
         "slope": 2,
         "ca": 1,
         "thal": 0,
         "target": 0,
         "_deepnote_index_column": 122
        },
        {
         "age": 73,
         "sex": 1,
         "cp": 2,
         "trestbps": 103,
         "chol": 373,
         "fbs": 0,
         "restecg": 2,
         "thalach": 76,
         "exang": 1,
         "oldpeak": 3,
         "slope": 2,
         "ca": 2,
         "thal": 3,
         "target": 1,
         "_deepnote_index_column": 123
        },
        {
         "age": 66,
         "sex": 1,
         "cp": 1,
         "trestbps": 179,
         "chol": 349,
         "fbs": 1,
         "restecg": 1,
         "thalach": 164,
         "exang": 1,
         "oldpeak": 4,
         "slope": 0,
         "ca": 1,
         "thal": 0,
         "target": 0,
         "_deepnote_index_column": 124
        },
        {
         "age": 65,
         "sex": 0,
         "cp": 1,
         "trestbps": 109,
         "chol": 360,
         "fbs": 0,
         "restecg": 1,
         "thalach": 190,
         "exang": 0,
         "oldpeak": 5,
         "slope": 1,
         "ca": 2,
         "thal": 0,
         "target": 0,
         "_deepnote_index_column": 125
        },
        {
         "age": 76,
         "sex": 1,
         "cp": 0,
         "trestbps": 161,
         "chol": 329,
         "fbs": 0,
         "restecg": 2,
         "thalach": 139,
         "exang": 1,
         "oldpeak": 6,
         "slope": 1,
         "ca": 0,
         "thal": 2,
         "target": 1,
         "_deepnote_index_column": 126
        },
        {
         "age": 54,
         "sex": 0,
         "cp": 3,
         "trestbps": 121,
         "chol": 168,
         "fbs": 1,
         "restecg": 2,
         "thalach": 144,
         "exang": 1,
         "oldpeak": 1,
         "slope": 1,
         "ca": 0,
         "thal": 3,
         "target": 0,
         "_deepnote_index_column": 127
        },
        {
         "age": 63,
         "sex": 1,
         "cp": 2,
         "trestbps": 174,
         "chol": 218,
         "fbs": 0,
         "restecg": 0,
         "thalach": 199,
         "exang": 1,
         "oldpeak": 2,
         "slope": 2,
         "ca": 3,
         "thal": 0,
         "target": 1,
         "_deepnote_index_column": 128
        },
        {
         "age": 46,
         "sex": 1,
         "cp": 0,
         "trestbps": 193,
         "chol": 416,
         "fbs": 0,
         "restecg": 1,
         "thalach": 120,
         "exang": 1,
         "oldpeak": 2,
         "slope": 2,
         "ca": 0,
         "thal": 3,
         "target": 1,
         "_deepnote_index_column": 129
        },
        {
         "age": 75,
         "sex": 1,
         "cp": 0,
         "trestbps": 175,
         "chol": 380,
         "fbs": 0,
         "restecg": 2,
         "thalach": 171,
         "exang": 0,
         "oldpeak": 0,
         "slope": 0,
         "ca": 3,
         "thal": 1,
         "target": 1,
         "_deepnote_index_column": 130
        },
        {
         "age": 36,
         "sex": 0,
         "cp": 0,
         "trestbps": 126,
         "chol": 440,
         "fbs": 0,
         "restecg": 0,
         "thalach": 118,
         "exang": 1,
         "oldpeak": 1,
         "slope": 1,
         "ca": 1,
         "thal": 2,
         "target": 0,
         "_deepnote_index_column": 131
        },
        {
         "age": 36,
         "sex": 1,
         "cp": 0,
         "trestbps": 148,
         "chol": 421,
         "fbs": 0,
         "restecg": 0,
         "thalach": 130,
         "exang": 0,
         "oldpeak": 6,
         "slope": 2,
         "ca": 2,
         "thal": 1,
         "target": 1,
         "_deepnote_index_column": 132
        },
        {
         "age": 66,
         "sex": 0,
         "cp": 0,
         "trestbps": 156,
         "chol": 219,
         "fbs": 0,
         "restecg": 1,
         "thalach": 176,
         "exang": 0,
         "oldpeak": 6,
         "slope": 2,
         "ca": 1,
         "thal": 2,
         "target": 0,
         "_deepnote_index_column": 133
        },
        {
         "age": 42,
         "sex": 1,
         "cp": 2,
         "trestbps": 179,
         "chol": 258,
         "fbs": 0,
         "restecg": 1,
         "thalach": 105,
         "exang": 1,
         "oldpeak": 5,
         "slope": 1,
         "ca": 0,
         "thal": 0,
         "target": 1,
         "_deepnote_index_column": 134
        },
        {
         "age": 45,
         "sex": 1,
         "cp": 2,
         "trestbps": 107,
         "chol": 557,
         "fbs": 0,
         "restecg": 1,
         "thalach": 191,
         "exang": 1,
         "oldpeak": 3,
         "slope": 1,
         "ca": 3,
         "thal": 3,
         "target": 0,
         "_deepnote_index_column": 135
        },
        {
         "age": 66,
         "sex": 0,
         "cp": 3,
         "trestbps": 153,
         "chol": 204,
         "fbs": 1,
         "restecg": 0,
         "thalach": 75,
         "exang": 1,
         "oldpeak": 2,
         "slope": 0,
         "ca": 0,
         "thal": 0,
         "target": 0,
         "_deepnote_index_column": 136
        },
        {
         "age": 58,
         "sex": 1,
         "cp": 3,
         "trestbps": 160,
         "chol": 450,
         "fbs": 1,
         "restecg": 1,
         "thalach": 85,
         "exang": 0,
         "oldpeak": 1,
         "slope": 0,
         "ca": 4,
         "thal": 3,
         "target": 1,
         "_deepnote_index_column": 137
        },
        {
         "age": 51,
         "sex": 1,
         "cp": 1,
         "trestbps": 179,
         "chol": 401,
         "fbs": 0,
         "restecg": 1,
         "thalach": 131,
         "exang": 1,
         "oldpeak": 2,
         "slope": 2,
         "ca": 3,
         "thal": 0,
         "target": 1,
         "_deepnote_index_column": 138
        },
        {
         "age": 60,
         "sex": 0,
         "cp": 1,
         "trestbps": 110,
         "chol": 470,
         "fbs": 0,
         "restecg": 0,
         "thalach": 130,
         "exang": 0,
         "oldpeak": 2,
         "slope": 1,
         "ca": 3,
         "thal": 2,
         "target": 1,
         "_deepnote_index_column": 139
        },
        {
         "age": 70,
         "sex": 1,
         "cp": 0,
         "trestbps": 170,
         "chol": 427,
         "fbs": 1,
         "restecg": 1,
         "thalach": 166,
         "exang": 1,
         "oldpeak": 6,
         "slope": 2,
         "ca": 2,
         "thal": 0,
         "target": 1,
         "_deepnote_index_column": 140
        },
        {
         "age": 51,
         "sex": 0,
         "cp": 2,
         "trestbps": 120,
         "chol": 226,
         "fbs": 0,
         "restecg": 1,
         "thalach": 98,
         "exang": 1,
         "oldpeak": 6,
         "slope": 1,
         "ca": 3,
         "thal": 2,
         "target": 0,
         "_deepnote_index_column": 141
        },
        {
         "age": 63,
         "sex": 1,
         "cp": 3,
         "trestbps": 113,
         "chol": 177,
         "fbs": 1,
         "restecg": 1,
         "thalach": 161,
         "exang": 0,
         "oldpeak": 6,
         "slope": 1,
         "ca": 4,
         "thal": 1,
         "target": 1,
         "_deepnote_index_column": 142
        },
        {
         "age": 64,
         "sex": 0,
         "cp": 2,
         "trestbps": 96,
         "chol": 356,
         "fbs": 0,
         "restecg": 1,
         "thalach": 128,
         "exang": 0,
         "oldpeak": 1,
         "slope": 0,
         "ca": 1,
         "thal": 2,
         "target": 1,
         "_deepnote_index_column": 143
        },
        {
         "age": 43,
         "sex": 1,
         "cp": 2,
         "trestbps": 94,
         "chol": 518,
         "fbs": 0,
         "restecg": 0,
         "thalach": 115,
         "exang": 1,
         "oldpeak": 5,
         "slope": 0,
         "ca": 4,
         "thal": 2,
         "target": 0,
         "_deepnote_index_column": 144
        },
        {
         "age": 64,
         "sex": 1,
         "cp": 0,
         "trestbps": 166,
         "chol": 171,
         "fbs": 0,
         "restecg": 1,
         "thalach": 134,
         "exang": 0,
         "oldpeak": 4,
         "slope": 1,
         "ca": 0,
         "thal": 3,
         "target": 0,
         "_deepnote_index_column": 145
        },
        {
         "age": 29,
         "sex": 1,
         "cp": 3,
         "trestbps": 146,
         "chol": 364,
         "fbs": 1,
         "restecg": 0,
         "thalach": 197,
         "exang": 0,
         "oldpeak": 3,
         "slope": 1,
         "ca": 3,
         "thal": 0,
         "target": 0,
         "_deepnote_index_column": 146
        },
        {
         "age": 30,
         "sex": 1,
         "cp": 1,
         "trestbps": 160,
         "chol": 496,
         "fbs": 1,
         "restecg": 0,
         "thalach": 183,
         "exang": 1,
         "oldpeak": 3,
         "slope": 2,
         "ca": 2,
         "thal": 3,
         "target": 1,
         "_deepnote_index_column": 147
        },
        {
         "age": 53,
         "sex": 1,
         "cp": 0,
         "trestbps": 139,
         "chol": 447,
         "fbs": 1,
         "restecg": 1,
         "thalach": 146,
         "exang": 0,
         "oldpeak": 4,
         "slope": 2,
         "ca": 0,
         "thal": 0,
         "target": 1,
         "_deepnote_index_column": 148
        },
        {
         "age": 49,
         "sex": 0,
         "cp": 0,
         "trestbps": 148,
         "chol": 311,
         "fbs": 1,
         "restecg": 2,
         "thalach": 89,
         "exang": 0,
         "oldpeak": 6,
         "slope": 2,
         "ca": 0,
         "thal": 0,
         "target": 1,
         "_deepnote_index_column": 149
        },
        {
         "age": 38,
         "sex": 0,
         "cp": 1,
         "trestbps": 153,
         "chol": 564,
         "fbs": 0,
         "restecg": 1,
         "thalach": 81,
         "exang": 0,
         "oldpeak": 6,
         "slope": 1,
         "ca": 4,
         "thal": 1,
         "target": 1,
         "_deepnote_index_column": 150
        }
       ]
      },
      "text/plain": "     age  sex  cp  trestbps  chol  fbs  restecg  thalach  exang  oldpeak  \\\n0     63    1   3       145   233    1        0      150      0      2.3   \n1     37    1   2       130   250    0        1      187      0      3.5   \n2     41    0   1       130   204    0        0      172      0      1.4   \n3     56    1   1       120   236    0        1      178      0      0.8   \n4     57    0   0       120   354    0        1      163      1      0.6   \n..   ...  ...  ..       ...   ...  ...      ...      ...    ...      ...   \n146   29    1   3       146   364    1        0      197      0      3.0   \n147   30    1   1       160   496    1        0      183      1      3.0   \n148   53    1   0       139   447    1        1      146      0      4.0   \n149   49    0   0       148   311    1        2       89      0      6.0   \n150   38    0   1       153   564    0        1       81      0      6.0   \n\n     slope  ca  thal  target  \n0        0   0     1       1  \n1        0   0     2       1  \n2        2   0     2       1  \n3        2   0     2       1  \n4        2   0     2       1  \n..     ...  ..   ...     ...  \n146      1   3     0       0  \n147      2   2     3       1  \n148      2   0     0       1  \n149      2   0     0       1  \n150      1   4     1       1  \n\n[454 rows x 14 columns]",
      "text/html": "<div>\n<style scoped>\n    .dataframe tbody tr th:only-of-type {\n        vertical-align: middle;\n    }\n\n    .dataframe tbody tr th {\n        vertical-align: top;\n    }\n\n    .dataframe thead th {\n        text-align: right;\n    }\n</style>\n<table border=\"1\" class=\"dataframe\">\n  <thead>\n    <tr style=\"text-align: right;\">\n      <th></th>\n      <th>age</th>\n      <th>sex</th>\n      <th>cp</th>\n      <th>trestbps</th>\n      <th>chol</th>\n      <th>fbs</th>\n      <th>restecg</th>\n      <th>thalach</th>\n      <th>exang</th>\n      <th>oldpeak</th>\n      <th>slope</th>\n      <th>ca</th>\n      <th>thal</th>\n      <th>target</th>\n    </tr>\n  </thead>\n  <tbody>\n    <tr>\n      <th>0</th>\n      <td>63</td>\n      <td>1</td>\n      <td>3</td>\n      <td>145</td>\n      <td>233</td>\n      <td>1</td>\n      <td>0</td>\n      <td>150</td>\n      <td>0</td>\n      <td>2.3</td>\n      <td>0</td>\n      <td>0</td>\n      <td>1</td>\n      <td>1</td>\n    </tr>\n    <tr>\n      <th>1</th>\n      <td>37</td>\n      <td>1</td>\n      <td>2</td>\n      <td>130</td>\n      <td>250</td>\n      <td>0</td>\n      <td>1</td>\n      <td>187</td>\n      <td>0</td>\n      <td>3.5</td>\n      <td>0</td>\n      <td>0</td>\n      <td>2</td>\n      <td>1</td>\n    </tr>\n    <tr>\n      <th>2</th>\n      <td>41</td>\n      <td>0</td>\n      <td>1</td>\n      <td>130</td>\n      <td>204</td>\n      <td>0</td>\n      <td>0</td>\n      <td>172</td>\n      <td>0</td>\n      <td>1.4</td>\n      <td>2</td>\n      <td>0</td>\n      <td>2</td>\n      <td>1</td>\n    </tr>\n    <tr>\n      <th>3</th>\n      <td>56</td>\n      <td>1</td>\n      <td>1</td>\n      <td>120</td>\n      <td>236</td>\n      <td>0</td>\n      <td>1</td>\n      <td>178</td>\n      <td>0</td>\n      <td>0.8</td>\n      <td>2</td>\n      <td>0</td>\n      <td>2</td>\n      <td>1</td>\n    </tr>\n    <tr>\n      <th>4</th>\n      <td>57</td>\n      <td>0</td>\n      <td>0</td>\n      <td>120</td>\n      <td>354</td>\n      <td>0</td>\n      <td>1</td>\n      <td>163</td>\n      <td>1</td>\n      <td>0.6</td>\n      <td>2</td>\n      <td>0</td>\n      <td>2</td>\n      <td>1</td>\n    </tr>\n    <tr>\n      <th>...</th>\n      <td>...</td>\n      <td>...</td>\n      <td>...</td>\n      <td>...</td>\n      <td>...</td>\n      <td>...</td>\n      <td>...</td>\n      <td>...</td>\n      <td>...</td>\n      <td>...</td>\n      <td>...</td>\n      <td>...</td>\n      <td>...</td>\n      <td>...</td>\n    </tr>\n    <tr>\n      <th>146</th>\n      <td>29</td>\n      <td>1</td>\n      <td>3</td>\n      <td>146</td>\n      <td>364</td>\n      <td>1</td>\n      <td>0</td>\n      <td>197</td>\n      <td>0</td>\n      <td>3.0</td>\n      <td>1</td>\n      <td>3</td>\n      <td>0</td>\n      <td>0</td>\n    </tr>\n    <tr>\n      <th>147</th>\n      <td>30</td>\n      <td>1</td>\n      <td>1</td>\n      <td>160</td>\n      <td>496</td>\n      <td>1</td>\n      <td>0</td>\n      <td>183</td>\n      <td>1</td>\n      <td>3.0</td>\n      <td>2</td>\n      <td>2</td>\n      <td>3</td>\n      <td>1</td>\n    </tr>\n    <tr>\n      <th>148</th>\n      <td>53</td>\n      <td>1</td>\n      <td>0</td>\n      <td>139</td>\n      <td>447</td>\n      <td>1</td>\n      <td>1</td>\n      <td>146</td>\n      <td>0</td>\n      <td>4.0</td>\n      <td>2</td>\n      <td>0</td>\n      <td>0</td>\n      <td>1</td>\n    </tr>\n    <tr>\n      <th>149</th>\n      <td>49</td>\n      <td>0</td>\n      <td>0</td>\n      <td>148</td>\n      <td>311</td>\n      <td>1</td>\n      <td>2</td>\n      <td>89</td>\n      <td>0</td>\n      <td>6.0</td>\n      <td>2</td>\n      <td>0</td>\n      <td>0</td>\n      <td>1</td>\n    </tr>\n    <tr>\n      <th>150</th>\n      <td>38</td>\n      <td>0</td>\n      <td>1</td>\n      <td>153</td>\n      <td>564</td>\n      <td>0</td>\n      <td>1</td>\n      <td>81</td>\n      <td>0</td>\n      <td>6.0</td>\n      <td>1</td>\n      <td>4</td>\n      <td>1</td>\n      <td>1</td>\n    </tr>\n  </tbody>\n</table>\n<p>454 rows × 14 columns</p>\n</div>"
     },
     "metadata": {}
    }
   ]
  },
  {
   "cell_type": "code",
   "metadata": {
    "tags": [],
    "cell_id": "00024-ad7883ba-451a-410a-b871-52f91569a625",
    "deepnote_to_be_reexecuted": false,
    "source_hash": "5420eea3",
    "execution_start": 1620396183748,
    "execution_millis": 21,
    "deepnote_cell_type": "code"
   },
   "source": "### ONLY UNCOMMENT IF YOU WANT A NEW RANDOM SET OF DATA!\n\n#df_concat.to_csv('df_concat.csv', index=False)",
   "execution_count": 90,
   "outputs": []
  },
  {
   "cell_type": "markdown",
   "source": "<a style='text-decoration:none;line-height:16px;display:flex;color:#5B5B62;padding:10px;justify-content:end;' href='https://deepnote.com?utm_source=created-in-deepnote-cell&projectId=cd775439-f3d2-4e6d-9916-a56701a1b233' target=\"_blank\">\n<img alt='Created in deepnote.com' style='display:inline;max-height:16px;margin:0px;margin-right:7.5px;' src='data:image/svg+xml;base64,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' > </img>\nCreated in <span style='font-weight:600;margin-left:4px;'>Deepnote</span></a>",
   "metadata": {
    "tags": [],
    "created_in_deepnote_cell": true,
    "deepnote_cell_type": "markdown"
   }
  }
 ],
 "nbformat": 4,
 "nbformat_minor": 2,
 "metadata": {
  "orig_nbformat": 2,
  "deepnote": {
   "is_reactive": false
  },
  "deepnote_notebook_id": "a74e127e-d5e2-4cdd-9d77-e2b4e8b8a69e",
  "deepnote_execution_queue": []
 }
}