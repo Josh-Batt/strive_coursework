{
 "cells": [
  {
   "cell_type": "code",
   "execution_count": 1,
   "id": "deadly-douglas",
   "metadata": {},
   "outputs": [],
   "source": [
    "import pandas as pd\n",
    "\n",
    "from sklearn import preprocessing, compose, pipeline\n",
    "from sklearn import linear_model # LogisticRegression\n",
    "\n",
    "from sklearn import set_config\n",
    "\n",
    "set_config(display='diagram') # Useful for display the pipeline"
   ]
  },
  {
   "cell_type": "code",
   "execution_count": 2,
   "id": "outstanding-flavor",
   "metadata": {},
   "outputs": [
    {
     "data": {
      "text/html": [
       "<div>\n",
       "<style scoped>\n",
       "    .dataframe tbody tr th:only-of-type {\n",
       "        vertical-align: middle;\n",
       "    }\n",
       "\n",
       "    .dataframe tbody tr th {\n",
       "        vertical-align: top;\n",
       "    }\n",
       "\n",
       "    .dataframe thead th {\n",
       "        text-align: right;\n",
       "    }\n",
       "</style>\n",
       "<table border=\"1\" class=\"dataframe\">\n",
       "  <thead>\n",
       "    <tr style=\"text-align: right;\">\n",
       "      <th></th>\n",
       "      <th>id</th>\n",
       "      <th>cat0</th>\n",
       "      <th>cat1</th>\n",
       "      <th>cat2</th>\n",
       "      <th>cat3</th>\n",
       "      <th>cat4</th>\n",
       "      <th>cat5</th>\n",
       "      <th>cat6</th>\n",
       "      <th>cat7</th>\n",
       "      <th>cat8</th>\n",
       "      <th>...</th>\n",
       "      <th>cont5</th>\n",
       "      <th>cont6</th>\n",
       "      <th>cont7</th>\n",
       "      <th>cont8</th>\n",
       "      <th>cont9</th>\n",
       "      <th>cont10</th>\n",
       "      <th>cont11</th>\n",
       "      <th>cont12</th>\n",
       "      <th>cont13</th>\n",
       "      <th>target</th>\n",
       "    </tr>\n",
       "  </thead>\n",
       "  <tbody>\n",
       "    <tr>\n",
       "      <th>270787</th>\n",
       "      <td>451459</td>\n",
       "      <td>A</td>\n",
       "      <td>A</td>\n",
       "      <td>A</td>\n",
       "      <td>A</td>\n",
       "      <td>B</td>\n",
       "      <td>B</td>\n",
       "      <td>A</td>\n",
       "      <td>E</td>\n",
       "      <td>E</td>\n",
       "      <td>...</td>\n",
       "      <td>0.487056</td>\n",
       "      <td>0.337323</td>\n",
       "      <td>0.376731</td>\n",
       "      <td>0.347759</td>\n",
       "      <td>0.360166</td>\n",
       "      <td>0.356979</td>\n",
       "      <td>0.322842</td>\n",
       "      <td>0.349551</td>\n",
       "      <td>0.715924</td>\n",
       "      <td>8.008596</td>\n",
       "    </tr>\n",
       "    <tr>\n",
       "      <th>272004</th>\n",
       "      <td>453477</td>\n",
       "      <td>A</td>\n",
       "      <td>A</td>\n",
       "      <td>B</td>\n",
       "      <td>C</td>\n",
       "      <td>B</td>\n",
       "      <td>D</td>\n",
       "      <td>A</td>\n",
       "      <td>E</td>\n",
       "      <td>C</td>\n",
       "      <td>...</td>\n",
       "      <td>0.382239</td>\n",
       "      <td>0.385161</td>\n",
       "      <td>0.345361</td>\n",
       "      <td>0.407832</td>\n",
       "      <td>0.554727</td>\n",
       "      <td>0.720496</td>\n",
       "      <td>0.711361</td>\n",
       "      <td>0.683862</td>\n",
       "      <td>0.817874</td>\n",
       "      <td>6.832396</td>\n",
       "    </tr>\n",
       "    <tr>\n",
       "      <th>113024</th>\n",
       "      <td>188302</td>\n",
       "      <td>A</td>\n",
       "      <td>B</td>\n",
       "      <td>B</td>\n",
       "      <td>C</td>\n",
       "      <td>B</td>\n",
       "      <td>B</td>\n",
       "      <td>A</td>\n",
       "      <td>E</td>\n",
       "      <td>E</td>\n",
       "      <td>...</td>\n",
       "      <td>0.261390</td>\n",
       "      <td>0.262584</td>\n",
       "      <td>0.255484</td>\n",
       "      <td>0.291647</td>\n",
       "      <td>0.314580</td>\n",
       "      <td>0.123639</td>\n",
       "      <td>0.319919</td>\n",
       "      <td>0.339175</td>\n",
       "      <td>0.300346</td>\n",
       "      <td>8.770507</td>\n",
       "    </tr>\n",
       "    <tr>\n",
       "      <th>223453</th>\n",
       "      <td>372636</td>\n",
       "      <td>A</td>\n",
       "      <td>A</td>\n",
       "      <td>A</td>\n",
       "      <td>C</td>\n",
       "      <td>B</td>\n",
       "      <td>B</td>\n",
       "      <td>A</td>\n",
       "      <td>E</td>\n",
       "      <td>G</td>\n",
       "      <td>...</td>\n",
       "      <td>0.857610</td>\n",
       "      <td>0.599881</td>\n",
       "      <td>0.731739</td>\n",
       "      <td>0.238392</td>\n",
       "      <td>0.809547</td>\n",
       "      <td>0.459873</td>\n",
       "      <td>0.869117</td>\n",
       "      <td>0.844648</td>\n",
       "      <td>0.282714</td>\n",
       "      <td>7.899977</td>\n",
       "    </tr>\n",
       "    <tr>\n",
       "      <th>50180</th>\n",
       "      <td>83379</td>\n",
       "      <td>A</td>\n",
       "      <td>B</td>\n",
       "      <td>A</td>\n",
       "      <td>C</td>\n",
       "      <td>B</td>\n",
       "      <td>D</td>\n",
       "      <td>A</td>\n",
       "      <td>B</td>\n",
       "      <td>A</td>\n",
       "      <td>...</td>\n",
       "      <td>0.894526</td>\n",
       "      <td>0.750170</td>\n",
       "      <td>0.535493</td>\n",
       "      <td>0.934295</td>\n",
       "      <td>0.795327</td>\n",
       "      <td>0.909680</td>\n",
       "      <td>0.794396</td>\n",
       "      <td>0.849301</td>\n",
       "      <td>0.726542</td>\n",
       "      <td>8.378162</td>\n",
       "    </tr>\n",
       "  </tbody>\n",
       "</table>\n",
       "<p>5 rows × 26 columns</p>\n",
       "</div>"
      ],
      "text/plain": [
       "            id cat0 cat1 cat2 cat3 cat4 cat5 cat6 cat7 cat8  ...     cont5  \\\n",
       "270787  451459    A    A    A    A    B    B    A    E    E  ...  0.487056   \n",
       "272004  453477    A    A    B    C    B    D    A    E    C  ...  0.382239   \n",
       "113024  188302    A    B    B    C    B    B    A    E    E  ...  0.261390   \n",
       "223453  372636    A    A    A    C    B    B    A    E    G  ...  0.857610   \n",
       "50180    83379    A    B    A    C    B    D    A    B    A  ...  0.894526   \n",
       "\n",
       "           cont6     cont7     cont8     cont9    cont10    cont11    cont12  \\\n",
       "270787  0.337323  0.376731  0.347759  0.360166  0.356979  0.322842  0.349551   \n",
       "272004  0.385161  0.345361  0.407832  0.554727  0.720496  0.711361  0.683862   \n",
       "113024  0.262584  0.255484  0.291647  0.314580  0.123639  0.319919  0.339175   \n",
       "223453  0.599881  0.731739  0.238392  0.809547  0.459873  0.869117  0.844648   \n",
       "50180   0.750170  0.535493  0.934295  0.795327  0.909680  0.794396  0.849301   \n",
       "\n",
       "          cont13    target  \n",
       "270787  0.715924  8.008596  \n",
       "272004  0.817874  6.832396  \n",
       "113024  0.300346  8.770507  \n",
       "223453  0.282714  7.899977  \n",
       "50180   0.726542  8.378162  \n",
       "\n",
       "[5 rows x 26 columns]"
      ]
     },
     "execution_count": 2,
     "metadata": {},
     "output_type": "execute_result"
    }
   ],
   "source": [
    "df = pd.read_csv(\"train.csv\")\n",
    "df.sample(5)"
   ]
  },
  {
   "cell_type": "code",
   "execution_count": 3,
   "id": "stable-acrobat",
   "metadata": {},
   "outputs": [
    {
     "data": {
      "image/png": "[encoded data removed]",
      "text/plain": [
       "<Figure size 432x288 with 1 Axes>"
      ]
     },
     "metadata": {
      "needs_background": "light"
     },
     "output_type": "display_data"
    }
   ],
   "source": [
    "df.corr()[\"target\"].abs().sort_values().plot.barh();"
   ]
  },
  {
   "cell_type": "code",
   "execution_count": 4,
   "id": "revolutionary-character",
   "metadata": {},
   "outputs": [],
   "source": [
    "cont_features = [f for f in df.columns.tolist() if f.startswith('cont')]\n",
    "cat_features  = [f for f in df.columns.tolist() if f.startswith('cat')]"
   ]
  },
  {
   "cell_type": "markdown",
   "id": "vertical-indication",
   "metadata": {},
   "source": [
    "# Create linear model"
   ]
  },
  {
   "cell_type": "code",
   "execution_count": 5,
   "id": "neutral-character",
   "metadata": {},
   "outputs": [
    {
     "data": {
      "text/html": [
       "<style>div.sk-top-container {color: black;background-color: white;}div.sk-toggleable {background-color: white;}label.sk-toggleable__label {cursor: pointer;display: block;width: 100%;margin-bottom: 0;padding: 0.2em 0.3em;box-sizing: border-box;text-align: center;}div.sk-toggleable__content {max-height: 0;max-width: 0;overflow: hidden;text-align: left;background-color: #f0f8ff;}div.sk-toggleable__content pre {margin: 0.2em;color: black;border-radius: 0.25em;background-color: #f0f8ff;}input.sk-toggleable__control:checked~div.sk-toggleable__content {max-height: 200px;max-width: 100%;overflow: auto;}div.sk-estimator input.sk-toggleable__control:checked~label.sk-toggleable__label {background-color: #d4ebff;}div.sk-label input.sk-toggleable__control:checked~label.sk-toggleable__label {background-color: #d4ebff;}input.sk-hidden--visually {border: 0;clip: rect(1px 1px 1px 1px);clip: rect(1px, 1px, 1px, 1px);height: 1px;margin: -1px;overflow: hidden;padding: 0;position: absolute;width: 1px;}div.sk-estimator {font-family: monospace;background-color: #f0f8ff;margin: 0.25em 0.25em;border: 1px dotted black;border-radius: 0.25em;box-sizing: border-box;}div.sk-estimator:hover {background-color: #d4ebff;}div.sk-parallel-item::after {content: \"\";width: 100%;border-bottom: 1px solid gray;flex-grow: 1;}div.sk-label:hover label.sk-toggleable__label {background-color: #d4ebff;}div.sk-serial::before {content: \"\";position: absolute;border-left: 1px solid gray;box-sizing: border-box;top: 2em;bottom: 0;left: 50%;}div.sk-serial {display: flex;flex-direction: column;align-items: center;background-color: white;}div.sk-item {z-index: 1;}div.sk-parallel {display: flex;align-items: stretch;justify-content: center;background-color: white;}div.sk-parallel-item {display: flex;flex-direction: column;position: relative;background-color: white;}div.sk-parallel-item:first-child::after {align-self: flex-end;width: 50%;}div.sk-parallel-item:last-child::after {align-self: flex-start;width: 50%;}div.sk-parallel-item:only-child::after {width: 0;}div.sk-dashed-wrapped {border: 1px dashed gray;margin: 0.2em;box-sizing: border-box;padding-bottom: 0.1em;background-color: white;position: relative;}div.sk-label label {font-family: monospace;font-weight: bold;background-color: white;display: inline-block;line-height: 1.2em;}div.sk-label-container {position: relative;z-index: 2;text-align: center;}div.sk-container {display: inline-block;position: relative;}</style><div class=\"sk-top-container\"><div class=\"sk-container\"><div class=\"sk-item sk-dashed-wrapped\"><div class=\"sk-label-container\"><div class=\"sk-label sk-toggleable\"><input class=\"sk-toggleable__control sk-hidden--visually\" id=\"bcf5334d-63b4-4e37-a2e6-62ac492c9c48\" type=\"checkbox\" ><label class=\"sk-toggleable__label\" for=\"bcf5334d-63b4-4e37-a2e6-62ac492c9c48\">Pipeline</label><div class=\"sk-toggleable__content\"><pre>Pipeline(steps=[('prepro',\n",
       "                 ColumnTransformer(transformers=[('num',\n",
       "                                                  Pipeline(steps=[('scaler',\n",
       "                                                                   StandardScaler())]),\n",
       "                                                  ['cont0', 'cont1', 'cont2',\n",
       "                                                   'cont3', 'cont4', 'cont5',\n",
       "                                                   'cont6', 'cont7', 'cont8',\n",
       "                                                   'cont9', 'cont10', 'cont11',\n",
       "                                                   'cont12', 'cont13']),\n",
       "                                                 ('cat',\n",
       "                                                  Pipeline(steps=[('onehot',\n",
       "                                                                   OneHotEncoder(handle_unknown='ignore'))]),\n",
       "                                                  ['cat0', 'cat1', 'cat2',\n",
       "                                                   'cat3', 'cat4', 'cat5',\n",
       "                                                   'cat6', 'cat7', 'cat8',\n",
       "                                                   'cat9'])])),\n",
       "                ('model', LinearRegression())])</pre></div></div></div><div class=\"sk-serial\"><div class=\"sk-item sk-dashed-wrapped\"><div class=\"sk-label-container\"><div class=\"sk-label sk-toggleable\"><input class=\"sk-toggleable__control sk-hidden--visually\" id=\"04c870c5-cb5a-4e21-82a9-dec2b7531f3d\" type=\"checkbox\" ><label class=\"sk-toggleable__label\" for=\"04c870c5-cb5a-4e21-82a9-dec2b7531f3d\">prepro: ColumnTransformer</label><div class=\"sk-toggleable__content\"><pre>ColumnTransformer(transformers=[('num',\n",
       "                                 Pipeline(steps=[('scaler', StandardScaler())]),\n",
       "                                 ['cont0', 'cont1', 'cont2', 'cont3', 'cont4',\n",
       "                                  'cont5', 'cont6', 'cont7', 'cont8', 'cont9',\n",
       "                                  'cont10', 'cont11', 'cont12', 'cont13']),\n",
       "                                ('cat',\n",
       "                                 Pipeline(steps=[('onehot',\n",
       "                                                  OneHotEncoder(handle_unknown='ignore'))]),\n",
       "                                 ['cat0', 'cat1', 'cat2', 'cat3', 'cat4',\n",
       "                                  'cat5', 'cat6', 'cat7', 'cat8', 'cat9'])])</pre></div></div></div><div class=\"sk-parallel\"><div class=\"sk-parallel-item\"><div class=\"sk-item\"><div class=\"sk-label-container\"><div class=\"sk-label sk-toggleable\"><input class=\"sk-toggleable__control sk-hidden--visually\" id=\"532d839c-5408-4db2-b29f-155ae90d7709\" type=\"checkbox\" ><label class=\"sk-toggleable__label\" for=\"532d839c-5408-4db2-b29f-155ae90d7709\">num</label><div class=\"sk-toggleable__content\"><pre>['cont0', 'cont1', 'cont2', 'cont3', 'cont4', 'cont5', 'cont6', 'cont7', 'cont8', 'cont9', 'cont10', 'cont11', 'cont12', 'cont13']</pre></div></div></div><div class=\"sk-serial\"><div class=\"sk-item\"><div class=\"sk-serial\"><div class=\"sk-item\"><div class=\"sk-estimator sk-toggleable\"><input class=\"sk-toggleable__control sk-hidden--visually\" id=\"d68f2e62-71be-41d7-bb88-e1174ba950ec\" type=\"checkbox\" ><label class=\"sk-toggleable__label\" for=\"d68f2e62-71be-41d7-bb88-e1174ba950ec\">StandardScaler</label><div class=\"sk-toggleable__content\"><pre>StandardScaler()</pre></div></div></div></div></div></div></div></div><div class=\"sk-parallel-item\"><div class=\"sk-item\"><div class=\"sk-label-container\"><div class=\"sk-label sk-toggleable\"><input class=\"sk-toggleable__control sk-hidden--visually\" id=\"6bd2e2e5-3671-4ffb-b7ad-822797001b35\" type=\"checkbox\" ><label class=\"sk-toggleable__label\" for=\"6bd2e2e5-3671-4ffb-b7ad-822797001b35\">cat</label><div class=\"sk-toggleable__content\"><pre>['cat0', 'cat1', 'cat2', 'cat3', 'cat4', 'cat5', 'cat6', 'cat7', 'cat8', 'cat9']</pre></div></div></div><div class=\"sk-serial\"><div class=\"sk-item\"><div class=\"sk-serial\"><div class=\"sk-item\"><div class=\"sk-estimator sk-toggleable\"><input class=\"sk-toggleable__control sk-hidden--visually\" id=\"381620d9-dca0-4cc1-a249-ba4ecf605760\" type=\"checkbox\" ><label class=\"sk-toggleable__label\" for=\"381620d9-dca0-4cc1-a249-ba4ecf605760\">OneHotEncoder</label><div class=\"sk-toggleable__content\"><pre>OneHotEncoder(handle_unknown='ignore')</pre></div></div></div></div></div></div></div></div></div></div><div class=\"sk-item\"><div class=\"sk-estimator sk-toggleable\"><input class=\"sk-toggleable__control sk-hidden--visually\" id=\"a826c22c-b3a8-49fb-814d-f24db9dcb4b9\" type=\"checkbox\" ><label class=\"sk-toggleable__label\" for=\"a826c22c-b3a8-49fb-814d-f24db9dcb4b9\">LinearRegression</label><div class=\"sk-toggleable__content\"><pre>LinearRegression()</pre></div></div></div></div></div></div></div>"
      ],
      "text/plain": [
       "Pipeline(steps=[('prepro',\n",
       "                 ColumnTransformer(transformers=[('num',\n",
       "                                                  Pipeline(steps=[('scaler',\n",
       "                                                                   StandardScaler())]),\n",
       "                                                  ['cont0', 'cont1', 'cont2',\n",
       "                                                   'cont3', 'cont4', 'cont5',\n",
       "                                                   'cont6', 'cont7', 'cont8',\n",
       "                                                   'cont9', 'cont10', 'cont11',\n",
       "                                                   'cont12', 'cont13']),\n",
       "                                                 ('cat',\n",
       "                                                  Pipeline(steps=[('onehot',\n",
       "                                                                   OneHotEncoder(handle_unknown='ignore'))]),\n",
       "                                                  ['cat0', 'cat1', 'cat2',\n",
       "                                                   'cat3', 'cat4', 'cat5',\n",
       "                                                   'cat6', 'cat7', 'cat8',\n",
       "                                                   'cat9'])])),\n",
       "                ('model', LinearRegression())])"
      ]
     },
     "execution_count": 5,
     "metadata": {},
     "output_type": "execute_result"
    }
   ],
   "source": [
    "num_preprocessing = pipeline.Pipeline(steps=[\n",
    "    ('scaler', preprocessing.StandardScaler())\n",
    "])\n",
    "\n",
    "cat_preporcessing = pipeline.Pipeline(steps=[\n",
    "    ('onehot', preprocessing.OneHotEncoder(handle_unknown='ignore'))\n",
    "])\n",
    "\n",
    "prepro = compose.ColumnTransformer(transformers=[\n",
    "    ('num', num_preprocessing, cont_features),\n",
    "    ('cat', cat_preporcessing, cat_features),\n",
    "], remainder='drop') # Drop other vars not specified in num_vars or cat_vars\n",
    "\n",
    "\n",
    "model = linear_model.LinearRegression()\n",
    "\n",
    "pipe = pipeline.Pipeline(steps=[('prepro', prepro), ('model', model)])\n",
    "\n",
    "pipe"
   ]
  },
  {
   "cell_type": "markdown",
   "id": "appropriate-black",
   "metadata": {},
   "source": [
    "# Train linear model"
   ]
  },
  {
   "cell_type": "code",
   "execution_count": 6,
   "id": "educated-active",
   "metadata": {},
   "outputs": [
    {
     "data": {
      "text/html": [
       "<style>div.sk-top-container {color: black;background-color: white;}div.sk-toggleable {background-color: white;}label.sk-toggleable__label {cursor: pointer;display: block;width: 100%;margin-bottom: 0;padding: 0.2em 0.3em;box-sizing: border-box;text-align: center;}div.sk-toggleable__content {max-height: 0;max-width: 0;overflow: hidden;text-align: left;background-color: #f0f8ff;}div.sk-toggleable__content pre {margin: 0.2em;color: black;border-radius: 0.25em;background-color: #f0f8ff;}input.sk-toggleable__control:checked~div.sk-toggleable__content {max-height: 200px;max-width: 100%;overflow: auto;}div.sk-estimator input.sk-toggleable__control:checked~label.sk-toggleable__label {background-color: #d4ebff;}div.sk-label input.sk-toggleable__control:checked~label.sk-toggleable__label {background-color: #d4ebff;}input.sk-hidden--visually {border: 0;clip: rect(1px 1px 1px 1px);clip: rect(1px, 1px, 1px, 1px);height: 1px;margin: -1px;overflow: hidden;padding: 0;position: absolute;width: 1px;}div.sk-estimator {font-family: monospace;background-color: #f0f8ff;margin: 0.25em 0.25em;border: 1px dotted black;border-radius: 0.25em;box-sizing: border-box;}div.sk-estimator:hover {background-color: #d4ebff;}div.sk-parallel-item::after {content: \"\";width: 100%;border-bottom: 1px solid gray;flex-grow: 1;}div.sk-label:hover label.sk-toggleable__label {background-color: #d4ebff;}div.sk-serial::before {content: \"\";position: absolute;border-left: 1px solid gray;box-sizing: border-box;top: 2em;bottom: 0;left: 50%;}div.sk-serial {display: flex;flex-direction: column;align-items: center;background-color: white;}div.sk-item {z-index: 1;}div.sk-parallel {display: flex;align-items: stretch;justify-content: center;background-color: white;}div.sk-parallel-item {display: flex;flex-direction: column;position: relative;background-color: white;}div.sk-parallel-item:first-child::after {align-self: flex-end;width: 50%;}div.sk-parallel-item:last-child::after {align-self: flex-start;width: 50%;}div.sk-parallel-item:only-child::after {width: 0;}div.sk-dashed-wrapped {border: 1px dashed gray;margin: 0.2em;box-sizing: border-box;padding-bottom: 0.1em;background-color: white;position: relative;}div.sk-label label {font-family: monospace;font-weight: bold;background-color: white;display: inline-block;line-height: 1.2em;}div.sk-label-container {position: relative;z-index: 2;text-align: center;}div.sk-container {display: inline-block;position: relative;}</style><div class=\"sk-top-container\"><div class=\"sk-container\"><div class=\"sk-item sk-dashed-wrapped\"><div class=\"sk-label-container\"><div class=\"sk-label sk-toggleable\"><input class=\"sk-toggleable__control sk-hidden--visually\" id=\"303093b8-8e3b-445b-8c35-38dfa6b93b93\" type=\"checkbox\" ><label class=\"sk-toggleable__label\" for=\"303093b8-8e3b-445b-8c35-38dfa6b93b93\">Pipeline</label><div class=\"sk-toggleable__content\"><pre>Pipeline(steps=[('prepro',\n",
       "                 ColumnTransformer(transformers=[('num',\n",
       "                                                  Pipeline(steps=[('scaler',\n",
       "                                                                   StandardScaler())]),\n",
       "                                                  ['cont0', 'cont1', 'cont2',\n",
       "                                                   'cont3', 'cont4', 'cont5',\n",
       "                                                   'cont6', 'cont7', 'cont8',\n",
       "                                                   'cont9', 'cont10', 'cont11',\n",
       "                                                   'cont12', 'cont13']),\n",
       "                                                 ('cat',\n",
       "                                                  Pipeline(steps=[('onehot',\n",
       "                                                                   OneHotEncoder(handle_unknown='ignore'))]),\n",
       "                                                  ['cat0', 'cat1', 'cat2',\n",
       "                                                   'cat3', 'cat4', 'cat5',\n",
       "                                                   'cat6', 'cat7', 'cat8',\n",
       "                                                   'cat9'])])),\n",
       "                ('model', LinearRegression())])</pre></div></div></div><div class=\"sk-serial\"><div class=\"sk-item sk-dashed-wrapped\"><div class=\"sk-label-container\"><div class=\"sk-label sk-toggleable\"><input class=\"sk-toggleable__control sk-hidden--visually\" id=\"754ad3c3-b2aa-4170-bd5e-b377c3b16d71\" type=\"checkbox\" ><label class=\"sk-toggleable__label\" for=\"754ad3c3-b2aa-4170-bd5e-b377c3b16d71\">prepro: ColumnTransformer</label><div class=\"sk-toggleable__content\"><pre>ColumnTransformer(transformers=[('num',\n",
       "                                 Pipeline(steps=[('scaler', StandardScaler())]),\n",
       "                                 ['cont0', 'cont1', 'cont2', 'cont3', 'cont4',\n",
       "                                  'cont5', 'cont6', 'cont7', 'cont8', 'cont9',\n",
       "                                  'cont10', 'cont11', 'cont12', 'cont13']),\n",
       "                                ('cat',\n",
       "                                 Pipeline(steps=[('onehot',\n",
       "                                                  OneHotEncoder(handle_unknown='ignore'))]),\n",
       "                                 ['cat0', 'cat1', 'cat2', 'cat3', 'cat4',\n",
       "                                  'cat5', 'cat6', 'cat7', 'cat8', 'cat9'])])</pre></div></div></div><div class=\"sk-parallel\"><div class=\"sk-parallel-item\"><div class=\"sk-item\"><div class=\"sk-label-container\"><div class=\"sk-label sk-toggleable\"><input class=\"sk-toggleable__control sk-hidden--visually\" id=\"80051885-af1e-49a8-90d9-5714e4ce668b\" type=\"checkbox\" ><label class=\"sk-toggleable__label\" for=\"80051885-af1e-49a8-90d9-5714e4ce668b\">num</label><div class=\"sk-toggleable__content\"><pre>['cont0', 'cont1', 'cont2', 'cont3', 'cont4', 'cont5', 'cont6', 'cont7', 'cont8', 'cont9', 'cont10', 'cont11', 'cont12', 'cont13']</pre></div></div></div><div class=\"sk-serial\"><div class=\"sk-item\"><div class=\"sk-serial\"><div class=\"sk-item\"><div class=\"sk-estimator sk-toggleable\"><input class=\"sk-toggleable__control sk-hidden--visually\" id=\"885616ff-4434-41c5-9939-bc96ba458da0\" type=\"checkbox\" ><label class=\"sk-toggleable__label\" for=\"885616ff-4434-41c5-9939-bc96ba458da0\">StandardScaler</label><div class=\"sk-toggleable__content\"><pre>StandardScaler()</pre></div></div></div></div></div></div></div></div><div class=\"sk-parallel-item\"><div class=\"sk-item\"><div class=\"sk-label-container\"><div class=\"sk-label sk-toggleable\"><input class=\"sk-toggleable__control sk-hidden--visually\" id=\"21c5dbd3-b83f-4a93-9ed1-67ed4ea8f466\" type=\"checkbox\" ><label class=\"sk-toggleable__label\" for=\"21c5dbd3-b83f-4a93-9ed1-67ed4ea8f466\">cat</label><div class=\"sk-toggleable__content\"><pre>['cat0', 'cat1', 'cat2', 'cat3', 'cat4', 'cat5', 'cat6', 'cat7', 'cat8', 'cat9']</pre></div></div></div><div class=\"sk-serial\"><div class=\"sk-item\"><div class=\"sk-serial\"><div class=\"sk-item\"><div class=\"sk-estimator sk-toggleable\"><input class=\"sk-toggleable__control sk-hidden--visually\" id=\"4e24a83d-2b82-40f4-8951-35fd86410fab\" type=\"checkbox\" ><label class=\"sk-toggleable__label\" for=\"4e24a83d-2b82-40f4-8951-35fd86410fab\">OneHotEncoder</label><div class=\"sk-toggleable__content\"><pre>OneHotEncoder(handle_unknown='ignore')</pre></div></div></div></div></div></div></div></div></div></div><div class=\"sk-item\"><div class=\"sk-estimator sk-toggleable\"><input class=\"sk-toggleable__control sk-hidden--visually\" id=\"f74edfde-c373-471a-b9b1-5503129c9082\" type=\"checkbox\" ><label class=\"sk-toggleable__label\" for=\"f74edfde-c373-471a-b9b1-5503129c9082\">LinearRegression</label><div class=\"sk-toggleable__content\"><pre>LinearRegression()</pre></div></div></div></div></div></div></div>"
      ],
      "text/plain": [
       "Pipeline(steps=[('prepro',\n",
       "                 ColumnTransformer(transformers=[('num',\n",
       "                                                  Pipeline(steps=[('scaler',\n",
       "                                                                   StandardScaler())]),\n",
       "                                                  ['cont0', 'cont1', 'cont2',\n",
       "                                                   'cont3', 'cont4', 'cont5',\n",
       "                                                   'cont6', 'cont7', 'cont8',\n",
       "                                                   'cont9', 'cont10', 'cont11',\n",
       "                                                   'cont12', 'cont13']),\n",
       "                                                 ('cat',\n",
       "                                                  Pipeline(steps=[('onehot',\n",
       "                                                                   OneHotEncoder(handle_unknown='ignore'))]),\n",
       "                                                  ['cat0', 'cat1', 'cat2',\n",
       "                                                   'cat3', 'cat4', 'cat5',\n",
       "                                                   'cat6', 'cat7', 'cat8',\n",
       "                                                   'cat9'])])),\n",
       "                ('model', LinearRegression())])"
      ]
     },
     "execution_count": 6,
     "metadata": {},
     "output_type": "execute_result"
    }
   ],
   "source": [
    "x = df[cont_features + cat_features ]\n",
    "y = df[\"target\"]\n",
    "\n",
    "pipe.fit(x, y)"
   ]
  },
  {
   "cell_type": "markdown",
   "id": "mobile-making",
   "metadata": {},
   "source": [
    "# See coefficients"
   ]
  },
  {
   "cell_type": "code",
   "execution_count": 11,
   "id": "apart-reducing",
   "metadata": {},
   "outputs": [
    {
     "data": {
      "text/plain": [
       "70"
      ]
     },
     "execution_count": 11,
     "metadata": {},
     "output_type": "execute_result"
    }
   ],
   "source": [
    "cat_onehot_features = pipe[\"prepro\"].named_transformers_[\"cat\"]['onehot'].get_feature_names(cat_features).tolist()\n",
    "\n",
    "all_features = cont_features + cat_onehot_features\n",
    "len(all_features)"
   ]
  },
  {
   "cell_type": "code",
   "execution_count": 13,
   "id": "answering-advantage",
   "metadata": {},
   "outputs": [],
   "source": [
    "coefs = pipe[\"model\"].coef_.tolist()"
   ]
  },
  {
   "cell_type": "code",
   "execution_count": 14,
   "id": "identical-property",
   "metadata": {},
   "outputs": [
    {
     "data": {
      "text/html": [
       "<div>\n",
       "<style scoped>\n",
       "    .dataframe tbody tr th:only-of-type {\n",
       "        vertical-align: middle;\n",
       "    }\n",
       "\n",
       "    .dataframe tbody tr th {\n",
       "        vertical-align: top;\n",
       "    }\n",
       "\n",
       "    .dataframe thead th {\n",
       "        text-align: right;\n",
       "    }\n",
       "</style>\n",
       "<table border=\"1\" class=\"dataframe\">\n",
       "  <thead>\n",
       "    <tr style=\"text-align: right;\">\n",
       "      <th></th>\n",
       "      <th>Coefs</th>\n",
       "    </tr>\n",
       "  </thead>\n",
       "  <tbody>\n",
       "    <tr>\n",
       "      <th>cont0</th>\n",
       "      <td>-5.863777e-02</td>\n",
       "    </tr>\n",
       "    <tr>\n",
       "      <th>cont1</th>\n",
       "      <td>3.628011e-02</td>\n",
       "    </tr>\n",
       "    <tr>\n",
       "      <th>cont2</th>\n",
       "      <td>1.773693e-03</td>\n",
       "    </tr>\n",
       "    <tr>\n",
       "      <th>cont3</th>\n",
       "      <td>-5.698778e-03</td>\n",
       "    </tr>\n",
       "    <tr>\n",
       "      <th>cont4</th>\n",
       "      <td>-5.333955e-03</td>\n",
       "    </tr>\n",
       "    <tr>\n",
       "      <th>...</th>\n",
       "      <td>...</td>\n",
       "    </tr>\n",
       "    <tr>\n",
       "      <th>cat9_K</th>\n",
       "      <td>-8.281560e+10</td>\n",
       "    </tr>\n",
       "    <tr>\n",
       "      <th>cat9_L</th>\n",
       "      <td>-8.281560e+10</td>\n",
       "    </tr>\n",
       "    <tr>\n",
       "      <th>cat9_M</th>\n",
       "      <td>-8.281560e+10</td>\n",
       "    </tr>\n",
       "    <tr>\n",
       "      <th>cat9_N</th>\n",
       "      <td>-8.281560e+10</td>\n",
       "    </tr>\n",
       "    <tr>\n",
       "      <th>cat9_O</th>\n",
       "      <td>-8.281560e+10</td>\n",
       "    </tr>\n",
       "  </tbody>\n",
       "</table>\n",
       "<p>70 rows × 1 columns</p>\n",
       "</div>"
      ],
      "text/plain": [
       "               Coefs\n",
       "cont0  -5.863777e-02\n",
       "cont1   3.628011e-02\n",
       "cont2   1.773693e-03\n",
       "cont3  -5.698778e-03\n",
       "cont4  -5.333955e-03\n",
       "...              ...\n",
       "cat9_K -8.281560e+10\n",
       "cat9_L -8.281560e+10\n",
       "cat9_M -8.281560e+10\n",
       "cat9_N -8.281560e+10\n",
       "cat9_O -8.281560e+10\n",
       "\n",
       "[70 rows x 1 columns]"
      ]
     },
     "execution_count": 14,
     "metadata": {},
     "output_type": "execute_result"
    }
   ],
   "source": [
    "coefs_df = pd.DataFrame(data=coefs, index=all_features, columns=[\"Coefs\"])\n",
    "coefs_df"
   ]
  },
  {
   "cell_type": "code",
   "execution_count": 15,
   "id": "injured-expense",
   "metadata": {},
   "outputs": [
    {
     "data": {
      "image/png": "[encoded data removed]",
      "text/plain": [
       "<Figure size 576x1008 with 1 Axes>"
      ]
     },
     "metadata": {
      "needs_background": "light"
     },
     "output_type": "display_data"
    }
   ],
   "source": [
    "coefs_df[\"Coefs\"].abs().sort_values().plot.barh(figsize=(8,14));"
   ]
  },
  {
   "cell_type": "code",
   "execution_count": 16,
   "id": "rising-apparatus",
   "metadata": {},
   "outputs": [
    {
     "data": {
      "image/png": "[encoded data removed]",
      "text/plain": [
       "<Figure size 576x288 with 1 Axes>"
      ]
     },
     "metadata": {
      "needs_background": "light"
     },
     "output_type": "display_data"
    }
   ],
   "source": [
    "coefs_df.head(14)[\"Coefs\"].abs().sort_values().plot.barh(figsize=(8,4));"
   ]
  }
 ],
 "metadata": {
  "kernelspec": {
   "display_name": "Python 3",
   "language": "python",
   "name": "python3"
  },
  "language_info": {
   "codemirror_mode": {
    "name": "ipython",
    "version": 3
   },
   "file_extension": ".py",
   "mimetype": "text/x-python",
   "name": "python",
   "nbconvert_exporter": "python",
   "pygments_lexer": "ipython3",
   "version": "3.9.4"
  }
 },
 "nbformat": 4,
 "nbformat_minor": 5
}
