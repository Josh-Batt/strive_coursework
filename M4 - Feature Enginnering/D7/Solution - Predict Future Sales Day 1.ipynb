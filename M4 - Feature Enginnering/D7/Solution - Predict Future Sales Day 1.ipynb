{
 "cells": [
  {
   "cell_type": "markdown",
   "source": "<h1 align=\"center\">Time Series</h1>\n<h3 align=\"center\">Dataset: <a href=\"https://www.kaggle.com/c/competitive-data-science-predict-future-sales\">Competitive data science: Predict future sales</a></h3>",
   "metadata": {
    "cell_id": "00000-db4d2a70-9c87-480d-b0b9-da4c60a20e18",
    "deepnote_cell_type": "markdown"
   }
  },
  {
   "cell_type": "code",
   "metadata": {
    "cell_id": "00001-debf7494-e6a1-4c7d-a6e5-d89331b8917a",
    "deepnote_cell_type": "code"
   },
   "source": "import numpy   as np\nimport pandas  as pd\nimport seaborn as sb\nimport matplotlib.pyplot as plt\n%matplotlib inline\n#%matplotlib notebook\n\nfrom sklearn.preprocessing import LabelEncoder\nfrom sklearn.metrics       import mean_squared_error\nimport lightgbm as lgb\n\nimport gc\nimport time\n\nfrom ipywidgets import interact",
   "outputs": [],
   "execution_count": null
  },
  {
   "cell_type": "code",
   "metadata": {
    "cell_id": "00002-a71dfcb1-3edf-4f3f-acfb-d0a0726ff00b",
    "deepnote_cell_type": "code"
   },
   "source": "!ls ../../datasets/predict-future-sales",
   "outputs": [
    {
     "name": "stdout",
     "output_type": "stream",
     "text": "item_categories.csv  sales_train.csv\t    shops.csv\r\nitems.csv\t     sample_submission.csv  test.csv\r\n"
    }
   ],
   "execution_count": null
  },
  {
   "cell_type": "markdown",
   "source": "## Daily sales between January 2013 until Octuber 2015.",
   "metadata": {
    "cell_id": "00003-3ffb7561-55b8-44fd-acb3-1b7b59dc95f7",
    "deepnote_cell_type": "markdown"
   }
  },
  {
   "cell_type": "code",
   "metadata": {
    "cell_id": "00004-7a3fd021-c56f-4df8-b439-fd431e7029e8",
    "deepnote_cell_type": "code"
   },
   "source": "path = \"../../datasets/predict-future-sales/\"\n\nt = time.time()\ntrain = pd.read_csv(path+\"sales_train.csv\") # Daily sales  Jan 2013 -> Oct 2015\nshops = pd.read_csv(path+\"shops.csv\")       # Shops    (60)\nitems = pd.read_csv(path+\"items.csv\")       # Products  (22170)\ncats  = pd.read_csv(path+\"item_categories.csv\") # Product categories (84)\ntest  = pd.read_csv(path+\"test.csv\", index_col=\"ID\") # predict November 2015\nsub   = pd.read_csv(path+\"sample_submission.csv\", index_col=\"ID\")\nprint(round(time.time() - t,2), \"secs\")",
   "outputs": [
    {
     "name": "stdout",
     "output_type": "stream",
     "text": "0.92 secs\n"
    }
   ],
   "execution_count": null
  },
  {
   "cell_type": "code",
   "metadata": {
    "cell_id": "00005-9b2e6137-941d-4260-9301-f48253ec481b",
    "deepnote_cell_type": "code"
   },
   "source": "sub.item_cnt_month = 99\nsub",
   "outputs": [
    {
     "data": {
      "text/html": "<div>\n<style scoped>\n    .dataframe tbody tr th:only-of-type {\n        vertical-align: middle;\n    }\n\n    .dataframe tbody tr th {\n        vertical-align: top;\n    }\n\n    .dataframe thead th {\n        text-align: right;\n    }\n</style>\n<table border=\"1\" class=\"dataframe\">\n  <thead>\n    <tr style=\"text-align: right;\">\n      <th></th>\n      <th>item_cnt_month</th>\n    </tr>\n    <tr>\n      <th>ID</th>\n      <th></th>\n    </tr>\n  </thead>\n  <tbody>\n    <tr>\n      <th>0</th>\n      <td>99</td>\n    </tr>\n    <tr>\n      <th>1</th>\n      <td>99</td>\n    </tr>\n    <tr>\n      <th>2</th>\n      <td>99</td>\n    </tr>\n    <tr>\n      <th>3</th>\n      <td>99</td>\n    </tr>\n    <tr>\n      <th>4</th>\n      <td>99</td>\n    </tr>\n    <tr>\n      <th>...</th>\n      <td>...</td>\n    </tr>\n    <tr>\n      <th>214195</th>\n      <td>99</td>\n    </tr>\n    <tr>\n      <th>214196</th>\n      <td>99</td>\n    </tr>\n    <tr>\n      <th>214197</th>\n      <td>99</td>\n    </tr>\n    <tr>\n      <th>214198</th>\n      <td>99</td>\n    </tr>\n    <tr>\n      <th>214199</th>\n      <td>99</td>\n    </tr>\n  </tbody>\n</table>\n<p>214200 rows × 1 columns</p>\n</div>",
      "text/plain": "        item_cnt_month\nID                    \n0                   99\n1                   99\n2                   99\n3                   99\n4                   99\n...                ...\n214195              99\n214196              99\n214197              99\n214198              99\n214199              99\n\n[214200 rows x 1 columns]"
     },
     "execution_count": 4,
     "metadata": {},
     "output_type": "execute_result"
    }
   ],
   "execution_count": null
  },
  {
   "cell_type": "code",
   "metadata": {
    "cell_id": "00006-7e6a5e9c-c47c-4f66-b423-bd4ebe6d1e3a",
    "deepnote_cell_type": "code"
   },
   "source": "train.head(2)",
   "outputs": [
    {
     "data": {
      "text/html": "<div>\n<style scoped>\n    .dataframe tbody tr th:only-of-type {\n        vertical-align: middle;\n    }\n\n    .dataframe tbody tr th {\n        vertical-align: top;\n    }\n\n    .dataframe thead th {\n        text-align: right;\n    }\n</style>\n<table border=\"1\" class=\"dataframe\">\n  <thead>\n    <tr style=\"text-align: right;\">\n      <th></th>\n      <th>date</th>\n      <th>date_block_num</th>\n      <th>shop_id</th>\n      <th>item_id</th>\n      <th>item_price</th>\n      <th>item_cnt_day</th>\n    </tr>\n  </thead>\n  <tbody>\n    <tr>\n      <th>0</th>\n      <td>02.01.2013</td>\n      <td>0</td>\n      <td>59</td>\n      <td>22154</td>\n      <td>999.0</td>\n      <td>1.0</td>\n    </tr>\n    <tr>\n      <th>1</th>\n      <td>03.01.2013</td>\n      <td>0</td>\n      <td>25</td>\n      <td>2552</td>\n      <td>899.0</td>\n      <td>1.0</td>\n    </tr>\n  </tbody>\n</table>\n</div>",
      "text/plain": "         date  date_block_num  shop_id  item_id  item_price  item_cnt_day\n0  02.01.2013               0       59    22154       999.0           1.0\n1  03.01.2013               0       25     2552       899.0           1.0"
     },
     "execution_count": 5,
     "metadata": {},
     "output_type": "execute_result"
    }
   ],
   "execution_count": null
  },
  {
   "cell_type": "code",
   "metadata": {
    "cell_id": "00007-bda67cb3-e053-4b63-8d49-cd81bde579df",
    "deepnote_cell_type": "code"
   },
   "source": "train.tail(2)",
   "outputs": [
    {
     "data": {
      "text/html": "<div>\n<style scoped>\n    .dataframe tbody tr th:only-of-type {\n        vertical-align: middle;\n    }\n\n    .dataframe tbody tr th {\n        vertical-align: top;\n    }\n\n    .dataframe thead th {\n        text-align: right;\n    }\n</style>\n<table border=\"1\" class=\"dataframe\">\n  <thead>\n    <tr style=\"text-align: right;\">\n      <th></th>\n      <th>date</th>\n      <th>date_block_num</th>\n      <th>shop_id</th>\n      <th>item_id</th>\n      <th>item_price</th>\n      <th>item_cnt_day</th>\n    </tr>\n  </thead>\n  <tbody>\n    <tr>\n      <th>2935847</th>\n      <td>22.10.2015</td>\n      <td>33</td>\n      <td>25</td>\n      <td>7440</td>\n      <td>299.0</td>\n      <td>1.0</td>\n    </tr>\n    <tr>\n      <th>2935848</th>\n      <td>03.10.2015</td>\n      <td>33</td>\n      <td>25</td>\n      <td>7460</td>\n      <td>299.0</td>\n      <td>1.0</td>\n    </tr>\n  </tbody>\n</table>\n</div>",
      "text/plain": "               date  date_block_num  shop_id  item_id  item_price  \\\n2935847  22.10.2015              33       25     7440       299.0   \n2935848  03.10.2015              33       25     7460       299.0   \n\n         item_cnt_day  \n2935847           1.0  \n2935848           1.0  "
     },
     "execution_count": 6,
     "metadata": {},
     "output_type": "execute_result"
    }
   ],
   "execution_count": null
  },
  {
   "cell_type": "markdown",
   "source": "# Objetive: sales of November 2015",
   "metadata": {
    "cell_id": "00008-fed21d86-2d40-4a8d-936c-8f97be651cce",
    "deepnote_cell_type": "markdown"
   }
  },
  {
   "cell_type": "code",
   "metadata": {
    "cell_id": "00009-4d2e4641-27c9-4633-a65d-892148242415",
    "deepnote_cell_type": "code"
   },
   "source": "test.head()",
   "outputs": [
    {
     "data": {
      "text/html": "<div>\n<style scoped>\n    .dataframe tbody tr th:only-of-type {\n        vertical-align: middle;\n    }\n\n    .dataframe tbody tr th {\n        vertical-align: top;\n    }\n\n    .dataframe thead th {\n        text-align: right;\n    }\n</style>\n<table border=\"1\" class=\"dataframe\">\n  <thead>\n    <tr style=\"text-align: right;\">\n      <th></th>\n      <th>shop_id</th>\n      <th>item_id</th>\n    </tr>\n    <tr>\n      <th>ID</th>\n      <th></th>\n      <th></th>\n    </tr>\n  </thead>\n  <tbody>\n    <tr>\n      <th>0</th>\n      <td>5</td>\n      <td>5037</td>\n    </tr>\n    <tr>\n      <th>1</th>\n      <td>5</td>\n      <td>5320</td>\n    </tr>\n    <tr>\n      <th>2</th>\n      <td>5</td>\n      <td>5233</td>\n    </tr>\n    <tr>\n      <th>3</th>\n      <td>5</td>\n      <td>5232</td>\n    </tr>\n    <tr>\n      <th>4</th>\n      <td>5</td>\n      <td>5268</td>\n    </tr>\n  </tbody>\n</table>\n</div>",
      "text/plain": "    shop_id  item_id\nID                  \n0         5     5037\n1         5     5320\n2         5     5233\n3         5     5232\n4         5     5268"
     },
     "execution_count": 7,
     "metadata": {},
     "output_type": "execute_result"
    }
   ],
   "execution_count": null
  },
  {
   "cell_type": "markdown",
   "source": "# EDA",
   "metadata": {
    "cell_id": "00010-4153578a-ca72-4ffd-8012-1644afd353c2",
    "deepnote_cell_type": "markdown"
   }
  },
  {
   "cell_type": "markdown",
   "source": "### Outlier: Sales with a lot of quatities",
   "metadata": {
    "cell_id": "00011-e2cd1728-ceb4-4f3a-a060-dddbf75131bb",
    "deepnote_cell_type": "markdown"
   }
  },
  {
   "cell_type": "code",
   "metadata": {
    "cell_id": "00012-087e5f05-2195-49d1-adbf-35b97fa770be",
    "deepnote_cell_type": "code"
   },
   "source": "plt.figure(figsize=(16,1))\nsb.boxplot(x=train.item_cnt_day);",
   "outputs": [
    {
     "data": {
      "image/png": "[encoded data removed]",
      "text/plain": "<Figure size 1152x72 with 1 Axes>"
     },
     "metadata": {
      "needs_background": "light",
      "image/png": {
       "width": 910,
       "height": 100
      }
     },
     "output_type": "display_data"
    }
   ],
   "execution_count": null
  },
  {
   "cell_type": "markdown",
   "source": "### Outlier: Sales with a expensive items",
   "metadata": {
    "cell_id": "00013-3ad473d9-76cf-4cb5-a3bc-39b3b3e9feb5",
    "deepnote_cell_type": "markdown"
   }
  },
  {
   "cell_type": "code",
   "metadata": {
    "cell_id": "00014-0c909fdf-9bca-404d-95ef-39520f1f0fd9",
    "deepnote_cell_type": "code"
   },
   "source": "plt.figure(figsize=(16,1))\nsb.boxplot(x=train.item_price);",
   "outputs": [
    {
     "data": {
      "image/png": "[encoded data removed]",
      "text/plain": "<Figure size 1152x72 with 1 Axes>"
     },
     "metadata": {
      "needs_background": "light",
      "image/png": {
       "width": 910,
       "height": 100
      }
     },
     "output_type": "display_data"
    }
   ],
   "execution_count": null
  },
  {
   "cell_type": "markdown",
   "source": "### Negative prices -> Refunds",
   "metadata": {
    "cell_id": "00015-c091e8bb-b560-403c-b6a0-498b4676f9a9",
    "deepnote_cell_type": "markdown"
   }
  },
  {
   "cell_type": "code",
   "metadata": {
    "cell_id": "00016-3c1a88f6-5334-49e1-8482-9540f1b03572",
    "deepnote_cell_type": "code"
   },
   "source": "train.loc[train.item_price<0]",
   "outputs": [
    {
     "data": {
      "text/html": "<div>\n<style scoped>\n    .dataframe tbody tr th:only-of-type {\n        vertical-align: middle;\n    }\n\n    .dataframe tbody tr th {\n        vertical-align: top;\n    }\n\n    .dataframe thead th {\n        text-align: right;\n    }\n</style>\n<table border=\"1\" class=\"dataframe\">\n  <thead>\n    <tr style=\"text-align: right;\">\n      <th></th>\n      <th>date</th>\n      <th>date_block_num</th>\n      <th>shop_id</th>\n      <th>item_id</th>\n      <th>item_price</th>\n      <th>item_cnt_day</th>\n    </tr>\n  </thead>\n  <tbody>\n    <tr>\n      <th>484683</th>\n      <td>15.05.2013</td>\n      <td>4</td>\n      <td>32</td>\n      <td>2973</td>\n      <td>-1.0</td>\n      <td>1.0</td>\n    </tr>\n  </tbody>\n</table>\n</div>",
      "text/plain": "              date  date_block_num  shop_id  item_id  item_price  item_cnt_day\n484683  15.05.2013               4       32     2973        -1.0           1.0"
     },
     "execution_count": 10,
     "metadata": {},
     "output_type": "execute_result"
    }
   ],
   "execution_count": null
  },
  {
   "cell_type": "markdown",
   "source": "---\n\n# Get only sales of october 2015 ",
   "metadata": {
    "cell_id": "00017-b7ad5bdc-7c68-464f-a6ff-63c244d16be8",
    "deepnote_cell_type": "markdown"
   }
  },
  {
   "cell_type": "code",
   "metadata": {
    "cell_id": "00018-ae99fe7e-774a-46b4-846d-c8ae2de22ade",
    "deepnote_cell_type": "code"
   },
   "source": "oct2015 = train[train.date_block_num==33]\noct2015",
   "outputs": [
    {
     "data": {
      "text/html": "<div>\n<style scoped>\n    .dataframe tbody tr th:only-of-type {\n        vertical-align: middle;\n    }\n\n    .dataframe tbody tr th {\n        vertical-align: top;\n    }\n\n    .dataframe thead th {\n        text-align: right;\n    }\n</style>\n<table border=\"1\" class=\"dataframe\">\n  <thead>\n    <tr style=\"text-align: right;\">\n      <th></th>\n      <th>date</th>\n      <th>date_block_num</th>\n      <th>shop_id</th>\n      <th>item_id</th>\n      <th>item_price</th>\n      <th>item_cnt_day</th>\n    </tr>\n  </thead>\n  <tbody>\n    <tr>\n      <th>2882335</th>\n      <td>23.10.2015</td>\n      <td>33</td>\n      <td>45</td>\n      <td>13315</td>\n      <td>649.0</td>\n      <td>1.0</td>\n    </tr>\n    <tr>\n      <th>2882336</th>\n      <td>05.10.2015</td>\n      <td>33</td>\n      <td>45</td>\n      <td>13880</td>\n      <td>229.0</td>\n      <td>1.0</td>\n    </tr>\n    <tr>\n      <th>2882337</th>\n      <td>02.10.2015</td>\n      <td>33</td>\n      <td>45</td>\n      <td>13881</td>\n      <td>659.0</td>\n      <td>1.0</td>\n    </tr>\n    <tr>\n      <th>2882338</th>\n      <td>12.10.2015</td>\n      <td>33</td>\n      <td>45</td>\n      <td>13881</td>\n      <td>659.0</td>\n      <td>1.0</td>\n    </tr>\n    <tr>\n      <th>2882339</th>\n      <td>04.10.2015</td>\n      <td>33</td>\n      <td>45</td>\n      <td>13923</td>\n      <td>169.0</td>\n      <td>1.0</td>\n    </tr>\n    <tr>\n      <th>...</th>\n      <td>...</td>\n      <td>...</td>\n      <td>...</td>\n      <td>...</td>\n      <td>...</td>\n      <td>...</td>\n    </tr>\n    <tr>\n      <th>2935844</th>\n      <td>10.10.2015</td>\n      <td>33</td>\n      <td>25</td>\n      <td>7409</td>\n      <td>299.0</td>\n      <td>1.0</td>\n    </tr>\n    <tr>\n      <th>2935845</th>\n      <td>09.10.2015</td>\n      <td>33</td>\n      <td>25</td>\n      <td>7460</td>\n      <td>299.0</td>\n      <td>1.0</td>\n    </tr>\n    <tr>\n      <th>2935846</th>\n      <td>14.10.2015</td>\n      <td>33</td>\n      <td>25</td>\n      <td>7459</td>\n      <td>349.0</td>\n      <td>1.0</td>\n    </tr>\n    <tr>\n      <th>2935847</th>\n      <td>22.10.2015</td>\n      <td>33</td>\n      <td>25</td>\n      <td>7440</td>\n      <td>299.0</td>\n      <td>1.0</td>\n    </tr>\n    <tr>\n      <th>2935848</th>\n      <td>03.10.2015</td>\n      <td>33</td>\n      <td>25</td>\n      <td>7460</td>\n      <td>299.0</td>\n      <td>1.0</td>\n    </tr>\n  </tbody>\n</table>\n<p>53514 rows × 6 columns</p>\n</div>",
      "text/plain": "               date  date_block_num  shop_id  item_id  item_price  \\\n2882335  23.10.2015              33       45    13315       649.0   \n2882336  05.10.2015              33       45    13880       229.0   \n2882337  02.10.2015              33       45    13881       659.0   \n2882338  12.10.2015              33       45    13881       659.0   \n2882339  04.10.2015              33       45    13923       169.0   \n...             ...             ...      ...      ...         ...   \n2935844  10.10.2015              33       25     7409       299.0   \n2935845  09.10.2015              33       25     7460       299.0   \n2935846  14.10.2015              33       25     7459       349.0   \n2935847  22.10.2015              33       25     7440       299.0   \n2935848  03.10.2015              33       25     7460       299.0   \n\n         item_cnt_day  \n2882335           1.0  \n2882336           1.0  \n2882337           1.0  \n2882338           1.0  \n2882339           1.0  \n...               ...  \n2935844           1.0  \n2935845           1.0  \n2935846           1.0  \n2935847           1.0  \n2935848           1.0  \n\n[53514 rows x 6 columns]"
     },
     "execution_count": 11,
     "metadata": {},
     "output_type": "execute_result"
    }
   ],
   "execution_count": null
  },
  {
   "cell_type": "code",
   "metadata": {
    "cell_id": "00019-9772a46d-cef9-4625-b7a1-a5cea8e387d4",
    "deepnote_cell_type": "code"
   },
   "source": "oct2015.shop_id.nunique() # There are 44 of 60 shops on this month",
   "outputs": [
    {
     "data": {
      "text/plain": "44"
     },
     "execution_count": 12,
     "metadata": {},
     "output_type": "execute_result"
    }
   ],
   "execution_count": null
  },
  {
   "cell_type": "code",
   "metadata": {
    "cell_id": "00020-ad353418-d87b-4ad2-b46c-0e90fd5901b0",
    "deepnote_cell_type": "code"
   },
   "source": "oct2015.item_id.nunique() # There ar 5413 of 22170 items on this month",
   "outputs": [
    {
     "data": {
      "text/plain": "5413"
     },
     "execution_count": 13,
     "metadata": {},
     "output_type": "execute_result"
    }
   ],
   "execution_count": null
  },
  {
   "cell_type": "code",
   "metadata": {
    "cell_id": "00021-e4b96245-d311-4c09-b7cc-9703f3566056",
    "deepnote_cell_type": "code"
   },
   "source": "oct2015.groupby([\"shop_id\", \"item_id\"])[[\"item_cnt_day\"]].agg([\"min\", \"max\", \"mean\", \"count\", \"sum\"])",
   "outputs": [
    {
     "data": {
      "text/html": "<div>\n<style scoped>\n    .dataframe tbody tr th:only-of-type {\n        vertical-align: middle;\n    }\n\n    .dataframe tbody tr th {\n        vertical-align: top;\n    }\n\n    .dataframe thead tr th {\n        text-align: left;\n    }\n\n    .dataframe thead tr:last-of-type th {\n        text-align: right;\n    }\n</style>\n<table border=\"1\" class=\"dataframe\">\n  <thead>\n    <tr>\n      <th></th>\n      <th></th>\n      <th colspan=\"5\" halign=\"left\">item_cnt_day</th>\n    </tr>\n    <tr>\n      <th></th>\n      <th></th>\n      <th>min</th>\n      <th>max</th>\n      <th>mean</th>\n      <th>count</th>\n      <th>sum</th>\n    </tr>\n    <tr>\n      <th>shop_id</th>\n      <th>item_id</th>\n      <th></th>\n      <th></th>\n      <th></th>\n      <th></th>\n      <th></th>\n    </tr>\n  </thead>\n  <tbody>\n    <tr>\n      <th rowspan=\"5\" valign=\"top\">2</th>\n      <th>31</th>\n      <td>1.0</td>\n      <td>1.0</td>\n      <td>1.0</td>\n      <td>1</td>\n      <td>1.0</td>\n    </tr>\n    <tr>\n      <th>486</th>\n      <td>1.0</td>\n      <td>1.0</td>\n      <td>1.0</td>\n      <td>3</td>\n      <td>3.0</td>\n    </tr>\n    <tr>\n      <th>787</th>\n      <td>1.0</td>\n      <td>1.0</td>\n      <td>1.0</td>\n      <td>1</td>\n      <td>1.0</td>\n    </tr>\n    <tr>\n      <th>794</th>\n      <td>1.0</td>\n      <td>1.0</td>\n      <td>1.0</td>\n      <td>1</td>\n      <td>1.0</td>\n    </tr>\n    <tr>\n      <th>968</th>\n      <td>1.0</td>\n      <td>1.0</td>\n      <td>1.0</td>\n      <td>1</td>\n      <td>1.0</td>\n    </tr>\n    <tr>\n      <th>...</th>\n      <th>...</th>\n      <td>...</td>\n      <td>...</td>\n      <td>...</td>\n      <td>...</td>\n      <td>...</td>\n    </tr>\n    <tr>\n      <th rowspan=\"5\" valign=\"top\">59</th>\n      <th>22087</th>\n      <td>1.0</td>\n      <td>3.0</td>\n      <td>2.0</td>\n      <td>3</td>\n      <td>6.0</td>\n    </tr>\n    <tr>\n      <th>22088</th>\n      <td>1.0</td>\n      <td>1.0</td>\n      <td>1.0</td>\n      <td>2</td>\n      <td>2.0</td>\n    </tr>\n    <tr>\n      <th>22091</th>\n      <td>1.0</td>\n      <td>1.0</td>\n      <td>1.0</td>\n      <td>1</td>\n      <td>1.0</td>\n    </tr>\n    <tr>\n      <th>22100</th>\n      <td>1.0</td>\n      <td>1.0</td>\n      <td>1.0</td>\n      <td>1</td>\n      <td>1.0</td>\n    </tr>\n    <tr>\n      <th>22102</th>\n      <td>1.0</td>\n      <td>1.0</td>\n      <td>1.0</td>\n      <td>1</td>\n      <td>1.0</td>\n    </tr>\n  </tbody>\n</table>\n<p>31531 rows × 5 columns</p>\n</div>",
      "text/plain": "                item_cnt_day                     \n                         min  max mean count  sum\nshop_id item_id                                  \n2       31               1.0  1.0  1.0     1  1.0\n        486              1.0  1.0  1.0     3  3.0\n        787              1.0  1.0  1.0     1  1.0\n        794              1.0  1.0  1.0     1  1.0\n        968              1.0  1.0  1.0     1  1.0\n...                      ...  ...  ...   ...  ...\n59      22087            1.0  3.0  2.0     3  6.0\n        22088            1.0  1.0  1.0     2  2.0\n        22091            1.0  1.0  1.0     1  1.0\n        22100            1.0  1.0  1.0     1  1.0\n        22102            1.0  1.0  1.0     1  1.0\n\n[31531 rows x 5 columns]"
     },
     "execution_count": 14,
     "metadata": {},
     "output_type": "execute_result"
    }
   ],
   "execution_count": null
  },
  {
   "cell_type": "code",
   "metadata": {
    "cell_id": "00022-7db4224d-8ca0-4a56-bd53-6453b66f3244",
    "deepnote_cell_type": "code"
   },
   "source": "oct2015_agg = oct2015.groupby([\"shop_id\", \"item_id\"])[\"item_cnt_day\"].sum().reset_index()\noct2015_agg",
   "outputs": [
    {
     "data": {
      "text/html": "<div>\n<style scoped>\n    .dataframe tbody tr th:only-of-type {\n        vertical-align: middle;\n    }\n\n    .dataframe tbody tr th {\n        vertical-align: top;\n    }\n\n    .dataframe thead th {\n        text-align: right;\n    }\n</style>\n<table border=\"1\" class=\"dataframe\">\n  <thead>\n    <tr style=\"text-align: right;\">\n      <th></th>\n      <th>shop_id</th>\n      <th>item_id</th>\n      <th>item_cnt_day</th>\n    </tr>\n  </thead>\n  <tbody>\n    <tr>\n      <th>0</th>\n      <td>2</td>\n      <td>31</td>\n      <td>1.0</td>\n    </tr>\n    <tr>\n      <th>1</th>\n      <td>2</td>\n      <td>486</td>\n      <td>3.0</td>\n    </tr>\n    <tr>\n      <th>2</th>\n      <td>2</td>\n      <td>787</td>\n      <td>1.0</td>\n    </tr>\n    <tr>\n      <th>3</th>\n      <td>2</td>\n      <td>794</td>\n      <td>1.0</td>\n    </tr>\n    <tr>\n      <th>4</th>\n      <td>2</td>\n      <td>968</td>\n      <td>1.0</td>\n    </tr>\n    <tr>\n      <th>...</th>\n      <td>...</td>\n      <td>...</td>\n      <td>...</td>\n    </tr>\n    <tr>\n      <th>31526</th>\n      <td>59</td>\n      <td>22087</td>\n      <td>6.0</td>\n    </tr>\n    <tr>\n      <th>31527</th>\n      <td>59</td>\n      <td>22088</td>\n      <td>2.0</td>\n    </tr>\n    <tr>\n      <th>31528</th>\n      <td>59</td>\n      <td>22091</td>\n      <td>1.0</td>\n    </tr>\n    <tr>\n      <th>31529</th>\n      <td>59</td>\n      <td>22100</td>\n      <td>1.0</td>\n    </tr>\n    <tr>\n      <th>31530</th>\n      <td>59</td>\n      <td>22102</td>\n      <td>1.0</td>\n    </tr>\n  </tbody>\n</table>\n<p>31531 rows × 3 columns</p>\n</div>",
      "text/plain": "       shop_id  item_id  item_cnt_day\n0            2       31           1.0\n1            2      486           3.0\n2            2      787           1.0\n3            2      794           1.0\n4            2      968           1.0\n...        ...      ...           ...\n31526       59    22087           6.0\n31527       59    22088           2.0\n31528       59    22091           1.0\n31529       59    22100           1.0\n31530       59    22102           1.0\n\n[31531 rows x 3 columns]"
     },
     "execution_count": 15,
     "metadata": {},
     "output_type": "execute_result"
    }
   ],
   "execution_count": null
  },
  {
   "cell_type": "code",
   "metadata": {
    "cell_id": "00023-d92f7992-a6a4-4b06-bec0-12c6bca996a7",
    "deepnote_cell_type": "code"
   },
   "source": "test",
   "outputs": [
    {
     "data": {
      "text/html": "<div>\n<style scoped>\n    .dataframe tbody tr th:only-of-type {\n        vertical-align: middle;\n    }\n\n    .dataframe tbody tr th {\n        vertical-align: top;\n    }\n\n    .dataframe thead th {\n        text-align: right;\n    }\n</style>\n<table border=\"1\" class=\"dataframe\">\n  <thead>\n    <tr style=\"text-align: right;\">\n      <th></th>\n      <th>shop_id</th>\n      <th>item_id</th>\n    </tr>\n    <tr>\n      <th>ID</th>\n      <th></th>\n      <th></th>\n    </tr>\n  </thead>\n  <tbody>\n    <tr>\n      <th>0</th>\n      <td>5</td>\n      <td>5037</td>\n    </tr>\n    <tr>\n      <th>1</th>\n      <td>5</td>\n      <td>5320</td>\n    </tr>\n    <tr>\n      <th>2</th>\n      <td>5</td>\n      <td>5233</td>\n    </tr>\n    <tr>\n      <th>3</th>\n      <td>5</td>\n      <td>5232</td>\n    </tr>\n    <tr>\n      <th>4</th>\n      <td>5</td>\n      <td>5268</td>\n    </tr>\n    <tr>\n      <th>...</th>\n      <td>...</td>\n      <td>...</td>\n    </tr>\n    <tr>\n      <th>214195</th>\n      <td>45</td>\n      <td>18454</td>\n    </tr>\n    <tr>\n      <th>214196</th>\n      <td>45</td>\n      <td>16188</td>\n    </tr>\n    <tr>\n      <th>214197</th>\n      <td>45</td>\n      <td>15757</td>\n    </tr>\n    <tr>\n      <th>214198</th>\n      <td>45</td>\n      <td>19648</td>\n    </tr>\n    <tr>\n      <th>214199</th>\n      <td>45</td>\n      <td>969</td>\n    </tr>\n  </tbody>\n</table>\n<p>214200 rows × 2 columns</p>\n</div>",
      "text/plain": "        shop_id  item_id\nID                      \n0             5     5037\n1             5     5320\n2             5     5233\n3             5     5232\n4             5     5268\n...         ...      ...\n214195       45    18454\n214196       45    16188\n214197       45    15757\n214198       45    19648\n214199       45      969\n\n[214200 rows x 2 columns]"
     },
     "execution_count": 16,
     "metadata": {},
     "output_type": "execute_result"
    }
   ],
   "execution_count": null
  },
  {
   "cell_type": "code",
   "metadata": {
    "cell_id": "00024-f1e6898a-a445-4db0-b5ff-5cbca5ab4ce5",
    "deepnote_cell_type": "code"
   },
   "source": "sub.head()",
   "outputs": [
    {
     "data": {
      "text/html": "<div>\n<style scoped>\n    .dataframe tbody tr th:only-of-type {\n        vertical-align: middle;\n    }\n\n    .dataframe tbody tr th {\n        vertical-align: top;\n    }\n\n    .dataframe thead th {\n        text-align: right;\n    }\n</style>\n<table border=\"1\" class=\"dataframe\">\n  <thead>\n    <tr style=\"text-align: right;\">\n      <th></th>\n      <th>item_cnt_month</th>\n    </tr>\n    <tr>\n      <th>ID</th>\n      <th></th>\n    </tr>\n  </thead>\n  <tbody>\n    <tr>\n      <th>0</th>\n      <td>99</td>\n    </tr>\n    <tr>\n      <th>1</th>\n      <td>99</td>\n    </tr>\n    <tr>\n      <th>2</th>\n      <td>99</td>\n    </tr>\n    <tr>\n      <th>3</th>\n      <td>99</td>\n    </tr>\n    <tr>\n      <th>4</th>\n      <td>99</td>\n    </tr>\n  </tbody>\n</table>\n</div>",
      "text/plain": "    item_cnt_month\nID                \n0               99\n1               99\n2               99\n3               99\n4               99"
     },
     "execution_count": 17,
     "metadata": {},
     "output_type": "execute_result"
    }
   ],
   "execution_count": null
  },
  {
   "cell_type": "code",
   "metadata": {
    "cell_id": "00025-9e3071ec-480f-47b0-a081-fe00b36ddf63",
    "deepnote_cell_type": "code"
   },
   "source": "results = pd.merge(left = test,         # Left table for the join\n                   right = oct2015_agg, # Right table for the join\n                   on=[\"shop_id\", \"item_id\"], # Common keys\n                   how='left')          # Type of join\n\nresults.head()",
   "outputs": [
    {
     "data": {
      "text/html": "<div>\n<style scoped>\n    .dataframe tbody tr th:only-of-type {\n        vertical-align: middle;\n    }\n\n    .dataframe tbody tr th {\n        vertical-align: top;\n    }\n\n    .dataframe thead th {\n        text-align: right;\n    }\n</style>\n<table border=\"1\" class=\"dataframe\">\n  <thead>\n    <tr style=\"text-align: right;\">\n      <th></th>\n      <th>shop_id</th>\n      <th>item_id</th>\n      <th>item_cnt_day</th>\n    </tr>\n  </thead>\n  <tbody>\n    <tr>\n      <th>0</th>\n      <td>5</td>\n      <td>5037</td>\n      <td>NaN</td>\n    </tr>\n    <tr>\n      <th>1</th>\n      <td>5</td>\n      <td>5320</td>\n      <td>NaN</td>\n    </tr>\n    <tr>\n      <th>2</th>\n      <td>5</td>\n      <td>5233</td>\n      <td>1.0</td>\n    </tr>\n    <tr>\n      <th>3</th>\n      <td>5</td>\n      <td>5232</td>\n      <td>NaN</td>\n    </tr>\n    <tr>\n      <th>4</th>\n      <td>5</td>\n      <td>5268</td>\n      <td>NaN</td>\n    </tr>\n  </tbody>\n</table>\n</div>",
      "text/plain": "   shop_id  item_id  item_cnt_day\n0        5     5037           NaN\n1        5     5320           NaN\n2        5     5233           1.0\n3        5     5232           NaN\n4        5     5268           NaN"
     },
     "execution_count": 18,
     "metadata": {},
     "output_type": "execute_result"
    }
   ],
   "execution_count": null
  },
  {
   "cell_type": "code",
   "metadata": {
    "cell_id": "00026-e93ab9f6-e6d6-4d1e-b9c5-8ffc3df23d0f",
    "deepnote_cell_type": "code"
   },
   "source": "print(\"% of missings:\", results.item_cnt_day.isna().sum() / len(results) * 100)",
   "outputs": [
    {
     "name": "stdout",
     "output_type": "stream",
     "text": "% of missings: 86.61064425770309\n"
    }
   ],
   "execution_count": null
  },
  {
   "cell_type": "markdown",
   "source": "### Fill missings with ceros",
   "metadata": {
    "cell_id": "00027-0b38926b-2a8c-411f-bbb2-188213064205",
    "deepnote_cell_type": "markdown"
   }
  },
  {
   "cell_type": "code",
   "metadata": {
    "cell_id": "00028-99413e8a-fd05-46cb-9515-25bc72502272",
    "deepnote_cell_type": "code"
   },
   "source": "results.item_cnt_day = results.item_cnt_day.fillna(0)\nresults.head()",
   "outputs": [
    {
     "data": {
      "text/html": "<div>\n<style scoped>\n    .dataframe tbody tr th:only-of-type {\n        vertical-align: middle;\n    }\n\n    .dataframe tbody tr th {\n        vertical-align: top;\n    }\n\n    .dataframe thead th {\n        text-align: right;\n    }\n</style>\n<table border=\"1\" class=\"dataframe\">\n  <thead>\n    <tr style=\"text-align: right;\">\n      <th></th>\n      <th>shop_id</th>\n      <th>item_id</th>\n      <th>item_cnt_day</th>\n    </tr>\n  </thead>\n  <tbody>\n    <tr>\n      <th>0</th>\n      <td>5</td>\n      <td>5037</td>\n      <td>0.0</td>\n    </tr>\n    <tr>\n      <th>1</th>\n      <td>5</td>\n      <td>5320</td>\n      <td>0.0</td>\n    </tr>\n    <tr>\n      <th>2</th>\n      <td>5</td>\n      <td>5233</td>\n      <td>1.0</td>\n    </tr>\n    <tr>\n      <th>3</th>\n      <td>5</td>\n      <td>5232</td>\n      <td>0.0</td>\n    </tr>\n    <tr>\n      <th>4</th>\n      <td>5</td>\n      <td>5268</td>\n      <td>0.0</td>\n    </tr>\n  </tbody>\n</table>\n</div>",
      "text/plain": "   shop_id  item_id  item_cnt_day\n0        5     5037           0.0\n1        5     5320           0.0\n2        5     5233           1.0\n3        5     5232           0.0\n4        5     5268           0.0"
     },
     "execution_count": 20,
     "metadata": {},
     "output_type": "execute_result"
    }
   ],
   "execution_count": null
  },
  {
   "cell_type": "markdown",
   "source": "### Clipping (limit) mins and max values",
   "metadata": {
    "cell_id": "00029-f6bfdc2c-2cbc-437a-b6df-e871ae1658d9",
    "deepnote_cell_type": "markdown"
   }
  },
  {
   "cell_type": "code",
   "metadata": {
    "cell_id": "00030-09631f10-eda2-40fa-83d0-5f59a11b84b6",
    "deepnote_cell_type": "code"
   },
   "source": "results.item_cnt_day = results.item_cnt_day.clip(lower=0, upper=20)\nresults.head()",
   "outputs": [
    {
     "data": {
      "text/html": "<div>\n<style scoped>\n    .dataframe tbody tr th:only-of-type {\n        vertical-align: middle;\n    }\n\n    .dataframe tbody tr th {\n        vertical-align: top;\n    }\n\n    .dataframe thead th {\n        text-align: right;\n    }\n</style>\n<table border=\"1\" class=\"dataframe\">\n  <thead>\n    <tr style=\"text-align: right;\">\n      <th></th>\n      <th>shop_id</th>\n      <th>item_id</th>\n      <th>item_cnt_day</th>\n    </tr>\n  </thead>\n  <tbody>\n    <tr>\n      <th>0</th>\n      <td>5</td>\n      <td>5037</td>\n      <td>0.0</td>\n    </tr>\n    <tr>\n      <th>1</th>\n      <td>5</td>\n      <td>5320</td>\n      <td>0.0</td>\n    </tr>\n    <tr>\n      <th>2</th>\n      <td>5</td>\n      <td>5233</td>\n      <td>1.0</td>\n    </tr>\n    <tr>\n      <th>3</th>\n      <td>5</td>\n      <td>5232</td>\n      <td>0.0</td>\n    </tr>\n    <tr>\n      <th>4</th>\n      <td>5</td>\n      <td>5268</td>\n      <td>0.0</td>\n    </tr>\n  </tbody>\n</table>\n</div>",
      "text/plain": "   shop_id  item_id  item_cnt_day\n0        5     5037           0.0\n1        5     5320           0.0\n2        5     5233           1.0\n3        5     5232           0.0\n4        5     5268           0.0"
     },
     "execution_count": 21,
     "metadata": {},
     "output_type": "execute_result"
    }
   ],
   "execution_count": null
  },
  {
   "cell_type": "code",
   "metadata": {
    "cell_id": "00031-e3313b77-425e-4b75-9f1d-4fa0354fe9f4",
    "deepnote_cell_type": "code"
   },
   "source": "sub[\"item_cnt_month\"] = results[\"item_cnt_day\"]\nsub.head()",
   "outputs": [
    {
     "data": {
      "text/html": "<div>\n<style scoped>\n    .dataframe tbody tr th:only-of-type {\n        vertical-align: middle;\n    }\n\n    .dataframe tbody tr th {\n        vertical-align: top;\n    }\n\n    .dataframe thead th {\n        text-align: right;\n    }\n</style>\n<table border=\"1\" class=\"dataframe\">\n  <thead>\n    <tr style=\"text-align: right;\">\n      <th></th>\n      <th>item_cnt_month</th>\n    </tr>\n    <tr>\n      <th>ID</th>\n      <th></th>\n    </tr>\n  </thead>\n  <tbody>\n    <tr>\n      <th>0</th>\n      <td>0.0</td>\n    </tr>\n    <tr>\n      <th>1</th>\n      <td>0.0</td>\n    </tr>\n    <tr>\n      <th>2</th>\n      <td>1.0</td>\n    </tr>\n    <tr>\n      <th>3</th>\n      <td>0.0</td>\n    </tr>\n    <tr>\n      <th>4</th>\n      <td>0.0</td>\n    </tr>\n  </tbody>\n</table>\n</div>",
      "text/plain": "    item_cnt_month\nID                \n0              0.0\n1              0.0\n2              1.0\n3              0.0\n4              0.0"
     },
     "execution_count": 22,
     "metadata": {},
     "output_type": "execute_result"
    }
   ],
   "execution_count": null
  },
  {
   "cell_type": "code",
   "metadata": {
    "cell_id": "00032-0ad75378-735d-4310-86d7-d75f1e0a70e4",
    "deepnote_cell_type": "code"
   },
   "source": "sub.to_csv(\"oct2015.csv\")",
   "outputs": [],
   "execution_count": null
  },
  {
   "cell_type": "code",
   "metadata": {
    "cell_id": "00033-40654a6a-47b1-48c2-986b-9101e9c5abe4",
    "deepnote_cell_type": "code"
   },
   "source": "!head oct2015.csv",
   "outputs": [
    {
     "name": "stdout",
     "output_type": "stream",
     "text": "ID,item_cnt_month\r\n0,0.0\r\n1,0.0\r\n2,1.0\r\n3,0.0\r\n4,0.0\r\n5,1.0\r\n6,2.0\r\n7,0.0\r\n8,0.0\r\n"
    }
   ],
   "execution_count": null
  },
  {
   "cell_type": "markdown",
   "source": "<a style='text-decoration:none;line-height:16px;display:flex;color:#5B5B62;padding:10px;justify-content:end;' href='https://deepnote.com?utm_source=created-in-deepnote-cell&projectId=32ebab46-e526-42a3-8966-92f4ff6ef571' target=\"_blank\">\n<img alt='Created in deepnote.com' style='display:inline;max-height:16px;margin:0px;margin-right:7.5px;' src='data:image/svg+xml;base64,PD94bWwgdmVyc2lvbj0iMS4wIiBlbmNvZGluZz0iVVRGLTgiPz4KPHN2ZyB3aWR0aD0iODBweCIgaGVpZ2h0PSI4MHB4IiB2aWV3Qm94PSIwIDAgODAgODAiIHZlcnNpb249IjEuMSIgeG1sbnM9Imh0dHA6Ly93d3cudzMub3JnLzIwMDAvc3ZnIiB4bWxuczp4bGluaz0iaHR0cDovL3d3dy53My5vcmcvMTk5OS94bGluayI+CiAgICA8IS0tIEdlbmVyYXRvcjogU2tldGNoIDU0LjEgKDc2NDkwKSAtIGh0dHBzOi8vc2tldGNoYXBwLmNvbSAtLT4KICAgIDx0aXRsZT5Hcm91cCAzPC90aXRsZT4KICAgIDxkZXNjPkNyZWF0ZWQgd2l0aCBTa2V0Y2guPC9kZXNjPgogICAgPGcgaWQ9IkxhbmRpbmciIHN0cm9rZT0ibm9uZSIgc3Ryb2tlLXdpZHRoPSIxIiBmaWxsPSJub25lIiBmaWxsLXJ1bGU9ImV2ZW5vZGQiPgogICAgICAgIDxnIGlkPSJBcnRib2FyZCIgdHJhbnNmb3JtPSJ0cmFuc2xhdGUoLTEyMzUuMDAwMDAwLCAtNzkuMDAwMDAwKSI+CiAgICAgICAgICAgIDxnIGlkPSJHcm91cC0zIiB0cmFuc2Zvcm09InRyYW5zbGF0ZSgxMjM1LjAwMDAwMCwgNzkuMDAwMDAwKSI+CiAgICAgICAgICAgICAgICA8cG9seWdvbiBpZD0iUGF0aC0yMCIgZmlsbD0iIzAyNjVCNCIgcG9pbnRzPSIyLjM3NjIzNzYyIDgwIDM4LjA0NzY2NjcgODAgNTcuODIxNzgyMiA3My44MDU3NTkyIDU3LjgyMTc4MjIgMzIuNzU5MjczOSAzOS4xNDAyMjc4IDMxLjY4MzE2ODMiPjwvcG9seWdvbj4KICAgICAgICAgICAgICAgIDxwYXRoIGQ9Ik0zNS4wMDc3MTgsODAgQzQyLjkwNjIwMDcsNzYuNDU0OTM1OCA0Ny41NjQ5MTY3LDcxLjU0MjI2NzEgNDguOTgzODY2LDY1LjI2MTk5MzkgQzUxLjExMjI4OTksNTUuODQxNTg0MiA0MS42NzcxNzk1LDQ5LjIxMjIyODQgMjUuNjIzOTg0Niw0OS4yMTIyMjg0IEMyNS40ODQ5Mjg5LDQ5LjEyNjg0NDggMjkuODI2MTI5Niw0My4yODM4MjQ4IDM4LjY0NzU4NjksMzEuNjgzMTY4MyBMNzIuODcxMjg3MSwzMi41NTQ0MjUgTDY1LjI4MDk3Myw2Ny42NzYzNDIxIEw1MS4xMTIyODk5LDc3LjM3NjE0NCBMMzUuMDA3NzE4LDgwIFoiIGlkPSJQYXRoLTIyIiBmaWxsPSIjMDAyODY4Ij48L3BhdGg+CiAgICAgICAgICAgICAgICA8cGF0aCBkPSJNMCwzNy43MzA0NDA1IEwyNy4xMTQ1MzcsMC4yNTcxMTE0MzYgQzYyLjM3MTUxMjMsLTEuOTkwNzE3MDEgODAsMTAuNTAwMzkyNyA4MCwzNy43MzA0NDA1IEM4MCw2NC45NjA0ODgyIDY0Ljc3NjUwMzgsNzkuMDUwMzQxNCAzNC4zMjk1MTEzLDgwIEM0Ny4wNTUzNDg5LDc3LjU2NzA4MDggNTMuNDE4MjY3Nyw3MC4zMTM2MTAzIDUzLjQxODI2NzcsNTguMjM5NTg4NSBDNTMuNDE4MjY3Nyw0MC4xMjg1NTU3IDM2LjMwMzk1NDQsMzcuNzMwNDQwNSAyNS4yMjc0MTcsMzcuNzMwNDQwNSBDMTcuODQzMDU4NiwzNy43MzA0NDA1IDkuNDMzOTE5NjYsMzcuNzMwNDQwNSAwLDM3LjczMDQ0MDUgWiIgaWQ9IlBhdGgtMTkiIGZpbGw9IiMzNzkzRUYiPjwvcGF0aD4KICAgICAgICAgICAgPC9nPgogICAgICAgIDwvZz4KICAgIDwvZz4KPC9zdmc+' > </img>\nCreated in <span style='font-weight:600;margin-left:4px;'>Deepnote</span></a>",
   "metadata": {
    "tags": [],
    "created_in_deepnote_cell": true,
    "deepnote_cell_type": "markdown"
   }
  }
 ],
 "nbformat": 4,
 "nbformat_minor": 2,
 "metadata": {
  "kernelspec": {
   "display_name": "Python 3",
   "language": "python",
   "name": "python3"
  },
  "language_info": {
   "codemirror_mode": {
    "name": "ipython",
    "version": 3
   },
   "file_extension": ".py",
   "mimetype": "text/x-python",
   "name": "python",
   "nbconvert_exporter": "python",
   "pygments_lexer": "ipython3",
   "version": "3.9.1"
  },
  "deepnote_notebook_id": "85d50426-b012-4227-8dc6-7ac248e0497e",
  "deepnote": {},
  "deepnote_execution_queue": []
 }
}