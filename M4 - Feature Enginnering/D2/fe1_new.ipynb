{
  "cells": [
    {
      "cell_type": "markdown",
      "source": "## Imports",
      "metadata": {
        "cell_id": "00000-ee2af922-cd92-4e4c-850a-a8f39927ec3c",
        "deepnote_cell_type": "markdown"
      }
    },
    {
      "cell_type": "code",
      "metadata": {
        "cell_id": "00001-f83632f4-cdd7-4173-9caf-928b00f88e3e",
        "deepnote_to_be_reexecuted": false,
        "source_hash": "d46d2d4f",
        "execution_start": 1620136455881,
        "execution_millis": 7,
        "deepnote_cell_type": "code"
      },
      "source": "# pip install --upgrade scikit-learn",
      "execution_count": 1,
      "outputs": []
    },
    {
      "cell_type": "code",
      "metadata": {
        "colab": {},
        "colab_type": "code",
        "id": "mjnuJ19dJV7v",
        "cell_id": "00002-188e59cc-da8a-40e4-a0a5-b61686125267",
        "deepnote_to_be_reexecuted": false,
        "source_hash": "a4a6928a",
        "execution_start": 1620136455932,
        "execution_millis": 18013,
        "deepnote_cell_type": "code"
      },
      "source": "import time\nfrom IPython.display import clear_output\nimport numpy    as np\nimport pandas   as pd\nimport seaborn  as sb\nimport matplotlib.pyplot as plt\nimport sklearn  as skl\n\nfrom sklearn import pipeline      # Pipeline\nfrom sklearn import preprocessing # OrdinalEncoder, LabelEncoder\nfrom sklearn import impute\nfrom sklearn import compose\nfrom sklearn import model_selection # train_test_split\nfrom sklearn import metrics         # accuracy_score, balanced_accuracy_score, plot_confusion_matrix\nfrom sklearn import set_config\n\nset_config(display='diagram') # Useful for display the pipeline\n\nprint(\"Pandas  \", pd.__version__)\nprint(\"Sklearn \", skl.__version__) # Try to use 0.24",
      "execution_count": 2,
      "outputs": [
        {
          "name": "stdout",
          "text": "Pandas   1.2.4\nSklearn  0.24.1\n",
          "output_type": "stream"
        },
        {
          "name": "stdout",
          "text": "Pandas   1.2.4\nSklearn  0.24.1\n",
          "output_type": "stream"
        }
      ]
    },
    {
      "cell_type": "markdown",
      "source": "## Get the dataset\n- **CLOUD = True**: Download dataset from Kaggle. Necesary for cloud enviroments like COLAB. **Specify your [kaggle credentials](https://www.kaggle.com/docs/api)**.\n- **CLOUD = False**: Get the dataset from your local machine. **Specify the data path**.",
      "metadata": {
        "cell_id": "00003-1911a83f-4476-4a43-a876-d1f9a6294123",
        "deepnote_cell_type": "markdown"
      }
    },
    {
      "cell_type": "code",
      "metadata": {
        "cell_id": "00004-f908a897-d5b8-44c5-8271-01f38fa33303",
        "deepnote_to_be_reexecuted": false,
        "source_hash": "35cb5f4b",
        "execution_start": 1620136473176,
        "execution_millis": 5,
        "deepnote_cell_type": "code"
      },
      "source": "CLOUD = False\n\nif CLOUD:\n    import os\n    os.environ['KAGGLE_USERNAME'] = \"username\"\n    os.environ['KAGGLE_KEY']      = \"add key here\"  # See https://www.kaggle.com/docs/api\n    # !pip install --upgrade kaggle\n    # !kaggle competitions download -c titanic\n    DATA_PATH = \"./\"\n\nelse:\n    # DATA_PATH = \"../../datasets/titanic/\"\n    DATA_PATH = \"./titanic/\"",
      "execution_count": 3,
      "outputs": []
    },
    {
      "cell_type": "markdown",
      "source": "## Load data",
      "metadata": {
        "cell_id": "00005-86e0b992-b2a5-4cf7-b233-0331add8a7ba",
        "deepnote_cell_type": "markdown"
      }
    },
    {
      "cell_type": "code",
      "metadata": {
        "colab": {},
        "colab_type": "code",
        "id": "wAy8TnVPJV8S",
        "cell_id": "00006-dfc69baf-1463-424d-9b44-041f3e342b9f",
        "deepnote_to_be_reexecuted": false,
        "source_hash": "e6b3969e",
        "execution_start": 1620136473176,
        "execution_millis": 769,
        "deepnote_cell_type": "code"
      },
      "source": "df      = pd.read_csv(DATA_PATH + \"train.csv\", index_col='PassengerId')\ndf_test = pd.read_csv(DATA_PATH + \"test.csv\",  index_col='PassengerId')\n\nprint(\"Train DataFrame:\", df.shape)\nprint(\"Test DataFrame: \", df_test.shape)",
      "execution_count": 4,
      "outputs": [
        {
          "name": "stdout",
          "text": "Train DataFrame: (891, 11)\nTest DataFrame:  (418, 10)\n",
          "output_type": "stream"
        },
        {
          "name": "stdout",
          "text": "Train DataFrame: (891, 11)\nTest DataFrame:  (418, 10)\n",
          "output_type": "stream"
        }
      ]
    },
    {
      "cell_type": "markdown",
      "source": "## Check missings",
      "metadata": {
        "cell_id": "00007-a20261ec-29de-4231-a45b-1489504808f0",
        "deepnote_cell_type": "markdown"
      }
    },
    {
      "cell_type": "code",
      "metadata": {
        "cell_id": "00008-c67e6827-835d-43cb-b715-01a4d30481f8",
        "deepnote_to_be_reexecuted": false,
        "source_hash": "f3dd26da",
        "execution_start": 1620136473177,
        "execution_millis": 768,
        "deepnote_cell_type": "code"
      },
      "source": "df.isnull().sum()",
      "execution_count": 5,
      "outputs": [
        {
          "output_type": "execute_result",
          "data": {
            "text/plain": "Survived      0\nPclass        0\nName          0\nSex           0\nAge         177\nSibSp         0\nParch         0\nTicket        0\nFare          0\nCabin       687\nEmbarked      2\ndtype: int64"
          },
          "metadata": {},
          "execution_count": 5
        },
        {
          "output_type": "execute_result",
          "execution_count": 5,
          "data": {
            "text/plain": "Survived      0\nPclass        0\nName          0\nSex           0\nAge         177\nSibSp         0\nParch         0\nTicket        0\nFare          0\nCabin       687\nEmbarked      2\ndtype: int64"
          },
          "metadata": {}
        }
      ]
    },
    {
      "cell_type": "code",
      "metadata": {
        "cell_id": "00009-d78d10e9-0e30-4b25-82f3-4a966ffaa7c0",
        "deepnote_to_be_reexecuted": false,
        "source_hash": "5a27af67",
        "execution_start": 1620136473177,
        "execution_millis": 768,
        "deepnote_cell_type": "code"
      },
      "source": "df_test.isnull().sum()",
      "execution_count": 6,
      "outputs": [
        {
          "output_type": "execute_result",
          "data": {
            "text/plain": "Pclass        0\nName          0\nSex           0\nAge          86\nSibSp         0\nParch         0\nTicket        0\nFare          1\nCabin       327\nEmbarked      0\ndtype: int64"
          },
          "metadata": {},
          "execution_count": 6
        },
        {
          "output_type": "execute_result",
          "execution_count": 6,
          "data": {
            "text/plain": "Pclass        0\nName          0\nSex           0\nAge          86\nSibSp         0\nParch         0\nTicket        0\nFare          1\nCabin       327\nEmbarked      0\ndtype: int64"
          },
          "metadata": {}
        }
      ]
    },
    {
      "cell_type": "code",
      "source": "df['Age'].fillna(df['Age'].mean(), inplace=True)\ndf.head(10)",
      "metadata": {
        "tags": [],
        "cell_id": "00010-85ac1a42-b8d2-405e-aa3f-b85b9ae36f68",
        "deepnote_to_be_reexecuted": false,
        "source_hash": "26723739",
        "execution_start": 1620136473178,
        "execution_millis": 768,
        "deepnote_cell_type": "code"
      },
      "outputs": [
        {
          "output_type": "execute_result",
          "execution_count": 6,
          "data": {
            "application/vnd.deepnote.dataframe.v2+json": {
              "row_count": 10,
              "column_count": 11,
              "columns": [
                {
                  "name": "Survived",
                  "dtype": "int64",
                  "stats": {
                    "unique_count": 2,
                    "nan_count": 0,
                    "min": "0",
                    "max": "1",
                    "histogram": [
                      {
                        "bin_start": 0,
                        "bin_end": 0.1,
                        "count": 5
                      },
                      {
                        "bin_start": 0.1,
                        "bin_end": 0.2,
                        "count": 0
                      },
                      {
                        "bin_start": 0.2,
                        "bin_end": 0.30000000000000004,
                        "count": 0
                      },
                      {
                        "bin_start": 0.30000000000000004,
                        "bin_end": 0.4,
                        "count": 0
                      },
                      {
                        "bin_start": 0.4,
                        "bin_end": 0.5,
                        "count": 0
                      },
                      {
                        "bin_start": 0.5,
                        "bin_end": 0.6000000000000001,
                        "count": 0
                      },
                      {
                        "bin_start": 0.6000000000000001,
                        "bin_end": 0.7000000000000001,
                        "count": 0
                      },
                      {
                        "bin_start": 0.7000000000000001,
                        "bin_end": 0.8,
                        "count": 0
                      },
                      {
                        "bin_start": 0.8,
                        "bin_end": 0.9,
                        "count": 0
                      },
                      {
                        "bin_start": 0.9,
                        "bin_end": 1,
                        "count": 5
                      }
                    ]
                  }
                },
                {
                  "name": "Pclass",
                  "dtype": "int64",
                  "stats": {
                    "unique_count": 3,
                    "nan_count": 0,
                    "min": "1",
                    "max": "3",
                    "histogram": [
                      {
                        "bin_start": 1,
                        "bin_end": 1.2,
                        "count": 3
                      },
                      {
                        "bin_start": 1.2,
                        "bin_end": 1.4,
                        "count": 0
                      },
                      {
                        "bin_start": 1.4,
                        "bin_end": 1.6,
                        "count": 0
                      },
                      {
                        "bin_start": 1.6,
                        "bin_end": 1.8,
                        "count": 0
                      },
                      {
                        "bin_start": 1.8,
                        "bin_end": 2,
                        "count": 0
                      },
                      {
                        "bin_start": 2,
                        "bin_end": 2.2,
                        "count": 1
                      },
                      {
                        "bin_start": 2.2,
                        "bin_end": 2.4000000000000004,
                        "count": 0
                      },
                      {
                        "bin_start": 2.4000000000000004,
                        "bin_end": 2.6,
                        "count": 0
                      },
                      {
                        "bin_start": 2.6,
                        "bin_end": 2.8,
                        "count": 0
                      },
                      {
                        "bin_start": 2.8,
                        "bin_end": 3,
                        "count": 6
                      }
                    ]
                  }
                },
                {
                  "name": "Name",
                  "dtype": "object",
                  "stats": {
                    "unique_count": 10,
                    "nan_count": 0,
                    "categories": [
                      {
                        "name": "Braund, Mr. Owen Harris",
                        "count": 1
                      },
                      {
                        "name": "Cumings, Mrs. John Bradley (Florence Briggs Thayer)",
                        "count": 1
                      },
                      {
                        "name": "8 others",
                        "count": 8
                      }
                    ]
                  }
                },
                {
                  "name": "Sex",
                  "dtype": "object",
                  "stats": {
                    "unique_count": 2,
                    "nan_count": 0,
                    "categories": [
                      {
                        "name": "male",
                        "count": 5
                      },
                      {
                        "name": "female",
                        "count": 5
                      }
                    ]
                  }
                },
                {
                  "name": "Age",
                  "dtype": "float64",
                  "stats": {
                    "unique_count": 9,
                    "nan_count": 0,
                    "min": "2.0",
                    "max": "54.0",
                    "histogram": [
                      {
                        "bin_start": 2,
                        "bin_end": 7.2,
                        "count": 1
                      },
                      {
                        "bin_start": 7.2,
                        "bin_end": 12.4,
                        "count": 0
                      },
                      {
                        "bin_start": 12.4,
                        "bin_end": 17.6,
                        "count": 1
                      },
                      {
                        "bin_start": 17.6,
                        "bin_end": 22.8,
                        "count": 1
                      },
                      {
                        "bin_start": 22.8,
                        "bin_end": 28,
                        "count": 2
                      },
                      {
                        "bin_start": 28,
                        "bin_end": 33.2,
                        "count": 1
                      },
                      {
                        "bin_start": 33.2,
                        "bin_end": 38.4,
                        "count": 3
                      },
                      {
                        "bin_start": 38.4,
                        "bin_end": 43.6,
                        "count": 0
                      },
                      {
                        "bin_start": 43.6,
                        "bin_end": 48.800000000000004,
                        "count": 0
                      },
                      {
                        "bin_start": 48.800000000000004,
                        "bin_end": 54,
                        "count": 1
                      }
                    ]
                  }
                },
                {
                  "name": "SibSp",
                  "dtype": "int64",
                  "stats": {
                    "unique_count": 3,
                    "nan_count": 0,
                    "min": "0",
                    "max": "3",
                    "histogram": [
                      {
                        "bin_start": 0,
                        "bin_end": 0.3,
                        "count": 5
                      },
                      {
                        "bin_start": 0.3,
                        "bin_end": 0.6,
                        "count": 0
                      },
                      {
                        "bin_start": 0.6,
                        "bin_end": 0.8999999999999999,
                        "count": 0
                      },
                      {
                        "bin_start": 0.8999999999999999,
                        "bin_end": 1.2,
                        "count": 4
                      },
                      {
                        "bin_start": 1.2,
                        "bin_end": 1.5,
                        "count": 0
                      },
                      {
                        "bin_start": 1.5,
                        "bin_end": 1.7999999999999998,
                        "count": 0
                      },
                      {
                        "bin_start": 1.7999999999999998,
                        "bin_end": 2.1,
                        "count": 0
                      },
                      {
                        "bin_start": 2.1,
                        "bin_end": 2.4,
                        "count": 0
                      },
                      {
                        "bin_start": 2.4,
                        "bin_end": 2.6999999999999997,
                        "count": 0
                      },
                      {
                        "bin_start": 2.6999999999999997,
                        "bin_end": 3,
                        "count": 1
                      }
                    ]
                  }
                },
                {
                  "name": "Parch",
                  "dtype": "int64",
                  "stats": {
                    "unique_count": 3,
                    "nan_count": 0,
                    "min": "0",
                    "max": "2",
                    "histogram": [
                      {
                        "bin_start": 0,
                        "bin_end": 0.2,
                        "count": 8
                      },
                      {
                        "bin_start": 0.2,
                        "bin_end": 0.4,
                        "count": 0
                      },
                      {
                        "bin_start": 0.4,
                        "bin_end": 0.6000000000000001,
                        "count": 0
                      },
                      {
                        "bin_start": 0.6000000000000001,
                        "bin_end": 0.8,
                        "count": 0
                      },
                      {
                        "bin_start": 0.8,
                        "bin_end": 1,
                        "count": 0
                      },
                      {
                        "bin_start": 1,
                        "bin_end": 1.2000000000000002,
                        "count": 1
                      },
                      {
                        "bin_start": 1.2000000000000002,
                        "bin_end": 1.4000000000000001,
                        "count": 0
                      },
                      {
                        "bin_start": 1.4000000000000001,
                        "bin_end": 1.6,
                        "count": 0
                      },
                      {
                        "bin_start": 1.6,
                        "bin_end": 1.8,
                        "count": 0
                      },
                      {
                        "bin_start": 1.8,
                        "bin_end": 2,
                        "count": 1
                      }
                    ]
                  }
                },
                {
                  "name": "Ticket",
                  "dtype": "object",
                  "stats": {
                    "unique_count": 10,
                    "nan_count": 0,
                    "categories": [
                      {
                        "name": "A/5 21171",
                        "count": 1
                      },
                      {
                        "name": "PC 17599",
                        "count": 1
                      },
                      {
                        "name": "8 others",
                        "count": 8
                      }
                    ]
                  }
                },
                {
                  "name": "Fare",
                  "dtype": "float64",
                  "stats": {
                    "unique_count": 10,
                    "nan_count": 0,
                    "min": "7.25",
                    "max": "71.2833",
                    "histogram": [
                      {
                        "bin_start": 7.25,
                        "bin_end": 13.65333,
                        "count": 5
                      },
                      {
                        "bin_start": 13.65333,
                        "bin_end": 20.05666,
                        "count": 0
                      },
                      {
                        "bin_start": 20.05666,
                        "bin_end": 26.459989999999998,
                        "count": 1
                      },
                      {
                        "bin_start": 26.459989999999998,
                        "bin_end": 32.86332,
                        "count": 1
                      },
                      {
                        "bin_start": 32.86332,
                        "bin_end": 39.26665,
                        "count": 0
                      },
                      {
                        "bin_start": 39.26665,
                        "bin_end": 45.669979999999995,
                        "count": 0
                      },
                      {
                        "bin_start": 45.669979999999995,
                        "bin_end": 52.07331,
                        "count": 1
                      },
                      {
                        "bin_start": 52.07331,
                        "bin_end": 58.476639999999996,
                        "count": 1
                      },
                      {
                        "bin_start": 58.476639999999996,
                        "bin_end": 64.87996999999999,
                        "count": 0
                      },
                      {
                        "bin_start": 64.87996999999999,
                        "bin_end": 71.2833,
                        "count": 1
                      }
                    ]
                  }
                },
                {
                  "name": "Cabin",
                  "dtype": "object",
                  "stats": {
                    "unique_count": 3,
                    "nan_count": 7,
                    "categories": [
                      {
                        "name": "C85",
                        "count": 1
                      },
                      {
                        "name": "2 others",
                        "count": 2
                      },
                      {
                        "name": "Missing",
                        "count": 7
                      }
                    ]
                  }
                },
                {
                  "name": "Embarked",
                  "dtype": "object",
                  "stats": {
                    "unique_count": 3,
                    "nan_count": 0,
                    "categories": [
                      {
                        "name": "S",
                        "count": 7
                      },
                      {
                        "name": "C",
                        "count": 2
                      },
                      {
                        "name": "Q",
                        "count": 1
                      }
                    ]
                  }
                },
                {
                  "name": "_deepnote_index_column",
                  "dtype": "int64"
                }
              ],
              "rows_top": [
                {
                  "Survived": 0,
                  "Pclass": 3,
                  "Name": "Braund, Mr. Owen Harris",
                  "Sex": "male",
                  "Age": 22,
                  "SibSp": 1,
                  "Parch": 0,
                  "Ticket": "A/5 21171",
                  "Fare": 7.25,
                  "Cabin": "nan",
                  "Embarked": "S",
                  "_deepnote_index_column": 1
                },
                {
                  "Survived": 1,
                  "Pclass": 1,
                  "Name": "Cumings, Mrs. John Bradley (Florence Briggs Thayer)",
                  "Sex": "female",
                  "Age": 38,
                  "SibSp": 1,
                  "Parch": 0,
                  "Ticket": "PC 17599",
                  "Fare": 71.2833,
                  "Cabin": "C85",
                  "Embarked": "C",
                  "_deepnote_index_column": 2
                },
                {
                  "Survived": 1,
                  "Pclass": 3,
                  "Name": "Heikkinen, Miss. Laina",
                  "Sex": "female",
                  "Age": 26,
                  "SibSp": 0,
                  "Parch": 0,
                  "Ticket": "STON/O2. 3101282",
                  "Fare": 7.925,
                  "Cabin": "nan",
                  "Embarked": "S",
                  "_deepnote_index_column": 3
                },
                {
                  "Survived": 1,
                  "Pclass": 1,
                  "Name": "Futrelle, Mrs. Jacques Heath (Lily May Peel)",
                  "Sex": "female",
                  "Age": 35,
                  "SibSp": 1,
                  "Parch": 0,
                  "Ticket": "113803",
                  "Fare": 53.1,
                  "Cabin": "C123",
                  "Embarked": "S",
                  "_deepnote_index_column": 4
                },
                {
                  "Survived": 0,
                  "Pclass": 3,
                  "Name": "Allen, Mr. William Henry",
                  "Sex": "male",
                  "Age": 35,
                  "SibSp": 0,
                  "Parch": 0,
                  "Ticket": "373450",
                  "Fare": 8.05,
                  "Cabin": "nan",
                  "Embarked": "S",
                  "_deepnote_index_column": 5
                },
                {
                  "Survived": 0,
                  "Pclass": 3,
                  "Name": "Moran, Mr. James",
                  "Sex": "male",
                  "Age": 29.69911764705882,
                  "SibSp": 0,
                  "Parch": 0,
                  "Ticket": "330877",
                  "Fare": 8.4583,
                  "Cabin": "nan",
                  "Embarked": "Q",
                  "_deepnote_index_column": 6
                },
                {
                  "Survived": 0,
                  "Pclass": 1,
                  "Name": "McCarthy, Mr. Timothy J",
                  "Sex": "male",
                  "Age": 54,
                  "SibSp": 0,
                  "Parch": 0,
                  "Ticket": "17463",
                  "Fare": 51.8625,
                  "Cabin": "E46",
                  "Embarked": "S",
                  "_deepnote_index_column": 7
                },
                {
                  "Survived": 0,
                  "Pclass": 3,
                  "Name": "Palsson, Master. Gosta Leonard",
                  "Sex": "male",
                  "Age": 2,
                  "SibSp": 3,
                  "Parch": 1,
                  "Ticket": "349909",
                  "Fare": 21.075,
                  "Cabin": "nan",
                  "Embarked": "S",
                  "_deepnote_index_column": 8
                },
                {
                  "Survived": 1,
                  "Pclass": 3,
                  "Name": "Johnson, Mrs. Oscar W (Elisabeth Vilhelmina Berg)",
                  "Sex": "female",
                  "Age": 27,
                  "SibSp": 0,
                  "Parch": 2,
                  "Ticket": "347742",
                  "Fare": 11.1333,
                  "Cabin": "nan",
                  "Embarked": "S",
                  "_deepnote_index_column": 9
                },
                {
                  "Survived": 1,
                  "Pclass": 2,
                  "Name": "Nasser, Mrs. Nicholas (Adele Achem)",
                  "Sex": "female",
                  "Age": 14,
                  "SibSp": 1,
                  "Parch": 0,
                  "Ticket": "237736",
                  "Fare": 30.0708,
                  "Cabin": "nan",
                  "Embarked": "C",
                  "_deepnote_index_column": 10
                }
              ],
              "rows_bottom": null
            },
            "text/plain": "             Survived  Pclass  \\\nPassengerId                     \n1                   0       3   \n2                   1       1   \n3                   1       3   \n4                   1       1   \n5                   0       3   \n6                   0       3   \n7                   0       1   \n8                   0       3   \n9                   1       3   \n10                  1       2   \n\n                                                          Name     Sex  \\\nPassengerId                                                              \n1                                      Braund, Mr. Owen Harris    male   \n2            Cumings, Mrs. John Bradley (Florence Briggs Th...  female   \n3                                       Heikkinen, Miss. Laina  female   \n4                 Futrelle, Mrs. Jacques Heath (Lily May Peel)  female   \n5                                     Allen, Mr. William Henry    male   \n6                                             Moran, Mr. James    male   \n7                                      McCarthy, Mr. Timothy J    male   \n8                               Palsson, Master. Gosta Leonard    male   \n9            Johnson, Mrs. Oscar W (Elisabeth Vilhelmina Berg)  female   \n10                         Nasser, Mrs. Nicholas (Adele Achem)  female   \n\n                   Age  SibSp  Parch            Ticket     Fare Cabin Embarked  \nPassengerId                                                                     \n1            22.000000      1      0         A/5 21171   7.2500   NaN        S  \n2            38.000000      1      0          PC 17599  71.2833   C85        C  \n3            26.000000      0      0  STON/O2. 3101282   7.9250   NaN        S  \n4            35.000000      1      0            113803  53.1000  C123        S  \n5            35.000000      0      0            373450   8.0500   NaN        S  \n6            29.699118      0      0            330877   8.4583   NaN        Q  \n7            54.000000      0      0             17463  51.8625   E46        S  \n8             2.000000      3      1            349909  21.0750   NaN        S  \n9            27.000000      0      2            347742  11.1333   NaN        S  \n10           14.000000      1      0            237736  30.0708   NaN        C  ",
            "text/html": "<div>\n<style scoped>\n    .dataframe tbody tr th:only-of-type {\n        vertical-align: middle;\n    }\n\n    .dataframe tbody tr th {\n        vertical-align: top;\n    }\n\n    .dataframe thead th {\n        text-align: right;\n    }\n</style>\n<table border=\"1\" class=\"dataframe\">\n  <thead>\n    <tr style=\"text-align: right;\">\n      <th></th>\n      <th>Survived</th>\n      <th>Pclass</th>\n      <th>Name</th>\n      <th>Sex</th>\n      <th>Age</th>\n      <th>SibSp</th>\n      <th>Parch</th>\n      <th>Ticket</th>\n      <th>Fare</th>\n      <th>Cabin</th>\n      <th>Embarked</th>\n    </tr>\n    <tr>\n      <th>PassengerId</th>\n      <th></th>\n      <th></th>\n      <th></th>\n      <th></th>\n      <th></th>\n      <th></th>\n      <th></th>\n      <th></th>\n      <th></th>\n      <th></th>\n      <th></th>\n    </tr>\n  </thead>\n  <tbody>\n    <tr>\n      <th>1</th>\n      <td>0</td>\n      <td>3</td>\n      <td>Braund, Mr. Owen Harris</td>\n      <td>male</td>\n      <td>22.000000</td>\n      <td>1</td>\n      <td>0</td>\n      <td>A/5 21171</td>\n      <td>7.2500</td>\n      <td>NaN</td>\n      <td>S</td>\n    </tr>\n    <tr>\n      <th>2</th>\n      <td>1</td>\n      <td>1</td>\n      <td>Cumings, Mrs. John Bradley (Florence Briggs Th...</td>\n      <td>female</td>\n      <td>38.000000</td>\n      <td>1</td>\n      <td>0</td>\n      <td>PC 17599</td>\n      <td>71.2833</td>\n      <td>C85</td>\n      <td>C</td>\n    </tr>\n    <tr>\n      <th>3</th>\n      <td>1</td>\n      <td>3</td>\n      <td>Heikkinen, Miss. Laina</td>\n      <td>female</td>\n      <td>26.000000</td>\n      <td>0</td>\n      <td>0</td>\n      <td>STON/O2. 3101282</td>\n      <td>7.9250</td>\n      <td>NaN</td>\n      <td>S</td>\n    </tr>\n    <tr>\n      <th>4</th>\n      <td>1</td>\n      <td>1</td>\n      <td>Futrelle, Mrs. Jacques Heath (Lily May Peel)</td>\n      <td>female</td>\n      <td>35.000000</td>\n      <td>1</td>\n      <td>0</td>\n      <td>113803</td>\n      <td>53.1000</td>\n      <td>C123</td>\n      <td>S</td>\n    </tr>\n    <tr>\n      <th>5</th>\n      <td>0</td>\n      <td>3</td>\n      <td>Allen, Mr. William Henry</td>\n      <td>male</td>\n      <td>35.000000</td>\n      <td>0</td>\n      <td>0</td>\n      <td>373450</td>\n      <td>8.0500</td>\n      <td>NaN</td>\n      <td>S</td>\n    </tr>\n    <tr>\n      <th>6</th>\n      <td>0</td>\n      <td>3</td>\n      <td>Moran, Mr. James</td>\n      <td>male</td>\n      <td>29.699118</td>\n      <td>0</td>\n      <td>0</td>\n      <td>330877</td>\n      <td>8.4583</td>\n      <td>NaN</td>\n      <td>Q</td>\n    </tr>\n    <tr>\n      <th>7</th>\n      <td>0</td>\n      <td>1</td>\n      <td>McCarthy, Mr. Timothy J</td>\n      <td>male</td>\n      <td>54.000000</td>\n      <td>0</td>\n      <td>0</td>\n      <td>17463</td>\n      <td>51.8625</td>\n      <td>E46</td>\n      <td>S</td>\n    </tr>\n    <tr>\n      <th>8</th>\n      <td>0</td>\n      <td>3</td>\n      <td>Palsson, Master. Gosta Leonard</td>\n      <td>male</td>\n      <td>2.000000</td>\n      <td>3</td>\n      <td>1</td>\n      <td>349909</td>\n      <td>21.0750</td>\n      <td>NaN</td>\n      <td>S</td>\n    </tr>\n    <tr>\n      <th>9</th>\n      <td>1</td>\n      <td>3</td>\n      <td>Johnson, Mrs. Oscar W (Elisabeth Vilhelmina Berg)</td>\n      <td>female</td>\n      <td>27.000000</td>\n      <td>0</td>\n      <td>2</td>\n      <td>347742</td>\n      <td>11.1333</td>\n      <td>NaN</td>\n      <td>S</td>\n    </tr>\n    <tr>\n      <th>10</th>\n      <td>1</td>\n      <td>2</td>\n      <td>Nasser, Mrs. Nicholas (Adele Achem)</td>\n      <td>female</td>\n      <td>14.000000</td>\n      <td>1</td>\n      <td>0</td>\n      <td>237736</td>\n      <td>30.0708</td>\n      <td>NaN</td>\n      <td>C</td>\n    </tr>\n  </tbody>\n</table>\n</div>"
          },
          "metadata": {}
        },
        {
          "output_type": "execute_result",
          "execution_count": 7,
          "data": {
            "application/vnd.deepnote.dataframe.v2+json": {
              "row_count": 10,
              "column_count": 11,
              "columns": [
                {
                  "name": "Survived",
                  "dtype": "int64",
                  "stats": {
                    "unique_count": 2,
                    "nan_count": 0,
                    "min": "0",
                    "max": "1",
                    "histogram": [
                      {
                        "bin_start": 0,
                        "bin_end": 0.1,
                        "count": 5
                      },
                      {
                        "bin_start": 0.1,
                        "bin_end": 0.2,
                        "count": 0
                      },
                      {
                        "bin_start": 0.2,
                        "bin_end": 0.30000000000000004,
                        "count": 0
                      },
                      {
                        "bin_start": 0.30000000000000004,
                        "bin_end": 0.4,
                        "count": 0
                      },
                      {
                        "bin_start": 0.4,
                        "bin_end": 0.5,
                        "count": 0
                      },
                      {
                        "bin_start": 0.5,
                        "bin_end": 0.6000000000000001,
                        "count": 0
                      },
                      {
                        "bin_start": 0.6000000000000001,
                        "bin_end": 0.7000000000000001,
                        "count": 0
                      },
                      {
                        "bin_start": 0.7000000000000001,
                        "bin_end": 0.8,
                        "count": 0
                      },
                      {
                        "bin_start": 0.8,
                        "bin_end": 0.9,
                        "count": 0
                      },
                      {
                        "bin_start": 0.9,
                        "bin_end": 1,
                        "count": 5
                      }
                    ]
                  }
                },
                {
                  "name": "Pclass",
                  "dtype": "int64",
                  "stats": {
                    "unique_count": 3,
                    "nan_count": 0,
                    "min": "1",
                    "max": "3",
                    "histogram": [
                      {
                        "bin_start": 1,
                        "bin_end": 1.2,
                        "count": 3
                      },
                      {
                        "bin_start": 1.2,
                        "bin_end": 1.4,
                        "count": 0
                      },
                      {
                        "bin_start": 1.4,
                        "bin_end": 1.6,
                        "count": 0
                      },
                      {
                        "bin_start": 1.6,
                        "bin_end": 1.8,
                        "count": 0
                      },
                      {
                        "bin_start": 1.8,
                        "bin_end": 2,
                        "count": 0
                      },
                      {
                        "bin_start": 2,
                        "bin_end": 2.2,
                        "count": 1
                      },
                      {
                        "bin_start": 2.2,
                        "bin_end": 2.4000000000000004,
                        "count": 0
                      },
                      {
                        "bin_start": 2.4000000000000004,
                        "bin_end": 2.6,
                        "count": 0
                      },
                      {
                        "bin_start": 2.6,
                        "bin_end": 2.8,
                        "count": 0
                      },
                      {
                        "bin_start": 2.8,
                        "bin_end": 3,
                        "count": 6
                      }
                    ]
                  }
                },
                {
                  "name": "Name",
                  "dtype": "object",
                  "stats": {
                    "unique_count": 10,
                    "nan_count": 0,
                    "categories": [
                      {
                        "name": "Braund, Mr. Owen Harris",
                        "count": 1
                      },
                      {
                        "name": "Cumings, Mrs. John Bradley (Florence Briggs Thayer)",
                        "count": 1
                      },
                      {
                        "name": "8 others",
                        "count": 8
                      }
                    ]
                  }
                },
                {
                  "name": "Sex",
                  "dtype": "object",
                  "stats": {
                    "unique_count": 2,
                    "nan_count": 0,
                    "categories": [
                      {
                        "name": "male",
                        "count": 5
                      },
                      {
                        "name": "female",
                        "count": 5
                      }
                    ]
                  }
                },
                {
                  "name": "Age",
                  "dtype": "float64",
                  "stats": {
                    "unique_count": 9,
                    "nan_count": 0,
                    "min": "2.0",
                    "max": "54.0",
                    "histogram": [
                      {
                        "bin_start": 2,
                        "bin_end": 7.2,
                        "count": 1
                      },
                      {
                        "bin_start": 7.2,
                        "bin_end": 12.4,
                        "count": 0
                      },
                      {
                        "bin_start": 12.4,
                        "bin_end": 17.6,
                        "count": 1
                      },
                      {
                        "bin_start": 17.6,
                        "bin_end": 22.8,
                        "count": 1
                      },
                      {
                        "bin_start": 22.8,
                        "bin_end": 28,
                        "count": 2
                      },
                      {
                        "bin_start": 28,
                        "bin_end": 33.2,
                        "count": 1
                      },
                      {
                        "bin_start": 33.2,
                        "bin_end": 38.4,
                        "count": 3
                      },
                      {
                        "bin_start": 38.4,
                        "bin_end": 43.6,
                        "count": 0
                      },
                      {
                        "bin_start": 43.6,
                        "bin_end": 48.800000000000004,
                        "count": 0
                      },
                      {
                        "bin_start": 48.800000000000004,
                        "bin_end": 54,
                        "count": 1
                      }
                    ]
                  }
                },
                {
                  "name": "SibSp",
                  "dtype": "int64",
                  "stats": {
                    "unique_count": 3,
                    "nan_count": 0,
                    "min": "0",
                    "max": "3",
                    "histogram": [
                      {
                        "bin_start": 0,
                        "bin_end": 0.3,
                        "count": 5
                      },
                      {
                        "bin_start": 0.3,
                        "bin_end": 0.6,
                        "count": 0
                      },
                      {
                        "bin_start": 0.6,
                        "bin_end": 0.8999999999999999,
                        "count": 0
                      },
                      {
                        "bin_start": 0.8999999999999999,
                        "bin_end": 1.2,
                        "count": 4
                      },
                      {
                        "bin_start": 1.2,
                        "bin_end": 1.5,
                        "count": 0
                      },
                      {
                        "bin_start": 1.5,
                        "bin_end": 1.7999999999999998,
                        "count": 0
                      },
                      {
                        "bin_start": 1.7999999999999998,
                        "bin_end": 2.1,
                        "count": 0
                      },
                      {
                        "bin_start": 2.1,
                        "bin_end": 2.4,
                        "count": 0
                      },
                      {
                        "bin_start": 2.4,
                        "bin_end": 2.6999999999999997,
                        "count": 0
                      },
                      {
                        "bin_start": 2.6999999999999997,
                        "bin_end": 3,
                        "count": 1
                      }
                    ]
                  }
                },
                {
                  "name": "Parch",
                  "dtype": "int64",
                  "stats": {
                    "unique_count": 3,
                    "nan_count": 0,
                    "min": "0",
                    "max": "2",
                    "histogram": [
                      {
                        "bin_start": 0,
                        "bin_end": 0.2,
                        "count": 8
                      },
                      {
                        "bin_start": 0.2,
                        "bin_end": 0.4,
                        "count": 0
                      },
                      {
                        "bin_start": 0.4,
                        "bin_end": 0.6000000000000001,
                        "count": 0
                      },
                      {
                        "bin_start": 0.6000000000000001,
                        "bin_end": 0.8,
                        "count": 0
                      },
                      {
                        "bin_start": 0.8,
                        "bin_end": 1,
                        "count": 0
                      },
                      {
                        "bin_start": 1,
                        "bin_end": 1.2000000000000002,
                        "count": 1
                      },
                      {
                        "bin_start": 1.2000000000000002,
                        "bin_end": 1.4000000000000001,
                        "count": 0
                      },
                      {
                        "bin_start": 1.4000000000000001,
                        "bin_end": 1.6,
                        "count": 0
                      },
                      {
                        "bin_start": 1.6,
                        "bin_end": 1.8,
                        "count": 0
                      },
                      {
                        "bin_start": 1.8,
                        "bin_end": 2,
                        "count": 1
                      }
                    ]
                  }
                },
                {
                  "name": "Ticket",
                  "dtype": "object",
                  "stats": {
                    "unique_count": 10,
                    "nan_count": 0,
                    "categories": [
                      {
                        "name": "A/5 21171",
                        "count": 1
                      },
                      {
                        "name": "PC 17599",
                        "count": 1
                      },
                      {
                        "name": "8 others",
                        "count": 8
                      }
                    ]
                  }
                },
                {
                  "name": "Fare",
                  "dtype": "float64",
                  "stats": {
                    "unique_count": 10,
                    "nan_count": 0,
                    "min": "7.25",
                    "max": "71.2833",
                    "histogram": [
                      {
                        "bin_start": 7.25,
                        "bin_end": 13.65333,
                        "count": 5
                      },
                      {
                        "bin_start": 13.65333,
                        "bin_end": 20.05666,
                        "count": 0
                      },
                      {
                        "bin_start": 20.05666,
                        "bin_end": 26.459989999999998,
                        "count": 1
                      },
                      {
                        "bin_start": 26.459989999999998,
                        "bin_end": 32.86332,
                        "count": 1
                      },
                      {
                        "bin_start": 32.86332,
                        "bin_end": 39.26665,
                        "count": 0
                      },
                      {
                        "bin_start": 39.26665,
                        "bin_end": 45.669979999999995,
                        "count": 0
                      },
                      {
                        "bin_start": 45.669979999999995,
                        "bin_end": 52.07331,
                        "count": 1
                      },
                      {
                        "bin_start": 52.07331,
                        "bin_end": 58.476639999999996,
                        "count": 1
                      },
                      {
                        "bin_start": 58.476639999999996,
                        "bin_end": 64.87996999999999,
                        "count": 0
                      },
                      {
                        "bin_start": 64.87996999999999,
                        "bin_end": 71.2833,
                        "count": 1
                      }
                    ]
                  }
                },
                {
                  "name": "Cabin",
                  "dtype": "object",
                  "stats": {
                    "unique_count": 3,
                    "nan_count": 7,
                    "categories": [
                      {
                        "name": "C85",
                        "count": 1
                      },
                      {
                        "name": "2 others",
                        "count": 2
                      },
                      {
                        "name": "Missing",
                        "count": 7
                      }
                    ]
                  }
                },
                {
                  "name": "Embarked",
                  "dtype": "object",
                  "stats": {
                    "unique_count": 3,
                    "nan_count": 0,
                    "categories": [
                      {
                        "name": "S",
                        "count": 7
                      },
                      {
                        "name": "C",
                        "count": 2
                      },
                      {
                        "name": "Q",
                        "count": 1
                      }
                    ]
                  }
                },
                {
                  "name": "_deepnote_index_column",
                  "dtype": "int64"
                }
              ],
              "rows_top": [
                {
                  "Survived": 0,
                  "Pclass": 3,
                  "Name": "Braund, Mr. Owen Harris",
                  "Sex": "male",
                  "Age": 22,
                  "SibSp": 1,
                  "Parch": 0,
                  "Ticket": "A/5 21171",
                  "Fare": 7.25,
                  "Cabin": "nan",
                  "Embarked": "S",
                  "_deepnote_index_column": 1
                },
                {
                  "Survived": 1,
                  "Pclass": 1,
                  "Name": "Cumings, Mrs. John Bradley (Florence Briggs Thayer)",
                  "Sex": "female",
                  "Age": 38,
                  "SibSp": 1,
                  "Parch": 0,
                  "Ticket": "PC 17599",
                  "Fare": 71.2833,
                  "Cabin": "C85",
                  "Embarked": "C",
                  "_deepnote_index_column": 2
                },
                {
                  "Survived": 1,
                  "Pclass": 3,
                  "Name": "Heikkinen, Miss. Laina",
                  "Sex": "female",
                  "Age": 26,
                  "SibSp": 0,
                  "Parch": 0,
                  "Ticket": "STON/O2. 3101282",
                  "Fare": 7.925,
                  "Cabin": "nan",
                  "Embarked": "S",
                  "_deepnote_index_column": 3
                },
                {
                  "Survived": 1,
                  "Pclass": 1,
                  "Name": "Futrelle, Mrs. Jacques Heath (Lily May Peel)",
                  "Sex": "female",
                  "Age": 35,
                  "SibSp": 1,
                  "Parch": 0,
                  "Ticket": "113803",
                  "Fare": 53.1,
                  "Cabin": "C123",
                  "Embarked": "S",
                  "_deepnote_index_column": 4
                },
                {
                  "Survived": 0,
                  "Pclass": 3,
                  "Name": "Allen, Mr. William Henry",
                  "Sex": "male",
                  "Age": 35,
                  "SibSp": 0,
                  "Parch": 0,
                  "Ticket": "373450",
                  "Fare": 8.05,
                  "Cabin": "nan",
                  "Embarked": "S",
                  "_deepnote_index_column": 5
                },
                {
                  "Survived": 0,
                  "Pclass": 3,
                  "Name": "Moran, Mr. James",
                  "Sex": "male",
                  "Age": 29.69911764705882,
                  "SibSp": 0,
                  "Parch": 0,
                  "Ticket": "330877",
                  "Fare": 8.4583,
                  "Cabin": "nan",
                  "Embarked": "Q",
                  "_deepnote_index_column": 6
                },
                {
                  "Survived": 0,
                  "Pclass": 1,
                  "Name": "McCarthy, Mr. Timothy J",
                  "Sex": "male",
                  "Age": 54,
                  "SibSp": 0,
                  "Parch": 0,
                  "Ticket": "17463",
                  "Fare": 51.8625,
                  "Cabin": "E46",
                  "Embarked": "S",
                  "_deepnote_index_column": 7
                },
                {
                  "Survived": 0,
                  "Pclass": 3,
                  "Name": "Palsson, Master. Gosta Leonard",
                  "Sex": "male",
                  "Age": 2,
                  "SibSp": 3,
                  "Parch": 1,
                  "Ticket": "349909",
                  "Fare": 21.075,
                  "Cabin": "nan",
                  "Embarked": "S",
                  "_deepnote_index_column": 8
                },
                {
                  "Survived": 1,
                  "Pclass": 3,
                  "Name": "Johnson, Mrs. Oscar W (Elisabeth Vilhelmina Berg)",
                  "Sex": "female",
                  "Age": 27,
                  "SibSp": 0,
                  "Parch": 2,
                  "Ticket": "347742",
                  "Fare": 11.1333,
                  "Cabin": "nan",
                  "Embarked": "S",
                  "_deepnote_index_column": 9
                },
                {
                  "Survived": 1,
                  "Pclass": 2,
                  "Name": "Nasser, Mrs. Nicholas (Adele Achem)",
                  "Sex": "female",
                  "Age": 14,
                  "SibSp": 1,
                  "Parch": 0,
                  "Ticket": "237736",
                  "Fare": 30.0708,
                  "Cabin": "nan",
                  "Embarked": "C",
                  "_deepnote_index_column": 10
                }
              ],
              "rows_bottom": null
            },
            "text/plain": "             Survived  Pclass  \\\nPassengerId                     \n1                   0       3   \n2                   1       1   \n3                   1       3   \n4                   1       1   \n5                   0       3   \n6                   0       3   \n7                   0       1   \n8                   0       3   \n9                   1       3   \n10                  1       2   \n\n                                                          Name     Sex  \\\nPassengerId                                                              \n1                                      Braund, Mr. Owen Harris    male   \n2            Cumings, Mrs. John Bradley (Florence Briggs Th...  female   \n3                                       Heikkinen, Miss. Laina  female   \n4                 Futrelle, Mrs. Jacques Heath (Lily May Peel)  female   \n5                                     Allen, Mr. William Henry    male   \n6                                             Moran, Mr. James    male   \n7                                      McCarthy, Mr. Timothy J    male   \n8                               Palsson, Master. Gosta Leonard    male   \n9            Johnson, Mrs. Oscar W (Elisabeth Vilhelmina Berg)  female   \n10                         Nasser, Mrs. Nicholas (Adele Achem)  female   \n\n                   Age  SibSp  Parch            Ticket     Fare Cabin Embarked  \nPassengerId                                                                     \n1            22.000000      1      0         A/5 21171   7.2500   NaN        S  \n2            38.000000      1      0          PC 17599  71.2833   C85        C  \n3            26.000000      0      0  STON/O2. 3101282   7.9250   NaN        S  \n4            35.000000      1      0            113803  53.1000  C123        S  \n5            35.000000      0      0            373450   8.0500   NaN        S  \n6            29.699118      0      0            330877   8.4583   NaN        Q  \n7            54.000000      0      0             17463  51.8625   E46        S  \n8             2.000000      3      1            349909  21.0750   NaN        S  \n9            27.000000      0      2            347742  11.1333   NaN        S  \n10           14.000000      1      0            237736  30.0708   NaN        C  ",
            "text/html": "<div>\n<style scoped>\n    .dataframe tbody tr th:only-of-type {\n        vertical-align: middle;\n    }\n\n    .dataframe tbody tr th {\n        vertical-align: top;\n    }\n\n    .dataframe thead th {\n        text-align: right;\n    }\n</style>\n<table border=\"1\" class=\"dataframe\">\n  <thead>\n    <tr style=\"text-align: right;\">\n      <th></th>\n      <th>Survived</th>\n      <th>Pclass</th>\n      <th>Name</th>\n      <th>Sex</th>\n      <th>Age</th>\n      <th>SibSp</th>\n      <th>Parch</th>\n      <th>Ticket</th>\n      <th>Fare</th>\n      <th>Cabin</th>\n      <th>Embarked</th>\n    </tr>\n    <tr>\n      <th>PassengerId</th>\n      <th></th>\n      <th></th>\n      <th></th>\n      <th></th>\n      <th></th>\n      <th></th>\n      <th></th>\n      <th></th>\n      <th></th>\n      <th></th>\n      <th></th>\n    </tr>\n  </thead>\n  <tbody>\n    <tr>\n      <th>1</th>\n      <td>0</td>\n      <td>3</td>\n      <td>Braund, Mr. Owen Harris</td>\n      <td>male</td>\n      <td>22.000000</td>\n      <td>1</td>\n      <td>0</td>\n      <td>A/5 21171</td>\n      <td>7.2500</td>\n      <td>NaN</td>\n      <td>S</td>\n    </tr>\n    <tr>\n      <th>2</th>\n      <td>1</td>\n      <td>1</td>\n      <td>Cumings, Mrs. John Bradley (Florence Briggs Th...</td>\n      <td>female</td>\n      <td>38.000000</td>\n      <td>1</td>\n      <td>0</td>\n      <td>PC 17599</td>\n      <td>71.2833</td>\n      <td>C85</td>\n      <td>C</td>\n    </tr>\n    <tr>\n      <th>3</th>\n      <td>1</td>\n      <td>3</td>\n      <td>Heikkinen, Miss. Laina</td>\n      <td>female</td>\n      <td>26.000000</td>\n      <td>0</td>\n      <td>0</td>\n      <td>STON/O2. 3101282</td>\n      <td>7.9250</td>\n      <td>NaN</td>\n      <td>S</td>\n    </tr>\n    <tr>\n      <th>4</th>\n      <td>1</td>\n      <td>1</td>\n      <td>Futrelle, Mrs. Jacques Heath (Lily May Peel)</td>\n      <td>female</td>\n      <td>35.000000</td>\n      <td>1</td>\n      <td>0</td>\n      <td>113803</td>\n      <td>53.1000</td>\n      <td>C123</td>\n      <td>S</td>\n    </tr>\n    <tr>\n      <th>5</th>\n      <td>0</td>\n      <td>3</td>\n      <td>Allen, Mr. William Henry</td>\n      <td>male</td>\n      <td>35.000000</td>\n      <td>0</td>\n      <td>0</td>\n      <td>373450</td>\n      <td>8.0500</td>\n      <td>NaN</td>\n      <td>S</td>\n    </tr>\n    <tr>\n      <th>6</th>\n      <td>0</td>\n      <td>3</td>\n      <td>Moran, Mr. James</td>\n      <td>male</td>\n      <td>29.699118</td>\n      <td>0</td>\n      <td>0</td>\n      <td>330877</td>\n      <td>8.4583</td>\n      <td>NaN</td>\n      <td>Q</td>\n    </tr>\n    <tr>\n      <th>7</th>\n      <td>0</td>\n      <td>1</td>\n      <td>McCarthy, Mr. Timothy J</td>\n      <td>male</td>\n      <td>54.000000</td>\n      <td>0</td>\n      <td>0</td>\n      <td>17463</td>\n      <td>51.8625</td>\n      <td>E46</td>\n      <td>S</td>\n    </tr>\n    <tr>\n      <th>8</th>\n      <td>0</td>\n      <td>3</td>\n      <td>Palsson, Master. Gosta Leonard</td>\n      <td>male</td>\n      <td>2.000000</td>\n      <td>3</td>\n      <td>1</td>\n      <td>349909</td>\n      <td>21.0750</td>\n      <td>NaN</td>\n      <td>S</td>\n    </tr>\n    <tr>\n      <th>9</th>\n      <td>1</td>\n      <td>3</td>\n      <td>Johnson, Mrs. Oscar W (Elisabeth Vilhelmina Berg)</td>\n      <td>female</td>\n      <td>27.000000</td>\n      <td>0</td>\n      <td>2</td>\n      <td>347742</td>\n      <td>11.1333</td>\n      <td>NaN</td>\n      <td>S</td>\n    </tr>\n    <tr>\n      <th>10</th>\n      <td>1</td>\n      <td>2</td>\n      <td>Nasser, Mrs. Nicholas (Adele Achem)</td>\n      <td>female</td>\n      <td>14.000000</td>\n      <td>1</td>\n      <td>0</td>\n      <td>237736</td>\n      <td>30.0708</td>\n      <td>NaN</td>\n      <td>C</td>\n    </tr>\n  </tbody>\n</table>\n</div>"
          },
          "metadata": {}
        }
      ],
      "execution_count": 7
    },
    {
      "cell_type": "markdown",
      "source": "# Exercise 1 (2pts):\nExtract the title (Mr, Mrs, ... ) from the \"Name\" column.\n\nTips:\n- split(',')[1] to get the 2nd part, and remove the surnamename\n- split('.')[0] to get the 1str part, and remove the name",
      "metadata": {
        "cell_id": "00010-5d8c8dc6-7802-499d-af36-356f0b325569",
        "deepnote_cell_type": "markdown"
      }
    },
    {
      "cell_type": "code",
      "metadata": {
        "deletable": false,
        "nbgrader": {
          "cell_type": "code",
          "checksum": "cac1de4ed2d966fcdf707a8bfd131fba",
          "grade": false,
          "grade_id": "cell-d56107842f0f54d2",
          "locked": false,
          "schema_version": 3,
          "solution": true,
          "task": false
        },
        "cell_id": "00011-8c83dbaf-98f8-4c67-8a90-8af26b72e73d",
        "deepnote_to_be_reexecuted": false,
        "source_hash": "1516f956",
        "execution_start": 1620136473180,
        "execution_millis": 1,
        "deepnote_cell_type": "code"
      },
      "source": "# get_Title_from_Name funtion\n# Create this function using lambda (not def)\n\n# get_Title_from_Name = None\n\n\nget_Title_from_Name = lambda name: name.split(',')[1].split('.')[0].strip()\n\n\ndf['Title']      = df['Name'].map(get_Title_from_Name)\ndf_test['Title'] = df_test['Name'].map(get_Title_from_Name)",
      "execution_count": 8,
      "outputs": []
    },
    {
      "cell_type": "code",
      "metadata": {
        "deletable": false,
        "editable": false,
        "nbgrader": {
          "cell_type": "code",
          "checksum": "f23c4d567e5fb4f4b69a001df14c6f7c",
          "grade": true,
          "grade_id": "cell-f3d989a17018344b",
          "locked": true,
          "points": 2,
          "schema_version": 3,
          "solution": false,
          "task": false
        },
        "cell_id": "00012-8fadfdbe-bfdb-4146-ba61-146bf3f4b147",
        "deepnote_to_be_reexecuted": false,
        "source_hash": "cdcf037f",
        "execution_start": 1620136473180,
        "execution_millis": 23,
        "deepnote_cell_type": "code"
      },
      "source": "assert df['Title'].values[0] == \"Mr\"\nassert df['Title'].values[1] == \"Mrs\"\nassert df['Title'].values[2] == \"Miss\"\n\nassert df_test['Title'].values[0] == \"Mr\"\nassert df_test['Title'].values[1] == \"Mrs\"\nassert df_test['Title'].values[414] == \"Dona\"",
      "execution_count": 9,
      "outputs": []
    },
    {
      "cell_type": "markdown",
      "source": "# Exercise 2 (1pts):\nApply the title_dictionary to get a better information about the title. You have to overwrite the Title variable.",
      "metadata": {
        "cell_id": "00013-eb99ecad-f7a0-42e9-9599-6c9ef5aa24a9",
        "deepnote_cell_type": "markdown"
      }
    },
    {
      "cell_type": "code",
      "metadata": {
        "cell_id": "00014-cbc61eca-8f98-4a6c-909b-6e37f7571f3b",
        "deepnote_to_be_reexecuted": false,
        "source_hash": "93108900",
        "execution_start": 1620136473201,
        "execution_millis": 2,
        "deepnote_cell_type": "code"
      },
      "source": "title_dictionary = {\n    \"Capt\": \"Officer\",\n    \"Col\": \"Officer\",\n    \"Major\": \"Officer\",\n    \"Jonkheer\": \"Royalty\",\n    \"Don\": \"Royalty\",\n    \"Sir\" : \"Royalty\",\n    \"Dr\": \"Officer\",\n    \"Rev\": \"Officer\",\n    \"the Countess\":\"Royalty\",\n    \"Mme\": \"Mrs\",\n    \"Mlle\": \"Miss\",\n    \"Ms\": \"Mrs\",\n    \"Mr\" : \"Mr\",\n    \"Mrs\" : \"Mrs\",\n    \"Miss\" : \"Miss\",\n    \"Master\" : \"Master\",\n    \"Lady\" : \"Royalty\"\n}",
      "execution_count": 10,
      "outputs": []
    },
    {
      "cell_type": "code",
      "metadata": {
        "deletable": false,
        "nbgrader": {
          "cell_type": "code",
          "checksum": "da7233548e7218eded680b5edb7963de",
          "grade": false,
          "grade_id": "cell-5c6a842c812fafda",
          "locked": false,
          "schema_version": 3,
          "solution": true,
          "task": false
        },
        "cell_id": "00015-3b2eac3f-b6dc-4e8f-8a7e-aa10d7e63f05",
        "deepnote_to_be_reexecuted": false,
        "source_hash": "8624d092",
        "execution_start": 1620136473201,
        "execution_millis": 2,
        "deepnote_cell_type": "code"
      },
      "source": "# Use map to apply the prevous dict\n\ndf[\"Title\"] = df.Title.map(title_dictionary) \ndf_test[\"Title\"] = df_test.Title.map(title_dictionary)\n",
      "execution_count": 11,
      "outputs": []
    },
    {
      "cell_type": "code",
      "metadata": {
        "deletable": false,
        "editable": false,
        "nbgrader": {
          "cell_type": "code",
          "checksum": "96a09f1cde63b704ff2f391309c30690",
          "grade": true,
          "grade_id": "cell-669f5a637e57e835",
          "locked": true,
          "points": 1,
          "schema_version": 3,
          "solution": false,
          "task": false
        },
        "cell_id": "00016-5a7e61f5-b5c3-4cc7-9530-490a789a504e",
        "deepnote_to_be_reexecuted": false,
        "source_hash": "c2c848aa",
        "execution_start": 1620136473201,
        "execution_millis": 2,
        "deepnote_cell_type": "code"
      },
      "source": "assert df['Title'].values[886] == \"Officer\"\nassert df_test['Title'].values[417] == \"Master\"",
      "execution_count": 12,
      "outputs": []
    },
    {
      "cell_type": "markdown",
      "source": "# Exercise OPTINAL (0pts):\nTry to extract some information from the feature **Ticket**. Search on Internet if that colum has some kind of information.",
      "metadata": {
        "cell_id": "00017-cdf1f353-a4fe-4665-9401-f1653d479731",
        "deepnote_cell_type": "markdown"
      }
    },
    {
      "cell_type": "code",
      "metadata": {
        "cell_id": "00018-3b7d2a84-dca5-43ad-9c2b-53435afda3c2",
        "deepnote_to_be_reexecuted": false,
        "source_hash": "8057010a",
        "execution_start": 1620136473201,
        "execution_millis": 745,
        "deepnote_cell_type": "code"
      },
      "source": "df_test['Ticket']",
      "execution_count": 13,
      "outputs": [
        {
          "output_type": "execute_result",
          "data": {
            "text/plain": "PassengerId\n892                 330911\n893                 363272\n894                 240276\n895                 315154\n896                3101298\n               ...        \n1305             A.5. 3236\n1306              PC 17758\n1307    SOTON/O.Q. 3101262\n1308                359309\n1309                  2668\nName: Ticket, Length: 418, dtype: object"
          },
          "metadata": {},
          "execution_count": 12
        },
        {
          "output_type": "execute_result",
          "execution_count": 13,
          "data": {
            "text/plain": "PassengerId\n892                 330911\n893                 363272\n894                 240276\n895                 315154\n896                3101298\n               ...        \n1305             A.5. 3236\n1306              PC 17758\n1307    SOTON/O.Q. 3101262\n1308                359309\n1309                  2668\nName: Ticket, Length: 418, dtype: object"
          },
          "metadata": {}
        }
      ]
    },
    {
      "cell_type": "markdown",
      "source": "# Exercise OPTIONAL (0pts):\nTry to extract some information from the feature **Cabin**. Search on Internet if that colum has some kind of information.",
      "metadata": {
        "cell_id": "00019-25860fdb-da8f-43b3-be0f-dd52c857123c",
        "deepnote_cell_type": "markdown"
      }
    },
    {
      "cell_type": "code",
      "metadata": {
        "cell_id": "00020-32079b67-83d8-4c09-9b20-694924cc8f0e",
        "deepnote_to_be_reexecuted": false,
        "source_hash": "90539046",
        "execution_start": 1620136473202,
        "execution_millis": 744,
        "deepnote_cell_type": "code"
      },
      "source": "df_test['Cabin']",
      "execution_count": 14,
      "outputs": [
        {
          "output_type": "execute_result",
          "data": {
            "text/plain": "PassengerId\n892      NaN\n893      NaN\n894      NaN\n895      NaN\n896      NaN\n        ... \n1305     NaN\n1306    C105\n1307     NaN\n1308     NaN\n1309     NaN\nName: Cabin, Length: 418, dtype: object"
          },
          "metadata": {},
          "execution_count": 13
        },
        {
          "output_type": "execute_result",
          "execution_count": 14,
          "data": {
            "text/plain": "PassengerId\n892      NaN\n893      NaN\n894      NaN\n895      NaN\n896      NaN\n        ... \n1305     NaN\n1306    C105\n1307     NaN\n1308     NaN\n1309     NaN\nName: Cabin, Length: 418, dtype: object"
          },
          "metadata": {}
        }
      ]
    },
    {
      "cell_type": "markdown",
      "source": "# Preprocessing\nFor X data, notice that...\n- We drop Survived because is the target variable\n- We drop Name because we have extracted the Title: Mr, Mrs, ...\n- We drop Ticket because it has no information -> see df.Ticket.nunique()\n- We drop Cabin because it has a lot of missings (77% are missings)\n\nThen, we identify **numerical** variables and **categorical** variables,",
      "metadata": {
        "cell_id": "00021-43191d75-474a-4ea9-9916-96b49bf0d381",
        "deepnote_cell_type": "markdown"
      }
    },
    {
      "cell_type": "code",
      "metadata": {
        "cell_id": "00022-acb013f1-53ac-4d66-ad84-82ee395a763d",
        "deepnote_to_be_reexecuted": false,
        "source_hash": "48bb2d72",
        "execution_start": 1620136473202,
        "execution_millis": 1,
        "deepnote_cell_type": "code"
      },
      "source": "x = df.drop(columns=[\"Survived\", 'Name', 'Ticket', 'Cabin']) # X DATA (WILL BE TRAIN+VALID DATA)\ny = df[\"Survived\"] # 0 = No, 1 = Yes\n\nx_test = df_test.drop(columns=['Name', 'Ticket', 'Cabin']) # # X_TEST DATA (NEW DATA)",
      "execution_count": 15,
      "outputs": []
    },
    {
      "cell_type": "code",
      "metadata": {
        "cell_id": "00023-dc836067-24d0-4ea3-90a6-01e74a6302e8",
        "deepnote_to_be_reexecuted": false,
        "source_hash": "d4ce8b83",
        "execution_start": 1620136473202,
        "execution_millis": 744,
        "deepnote_cell_type": "code"
      },
      "source": "cat_vars  = ['Sex', 'Embarked', 'Title']         # x.select_dtypes(include=[object]).columns.values.tolist()\nnum_vars  = ['Pclass', 'SibSp', 'Parch', 'Fare', 'Age'] # x.select_dtypes(exclude=[object]).columns.values.tolist()\n\nprint(\"\\nNumerical features:\\n\", num_vars)\nprint(\"\\nCategorical features:\\n\", cat_vars)",
      "execution_count": 16,
      "outputs": [
        {
          "output_type": "stream",
          "name": "stdout",
          "text": "\nNumerical features:\n ['Pclass', 'SibSp', 'Parch', 'Fare', 'Age']\n\nCategorical features:\n ['Sex', 'Embarked', 'Title']\n"
        },
        {
          "name": "stdout",
          "text": "\nNumerical features:\n ['Pclass', 'SibSp', 'Parch', 'Fare', 'Age']\n\nCategorical features:\n ['Sex', 'Embarked', 'Title']\n",
          "output_type": "stream"
        }
      ]
    },
    {
      "cell_type": "markdown",
      "source": "# Exercise 3 (2pts):\nCreate a **ColumnTransformer for Tree Models**. You need to create 2 pipelines (one for numerical and other for categories). Remember:\n- Categorical pipeline: Some SimpleImputer -> Some Encoder\n- Numerical pipeline: Some SimpleImputer -> NO Encoder",
      "metadata": {
        "cell_id": "00024-9a053900-557e-4eb5-82f4-dd713e0656fb",
        "deepnote_cell_type": "markdown"
      }
    },
    {
      "cell_type": "code",
      "metadata": {
        "deletable": false,
        "nbgrader": {
          "cell_type": "code",
          "checksum": "4a99fc5ecc693dc549b0e1560c568eea",
          "grade": false,
          "grade_id": "cell-c607e75fb38ea248",
          "locked": false,
          "schema_version": 3,
          "solution": true,
          "task": false
        },
        "cell_id": "00025-825cd280-f3ee-4d36-bac8-f955ec7977ba",
        "deepnote_to_be_reexecuted": false,
        "source_hash": "fe65ae28",
        "execution_start": 1620136473203,
        "execution_millis": 744,
        "deepnote_cell_type": "code"
      },
      "source": "num_4_treeModels = pipeline.Pipeline(steps=[\n   ('imputer', impute.SimpleImputer(strategy='mean', add_indicator=False)), # mean, median\n])\n\ncat_4_treeModels = pipeline.Pipeline(steps=[\n   ('imputer', impute.SimpleImputer(strategy='constant', fill_value='missing')),\n    ('ordinal', preprocessing.OrdinalEncoder(handle_unknown='ignore'))\n])\n\ntree_prepro = compose.ColumnTransformer(transformers=[\n    ('num', num_4_treeModels, num_vars),\n    ('cat', cat_4_treeModels, cat_vars),\n], remainder='drop') # Drop other vars not specified in num_vars or cat_vars\n\ntree_prepro\n",
      "execution_count": 17,
      "outputs": [
        {
          "output_type": "error",
          "ename": "NameError",
          "evalue": "name 'num_vars' is not defined",
          "traceback": [
            "\u001b[0;31m---------------------------------------------------------------------------\u001b[0m",
            "\u001b[0;31mNameError\u001b[0m                                 Traceback (most recent call last)",
            "\u001b[0;32m<ipython-input-8-31da58f92fb9>\u001b[0m in \u001b[0;36m<module>\u001b[0;34m\u001b[0m\n\u001b[1;32m      9\u001b[0m \u001b[0;34m\u001b[0m\u001b[0m\n\u001b[1;32m     10\u001b[0m tree_prepro = compose.ColumnTransformer(transformers=[\n\u001b[0;32m---> 11\u001b[0;31m     \u001b[0;34m(\u001b[0m\u001b[0;34m'num'\u001b[0m\u001b[0;34m,\u001b[0m \u001b[0mnum_4_treeModels\u001b[0m\u001b[0;34m,\u001b[0m \u001b[0mnum_vars\u001b[0m\u001b[0;34m)\u001b[0m\u001b[0;34m,\u001b[0m\u001b[0;34m\u001b[0m\u001b[0;34m\u001b[0m\u001b[0m\n\u001b[0m\u001b[1;32m     12\u001b[0m     \u001b[0;34m(\u001b[0m\u001b[0;34m'cat'\u001b[0m\u001b[0;34m,\u001b[0m \u001b[0mcat_4_treeModels\u001b[0m\u001b[0;34m,\u001b[0m \u001b[0mcat_vars\u001b[0m\u001b[0;34m)\u001b[0m\u001b[0;34m,\u001b[0m\u001b[0;34m\u001b[0m\u001b[0;34m\u001b[0m\u001b[0m\n\u001b[1;32m     13\u001b[0m ], remainder='drop') # Drop other vars not specified in num_vars or cat_vars\n",
            "\u001b[0;31mNameError\u001b[0m: name 'num_vars' is not defined"
          ]
        },
        {
          "output_type": "execute_result",
          "execution_count": 17,
          "data": {
            "text/plain": "ColumnTransformer(transformers=[('num',\n                                 Pipeline(steps=[('imputer', SimpleImputer())]),\n                                 ['Pclass', 'SibSp', 'Parch', 'Fare', 'Age']),\n                                ('cat',\n                                 Pipeline(steps=[('imputer',\n                                                  SimpleImputer(fill_value='missing',\n                                                                strategy='constant')),\n                                                 ('ordinal',\n                                                  OrdinalEncoder(handle_unknown='ignore'))]),\n                                 ['Sex', 'Embarked', 'Title'])])",
            "text/html": "<style>div.sk-top-container {color: black;background-color: white;}div.sk-toggleable {background-color: white;}label.sk-toggleable__label {cursor: pointer;display: block;width: 100%;margin-bottom: 0;padding: 0.2em 0.3em;box-sizing: border-box;text-align: center;}div.sk-toggleable__content {max-height: 0;max-width: 0;overflow: hidden;text-align: left;background-color: #f0f8ff;}div.sk-toggleable__content pre {margin: 0.2em;color: black;border-radius: 0.25em;background-color: #f0f8ff;}input.sk-toggleable__control:checked~div.sk-toggleable__content {max-height: 200px;max-width: 100%;overflow: auto;}div.sk-estimator input.sk-toggleable__control:checked~label.sk-toggleable__label {background-color: #d4ebff;}div.sk-label input.sk-toggleable__control:checked~label.sk-toggleable__label {background-color: #d4ebff;}input.sk-hidden--visually {border: 0;clip: rect(1px 1px 1px 1px);clip: rect(1px, 1px, 1px, 1px);height: 1px;margin: -1px;overflow: hidden;padding: 0;position: absolute;width: 1px;}div.sk-estimator {font-family: monospace;background-color: #f0f8ff;margin: 0.25em 0.25em;border: 1px dotted black;border-radius: 0.25em;box-sizing: border-box;}div.sk-estimator:hover {background-color: #d4ebff;}div.sk-parallel-item::after {content: \"\";width: 100%;border-bottom: 1px solid gray;flex-grow: 1;}div.sk-label:hover label.sk-toggleable__label {background-color: #d4ebff;}div.sk-serial::before {content: \"\";position: absolute;border-left: 1px solid gray;box-sizing: border-box;top: 2em;bottom: 0;left: 50%;}div.sk-serial {display: flex;flex-direction: column;align-items: center;background-color: white;}div.sk-item {z-index: 1;}div.sk-parallel {display: flex;align-items: stretch;justify-content: center;background-color: white;}div.sk-parallel-item {display: flex;flex-direction: column;position: relative;background-color: white;}div.sk-parallel-item:first-child::after {align-self: flex-end;width: 50%;}div.sk-parallel-item:last-child::after {align-self: flex-start;width: 50%;}div.sk-parallel-item:only-child::after {width: 0;}div.sk-dashed-wrapped {border: 1px dashed gray;margin: 0.2em;box-sizing: border-box;padding-bottom: 0.1em;background-color: white;position: relative;}div.sk-label label {font-family: monospace;font-weight: bold;background-color: white;display: inline-block;line-height: 1.2em;}div.sk-label-container {position: relative;z-index: 2;text-align: center;}div.sk-container {display: inline-block;position: relative;}</style><div class=\"sk-top-container\"><div class=\"sk-container\"><div class=\"sk-item sk-dashed-wrapped\"><div class=\"sk-label-container\"><div class=\"sk-label sk-toggleable\"><input class=\"sk-toggleable__control sk-hidden--visually\" id=\"3017dc12-6996-46cb-a2f4-b847cec04d15\" type=\"checkbox\" ><label class=\"sk-toggleable__label\" for=\"3017dc12-6996-46cb-a2f4-b847cec04d15\">ColumnTransformer</label><div class=\"sk-toggleable__content\"><pre>ColumnTransformer(transformers=[('num',\n                                 Pipeline(steps=[('imputer', SimpleImputer())]),\n                                 ['Pclass', 'SibSp', 'Parch', 'Fare', 'Age']),\n                                ('cat',\n                                 Pipeline(steps=[('imputer',\n                                                  SimpleImputer(fill_value='missing',\n                                                                strategy='constant')),\n                                                 ('ordinal',\n                                                  OrdinalEncoder(handle_unknown='ignore'))]),\n                                 ['Sex', 'Embarked', 'Title'])])</pre></div></div></div><div class=\"sk-parallel\"><div class=\"sk-parallel-item\"><div class=\"sk-item\"><div class=\"sk-label-container\"><div class=\"sk-label sk-toggleable\"><input class=\"sk-toggleable__control sk-hidden--visually\" id=\"3b0b6b6b-c978-4087-8939-9b148195add6\" type=\"checkbox\" ><label class=\"sk-toggleable__label\" for=\"3b0b6b6b-c978-4087-8939-9b148195add6\">num</label><div class=\"sk-toggleable__content\"><pre>['Pclass', 'SibSp', 'Parch', 'Fare', 'Age']</pre></div></div></div><div class=\"sk-serial\"><div class=\"sk-item\"><div class=\"sk-serial\"><div class=\"sk-item\"><div class=\"sk-estimator sk-toggleable\"><input class=\"sk-toggleable__control sk-hidden--visually\" id=\"3430b8fe-abb3-4983-8e2e-30c287e98770\" type=\"checkbox\" ><label class=\"sk-toggleable__label\" for=\"3430b8fe-abb3-4983-8e2e-30c287e98770\">SimpleImputer</label><div class=\"sk-toggleable__content\"><pre>SimpleImputer()</pre></div></div></div></div></div></div></div></div><div class=\"sk-parallel-item\"><div class=\"sk-item\"><div class=\"sk-label-container\"><div class=\"sk-label sk-toggleable\"><input class=\"sk-toggleable__control sk-hidden--visually\" id=\"ca4d81ed-5603-49b9-9434-3cf6633c7836\" type=\"checkbox\" ><label class=\"sk-toggleable__label\" for=\"ca4d81ed-5603-49b9-9434-3cf6633c7836\">cat</label><div class=\"sk-toggleable__content\"><pre>['Sex', 'Embarked', 'Title']</pre></div></div></div><div class=\"sk-serial\"><div class=\"sk-item\"><div class=\"sk-serial\"><div class=\"sk-item\"><div class=\"sk-estimator sk-toggleable\"><input class=\"sk-toggleable__control sk-hidden--visually\" id=\"1bc644f7-bd8b-4872-9ea3-07ab416b16cd\" type=\"checkbox\" ><label class=\"sk-toggleable__label\" for=\"1bc644f7-bd8b-4872-9ea3-07ab416b16cd\">SimpleImputer</label><div class=\"sk-toggleable__content\"><pre>SimpleImputer(fill_value='missing', strategy='constant')</pre></div></div></div><div class=\"sk-item\"><div class=\"sk-estimator sk-toggleable\"><input class=\"sk-toggleable__control sk-hidden--visually\" id=\"5c6bee3a-12ba-4e3b-949c-4c3a19b8c2be\" type=\"checkbox\" ><label class=\"sk-toggleable__label\" for=\"5c6bee3a-12ba-4e3b-949c-4c3a19b8c2be\">OrdinalEncoder</label><div class=\"sk-toggleable__content\"><pre>OrdinalEncoder(handle_unknown='ignore')</pre></div></div></div></div></div></div></div></div></div></div></div></div>"
          },
          "metadata": {}
        }
      ]
    },
    {
      "cell_type": "code",
      "metadata": {
        "deletable": false,
        "editable": false,
        "nbgrader": {
          "cell_type": "code",
          "checksum": "00bde840843413a4f57c4480f8930ef0",
          "grade": true,
          "grade_id": "cell-e636558135fb5975",
          "locked": true,
          "points": 2,
          "schema_version": 3,
          "solution": false,
          "task": false
        },
        "cell_id": "00026-81e75938-aaf2-4c12-b47c-ff6341a3d638",
        "deepnote_to_be_reexecuted": false,
        "source_hash": "302e028d",
        "execution_start": 1620136473228,
        "execution_millis": 3,
        "deepnote_cell_type": "code"
      },
      "source": "assert type(tree_prepro)      is compose._column_transformer.ColumnTransformer\nassert type(num_4_treeModels) is pipeline.Pipeline\nassert type(cat_4_treeModels) is pipeline.Pipeline\nassert len(num_4_treeModels) == 1\nassert len(cat_4_treeModels) == 2",
      "execution_count": 18,
      "outputs": []
    },
    {
      "cell_type": "markdown",
      "source": "# Exercise 4 (1pts):\n1. Complete the diccionary with some Tree Models.\n2. Then we put each model in a Pipeline where:\n   - first is the prepocessing with the column Transformer\n   - Then is the Tree model\n3. Display the fullpipeline of the LGBMClassifier",
      "metadata": {
        "cell_id": "00027-19082add-d8a2-4fb7-9781-cc349efe2ff9",
        "deepnote_cell_type": "markdown"
      }
    },
    {
      "cell_type": "code",
      "metadata": {
        "cell_id": "00028-ab290223-758d-4510-a375-4ebbc740d6d5",
        "deepnote_to_be_reexecuted": false,
        "source_hash": "657a8b57",
        "execution_start": 1620136473229,
        "execution_millis": 718,
        "deepnote_cell_type": "code"
      },
      "source": "from sklearn.tree          import DecisionTreeClassifier\nfrom sklearn.ensemble      import RandomForestClassifier\nfrom sklearn.ensemble      import ExtraTreesClassifier\nfrom sklearn.ensemble      import AdaBoostClassifier\nfrom sklearn.ensemble      import GradientBoostingClassifier\nfrom sklearn.experimental  import enable_hist_gradient_boosting # Necesary for HistGradientBoostingClassifier\nfrom sklearn.ensemble      import HistGradientBoostingClassifier\nfrom xgboost               import XGBClassifier\nfrom lightgbm              import LGBMClassifier\nfrom catboost              import CatBoostClassifier",
      "execution_count": 19,
      "outputs": [
        {
          "output_type": "error",
          "ename": "ModuleNotFoundError",
          "evalue": "No module named 'xgboost'",
          "traceback": [
            "\u001b[0;31m---------------------------------------------------------------------------\u001b[0m",
            "\u001b[0;31mModuleNotFoundError\u001b[0m                       Traceback (most recent call last)",
            "\u001b[0;32m<ipython-input-19-4942c4a5fb37>\u001b[0m in \u001b[0;36m<module>\u001b[0;34m\u001b[0m\n\u001b[1;32m      6\u001b[0m \u001b[0;32mfrom\u001b[0m \u001b[0msklearn\u001b[0m\u001b[0;34m.\u001b[0m\u001b[0mexperimental\u001b[0m  \u001b[0;32mimport\u001b[0m \u001b[0menable_hist_gradient_boosting\u001b[0m \u001b[0;31m# Necesary for HistGradientBoostingClassifier\u001b[0m\u001b[0;34m\u001b[0m\u001b[0;34m\u001b[0m\u001b[0m\n\u001b[1;32m      7\u001b[0m \u001b[0;32mfrom\u001b[0m \u001b[0msklearn\u001b[0m\u001b[0;34m.\u001b[0m\u001b[0mensemble\u001b[0m      \u001b[0;32mimport\u001b[0m \u001b[0mHistGradientBoostingClassifier\u001b[0m\u001b[0;34m\u001b[0m\u001b[0;34m\u001b[0m\u001b[0m\n\u001b[0;32m----> 8\u001b[0;31m \u001b[0;32mfrom\u001b[0m \u001b[0mxgboost\u001b[0m               \u001b[0;32mimport\u001b[0m \u001b[0mXGBClassifier\u001b[0m\u001b[0;34m\u001b[0m\u001b[0;34m\u001b[0m\u001b[0m\n\u001b[0m\u001b[1;32m      9\u001b[0m \u001b[0;32mfrom\u001b[0m \u001b[0mlightgbm\u001b[0m              \u001b[0;32mimport\u001b[0m \u001b[0mLGBMClassifier\u001b[0m\u001b[0;34m\u001b[0m\u001b[0;34m\u001b[0m\u001b[0m\n\u001b[1;32m     10\u001b[0m \u001b[0;32mfrom\u001b[0m \u001b[0mcatboost\u001b[0m              \u001b[0;32mimport\u001b[0m \u001b[0mCatBoostClassifier\u001b[0m\u001b[0;34m\u001b[0m\u001b[0;34m\u001b[0m\u001b[0m\n",
            "\u001b[0;31mModuleNotFoundError\u001b[0m: No module named 'xgboost'"
          ]
        }
      ]
    },
    {
      "cell_type": "code",
      "metadata": {
        "deletable": false,
        "nbgrader": {
          "cell_type": "code",
          "checksum": "f23af11f3af791efa5687477c0a4c9d6",
          "grade": false,
          "grade_id": "cell-76a3be8223730c5a",
          "locked": false,
          "schema_version": 3,
          "solution": true,
          "task": false
        },
        "cell_id": "00029-8c3a8a20-0462-4f41-8d47-e319ddf48de6",
        "deepnote_to_be_reexecuted": true,
        "source_hash": "cc5bb2a2",
        "deepnote_cell_type": "code"
      },
      "source": "tree_classifiers = {\n  \"Decision Tree\": DecisionTreeClassifier(),\n  \"Extra Trees\":ExtraTreesClassifier(),\n  \"Random Forest\":RandomForestClassifier(),\n  \"AdaBoost\":AdaBoostClassifier(),\n  \"Skl GBM\":GradientBoostingClassifier(),\n  \"Skl HistGBM\":GradientBoostingClassifier(),\n  \"XGBoost\":XGBClassifier(),\n  \"LightGBM\":LGBMClassifier(),\n  \"CatBoost\":CatBoostClassifier()\n}\ntree_classifiers = {name: pipeline.make_pipeline(tree_prepro, model) for name, model in tree_classifiers.items()}\ntree_classifiers[\"LightGBM\"]\n\n",
      "outputs": [
        {
          "output_type": "execute_result",
          "data": {
            "text/plain": "Pipeline(steps=[('columntransformer',\n                 ColumnTransformer(transformers=[('num',\n                                                  Pipeline(steps=[('imputer',\n                                                                   SimpleImputer())]),\n                                                  ['Pclass', 'SibSp', 'Parch',\n                                                   'Fare', 'Age']),\n                                                 ('cat',\n                                                  Pipeline(steps=[('imputer',\n                                                                   SimpleImputer(fill_value='missing',\n                                                                                 strategy='constant')),\n                                                                  ('onehot',\n                                                                   OneHotEncoder(handle_unknown='ignore'))]),\n                                                  ['Sex', 'Embarked',\n                                                   'Title'])])),\n                ('lgbmclassifier', LGBMClassifier())])",
            "text/html": "<style>div.sk-top-container {color: black;background-color: white;}div.sk-toggleable {background-color: white;}label.sk-toggleable__label {cursor: pointer;display: block;width: 100%;margin-bottom: 0;padding: 0.2em 0.3em;box-sizing: border-box;text-align: center;}div.sk-toggleable__content {max-height: 0;max-width: 0;overflow: hidden;text-align: left;background-color: #f0f8ff;}div.sk-toggleable__content pre {margin: 0.2em;color: black;border-radius: 0.25em;background-color: #f0f8ff;}input.sk-toggleable__control:checked~div.sk-toggleable__content {max-height: 200px;max-width: 100%;overflow: auto;}div.sk-estimator input.sk-toggleable__control:checked~label.sk-toggleable__label {background-color: #d4ebff;}div.sk-label input.sk-toggleable__control:checked~label.sk-toggleable__label {background-color: #d4ebff;}input.sk-hidden--visually {border: 0;clip: rect(1px 1px 1px 1px);clip: rect(1px, 1px, 1px, 1px);height: 1px;margin: -1px;overflow: hidden;padding: 0;position: absolute;width: 1px;}div.sk-estimator {font-family: monospace;background-color: #f0f8ff;margin: 0.25em 0.25em;border: 1px dotted black;border-radius: 0.25em;box-sizing: border-box;}div.sk-estimator:hover {background-color: #d4ebff;}div.sk-parallel-item::after {content: \"\";width: 100%;border-bottom: 1px solid gray;flex-grow: 1;}div.sk-label:hover label.sk-toggleable__label {background-color: #d4ebff;}div.sk-serial::before {content: \"\";position: absolute;border-left: 1px solid gray;box-sizing: border-box;top: 2em;bottom: 0;left: 50%;}div.sk-serial {display: flex;flex-direction: column;align-items: center;background-color: white;}div.sk-item {z-index: 1;}div.sk-parallel {display: flex;align-items: stretch;justify-content: center;background-color: white;}div.sk-parallel-item {display: flex;flex-direction: column;position: relative;background-color: white;}div.sk-parallel-item:first-child::after {align-self: flex-end;width: 50%;}div.sk-parallel-item:last-child::after {align-self: flex-start;width: 50%;}div.sk-parallel-item:only-child::after {width: 0;}div.sk-dashed-wrapped {border: 1px dashed gray;margin: 0.2em;box-sizing: border-box;padding-bottom: 0.1em;background-color: white;position: relative;}div.sk-label label {font-family: monospace;font-weight: bold;background-color: white;display: inline-block;line-height: 1.2em;}div.sk-label-container {position: relative;z-index: 2;text-align: center;}div.sk-container {display: inline-block;position: relative;}</style><div class=\"sk-top-container\"><div class=\"sk-container\"><div class=\"sk-item sk-dashed-wrapped\"><div class=\"sk-label-container\"><div class=\"sk-label sk-toggleable\"><input class=\"sk-toggleable__control sk-hidden--visually\" id=\"c62d9c96-dcb2-4986-a75d-366f6c3435e9\" type=\"checkbox\" ><label class=\"sk-toggleable__label\" for=\"c62d9c96-dcb2-4986-a75d-366f6c3435e9\">Pipeline</label><div class=\"sk-toggleable__content\"><pre>Pipeline(steps=[('columntransformer',\n                 ColumnTransformer(transformers=[('num',\n                                                  Pipeline(steps=[('imputer',\n                                                                   SimpleImputer())]),\n                                                  ['Pclass', 'SibSp', 'Parch',\n                                                   'Fare', 'Age']),\n                                                 ('cat',\n                                                  Pipeline(steps=[('imputer',\n                                                                   SimpleImputer(fill_value='missing',\n                                                                                 strategy='constant')),\n                                                                  ('onehot',\n                                                                   OneHotEncoder(handle_unknown='ignore'))]),\n                                                  ['Sex', 'Embarked',\n                                                   'Title'])])),\n                ('lgbmclassifier', LGBMClassifier())])</pre></div></div></div><div class=\"sk-serial\"><div class=\"sk-item sk-dashed-wrapped\"><div class=\"sk-label-container\"><div class=\"sk-label sk-toggleable\"><input class=\"sk-toggleable__control sk-hidden--visually\" id=\"2b54c801-e1de-4f24-a9c7-c3e5144c2dd8\" type=\"checkbox\" ><label class=\"sk-toggleable__label\" for=\"2b54c801-e1de-4f24-a9c7-c3e5144c2dd8\">columntransformer: ColumnTransformer</label><div class=\"sk-toggleable__content\"><pre>ColumnTransformer(transformers=[('num',\n                                 Pipeline(steps=[('imputer', SimpleImputer())]),\n                                 ['Pclass', 'SibSp', 'Parch', 'Fare', 'Age']),\n                                ('cat',\n                                 Pipeline(steps=[('imputer',\n                                                  SimpleImputer(fill_value='missing',\n                                                                strategy='constant')),\n                                                 ('onehot',\n                                                  OneHotEncoder(handle_unknown='ignore'))]),\n                                 ['Sex', 'Embarked', 'Title'])])</pre></div></div></div><div class=\"sk-parallel\"><div class=\"sk-parallel-item\"><div class=\"sk-item\"><div class=\"sk-label-container\"><div class=\"sk-label sk-toggleable\"><input class=\"sk-toggleable__control sk-hidden--visually\" id=\"a36d7e6f-f1c4-459f-8c7a-f9c1890ac30a\" type=\"checkbox\" ><label class=\"sk-toggleable__label\" for=\"a36d7e6f-f1c4-459f-8c7a-f9c1890ac30a\">num</label><div class=\"sk-toggleable__content\"><pre>['Pclass', 'SibSp', 'Parch', 'Fare', 'Age']</pre></div></div></div><div class=\"sk-serial\"><div class=\"sk-item\"><div class=\"sk-serial\"><div class=\"sk-item\"><div class=\"sk-estimator sk-toggleable\"><input class=\"sk-toggleable__control sk-hidden--visually\" id=\"742730b4-b396-4292-9259-c6150acf479f\" type=\"checkbox\" ><label class=\"sk-toggleable__label\" for=\"742730b4-b396-4292-9259-c6150acf479f\">SimpleImputer</label><div class=\"sk-toggleable__content\"><pre>SimpleImputer()</pre></div></div></div></div></div></div></div></div><div class=\"sk-parallel-item\"><div class=\"sk-item\"><div class=\"sk-label-container\"><div class=\"sk-label sk-toggleable\"><input class=\"sk-toggleable__control sk-hidden--visually\" id=\"04b840c3-26f9-4e39-924a-ad96260ecc2d\" type=\"checkbox\" ><label class=\"sk-toggleable__label\" for=\"04b840c3-26f9-4e39-924a-ad96260ecc2d\">cat</label><div class=\"sk-toggleable__content\"><pre>['Sex', 'Embarked', 'Title']</pre></div></div></div><div class=\"sk-serial\"><div class=\"sk-item\"><div class=\"sk-serial\"><div class=\"sk-item\"><div class=\"sk-estimator sk-toggleable\"><input class=\"sk-toggleable__control sk-hidden--visually\" id=\"73dc9b25-157b-46da-ad1d-4ed7b1ba9437\" type=\"checkbox\" ><label class=\"sk-toggleable__label\" for=\"73dc9b25-157b-46da-ad1d-4ed7b1ba9437\">SimpleImputer</label><div class=\"sk-toggleable__content\"><pre>SimpleImputer(fill_value='missing', strategy='constant')</pre></div></div></div><div class=\"sk-item\"><div class=\"sk-estimator sk-toggleable\"><input class=\"sk-toggleable__control sk-hidden--visually\" id=\"0c750b2c-2e59-4f3d-9649-eb5e7cbb13f5\" type=\"checkbox\" ><label class=\"sk-toggleable__label\" for=\"0c750b2c-2e59-4f3d-9649-eb5e7cbb13f5\">OneHotEncoder</label><div class=\"sk-toggleable__content\"><pre>OneHotEncoder(handle_unknown='ignore')</pre></div></div></div></div></div></div></div></div></div></div><div class=\"sk-item\"><div class=\"sk-estimator sk-toggleable\"><input class=\"sk-toggleable__control sk-hidden--visually\" id=\"e7392320-966c-4ed7-bffb-aaf7cc9cbd66\" type=\"checkbox\" ><label class=\"sk-toggleable__label\" for=\"e7392320-966c-4ed7-bffb-aaf7cc9cbd66\">LGBMClassifier</label><div class=\"sk-toggleable__content\"><pre>LGBMClassifier()</pre></div></div></div></div></div></div></div>"
          },
          "metadata": {},
          "execution_count": 19
        }
      ],
      "execution_count": null
    },
    {
      "cell_type": "code",
      "metadata": {
        "deletable": false,
        "editable": false,
        "nbgrader": {
          "cell_type": "code",
          "checksum": "2355552b3ce823e44fdaea06394e054c",
          "grade": true,
          "grade_id": "cell-d4744022b37e2e9b",
          "locked": true,
          "points": 1,
          "schema_version": 3,
          "solution": false,
          "task": false
        },
        "cell_id": "00030-04b03ef6-af07-4da0-a7a3-04e1532f0f33",
        "deepnote_to_be_reexecuted": true,
        "source_hash": "25e0f28b",
        "deepnote_cell_type": "code"
      },
      "source": "for pipe in tree_classifiers.values():\n    assert type(pipe) is pipeline.Pipeline",
      "outputs": [],
      "execution_count": null
    },
    {
      "cell_type": "markdown",
      "source": "# Exercise 5 (3pts):\nDefine a simple split validation strategy with:\n- 80% for train\n- 20% for validation\n- With stratification\n- random_state=0\n\nAnd train all the models in a for loop",
      "metadata": {
        "cell_id": "00031-967903c2-88b5-46c1-8486-8a86a302c2da",
        "deepnote_cell_type": "markdown"
      }
    },
    {
      "cell_type": "code",
      "metadata": {
        "colab": {
          "base_uri": "https://localhost:8080/",
          "height": 173
        },
        "colab_type": "code",
        "deletable": false,
        "id": "kY1uWk6-OcLw",
        "nbgrader": {
          "cell_type": "code",
          "checksum": "e48597a78f468a95abf116052e9f68e6",
          "grade": false,
          "grade_id": "cell-64f17e0d448bca7e",
          "locked": false,
          "schema_version": 3,
          "solution": true,
          "task": false
        },
        "outputId": "3562463f-3197-424c-dc82-b07ad579e9cc",
        "tags": [
          "outputPrepend"
        ],
        "cell_id": "00032-b52e5704-6cee-44f2-8e44-8767ba3213c3",
        "deepnote_to_be_reexecuted": true,
        "source_hash": "52639451",
        "deepnote_cell_type": "code"
      },
      "source": "x_train, x_val, y_train, y_val = model_selection.train_test_split(\n    x, y,\n    test_size=0.2,\n    stratify = y,   \n    random_state=4 )\n\nresults = pd.DataFrame({'Model': [], 'Accuracy': [], 'Bal Acc.': [], 'Time': []})\n\nfor model_name, model in tree_classifiers.items():\n\n    start_time = time.time()\n    model.fit(x_train, y_train)\n    total_time = time.time() - start_time\n    \n    pred = model.predict(x_val)\n    \n    results = results.append({\"Model\":    model_name,\n                              \"Accuracy\": metrics.accuracy_score(y_val, pred)*100,\n                              \"Bal Acc.\": metrics.balanced_accuracy_score(y_val, pred)*100,\n                              \"Time\":     total_time},\n                              ignore_index=True)\n    \n\n\nresults_ord = results.sort_values(by=['Accuracy'], ascending=False, ignore_index=True)\nresults_ord.index += 1 \nresults_ord.style.bar(subset=['Accuracy', 'Bal Acc.'], vmin=0, vmax=100, color='#5fba7d')",
      "outputs": [
        {
          "output_type": "stream",
          "name": "stderr",
          "text": "earn: 0.3231792\ttotal: 8.18s\tremaining: 5.12s\n615:\tlearn: 0.3231011\ttotal: 8.19s\tremaining: 5.1s\n616:\tlearn: 0.3229018\ttotal: 8.19s\tremaining: 5.08s\n617:\tlearn: 0.3226934\ttotal: 8.19s\tremaining: 5.06s\n618:\tlearn: 0.3226679\ttotal: 8.21s\tremaining: 5.06s\n619:\tlearn: 0.3224384\ttotal: 8.32s\tremaining: 5.1s\n620:\tlearn: 0.3222797\ttotal: 8.35s\tremaining: 5.1s\n621:\tlearn: 0.3221968\ttotal: 8.36s\tremaining: 5.08s\n622:\tlearn: 0.3221056\ttotal: 8.36s\tremaining: 5.06s\n623:\tlearn: 0.3220152\ttotal: 8.36s\tremaining: 5.04s\n624:\tlearn: 0.3216825\ttotal: 8.37s\tremaining: 5.02s\n625:\tlearn: 0.3216729\ttotal: 8.37s\tremaining: 5s\n626:\tlearn: 0.3215428\ttotal: 8.37s\tremaining: 4.98s\n627:\tlearn: 0.3213518\ttotal: 8.37s\tremaining: 4.96s\n628:\tlearn: 0.3211542\ttotal: 8.38s\tremaining: 4.94s\n629:\tlearn: 0.3210773\ttotal: 8.38s\tremaining: 4.92s\n630:\tlearn: 0.3209931\ttotal: 8.39s\tremaining: 4.91s\n631:\tlearn: 0.3209187\ttotal: 8.39s\tremaining: 4.89s\n632:\tlearn: 0.3207711\ttotal: 8.39s\tremaining: 4.87s\n633:\tlearn: 0.3205822\ttotal: 8.4s\tremaining: 4.85s\n634:\tlearn: 0.3205237\ttotal: 8.4s\tremaining: 4.83s\n635:\tlearn: 0.3204768\ttotal: 8.4s\tremaining: 4.81s\n636:\tlearn: 0.3203831\ttotal: 8.41s\tremaining: 4.79s\n637:\tlearn: 0.3203519\ttotal: 8.41s\tremaining: 4.77s\n638:\tlearn: 0.3202068\ttotal: 8.41s\tremaining: 4.75s\n639:\tlearn: 0.3201873\ttotal: 8.42s\tremaining: 4.73s\n640:\tlearn: 0.3200130\ttotal: 8.42s\tremaining: 4.71s\n641:\tlearn: 0.3199202\ttotal: 8.42s\tremaining: 4.7s\n642:\tlearn: 0.3198245\ttotal: 8.43s\tremaining: 4.68s\n643:\tlearn: 0.3197703\ttotal: 8.43s\tremaining: 4.66s\n644:\tlearn: 0.3196071\ttotal: 8.43s\tremaining: 4.64s\n645:\tlearn: 0.3195051\ttotal: 8.67s\tremaining: 4.75s\n646:\tlearn: 0.3193927\ttotal: 8.67s\tremaining: 4.73s\n647:\tlearn: 0.3191539\ttotal: 8.68s\tremaining: 4.72s\n648:\tlearn: 0.3190506\ttotal: 8.69s\tremaining: 4.7s\n649:\tlearn: 0.3188992\ttotal: 8.69s\tremaining: 4.68s\n650:\tlearn: 0.3186625\ttotal: 8.7s\tremaining: 4.67s\n651:\tlearn: 0.3184947\ttotal: 8.71s\tremaining: 4.65s\n652:\tlearn: 0.3183623\ttotal: 8.72s\tremaining: 4.63s\n653:\tlearn: 0.3181425\ttotal: 8.72s\tremaining: 4.61s\n654:\tlearn: 0.3178608\ttotal: 8.73s\tremaining: 4.6s\n655:\tlearn: 0.3178417\ttotal: 8.74s\tremaining: 4.58s\n656:\tlearn: 0.3177446\ttotal: 8.74s\tremaining: 4.56s\n657:\tlearn: 0.3176423\ttotal: 8.74s\tremaining: 4.54s\n658:\tlearn: 0.3174492\ttotal: 8.74s\tremaining: 4.53s\n659:\tlearn: 0.3172955\ttotal: 8.75s\tremaining: 4.51s\n660:\tlearn: 0.3172647\ttotal: 8.76s\tremaining: 4.49s\n661:\tlearn: 0.3171652\ttotal: 8.76s\tremaining: 4.47s\n662:\tlearn: 0.3169394\ttotal: 8.78s\tremaining: 4.46s\n663:\tlearn: 0.3168104\ttotal: 9s\tremaining: 4.56s\n664:\tlearn: 0.3167249\ttotal: 9.01s\tremaining: 4.54s\n665:\tlearn: 0.3164847\ttotal: 9.02s\tremaining: 4.53s\n666:\tlearn: 0.3164294\ttotal: 9.03s\tremaining: 4.51s\n667:\tlearn: 0.3162577\ttotal: 9.03s\tremaining: 4.49s\n668:\tlearn: 0.3160689\ttotal: 9.04s\tremaining: 4.47s\n669:\tlearn: 0.3160265\ttotal: 9.05s\tremaining: 4.46s\n670:\tlearn: 0.3159449\ttotal: 9.06s\tremaining: 4.44s\n671:\tlearn: 0.3159431\ttotal: 9.09s\tremaining: 4.43s\n672:\tlearn: 0.3158280\ttotal: 9.09s\tremaining: 4.42s\n673:\tlearn: 0.3157158\ttotal: 9.1s\tremaining: 4.4s\n674:\tlearn: 0.3156126\ttotal: 9.1s\tremaining: 4.38s\n675:\tlearn: 0.3155251\ttotal: 9.1s\tremaining: 4.36s\n676:\tlearn: 0.3154969\ttotal: 9.1s\tremaining: 4.34s\n677:\tlearn: 0.3154617\ttotal: 9.11s\tremaining: 4.33s\n678:\tlearn: 0.3153468\ttotal: 9.12s\tremaining: 4.31s\n679:\tlearn: 0.3152642\ttotal: 9.12s\tremaining: 4.29s\n680:\tlearn: 0.3151557\ttotal: 9.13s\tremaining: 4.27s\n681:\tlearn: 0.3149859\ttotal: 9.13s\tremaining: 4.26s\n682:\tlearn: 0.3148795\ttotal: 9.13s\tremaining: 4.24s\n683:\tlearn: 0.3147696\ttotal: 9.14s\tremaining: 4.22s\n684:\tlearn: 0.3146821\ttotal: 9.15s\tremaining: 4.21s\n685:\tlearn: 0.3146245\ttotal: 9.35s\tremaining: 4.28s\n686:\tlearn: 0.3145318\ttotal: 9.37s\tremaining: 4.27s\n687:\tlearn: 0.3144494\ttotal: 9.37s\tremaining: 4.25s\n688:\tlearn: 0.3144108\ttotal: 9.4s\tremaining: 4.24s\n689:\tlearn: 0.3143532\ttotal: 9.4s\tremaining: 4.22s\n690:\tlearn: 0.3142708\ttotal: 9.41s\tremaining: 4.21s\n691:\tlearn: 0.3141687\ttotal: 9.41s\tremaining: 4.19s\n692:\tlearn: 0.3140676\ttotal: 9.42s\tremaining: 4.17s\n693:\tlearn: 0.3139733\ttotal: 9.42s\tremaining: 4.15s\n694:\tlearn: 0.3139086\ttotal: 9.42s\tremaining: 4.13s\n695:\tlearn: 0.3138403\ttotal: 9.43s\tremaining: 4.12s\n696:\tlearn: 0.3136933\ttotal: 9.43s\tremaining: 4.1s\n697:\tlearn: 0.3136272\ttotal: 9.43s\tremaining: 4.08s\n698:\tlearn: 0.3135691\ttotal: 9.44s\tremaining: 4.06s\n699:\tlearn: 0.3133767\ttotal: 9.44s\tremaining: 4.05s\n700:\tlearn: 0.3133090\ttotal: 9.44s\tremaining: 4.03s\n701:\tlearn: 0.3131349\ttotal: 9.45s\tremaining: 4.01s\n702:\tlearn: 0.3130780\ttotal: 9.45s\tremaining: 3.99s\n703:\tlearn: 0.3130474\ttotal: 9.45s\tremaining: 3.97s\n704:\tlearn: 0.3129236\ttotal: 9.46s\tremaining: 3.96s\n705:\tlearn: 0.3128435\ttotal: 9.46s\tremaining: 3.94s\n706:\tlearn: 0.3126629\ttotal: 9.47s\tremaining: 3.92s\n707:\tlearn: 0.3124744\ttotal: 9.47s\tremaining: 3.91s\n708:\tlearn: 0.3124215\ttotal: 9.47s\tremaining: 3.89s\n709:\tlearn: 0.3123590\ttotal: 9.48s\tremaining: 3.87s\n710:\tlearn: 0.3123083\ttotal: 9.48s\tremaining: 3.85s\n711:\tlearn: 0.3122545\ttotal: 9.48s\tremaining: 3.83s\n712:\tlearn: 0.3122288\ttotal: 9.49s\tremaining: 3.82s\n713:\tlearn: 0.3119330\ttotal: 9.49s\tremaining: 3.8s\n714:\tlearn: 0.3118827\ttotal: 9.5s\tremaining: 3.79s\n715:\tlearn: 0.3118037\ttotal: 9.5s\tremaining: 3.77s\n716:\tlearn: 0.3116881\ttotal: 9.5s\tremaining: 3.75s\n717:\tlearn: 0.3116381\ttotal: 9.5s\tremaining: 3.73s\n718:\tlearn: 0.3114561\ttotal: 9.51s\tremaining: 3.71s\n719:\tlearn: 0.3113070\ttotal: 9.51s\tremaining: 3.7s\n720:\tlearn: 0.3111825\ttotal: 9.8s\tremaining: 3.79s\n721:\tlearn: 0.3111126\ttotal: 9.8s\tremaining: 3.77s\n722:\tlearn: 0.3109797\ttotal: 9.81s\tremaining: 3.76s\n723:\tlearn: 0.3108736\ttotal: 9.82s\tremaining: 3.74s\n724:\tlearn: 0.3107859\ttotal: 9.82s\tremaining: 3.73s\n725:\tlearn: 0.3105880\ttotal: 9.83s\tremaining: 3.71s\n726:\tlearn: 0.3104571\ttotal: 9.84s\tremaining: 3.7s\n727:\tlearn: 0.3104161\ttotal: 9.86s\tremaining: 3.68s\n728:\tlearn: 0.3103389\ttotal: 9.96s\tremaining: 3.7s\n729:\tlearn: 0.3103231\ttotal: 9.96s\tremaining: 3.69s\n730:\tlearn: 0.3102530\ttotal: 10s\tremaining: 3.68s\n731:\tlearn: 0.3101686\ttotal: 10s\tremaining: 3.67s\n732:\tlearn: 0.3099878\ttotal: 10s\tremaining: 3.65s\n733:\tlearn: 0.3098953\ttotal: 10s\tremaining: 3.63s\n734:\tlearn: 0.3096508\ttotal: 10s\tremaining: 3.62s\n735:\tlearn: 0.3094635\ttotal: 10s\tremaining: 3.6s\n736:\tlearn: 0.3092685\ttotal: 10s\tremaining: 3.58s\n737:\tlearn: 0.3091751\ttotal: 10s\tremaining: 3.57s\n738:\tlearn: 0.3091493\ttotal: 10.1s\tremaining: 3.55s\n739:\tlearn: 0.3090366\ttotal: 10.1s\tremaining: 3.53s\n740:\tlearn: 0.3089280\ttotal: 10.1s\tremaining: 3.52s\n741:\tlearn: 0.3088014\ttotal: 10.1s\tremaining: 3.5s\n742:\tlearn: 0.3084586\ttotal: 10.1s\tremaining: 3.48s\n743:\tlearn: 0.3083734\ttotal: 10.1s\tremaining: 3.46s\n744:\tlearn: 0.3082807\ttotal: 10.1s\tremaining: 3.45s\n745:\tlearn: 0.3082458\ttotal: 10.1s\tremaining: 3.43s\n746:\tlearn: 0.3081274\ttotal: 10.1s\tremaining: 3.42s\n747:\tlearn: 0.3079663\ttotal: 10.1s\tremaining: 3.4s\n748:\tlearn: 0.3079123\ttotal: 10.1s\tremaining: 3.39s\n749:\tlearn: 0.3076756\ttotal: 10.1s\tremaining: 3.37s\n750:\tlearn: 0.3076710\ttotal: 10.1s\tremaining: 3.36s\n751:\tlearn: 0.3075965\ttotal: 10.2s\tremaining: 3.35s\n752:\tlearn: 0.3075177\ttotal: 10.2s\tremaining: 3.33s\n753:\tlearn: 0.3073854\ttotal: 10.2s\tremaining: 3.32s\n754:\tlearn: 0.3073545\ttotal: 10.2s\tremaining: 3.31s\n755:\tlearn: 0.3070440\ttotal: 10.2s\tremaining: 3.29s\n756:\tlearn: 0.3069476\ttotal: 10.2s\tremaining: 3.27s\n757:\tlearn: 0.3069156\ttotal: 10.2s\tremaining: 3.26s\n758:\tlearn: 0.3067151\ttotal: 10.2s\tremaining: 3.24s\n759:\tlearn: 0.3066641\ttotal: 10.2s\tremaining: 3.22s\n760:\tlearn: 0.3066365\ttotal: 10.2s\tremaining: 3.21s\n761:\tlearn: 0.3066299\ttotal: 10.2s\tremaining: 3.19s\n762:\tlearn: 0.3065589\ttotal: 10.2s\tremaining: 3.17s\n763:\tlearn: 0.3064410\ttotal: 10.2s\tremaining: 3.16s\n764:\tlearn: 0.3063052\ttotal: 10.2s\tremaining: 3.14s\n765:\tlearn: 0.3061704\ttotal: 10.2s\tremaining: 3.13s\n766:\tlearn: 0.3059936\ttotal: 10.4s\tremaining: 3.17s\n767:\tlearn: 0.3059510\ttotal: 10.5s\tremaining: 3.16s\n768:\tlearn: 0.3059222\ttotal: 10.5s\tremaining: 3.15s\n769:\tlearn: 0.3058438\ttotal: 10.5s\tremaining: 3.13s\n770:\tlearn: 0.3057967\ttotal: 10.5s\tremaining: 3.12s\n771:\tlearn: 0.3056694\ttotal: 10.5s\tremaining: 3.11s\n772:\tlearn: 0.3055839\ttotal: 10.5s\tremaining: 3.09s\n773:\tlearn: 0.3055157\ttotal: 10.5s\tremaining: 3.08s\n774:\tlearn: 0.3055014\ttotal: 10.5s\tremaining: 3.06s\n775:\tlearn: 0.3053514\ttotal: 10.5s\tremaining: 3.04s\n776:\tlearn: 0.3052674\ttotal: 10.5s\tremaining: 3.03s\n777:\tlearn: 0.3051428\ttotal: 10.5s\tremaining: 3.01s\n778:\tlearn: 0.3050241\ttotal: 10.6s\tremaining: 2.99s\n779:\tlearn: 0.3048594\ttotal: 10.6s\tremaining: 2.98s\n780:\tlearn: 0.3047742\ttotal: 10.6s\tremaining: 2.96s\n781:\tlearn: 0.3046664\ttotal: 10.6s\tremaining: 2.94s\n782:\tlearn: 0.3043766\ttotal: 10.6s\tremaining: 2.93s\n783:\tlearn: 0.3043315\ttotal: 10.6s\tremaining: 2.91s\n784:\tlearn: 0.3042562\ttotal: 10.6s\tremaining: 2.9s\n785:\tlearn: 0.3042261\ttotal: 10.6s\tremaining: 2.88s\n786:\tlearn: 0.3039679\ttotal: 10.6s\tremaining: 2.86s\n787:\tlearn: 0.3039120\ttotal: 10.6s\tremaining: 2.85s\n788:\tlearn: 0.3038378\ttotal: 10.6s\tremaining: 2.83s\n789:\tlearn: 0.3037926\ttotal: 10.6s\tremaining: 2.81s\n790:\tlearn: 0.3037414\ttotal: 10.6s\tremaining: 2.8s\n791:\tlearn: 0.3036416\ttotal: 10.8s\tremaining: 2.85s\n792:\tlearn: 0.3036131\ttotal: 10.8s\tremaining: 2.83s\n793:\tlearn: 0.3034863\ttotal: 10.9s\tremaining: 2.81s\n794:\tlearn: 0.3033551\ttotal: 10.9s\tremaining: 2.8s\n795:\tlearn: 0.3032940\ttotal: 10.9s\tremaining: 2.79s\n796:\tlearn: 0.3032163\ttotal: 10.9s\tremaining: 2.77s\n797:\tlearn: 0.3031375\ttotal: 10.9s\tremaining: 2.76s\n798:\tlearn: 0.3030459\ttotal: 10.9s\tremaining: 2.74s\n799:\tlearn: 0.3029896\ttotal: 10.9s\tremaining: 2.73s\n800:\tlearn: 0.3027531\ttotal: 10.9s\tremaining: 2.71s\n801:\tlearn: 0.3026153\ttotal: 10.9s\tremaining: 2.7s\n802:\tlearn: 0.3023930\ttotal: 11.1s\tremaining: 2.72s\n803:\tlearn: 0.3022268\ttotal: 11.1s\tremaining: 2.7s\n804:\tlearn: 0.3021225\ttotal: 11.1s\tremaining: 2.69s\n805:\tlearn: 0.3018582\ttotal: 11.1s\tremaining: 2.67s\n806:\tlearn: 0.3018004\ttotal: 11.1s\tremaining: 2.65s\n807:\tlearn: 0.3016919\ttotal: 11.1s\tremaining: 2.64s\n808:\tlearn: 0.3015007\ttotal: 11.1s\tremaining: 2.62s\n809:\tlearn: 0.3013828\ttotal: 11.1s\tremaining: 2.61s\n810:\tlearn: 0.3011830\ttotal: 11.1s\tremaining: 2.59s\n811:\tlearn: 0.3010872\ttotal: 11.1s\tremaining: 2.57s\n812:\tlearn: 0.3009811\ttotal: 11.1s\tremaining: 2.56s\n813:\tlearn: 0.3007508\ttotal: 11.1s\tremaining: 2.54s\n814:\tlearn: 0.3005480\ttotal: 11.1s\tremaining: 2.53s\n815:\tlearn: 0.3003082\ttotal: 11.1s\tremaining: 2.51s\n816:\tlearn: 0.3002272\ttotal: 11.1s\tremaining: 2.5s\n817:\tlearn: 0.3001832\ttotal: 11.1s\tremaining: 2.48s\n818:\tlearn: 0.3001529\ttotal: 11.1s\tremaining: 2.46s\n819:\tlearn: 0.3001083\ttotal: 11.1s\tremaining: 2.45s\n820:\tlearn: 0.2998720\ttotal: 11.2s\tremaining: 2.43s\n821:\tlearn: 0.2997991\ttotal: 11.2s\tremaining: 2.42s\n822:\tlearn: 0.2996552\ttotal: 11.2s\tremaining: 2.4s\n823:\tlearn: 0.2994864\ttotal: 11.2s\tremaining: 2.38s\n824:\tlearn: 0.2994202\ttotal: 11.2s\tremaining: 2.37s\n825:\tlearn: 0.2993233\ttotal: 11.2s\tremaining: 2.35s\n826:\tlearn: 0.2992880\ttotal: 11.2s\tremaining: 2.34s\n827:\tlearn: 0.2992654\ttotal: 11.2s\tremaining: 2.32s\n828:\tlearn: 0.2991172\ttotal: 11.2s\tremaining: 2.31s\n829:\tlearn: 0.2990408\ttotal: 11.4s\tremaining: 2.33s\n830:\tlearn: 0.2989697\ttotal: 11.4s\tremaining: 2.32s\n831:\tlearn: 0.2988655\ttotal: 11.4s\tremaining: 2.3s\n832:\tlearn: 0.2988210\ttotal: 11.4s\tremaining: 2.29s\n833:\tlearn: 0.2987706\ttotal: 11.4s\tremaining: 2.28s\n834:\tlearn: 0.2985850\ttotal: 11.4s\tremaining: 2.26s\n835:\tlearn: 0.2983609\ttotal: 11.5s\tremaining: 2.25s\n836:\tlearn: 0.2982989\ttotal: 11.5s\tremaining: 2.23s\n837:\tlearn: 0.2982058\ttotal: 11.5s\tremaining: 2.21s\n838:\tlearn: 0.2979871\ttotal: 11.5s\tremaining: 2.2s\n839:\tlearn: 0.2979280\ttotal: 11.5s\tremaining: 2.18s\n840:\tlearn: 0.2977358\ttotal: 11.5s\tremaining: 2.17s\n841:\tlearn: 0.2975781\ttotal: 11.5s\tremaining: 2.15s\n842:\tlearn: 0.2975222\ttotal: 11.5s\tremaining: 2.14s\n843:\tlearn: 0.2975020\ttotal: 11.5s\tremaining: 2.12s\n844:\tlearn: 0.2972359\ttotal: 11.5s\tremaining: 2.11s\n845:\tlearn: 0.2971766\ttotal: 11.5s\tremaining: 2.09s\n846:\tlearn: 0.2970622\ttotal: 11.5s\tremaining: 2.08s\n847:\tlearn: 0.2968132\ttotal: 11.5s\tremaining: 2.06s\n848:\tlearn: 0.2967528\ttotal: 11.5s\tremaining: 2.05s\n849:\tlearn: 0.2966941\ttotal: 11.5s\tremaining: 2.03s\n850:\tlearn: 0.2965722\ttotal: 11.5s\tremaining: 2.02s\n851:\tlearn: 0.2965225\ttotal: 11.5s\tremaining: 2s\n852:\tlearn: 0.2963938\ttotal: 11.5s\tremaining: 1.98s\n853:\tlearn: 0.2963124\ttotal: 11.5s\tremaining: 1.97s\n854:\tlearn: 0.2959874\ttotal: 11.5s\tremaining: 1.95s\n855:\tlearn: 0.2959244\ttotal: 11.5s\tremaining: 1.94s\n856:\tlearn: 0.2958688\ttotal: 11.5s\tremaining: 1.92s\n857:\tlearn: 0.2956189\ttotal: 11.5s\tremaining: 1.91s\n858:\tlearn: 0.2954714\ttotal: 11.5s\tremaining: 1.89s\n859:\tlearn: 0.2953886\ttotal: 11.8s\tremaining: 1.91s\n860:\tlearn: 0.2953091\ttotal: 11.8s\tremaining: 1.9s\n861:\tlearn: 0.2951947\ttotal: 11.8s\tremaining: 1.88s\n862:\tlearn: 0.2950326\ttotal: 11.8s\tremaining: 1.87s\n863:\tlearn: 0.2948674\ttotal: 11.8s\tremaining: 1.85s\n864:\tlearn: 0.2947274\ttotal: 11.8s\tremaining: 1.84s\n865:\tlearn: 0.2944843\ttotal: 11.8s\tremaining: 1.82s\n866:\tlearn: 0.2943519\ttotal: 11.8s\tremaining: 1.81s\n867:\tlearn: 0.2943061\ttotal: 11.8s\tremaining: 1.79s\n868:\tlearn: 0.2940256\ttotal: 11.8s\tremaining: 1.78s\n869:\tlearn: 0.2938491\ttotal: 11.8s\tremaining: 1.76s\n870:\tlearn: 0.2937995\ttotal: 11.8s\tremaining: 1.75s\n871:\tlearn: 0.2936654\ttotal: 11.8s\tremaining: 1.74s\n872:\tlearn: 0.2934201\ttotal: 11.8s\tremaining: 1.72s\n873:\tlearn: 0.2931601\ttotal: 11.8s\tremaining: 1.7s\n874:\tlearn: 0.2931517\ttotal: 11.8s\tremaining: 1.69s\n875:\tlearn: 0.2931274\ttotal: 11.8s\tremaining: 1.68s\n876:\tlearn: 0.2929454\ttotal: 11.8s\tremaining: 1.66s\n877:\tlearn: 0.2928531\ttotal: 11.8s\tremaining: 1.65s\n878:\tlearn: 0.2925483\ttotal: 11.8s\tremaining: 1.63s\n879:\tlearn: 0.2924084\ttotal: 11.8s\tremaining: 1.61s\n880:\tlearn: 0.2922713\ttotal: 11.9s\tremaining: 1.6s\n881:\tlearn: 0.2922030\ttotal: 11.9s\tremaining: 1.59s\n882:\tlearn: 0.2921019\ttotal: 11.9s\tremaining: 1.57s\n883:\tlearn: 0.2918105\ttotal: 11.9s\tremaining: 1.56s\n884:\tlearn: 0.2917669\ttotal: 12.1s\tremaining: 1.57s\n885:\tlearn: 0.2916875\ttotal: 12.1s\tremaining: 1.55s\n886:\tlearn: 0.2914775\ttotal: 12.1s\tremaining: 1.54s\n887:\tlearn: 0.2914172\ttotal: 12.1s\tremaining: 1.52s\n888:\tlearn: 0.2912789\ttotal: 12.1s\tremaining: 1.51s\n889:\tlearn: 0.2911669\ttotal: 12.1s\tremaining: 1.49s\n890:\tlearn: 0.2911222\ttotal: 12.1s\tremaining: 1.48s\n891:\tlearn: 0.2910793\ttotal: 12.1s\tremaining: 1.47s\n892:\tlearn: 0.2909103\ttotal: 12.2s\tremaining: 1.46s\n893:\tlearn: 0.2907124\ttotal: 12.2s\tremaining: 1.45s\n894:\tlearn: 0.2905953\ttotal: 12.2s\tremaining: 1.44s\n895:\tlearn: 0.2905413\ttotal: 12.2s\tremaining: 1.42s\n896:\tlearn: 0.2902436\ttotal: 12.2s\tremaining: 1.41s\n897:\tlearn: 0.2901573\ttotal: 12.2s\tremaining: 1.39s\n898:\tlearn: 0.2901161\ttotal: 12.3s\tremaining: 1.38s\n899:\tlearn: 0.2900175\ttotal: 12.3s\tremaining: 1.36s\n900:\tlearn: 0.2897729\ttotal: 12.3s\tremaining: 1.35s\n901:\tlearn: 0.2897065\ttotal: 12.3s\tremaining: 1.33s\n902:\tlearn: 0.2896279\ttotal: 12.3s\tremaining: 1.32s\n903:\tlearn: 0.2895873\ttotal: 12.3s\tremaining: 1.3s\n904:\tlearn: 0.2893651\ttotal: 12.3s\tremaining: 1.29s\n905:\tlearn: 0.2892498\ttotal: 12.3s\tremaining: 1.27s\n906:\tlearn: 0.2890693\ttotal: 12.3s\tremaining: 1.26s\n907:\tlearn: 0.2888373\ttotal: 12.4s\tremaining: 1.25s\n908:\tlearn: 0.2886210\ttotal: 12.4s\tremaining: 1.24s\n909:\tlearn: 0.2885223\ttotal: 12.4s\tremaining: 1.22s\n910:\tlearn: 0.2884594\ttotal: 12.4s\tremaining: 1.21s\n911:\tlearn: 0.2884277\ttotal: 12.4s\tremaining: 1.19s\n912:\tlearn: 0.2881080\ttotal: 12.4s\tremaining: 1.18s\n913:\tlearn: 0.2880343\ttotal: 12.4s\tremaining: 1.16s\n914:\tlearn: 0.2879636\ttotal: 12.4s\tremaining: 1.15s\n915:\tlearn: 0.2877047\ttotal: 12.4s\tremaining: 1.14s\n916:\tlearn: 0.2876302\ttotal: 12.4s\tremaining: 1.12s\n917:\tlearn: 0.2873985\ttotal: 12.5s\tremaining: 1.12s\n918:\tlearn: 0.2873215\ttotal: 12.6s\tremaining: 1.11s\n919:\tlearn: 0.2872336\ttotal: 12.6s\tremaining: 1.09s\n920:\tlearn: 0.2870761\ttotal: 12.6s\tremaining: 1.08s\n921:\tlearn: 0.2869721\ttotal: 12.6s\tremaining: 1.06s\n922:\tlearn: 0.2869378\ttotal: 12.6s\tremaining: 1.05s\n923:\tlearn: 0.2867092\ttotal: 12.6s\tremaining: 1.03s\n924:\tlearn: 0.2865679\ttotal: 12.6s\tremaining: 1.02s\n925:\tlearn: 0.2865009\ttotal: 12.6s\tremaining: 1.01s\n926:\tlearn: 0.2864102\ttotal: 12.6s\tremaining: 993ms\n927:\tlearn: 0.2863686\ttotal: 12.6s\tremaining: 978ms\n928:\tlearn: 0.2862775\ttotal: 12.7s\tremaining: 972ms\n929:\tlearn: 0.2860844\ttotal: 12.7s\tremaining: 958ms\n930:\tlearn: 0.2860356\ttotal: 12.7s\tremaining: 944ms\n931:\tlearn: 0.2859997\ttotal: 12.7s\tremaining: 930ms\n932:\tlearn: 0.2857520\ttotal: 12.7s\tremaining: 915ms\n933:\tlearn: 0.2857170\ttotal: 12.8s\tremaining: 903ms\n934:\tlearn: 0.2854669\ttotal: 12.8s\tremaining: 889ms\n935:\tlearn: 0.2853513\ttotal: 12.8s\tremaining: 875ms\n936:\tlearn: 0.2852005\ttotal: 12.8s\tremaining: 860ms\n937:\tlearn: 0.2851563\ttotal: 12.8s\tremaining: 846ms\n938:\tlearn: 0.2848913\ttotal: 12.8s\tremaining: 831ms\n939:\tlearn: 0.2848420\ttotal: 12.8s\tremaining: 817ms\n940:\tlearn: 0.2847693\ttotal: 12.8s\tremaining: 803ms\n941:\tlearn: 0.2847031\ttotal: 12.8s\tremaining: 789ms\n942:\tlearn: 0.2846117\ttotal: 12.8s\tremaining: 774ms\n943:\tlearn: 0.2845591\ttotal: 12.8s\tremaining: 760ms\n944:\tlearn: 0.2844313\ttotal: 12.8s\tremaining: 746ms\n945:\tlearn: 0.2843587\ttotal: 13.1s\tremaining: 747ms\n946:\tlearn: 0.2842279\ttotal: 13.1s\tremaining: 732ms\n947:\tlearn: 0.2839536\ttotal: 13.1s\tremaining: 718ms\n948:\tlearn: 0.2838064\ttotal: 13.1s\tremaining: 704ms\n949:\tlearn: 0.2835915\ttotal: 13.1s\tremaining: 690ms\n950:\tlearn: 0.2835221\ttotal: 13.1s\tremaining: 675ms\n951:\tlearn: 0.2834916\ttotal: 13.1s\tremaining: 661ms\n952:\tlearn: 0.2834052\ttotal: 13.1s\tremaining: 647ms\n953:\tlearn: 0.2832247\ttotal: 13.1s\tremaining: 632ms\n954:\tlearn: 0.2829711\ttotal: 13.1s\tremaining: 618ms\n955:\tlearn: 0.2827891\ttotal: 13.1s\tremaining: 604ms\n956:\tlearn: 0.2827725\ttotal: 13.1s\tremaining: 590ms\n957:\tlearn: 0.2826808\ttotal: 13.1s\tremaining: 575ms\n958:\tlearn: 0.2826218\ttotal: 13.1s\tremaining: 561ms\n959:\tlearn: 0.2825523\ttotal: 13.1s\tremaining: 547ms\n960:\tlearn: 0.2824705\ttotal: 13.1s\tremaining: 533ms\n961:\tlearn: 0.2824655\ttotal: 13.1s\tremaining: 519ms\n962:\tlearn: 0.2822064\ttotal: 13.1s\tremaining: 505ms\n963:\tlearn: 0.2819293\ttotal: 13.1s\tremaining: 491ms\n964:\tlearn: 0.2816648\ttotal: 13.2s\tremaining: 477ms\n965:\tlearn: 0.2815487\ttotal: 13.2s\tremaining: 463ms\n966:\tlearn: 0.2814554\ttotal: 13.2s\tremaining: 449ms\n967:\tlearn: 0.2812699\ttotal: 13.2s\tremaining: 435ms\n968:\tlearn: 0.2811175\ttotal: 13.2s\tremaining: 421ms\n969:\tlearn: 0.2810233\ttotal: 13.2s\tremaining: 407ms\n970:\tlearn: 0.2808404\ttotal: 13.2s\tremaining: 393ms\n971:\tlearn: 0.2807407\ttotal: 13.2s\tremaining: 379ms\n972:\tlearn: 0.2805633\ttotal: 13.5s\tremaining: 373ms\n973:\tlearn: 0.2803294\ttotal: 13.5s\tremaining: 360ms\n974:\tlearn: 0.2800937\ttotal: 13.5s\tremaining: 346ms\n975:\tlearn: 0.2799861\ttotal: 13.5s\tremaining: 333ms\n976:\tlearn: 0.2799326\ttotal: 13.5s\tremaining: 319ms\n977:\tlearn: 0.2797098\ttotal: 13.5s\tremaining: 305ms\n978:\tlearn: 0.2796257\ttotal: 13.5s\tremaining: 291ms\n979:\tlearn: 0.2794838\ttotal: 13.5s\tremaining: 276ms\n980:\tlearn: 0.2793074\ttotal: 13.6s\tremaining: 263ms\n981:\tlearn: 0.2792303\ttotal: 13.7s\tremaining: 251ms\n982:\tlearn: 0.2792044\ttotal: 13.7s\tremaining: 237ms\n983:\tlearn: 0.2791010\ttotal: 13.7s\tremaining: 223ms\n984:\tlearn: 0.2788953\ttotal: 13.7s\tremaining: 209ms\n985:\tlearn: 0.2787943\ttotal: 13.7s\tremaining: 195ms\n986:\tlearn: 0.2786741\ttotal: 13.7s\tremaining: 180ms\n987:\tlearn: 0.2785410\ttotal: 13.7s\tremaining: 166ms\n988:\tlearn: 0.2783661\ttotal: 13.7s\tremaining: 152ms\n989:\tlearn: 0.2783398\ttotal: 13.7s\tremaining: 139ms\n990:\tlearn: 0.2781132\ttotal: 13.7s\tremaining: 125ms\n991:\tlearn: 0.2779877\ttotal: 13.7s\tremaining: 111ms\n992:\tlearn: 0.2778349\ttotal: 13.7s\tremaining: 96.7ms\n993:\tlearn: 0.2777145\ttotal: 13.7s\tremaining: 82.9ms\n994:\tlearn: 0.2775846\ttotal: 13.7s\tremaining: 69ms\n995:\tlearn: 0.2774968\ttotal: 13.7s\tremaining: 55.2ms\n996:\tlearn: 0.2774175\ttotal: 13.7s\tremaining: 41.4ms\n997:\tlearn: 0.2772648\ttotal: 13.8s\tremaining: 27.6ms\n998:\tlearn: 0.2771755\ttotal: 13.8s\tremaining: 13.8ms\n999:\tlearn: 0.2770979\ttotal: 13.8s\tremaining: 0us\n"
        },
        {
          "output_type": "execute_result",
          "data": {
            "text/plain": "<pandas.io.formats.style.Styler at 0x1179fb790>",
            "text/html": "<style  type=\"text/css\" >\n#T_f8416_row0_col1{\n            width:  10em;\n             height:  80%;\n            background:  linear-gradient(90deg,#5fba7d 86.6%, transparent 86.6%);\n        }#T_f8416_row0_col2{\n            width:  10em;\n             height:  80%;\n            background:  linear-gradient(90deg,#5fba7d 84.8%, transparent 84.8%);\n        }#T_f8416_row1_col1,#T_f8416_row2_col1{\n            width:  10em;\n             height:  80%;\n            background:  linear-gradient(90deg,#5fba7d 86.0%, transparent 86.0%);\n        }#T_f8416_row1_col2,#T_f8416_row2_col2{\n            width:  10em;\n             height:  80%;\n            background:  linear-gradient(90deg,#5fba7d 84.0%, transparent 84.0%);\n        }#T_f8416_row3_col1{\n            width:  10em;\n             height:  80%;\n            background:  linear-gradient(90deg,#5fba7d 84.9%, transparent 84.9%);\n        }#T_f8416_row3_col2{\n            width:  10em;\n             height:  80%;\n            background:  linear-gradient(90deg,#5fba7d 84.2%, transparent 84.2%);\n        }#T_f8416_row4_col1{\n            width:  10em;\n             height:  80%;\n            background:  linear-gradient(90deg,#5fba7d 83.8%, transparent 83.8%);\n        }#T_f8416_row4_col2{\n            width:  10em;\n             height:  80%;\n            background:  linear-gradient(90deg,#5fba7d 83.0%, transparent 83.0%);\n        }#T_f8416_row5_col1{\n            width:  10em;\n             height:  80%;\n            background:  linear-gradient(90deg,#5fba7d 83.2%, transparent 83.2%);\n        }#T_f8416_row5_col2{\n            width:  10em;\n             height:  80%;\n            background:  linear-gradient(90deg,#5fba7d 82.0%, transparent 82.0%);\n        }#T_f8416_row6_col1{\n            width:  10em;\n             height:  80%;\n            background:  linear-gradient(90deg,#5fba7d 81.6%, transparent 81.6%);\n        }#T_f8416_row6_col2{\n            width:  10em;\n             height:  80%;\n            background:  linear-gradient(90deg,#5fba7d 80.1%, transparent 80.1%);\n        }#T_f8416_row7_col1{\n            width:  10em;\n             height:  80%;\n            background:  linear-gradient(90deg,#5fba7d 78.8%, transparent 78.8%);\n        }#T_f8416_row7_col2{\n            width:  10em;\n             height:  80%;\n            background:  linear-gradient(90deg,#5fba7d 77.3%, transparent 77.3%);\n        }#T_f8416_row8_col1{\n            width:  10em;\n             height:  80%;\n            background:  linear-gradient(90deg,#5fba7d 76.5%, transparent 76.5%);\n        }#T_f8416_row8_col2{\n            width:  10em;\n             height:  80%;\n            background:  linear-gradient(90deg,#5fba7d 75.5%, transparent 75.5%);\n        }</style><table id=\"T_f8416_\" ><thead>    <tr>        <th class=\"blank level0\" ></th>        <th class=\"col_heading level0 col0\" >Model</th>        <th class=\"col_heading level0 col1\" >Accuracy</th>        <th class=\"col_heading level0 col2\" >Bal Acc.</th>        <th class=\"col_heading level0 col3\" >Time</th>    </tr></thead><tbody>\n                <tr>\n                        <th id=\"T_f8416_level0_row0\" class=\"row_heading level0 row0\" >1</th>\n                        <td id=\"T_f8416_row0_col0\" class=\"data row0 col0\" >CatBoost</td>\n                        <td id=\"T_f8416_row0_col1\" class=\"data row0 col1\" >86.592179</td>\n                        <td id=\"T_f8416_row0_col2\" class=\"data row0 col2\" >84.769433</td>\n                        <td id=\"T_f8416_row0_col3\" class=\"data row0 col3\" >18.227093</td>\n            </tr>\n            <tr>\n                        <th id=\"T_f8416_level0_row1\" class=\"row_heading level0 row1\" >2</th>\n                        <td id=\"T_f8416_row1_col0\" class=\"data row1 col0\" >Skl GBM</td>\n                        <td id=\"T_f8416_row1_col1\" class=\"data row1 col1\" >86.033520</td>\n                        <td id=\"T_f8416_row1_col2\" class=\"data row1 col2\" >84.044796</td>\n                        <td id=\"T_f8416_row1_col3\" class=\"data row1 col3\" >1.930076</td>\n            </tr>\n            <tr>\n                        <th id=\"T_f8416_level0_row2\" class=\"row_heading level0 row2\" >3</th>\n                        <td id=\"T_f8416_row2_col0\" class=\"data row2 col0\" >Skl HistGBM</td>\n                        <td id=\"T_f8416_row2_col1\" class=\"data row2 col1\" >86.033520</td>\n                        <td id=\"T_f8416_row2_col2\" class=\"data row2 col2\" >84.044796</td>\n                        <td id=\"T_f8416_row2_col3\" class=\"data row2 col3\" >2.032097</td>\n            </tr>\n            <tr>\n                        <th id=\"T_f8416_level0_row3\" class=\"row_heading level0 row3\" >4</th>\n                        <td id=\"T_f8416_row3_col0\" class=\"data row3 col0\" >XGBoost</td>\n                        <td id=\"T_f8416_row3_col1\" class=\"data row3 col1\" >84.916201</td>\n                        <td id=\"T_f8416_row3_col2\" class=\"data row3 col2\" >84.216074</td>\n                        <td id=\"T_f8416_row3_col3\" class=\"data row3 col3\" >33.391421</td>\n            </tr>\n            <tr>\n                        <th id=\"T_f8416_level0_row4\" class=\"row_heading level0 row4\" >5</th>\n                        <td id=\"T_f8416_row4_col0\" class=\"data row4 col0\" >AdaBoost</td>\n                        <td id=\"T_f8416_row4_col1\" class=\"data row4 col1\" >83.798883</td>\n                        <td id=\"T_f8416_row4_col2\" class=\"data row4 col2\" >83.036891</td>\n                        <td id=\"T_f8416_row4_col3\" class=\"data row4 col3\" >1.720003</td>\n            </tr>\n            <tr>\n                        <th id=\"T_f8416_level0_row5\" class=\"row_heading level0 row5\" >6</th>\n                        <td id=\"T_f8416_row5_col0\" class=\"data row5 col0\" >LightGBM</td>\n                        <td id=\"T_f8416_row5_col1\" class=\"data row5 col1\" >83.240223</td>\n                        <td id=\"T_f8416_row5_col2\" class=\"data row5 col2\" >82.042161</td>\n                        <td id=\"T_f8416_row5_col3\" class=\"data row5 col3\" >115.506342</td>\n            </tr>\n            <tr>\n                        <th id=\"T_f8416_level0_row6\" class=\"row_heading level0 row6\" >7</th>\n                        <td id=\"T_f8416_row6_col0\" class=\"data row6 col0\" >Random Forest</td>\n                        <td id=\"T_f8416_row6_col1\" class=\"data row6 col1\" >81.564246</td>\n                        <td id=\"T_f8416_row6_col2\" class=\"data row6 col2\" >80.138340</td>\n                        <td id=\"T_f8416_row6_col3\" class=\"data row6 col3\" >4.394389</td>\n            </tr>\n            <tr>\n                        <th id=\"T_f8416_level0_row7\" class=\"row_heading level0 row7\" >8</th>\n                        <td id=\"T_f8416_row7_col0\" class=\"data row7 col0\" >Extra Trees</td>\n                        <td id=\"T_f8416_row7_col1\" class=\"data row7 col1\" >78.770950</td>\n                        <td id=\"T_f8416_row7_col2\" class=\"data row7 col2\" >77.325428</td>\n                        <td id=\"T_f8416_row7_col3\" class=\"data row7 col3\" >4.506011</td>\n            </tr>\n            <tr>\n                        <th id=\"T_f8416_level0_row8\" class=\"row_heading level0 row8\" >9</th>\n                        <td id=\"T_f8416_row8_col0\" class=\"data row8 col0\" >Decision Tree</td>\n                        <td id=\"T_f8416_row8_col1\" class=\"data row8 col1\" >76.536313</td>\n                        <td id=\"T_f8416_row8_col2\" class=\"data row8 col2\" >75.507246</td>\n                        <td id=\"T_f8416_row8_col3\" class=\"data row8 col3\" >0.329743</td>\n            </tr>\n    </tbody></table>"
          },
          "metadata": {},
          "execution_count": 21
        }
      ],
      "execution_count": null
    },
    {
      "cell_type": "code",
      "metadata": {
        "deletable": false,
        "editable": false,
        "nbgrader": {
          "cell_type": "code",
          "checksum": "dde6f91a6185745a813882e0c1f997bc",
          "grade": true,
          "grade_id": "cell-af27b33fe88ad384",
          "locked": true,
          "points": 3,
          "schema_version": 3,
          "solution": false,
          "task": false
        },
        "cell_id": "00033-0f1b3f55-b1ad-437b-a1eb-f7981c8e4095",
        "deepnote_to_be_reexecuted": true,
        "source_hash": "c344ef58",
        "deepnote_cell_type": "code"
      },
      "source": "assert results_ord[\"Accuracy\"].min() > 75\nassert results_ord[\"Bal Acc.\"].min() > 75\nassert len(results_ord) == 9",
      "outputs": [],
      "execution_count": null
    },
    {
      "cell_type": "markdown",
      "source": "# Exercise 6 (3pts):\nDefine a 10 Fold cross validation strategy with:\n- With stratification\n- shuffle=True\n- random_state=0\n\nAnd train all the models in a for loop.\n\nTip you can use **[cross_val_predict](https://scikit-learn.org/stable/modules/generated/sklearn.model_selection.cross_val_predict.html)** for both training and predict with ",
      "metadata": {
        "cell_id": "00034-6dc7274d-e4f8-46b0-8e13-219323017d83",
        "deepnote_cell_type": "markdown"
      }
    },
    {
      "cell_type": "code",
      "metadata": {
        "deletable": false,
        "nbgrader": {
          "cell_type": "code",
          "checksum": "b9238f7916249fc81179a78b5492e5d4",
          "grade": false,
          "grade_id": "cell-37bf16dc25b43732",
          "locked": false,
          "schema_version": 3,
          "solution": true,
          "task": false
        },
        "tags": [
          "outputPrepend"
        ],
        "cell_id": "00035-7d2bad0d-c320-44ce-bd18-f369c5966acf",
        "deepnote_to_be_reexecuted": true,
        "source_hash": "bdb50262",
        "deepnote_cell_type": "code"
      },
      "source": "from sklearn.model_selection import cross_val_predict\n\nskf = model_selection.StratifiedKFold(n_splits=10, random_state=0, shuffle=True)\n\nresults = pd.DataFrame({'Model': [], 'Accuracy': [], 'Bal Acc.': [], 'Time': []})\n\nfor model_name, model in tree_classifiers.items():\n    start_time = time.time()\n    # TRAIN AND GET PREDICTIONS USING cross_val_predict() and x,y\n    pred = cross_val_predict(model, x,y, cv=skf)\n    total_time = time.time() - start_time\n    results = results.append({\"Model\":    model_name,\n                              \"Accuracy\": metrics.accuracy_score(y, pred)*100,\n                              \"Bal Acc.\": metrics.balanced_accuracy_score(y, pred)*100,\n                              \"Time\":     total_time},\n                              ignore_index=True)\n\n\nresults_ord = results.sort_values(by=['Accuracy'], ascending=False, ignore_index=True)\nresults_ord.index += 1 \nresults_ord.style.bar(subset=['Accuracy', 'Bal Acc.'], vmin=0, vmax=100, color='#5fba7d')",
      "outputs": [
        {
          "output_type": "stream",
          "name": "stderr",
          "text": "ining: 2.34s\n614:\tlearn: 0.3149779\ttotal: 3.72s\tremaining: 2.33s\n615:\tlearn: 0.3149286\ttotal: 3.73s\tremaining: 2.32s\n616:\tlearn: 0.3148528\ttotal: 3.73s\tremaining: 2.32s\n617:\tlearn: 0.3148407\ttotal: 3.74s\tremaining: 2.31s\n618:\tlearn: 0.3147858\ttotal: 3.74s\tremaining: 2.3s\n619:\tlearn: 0.3147161\ttotal: 3.76s\tremaining: 2.3s\n620:\tlearn: 0.3146253\ttotal: 3.77s\tremaining: 2.3s\n621:\tlearn: 0.3144754\ttotal: 3.77s\tremaining: 2.29s\n622:\tlearn: 0.3144623\ttotal: 3.77s\tremaining: 2.28s\n623:\tlearn: 0.3144492\ttotal: 3.79s\tremaining: 2.28s\n624:\tlearn: 0.3144137\ttotal: 3.79s\tremaining: 2.28s\n625:\tlearn: 0.3142566\ttotal: 3.8s\tremaining: 2.27s\n626:\tlearn: 0.3141072\ttotal: 3.81s\tremaining: 2.27s\n627:\tlearn: 0.3140984\ttotal: 3.81s\tremaining: 2.26s\n628:\tlearn: 0.3140142\ttotal: 3.82s\tremaining: 2.25s\n629:\tlearn: 0.3139441\ttotal: 3.82s\tremaining: 2.25s\n630:\tlearn: 0.3138682\ttotal: 3.83s\tremaining: 2.24s\n631:\tlearn: 0.3135868\ttotal: 3.83s\tremaining: 2.23s\n632:\tlearn: 0.3134627\ttotal: 3.83s\tremaining: 2.22s\n633:\tlearn: 0.3133592\ttotal: 3.84s\tremaining: 2.21s\n634:\tlearn: 0.3132428\ttotal: 3.84s\tremaining: 2.21s\n635:\tlearn: 0.3132092\ttotal: 3.84s\tremaining: 2.2s\n636:\tlearn: 0.3130542\ttotal: 3.84s\tremaining: 2.19s\n637:\tlearn: 0.3129405\ttotal: 3.85s\tremaining: 2.19s\n638:\tlearn: 0.3129140\ttotal: 3.86s\tremaining: 2.18s\n639:\tlearn: 0.3128282\ttotal: 3.86s\tremaining: 2.17s\n640:\tlearn: 0.3127531\ttotal: 3.86s\tremaining: 2.16s\n641:\tlearn: 0.3125915\ttotal: 3.87s\tremaining: 2.15s\n642:\tlearn: 0.3124412\ttotal: 3.87s\tremaining: 2.15s\n643:\tlearn: 0.3123513\ttotal: 3.87s\tremaining: 2.14s\n644:\tlearn: 0.3121777\ttotal: 3.88s\tremaining: 2.13s\n645:\tlearn: 0.3120533\ttotal: 3.88s\tremaining: 2.12s\n646:\tlearn: 0.3119619\ttotal: 3.88s\tremaining: 2.12s\n647:\tlearn: 0.3118763\ttotal: 3.88s\tremaining: 2.11s\n648:\tlearn: 0.3117944\ttotal: 3.88s\tremaining: 2.1s\n649:\tlearn: 0.3117745\ttotal: 3.89s\tremaining: 2.09s\n650:\tlearn: 0.3116620\ttotal: 3.89s\tremaining: 2.09s\n651:\tlearn: 0.3115405\ttotal: 3.9s\tremaining: 2.08s\n652:\tlearn: 0.3114441\ttotal: 3.92s\tremaining: 2.08s\n653:\tlearn: 0.3113195\ttotal: 3.92s\tremaining: 2.08s\n654:\tlearn: 0.3113014\ttotal: 3.93s\tremaining: 2.07s\n655:\tlearn: 0.3112532\ttotal: 3.93s\tremaining: 2.06s\n656:\tlearn: 0.3111029\ttotal: 3.97s\tremaining: 2.07s\n657:\tlearn: 0.3108551\ttotal: 3.97s\tremaining: 2.06s\n658:\tlearn: 0.3106816\ttotal: 3.98s\tremaining: 2.06s\n659:\tlearn: 0.3105046\ttotal: 3.99s\tremaining: 2.06s\n660:\tlearn: 0.3103520\ttotal: 4s\tremaining: 2.05s\n661:\tlearn: 0.3102463\ttotal: 4s\tremaining: 2.04s\n662:\tlearn: 0.3101611\ttotal: 4s\tremaining: 2.03s\n663:\tlearn: 0.3101132\ttotal: 4.01s\tremaining: 2.03s\n664:\tlearn: 0.3100461\ttotal: 4.01s\tremaining: 2.02s\n665:\tlearn: 0.3099493\ttotal: 4.01s\tremaining: 2.01s\n666:\tlearn: 0.3098950\ttotal: 4.02s\tremaining: 2.01s\n667:\tlearn: 0.3098549\ttotal: 4.03s\tremaining: 2s\n668:\tlearn: 0.3096259\ttotal: 4.03s\tremaining: 1.99s\n669:\tlearn: 0.3094391\ttotal: 4.03s\tremaining: 1.99s\n670:\tlearn: 0.3093776\ttotal: 4.04s\tremaining: 1.98s\n671:\tlearn: 0.3093273\ttotal: 4.04s\tremaining: 1.97s\n672:\tlearn: 0.3092641\ttotal: 4.05s\tremaining: 1.97s\n673:\tlearn: 0.3091444\ttotal: 4.06s\tremaining: 1.96s\n674:\tlearn: 0.3091253\ttotal: 4.06s\tremaining: 1.95s\n675:\tlearn: 0.3090527\ttotal: 4.06s\tremaining: 1.95s\n676:\tlearn: 0.3088819\ttotal: 4.07s\tremaining: 1.94s\n677:\tlearn: 0.3087829\ttotal: 4.07s\tremaining: 1.93s\n678:\tlearn: 0.3086501\ttotal: 4.08s\tremaining: 1.93s\n679:\tlearn: 0.3086302\ttotal: 4.08s\tremaining: 1.92s\n680:\tlearn: 0.3085427\ttotal: 4.28s\tremaining: 2s\n681:\tlearn: 0.3084450\ttotal: 4.29s\tremaining: 2s\n682:\tlearn: 0.3083508\ttotal: 4.31s\tremaining: 2s\n683:\tlearn: 0.3082343\ttotal: 4.32s\tremaining: 2s\n684:\tlearn: 0.3081943\ttotal: 4.34s\tremaining: 2s\n685:\tlearn: 0.3081082\ttotal: 4.35s\tremaining: 1.99s\n686:\tlearn: 0.3080342\ttotal: 4.35s\tremaining: 1.98s\n687:\tlearn: 0.3079393\ttotal: 4.35s\tremaining: 1.97s\n688:\tlearn: 0.3079087\ttotal: 4.35s\tremaining: 1.97s\n689:\tlearn: 0.3077474\ttotal: 4.36s\tremaining: 1.96s\n690:\tlearn: 0.3075981\ttotal: 4.36s\tremaining: 1.95s\n691:\tlearn: 0.3074955\ttotal: 4.37s\tremaining: 1.94s\n692:\tlearn: 0.3073740\ttotal: 4.38s\tremaining: 1.94s\n693:\tlearn: 0.3073092\ttotal: 4.38s\tremaining: 1.93s\n694:\tlearn: 0.3072258\ttotal: 4.39s\tremaining: 1.93s\n695:\tlearn: 0.3071371\ttotal: 4.39s\tremaining: 1.92s\n696:\tlearn: 0.3070659\ttotal: 4.4s\tremaining: 1.91s\n697:\tlearn: 0.3070482\ttotal: 4.42s\tremaining: 1.91s\n698:\tlearn: 0.3068784\ttotal: 4.42s\tremaining: 1.9s\n699:\tlearn: 0.3066999\ttotal: 4.42s\tremaining: 1.89s\n700:\tlearn: 0.3066297\ttotal: 4.42s\tremaining: 1.89s\n701:\tlearn: 0.3064545\ttotal: 4.43s\tremaining: 1.88s\n702:\tlearn: 0.3062755\ttotal: 4.43s\tremaining: 1.87s\n703:\tlearn: 0.3062016\ttotal: 4.43s\tremaining: 1.86s\n704:\tlearn: 0.3060092\ttotal: 4.43s\tremaining: 1.85s\n705:\tlearn: 0.3058273\ttotal: 4.44s\tremaining: 1.85s\n706:\tlearn: 0.3057385\ttotal: 4.44s\tremaining: 1.84s\n707:\tlearn: 0.3055856\ttotal: 4.44s\tremaining: 1.83s\n708:\tlearn: 0.3055358\ttotal: 4.45s\tremaining: 1.83s\n709:\tlearn: 0.3054340\ttotal: 4.45s\tremaining: 1.82s\n710:\tlearn: 0.3052961\ttotal: 4.47s\tremaining: 1.82s\n711:\tlearn: 0.3052075\ttotal: 4.47s\tremaining: 1.81s\n712:\tlearn: 0.3051487\ttotal: 4.48s\tremaining: 1.8s\n713:\tlearn: 0.3050672\ttotal: 4.49s\tremaining: 1.8s\n714:\tlearn: 0.3049915\ttotal: 4.49s\tremaining: 1.79s\n715:\tlearn: 0.3048247\ttotal: 4.5s\tremaining: 1.78s\n716:\tlearn: 0.3046562\ttotal: 4.5s\tremaining: 1.78s\n717:\tlearn: 0.3045892\ttotal: 4.52s\tremaining: 1.78s\n718:\tlearn: 0.3045430\ttotal: 4.54s\tremaining: 1.78s\n719:\tlearn: 0.3044919\ttotal: 4.55s\tremaining: 1.77s\n720:\tlearn: 0.3043745\ttotal: 4.55s\tremaining: 1.76s\n721:\tlearn: 0.3042551\ttotal: 4.55s\tremaining: 1.75s\n722:\tlearn: 0.3039705\ttotal: 4.56s\tremaining: 1.75s\n723:\tlearn: 0.3038780\ttotal: 4.56s\tremaining: 1.74s\n724:\tlearn: 0.3038544\ttotal: 4.56s\tremaining: 1.73s\n725:\tlearn: 0.3036476\ttotal: 4.56s\tremaining: 1.72s\n726:\tlearn: 0.3034785\ttotal: 4.57s\tremaining: 1.72s\n727:\tlearn: 0.3032877\ttotal: 4.58s\tremaining: 1.71s\n728:\tlearn: 0.3032366\ttotal: 4.58s\tremaining: 1.7s\n729:\tlearn: 0.3031721\ttotal: 4.58s\tremaining: 1.69s\n730:\tlearn: 0.3030525\ttotal: 4.58s\tremaining: 1.69s\n731:\tlearn: 0.3028376\ttotal: 4.59s\tremaining: 1.68s\n732:\tlearn: 0.3027750\ttotal: 4.59s\tremaining: 1.67s\n733:\tlearn: 0.3027661\ttotal: 4.59s\tremaining: 1.66s\n734:\tlearn: 0.3026948\ttotal: 4.61s\tremaining: 1.66s\n735:\tlearn: 0.3025340\ttotal: 4.61s\tremaining: 1.65s\n736:\tlearn: 0.3024932\ttotal: 4.61s\tremaining: 1.65s\n737:\tlearn: 0.3024187\ttotal: 4.63s\tremaining: 1.64s\n738:\tlearn: 0.3023455\ttotal: 4.66s\tremaining: 1.65s\n739:\tlearn: 0.3021919\ttotal: 4.67s\tremaining: 1.64s\n740:\tlearn: 0.3021841\ttotal: 4.67s\tremaining: 1.63s\n741:\tlearn: 0.3020856\ttotal: 4.67s\tremaining: 1.62s\n742:\tlearn: 0.3020138\ttotal: 4.67s\tremaining: 1.62s\n743:\tlearn: 0.3019555\ttotal: 4.67s\tremaining: 1.61s\n744:\tlearn: 0.3016935\ttotal: 4.68s\tremaining: 1.6s\n745:\tlearn: 0.3016203\ttotal: 4.68s\tremaining: 1.59s\n746:\tlearn: 0.3013812\ttotal: 4.69s\tremaining: 1.59s\n747:\tlearn: 0.3012575\ttotal: 4.69s\tremaining: 1.58s\n748:\tlearn: 0.3011248\ttotal: 4.7s\tremaining: 1.57s\n749:\tlearn: 0.3009793\ttotal: 4.7s\tremaining: 1.56s\n750:\tlearn: 0.3009196\ttotal: 4.7s\tremaining: 1.56s\n751:\tlearn: 0.3007463\ttotal: 4.7s\tremaining: 1.55s\n752:\tlearn: 0.3006611\ttotal: 4.7s\tremaining: 1.54s\n753:\tlearn: 0.3004718\ttotal: 4.71s\tremaining: 1.53s\n754:\tlearn: 0.3003266\ttotal: 4.71s\tremaining: 1.53s\n755:\tlearn: 0.3002717\ttotal: 4.71s\tremaining: 1.52s\n756:\tlearn: 0.3001902\ttotal: 4.72s\tremaining: 1.51s\n757:\tlearn: 0.3000692\ttotal: 4.72s\tremaining: 1.51s\n758:\tlearn: 0.3000083\ttotal: 4.72s\tremaining: 1.5s\n759:\tlearn: 0.2999431\ttotal: 4.73s\tremaining: 1.49s\n760:\tlearn: 0.2998718\ttotal: 4.73s\tremaining: 1.49s\n761:\tlearn: 0.2997510\ttotal: 4.73s\tremaining: 1.48s\n762:\tlearn: 0.2996894\ttotal: 4.73s\tremaining: 1.47s\n763:\tlearn: 0.2996121\ttotal: 4.74s\tremaining: 1.46s\n764:\tlearn: 0.2995636\ttotal: 4.74s\tremaining: 1.46s\n765:\tlearn: 0.2994832\ttotal: 4.75s\tremaining: 1.45s\n766:\tlearn: 0.2993971\ttotal: 4.75s\tremaining: 1.44s\n767:\tlearn: 0.2992689\ttotal: 4.75s\tremaining: 1.44s\n768:\tlearn: 0.2991733\ttotal: 4.76s\tremaining: 1.43s\n769:\tlearn: 0.2990167\ttotal: 4.76s\tremaining: 1.42s\n770:\tlearn: 0.2990129\ttotal: 4.76s\tremaining: 1.41s\n771:\tlearn: 0.2988511\ttotal: 4.76s\tremaining: 1.41s\n772:\tlearn: 0.2987590\ttotal: 4.76s\tremaining: 1.4s\n773:\tlearn: 0.2985253\ttotal: 4.78s\tremaining: 1.4s\n774:\tlearn: 0.2983466\ttotal: 4.79s\tremaining: 1.39s\n775:\tlearn: 0.2981445\ttotal: 4.79s\tremaining: 1.38s\n776:\tlearn: 0.2981038\ttotal: 4.8s\tremaining: 1.38s\n777:\tlearn: 0.2980438\ttotal: 4.81s\tremaining: 1.37s\n778:\tlearn: 0.2978753\ttotal: 4.81s\tremaining: 1.36s\n779:\tlearn: 0.2977645\ttotal: 4.81s\tremaining: 1.36s\n780:\tlearn: 0.2976838\ttotal: 4.85s\tremaining: 1.36s\n781:\tlearn: 0.2976725\ttotal: 4.85s\tremaining: 1.35s\n782:\tlearn: 0.2975058\ttotal: 4.86s\tremaining: 1.35s\n783:\tlearn: 0.2972730\ttotal: 4.86s\tremaining: 1.34s\n784:\tlearn: 0.2972201\ttotal: 4.87s\tremaining: 1.33s\n785:\tlearn: 0.2971449\ttotal: 4.87s\tremaining: 1.33s\n786:\tlearn: 0.2968632\ttotal: 4.87s\tremaining: 1.32s\n787:\tlearn: 0.2968262\ttotal: 4.88s\tremaining: 1.31s\n788:\tlearn: 0.2966667\ttotal: 4.88s\tremaining: 1.3s\n789:\tlearn: 0.2966144\ttotal: 4.88s\tremaining: 1.3s\n790:\tlearn: 0.2964676\ttotal: 4.88s\tremaining: 1.29s\n791:\tlearn: 0.2963724\ttotal: 4.88s\tremaining: 1.28s\n792:\tlearn: 0.2962783\ttotal: 4.89s\tremaining: 1.28s\n793:\tlearn: 0.2961233\ttotal: 4.89s\tremaining: 1.27s\n794:\tlearn: 0.2960876\ttotal: 4.9s\tremaining: 1.26s\n795:\tlearn: 0.2959503\ttotal: 4.9s\tremaining: 1.25s\n796:\tlearn: 0.2958533\ttotal: 4.9s\tremaining: 1.25s\n797:\tlearn: 0.2956674\ttotal: 4.9s\tremaining: 1.24s\n798:\tlearn: 0.2956334\ttotal: 4.91s\tremaining: 1.23s\n799:\tlearn: 0.2955315\ttotal: 4.91s\tremaining: 1.23s\n800:\tlearn: 0.2955038\ttotal: 4.91s\tremaining: 1.22s\n801:\tlearn: 0.2954987\ttotal: 4.91s\tremaining: 1.21s\n802:\tlearn: 0.2954504\ttotal: 4.92s\tremaining: 1.21s\n803:\tlearn: 0.2953877\ttotal: 4.92s\tremaining: 1.2s\n804:\tlearn: 0.2952707\ttotal: 4.92s\tremaining: 1.19s\n805:\tlearn: 0.2952352\ttotal: 4.93s\tremaining: 1.19s\n806:\tlearn: 0.2950092\ttotal: 4.93s\tremaining: 1.18s\n807:\tlearn: 0.2949676\ttotal: 4.93s\tremaining: 1.17s\n808:\tlearn: 0.2949027\ttotal: 4.93s\tremaining: 1.17s\n809:\tlearn: 0.2948593\ttotal: 4.94s\tremaining: 1.16s\n810:\tlearn: 0.2948550\ttotal: 4.94s\tremaining: 1.15s\n811:\tlearn: 0.2947298\ttotal: 4.94s\tremaining: 1.14s\n812:\tlearn: 0.2946526\ttotal: 4.94s\tremaining: 1.14s\n813:\tlearn: 0.2946111\ttotal: 4.95s\tremaining: 1.13s\n814:\tlearn: 0.2945533\ttotal: 4.95s\tremaining: 1.12s\n815:\tlearn: 0.2944771\ttotal: 4.95s\tremaining: 1.12s\n816:\tlearn: 0.2942349\ttotal: 4.95s\tremaining: 1.11s\n817:\tlearn: 0.2941836\ttotal: 4.96s\tremaining: 1.1s\n818:\tlearn: 0.2940703\ttotal: 4.97s\tremaining: 1.1s\n819:\tlearn: 0.2940673\ttotal: 4.97s\tremaining: 1.09s\n820:\tlearn: 0.2940326\ttotal: 4.97s\tremaining: 1.08s\n821:\tlearn: 0.2939234\ttotal: 4.97s\tremaining: 1.08s\n822:\tlearn: 0.2938596\ttotal: 4.99s\tremaining: 1.07s\n823:\tlearn: 0.2936414\ttotal: 4.99s\tremaining: 1.06s\n824:\tlearn: 0.2935170\ttotal: 5s\tremaining: 1.06s\n825:\tlearn: 0.2934528\ttotal: 5s\tremaining: 1.05s\n826:\tlearn: 0.2933775\ttotal: 5.01s\tremaining: 1.05s\n827:\tlearn: 0.2933199\ttotal: 5.03s\tremaining: 1.04s\n828:\tlearn: 0.2931004\ttotal: 5.03s\tremaining: 1.04s\n829:\tlearn: 0.2930151\ttotal: 5.03s\tremaining: 1.03s\n830:\tlearn: 0.2929196\ttotal: 5.03s\tremaining: 1.02s\n831:\tlearn: 0.2928013\ttotal: 5.04s\tremaining: 1.02s\n832:\tlearn: 0.2927185\ttotal: 5.04s\tremaining: 1.01s\n833:\tlearn: 0.2926884\ttotal: 5.04s\tremaining: 1s\n834:\tlearn: 0.2926107\ttotal: 5.04s\tremaining: 997ms\n835:\tlearn: 0.2925685\ttotal: 5.04s\tremaining: 990ms\n836:\tlearn: 0.2925240\ttotal: 5.05s\tremaining: 983ms\n837:\tlearn: 0.2923652\ttotal: 5.05s\tremaining: 976ms\n838:\tlearn: 0.2923512\ttotal: 5.05s\tremaining: 969ms\n839:\tlearn: 0.2923108\ttotal: 5.06s\tremaining: 963ms\n840:\tlearn: 0.2922756\ttotal: 5.06s\tremaining: 956ms\n841:\tlearn: 0.2921616\ttotal: 5.06s\tremaining: 950ms\n842:\tlearn: 0.2920412\ttotal: 5.06s\tremaining: 943ms\n843:\tlearn: 0.2920035\ttotal: 5.06s\tremaining: 936ms\n844:\tlearn: 0.2919597\ttotal: 5.07s\tremaining: 929ms\n845:\tlearn: 0.2918962\ttotal: 5.07s\tremaining: 923ms\n846:\tlearn: 0.2917117\ttotal: 5.07s\tremaining: 916ms\n847:\tlearn: 0.2916653\ttotal: 5.07s\tremaining: 909ms\n848:\tlearn: 0.2915151\ttotal: 5.07s\tremaining: 903ms\n849:\tlearn: 0.2914416\ttotal: 5.08s\tremaining: 896ms\n850:\tlearn: 0.2912091\ttotal: 5.08s\tremaining: 889ms\n851:\tlearn: 0.2910958\ttotal: 5.08s\tremaining: 883ms\n852:\tlearn: 0.2909290\ttotal: 5.08s\tremaining: 876ms\n853:\tlearn: 0.2908499\ttotal: 5.09s\tremaining: 870ms\n854:\tlearn: 0.2905100\ttotal: 5.09s\tremaining: 863ms\n855:\tlearn: 0.2903284\ttotal: 5.09s\tremaining: 856ms\n856:\tlearn: 0.2903017\ttotal: 5.09s\tremaining: 850ms\n857:\tlearn: 0.2901581\ttotal: 5.1s\tremaining: 843ms\n858:\tlearn: 0.2899280\ttotal: 5.1s\tremaining: 837ms\n859:\tlearn: 0.2898368\ttotal: 5.1s\tremaining: 830ms\n860:\tlearn: 0.2897074\ttotal: 5.1s\tremaining: 824ms\n861:\tlearn: 0.2896667\ttotal: 5.1s\tremaining: 817ms\n862:\tlearn: 0.2896299\ttotal: 5.1s\tremaining: 810ms\n863:\tlearn: 0.2895009\ttotal: 5.11s\tremaining: 804ms\n864:\tlearn: 0.2894069\ttotal: 5.11s\tremaining: 798ms\n865:\tlearn: 0.2892408\ttotal: 5.12s\tremaining: 792ms\n866:\tlearn: 0.2889980\ttotal: 5.15s\tremaining: 790ms\n867:\tlearn: 0.2888349\ttotal: 5.16s\tremaining: 785ms\n868:\tlearn: 0.2888095\ttotal: 5.18s\tremaining: 781ms\n869:\tlearn: 0.2885309\ttotal: 5.18s\tremaining: 774ms\n870:\tlearn: 0.2884910\ttotal: 5.18s\tremaining: 768ms\n871:\tlearn: 0.2884420\ttotal: 5.2s\tremaining: 763ms\n872:\tlearn: 0.2883982\ttotal: 5.2s\tremaining: 757ms\n873:\tlearn: 0.2883713\ttotal: 5.2s\tremaining: 750ms\n874:\tlearn: 0.2881212\ttotal: 5.21s\tremaining: 744ms\n875:\tlearn: 0.2880604\ttotal: 5.21s\tremaining: 738ms\n876:\tlearn: 0.2879700\ttotal: 5.21s\tremaining: 731ms\n877:\tlearn: 0.2878883\ttotal: 5.21s\tremaining: 725ms\n878:\tlearn: 0.2876478\ttotal: 5.22s\tremaining: 718ms\n879:\tlearn: 0.2874759\ttotal: 5.22s\tremaining: 712ms\n880:\tlearn: 0.2873850\ttotal: 5.22s\tremaining: 706ms\n881:\tlearn: 0.2872523\ttotal: 5.27s\tremaining: 705ms\n882:\tlearn: 0.2872002\ttotal: 5.27s\tremaining: 698ms\n883:\tlearn: 0.2870807\ttotal: 5.27s\tremaining: 692ms\n884:\tlearn: 0.2870194\ttotal: 5.27s\tremaining: 685ms\n885:\tlearn: 0.2867705\ttotal: 5.28s\tremaining: 679ms\n886:\tlearn: 0.2867267\ttotal: 5.29s\tremaining: 674ms\n887:\tlearn: 0.2865397\ttotal: 5.29s\tremaining: 668ms\n888:\tlearn: 0.2864555\ttotal: 5.3s\tremaining: 662ms\n889:\tlearn: 0.2863968\ttotal: 5.3s\tremaining: 655ms\n890:\tlearn: 0.2863558\ttotal: 5.3s\tremaining: 649ms\n891:\tlearn: 0.2863270\ttotal: 5.3s\tremaining: 642ms\n892:\tlearn: 0.2861837\ttotal: 5.31s\tremaining: 636ms\n893:\tlearn: 0.2860833\ttotal: 5.31s\tremaining: 630ms\n894:\tlearn: 0.2858435\ttotal: 5.31s\tremaining: 623ms\n895:\tlearn: 0.2857477\ttotal: 5.32s\tremaining: 617ms\n896:\tlearn: 0.2857182\ttotal: 5.32s\tremaining: 611ms\n897:\tlearn: 0.2855442\ttotal: 5.32s\tremaining: 604ms\n898:\tlearn: 0.2853715\ttotal: 5.32s\tremaining: 598ms\n899:\tlearn: 0.2853341\ttotal: 5.33s\tremaining: 592ms\n900:\tlearn: 0.2852473\ttotal: 5.33s\tremaining: 586ms\n901:\tlearn: 0.2850123\ttotal: 5.34s\tremaining: 581ms\n902:\tlearn: 0.2848946\ttotal: 5.36s\tremaining: 575ms\n903:\tlearn: 0.2848686\ttotal: 5.36s\tremaining: 569ms\n904:\tlearn: 0.2847671\ttotal: 5.36s\tremaining: 563ms\n905:\tlearn: 0.2847241\ttotal: 5.36s\tremaining: 556ms\n906:\tlearn: 0.2846614\ttotal: 5.37s\tremaining: 551ms\n907:\tlearn: 0.2845366\ttotal: 5.37s\tremaining: 544ms\n908:\tlearn: 0.2844867\ttotal: 5.38s\tremaining: 538ms\n909:\tlearn: 0.2844838\ttotal: 5.38s\tremaining: 532ms\n910:\tlearn: 0.2843951\ttotal: 5.38s\tremaining: 526ms\n911:\tlearn: 0.2843523\ttotal: 5.39s\tremaining: 520ms\n912:\tlearn: 0.2842826\ttotal: 5.42s\tremaining: 517ms\n913:\tlearn: 0.2842461\ttotal: 5.43s\tremaining: 511ms\n914:\tlearn: 0.2839524\ttotal: 5.44s\tremaining: 505ms\n915:\tlearn: 0.2837424\ttotal: 5.44s\tremaining: 499ms\n916:\tlearn: 0.2836064\ttotal: 5.46s\tremaining: 495ms\n917:\tlearn: 0.2834978\ttotal: 5.49s\tremaining: 490ms\n918:\tlearn: 0.2833962\ttotal: 5.49s\tremaining: 484ms\n919:\tlearn: 0.2833641\ttotal: 5.5s\tremaining: 478ms\n920:\tlearn: 0.2832886\ttotal: 5.53s\tremaining: 474ms\n921:\tlearn: 0.2831804\ttotal: 5.55s\tremaining: 469ms\n922:\tlearn: 0.2830511\ttotal: 5.55s\tremaining: 463ms\n923:\tlearn: 0.2829814\ttotal: 5.55s\tremaining: 457ms\n924:\tlearn: 0.2828536\ttotal: 5.55s\tremaining: 450ms\n925:\tlearn: 0.2828122\ttotal: 5.56s\tremaining: 444ms\n926:\tlearn: 0.2827541\ttotal: 5.57s\tremaining: 439ms\n927:\tlearn: 0.2825587\ttotal: 5.59s\tremaining: 434ms\n928:\tlearn: 0.2825104\ttotal: 5.6s\tremaining: 428ms\n929:\tlearn: 0.2824168\ttotal: 5.61s\tremaining: 422ms\n930:\tlearn: 0.2823509\ttotal: 5.61s\tremaining: 416ms\n931:\tlearn: 0.2822718\ttotal: 5.62s\tremaining: 410ms\n932:\tlearn: 0.2822039\ttotal: 5.62s\tremaining: 404ms\n933:\tlearn: 0.2821384\ttotal: 5.63s\tremaining: 398ms\n934:\tlearn: 0.2820261\ttotal: 5.63s\tremaining: 392ms\n935:\tlearn: 0.2819622\ttotal: 5.64s\tremaining: 385ms\n936:\tlearn: 0.2818167\ttotal: 5.64s\tremaining: 380ms\n937:\tlearn: 0.2817922\ttotal: 5.65s\tremaining: 374ms\n938:\tlearn: 0.2816230\ttotal: 5.66s\tremaining: 367ms\n939:\tlearn: 0.2815622\ttotal: 5.66s\tremaining: 361ms\n940:\tlearn: 0.2815006\ttotal: 5.68s\tremaining: 356ms\n941:\tlearn: 0.2813783\ttotal: 5.69s\tremaining: 350ms\n942:\tlearn: 0.2813116\ttotal: 5.69s\tremaining: 344ms\n943:\tlearn: 0.2812188\ttotal: 5.7s\tremaining: 338ms\n944:\tlearn: 0.2811578\ttotal: 5.71s\tremaining: 332ms\n945:\tlearn: 0.2809698\ttotal: 5.71s\tremaining: 326ms\n946:\tlearn: 0.2807747\ttotal: 5.75s\tremaining: 322ms\n947:\tlearn: 0.2805073\ttotal: 5.75s\tremaining: 316ms\n948:\tlearn: 0.2804568\ttotal: 5.77s\tremaining: 310ms\n949:\tlearn: 0.2803832\ttotal: 5.77s\tremaining: 304ms\n950:\tlearn: 0.2801516\ttotal: 5.78s\tremaining: 298ms\n951:\tlearn: 0.2800925\ttotal: 5.79s\tremaining: 292ms\n952:\tlearn: 0.2799371\ttotal: 5.79s\tremaining: 285ms\n953:\tlearn: 0.2798732\ttotal: 5.83s\tremaining: 281ms\n954:\tlearn: 0.2798305\ttotal: 5.83s\tremaining: 275ms\n955:\tlearn: 0.2797008\ttotal: 5.84s\tremaining: 269ms\n956:\tlearn: 0.2796504\ttotal: 5.85s\tremaining: 263ms\n957:\tlearn: 0.2796184\ttotal: 5.85s\tremaining: 257ms\n958:\tlearn: 0.2795371\ttotal: 5.85s\tremaining: 250ms\n959:\tlearn: 0.2794915\ttotal: 5.86s\tremaining: 244ms\n960:\tlearn: 0.2794283\ttotal: 5.86s\tremaining: 238ms\n961:\tlearn: 0.2793545\ttotal: 5.86s\tremaining: 232ms\n962:\tlearn: 0.2792673\ttotal: 5.86s\tremaining: 225ms\n963:\tlearn: 0.2792427\ttotal: 5.87s\tremaining: 219ms\n964:\tlearn: 0.2791484\ttotal: 5.87s\tremaining: 213ms\n965:\tlearn: 0.2790990\ttotal: 5.87s\tremaining: 207ms\n966:\tlearn: 0.2790537\ttotal: 5.88s\tremaining: 201ms\n967:\tlearn: 0.2788685\ttotal: 5.88s\tremaining: 194ms\n968:\tlearn: 0.2787995\ttotal: 5.88s\tremaining: 188ms\n969:\tlearn: 0.2787240\ttotal: 5.88s\tremaining: 182ms\n970:\tlearn: 0.2786821\ttotal: 5.89s\tremaining: 176ms\n971:\tlearn: 0.2785902\ttotal: 5.89s\tremaining: 170ms\n972:\tlearn: 0.2785241\ttotal: 5.89s\tremaining: 163ms\n973:\tlearn: 0.2784174\ttotal: 5.89s\tremaining: 157ms\n974:\tlearn: 0.2783771\ttotal: 5.9s\tremaining: 151ms\n975:\tlearn: 0.2783296\ttotal: 5.9s\tremaining: 145ms\n976:\tlearn: 0.2780754\ttotal: 5.9s\tremaining: 139ms\n977:\tlearn: 0.2779868\ttotal: 5.91s\tremaining: 133ms\n978:\tlearn: 0.2777759\ttotal: 5.91s\tremaining: 127ms\n979:\tlearn: 0.2777282\ttotal: 5.92s\tremaining: 121ms\n980:\tlearn: 0.2776912\ttotal: 5.92s\tremaining: 115ms\n981:\tlearn: 0.2776682\ttotal: 5.93s\tremaining: 109ms\n982:\tlearn: 0.2776430\ttotal: 5.93s\tremaining: 103ms\n983:\tlearn: 0.2776035\ttotal: 5.93s\tremaining: 96.5ms\n984:\tlearn: 0.2774215\ttotal: 5.94s\tremaining: 90.4ms\n985:\tlearn: 0.2773875\ttotal: 5.94s\tremaining: 84.3ms\n986:\tlearn: 0.2773296\ttotal: 5.94s\tremaining: 78.3ms\n987:\tlearn: 0.2771141\ttotal: 5.95s\tremaining: 72.2ms\n988:\tlearn: 0.2769473\ttotal: 5.95s\tremaining: 66.2ms\n989:\tlearn: 0.2768854\ttotal: 5.96s\tremaining: 60.2ms\n990:\tlearn: 0.2768342\ttotal: 5.96s\tremaining: 54.1ms\n991:\tlearn: 0.2766799\ttotal: 5.96s\tremaining: 48.1ms\n992:\tlearn: 0.2766094\ttotal: 5.98s\tremaining: 42.1ms\n993:\tlearn: 0.2765289\ttotal: 5.99s\tremaining: 36.2ms\n994:\tlearn: 0.2764231\ttotal: 6s\tremaining: 30.1ms\n995:\tlearn: 0.2763444\ttotal: 6s\tremaining: 24.1ms\n996:\tlearn: 0.2762016\ttotal: 6s\tremaining: 18.1ms\n997:\tlearn: 0.2759595\ttotal: 6.01s\tremaining: 12ms\n998:\tlearn: 0.2757457\ttotal: 6.01s\tremaining: 6.02ms\n999:\tlearn: 0.2755452\ttotal: 6.01s\tremaining: 0us\n"
        },
        {
          "output_type": "execute_result",
          "data": {
            "text/plain": "<pandas.io.formats.style.Styler at 0x11816bac0>",
            "text/html": "<style  type=\"text/css\" >\n#T_0be5e_row0_col1,#T_0be5e_row1_col1{\n            width:  10em;\n             height:  80%;\n            background:  linear-gradient(90deg,#5fba7d 83.8%, transparent 83.8%);\n        }#T_0be5e_row0_col2,#T_0be5e_row1_col2{\n            width:  10em;\n             height:  80%;\n            background:  linear-gradient(90deg,#5fba7d 81.7%, transparent 81.7%);\n        }#T_0be5e_row2_col1{\n            width:  10em;\n             height:  80%;\n            background:  linear-gradient(90deg,#5fba7d 83.4%, transparent 83.4%);\n        }#T_0be5e_row2_col2{\n            width:  10em;\n             height:  80%;\n            background:  linear-gradient(90deg,#5fba7d 81.2%, transparent 81.2%);\n        }#T_0be5e_row3_col1{\n            width:  10em;\n             height:  80%;\n            background:  linear-gradient(90deg,#5fba7d 82.7%, transparent 82.7%);\n        }#T_0be5e_row3_col2{\n            width:  10em;\n             height:  80%;\n            background:  linear-gradient(90deg,#5fba7d 81.1%, transparent 81.1%);\n        }#T_0be5e_row4_col1{\n            width:  10em;\n             height:  80%;\n            background:  linear-gradient(90deg,#5fba7d 81.8%, transparent 81.8%);\n        }#T_0be5e_row4_col2{\n            width:  10em;\n             height:  80%;\n            background:  linear-gradient(90deg,#5fba7d 80.2%, transparent 80.2%);\n        }#T_0be5e_row5_col1{\n            width:  10em;\n             height:  80%;\n            background:  linear-gradient(90deg,#5fba7d 81.0%, transparent 81.0%);\n        }#T_0be5e_row5_col2{\n            width:  10em;\n             height:  80%;\n            background:  linear-gradient(90deg,#5fba7d 79.9%, transparent 79.9%);\n        }#T_0be5e_row6_col1{\n            width:  10em;\n             height:  80%;\n            background:  linear-gradient(90deg,#5fba7d 80.7%, transparent 80.7%);\n        }#T_0be5e_row6_col2{\n            width:  10em;\n             height:  80%;\n            background:  linear-gradient(90deg,#5fba7d 79.3%, transparent 79.3%);\n        }#T_0be5e_row7_col1{\n            width:  10em;\n             height:  80%;\n            background:  linear-gradient(90deg,#5fba7d 79.7%, transparent 79.7%);\n        }#T_0be5e_row7_col2{\n            width:  10em;\n             height:  80%;\n            background:  linear-gradient(90deg,#5fba7d 78.2%, transparent 78.2%);\n        }#T_0be5e_row8_col1{\n            width:  10em;\n             height:  80%;\n            background:  linear-gradient(90deg,#5fba7d 78.9%, transparent 78.9%);\n        }#T_0be5e_row8_col2{\n            width:  10em;\n             height:  80%;\n            background:  linear-gradient(90deg,#5fba7d 78.0%, transparent 78.0%);\n        }</style><table id=\"T_0be5e_\" ><thead>    <tr>        <th class=\"blank level0\" ></th>        <th class=\"col_heading level0 col0\" >Model</th>        <th class=\"col_heading level0 col1\" >Accuracy</th>        <th class=\"col_heading level0 col2\" >Bal Acc.</th>        <th class=\"col_heading level0 col3\" >Time</th>    </tr></thead><tbody>\n                <tr>\n                        <th id=\"T_0be5e_level0_row0\" class=\"row_heading level0 row0\" >1</th>\n                        <td id=\"T_0be5e_row0_col0\" class=\"data row0 col0\" >Skl GBM</td>\n                        <td id=\"T_0be5e_row0_col1\" class=\"data row0 col1\" >83.838384</td>\n                        <td id=\"T_0be5e_row0_col2\" class=\"data row0 col2\" >81.703576</td>\n                        <td id=\"T_0be5e_row0_col3\" class=\"data row0 col3\" >20.855963</td>\n            </tr>\n            <tr>\n                        <th id=\"T_0be5e_level0_row1\" class=\"row_heading level0 row1\" >2</th>\n                        <td id=\"T_0be5e_row1_col0\" class=\"data row1 col0\" >Skl HistGBM</td>\n                        <td id=\"T_0be5e_row1_col1\" class=\"data row1 col1\" >83.838384</td>\n                        <td id=\"T_0be5e_row1_col2\" class=\"data row1 col2\" >81.703576</td>\n                        <td id=\"T_0be5e_row1_col3\" class=\"data row1 col3\" >17.873708</td>\n            </tr>\n            <tr>\n                        <th id=\"T_0be5e_level0_row2\" class=\"row_heading level0 row2\" >3</th>\n                        <td id=\"T_0be5e_row2_col0\" class=\"data row2 col0\" >CatBoost</td>\n                        <td id=\"T_0be5e_row2_col1\" class=\"data row2 col1\" >83.389450</td>\n                        <td id=\"T_0be5e_row2_col2\" class=\"data row2 col2\" >81.173905</td>\n                        <td id=\"T_0be5e_row2_col3\" class=\"data row2 col3\" >81.032434</td>\n            </tr>\n            <tr>\n                        <th id=\"T_0be5e_level0_row3\" class=\"row_heading level0 row3\" >4</th>\n                        <td id=\"T_0be5e_row3_col0\" class=\"data row3 col0\" >LightGBM</td>\n                        <td id=\"T_0be5e_row3_col1\" class=\"data row3 col1\" >82.716049</td>\n                        <td id=\"T_0be5e_row3_col2\" class=\"data row3 col2\" >81.123574</td>\n                        <td id=\"T_0be5e_row3_col3\" class=\"data row3 col3\" >105.231877</td>\n            </tr>\n            <tr>\n                        <th id=\"T_0be5e_level0_row4\" class=\"row_heading level0 row4\" >5</th>\n                        <td id=\"T_0be5e_row4_col0\" class=\"data row4 col0\" >XGBoost</td>\n                        <td id=\"T_0be5e_row4_col1\" class=\"data row4 col1\" >81.818182</td>\n                        <td id=\"T_0be5e_row4_col2\" class=\"data row4 col2\" >80.174480</td>\n                        <td id=\"T_0be5e_row4_col3\" class=\"data row4 col3\" >153.917879</td>\n            </tr>\n            <tr>\n                        <th id=\"T_0be5e_level0_row5\" class=\"row_heading level0 row5\" >6</th>\n                        <td id=\"T_0be5e_row5_col0\" class=\"data row5 col0\" >AdaBoost</td>\n                        <td id=\"T_0be5e_row5_col1\" class=\"data row5 col1\" >81.032548</td>\n                        <td id=\"T_0be5e_row5_col2\" class=\"data row5 col2\" >79.922826</td>\n                        <td id=\"T_0be5e_row5_col3\" class=\"data row5 col3\" >20.630612</td>\n            </tr>\n            <tr>\n                        <th id=\"T_0be5e_level0_row6\" class=\"row_heading level0 row6\" >7</th>\n                        <td id=\"T_0be5e_row6_col0\" class=\"data row6 col0\" >Random Forest</td>\n                        <td id=\"T_0be5e_row6_col1\" class=\"data row6 col1\" >80.695847</td>\n                        <td id=\"T_0be5e_row6_col2\" class=\"data row6 col2\" >79.318857</td>\n                        <td id=\"T_0be5e_row6_col3\" class=\"data row6 col3\" >39.351996</td>\n            </tr>\n            <tr>\n                        <th id=\"T_0be5e_level0_row7\" class=\"row_heading level0 row7\" >8</th>\n                        <td id=\"T_0be5e_row7_col0\" class=\"data row7 col0\" >Extra Trees</td>\n                        <td id=\"T_0be5e_row7_col1\" class=\"data row7 col1\" >79.685746</td>\n                        <td id=\"T_0be5e_row7_col2\" class=\"data row7 col2\" >78.168440</td>\n                        <td id=\"T_0be5e_row7_col3\" class=\"data row7 col3\" >32.402842</td>\n            </tr>\n            <tr>\n                        <th id=\"T_0be5e_level0_row8\" class=\"row_heading level0 row8\" >9</th>\n                        <td id=\"T_0be5e_row8_col0\" class=\"data row8 col0\" >Decision Tree</td>\n                        <td id=\"T_0be5e_row8_col1\" class=\"data row8 col1\" >78.900112</td>\n                        <td id=\"T_0be5e_row8_col2\" class=\"data row8 col2\" >78.027035</td>\n                        <td id=\"T_0be5e_row8_col3\" class=\"data row8 col3\" >5.043650</td>\n            </tr>\n    </tbody></table>"
          },
          "metadata": {},
          "execution_count": 25
        }
      ],
      "execution_count": null
    },
    {
      "cell_type": "code",
      "metadata": {
        "deletable": false,
        "editable": false,
        "nbgrader": {
          "cell_type": "code",
          "checksum": "355f8e8321aae7be679a8d16b25172f2",
          "grade": true,
          "grade_id": "cell-57cc085faad513cf",
          "locked": true,
          "points": 3,
          "schema_version": 3,
          "solution": false,
          "task": false
        },
        "cell_id": "00036-12cf7c23-ef85-4ed8-9f3f-1799f77efef0",
        "deepnote_to_be_reexecuted": true,
        "source_hash": "c344ef58",
        "deepnote_cell_type": "code"
      },
      "source": "assert results_ord[\"Accuracy\"].min() > 75\nassert results_ord[\"Bal Acc.\"].min() > 75\nassert len(results_ord) == 9",
      "outputs": [],
      "execution_count": null
    },
    {
      "cell_type": "markdown",
      "source": "# Exercise 7.1\nTrain with all data the best model",
      "metadata": {
        "cell_id": "00037-a718789e-33ea-4669-bcec-cef4b7a98ac2",
        "deepnote_cell_type": "markdown"
      }
    },
    {
      "cell_type": "code",
      "metadata": {
        "colab": {},
        "colab_type": "code",
        "deletable": false,
        "id": "monuuQhHL7B_",
        "nbgrader": {
          "cell_type": "code",
          "checksum": "088ae511ec2eb947de2bff002e75d460",
          "grade": false,
          "grade_id": "cell-031a656e1e811717",
          "locked": false,
          "schema_version": 3,
          "solution": true,
          "task": false
        },
        "tags": [
          "outputPrepend"
        ],
        "cell_id": "00038-807d5081-7dca-4f18-9e8b-7615c8d7e14f",
        "deepnote_to_be_reexecuted": true,
        "source_hash": "2f6fef1f",
        "deepnote_cell_type": "code"
      },
      "source": "# best_model = tree_classifiers[\"SELECT MY BEST MODEL HERE\"]\n\n# Fit best model with all data\n\nbest_model =   tree_classifiers[\"CatBoost\"] \nbest_model.fit(x,y)",
      "outputs": [
        {
          "output_type": "stream",
          "name": "stdout",
          "text": "otal: 2.78s\tremaining: 1.74s\n615:\tlearn: 0.3212445\ttotal: 2.78s\tremaining: 1.73s\n616:\tlearn: 0.3211510\ttotal: 2.78s\tremaining: 1.73s\n617:\tlearn: 0.3210769\ttotal: 2.79s\tremaining: 1.72s\n618:\tlearn: 0.3208985\ttotal: 2.79s\tremaining: 1.72s\n619:\tlearn: 0.3207590\ttotal: 2.79s\tremaining: 1.71s\n620:\tlearn: 0.3206044\ttotal: 2.79s\tremaining: 1.7s\n621:\tlearn: 0.3204401\ttotal: 2.79s\tremaining: 1.7s\n622:\tlearn: 0.3204008\ttotal: 2.79s\tremaining: 1.69s\n623:\tlearn: 0.3202512\ttotal: 2.8s\tremaining: 1.69s\n624:\tlearn: 0.3200623\ttotal: 2.8s\tremaining: 1.68s\n625:\tlearn: 0.3199443\ttotal: 2.8s\tremaining: 1.67s\n626:\tlearn: 0.3198935\ttotal: 2.8s\tremaining: 1.67s\n627:\tlearn: 0.3198756\ttotal: 2.8s\tremaining: 1.66s\n628:\tlearn: 0.3197588\ttotal: 2.81s\tremaining: 1.66s\n629:\tlearn: 0.3196496\ttotal: 2.81s\tremaining: 1.65s\n630:\tlearn: 0.3194488\ttotal: 2.81s\tremaining: 1.64s\n631:\tlearn: 0.3194051\ttotal: 2.81s\tremaining: 1.64s\n632:\tlearn: 0.3193237\ttotal: 2.82s\tremaining: 1.63s\n633:\tlearn: 0.3191322\ttotal: 2.82s\tremaining: 1.63s\n634:\tlearn: 0.3190248\ttotal: 2.82s\tremaining: 1.62s\n635:\tlearn: 0.3189182\ttotal: 2.82s\tremaining: 1.61s\n636:\tlearn: 0.3188286\ttotal: 2.82s\tremaining: 1.61s\n637:\tlearn: 0.3187656\ttotal: 2.83s\tremaining: 1.6s\n638:\tlearn: 0.3186658\ttotal: 2.83s\tremaining: 1.6s\n639:\tlearn: 0.3186351\ttotal: 2.83s\tremaining: 1.59s\n640:\tlearn: 0.3184743\ttotal: 2.83s\tremaining: 1.59s\n641:\tlearn: 0.3184150\ttotal: 2.83s\tremaining: 1.58s\n642:\tlearn: 0.3183167\ttotal: 2.83s\tremaining: 1.57s\n643:\tlearn: 0.3182391\ttotal: 2.84s\tremaining: 1.57s\n644:\tlearn: 0.3180829\ttotal: 2.84s\tremaining: 1.56s\n645:\tlearn: 0.3179634\ttotal: 2.84s\tremaining: 1.56s\n646:\tlearn: 0.3177290\ttotal: 2.84s\tremaining: 1.55s\n647:\tlearn: 0.3176022\ttotal: 2.85s\tremaining: 1.54s\n648:\tlearn: 0.3175046\ttotal: 2.85s\tremaining: 1.54s\n649:\tlearn: 0.3173893\ttotal: 2.85s\tremaining: 1.53s\n650:\tlearn: 0.3173547\ttotal: 2.85s\tremaining: 1.53s\n651:\tlearn: 0.3172477\ttotal: 2.85s\tremaining: 1.52s\n652:\tlearn: 0.3171376\ttotal: 2.85s\tremaining: 1.52s\n653:\tlearn: 0.3169761\ttotal: 2.85s\tremaining: 1.51s\n654:\tlearn: 0.3167632\ttotal: 2.86s\tremaining: 1.5s\n655:\tlearn: 0.3167230\ttotal: 2.86s\tremaining: 1.5s\n656:\tlearn: 0.3166349\ttotal: 2.86s\tremaining: 1.49s\n657:\tlearn: 0.3165822\ttotal: 2.86s\tremaining: 1.49s\n658:\tlearn: 0.3165301\ttotal: 2.87s\tremaining: 1.48s\n659:\tlearn: 0.3164601\ttotal: 2.87s\tremaining: 1.48s\n660:\tlearn: 0.3163438\ttotal: 2.87s\tremaining: 1.47s\n661:\tlearn: 0.3161930\ttotal: 2.87s\tremaining: 1.47s\n662:\tlearn: 0.3160498\ttotal: 2.87s\tremaining: 1.46s\n663:\tlearn: 0.3158695\ttotal: 2.88s\tremaining: 1.45s\n664:\tlearn: 0.3157520\ttotal: 2.88s\tremaining: 1.45s\n665:\tlearn: 0.3157443\ttotal: 2.88s\tremaining: 1.44s\n666:\tlearn: 0.3156647\ttotal: 2.88s\tremaining: 1.44s\n667:\tlearn: 0.3155812\ttotal: 2.88s\tremaining: 1.43s\n668:\tlearn: 0.3154483\ttotal: 2.88s\tremaining: 1.43s\n669:\tlearn: 0.3153333\ttotal: 2.89s\tremaining: 1.42s\n670:\tlearn: 0.3152955\ttotal: 2.89s\tremaining: 1.42s\n671:\tlearn: 0.3152214\ttotal: 2.89s\tremaining: 1.41s\n672:\tlearn: 0.3151404\ttotal: 2.89s\tremaining: 1.41s\n673:\tlearn: 0.3148546\ttotal: 2.9s\tremaining: 1.4s\n674:\tlearn: 0.3148437\ttotal: 2.9s\tremaining: 1.4s\n675:\tlearn: 0.3146965\ttotal: 2.9s\tremaining: 1.39s\n676:\tlearn: 0.3145885\ttotal: 2.9s\tremaining: 1.38s\n677:\tlearn: 0.3143950\ttotal: 2.9s\tremaining: 1.38s\n678:\tlearn: 0.3142023\ttotal: 2.91s\tremaining: 1.37s\n679:\tlearn: 0.3140850\ttotal: 2.91s\tremaining: 1.37s\n680:\tlearn: 0.3140215\ttotal: 2.91s\tremaining: 1.36s\n681:\tlearn: 0.3139365\ttotal: 2.91s\tremaining: 1.36s\n682:\tlearn: 0.3139292\ttotal: 2.92s\tremaining: 1.35s\n683:\tlearn: 0.3138342\ttotal: 2.92s\tremaining: 1.35s\n684:\tlearn: 0.3137940\ttotal: 2.92s\tremaining: 1.34s\n685:\tlearn: 0.3137208\ttotal: 2.92s\tremaining: 1.34s\n686:\tlearn: 0.3136352\ttotal: 2.93s\tremaining: 1.33s\n687:\tlearn: 0.3135686\ttotal: 2.94s\tremaining: 1.33s\n688:\tlearn: 0.3134757\ttotal: 2.94s\tremaining: 1.33s\n689:\tlearn: 0.3133535\ttotal: 2.95s\tremaining: 1.32s\n690:\tlearn: 0.3132094\ttotal: 2.96s\tremaining: 1.32s\n691:\tlearn: 0.3130600\ttotal: 2.96s\tremaining: 1.32s\n692:\tlearn: 0.3130516\ttotal: 2.97s\tremaining: 1.32s\n693:\tlearn: 0.3129855\ttotal: 2.98s\tremaining: 1.31s\n694:\tlearn: 0.3129047\ttotal: 2.98s\tremaining: 1.31s\n695:\tlearn: 0.3127918\ttotal: 2.99s\tremaining: 1.31s\n696:\tlearn: 0.3125870\ttotal: 3s\tremaining: 1.3s\n697:\tlearn: 0.3125236\ttotal: 3.01s\tremaining: 1.3s\n698:\tlearn: 0.3123656\ttotal: 3.01s\tremaining: 1.29s\n699:\tlearn: 0.3122158\ttotal: 3.01s\tremaining: 1.29s\n700:\tlearn: 0.3121540\ttotal: 3.01s\tremaining: 1.28s\n701:\tlearn: 0.3120297\ttotal: 3.02s\tremaining: 1.28s\n702:\tlearn: 0.3119266\ttotal: 3.02s\tremaining: 1.27s\n703:\tlearn: 0.3118182\ttotal: 3.02s\tremaining: 1.27s\n704:\tlearn: 0.3116342\ttotal: 3.02s\tremaining: 1.26s\n705:\tlearn: 0.3113334\ttotal: 3.03s\tremaining: 1.26s\n706:\tlearn: 0.3112092\ttotal: 3.03s\tremaining: 1.26s\n707:\tlearn: 0.3110447\ttotal: 3.03s\tremaining: 1.25s\n708:\tlearn: 0.3108710\ttotal: 3.04s\tremaining: 1.25s\n709:\tlearn: 0.3107528\ttotal: 3.04s\tremaining: 1.24s\n710:\tlearn: 0.3106352\ttotal: 3.04s\tremaining: 1.24s\n711:\tlearn: 0.3105643\ttotal: 3.04s\tremaining: 1.23s\n712:\tlearn: 0.3104864\ttotal: 3.05s\tremaining: 1.23s\n713:\tlearn: 0.3103956\ttotal: 3.05s\tremaining: 1.22s\n714:\tlearn: 0.3102970\ttotal: 3.06s\tremaining: 1.22s\n715:\tlearn: 0.3101517\ttotal: 3.06s\tremaining: 1.21s\n716:\tlearn: 0.3100049\ttotal: 3.06s\tremaining: 1.21s\n717:\tlearn: 0.3098572\ttotal: 3.06s\tremaining: 1.2s\n718:\tlearn: 0.3096514\ttotal: 3.07s\tremaining: 1.2s\n719:\tlearn: 0.3095078\ttotal: 3.07s\tremaining: 1.19s\n720:\tlearn: 0.3094686\ttotal: 3.07s\tremaining: 1.19s\n721:\tlearn: 0.3094252\ttotal: 3.08s\tremaining: 1.18s\n722:\tlearn: 0.3093526\ttotal: 3.08s\tremaining: 1.18s\n723:\tlearn: 0.3092618\ttotal: 3.08s\tremaining: 1.17s\n724:\tlearn: 0.3090748\ttotal: 3.08s\tremaining: 1.17s\n725:\tlearn: 0.3088916\ttotal: 3.09s\tremaining: 1.17s\n726:\tlearn: 0.3088176\ttotal: 3.1s\tremaining: 1.16s\n727:\tlearn: 0.3087857\ttotal: 3.1s\tremaining: 1.16s\n728:\tlearn: 0.3087684\ttotal: 3.1s\tremaining: 1.15s\n729:\tlearn: 0.3085394\ttotal: 3.11s\tremaining: 1.15s\n730:\tlearn: 0.3084110\ttotal: 3.11s\tremaining: 1.15s\n731:\tlearn: 0.3083241\ttotal: 3.12s\tremaining: 1.14s\n732:\tlearn: 0.3082675\ttotal: 3.12s\tremaining: 1.14s\n733:\tlearn: 0.3080733\ttotal: 3.13s\tremaining: 1.14s\n734:\tlearn: 0.3080171\ttotal: 3.14s\tremaining: 1.13s\n735:\tlearn: 0.3078657\ttotal: 3.14s\tremaining: 1.13s\n736:\tlearn: 0.3077265\ttotal: 3.14s\tremaining: 1.12s\n737:\tlearn: 0.3074939\ttotal: 3.15s\tremaining: 1.12s\n738:\tlearn: 0.3072789\ttotal: 3.15s\tremaining: 1.11s\n739:\tlearn: 0.3071470\ttotal: 3.15s\tremaining: 1.11s\n740:\tlearn: 0.3071263\ttotal: 3.16s\tremaining: 1.1s\n741:\tlearn: 0.3069458\ttotal: 3.17s\tremaining: 1.1s\n742:\tlearn: 0.3069398\ttotal: 3.17s\tremaining: 1.1s\n743:\tlearn: 0.3069234\ttotal: 3.17s\tremaining: 1.09s\n744:\tlearn: 0.3068572\ttotal: 3.18s\tremaining: 1.09s\n745:\tlearn: 0.3066590\ttotal: 3.19s\tremaining: 1.08s\n746:\tlearn: 0.3065889\ttotal: 3.19s\tremaining: 1.08s\n747:\tlearn: 0.3064244\ttotal: 3.2s\tremaining: 1.08s\n748:\tlearn: 0.3063152\ttotal: 3.2s\tremaining: 1.07s\n749:\tlearn: 0.3062168\ttotal: 3.21s\tremaining: 1.07s\n750:\tlearn: 0.3061074\ttotal: 3.22s\tremaining: 1.07s\n751:\tlearn: 0.3060089\ttotal: 3.22s\tremaining: 1.06s\n752:\tlearn: 0.3059293\ttotal: 3.23s\tremaining: 1.06s\n753:\tlearn: 0.3058785\ttotal: 3.23s\tremaining: 1.05s\n754:\tlearn: 0.3057487\ttotal: 3.23s\tremaining: 1.05s\n755:\tlearn: 0.3055408\ttotal: 3.23s\tremaining: 1.04s\n756:\tlearn: 0.3053406\ttotal: 3.24s\tremaining: 1.04s\n757:\tlearn: 0.3051834\ttotal: 3.24s\tremaining: 1.03s\n758:\tlearn: 0.3050827\ttotal: 3.24s\tremaining: 1.03s\n759:\tlearn: 0.3050217\ttotal: 3.25s\tremaining: 1.02s\n760:\tlearn: 0.3049061\ttotal: 3.25s\tremaining: 1.02s\n761:\tlearn: 0.3048234\ttotal: 3.25s\tremaining: 1.01s\n762:\tlearn: 0.3048108\ttotal: 3.25s\tremaining: 1.01s\n763:\tlearn: 0.3047226\ttotal: 3.25s\tremaining: 1s\n764:\tlearn: 0.3046798\ttotal: 3.25s\tremaining: 1000ms\n765:\tlearn: 0.3045224\ttotal: 3.26s\tremaining: 995ms\n766:\tlearn: 0.3044452\ttotal: 3.26s\tremaining: 990ms\n767:\tlearn: 0.3043936\ttotal: 3.26s\tremaining: 986ms\n768:\tlearn: 0.3042321\ttotal: 3.27s\tremaining: 981ms\n769:\tlearn: 0.3041494\ttotal: 3.27s\tremaining: 977ms\n770:\tlearn: 0.3039984\ttotal: 3.27s\tremaining: 972ms\n771:\tlearn: 0.3039586\ttotal: 3.27s\tremaining: 967ms\n772:\tlearn: 0.3038623\ttotal: 3.28s\tremaining: 963ms\n773:\tlearn: 0.3037262\ttotal: 3.29s\tremaining: 960ms\n774:\tlearn: 0.3036324\ttotal: 3.29s\tremaining: 955ms\n775:\tlearn: 0.3035785\ttotal: 3.29s\tremaining: 951ms\n776:\tlearn: 0.3034231\ttotal: 3.3s\tremaining: 946ms\n777:\tlearn: 0.3033363\ttotal: 3.3s\tremaining: 943ms\n778:\tlearn: 0.3032286\ttotal: 3.31s\tremaining: 939ms\n779:\tlearn: 0.3030617\ttotal: 3.31s\tremaining: 934ms\n780:\tlearn: 0.3029128\ttotal: 3.31s\tremaining: 929ms\n781:\tlearn: 0.3027383\ttotal: 3.31s\tremaining: 924ms\n782:\tlearn: 0.3026606\ttotal: 3.34s\tremaining: 925ms\n783:\tlearn: 0.3025223\ttotal: 3.34s\tremaining: 920ms\n784:\tlearn: 0.3024280\ttotal: 3.34s\tremaining: 916ms\n785:\tlearn: 0.3023574\ttotal: 3.35s\tremaining: 912ms\n786:\tlearn: 0.3022205\ttotal: 3.35s\tremaining: 908ms\n787:\tlearn: 0.3021157\ttotal: 3.36s\tremaining: 904ms\n788:\tlearn: 0.3020207\ttotal: 3.36s\tremaining: 899ms\n789:\tlearn: 0.3018906\ttotal: 3.37s\tremaining: 895ms\n790:\tlearn: 0.3017911\ttotal: 3.37s\tremaining: 890ms\n791:\tlearn: 0.3017088\ttotal: 3.38s\tremaining: 887ms\n792:\tlearn: 0.3016153\ttotal: 3.38s\tremaining: 883ms\n793:\tlearn: 0.3014182\ttotal: 3.39s\tremaining: 879ms\n794:\tlearn: 0.3013762\ttotal: 3.39s\tremaining: 874ms\n795:\tlearn: 0.3013464\ttotal: 3.39s\tremaining: 870ms\n796:\tlearn: 0.3013115\ttotal: 3.4s\tremaining: 865ms\n797:\tlearn: 0.3012356\ttotal: 3.4s\tremaining: 861ms\n798:\tlearn: 0.3012033\ttotal: 3.41s\tremaining: 857ms\n799:\tlearn: 0.3010877\ttotal: 3.41s\tremaining: 853ms\n800:\tlearn: 0.3009774\ttotal: 3.41s\tremaining: 848ms\n801:\tlearn: 0.3007798\ttotal: 3.42s\tremaining: 843ms\n802:\tlearn: 0.3007170\ttotal: 3.42s\tremaining: 839ms\n803:\tlearn: 0.3006514\ttotal: 3.42s\tremaining: 834ms\n804:\tlearn: 0.3005340\ttotal: 3.42s\tremaining: 830ms\n805:\tlearn: 0.3003526\ttotal: 3.43s\tremaining: 825ms\n806:\tlearn: 0.3003182\ttotal: 3.43s\tremaining: 820ms\n807:\tlearn: 0.3002315\ttotal: 3.43s\tremaining: 815ms\n808:\tlearn: 0.3000873\ttotal: 3.44s\tremaining: 811ms\n809:\tlearn: 0.2999766\ttotal: 3.44s\tremaining: 807ms\n810:\tlearn: 0.2998060\ttotal: 3.44s\tremaining: 802ms\n811:\tlearn: 0.2995701\ttotal: 3.45s\tremaining: 798ms\n812:\tlearn: 0.2994833\ttotal: 3.45s\tremaining: 794ms\n813:\tlearn: 0.2993765\ttotal: 3.46s\tremaining: 790ms\n814:\tlearn: 0.2992996\ttotal: 3.46s\tremaining: 786ms\n815:\tlearn: 0.2990409\ttotal: 3.46s\tremaining: 781ms\n816:\tlearn: 0.2989769\ttotal: 3.46s\tremaining: 776ms\n817:\tlearn: 0.2988040\ttotal: 3.48s\tremaining: 774ms\n818:\tlearn: 0.2986732\ttotal: 3.48s\tremaining: 770ms\n819:\tlearn: 0.2986260\ttotal: 3.49s\tremaining: 765ms\n820:\tlearn: 0.2985850\ttotal: 3.49s\tremaining: 762ms\n821:\tlearn: 0.2985116\ttotal: 3.5s\tremaining: 758ms\n822:\tlearn: 0.2984187\ttotal: 3.51s\tremaining: 754ms\n823:\tlearn: 0.2982653\ttotal: 3.51s\tremaining: 750ms\n824:\tlearn: 0.2981551\ttotal: 3.51s\tremaining: 745ms\n825:\tlearn: 0.2980390\ttotal: 3.51s\tremaining: 740ms\n826:\tlearn: 0.2980034\ttotal: 3.52s\tremaining: 736ms\n827:\tlearn: 0.2979670\ttotal: 3.52s\tremaining: 731ms\n828:\tlearn: 0.2978955\ttotal: 3.52s\tremaining: 726ms\n829:\tlearn: 0.2977548\ttotal: 3.52s\tremaining: 722ms\n830:\tlearn: 0.2976271\ttotal: 3.52s\tremaining: 717ms\n831:\tlearn: 0.2974502\ttotal: 3.53s\tremaining: 712ms\n832:\tlearn: 0.2973941\ttotal: 3.53s\tremaining: 708ms\n833:\tlearn: 0.2973359\ttotal: 3.53s\tremaining: 703ms\n834:\tlearn: 0.2971483\ttotal: 3.54s\tremaining: 699ms\n835:\tlearn: 0.2970969\ttotal: 3.54s\tremaining: 694ms\n836:\tlearn: 0.2969105\ttotal: 3.54s\tremaining: 690ms\n837:\tlearn: 0.2968095\ttotal: 3.55s\tremaining: 686ms\n838:\tlearn: 0.2966481\ttotal: 3.55s\tremaining: 682ms\n839:\tlearn: 0.2965747\ttotal: 3.55s\tremaining: 677ms\n840:\tlearn: 0.2965211\ttotal: 3.56s\tremaining: 673ms\n841:\tlearn: 0.2964805\ttotal: 3.56s\tremaining: 668ms\n842:\tlearn: 0.2963050\ttotal: 3.56s\tremaining: 664ms\n843:\tlearn: 0.2960939\ttotal: 3.57s\tremaining: 660ms\n844:\tlearn: 0.2959523\ttotal: 3.58s\tremaining: 656ms\n845:\tlearn: 0.2958759\ttotal: 3.58s\tremaining: 652ms\n846:\tlearn: 0.2957792\ttotal: 3.58s\tremaining: 647ms\n847:\tlearn: 0.2956140\ttotal: 3.59s\tremaining: 643ms\n848:\tlearn: 0.2955087\ttotal: 3.59s\tremaining: 638ms\n849:\tlearn: 0.2953116\ttotal: 3.6s\tremaining: 636ms\n850:\tlearn: 0.2952370\ttotal: 3.61s\tremaining: 631ms\n851:\tlearn: 0.2951399\ttotal: 3.61s\tremaining: 627ms\n852:\tlearn: 0.2950772\ttotal: 3.62s\tremaining: 623ms\n853:\tlearn: 0.2950143\ttotal: 3.62s\tremaining: 618ms\n854:\tlearn: 0.2949139\ttotal: 3.62s\tremaining: 614ms\n855:\tlearn: 0.2948698\ttotal: 3.63s\tremaining: 610ms\n856:\tlearn: 0.2947563\ttotal: 3.63s\tremaining: 606ms\n857:\tlearn: 0.2946640\ttotal: 3.63s\tremaining: 601ms\n858:\tlearn: 0.2945368\ttotal: 3.63s\tremaining: 597ms\n859:\tlearn: 0.2944676\ttotal: 3.64s\tremaining: 592ms\n860:\tlearn: 0.2943606\ttotal: 3.64s\tremaining: 588ms\n861:\tlearn: 0.2943150\ttotal: 3.65s\tremaining: 584ms\n862:\tlearn: 0.2941860\ttotal: 3.65s\tremaining: 579ms\n863:\tlearn: 0.2940232\ttotal: 3.65s\tremaining: 574ms\n864:\tlearn: 0.2939690\ttotal: 3.65s\tremaining: 570ms\n865:\tlearn: 0.2937872\ttotal: 3.65s\tremaining: 566ms\n866:\tlearn: 0.2937318\ttotal: 3.66s\tremaining: 562ms\n867:\tlearn: 0.2936741\ttotal: 3.67s\tremaining: 557ms\n868:\tlearn: 0.2935569\ttotal: 3.67s\tremaining: 553ms\n869:\tlearn: 0.2934174\ttotal: 3.67s\tremaining: 549ms\n870:\tlearn: 0.2932627\ttotal: 3.67s\tremaining: 544ms\n871:\tlearn: 0.2931426\ttotal: 3.67s\tremaining: 540ms\n872:\tlearn: 0.2930282\ttotal: 3.68s\tremaining: 535ms\n873:\tlearn: 0.2929569\ttotal: 3.68s\tremaining: 531ms\n874:\tlearn: 0.2928324\ttotal: 3.69s\tremaining: 526ms\n875:\tlearn: 0.2925519\ttotal: 3.69s\tremaining: 522ms\n876:\tlearn: 0.2924615\ttotal: 3.69s\tremaining: 517ms\n877:\tlearn: 0.2924122\ttotal: 3.69s\tremaining: 513ms\n878:\tlearn: 0.2923596\ttotal: 3.69s\tremaining: 508ms\n879:\tlearn: 0.2922119\ttotal: 3.69s\tremaining: 504ms\n880:\tlearn: 0.2920687\ttotal: 3.7s\tremaining: 499ms\n881:\tlearn: 0.2919747\ttotal: 3.7s\tremaining: 495ms\n882:\tlearn: 0.2919162\ttotal: 3.7s\tremaining: 491ms\n883:\tlearn: 0.2918598\ttotal: 3.7s\tremaining: 486ms\n884:\tlearn: 0.2917196\ttotal: 3.71s\tremaining: 481ms\n885:\tlearn: 0.2916047\ttotal: 3.71s\tremaining: 477ms\n886:\tlearn: 0.2915503\ttotal: 3.71s\tremaining: 473ms\n887:\tlearn: 0.2913024\ttotal: 3.71s\tremaining: 468ms\n888:\tlearn: 0.2912198\ttotal: 3.71s\tremaining: 464ms\n889:\tlearn: 0.2910100\ttotal: 3.72s\tremaining: 460ms\n890:\tlearn: 0.2909467\ttotal: 3.72s\tremaining: 455ms\n891:\tlearn: 0.2908510\ttotal: 3.72s\tremaining: 451ms\n892:\tlearn: 0.2907457\ttotal: 3.72s\tremaining: 446ms\n893:\tlearn: 0.2907070\ttotal: 3.73s\tremaining: 442ms\n894:\tlearn: 0.2906917\ttotal: 3.73s\tremaining: 437ms\n895:\tlearn: 0.2905458\ttotal: 3.73s\tremaining: 433ms\n896:\tlearn: 0.2904365\ttotal: 3.74s\tremaining: 429ms\n897:\tlearn: 0.2902406\ttotal: 3.74s\tremaining: 425ms\n898:\tlearn: 0.2900478\ttotal: 3.74s\tremaining: 421ms\n899:\tlearn: 0.2899236\ttotal: 3.75s\tremaining: 416ms\n900:\tlearn: 0.2896511\ttotal: 3.75s\tremaining: 412ms\n901:\tlearn: 0.2895854\ttotal: 3.75s\tremaining: 408ms\n902:\tlearn: 0.2895201\ttotal: 3.75s\tremaining: 403ms\n903:\tlearn: 0.2893316\ttotal: 3.76s\tremaining: 399ms\n904:\tlearn: 0.2892733\ttotal: 3.76s\tremaining: 395ms\n905:\tlearn: 0.2891159\ttotal: 3.76s\tremaining: 391ms\n906:\tlearn: 0.2890576\ttotal: 3.77s\tremaining: 386ms\n907:\tlearn: 0.2888944\ttotal: 3.77s\tremaining: 382ms\n908:\tlearn: 0.2888526\ttotal: 3.77s\tremaining: 378ms\n909:\tlearn: 0.2887853\ttotal: 3.77s\tremaining: 373ms\n910:\tlearn: 0.2886460\ttotal: 3.78s\tremaining: 369ms\n911:\tlearn: 0.2885194\ttotal: 3.78s\tremaining: 365ms\n912:\tlearn: 0.2884000\ttotal: 3.78s\tremaining: 360ms\n913:\tlearn: 0.2882336\ttotal: 3.78s\tremaining: 356ms\n914:\tlearn: 0.2882086\ttotal: 3.79s\tremaining: 352ms\n915:\tlearn: 0.2881272\ttotal: 3.79s\tremaining: 347ms\n916:\tlearn: 0.2880708\ttotal: 3.8s\tremaining: 344ms\n917:\tlearn: 0.2879804\ttotal: 3.8s\tremaining: 339ms\n918:\tlearn: 0.2879147\ttotal: 3.81s\tremaining: 336ms\n919:\tlearn: 0.2878440\ttotal: 3.81s\tremaining: 331ms\n920:\tlearn: 0.2877406\ttotal: 3.81s\tremaining: 327ms\n921:\tlearn: 0.2876765\ttotal: 3.81s\tremaining: 323ms\n922:\tlearn: 0.2875786\ttotal: 3.82s\tremaining: 319ms\n923:\tlearn: 0.2872735\ttotal: 3.83s\tremaining: 315ms\n924:\tlearn: 0.2869538\ttotal: 3.83s\tremaining: 310ms\n925:\tlearn: 0.2867003\ttotal: 3.83s\tremaining: 306ms\n926:\tlearn: 0.2866108\ttotal: 3.83s\tremaining: 302ms\n927:\tlearn: 0.2863517\ttotal: 3.84s\tremaining: 298ms\n928:\tlearn: 0.2862465\ttotal: 3.86s\tremaining: 295ms\n929:\tlearn: 0.2861594\ttotal: 3.87s\tremaining: 291ms\n930:\tlearn: 0.2860556\ttotal: 3.87s\tremaining: 287ms\n931:\tlearn: 0.2858004\ttotal: 3.87s\tremaining: 283ms\n932:\tlearn: 0.2856878\ttotal: 3.88s\tremaining: 278ms\n933:\tlearn: 0.2856579\ttotal: 3.88s\tremaining: 274ms\n934:\tlearn: 0.2855954\ttotal: 3.88s\tremaining: 270ms\n935:\tlearn: 0.2855303\ttotal: 3.89s\tremaining: 266ms\n936:\tlearn: 0.2852270\ttotal: 3.89s\tremaining: 261ms\n937:\tlearn: 0.2851772\ttotal: 3.9s\tremaining: 258ms\n938:\tlearn: 0.2850997\ttotal: 3.9s\tremaining: 253ms\n939:\tlearn: 0.2850514\ttotal: 3.9s\tremaining: 249ms\n940:\tlearn: 0.2850164\ttotal: 3.9s\tremaining: 245ms\n941:\tlearn: 0.2849463\ttotal: 3.9s\tremaining: 240ms\n942:\tlearn: 0.2848686\ttotal: 3.91s\tremaining: 236ms\n943:\tlearn: 0.2848229\ttotal: 3.91s\tremaining: 232ms\n944:\tlearn: 0.2847643\ttotal: 3.92s\tremaining: 228ms\n945:\tlearn: 0.2847043\ttotal: 3.92s\tremaining: 224ms\n946:\tlearn: 0.2844936\ttotal: 3.93s\tremaining: 220ms\n947:\tlearn: 0.2844193\ttotal: 3.93s\tremaining: 216ms\n948:\tlearn: 0.2842786\ttotal: 3.93s\tremaining: 211ms\n949:\tlearn: 0.2842443\ttotal: 3.94s\tremaining: 207ms\n950:\tlearn: 0.2841940\ttotal: 3.94s\tremaining: 203ms\n951:\tlearn: 0.2839289\ttotal: 3.94s\tremaining: 199ms\n952:\tlearn: 0.2836850\ttotal: 3.94s\tremaining: 194ms\n953:\tlearn: 0.2835288\ttotal: 3.94s\tremaining: 190ms\n954:\tlearn: 0.2834790\ttotal: 3.94s\tremaining: 186ms\n955:\tlearn: 0.2833689\ttotal: 3.95s\tremaining: 182ms\n956:\tlearn: 0.2833145\ttotal: 3.95s\tremaining: 177ms\n957:\tlearn: 0.2832684\ttotal: 3.95s\tremaining: 173ms\n958:\tlearn: 0.2832026\ttotal: 3.96s\tremaining: 169ms\n959:\tlearn: 0.2831615\ttotal: 3.96s\tremaining: 165ms\n960:\tlearn: 0.2831169\ttotal: 3.96s\tremaining: 161ms\n961:\tlearn: 0.2830213\ttotal: 3.96s\tremaining: 157ms\n962:\tlearn: 0.2829809\ttotal: 3.97s\tremaining: 152ms\n963:\tlearn: 0.2828213\ttotal: 3.97s\tremaining: 148ms\n964:\tlearn: 0.2827543\ttotal: 3.98s\tremaining: 144ms\n965:\tlearn: 0.2826562\ttotal: 3.98s\tremaining: 140ms\n966:\tlearn: 0.2824321\ttotal: 3.98s\tremaining: 136ms\n967:\tlearn: 0.2823625\ttotal: 3.98s\tremaining: 132ms\n968:\tlearn: 0.2822576\ttotal: 3.99s\tremaining: 128ms\n969:\tlearn: 0.2820042\ttotal: 4s\tremaining: 124ms\n970:\tlearn: 0.2818532\ttotal: 4s\tremaining: 119ms\n971:\tlearn: 0.2817720\ttotal: 4s\tremaining: 115ms\n972:\tlearn: 0.2815659\ttotal: 4s\tremaining: 111ms\n973:\tlearn: 0.2815061\ttotal: 4s\tremaining: 107ms\n974:\tlearn: 0.2813209\ttotal: 4.01s\tremaining: 103ms\n975:\tlearn: 0.2812482\ttotal: 4.01s\tremaining: 98.6ms\n976:\tlearn: 0.2810643\ttotal: 4.02s\tremaining: 94.6ms\n977:\tlearn: 0.2810017\ttotal: 4.02s\tremaining: 90.4ms\n978:\tlearn: 0.2809162\ttotal: 4.02s\tremaining: 86.3ms\n979:\tlearn: 0.2807662\ttotal: 4.03s\tremaining: 82.2ms\n980:\tlearn: 0.2806655\ttotal: 4.03s\tremaining: 78ms\n981:\tlearn: 0.2806063\ttotal: 4.03s\tremaining: 73.9ms\n982:\tlearn: 0.2805396\ttotal: 4.03s\tremaining: 69.7ms\n983:\tlearn: 0.2804744\ttotal: 4.04s\tremaining: 65.7ms\n984:\tlearn: 0.2804075\ttotal: 4.04s\tremaining: 61.6ms\n985:\tlearn: 0.2803553\ttotal: 4.05s\tremaining: 57.5ms\n986:\tlearn: 0.2802851\ttotal: 4.05s\tremaining: 53.3ms\n987:\tlearn: 0.2802014\ttotal: 4.05s\tremaining: 49.2ms\n988:\tlearn: 0.2801449\ttotal: 4.05s\tremaining: 45.1ms\n989:\tlearn: 0.2800484\ttotal: 4.06s\tremaining: 41ms\n990:\tlearn: 0.2799596\ttotal: 4.06s\tremaining: 36.9ms\n991:\tlearn: 0.2798792\ttotal: 4.07s\tremaining: 32.8ms\n992:\tlearn: 0.2798228\ttotal: 4.07s\tremaining: 28.7ms\n993:\tlearn: 0.2797580\ttotal: 4.07s\tremaining: 24.6ms\n994:\tlearn: 0.2796017\ttotal: 4.07s\tremaining: 20.5ms\n995:\tlearn: 0.2793483\ttotal: 4.08s\tremaining: 16.4ms\n996:\tlearn: 0.2792866\ttotal: 4.08s\tremaining: 12.3ms\n997:\tlearn: 0.2792356\ttotal: 4.08s\tremaining: 8.17ms\n998:\tlearn: 0.2791514\ttotal: 4.08s\tremaining: 4.09ms\n999:\tlearn: 0.2789732\ttotal: 4.09s\tremaining: 0us\n"
        },
        {
          "output_type": "execute_result",
          "data": {
            "text/plain": "Pipeline(steps=[('columntransformer',\n                 ColumnTransformer(transformers=[('num',\n                                                  Pipeline(steps=[('imputer',\n                                                                   SimpleImputer())]),\n                                                  ['Pclass', 'SibSp', 'Parch',\n                                                   'Fare', 'Age']),\n                                                 ('cat',\n                                                  Pipeline(steps=[('imputer',\n                                                                   SimpleImputer(fill_value='missing',\n                                                                                 strategy='constant')),\n                                                                  ('onehot',\n                                                                   OneHotEncoder(handle_unknown='ignore'))]),\n                                                  ['Sex', 'Embarked',\n                                                   'Title'])])),\n                ('catboostclassifier',\n                 <catboost.core.CatBoostClassifier object at 0x1179f31c0>)])",
            "text/html": "<style>div.sk-top-container {color: black;background-color: white;}div.sk-toggleable {background-color: white;}label.sk-toggleable__label {cursor: pointer;display: block;width: 100%;margin-bottom: 0;padding: 0.2em 0.3em;box-sizing: border-box;text-align: center;}div.sk-toggleable__content {max-height: 0;max-width: 0;overflow: hidden;text-align: left;background-color: #f0f8ff;}div.sk-toggleable__content pre {margin: 0.2em;color: black;border-radius: 0.25em;background-color: #f0f8ff;}input.sk-toggleable__control:checked~div.sk-toggleable__content {max-height: 200px;max-width: 100%;overflow: auto;}div.sk-estimator input.sk-toggleable__control:checked~label.sk-toggleable__label {background-color: #d4ebff;}div.sk-label input.sk-toggleable__control:checked~label.sk-toggleable__label {background-color: #d4ebff;}input.sk-hidden--visually {border: 0;clip: rect(1px 1px 1px 1px);clip: rect(1px, 1px, 1px, 1px);height: 1px;margin: -1px;overflow: hidden;padding: 0;position: absolute;width: 1px;}div.sk-estimator {font-family: monospace;background-color: #f0f8ff;margin: 0.25em 0.25em;border: 1px dotted black;border-radius: 0.25em;box-sizing: border-box;}div.sk-estimator:hover {background-color: #d4ebff;}div.sk-parallel-item::after {content: \"\";width: 100%;border-bottom: 1px solid gray;flex-grow: 1;}div.sk-label:hover label.sk-toggleable__label {background-color: #d4ebff;}div.sk-serial::before {content: \"\";position: absolute;border-left: 1px solid gray;box-sizing: border-box;top: 2em;bottom: 0;left: 50%;}div.sk-serial {display: flex;flex-direction: column;align-items: center;background-color: white;}div.sk-item {z-index: 1;}div.sk-parallel {display: flex;align-items: stretch;justify-content: center;background-color: white;}div.sk-parallel-item {display: flex;flex-direction: column;position: relative;background-color: white;}div.sk-parallel-item:first-child::after {align-self: flex-end;width: 50%;}div.sk-parallel-item:last-child::after {align-self: flex-start;width: 50%;}div.sk-parallel-item:only-child::after {width: 0;}div.sk-dashed-wrapped {border: 1px dashed gray;margin: 0.2em;box-sizing: border-box;padding-bottom: 0.1em;background-color: white;position: relative;}div.sk-label label {font-family: monospace;font-weight: bold;background-color: white;display: inline-block;line-height: 1.2em;}div.sk-label-container {position: relative;z-index: 2;text-align: center;}div.sk-container {display: inline-block;position: relative;}</style><div class=\"sk-top-container\"><div class=\"sk-container\"><div class=\"sk-item sk-dashed-wrapped\"><div class=\"sk-label-container\"><div class=\"sk-label sk-toggleable\"><input class=\"sk-toggleable__control sk-hidden--visually\" id=\"6513c9d1-fd33-4969-be7b-51d48153d240\" type=\"checkbox\" ><label class=\"sk-toggleable__label\" for=\"6513c9d1-fd33-4969-be7b-51d48153d240\">Pipeline</label><div class=\"sk-toggleable__content\"><pre>Pipeline(steps=[('columntransformer',\n                 ColumnTransformer(transformers=[('num',\n                                                  Pipeline(steps=[('imputer',\n                                                                   SimpleImputer())]),\n                                                  ['Pclass', 'SibSp', 'Parch',\n                                                   'Fare', 'Age']),\n                                                 ('cat',\n                                                  Pipeline(steps=[('imputer',\n                                                                   SimpleImputer(fill_value='missing',\n                                                                                 strategy='constant')),\n                                                                  ('onehot',\n                                                                   OneHotEncoder(handle_unknown='ignore'))]),\n                                                  ['Sex', 'Embarked',\n                                                   'Title'])])),\n                ('catboostclassifier',\n                 <catboost.core.CatBoostClassifier object at 0x1179f31c0>)])</pre></div></div></div><div class=\"sk-serial\"><div class=\"sk-item sk-dashed-wrapped\"><div class=\"sk-label-container\"><div class=\"sk-label sk-toggleable\"><input class=\"sk-toggleable__control sk-hidden--visually\" id=\"3bec23f7-7d4d-466b-909d-014317efe7e2\" type=\"checkbox\" ><label class=\"sk-toggleable__label\" for=\"3bec23f7-7d4d-466b-909d-014317efe7e2\">columntransformer: ColumnTransformer</label><div class=\"sk-toggleable__content\"><pre>ColumnTransformer(transformers=[('num',\n                                 Pipeline(steps=[('imputer', SimpleImputer())]),\n                                 ['Pclass', 'SibSp', 'Parch', 'Fare', 'Age']),\n                                ('cat',\n                                 Pipeline(steps=[('imputer',\n                                                  SimpleImputer(fill_value='missing',\n                                                                strategy='constant')),\n                                                 ('onehot',\n                                                  OneHotEncoder(handle_unknown='ignore'))]),\n                                 ['Sex', 'Embarked', 'Title'])])</pre></div></div></div><div class=\"sk-parallel\"><div class=\"sk-parallel-item\"><div class=\"sk-item\"><div class=\"sk-label-container\"><div class=\"sk-label sk-toggleable\"><input class=\"sk-toggleable__control sk-hidden--visually\" id=\"a3fce184-2458-4cf4-8000-bf2c4acbad6a\" type=\"checkbox\" ><label class=\"sk-toggleable__label\" for=\"a3fce184-2458-4cf4-8000-bf2c4acbad6a\">num</label><div class=\"sk-toggleable__content\"><pre>['Pclass', 'SibSp', 'Parch', 'Fare', 'Age']</pre></div></div></div><div class=\"sk-serial\"><div class=\"sk-item\"><div class=\"sk-serial\"><div class=\"sk-item\"><div class=\"sk-estimator sk-toggleable\"><input class=\"sk-toggleable__control sk-hidden--visually\" id=\"7f999894-cec7-4339-9c75-1364eded2258\" type=\"checkbox\" ><label class=\"sk-toggleable__label\" for=\"7f999894-cec7-4339-9c75-1364eded2258\">SimpleImputer</label><div class=\"sk-toggleable__content\"><pre>SimpleImputer()</pre></div></div></div></div></div></div></div></div><div class=\"sk-parallel-item\"><div class=\"sk-item\"><div class=\"sk-label-container\"><div class=\"sk-label sk-toggleable\"><input class=\"sk-toggleable__control sk-hidden--visually\" id=\"ec127b2b-8ca9-46c3-90bb-f14137b3b147\" type=\"checkbox\" ><label class=\"sk-toggleable__label\" for=\"ec127b2b-8ca9-46c3-90bb-f14137b3b147\">cat</label><div class=\"sk-toggleable__content\"><pre>['Sex', 'Embarked', 'Title']</pre></div></div></div><div class=\"sk-serial\"><div class=\"sk-item\"><div class=\"sk-serial\"><div class=\"sk-item\"><div class=\"sk-estimator sk-toggleable\"><input class=\"sk-toggleable__control sk-hidden--visually\" id=\"affc2e6c-cb44-4e68-a183-88c767ad5b72\" type=\"checkbox\" ><label class=\"sk-toggleable__label\" for=\"affc2e6c-cb44-4e68-a183-88c767ad5b72\">SimpleImputer</label><div class=\"sk-toggleable__content\"><pre>SimpleImputer(fill_value='missing', strategy='constant')</pre></div></div></div><div class=\"sk-item\"><div class=\"sk-estimator sk-toggleable\"><input class=\"sk-toggleable__control sk-hidden--visually\" id=\"01796bb9-c4e4-42c3-8828-2f3979c02821\" type=\"checkbox\" ><label class=\"sk-toggleable__label\" for=\"01796bb9-c4e4-42c3-8828-2f3979c02821\">OneHotEncoder</label><div class=\"sk-toggleable__content\"><pre>OneHotEncoder(handle_unknown='ignore')</pre></div></div></div></div></div></div></div></div></div></div><div class=\"sk-item\"><div class=\"sk-estimator sk-toggleable\"><input class=\"sk-toggleable__control sk-hidden--visually\" id=\"8f73a8c8-b4c1-40a6-9c86-cd666191cf6b\" type=\"checkbox\" ><label class=\"sk-toggleable__label\" for=\"8f73a8c8-b4c1-40a6-9c86-cd666191cf6b\">CatBoostClassifier</label><div class=\"sk-toggleable__content\"><pre><catboost.core.CatBoostClassifier object at 0x1179f31c0></pre></div></div></div></div></div></div></div>"
          },
          "metadata": {},
          "execution_count": 34
        }
      ],
      "execution_count": null
    },
    {
      "cell_type": "markdown",
      "source": "# Exercise 7.2 (2pts)\nWith your best model, generate the predicitions for test data (x_test)",
      "metadata": {
        "cell_id": "00039-a514e3d7-d2d0-4228-a6f2-bf39fe82a233",
        "deepnote_cell_type": "markdown"
      }
    },
    {
      "cell_type": "code",
      "metadata": {
        "deletable": false,
        "nbgrader": {
          "cell_type": "code",
          "checksum": "031ab122b02b5833236370a53d148daf",
          "grade": false,
          "grade_id": "cell-44b93a0dbd4eb6fc",
          "locked": false,
          "schema_version": 3,
          "solution": true,
          "task": false
        },
        "cell_id": "00040-73cd9543-e1df-48ed-8264-280732fdc7e0",
        "deepnote_to_be_reexecuted": true,
        "source_hash": "4a883b21",
        "deepnote_cell_type": "code"
      },
      "source": "# test_pred = # Get the predictions for x_test\n\ntest_pred = best_model.predict(x_test)",
      "outputs": [],
      "execution_count": null
    },
    {
      "cell_type": "code",
      "metadata": {
        "deletable": false,
        "editable": false,
        "nbgrader": {
          "cell_type": "code",
          "checksum": "180b37cf4a0276bdf509220b1706a8aa",
          "grade": true,
          "grade_id": "cell-a29fc8d24284520e",
          "locked": true,
          "points": 2,
          "schema_version": 3,
          "solution": false,
          "task": false
        },
        "cell_id": "00041-d0ae3d37-56c5-482c-ae96-4e6ba4ba0f90",
        "deepnote_to_be_reexecuted": true,
        "source_hash": "9e8127cf",
        "deepnote_cell_type": "code"
      },
      "source": "assert len(test_pred) == 418\nassert np.unique(test_pred).tolist() == [0,1]",
      "outputs": [],
      "execution_count": null
    },
    {
      "cell_type": "markdown",
      "source": "# Exercise 7.3\n\nSubmit to kaggle.\n\n- You can use the kaggle command line app. Check https://github.com/Kaggle/kaggle-api",
      "metadata": {
        "cell_id": "00042-e2b65493-a09b-4079-a3e5-e6d51025aad4",
        "deepnote_cell_type": "markdown"
      }
    },
    {
      "cell_type": "code",
      "metadata": {
        "cell_id": "00043-4b7b07b4-cff7-4a77-9181-7852e22fa96a",
        "deepnote_to_be_reexecuted": true,
        "source_hash": "82f8bb8f",
        "deepnote_cell_type": "code"
      },
      "source": "sub = pd.DataFrame(test_pred, index=x_test.index, columns=[\"Survived\"])\nsub.head()",
      "outputs": [
        {
          "output_type": "execute_result",
          "data": {
            "text/plain": "             Survived\nPassengerId          \n892                 0\n893                 0\n894                 0\n895                 0\n896                 1",
            "text/html": "<div>\n<style scoped>\n    .dataframe tbody tr th:only-of-type {\n        vertical-align: middle;\n    }\n\n    .dataframe tbody tr th {\n        vertical-align: top;\n    }\n\n    .dataframe thead th {\n        text-align: right;\n    }\n</style>\n<table border=\"1\" class=\"dataframe\">\n  <thead>\n    <tr style=\"text-align: right;\">\n      <th></th>\n      <th>Survived</th>\n    </tr>\n    <tr>\n      <th>PassengerId</th>\n      <th></th>\n    </tr>\n  </thead>\n  <tbody>\n    <tr>\n      <th>892</th>\n      <td>0</td>\n    </tr>\n    <tr>\n      <th>893</th>\n      <td>0</td>\n    </tr>\n    <tr>\n      <th>894</th>\n      <td>0</td>\n    </tr>\n    <tr>\n      <th>895</th>\n      <td>0</td>\n    </tr>\n    <tr>\n      <th>896</th>\n      <td>1</td>\n    </tr>\n  </tbody>\n</table>\n</div>"
          },
          "metadata": {},
          "execution_count": 37
        }
      ],
      "execution_count": null
    },
    {
      "cell_type": "code",
      "metadata": {
        "cell_id": "00044-d96d6db6-43ef-4c2c-9a8d-a55b11c95b1b",
        "deepnote_to_be_reexecuted": true,
        "source_hash": "e989a2eb",
        "deepnote_cell_type": "code"
      },
      "source": "sub.to_csv(\"sub1.csv\")",
      "outputs": [],
      "execution_count": null
    },
    {
      "cell_type": "code",
      "metadata": {
        "cell_id": "00045-47cf389a-a161-40a8-b036-050c3706c14c",
        "deepnote_to_be_reexecuted": true,
        "source_hash": "c64add6f",
        "deepnote_cell_type": "code"
      },
      "source": "!kaggle competitions submit -c titanic -f sub.csv -m \"My submission message\"",
      "execution_count": null,
      "outputs": []
    },
    {
      "cell_type": "markdown",
      "source": "<a style='text-decoration:none;line-height:16px;display:flex;color:#5B5B62;padding:10px;justify-content:end;' href='https://deepnote.com?utm_source=created-in-deepnote-cell&projectId=32ebab46-e526-42a3-8966-92f4ff6ef571' target=\"_blank\">\n<img alt='Created in deepnote.com' style='display:inline;max-height:16px;margin:0px;margin-right:7.5px;' src='data:image/svg+xml;base64,PD94bWwgdmVyc2lvbj0iMS4wIiBlbmNvZGluZz0iVVRGLTgiPz4KPHN2ZyB3aWR0aD0iODBweCIgaGVpZ2h0PSI4MHB4IiB2aWV3Qm94PSIwIDAgODAgODAiIHZlcnNpb249IjEuMSIgeG1sbnM9Imh0dHA6Ly93d3cudzMub3JnLzIwMDAvc3ZnIiB4bWxuczp4bGluaz0iaHR0cDovL3d3dy53My5vcmcvMTk5OS94bGluayI+CiAgICA8IS0tIEdlbmVyYXRvcjogU2tldGNoIDU0LjEgKDc2NDkwKSAtIGh0dHBzOi8vc2tldGNoYXBwLmNvbSAtLT4KICAgIDx0aXRsZT5Hcm91cCAzPC90aXRsZT4KICAgIDxkZXNjPkNyZWF0ZWQgd2l0aCBTa2V0Y2guPC9kZXNjPgogICAgPGcgaWQ9IkxhbmRpbmciIHN0cm9rZT0ibm9uZSIgc3Ryb2tlLXdpZHRoPSIxIiBmaWxsPSJub25lIiBmaWxsLXJ1bGU9ImV2ZW5vZGQiPgogICAgICAgIDxnIGlkPSJBcnRib2FyZCIgdHJhbnNmb3JtPSJ0cmFuc2xhdGUoLTEyMzUuMDAwMDAwLCAtNzkuMDAwMDAwKSI+CiAgICAgICAgICAgIDxnIGlkPSJHcm91cC0zIiB0cmFuc2Zvcm09InRyYW5zbGF0ZSgxMjM1LjAwMDAwMCwgNzkuMDAwMDAwKSI+CiAgICAgICAgICAgICAgICA8cG9seWdvbiBpZD0iUGF0aC0yMCIgZmlsbD0iIzAyNjVCNCIgcG9pbnRzPSIyLjM3NjIzNzYyIDgwIDM4LjA0NzY2NjcgODAgNTcuODIxNzgyMiA3My44MDU3NTkyIDU3LjgyMTc4MjIgMzIuNzU5MjczOSAzOS4xNDAyMjc4IDMxLjY4MzE2ODMiPjwvcG9seWdvbj4KICAgICAgICAgICAgICAgIDxwYXRoIGQ9Ik0zNS4wMDc3MTgsODAgQzQyLjkwNjIwMDcsNzYuNDU0OTM1OCA0Ny41NjQ5MTY3LDcxLjU0MjI2NzEgNDguOTgzODY2LDY1LjI2MTk5MzkgQzUxLjExMjI4OTksNTUuODQxNTg0MiA0MS42NzcxNzk1LDQ5LjIxMjIyODQgMjUuNjIzOTg0Niw0OS4yMTIyMjg0IEMyNS40ODQ5Mjg5LDQ5LjEyNjg0NDggMjkuODI2MTI5Niw0My4yODM4MjQ4IDM4LjY0NzU4NjksMzEuNjgzMTY4MyBMNzIuODcxMjg3MSwzMi41NTQ0MjUgTDY1LjI4MDk3Myw2Ny42NzYzNDIxIEw1MS4xMTIyODk5LDc3LjM3NjE0NCBMMzUuMDA3NzE4LDgwIFoiIGlkPSJQYXRoLTIyIiBmaWxsPSIjMDAyODY4Ij48L3BhdGg+CiAgICAgICAgICAgICAgICA8cGF0aCBkPSJNMCwzNy43MzA0NDA1IEwyNy4xMTQ1MzcsMC4yNTcxMTE0MzYgQzYyLjM3MTUxMjMsLTEuOTkwNzE3MDEgODAsMTAuNTAwMzkyNyA4MCwzNy43MzA0NDA1IEM4MCw2NC45NjA0ODgyIDY0Ljc3NjUwMzgsNzkuMDUwMzQxNCAzNC4zMjk1MTEzLDgwIEM0Ny4wNTUzNDg5LDc3LjU2NzA4MDggNTMuNDE4MjY3Nyw3MC4zMTM2MTAzIDUzLjQxODI2NzcsNTguMjM5NTg4NSBDNTMuNDE4MjY3Nyw0MC4xMjg1NTU3IDM2LjMwMzk1NDQsMzcuNzMwNDQwNSAyNS4yMjc0MTcsMzcuNzMwNDQwNSBDMTcuODQzMDU4NiwzNy43MzA0NDA1IDkuNDMzOTE5NjYsMzcuNzMwNDQwNSAwLDM3LjczMDQ0MDUgWiIgaWQ9IlBhdGgtMTkiIGZpbGw9IiMzNzkzRUYiPjwvcGF0aD4KICAgICAgICAgICAgPC9nPgogICAgICAgIDwvZz4KICAgIDwvZz4KPC9zdmc+' > </img>\nCreated in <span style='font-weight:600;margin-left:4px;'>Deepnote</span></a>",
      "metadata": {
        "tags": [],
        "created_in_deepnote_cell": true,
        "deepnote_cell_type": "markdown"
      }
    }
  ],
  "nbformat": 4,
  "nbformat_minor": 4,
  "metadata": {
    "anaconda-cloud": {},
    "colab": {
      "collapsed_sections": [],
      "name": "Titanic LogReg.ipynb",
      "provenance": []
    },
    "kernelspec": {
      "name": "python388jvsc74a57bd02d78e359ff02d0c79ca305c8815f63c63e3b9beac7f2ccf04f89f33a94ce9080",
      "display_name": "Python 3.8.8 64-bit ('machine_learning': conda)"
    },
    "language_info": {
      "codemirror_mode": {
        "name": "ipython",
        "version": 3
      },
      "file_extension": ".py",
      "mimetype": "text/x-python",
      "name": "python",
      "nbconvert_exporter": "python",
      "pygments_lexer": "ipython3",
      "version": "3.8.8"
    },
    "name": "seminar13_optional_practice_trees_titanic.ipynb",
    "deepnote_notebook_id": "cdd912b9-5ea3-4cdd-8ddb-e7fc7b6e3970",
    "deepnote": {},
    "deepnote_execution_queue": []
  }
}